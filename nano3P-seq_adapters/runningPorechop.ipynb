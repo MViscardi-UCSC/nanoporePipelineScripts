{
 "cells": [
  {
   "cell_type": "markdown",
   "source": [
    "# runningPorechop.ipynb\n",
    "## Marcus Viscardi,    December 05, 2022\n",
    "General goal here is to get a version of Porechop working inside of python so that I can integrate it with the pipeline or a nano3P specific pipeline"
   ],
   "metadata": {
    "collapsed": false
   }
  },
  {
   "cell_type": "code",
   "execution_count": null,
   "metadata": {
    "collapsed": true
   },
   "outputs": [],
   "source": []
  }
 ],
 "metadata": {
  "kernelspec": {
   "display_name": "Python 3",
   "language": "python",
   "name": "python3"
  },
  "language_info": {
   "codemirror_mode": {
    "name": "ipython",
    "version": 2
   },
   "file_extension": ".py",
   "mimetype": "text/x-python",
   "name": "python",
   "nbconvert_exporter": "python",
   "pygments_lexer": "ipython2",
   "version": "2.7.6"
  }
 },
 "nbformat": 4,
 "nbformat_minor": 0
}
