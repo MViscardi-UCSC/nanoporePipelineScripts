{
 "cells": [
  {
   "cell_type": "code",
   "execution_count": 1,
   "outputs": [
    {
     "name": "stdout",
     "output_type": "stream",
     "text": [
      "imports done\n"
     ]
    }
   ],
   "source": [
    "import numpy as np\n",
    "import pandas as pd\n",
    "from tqdm import tqdm\n",
    "pd.set_option('display.width', 100)\n",
    "pd.set_option('display.max_columns', None)\n",
    "\n",
    "import seaborn as sea\n",
    "import matplotlib.pyplot as plt\n",
    "import plotly.express as px\n",
    "import plotly.graph_objects as go\n",
    "import plotly.io as pio\n",
    "pio.renderers.default = \"browser\"\n",
    "\n",
    "from nanoporePipelineCommon import *\n",
    "\n",
    "print(\"imports done\")"
   ],
   "metadata": {
    "collapsed": false,
    "pycharm": {
     "name": "#%%\n"
    }
   }
  },
  {
   "cell_type": "code",
   "execution_count": 2,
   "outputs": [
    {
     "name": "stdout",
     "output_type": "stream",
     "text": [
      "Loading readAssignments file from: /data16/marcus/genomes/elegansRelease100/Caenorhabditis_elegans.WBcel235.100.allChrs.parquet... Done.\n",
      "Looking for files for libraries: ['xrn-1-5tera', 'xrn-1-5tera-smg-6']\n",
      "Looking for file for xrn-1-5tera, at /data16/marcus/working/211118_nanoporeRun_totalRNA_5108_xrn-1-KD_5TERA/output_dir/merge_files/*_mergedOnReads.parquet... File Found.\n",
      "Looking for file for xrn-1-5tera-smg-6, at /data16/marcus/working/211210_nanoporeRun_totalRNA_2102_xrn-1-KD_5TERA/output_dir/merge_files/*_mergedOnReads.parquet... File Found.\n",
      "Loading parquet for xrn-1-5tera lib... Done.\n",
      "'original_chr_pos' column already found in dataframe, skipping adjustment for 5'ends!\n",
      "Loading parquet for xrn-1-5tera-smg-6 lib... Done.\n",
      "'original_chr_pos' column already found in dataframe, skipping adjustment for 5'ends!\n",
      "Finished assignment merge!. . .\n",
      "Read counts post gene assignment:  937835\n",
      "Read counts post unassigned drop:  636409\n",
      "Creating groupby dataframe merged on: ['lib', 'chr_id', 'gene_id', 'gene_name']\n",
      "\t+ [t5] tag\n"
     ]
    },
    {
     "name": "stderr",
     "output_type": "stream",
     "text": [
      "Counting reads per gene: 100%|██████████| 31278/31278 [00:00<00:00, 66315.60it/s]\n"
     ]
    },
    {
     "name": "stdout",
     "output_type": "stream",
     "text": [
      "Gene counts pre sub-1 gene_hits drop:  31278\n",
      "Gene counts post sub-1 gene_hits drop:  31278\n",
      "done.\n"
     ]
    }
   ],
   "source": [
    "reads_df_genes_raw, compressed_df_genes_raw = load_and_merge_lib_parquets([\"xrn-1-5tera\", \"xrn-1-5tera-smg-6\"], drop_sub_n=1, add_tail_groupings=False, drop_failed_polya=False, group_by_t5=True)\n",
    "print(\"done.\")"
   ],
   "metadata": {
    "collapsed": false,
    "pycharm": {
     "name": "#%%\n"
    }
   }
  },
  {
   "cell_type": "code",
   "execution_count": 3,
   "outputs": [],
   "source": [
    "reads_df = reads_df_genes_raw.copy()\n",
    "compressed_df = compressed_df_genes_raw.copy()"
   ],
   "metadata": {
    "collapsed": false,
    "pycharm": {
     "name": "#%%\n"
    }
   }
  },
  {
   "cell_type": "code",
   "execution_count": 4,
   "outputs": [
    {
     "data": {
      "text/plain": "                      lib                               read_id chr_id  chr_pos         gene_id gene_name                                              cigar                                           sequence  polya_length strand t5  read_length\n168006        xrn-1-5tera  9174ad35-5750-4eb6-8818-d0743f25db54    III  3068306  WBGene00006725     ubl-1  4S8M1D14M2I14M1D11M2D23M1I46M1D8M1D8M1I19M1I5M...  CCAAGTTTTTTGAGAACTAGGGTCAGTCTCAAGCATGGTCTTATCA...         50.14      +  -          578\n168007        xrn-1-5tera  46a0b212-ba6f-4221-a8fc-5e0c1ef94bdc    III  3068306  WBGene00006725     ubl-1  4S8M1D6M2D6M2I24M1D20M1D18M1D12M1D20M2D5M2D7M3...  CCAAGTTTTATGAGAACTTGTCAGTCTCAAGCATGGTCTTCGTTAA...           NaN      +  -          676\n168008        xrn-1-5tera  3f336577-1adc-421f-a13d-49934aa5e275    III  3068308  WBGene00006725     ubl-1  5S6M1D7M1D18M1D10M1I5M1I61M1D13M2I16M1D20M1D16...  CCAAGTTTTTGAGAACTAGGTCTGATAAGCATGGTCTCGTTAAGAC...         45.16      +  -          547\n168009        xrn-1-5tera  86acf6bb-5f9b-4f7a-9c45-d0ca32cee422    III  3068308  WBGene00006725     ubl-1  5S5M2D44M1I4M1D4M1D28M1D13M3D28M1I15M1D10M106N...  CCAAGTTTTTAGAACTAGGGTCAGTCAAGCATGGTCTTCGTTAAGA...           NaN      +  -          507\n168010        xrn-1-5tera  52e36b5f-9340-4487-b70b-3854ea6781de    III  3068308  WBGene00006725     ubl-1  5S6M1D26M5D4M2D5M1I50M1D3M1D18M1D5M3I32M106N61...  CCAAGTTTTTGAGAACATGGGTCAGTCAAGCATGGTCTAAGACTCC...         25.65      +  -          569\n...                   ...                                   ...    ...      ...             ...       ...                                                ...                                                ...           ...    ... ..          ...\n532678  xrn-1-5tera-smg-6  52600deb-aa20-4d1b-b0c3-0204ab79e62b    III  3069059  WBGene00006725     ubl-1                8M3D5M3D36M3D7M1D11M1I4M1D4M1I68M4S  CAACAGACACTGCAGATGCCACGACACCCTCGTCGTTGACACCGCC...           NaN      +  +          149\n532679  xrn-1-5tera-smg-6  d6db07a6-2cfa-4774-8f00-51ade1bd97ae    III  3069061  WBGene00006725     ubl-1  2S9M1D17M2D6M2I4M1D19M3D1M1I3M1I8M1I39M1D15M1I...  ATACAGACACTCTGCGGAAGATGCCACGTTCCTCGTGTCGTGACAC...           NaN      +  -          159\n532680  xrn-1-5tera-smg-6  ac65b7de-76b0-4768-ad6b-9ca768ff8a37    III  3069063  WBGene00006725     ubl-1                         12M3D16M1I16M2D25M1D70M26S  AGACACTACTGCAGATGCCACGACACCCACCGTCGTTGACACCGCT...           NaN      +  -          166\n532681  xrn-1-5tera-smg-6  13bc5f46-8e83-4ef9-acd2-ff4bb0299365    III  3069072  WBGene00006725     ubl-1                                            135M97S  TGCGGAAGATGCCACGACACCCTCGTCGTTGACACCGCTACTGCCG...         41.50      +  -          232\n532682  xrn-1-5tera-smg-6  d5366b41-692c-4e3c-9389-ceb033348d14    III  3069079  WBGene00006725     ubl-1    12M1D6M1D1M1D8M3D2M1I23M1D14M1D31M1I11M1D15M10S  GATGCTCCGACACCTCGTGTGACACCGCTCGCCGCTGCCACCTCTG...           NaN      +  -          135\n\n[2442 rows x 12 columns]",
      "text/html": "<div>\n<style scoped>\n    .dataframe tbody tr th:only-of-type {\n        vertical-align: middle;\n    }\n\n    .dataframe tbody tr th {\n        vertical-align: top;\n    }\n\n    .dataframe thead th {\n        text-align: right;\n    }\n</style>\n<table border=\"1\" class=\"dataframe\">\n  <thead>\n    <tr style=\"text-align: right;\">\n      <th></th>\n      <th>lib</th>\n      <th>read_id</th>\n      <th>chr_id</th>\n      <th>chr_pos</th>\n      <th>gene_id</th>\n      <th>gene_name</th>\n      <th>cigar</th>\n      <th>sequence</th>\n      <th>polya_length</th>\n      <th>strand</th>\n      <th>t5</th>\n      <th>read_length</th>\n    </tr>\n  </thead>\n  <tbody>\n    <tr>\n      <th>168006</th>\n      <td>xrn-1-5tera</td>\n      <td>9174ad35-5750-4eb6-8818-d0743f25db54</td>\n      <td>III</td>\n      <td>3068306</td>\n      <td>WBGene00006725</td>\n      <td>ubl-1</td>\n      <td>4S8M1D14M2I14M1D11M2D23M1I46M1D8M1D8M1I19M1I5M...</td>\n      <td>CCAAGTTTTTTGAGAACTAGGGTCAGTCTCAAGCATGGTCTTATCA...</td>\n      <td>50.14</td>\n      <td>+</td>\n      <td>-</td>\n      <td>578</td>\n    </tr>\n    <tr>\n      <th>168007</th>\n      <td>xrn-1-5tera</td>\n      <td>46a0b212-ba6f-4221-a8fc-5e0c1ef94bdc</td>\n      <td>III</td>\n      <td>3068306</td>\n      <td>WBGene00006725</td>\n      <td>ubl-1</td>\n      <td>4S8M1D6M2D6M2I24M1D20M1D18M1D12M1D20M2D5M2D7M3...</td>\n      <td>CCAAGTTTTATGAGAACTTGTCAGTCTCAAGCATGGTCTTCGTTAA...</td>\n      <td>NaN</td>\n      <td>+</td>\n      <td>-</td>\n      <td>676</td>\n    </tr>\n    <tr>\n      <th>168008</th>\n      <td>xrn-1-5tera</td>\n      <td>3f336577-1adc-421f-a13d-49934aa5e275</td>\n      <td>III</td>\n      <td>3068308</td>\n      <td>WBGene00006725</td>\n      <td>ubl-1</td>\n      <td>5S6M1D7M1D18M1D10M1I5M1I61M1D13M2I16M1D20M1D16...</td>\n      <td>CCAAGTTTTTGAGAACTAGGTCTGATAAGCATGGTCTCGTTAAGAC...</td>\n      <td>45.16</td>\n      <td>+</td>\n      <td>-</td>\n      <td>547</td>\n    </tr>\n    <tr>\n      <th>168009</th>\n      <td>xrn-1-5tera</td>\n      <td>86acf6bb-5f9b-4f7a-9c45-d0ca32cee422</td>\n      <td>III</td>\n      <td>3068308</td>\n      <td>WBGene00006725</td>\n      <td>ubl-1</td>\n      <td>5S5M2D44M1I4M1D4M1D28M1D13M3D28M1I15M1D10M106N...</td>\n      <td>CCAAGTTTTTAGAACTAGGGTCAGTCAAGCATGGTCTTCGTTAAGA...</td>\n      <td>NaN</td>\n      <td>+</td>\n      <td>-</td>\n      <td>507</td>\n    </tr>\n    <tr>\n      <th>168010</th>\n      <td>xrn-1-5tera</td>\n      <td>52e36b5f-9340-4487-b70b-3854ea6781de</td>\n      <td>III</td>\n      <td>3068308</td>\n      <td>WBGene00006725</td>\n      <td>ubl-1</td>\n      <td>5S6M1D26M5D4M2D5M1I50M1D3M1D18M1D5M3I32M106N61...</td>\n      <td>CCAAGTTTTTGAGAACATGGGTCAGTCAAGCATGGTCTAAGACTCC...</td>\n      <td>25.65</td>\n      <td>+</td>\n      <td>-</td>\n      <td>569</td>\n    </tr>\n    <tr>\n      <th>...</th>\n      <td>...</td>\n      <td>...</td>\n      <td>...</td>\n      <td>...</td>\n      <td>...</td>\n      <td>...</td>\n      <td>...</td>\n      <td>...</td>\n      <td>...</td>\n      <td>...</td>\n      <td>...</td>\n      <td>...</td>\n    </tr>\n    <tr>\n      <th>532678</th>\n      <td>xrn-1-5tera-smg-6</td>\n      <td>52600deb-aa20-4d1b-b0c3-0204ab79e62b</td>\n      <td>III</td>\n      <td>3069059</td>\n      <td>WBGene00006725</td>\n      <td>ubl-1</td>\n      <td>8M3D5M3D36M3D7M1D11M1I4M1D4M1I68M4S</td>\n      <td>CAACAGACACTGCAGATGCCACGACACCCTCGTCGTTGACACCGCC...</td>\n      <td>NaN</td>\n      <td>+</td>\n      <td>+</td>\n      <td>149</td>\n    </tr>\n    <tr>\n      <th>532679</th>\n      <td>xrn-1-5tera-smg-6</td>\n      <td>d6db07a6-2cfa-4774-8f00-51ade1bd97ae</td>\n      <td>III</td>\n      <td>3069061</td>\n      <td>WBGene00006725</td>\n      <td>ubl-1</td>\n      <td>2S9M1D17M2D6M2I4M1D19M3D1M1I3M1I8M1I39M1D15M1I...</td>\n      <td>ATACAGACACTCTGCGGAAGATGCCACGTTCCTCGTGTCGTGACAC...</td>\n      <td>NaN</td>\n      <td>+</td>\n      <td>-</td>\n      <td>159</td>\n    </tr>\n    <tr>\n      <th>532680</th>\n      <td>xrn-1-5tera-smg-6</td>\n      <td>ac65b7de-76b0-4768-ad6b-9ca768ff8a37</td>\n      <td>III</td>\n      <td>3069063</td>\n      <td>WBGene00006725</td>\n      <td>ubl-1</td>\n      <td>12M3D16M1I16M2D25M1D70M26S</td>\n      <td>AGACACTACTGCAGATGCCACGACACCCACCGTCGTTGACACCGCT...</td>\n      <td>NaN</td>\n      <td>+</td>\n      <td>-</td>\n      <td>166</td>\n    </tr>\n    <tr>\n      <th>532681</th>\n      <td>xrn-1-5tera-smg-6</td>\n      <td>13bc5f46-8e83-4ef9-acd2-ff4bb0299365</td>\n      <td>III</td>\n      <td>3069072</td>\n      <td>WBGene00006725</td>\n      <td>ubl-1</td>\n      <td>135M97S</td>\n      <td>TGCGGAAGATGCCACGACACCCTCGTCGTTGACACCGCTACTGCCG...</td>\n      <td>41.50</td>\n      <td>+</td>\n      <td>-</td>\n      <td>232</td>\n    </tr>\n    <tr>\n      <th>532682</th>\n      <td>xrn-1-5tera-smg-6</td>\n      <td>d5366b41-692c-4e3c-9389-ceb033348d14</td>\n      <td>III</td>\n      <td>3069079</td>\n      <td>WBGene00006725</td>\n      <td>ubl-1</td>\n      <td>12M1D6M1D1M1D8M3D2M1I23M1D14M1D31M1I11M1D15M10S</td>\n      <td>GATGCTCCGACACCTCGTGTGACACCGCTCGCCGCTGCCACCTCTG...</td>\n      <td>NaN</td>\n      <td>+</td>\n      <td>-</td>\n      <td>135</td>\n    </tr>\n  </tbody>\n</table>\n<p>2442 rows × 12 columns</p>\n</div>"
     },
     "execution_count": 4,
     "metadata": {},
     "output_type": "execute_result"
    }
   ],
   "source": [
    "reads_df.query(\"gene_name == 'ubl-1'\")"
   ],
   "metadata": {
    "collapsed": false,
    "pycharm": {
     "name": "#%%\n"
    }
   }
  },
  {
   "cell_type": "code",
   "execution_count": 40,
   "outputs": [],
   "source": [
    "# NMD Targets:\n",
    "gene_violin_list = ['ubl-1', 'rpl-7A', 'odc-1', 'Y73B3A.18','rpl-30', 'rpl-1']\n",
    "# Not NMD Targets:\n",
    "# gene_violin_list = ['col-125', 'col-160', 'col-129', 'dod-19', 'vit-3', 'vit-4']\n",
    "\n",
    "plot_df = reads_df[reads_df['gene_name'].isin(gene_violin_list)].query(\"lib == 'xrn-1-5tera'\").sort_values('gene_name')\n",
    "# \n",
    "# plot_df = reads_df.query(\"lib == 'xrn-1-5tera'\")  #.query(\"chr_id != 'MtDNA'\")\n",
    "\n",
    "fig = go.Figure()\n",
    "fig.add_trace(go.Violin(x=plot_df.query(\"t5 == '+'\")['gene_name'],\n",
    "                        y=plot_df.query(\"t5 == '+'\")['polya_length'],\n",
    "                        name='t5 +',\n",
    "                        side='negative',\n",
    "                        # fillcolor='#fbc6c1',\n",
    "                        fillcolor='firebrick',\n",
    "                        spanmode='hard',\n",
    "                        ))\n",
    "fig.add_trace(go.Violin(x=plot_df.query(\"t5 == '-'\")['gene_name'],\n",
    "                        y=plot_df.query(\"t5 == '-'\")['polya_length'],\n",
    "                        name='t5 -',\n",
    "                        side='positive',\n",
    "                        # fillcolor='#c5d8e9',\n",
    "                        fillcolor='dimgray',\n",
    "                        spanmode='hard',\n",
    "                        ))\n",
    "fig.update_traces(meanline_visible=True,\n",
    "                  scalemode='width',\n",
    "                  points='outliers',\n",
    "                  width=1,\n",
    "                  line_color='black',\n",
    "                  box_visible=True)\n",
    "fig.update_layout(violinmode='overlay',\n",
    "                  violingap=0,\n",
    "                  margin={'l': 0, 'b': 40, 't': 10, 'r': 40},\n",
    "                  yaxis_title=f\"Distribution of PolyA Tail Length Calls\",\n",
    "                  template='plotly_white',\n",
    "                  width=1000, height=450,\n",
    "                  )\n",
    "fig.update_yaxes(range=[-5, 201])\n",
    "fig.write_image(f\"./{get_dt(for_file=True)}_splitViolins_exampleGenes.svg\")\n",
    "fig.show()"
   ],
   "metadata": {
    "collapsed": false,
    "pycharm": {
     "name": "#%%\n"
    }
   }
  },
  {
   "cell_type": "code",
   "execution_count": 70,
   "outputs": [],
   "source": [
    "plot_df['passed_polya'] = ~plot_df['polya_length'].isna()\n",
    "# fig = sea.countplot(data=plot_df,\n",
    "#                     x='gene_name',\n",
    "#                     hue='passed_polya')\n",
    "# plt.show()\n",
    "fig = px.histogram(plot_df,\n",
    "                   x='gene_name',\n",
    "                   pattern_shape='passed_polya',\n",
    "                   color_discrete_sequence=['#c5d8e9', '#fbc6c1',],\n",
    "                   color='t5')\n",
    "fig.update_layout(barmode='relative')\n",
    "fig.update_layout(margin={'l': 0, 'b': 40, 't': 10, 'r': 40},\n",
    "                  template='plotly_white')\n",
    "fig.show()"
   ],
   "metadata": {
    "collapsed": false,
    "pycharm": {
     "name": "#%%\n"
    }
   }
  },
  {
   "cell_type": "code",
   "execution_count": null,
   "outputs": [],
   "source": [],
   "metadata": {
    "collapsed": false,
    "pycharm": {
     "name": "#%%\n"
    }
   }
  }
 ],
 "metadata": {
  "kernelspec": {
   "display_name": "Python 3",
   "language": "python",
   "name": "python3"
  },
  "language_info": {
   "codemirror_mode": {
    "name": "ipython",
    "version": 2
   },
   "file_extension": ".py",
   "mimetype": "text/x-python",
   "name": "python",
   "nbconvert_exporter": "python",
   "pygments_lexer": "ipython2",
   "version": "2.7.6"
  }
 },
 "nbformat": 4,
 "nbformat_minor": 0
}