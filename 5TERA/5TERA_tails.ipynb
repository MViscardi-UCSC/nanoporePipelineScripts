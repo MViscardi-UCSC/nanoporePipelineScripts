{
 "cells": [
  {
   "cell_type": "code",
   "execution_count": 1,
   "outputs": [
    {
     "name": "stdout",
     "output_type": "stream",
     "text": [
      "imports done\n"
     ]
    }
   ],
   "source": [
    "import numpy as np\n",
    "import pandas as pd\n",
    "from tqdm import tqdm\n",
    "pd.set_option('display.width', 100)\n",
    "pd.set_option('display.max_columns', None)\n",
    "\n",
    "import seaborn as sea\n",
    "import matplotlib.pyplot as plt\n",
    "import plotly.express as px\n",
    "import plotly.graph_objects as go\n",
    "import plotly.io as pio\n",
    "pio.renderers.default = \"browser\"\n",
    "\n",
    "from nanoporePipelineCommon import *\n",
    "\n",
    "print(\"imports done\")"
   ],
   "metadata": {
    "collapsed": false
   }
  },
  {
   "cell_type": "code",
   "execution_count": 3,
   "outputs": [
    {
     "name": "stdout",
     "output_type": "stream",
     "text": [
      "Loading readAssignments file from: /data16/marcus/genomes/elegansRelease100/Caenorhabditis_elegans.WBcel235.100.allChrs.parquet... Done.\n",
      "Looking for files for libraries: ['xrn-1-5tera', 'xrn-1-5tera-smg-6']\n",
      "Looking for file for xrn-1-5tera, at /data16/marcus/working/211118_nanoporeRun_totalRNA_5108_xrn-1-KD_5TERA/output_dir/merge_files/*_mergedOnReads.parquet... File Found.\n",
      "Looking for file for xrn-1-5tera-smg-6, at /data16/marcus/working/211210_nanoporeRun_totalRNA_2102_xrn-1-KD_5TERA/output_dir/merge_files/*_mergedOnReads.parquet... File Found.\n",
      "Loading parquet for xrn-1-5tera lib... Done.\n",
      "'original_chr_pos' column already found in dataframe, skipping adjustment for 5'ends!\n",
      "Loading parquet for xrn-1-5tera-smg-6 lib... Done.\n",
      "'original_chr_pos' column already found in dataframe, skipping adjustment for 5'ends!\n",
      "Finished assignment merge!. . .\n",
      "Read counts post gene assignment:  937835\n",
      "Read counts post unassigned drop:  636409\n",
      "Creating groupby dataframe merged on: ['lib', 'chr_id', 'gene_id', 'gene_name']\n",
      "\t+ [t5] tag\n"
     ]
    },
    {
     "name": "stderr",
     "output_type": "stream",
     "text": [
      "Counting reads per gene: 100%|██████████| 31278/31278 [00:00<00:00, 56603.07it/s]\n"
     ]
    },
    {
     "name": "stdout",
     "output_type": "stream",
     "text": [
      "Gene counts pre sub-1 gene_hits drop:  31278\n",
      "Gene counts post sub-1 gene_hits drop:  31278\n",
      "done.\n"
     ]
    }
   ],
   "source": [
    "reads_df_genes_raw, compressed_df_genes_raw = load_and_merge_lib_parquets([\"xrn-1-5tera\", \"xrn-1-5tera-smg-6\"], drop_sub_n=1, add_tail_groupings=False, drop_failed_polya=False, group_by_t5=True)\n",
    "print(\"done.\")"
   ],
   "metadata": {
    "collapsed": false
   }
  },
  {
   "cell_type": "code",
   "execution_count": 4,
   "outputs": [],
   "source": [
    "reads_df = reads_df_genes_raw.copy()\n",
    "compressed_df = compressed_df_genes_raw.copy()"
   ],
   "metadata": {
    "collapsed": false
   }
  },
  {
   "cell_type": "code",
   "execution_count": 28,
   "outputs": [
    {
     "data": {
      "text/plain": "0               xrn-1-5tera_-\n1               xrn-1-5tera_-\n2               xrn-1-5tera_-\n3               xrn-1-5tera_-\n4               xrn-1-5tera_-\n                 ...         \n636404    xrn-1-5tera-smg-6_-\n636405    xrn-1-5tera-smg-6_-\n636406    xrn-1-5tera-smg-6_-\n636407    xrn-1-5tera-smg-6_-\n636408    xrn-1-5tera-smg-6_+\nName: lib_t5, Length: 636409, dtype: object"
     },
     "execution_count": 28,
     "metadata": {},
     "output_type": "execute_result"
    }
   ],
   "source": [
    "reads_df.query(\"gene_name == 'ubl-1'\").query(\"lib == 'xrn-1-5tera-smg-6'\").query(\"t5 == '+'\")\n",
    "reads_df['lib_t5'] = reads_df.lib.astype(str) + \"_\" + reads_df.t5.astype(str)"
   ],
   "metadata": {
    "collapsed": false
   }
  },
  {
   "cell_type": "code",
   "execution_count": 29,
   "outputs": [],
   "source": [
    "# NMD Targets:\n",
    "gene_violin_list = ['ubl-1', ]  # 'rpl-7A', 'odc-1', 'Y73B3A.18','rpl-30', 'rpl-1']\n",
    "# Not NMD Targets:\n",
    "# gene_violin_list = ['col-125', 'col-160', 'col-129', 'dod-19', 'vit-3', 'vit-4']\n",
    "\n",
    "plot_df = reads_df[reads_df['gene_name'].isin(gene_violin_list)].sort_values('gene_name')\n",
    "# \n",
    "# plot_df = reads_df.query(\"lib == 'xrn-1-5tera'\")  #.query(\"chr_id != 'MtDNA'\")\n",
    "\n",
    "fig = go.Figure()\n",
    "fig.add_trace(go.Violin(x=plot_df.query(\"t5 == '+'\")['lib'],\n",
    "                        y=plot_df.query(\"t5 == '+'\")['polya_length'],\n",
    "                        name='t5 +',\n",
    "                        side='negative',\n",
    "                        # fillcolor='#fbc6c1',\n",
    "                        fillcolor='firebrick',\n",
    "                        spanmode='hard',\n",
    "                        ))\n",
    "fig.add_trace(go.Violin(x=plot_df.query(\"t5 == '-'\")['lib'],\n",
    "                        y=plot_df.query(\"t5 == '-'\")['polya_length'],\n",
    "                        name='t5 -',\n",
    "                        side='positive',\n",
    "                        # fillcolor='#c5d8e9',\n",
    "                        fillcolor='dimgray',\n",
    "                        spanmode='hard',\n",
    "                        ))\n",
    "fig.update_traces(meanline_visible=True,\n",
    "                  scalemode='count',\n",
    "                  points='outliers',\n",
    "                  width=0,\n",
    "                  line_color='black',\n",
    "                  box_visible=True)\n",
    "fig.update_layout(violinmode='overlay',\n",
    "                  violingap=0,\n",
    "                  margin={'l': 0, 'b': 40, 't': 10, 'r': 40},\n",
    "                  yaxis_title=f\"Distribution of PolyA Tail Length Calls\",\n",
    "                  template='plotly_white',\n",
    "                  width=1000, height=450,\n",
    "                  )\n",
    "fig.update_yaxes(range=[-5, 201])\n",
    "fig.write_image(f\"./{get_dt(for_file=True)}_splitViolins_exampleGenes.svg\")\n",
    "fig.show()"
   ],
   "metadata": {
    "collapsed": false
   }
  },
  {
   "cell_type": "code",
   "execution_count": 17,
   "outputs": [],
   "source": [
    "plot_df['passed_polya'] = ~plot_df['polya_length'].isna()\n",
    "# fig = sea.countplot(data=plot_df,\n",
    "#                     x='gene_name',\n",
    "#                     hue='passed_polya')\n",
    "# plt.show()\n",
    "fig = px.histogram(plot_df,\n",
    "                   x='gene_name',\n",
    "                   pattern_shape='passed_polya',\n",
    "                   color_discrete_sequence=['#c5d8e9', '#fbc6c1',],\n",
    "                   color='t5')\n",
    "fig.update_layout(barmode='relative')\n",
    "fig.update_layout(margin={'l': 0, 'b': 40, 't': 10, 'r': 40},\n",
    "                  template='plotly_white')\n",
    "fig.show()"
   ],
   "metadata": {
    "collapsed": false
   }
  },
  {
   "cell_type": "code",
   "execution_count": 51,
   "outputs": [],
   "source": [
    "plot_df = reads_df[reads_df['gene_name'].isin(gene_violin_list)].sort_values('gene_name')\n",
    "# \n",
    "# plot_df = reads_df.query(\"lib == 'xrn-1-5tera'\")  #.query(\"chr_id != 'MtDNA'\")\n",
    "plot_df = plot_df.query(\"lib_t5 != 'xrn-1-5tera-smg-6_+'\")\n",
    "fig = go.Figure()\n",
    "fig.add_trace(go.Violin(x=plot_df.query(\"t5 == '+'\")['lib'],\n",
    "                        y=plot_df.query(\"t5 == '+'\")['polya_length'],\n",
    "                        name='t5 +',\n",
    "                        side='negative',\n",
    "                        # fillcolor='#fbc6c1',\n",
    "                        fillcolor='firebrick',\n",
    "                        spanmode='hard',\n",
    "                        ))\n",
    "fig.add_trace(go.Violin(x=plot_df.query(\"t5 == '-'\")['lib'],\n",
    "                        y=plot_df.query(\"t5 == '-'\")['polya_length'],\n",
    "                        name='t5 -',\n",
    "                        side='positive',\n",
    "                        # fillcolor='#c5d8e9',\n",
    "                        fillcolor='dimgray',\n",
    "                        spanmode='hard',\n",
    "                        ))\n",
    "fig.update_traces(meanline_visible=True,\n",
    "                  scalemode='count',\n",
    "                  points='outliers',\n",
    "                  # width=1,\n",
    "                  line_color='black',\n",
    "                  box_visible=True,\n",
    "                  )\n",
    "fig.update_layout(violinmode='overlay',\n",
    "                  violingap=0,\n",
    "                  margin={'l': 0, 'b': 40, 't': 10, 'r': 40},\n",
    "                  yaxis_title=f\"Distribution of PolyA Tail Length Calls\",\n",
    "                  template='plotly_white',\n",
    "                  width=500, height=450,\n",
    "                  )\n",
    "fig.update_yaxes(range=[-5, 201])\n",
    "fig.write_image(f\"./{get_dt(for_file=True)}_splitViolins_exampleGenes.svg\")\n",
    "fig.show()"
   ],
   "metadata": {
    "collapsed": false
   }
  },
  {
   "cell_type": "code",
   "execution_count": null,
   "outputs": [],
   "source": [],
   "metadata": {
    "collapsed": false
   }
  }
 ],
 "metadata": {
  "kernelspec": {
   "display_name": "Python 3",
   "language": "python",
   "name": "python3"
  },
  "language_info": {
   "codemirror_mode": {
    "name": "ipython",
    "version": 2
   },
   "file_extension": ".py",
   "mimetype": "text/x-python",
   "name": "python",
   "nbconvert_exporter": "python",
   "pygments_lexer": "ipython2",
   "version": "2.7.6"
  }
 },
 "nbformat": 4,
 "nbformat_minor": 0
}
