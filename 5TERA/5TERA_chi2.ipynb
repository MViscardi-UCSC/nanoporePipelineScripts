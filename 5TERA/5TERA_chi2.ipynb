{
 "cells": [
  {
   "cell_type": "markdown",
   "source": [
    "# 5TERA_chi2.ipynb\n",
    "### Marcus Viscardi,    May 04, 2022\n",
    "\n",
    "Moving things over from 5TERA_analyses to limit overlapping code"
   ],
   "metadata": {
    "collapsed": false,
    "pycharm": {
     "name": "#%% md\n"
    }
   }
  },
  {
   "cell_type": "code",
   "execution_count": 203,
   "outputs": [
    {
     "name": "stdout",
     "output_type": "stream",
     "text": [
      "imports done\n"
     ]
    }
   ],
   "source": [
    "import numpy as np\n",
    "import pandas as pd\n",
    "from tqdm import tqdm\n",
    "pd.set_option('display.width', 100)\n",
    "pd.set_option('display.max_columns', None)\n",
    "\n",
    "import seaborn as sea\n",
    "import matplotlib.pyplot as plt\n",
    "import plotly.express as px\n",
    "import plotly.graph_objects as go\n",
    "import plotly.io as pio\n",
    "pio.renderers.default = \"browser\"\n",
    "\n",
    "from nanoporePipelineCommon import *\n",
    "\n",
    "print(\"imports done\")"
   ],
   "metadata": {
    "collapsed": false,
    "pycharm": {
     "name": "#%%\n"
    }
   }
  },
  {
   "cell_type": "code",
   "execution_count": 3,
   "outputs": [
    {
     "name": "stdout",
     "output_type": "stream",
     "text": [
      "Loading readAssignments file from: /data16/marcus/genomes/elegansRelease100/Caenorhabditis_elegans.WBcel235.100.allChrs.parquet... Done.\n",
      "Looking for files for libraries: ['xrn-1-5tera', 'xrn-1-5tera-smg-6']\n",
      "Looking for file for xrn-1-5tera, at /data16/marcus/working/211118_nanoporeRun_totalRNA_5108_xrn-1-KD_5TERA/output_dir/merge_files/*_mergedOnReads.parquet... File Found.\n",
      "Looking for file for xrn-1-5tera-smg-6, at /data16/marcus/working/211210_nanoporeRun_totalRNA_2102_xrn-1-KD_5TERA/output_dir/merge_files/*_mergedOnReads.parquet... File Found.\n",
      "Loading parquet for xrn-1-5tera lib... Done.\n",
      "'original_chr_pos' column already found in dataframe, skipping adjustment for 5'ends!\n",
      "Loading parquet for xrn-1-5tera-smg-6 lib... Done.\n",
      "'original_chr_pos' column already found in dataframe, skipping adjustment for 5'ends!\n",
      "Finished assignment merge!. . .\n",
      "Read counts post gene assignment:  937835\n",
      "Read counts post unassigned drop:  636409\n",
      "Creating groupby dataframe merged on: ['lib', 'chr_id', 'gene_id', 'gene_name']\n",
      "\t+ [t5] tag\n"
     ]
    },
    {
     "name": "stderr",
     "output_type": "stream",
     "text": [
      "Counting reads per gene: 100%|██████████| 31278/31278 [00:00<00:00, 51790.24it/s]\n"
     ]
    },
    {
     "name": "stdout",
     "output_type": "stream",
     "text": [
      "Gene counts pre sub-1 gene_hits drop:  31278\n",
      "Gene counts post sub-1 gene_hits drop:  31278\n",
      "done.\n"
     ]
    }
   ],
   "source": [
    "reads_df_genes_raw, compressed_df_genes_raw = load_and_merge_lib_parquets([\"xrn-1-5tera\", \"xrn-1-5tera-smg-6\"], drop_sub_n=1, add_tail_groupings=False, drop_failed_polya=False, group_by_t5=True)\n",
    "print(\"done.\")"
   ],
   "metadata": {
    "collapsed": false,
    "pycharm": {
     "name": "#%%\n"
    }
   }
  },
  {
   "cell_type": "code",
   "execution_count": 86,
   "outputs": [
    {
     "data": {
      "text/plain": "                     lib chr_id         gene_id gene_name t5  gene_hits     gene_rpm\n10219        xrn-1-5tera     IV  WBGene00004424    rpl-12  -       1759  3710.195550\n10220        xrn-1-5tera     IV  WBGene00004424    rpl-12  +         49   103.353941\n25572  xrn-1-5tera-smg-6     IV  WBGene00004424    rpl-12  -        513  3160.618569\n25573  xrn-1-5tera-smg-6     IV  WBGene00004424    rpl-12  +          6    36.966299",
      "text/html": "<div>\n<style scoped>\n    .dataframe tbody tr th:only-of-type {\n        vertical-align: middle;\n    }\n\n    .dataframe tbody tr th {\n        vertical-align: top;\n    }\n\n    .dataframe thead th {\n        text-align: right;\n    }\n</style>\n<table border=\"1\" class=\"dataframe\">\n  <thead>\n    <tr style=\"text-align: right;\">\n      <th></th>\n      <th>lib</th>\n      <th>chr_id</th>\n      <th>gene_id</th>\n      <th>gene_name</th>\n      <th>t5</th>\n      <th>gene_hits</th>\n      <th>gene_rpm</th>\n    </tr>\n  </thead>\n  <tbody>\n    <tr>\n      <th>10219</th>\n      <td>xrn-1-5tera</td>\n      <td>IV</td>\n      <td>WBGene00004424</td>\n      <td>rpl-12</td>\n      <td>-</td>\n      <td>1759</td>\n      <td>3710.195550</td>\n    </tr>\n    <tr>\n      <th>10220</th>\n      <td>xrn-1-5tera</td>\n      <td>IV</td>\n      <td>WBGene00004424</td>\n      <td>rpl-12</td>\n      <td>+</td>\n      <td>49</td>\n      <td>103.353941</td>\n    </tr>\n    <tr>\n      <th>25572</th>\n      <td>xrn-1-5tera-smg-6</td>\n      <td>IV</td>\n      <td>WBGene00004424</td>\n      <td>rpl-12</td>\n      <td>-</td>\n      <td>513</td>\n      <td>3160.618569</td>\n    </tr>\n    <tr>\n      <th>25573</th>\n      <td>xrn-1-5tera-smg-6</td>\n      <td>IV</td>\n      <td>WBGene00004424</td>\n      <td>rpl-12</td>\n      <td>+</td>\n      <td>6</td>\n      <td>36.966299</td>\n    </tr>\n  </tbody>\n</table>\n</div>"
     },
     "execution_count": 86,
     "metadata": {},
     "output_type": "execute_result"
    }
   ],
   "source": [
    "compressed_df_genes_short = compressed_df_genes_raw.copy()[[\"lib\", \"chr_id\", \"gene_id\", \"gene_name\", \"t5\", \"gene_hits\", \"gene_rpm\"]]\n",
    "compressed_df_genes_short.query(\"gene_name == 'rpl-12'\")"
   ],
   "metadata": {
    "collapsed": false,
    "pycharm": {
     "name": "#%%\n"
    }
   }
  },
  {
   "cell_type": "code",
   "execution_count": 197,
   "outputs": [
    {
     "name": "stdout",
     "output_type": "stream",
     "text": [
      "('n2', '+')\n",
      "                                 gene_hits_n2_t5+  gene_rpm_n2_t5+\n",
      "chr_id gene_id        gene_name                                   \n",
      "IV     WBGene00004424 rpl-12                   49          103.354\n",
      "('n2', '-')\n",
      "                                 gene_hits_n2_t5-  gene_rpm_n2_t5-\n",
      "chr_id gene_id        gene_name                                   \n",
      "IV     WBGene00004424 rpl-12                 1759        3,710.196\n",
      "('s6', '+')\n",
      "                                 gene_hits_s6_t5+  gene_rpm_s6_t5+\n",
      "chr_id gene_id        gene_name                                   \n",
      "IV     WBGene00004424 rpl-12                    6           36.966\n",
      "('s6', '-')\n",
      "                                 gene_hits_s6_t5-  gene_rpm_s6_t5-\n",
      "chr_id gene_id        gene_name                                   \n",
      "IV     WBGene00004424 rpl-12                  513        3,160.619\n"
     ]
    },
    {
     "data": {
      "text/plain": "                                 gene_hits_n2_t5+  gene_rpm_n2_t5+  \\\nchr_id gene_id        gene_name                                      \nI      WBGene00000001 aap-1                 2.000            4.219   \n       WBGene00000006 aat-5                 1.000            2.109   \n       WBGene00000010 aat-9                 0.000            0.000   \n       WBGene00000020 abt-2                 0.000            0.000   \n       WBGene00000023 abt-5                 1.000            2.109   \n...                                           ...              ...   \nX      WBGene00271701 F10D7.10              1.000            2.109   \n       WBGene00284849 C03A3.9               0.000            0.000   \n       WBGene00284855 C04C11.25             0.000            0.000   \n       WBGene00303024 H40L08.7              8.000           16.874   \n       WBGene00303081 T23F2.13              0.000            0.000   \n\n                                 gene_hits_n2_t5-  gene_rpm_n2_t5-  \\\nchr_id gene_id        gene_name                                      \nI      WBGene00000001 aap-1                18.000           37.967   \n       WBGene00000006 aat-5                 2.000            4.219   \n       WBGene00000010 aat-9                 7.000           14.765   \n       WBGene00000020 abt-2                 4.000            8.437   \n       WBGene00000023 abt-5                 3.000            6.328   \n...                                           ...              ...   \nX      WBGene00271701 F10D7.10              0.000            0.000   \n       WBGene00284849 C03A3.9               2.000            4.219   \n       WBGene00284855 C04C11.25             1.000            2.109   \n       WBGene00303024 H40L08.7              7.000           14.765   \n       WBGene00303081 T23F2.13              1.000            2.109   \n\n                                 gene_hits_s6_t5+  gene_rpm_s6_t5+  \\\nchr_id gene_id        gene_name                                      \nI      WBGene00000001 aap-1                 1.000            6.161   \n       WBGene00000006 aat-5                 0.000            0.000   \n       WBGene00000010 aat-9                 0.000            0.000   \n       WBGene00000020 abt-2                 0.000            0.000   \n       WBGene00000023 abt-5                 0.000            0.000   \n...                                           ...              ...   \nX      WBGene00271701 F10D7.10              0.000            0.000   \n       WBGene00284849 C03A3.9               0.000            0.000   \n       WBGene00284855 C04C11.25             0.000            0.000   \n       WBGene00303024 H40L08.7              0.000            0.000   \n       WBGene00303081 T23F2.13              0.000            0.000   \n\n                                 gene_hits_s6_t5-  gene_rpm_s6_t5-  \nchr_id gene_id        gene_name                                     \nI      WBGene00000001 aap-1                 1.000            6.161  \n       WBGene00000006 aat-5                 1.000            6.161  \n       WBGene00000010 aat-9                 1.000            6.161  \n       WBGene00000020 abt-2                 5.000           30.805  \n       WBGene00000023 abt-5                 0.000            0.000  \n...                                           ...              ...  \nX      WBGene00271701 F10D7.10              1.000            6.161  \n       WBGene00284849 C03A3.9               3.000           18.483  \n       WBGene00284855 C04C11.25             0.000            0.000  \n       WBGene00303024 H40L08.7              1.000            6.161  \n       WBGene00303081 T23F2.13              0.000            0.000  \n\n[13508 rows x 8 columns]",
      "text/html": "<div>\n<style scoped>\n    .dataframe tbody tr th:only-of-type {\n        vertical-align: middle;\n    }\n\n    .dataframe tbody tr th {\n        vertical-align: top;\n    }\n\n    .dataframe thead th {\n        text-align: right;\n    }\n</style>\n<table border=\"1\" class=\"dataframe\">\n  <thead>\n    <tr style=\"text-align: right;\">\n      <th></th>\n      <th></th>\n      <th></th>\n      <th>gene_hits_n2_t5+</th>\n      <th>gene_rpm_n2_t5+</th>\n      <th>gene_hits_n2_t5-</th>\n      <th>gene_rpm_n2_t5-</th>\n      <th>gene_hits_s6_t5+</th>\n      <th>gene_rpm_s6_t5+</th>\n      <th>gene_hits_s6_t5-</th>\n      <th>gene_rpm_s6_t5-</th>\n    </tr>\n    <tr>\n      <th>chr_id</th>\n      <th>gene_id</th>\n      <th>gene_name</th>\n      <th></th>\n      <th></th>\n      <th></th>\n      <th></th>\n      <th></th>\n      <th></th>\n      <th></th>\n      <th></th>\n    </tr>\n  </thead>\n  <tbody>\n    <tr>\n      <th rowspan=\"5\" valign=\"top\">I</th>\n      <th>WBGene00000001</th>\n      <th>aap-1</th>\n      <td>2.000</td>\n      <td>4.219</td>\n      <td>18.000</td>\n      <td>37.967</td>\n      <td>1.000</td>\n      <td>6.161</td>\n      <td>1.000</td>\n      <td>6.161</td>\n    </tr>\n    <tr>\n      <th>WBGene00000006</th>\n      <th>aat-5</th>\n      <td>1.000</td>\n      <td>2.109</td>\n      <td>2.000</td>\n      <td>4.219</td>\n      <td>0.000</td>\n      <td>0.000</td>\n      <td>1.000</td>\n      <td>6.161</td>\n    </tr>\n    <tr>\n      <th>WBGene00000010</th>\n      <th>aat-9</th>\n      <td>0.000</td>\n      <td>0.000</td>\n      <td>7.000</td>\n      <td>14.765</td>\n      <td>0.000</td>\n      <td>0.000</td>\n      <td>1.000</td>\n      <td>6.161</td>\n    </tr>\n    <tr>\n      <th>WBGene00000020</th>\n      <th>abt-2</th>\n      <td>0.000</td>\n      <td>0.000</td>\n      <td>4.000</td>\n      <td>8.437</td>\n      <td>0.000</td>\n      <td>0.000</td>\n      <td>5.000</td>\n      <td>30.805</td>\n    </tr>\n    <tr>\n      <th>WBGene00000023</th>\n      <th>abt-5</th>\n      <td>1.000</td>\n      <td>2.109</td>\n      <td>3.000</td>\n      <td>6.328</td>\n      <td>0.000</td>\n      <td>0.000</td>\n      <td>0.000</td>\n      <td>0.000</td>\n    </tr>\n    <tr>\n      <th>...</th>\n      <th>...</th>\n      <th>...</th>\n      <td>...</td>\n      <td>...</td>\n      <td>...</td>\n      <td>...</td>\n      <td>...</td>\n      <td>...</td>\n      <td>...</td>\n      <td>...</td>\n    </tr>\n    <tr>\n      <th rowspan=\"5\" valign=\"top\">X</th>\n      <th>WBGene00271701</th>\n      <th>F10D7.10</th>\n      <td>1.000</td>\n      <td>2.109</td>\n      <td>0.000</td>\n      <td>0.000</td>\n      <td>0.000</td>\n      <td>0.000</td>\n      <td>1.000</td>\n      <td>6.161</td>\n    </tr>\n    <tr>\n      <th>WBGene00284849</th>\n      <th>C03A3.9</th>\n      <td>0.000</td>\n      <td>0.000</td>\n      <td>2.000</td>\n      <td>4.219</td>\n      <td>0.000</td>\n      <td>0.000</td>\n      <td>3.000</td>\n      <td>18.483</td>\n    </tr>\n    <tr>\n      <th>WBGene00284855</th>\n      <th>C04C11.25</th>\n      <td>0.000</td>\n      <td>0.000</td>\n      <td>1.000</td>\n      <td>2.109</td>\n      <td>0.000</td>\n      <td>0.000</td>\n      <td>0.000</td>\n      <td>0.000</td>\n    </tr>\n    <tr>\n      <th>WBGene00303024</th>\n      <th>H40L08.7</th>\n      <td>8.000</td>\n      <td>16.874</td>\n      <td>7.000</td>\n      <td>14.765</td>\n      <td>0.000</td>\n      <td>0.000</td>\n      <td>1.000</td>\n      <td>6.161</td>\n    </tr>\n    <tr>\n      <th>WBGene00303081</th>\n      <th>T23F2.13</th>\n      <td>0.000</td>\n      <td>0.000</td>\n      <td>1.000</td>\n      <td>2.109</td>\n      <td>0.000</td>\n      <td>0.000</td>\n      <td>0.000</td>\n      <td>0.000</td>\n    </tr>\n  </tbody>\n</table>\n<p>13508 rows × 8 columns</p>\n</div>"
     },
     "execution_count": 197,
     "metadata": {},
     "output_type": "execute_result"
    }
   ],
   "source": [
    "conversion_dict = {\"xrn-1-5tera\": \"n2\",\n",
    "                   \"xrn-1-5tera-smg-6\": \"s6\"}\n",
    "ans = [y for x, y in compressed_df_genes_short.groupby(['lib', 't5'], as_index=False)]\n",
    "df_dict = {}\n",
    "for i, df in enumerate(ans):\n",
    "    lib = df.lib.unique()[0]\n",
    "    t5 = df.t5.unique()[0]\n",
    "    df = df[[\"chr_id\", \"gene_id\", \"gene_name\", \"gene_hits\", \"gene_rpm\"]]\n",
    "    df = df.rename(columns={col: f'{col}_{conversion_dict[lib]}_t5{t5}' for col in df.columns if col not in [\"chr_id\", \"gene_id\", \"gene_name\"]})\n",
    "    df_dict[(conversion_dict[lib], t5)] = df.set_index([\"chr_id\", \"gene_id\", \"gene_name\"])\n",
    "    print((conversion_dict[lib], t5))\n",
    "    print(df_dict[(conversion_dict[lib], t5)].query(\"gene_name == 'rpl-12'\"))\n",
    "\n",
    "super_df = pd.concat(df_dict.values(), axis=1, join='outer').fillna(0)\n",
    "super_df"
   ],
   "metadata": {
    "collapsed": false,
    "pycharm": {
     "name": "#%%\n"
    }
   }
  },
  {
   "cell_type": "code",
   "execution_count": 43,
   "outputs": [
    {
     "name": "stdout",
     "output_type": "stream",
     "text": [
      "acdh-1:\n",
      "         n2  smg-6\n",
      "t5 -  337.0  176.0\n",
      "t5 +   32.0   15.0\n",
      "                chi2 = 0.029069\n",
      "             p value = 0.865\n",
      "  degrees of freedom = 1.000000\n",
      "\n",
      "xrn-1:\n",
      "          n2    smg-6\n",
      "t5 -  7772.0  13307.0\n",
      "t5 +   276.0    162.0\n",
      "                chi2 = 124.139249\n",
      "             p value = 7.85e-29\n",
      "  degrees of freedom = 1.000000\n",
      "\n",
      "nduo-3:\n",
      "          n2   smg-6\n",
      "t5 -  1812.0  2450.0\n",
      "t5 +  1363.0  1880.0\n",
      "                chi2 = 0.159047\n",
      "             p value = 0.69\n",
      "  degrees of freedom = 1.000000\n",
      "\n",
      "rpl-22:\n",
      "         n2  smg-6\n",
      "t5 -  721.0  350.0\n",
      "t5 +   22.0    5.0\n",
      "                chi2 = 1.810128\n",
      "             p value = 0.178\n",
      "  degrees of freedom = 1.000000\n",
      "\n",
      "ets-4:\n",
      "        n2  smg-6\n",
      "t5 -  20.0    9.0\n",
      "t5 +   9.0    2.0\n",
      "                chi2 = 0.173347\n",
      "             p value = 0.677\n",
      "  degrees of freedom = 1.000000\n",
      "\n",
      "ubl-1:\n",
      "          n2  smg-6\n",
      "t5 -  1805.0  549.0\n",
      "t5 +    84.0    4.0\n",
      "                chi2 = 16.017914\n",
      "             p value = 6.27e-05\n",
      "  degrees of freedom = 1.000000\n",
      "\n",
      "rpl-12:\n",
      "          n2  smg-6\n",
      "t5 -  1759.0  513.0\n",
      "t5 +    49.0    6.0\n",
      "                chi2 = 3.573817\n",
      "             p value = 0.0587\n",
      "  degrees of freedom = 1.000000\n",
      "\n"
     ]
    }
   ],
   "source": [
    "# Below was all test code\n",
    "\n",
    "# def make_contingency_table(row, as_df=True):\n",
    "#     array = np.array([[row[\"gene_hits_n2_t5-\"][0], row[\"gene_hits_s6_t5-\"][0]],\n",
    "#                       [row[\"gene_hits_n2_t5+\"][0], row[\"gene_hits_s6_t5+\"][0]]])\n",
    "#     if as_df:\n",
    "#         little_df = pd.DataFrame(array, columns=['n2', 'smg-6'], index=['t5 -', 't5 +'])\n",
    "#         return little_df\n",
    "#     else:\n",
    "#         return array\n",
    "# \n",
    "# make_contingency_table(super_df.query(\"gene_name == 'aco-1'\"))\n",
    "\n",
    "# from scipy.stats import chi2_contingency, chisquare, fisher_exact\n",
    "# def test_gene_chi2(gene):\n",
    "#     example_case = make_contingency_table(super_df.query(f\"gene_name == '{gene}'\"))\n",
    "#     print(f\"{gene}:\")\n",
    "#     print(example_case)\n",
    "#     chi2, p, deg_of_free, expected = chi2_contingency(np.array(example_case))\n",
    "#     print(f\"{'chi2':>20} = {chi2:.6f}\\n\"\n",
    "#           f\"{'p value':>20} = {p:.3g}\\n\"\n",
    "#           f\"{'degrees of freedom':>20} = {deg_of_free:.6f}\\n\"\n",
    "#           #f\"{'expected:':>20}\\n{expected}\"\n",
    "#           )\n",
    "# \n",
    "# # Example case:\n",
    "# example_genes = ['acdh-1', 'xrn-1', 'nduo-3', 'rpl-22', 'ets-4', 'ubl-1', 'rpl-12'\n",
    "#                                                                           ]\n",
    "# for example_gene in example_genes:\n",
    "#     test_gene_chi2(example_gene)"
   ],
   "metadata": {
    "collapsed": false,
    "pycharm": {
     "name": "#%%\n"
    }
   }
  },
  {
   "cell_type": "code",
   "execution_count": 198,
   "outputs": [
    {
     "name": "stderr",
     "output_type": "stream",
     "text": [
      "Calculating chi2: 100%|██████████| 13508/13508 [00:03<00:00, 4417.65it/s]\n",
      "Calculating fisher's exact: 100%|██████████| 13508/13508 [00:10<00:00, 1296.60it/s]"
     ]
    },
    {
     "name": "stdout",
     "output_type": "stream",
     "text": [
      "done.\n"
     ]
    },
    {
     "name": "stderr",
     "output_type": "stream",
     "text": [
      "\n"
     ]
    }
   ],
   "source": [
    "from scipy.stats import chi2_contingency, chisquare, fisher_exact\n",
    "def row_chi2(row):\n",
    "    array = np.array([[row[\"gene_hits_n2_t5-\"], row[\"gene_hits_s6_t5-\"]],\n",
    "                      [row[\"gene_hits_n2_t5+\"], row[\"gene_hits_s6_t5+\"]]])\n",
    "    try:\n",
    "        chi2, p, deg_of_free, expected = chi2_contingency(array)\n",
    "        return chi2, p\n",
    "    except ValueError:\n",
    "        return None, None\n",
    "\n",
    "\n",
    "def row_fishers_exact(row):\n",
    "    array = np.array([[row[\"gene_hits_n2_t5-\"], row[\"gene_hits_s6_t5-\"]],\n",
    "                      [row[\"gene_hits_n2_t5+\"], row[\"gene_hits_s6_t5+\"]]])\n",
    "    odds_ratio, p_value = fisher_exact(array)\n",
    "    return odds_ratio, p_value\n",
    "\n",
    "\n",
    "tqdm.pandas(desc=\"Calculating chi2\")\n",
    "super_df[[\"chi2_test_result\", \"chi2_p_value\"]] = super_df.progress_apply(lambda row: row_chi2(row), axis=1, result_type=\"expand\")\n",
    "\n",
    "tqdm.pandas(desc=\"Calculating fisher's exact\")\n",
    "super_df[[\"fishers_test_result\", \"fishers_p_value\"]] = super_df.progress_apply(lambda row: row_fishers_exact(row), axis=1, result_type=\"expand\")\n",
    "\n",
    "print('done.')"
   ],
   "metadata": {
    "collapsed": false,
    "pycharm": {
     "name": "#%%\n"
    }
   }
  },
  {
   "cell_type": "code",
   "execution_count": 199,
   "outputs": [
    {
     "name": "stderr",
     "output_type": "stream",
     "text": [
      "/usr/local/lib/python3.8/dist-packages/pandas/core/arraylike.py:364: RuntimeWarning:\n",
      "\n",
      "divide by zero encountered in log2\n",
      "\n"
     ]
    }
   ],
   "source": [
    "super_df[\"n2_fraction_adapted\"] = super_df[\"gene_rpm_n2_t5+\"] / (super_df[\"gene_rpm_n2_t5+\"] + super_df[\"gene_rpm_n2_t5-\"])\n",
    "super_df[\"s6_fraction_adapted\"] = super_df[\"gene_rpm_s6_t5+\"] / (super_df[\"gene_rpm_s6_t5+\"] + super_df[\"gene_rpm_s6_t5-\"])\n",
    "\n",
    "super_df[\"delta_fraction_adapted\"] = super_df[\"n2_fraction_adapted\"] - super_df[\"s6_fraction_adapted\"]\n",
    "\n",
    "super_df[\"fraction_adapted_FC\"] = np.log2((super_df[\"n2_fraction_adapted\"] / super_df[\"s6_fraction_adapted\"]))"
   ],
   "metadata": {
    "collapsed": false,
    "pycharm": {
     "name": "#%%\n"
    }
   }
  },
  {
   "cell_type": "code",
   "execution_count": 207,
   "outputs": [
    {
     "name": "stdout",
     "output_type": "stream",
     "text": [
      "7499\n",
      "13508\n",
      "P value cutoff of: 3.7e-06\n",
      "For both Chi2 and Fishers\n"
     ]
    },
    {
     "data": {
      "text/plain": "                                 gene_hits_n2_t5+  gene_rpm_n2_t5+  gene_hits_n2_t5-  \\\nchr_id gene_id        gene_name                                                        \nX      WBGene00022219 Y73B3A.18           113.000          238.347           169.000   \nIV     WBGene00019537 K08D12.3             12.000           25.311           159.000   \nX      WBGene00000755 col-182              72.000          151.867            78.000   \n       WBGene00206388 K10C2.14             10.000           21.093             6.000   \nV      WBGene00009433 F35E12.9             10.000           21.093            26.000   \n...                                           ...              ...               ...   \nIII    WBGene00000875 cyk-4                 2.000            4.219            41.000   \n       WBGene00000878 cyn-2                 1.000            2.109            49.000   \n       WBGene00000885 cyn-9                 0.000            0.000             6.000   \n       WBGene00003243 mig-10                0.000            0.000             9.000   \nX      WBGene00303081 T23F2.13              0.000            0.000             1.000   \n\n                                 gene_rpm_n2_t5-  gene_hits_s6_t5+  gene_rpm_s6_t5+  \\\nchr_id gene_id        gene_name                                                       \nX      WBGene00022219 Y73B3A.18          356.466             0.000            0.000   \nIV     WBGene00019537 K08D12.3           335.373             0.000            0.000   \nX      WBGene00000755 col-182            164.523             0.000            0.000   \n       WBGene00206388 K10C2.14            12.656             0.000            0.000   \nV      WBGene00009433 F35E12.9            54.841             0.000            0.000   \n...                                          ...               ...              ...   \nIII    WBGene00000875 cyk-4               86.480             0.000            0.000   \n       WBGene00000878 cyn-2              103.354             0.000            0.000   \n       WBGene00000885 cyn-9               12.656             0.000            0.000   \n       WBGene00003243 mig-10              18.983             0.000            0.000   \nX      WBGene00303081 T23F2.13             2.109             0.000            0.000   \n\n                                 gene_hits_s6_t5-  gene_rpm_s6_t5-  chi2_test_result  \\\nchr_id gene_id        gene_name                                                        \nX      WBGene00022219 Y73B3A.18            71.000          437.435            40.025   \nIV     WBGene00019537 K08D12.3            246.000        1,515.618            15.352   \nX      WBGene00000755 col-182              17.000          104.738            12.454   \n       WBGene00206388 K10C2.14             19.000          117.060            13.704   \nV      WBGene00009433 F35E12.9             36.000          221.798             9.406   \n...                                           ...              ...               ...   \nIII    WBGene00000875 cyk-4                 6.000           36.966             0.316   \n       WBGene00000878 cyn-2                 4.000           24.644             2.695   \n       WBGene00000885 cyn-9                 2.000           12.322               NaN   \n       WBGene00003243 mig-10                3.000           18.483               NaN   \nX      WBGene00303081 T23F2.13              0.000            0.000               NaN   \n\n                                 chi2_p_value  fishers_test_result  fishers_p_value  \\\nchr_id gene_id        gene_name                                                       \nX      WBGene00022219 Y73B3A.18         0.000                0.000            0.000   \nIV     WBGene00019537 K08D12.3          0.000                0.000            0.000   \nX      WBGene00000755 col-182           0.000                0.000            0.000   \n       WBGene00206388 K10C2.14          0.000                0.000            0.000   \nV      WBGene00009433 F35E12.9          0.002                0.000            0.001   \n...                                       ...                  ...              ...   \nIII    WBGene00000875 cyk-4             0.574                0.000            1.000   \n       WBGene00000878 cyn-2             0.101                0.000            1.000   \n       WBGene00000885 cyn-9               NaN                  NaN            1.000   \n       WBGene00003243 mig-10              NaN                  NaN            1.000   \nX      WBGene00303081 T23F2.13            NaN                  NaN            1.000   \n\n                                 n2_fraction_adapted  s6_fraction_adapted  delta_fraction_adapted  \\\nchr_id gene_id        gene_name                                                                     \nX      WBGene00022219 Y73B3A.18                0.401                0.000                   0.401   \nIV     WBGene00019537 K08D12.3                 0.070                0.000                   0.070   \nX      WBGene00000755 col-182                  0.480                0.000                   0.480   \n       WBGene00206388 K10C2.14                 0.625                0.000                   0.625   \nV      WBGene00009433 F35E12.9                 0.278                0.000                   0.278   \n...                                              ...                  ...                     ...   \nIII    WBGene00000875 cyk-4                    0.047                0.000                   0.047   \n       WBGene00000878 cyn-2                    0.020                0.000                   0.020   \n       WBGene00000885 cyn-9                    0.000                0.000                   0.000   \n       WBGene00003243 mig-10                   0.000                0.000                   0.000   \nX      WBGene00303081 T23F2.13                 0.000                  NaN                     NaN   \n\n                                 fraction_adapted_FC  No t5+ reads n2  No t5- reads n2  \\\nchr_id gene_id        gene_name                                                          \nX      WBGene00022219 Y73B3A.18                  inf            False            False   \nIV     WBGene00019537 K08D12.3                   inf            False            False   \nX      WBGene00000755 col-182                    inf            False            False   \n       WBGene00206388 K10C2.14                   inf            False            False   \nV      WBGene00009433 F35E12.9                   inf            False            False   \n...                                              ...              ...              ...   \nIII    WBGene00000875 cyk-4                      inf            False            False   \n       WBGene00000878 cyn-2                      inf            False            False   \n       WBGene00000885 cyn-9                      NaN             True            False   \n       WBGene00003243 mig-10                     NaN             True            False   \nX      WBGene00303081 T23F2.13                   NaN             True            False   \n\n                                 No t5+ reads s6  No t5- reads s6  Failed chi2  Failed fishers  \\\nchr_id gene_id        gene_name                                                                  \nX      WBGene00022219 Y73B3A.18             True            False        False           False   \nIV     WBGene00019537 K08D12.3              True            False        False           False   \nX      WBGene00000755 col-182               True            False        False           False   \n       WBGene00206388 K10C2.14              True            False        False           False   \nV      WBGene00009433 F35E12.9              True            False        False           False   \n...                                          ...              ...          ...             ...   \nIII    WBGene00000875 cyk-4                 True            False        False           False   \n       WBGene00000878 cyn-2                 True            False        False           False   \n       WBGene00000885 cyn-9                 True            False         True            True   \n       WBGene00003243 mig-10                True            False         True            True   \nX      WBGene00303081 T23F2.13              True             True         True            True   \n\n                                 neg_log10__chi2_p_value  chi2_significant  \\\nchr_id gene_id        gene_name                                              \nX      WBGene00022219 Y73B3A.18                    9.601              True   \nIV     WBGene00019537 K08D12.3                     4.050             False   \nX      WBGene00000755 col-182                      3.380             False   \n       WBGene00206388 K10C2.14                     3.669             False   \nV      WBGene00009433 F35E12.9                     2.665             False   \n...                                                  ...               ...   \nIII    WBGene00000875 cyk-4                        0.241             False   \n       WBGene00000878 cyn-2                        0.997             False   \n       WBGene00000885 cyn-9                          NaN             False   \n       WBGene00003243 mig-10                         NaN             False   \nX      WBGene00303081 T23F2.13                       NaN             False   \n\n                                 neg_log10__fishers_p_value  fishers_significant  \nchr_id gene_id        gene_name                                                   \nX      WBGene00022219 Y73B3A.18                      13.504                 True  \nIV     WBGene00019537 K08D12.3                        4.748                False  \nX      WBGene00000755 col-182                         4.397                False  \n       WBGene00206388 K10C2.14                        4.360                False  \nV      WBGene00009433 F35E12.9                        3.023                False  \n...                                                     ...                  ...  \nIII    WBGene00000875 cyk-4                          -0.000                False  \n       WBGene00000878 cyn-2                          -0.000                False  \n       WBGene00000885 cyn-9                          -0.000                False  \n       WBGene00003243 mig-10                         -0.000                False  \nX      WBGene00303081 T23F2.13                       -0.000                False  \n\n[11720 rows x 26 columns]",
      "text/html": "<div>\n<style scoped>\n    .dataframe tbody tr th:only-of-type {\n        vertical-align: middle;\n    }\n\n    .dataframe tbody tr th {\n        vertical-align: top;\n    }\n\n    .dataframe thead th {\n        text-align: right;\n    }\n</style>\n<table border=\"1\" class=\"dataframe\">\n  <thead>\n    <tr style=\"text-align: right;\">\n      <th></th>\n      <th></th>\n      <th></th>\n      <th>gene_hits_n2_t5+</th>\n      <th>gene_rpm_n2_t5+</th>\n      <th>gene_hits_n2_t5-</th>\n      <th>gene_rpm_n2_t5-</th>\n      <th>gene_hits_s6_t5+</th>\n      <th>gene_rpm_s6_t5+</th>\n      <th>gene_hits_s6_t5-</th>\n      <th>gene_rpm_s6_t5-</th>\n      <th>chi2_test_result</th>\n      <th>chi2_p_value</th>\n      <th>fishers_test_result</th>\n      <th>fishers_p_value</th>\n      <th>n2_fraction_adapted</th>\n      <th>s6_fraction_adapted</th>\n      <th>delta_fraction_adapted</th>\n      <th>fraction_adapted_FC</th>\n      <th>No t5+ reads n2</th>\n      <th>No t5- reads n2</th>\n      <th>No t5+ reads s6</th>\n      <th>No t5- reads s6</th>\n      <th>Failed chi2</th>\n      <th>Failed fishers</th>\n      <th>neg_log10__chi2_p_value</th>\n      <th>chi2_significant</th>\n      <th>neg_log10__fishers_p_value</th>\n      <th>fishers_significant</th>\n    </tr>\n    <tr>\n      <th>chr_id</th>\n      <th>gene_id</th>\n      <th>gene_name</th>\n      <th></th>\n      <th></th>\n      <th></th>\n      <th></th>\n      <th></th>\n      <th></th>\n      <th></th>\n      <th></th>\n      <th></th>\n      <th></th>\n      <th></th>\n      <th></th>\n      <th></th>\n      <th></th>\n      <th></th>\n      <th></th>\n      <th></th>\n      <th></th>\n      <th></th>\n      <th></th>\n      <th></th>\n      <th></th>\n      <th></th>\n      <th></th>\n      <th></th>\n      <th></th>\n    </tr>\n  </thead>\n  <tbody>\n    <tr>\n      <th>X</th>\n      <th>WBGene00022219</th>\n      <th>Y73B3A.18</th>\n      <td>113.000</td>\n      <td>238.347</td>\n      <td>169.000</td>\n      <td>356.466</td>\n      <td>0.000</td>\n      <td>0.000</td>\n      <td>71.000</td>\n      <td>437.435</td>\n      <td>40.025</td>\n      <td>0.000</td>\n      <td>0.000</td>\n      <td>0.000</td>\n      <td>0.401</td>\n      <td>0.000</td>\n      <td>0.401</td>\n      <td>inf</td>\n      <td>False</td>\n      <td>False</td>\n      <td>True</td>\n      <td>False</td>\n      <td>False</td>\n      <td>False</td>\n      <td>9.601</td>\n      <td>True</td>\n      <td>13.504</td>\n      <td>True</td>\n    </tr>\n    <tr>\n      <th>IV</th>\n      <th>WBGene00019537</th>\n      <th>K08D12.3</th>\n      <td>12.000</td>\n      <td>25.311</td>\n      <td>159.000</td>\n      <td>335.373</td>\n      <td>0.000</td>\n      <td>0.000</td>\n      <td>246.000</td>\n      <td>1,515.618</td>\n      <td>15.352</td>\n      <td>0.000</td>\n      <td>0.000</td>\n      <td>0.000</td>\n      <td>0.070</td>\n      <td>0.000</td>\n      <td>0.070</td>\n      <td>inf</td>\n      <td>False</td>\n      <td>False</td>\n      <td>True</td>\n      <td>False</td>\n      <td>False</td>\n      <td>False</td>\n      <td>4.050</td>\n      <td>False</td>\n      <td>4.748</td>\n      <td>False</td>\n    </tr>\n    <tr>\n      <th rowspan=\"2\" valign=\"top\">X</th>\n      <th>WBGene00000755</th>\n      <th>col-182</th>\n      <td>72.000</td>\n      <td>151.867</td>\n      <td>78.000</td>\n      <td>164.523</td>\n      <td>0.000</td>\n      <td>0.000</td>\n      <td>17.000</td>\n      <td>104.738</td>\n      <td>12.454</td>\n      <td>0.000</td>\n      <td>0.000</td>\n      <td>0.000</td>\n      <td>0.480</td>\n      <td>0.000</td>\n      <td>0.480</td>\n      <td>inf</td>\n      <td>False</td>\n      <td>False</td>\n      <td>True</td>\n      <td>False</td>\n      <td>False</td>\n      <td>False</td>\n      <td>3.380</td>\n      <td>False</td>\n      <td>4.397</td>\n      <td>False</td>\n    </tr>\n    <tr>\n      <th>WBGene00206388</th>\n      <th>K10C2.14</th>\n      <td>10.000</td>\n      <td>21.093</td>\n      <td>6.000</td>\n      <td>12.656</td>\n      <td>0.000</td>\n      <td>0.000</td>\n      <td>19.000</td>\n      <td>117.060</td>\n      <td>13.704</td>\n      <td>0.000</td>\n      <td>0.000</td>\n      <td>0.000</td>\n      <td>0.625</td>\n      <td>0.000</td>\n      <td>0.625</td>\n      <td>inf</td>\n      <td>False</td>\n      <td>False</td>\n      <td>True</td>\n      <td>False</td>\n      <td>False</td>\n      <td>False</td>\n      <td>3.669</td>\n      <td>False</td>\n      <td>4.360</td>\n      <td>False</td>\n    </tr>\n    <tr>\n      <th>V</th>\n      <th>WBGene00009433</th>\n      <th>F35E12.9</th>\n      <td>10.000</td>\n      <td>21.093</td>\n      <td>26.000</td>\n      <td>54.841</td>\n      <td>0.000</td>\n      <td>0.000</td>\n      <td>36.000</td>\n      <td>221.798</td>\n      <td>9.406</td>\n      <td>0.002</td>\n      <td>0.000</td>\n      <td>0.001</td>\n      <td>0.278</td>\n      <td>0.000</td>\n      <td>0.278</td>\n      <td>inf</td>\n      <td>False</td>\n      <td>False</td>\n      <td>True</td>\n      <td>False</td>\n      <td>False</td>\n      <td>False</td>\n      <td>2.665</td>\n      <td>False</td>\n      <td>3.023</td>\n      <td>False</td>\n    </tr>\n    <tr>\n      <th>...</th>\n      <th>...</th>\n      <th>...</th>\n      <td>...</td>\n      <td>...</td>\n      <td>...</td>\n      <td>...</td>\n      <td>...</td>\n      <td>...</td>\n      <td>...</td>\n      <td>...</td>\n      <td>...</td>\n      <td>...</td>\n      <td>...</td>\n      <td>...</td>\n      <td>...</td>\n      <td>...</td>\n      <td>...</td>\n      <td>...</td>\n      <td>...</td>\n      <td>...</td>\n      <td>...</td>\n      <td>...</td>\n      <td>...</td>\n      <td>...</td>\n      <td>...</td>\n      <td>...</td>\n      <td>...</td>\n      <td>...</td>\n    </tr>\n    <tr>\n      <th rowspan=\"4\" valign=\"top\">III</th>\n      <th>WBGene00000875</th>\n      <th>cyk-4</th>\n      <td>2.000</td>\n      <td>4.219</td>\n      <td>41.000</td>\n      <td>86.480</td>\n      <td>0.000</td>\n      <td>0.000</td>\n      <td>6.000</td>\n      <td>36.966</td>\n      <td>0.316</td>\n      <td>0.574</td>\n      <td>0.000</td>\n      <td>1.000</td>\n      <td>0.047</td>\n      <td>0.000</td>\n      <td>0.047</td>\n      <td>inf</td>\n      <td>False</td>\n      <td>False</td>\n      <td>True</td>\n      <td>False</td>\n      <td>False</td>\n      <td>False</td>\n      <td>0.241</td>\n      <td>False</td>\n      <td>-0.000</td>\n      <td>False</td>\n    </tr>\n    <tr>\n      <th>WBGene00000878</th>\n      <th>cyn-2</th>\n      <td>1.000</td>\n      <td>2.109</td>\n      <td>49.000</td>\n      <td>103.354</td>\n      <td>0.000</td>\n      <td>0.000</td>\n      <td>4.000</td>\n      <td>24.644</td>\n      <td>2.695</td>\n      <td>0.101</td>\n      <td>0.000</td>\n      <td>1.000</td>\n      <td>0.020</td>\n      <td>0.000</td>\n      <td>0.020</td>\n      <td>inf</td>\n      <td>False</td>\n      <td>False</td>\n      <td>True</td>\n      <td>False</td>\n      <td>False</td>\n      <td>False</td>\n      <td>0.997</td>\n      <td>False</td>\n      <td>-0.000</td>\n      <td>False</td>\n    </tr>\n    <tr>\n      <th>WBGene00000885</th>\n      <th>cyn-9</th>\n      <td>0.000</td>\n      <td>0.000</td>\n      <td>6.000</td>\n      <td>12.656</td>\n      <td>0.000</td>\n      <td>0.000</td>\n      <td>2.000</td>\n      <td>12.322</td>\n      <td>NaN</td>\n      <td>NaN</td>\n      <td>NaN</td>\n      <td>1.000</td>\n      <td>0.000</td>\n      <td>0.000</td>\n      <td>0.000</td>\n      <td>NaN</td>\n      <td>True</td>\n      <td>False</td>\n      <td>True</td>\n      <td>False</td>\n      <td>True</td>\n      <td>True</td>\n      <td>NaN</td>\n      <td>False</td>\n      <td>-0.000</td>\n      <td>False</td>\n    </tr>\n    <tr>\n      <th>WBGene00003243</th>\n      <th>mig-10</th>\n      <td>0.000</td>\n      <td>0.000</td>\n      <td>9.000</td>\n      <td>18.983</td>\n      <td>0.000</td>\n      <td>0.000</td>\n      <td>3.000</td>\n      <td>18.483</td>\n      <td>NaN</td>\n      <td>NaN</td>\n      <td>NaN</td>\n      <td>1.000</td>\n      <td>0.000</td>\n      <td>0.000</td>\n      <td>0.000</td>\n      <td>NaN</td>\n      <td>True</td>\n      <td>False</td>\n      <td>True</td>\n      <td>False</td>\n      <td>True</td>\n      <td>True</td>\n      <td>NaN</td>\n      <td>False</td>\n      <td>-0.000</td>\n      <td>False</td>\n    </tr>\n    <tr>\n      <th>X</th>\n      <th>WBGene00303081</th>\n      <th>T23F2.13</th>\n      <td>0.000</td>\n      <td>0.000</td>\n      <td>1.000</td>\n      <td>2.109</td>\n      <td>0.000</td>\n      <td>0.000</td>\n      <td>0.000</td>\n      <td>0.000</td>\n      <td>NaN</td>\n      <td>NaN</td>\n      <td>NaN</td>\n      <td>1.000</td>\n      <td>0.000</td>\n      <td>NaN</td>\n      <td>NaN</td>\n      <td>NaN</td>\n      <td>True</td>\n      <td>False</td>\n      <td>True</td>\n      <td>True</td>\n      <td>True</td>\n      <td>True</td>\n      <td>NaN</td>\n      <td>False</td>\n      <td>-0.000</td>\n      <td>False</td>\n    </tr>\n  </tbody>\n</table>\n<p>11720 rows × 26 columns</p>\n</div>"
     },
     "execution_count": 207,
     "metadata": {},
     "output_type": "execute_result"
    },
    {
     "data": {
      "text/plain": "<Figure size 768x448 with 4 Axes>",
      "image/png": "[encoded data removed]"
     },
     "metadata": {
      "needs_background": "light"
     },
     "output_type": "display_data"
    }
   ],
   "source": [
    "# A lot of genes seem to be failing chi2 b/c of zero values. How many?:\n",
    "print(super_df[super_df.chi2_p_value.isna()].shape[0])\n",
    "print(super_df.chi2_p_value.shape[0])\n",
    "# print(super_df)\n",
    "\n",
    "def boolDF_to_upsetPlot(input_df: pd.DataFrame):\n",
    "    import upsetplot\n",
    "    upset_format_data = upsetplot.from_indicators(lambda lambda_df: lambda_df.select_dtypes(bool), data=input_df)\n",
    "    fig = plt.figure()\n",
    "    upset = upsetplot.UpSet(upset_format_data, sort_by='cardinality', sort_categories_by='cardinality', min_subset_size=0, min_degree=0, show_percentages=True)\n",
    "    upset.plot(fig=fig)\n",
    "    fig.savefig(f\"{get_dt(for_file=True)}_noReads_upset.png\")\n",
    "\n",
    "super_df[\"No t5+ reads n2\"] = super_df[\"gene_rpm_n2_t5+\"] == 0\n",
    "super_df[\"No t5- reads n2\"] = super_df[\"gene_rpm_n2_t5-\"] == 0\n",
    "super_df[\"No t5+ reads s6\"] = super_df[\"gene_rpm_s6_t5+\"] == 0\n",
    "super_df[\"No t5- reads s6\"] = super_df[\"gene_rpm_s6_t5-\"] == 0\n",
    "super_df['Failed chi2'] = super_df['chi2_p_value'].isna()\n",
    "super_df['Failed fishers'] = super_df['fishers_test_result'].isna()  # 13 genes?\n",
    "\n",
    "base_sig_cutoff = 0.05\n",
    "adjusted_sig_cutoff = base_sig_cutoff / super_df.shape[0]\n",
    "print(f\"P value cutoff of: {adjusted_sig_cutoff:.3g}\\nFor both Chi2 and Fishers\")\n",
    "\n",
    "super_df.sort_values(\"chi2_p_value\")\n",
    "super_df[\"neg_log10__chi2_p_value\"] = - np.log10(super_df[\"chi2_p_value\"])\n",
    "super_df[\"chi2_significant\"] = super_df[\"chi2_p_value\"] <= adjusted_sig_cutoff\n",
    "\n",
    "super_df.sort_values(\"fishers_p_value\")\n",
    "super_df[\"neg_log10__fishers_p_value\"] = - np.log10(super_df[\"fishers_p_value\"])\n",
    "super_df[\"fishers_significant\"] = super_df[\"fishers_p_value\"] <= adjusted_sig_cutoff\n",
    "\n",
    "boolDF_to_upsetPlot(super_df)\n",
    "zero_smg6_adapted_df = super_df[super_df[\"gene_rpm_s6_t5+\"] == 0].sort_values(\"fishers_p_value\")\n",
    "zero_smg6_adapted_df"
   ],
   "metadata": {
    "collapsed": false,
    "pycharm": {
     "name": "#%%\n"
    }
   }
  },
  {
   "cell_type": "code",
   "execution_count": 188,
   "outputs": [],
   "source": [
    "# Drop genes that don't have adapted reads in both libraries, or don't have unadapted reads in smg-6\n",
    "# super_df =\\\n",
    "test_df = super_df[(~super_df[\"No t5+ reads n2\"] | ~super_df[\"No t5+ reads s6\"])][~super_df[\"No t5- reads s6\"]]\n",
    "test_df.sort_values([\"gene_hits_s6_t5+\", \"gene_hits_n2_t5+\"])\n",
    "super_df = test_df"
   ],
   "metadata": {
    "collapsed": false,
    "pycharm": {
     "name": "#%%\n"
    }
   }
  },
  {
   "cell_type": "code",
   "execution_count": 208,
   "outputs": [
    {
     "name": "stdout",
     "output_type": "stream",
     "text": [
      "P value cutoff of: 3.7e-06\n",
      "For both Chi2 and Fishers\n"
     ]
    }
   ],
   "source": [
    "base_sig_cutoff = 0.05\n",
    "adjusted_sig_cutoff = base_sig_cutoff / super_df.shape[0]\n",
    "print(f\"P value cutoff of: {adjusted_sig_cutoff:.3g}\\nFor both Chi2 and Fishers\")\n",
    "\n",
    "super_df.sort_values(\"chi2_p_value\")\n",
    "super_df[\"neg_log10__chi2_p_value\"] = - np.log10(super_df[\"chi2_p_value\"])\n",
    "super_df[\"chi2_significant\"] = super_df[\"chi2_p_value\"] <= adjusted_sig_cutoff\n",
    "\n",
    "super_df.sort_values(\"fishers_p_value\")\n",
    "super_df[\"neg_log10__fishers_p_value\"] = - np.log10(super_df[\"fishers_p_value\"])\n",
    "super_df[\"fishers_significant\"] = super_df[\"fishers_p_value\"] <= adjusted_sig_cutoff\n",
    "\n",
    "plot_df = super_df.reset_index()\n",
    "plot_df['is_MtDNA'] = plot_df['chr_id'] == 'MtDNA'"
   ],
   "metadata": {
    "collapsed": false,
    "pycharm": {
     "name": "#%%\n"
    }
   }
  },
  {
   "cell_type": "code",
   "execution_count": 252,
   "outputs": [],
   "source": [
    "# I want to color by genes from this pub:\n",
    "# Some NMD targets from: https://www.ncbi.nlm.nih.gov/pmc/articles/PMC5765348/\n",
    "list_from_Muir_et_al_2018 = [\n",
    "    # These are actually from Johns et al. 2007\n",
    "    \"rsp-2\", \"rsp-6\", \"rpl-12\",\n",
    "    # his one too but it's actually rpl-1 in worms? rpl-10A is human\n",
    "    \"rpl-10a\", \"rpl-1\",\n",
    "    # Okay, actually things from Muir et al. 2018 now (I think):\n",
    "    \"Y39B6A.21\", \"Y51A2D.13\", \"ZK970.7\",\n",
    "    \"B0495.8\", \"F45D11.1\", \"F53B2.8\",\n",
    "    \"fib-1\", \"fbxa-33\", \"linc-9\",\n",
    "    \"nhr-109\", \"pho-11\", \"pqn-70\",\n",
    "    \"tdp-1\", \"R08E5.3\",\n",
    "    # And a repeat from my hits:\n",
    "   \"rpl-7A\", \n",
    "   ]\n",
    "\n",
    "plot_df['Muir_etal_2018_target'] = plot_df['gene_name'].isin(list_from_Muir_et_al_2018)"
   ],
   "metadata": {
    "collapsed": false,
    "pycharm": {
     "name": "#%%\n"
    }
   }
  },
  {
   "cell_type": "code",
   "execution_count": 254,
   "outputs": [],
   "source": [
    "fig = px.scatter(plot_df,\n",
    "                 x=\"fraction_adapted_FC\",\n",
    "                 y=\"neg_log10__fishers_p_value\",\n",
    "                 hover_name=\"gene_name\",\n",
    "                 hover_data=plot_df.columns,\n",
    "                 color='Muir_etal_2018_target',\n",
    "                 symbol=\"is_MtDNA\",\n",
    "                 symbol_sequence=[0, 3],\n",
    "                 template=\"plotly_white\")\n",
    "fig.update_traces(marker={# 'color': 'black',\n",
    "                          'opacity': 0.8,\n",
    "                          'size': 8})\n",
    "fig.add_hline(-np.log10(adjusted_sig_cutoff), line={'color':'darkred'})\n",
    "# fig.add_vline(-np.log10(adjusted_sig_cutoff), line={'color':'darkred'})\n",
    "fig"
   ],
   "metadata": {
    "collapsed": false,
    "pycharm": {
     "name": "#%%\n"
    }
   }
  },
  {
   "cell_type": "code",
   "execution_count": 253,
   "outputs": [],
   "source": [
    "fig = px.scatter(plot_df,\n",
    "                 # x=\"gene_hits_s6_t5-\",\n",
    "                 x=\"delta_fraction_adapted\",\n",
    "                 y=\"neg_log10__fishers_p_value\",\n",
    "                 hover_name=\"gene_name\",\n",
    "                 hover_data=plot_df.columns,\n",
    "                 color='Muir_etal_2018_target',\n",
    "                 symbol=\"is_MtDNA\",\n",
    "                 symbol_sequence=[0, 3],\n",
    "                 template=\"plotly_white\",\n",
    "                 log_x=True)\n",
    "fig.update_traces(marker={# 'color': 'black',\n",
    "                          'opacity': 0.8,\n",
    "                          'size': 8})\n",
    "fig.update_xaxes(range=[np.log10(0.01), np.log10(1.01)])\n",
    "fig.add_hline(-np.log10(adjusted_sig_cutoff), line={'color':'darkred'})\n",
    "fig"
   ],
   "metadata": {
    "collapsed": false,
    "pycharm": {
     "name": "#%%\n"
    }
   }
  },
  {
   "cell_type": "code",
   "execution_count": 115,
   "outputs": [
    {
     "data": {
      "text/plain": "     chr_id  gene_name         gene_id  gene_hits_n2_t5+  gene_hits_n2_t5-  gene_hits_s6_t5+  gene_hits_s6_t5-  n2_fraction_adapted  s6_fraction_adapted  fishers_p_value  fishers_significant\n5929      X    F23A7.8  WBGene00044638             226.0            1819.0              92.0            4474.0             0.110513             0.020149     1.798052e-51                 True\n4248  MtDNA      ctc-1  WBGene00010964             993.0            3201.0             364.0            2679.0             0.236767             0.119619     9.567619e-38                 True\n4249  MtDNA      ctc-2  WBGene00010965             569.0            1807.0             218.0            1763.0             0.239478             0.110045     2.341611e-29                 True\n1667     II      xrn-1  WBGene00012730             276.0            7772.0             162.0           13307.0             0.034294             0.012028     8.054807e-28                 True\n4240  MtDNA      ctb-1  WBGene00000829             420.0            1154.0             108.0             946.0             0.266836             0.102467     1.677713e-26                 True\n4244  MtDNA      atp-6  WBGene00010960             243.0            1851.0              88.0            2357.0             0.116046             0.035992     1.713955e-25                 True\n4687      V    F19B2.5  WBGene00008944              82.0             165.0               3.0             250.0             0.331984             0.011858     5.927090e-25                 True\n5604      X    F23A7.4  WBGene00009069             185.0            1355.0              90.0            2419.0             0.120130             0.035871     3.565870e-24                 True\n3377     IV     rpl-7A  WBGene00004419             230.0            1340.0               2.0             339.0             0.146497             0.005865     1.405409e-18                 True\n4245  MtDNA     nduo-2  WBGene00010961             201.0             444.0              55.0             417.0             0.311628             0.116525     3.592811e-15                 True\n4450      V      odc-1  WBGene00003844              95.0             189.0               3.0             130.0             0.334507             0.022556     6.638086e-15                 True\n5916      X  Y73B3A.18  WBGene00022219             113.0             169.0               0.0              71.0             0.400709             0.000000     3.135204e-14                 True\n794       I    C53H9.2  WBGene00016907              71.0             150.0               1.0              85.0             0.321267             0.011628     4.868226e-11                 True\n4251  MtDNA     nduo-5  WBGene00010967             175.0             940.0              83.0            1032.0             0.156951             0.074439     1.193842e-09                 True\n4247  MtDNA     nduo-4  WBGene00010963             262.0            1052.0             121.0             967.0             0.199391             0.111213     3.445078e-09                 True\n254       I     rpl-30  WBGene00004444              74.0             588.0               3.0             262.0             0.111782             0.011321     2.009519e-08                 True\n5168      V      tos-1  WBGene00019466              24.0              67.0               1.0              91.0             0.263736             0.010870     1.394933e-07                 True\n2406    III      ubl-1  WBGene00006725              84.0            1805.0               4.0             549.0             0.044468             0.007233     3.486435e-06                 True",
      "text/html": "<div>\n<style scoped>\n    .dataframe tbody tr th:only-of-type {\n        vertical-align: middle;\n    }\n\n    .dataframe tbody tr th {\n        vertical-align: top;\n    }\n\n    .dataframe thead th {\n        text-align: right;\n    }\n</style>\n<table border=\"1\" class=\"dataframe\">\n  <thead>\n    <tr style=\"text-align: right;\">\n      <th></th>\n      <th>chr_id</th>\n      <th>gene_name</th>\n      <th>gene_id</th>\n      <th>gene_hits_n2_t5+</th>\n      <th>gene_hits_n2_t5-</th>\n      <th>gene_hits_s6_t5+</th>\n      <th>gene_hits_s6_t5-</th>\n      <th>n2_fraction_adapted</th>\n      <th>s6_fraction_adapted</th>\n      <th>fishers_p_value</th>\n      <th>fishers_significant</th>\n    </tr>\n  </thead>\n  <tbody>\n    <tr>\n      <th>5929</th>\n      <td>X</td>\n      <td>F23A7.8</td>\n      <td>WBGene00044638</td>\n      <td>226.0</td>\n      <td>1819.0</td>\n      <td>92.0</td>\n      <td>4474.0</td>\n      <td>0.110513</td>\n      <td>0.020149</td>\n      <td>1.798052e-51</td>\n      <td>True</td>\n    </tr>\n    <tr>\n      <th>4248</th>\n      <td>MtDNA</td>\n      <td>ctc-1</td>\n      <td>WBGene00010964</td>\n      <td>993.0</td>\n      <td>3201.0</td>\n      <td>364.0</td>\n      <td>2679.0</td>\n      <td>0.236767</td>\n      <td>0.119619</td>\n      <td>9.567619e-38</td>\n      <td>True</td>\n    </tr>\n    <tr>\n      <th>4249</th>\n      <td>MtDNA</td>\n      <td>ctc-2</td>\n      <td>WBGene00010965</td>\n      <td>569.0</td>\n      <td>1807.0</td>\n      <td>218.0</td>\n      <td>1763.0</td>\n      <td>0.239478</td>\n      <td>0.110045</td>\n      <td>2.341611e-29</td>\n      <td>True</td>\n    </tr>\n    <tr>\n      <th>1667</th>\n      <td>II</td>\n      <td>xrn-1</td>\n      <td>WBGene00012730</td>\n      <td>276.0</td>\n      <td>7772.0</td>\n      <td>162.0</td>\n      <td>13307.0</td>\n      <td>0.034294</td>\n      <td>0.012028</td>\n      <td>8.054807e-28</td>\n      <td>True</td>\n    </tr>\n    <tr>\n      <th>4240</th>\n      <td>MtDNA</td>\n      <td>ctb-1</td>\n      <td>WBGene00000829</td>\n      <td>420.0</td>\n      <td>1154.0</td>\n      <td>108.0</td>\n      <td>946.0</td>\n      <td>0.266836</td>\n      <td>0.102467</td>\n      <td>1.677713e-26</td>\n      <td>True</td>\n    </tr>\n    <tr>\n      <th>4244</th>\n      <td>MtDNA</td>\n      <td>atp-6</td>\n      <td>WBGene00010960</td>\n      <td>243.0</td>\n      <td>1851.0</td>\n      <td>88.0</td>\n      <td>2357.0</td>\n      <td>0.116046</td>\n      <td>0.035992</td>\n      <td>1.713955e-25</td>\n      <td>True</td>\n    </tr>\n    <tr>\n      <th>4687</th>\n      <td>V</td>\n      <td>F19B2.5</td>\n      <td>WBGene00008944</td>\n      <td>82.0</td>\n      <td>165.0</td>\n      <td>3.0</td>\n      <td>250.0</td>\n      <td>0.331984</td>\n      <td>0.011858</td>\n      <td>5.927090e-25</td>\n      <td>True</td>\n    </tr>\n    <tr>\n      <th>5604</th>\n      <td>X</td>\n      <td>F23A7.4</td>\n      <td>WBGene00009069</td>\n      <td>185.0</td>\n      <td>1355.0</td>\n      <td>90.0</td>\n      <td>2419.0</td>\n      <td>0.120130</td>\n      <td>0.035871</td>\n      <td>3.565870e-24</td>\n      <td>True</td>\n    </tr>\n    <tr>\n      <th>3377</th>\n      <td>IV</td>\n      <td>rpl-7A</td>\n      <td>WBGene00004419</td>\n      <td>230.0</td>\n      <td>1340.0</td>\n      <td>2.0</td>\n      <td>339.0</td>\n      <td>0.146497</td>\n      <td>0.005865</td>\n      <td>1.405409e-18</td>\n      <td>True</td>\n    </tr>\n    <tr>\n      <th>4245</th>\n      <td>MtDNA</td>\n      <td>nduo-2</td>\n      <td>WBGene00010961</td>\n      <td>201.0</td>\n      <td>444.0</td>\n      <td>55.0</td>\n      <td>417.0</td>\n      <td>0.311628</td>\n      <td>0.116525</td>\n      <td>3.592811e-15</td>\n      <td>True</td>\n    </tr>\n    <tr>\n      <th>4450</th>\n      <td>V</td>\n      <td>odc-1</td>\n      <td>WBGene00003844</td>\n      <td>95.0</td>\n      <td>189.0</td>\n      <td>3.0</td>\n      <td>130.0</td>\n      <td>0.334507</td>\n      <td>0.022556</td>\n      <td>6.638086e-15</td>\n      <td>True</td>\n    </tr>\n    <tr>\n      <th>5916</th>\n      <td>X</td>\n      <td>Y73B3A.18</td>\n      <td>WBGene00022219</td>\n      <td>113.0</td>\n      <td>169.0</td>\n      <td>0.0</td>\n      <td>71.0</td>\n      <td>0.400709</td>\n      <td>0.000000</td>\n      <td>3.135204e-14</td>\n      <td>True</td>\n    </tr>\n    <tr>\n      <th>794</th>\n      <td>I</td>\n      <td>C53H9.2</td>\n      <td>WBGene00016907</td>\n      <td>71.0</td>\n      <td>150.0</td>\n      <td>1.0</td>\n      <td>85.0</td>\n      <td>0.321267</td>\n      <td>0.011628</td>\n      <td>4.868226e-11</td>\n      <td>True</td>\n    </tr>\n    <tr>\n      <th>4251</th>\n      <td>MtDNA</td>\n      <td>nduo-5</td>\n      <td>WBGene00010967</td>\n      <td>175.0</td>\n      <td>940.0</td>\n      <td>83.0</td>\n      <td>1032.0</td>\n      <td>0.156951</td>\n      <td>0.074439</td>\n      <td>1.193842e-09</td>\n      <td>True</td>\n    </tr>\n    <tr>\n      <th>4247</th>\n      <td>MtDNA</td>\n      <td>nduo-4</td>\n      <td>WBGene00010963</td>\n      <td>262.0</td>\n      <td>1052.0</td>\n      <td>121.0</td>\n      <td>967.0</td>\n      <td>0.199391</td>\n      <td>0.111213</td>\n      <td>3.445078e-09</td>\n      <td>True</td>\n    </tr>\n    <tr>\n      <th>254</th>\n      <td>I</td>\n      <td>rpl-30</td>\n      <td>WBGene00004444</td>\n      <td>74.0</td>\n      <td>588.0</td>\n      <td>3.0</td>\n      <td>262.0</td>\n      <td>0.111782</td>\n      <td>0.011321</td>\n      <td>2.009519e-08</td>\n      <td>True</td>\n    </tr>\n    <tr>\n      <th>5168</th>\n      <td>V</td>\n      <td>tos-1</td>\n      <td>WBGene00019466</td>\n      <td>24.0</td>\n      <td>67.0</td>\n      <td>1.0</td>\n      <td>91.0</td>\n      <td>0.263736</td>\n      <td>0.010870</td>\n      <td>1.394933e-07</td>\n      <td>True</td>\n    </tr>\n    <tr>\n      <th>2406</th>\n      <td>III</td>\n      <td>ubl-1</td>\n      <td>WBGene00006725</td>\n      <td>84.0</td>\n      <td>1805.0</td>\n      <td>4.0</td>\n      <td>549.0</td>\n      <td>0.044468</td>\n      <td>0.007233</td>\n      <td>3.486435e-06</td>\n      <td>True</td>\n    </tr>\n  </tbody>\n</table>\n</div>"
     },
     "execution_count": 115,
     "metadata": {},
     "output_type": "execute_result"
    }
   ],
   "source": [
    "plot_df[plot_df['fishers_significant']][['chr_id', 'gene_name', 'gene_id',\n",
    "                                         'gene_hits_n2_t5+', 'gene_hits_n2_t5-',\n",
    "                                         'gene_hits_s6_t5+', 'gene_hits_s6_t5-',\n",
    "                                         'n2_fraction_adapted',\n",
    "                                         's6_fraction_adapted',\n",
    "                                         'fishers_p_value',\n",
    "                                         'fishers_significant',\n",
    "                                           ]].sort_values(\"fishers_p_value\")"
   ],
   "metadata": {
    "collapsed": false,
    "pycharm": {
     "name": "#%%\n"
    }
   }
  },
  {
   "cell_type": "code",
   "execution_count": 255,
   "outputs": [
    {
     "name": "stdout",
     "output_type": "stream",
     "text": [
      "\n",
      "F23A7.8 (WBGene00044638) Chr: X\n",
      "  Fisher's p value: 1.8e-51\n",
      "            |   Wildtype:   |   smg-6 KO    |\n",
      "    Adapted:|   3836.751 rpm|  27564.537 rpm|\n",
      "  Unadapted:|    476.694 rpm|    566.817 rpm|\n",
      "\n",
      "xrn-1 (WBGene00012730) Chr: II\n",
      "  Fisher's p value: 8.05e-28\n",
      "            |   Wildtype:   |   smg-6 KO    |\n",
      "    Adapted:|  16393.201 rpm|  81985.090 rpm|\n",
      "  Unadapted:|    582.157 rpm|    998.090 rpm|\n",
      "\n",
      "F19B2.5 (WBGene00008944) Chr: V\n",
      "  Fisher's p value: 5.93e-25\n",
      "            |   Wildtype:   |   smg-6 KO    |\n",
      "    Adapted:|    348.029 rpm|   1540.262 rpm|\n",
      "  Unadapted:|    172.960 rpm|     18.483 rpm|\n",
      "\n",
      "F23A7.4 (WBGene00009069) Chr: X\n",
      "  Fisher's p value: 3.57e-24\n",
      "            |   Wildtype:   |   smg-6 KO    |\n",
      "    Adapted:|   2858.053 rpm|  14903.580 rpm|\n",
      "  Unadapted:|    390.214 rpm|    554.494 rpm|\n",
      "\n",
      "rpl-7A (WBGene00004419) Chr: IV\n",
      "  Fisher's p value: 1.41e-18\n",
      "            |   Wildtype:   |   smg-6 KO    |\n",
      "    Adapted:|   2826.414 rpm|   2088.596 rpm|\n",
      "  Unadapted:|    485.131 rpm|     12.322 rpm|\n",
      "\n",
      "odc-1 (WBGene00003844) Chr: V\n",
      "  Fisher's p value: 6.64e-15\n",
      "            |   Wildtype:   |   smg-6 KO    |\n",
      "    Adapted:|    398.651 rpm|    800.936 rpm|\n",
      "  Unadapted:|    200.380 rpm|     18.483 rpm|\n",
      "\n",
      "Y73B3A.18 (WBGene00022219) Chr: X\n",
      "  Fisher's p value: 3.14e-14\n",
      "            |   Wildtype:   |   smg-6 KO    |\n",
      "    Adapted:|    356.466 rpm|    437.435 rpm|\n",
      "  Unadapted:|    238.347 rpm|      0.000 rpm|\n",
      "\n",
      "C53H9.2 (WBGene00016907) Chr: I\n",
      "  Fisher's p value: 4.87e-11\n",
      "            |   Wildtype:   |   smg-6 KO    |\n",
      "    Adapted:|    316.390 rpm|    523.689 rpm|\n",
      "  Unadapted:|    149.758 rpm|      6.161 rpm|\n",
      "\n",
      "rpl-30 (WBGene00004444) Chr: I\n",
      "  Fisher's p value: 2.01e-08\n",
      "            |   Wildtype:   |   smg-6 KO    |\n",
      "    Adapted:|   1240.247 rpm|   1614.195 rpm|\n",
      "  Unadapted:|    156.086 rpm|     18.483 rpm|\n",
      "\n",
      "tos-1 (WBGene00019466) Chr: V\n",
      "  Fisher's p value: 1.39e-07\n",
      "            |   Wildtype:   |   smg-6 KO    |\n",
      "    Adapted:|    141.321 rpm|    560.656 rpm|\n",
      "  Unadapted:|     50.622 rpm|      6.161 rpm|\n",
      "\n",
      "ubl-1 (WBGene00006725) Chr: III\n",
      "  Fisher's p value: 3.49e-06\n",
      "            |   Wildtype:   |   smg-6 KO    |\n",
      "    Adapted:|   3807.222 rpm|   3382.416 rpm|\n",
      "  Unadapted:|    177.178 rpm|     24.644 rpm|\n",
      "\n",
      "rsp-2 (WBGene00004699) Chr: II\n",
      "  Fisher's p value: 0.182\n",
      "            |   Wildtype:   |   smg-6 KO    |\n",
      "    Adapted:|     90.698 rpm|     49.288 rpm|\n",
      "  Unadapted:|     31.639 rpm|      0.000 rpm|\n",
      "\n",
      "rsp-6 (WBGene00004703) Chr: IV\n",
      "  Fisher's p value: 0.164\n",
      "            |   Wildtype:   |   smg-6 KO    |\n",
      "    Adapted:|     75.934 rpm|    117.060 rpm|\n",
      "  Unadapted:|     12.656 rpm|      0.000 rpm|\n",
      "\n",
      "rpl-12 (WBGene00004424) Chr: IV\n",
      "  Fisher's p value: 0.0475\n",
      "            |   Wildtype:   |   smg-6 KO    |\n",
      "    Adapted:|   3710.196 rpm|   3160.619 rpm|\n",
      "  Unadapted:|    103.354 rpm|     36.966 rpm|\n",
      "\n",
      "Failed to find entry for rpl-10a\n",
      "\n",
      "rpl-1 (WBGene00004412) Chr: I\n",
      "  Fisher's p value: 0.000586\n",
      "            |   Wildtype:   |   smg-6 KO    |\n",
      "    Adapted:|   4110.956 rpm|   2168.690 rpm|\n",
      "  Unadapted:|    225.691 rpm|     30.805 rpm|\n",
      "\n",
      "Failed to find entry for Y39B6A.21\n",
      "\n",
      "Y51A2D.13 (WBGene00013080) Chr: V\n",
      "  Fisher's p value: 1\n",
      "            |   Wildtype:   |   smg-6 KO    |\n",
      "    Adapted:|     29.530 rpm|      6.161 rpm|\n",
      "  Unadapted:|      8.437 rpm|      0.000 rpm|\n",
      "\n",
      "ZK970.7 (WBGene00014173) Chr: II\n",
      "  Fisher's p value: 1\n",
      "            |   Wildtype:   |   smg-6 KO    |\n",
      "    Adapted:|     46.404 rpm|      6.161 rpm|\n",
      "  Unadapted:|      0.000 rpm|      0.000 rpm|\n",
      "\n",
      "B0495.8 (WBGene00015207) Chr: II\n",
      "  Fisher's p value: 1\n",
      "            |   Wildtype:   |   smg-6 KO    |\n",
      "    Adapted:|     31.639 rpm|      6.161 rpm|\n",
      "  Unadapted:|      2.109 rpm|      0.000 rpm|\n",
      "\n",
      "Failed to find entry for F45D11.1\n",
      "\n",
      "F53B2.8 (WBGene00009957) Chr: IV\n",
      "  Fisher's p value: 0.00261\n",
      "            |   Wildtype:   |   smg-6 KO    |\n",
      "    Adapted:|    191.943 rpm|    825.581 rpm|\n",
      "  Unadapted:|     29.530 rpm|     24.644 rpm|\n",
      "\n",
      "fib-1 (WBGene00001423) Chr: V\n",
      "  Fisher's p value: 0.0182\n",
      "            |   Wildtype:   |   smg-6 KO    |\n",
      "    Adapted:|    839.487 rpm|   1102.828 rpm|\n",
      "  Unadapted:|     35.857 rpm|      6.161 rpm|\n",
      "\n",
      "Failed to find entry for fbxa-33\n",
      "\n",
      "Failed to find entry for linc-9\n",
      "\n",
      "nhr-109 (WBGene00003699) Chr: II\n",
      "  Fisher's p value: 0.515\n",
      "            |   Wildtype:   |   smg-6 KO    |\n",
      "    Adapted:|     18.983 rpm|     36.966 rpm|\n",
      "  Unadapted:|      6.328 rpm|      0.000 rpm|\n",
      "\n",
      "pho-11 (WBGene00007331) Chr: II\n",
      "  Fisher's p value: 0.591\n",
      "            |   Wildtype:   |   smg-6 KO    |\n",
      "    Adapted:|    227.801 rpm|    154.026 rpm|\n",
      "  Unadapted:|     12.656 rpm|      0.000 rpm|\n",
      "\n",
      "pqn-70 (WBGene00004152) Chr: V\n",
      "  Fisher's p value: 0.0219\n",
      "            |   Wildtype:   |   smg-6 KO    |\n",
      "    Adapted:|     56.950 rpm|    135.543 rpm|\n",
      "  Unadapted:|     23.202 rpm|      6.161 rpm|\n",
      "\n",
      "tdp-1 (WBGene00006514) Chr: II\n",
      "  Fisher's p value: 1\n",
      "            |   Wildtype:   |   smg-6 KO    |\n",
      "    Adapted:|     44.295 rpm|     12.322 rpm|\n",
      "  Unadapted:|     10.546 rpm|      0.000 rpm|\n",
      "\n",
      "R08E5.3 (WBGene00019963) Chr: V\n",
      "  Fisher's p value: 1\n",
      "            |   Wildtype:   |   smg-6 KO    |\n",
      "    Adapted:|     25.311 rpm|     24.644 rpm|\n",
      "  Unadapted:|      0.000 rpm|      0.000 rpm|\n",
      "\n",
      "rpl-7A (WBGene00004419) Chr: IV\n",
      "  Fisher's p value: 1.41e-18\n",
      "            |   Wildtype:   |   smg-6 KO    |\n",
      "    Adapted:|   2826.414 rpm|   2088.596 rpm|\n",
      "  Unadapted:|    485.131 rpm|     12.322 rpm|\n"
     ]
    }
   ],
   "source": [
    "nmd_targets = plot_df[plot_df[\"fishers_significant\"]][['chr_id', 'gene_name', 'gene_id', 'fishers_p_value']].query(\"chr_id != 'MtDNA'\").sort_values('fishers_p_value')\n",
    "nmd_targets_list = nmd_targets.gene_name.to_list()\n",
    "\n",
    "# Some NMD targets from: https://www.ncbi.nlm.nih.gov/pmc/articles/PMC5765348/\n",
    "list_from_Muir_et_al_2018 = [\n",
    "    # These are actually from Johns et al. 2007\n",
    "    \"rsp-2\", \"rsp-6\", \"rpl-12\",\n",
    "    # his one too but it's actually rpl-1 in worms? rpl-10A is human\n",
    "    \"rpl-10a\", \"rpl-1\",\n",
    "    # Okay, actually things from Muir et al. 2018 now (I think):\n",
    "    \"Y39B6A.21\", \"Y51A2D.13\", \"ZK970.7\",\n",
    "    \"B0495.8\", \"F45D11.1\", \"F53B2.8\",\n",
    "    \"fib-1\", \"fbxa-33\", \"linc-9\",\n",
    "    \"nhr-109\", \"pho-11\", \"pqn-70\",\n",
    "    \"tdp-1\", \"R08E5.3\",\n",
    "    # And a repeat from my hits:\n",
    "   \"rpl-7A\", \n",
    "   ]\n",
    "\n",
    "for gene in list_from_Muir_et_al_2018:\n",
    "    nmd_targets_list.append(gene)\n",
    "\n",
    "for gene_name in nmd_targets_list:\n",
    "    hits_or_rpm = 'rpm'\n",
    "    try:\n",
    "        row = plot_df.query(f'gene_name == \"{gene_name}\"').reset_index()\n",
    "        array = np.array([[row[f\"gene_{hits_or_rpm}_n2_t5-\"][0],\n",
    "                       row[f\"gene_{hits_or_rpm}_s6_t5-\"][0]],\n",
    "                      [row[f\"gene_{hits_or_rpm}_n2_t5+\"][0],\n",
    "                       row[f\"gene_{hits_or_rpm}_s6_t5+\"][0]]])\n",
    "        little_df = pd.DataFrame(array, columns=['n2', 'smg-6'], index=['t5 -', 't5 +'])\n",
    "        print(f\"\\n{gene_name} ({row['gene_id'][0]}) Chr: {row['chr_id'][0]}\")\n",
    "        print(f\"  Fisher's p value: {row['fishers_p_value'][0]:0.3g}\")\n",
    "        \n",
    "        column_width = 15\n",
    "        print(f\"            |{'Wildtype:':^{column_width}}|{'smg-6 KO':^{column_width}}|\")\n",
    "        print(f\"    Adapted:|{array[0][0]:>{column_width-4}.3f} rpm|{array[0][1]:>{column_width-4}.3f} rpm|\")\n",
    "        print(f\"  Unadapted:|{array[1][0]:>{column_width-4}.3f} rpm|{array[1][1]:>{column_width-4}.3f} rpm|\")\n",
    "        # print(little_df, '\\n\\n')\n",
    "    except KeyError:\n",
    "        print(f\"\\nFailed to find entry for {gene_name}\")\n",
    "\n"
   ],
   "metadata": {
    "collapsed": false,
    "pycharm": {
     "name": "#%%\n"
    }
   }
  },
  {
   "cell_type": "code",
   "execution_count": 162,
   "outputs": [
    {
     "name": "stdout",
     "output_type": "stream",
     "text": [
      "Dash app running on http://127.0.0.1:8050/\n"
     ]
    }
   ],
   "source": [
    "\n",
    "def with_dash_for_click_to_copy(input_df: pd.DataFrame):\n",
    "    from jupyter_dash import JupyterDash\n",
    "    import json\n",
    "    from dash import dcc, html, callback_context, dash_table\n",
    "    import dash_bootstrap_components as dbc\n",
    "    from dash.dependencies import Input, Output\n",
    "    import pyperclip\n",
    "    from webbrowser import open as open_webpage\n",
    "    # Example for coping to clipboard:\n",
    "    # pyperclip.copy('The text to be copied to the clipboard.')\n",
    "    \n",
    "    merge_df = input_df.copy()\n",
    "    \n",
    "    app = JupyterDash(__name__)\n",
    "\n",
    "    app.layout = dbc.Container(\n",
    "        [\n",
    "            dbc.Row(\n",
    "                # Top row w/ buttons and slider\n",
    "                [\n",
    "                    dbc.Col(\n",
    "                        [\n",
    "                            dcc.Dropdown(\n",
    "                                id='x_col',\n",
    "                                options=[{'label': i, 'value': i} for i in merge_df.columns],\n",
    "                                value=\"fraction_adapted_FC\"),\n",
    "                            dcc.Dropdown(\n",
    "                                id='y_col',\n",
    "                                options=[{'label': i, 'value': i} for i in merge_df.columns],\n",
    "                                value=\"neg_log10__fishers_p_value\"),\n",
    "                        ],\n",
    "                        width=8,\n",
    "                        style={'height': '100%'}\n",
    "                    ),\n",
    "                    dbc.Col(\n",
    "                        [\n",
    "                            html.Button(\n",
    "                                'Copy selected GENE_NAME',\n",
    "                                id='btn-nclicks-2',\n",
    "                                n_clicks=0),\n",
    "                            html.Button(\n",
    "                                'Copy selected WBGENE_ID',\n",
    "                                id='btn-nclicks-1',\n",
    "                                n_clicks=0),\n",
    "                            html.Button(\n",
    "                                'Open WormBase',\n",
    "                                id='btn-nclicks-3',\n",
    "                                n_clicks=0),\n",
    "                            html.Div(\n",
    "                                id='container-button-timestamp'\n",
    "                            ),\n",
    "                            html.Div(\n",
    "                                id='selected-data'\n",
    "                            ),\n",
    "                            html.Div(\n",
    "                                id='contingency-table',\n",
    "                            ),\n",
    "                        ],\n",
    "                        width=4,\n",
    "                        style={'height': '100%'}\n",
    "                    ),\n",
    "                ],\n",
    "                className=\"h-10\",\n",
    "            ),\n",
    "            dbc.Row(\n",
    "                # Row for graph!\n",
    "                [\n",
    "                    dcc.Graph(id='primary-scatter',\n",
    "                              style=\n",
    "                              {\n",
    "                                  'width': '120vh',\n",
    "                                  'height': '80vh',\n",
    "                              }\n",
    "                              ),\n",
    "                ],\n",
    "                className='h-60',\n",
    "            ),\n",
    "        ],\n",
    "        style={'height': '100%', 'width': '100%'},\n",
    "    )\n",
    "\n",
    "    @app.callback(Output('primary-scatter', 'figure'),\n",
    "                  [Input('x_col', 'value'),\n",
    "                   Input('y_col', 'value'), ])\n",
    "    def main_plot(x_col, y_col):\n",
    "        fig = px.scatter(merge_df,\n",
    "                         x=x_col,\n",
    "                         y=y_col,\n",
    "                         hover_name=\"gene_name\",\n",
    "                         # hover_data=[merge_df.columns],\n",
    "                         # color=\"fishers_significant\",\n",
    "                         symbol=\"is_MtDNA\",\n",
    "                         symbol_sequence=[0, 3],\n",
    "                         template=\"plotly_white\",\n",
    "                         opacity=0.8,\n",
    "                          custom_data=[\"gene_id\", \"gene_name\"])\n",
    "        fig.update_traces(marker={'color': 'black',\n",
    "                                  'opacity': 0.5,\n",
    "                                  'size': 8})\n",
    "        fig.add_hline(-np.log10(adjusted_sig_cutoff), line={'color':'darkred'})\n",
    "        # fig.add_vline(-np.log10(adjusted_sig_cutoff), line={'color':'darkred'})\n",
    "        fig.update_layout(margin={'l': 40, 'b': 40, 't': 10, 'r': 0},\n",
    "                          hovermode='closest', clickmode=\"event+select\",\n",
    "                          template='plotly_white')\n",
    "        # fig.update_xaxes(type='log')\n",
    "        # fig.update_yaxes(type='log')\n",
    "        return fig\n",
    "\n",
    "    @app.callback(\n",
    "        Output('selected-data', 'children'),\n",
    "        [Input('primary-scatter', 'selectedData')])\n",
    "    def display_selected_data(selectedData):\n",
    "        if not selectedData:\n",
    "            return \"No points selected\"\n",
    "        return_data = []\n",
    "        for point_dict in selectedData['points']:\n",
    "            gene_id, gene_name = point_dict['customdata'][0:2]\n",
    "            # print(point_dict['customdata'])\n",
    "            return_data.append({'Gene Name': gene_name,\n",
    "                                'Gene ID': gene_id})\n",
    "        return json.dumps(return_data, indent=2)\n",
    "    \n",
    "    @app.callback(\n",
    "        Output('contingency-table', 'children'),\n",
    "        [Input('primary-scatter', 'selectedData')])\n",
    "    def display_selected_table(selectedData):\n",
    "        if not selectedData:\n",
    "            return \"No points selected\"\n",
    "        return_tables =[]\n",
    "        for point_dict in selectedData['points']:\n",
    "            gene_id, gene_name = point_dict['customdata'][0:2]\n",
    "            \n",
    "            row = plot_df.query(f'gene_id == \"{gene_id}\"').reset_index()\n",
    "            # array = np.array([[row[\"gene_hits_n2_t5-\"][0],\n",
    "            #                    row[\"gene_hits_s6_t5-\"][0]],\n",
    "            #                   [row[\"gene_hits_n2_t5+\"][0],\n",
    "            #                    row[\"gene_hits_s6_t5+\"][0]]])\n",
    "            array = np.array([[row[\"gene_rpm_n2_t5-\"][0],\n",
    "                   row[\"gene_rpm_s6_t5-\"][0]],\n",
    "                  [row[\"gene_rpm_n2_t5+\"][0],\n",
    "                   row[\"gene_rpm_s6_t5+\"][0]]])\n",
    "            pd.options.display.float_format = '{:,.2g}'.format\n",
    "            little_df = pd.DataFrame(array, columns=['n2', 'smg-6'], index=['t5 -', 't5 +']).reset_index()\n",
    "            little_df_columns = [{\"name\": i, \"id\": i} for i in little_df.columns]\n",
    "            table = dash_table.DataTable(data=little_df.to_dict('records'), \n",
    "                                         columns=little_df_columns,\n",
    "                                         )\n",
    "            return [table]\n",
    "\n",
    "    @app.callback(\n",
    "        Output('container-button-timestamp', 'children'),\n",
    "        [Input('btn-nclicks-1', 'n_clicks'),\n",
    "         Input('btn-nclicks-2', 'n_clicks'),\n",
    "         Input('btn-nclicks-3', 'n_clicks'),\n",
    "         Input('primary-scatter', 'figure'),\n",
    "         Input('primary-scatter', 'selectedData')])\n",
    "    def button_click(gene_id, gene_name, open_worm_base, scatter_fig, selectedData):\n",
    "        changed_id = [p['prop_id'] for p in callback_context.triggered][0]\n",
    "        if not selectedData:\n",
    "            return_data = {'gene_name': [],\n",
    "                           'gene_id': []}\n",
    "        else:\n",
    "            return_data = {'gene_name': [],\n",
    "                           'gene_id': []}\n",
    "            for point_dict in selectedData['points']:\n",
    "                gene_id, gene_name = point_dict['customdata'][0:2]\n",
    "                return_data[\"gene_name\"].append(gene_name)\n",
    "                return_data[\"gene_id\"].append(gene_id)\n",
    "        if 'btn-nclicks-2' in changed_id:\n",
    "            msg = 'Copy gene_id'\n",
    "            # print(scatter_fig)\n",
    "            if len(return_data['gene_name']) == 1:\n",
    "                pyperclip.copy(return_data['gene_name'][0])\n",
    "            elif len(return_data['gene_name']) > 1:\n",
    "                pyperclip.copy(', '.join(return_data['gene_name']))\n",
    "        elif 'btn-nclicks-1' in changed_id:\n",
    "            msg = 'Copy gene_name'\n",
    "            if len(return_data['gene_id']) == 1:\n",
    "                pyperclip.copy(return_data['gene_id'][0])\n",
    "            elif len(return_data['gene_id']) > 1:\n",
    "                pyperclip.copy(', '.join(return_data['gene_id']))\n",
    "        elif 'btn-nclicks-3' in changed_id:\n",
    "            msg = 'Open worm base'\n",
    "            if len(return_data['gene_id']) == 1:\n",
    "                wbgene_id = return_data['gene_id'][0]\n",
    "                open_webpage(f\"https://wormbase.org/species/c_elegans/gene/{wbgene_id}\", new=1)\n",
    "            elif len(return_data['gene_id']) > 1:\n",
    "                for i, wbgene_id in enumerate(return_data['gene_id']):\n",
    "                    if i == 0:\n",
    "                        open_webpage(f\"https://wormbase.org/species/c_elegans/gene/{wbgene_id}\", new=1)\n",
    "                    else:\n",
    "                        open_webpage(f\"https://wormbase.org/species/c_elegans/gene/{wbgene_id}\", new=2)\n",
    "        else:\n",
    "            msg = '*None of the buttons*'\n",
    "        return html.Div(f\"{msg} was most recently clicked\")\n",
    "\n",
    "    app.run_server(mode='external')\n",
    "\n",
    "# This doesn't work lol\n",
    "with_dash_for_click_to_copy(plot_df.reset_index())"
   ],
   "metadata": {
    "collapsed": false,
    "pycharm": {
     "name": "#%%\n"
    }
   }
  },
  {
   "cell_type": "code",
   "execution_count": 166,
   "outputs": [
    {
     "data": {
      "text/plain": "          n2   smg-6\nt5 - 3.7e+03 3.2e+03\nt5 +   1e+02      37",
      "text/html": "<div>\n<style scoped>\n    .dataframe tbody tr th:only-of-type {\n        vertical-align: middle;\n    }\n\n    .dataframe tbody tr th {\n        vertical-align: top;\n    }\n\n    .dataframe thead th {\n        text-align: right;\n    }\n</style>\n<table border=\"1\" class=\"dataframe\">\n  <thead>\n    <tr style=\"text-align: right;\">\n      <th></th>\n      <th>n2</th>\n      <th>smg-6</th>\n    </tr>\n  </thead>\n  <tbody>\n    <tr>\n      <th>t5 -</th>\n      <td>3.7e+03</td>\n      <td>3.2e+03</td>\n    </tr>\n    <tr>\n      <th>t5 +</th>\n      <td>1e+02</td>\n      <td>37</td>\n    </tr>\n  </tbody>\n</table>\n</div>"
     },
     "execution_count": 166,
     "metadata": {},
     "output_type": "execute_result"
    }
   ],
   "source": [
    "gene_name = 'rpl-12'\n",
    "hits_or_rpm = 'rpm'\n",
    "\n",
    "row = plot_df.query(f'gene_name == \"{gene_name}\"').reset_index()\n",
    "array = np.array([[row[f\"gene_{hits_or_rpm}_n2_t5-\"][0],\n",
    "                   row[f\"gene_{hits_or_rpm}_s6_t5-\"][0]],\n",
    "                  [row[f\"gene_{hits_or_rpm}_n2_t5+\"][0],\n",
    "                   row[f\"gene_{hits_or_rpm}_s6_t5+\"][0]]])\n",
    "little_df = pd.DataFrame(array, columns=['n2', 'smg-6'], index=['t5 -', 't5 +'])\n",
    "little_df"
   ],
   "metadata": {
    "collapsed": false,
    "pycharm": {
     "name": "#%%\n"
    }
   }
  },
  {
   "cell_type": "code",
   "execution_count": null,
   "outputs": [],
   "source": [],
   "metadata": {
    "collapsed": false,
    "pycharm": {
     "name": "#%%\n"
    }
   }
  }
 ],
 "metadata": {
  "kernelspec": {
   "display_name": "Python 3",
   "language": "python",
   "name": "python3"
  },
  "language_info": {
   "codemirror_mode": {
    "name": "ipython",
    "version": 2
   },
   "file_extension": ".py",
   "mimetype": "text/x-python",
   "name": "python",
   "nbconvert_exporter": "python",
   "pygments_lexer": "ipython2",
   "version": "2.7.6"
  }
 },
 "nbformat": 4,
 "nbformat_minor": 0
}