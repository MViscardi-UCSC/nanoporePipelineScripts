{
 "cells": [
  {
   "cell_type": "markdown",
   "source": [
    "# 5TERA_chi2.ipynb\n",
    "### Marcus Viscardi,    May 04, 2022\n",
    "\n",
    "Moving things over from 5TERA_analyses to limit overlapping code"
   ],
   "metadata": {
    "collapsed": false,
    "pycharm": {
     "name": "#%% md\n"
    }
   }
  },
  {
   "cell_type": "code",
   "execution_count": 1,
   "outputs": [
    {
     "name": "stdout",
     "output_type": "stream",
     "text": [
      "imports done\n"
     ]
    }
   ],
   "source": [
    "import numpy as np\n",
    "import pandas as pd\n",
    "from tqdm import tqdm\n",
    "pd.set_option('display.width', 100)\n",
    "pd.set_option('display.max_columns', None)\n",
    "\n",
    "import seaborn as sea\n",
    "import matplotlib.pyplot as plt\n",
    "import plotly.express as px\n",
    "import plotly.graph_objects as go\n",
    "import plotly.io as pio\n",
    "pio.renderers.default = \"browser\"\n",
    "\n",
    "from nanoporePipelineCommon import *\n",
    "\n",
    "print(\"imports done\")"
   ],
   "metadata": {
    "collapsed": false,
    "pycharm": {
     "name": "#%%\n"
    }
   }
  },
  {
   "cell_type": "code",
   "execution_count": 2,
   "outputs": [
    {
     "name": "stdout",
     "output_type": "stream",
     "text": [
      "Loading readAssignments file from: /data16/marcus/genomes/elegansRelease100/Caenorhabditis_elegans.WBcel235.100.allChrs.parquet... Done.\n",
      "Looking for files for libraries: ['xrn-1-5tera', 'xrn-1-5tera-smg-6']\n",
      "Looking for file for xrn-1-5tera, at /data16/marcus/working/211118_nanoporeRun_totalRNA_5108_xrn-1-KD_5TERA/output_dir/merge_files/*_mergedOnReads.parquet... File Found.\n",
      "Looking for file for xrn-1-5tera-smg-6, at /data16/marcus/working/211210_nanoporeRun_totalRNA_2102_xrn-1-KD_5TERA/output_dir/merge_files/*_mergedOnReads.parquet... File Found.\n",
      "Loading parquet for xrn-1-5tera lib... Done.\n",
      "'original_chr_pos' column already found in dataframe, skipping adjustment for 5'ends!\n",
      "Loading parquet for xrn-1-5tera-smg-6 lib... Done.\n",
      "'original_chr_pos' column already found in dataframe, skipping adjustment for 5'ends!\n",
      "Finished assignment merge!. . .\n",
      "Read counts post gene assignment:  937835\n",
      "Read counts post unassigned drop:  636409\n",
      "Creating groupby dataframe merged on: ['lib', 'chr_id', 'gene_id', 'gene_name']\n",
      "\t+ [t5] tag\n"
     ]
    },
    {
     "name": "stderr",
     "output_type": "stream",
     "text": [
      "Counting reads per gene: 100%|██████████| 31278/31278 [00:00<00:00, 65533.35it/s]\n"
     ]
    },
    {
     "name": "stdout",
     "output_type": "stream",
     "text": [
      "Gene counts pre sub-1 gene_hits drop:  31278\n",
      "Gene counts post sub-1 gene_hits drop:  31278\n",
      "done.\n"
     ]
    }
   ],
   "source": [
    "reads_df_genes_raw, compressed_df_genes_raw = load_and_merge_lib_parquets([\"xrn-1-5tera\", \"xrn-1-5tera-smg-6\"], drop_sub_n=1, add_tail_groupings=False, drop_failed_polya=False, group_by_t5=True)\n",
    "print(\"done.\")"
   ],
   "metadata": {
    "collapsed": false,
    "pycharm": {
     "name": "#%%\n"
    }
   }
  },
  {
   "cell_type": "code",
   "execution_count": 4,
   "outputs": [
    {
     "data": {
      "text/plain": "                     lib chr_id         gene_id gene_name t5  gene_hits     gene_rpm\n10219        xrn-1-5tera     IV  WBGene00004424    rpl-12  -       1759  3710.195550\n10220        xrn-1-5tera     IV  WBGene00004424    rpl-12  +         49   103.353941\n25572  xrn-1-5tera-smg-6     IV  WBGene00004424    rpl-12  -        513  3160.618569\n25573  xrn-1-5tera-smg-6     IV  WBGene00004424    rpl-12  +          6    36.966299",
      "text/html": "<div>\n<style scoped>\n    .dataframe tbody tr th:only-of-type {\n        vertical-align: middle;\n    }\n\n    .dataframe tbody tr th {\n        vertical-align: top;\n    }\n\n    .dataframe thead th {\n        text-align: right;\n    }\n</style>\n<table border=\"1\" class=\"dataframe\">\n  <thead>\n    <tr style=\"text-align: right;\">\n      <th></th>\n      <th>lib</th>\n      <th>chr_id</th>\n      <th>gene_id</th>\n      <th>gene_name</th>\n      <th>t5</th>\n      <th>gene_hits</th>\n      <th>gene_rpm</th>\n    </tr>\n  </thead>\n  <tbody>\n    <tr>\n      <th>10219</th>\n      <td>xrn-1-5tera</td>\n      <td>IV</td>\n      <td>WBGene00004424</td>\n      <td>rpl-12</td>\n      <td>-</td>\n      <td>1759</td>\n      <td>3710.195550</td>\n    </tr>\n    <tr>\n      <th>10220</th>\n      <td>xrn-1-5tera</td>\n      <td>IV</td>\n      <td>WBGene00004424</td>\n      <td>rpl-12</td>\n      <td>+</td>\n      <td>49</td>\n      <td>103.353941</td>\n    </tr>\n    <tr>\n      <th>25572</th>\n      <td>xrn-1-5tera-smg-6</td>\n      <td>IV</td>\n      <td>WBGene00004424</td>\n      <td>rpl-12</td>\n      <td>-</td>\n      <td>513</td>\n      <td>3160.618569</td>\n    </tr>\n    <tr>\n      <th>25573</th>\n      <td>xrn-1-5tera-smg-6</td>\n      <td>IV</td>\n      <td>WBGene00004424</td>\n      <td>rpl-12</td>\n      <td>+</td>\n      <td>6</td>\n      <td>36.966299</td>\n    </tr>\n  </tbody>\n</table>\n</div>"
     },
     "execution_count": 4,
     "metadata": {},
     "output_type": "execute_result"
    }
   ],
   "source": [
    "compressed_df_genes_short = compressed_df_genes_raw.copy()[[\"lib\", \"chr_id\", \"gene_id\", \"gene_name\", \"t5\", \"gene_hits\", \"gene_rpm\"]]\n",
    "compressed_df_genes_short.query(\"gene_name == 'rpl-12'\")"
   ],
   "metadata": {
    "collapsed": false,
    "pycharm": {
     "name": "#%%\n"
    }
   }
  },
  {
   "cell_type": "code",
   "execution_count": 5,
   "outputs": [
    {
     "name": "stdout",
     "output_type": "stream",
     "text": [
      "('n2', '+')\n",
      "                                 gene_hits_n2_t5+  gene_rpm_n2_t5+\n",
      "chr_id gene_id        gene_name                                   \n",
      "IV     WBGene00004424 rpl-12                   49       103.353941\n",
      "('n2', '-')\n",
      "                                 gene_hits_n2_t5-  gene_rpm_n2_t5-\n",
      "chr_id gene_id        gene_name                                   \n",
      "IV     WBGene00004424 rpl-12                 1759       3710.19555\n",
      "('s6', '+')\n",
      "                                 gene_hits_s6_t5+  gene_rpm_s6_t5+\n",
      "chr_id gene_id        gene_name                                   \n",
      "IV     WBGene00004424 rpl-12                    6        36.966299\n",
      "('s6', '-')\n",
      "                                 gene_hits_s6_t5-  gene_rpm_s6_t5-\n",
      "chr_id gene_id        gene_name                                   \n",
      "IV     WBGene00004424 rpl-12                  513      3160.618569\n"
     ]
    },
    {
     "data": {
      "text/plain": "                                 gene_hits_n2_t5+  gene_rpm_n2_t5+  gene_hits_n2_t5-  gene_rpm_n2_t5-  gene_hits_s6_t5+  gene_rpm_s6_t5+  gene_hits_s6_t5-  gene_rpm_s6_t5-\nchr_id gene_id        gene_name                                                                                                                                            \nI      WBGene00000001 aap-1                   2.0         4.218528              18.0        37.966754               1.0          6.16105               1.0         6.161050\n       WBGene00000006 aat-5                   1.0         2.109264               2.0         4.218528               0.0          0.00000               1.0         6.161050\n       WBGene00000010 aat-9                   0.0         0.000000               7.0        14.764849               0.0          0.00000               1.0         6.161050\n       WBGene00000020 abt-2                   0.0         0.000000               4.0         8.437056               0.0          0.00000               5.0        30.805249\n       WBGene00000023 abt-5                   1.0         2.109264               3.0         6.327792               0.0          0.00000               0.0         0.000000\n...                                           ...              ...               ...              ...               ...              ...               ...              ...\nX      WBGene00271701 F10D7.10                1.0         2.109264               0.0         0.000000               0.0          0.00000               1.0         6.161050\n       WBGene00284849 C03A3.9                 0.0         0.000000               2.0         4.218528               0.0          0.00000               3.0        18.483150\n       WBGene00284855 C04C11.25               0.0         0.000000               1.0         2.109264               0.0          0.00000               0.0         0.000000\n       WBGene00303024 H40L08.7                8.0        16.874113               7.0        14.764849               0.0          0.00000               1.0         6.161050\n       WBGene00303081 T23F2.13                0.0         0.000000               1.0         2.109264               0.0          0.00000               0.0         0.000000\n\n[13508 rows x 8 columns]",
      "text/html": "<div>\n<style scoped>\n    .dataframe tbody tr th:only-of-type {\n        vertical-align: middle;\n    }\n\n    .dataframe tbody tr th {\n        vertical-align: top;\n    }\n\n    .dataframe thead th {\n        text-align: right;\n    }\n</style>\n<table border=\"1\" class=\"dataframe\">\n  <thead>\n    <tr style=\"text-align: right;\">\n      <th></th>\n      <th></th>\n      <th></th>\n      <th>gene_hits_n2_t5+</th>\n      <th>gene_rpm_n2_t5+</th>\n      <th>gene_hits_n2_t5-</th>\n      <th>gene_rpm_n2_t5-</th>\n      <th>gene_hits_s6_t5+</th>\n      <th>gene_rpm_s6_t5+</th>\n      <th>gene_hits_s6_t5-</th>\n      <th>gene_rpm_s6_t5-</th>\n    </tr>\n    <tr>\n      <th>chr_id</th>\n      <th>gene_id</th>\n      <th>gene_name</th>\n      <th></th>\n      <th></th>\n      <th></th>\n      <th></th>\n      <th></th>\n      <th></th>\n      <th></th>\n      <th></th>\n    </tr>\n  </thead>\n  <tbody>\n    <tr>\n      <th rowspan=\"5\" valign=\"top\">I</th>\n      <th>WBGene00000001</th>\n      <th>aap-1</th>\n      <td>2.0</td>\n      <td>4.218528</td>\n      <td>18.0</td>\n      <td>37.966754</td>\n      <td>1.0</td>\n      <td>6.16105</td>\n      <td>1.0</td>\n      <td>6.161050</td>\n    </tr>\n    <tr>\n      <th>WBGene00000006</th>\n      <th>aat-5</th>\n      <td>1.0</td>\n      <td>2.109264</td>\n      <td>2.0</td>\n      <td>4.218528</td>\n      <td>0.0</td>\n      <td>0.00000</td>\n      <td>1.0</td>\n      <td>6.161050</td>\n    </tr>\n    <tr>\n      <th>WBGene00000010</th>\n      <th>aat-9</th>\n      <td>0.0</td>\n      <td>0.000000</td>\n      <td>7.0</td>\n      <td>14.764849</td>\n      <td>0.0</td>\n      <td>0.00000</td>\n      <td>1.0</td>\n      <td>6.161050</td>\n    </tr>\n    <tr>\n      <th>WBGene00000020</th>\n      <th>abt-2</th>\n      <td>0.0</td>\n      <td>0.000000</td>\n      <td>4.0</td>\n      <td>8.437056</td>\n      <td>0.0</td>\n      <td>0.00000</td>\n      <td>5.0</td>\n      <td>30.805249</td>\n    </tr>\n    <tr>\n      <th>WBGene00000023</th>\n      <th>abt-5</th>\n      <td>1.0</td>\n      <td>2.109264</td>\n      <td>3.0</td>\n      <td>6.327792</td>\n      <td>0.0</td>\n      <td>0.00000</td>\n      <td>0.0</td>\n      <td>0.000000</td>\n    </tr>\n    <tr>\n      <th>...</th>\n      <th>...</th>\n      <th>...</th>\n      <td>...</td>\n      <td>...</td>\n      <td>...</td>\n      <td>...</td>\n      <td>...</td>\n      <td>...</td>\n      <td>...</td>\n      <td>...</td>\n    </tr>\n    <tr>\n      <th rowspan=\"5\" valign=\"top\">X</th>\n      <th>WBGene00271701</th>\n      <th>F10D7.10</th>\n      <td>1.0</td>\n      <td>2.109264</td>\n      <td>0.0</td>\n      <td>0.000000</td>\n      <td>0.0</td>\n      <td>0.00000</td>\n      <td>1.0</td>\n      <td>6.161050</td>\n    </tr>\n    <tr>\n      <th>WBGene00284849</th>\n      <th>C03A3.9</th>\n      <td>0.0</td>\n      <td>0.000000</td>\n      <td>2.0</td>\n      <td>4.218528</td>\n      <td>0.0</td>\n      <td>0.00000</td>\n      <td>3.0</td>\n      <td>18.483150</td>\n    </tr>\n    <tr>\n      <th>WBGene00284855</th>\n      <th>C04C11.25</th>\n      <td>0.0</td>\n      <td>0.000000</td>\n      <td>1.0</td>\n      <td>2.109264</td>\n      <td>0.0</td>\n      <td>0.00000</td>\n      <td>0.0</td>\n      <td>0.000000</td>\n    </tr>\n    <tr>\n      <th>WBGene00303024</th>\n      <th>H40L08.7</th>\n      <td>8.0</td>\n      <td>16.874113</td>\n      <td>7.0</td>\n      <td>14.764849</td>\n      <td>0.0</td>\n      <td>0.00000</td>\n      <td>1.0</td>\n      <td>6.161050</td>\n    </tr>\n    <tr>\n      <th>WBGene00303081</th>\n      <th>T23F2.13</th>\n      <td>0.0</td>\n      <td>0.000000</td>\n      <td>1.0</td>\n      <td>2.109264</td>\n      <td>0.0</td>\n      <td>0.00000</td>\n      <td>0.0</td>\n      <td>0.000000</td>\n    </tr>\n  </tbody>\n</table>\n<p>13508 rows × 8 columns</p>\n</div>"
     },
     "execution_count": 5,
     "metadata": {},
     "output_type": "execute_result"
    }
   ],
   "source": [
    "conversion_dict = {\"xrn-1-5tera\": \"n2\",\n",
    "                   \"xrn-1-5tera-smg-6\": \"s6\"}\n",
    "ans = [y for x, y in compressed_df_genes_short.groupby(['lib', 't5'], as_index=False)]\n",
    "df_dict = {}\n",
    "for i, df in enumerate(ans):\n",
    "    lib = df.lib.unique()[0]\n",
    "    t5 = df.t5.unique()[0]\n",
    "    df = df[[\"chr_id\", \"gene_id\", \"gene_name\", \"gene_hits\", \"gene_rpm\"]]\n",
    "    df = df.rename(columns={col: f'{col}_{conversion_dict[lib]}_t5{t5}' for col in df.columns if col not in [\"chr_id\", \"gene_id\", \"gene_name\"]})\n",
    "    df_dict[(conversion_dict[lib], t5)] = df.set_index([\"chr_id\", \"gene_id\", \"gene_name\"])\n",
    "    print((conversion_dict[lib], t5))\n",
    "    print(df_dict[(conversion_dict[lib], t5)].query(\"gene_name == 'rpl-12'\"))\n",
    "\n",
    "super_df = pd.concat(df_dict.values(), axis=1, join='outer').fillna(0)\n",
    "super_df"
   ],
   "metadata": {
    "collapsed": false,
    "pycharm": {
     "name": "#%%\n"
    }
   }
  },
  {
   "cell_type": "code",
   "execution_count": 7,
   "outputs": [],
   "source": [
    "# # This is super hacky way to better handle zero values... by making them non-zero\n",
    "# read_counts_columns = [col for col in super_df.columns if \"hits\" in col]\n",
    "# for col in read_counts_columns:\n",
    "#     super_df[col] += 0.1"
   ],
   "metadata": {
    "collapsed": false,
    "pycharm": {
     "name": "#%%\n"
    }
   }
  },
  {
   "cell_type": "code",
   "execution_count": 8,
   "outputs": [],
   "source": [
    "# Below was all test code\n",
    "\n",
    "# def make_contingency_table(row, as_df=True):\n",
    "#     array = np.array([[row[\"gene_hits_n2_t5-\"][0], row[\"gene_hits_s6_t5-\"][0]],\n",
    "#                       [row[\"gene_hits_n2_t5+\"][0], row[\"gene_hits_s6_t5+\"][0]]])\n",
    "#     if as_df:\n",
    "#         little_df = pd.DataFrame(array, columns=['n2', 'smg-6'], index=['t5 -', 't5 +'])\n",
    "#         return little_df\n",
    "#     else:\n",
    "#         return array\n",
    "# \n",
    "# make_contingency_table(super_df.query(\"gene_name == 'aco-1'\"))\n",
    "\n",
    "# from scipy.stats import chi2_contingency, chisquare, fisher_exact\n",
    "# def test_gene_chi2(gene):\n",
    "#     example_case = make_contingency_table(super_df.query(f\"gene_name == '{gene}'\"))\n",
    "#     print(f\"{gene}:\")\n",
    "#     print(example_case)\n",
    "#     chi2, p, deg_of_free, expected = chi2_contingency(np.array(example_case))\n",
    "#     print(f\"{'chi2':>20} = {chi2:.6f}\\n\"\n",
    "#           f\"{'p value':>20} = {p:.3g}\\n\"\n",
    "#           f\"{'degrees of freedom':>20} = {deg_of_free:.6f}\\n\"\n",
    "#           #f\"{'expected:':>20}\\n{expected}\"\n",
    "#           )\n",
    "# \n",
    "# # Example case:\n",
    "# example_genes = ['acdh-1', 'xrn-1', 'nduo-3', 'rpl-22', 'ets-4', 'ubl-1', 'rpl-12'\n",
    "#                                                                           ]\n",
    "# for example_gene in example_genes:\n",
    "#     test_gene_chi2(example_gene)"
   ],
   "metadata": {
    "collapsed": false,
    "pycharm": {
     "name": "#%%\n"
    }
   }
  },
  {
   "cell_type": "code",
   "execution_count": 6,
   "outputs": [
    {
     "name": "stderr",
     "output_type": "stream",
     "text": [
      "Calculating Chi Squared: 100%|██████████| 13508/13508 [00:01<00:00, 7911.37it/s]\n",
      "Calculating Fisher's exact: 100%|██████████| 13508/13508 [00:01<00:00, 10381.33it/s]\n",
      "Calculating Barnard's exact: 100%|██████████| 13508/13508 [00:15<00:00, 888.85it/s] "
     ]
    },
    {
     "name": "stdout",
     "output_type": "stream",
     "text": [
      "done.\n"
     ]
    },
    {
     "name": "stderr",
     "output_type": "stream",
     "text": [
      "\n"
     ]
    }
   ],
   "source": [
    "from scipy.stats import chi2_contingency, chisquare, fisher_exact, boschloo_exact, barnard_exact\n",
    "def row_chi2(row):\n",
    "    array = np.array([[row[\"gene_hits_n2_t5-\"], row[\"gene_hits_s6_t5-\"]],\n",
    "                      [row[\"gene_hits_n2_t5+\"], row[\"gene_hits_s6_t5+\"]]])\n",
    "    try:\n",
    "        chi2, p, deg_of_free, expected = chi2_contingency(array)\n",
    "        return chi2, p\n",
    "    except ValueError:\n",
    "        return None, None\n",
    "\n",
    "\n",
    "def row_fishers_exact(row, hits_or_rpm='hits', alternative='two-sided'):\n",
    "    array = np.array([[row[f\"gene_{hits_or_rpm}_n2_t5-\"], row[f\"gene_{hits_or_rpm}_s6_t5-\"]],\n",
    "                      [row[f\"gene_{hits_or_rpm}_n2_t5+\"], row[f\"gene_{hits_or_rpm}_s6_t5+\"]]])\n",
    "    if alternative not in ['two-sided', 'greater', 'less']:\n",
    "        raise KeyError(f\"Please use 'two-sided', 'greater', or 'less' for the alternative hypothesis input for fisher's exact test!!\")\n",
    "    odds_ratio, p_value = fisher_exact(array, alternative=alternative)\n",
    "    return odds_ratio, p_value\n",
    "\n",
    "def row_boschloo_exact(row, hits_or_rpm='hits', alternative='two-sided', sampling_points=32):\n",
    "    array = np.array([[row[f\"gene_{hits_or_rpm}_n2_t5-\"], row[f\"gene_{hits_or_rpm}_s6_t5-\"]],\n",
    "                      [row[f\"gene_{hits_or_rpm}_n2_t5+\"], row[f\"gene_{hits_or_rpm}_s6_t5+\"]]])\n",
    "    if alternative not in ['two-sided', 'greater', 'less']:\n",
    "        raise KeyError(f\"Please use 'two-sided', 'greater', or 'less' for the alternative hypothesis input for Boschloo's exact test!!\")\n",
    "    boschloo_result = boschloo_exact(array, alternative=alternative, n=sampling_points)\n",
    "    return boschloo_result.statistic, boschloo_result.pvalue\n",
    "\n",
    "def row_barnard_exact(row, hits_or_rpm='hits', alternative='two-sided', sampling_points=32):\n",
    "    array = np.array([[row[f\"gene_{hits_or_rpm}_n2_t5-\"], row[f\"gene_{hits_or_rpm}_s6_t5-\"]],\n",
    "                      [row[f\"gene_{hits_or_rpm}_n2_t5+\"], row[f\"gene_{hits_or_rpm}_s6_t5+\"]]])\n",
    "    if alternative not in ['two-sided', 'greater', 'less']:\n",
    "        raise KeyError(f\"Please use 'two-sided', 'greater', or 'less' for the alternative hypothesis input for Barnard's exact test!!\")\n",
    "    barnard_result = barnard_exact(array, alternative=alternative, n=sampling_points)\n",
    "    return barnard_result.statistic, barnard_result.pvalue\n",
    "\n",
    "\n",
    "tqdm.pandas(desc=\"Calculating Chi Squared\")\n",
    "super_df[[\"chi2_test_result\", \"chi2_p_value\"]] = super_df.progress_apply(lambda row: row_chi2(row), axis=1, result_type=\"expand\")\n",
    "\n",
    "tqdm.pandas(desc=\"Calculating Fisher's exact\")\n",
    "super_df[[\"fishers_test_result\", \"fishers_p_value\"]] = super_df.progress_apply(lambda row: row_fishers_exact(row, hits_or_rpm='hits', alternative='less'), axis=1, result_type=\"expand\")\n",
    "\n",
    "# tqdm.pandas(desc=\"Calculating Barnard's exact\")\n",
    "# super_df[[\"barnard_test_result\", \"barnard_p_value\"]] = super_df.progress_apply(lambda row: row_barnard_exact(row, hits_or_rpm='hits', alternative='less', sampling_points=2), axis=1, result_type=\"expand\")\n",
    "\n",
    "print('done.')"
   ],
   "metadata": {
    "collapsed": false,
    "pycharm": {
     "name": "#%%\n"
    }
   }
  },
  {
   "cell_type": "code",
   "execution_count": 7,
   "outputs": [
    {
     "name": "stderr",
     "output_type": "stream",
     "text": [
      "/usr/local/lib/python3.8/dist-packages/pandas/core/arraylike.py:364: RuntimeWarning:\n",
      "\n",
      "divide by zero encountered in log2\n",
      "\n"
     ]
    }
   ],
   "source": [
    "super_df[\"n2_fraction_adapted\"] = super_df[\"gene_rpm_n2_t5+\"] / (super_df[\"gene_rpm_n2_t5+\"] + super_df[\"gene_rpm_n2_t5-\"])\n",
    "super_df[\"s6_fraction_adapted\"] = super_df[\"gene_rpm_s6_t5+\"] / (super_df[\"gene_rpm_s6_t5+\"] + super_df[\"gene_rpm_s6_t5-\"])\n",
    "\n",
    "super_df[\"delta_fraction_adapted\"] = super_df[\"n2_fraction_adapted\"] - super_df[\"s6_fraction_adapted\"]\n",
    "\n",
    "super_df[\"fraction_adapted_FC\"] = np.log2((super_df[\"n2_fraction_adapted\"] / super_df[\"s6_fraction_adapted\"]))\n",
    "super_df = super_df.replace([np.inf, -np.inf], [6, -6])\n",
    "\n",
    "super_df[\"unadapted_FC\"] = np.log2((super_df[\"gene_rpm_n2_t5-\"] / super_df[\"gene_rpm_s6_t5-\"]))"
   ],
   "metadata": {
    "collapsed": false,
    "pycharm": {
     "name": "#%%\n"
    }
   }
  },
  {
   "cell_type": "code",
   "execution_count": 8,
   "outputs": [
    {
     "name": "stdout",
     "output_type": "stream",
     "text": [
      "7499\n",
      "13508\n"
     ]
    },
    {
     "data": {
      "text/plain": "<Figure size 672x384 with 4 Axes>",
      "image/png": "[encoded data removed]"
     },
     "metadata": {
      "needs_background": "light"
     },
     "output_type": "display_data"
    }
   ],
   "source": [
    "# A lot of genes seem to be failing chi2 b/c of zero values. How many?:\n",
    "print(super_df[super_df.chi2_p_value.isna()].shape[0])\n",
    "print(super_df.chi2_p_value.shape[0])\n",
    "# print(super_df)\n",
    "\n",
    "def boolDF_to_upsetPlot(input_df: pd.DataFrame):\n",
    "    import upsetplot\n",
    "    upset_format_data = upsetplot.from_indicators(lambda lambda_df: lambda_df.select_dtypes(bool), data=input_df)\n",
    "    fig = plt.figure()\n",
    "    upset = upsetplot.UpSet(upset_format_data, sort_by='cardinality', sort_categories_by='cardinality', min_subset_size=0, min_degree=0, show_percentages=True)\n",
    "    upset.plot(fig=fig)\n",
    "    fig.savefig(f\"{get_dt(for_file=True)}_noReads_upset.png\")\n",
    "\n",
    "super_df[\"No t5+ reads n2\"] = super_df[\"gene_rpm_n2_t5+\"] == 0\n",
    "super_df[\"No t5- reads n2\"] = super_df[\"gene_rpm_n2_t5-\"] == 0\n",
    "super_df[\"No t5+ reads s6\"] = super_df[\"gene_rpm_s6_t5+\"] == 0\n",
    "super_df[\"No t5- reads s6\"] = super_df[\"gene_rpm_s6_t5-\"] == 0\n",
    "super_df['Failed chi2'] = super_df['chi2_p_value'].isna()\n",
    "super_df['Failed fishers'] = super_df['fishers_test_result'].isna()  # 13 genes?\n",
    "\n",
    "boolDF_to_upsetPlot(super_df)"
   ],
   "metadata": {
    "collapsed": false,
    "pycharm": {
     "name": "#%%\n"
    }
   }
  },
  {
   "cell_type": "code",
   "execution_count": 9,
   "outputs": [
    {
     "name": "stdout",
     "output_type": "stream",
     "text": [
      "P value cutoff of: 7.2e-05\n",
      "For both Chi2 and Fishers\n",
      "Couldn't find columns corrisponding to 'boschloo'!! Be sure spelling is correct!\n"
     ]
    },
    {
     "name": "stderr",
     "output_type": "stream",
     "text": [
      "/tmp/ipykernel_358472/3423177695.py:3: UserWarning:\n",
      "\n",
      "Boolean Series key will be reindexed to match DataFrame index.\n",
      "\n"
     ]
    }
   ],
   "source": [
    "# Drop genes that don't have adapted reads in both libraries, or don't have unadapted reads in smg-6\n",
    "# super_df =\\\n",
    "test_df = super_df[super_df[\"gene_hits_n2_t5+\"] != 0][super_df[\"gene_hits_s6_t5-\"] != 0]\n",
    "test_df.sort_values([\"gene_hits_s6_t5+\", \"gene_hits_n2_t5+\"])\n",
    "plot_df = test_df\n",
    "\n",
    "base_sig_cutoff = 0.4\n",
    "adjusted_sig_cutoff = base_sig_cutoff / plot_df.shape[0]\n",
    "print(f\"P value cutoff of: {adjusted_sig_cutoff:.3g}\\nFor both Chi2 and Fishers\")\n",
    "\n",
    "for stat_test in ['chi2', 'barnard', 'boschloo', 'fishers']:\n",
    "    try:\n",
    "        plot_df.sort_values(f\"{stat_test}_p_value\")\n",
    "        plot_df[f\"neg_log10__{stat_test}_p_value\"] = - np.log10(plot_df[f\"{stat_test}_p_value\"])\n",
    "        plot_df[f\"{stat_test}_significant\"] = plot_df[f\"{stat_test}_p_value\"] <= adjusted_sig_cutoff\n",
    "    except KeyError:\n",
    "        print(f\"Couldn't find columns corrisponding to '{stat_test}'!! Be sure spelling is correct!\")\n",
    "\n",
    "plot_df = plot_df.reset_index()\n",
    "plot_df['is_MtDNA'] = plot_df['chr_id'] == 'MtDNA'\n",
    "\n",
    "# Make a col of total read counts\n",
    "read_counts_columns = [col for col in plot_df.columns if \"hits\" in col]\n",
    "plot_df['total_gene_hits'] = plot_df[read_counts_columns].sum(axis=1)\n",
    "plot_df['log10_total_gene_hits'] = np.log10(plot_df['total_gene_hits'])\n",
    "read_counts_columns = [col for col in plot_df.columns if \"hits\" in col]\n",
    "# print(plot_df[read_counts_columns])\n",
    "\n",
    "# I want to color by genes from this pub:\n",
    "# Some NMD targets from: https://www.ncbi.nlm.nih.gov/pmc/articles/PMC5765348/\n",
    "list_from_Muir_et_al_2018 = [\n",
    "    # These are actually from Johns et al. 2007\n",
    "    \"rsp-2\", \"rsp-6\", \"rpl-12\",\n",
    "    # his one too but it's actually rpl-1 in worms? rpl-10A is human\n",
    "    \"rpl-10a\", \"rpl-1\",\n",
    "    # Okay, actually things from Muir et al. 2018 now (I think):\n",
    "    \"Y39B6A.21\", \"Y51A2D.13\", \"ZK970.7\",\n",
    "    \"B0495.8\", \"F45D11.1\", \"F53B2.8\",\n",
    "    \"fib-1\", \"fbxa-33\", \"linc-9\",\n",
    "    \"nhr-109\", \"pho-11\", \"pqn-70\",\n",
    "    \"tdp-1\", \"R08E5.3\",\n",
    "    # And a repeat from my hits:\n",
    "   \"rpl-7A\", \n",
    "   ]\n",
    "\n",
    "plot_df['Muir_etal_2018_target'] = plot_df['gene_name'].isin(list_from_Muir_et_al_2018)"
   ],
   "metadata": {
    "collapsed": false,
    "pycharm": {
     "name": "#%%\n"
    }
   }
  },
  {
   "cell_type": "code",
   "execution_count": 12,
   "outputs": [],
   "source": [
    "test = 'fishers'  # 'barnard' or 'fishers' or 'chi2'\n",
    "\n",
    "plot_df = plot_df.query(\"is_MtDNA == False\")\n",
    "plot_df = plot_df[~plot_df.gene_name.isin([\"F23A7.8\", \"xrn-1\", \"F23A7.4\"])]\n",
    "\n",
    "fig = px.scatter(plot_df,\n",
    "                 x=\"fraction_adapted_FC\",\n",
    "                 y=f\"neg_log10__{test}_p_value\",\n",
    "                 hover_name=\"gene_name\",\n",
    "                 hover_data=plot_df.columns,\n",
    "                 # color=\"log10_total_gene_hits\",\n",
    "                 color=f\"{test}_significant\",\n",
    "                 # color=\"unadapted_FC\",\n",
    "                 symbol=\"is_MtDNA\",\n",
    "                 symbol_sequence=[0, 3],\n",
    "                 template=\"plotly_white\",\n",
    "                 render_mode=\"svg\")\n",
    "fig.update_traces(marker={# 'color': 'black',\n",
    "                          'opacity': 0.8,\n",
    "                          'size': 8})\n",
    "fig.add_hline(-np.log10(adjusted_sig_cutoff), line={'color':'darkred'})\n",
    "fig.add_annotation(dict(x=0, y=-np.log10(adjusted_sig_cutoff), showarrow=False,\n",
    "                        text=f\"P value cutoff:<br>{adjusted_sig_cutoff:0.3g}\",\n",
    "                        textangle=0, xref=\"paper\", yref=\"y\", align='left'))\n",
    "fig.update_layout(\n",
    "                  # height=600, width=600,\n",
    "                  showlegend=False)\n",
    "# fig.add_vline(-np.log10(adjusted_sig_cutoff), line={'color':'darkred'})\n",
    "fig.write_image(f\"./{get_dt(for_file=True)}_{test}_significance.svg\")\n",
    "fig.write_html(f\"./{get_dt(for_file=True)}_{test}_significance.html\")\n",
    "fig.show()"
   ],
   "metadata": {
    "collapsed": false,
    "pycharm": {
     "name": "#%%\n"
    }
   }
  },
  {
   "cell_type": "code",
   "execution_count": 24,
   "outputs": [],
   "source": [
    "fig = px.scatter(plot_df,\n",
    "                 # x=\"gene_hits_s6_t5-\",\n",
    "                 # x=\"delta_fraction_adapted\",\n",
    "                 # y=\"neg_log10__fishers_p_value\",\n",
    "                 x=\"neg_log10__fishers_p_value\",\n",
    "                 y=\"neg_log10__barnard_p_value\",\n",
    "                 hover_name=\"gene_name\",\n",
    "                 hover_data=plot_df.columns,\n",
    "                 # color='Muir_etal_2018_target',\n",
    "                 symbol=\"is_MtDNA\",\n",
    "                 symbol_sequence=[0, 3],\n",
    "                 template=\"plotly_white\",\n",
    "                 log_x=True,\n",
    "                 log_y=True,\n",
    "                 render_mode=\"webgl\")\n",
    "fig.update_traces(marker={# 'color': 'black',\n",
    "                          'opacity': 0.8,\n",
    "                          'size': 8})\n",
    "# fig.update_xaxes(range=[np.log10(0.01), np.log10(1.01)])\n",
    "# fig.add_hline(-np.log10(adjusted_sig_cutoff), line={'color':'darkred'})\n",
    "fig"
   ],
   "metadata": {
    "collapsed": false,
    "pycharm": {
     "name": "#%%\n"
    }
   }
  },
  {
   "cell_type": "code",
   "execution_count": 115,
   "outputs": [
    {
     "data": {
      "text/plain": "     chr_id  gene_name         gene_id  gene_hits_n2_t5+  gene_hits_n2_t5-  gene_hits_s6_t5+  gene_hits_s6_t5-  n2_fraction_adapted  s6_fraction_adapted  fishers_p_value  fishers_significant\n5929      X    F23A7.8  WBGene00044638             226.0            1819.0              92.0            4474.0             0.110513             0.020149     1.798052e-51                 True\n4248  MtDNA      ctc-1  WBGene00010964             993.0            3201.0             364.0            2679.0             0.236767             0.119619     9.567619e-38                 True\n4249  MtDNA      ctc-2  WBGene00010965             569.0            1807.0             218.0            1763.0             0.239478             0.110045     2.341611e-29                 True\n1667     II      xrn-1  WBGene00012730             276.0            7772.0             162.0           13307.0             0.034294             0.012028     8.054807e-28                 True\n4240  MtDNA      ctb-1  WBGene00000829             420.0            1154.0             108.0             946.0             0.266836             0.102467     1.677713e-26                 True\n4244  MtDNA      atp-6  WBGene00010960             243.0            1851.0              88.0            2357.0             0.116046             0.035992     1.713955e-25                 True\n4687      V    F19B2.5  WBGene00008944              82.0             165.0               3.0             250.0             0.331984             0.011858     5.927090e-25                 True\n5604      X    F23A7.4  WBGene00009069             185.0            1355.0              90.0            2419.0             0.120130             0.035871     3.565870e-24                 True\n3377     IV     rpl-7A  WBGene00004419             230.0            1340.0               2.0             339.0             0.146497             0.005865     1.405409e-18                 True\n4245  MtDNA     nduo-2  WBGene00010961             201.0             444.0              55.0             417.0             0.311628             0.116525     3.592811e-15                 True\n4450      V      odc-1  WBGene00003844              95.0             189.0               3.0             130.0             0.334507             0.022556     6.638086e-15                 True\n5916      X  Y73B3A.18  WBGene00022219             113.0             169.0               0.0              71.0             0.400709             0.000000     3.135204e-14                 True\n794       I    C53H9.2  WBGene00016907              71.0             150.0               1.0              85.0             0.321267             0.011628     4.868226e-11                 True\n4251  MtDNA     nduo-5  WBGene00010967             175.0             940.0              83.0            1032.0             0.156951             0.074439     1.193842e-09                 True\n4247  MtDNA     nduo-4  WBGene00010963             262.0            1052.0             121.0             967.0             0.199391             0.111213     3.445078e-09                 True\n254       I     rpl-30  WBGene00004444              74.0             588.0               3.0             262.0             0.111782             0.011321     2.009519e-08                 True\n5168      V      tos-1  WBGene00019466              24.0              67.0               1.0              91.0             0.263736             0.010870     1.394933e-07                 True\n2406    III      ubl-1  WBGene00006725              84.0            1805.0               4.0             549.0             0.044468             0.007233     3.486435e-06                 True",
      "text/html": "<div>\n<style scoped>\n    .dataframe tbody tr th:only-of-type {\n        vertical-align: middle;\n    }\n\n    .dataframe tbody tr th {\n        vertical-align: top;\n    }\n\n    .dataframe thead th {\n        text-align: right;\n    }\n</style>\n<table border=\"1\" class=\"dataframe\">\n  <thead>\n    <tr style=\"text-align: right;\">\n      <th></th>\n      <th>chr_id</th>\n      <th>gene_name</th>\n      <th>gene_id</th>\n      <th>gene_hits_n2_t5+</th>\n      <th>gene_hits_n2_t5-</th>\n      <th>gene_hits_s6_t5+</th>\n      <th>gene_hits_s6_t5-</th>\n      <th>n2_fraction_adapted</th>\n      <th>s6_fraction_adapted</th>\n      <th>fishers_p_value</th>\n      <th>fishers_significant</th>\n    </tr>\n  </thead>\n  <tbody>\n    <tr>\n      <th>5929</th>\n      <td>X</td>\n      <td>F23A7.8</td>\n      <td>WBGene00044638</td>\n      <td>226.0</td>\n      <td>1819.0</td>\n      <td>92.0</td>\n      <td>4474.0</td>\n      <td>0.110513</td>\n      <td>0.020149</td>\n      <td>1.798052e-51</td>\n      <td>True</td>\n    </tr>\n    <tr>\n      <th>4248</th>\n      <td>MtDNA</td>\n      <td>ctc-1</td>\n      <td>WBGene00010964</td>\n      <td>993.0</td>\n      <td>3201.0</td>\n      <td>364.0</td>\n      <td>2679.0</td>\n      <td>0.236767</td>\n      <td>0.119619</td>\n      <td>9.567619e-38</td>\n      <td>True</td>\n    </tr>\n    <tr>\n      <th>4249</th>\n      <td>MtDNA</td>\n      <td>ctc-2</td>\n      <td>WBGene00010965</td>\n      <td>569.0</td>\n      <td>1807.0</td>\n      <td>218.0</td>\n      <td>1763.0</td>\n      <td>0.239478</td>\n      <td>0.110045</td>\n      <td>2.341611e-29</td>\n      <td>True</td>\n    </tr>\n    <tr>\n      <th>1667</th>\n      <td>II</td>\n      <td>xrn-1</td>\n      <td>WBGene00012730</td>\n      <td>276.0</td>\n      <td>7772.0</td>\n      <td>162.0</td>\n      <td>13307.0</td>\n      <td>0.034294</td>\n      <td>0.012028</td>\n      <td>8.054807e-28</td>\n      <td>True</td>\n    </tr>\n    <tr>\n      <th>4240</th>\n      <td>MtDNA</td>\n      <td>ctb-1</td>\n      <td>WBGene00000829</td>\n      <td>420.0</td>\n      <td>1154.0</td>\n      <td>108.0</td>\n      <td>946.0</td>\n      <td>0.266836</td>\n      <td>0.102467</td>\n      <td>1.677713e-26</td>\n      <td>True</td>\n    </tr>\n    <tr>\n      <th>4244</th>\n      <td>MtDNA</td>\n      <td>atp-6</td>\n      <td>WBGene00010960</td>\n      <td>243.0</td>\n      <td>1851.0</td>\n      <td>88.0</td>\n      <td>2357.0</td>\n      <td>0.116046</td>\n      <td>0.035992</td>\n      <td>1.713955e-25</td>\n      <td>True</td>\n    </tr>\n    <tr>\n      <th>4687</th>\n      <td>V</td>\n      <td>F19B2.5</td>\n      <td>WBGene00008944</td>\n      <td>82.0</td>\n      <td>165.0</td>\n      <td>3.0</td>\n      <td>250.0</td>\n      <td>0.331984</td>\n      <td>0.011858</td>\n      <td>5.927090e-25</td>\n      <td>True</td>\n    </tr>\n    <tr>\n      <th>5604</th>\n      <td>X</td>\n      <td>F23A7.4</td>\n      <td>WBGene00009069</td>\n      <td>185.0</td>\n      <td>1355.0</td>\n      <td>90.0</td>\n      <td>2419.0</td>\n      <td>0.120130</td>\n      <td>0.035871</td>\n      <td>3.565870e-24</td>\n      <td>True</td>\n    </tr>\n    <tr>\n      <th>3377</th>\n      <td>IV</td>\n      <td>rpl-7A</td>\n      <td>WBGene00004419</td>\n      <td>230.0</td>\n      <td>1340.0</td>\n      <td>2.0</td>\n      <td>339.0</td>\n      <td>0.146497</td>\n      <td>0.005865</td>\n      <td>1.405409e-18</td>\n      <td>True</td>\n    </tr>\n    <tr>\n      <th>4245</th>\n      <td>MtDNA</td>\n      <td>nduo-2</td>\n      <td>WBGene00010961</td>\n      <td>201.0</td>\n      <td>444.0</td>\n      <td>55.0</td>\n      <td>417.0</td>\n      <td>0.311628</td>\n      <td>0.116525</td>\n      <td>3.592811e-15</td>\n      <td>True</td>\n    </tr>\n    <tr>\n      <th>4450</th>\n      <td>V</td>\n      <td>odc-1</td>\n      <td>WBGene00003844</td>\n      <td>95.0</td>\n      <td>189.0</td>\n      <td>3.0</td>\n      <td>130.0</td>\n      <td>0.334507</td>\n      <td>0.022556</td>\n      <td>6.638086e-15</td>\n      <td>True</td>\n    </tr>\n    <tr>\n      <th>5916</th>\n      <td>X</td>\n      <td>Y73B3A.18</td>\n      <td>WBGene00022219</td>\n      <td>113.0</td>\n      <td>169.0</td>\n      <td>0.0</td>\n      <td>71.0</td>\n      <td>0.400709</td>\n      <td>0.000000</td>\n      <td>3.135204e-14</td>\n      <td>True</td>\n    </tr>\n    <tr>\n      <th>794</th>\n      <td>I</td>\n      <td>C53H9.2</td>\n      <td>WBGene00016907</td>\n      <td>71.0</td>\n      <td>150.0</td>\n      <td>1.0</td>\n      <td>85.0</td>\n      <td>0.321267</td>\n      <td>0.011628</td>\n      <td>4.868226e-11</td>\n      <td>True</td>\n    </tr>\n    <tr>\n      <th>4251</th>\n      <td>MtDNA</td>\n      <td>nduo-5</td>\n      <td>WBGene00010967</td>\n      <td>175.0</td>\n      <td>940.0</td>\n      <td>83.0</td>\n      <td>1032.0</td>\n      <td>0.156951</td>\n      <td>0.074439</td>\n      <td>1.193842e-09</td>\n      <td>True</td>\n    </tr>\n    <tr>\n      <th>4247</th>\n      <td>MtDNA</td>\n      <td>nduo-4</td>\n      <td>WBGene00010963</td>\n      <td>262.0</td>\n      <td>1052.0</td>\n      <td>121.0</td>\n      <td>967.0</td>\n      <td>0.199391</td>\n      <td>0.111213</td>\n      <td>3.445078e-09</td>\n      <td>True</td>\n    </tr>\n    <tr>\n      <th>254</th>\n      <td>I</td>\n      <td>rpl-30</td>\n      <td>WBGene00004444</td>\n      <td>74.0</td>\n      <td>588.0</td>\n      <td>3.0</td>\n      <td>262.0</td>\n      <td>0.111782</td>\n      <td>0.011321</td>\n      <td>2.009519e-08</td>\n      <td>True</td>\n    </tr>\n    <tr>\n      <th>5168</th>\n      <td>V</td>\n      <td>tos-1</td>\n      <td>WBGene00019466</td>\n      <td>24.0</td>\n      <td>67.0</td>\n      <td>1.0</td>\n      <td>91.0</td>\n      <td>0.263736</td>\n      <td>0.010870</td>\n      <td>1.394933e-07</td>\n      <td>True</td>\n    </tr>\n    <tr>\n      <th>2406</th>\n      <td>III</td>\n      <td>ubl-1</td>\n      <td>WBGene00006725</td>\n      <td>84.0</td>\n      <td>1805.0</td>\n      <td>4.0</td>\n      <td>549.0</td>\n      <td>0.044468</td>\n      <td>0.007233</td>\n      <td>3.486435e-06</td>\n      <td>True</td>\n    </tr>\n  </tbody>\n</table>\n</div>"
     },
     "execution_count": 115,
     "metadata": {},
     "output_type": "execute_result"
    }
   ],
   "source": [
    "plot_df[plot_df['fishers_significant']][['chr_id', 'gene_name', 'gene_id',\n",
    "                                         'gene_hits_n2_t5+', 'gene_hits_n2_t5-',\n",
    "                                         'gene_hits_s6_t5+', 'gene_hits_s6_t5-',\n",
    "                                         'n2_fraction_adapted',\n",
    "                                         's6_fraction_adapted',\n",
    "                                         'fishers_p_value',\n",
    "                                         'fishers_significant',\n",
    "                                           ]].sort_values(\"fishers_p_value\")"
   ],
   "metadata": {
    "collapsed": false,
    "pycharm": {
     "name": "#%%\n"
    }
   }
  },
  {
   "cell_type": "code",
   "execution_count": 46,
   "outputs": [
    {
     "name": "stdout",
     "output_type": "stream",
     "text": [
      "\n",
      "F23A7.8 (WBGene00044638) Chr: X\n",
      "  Fisher's p value: 1.78e-51\n",
      "            |   Wildtype:   |   smg-6 KO    |\n",
      "    Adapted:|   3836.751 rpm|  27564.537 rpm|\n",
      "  Unadapted:|    476.694 rpm|    566.817 rpm|\n",
      "\n",
      "xrn-1 (WBGene00012730) Chr: II\n",
      "  Fisher's p value: 5.3e-28\n",
      "            |   Wildtype:   |   smg-6 KO    |\n",
      "    Adapted:|  16393.201 rpm|  81985.090 rpm|\n",
      "  Unadapted:|    582.157 rpm|    998.090 rpm|\n",
      "\n",
      "F19B2.5 (WBGene00008944) Chr: V\n",
      "  Fisher's p value: 4.74e-25\n",
      "            |   Wildtype:   |   smg-6 KO    |\n",
      "    Adapted:|    348.029 rpm|   1540.262 rpm|\n",
      "  Unadapted:|    172.960 rpm|     18.483 rpm|\n",
      "\n",
      "F23A7.4 (WBGene00009069) Chr: X\n",
      "  Fisher's p value: 2.57e-24\n",
      "            |   Wildtype:   |   smg-6 KO    |\n",
      "    Adapted:|   2858.053 rpm|  14903.580 rpm|\n",
      "  Unadapted:|    390.214 rpm|    554.494 rpm|\n",
      "\n",
      "rpl-7A (WBGene00004419) Chr: IV\n",
      "  Fisher's p value: 9.88e-19\n",
      "            |   Wildtype:   |   smg-6 KO    |\n",
      "    Adapted:|   2826.414 rpm|   2088.596 rpm|\n",
      "  Unadapted:|    485.131 rpm|     12.322 rpm|\n",
      "\n",
      "odc-1 (WBGene00003844) Chr: V\n",
      "  Fisher's p value: 3.16e-15\n",
      "            |   Wildtype:   |   smg-6 KO    |\n",
      "    Adapted:|    398.651 rpm|    800.936 rpm|\n",
      "  Unadapted:|    200.380 rpm|     18.483 rpm|\n",
      "\n",
      "Y73B3A.18 (WBGene00022219) Chr: X\n",
      "  Fisher's p value: 2.35e-14\n",
      "            |   Wildtype:   |   smg-6 KO    |\n",
      "    Adapted:|    356.466 rpm|    437.435 rpm|\n",
      "  Unadapted:|    238.347 rpm|      0.000 rpm|\n",
      "\n",
      "C53H9.2 (WBGene00016907) Chr: I\n",
      "  Fisher's p value: 4.07e-11\n",
      "            |   Wildtype:   |   smg-6 KO    |\n",
      "    Adapted:|    316.390 rpm|    523.689 rpm|\n",
      "  Unadapted:|    149.758 rpm|      6.161 rpm|\n",
      "\n",
      "rpl-30 (WBGene00004444) Chr: I\n",
      "  Fisher's p value: 1.04e-08\n",
      "            |   Wildtype:   |   smg-6 KO    |\n",
      "    Adapted:|   1240.247 rpm|   1614.195 rpm|\n",
      "  Unadapted:|    156.086 rpm|     18.483 rpm|\n",
      "\n",
      "tos-1 (WBGene00019466) Chr: V\n",
      "  Fisher's p value: 1.34e-07\n",
      "            |   Wildtype:   |   smg-6 KO    |\n",
      "    Adapted:|    141.321 rpm|    560.656 rpm|\n",
      "  Unadapted:|     50.622 rpm|      6.161 rpm|\n",
      "\n",
      "ubl-1 (WBGene00006725) Chr: III\n",
      "  Fisher's p value: 2.29e-06\n",
      "            |   Wildtype:   |   smg-6 KO    |\n",
      "    Adapted:|   3807.222 rpm|   3382.416 rpm|\n",
      "  Unadapted:|    177.178 rpm|     24.644 rpm|\n",
      "\n",
      "rpl-3 (WBGene00004414) Chr: III\n",
      "  Fisher's p value: 1.22e-05\n",
      "            |   Wildtype:   |   smg-6 KO    |\n",
      "    Adapted:|   4028.694 rpm|   2717.023 rpm|\n",
      "  Unadapted:|    225.691 rpm|     30.805 rpm|\n",
      "\n",
      "K08D12.3 (WBGene00019537) Chr: IV\n",
      "  Fisher's p value: 1.79e-05\n",
      "            |   Wildtype:   |   smg-6 KO    |\n",
      "    Adapted:|    335.373 rpm|   1515.618 rpm|\n",
      "  Unadapted:|     25.311 rpm|      0.000 rpm|\n",
      "\n",
      "C45B2.8 (WBGene00016662) Chr: X\n",
      "  Fisher's p value: 3.13e-05\n",
      "            |   Wildtype:   |   smg-6 KO    |\n",
      "    Adapted:|     63.278 rpm|    184.831 rpm|\n",
      "  Unadapted:|     48.513 rpm|      6.161 rpm|\n",
      "\n",
      "col-182 (WBGene00000755) Chr: X\n",
      "  Fisher's p value: 3.47e-05\n",
      "            |   Wildtype:   |   smg-6 KO    |\n",
      "    Adapted:|    164.523 rpm|    104.738 rpm|\n",
      "  Unadapted:|    151.867 rpm|      0.000 rpm|\n",
      "\n",
      "K10C2.14 (WBGene00206388) Chr: X\n",
      "  Fisher's p value: 4.36e-05\n",
      "            |   Wildtype:   |   smg-6 KO    |\n",
      "    Adapted:|     12.656 rpm|    117.060 rpm|\n",
      "  Unadapted:|     21.093 rpm|      0.000 rpm|\n",
      "\n",
      " ###############\n",
      "\n",
      "rsp-2 (WBGene00004699) Chr: II\n",
      "  Fisher's p value: 0.111\n",
      "            |   Wildtype:   |   smg-6 KO    |\n",
      "    Adapted:|     90.698 rpm|     49.288 rpm|\n",
      "  Unadapted:|     31.639 rpm|      0.000 rpm|\n",
      "\n",
      "rsp-6 (WBGene00004703) Chr: IV\n",
      "  Fisher's p value: 0.0945\n",
      "            |   Wildtype:   |   smg-6 KO    |\n",
      "    Adapted:|     75.934 rpm|    117.060 rpm|\n",
      "  Unadapted:|     12.656 rpm|      0.000 rpm|\n",
      "\n",
      "rpl-12 (WBGene00004424) Chr: IV\n",
      "  Fisher's p value: 0.0232\n",
      "            |   Wildtype:   |   smg-6 KO    |\n",
      "    Adapted:|   3710.196 rpm|   3160.619 rpm|\n",
      "  Unadapted:|    103.354 rpm|     36.966 rpm|\n",
      "\n",
      "Failed to find entry for rpl-10a\n",
      "\n",
      "rpl-1 (WBGene00004412) Chr: I\n",
      "  Fisher's p value: 0.000365\n",
      "            |   Wildtype:   |   smg-6 KO    |\n",
      "    Adapted:|   4110.956 rpm|   2168.690 rpm|\n",
      "  Unadapted:|    225.691 rpm|     30.805 rpm|\n",
      "\n",
      " ###############\n",
      "\n",
      "Failed to find entry for Y39B6A.21\n",
      "\n",
      "Y51A2D.13 (WBGene00013080) Chr: V\n",
      "  Fisher's p value: 0.789\n",
      "            |   Wildtype:   |   smg-6 KO    |\n",
      "    Adapted:|     29.530 rpm|      6.161 rpm|\n",
      "  Unadapted:|      8.437 rpm|      0.000 rpm|\n",
      "\n",
      "Failed to find entry for ZK970.7\n",
      "\n",
      "B0495.8 (WBGene00015207) Chr: II\n",
      "  Fisher's p value: 0.941\n",
      "            |   Wildtype:   |   smg-6 KO    |\n",
      "    Adapted:|     31.639 rpm|      6.161 rpm|\n",
      "  Unadapted:|      2.109 rpm|      0.000 rpm|\n",
      "\n",
      "Failed to find entry for F45D11.1\n",
      "\n",
      "F53B2.8 (WBGene00009957) Chr: IV\n",
      "  Fisher's p value: 0.00223\n",
      "            |   Wildtype:   |   smg-6 KO    |\n",
      "    Adapted:|    191.943 rpm|    825.581 rpm|\n",
      "  Unadapted:|     29.530 rpm|     24.644 rpm|\n",
      "\n",
      "fib-1 (WBGene00001423) Chr: V\n",
      "  Fisher's p value: 0.0124\n",
      "            |   Wildtype:   |   smg-6 KO    |\n",
      "    Adapted:|    839.487 rpm|   1102.828 rpm|\n",
      "  Unadapted:|     35.857 rpm|      6.161 rpm|\n",
      "\n",
      "Failed to find entry for fbxa-33\n",
      "\n",
      "Failed to find entry for linc-9\n",
      "\n",
      "nhr-109 (WBGene00003699) Chr: II\n",
      "  Fisher's p value: 0.27\n",
      "            |   Wildtype:   |   smg-6 KO    |\n",
      "    Adapted:|     18.983 rpm|     36.966 rpm|\n",
      "  Unadapted:|      6.328 rpm|      0.000 rpm|\n",
      "\n",
      "pho-11 (WBGene00007331) Chr: II\n",
      "  Fisher's p value: 0.297\n",
      "            |   Wildtype:   |   smg-6 KO    |\n",
      "    Adapted:|    227.801 rpm|    154.026 rpm|\n",
      "  Unadapted:|     12.656 rpm|      0.000 rpm|\n",
      "\n",
      "pqn-70 (WBGene00004152) Chr: V\n",
      "  Fisher's p value: 0.0174\n",
      "            |   Wildtype:   |   smg-6 KO    |\n",
      "    Adapted:|     56.950 rpm|    135.543 rpm|\n",
      "  Unadapted:|     23.202 rpm|      6.161 rpm|\n",
      "\n",
      "tdp-1 (WBGene00006514) Chr: II\n",
      "  Fisher's p value: 0.669\n",
      "            |   Wildtype:   |   smg-6 KO    |\n",
      "    Adapted:|     44.295 rpm|     12.322 rpm|\n",
      "  Unadapted:|     10.546 rpm|      0.000 rpm|\n",
      "\n",
      "Failed to find entry for R08E5.3\n",
      "\n",
      "rpl-7A (WBGene00004419) Chr: IV\n",
      "  Fisher's p value: 9.88e-19\n",
      "            |   Wildtype:   |   smg-6 KO    |\n",
      "    Adapted:|   2826.414 rpm|   2088.596 rpm|\n",
      "  Unadapted:|    485.131 rpm|     12.322 rpm|\n",
      "\n",
      " ###############\n",
      "\n",
      "vig-1 (WBGene00006924) Chr: II\n",
      "  Fisher's p value: 0.0895\n",
      "            |   Wildtype:   |   smg-6 KO    |\n",
      "    Adapted:|   1214.936 rpm|    517.528 rpm|\n",
      "  Unadapted:|     37.967 rpm|      0.000 rpm|\n",
      "\n",
      "mak-1 (WBGene00010681) Chr: II\n",
      "  Fisher's p value: 0.155\n",
      "            |   Wildtype:   |   smg-6 KO    |\n",
      "    Adapted:|    124.447 rpm|     67.772 rpm|\n",
      "  Unadapted:|     25.311 rpm|      0.000 rpm|\n",
      "\n",
      "E02C12.8 (WBGene00017093) Chr: V\n",
      "  Fisher's p value: 0.044\n",
      "            |   Wildtype:   |   smg-6 KO    |\n",
      "    Adapted:|     54.841 rpm|    141.704 rpm|\n",
      "  Unadapted:|     31.639 rpm|     24.644 rpm|\n",
      "\n",
      "K11H12.3 (WBGene00019659) Chr: IV\n",
      "  Fisher's p value: 0.00542\n",
      "            |   Wildtype:   |   smg-6 KO    |\n",
      "    Adapted:|      8.437 rpm|     36.966 rpm|\n",
      "  Unadapted:|     21.093 rpm|      0.000 rpm|\n",
      "\n",
      "F14D7.6 (WBGene00008793) Chr: V\n",
      "  Fisher's p value: 0.138\n",
      "            |   Wildtype:   |   smg-6 KO    |\n",
      "    Adapted:|     25.311 rpm|     36.966 rpm|\n",
      "  Unadapted:|     12.656 rpm|      0.000 rpm|\n",
      "\n",
      "D1086.11 (WBGene00044081) Chr: V\n",
      "  Fisher's p value: 0.0596\n",
      "            |   Wildtype:   |   smg-6 KO    |\n",
      "    Adapted:|    234.128 rpm|    264.925 rpm|\n",
      "  Unadapted:|     29.530 rpm|      6.161 rpm|\n",
      "\n",
      "R06C1.4 (WBGene00011059) Chr: I\n",
      "  Fisher's p value: 0.00326\n",
      "            |   Wildtype:   |   smg-6 KO    |\n",
      "    Adapted:|    609.577 rpm|    850.225 rpm|\n",
      "  Unadapted:|     31.639 rpm|      0.000 rpm|\n",
      "['F23A7.8', 'xrn-1', 'F19B2.5', 'F23A7.4', 'rpl-7A', 'odc-1', 'Y73B3A.18', 'C53H9.2', 'rpl-30', 'tos-1', 'ubl-1', 'rpl-3', 'K08D12.3', 'C45B2.8', 'col-182', 'K10C2.14', 'rsp-2', 'rsp-6', 'rpl-12', 'rpl-10a', 'rpl-1', 'Y39B6A.21', 'Y51A2D.13', 'ZK970.7', 'B0495.8', 'F45D11.1', 'F53B2.8', 'fib-1', 'fbxa-33', 'linc-9', 'nhr-109', 'pho-11', 'pqn-70', 'tdp-1', 'R08E5.3', 'rpl-7A', 'vig-1', 'mak-1', 'E02C12.8', 'K11H12.3', 'F14D7.6', 'D1086.11', 'R06C1.4']\n"
     ]
    }
   ],
   "source": [
    "nmd_targets = plot_df[plot_df[\"fishers_significant\"]][['chr_id', 'gene_name', 'gene_id', 'fishers_p_value']].query(\"chr_id != 'MtDNA'\").sort_values('fishers_p_value')\n",
    "nmd_targets_list = nmd_targets.gene_name.to_list()\n",
    "\n",
    "# Some NMD targets from: https://www.ncbi.nlm.nih.gov/pmc/articles/PMC5765348/\n",
    "list_from_Muir_et_al_2018 = [\n",
    "    # These are actually from Johns et al. 2007\n",
    "    \"rsp-2\", \"rsp-6\", \"rpl-12\",\n",
    "    # his one too but it's actually rpl-1 in worms? rpl-10A is human\n",
    "    \"rpl-10a\", \"rpl-1\",\n",
    "    # Okay, actually things from Muir et al. 2018 now (I think):\n",
    "    \"Y39B6A.21\", \"Y51A2D.13\", \"ZK970.7\",\n",
    "    \"B0495.8\", \"F45D11.1\", \"F53B2.8\",\n",
    "    \"fib-1\", \"fbxa-33\", \"linc-9\",\n",
    "    \"nhr-109\", \"pho-11\", \"pqn-70\",\n",
    "    \"tdp-1\", \"R08E5.3\",\n",
    "    # And a repeat from my hits:\n",
    "   \"rpl-7A\",\n",
    "   ]\n",
    "\n",
    "for gene in list_from_Muir_et_al_2018:\n",
    "    nmd_targets_list.append(gene)\n",
    "\n",
    "\n",
    "# Some genes that I ID'ed in earlier stages of this process, that might be of interest!\n",
    "my_genes_of_interest = [\"vig-1\", \"mak-1\",  # these appear to have 3' UTR EJC isoforms?\n",
    "                        \"E02C12.8\", \"K11H12.3\", \"F14D7.6\",  # This looked interesting\n",
    "                        \"D1086.11\", \"R06C1.4\",  # Both have 3' EJCs and look NMD sensitive\n",
    "                       ]\n",
    "for gene in my_genes_of_interest:\n",
    "    nmd_targets_list.append(gene)\n",
    "with open(f\"/home/marcus/Documents/{get_dt(for_file=True)}_myTargets\", 'w') as out_file:\n",
    "    for gene_name in nmd_targets_list:\n",
    "        hits_or_rpm = 'rpm'\n",
    "        if gene_name in [\"vig-1\", \"rsp-2\", \"Y39B6A.21\"]:\n",
    "            print(\"\\n\", \"#\" * 15)\n",
    "        try:\n",
    "            row = plot_df.query(f'gene_name == \"{gene_name}\"').reset_index()\n",
    "            out_file.write(f\"{row['gene_id'][0]}\\t{row['gene_name'][0]}\\n\")\n",
    "            array = np.array([[row[f\"gene_{hits_or_rpm}_n2_t5-\"][0],\n",
    "                           row[f\"gene_{hits_or_rpm}_s6_t5-\"][0]],\n",
    "                          [row[f\"gene_{hits_or_rpm}_n2_t5+\"][0],\n",
    "                           row[f\"gene_{hits_or_rpm}_s6_t5+\"][0]]])\n",
    "            little_df = pd.DataFrame(array, columns=['n2', 'smg-6'], index=['t5 -', 't5 +'])\n",
    "            print(f\"\\n{gene_name} ({row['gene_id'][0]}) Chr: {row['chr_id'][0]}\")\n",
    "            print(f\"  Fisher's p value: {row['fishers_p_value'][0]:0.3g}\")\n",
    "\n",
    "            column_width = 15\n",
    "            print(f\"            |{'Wildtype:':^{column_width}}|{'smg-6 KO':^{column_width}}|\")\n",
    "            print(f\"    Adapted:|{array[0][0]:>{column_width-4}.3f} rpm|{array[0][1]:>{column_width-4}.3f} rpm|\")\n",
    "            print(f\"  Unadapted:|{array[1][0]:>{column_width-4}.3f} rpm|{array[1][1]:>{column_width-4}.3f} rpm|\")\n",
    "        except KeyError:\n",
    "            print(f\"\\nFailed to find entry for {gene_name}\")\n",
    "    print(nmd_targets_list)"
   ],
   "metadata": {
    "collapsed": false,
    "pycharm": {
     "name": "#%%\n"
    }
   }
  },
  {
   "cell_type": "code",
   "execution_count": 162,
   "outputs": [
    {
     "name": "stdout",
     "output_type": "stream",
     "text": [
      "Dash app running on http://127.0.0.1:8050/\n"
     ]
    }
   ],
   "source": [
    "def with_dash_for_click_to_copy(input_df: pd.DataFrame):\n",
    "    from jupyter_dash import JupyterDash\n",
    "    import json\n",
    "    from dash import dcc, html, callback_context, dash_table\n",
    "    import dash_bootstrap_components as dbc\n",
    "    from dash.dependencies import Input, Output\n",
    "    import pyperclip\n",
    "    from webbrowser import open as open_webpage\n",
    "    # Example for coping to clipboard:\n",
    "    # pyperclip.copy('The text to be copied to the clipboard.')\n",
    "    \n",
    "    merge_df = input_df.copy()\n",
    "    \n",
    "    app = JupyterDash(__name__)\n",
    "\n",
    "    app.layout = dbc.Container(\n",
    "        [\n",
    "            dbc.Row(\n",
    "                # Top row w/ buttons and slider\n",
    "                [\n",
    "                    dbc.Col(\n",
    "                        [\n",
    "                            dcc.Dropdown(\n",
    "                                id='x_col',\n",
    "                                options=[{'label': i, 'value': i} for i in merge_df.columns],\n",
    "                                value=\"fraction_adapted_FC\"),\n",
    "                            dcc.Dropdown(\n",
    "                                id='y_col',\n",
    "                                options=[{'label': i, 'value': i} for i in merge_df.columns],\n",
    "                                value=\"neg_log10__fishers_p_value\"),\n",
    "                        ],\n",
    "                        width=8,\n",
    "                        style={'height': '100%'}\n",
    "                    ),\n",
    "                    dbc.Col(\n",
    "                        [\n",
    "                            html.Button(\n",
    "                                'Copy selected GENE_NAME',\n",
    "                                id='btn-nclicks-2',\n",
    "                                n_clicks=0),\n",
    "                            html.Button(\n",
    "                                'Copy selected WBGENE_ID',\n",
    "                                id='btn-nclicks-1',\n",
    "                                n_clicks=0),\n",
    "                            html.Button(\n",
    "                                'Open WormBase',\n",
    "                                id='btn-nclicks-3',\n",
    "                                n_clicks=0),\n",
    "                            html.Div(\n",
    "                                id='container-button-timestamp'\n",
    "                            ),\n",
    "                            html.Div(\n",
    "                                id='selected-data'\n",
    "                            ),\n",
    "                            html.Div(\n",
    "                                id='contingency-table',\n",
    "                            ),\n",
    "                        ],\n",
    "                        width=4,\n",
    "                        style={'height': '100%'}\n",
    "                    ),\n",
    "                ],\n",
    "                className=\"h-10\",\n",
    "            ),\n",
    "            dbc.Row(\n",
    "                # Row for graph!\n",
    "                [\n",
    "                    dcc.Graph(id='primary-scatter',\n",
    "                              style=\n",
    "                              {\n",
    "                                  'width': '120vh',\n",
    "                                  'height': '80vh',\n",
    "                              }\n",
    "                              ),\n",
    "                ],\n",
    "                className='h-60',\n",
    "            ),\n",
    "        ],\n",
    "        style={'height': '100%', 'width': '100%'},\n",
    "    )\n",
    "\n",
    "    @app.callback(Output('primary-scatter', 'figure'),\n",
    "                  [Input('x_col', 'value'),\n",
    "                   Input('y_col', 'value'), ])\n",
    "    def main_plot(x_col, y_col):\n",
    "        fig = px.scatter(merge_df,\n",
    "                         x=x_col,\n",
    "                         y=y_col,\n",
    "                         hover_name=\"gene_name\",\n",
    "                         # hover_data=[merge_df.columns],\n",
    "                         # color=\"fishers_significant\",\n",
    "                         symbol=\"is_MtDNA\",\n",
    "                         symbol_sequence=[0, 3],\n",
    "                         template=\"plotly_white\",\n",
    "                         opacity=0.8,\n",
    "                          custom_data=[\"gene_id\", \"gene_name\"])\n",
    "        fig.update_traces(marker={'color': 'black',\n",
    "                                  'opacity': 0.5,\n",
    "                                  'size': 8})\n",
    "        fig.add_hline(-np.log10(adjusted_sig_cutoff), line={'color':'darkred'})\n",
    "        # fig.add_vline(-np.log10(adjusted_sig_cutoff), line={'color':'darkred'})\n",
    "        fig.update_layout(margin={'l': 40, 'b': 40, 't': 10, 'r': 0},\n",
    "                          hovermode='closest', clickmode=\"event+select\",\n",
    "                          template='plotly_white')\n",
    "        # fig.update_xaxes(type='log')\n",
    "        # fig.update_yaxes(type='log')\n",
    "        return fig\n",
    "\n",
    "    @app.callback(\n",
    "        Output('selected-data', 'children'),\n",
    "        [Input('primary-scatter', 'selectedData')])\n",
    "    def display_selected_data(selectedData):\n",
    "        if not selectedData:\n",
    "            return \"No points selected\"\n",
    "        return_data = []\n",
    "        for point_dict in selectedData['points']:\n",
    "            gene_id, gene_name = point_dict['customdata'][0:2]\n",
    "            # print(point_dict['customdata'])\n",
    "            return_data.append({'Gene Name': gene_name,\n",
    "                                'Gene ID': gene_id})\n",
    "        return json.dumps(return_data, indent=2)\n",
    "    \n",
    "    @app.callback(\n",
    "        Output('contingency-table', 'children'),\n",
    "        [Input('primary-scatter', 'selectedData')])\n",
    "    def display_selected_table(selectedData):\n",
    "        if not selectedData:\n",
    "            return \"No points selected\"\n",
    "        return_tables =[]\n",
    "        for point_dict in selectedData['points']:\n",
    "            gene_id, gene_name = point_dict['customdata'][0:2]\n",
    "            \n",
    "            row = plot_df.query(f'gene_id == \"{gene_id}\"').reset_index()\n",
    "            # array = np.array([[row[\"gene_hits_n2_t5-\"][0],\n",
    "            #                    row[\"gene_hits_s6_t5-\"][0]],\n",
    "            #                   [row[\"gene_hits_n2_t5+\"][0],\n",
    "            #                    row[\"gene_hits_s6_t5+\"][0]]])\n",
    "            array = np.array([[row[\"gene_rpm_n2_t5-\"][0],\n",
    "                   row[\"gene_rpm_s6_t5-\"][0]],\n",
    "                  [row[\"gene_rpm_n2_t5+\"][0],\n",
    "                   row[\"gene_rpm_s6_t5+\"][0]]])\n",
    "            pd.options.display.float_format = '{:,.2g}'.format\n",
    "            little_df = pd.DataFrame(array, columns=['n2', 'smg-6'], index=['t5 -', 't5 +']).reset_index()\n",
    "            little_df_columns = [{\"name\": i, \"id\": i} for i in little_df.columns]\n",
    "            table = dash_table.DataTable(data=little_df.to_dict('records'), \n",
    "                                         columns=little_df_columns,\n",
    "                                         )\n",
    "            return [table]\n",
    "\n",
    "    @app.callback(\n",
    "        Output('container-button-timestamp', 'children'),\n",
    "        [Input('btn-nclicks-1', 'n_clicks'),\n",
    "         Input('btn-nclicks-2', 'n_clicks'),\n",
    "         Input('btn-nclicks-3', 'n_clicks'),\n",
    "         Input('primary-scatter', 'figure'),\n",
    "         Input('primary-scatter', 'selectedData')])\n",
    "    def button_click(gene_id, gene_name, open_worm_base, scatter_fig, selectedData):\n",
    "        changed_id = [p['prop_id'] for p in callback_context.triggered][0]\n",
    "        if not selectedData:\n",
    "            return_data = {'gene_name': [],\n",
    "                           'gene_id': []}\n",
    "        else:\n",
    "            return_data = {'gene_name': [],\n",
    "                           'gene_id': []}\n",
    "            for point_dict in selectedData['points']:\n",
    "                gene_id, gene_name = point_dict['customdata'][0:2]\n",
    "                return_data[\"gene_name\"].append(gene_name)\n",
    "                return_data[\"gene_id\"].append(gene_id)\n",
    "        if 'btn-nclicks-2' in changed_id:\n",
    "            msg = 'Copy gene_id'\n",
    "            # print(scatter_fig)\n",
    "            if len(return_data['gene_name']) == 1:\n",
    "                pyperclip.copy(return_data['gene_name'][0])\n",
    "            elif len(return_data['gene_name']) > 1:\n",
    "                pyperclip.copy(', '.join(return_data['gene_name']))\n",
    "        elif 'btn-nclicks-1' in changed_id:\n",
    "            msg = 'Copy gene_name'\n",
    "            if len(return_data['gene_id']) == 1:\n",
    "                pyperclip.copy(return_data['gene_id'][0])\n",
    "            elif len(return_data['gene_id']) > 1:\n",
    "                pyperclip.copy(', '.join(return_data['gene_id']))\n",
    "        elif 'btn-nclicks-3' in changed_id:\n",
    "            msg = 'Open worm base'\n",
    "            if len(return_data['gene_id']) == 1:\n",
    "                wbgene_id = return_data['gene_id'][0]\n",
    "                open_webpage(f\"https://wormbase.org/species/c_elegans/gene/{wbgene_id}\", new=1)\n",
    "            elif len(return_data['gene_id']) > 1:\n",
    "                for i, wbgene_id in enumerate(return_data['gene_id']):\n",
    "                    if i == 0:\n",
    "                        open_webpage(f\"https://wormbase.org/species/c_elegans/gene/{wbgene_id}\", new=1)\n",
    "                    else:\n",
    "                        open_webpage(f\"https://wormbase.org/species/c_elegans/gene/{wbgene_id}\", new=2)\n",
    "        else:\n",
    "            msg = '*None of the buttons*'\n",
    "        return html.Div(f\"{msg} was most recently clicked\")\n",
    "\n",
    "    app.run_server(mode='external')\n",
    "\n",
    "# This doesn't work lol\n",
    "with_dash_for_click_to_copy(plot_df.reset_index())"
   ],
   "metadata": {
    "collapsed": false,
    "pycharm": {
     "name": "#%%\n"
    }
   }
  },
  {
   "cell_type": "code",
   "execution_count": 38,
   "outputs": [
    {
     "data": {
      "text/plain": "          n2  smg-6\nt5 -  1805.0  549.0\nt5 +    84.0    4.0",
      "text/html": "<div>\n<style scoped>\n    .dataframe tbody tr th:only-of-type {\n        vertical-align: middle;\n    }\n\n    .dataframe tbody tr th {\n        vertical-align: top;\n    }\n\n    .dataframe thead th {\n        text-align: right;\n    }\n</style>\n<table border=\"1\" class=\"dataframe\">\n  <thead>\n    <tr style=\"text-align: right;\">\n      <th></th>\n      <th>n2</th>\n      <th>smg-6</th>\n    </tr>\n  </thead>\n  <tbody>\n    <tr>\n      <th>t5 -</th>\n      <td>1805.0</td>\n      <td>549.0</td>\n    </tr>\n    <tr>\n      <th>t5 +</th>\n      <td>84.0</td>\n      <td>4.0</td>\n    </tr>\n  </tbody>\n</table>\n</div>"
     },
     "execution_count": 38,
     "metadata": {},
     "output_type": "execute_result"
    }
   ],
   "source": [
    "gene_name = 'ubl-1'\n",
    "hits_or_rpm = 'hits'\n",
    "\n",
    "row = plot_df.query(f'gene_name == \"{gene_name}\"').reset_index()\n",
    "array = np.array([[row[f\"gene_{hits_or_rpm}_n2_t5-\"][0],\n",
    "                   row[f\"gene_{hits_or_rpm}_s6_t5-\"][0]],\n",
    "                  [row[f\"gene_{hits_or_rpm}_n2_t5+\"][0],\n",
    "                   row[f\"gene_{hits_or_rpm}_s6_t5+\"][0]]])\n",
    "little_df = pd.DataFrame(array, columns=['n2', 'smg-6'], index=['t5 -', 't5 +'])\n",
    "little_df"
   ],
   "metadata": {
    "collapsed": false,
    "pycharm": {
     "name": "#%%\n"
    }
   }
  },
  {
   "cell_type": "code",
   "execution_count": null,
   "outputs": [],
   "source": [],
   "metadata": {
    "collapsed": false,
    "pycharm": {
     "name": "#%%\n"
    }
   }
  }
 ],
 "metadata": {
  "kernelspec": {
   "display_name": "Python 3",
   "language": "python",
   "name": "python3"
  },
  "language_info": {
   "codemirror_mode": {
    "name": "ipython",
    "version": 2
   },
   "file_extension": ".py",
   "mimetype": "text/x-python",
   "name": "python",
   "nbconvert_exporter": "python",
   "pygments_lexer": "ipython2",
   "version": "2.7.6"
  }
 },
 "nbformat": 4,
 "nbformat_minor": 0
}