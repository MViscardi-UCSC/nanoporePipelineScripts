{
 "cells": [
  {
   "cell_type": "markdown",
   "source": [
    "# gtfParsingForDecapping.ipynb\n",
    "## Marcus Viscardi,    April 15, 2024\n",
    "\n",
    "Working in `decappingQuantification.ipynb`, I realized that we need to be able to calculate distances in transcriptome space from the genomic coordinates of our 5TERA libraries.\n",
    "\n",
    "To do this, we'll want to be able to \"walk\" along the GTF file as we move through the genomic space, then subtract out the intronic regions to get the distance along the transcript.\n",
    "\n",
    "A big problem with this is gonna be the fact that most genes have multiple transcripts...\n",
    "\n",
    "For our NMD guyz, we have previously binned them into target, non-target, and ambiguous. With this, we can figure out which transcripts in the GTF are the NMD targets and the non-targets then work from there? Feels crazy... And doesn't handle the multiple non-target transcripts...\n",
    "\n",
    "***\n",
    "\n",
    "Here, we want to see if we can parse the GTF file into something that will be useful for this purpose!"
   ],
   "metadata": {
    "collapsed": false
   },
   "id": "22675a3445358ce7"
  },
  {
   "cell_type": "code",
   "outputs": [
    {
     "name": "stderr",
     "output_type": "stream",
     "text": [
      "ic: 2024-04-15 11:30:16 | > 'Imports done!'\n"
     ]
    }
   ],
   "source": [
    "import nanoporePipelineCommon as npCommon\n",
    "\n",
    "import numpy as np\n",
    "import pandas as pd\n",
    "\n",
    "import seaborn as sea\n",
    "import matplotlib.pyplot as plt\n",
    "import plotly.express as px\n",
    "import plotly.graph_objects as go\n",
    "\n",
    "from tqdm.auto import tqdm\n",
    "\n",
    "from pprint import pprint\n",
    "\n",
    "from pathlib import Path\n",
    "\n",
    "from icecream import ic\n",
    "from datetime import datetime\n",
    "\n",
    "pd.set_option('display.width', 200)\n",
    "pd.set_option('display.max_columns', None)\n",
    "\n",
    "def __time_formatter__():\n",
    "    now = datetime.now().strftime(\"%Y-%m-%d %H:%M:%S\")\n",
    "    return f\"ic: {now} | > \"\n",
    "ic.configureOutput(prefix=__time_formatter__)\n",
    "\n",
    "_ = ic(\"Imports done!\")"
   ],
   "metadata": {
    "collapsed": false,
    "ExecuteTime": {
     "end_time": "2024-04-15T18:30:16.965323571Z",
     "start_time": "2024-04-15T18:30:16.826258107Z"
    }
   },
   "id": "dfa2d3cb19419dde",
   "execution_count": 29
  },
  {
   "cell_type": "code",
   "execution_count": 4,
   "id": "initial_id",
   "metadata": {
    "collapsed": true,
    "ExecuteTime": {
     "end_time": "2024-04-15T17:30:38.606876664Z",
     "start_time": "2024-04-15T17:30:38.331183881Z"
    }
   },
   "outputs": [
    {
     "data": {
      "text/plain": "        chr    source          feature    start      end score strand frame gene_name         gene_id  gene_version gene_source    gene_biotype transcript_id transcript_source transcript_biotype  \\\n654649  III  WormBase             gene  3068306  3069210     .      +     .     ubl-1  WBGene00006725             1    WormBase  protein_coding          None              None               None   \n654650  III  WormBase       transcript  3068306  3069209     .      +     .     ubl-1  WBGene00006725             1    WormBase  protein_coding   H06I04.4a.3          WormBase     protein_coding   \n654651  III  WormBase             exon  3068306  3068467     .      +     .     ubl-1  WBGene00006725             1    WormBase  protein_coding   H06I04.4a.3          WormBase     protein_coding   \n654652  III  WormBase              CDS  3068335  3068467     .      +     0     ubl-1  WBGene00006725             1    WormBase  protein_coding   H06I04.4a.3          WormBase     protein_coding   \n654653  III  WormBase      start_codon  3068335  3068337     .      +     0     ubl-1  WBGene00006725             1    WormBase  protein_coding   H06I04.4a.3          WormBase     protein_coding   \n654654  III  WormBase             exon  3068574  3068743     .      +     .     ubl-1  WBGene00006725             1    WormBase  protein_coding   H06I04.4a.3          WormBase     protein_coding   \n654655  III  WormBase              CDS  3068574  3068743     .      +     2     ubl-1  WBGene00006725             1    WormBase  protein_coding   H06I04.4a.3          WormBase     protein_coding   \n654656  III  WormBase             exon  3068973  3069209     .      +     .     ubl-1  WBGene00006725             1    WormBase  protein_coding   H06I04.4a.3          WormBase     protein_coding   \n654657  III  WormBase              CDS  3068973  3069158     .      +     0     ubl-1  WBGene00006725             1    WormBase  protein_coding   H06I04.4a.3          WormBase     protein_coding   \n654658  III  WormBase       stop_codon  3069159  3069161     .      +     0     ubl-1  WBGene00006725             1    WormBase  protein_coding   H06I04.4a.3          WormBase     protein_coding   \n654659  III  WormBase   five_prime_utr  3068306  3068334     .      +     .     ubl-1  WBGene00006725             1    WormBase  protein_coding   H06I04.4a.3          WormBase     protein_coding   \n654660  III  WormBase  three_prime_utr  3069162  3069209     .      +     .     ubl-1  WBGene00006725             1    WormBase  protein_coding   H06I04.4a.3          WormBase     protein_coding   \n654661  III  WormBase       transcript  3068310  3069200     .      +     .     ubl-1  WBGene00006725             1    WormBase  protein_coding   H06I04.4b.1          WormBase     protein_coding   \n654662  III  WormBase             exon  3068310  3068467     .      +     .     ubl-1  WBGene00006725             1    WormBase  protein_coding   H06I04.4b.1          WormBase     protein_coding   \n654663  III  WormBase              CDS  3068335  3068467     .      +     0     ubl-1  WBGene00006725             1    WormBase  protein_coding   H06I04.4b.1          WormBase     protein_coding   \n654664  III  WormBase      start_codon  3068335  3068337     .      +     0     ubl-1  WBGene00006725             1    WormBase  protein_coding   H06I04.4b.1          WormBase     protein_coding   \n654665  III  WormBase             exon  3068582  3068743     .      +     .     ubl-1  WBGene00006725             1    WormBase  protein_coding   H06I04.4b.1          WormBase     protein_coding   \n654666  III  WormBase              CDS  3068582  3068589     .      +     2     ubl-1  WBGene00006725             1    WormBase  protein_coding   H06I04.4b.1          WormBase     protein_coding   \n654667  III  WormBase       stop_codon  3068590  3068592     .      +     0     ubl-1  WBGene00006725             1    WormBase  protein_coding   H06I04.4b.1          WormBase     protein_coding   \n654668  III  WormBase             exon  3068973  3069200     .      +     .     ubl-1  WBGene00006725             1    WormBase  protein_coding   H06I04.4b.1          WormBase     protein_coding   \n654669  III  WormBase   five_prime_utr  3068310  3068334     .      +     .     ubl-1  WBGene00006725             1    WormBase  protein_coding   H06I04.4b.1          WormBase     protein_coding   \n654670  III  WormBase  three_prime_utr  3068593  3068743     .      +     .     ubl-1  WBGene00006725             1    WormBase  protein_coding   H06I04.4b.1          WormBase     protein_coding   \n654671  III  WormBase  three_prime_utr  3068973  3069200     .      +     .     ubl-1  WBGene00006725             1    WormBase  protein_coding   H06I04.4b.1          WormBase     protein_coding   \n654672  III  WormBase       transcript  3068317  3069210     .      +     .     ubl-1  WBGene00006725             1    WormBase  protein_coding   H06I04.4a.1          WormBase     protein_coding   \n654673  III  WormBase             exon  3068317  3068467     .      +     .     ubl-1  WBGene00006725             1    WormBase  protein_coding   H06I04.4a.1          WormBase     protein_coding   \n654674  III  WormBase              CDS  3068335  3068467     .      +     0     ubl-1  WBGene00006725             1    WormBase  protein_coding   H06I04.4a.1          WormBase     protein_coding   \n654675  III  WormBase      start_codon  3068335  3068337     .      +     0     ubl-1  WBGene00006725             1    WormBase  protein_coding   H06I04.4a.1          WormBase     protein_coding   \n654676  III  WormBase             exon  3068574  3068743     .      +     .     ubl-1  WBGene00006725             1    WormBase  protein_coding   H06I04.4a.1          WormBase     protein_coding   \n654677  III  WormBase              CDS  3068574  3068743     .      +     2     ubl-1  WBGene00006725             1    WormBase  protein_coding   H06I04.4a.1          WormBase     protein_coding   \n654678  III  WormBase             exon  3068973  3069210     .      +     .     ubl-1  WBGene00006725             1    WormBase  protein_coding   H06I04.4a.1          WormBase     protein_coding   \n654679  III  WormBase              CDS  3068973  3069158     .      +     0     ubl-1  WBGene00006725             1    WormBase  protein_coding   H06I04.4a.1          WormBase     protein_coding   \n654680  III  WormBase       stop_codon  3069159  3069161     .      +     0     ubl-1  WBGene00006725             1    WormBase  protein_coding   H06I04.4a.1          WormBase     protein_coding   \n654681  III  WormBase   five_prime_utr  3068317  3068334     .      +     .     ubl-1  WBGene00006725             1    WormBase  protein_coding   H06I04.4a.1          WormBase     protein_coding   \n654682  III  WormBase  three_prime_utr  3069162  3069210     .      +     .     ubl-1  WBGene00006725             1    WormBase  protein_coding   H06I04.4a.1          WormBase     protein_coding   \n654683  III  WormBase       transcript  3068317  3069209     .      +     .     ubl-1  WBGene00006725             1    WormBase  protein_coding   H06I04.4a.2          WormBase     protein_coding   \n654684  III  WormBase             exon  3068317  3068467     .      +     .     ubl-1  WBGene00006725             1    WormBase  protein_coding   H06I04.4a.2          WormBase     protein_coding   \n654685  III  WormBase              CDS  3068335  3068467     .      +     0     ubl-1  WBGene00006725             1    WormBase  protein_coding   H06I04.4a.2          WormBase     protein_coding   \n654686  III  WormBase      start_codon  3068335  3068337     .      +     0     ubl-1  WBGene00006725             1    WormBase  protein_coding   H06I04.4a.2          WormBase     protein_coding   \n654687  III  WormBase             exon  3068574  3068743     .      +     .     ubl-1  WBGene00006725             1    WormBase  protein_coding   H06I04.4a.2          WormBase     protein_coding   \n654688  III  WormBase              CDS  3068574  3068743     .      +     2     ubl-1  WBGene00006725             1    WormBase  protein_coding   H06I04.4a.2          WormBase     protein_coding   \n654689  III  WormBase             exon  3068973  3069209     .      +     .     ubl-1  WBGene00006725             1    WormBase  protein_coding   H06I04.4a.2          WormBase     protein_coding   \n654690  III  WormBase              CDS  3068973  3069158     .      +     0     ubl-1  WBGene00006725             1    WormBase  protein_coding   H06I04.4a.2          WormBase     protein_coding   \n654691  III  WormBase       stop_codon  3069159  3069161     .      +     0     ubl-1  WBGene00006725             1    WormBase  protein_coding   H06I04.4a.2          WormBase     protein_coding   \n654692  III  WormBase   five_prime_utr  3068317  3068334     .      +     .     ubl-1  WBGene00006725             1    WormBase  protein_coding   H06I04.4a.2          WormBase     protein_coding   \n654693  III  WormBase  three_prime_utr  3069162  3069209     .      +     .     ubl-1  WBGene00006725             1    WormBase  protein_coding   H06I04.4a.2          WormBase     protein_coding   \n\n        exon_number         exon_id  \n654649          NaN            None  \n654650          NaN            None  \n654651          1.0  H06I04.4a.3.e1  \n654652          1.0            None  \n654653          1.0            None  \n654654          2.0  H06I04.4a.1.e2  \n654655          2.0            None  \n654656          3.0  H06I04.4a.2.e3  \n654657          3.0            None  \n654658          3.0            None  \n654659          NaN            None  \n654660          NaN            None  \n654661          NaN            None  \n654662          1.0  H06I04.4b.1.e1  \n654663          1.0            None  \n654664          1.0            None  \n654665          2.0  H06I04.4b.1.e2  \n654666          2.0            None  \n654667          2.0            None  \n654668          3.0  H06I04.4b.1.e3  \n654669          NaN            None  \n654670          NaN            None  \n654671          NaN            None  \n654672          NaN            None  \n654673          1.0  H06I04.4a.1.e1  \n654674          1.0            None  \n654675          1.0            None  \n654676          2.0  H06I04.4a.1.e2  \n654677          2.0            None  \n654678          3.0  H06I04.4a.1.e3  \n654679          3.0            None  \n654680          3.0            None  \n654681          NaN            None  \n654682          NaN            None  \n654683          NaN            None  \n654684          1.0  H06I04.4a.1.e1  \n654685          1.0            None  \n654686          1.0            None  \n654687          2.0  H06I04.4a.1.e2  \n654688          2.0            None  \n654689          3.0  H06I04.4a.2.e3  \n654690          3.0            None  \n654691          3.0            None  \n654692          NaN            None  \n654693          NaN            None  ",
      "text/html": "<div>\n<style scoped>\n    .dataframe tbody tr th:only-of-type {\n        vertical-align: middle;\n    }\n\n    .dataframe tbody tr th {\n        vertical-align: top;\n    }\n\n    .dataframe thead th {\n        text-align: right;\n    }\n</style>\n<table border=\"1\" class=\"dataframe\">\n  <thead>\n    <tr style=\"text-align: right;\">\n      <th></th>\n      <th>chr</th>\n      <th>source</th>\n      <th>feature</th>\n      <th>start</th>\n      <th>end</th>\n      <th>score</th>\n      <th>strand</th>\n      <th>frame</th>\n      <th>gene_name</th>\n      <th>gene_id</th>\n      <th>gene_version</th>\n      <th>gene_source</th>\n      <th>gene_biotype</th>\n      <th>transcript_id</th>\n      <th>transcript_source</th>\n      <th>transcript_biotype</th>\n      <th>exon_number</th>\n      <th>exon_id</th>\n    </tr>\n  </thead>\n  <tbody>\n    <tr>\n      <th>654649</th>\n      <td>III</td>\n      <td>WormBase</td>\n      <td>gene</td>\n      <td>3068306</td>\n      <td>3069210</td>\n      <td>.</td>\n      <td>+</td>\n      <td>.</td>\n      <td>ubl-1</td>\n      <td>WBGene00006725</td>\n      <td>1</td>\n      <td>WormBase</td>\n      <td>protein_coding</td>\n      <td>None</td>\n      <td>None</td>\n      <td>None</td>\n      <td>NaN</td>\n      <td>None</td>\n    </tr>\n    <tr>\n      <th>654650</th>\n      <td>III</td>\n      <td>WormBase</td>\n      <td>transcript</td>\n      <td>3068306</td>\n      <td>3069209</td>\n      <td>.</td>\n      <td>+</td>\n      <td>.</td>\n      <td>ubl-1</td>\n      <td>WBGene00006725</td>\n      <td>1</td>\n      <td>WormBase</td>\n      <td>protein_coding</td>\n      <td>H06I04.4a.3</td>\n      <td>WormBase</td>\n      <td>protein_coding</td>\n      <td>NaN</td>\n      <td>None</td>\n    </tr>\n    <tr>\n      <th>654651</th>\n      <td>III</td>\n      <td>WormBase</td>\n      <td>exon</td>\n      <td>3068306</td>\n      <td>3068467</td>\n      <td>.</td>\n      <td>+</td>\n      <td>.</td>\n      <td>ubl-1</td>\n      <td>WBGene00006725</td>\n      <td>1</td>\n      <td>WormBase</td>\n      <td>protein_coding</td>\n      <td>H06I04.4a.3</td>\n      <td>WormBase</td>\n      <td>protein_coding</td>\n      <td>1.0</td>\n      <td>H06I04.4a.3.e1</td>\n    </tr>\n    <tr>\n      <th>654652</th>\n      <td>III</td>\n      <td>WormBase</td>\n      <td>CDS</td>\n      <td>3068335</td>\n      <td>3068467</td>\n      <td>.</td>\n      <td>+</td>\n      <td>0</td>\n      <td>ubl-1</td>\n      <td>WBGene00006725</td>\n      <td>1</td>\n      <td>WormBase</td>\n      <td>protein_coding</td>\n      <td>H06I04.4a.3</td>\n      <td>WormBase</td>\n      <td>protein_coding</td>\n      <td>1.0</td>\n      <td>None</td>\n    </tr>\n    <tr>\n      <th>654653</th>\n      <td>III</td>\n      <td>WormBase</td>\n      <td>start_codon</td>\n      <td>3068335</td>\n      <td>3068337</td>\n      <td>.</td>\n      <td>+</td>\n      <td>0</td>\n      <td>ubl-1</td>\n      <td>WBGene00006725</td>\n      <td>1</td>\n      <td>WormBase</td>\n      <td>protein_coding</td>\n      <td>H06I04.4a.3</td>\n      <td>WormBase</td>\n      <td>protein_coding</td>\n      <td>1.0</td>\n      <td>None</td>\n    </tr>\n    <tr>\n      <th>654654</th>\n      <td>III</td>\n      <td>WormBase</td>\n      <td>exon</td>\n      <td>3068574</td>\n      <td>3068743</td>\n      <td>.</td>\n      <td>+</td>\n      <td>.</td>\n      <td>ubl-1</td>\n      <td>WBGene00006725</td>\n      <td>1</td>\n      <td>WormBase</td>\n      <td>protein_coding</td>\n      <td>H06I04.4a.3</td>\n      <td>WormBase</td>\n      <td>protein_coding</td>\n      <td>2.0</td>\n      <td>H06I04.4a.1.e2</td>\n    </tr>\n    <tr>\n      <th>654655</th>\n      <td>III</td>\n      <td>WormBase</td>\n      <td>CDS</td>\n      <td>3068574</td>\n      <td>3068743</td>\n      <td>.</td>\n      <td>+</td>\n      <td>2</td>\n      <td>ubl-1</td>\n      <td>WBGene00006725</td>\n      <td>1</td>\n      <td>WormBase</td>\n      <td>protein_coding</td>\n      <td>H06I04.4a.3</td>\n      <td>WormBase</td>\n      <td>protein_coding</td>\n      <td>2.0</td>\n      <td>None</td>\n    </tr>\n    <tr>\n      <th>654656</th>\n      <td>III</td>\n      <td>WormBase</td>\n      <td>exon</td>\n      <td>3068973</td>\n      <td>3069209</td>\n      <td>.</td>\n      <td>+</td>\n      <td>.</td>\n      <td>ubl-1</td>\n      <td>WBGene00006725</td>\n      <td>1</td>\n      <td>WormBase</td>\n      <td>protein_coding</td>\n      <td>H06I04.4a.3</td>\n      <td>WormBase</td>\n      <td>protein_coding</td>\n      <td>3.0</td>\n      <td>H06I04.4a.2.e3</td>\n    </tr>\n    <tr>\n      <th>654657</th>\n      <td>III</td>\n      <td>WormBase</td>\n      <td>CDS</td>\n      <td>3068973</td>\n      <td>3069158</td>\n      <td>.</td>\n      <td>+</td>\n      <td>0</td>\n      <td>ubl-1</td>\n      <td>WBGene00006725</td>\n      <td>1</td>\n      <td>WormBase</td>\n      <td>protein_coding</td>\n      <td>H06I04.4a.3</td>\n      <td>WormBase</td>\n      <td>protein_coding</td>\n      <td>3.0</td>\n      <td>None</td>\n    </tr>\n    <tr>\n      <th>654658</th>\n      <td>III</td>\n      <td>WormBase</td>\n      <td>stop_codon</td>\n      <td>3069159</td>\n      <td>3069161</td>\n      <td>.</td>\n      <td>+</td>\n      <td>0</td>\n      <td>ubl-1</td>\n      <td>WBGene00006725</td>\n      <td>1</td>\n      <td>WormBase</td>\n      <td>protein_coding</td>\n      <td>H06I04.4a.3</td>\n      <td>WormBase</td>\n      <td>protein_coding</td>\n      <td>3.0</td>\n      <td>None</td>\n    </tr>\n    <tr>\n      <th>654659</th>\n      <td>III</td>\n      <td>WormBase</td>\n      <td>five_prime_utr</td>\n      <td>3068306</td>\n      <td>3068334</td>\n      <td>.</td>\n      <td>+</td>\n      <td>.</td>\n      <td>ubl-1</td>\n      <td>WBGene00006725</td>\n      <td>1</td>\n      <td>WormBase</td>\n      <td>protein_coding</td>\n      <td>H06I04.4a.3</td>\n      <td>WormBase</td>\n      <td>protein_coding</td>\n      <td>NaN</td>\n      <td>None</td>\n    </tr>\n    <tr>\n      <th>654660</th>\n      <td>III</td>\n      <td>WormBase</td>\n      <td>three_prime_utr</td>\n      <td>3069162</td>\n      <td>3069209</td>\n      <td>.</td>\n      <td>+</td>\n      <td>.</td>\n      <td>ubl-1</td>\n      <td>WBGene00006725</td>\n      <td>1</td>\n      <td>WormBase</td>\n      <td>protein_coding</td>\n      <td>H06I04.4a.3</td>\n      <td>WormBase</td>\n      <td>protein_coding</td>\n      <td>NaN</td>\n      <td>None</td>\n    </tr>\n    <tr>\n      <th>654661</th>\n      <td>III</td>\n      <td>WormBase</td>\n      <td>transcript</td>\n      <td>3068310</td>\n      <td>3069200</td>\n      <td>.</td>\n      <td>+</td>\n      <td>.</td>\n      <td>ubl-1</td>\n      <td>WBGene00006725</td>\n      <td>1</td>\n      <td>WormBase</td>\n      <td>protein_coding</td>\n      <td>H06I04.4b.1</td>\n      <td>WormBase</td>\n      <td>protein_coding</td>\n      <td>NaN</td>\n      <td>None</td>\n    </tr>\n    <tr>\n      <th>654662</th>\n      <td>III</td>\n      <td>WormBase</td>\n      <td>exon</td>\n      <td>3068310</td>\n      <td>3068467</td>\n      <td>.</td>\n      <td>+</td>\n      <td>.</td>\n      <td>ubl-1</td>\n      <td>WBGene00006725</td>\n      <td>1</td>\n      <td>WormBase</td>\n      <td>protein_coding</td>\n      <td>H06I04.4b.1</td>\n      <td>WormBase</td>\n      <td>protein_coding</td>\n      <td>1.0</td>\n      <td>H06I04.4b.1.e1</td>\n    </tr>\n    <tr>\n      <th>654663</th>\n      <td>III</td>\n      <td>WormBase</td>\n      <td>CDS</td>\n      <td>3068335</td>\n      <td>3068467</td>\n      <td>.</td>\n      <td>+</td>\n      <td>0</td>\n      <td>ubl-1</td>\n      <td>WBGene00006725</td>\n      <td>1</td>\n      <td>WormBase</td>\n      <td>protein_coding</td>\n      <td>H06I04.4b.1</td>\n      <td>WormBase</td>\n      <td>protein_coding</td>\n      <td>1.0</td>\n      <td>None</td>\n    </tr>\n    <tr>\n      <th>654664</th>\n      <td>III</td>\n      <td>WormBase</td>\n      <td>start_codon</td>\n      <td>3068335</td>\n      <td>3068337</td>\n      <td>.</td>\n      <td>+</td>\n      <td>0</td>\n      <td>ubl-1</td>\n      <td>WBGene00006725</td>\n      <td>1</td>\n      <td>WormBase</td>\n      <td>protein_coding</td>\n      <td>H06I04.4b.1</td>\n      <td>WormBase</td>\n      <td>protein_coding</td>\n      <td>1.0</td>\n      <td>None</td>\n    </tr>\n    <tr>\n      <th>654665</th>\n      <td>III</td>\n      <td>WormBase</td>\n      <td>exon</td>\n      <td>3068582</td>\n      <td>3068743</td>\n      <td>.</td>\n      <td>+</td>\n      <td>.</td>\n      <td>ubl-1</td>\n      <td>WBGene00006725</td>\n      <td>1</td>\n      <td>WormBase</td>\n      <td>protein_coding</td>\n      <td>H06I04.4b.1</td>\n      <td>WormBase</td>\n      <td>protein_coding</td>\n      <td>2.0</td>\n      <td>H06I04.4b.1.e2</td>\n    </tr>\n    <tr>\n      <th>654666</th>\n      <td>III</td>\n      <td>WormBase</td>\n      <td>CDS</td>\n      <td>3068582</td>\n      <td>3068589</td>\n      <td>.</td>\n      <td>+</td>\n      <td>2</td>\n      <td>ubl-1</td>\n      <td>WBGene00006725</td>\n      <td>1</td>\n      <td>WormBase</td>\n      <td>protein_coding</td>\n      <td>H06I04.4b.1</td>\n      <td>WormBase</td>\n      <td>protein_coding</td>\n      <td>2.0</td>\n      <td>None</td>\n    </tr>\n    <tr>\n      <th>654667</th>\n      <td>III</td>\n      <td>WormBase</td>\n      <td>stop_codon</td>\n      <td>3068590</td>\n      <td>3068592</td>\n      <td>.</td>\n      <td>+</td>\n      <td>0</td>\n      <td>ubl-1</td>\n      <td>WBGene00006725</td>\n      <td>1</td>\n      <td>WormBase</td>\n      <td>protein_coding</td>\n      <td>H06I04.4b.1</td>\n      <td>WormBase</td>\n      <td>protein_coding</td>\n      <td>2.0</td>\n      <td>None</td>\n    </tr>\n    <tr>\n      <th>654668</th>\n      <td>III</td>\n      <td>WormBase</td>\n      <td>exon</td>\n      <td>3068973</td>\n      <td>3069200</td>\n      <td>.</td>\n      <td>+</td>\n      <td>.</td>\n      <td>ubl-1</td>\n      <td>WBGene00006725</td>\n      <td>1</td>\n      <td>WormBase</td>\n      <td>protein_coding</td>\n      <td>H06I04.4b.1</td>\n      <td>WormBase</td>\n      <td>protein_coding</td>\n      <td>3.0</td>\n      <td>H06I04.4b.1.e3</td>\n    </tr>\n    <tr>\n      <th>654669</th>\n      <td>III</td>\n      <td>WormBase</td>\n      <td>five_prime_utr</td>\n      <td>3068310</td>\n      <td>3068334</td>\n      <td>.</td>\n      <td>+</td>\n      <td>.</td>\n      <td>ubl-1</td>\n      <td>WBGene00006725</td>\n      <td>1</td>\n      <td>WormBase</td>\n      <td>protein_coding</td>\n      <td>H06I04.4b.1</td>\n      <td>WormBase</td>\n      <td>protein_coding</td>\n      <td>NaN</td>\n      <td>None</td>\n    </tr>\n    <tr>\n      <th>654670</th>\n      <td>III</td>\n      <td>WormBase</td>\n      <td>three_prime_utr</td>\n      <td>3068593</td>\n      <td>3068743</td>\n      <td>.</td>\n      <td>+</td>\n      <td>.</td>\n      <td>ubl-1</td>\n      <td>WBGene00006725</td>\n      <td>1</td>\n      <td>WormBase</td>\n      <td>protein_coding</td>\n      <td>H06I04.4b.1</td>\n      <td>WormBase</td>\n      <td>protein_coding</td>\n      <td>NaN</td>\n      <td>None</td>\n    </tr>\n    <tr>\n      <th>654671</th>\n      <td>III</td>\n      <td>WormBase</td>\n      <td>three_prime_utr</td>\n      <td>3068973</td>\n      <td>3069200</td>\n      <td>.</td>\n      <td>+</td>\n      <td>.</td>\n      <td>ubl-1</td>\n      <td>WBGene00006725</td>\n      <td>1</td>\n      <td>WormBase</td>\n      <td>protein_coding</td>\n      <td>H06I04.4b.1</td>\n      <td>WormBase</td>\n      <td>protein_coding</td>\n      <td>NaN</td>\n      <td>None</td>\n    </tr>\n    <tr>\n      <th>654672</th>\n      <td>III</td>\n      <td>WormBase</td>\n      <td>transcript</td>\n      <td>3068317</td>\n      <td>3069210</td>\n      <td>.</td>\n      <td>+</td>\n      <td>.</td>\n      <td>ubl-1</td>\n      <td>WBGene00006725</td>\n      <td>1</td>\n      <td>WormBase</td>\n      <td>protein_coding</td>\n      <td>H06I04.4a.1</td>\n      <td>WormBase</td>\n      <td>protein_coding</td>\n      <td>NaN</td>\n      <td>None</td>\n    </tr>\n    <tr>\n      <th>654673</th>\n      <td>III</td>\n      <td>WormBase</td>\n      <td>exon</td>\n      <td>3068317</td>\n      <td>3068467</td>\n      <td>.</td>\n      <td>+</td>\n      <td>.</td>\n      <td>ubl-1</td>\n      <td>WBGene00006725</td>\n      <td>1</td>\n      <td>WormBase</td>\n      <td>protein_coding</td>\n      <td>H06I04.4a.1</td>\n      <td>WormBase</td>\n      <td>protein_coding</td>\n      <td>1.0</td>\n      <td>H06I04.4a.1.e1</td>\n    </tr>\n    <tr>\n      <th>654674</th>\n      <td>III</td>\n      <td>WormBase</td>\n      <td>CDS</td>\n      <td>3068335</td>\n      <td>3068467</td>\n      <td>.</td>\n      <td>+</td>\n      <td>0</td>\n      <td>ubl-1</td>\n      <td>WBGene00006725</td>\n      <td>1</td>\n      <td>WormBase</td>\n      <td>protein_coding</td>\n      <td>H06I04.4a.1</td>\n      <td>WormBase</td>\n      <td>protein_coding</td>\n      <td>1.0</td>\n      <td>None</td>\n    </tr>\n    <tr>\n      <th>654675</th>\n      <td>III</td>\n      <td>WormBase</td>\n      <td>start_codon</td>\n      <td>3068335</td>\n      <td>3068337</td>\n      <td>.</td>\n      <td>+</td>\n      <td>0</td>\n      <td>ubl-1</td>\n      <td>WBGene00006725</td>\n      <td>1</td>\n      <td>WormBase</td>\n      <td>protein_coding</td>\n      <td>H06I04.4a.1</td>\n      <td>WormBase</td>\n      <td>protein_coding</td>\n      <td>1.0</td>\n      <td>None</td>\n    </tr>\n    <tr>\n      <th>654676</th>\n      <td>III</td>\n      <td>WormBase</td>\n      <td>exon</td>\n      <td>3068574</td>\n      <td>3068743</td>\n      <td>.</td>\n      <td>+</td>\n      <td>.</td>\n      <td>ubl-1</td>\n      <td>WBGene00006725</td>\n      <td>1</td>\n      <td>WormBase</td>\n      <td>protein_coding</td>\n      <td>H06I04.4a.1</td>\n      <td>WormBase</td>\n      <td>protein_coding</td>\n      <td>2.0</td>\n      <td>H06I04.4a.1.e2</td>\n    </tr>\n    <tr>\n      <th>654677</th>\n      <td>III</td>\n      <td>WormBase</td>\n      <td>CDS</td>\n      <td>3068574</td>\n      <td>3068743</td>\n      <td>.</td>\n      <td>+</td>\n      <td>2</td>\n      <td>ubl-1</td>\n      <td>WBGene00006725</td>\n      <td>1</td>\n      <td>WormBase</td>\n      <td>protein_coding</td>\n      <td>H06I04.4a.1</td>\n      <td>WormBase</td>\n      <td>protein_coding</td>\n      <td>2.0</td>\n      <td>None</td>\n    </tr>\n    <tr>\n      <th>654678</th>\n      <td>III</td>\n      <td>WormBase</td>\n      <td>exon</td>\n      <td>3068973</td>\n      <td>3069210</td>\n      <td>.</td>\n      <td>+</td>\n      <td>.</td>\n      <td>ubl-1</td>\n      <td>WBGene00006725</td>\n      <td>1</td>\n      <td>WormBase</td>\n      <td>protein_coding</td>\n      <td>H06I04.4a.1</td>\n      <td>WormBase</td>\n      <td>protein_coding</td>\n      <td>3.0</td>\n      <td>H06I04.4a.1.e3</td>\n    </tr>\n    <tr>\n      <th>654679</th>\n      <td>III</td>\n      <td>WormBase</td>\n      <td>CDS</td>\n      <td>3068973</td>\n      <td>3069158</td>\n      <td>.</td>\n      <td>+</td>\n      <td>0</td>\n      <td>ubl-1</td>\n      <td>WBGene00006725</td>\n      <td>1</td>\n      <td>WormBase</td>\n      <td>protein_coding</td>\n      <td>H06I04.4a.1</td>\n      <td>WormBase</td>\n      <td>protein_coding</td>\n      <td>3.0</td>\n      <td>None</td>\n    </tr>\n    <tr>\n      <th>654680</th>\n      <td>III</td>\n      <td>WormBase</td>\n      <td>stop_codon</td>\n      <td>3069159</td>\n      <td>3069161</td>\n      <td>.</td>\n      <td>+</td>\n      <td>0</td>\n      <td>ubl-1</td>\n      <td>WBGene00006725</td>\n      <td>1</td>\n      <td>WormBase</td>\n      <td>protein_coding</td>\n      <td>H06I04.4a.1</td>\n      <td>WormBase</td>\n      <td>protein_coding</td>\n      <td>3.0</td>\n      <td>None</td>\n    </tr>\n    <tr>\n      <th>654681</th>\n      <td>III</td>\n      <td>WormBase</td>\n      <td>five_prime_utr</td>\n      <td>3068317</td>\n      <td>3068334</td>\n      <td>.</td>\n      <td>+</td>\n      <td>.</td>\n      <td>ubl-1</td>\n      <td>WBGene00006725</td>\n      <td>1</td>\n      <td>WormBase</td>\n      <td>protein_coding</td>\n      <td>H06I04.4a.1</td>\n      <td>WormBase</td>\n      <td>protein_coding</td>\n      <td>NaN</td>\n      <td>None</td>\n    </tr>\n    <tr>\n      <th>654682</th>\n      <td>III</td>\n      <td>WormBase</td>\n      <td>three_prime_utr</td>\n      <td>3069162</td>\n      <td>3069210</td>\n      <td>.</td>\n      <td>+</td>\n      <td>.</td>\n      <td>ubl-1</td>\n      <td>WBGene00006725</td>\n      <td>1</td>\n      <td>WormBase</td>\n      <td>protein_coding</td>\n      <td>H06I04.4a.1</td>\n      <td>WormBase</td>\n      <td>protein_coding</td>\n      <td>NaN</td>\n      <td>None</td>\n    </tr>\n    <tr>\n      <th>654683</th>\n      <td>III</td>\n      <td>WormBase</td>\n      <td>transcript</td>\n      <td>3068317</td>\n      <td>3069209</td>\n      <td>.</td>\n      <td>+</td>\n      <td>.</td>\n      <td>ubl-1</td>\n      <td>WBGene00006725</td>\n      <td>1</td>\n      <td>WormBase</td>\n      <td>protein_coding</td>\n      <td>H06I04.4a.2</td>\n      <td>WormBase</td>\n      <td>protein_coding</td>\n      <td>NaN</td>\n      <td>None</td>\n    </tr>\n    <tr>\n      <th>654684</th>\n      <td>III</td>\n      <td>WormBase</td>\n      <td>exon</td>\n      <td>3068317</td>\n      <td>3068467</td>\n      <td>.</td>\n      <td>+</td>\n      <td>.</td>\n      <td>ubl-1</td>\n      <td>WBGene00006725</td>\n      <td>1</td>\n      <td>WormBase</td>\n      <td>protein_coding</td>\n      <td>H06I04.4a.2</td>\n      <td>WormBase</td>\n      <td>protein_coding</td>\n      <td>1.0</td>\n      <td>H06I04.4a.1.e1</td>\n    </tr>\n    <tr>\n      <th>654685</th>\n      <td>III</td>\n      <td>WormBase</td>\n      <td>CDS</td>\n      <td>3068335</td>\n      <td>3068467</td>\n      <td>.</td>\n      <td>+</td>\n      <td>0</td>\n      <td>ubl-1</td>\n      <td>WBGene00006725</td>\n      <td>1</td>\n      <td>WormBase</td>\n      <td>protein_coding</td>\n      <td>H06I04.4a.2</td>\n      <td>WormBase</td>\n      <td>protein_coding</td>\n      <td>1.0</td>\n      <td>None</td>\n    </tr>\n    <tr>\n      <th>654686</th>\n      <td>III</td>\n      <td>WormBase</td>\n      <td>start_codon</td>\n      <td>3068335</td>\n      <td>3068337</td>\n      <td>.</td>\n      <td>+</td>\n      <td>0</td>\n      <td>ubl-1</td>\n      <td>WBGene00006725</td>\n      <td>1</td>\n      <td>WormBase</td>\n      <td>protein_coding</td>\n      <td>H06I04.4a.2</td>\n      <td>WormBase</td>\n      <td>protein_coding</td>\n      <td>1.0</td>\n      <td>None</td>\n    </tr>\n    <tr>\n      <th>654687</th>\n      <td>III</td>\n      <td>WormBase</td>\n      <td>exon</td>\n      <td>3068574</td>\n      <td>3068743</td>\n      <td>.</td>\n      <td>+</td>\n      <td>.</td>\n      <td>ubl-1</td>\n      <td>WBGene00006725</td>\n      <td>1</td>\n      <td>WormBase</td>\n      <td>protein_coding</td>\n      <td>H06I04.4a.2</td>\n      <td>WormBase</td>\n      <td>protein_coding</td>\n      <td>2.0</td>\n      <td>H06I04.4a.1.e2</td>\n    </tr>\n    <tr>\n      <th>654688</th>\n      <td>III</td>\n      <td>WormBase</td>\n      <td>CDS</td>\n      <td>3068574</td>\n      <td>3068743</td>\n      <td>.</td>\n      <td>+</td>\n      <td>2</td>\n      <td>ubl-1</td>\n      <td>WBGene00006725</td>\n      <td>1</td>\n      <td>WormBase</td>\n      <td>protein_coding</td>\n      <td>H06I04.4a.2</td>\n      <td>WormBase</td>\n      <td>protein_coding</td>\n      <td>2.0</td>\n      <td>None</td>\n    </tr>\n    <tr>\n      <th>654689</th>\n      <td>III</td>\n      <td>WormBase</td>\n      <td>exon</td>\n      <td>3068973</td>\n      <td>3069209</td>\n      <td>.</td>\n      <td>+</td>\n      <td>.</td>\n      <td>ubl-1</td>\n      <td>WBGene00006725</td>\n      <td>1</td>\n      <td>WormBase</td>\n      <td>protein_coding</td>\n      <td>H06I04.4a.2</td>\n      <td>WormBase</td>\n      <td>protein_coding</td>\n      <td>3.0</td>\n      <td>H06I04.4a.2.e3</td>\n    </tr>\n    <tr>\n      <th>654690</th>\n      <td>III</td>\n      <td>WormBase</td>\n      <td>CDS</td>\n      <td>3068973</td>\n      <td>3069158</td>\n      <td>.</td>\n      <td>+</td>\n      <td>0</td>\n      <td>ubl-1</td>\n      <td>WBGene00006725</td>\n      <td>1</td>\n      <td>WormBase</td>\n      <td>protein_coding</td>\n      <td>H06I04.4a.2</td>\n      <td>WormBase</td>\n      <td>protein_coding</td>\n      <td>3.0</td>\n      <td>None</td>\n    </tr>\n    <tr>\n      <th>654691</th>\n      <td>III</td>\n      <td>WormBase</td>\n      <td>stop_codon</td>\n      <td>3069159</td>\n      <td>3069161</td>\n      <td>.</td>\n      <td>+</td>\n      <td>0</td>\n      <td>ubl-1</td>\n      <td>WBGene00006725</td>\n      <td>1</td>\n      <td>WormBase</td>\n      <td>protein_coding</td>\n      <td>H06I04.4a.2</td>\n      <td>WormBase</td>\n      <td>protein_coding</td>\n      <td>3.0</td>\n      <td>None</td>\n    </tr>\n    <tr>\n      <th>654692</th>\n      <td>III</td>\n      <td>WormBase</td>\n      <td>five_prime_utr</td>\n      <td>3068317</td>\n      <td>3068334</td>\n      <td>.</td>\n      <td>+</td>\n      <td>.</td>\n      <td>ubl-1</td>\n      <td>WBGene00006725</td>\n      <td>1</td>\n      <td>WormBase</td>\n      <td>protein_coding</td>\n      <td>H06I04.4a.2</td>\n      <td>WormBase</td>\n      <td>protein_coding</td>\n      <td>NaN</td>\n      <td>None</td>\n    </tr>\n    <tr>\n      <th>654693</th>\n      <td>III</td>\n      <td>WormBase</td>\n      <td>three_prime_utr</td>\n      <td>3069162</td>\n      <td>3069209</td>\n      <td>.</td>\n      <td>+</td>\n      <td>.</td>\n      <td>ubl-1</td>\n      <td>WBGene00006725</td>\n      <td>1</td>\n      <td>WormBase</td>\n      <td>protein_coding</td>\n      <td>H06I04.4a.2</td>\n      <td>WormBase</td>\n      <td>protein_coding</td>\n      <td>NaN</td>\n      <td>None</td>\n    </tr>\n  </tbody>\n</table>\n</div>"
     },
     "execution_count": 4,
     "metadata": {},
     "output_type": "execute_result"
    }
   ],
   "source": [
    "gtf_parquet_path = Path(\"/data16/marcus/genomes/plus_cerENO2_elegansRelease100/230327_allChrs_plus-cerENO2.gtf.parquet\")\n",
    "\n",
    "gtf_df = pd.read_parquet(gtf_parquet_path)\n",
    "gtf_df.query(\"gene_name == 'ubl-1'\")"
   ]
  },
  {
   "cell_type": "code",
   "outputs": [
    {
     "data": {
      "text/plain": "  0%|          | 0/734026 [00:00<?, ?it/s]",
      "application/vnd.jupyter.widget-view+json": {
       "version_major": 2,
       "version_minor": 0,
       "model_id": "90e9b89dd20e4461b93e07db20ebfeda"
      }
     },
     "metadata": {},
     "output_type": "display_data"
    }
   ],
   "source": [
    "bed_path = Path(\"/data16/marcus/genomes/plus_cerENO2_elegansRelease100/230327_allChrs_plus-cerENO2.bed\")\n",
    "\n",
    "bed_dict = {}\n",
    "with open(bed_path, 'r') as bed_file:\n",
    "    lines = bed_file.readlines()\n",
    "    for i, line in tqdm(enumerate(lines), total=len(lines)):\n",
    "        line = line.strip().split(\"\\t\")\n",
    "        line_dict = {\n",
    "            \"chr\": line[0],\n",
    "            \"start\": int(line[1]),\n",
    "            \"end\": int(line[2]),\n",
    "            \"gene_id\": line[3].strip('\"'),\n",
    "            \"score\": line[4],\n",
    "            \"strand\": line[5],\n",
    "            \"source\": line[6],\n",
    "            \"feature\": line[7],\n",
    "            \"item_rgb\": line[8],\n",
    "        }\n",
    "        # print(line[9].strip(\";\").split(\";\"))\n",
    "        for item in line[9].strip(\";\").split(\"; \"):\n",
    "            try:\n",
    "                if \"=\" in item:\n",
    "                    key, value = item.split(\"=\", 1)\n",
    "                else:\n",
    "                    key, value = item.split(\" \", 1)\n",
    "            except ValueError:\n",
    "                pprint(line)\n",
    "                print(f\"Error on line {i}: {item}\")\n",
    "                raise ValueError(f\"Error on line {i}: {item}\")\n",
    "            line_dict[key] = value.strip('\"')\n",
    "        # pprint(line)\n",
    "        # pprint(line_dict)\n",
    "        # print(\"\\n\\n\")\n",
    "        bed_dict[i] = line_dict\n",
    "bed_df = pd.DataFrame.from_dict(bed_dict, orient=\"index\")"
   ],
   "metadata": {
    "collapsed": false,
    "ExecuteTime": {
     "end_time": "2024-04-15T18:39:24.839655660Z",
     "start_time": "2024-04-15T18:39:15.472360975Z"
    }
   },
   "id": "11b434a3bc87562f",
   "execution_count": 48
  },
  {
   "cell_type": "code",
   "outputs": [
    {
     "name": "stdout",
     "output_type": "stream",
     "text": [
      "\n",
      " H06I04.4a.3\n",
      "                  start      end feature\n",
      "exon_id                                 \n",
      "H06I04.4a.3.e1  3068305  3068467    exon\n",
      "H06I04.4a.1.e2  3068573  3068743    exon\n",
      "H06I04.4a.2.e3  3068972  3069209    exon\n",
      "\n",
      " \n",
      "Empty DataFrame\n",
      "Columns: [start, end, feature]\n",
      "Index: []\n",
      "\n",
      " H06I04.4b.1\n",
      "                  start      end feature\n",
      "exon_id                                 \n",
      "H06I04.4b.1.e1  3068309  3068467    exon\n",
      "H06I04.4b.1.e2  3068581  3068743    exon\n",
      "H06I04.4b.1.e3  3068972  3069200    exon\n",
      "\n",
      " H06I04.4a.1\n",
      "                  start      end feature\n",
      "exon_id                                 \n",
      "H06I04.4a.1.e1  3068316  3068467    exon\n",
      "H06I04.4a.1.e2  3068573  3068743    exon\n",
      "H06I04.4a.1.e3  3068972  3069210    exon\n",
      "\n",
      " H06I04.4a.2\n",
      "                  start      end feature\n",
      "exon_id                                 \n",
      "H06I04.4a.1.e1  3068316  3068467    exon\n",
      "H06I04.4a.1.e2  3068573  3068743    exon\n",
      "H06I04.4a.2.e3  3068972  3069209    exon\n",
      "                  start      end feature\n",
      "exon_id                                 \n",
      "H06I04.4a.3.e1  3068305  3068467    exon\n",
      "H06I04.4b.1.e1  3068309  3068467    exon\n",
      "H06I04.4a.1.e1  3068316  3068467    exon\n",
      "H06I04.4a.1.e1  3068316  3068467    exon\n",
      "H06I04.4a.1.e2  3068573  3068743    exon\n",
      "H06I04.4a.1.e2  3068573  3068743    exon\n",
      "H06I04.4a.1.e2  3068573  3068743    exon\n",
      "H06I04.4b.1.e2  3068581  3068743    exon\n",
      "H06I04.4b.1.e3  3068972  3069200    exon\n",
      "H06I04.4a.2.e3  3068972  3069209    exon\n",
      "H06I04.4a.2.e3  3068972  3069209    exon\n",
      "H06I04.4a.1.e3  3068972  3069210    exon\n"
     ]
    }
   ],
   "source": [
    "target_gene = 'ubl-1'\n",
    "gene_df = bed_df.query(f\"gene_name == @target_gene\")\n",
    "\n",
    "for trans_id in gene_df.transcript_id.unique():\n",
    "    print('\\n', trans_id)\n",
    "    print(gene_df.query(f\"transcript_id == @trans_id and feature == 'exon'\").set_index('exon_id')[['start', 'end', 'feature']])\n",
    "print(gene_df.query(f\"feature == 'exon'\").set_index('exon_id')[['start', 'end', 'feature']])"
   ],
   "metadata": {
    "collapsed": false,
    "ExecuteTime": {
     "end_time": "2024-04-15T22:05:20.197479414Z",
     "start_time": "2024-04-15T22:05:20.047010924Z"
    }
   },
   "id": "6034e7b71d4ec3e4",
   "execution_count": 68
  },
  {
   "cell_type": "code",
   "outputs": [],
   "source": [],
   "metadata": {
    "collapsed": false
   },
   "id": "f1a1b42d4147a48a"
  }
 ],
 "metadata": {
  "kernelspec": {
   "display_name": "Python 3",
   "language": "python",
   "name": "python3"
  },
  "language_info": {
   "codemirror_mode": {
    "name": "ipython",
    "version": 2
   },
   "file_extension": ".py",
   "mimetype": "text/x-python",
   "name": "python",
   "nbconvert_exporter": "python",
   "pygments_lexer": "ipython2",
   "version": "2.7.6"
  }
 },
 "nbformat": 4,
 "nbformat_minor": 5
}
