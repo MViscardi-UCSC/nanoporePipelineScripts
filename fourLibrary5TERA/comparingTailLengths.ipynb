{
 "cells": [
  {
   "cell_type": "markdown",
   "source": [
    "# comparingTailLengths.ipynb\n",
    "## Marcus Viscardi,    January 16, 2023\n",
    "\n",
    "General goal to just look at the tail length distibutions of a couple genes.\n",
    "\n",
    "I think *odc-1* is of particular interest b/c it has only one isoform, but that one isoform looks NMD sensitive! This would mean that all the reads mapping are likely relevant to NMD. The counter-example would be a gene like *ubl-1* in which ~most of the reads are not related to NMD, and I have no good way to parse out which are which.\n",
    "\n",
    "**update 1/17/23:** So we seem to have a problem with the really low number of adapted reads for basically all genes, even in N2 libraries. The two pilot libs seem to have way better depth and adapted species coverage... For example. In my newN2 lib, *odc-1* only has **4** adapted reads!"
   ],
   "metadata": {
    "collapsed": false
   }
  },
  {
   "cell_type": "code",
   "execution_count": null,
   "outputs": [],
   "source": [
    "import os\n",
    "import sys\n",
    "sys.path.insert(0, '/data16/marcus/scripts/nanoporePipelineScripts')\n",
    "import nanoporePipelineCommon as npCommon\n",
    "\n",
    "import pandas as pd\n",
    "import seaborn as sea\n",
    "import matplotlib.pyplot as plt\n",
    "\n",
    "import plotly.express as px\n",
    "import plotly.graph_objects as go\n",
    "from plotly.subplots import make_subplots\n",
    "import plotly.io as pio\n",
    "pio.renderers.default = \"browser\"\n",
    "\n",
    "print(f\"Imports done at {npCommon.get_dt(for_print=True)}\")"
   ],
   "metadata": {
    "collapsed": false
   }
  },
  {
   "cell_type": "code",
   "execution_count": null,
   "metadata": {
    "collapsed": true
   },
   "outputs": [],
   "source": [
    "try:\n",
    "    reads_df_genes = pd.read_parquet(npCommon.find_newest_matching_file(f\"./output_files/*_quad5TERA.reads_df.parquet\"))\n",
    "    compressed_df_genes = pd.read_parquet(npCommon.find_newest_matching_file(f\"./output_files/*_quad5TERA.compressed_df.parquet\"))\n",
    "    conversion_dict = {\"xrn-1-5tera\": \"oldN2\",\n",
    "                       \"xrn-1-5tera-smg-6\": \"oldS6\",\n",
    "                       \"5tera_xrn-1-KD_wt\": \"newN2\",\n",
    "                       \"5tera_xrn-1-KD_smg-5\": \"newS5\",\n",
    "                       \"5tera_xrn-1-KD_smg-6\": \"newS6\",\n",
    "                       \"5tera_xrn-1-KD_smg-7\": \"newS7\",\n",
    "                       }\n",
    "    reads_df_genes.replace(conversion_dict, inplace=True)\n",
    "    compressed_df_genes.replace(conversion_dict, inplace=True)\n",
    "    print(f\"Finished library loading at {npCommon.get_dt(for_print=True)}\")\n",
    "except ValueError:\n",
    "    reads_df_genes, compressed_df_genes = None, None\n",
    "    print(\"Could not find pre-compressed dataframes saved. Try running the first few cells of initialTestingAndScratchPaper.ipynb\")"
   ]
  },
  {
   "cell_type": "code",
   "execution_count": null,
   "outputs": [],
   "source": [
    "compressed_df_genes.query(\"gene_name == 'ets-4'\")[[\"lib\", 'gene_id', 'gene_name', 't5', 'gene_hits', 'mean_polya_length', 'median_polya_length']]"
   ],
   "metadata": {
    "collapsed": false
   }
  },
  {
   "cell_type": "code",
   "execution_count": null,
   "outputs": [],
   "source": [
    "target_gene = 'F19B2.5'\n",
    "\n",
    "for lib in ['oldN2', 'newN2', 'newS5']:\n",
    "    plot_df = reads_df_genes.query(f\"gene_name == '{target_gene}'\").query(f\"lib == '{lib}'\")\n",
    "    \n",
    "    fig = px.ecdf(plot_df,\n",
    "                  color='t5',\n",
    "                  x='polya_length',\n",
    "                  ecdfnorm='percent',\n",
    "                  marginal=\"rug\")\n",
    "    fig.update_layout(title=f\"{target_gene} for {lib}\")\n",
    "    fig.show()"
   ],
   "metadata": {
    "collapsed": false
   }
  },
  {
   "cell_type": "code",
   "execution_count": null,
   "outputs": [],
   "source": [
    "# target_genes = ['odc-1', 'F19B2.5', 'rpl-3', 'rpl-7A', 'rpl-30', 'ubl-1', 'nduo-5']\n",
    "# target_genes = ['rpl-7A', 'rpl-12', 'rpl-1', 'rpl-3']\n",
    "target_genes = ['rpl-26', 'odc-1', 'rpl-3', 'rpl-30', 'ets-4']\n",
    "target_libs = [\n",
    "    'oldN2',\n",
    "    'newN2',\n",
    "    #'newS5',\n",
    "    #'newS6',\n",
    "    #'oldS6',\n",
    "]\n",
    "\n",
    "for lib in target_libs:\n",
    "    plot_df = reads_df_genes.query(f\"lib == '{lib}'\")\n",
    "    sea.set()\n",
    "    sea.set_style(\"whitegrid\")\n",
    "    fig, axes = plt.subplots(1, len(target_genes), figsize=(2.5*len(target_genes), 4),\n",
    "                             sharey='all',\n",
    "                             #sharex='all',\n",
    "                             )\n",
    "    fig.suptitle(f\"eCDF plots of tail length from {lib} library\")\n",
    "    \n",
    "    for i, target_gene in enumerate(target_genes):\n",
    "        subplot_df = plot_df.query(f\"gene_name == '{target_gene}'\")\n",
    "        sea.ecdfplot(ax=axes[i],\n",
    "                     data=subplot_df,\n",
    "                     x='polya_length',\n",
    "                     hue='t5',\n",
    "                     palette={'-': 'black',\n",
    "                              '+': 'red'},\n",
    "                     linewidth=3)\n",
    "        axes[i].set_title(f\"{target_gene} in {lib}\")\n",
    "        axes[i].legend(title=f\"5TERA Adapted\",\n",
    "                       loc=\"lower right\",\n",
    "                       labels=[f\"No (n={subplot_df[subplot_df.t5 == '-'].count()['polya_length']}/{subplot_df[subplot_df.t5 == '-'].count()['lib']})\", f\"Yes (n={subplot_df[subplot_df.t5 == '+'].count()['polya_length']}/{subplot_df[subplot_df.t5 == '+'].count()['lib']})\"])\n",
    "    plt.tight_layout()\n",
    "    save_path = f\"./output_files/tail_lengths/{npCommon.get_dt()}_tailLengthCDFs_{lib}\"\n",
    "    for file_type in ['.svg', '.png']:\n",
    "        plt.savefig(save_path + file_type,\n",
    "                    dpi=300)\n",
    "    plt.show()"
   ],
   "metadata": {
    "collapsed": false
   }
  },
  {
   "cell_type": "code",
   "execution_count": null,
   "outputs": [],
   "source": [
    "# See sticky note above my bench...\n",
    "\n",
    "gs_kw = dict(width_ratios=[1, 3, 2], height_ratios=[1, 1, 2, 1, 1, 2,])\n",
    "\n",
    "fig, axdict = plt.subplot_mosaic([['left', 'upper top', 'upper right'],\n",
    "                                  ['left', 'upper middle', 'upper right'],\n",
    "                                  ['left', 'upper bottom', 'upper right'],\n",
    "                                  ['left', 'lower top', 'lower right'],\n",
    "                                  ['left', 'lower middle', 'lower right'],\n",
    "                                  ['left', 'lower bottom', 'lower right'],\n",
    "                                 ],\n",
    "                                 gridspec_kw=gs_kw,\n",
    "                                 # constrained_layout=True,\n",
    "                                 figsize=(5, 7),\n",
    "                                 )\n",
    "axdict['left']\n",
    "# plt.tight_layout()"
   ],
   "metadata": {
    "collapsed": false
   }
  },
  {
   "cell_type": "code",
   "execution_count": null,
   "outputs": [],
   "source": [
    "isinstance(axdict, plt.Axes)"
   ],
   "metadata": {
    "collapsed": false
   }
  },
  {
   "cell_type": "code",
   "execution_count": null,
   "outputs": [],
   "source": [
    "plot_df.query(\"gene_name == 'ets-4'\")"
   ],
   "metadata": {
    "collapsed": false
   }
  },
  {
   "cell_type": "code",
   "execution_count": null,
   "outputs": [],
   "source": [
    "reads_df_genes.query(\"gene_name == 'ets-4'\")"
   ],
   "metadata": {
    "collapsed": false
   }
  },
  {
   "cell_type": "code",
   "execution_count": null,
   "outputs": [],
   "source": [],
   "metadata": {
    "collapsed": false
   }
  }
 ],
 "metadata": {
  "kernelspec": {
   "display_name": "Python 3",
   "language": "python",
   "name": "python3"
  },
  "language_info": {
   "codemirror_mode": {
    "name": "ipython",
    "version": 2
   },
   "file_extension": ".py",
   "mimetype": "text/x-python",
   "name": "python",
   "nbconvert_exporter": "python",
   "pygments_lexer": "ipython2",
   "version": "2.7.6"
  }
 },
 "nbformat": 4,
 "nbformat_minor": 0
}
