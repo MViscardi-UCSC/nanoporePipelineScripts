{
 "cells": [
  {
   "cell_type": "markdown",
   "source": [
    "# lib_v_lib_scatterPlots.ipynb\n",
    "### Marcus Viscardi,    August 31, 2023\n",
    "\n",
    "Simple script with goal to look at read count differences between libs"
   ],
   "metadata": {
    "collapsed": false
   }
  },
  {
   "cell_type": "code",
   "execution_count": 1,
   "outputs": [
    {
     "name": "stdout",
     "output_type": "stream",
     "text": [
      "Imports done at 09/20/23 @ 10:55:51 AM\n"
     ]
    }
   ],
   "source": [
    "import sys\n",
    "import warnings\n",
    "\n",
    "from tqdm.notebook import tqdm\n",
    "\n",
    "import seaborn as sea\n",
    "import matplotlib.pyplot as plt\n",
    "import plotly.express as px\n",
    "import plotly.graph_objects as go\n",
    "import plotly.io as pio\n",
    "\n",
    "import numpy as np\n",
    "import pandas as pd\n",
    "import statistics as stats\n",
    "from pathlib import Path\n",
    "\n",
    "sys.path.insert(0, '/data16/marcus/scripts/nanoporePipelineScripts')\n",
    "import nanoporePipelineCommon as npCommon\n",
    "\n",
    "pio.renderers.default = \"browser\"\n",
    "\n",
    "pd.set_option('display.width', 200)\n",
    "pd.set_option('display.max_columns', None)\n",
    "\n",
    "CONVERSION_DICT = npCommon.CONVERSION_DICT\n",
    "REV_CONVERSION_DICT = npCommon.REV_CONVERSION_DICT\n",
    "\n",
    "print(f\"Imports done at {npCommon.get_dt(for_print=True)}\")"
   ],
   "metadata": {
    "collapsed": false,
    "ExecuteTime": {
     "end_time": "2023-09-20T17:55:51.122750350Z",
     "start_time": "2023-09-20T17:55:50.935445207Z"
    }
   }
  },
  {
   "cell_type": "code",
   "execution_count": 35,
   "metadata": {
    "collapsed": true,
    "ExecuteTime": {
     "end_time": "2023-09-21T00:09:59.016055639Z",
     "start_time": "2023-09-21T00:06:09.620703045Z"
    }
   },
   "outputs": [
    {
     "name": "stdout",
     "output_type": "stream",
     "text": [
      "Could not find preprocessed files matching these libs: newerN2/newerS5/newerS6/oldN2/oldS6/thirdN2/thirdS5/thirdS6\n",
      "Going to create new ones from scratch! This will take longer.\n",
      "Looking for files for libraries: ['5tera_xrn-1-KD_wt_rerun', '5tera_xrn-1-KD_smg-5_rerun', '5tera_xrn-1-KD_smg-6_rerun', 'xrn-1-5tera', 'xrn-1-5tera-smg-6', '5tera_xrn-1-KD_wt_third', '5tera_xrn-1-KD_smg-5_third', '5tera_xrn-1-KD_smg-6_third']\n",
      "Looking for file for 5tera_xrn-1-KD_wt_rerun, at /data16/marcus/working/230327_nanoporeRun_totalRNA_wt_xrn-1-KD_5TERA_rerun/output_dir/merge_files/*_mergedOnReads.parquet... File Found.\n",
      "Looking for file for 5tera_xrn-1-KD_smg-5_rerun, at /data16/marcus/working/230410_nanoporeRun_totalRNA_smg-5_xrn-1-KD_5TERA_rerun/output_dir/merge_files/*_mergedOnReads.parquet... File Found.\n",
      "Looking for file for 5tera_xrn-1-KD_smg-6_rerun, at /data16/marcus/working/230403_nanoporeRun_totalRNA_smg-6_xrn-1-KD_5TERA_rerun/output_dir/merge_files/*_mergedOnReads.parquet... File Found.\n",
      "Looking for file for xrn-1-5tera, at /data16/marcus/working/211118_nanoporeRun_totalRNA_5108_xrn-1-KD_5TERA/output_dir/merge_files/*_mergedOnReads.parquet... File Found.\n",
      "Looking for file for xrn-1-5tera-smg-6, at /data16/marcus/working/211210_nanoporeRun_totalRNA_2102_xrn-1-KD_5TERA/output_dir/merge_files/*_mergedOnReads.parquet... File Found.\n",
      "Looking for file for 5tera_xrn-1-KD_wt_third, at /data16/marcus/working/230918_nanoporeRun_sMV013_wt_xrn-1-KD_5TERA/output_dir/merge_files/*_mergedOnReads.parquet... File Found.\n",
      "Looking for file for 5tera_xrn-1-KD_smg-5_third, at /data16/marcus/working/230918_nanoporeRun_sMV014_smg-5_xrn-1-KD_5TERA/output_dir/merge_files/*_mergedOnReads.parquet... File Found.\n",
      "Looking for file for 5tera_xrn-1-KD_smg-6_third, at /data16/marcus/working/230918_nanoporeRun_sMV015_smg-6_xrn-1-KD_5TERA/output_dir/merge_files/*_mergedOnReads.parquet... File Found.\n",
      "Loading parquet for 5tera_xrn-1-KD_wt_rerun lib... Done.\n",
      "\n",
      "Making adjustments for 5' ends:\n"
     ]
    },
    {
     "name": "stderr",
     "output_type": "stream",
     "text": [
      "100%|██████████| 1053185/1053185 [00:13<00:00, 76320.39it/s] \n"
     ]
    },
    {
     "name": "stdout",
     "output_type": "stream",
     "text": [
      "Loading parquet for 5tera_xrn-1-KD_smg-5_rerun lib... Done.\n",
      "\n",
      "Making adjustments for 5' ends:\n"
     ]
    },
    {
     "name": "stderr",
     "output_type": "stream",
     "text": [
      "100%|██████████| 557991/557991 [00:09<00:00, 60635.14it/s] \n"
     ]
    },
    {
     "name": "stdout",
     "output_type": "stream",
     "text": [
      "Loading parquet for 5tera_xrn-1-KD_smg-6_rerun lib... Done.\n",
      "\n",
      "Making adjustments for 5' ends:\n"
     ]
    },
    {
     "name": "stderr",
     "output_type": "stream",
     "text": [
      "100%|██████████| 1226144/1226144 [00:17<00:00, 70979.39it/s] \n"
     ]
    },
    {
     "name": "stdout",
     "output_type": "stream",
     "text": [
      "Loading parquet for xrn-1-5tera lib... Done.\n",
      "\n",
      "Making adjustments for 5' ends:\n"
     ]
    },
    {
     "name": "stderr",
     "output_type": "stream",
     "text": [
      "100%|██████████| 701680/701680 [00:12<00:00, 54143.16it/s]\n"
     ]
    },
    {
     "name": "stdout",
     "output_type": "stream",
     "text": [
      "Loading parquet for xrn-1-5tera-smg-6 lib... Done.\n",
      "\n",
      "Making adjustments for 5' ends:\n"
     ]
    },
    {
     "name": "stderr",
     "output_type": "stream",
     "text": [
      "100%|██████████| 236286/236286 [00:03<00:00, 64218.75it/s]\n"
     ]
    },
    {
     "name": "stdout",
     "output_type": "stream",
     "text": [
      "Loading parquet for 5tera_xrn-1-KD_wt_third lib... Done.\n",
      "\n",
      "Making adjustments for 5' ends:\n"
     ]
    },
    {
     "name": "stderr",
     "output_type": "stream",
     "text": [
      "100%|██████████| 1186602/1186602 [00:14<00:00, 79583.80it/s] \n"
     ]
    },
    {
     "name": "stdout",
     "output_type": "stream",
     "text": [
      "Loading parquet for 5tera_xrn-1-KD_smg-5_third lib... Done.\n",
      "\n",
      "Making adjustments for 5' ends:\n"
     ]
    },
    {
     "name": "stderr",
     "output_type": "stream",
     "text": [
      "100%|██████████| 1440373/1440373 [00:19<00:00, 72187.54it/s] \n"
     ]
    },
    {
     "name": "stdout",
     "output_type": "stream",
     "text": [
      "Loading parquet for 5tera_xrn-1-KD_smg-6_third lib... Done.\n",
      "\n",
      "Making adjustments for 5' ends:\n"
     ]
    },
    {
     "name": "stderr",
     "output_type": "stream",
     "text": [
      "100%|██████████| 560899/560899 [00:06<00:00, 92038.02it/s] \n"
     ]
    },
    {
     "name": "stdout",
     "output_type": "stream",
     "text": [
      "Skipping assignment with Josh method and relying on whatever assignment was made by the pipeline!\n",
      "Not keeping transcript information. . . (not using Josh assignment method will also force this!)\n",
      "Finished dropping dup. columns.\n",
      "Read counts post gene assignment:  6963160\n",
      "Read counts post unassigned drop:  5294541\n",
      "Creating groupby dataframe merged on: ['lib', 'chr_id', 'gene_id', 'gene_name']\n",
      "\t+ [t5] tag\n"
     ]
    },
    {
     "name": "stderr",
     "output_type": "stream",
     "text": [
      "Counting reads per gene: 100%|██████████| 129127/129127 [00:02<00:00, 47237.49it/s]\n"
     ]
    },
    {
     "name": "stdout",
     "output_type": "stream",
     "text": [
      "Gene counts pre sub-1 gene_hits drop:  129127\n",
      "Gene counts post sub-1 gene_hits drop:  129127\n",
      "Saving new parquets to speed up future runs.\n",
      "Lib load done @ 09/20/23 @ 05:09:58 PM\n"
     ]
    },
    {
     "data": {
      "text/plain": "                               lib chr_id         gene_id gene_name t5  gene_hits     gene_rpm\n8494    5tera_xrn-1-KD_smg-5_rerun     IV  WBGene00004424    rpl-12  -       2705  6640.252943\n8495    5tera_xrn-1-KD_smg-5_rerun     IV  WBGene00004424    rpl-12  +         37    90.827859\n26108   5tera_xrn-1-KD_smg-5_third     IV  WBGene00004424    rpl-12  -       4119  3199.618438\n26109   5tera_xrn-1-KD_smg-5_third     IV  WBGene00004424    rpl-12  +         64    49.714877\n44454   5tera_xrn-1-KD_smg-6_rerun     IV  WBGene00004424    rpl-12  -       5440  7276.861853\n44455   5tera_xrn-1-KD_smg-6_rerun     IV  WBGene00004424    rpl-12  +         53    70.895897\n59375   5tera_xrn-1-KD_smg-6_third     IV  WBGene00004424    rpl-12  -       1640  3134.742311\n59376   5tera_xrn-1-KD_smg-6_third     IV  WBGene00004424    rpl-12  +         23    43.962849\n73739      5tera_xrn-1-KD_wt_rerun     IV  WBGene00004424    rpl-12  -       1739  3489.550412\n73740      5tera_xrn-1-KD_wt_rerun     IV  WBGene00004424    rpl-12  +         36    72.239111\n90656      5tera_xrn-1-KD_wt_third     IV  WBGene00004424    rpl-12  -       1886  1747.657203\n90657      5tera_xrn-1-KD_wt_third     IV  WBGene00004424    rpl-12  +         74    68.571916\n108362                 xrn-1-5tera     IV  WBGene00004424    rpl-12  -       1829  3207.443935\n108363                 xrn-1-5tera     IV  WBGene00004424    rpl-12  +         52    91.190314\n123374           xrn-1-5tera-smg-6     IV  WBGene00004424    rpl-12  -        532  2933.521549\n123375           xrn-1-5tera-smg-6     IV  WBGene00004424    rpl-12  +          6    33.084830",
      "text/html": "<div>\n<style scoped>\n    .dataframe tbody tr th:only-of-type {\n        vertical-align: middle;\n    }\n\n    .dataframe tbody tr th {\n        vertical-align: top;\n    }\n\n    .dataframe thead th {\n        text-align: right;\n    }\n</style>\n<table border=\"1\" class=\"dataframe\">\n  <thead>\n    <tr style=\"text-align: right;\">\n      <th></th>\n      <th>lib</th>\n      <th>chr_id</th>\n      <th>gene_id</th>\n      <th>gene_name</th>\n      <th>t5</th>\n      <th>gene_hits</th>\n      <th>gene_rpm</th>\n    </tr>\n  </thead>\n  <tbody>\n    <tr>\n      <th>8494</th>\n      <td>5tera_xrn-1-KD_smg-5_rerun</td>\n      <td>IV</td>\n      <td>WBGene00004424</td>\n      <td>rpl-12</td>\n      <td>-</td>\n      <td>2705</td>\n      <td>6640.252943</td>\n    </tr>\n    <tr>\n      <th>8495</th>\n      <td>5tera_xrn-1-KD_smg-5_rerun</td>\n      <td>IV</td>\n      <td>WBGene00004424</td>\n      <td>rpl-12</td>\n      <td>+</td>\n      <td>37</td>\n      <td>90.827859</td>\n    </tr>\n    <tr>\n      <th>26108</th>\n      <td>5tera_xrn-1-KD_smg-5_third</td>\n      <td>IV</td>\n      <td>WBGene00004424</td>\n      <td>rpl-12</td>\n      <td>-</td>\n      <td>4119</td>\n      <td>3199.618438</td>\n    </tr>\n    <tr>\n      <th>26109</th>\n      <td>5tera_xrn-1-KD_smg-5_third</td>\n      <td>IV</td>\n      <td>WBGene00004424</td>\n      <td>rpl-12</td>\n      <td>+</td>\n      <td>64</td>\n      <td>49.714877</td>\n    </tr>\n    <tr>\n      <th>44454</th>\n      <td>5tera_xrn-1-KD_smg-6_rerun</td>\n      <td>IV</td>\n      <td>WBGene00004424</td>\n      <td>rpl-12</td>\n      <td>-</td>\n      <td>5440</td>\n      <td>7276.861853</td>\n    </tr>\n    <tr>\n      <th>44455</th>\n      <td>5tera_xrn-1-KD_smg-6_rerun</td>\n      <td>IV</td>\n      <td>WBGene00004424</td>\n      <td>rpl-12</td>\n      <td>+</td>\n      <td>53</td>\n      <td>70.895897</td>\n    </tr>\n    <tr>\n      <th>59375</th>\n      <td>5tera_xrn-1-KD_smg-6_third</td>\n      <td>IV</td>\n      <td>WBGene00004424</td>\n      <td>rpl-12</td>\n      <td>-</td>\n      <td>1640</td>\n      <td>3134.742311</td>\n    </tr>\n    <tr>\n      <th>59376</th>\n      <td>5tera_xrn-1-KD_smg-6_third</td>\n      <td>IV</td>\n      <td>WBGene00004424</td>\n      <td>rpl-12</td>\n      <td>+</td>\n      <td>23</td>\n      <td>43.962849</td>\n    </tr>\n    <tr>\n      <th>73739</th>\n      <td>5tera_xrn-1-KD_wt_rerun</td>\n      <td>IV</td>\n      <td>WBGene00004424</td>\n      <td>rpl-12</td>\n      <td>-</td>\n      <td>1739</td>\n      <td>3489.550412</td>\n    </tr>\n    <tr>\n      <th>73740</th>\n      <td>5tera_xrn-1-KD_wt_rerun</td>\n      <td>IV</td>\n      <td>WBGene00004424</td>\n      <td>rpl-12</td>\n      <td>+</td>\n      <td>36</td>\n      <td>72.239111</td>\n    </tr>\n    <tr>\n      <th>90656</th>\n      <td>5tera_xrn-1-KD_wt_third</td>\n      <td>IV</td>\n      <td>WBGene00004424</td>\n      <td>rpl-12</td>\n      <td>-</td>\n      <td>1886</td>\n      <td>1747.657203</td>\n    </tr>\n    <tr>\n      <th>90657</th>\n      <td>5tera_xrn-1-KD_wt_third</td>\n      <td>IV</td>\n      <td>WBGene00004424</td>\n      <td>rpl-12</td>\n      <td>+</td>\n      <td>74</td>\n      <td>68.571916</td>\n    </tr>\n    <tr>\n      <th>108362</th>\n      <td>xrn-1-5tera</td>\n      <td>IV</td>\n      <td>WBGene00004424</td>\n      <td>rpl-12</td>\n      <td>-</td>\n      <td>1829</td>\n      <td>3207.443935</td>\n    </tr>\n    <tr>\n      <th>108363</th>\n      <td>xrn-1-5tera</td>\n      <td>IV</td>\n      <td>WBGene00004424</td>\n      <td>rpl-12</td>\n      <td>+</td>\n      <td>52</td>\n      <td>91.190314</td>\n    </tr>\n    <tr>\n      <th>123374</th>\n      <td>xrn-1-5tera-smg-6</td>\n      <td>IV</td>\n      <td>WBGene00004424</td>\n      <td>rpl-12</td>\n      <td>-</td>\n      <td>532</td>\n      <td>2933.521549</td>\n    </tr>\n    <tr>\n      <th>123375</th>\n      <td>xrn-1-5tera-smg-6</td>\n      <td>IV</td>\n      <td>WBGene00004424</td>\n      <td>rpl-12</td>\n      <td>+</td>\n      <td>6</td>\n      <td>33.084830</td>\n    </tr>\n  </tbody>\n</table>\n</div>"
     },
     "execution_count": 35,
     "metadata": {},
     "output_type": "execute_result"
    }
   ],
   "source": [
    "regenerate = False\n",
    "libs_to_load = sorted({\n",
    "    'oldN2',\n",
    "    'oldS6',\n",
    "    'newerN2',\n",
    "    'newerS6',\n",
    "    'newerS5',\n",
    "    'thirdN2',\n",
    "    'thirdS5',\n",
    "    'thirdS6',\n",
    "})\n",
    "\n",
    "try:\n",
    "    if regenerate:\n",
    "        raise FileNotFoundError\n",
    "    \n",
    "    reads_df_raw_path = npCommon.find_newest_matching_file(f\"./output_files/mega_merge_parquets/*_{'-'.join(libs_to_load)}_merged5TERA.reads_df.parquet\")\n",
    "    compressed_df_genes_raw_path = npCommon.find_newest_matching_file(f\"./output_files/mega_merge_parquets/*_{'-'.join(libs_to_load)}_merged5TERA.compressed_df.parquet\")\n",
    "    print(f\"Found preprocessed files at:\\n\\t{reads_df_raw_path}\\nand:\\n\\t{compressed_df_genes_raw_path}\")\n",
    "\n",
    "    reads_df_genes_raw = pd.read_parquet(reads_df_raw_path)\n",
    "    compressed_df_genes_raw = pd.read_parquet(compressed_df_genes_raw_path)\n",
    "except FileNotFoundError:\n",
    "    print(f\"Could not find preprocessed files matching these libs: {'/'.join(libs_to_load)}\\nGoing to create new ones from scratch! This will take longer.\")\n",
    "    reads_df_genes_raw, compressed_df_genes_raw = npCommon.load_and_merge_lib_parquets([REV_CONVERSION_DICT[lib] for lib in libs_to_load],\n",
    "                                                                                       drop_sub_n=1,\n",
    "                                                                                       add_tail_groupings=False,\n",
    "                                                                                       drop_failed_polya=False,\n",
    "                                                                                       group_by_t5=True,\n",
    "                                                                                       use_josh_assignment=False)\n",
    "    print(f\"Saving new parquets to speed up future runs.\")\n",
    "    reads_df_genes_raw.to_parquet(f\"./output_files/mega_merge_parquets/{npCommon.get_dt()}_{'-'.join(libs_to_load)}_merged5TERA.reads_df.parquet\")\n",
    "    compressed_df_genes_raw.to_parquet(f\"./output_files/mega_merge_parquets/{npCommon.get_dt()}_{'-'.join(libs_to_load)}_merged5TERA.compressed_df.parquet\")\n",
    "print(f\"Lib load done @ {npCommon.get_dt(for_print=True)}\")\n",
    "\n",
    "compressed_df_genes_short = compressed_df_genes_raw.copy()[[\"lib\", \"chr_id\", \"gene_id\", \"gene_name\", \"t5\", \"gene_hits\", \"gene_rpm\"]]\n",
    "compressed_df_genes_short.query(\"gene_name == 'rpl-12'\")"
   ]
  },
  {
   "cell_type": "code",
   "execution_count": 36,
   "outputs": [
    {
     "data": {
      "text/plain": "                                  gene_hits_newerS5_t5+  gene_rpm_newerS5_t5+  gene_hits_newerS5_t5-  gene_rpm_newerS5_t5-  gene_hits_thirdS5_t5+  gene_rpm_thirdS5_t5+  gene_hits_thirdS5_t5-  \\\nchr_id gene_id        gene_name                                                                                                                                                                  \nI      WBGene00000013 abf-2                         1.0              2.454807                    0.0              0.000000                    0.0              0.000000                    2.0   \n       WBGene00000138 amx-2                         1.0              2.454807                    7.0             17.183649                    3.0              2.330385                   21.0   \n       WBGene00000140 anc-1                         1.0              2.454807                   38.0             93.282666                    3.0              2.330385                   58.0   \n       WBGene00000150 apm-1                         3.0              7.364421                   28.0             68.734596                    4.0              3.107180                   56.0   \n       WBGene00000158 apg-1                         4.0              9.819228                   21.0             51.550947                    1.0              0.776795                   58.0   \n...                                                 ...                   ...                    ...                   ...                    ...                   ...                    ...   \nX      WBGene00173542 21ur-7915                     0.0              0.000000                    0.0              0.000000                    0.0              0.000000                    0.0   \n       WBGene00174909 21ur-14059                    0.0              0.000000                    0.0              0.000000                    0.0              0.000000                    0.0   \n       WBGene00199316 PDB1.2                        0.0              0.000000                    0.0              0.000000                    0.0              0.000000                    0.0   \n       WBGene00206484 C31H2.14                      0.0              0.000000                    0.0              0.000000                    0.0              0.000000                    0.0   \n       WBGene00235152 Y7A5A.22                      0.0              0.000000                    0.0              0.000000                    0.0              0.000000                    0.0   \n\n                                  gene_rpm_thirdS5_t5-  gene_hits_newerS6_t5+  gene_rpm_newerS6_t5+  gene_hits_newerS6_t5-  gene_rpm_newerS6_t5-  gene_hits_thirdS6_t5+  gene_rpm_thirdS6_t5+  \\\nchr_id gene_id        gene_name                                                                                                                                                                 \nI      WBGene00000013 abf-2                   1.553590                    0.0              0.000000                    1.0              1.337658                    0.0              0.000000   \n       WBGene00000138 amx-2                  16.312694                    0.0              0.000000                   27.0             36.116778                    1.0              1.911428   \n       WBGene00000140 anc-1                  45.054108                    2.0              2.675317                   66.0             88.285456                    0.0              0.000000   \n       WBGene00000150 apm-1                  43.500518                    1.0              1.337658                   63.0             84.272481                    0.0              0.000000   \n       WBGene00000158 apg-1                  45.054108                    2.0              2.675317                   60.0             80.259506                    0.0              0.000000   \n...                                                ...                    ...                   ...                    ...                   ...                    ...                   ...   \nX      WBGene00173542 21ur-7915               0.000000                    0.0              0.000000                    0.0              0.000000                    0.0              0.000000   \n       WBGene00174909 21ur-14059              0.000000                    0.0              0.000000                    0.0              0.000000                    0.0              0.000000   \n       WBGene00199316 PDB1.2                  0.000000                    0.0              0.000000                    0.0              0.000000                    0.0              0.000000   \n       WBGene00206484 C31H2.14                0.000000                    0.0              0.000000                    0.0              0.000000                    0.0              0.000000   \n       WBGene00235152 Y7A5A.22                0.000000                    0.0              0.000000                    0.0              0.000000                    0.0              0.000000   \n\n                                  gene_hits_thirdS6_t5-  gene_rpm_thirdS6_t5-  gene_hits_newerN2_t5+  gene_rpm_newerN2_t5+  gene_hits_newerN2_t5-  gene_rpm_newerN2_t5-  gene_hits_thirdN2_t5+  \\\nchr_id gene_id        gene_name                                                                                                                                                                  \nI      WBGene00000013 abf-2                         2.0              3.822856                    0.0              0.000000                    2.0              4.013284                    0.0   \n       WBGene00000138 amx-2                         7.0             13.379998                    0.0              0.000000                    7.0             14.046494                    1.0   \n       WBGene00000140 anc-1                         6.0             11.468569                    0.0              0.000000                   36.0             72.239111                    1.0   \n       WBGene00000150 apm-1                         8.0             15.291426                    1.0              2.006642                   34.0             68.225827                    2.0   \n       WBGene00000158 apg-1                        13.0             24.848567                    5.0             10.033210                   41.0             82.272321                    5.0   \n...                                                 ...                   ...                    ...                   ...                    ...                   ...                    ...   \nX      WBGene00173542 21ur-7915                     0.0              0.000000                    0.0              0.000000                    0.0              0.000000                    0.0   \n       WBGene00174909 21ur-14059                    0.0              0.000000                    0.0              0.000000                    0.0              0.000000                    0.0   \n       WBGene00199316 PDB1.2                        0.0              0.000000                    0.0              0.000000                    0.0              0.000000                    0.0   \n       WBGene00206484 C31H2.14                      0.0              0.000000                    0.0              0.000000                    0.0              0.000000                    0.0   \n       WBGene00235152 Y7A5A.22                      0.0              0.000000                    0.0              0.000000                    0.0              0.000000                    0.0   \n\n                                  gene_rpm_thirdN2_t5+  gene_hits_thirdN2_t5-  gene_rpm_thirdN2_t5-  gene_hits_oldN2_t5+  gene_rpm_oldN2_t5+  gene_hits_oldN2_t5-  gene_rpm_oldN2_t5-  \\\nchr_id gene_id        gene_name                                                                                                                                                         \nI      WBGene00000013 abf-2                   0.000000                    0.0              0.000000                  0.0            0.000000                  1.0            1.753660   \n       WBGene00000138 amx-2                   0.926648                   16.0             14.826360                  1.0            1.753660                 11.0           19.290259   \n       WBGene00000140 anc-1                   0.926648                   39.0             36.139253                  5.0            8.768299                 23.0           40.334177   \n       WBGene00000150 apm-1                   1.853295                   31.0             28.726073                  7.0           12.275619                 30.0           52.609797   \n       WBGene00000158 apg-1                   4.633238                   36.0             33.359310                  1.0            1.753660                 33.0           57.870776   \n...                                                ...                    ...                   ...                  ...                 ...                  ...                 ...   \nX      WBGene00173542 21ur-7915               0.000000                    0.0              0.000000                  0.0            0.000000                  0.0            0.000000   \n       WBGene00174909 21ur-14059              0.000000                    0.0              0.000000                  0.0            0.000000                  0.0            0.000000   \n       WBGene00199316 PDB1.2                  0.000000                    0.0              0.000000                  0.0            0.000000                  0.0            0.000000   \n       WBGene00206484 C31H2.14                0.000000                    0.0              0.000000                  0.0            0.000000                  0.0            0.000000   \n       WBGene00235152 Y7A5A.22                0.000000                    0.0              0.000000                  0.0            0.000000                  0.0            0.000000   \n\n                                  gene_hits_oldS6_t5+  gene_rpm_oldS6_t5+  gene_hits_oldS6_t5-  gene_rpm_oldS6_t5-  \nchr_id gene_id        gene_name                                                                                     \nI      WBGene00000013 abf-2                       0.0                 0.0                  0.0            0.000000  \n       WBGene00000138 amx-2                       0.0                 0.0                  3.0           16.542415  \n       WBGene00000140 anc-1                       0.0                 0.0                  3.0           16.542415  \n       WBGene00000150 apm-1                       0.0                 0.0                 11.0           60.655521  \n       WBGene00000158 apg-1                       0.0                 0.0                  6.0           33.084830  \n...                                               ...                 ...                  ...                 ...  \nX      WBGene00173542 21ur-7915                   0.0                 0.0                  1.0            5.514138  \n       WBGene00174909 21ur-14059                  0.0                 0.0                  1.0            5.514138  \n       WBGene00199316 PDB1.2                      0.0                 0.0                  1.0            5.514138  \n       WBGene00206484 C31H2.14                    0.0                 0.0                  1.0            5.514138  \n       WBGene00235152 Y7A5A.22                    0.0                 0.0                  1.0            5.514138  \n\n[16758 rows x 32 columns]",
      "text/html": "<div>\n<style scoped>\n    .dataframe tbody tr th:only-of-type {\n        vertical-align: middle;\n    }\n\n    .dataframe tbody tr th {\n        vertical-align: top;\n    }\n\n    .dataframe thead th {\n        text-align: right;\n    }\n</style>\n<table border=\"1\" class=\"dataframe\">\n  <thead>\n    <tr style=\"text-align: right;\">\n      <th></th>\n      <th></th>\n      <th></th>\n      <th>gene_hits_newerS5_t5+</th>\n      <th>gene_rpm_newerS5_t5+</th>\n      <th>gene_hits_newerS5_t5-</th>\n      <th>gene_rpm_newerS5_t5-</th>\n      <th>gene_hits_thirdS5_t5+</th>\n      <th>gene_rpm_thirdS5_t5+</th>\n      <th>gene_hits_thirdS5_t5-</th>\n      <th>gene_rpm_thirdS5_t5-</th>\n      <th>gene_hits_newerS6_t5+</th>\n      <th>gene_rpm_newerS6_t5+</th>\n      <th>gene_hits_newerS6_t5-</th>\n      <th>gene_rpm_newerS6_t5-</th>\n      <th>gene_hits_thirdS6_t5+</th>\n      <th>gene_rpm_thirdS6_t5+</th>\n      <th>gene_hits_thirdS6_t5-</th>\n      <th>gene_rpm_thirdS6_t5-</th>\n      <th>gene_hits_newerN2_t5+</th>\n      <th>gene_rpm_newerN2_t5+</th>\n      <th>gene_hits_newerN2_t5-</th>\n      <th>gene_rpm_newerN2_t5-</th>\n      <th>gene_hits_thirdN2_t5+</th>\n      <th>gene_rpm_thirdN2_t5+</th>\n      <th>gene_hits_thirdN2_t5-</th>\n      <th>gene_rpm_thirdN2_t5-</th>\n      <th>gene_hits_oldN2_t5+</th>\n      <th>gene_rpm_oldN2_t5+</th>\n      <th>gene_hits_oldN2_t5-</th>\n      <th>gene_rpm_oldN2_t5-</th>\n      <th>gene_hits_oldS6_t5+</th>\n      <th>gene_rpm_oldS6_t5+</th>\n      <th>gene_hits_oldS6_t5-</th>\n      <th>gene_rpm_oldS6_t5-</th>\n    </tr>\n    <tr>\n      <th>chr_id</th>\n      <th>gene_id</th>\n      <th>gene_name</th>\n      <th></th>\n      <th></th>\n      <th></th>\n      <th></th>\n      <th></th>\n      <th></th>\n      <th></th>\n      <th></th>\n      <th></th>\n      <th></th>\n      <th></th>\n      <th></th>\n      <th></th>\n      <th></th>\n      <th></th>\n      <th></th>\n      <th></th>\n      <th></th>\n      <th></th>\n      <th></th>\n      <th></th>\n      <th></th>\n      <th></th>\n      <th></th>\n      <th></th>\n      <th></th>\n      <th></th>\n      <th></th>\n      <th></th>\n      <th></th>\n      <th></th>\n      <th></th>\n    </tr>\n  </thead>\n  <tbody>\n    <tr>\n      <th rowspan=\"5\" valign=\"top\">I</th>\n      <th>WBGene00000013</th>\n      <th>abf-2</th>\n      <td>1.0</td>\n      <td>2.454807</td>\n      <td>0.0</td>\n      <td>0.000000</td>\n      <td>0.0</td>\n      <td>0.000000</td>\n      <td>2.0</td>\n      <td>1.553590</td>\n      <td>0.0</td>\n      <td>0.000000</td>\n      <td>1.0</td>\n      <td>1.337658</td>\n      <td>0.0</td>\n      <td>0.000000</td>\n      <td>2.0</td>\n      <td>3.822856</td>\n      <td>0.0</td>\n      <td>0.000000</td>\n      <td>2.0</td>\n      <td>4.013284</td>\n      <td>0.0</td>\n      <td>0.000000</td>\n      <td>0.0</td>\n      <td>0.000000</td>\n      <td>0.0</td>\n      <td>0.000000</td>\n      <td>1.0</td>\n      <td>1.753660</td>\n      <td>0.0</td>\n      <td>0.0</td>\n      <td>0.0</td>\n      <td>0.000000</td>\n    </tr>\n    <tr>\n      <th>WBGene00000138</th>\n      <th>amx-2</th>\n      <td>1.0</td>\n      <td>2.454807</td>\n      <td>7.0</td>\n      <td>17.183649</td>\n      <td>3.0</td>\n      <td>2.330385</td>\n      <td>21.0</td>\n      <td>16.312694</td>\n      <td>0.0</td>\n      <td>0.000000</td>\n      <td>27.0</td>\n      <td>36.116778</td>\n      <td>1.0</td>\n      <td>1.911428</td>\n      <td>7.0</td>\n      <td>13.379998</td>\n      <td>0.0</td>\n      <td>0.000000</td>\n      <td>7.0</td>\n      <td>14.046494</td>\n      <td>1.0</td>\n      <td>0.926648</td>\n      <td>16.0</td>\n      <td>14.826360</td>\n      <td>1.0</td>\n      <td>1.753660</td>\n      <td>11.0</td>\n      <td>19.290259</td>\n      <td>0.0</td>\n      <td>0.0</td>\n      <td>3.0</td>\n      <td>16.542415</td>\n    </tr>\n    <tr>\n      <th>WBGene00000140</th>\n      <th>anc-1</th>\n      <td>1.0</td>\n      <td>2.454807</td>\n      <td>38.0</td>\n      <td>93.282666</td>\n      <td>3.0</td>\n      <td>2.330385</td>\n      <td>58.0</td>\n      <td>45.054108</td>\n      <td>2.0</td>\n      <td>2.675317</td>\n      <td>66.0</td>\n      <td>88.285456</td>\n      <td>0.0</td>\n      <td>0.000000</td>\n      <td>6.0</td>\n      <td>11.468569</td>\n      <td>0.0</td>\n      <td>0.000000</td>\n      <td>36.0</td>\n      <td>72.239111</td>\n      <td>1.0</td>\n      <td>0.926648</td>\n      <td>39.0</td>\n      <td>36.139253</td>\n      <td>5.0</td>\n      <td>8.768299</td>\n      <td>23.0</td>\n      <td>40.334177</td>\n      <td>0.0</td>\n      <td>0.0</td>\n      <td>3.0</td>\n      <td>16.542415</td>\n    </tr>\n    <tr>\n      <th>WBGene00000150</th>\n      <th>apm-1</th>\n      <td>3.0</td>\n      <td>7.364421</td>\n      <td>28.0</td>\n      <td>68.734596</td>\n      <td>4.0</td>\n      <td>3.107180</td>\n      <td>56.0</td>\n      <td>43.500518</td>\n      <td>1.0</td>\n      <td>1.337658</td>\n      <td>63.0</td>\n      <td>84.272481</td>\n      <td>0.0</td>\n      <td>0.000000</td>\n      <td>8.0</td>\n      <td>15.291426</td>\n      <td>1.0</td>\n      <td>2.006642</td>\n      <td>34.0</td>\n      <td>68.225827</td>\n      <td>2.0</td>\n      <td>1.853295</td>\n      <td>31.0</td>\n      <td>28.726073</td>\n      <td>7.0</td>\n      <td>12.275619</td>\n      <td>30.0</td>\n      <td>52.609797</td>\n      <td>0.0</td>\n      <td>0.0</td>\n      <td>11.0</td>\n      <td>60.655521</td>\n    </tr>\n    <tr>\n      <th>WBGene00000158</th>\n      <th>apg-1</th>\n      <td>4.0</td>\n      <td>9.819228</td>\n      <td>21.0</td>\n      <td>51.550947</td>\n      <td>1.0</td>\n      <td>0.776795</td>\n      <td>58.0</td>\n      <td>45.054108</td>\n      <td>2.0</td>\n      <td>2.675317</td>\n      <td>60.0</td>\n      <td>80.259506</td>\n      <td>0.0</td>\n      <td>0.000000</td>\n      <td>13.0</td>\n      <td>24.848567</td>\n      <td>5.0</td>\n      <td>10.033210</td>\n      <td>41.0</td>\n      <td>82.272321</td>\n      <td>5.0</td>\n      <td>4.633238</td>\n      <td>36.0</td>\n      <td>33.359310</td>\n      <td>1.0</td>\n      <td>1.753660</td>\n      <td>33.0</td>\n      <td>57.870776</td>\n      <td>0.0</td>\n      <td>0.0</td>\n      <td>6.0</td>\n      <td>33.084830</td>\n    </tr>\n    <tr>\n      <th>...</th>\n      <th>...</th>\n      <th>...</th>\n      <td>...</td>\n      <td>...</td>\n      <td>...</td>\n      <td>...</td>\n      <td>...</td>\n      <td>...</td>\n      <td>...</td>\n      <td>...</td>\n      <td>...</td>\n      <td>...</td>\n      <td>...</td>\n      <td>...</td>\n      <td>...</td>\n      <td>...</td>\n      <td>...</td>\n      <td>...</td>\n      <td>...</td>\n      <td>...</td>\n      <td>...</td>\n      <td>...</td>\n      <td>...</td>\n      <td>...</td>\n      <td>...</td>\n      <td>...</td>\n      <td>...</td>\n      <td>...</td>\n      <td>...</td>\n      <td>...</td>\n      <td>...</td>\n      <td>...</td>\n      <td>...</td>\n      <td>...</td>\n    </tr>\n    <tr>\n      <th rowspan=\"5\" valign=\"top\">X</th>\n      <th>WBGene00173542</th>\n      <th>21ur-7915</th>\n      <td>0.0</td>\n      <td>0.000000</td>\n      <td>0.0</td>\n      <td>0.000000</td>\n      <td>0.0</td>\n      <td>0.000000</td>\n      <td>0.0</td>\n      <td>0.000000</td>\n      <td>0.0</td>\n      <td>0.000000</td>\n      <td>0.0</td>\n      <td>0.000000</td>\n      <td>0.0</td>\n      <td>0.000000</td>\n      <td>0.0</td>\n      <td>0.000000</td>\n      <td>0.0</td>\n      <td>0.000000</td>\n      <td>0.0</td>\n      <td>0.000000</td>\n      <td>0.0</td>\n      <td>0.000000</td>\n      <td>0.0</td>\n      <td>0.000000</td>\n      <td>0.0</td>\n      <td>0.000000</td>\n      <td>0.0</td>\n      <td>0.000000</td>\n      <td>0.0</td>\n      <td>0.0</td>\n      <td>1.0</td>\n      <td>5.514138</td>\n    </tr>\n    <tr>\n      <th>WBGene00174909</th>\n      <th>21ur-14059</th>\n      <td>0.0</td>\n      <td>0.000000</td>\n      <td>0.0</td>\n      <td>0.000000</td>\n      <td>0.0</td>\n      <td>0.000000</td>\n      <td>0.0</td>\n      <td>0.000000</td>\n      <td>0.0</td>\n      <td>0.000000</td>\n      <td>0.0</td>\n      <td>0.000000</td>\n      <td>0.0</td>\n      <td>0.000000</td>\n      <td>0.0</td>\n      <td>0.000000</td>\n      <td>0.0</td>\n      <td>0.000000</td>\n      <td>0.0</td>\n      <td>0.000000</td>\n      <td>0.0</td>\n      <td>0.000000</td>\n      <td>0.0</td>\n      <td>0.000000</td>\n      <td>0.0</td>\n      <td>0.000000</td>\n      <td>0.0</td>\n      <td>0.000000</td>\n      <td>0.0</td>\n      <td>0.0</td>\n      <td>1.0</td>\n      <td>5.514138</td>\n    </tr>\n    <tr>\n      <th>WBGene00199316</th>\n      <th>PDB1.2</th>\n      <td>0.0</td>\n      <td>0.000000</td>\n      <td>0.0</td>\n      <td>0.000000</td>\n      <td>0.0</td>\n      <td>0.000000</td>\n      <td>0.0</td>\n      <td>0.000000</td>\n      <td>0.0</td>\n      <td>0.000000</td>\n      <td>0.0</td>\n      <td>0.000000</td>\n      <td>0.0</td>\n      <td>0.000000</td>\n      <td>0.0</td>\n      <td>0.000000</td>\n      <td>0.0</td>\n      <td>0.000000</td>\n      <td>0.0</td>\n      <td>0.000000</td>\n      <td>0.0</td>\n      <td>0.000000</td>\n      <td>0.0</td>\n      <td>0.000000</td>\n      <td>0.0</td>\n      <td>0.000000</td>\n      <td>0.0</td>\n      <td>0.000000</td>\n      <td>0.0</td>\n      <td>0.0</td>\n      <td>1.0</td>\n      <td>5.514138</td>\n    </tr>\n    <tr>\n      <th>WBGene00206484</th>\n      <th>C31H2.14</th>\n      <td>0.0</td>\n      <td>0.000000</td>\n      <td>0.0</td>\n      <td>0.000000</td>\n      <td>0.0</td>\n      <td>0.000000</td>\n      <td>0.0</td>\n      <td>0.000000</td>\n      <td>0.0</td>\n      <td>0.000000</td>\n      <td>0.0</td>\n      <td>0.000000</td>\n      <td>0.0</td>\n      <td>0.000000</td>\n      <td>0.0</td>\n      <td>0.000000</td>\n      <td>0.0</td>\n      <td>0.000000</td>\n      <td>0.0</td>\n      <td>0.000000</td>\n      <td>0.0</td>\n      <td>0.000000</td>\n      <td>0.0</td>\n      <td>0.000000</td>\n      <td>0.0</td>\n      <td>0.000000</td>\n      <td>0.0</td>\n      <td>0.000000</td>\n      <td>0.0</td>\n      <td>0.0</td>\n      <td>1.0</td>\n      <td>5.514138</td>\n    </tr>\n    <tr>\n      <th>WBGene00235152</th>\n      <th>Y7A5A.22</th>\n      <td>0.0</td>\n      <td>0.000000</td>\n      <td>0.0</td>\n      <td>0.000000</td>\n      <td>0.0</td>\n      <td>0.000000</td>\n      <td>0.0</td>\n      <td>0.000000</td>\n      <td>0.0</td>\n      <td>0.000000</td>\n      <td>0.0</td>\n      <td>0.000000</td>\n      <td>0.0</td>\n      <td>0.000000</td>\n      <td>0.0</td>\n      <td>0.000000</td>\n      <td>0.0</td>\n      <td>0.000000</td>\n      <td>0.0</td>\n      <td>0.000000</td>\n      <td>0.0</td>\n      <td>0.000000</td>\n      <td>0.0</td>\n      <td>0.000000</td>\n      <td>0.0</td>\n      <td>0.000000</td>\n      <td>0.0</td>\n      <td>0.000000</td>\n      <td>0.0</td>\n      <td>0.0</td>\n      <td>1.0</td>\n      <td>5.514138</td>\n    </tr>\n  </tbody>\n</table>\n<p>16758 rows × 32 columns</p>\n</div>"
     },
     "execution_count": 36,
     "metadata": {},
     "output_type": "execute_result"
    }
   ],
   "source": [
    "conversion_dict = CONVERSION_DICT\n",
    "ans = [y for x, y in compressed_df_genes_short.groupby(['lib', 't5'], as_index=False)]\n",
    "df_dict = {}\n",
    "for i, df in enumerate(ans):\n",
    "    lib = df.lib.unique()[0]\n",
    "    t5 = df.t5.unique()[0]\n",
    "    df = df[[\"chr_id\", \"gene_id\", \"gene_name\", \"gene_hits\", \"gene_rpm\"]]\n",
    "    df = df.rename(columns={col: f'{col}_{conversion_dict[lib]}_t5{t5}' for col in df.columns if col not in [\"chr_id\", \"gene_id\", \"gene_name\"]})\n",
    "    df_dict[(conversion_dict[lib], t5)] = df.set_index([\"chr_id\", \"gene_id\", \"gene_name\"])\n",
    "    # print((conversion_dict[lib], t5))\n",
    "    # print(df_dict[(conversion_dict[lib], t5)].query(\"gene_name == 'rpl-12'\"))\n",
    "\n",
    "super_df = pd.concat(df_dict.values(), axis=1, join='outer').fillna(0)\n",
    "super_df"
   ],
   "metadata": {
    "collapsed": false,
    "ExecuteTime": {
     "end_time": "2023-09-21T00:10:01.360657862Z",
     "start_time": "2023-09-21T00:09:58.964033098Z"
    }
   }
  },
  {
   "cell_type": "code",
   "execution_count": 37,
   "outputs": [],
   "source": [
    "# Regenerate just the total RPM for each gene:\n",
    "for lib in libs_to_load:\n",
    "    super_df[f\"gene_rpm_{lib}\"] = super_df[[f\"gene_rpm_{lib}_t5+\", f\"gene_rpm_{lib}_t5-\"]].sum(axis=1)"
   ],
   "metadata": {
    "collapsed": false,
    "ExecuteTime": {
     "end_time": "2023-09-21T00:10:01.361150436Z",
     "start_time": "2023-09-21T00:10:01.270791791Z"
    }
   }
  },
  {
   "cell_type": "code",
   "execution_count": 66,
   "outputs": [],
   "source": [
    "from plotly.subplots import make_subplots\n",
    "from plotly import graph_objects as go\n",
    "plot_df = super_df.copy()\n",
    "genes_to_exclude = ['xrn-1', 'rrn-2.1', 'F23A7.4', 'F23A7.8', 'unNamed']\n",
    "plot_df = plot_df[~plot_df.index.get_level_values('gene_name').isin(genes_to_exclude)]\n",
    "plot_df = plot_df.sort_index()\n",
    "\n",
    "def plot_rockets(l1, l2, plotting_df, save_dir=None, force_limits=False):\n",
    "    fig = make_subplots(rows=1, cols=3,\n",
    "                        subplot_titles=[f\"{l1} vs {l2} RPM (total)\",\n",
    "                                        f\"{l1} vs {l2} RPM (unadapted)\",\n",
    "                                        f\"{l1} vs {l2} RPM (adapted)\",\n",
    "                                        ],\n",
    "                        # shared_yaxes=True,\n",
    "                        # shared_xaxes=True,\n",
    "                        row_heights=[500],\n",
    "                        column_widths=[500, 500, 500],\n",
    "                        )\n",
    "    for i, t5 in enumerate(['', '_t5-', '_t5+']):\n",
    "        subplot = px.scatter(plotting_df.reset_index(),\n",
    "                             x=f\"gene_rpm_{l1}{t5}\",\n",
    "                             y=f\"gene_rpm_{l2}{t5}\",\n",
    "                             hover_name=\"gene_name\",\n",
    "                             )\n",
    "        fig.add_trace(subplot.data[0], row=1, col=i + 1)\n",
    "\n",
    "        fig.update_xaxes(\n",
    "            title=f\"{l1} RPM {t5.strip('_')}\",\n",
    "            ticks=\"inside\", ticklen=5, showgrid=True, gridcolor='lightgrey', type='log',\n",
    "            minor=dict(ticks=\"inside\", ticklen=5, showgrid=True),\n",
    "            row=1, col=i + 1,\n",
    "        )\n",
    "        fig.update_yaxes(\n",
    "            title=f\"{l2} RPM {t5.strip('_')}\",\n",
    "            ticks=\"inside\", ticklen=5, showgrid=True, gridcolor='lightgrey', type='log',\n",
    "            minor=dict(ticks=\"inside\", ticklen=5, showgrid=True),\n",
    "            row=1, col=i + 1,\n",
    "        )\n",
    "        if force_limits:\n",
    "            if i != 2:\n",
    "                limits = [0.5, 4.5]\n",
    "            else:\n",
    "                limits = [0, 3]\n",
    "            fig.update_xaxes(range=limits, row=1, col=i + 1)\n",
    "            fig.update_yaxes(range=limits, row=1, col=i + 1)\n",
    "    fig.update_traces(marker=dict(size=5,\n",
    "                                  color='black',\n",
    "                                  ),\n",
    "                      )\n",
    "    fig.update_layout(height=500,\n",
    "                      width=1500,\n",
    "                      template='none')\n",
    "    if save_dir:\n",
    "        if not Path(save_dir).exists():\n",
    "            warnings.warn(f\"Save directory doesn't exist! Making it now at: {save_dir}\")\n",
    "            Path(save_dir).mkdir(parents=True)\n",
    "        fig.write_html(f\"{save_dir}/{l1}_v_{l2}_scatters.html\")\n",
    "        fig.write_image(f\"{save_dir}/{l1}_v_{l2}_scatters.png\")\n",
    "        fig.write_image(f\"{save_dir}/{l1}_v_{l2}_scatters.svg\")\n",
    "    \n",
    "    fig.show(renderer='firefox')\n",
    "    return fig\n",
    "\n",
    "def plot_rocket_grid(libs, plotting_df, save_dir=None, force_limits=True):\n",
    "    lib_list_in_order = sorted(libs)\n",
    "    plotting_df = plotting_df[[f\"gene_rpm_{lib}\" for lib in lib_list_in_order]]\n",
    "    fig = go.Figure(data=go.Splom(\n",
    "        dimensions=[dict(label=f\"{lib}\", values=plotting_df[f\"gene_rpm_{lib}\"]) for lib in lib_list_in_order],\n",
    "        showupperhalf=False,\n",
    "        text=plotting_df.index.get_level_values('gene_name'),\n",
    "        marker=dict(color='black',\n",
    "                    size=5,\n",
    "                    opacity=0.5),\n",
    "    ))\n",
    "    fig.update_layout(\n",
    "        title=f\"Gene RPMs for {', '.join(libs)}\",\n",
    "        width=1000,\n",
    "        height=1000,\n",
    "    )\n",
    "    axes_layout_dir = dict(ticks=\"inside\", ticklen=5, showgrid=True, gridcolor='lightgrey', type='log',\n",
    "                           minor=dict(ticks=\"inside\", ticklen=5, showgrid=True))\n",
    "    if force_limits:\n",
    "        axes_layout_dir['range'] = [0.5, 4.5]\n",
    "    update_layout_dict_base = {'xaxis': axes_layout_dir, 'yaxis': axes_layout_dir}\n",
    "    update_layout_dict_xauto = {f'xaxis{i}': axes_layout_dir for i in range(1, len(libs) + 1)}\n",
    "    update_layout_dict_yauto = {f'yaxis{i}': axes_layout_dir for i in range(1, len(libs) + 1)}\n",
    "    update_layout_dict = {**update_layout_dict_base, **update_layout_dict_xauto, **update_layout_dict_yauto}\n",
    "    fig.update_layout(**update_layout_dict)\n",
    "    if save_dir:\n",
    "        if not Path(save_dir).exists():\n",
    "            warnings.warn(f\"Save directory doesn't exist! Making it now at: {save_dir}\")\n",
    "            Path(save_dir).mkdir(parents=True)\n",
    "        fig.write_html(f\"{save_dir}/{'-'.join(libs)}_scatters.html\")\n",
    "        fig.write_image(f\"{save_dir}/{'-'.join(libs)}_scatters.png\")\n",
    "        fig.write_image(f\"{save_dir}/{'-'.join(libs)}_scatters.svg\")\n",
    "    fig.show()"
   ],
   "metadata": {
    "collapsed": false,
    "ExecuteTime": {
     "end_time": "2023-09-21T00:38:13.829143530Z",
     "start_time": "2023-09-21T00:38:13.815326670Z"
    }
   }
  },
  {
   "cell_type": "code",
   "execution_count": 57,
   "outputs": [
    {
     "name": "stderr",
     "output_type": "stream",
     "text": [
      "----------------------------------------\n",
      "Exception happened during processing of request from ('127.0.0.1', 52998)\n",
      "Traceback (most recent call last):\n",
      "  File \"/usr/lib/python3.8/socketserver.py\", line 316, in _handle_request_noblock\n",
      "    self.process_request(request, client_address)\n",
      "  File \"/usr/lib/python3.8/socketserver.py\", line 347, in process_request\n",
      "    self.finish_request(request, client_address)\n",
      "  File \"/usr/lib/python3.8/socketserver.py\", line 360, in finish_request\n",
      "    self.RequestHandlerClass(request, client_address, self)\n",
      "  File \"/usr/lib/python3.8/socketserver.py\", line 747, in __init__\n",
      "    self.handle()\n",
      "  File \"/usr/lib/python3.8/http/server.py\", line 427, in handle\n",
      "    self.handle_one_request()\n",
      "  File \"/usr/lib/python3.8/http/server.py\", line 415, in handle_one_request\n",
      "    method()\n",
      "  File \"/usr/local/lib/python3.8/dist-packages/plotly/io/_base_renderers.py\", line 697, in do_GET\n",
      "    self.wfile.write(html[i : i + bufferSize])\n",
      "  File \"/usr/lib/python3.8/socketserver.py\", line 826, in write\n",
      "    self._sock.sendall(b)\n",
      "BrokenPipeError: [Errno 32] Broken pipe\n",
      "----------------------------------------\n",
      "----------------------------------------\n",
      "Exception happened during processing of request from ('127.0.0.1', 35694)\n",
      "Traceback (most recent call last):\n",
      "  File \"/usr/lib/python3.8/socketserver.py\", line 316, in _handle_request_noblock\n",
      "    self.process_request(request, client_address)\n",
      "  File \"/usr/lib/python3.8/socketserver.py\", line 347, in process_request\n",
      "    self.finish_request(request, client_address)\n",
      "  File \"/usr/lib/python3.8/socketserver.py\", line 360, in finish_request\n",
      "    self.RequestHandlerClass(request, client_address, self)\n",
      "  File \"/usr/lib/python3.8/socketserver.py\", line 747, in __init__\n",
      "    self.handle()\n",
      "  File \"/usr/lib/python3.8/http/server.py\", line 427, in handle\n",
      "    self.handle_one_request()\n",
      "  File \"/usr/lib/python3.8/http/server.py\", line 415, in handle_one_request\n",
      "    method()\n",
      "  File \"/usr/local/lib/python3.8/dist-packages/plotly/io/_base_renderers.py\", line 697, in do_GET\n",
      "    self.wfile.write(html[i : i + bufferSize])\n",
      "  File \"/usr/lib/python3.8/socketserver.py\", line 826, in write\n",
      "    self._sock.sendall(b)\n",
      "BrokenPipeError: [Errno 32] Broken pipe\n",
      "----------------------------------------\n",
      "----------------------------------------\n",
      "Exception happened during processing of request from ('127.0.0.1', 45920)\n",
      "Traceback (most recent call last):\n",
      "  File \"/usr/lib/python3.8/socketserver.py\", line 316, in _handle_request_noblock\n",
      "    self.process_request(request, client_address)\n",
      "  File \"/usr/lib/python3.8/socketserver.py\", line 347, in process_request\n",
      "    self.finish_request(request, client_address)\n",
      "  File \"/usr/lib/python3.8/socketserver.py\", line 360, in finish_request\n",
      "    self.RequestHandlerClass(request, client_address, self)\n",
      "  File \"/usr/lib/python3.8/socketserver.py\", line 747, in __init__\n",
      "    self.handle()\n",
      "  File \"/usr/lib/python3.8/http/server.py\", line 427, in handle\n",
      "    self.handle_one_request()\n",
      "  File \"/usr/lib/python3.8/http/server.py\", line 415, in handle_one_request\n",
      "    method()\n",
      "  File \"/usr/local/lib/python3.8/dist-packages/plotly/io/_base_renderers.py\", line 697, in do_GET\n",
      "    self.wfile.write(html[i : i + bufferSize])\n",
      "  File \"/usr/lib/python3.8/socketserver.py\", line 826, in write\n",
      "    self._sock.sendall(b)\n",
      "BrokenPipeError: [Errno 32] Broken pipe\n",
      "----------------------------------------\n"
     ]
    }
   ],
   "source": [
    "# lib_combinations = [(l1, l2) for l1 in libs_to_load for l2 in libs_to_load if l1 != l2]\n",
    "lib_combinations = [\n",
    "    # ('oldS6', 'newerS6'),\n",
    "    # ('oldN2', 'newerN2'),\n",
    "    # ('oldN2', 'oldS6'),\n",
    "    ('newerN2', 'newerS6'),\n",
    "    # ('newerN2', 'newerS5'),\n",
    "    ('newerS6', 'thirdS6'),\n",
    "    ('newerN2', 'thirdS6'),\n",
    "    \n",
    "]\n",
    "\n",
    "output_directory = f\"/home/marcus/Insync/mviscard@ucsc.edu/Google Drive/insync_folder/NMD_cleavage_and_deadenylation_paper/raw_figures_from_python/{npCommon.get_dt()}_scatterPlots\"\n",
    "\n",
    "for lib_1, lib_2 in lib_combinations:\n",
    "    plot_rockets(lib_1, lib_2, plot_df, save_dir=output_directory, force_limits=True)"
   ],
   "metadata": {
    "collapsed": false,
    "ExecuteTime": {
     "end_time": "2023-09-21T00:35:54.503646261Z",
     "start_time": "2023-09-21T00:35:35.398537059Z"
    }
   }
  },
  {
   "cell_type": "code",
   "execution_count": 69,
   "outputs": [],
   "source": [
    "libs_to_plot = ['newerN2', 'newerS6', 'newerS5', 'thirdN2', 'thirdS5', 'thirdS6']\n",
    "\n",
    "plot_rocket_grid(libs_to_plot,\n",
    "                 plot_df,\n",
    "                 save_dir=output_directory,\n",
    "                 force_limits=True)"
   ],
   "metadata": {
    "collapsed": false,
    "ExecuteTime": {
     "end_time": "2023-09-21T00:51:00.780064591Z",
     "start_time": "2023-09-21T00:50:57.051465132Z"
    }
   }
  },
  {
   "cell_type": "code",
   "execution_count": null,
   "outputs": [],
   "source": [],
   "metadata": {
    "collapsed": false
   }
  }
 ],
 "metadata": {
  "kernelspec": {
   "display_name": "Python 3",
   "language": "python",
   "name": "python3"
  },
  "language_info": {
   "codemirror_mode": {
    "name": "ipython",
    "version": 2
   },
   "file_extension": ".py",
   "mimetype": "text/x-python",
   "name": "python",
   "nbconvert_exporter": "python",
   "pygments_lexer": "ipython2",
   "version": "2.7.6"
  }
 },
 "nbformat": 4,
 "nbformat_minor": 0
}
