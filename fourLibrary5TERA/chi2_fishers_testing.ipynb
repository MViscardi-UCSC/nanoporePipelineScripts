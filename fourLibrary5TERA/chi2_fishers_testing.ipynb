{
 "cells": [
  {
   "cell_type": "code",
   "execution_count": 1,
   "metadata": {
    "collapsed": true
   },
   "outputs": [
    {
     "name": "stdout",
     "output_type": "stream",
     "text": [
      "Imports done at 04/03/23 @ 05:51:12 PM\n"
     ]
    }
   ],
   "source": [
    "import sys\n",
    "import warnings\n",
    "sys.path.insert(0, '/data16/marcus/scripts/nanoporePipelineScripts')\n",
    "import nanoporePipelineCommon as npCommon\n",
    "\n",
    "from tqdm.notebook import tqdm\n",
    "\n",
    "import seaborn as sea\n",
    "import matplotlib.pyplot as plt\n",
    "import plotly.express as px\n",
    "import plotly.graph_objects as go\n",
    "import plotly.io as pio\n",
    "pio.renderers.default = \"browser\"\n",
    "\n",
    "import numpy as np\n",
    "import pandas as pd\n",
    "import statistics as stats\n",
    "pd.set_option('display.width', 200)\n",
    "pd.set_option('display.max_columns', None)\n",
    "\n",
    "CONVERSION_DICT = {\"xrn-1-5tera\": \"oldN2\",\n",
    "                   \"xrn-1-5tera-smg-6\": \"oldS6\",\n",
    "                   \"5tera_xrn-1-KD_wt\": \"newN2\",\n",
    "                   \"5tera_xrn-1-KD_smg-5\": \"newS5\",\n",
    "                   \"5tera_xrn-1-KD_smg-6\": \"newS6\",\n",
    "                   \"5tera_xrn-1-KD_smg-7\": \"newS7\",\n",
    "                   \"5tera_xrn-1-KD_wt_rerun\": \"newerN2\",\n",
    "                   \"5tera_xrn-1-KD_smg-6_rerun\": \"newerS6\",\n",
    "                   \"sPM57\": \"sPM57\",\n",
    "                   \"sPM58\": \"sPM58\",\n",
    "                   }\n",
    "REV_CONVERSION_DICT = {val: key for key, val in CONVERSION_DICT.items()}\n",
    "\n",
    "print(f\"Imports done at {npCommon.get_dt(for_print=True)}\")"
   ]
  },
  {
   "cell_type": "markdown",
   "source": [
    "# Load pre-processed files:"
   ],
   "metadata": {
    "collapsed": false
   }
  },
  {
   "cell_type": "code",
   "execution_count": 5,
   "outputs": [
    {
     "name": "stdout",
     "output_type": "stream",
     "text": [
      "Found preprocessed files at:\n",
      "\t./output_files/mega_merge_parquets/230403_newN2-newS6-newerN2-newerS6-oldN2-oldS6_merged5TERA.reads_df.parquet\n",
      "and:\n",
      "\t./output_files/mega_merge_parquets/230403_newN2-newS6-newerN2-newerS6-oldN2-oldS6_merged5TERA.compressed_df.parquet\n",
      "Lib load done @ 04/03/23 @ 05:55:44 PM\n"
     ]
    },
    {
     "data": {
      "text/plain": "                              lib chr_id         gene_id gene_name t5  gene_hits     gene_rpm\n4278         5tera_xrn-1-KD_smg-6     IV  WBGene00004424    rpl-12  -        435  6386.914900\n4279         5tera_xrn-1-KD_smg-6     IV  WBGene00004424    rpl-12  +          6    88.095378\n17486  5tera_xrn-1-KD_smg-6_rerun     IV  WBGene00004424    rpl-12  -       5440  7276.861853\n17487  5tera_xrn-1-KD_smg-6_rerun     IV  WBGene00004424    rpl-12  +         53    70.895897\n31241           5tera_xrn-1-KD_wt     IV  WBGene00004424    rpl-12  -        453  4157.031164\n31242           5tera_xrn-1-KD_wt     IV  WBGene00004424    rpl-12  +         10    91.766692\n44390     5tera_xrn-1-KD_wt_rerun     IV  WBGene00004424    rpl-12  -       1739  3489.550412\n44391     5tera_xrn-1-KD_wt_rerun     IV  WBGene00004424    rpl-12  +         36    72.239111\n61672                 xrn-1-5tera     IV  WBGene00004424    rpl-12  -       1829  3207.443935\n61673                 xrn-1-5tera     IV  WBGene00004424    rpl-12  +         52    91.190314\n76684           xrn-1-5tera-smg-6     IV  WBGene00004424    rpl-12  -        532  2933.521549\n76685           xrn-1-5tera-smg-6     IV  WBGene00004424    rpl-12  +          6    33.084830",
      "text/html": "<div>\n<style scoped>\n    .dataframe tbody tr th:only-of-type {\n        vertical-align: middle;\n    }\n\n    .dataframe tbody tr th {\n        vertical-align: top;\n    }\n\n    .dataframe thead th {\n        text-align: right;\n    }\n</style>\n<table border=\"1\" class=\"dataframe\">\n  <thead>\n    <tr style=\"text-align: right;\">\n      <th></th>\n      <th>lib</th>\n      <th>chr_id</th>\n      <th>gene_id</th>\n      <th>gene_name</th>\n      <th>t5</th>\n      <th>gene_hits</th>\n      <th>gene_rpm</th>\n    </tr>\n  </thead>\n  <tbody>\n    <tr>\n      <th>4278</th>\n      <td>5tera_xrn-1-KD_smg-6</td>\n      <td>IV</td>\n      <td>WBGene00004424</td>\n      <td>rpl-12</td>\n      <td>-</td>\n      <td>435</td>\n      <td>6386.914900</td>\n    </tr>\n    <tr>\n      <th>4279</th>\n      <td>5tera_xrn-1-KD_smg-6</td>\n      <td>IV</td>\n      <td>WBGene00004424</td>\n      <td>rpl-12</td>\n      <td>+</td>\n      <td>6</td>\n      <td>88.095378</td>\n    </tr>\n    <tr>\n      <th>17486</th>\n      <td>5tera_xrn-1-KD_smg-6_rerun</td>\n      <td>IV</td>\n      <td>WBGene00004424</td>\n      <td>rpl-12</td>\n      <td>-</td>\n      <td>5440</td>\n      <td>7276.861853</td>\n    </tr>\n    <tr>\n      <th>17487</th>\n      <td>5tera_xrn-1-KD_smg-6_rerun</td>\n      <td>IV</td>\n      <td>WBGene00004424</td>\n      <td>rpl-12</td>\n      <td>+</td>\n      <td>53</td>\n      <td>70.895897</td>\n    </tr>\n    <tr>\n      <th>31241</th>\n      <td>5tera_xrn-1-KD_wt</td>\n      <td>IV</td>\n      <td>WBGene00004424</td>\n      <td>rpl-12</td>\n      <td>-</td>\n      <td>453</td>\n      <td>4157.031164</td>\n    </tr>\n    <tr>\n      <th>31242</th>\n      <td>5tera_xrn-1-KD_wt</td>\n      <td>IV</td>\n      <td>WBGene00004424</td>\n      <td>rpl-12</td>\n      <td>+</td>\n      <td>10</td>\n      <td>91.766692</td>\n    </tr>\n    <tr>\n      <th>44390</th>\n      <td>5tera_xrn-1-KD_wt_rerun</td>\n      <td>IV</td>\n      <td>WBGene00004424</td>\n      <td>rpl-12</td>\n      <td>-</td>\n      <td>1739</td>\n      <td>3489.550412</td>\n    </tr>\n    <tr>\n      <th>44391</th>\n      <td>5tera_xrn-1-KD_wt_rerun</td>\n      <td>IV</td>\n      <td>WBGene00004424</td>\n      <td>rpl-12</td>\n      <td>+</td>\n      <td>36</td>\n      <td>72.239111</td>\n    </tr>\n    <tr>\n      <th>61672</th>\n      <td>xrn-1-5tera</td>\n      <td>IV</td>\n      <td>WBGene00004424</td>\n      <td>rpl-12</td>\n      <td>-</td>\n      <td>1829</td>\n      <td>3207.443935</td>\n    </tr>\n    <tr>\n      <th>61673</th>\n      <td>xrn-1-5tera</td>\n      <td>IV</td>\n      <td>WBGene00004424</td>\n      <td>rpl-12</td>\n      <td>+</td>\n      <td>52</td>\n      <td>91.190314</td>\n    </tr>\n    <tr>\n      <th>76684</th>\n      <td>xrn-1-5tera-smg-6</td>\n      <td>IV</td>\n      <td>WBGene00004424</td>\n      <td>rpl-12</td>\n      <td>-</td>\n      <td>532</td>\n      <td>2933.521549</td>\n    </tr>\n    <tr>\n      <th>76685</th>\n      <td>xrn-1-5tera-smg-6</td>\n      <td>IV</td>\n      <td>WBGene00004424</td>\n      <td>rpl-12</td>\n      <td>+</td>\n      <td>6</td>\n      <td>33.084830</td>\n    </tr>\n  </tbody>\n</table>\n</div>"
     },
     "execution_count": 5,
     "metadata": {},
     "output_type": "execute_result"
    }
   ],
   "source": [
    "regenerate = False\n",
    "libs_to_load = sorted({\n",
    "    'oldN2',\n",
    "    'newN2',\n",
    "    'newerN2',\n",
    "    'oldS6',\n",
    "    'newS6',\n",
    "    'newerS6',\n",
    "    # 'newS5',\n",
    "    # 'newerS5',\n",
    "    # 'newS7',\n",
    "})\n",
    "\n",
    "try:\n",
    "    if regenerate:\n",
    "        raise ValueError\n",
    "    \n",
    "    reads_df_raw_path = npCommon.find_newest_matching_file(f\"./output_files/mega_merge_parquets/*_{'-'.join(libs_to_load)}_merged5TERA.reads_df.parquet\")\n",
    "    compressed_df_genes_raw_path = npCommon.find_newest_matching_file(f\"./output_files/mega_merge_parquets/*_{'-'.join(libs_to_load)}_merged5TERA.compressed_df.parquet\")\n",
    "    print(f\"Found preprocessed files at:\\n\\t{reads_df_raw_path}\\nand:\\n\\t{compressed_df_genes_raw_path}\")\n",
    "\n",
    "    reads_df_genes_raw = pd.read_parquet(reads_df_raw_path)\n",
    "    compressed_df_genes_raw = pd.read_parquet(compressed_df_genes_raw_path)\n",
    "except ValueError:\n",
    "    print(f\"Could not find preprocessed files matching these libs: {'/'.join(libs_to_load)}\\nGoing to create new ones from scratch! This will take longer.\")\n",
    "    reads_df_genes_raw, compressed_df_genes_raw = npCommon.load_and_merge_lib_parquets([REV_CONVERSION_DICT[lib] for lib in libs_to_load],\n",
    "                                                                                       drop_sub_n=1,\n",
    "                                                                                       add_tail_groupings=False,\n",
    "                                                                                       drop_failed_polya=False,\n",
    "                                                                                       group_by_t5=True,\n",
    "                                                                                       use_josh_assignment=False)\n",
    "    print(f\"Saving new parquets to speed up future runs.\")\n",
    "    reads_df_genes_raw.to_parquet(f\"./output_files/mega_merge_parquets/{npCommon.get_dt()}_{'-'.join(libs_to_load)}_merged5TERA.reads_df.parquet\")\n",
    "    compressed_df_genes_raw.to_parquet(f\"./output_files/mega_merge_parquets/{npCommon.get_dt()}_{'-'.join(libs_to_load)}_merged5TERA.compressed_df.parquet\")\n",
    "print(f\"Lib load done @ {npCommon.get_dt(for_print=True)}\")\n",
    "\n",
    "compressed_df_genes_short = compressed_df_genes_raw.copy()[[\"lib\", \"chr_id\", \"gene_id\", \"gene_name\", \"t5\", \"gene_hits\", \"gene_rpm\"]]\n",
    "compressed_df_genes_short.query(\"gene_name == 'rpl-12'\")"
   ],
   "metadata": {
    "collapsed": false
   }
  },
  {
   "cell_type": "markdown",
   "source": [
    "# Format libraries as columns with shortened names"
   ],
   "metadata": {
    "collapsed": false
   }
  },
  {
   "cell_type": "code",
   "execution_count": 3,
   "outputs": [
    {
     "data": {
      "text/plain": "                                 gene_hits_newS6_t5+  gene_rpm_newS6_t5+  gene_hits_newS6_t5-  gene_rpm_newS6_t5-  gene_hits_newerS6_t5+  gene_rpm_newerS6_t5+  gene_hits_newerS6_t5-  \\\nchr_id gene_id        gene_name                                                                                                                                                         \nI      WBGene00000165 aps-3                      2.0           29.365126                 14.0          205.555882                    0.0              0.000000                   41.0   \n       WBGene00000230 atp-3                      2.0           29.365126                 82.0         1203.970165                   12.0             16.051901                  871.0   \n       WBGene00000473 cey-2                      1.0           14.682563                  7.0          102.777941                    1.0              1.337658                  135.0   \n       WBGene00000634 col-58                     1.0           14.682563                  7.0          102.777941                    2.0              2.675317                   36.0   \n       WBGene00000869 cyc-1                      1.0           14.682563                  5.0           73.412815                    0.0              0.000000                   99.0   \n...                                              ...                 ...                  ...                 ...                    ...                   ...                    ...   \nX      WBGene00197761 C18A11.10                  0.0            0.000000                  0.0            0.000000                    0.0              0.000000                    0.0   \n       WBGene00199316 PDB1.2                     0.0            0.000000                  0.0            0.000000                    0.0              0.000000                    0.0   \n       WBGene00206484 C31H2.14                   0.0            0.000000                  0.0            0.000000                    0.0              0.000000                    0.0   \n       WBGene00220051 R160.11                    0.0            0.000000                  0.0            0.000000                    0.0              0.000000                    0.0   \n       WBGene00235152 Y7A5A.22                   0.0            0.000000                  0.0            0.000000                    0.0              0.000000                    0.0   \n\n                                 gene_rpm_newerS6_t5-  gene_hits_newN2_t5+  gene_rpm_newN2_t5+  gene_hits_newN2_t5-  gene_rpm_newN2_t5-  gene_hits_newerN2_t5+  gene_rpm_newerN2_t5+  \\\nchr_id gene_id        gene_name                                                                                                                                                        \nI      WBGene00000165 aps-3                 54.843996                  0.0            0.000000                 24.0          220.240062                    0.0              0.000000   \n       WBGene00000230 atp-3               1165.100492                  0.0            0.000000                 94.0          862.606908                    2.0              4.013284   \n       WBGene00000473 cey-2                180.583888                  1.0            9.176669                 66.0          605.660170                    2.0              4.013284   \n       WBGene00000634 col-58                48.155703                  2.0           18.353338                  8.0           73.413354                    4.0              8.026568   \n       WBGene00000869 cyc-1                132.428184                  0.0            0.000000                 15.0          137.650039                    2.0              4.013284   \n...                                               ...                  ...                 ...                  ...                 ...                    ...                   ...   \nX      WBGene00197761 C18A11.10              0.000000                  0.0            0.000000                  0.0            0.000000                    0.0              0.000000   \n       WBGene00199316 PDB1.2                 0.000000                  0.0            0.000000                  0.0            0.000000                    0.0              0.000000   \n       WBGene00206484 C31H2.14               0.000000                  0.0            0.000000                  0.0            0.000000                    0.0              0.000000   \n       WBGene00220051 R160.11                0.000000                  0.0            0.000000                  0.0            0.000000                    0.0              0.000000   \n       WBGene00235152 Y7A5A.22               0.000000                  0.0            0.000000                  0.0            0.000000                    0.0              0.000000   \n\n                                 gene_hits_newerN2_t5-  gene_rpm_newerN2_t5-  gene_hits_oldN2_t5+  gene_rpm_oldN2_t5+  gene_hits_oldN2_t5-  gene_rpm_oldN2_t5-  gene_hits_oldS6_t5+  \\\nchr_id gene_id        gene_name                                                                                                                                                       \nI      WBGene00000165 aps-3                       49.0             98.325457                  1.0            1.753660                 74.0          129.770832                  2.0   \n       WBGene00000230 atp-3                      534.0           1071.546820                  9.0           15.782939                535.0          938.208040                  4.0   \n       WBGene00000473 cey-2                      328.0            658.178571                  3.0            5.260980                645.0         1131.110628                  0.0   \n       WBGene00000634 col-58                      53.0            106.352025                  3.0            5.260980                 43.0           75.407375                  2.0   \n       WBGene00000869 cyc-1                       60.0            120.398519                  0.0            0.000000                 61.0          106.973253                  0.0   \n...                                                ...                   ...                  ...                 ...                  ...                 ...                  ...   \nX      WBGene00197761 C18A11.10                    0.0              0.000000                  0.0            0.000000                  0.0            0.000000                  0.0   \n       WBGene00199316 PDB1.2                       0.0              0.000000                  0.0            0.000000                  0.0            0.000000                  0.0   \n       WBGene00206484 C31H2.14                     0.0              0.000000                  0.0            0.000000                  0.0            0.000000                  0.0   \n       WBGene00220051 R160.11                      0.0              0.000000                  0.0            0.000000                  0.0            0.000000                  0.0   \n       WBGene00235152 Y7A5A.22                     0.0              0.000000                  0.0            0.000000                  0.0            0.000000                  0.0   \n\n                                 gene_rpm_oldS6_t5+  gene_hits_oldS6_t5-  gene_rpm_oldS6_t5-  \nchr_id gene_id        gene_name                                                               \nI      WBGene00000165 aps-3               11.028277                 98.0          540.385549  \n       WBGene00000230 atp-3               22.056553                106.0          584.498655  \n       WBGene00000473 cey-2                0.000000                 46.0          253.650360  \n       WBGene00000634 col-58              11.028277                 52.0          286.735189  \n       WBGene00000869 cyc-1                0.000000                 22.0          121.311042  \n...                                             ...                  ...                 ...  \nX      WBGene00197761 C18A11.10            0.000000                  1.0            5.514138  \n       WBGene00199316 PDB1.2               0.000000                  1.0            5.514138  \n       WBGene00206484 C31H2.14             0.000000                  1.0            5.514138  \n       WBGene00220051 R160.11              0.000000                  1.0            5.514138  \n       WBGene00235152 Y7A5A.22             0.000000                  1.0            5.514138  \n\n[15768 rows x 24 columns]",
      "text/html": "<div>\n<style scoped>\n    .dataframe tbody tr th:only-of-type {\n        vertical-align: middle;\n    }\n\n    .dataframe tbody tr th {\n        vertical-align: top;\n    }\n\n    .dataframe thead th {\n        text-align: right;\n    }\n</style>\n<table border=\"1\" class=\"dataframe\">\n  <thead>\n    <tr style=\"text-align: right;\">\n      <th></th>\n      <th></th>\n      <th></th>\n      <th>gene_hits_newS6_t5+</th>\n      <th>gene_rpm_newS6_t5+</th>\n      <th>gene_hits_newS6_t5-</th>\n      <th>gene_rpm_newS6_t5-</th>\n      <th>gene_hits_newerS6_t5+</th>\n      <th>gene_rpm_newerS6_t5+</th>\n      <th>gene_hits_newerS6_t5-</th>\n      <th>gene_rpm_newerS6_t5-</th>\n      <th>gene_hits_newN2_t5+</th>\n      <th>gene_rpm_newN2_t5+</th>\n      <th>gene_hits_newN2_t5-</th>\n      <th>gene_rpm_newN2_t5-</th>\n      <th>gene_hits_newerN2_t5+</th>\n      <th>gene_rpm_newerN2_t5+</th>\n      <th>gene_hits_newerN2_t5-</th>\n      <th>gene_rpm_newerN2_t5-</th>\n      <th>gene_hits_oldN2_t5+</th>\n      <th>gene_rpm_oldN2_t5+</th>\n      <th>gene_hits_oldN2_t5-</th>\n      <th>gene_rpm_oldN2_t5-</th>\n      <th>gene_hits_oldS6_t5+</th>\n      <th>gene_rpm_oldS6_t5+</th>\n      <th>gene_hits_oldS6_t5-</th>\n      <th>gene_rpm_oldS6_t5-</th>\n    </tr>\n    <tr>\n      <th>chr_id</th>\n      <th>gene_id</th>\n      <th>gene_name</th>\n      <th></th>\n      <th></th>\n      <th></th>\n      <th></th>\n      <th></th>\n      <th></th>\n      <th></th>\n      <th></th>\n      <th></th>\n      <th></th>\n      <th></th>\n      <th></th>\n      <th></th>\n      <th></th>\n      <th></th>\n      <th></th>\n      <th></th>\n      <th></th>\n      <th></th>\n      <th></th>\n      <th></th>\n      <th></th>\n      <th></th>\n      <th></th>\n    </tr>\n  </thead>\n  <tbody>\n    <tr>\n      <th rowspan=\"5\" valign=\"top\">I</th>\n      <th>WBGene00000165</th>\n      <th>aps-3</th>\n      <td>2.0</td>\n      <td>29.365126</td>\n      <td>14.0</td>\n      <td>205.555882</td>\n      <td>0.0</td>\n      <td>0.000000</td>\n      <td>41.0</td>\n      <td>54.843996</td>\n      <td>0.0</td>\n      <td>0.000000</td>\n      <td>24.0</td>\n      <td>220.240062</td>\n      <td>0.0</td>\n      <td>0.000000</td>\n      <td>49.0</td>\n      <td>98.325457</td>\n      <td>1.0</td>\n      <td>1.753660</td>\n      <td>74.0</td>\n      <td>129.770832</td>\n      <td>2.0</td>\n      <td>11.028277</td>\n      <td>98.0</td>\n      <td>540.385549</td>\n    </tr>\n    <tr>\n      <th>WBGene00000230</th>\n      <th>atp-3</th>\n      <td>2.0</td>\n      <td>29.365126</td>\n      <td>82.0</td>\n      <td>1203.970165</td>\n      <td>12.0</td>\n      <td>16.051901</td>\n      <td>871.0</td>\n      <td>1165.100492</td>\n      <td>0.0</td>\n      <td>0.000000</td>\n      <td>94.0</td>\n      <td>862.606908</td>\n      <td>2.0</td>\n      <td>4.013284</td>\n      <td>534.0</td>\n      <td>1071.546820</td>\n      <td>9.0</td>\n      <td>15.782939</td>\n      <td>535.0</td>\n      <td>938.208040</td>\n      <td>4.0</td>\n      <td>22.056553</td>\n      <td>106.0</td>\n      <td>584.498655</td>\n    </tr>\n    <tr>\n      <th>WBGene00000473</th>\n      <th>cey-2</th>\n      <td>1.0</td>\n      <td>14.682563</td>\n      <td>7.0</td>\n      <td>102.777941</td>\n      <td>1.0</td>\n      <td>1.337658</td>\n      <td>135.0</td>\n      <td>180.583888</td>\n      <td>1.0</td>\n      <td>9.176669</td>\n      <td>66.0</td>\n      <td>605.660170</td>\n      <td>2.0</td>\n      <td>4.013284</td>\n      <td>328.0</td>\n      <td>658.178571</td>\n      <td>3.0</td>\n      <td>5.260980</td>\n      <td>645.0</td>\n      <td>1131.110628</td>\n      <td>0.0</td>\n      <td>0.000000</td>\n      <td>46.0</td>\n      <td>253.650360</td>\n    </tr>\n    <tr>\n      <th>WBGene00000634</th>\n      <th>col-58</th>\n      <td>1.0</td>\n      <td>14.682563</td>\n      <td>7.0</td>\n      <td>102.777941</td>\n      <td>2.0</td>\n      <td>2.675317</td>\n      <td>36.0</td>\n      <td>48.155703</td>\n      <td>2.0</td>\n      <td>18.353338</td>\n      <td>8.0</td>\n      <td>73.413354</td>\n      <td>4.0</td>\n      <td>8.026568</td>\n      <td>53.0</td>\n      <td>106.352025</td>\n      <td>3.0</td>\n      <td>5.260980</td>\n      <td>43.0</td>\n      <td>75.407375</td>\n      <td>2.0</td>\n      <td>11.028277</td>\n      <td>52.0</td>\n      <td>286.735189</td>\n    </tr>\n    <tr>\n      <th>WBGene00000869</th>\n      <th>cyc-1</th>\n      <td>1.0</td>\n      <td>14.682563</td>\n      <td>5.0</td>\n      <td>73.412815</td>\n      <td>0.0</td>\n      <td>0.000000</td>\n      <td>99.0</td>\n      <td>132.428184</td>\n      <td>0.0</td>\n      <td>0.000000</td>\n      <td>15.0</td>\n      <td>137.650039</td>\n      <td>2.0</td>\n      <td>4.013284</td>\n      <td>60.0</td>\n      <td>120.398519</td>\n      <td>0.0</td>\n      <td>0.000000</td>\n      <td>61.0</td>\n      <td>106.973253</td>\n      <td>0.0</td>\n      <td>0.000000</td>\n      <td>22.0</td>\n      <td>121.311042</td>\n    </tr>\n    <tr>\n      <th>...</th>\n      <th>...</th>\n      <th>...</th>\n      <td>...</td>\n      <td>...</td>\n      <td>...</td>\n      <td>...</td>\n      <td>...</td>\n      <td>...</td>\n      <td>...</td>\n      <td>...</td>\n      <td>...</td>\n      <td>...</td>\n      <td>...</td>\n      <td>...</td>\n      <td>...</td>\n      <td>...</td>\n      <td>...</td>\n      <td>...</td>\n      <td>...</td>\n      <td>...</td>\n      <td>...</td>\n      <td>...</td>\n      <td>...</td>\n      <td>...</td>\n      <td>...</td>\n      <td>...</td>\n    </tr>\n    <tr>\n      <th rowspan=\"5\" valign=\"top\">X</th>\n      <th>WBGene00197761</th>\n      <th>C18A11.10</th>\n      <td>0.0</td>\n      <td>0.000000</td>\n      <td>0.0</td>\n      <td>0.000000</td>\n      <td>0.0</td>\n      <td>0.000000</td>\n      <td>0.0</td>\n      <td>0.000000</td>\n      <td>0.0</td>\n      <td>0.000000</td>\n      <td>0.0</td>\n      <td>0.000000</td>\n      <td>0.0</td>\n      <td>0.000000</td>\n      <td>0.0</td>\n      <td>0.000000</td>\n      <td>0.0</td>\n      <td>0.000000</td>\n      <td>0.0</td>\n      <td>0.000000</td>\n      <td>0.0</td>\n      <td>0.000000</td>\n      <td>1.0</td>\n      <td>5.514138</td>\n    </tr>\n    <tr>\n      <th>WBGene00199316</th>\n      <th>PDB1.2</th>\n      <td>0.0</td>\n      <td>0.000000</td>\n      <td>0.0</td>\n      <td>0.000000</td>\n      <td>0.0</td>\n      <td>0.000000</td>\n      <td>0.0</td>\n      <td>0.000000</td>\n      <td>0.0</td>\n      <td>0.000000</td>\n      <td>0.0</td>\n      <td>0.000000</td>\n      <td>0.0</td>\n      <td>0.000000</td>\n      <td>0.0</td>\n      <td>0.000000</td>\n      <td>0.0</td>\n      <td>0.000000</td>\n      <td>0.0</td>\n      <td>0.000000</td>\n      <td>0.0</td>\n      <td>0.000000</td>\n      <td>1.0</td>\n      <td>5.514138</td>\n    </tr>\n    <tr>\n      <th>WBGene00206484</th>\n      <th>C31H2.14</th>\n      <td>0.0</td>\n      <td>0.000000</td>\n      <td>0.0</td>\n      <td>0.000000</td>\n      <td>0.0</td>\n      <td>0.000000</td>\n      <td>0.0</td>\n      <td>0.000000</td>\n      <td>0.0</td>\n      <td>0.000000</td>\n      <td>0.0</td>\n      <td>0.000000</td>\n      <td>0.0</td>\n      <td>0.000000</td>\n      <td>0.0</td>\n      <td>0.000000</td>\n      <td>0.0</td>\n      <td>0.000000</td>\n      <td>0.0</td>\n      <td>0.000000</td>\n      <td>0.0</td>\n      <td>0.000000</td>\n      <td>1.0</td>\n      <td>5.514138</td>\n    </tr>\n    <tr>\n      <th>WBGene00220051</th>\n      <th>R160.11</th>\n      <td>0.0</td>\n      <td>0.000000</td>\n      <td>0.0</td>\n      <td>0.000000</td>\n      <td>0.0</td>\n      <td>0.000000</td>\n      <td>0.0</td>\n      <td>0.000000</td>\n      <td>0.0</td>\n      <td>0.000000</td>\n      <td>0.0</td>\n      <td>0.000000</td>\n      <td>0.0</td>\n      <td>0.000000</td>\n      <td>0.0</td>\n      <td>0.000000</td>\n      <td>0.0</td>\n      <td>0.000000</td>\n      <td>0.0</td>\n      <td>0.000000</td>\n      <td>0.0</td>\n      <td>0.000000</td>\n      <td>1.0</td>\n      <td>5.514138</td>\n    </tr>\n    <tr>\n      <th>WBGene00235152</th>\n      <th>Y7A5A.22</th>\n      <td>0.0</td>\n      <td>0.000000</td>\n      <td>0.0</td>\n      <td>0.000000</td>\n      <td>0.0</td>\n      <td>0.000000</td>\n      <td>0.0</td>\n      <td>0.000000</td>\n      <td>0.0</td>\n      <td>0.000000</td>\n      <td>0.0</td>\n      <td>0.000000</td>\n      <td>0.0</td>\n      <td>0.000000</td>\n      <td>0.0</td>\n      <td>0.000000</td>\n      <td>0.0</td>\n      <td>0.000000</td>\n      <td>0.0</td>\n      <td>0.000000</td>\n      <td>0.0</td>\n      <td>0.000000</td>\n      <td>1.0</td>\n      <td>5.514138</td>\n    </tr>\n  </tbody>\n</table>\n<p>15768 rows × 24 columns</p>\n</div>"
     },
     "execution_count": 3,
     "metadata": {},
     "output_type": "execute_result"
    }
   ],
   "source": [
    "conversion_dict = CONVERSION_DICT\n",
    "ans = [y for x, y in compressed_df_genes_short.groupby(['lib', 't5'], as_index=False)]\n",
    "df_dict = {}\n",
    "for i, df in enumerate(ans):\n",
    "    lib = df.lib.unique()[0]\n",
    "    t5 = df.t5.unique()[0]\n",
    "    df = df[[\"chr_id\", \"gene_id\", \"gene_name\", \"gene_hits\", \"gene_rpm\"]]\n",
    "    df = df.rename(columns={col: f'{col}_{conversion_dict[lib]}_t5{t5}' for col in df.columns if col not in [\"chr_id\", \"gene_id\", \"gene_name\"]})\n",
    "    df_dict[(conversion_dict[lib], t5)] = df.set_index([\"chr_id\", \"gene_id\", \"gene_name\"])\n",
    "    # print((conversion_dict[lib], t5))\n",
    "    # print(df_dict[(conversion_dict[lib], t5)].query(\"gene_name == 'rpl-12'\"))\n",
    "\n",
    "super_df = pd.concat(df_dict.values(), axis=1, join='outer').fillna(0)\n",
    "super_df"
   ],
   "metadata": {
    "collapsed": false
   }
  },
  {
   "cell_type": "markdown",
   "source": [],
   "metadata": {
    "collapsed": false
   }
  },
  {
   "cell_type": "code",
   "execution_count": 7,
   "outputs": [
    {
     "data": {
      "text/plain": "                                 gene_hits_newN2_t5+  gene_rpm_newN2_t5+  gene_hits_newN2_t5-  gene_rpm_newN2_t5-  total_gene_rpm_newN2  total_gene_hits_newN2  fraction_adapted_newN2  \\\nchr_id gene_id        gene_name                                                                                                                                                          \nI      WBGene00000165 aps-3                      0.0            0.000000                 24.0          220.240062            220.240062                   24.0                0.000000   \n       WBGene00000230 atp-3                      0.0            0.000000                 94.0          862.606908            862.606908                   94.0                0.000000   \n       WBGene00000473 cey-2                      1.0            9.176669                 66.0          605.660170            614.836839                   67.0                0.014925   \n       WBGene00000634 col-58                     2.0           18.353338                  8.0           73.413354             91.766692                   10.0                0.200000   \n       WBGene00000869 cyc-1                      0.0            0.000000                 15.0          137.650039            137.650039                   15.0                0.000000   \n...                                              ...                 ...                  ...                 ...                   ...                    ...                     ...   \nX      WBGene00197761 C18A11.10                  0.0            0.000000                  0.0            0.000000              0.000000                    0.0                     NaN   \n       WBGene00199316 PDB1.2                     0.0            0.000000                  0.0            0.000000              0.000000                    0.0                     NaN   \n       WBGene00206484 C31H2.14                   0.0            0.000000                  0.0            0.000000              0.000000                    0.0                     NaN   \n       WBGene00220051 R160.11                    0.0            0.000000                  0.0            0.000000              0.000000                    0.0                     NaN   \n       WBGene00235152 Y7A5A.22                   0.0            0.000000                  0.0            0.000000              0.000000                    0.0                     NaN   \n\n                                 gene_hits_newS6_t5+  gene_rpm_newS6_t5+  gene_hits_newS6_t5-  gene_rpm_newS6_t5-  total_gene_rpm_newS6  total_gene_hits_newS6  fraction_adapted_newS6  \\\nchr_id gene_id        gene_name                                                                                                                                                          \nI      WBGene00000165 aps-3                      2.0           29.365126                 14.0          205.555882            234.921008                   16.0                0.125000   \n       WBGene00000230 atp-3                      2.0           29.365126                 82.0         1203.970165           1233.335291                   84.0                0.023810   \n       WBGene00000473 cey-2                      1.0           14.682563                  7.0          102.777941            117.460504                    8.0                0.125000   \n       WBGene00000634 col-58                     1.0           14.682563                  7.0          102.777941            117.460504                    8.0                0.125000   \n       WBGene00000869 cyc-1                      1.0           14.682563                  5.0           73.412815             88.095378                    6.0                0.166667   \n...                                              ...                 ...                  ...                 ...                   ...                    ...                     ...   \nX      WBGene00197761 C18A11.10                  0.0            0.000000                  0.0            0.000000              0.000000                    0.0                     NaN   \n       WBGene00199316 PDB1.2                     0.0            0.000000                  0.0            0.000000              0.000000                    0.0                     NaN   \n       WBGene00206484 C31H2.14                   0.0            0.000000                  0.0            0.000000              0.000000                    0.0                     NaN   \n       WBGene00220051 R160.11                    0.0            0.000000                  0.0            0.000000              0.000000                    0.0                     NaN   \n       WBGene00235152 Y7A5A.22                   0.0            0.000000                  0.0            0.000000              0.000000                    0.0                     NaN   \n\n                                 gene_hits_newerN2_t5+  gene_rpm_newerN2_t5+  gene_hits_newerN2_t5-  gene_rpm_newerN2_t5-  total_gene_rpm_newerN2  total_gene_hits_newerN2  fraction_adapted_newerN2  \\\nchr_id gene_id        gene_name                                                                                                                                                                        \nI      WBGene00000165 aps-3                        0.0              0.000000                   49.0             98.325457               98.325457                     49.0                  0.000000   \n       WBGene00000230 atp-3                        2.0              4.013284                  534.0           1071.546820             1075.560104                    536.0                  0.003731   \n       WBGene00000473 cey-2                        2.0              4.013284                  328.0            658.178571              662.191855                    330.0                  0.006061   \n       WBGene00000634 col-58                       4.0              8.026568                   53.0            106.352025              114.378593                     57.0                  0.070175   \n       WBGene00000869 cyc-1                        2.0              4.013284                   60.0            120.398519              124.411803                     62.0                  0.032258   \n...                                                ...                   ...                    ...                   ...                     ...                      ...                       ...   \nX      WBGene00197761 C18A11.10                    0.0              0.000000                    0.0              0.000000                0.000000                      0.0                       NaN   \n       WBGene00199316 PDB1.2                       0.0              0.000000                    0.0              0.000000                0.000000                      0.0                       NaN   \n       WBGene00206484 C31H2.14                     0.0              0.000000                    0.0              0.000000                0.000000                      0.0                       NaN   \n       WBGene00220051 R160.11                      0.0              0.000000                    0.0              0.000000                0.000000                      0.0                       NaN   \n       WBGene00235152 Y7A5A.22                     0.0              0.000000                    0.0              0.000000                0.000000                      0.0                       NaN   \n\n                                 gene_hits_newerS6_t5+  gene_rpm_newerS6_t5+  gene_hits_newerS6_t5-  gene_rpm_newerS6_t5-  total_gene_rpm_newerS6  total_gene_hits_newerS6  fraction_adapted_newerS6  \\\nchr_id gene_id        gene_name                                                                                                                                                                        \nI      WBGene00000165 aps-3                        0.0              0.000000                   41.0             54.843996               54.843996                     41.0                  0.000000   \n       WBGene00000230 atp-3                       12.0             16.051901                  871.0           1165.100492             1181.152393                    883.0                  0.013590   \n       WBGene00000473 cey-2                        1.0              1.337658                  135.0            180.583888              181.921546                    136.0                  0.007353   \n       WBGene00000634 col-58                       2.0              2.675317                   36.0             48.155703               50.831020                     38.0                  0.052632   \n       WBGene00000869 cyc-1                        0.0              0.000000                   99.0            132.428184              132.428184                     99.0                  0.000000   \n...                                                ...                   ...                    ...                   ...                     ...                      ...                       ...   \nX      WBGene00197761 C18A11.10                    0.0              0.000000                    0.0              0.000000                0.000000                      0.0                       NaN   \n       WBGene00199316 PDB1.2                       0.0              0.000000                    0.0              0.000000                0.000000                      0.0                       NaN   \n       WBGene00206484 C31H2.14                     0.0              0.000000                    0.0              0.000000                0.000000                      0.0                       NaN   \n       WBGene00220051 R160.11                      0.0              0.000000                    0.0              0.000000                0.000000                      0.0                       NaN   \n       WBGene00235152 Y7A5A.22                     0.0              0.000000                    0.0              0.000000                0.000000                      0.0                       NaN   \n\n                                 gene_hits_oldN2_t5+  gene_rpm_oldN2_t5+  gene_hits_oldN2_t5-  gene_rpm_oldN2_t5-  total_gene_rpm_oldN2  total_gene_hits_oldN2  fraction_adapted_oldN2  \\\nchr_id gene_id        gene_name                                                                                                                                                          \nI      WBGene00000165 aps-3                      1.0            1.753660                 74.0          129.770832            131.524492                   75.0                0.013333   \n       WBGene00000230 atp-3                      9.0           15.782939                535.0          938.208040            953.990979                  544.0                0.016544   \n       WBGene00000473 cey-2                      3.0            5.260980                645.0         1131.110628           1136.371608                  648.0                0.004630   \n       WBGene00000634 col-58                     3.0            5.260980                 43.0           75.407375             80.668355                   46.0                0.065217   \n       WBGene00000869 cyc-1                      0.0            0.000000                 61.0          106.973253            106.973253                   61.0                0.000000   \n...                                              ...                 ...                  ...                 ...                   ...                    ...                     ...   \nX      WBGene00197761 C18A11.10                  0.0            0.000000                  0.0            0.000000              0.000000                    0.0                     NaN   \n       WBGene00199316 PDB1.2                     0.0            0.000000                  0.0            0.000000              0.000000                    0.0                     NaN   \n       WBGene00206484 C31H2.14                   0.0            0.000000                  0.0            0.000000              0.000000                    0.0                     NaN   \n       WBGene00220051 R160.11                    0.0            0.000000                  0.0            0.000000              0.000000                    0.0                     NaN   \n       WBGene00235152 Y7A5A.22                   0.0            0.000000                  0.0            0.000000              0.000000                    0.0                     NaN   \n\n                                 gene_hits_oldS6_t5+  gene_rpm_oldS6_t5+  gene_hits_oldS6_t5-  gene_rpm_oldS6_t5-  total_gene_rpm_oldS6  total_gene_hits_oldS6  fraction_adapted_oldS6  \nchr_id gene_id        gene_name                                                                                                                                                         \nI      WBGene00000165 aps-3                      2.0           11.028277                 98.0          540.385549            551.413825                  100.0                0.020000  \n       WBGene00000230 atp-3                      4.0           22.056553                106.0          584.498655            606.555208                  110.0                0.036364  \n       WBGene00000473 cey-2                      0.0            0.000000                 46.0          253.650360            253.650360                   46.0                0.000000  \n       WBGene00000634 col-58                     2.0           11.028277                 52.0          286.735189            297.763466                   54.0                0.037037  \n       WBGene00000869 cyc-1                      0.0            0.000000                 22.0          121.311042            121.311042                   22.0                0.000000  \n...                                              ...                 ...                  ...                 ...                   ...                    ...                     ...  \nX      WBGene00197761 C18A11.10                  0.0            0.000000                  1.0            5.514138              5.514138                    1.0                0.000000  \n       WBGene00199316 PDB1.2                     0.0            0.000000                  1.0            5.514138              5.514138                    1.0                0.000000  \n       WBGene00206484 C31H2.14                   0.0            0.000000                  1.0            5.514138              5.514138                    1.0                0.000000  \n       WBGene00220051 R160.11                    0.0            0.000000                  1.0            5.514138              5.514138                    1.0                0.000000  \n       WBGene00235152 Y7A5A.22                   0.0            0.000000                  1.0            5.514138              5.514138                    1.0                0.000000  \n\n[15768 rows x 42 columns]",
      "text/html": "<div>\n<style scoped>\n    .dataframe tbody tr th:only-of-type {\n        vertical-align: middle;\n    }\n\n    .dataframe tbody tr th {\n        vertical-align: top;\n    }\n\n    .dataframe thead th {\n        text-align: right;\n    }\n</style>\n<table border=\"1\" class=\"dataframe\">\n  <thead>\n    <tr style=\"text-align: right;\">\n      <th></th>\n      <th></th>\n      <th></th>\n      <th>gene_hits_newN2_t5+</th>\n      <th>gene_rpm_newN2_t5+</th>\n      <th>gene_hits_newN2_t5-</th>\n      <th>gene_rpm_newN2_t5-</th>\n      <th>total_gene_rpm_newN2</th>\n      <th>total_gene_hits_newN2</th>\n      <th>fraction_adapted_newN2</th>\n      <th>gene_hits_newS6_t5+</th>\n      <th>gene_rpm_newS6_t5+</th>\n      <th>gene_hits_newS6_t5-</th>\n      <th>gene_rpm_newS6_t5-</th>\n      <th>total_gene_rpm_newS6</th>\n      <th>total_gene_hits_newS6</th>\n      <th>fraction_adapted_newS6</th>\n      <th>gene_hits_newerN2_t5+</th>\n      <th>gene_rpm_newerN2_t5+</th>\n      <th>gene_hits_newerN2_t5-</th>\n      <th>gene_rpm_newerN2_t5-</th>\n      <th>total_gene_rpm_newerN2</th>\n      <th>total_gene_hits_newerN2</th>\n      <th>fraction_adapted_newerN2</th>\n      <th>gene_hits_newerS6_t5+</th>\n      <th>gene_rpm_newerS6_t5+</th>\n      <th>gene_hits_newerS6_t5-</th>\n      <th>gene_rpm_newerS6_t5-</th>\n      <th>total_gene_rpm_newerS6</th>\n      <th>total_gene_hits_newerS6</th>\n      <th>fraction_adapted_newerS6</th>\n      <th>gene_hits_oldN2_t5+</th>\n      <th>gene_rpm_oldN2_t5+</th>\n      <th>gene_hits_oldN2_t5-</th>\n      <th>gene_rpm_oldN2_t5-</th>\n      <th>total_gene_rpm_oldN2</th>\n      <th>total_gene_hits_oldN2</th>\n      <th>fraction_adapted_oldN2</th>\n      <th>gene_hits_oldS6_t5+</th>\n      <th>gene_rpm_oldS6_t5+</th>\n      <th>gene_hits_oldS6_t5-</th>\n      <th>gene_rpm_oldS6_t5-</th>\n      <th>total_gene_rpm_oldS6</th>\n      <th>total_gene_hits_oldS6</th>\n      <th>fraction_adapted_oldS6</th>\n    </tr>\n    <tr>\n      <th>chr_id</th>\n      <th>gene_id</th>\n      <th>gene_name</th>\n      <th></th>\n      <th></th>\n      <th></th>\n      <th></th>\n      <th></th>\n      <th></th>\n      <th></th>\n      <th></th>\n      <th></th>\n      <th></th>\n      <th></th>\n      <th></th>\n      <th></th>\n      <th></th>\n      <th></th>\n      <th></th>\n      <th></th>\n      <th></th>\n      <th></th>\n      <th></th>\n      <th></th>\n      <th></th>\n      <th></th>\n      <th></th>\n      <th></th>\n      <th></th>\n      <th></th>\n      <th></th>\n      <th></th>\n      <th></th>\n      <th></th>\n      <th></th>\n      <th></th>\n      <th></th>\n      <th></th>\n      <th></th>\n      <th></th>\n      <th></th>\n      <th></th>\n      <th></th>\n      <th></th>\n      <th></th>\n    </tr>\n  </thead>\n  <tbody>\n    <tr>\n      <th rowspan=\"5\" valign=\"top\">I</th>\n      <th>WBGene00000165</th>\n      <th>aps-3</th>\n      <td>0.0</td>\n      <td>0.000000</td>\n      <td>24.0</td>\n      <td>220.240062</td>\n      <td>220.240062</td>\n      <td>24.0</td>\n      <td>0.000000</td>\n      <td>2.0</td>\n      <td>29.365126</td>\n      <td>14.0</td>\n      <td>205.555882</td>\n      <td>234.921008</td>\n      <td>16.0</td>\n      <td>0.125000</td>\n      <td>0.0</td>\n      <td>0.000000</td>\n      <td>49.0</td>\n      <td>98.325457</td>\n      <td>98.325457</td>\n      <td>49.0</td>\n      <td>0.000000</td>\n      <td>0.0</td>\n      <td>0.000000</td>\n      <td>41.0</td>\n      <td>54.843996</td>\n      <td>54.843996</td>\n      <td>41.0</td>\n      <td>0.000000</td>\n      <td>1.0</td>\n      <td>1.753660</td>\n      <td>74.0</td>\n      <td>129.770832</td>\n      <td>131.524492</td>\n      <td>75.0</td>\n      <td>0.013333</td>\n      <td>2.0</td>\n      <td>11.028277</td>\n      <td>98.0</td>\n      <td>540.385549</td>\n      <td>551.413825</td>\n      <td>100.0</td>\n      <td>0.020000</td>\n    </tr>\n    <tr>\n      <th>WBGene00000230</th>\n      <th>atp-3</th>\n      <td>0.0</td>\n      <td>0.000000</td>\n      <td>94.0</td>\n      <td>862.606908</td>\n      <td>862.606908</td>\n      <td>94.0</td>\n      <td>0.000000</td>\n      <td>2.0</td>\n      <td>29.365126</td>\n      <td>82.0</td>\n      <td>1203.970165</td>\n      <td>1233.335291</td>\n      <td>84.0</td>\n      <td>0.023810</td>\n      <td>2.0</td>\n      <td>4.013284</td>\n      <td>534.0</td>\n      <td>1071.546820</td>\n      <td>1075.560104</td>\n      <td>536.0</td>\n      <td>0.003731</td>\n      <td>12.0</td>\n      <td>16.051901</td>\n      <td>871.0</td>\n      <td>1165.100492</td>\n      <td>1181.152393</td>\n      <td>883.0</td>\n      <td>0.013590</td>\n      <td>9.0</td>\n      <td>15.782939</td>\n      <td>535.0</td>\n      <td>938.208040</td>\n      <td>953.990979</td>\n      <td>544.0</td>\n      <td>0.016544</td>\n      <td>4.0</td>\n      <td>22.056553</td>\n      <td>106.0</td>\n      <td>584.498655</td>\n      <td>606.555208</td>\n      <td>110.0</td>\n      <td>0.036364</td>\n    </tr>\n    <tr>\n      <th>WBGene00000473</th>\n      <th>cey-2</th>\n      <td>1.0</td>\n      <td>9.176669</td>\n      <td>66.0</td>\n      <td>605.660170</td>\n      <td>614.836839</td>\n      <td>67.0</td>\n      <td>0.014925</td>\n      <td>1.0</td>\n      <td>14.682563</td>\n      <td>7.0</td>\n      <td>102.777941</td>\n      <td>117.460504</td>\n      <td>8.0</td>\n      <td>0.125000</td>\n      <td>2.0</td>\n      <td>4.013284</td>\n      <td>328.0</td>\n      <td>658.178571</td>\n      <td>662.191855</td>\n      <td>330.0</td>\n      <td>0.006061</td>\n      <td>1.0</td>\n      <td>1.337658</td>\n      <td>135.0</td>\n      <td>180.583888</td>\n      <td>181.921546</td>\n      <td>136.0</td>\n      <td>0.007353</td>\n      <td>3.0</td>\n      <td>5.260980</td>\n      <td>645.0</td>\n      <td>1131.110628</td>\n      <td>1136.371608</td>\n      <td>648.0</td>\n      <td>0.004630</td>\n      <td>0.0</td>\n      <td>0.000000</td>\n      <td>46.0</td>\n      <td>253.650360</td>\n      <td>253.650360</td>\n      <td>46.0</td>\n      <td>0.000000</td>\n    </tr>\n    <tr>\n      <th>WBGene00000634</th>\n      <th>col-58</th>\n      <td>2.0</td>\n      <td>18.353338</td>\n      <td>8.0</td>\n      <td>73.413354</td>\n      <td>91.766692</td>\n      <td>10.0</td>\n      <td>0.200000</td>\n      <td>1.0</td>\n      <td>14.682563</td>\n      <td>7.0</td>\n      <td>102.777941</td>\n      <td>117.460504</td>\n      <td>8.0</td>\n      <td>0.125000</td>\n      <td>4.0</td>\n      <td>8.026568</td>\n      <td>53.0</td>\n      <td>106.352025</td>\n      <td>114.378593</td>\n      <td>57.0</td>\n      <td>0.070175</td>\n      <td>2.0</td>\n      <td>2.675317</td>\n      <td>36.0</td>\n      <td>48.155703</td>\n      <td>50.831020</td>\n      <td>38.0</td>\n      <td>0.052632</td>\n      <td>3.0</td>\n      <td>5.260980</td>\n      <td>43.0</td>\n      <td>75.407375</td>\n      <td>80.668355</td>\n      <td>46.0</td>\n      <td>0.065217</td>\n      <td>2.0</td>\n      <td>11.028277</td>\n      <td>52.0</td>\n      <td>286.735189</td>\n      <td>297.763466</td>\n      <td>54.0</td>\n      <td>0.037037</td>\n    </tr>\n    <tr>\n      <th>WBGene00000869</th>\n      <th>cyc-1</th>\n      <td>0.0</td>\n      <td>0.000000</td>\n      <td>15.0</td>\n      <td>137.650039</td>\n      <td>137.650039</td>\n      <td>15.0</td>\n      <td>0.000000</td>\n      <td>1.0</td>\n      <td>14.682563</td>\n      <td>5.0</td>\n      <td>73.412815</td>\n      <td>88.095378</td>\n      <td>6.0</td>\n      <td>0.166667</td>\n      <td>2.0</td>\n      <td>4.013284</td>\n      <td>60.0</td>\n      <td>120.398519</td>\n      <td>124.411803</td>\n      <td>62.0</td>\n      <td>0.032258</td>\n      <td>0.0</td>\n      <td>0.000000</td>\n      <td>99.0</td>\n      <td>132.428184</td>\n      <td>132.428184</td>\n      <td>99.0</td>\n      <td>0.000000</td>\n      <td>0.0</td>\n      <td>0.000000</td>\n      <td>61.0</td>\n      <td>106.973253</td>\n      <td>106.973253</td>\n      <td>61.0</td>\n      <td>0.000000</td>\n      <td>0.0</td>\n      <td>0.000000</td>\n      <td>22.0</td>\n      <td>121.311042</td>\n      <td>121.311042</td>\n      <td>22.0</td>\n      <td>0.000000</td>\n    </tr>\n    <tr>\n      <th>...</th>\n      <th>...</th>\n      <th>...</th>\n      <td>...</td>\n      <td>...</td>\n      <td>...</td>\n      <td>...</td>\n      <td>...</td>\n      <td>...</td>\n      <td>...</td>\n      <td>...</td>\n      <td>...</td>\n      <td>...</td>\n      <td>...</td>\n      <td>...</td>\n      <td>...</td>\n      <td>...</td>\n      <td>...</td>\n      <td>...</td>\n      <td>...</td>\n      <td>...</td>\n      <td>...</td>\n      <td>...</td>\n      <td>...</td>\n      <td>...</td>\n      <td>...</td>\n      <td>...</td>\n      <td>...</td>\n      <td>...</td>\n      <td>...</td>\n      <td>...</td>\n      <td>...</td>\n      <td>...</td>\n      <td>...</td>\n      <td>...</td>\n      <td>...</td>\n      <td>...</td>\n      <td>...</td>\n      <td>...</td>\n      <td>...</td>\n      <td>...</td>\n      <td>...</td>\n      <td>...</td>\n      <td>...</td>\n      <td>...</td>\n    </tr>\n    <tr>\n      <th rowspan=\"5\" valign=\"top\">X</th>\n      <th>WBGene00197761</th>\n      <th>C18A11.10</th>\n      <td>0.0</td>\n      <td>0.000000</td>\n      <td>0.0</td>\n      <td>0.000000</td>\n      <td>0.000000</td>\n      <td>0.0</td>\n      <td>NaN</td>\n      <td>0.0</td>\n      <td>0.000000</td>\n      <td>0.0</td>\n      <td>0.000000</td>\n      <td>0.000000</td>\n      <td>0.0</td>\n      <td>NaN</td>\n      <td>0.0</td>\n      <td>0.000000</td>\n      <td>0.0</td>\n      <td>0.000000</td>\n      <td>0.000000</td>\n      <td>0.0</td>\n      <td>NaN</td>\n      <td>0.0</td>\n      <td>0.000000</td>\n      <td>0.0</td>\n      <td>0.000000</td>\n      <td>0.000000</td>\n      <td>0.0</td>\n      <td>NaN</td>\n      <td>0.0</td>\n      <td>0.000000</td>\n      <td>0.0</td>\n      <td>0.000000</td>\n      <td>0.000000</td>\n      <td>0.0</td>\n      <td>NaN</td>\n      <td>0.0</td>\n      <td>0.000000</td>\n      <td>1.0</td>\n      <td>5.514138</td>\n      <td>5.514138</td>\n      <td>1.0</td>\n      <td>0.000000</td>\n    </tr>\n    <tr>\n      <th>WBGene00199316</th>\n      <th>PDB1.2</th>\n      <td>0.0</td>\n      <td>0.000000</td>\n      <td>0.0</td>\n      <td>0.000000</td>\n      <td>0.000000</td>\n      <td>0.0</td>\n      <td>NaN</td>\n      <td>0.0</td>\n      <td>0.000000</td>\n      <td>0.0</td>\n      <td>0.000000</td>\n      <td>0.000000</td>\n      <td>0.0</td>\n      <td>NaN</td>\n      <td>0.0</td>\n      <td>0.000000</td>\n      <td>0.0</td>\n      <td>0.000000</td>\n      <td>0.000000</td>\n      <td>0.0</td>\n      <td>NaN</td>\n      <td>0.0</td>\n      <td>0.000000</td>\n      <td>0.0</td>\n      <td>0.000000</td>\n      <td>0.000000</td>\n      <td>0.0</td>\n      <td>NaN</td>\n      <td>0.0</td>\n      <td>0.000000</td>\n      <td>0.0</td>\n      <td>0.000000</td>\n      <td>0.000000</td>\n      <td>0.0</td>\n      <td>NaN</td>\n      <td>0.0</td>\n      <td>0.000000</td>\n      <td>1.0</td>\n      <td>5.514138</td>\n      <td>5.514138</td>\n      <td>1.0</td>\n      <td>0.000000</td>\n    </tr>\n    <tr>\n      <th>WBGene00206484</th>\n      <th>C31H2.14</th>\n      <td>0.0</td>\n      <td>0.000000</td>\n      <td>0.0</td>\n      <td>0.000000</td>\n      <td>0.000000</td>\n      <td>0.0</td>\n      <td>NaN</td>\n      <td>0.0</td>\n      <td>0.000000</td>\n      <td>0.0</td>\n      <td>0.000000</td>\n      <td>0.000000</td>\n      <td>0.0</td>\n      <td>NaN</td>\n      <td>0.0</td>\n      <td>0.000000</td>\n      <td>0.0</td>\n      <td>0.000000</td>\n      <td>0.000000</td>\n      <td>0.0</td>\n      <td>NaN</td>\n      <td>0.0</td>\n      <td>0.000000</td>\n      <td>0.0</td>\n      <td>0.000000</td>\n      <td>0.000000</td>\n      <td>0.0</td>\n      <td>NaN</td>\n      <td>0.0</td>\n      <td>0.000000</td>\n      <td>0.0</td>\n      <td>0.000000</td>\n      <td>0.000000</td>\n      <td>0.0</td>\n      <td>NaN</td>\n      <td>0.0</td>\n      <td>0.000000</td>\n      <td>1.0</td>\n      <td>5.514138</td>\n      <td>5.514138</td>\n      <td>1.0</td>\n      <td>0.000000</td>\n    </tr>\n    <tr>\n      <th>WBGene00220051</th>\n      <th>R160.11</th>\n      <td>0.0</td>\n      <td>0.000000</td>\n      <td>0.0</td>\n      <td>0.000000</td>\n      <td>0.000000</td>\n      <td>0.0</td>\n      <td>NaN</td>\n      <td>0.0</td>\n      <td>0.000000</td>\n      <td>0.0</td>\n      <td>0.000000</td>\n      <td>0.000000</td>\n      <td>0.0</td>\n      <td>NaN</td>\n      <td>0.0</td>\n      <td>0.000000</td>\n      <td>0.0</td>\n      <td>0.000000</td>\n      <td>0.000000</td>\n      <td>0.0</td>\n      <td>NaN</td>\n      <td>0.0</td>\n      <td>0.000000</td>\n      <td>0.0</td>\n      <td>0.000000</td>\n      <td>0.000000</td>\n      <td>0.0</td>\n      <td>NaN</td>\n      <td>0.0</td>\n      <td>0.000000</td>\n      <td>0.0</td>\n      <td>0.000000</td>\n      <td>0.000000</td>\n      <td>0.0</td>\n      <td>NaN</td>\n      <td>0.0</td>\n      <td>0.000000</td>\n      <td>1.0</td>\n      <td>5.514138</td>\n      <td>5.514138</td>\n      <td>1.0</td>\n      <td>0.000000</td>\n    </tr>\n    <tr>\n      <th>WBGene00235152</th>\n      <th>Y7A5A.22</th>\n      <td>0.0</td>\n      <td>0.000000</td>\n      <td>0.0</td>\n      <td>0.000000</td>\n      <td>0.000000</td>\n      <td>0.0</td>\n      <td>NaN</td>\n      <td>0.0</td>\n      <td>0.000000</td>\n      <td>0.0</td>\n      <td>0.000000</td>\n      <td>0.000000</td>\n      <td>0.0</td>\n      <td>NaN</td>\n      <td>0.0</td>\n      <td>0.000000</td>\n      <td>0.0</td>\n      <td>0.000000</td>\n      <td>0.000000</td>\n      <td>0.0</td>\n      <td>NaN</td>\n      <td>0.0</td>\n      <td>0.000000</td>\n      <td>0.0</td>\n      <td>0.000000</td>\n      <td>0.000000</td>\n      <td>0.0</td>\n      <td>NaN</td>\n      <td>0.0</td>\n      <td>0.000000</td>\n      <td>0.0</td>\n      <td>0.000000</td>\n      <td>0.000000</td>\n      <td>0.0</td>\n      <td>NaN</td>\n      <td>0.0</td>\n      <td>0.000000</td>\n      <td>1.0</td>\n      <td>5.514138</td>\n      <td>5.514138</td>\n      <td>1.0</td>\n      <td>0.000000</td>\n    </tr>\n  </tbody>\n</table>\n<p>15768 rows × 42 columns</p>\n</div>"
     },
     "execution_count": 7,
     "metadata": {},
     "output_type": "execute_result"
    }
   ],
   "source": [
    "# This step will calculate total hits and the fraction adapted for each gene, then apply a filter for a minimum number of gene hits, adapted hits or unadapted hits\n",
    "\n",
    "# This is currently a little problematic because it will filter all libraries based on the worst preforming library!\n",
    "\n",
    "filter_df = pd.DataFrame()\n",
    "for lib in libs_to_load:\n",
    "    for rpm_or_hits in [\"rpm\", \"hits\"]:\n",
    "        super_df[f\"total_gene_{rpm_or_hits}_{lib}\"] = super_df[f\"gene_{rpm_or_hits}_{lib}_t5+\"] + super_df[f\"gene_{rpm_or_hits}_{lib}_t5-\"]\n",
    "    super_df[f\"fraction_adapted_{lib}\"] = super_df[f\"gene_hits_{lib}_t5+\"] / super_df[f\"total_gene_hits_{lib}\"]\n",
    "    \n",
    "    cols_to_carry_over = [col for col in super_df.columns if lib in col]\n",
    "    filter_df[cols_to_carry_over] = super_df[cols_to_carry_over]\n",
    "filter_df"
   ],
   "metadata": {
    "collapsed": false
   }
  },
  {
   "cell_type": "code",
   "execution_count": 8,
   "outputs": [],
   "source": [
    "from scipy.stats import chi2_contingency, chisquare, fisher_exact, boschloo_exact, barnard_exact\n",
    "def row_chi2(row, target_lib_1, target_lib_2):\n",
    "    array = np.array([[row[f\"gene_hits_{target_lib_1}_t5-\"], row[f\"gene_hits_{target_lib_2}_t5-\"]],\n",
    "                      [row[f\"gene_hits_{target_lib_1}_t5+\"], row[f\"gene_hits_{target_lib_2}_t5+\"]]])\n",
    "    try:\n",
    "        chi2, p, deg_of_free, expected = chi2_contingency(array)\n",
    "        return chi2, p\n",
    "    except ValueError:\n",
    "        return None, None\n",
    "\n",
    "def row_fishers_exact(row, target_lib_1, target_lib_2, hits_or_rpm='hits', alternative='two-sided'):\n",
    "    array = np.array([[row[f\"gene_{hits_or_rpm}_{target_lib_1}_t5-\"], row[f\"gene_{hits_or_rpm}_{target_lib_2}_t5-\"]],\n",
    "                      [row[f\"gene_{hits_or_rpm}_{target_lib_1}_t5+\"], row[f\"gene_{hits_or_rpm}_{target_lib_2}_t5+\"]]])\n",
    "    if alternative not in ['two-sided', 'greater', 'less']:\n",
    "        raise KeyError(f\"Please use 'two-sided', 'greater', or 'less' for the alternative hypothesis input for fisher's exact test!!\")\n",
    "    odds_ratio, p_value = fisher_exact(array, alternative=alternative)\n",
    "    return odds_ratio, p_value\n",
    "\n",
    "def row_boschloo_exact(row, target_lib_1, target_lib_2, hits_or_rpm='hits', alternative='two-sided', sampling_points=32):\n",
    "    array = np.array([[row[f\"gene_{hits_or_rpm}_{target_lib_1}_t5-\"], row[f\"gene_{hits_or_rpm}_{target_lib_2}_t5-\"]],\n",
    "                      [row[f\"gene_{hits_or_rpm}_{target_lib_1}_t5+\"], row[f\"gene_{hits_or_rpm}_{target_lib_2}_t5+\"]]])\n",
    "    if alternative not in ['two-sided', 'greater', 'less']:\n",
    "        raise KeyError(f\"Please use 'two-sided', 'greater', or 'less' for the alternative hypothesis input for Boschloo's exact test!!\")\n",
    "    boschloo_result = boschloo_exact(array, alternative=alternative, n=sampling_points)\n",
    "    return boschloo_result.statistic, boschloo_result.pvalue\n",
    "\n",
    "def row_barnard_exact(row, target_lib_1, target_lib_2, hits_or_rpm='hits', alternative='two-sided', sampling_points=32):\n",
    "    array = np.array([[row[f\"gene_{hits_or_rpm}_{target_lib_1}_t5-\"], row[f\"gene_{hits_or_rpm}_{target_lib_2}_t5-\"]],\n",
    "                      [row[f\"gene_{hits_or_rpm}_{target_lib_1}_t5+\"], row[f\"gene_{hits_or_rpm}_{target_lib_2}_t5+\"]]])\n",
    "    if alternative not in ['two-sided', 'greater', 'less']:\n",
    "        raise KeyError(f\"Please use 'two-sided', 'greater', or 'less' for the alternative hypothesis input for Barnard's exact test!!\")\n",
    "    barnard_result = barnard_exact(array, alternative=alternative, n=sampling_points)\n",
    "    return barnard_result.statistic, barnard_result.pvalue"
   ],
   "metadata": {
    "collapsed": false
   }
  },
  {
   "cell_type": "code",
   "execution_count": 9,
   "outputs": [
    {
     "data": {
      "text/plain": "Calculating Chi Squared for newN2 and newS6:   0%|          | 0/15768 [00:00<?, ?it/s]",
      "application/vnd.jupyter.widget-view+json": {
       "version_major": 2,
       "version_minor": 0,
       "model_id": "36bd2a80510b4379bbfebba7177b2a17"
      }
     },
     "metadata": {},
     "output_type": "display_data"
    },
    {
     "name": "stderr",
     "output_type": "stream",
     "text": [
      "/usr/local/lib/python3.8/dist-packages/scipy/stats/contingency.py:134: RuntimeWarning:\n",
      "\n",
      "invalid value encountered in divide\n",
      "\n"
     ]
    },
    {
     "data": {
      "text/plain": "Calculating Fisher's exact for newN2 and newS6:   0%|          | 0/15768 [00:00<?, ?it/s]",
      "application/vnd.jupyter.widget-view+json": {
       "version_major": 2,
       "version_minor": 0,
       "model_id": "6be7613c55624de5ad39dddbd7a4c589"
      }
     },
     "metadata": {},
     "output_type": "display_data"
    },
    {
     "name": "stdout",
     "output_type": "stream",
     "text": [
      "There were 261 genes that passed the cutoff of having >=100 cumulative unadapted hits between newN2 and newS6\n",
      "\tA Bonferroni correction with this in mind will expect a p value of 0.000192 for a significant chi2 test result.\n",
      "There were 261 genes that passed the cutoff of having >=100 cumulative unadapted hits between newN2 and newS6\n",
      "\tA Bonferroni correction with this in mind will expect a p value of 0.000192 for a significant boschloo test result.\n",
      "Couldn't find columns corresponding to 'boschloo'!! Be sure spelling is correct!\n",
      "There were 261 genes that passed the cutoff of having >=100 cumulative unadapted hits between newN2 and newS6\n",
      "\tA Bonferroni correction with this in mind will expect a p value of 0.000192 for a significant fishers test result.\n"
     ]
    },
    {
     "data": {
      "text/plain": "Calculating Chi Squared for oldN2 and oldS6:   0%|          | 0/15768 [00:00<?, ?it/s]",
      "application/vnd.jupyter.widget-view+json": {
       "version_major": 2,
       "version_minor": 0,
       "model_id": "5afc1b7dd83c469bb61144085063fe1f"
      }
     },
     "metadata": {},
     "output_type": "display_data"
    },
    {
     "name": "stderr",
     "output_type": "stream",
     "text": [
      "/usr/local/lib/python3.8/dist-packages/scipy/stats/contingency.py:134: RuntimeWarning:\n",
      "\n",
      "invalid value encountered in divide\n",
      "\n"
     ]
    },
    {
     "data": {
      "text/plain": "Calculating Fisher's exact for oldN2 and oldS6:   0%|          | 0/15768 [00:00<?, ?it/s]",
      "application/vnd.jupyter.widget-view+json": {
       "version_major": 2,
       "version_minor": 0,
       "model_id": "aea6a5f3ec98498cb76eebe93ca9591f"
      }
     },
     "metadata": {},
     "output_type": "display_data"
    },
    {
     "name": "stdout",
     "output_type": "stream",
     "text": [
      "There were 991 genes that passed the cutoff of having >=100 cumulative unadapted hits between oldN2 and oldS6\n",
      "\tA Bonferroni correction with this in mind will expect a p value of 5.05e-05 for a significant chi2 test result.\n",
      "There were 991 genes that passed the cutoff of having >=100 cumulative unadapted hits between oldN2 and oldS6\n",
      "\tA Bonferroni correction with this in mind will expect a p value of 5.05e-05 for a significant boschloo test result.\n",
      "Couldn't find columns corresponding to 'boschloo'!! Be sure spelling is correct!\n",
      "There were 991 genes that passed the cutoff of having >=100 cumulative unadapted hits between oldN2 and oldS6\n",
      "\tA Bonferroni correction with this in mind will expect a p value of 5.05e-05 for a significant fishers test result.\n"
     ]
    },
    {
     "data": {
      "text/plain": "Calculating Chi Squared for newerN2 and newerS6:   0%|          | 0/15768 [00:00<?, ?it/s]",
      "application/vnd.jupyter.widget-view+json": {
       "version_major": 2,
       "version_minor": 0,
       "model_id": "1f97440c125a4225a11ec7aa9cd7bf76"
      }
     },
     "metadata": {},
     "output_type": "display_data"
    },
    {
     "name": "stderr",
     "output_type": "stream",
     "text": [
      "/usr/local/lib/python3.8/dist-packages/scipy/stats/contingency.py:134: RuntimeWarning:\n",
      "\n",
      "invalid value encountered in divide\n",
      "\n"
     ]
    },
    {
     "data": {
      "text/plain": "Calculating Fisher's exact for newerN2 and newerS6:   0%|          | 0/15768 [00:00<?, ?it/s]",
      "application/vnd.jupyter.widget-view+json": {
       "version_major": 2,
       "version_minor": 0,
       "model_id": "efe86cbeef6d4587a37ec4a488693d5e"
      }
     },
     "metadata": {},
     "output_type": "display_data"
    },
    {
     "name": "stdout",
     "output_type": "stream",
     "text": [
      "There were 1491 genes that passed the cutoff of having >=100 cumulative unadapted hits between newerN2 and newerS6\n",
      "\tA Bonferroni correction with this in mind will expect a p value of 3.35e-05 for a significant chi2 test result.\n",
      "There were 1491 genes that passed the cutoff of having >=100 cumulative unadapted hits between newerN2 and newerS6\n",
      "\tA Bonferroni correction with this in mind will expect a p value of 3.35e-05 for a significant boschloo test result.\n",
      "Couldn't find columns corresponding to 'boschloo'!! Be sure spelling is correct!\n",
      "There were 1491 genes that passed the cutoff of having >=100 cumulative unadapted hits between newerN2 and newerS6\n",
      "\tA Bonferroni correction with this in mind will expect a p value of 3.35e-05 for a significant fishers test result.\n",
      "done.\n"
     ]
    }
   ],
   "source": [
    "# p-value setpoint and the applied cutoffs will be used for a Bonferroni correction\n",
    "#   Currently no genes will be dropped based on these filters/cutoffs\n",
    "base_sig_cutoff = 0.05\n",
    "\n",
    "cumulative_min_read_cutoff = 100\n",
    "filter_with_rpm_or_hits = \"hits\"\n",
    "filter_col_target = \"unadapted\"  # \"total\" or \"adapted\" or \"unadapted\"\n",
    "\n",
    "p_value_cutoff_dict = {}\n",
    "\n",
    "lib_comparisons_to_test = []\n",
    "# lib_comparisons_to_test += list(zip([\"newN2\"]*3, [\"newS5\", \"newS6\", \"newS7\"]))\n",
    "lib_comparisons_to_test += [(\"newN2\", \"newS6\")]\n",
    "lib_comparisons_to_test += [(\"oldN2\", \"oldS6\")]\n",
    "lib_comparisons_to_test += [(\"newerN2\", \"newerS6\")]\n",
    "# lib_comparisons_to_test += [(\"sPM57\", \"sPM58\")]\n",
    "\n",
    "for libs in lib_comparisons_to_test:\n",
    "    first_lib, second_lib = libs\n",
    "    with warnings.catch_warnings():\n",
    "        tqdm.pandas(desc=f\"Calculating Chi Squared for {first_lib} and {second_lib}\")\n",
    "        filter_df[[f\"{first_lib}_v_{second_lib}_chi2_test_result\", f\"{first_lib}_v_{second_lib}_chi2_p_value\"]] = filter_df.progress_apply(lambda row: row_chi2(row, first_lib, second_lib), axis=1, result_type=\"expand\")\n",
    "        \n",
    "        tqdm.pandas(desc=f\"Calculating Fisher's exact for {first_lib} and {second_lib}\")\n",
    "        filter_df[[f\"{first_lib}_v_{second_lib}_fishers_test_result\", f\"{first_lib}_v_{second_lib}_fishers_p_value\"]] = filter_df.progress_apply(lambda row: row_fishers_exact(row, first_lib, second_lib, hits_or_rpm='hits', alternative='less'), axis=1, result_type=\"expand\")\n",
    "        \n",
    "        # Barnard's and Boschloo tests take forever!!\n",
    "        # tqdm.pandas(desc=f\"Calculating Boschloo exact for {first_lib} and {second_lib}\")\n",
    "        # filter_df[[f\"{first_lib}_v_{second_lib}_boschloo_test_result\", f\"{first_lib}_v_{second_lib}_boschloo_p_value\"]] = filter_df.progress_apply(lambda row: row_boschloo_exact(row, first_lib, second_lib, hits_or_rpm='hits', alternative='less', sampling_points=4), axis=1, result_type=\"expand\")\n",
    "    \n",
    "    for stat_test in ['chi2',\n",
    "                      # 'barnard',\n",
    "                      'boschloo',\n",
    "                      'fishers',\n",
    "                      ]:\n",
    "        lib_cols_for_correction = []\n",
    "        for lib in libs:\n",
    "            filter_col_converter = {\"total\": f\"total_gene_{filter_with_rpm_or_hits}_{lib}\",\n",
    "                                    \"adapted\": f\"gene_{filter_with_rpm_or_hits}_{lib}_t5+\",\n",
    "                                    \"unadapted\": f\"gene_{filter_with_rpm_or_hits}_{lib}_t5-\"}\n",
    "            lib_cols_for_correction.append(filter_col_converter[filter_col_target])\n",
    "        cumulative_col_name = f\"cumulative_{filter_col_target}_{filter_with_rpm_or_hits}_{first_lib}_{second_lib}\"\n",
    "        filter_df[cumulative_col_name] = filter_df[lib_cols_for_correction[0]] + filter_df[lib_cols_for_correction[1]]\n",
    "        number_of_genes_passing_cutoff = filter_df[filter_df[cumulative_col_name] >= cumulative_min_read_cutoff].shape[0]\n",
    "        adjusted_sig_cutoff = base_sig_cutoff / number_of_genes_passing_cutoff\n",
    "        p_value_cutoff_dict[(libs, stat_test)] = (adjusted_sig_cutoff, number_of_genes_passing_cutoff)\n",
    "        print(f\"There were {number_of_genes_passing_cutoff} genes that passed the cutoff of having >={cumulative_min_read_cutoff} cumulative {filter_col_target} {filter_with_rpm_or_hits} between {first_lib} and {second_lib}\"\n",
    "              f\"\\n\\tA Bonferroni correction with this in mind will expect a p value of {adjusted_sig_cutoff:.3g} for a significant {stat_test} test result.\")\n",
    "        try:\n",
    "            filter_df.sort_values(f\"{first_lib}_v_{second_lib}_{stat_test}_p_value\")\n",
    "            filter_df[f\"neg_log10_{first_lib}_v_{second_lib}_{stat_test}_p_value\"] = -np.log10(filter_df[f\"{first_lib}_v_{second_lib}_{stat_test}_p_value\"])\n",
    "            filter_df[f\"{first_lib}_v_{second_lib}_{stat_test}_significant\"] = filter_df[f\"{first_lib}_v_{second_lib}_{stat_test}_p_value\"] <= adjusted_sig_cutoff\n",
    "        except KeyError:\n",
    "            print(f\"Couldn't find columns corresponding to '{stat_test}'!! Be sure spelling is correct!\")\n",
    "print('done.')"
   ],
   "metadata": {
    "collapsed": false
   }
  },
  {
   "cell_type": "markdown",
   "source": [
    "# Look at the top \"most significant\" hits"
   ],
   "metadata": {
    "collapsed": false
   }
  },
  {
   "cell_type": "code",
   "execution_count": 10,
   "outputs": [
    {
     "name": "stdout",
     "output_type": "stream",
     "text": [
      "                                 gene_rpm_newN2_t5-  gene_rpm_newN2_t5+  gene_rpm_newS6_t5-  gene_rpm_newS6_t5+  newN2_v_newS6_chi2_test_result  newN2_v_newS6_chi2_p_value  \\\n",
      "chr_id gene_id        gene_name                                                                                                                                               \n",
      "V      WBGene00008944 F19B2.5            266.123408          110.120031         1203.970165           44.047689                       15.103779                    0.000102   \n",
      "X      WBGene00022951 C30E1.9            183.533385           45.883346         1218.652728            0.000000                       13.170820                    0.000284   \n",
      "V      WBGene00012680 Y39B6A.21           64.236685           45.883346          469.842016           14.682563                        8.270323                    0.004030   \n",
      "X      WBGene00016662 C45B2.8             55.060015           27.530008          616.667646           14.682563                        6.183678                    0.012893   \n",
      "III    WBGene00006725 ubl-1             3863.377748          110.120031         6342.867211           29.365126                        5.901802                    0.015125   \n",
      "...                                             ...                 ...                 ...                 ...                             ...                         ...   \n",
      "IV     WBGene00009684 msd-3              110.120031            0.000000           29.365126           14.682563                        0.602679                    0.437558   \n",
      "I      WBGene00008191 C49A1.10            36.706677           18.353338           88.095378            0.000000                        0.600000                    0.438578   \n",
      "V      WBGene00000214 asp-1             4303.857872           18.353338         3479.767428           44.047689                        0.594247                    0.440782   \n",
      "       WBGene00000785 cpr-5             1578.387109           27.530008         1879.368062           73.412815                        0.571691                    0.449588   \n",
      "       WBGene00011487 T05E12.6           532.246816           36.706677          763.493275           14.682563                        0.544441                    0.460598   \n",
      "\n",
      "                                 newN2_v_newS6_chi2_significant  \n",
      "chr_id gene_id        gene_name                                  \n",
      "V      WBGene00008944 F19B2.5                              True  \n",
      "X      WBGene00022951 C30E1.9                             False  \n",
      "V      WBGene00012680 Y39B6A.21                           False  \n",
      "X      WBGene00016662 C45B2.8                             False  \n",
      "III    WBGene00006725 ubl-1                               False  \n",
      "...                                                         ...  \n",
      "IV     WBGene00009684 msd-3                               False  \n",
      "I      WBGene00008191 C49A1.10                            False  \n",
      "V      WBGene00000214 asp-1                               False  \n",
      "       WBGene00000785 cpr-5                               False  \n",
      "       WBGene00011487 T05E12.6                            False  \n",
      "\n",
      "[100 rows x 7 columns]\n",
      "                                 gene_rpm_oldN2_t5-  gene_rpm_oldN2_t5+  gene_rpm_oldS6_t5-  gene_rpm_oldS6_t5+  oldN2_v_oldS6_chi2_test_result  oldN2_v_oldS6_chi2_p_value  \\\n",
      "chr_id gene_id        gene_name                                                                                                                                               \n",
      "X      WBGene00044638 F23A7.8           3189.907337          396.327135        24670.254533          507.300719                      249.918287                2.705540e-56   \n",
      "II     WBGene00012730 xrn-1            14790.367497          499.793068        79739.953240          953.945917                      122.632024                1.678651e-28   \n",
      "MtDNA  WBGene00010960 atp-6             2900.553455          396.327135        11816.798271          452.159337                      100.828910                1.002819e-23   \n",
      "X      WBGene00016662 C45B2.8             75.407375           61.378096         1180.025586            5.514138                      100.647767                1.098855e-23   \n",
      "V      WBGene00008944 F19B2.5            305.136821          145.553771         1488.817328           16.542415                       92.497623                6.740567e-22   \n",
      "...                                             ...                 ...                 ...                 ...                             ...                         ...   \n",
      "IV     WBGene00004703 rsp-6              240.251405           22.797579          347.390710            0.000000                        4.400927                3.591940e-02   \n",
      "III    WBGene00016224 fbxa-57              5.260980            8.768299           60.655521            5.514138                        4.375000                3.646983e-02   \n",
      "       WBGene00194742 F37C12.21            7.014640            5.260980           82.712074            0.000000                        4.249290                3.926675e-02   \n",
      "II     WBGene00013165 Y53F4B.19           31.565878            0.000000            0.000000            5.514138                        4.236883                3.955473e-02   \n",
      "IV     WBGene00004424 rpl-12            3207.443935           91.190314         2933.521549           33.084830                        4.183221                4.082605e-02   \n",
      "\n",
      "                                 oldN2_v_oldS6_chi2_significant  \n",
      "chr_id gene_id        gene_name                                  \n",
      "X      WBGene00044638 F23A7.8                              True  \n",
      "II     WBGene00012730 xrn-1                                True  \n",
      "MtDNA  WBGene00010960 atp-6                                True  \n",
      "X      WBGene00016662 C45B2.8                              True  \n",
      "V      WBGene00008944 F19B2.5                              True  \n",
      "...                                                         ...  \n",
      "IV     WBGene00004703 rsp-6                               False  \n",
      "III    WBGene00016224 fbxa-57                             False  \n",
      "       WBGene00194742 F37C12.21                           False  \n",
      "II     WBGene00013165 Y53F4B.19                           False  \n",
      "IV     WBGene00004424 rpl-12                              False  \n",
      "\n",
      "[100 rows x 7 columns]\n",
      "                                 gene_rpm_newerN2_t5-  gene_rpm_newerN2_t5+  gene_rpm_newerS6_t5-  gene_rpm_newerS6_t5+  newerN2_v_newerS6_chi2_test_result  newerN2_v_newerS6_chi2_p_value  \\\n",
      "chr_id gene_id        gene_name                                                                                                                                                               \n",
      "X      WBGene00022219 Y73B3A.18            363.202199            110.365309           1914.189212             20.064876                          246.677211                    1.376755e-55   \n",
      "V      WBGene00008944 F19B2.5              327.082644             98.325457           1161.087516             36.116778                          105.141032                    1.137450e-24   \n",
      "       WBGene00003844 odc-1                379.255335             70.232469           1882.085409             36.116778                           97.858670                    4.493349e-23   \n",
      "IV     WBGene00004419 rpl-7A              2450.109864            168.557927           3979.533826             46.818045                           92.461482                    6.864795e-22   \n",
      "X      WBGene00022951 C30E1.9              188.624347             42.139482           1147.710932             14.714243                           87.909783                    6.850900e-21   \n",
      "...                                               ...                   ...                   ...                   ...                                 ...                             ...   \n",
      "III    WBGene00018950 F56C9.6               54.179334              0.000000             25.415510              6.688292                            4.102944                    4.280861e-02   \n",
      "II     WBGene00019270 H41C03.3              12.039852             10.033210             21.402535              1.337658                            4.083617                    4.330088e-02   \n",
      "IV     WBGene00007307 spch-1               377.248693              4.013284            101.662041              6.688292                            4.056857                    4.399230e-02   \n",
      "III    WBGene00020107 R151.2               240.797038              0.000000            160.519011              8.025951                            4.026887                    4.478049e-02   \n",
      "IV     WBGene00006050 ssq-1                373.235409              4.013284             46.818045              4.012975                            4.025940                    4.480566e-02   \n",
      "\n",
      "                                 newerN2_v_newerS6_chi2_significant  \n",
      "chr_id gene_id        gene_name                                      \n",
      "X      WBGene00022219 Y73B3A.18                                True  \n",
      "V      WBGene00008944 F19B2.5                                  True  \n",
      "       WBGene00003844 odc-1                                    True  \n",
      "IV     WBGene00004419 rpl-7A                                   True  \n",
      "X      WBGene00022951 C30E1.9                                  True  \n",
      "...                                                             ...  \n",
      "III    WBGene00018950 F56C9.6                                 False  \n",
      "II     WBGene00019270 H41C03.3                                False  \n",
      "IV     WBGene00007307 spch-1                                  False  \n",
      "III    WBGene00020107 R151.2                                  False  \n",
      "IV     WBGene00006050 ssq-1                                   False  \n",
      "\n",
      "[100 rows x 7 columns]\n",
      "                                 gene_rpm_newN2_t5-  gene_rpm_newN2_t5+  gene_rpm_newS6_t5-  gene_rpm_newS6_t5+  newN2_v_newS6_fishers_test_result  newN2_v_newS6_fishers_p_value  \\\n",
      "chr_id gene_id        gene_name                                                                                                                                                     \n",
      "V      WBGene00008944 F19B2.5            266.123408          110.120031         1203.970165           44.047689                           0.088415                       0.000082   \n",
      "X      WBGene00022951 C30E1.9            183.533385           45.883346         1218.652728            0.000000                           0.000000                       0.000477   \n",
      "V      WBGene00012680 Y39B6A.21           64.236685           45.883346          469.842016           14.682563                           0.043750                       0.003322   \n",
      "III    WBGene00006725 ubl-1             3863.377748          110.120031         6342.867211           29.365126                           0.162423                       0.006054   \n",
      "IV     WBGene00017235 F08B4.3              0.000000           27.530008           88.095378            0.000000                           0.000000                       0.011905   \n",
      "...                                             ...                 ...                 ...                 ...                                ...                            ...   \n",
      "I      WBGene00003964 pdi-3             1101.200308           27.530008         1717.859870           14.682563                           0.341880                       0.326715   \n",
      "V      WBGene00003691 nhr-101            146.826708            9.176669          513.889705            0.000000                           0.000000                       0.326923   \n",
      "II     WBGene00011966 T23G7.3              0.000000            9.176669           29.365126            0.000000                           0.000000                       0.333333   \n",
      "X      WBGene00017298 toca-1               0.000000            9.176669           29.365126            0.000000                           0.000000                       0.333333   \n",
      "IV     WBGene00020042 R13A1.3              0.000000            9.176669           29.365126            0.000000                           0.000000                       0.333333   \n",
      "\n",
      "                                 newN2_v_newS6_fishers_significant  \n",
      "chr_id gene_id        gene_name                                     \n",
      "V      WBGene00008944 F19B2.5                                 True  \n",
      "X      WBGene00022951 C30E1.9                                False  \n",
      "V      WBGene00012680 Y39B6A.21                              False  \n",
      "III    WBGene00006725 ubl-1                                  False  \n",
      "IV     WBGene00017235 F08B4.3                                False  \n",
      "...                                                            ...  \n",
      "I      WBGene00003964 pdi-3                                  False  \n",
      "V      WBGene00003691 nhr-101                                False  \n",
      "II     WBGene00011966 T23G7.3                                False  \n",
      "X      WBGene00017298 toca-1                                 False  \n",
      "IV     WBGene00020042 R13A1.3                                False  \n",
      "\n",
      "[100 rows x 7 columns]\n",
      "                                 gene_rpm_oldN2_t5-  gene_rpm_oldN2_t5+  gene_rpm_oldS6_t5-  gene_rpm_oldS6_t5+  oldN2_v_oldS6_fishers_test_result  oldN2_v_oldS6_fishers_p_value  \\\n",
      "chr_id gene_id        gene_name                                                                                                                                                     \n",
      "X      WBGene00044638 F23A7.8           3189.907337          396.327135        24670.254533          507.300719                           0.165507                   1.775989e-51   \n",
      "II     WBGene00012730 xrn-1            14790.367497          499.793068        79739.953240          953.945917                           0.354027                   1.131234e-27   \n",
      "V      WBGene00008944 F19B2.5            305.136821          145.553771         1488.817328           16.542415                           0.023293                   5.519321e-26   \n",
      "MtDNA  WBGene00010960 atp-6             2900.553455          396.327135        11816.798271          452.159337                           0.280039                   1.803525e-24   \n",
      "X      WBGene00016662 C45B2.8             75.407375           61.378096         1180.025586            5.514138                           0.005741                   2.141718e-22   \n",
      "...                                             ...                 ...                 ...                 ...                                ...                            ...   \n",
      "IV     WBGene00000694 col-120            398.080795           17.536599          976.002470            5.514138                           0.128249                   1.831763e-02   \n",
      "III    WBGene00016218 pals-23             31.565878           14.029279          121.311042            5.514138                           0.102273                   1.901081e-02   \n",
      "I      WBGene00001167 eef-2             2781.304583          101.712274         1461.246636           16.542415                           0.309564                   2.004101e-02   \n",
      "V      WBGene00017565 ddo-2               31.565878           17.536599           60.655521            0.000000                           0.000000                   2.064208e-02   \n",
      "II     WBGene00022873 ZK1240.9            17.536599            8.768299           82.712074            0.000000                           0.000000                   2.107280e-02   \n",
      "\n",
      "                                 oldN2_v_oldS6_fishers_significant  \n",
      "chr_id gene_id        gene_name                                     \n",
      "X      WBGene00044638 F23A7.8                                 True  \n",
      "II     WBGene00012730 xrn-1                                   True  \n",
      "V      WBGene00008944 F19B2.5                                 True  \n",
      "MtDNA  WBGene00010960 atp-6                                   True  \n",
      "X      WBGene00016662 C45B2.8                                 True  \n",
      "...                                                            ...  \n",
      "IV     WBGene00000694 col-120                                False  \n",
      "III    WBGene00016218 pals-23                                False  \n",
      "I      WBGene00001167 eef-2                                  False  \n",
      "V      WBGene00017565 ddo-2                                  False  \n",
      "II     WBGene00022873 ZK1240.9                               False  \n",
      "\n",
      "[100 rows x 7 columns]\n",
      "                                 gene_rpm_newerN2_t5-  gene_rpm_newerN2_t5+  gene_rpm_newerS6_t5-  gene_rpm_newerS6_t5+  newerN2_v_newerS6_fishers_test_result  newerN2_v_newerS6_fishers_p_value  \\\n",
      "chr_id gene_id        gene_name                                                                                                                                                                     \n",
      "X      WBGene00022219 Y73B3A.18            363.202199            110.365309           1914.189212             20.064876                               0.034496                       4.048646e-36   \n",
      "       WBGene00000755 col-182              174.577853            110.365309            268.869344              4.012975                               0.023609                       2.901568e-21   \n",
      "IV     WBGene00004419 rpl-7A              2450.109864            168.557927           3979.533826             46.818045                               0.171008                       4.275497e-20   \n",
      "V      WBGene00008944 F19B2.5              327.082644             98.325457           1161.087516             36.116778                               0.103475                       1.548799e-19   \n",
      "       WBGene00003844 odc-1                379.255335             70.232469           1882.085409             36.116778                               0.103625                       3.470726e-16   \n",
      "...                                               ...                   ...                   ...                   ...                                    ...                                ...   \n",
      "II     WBGene00022873 ZK1240.9               8.026568              4.013284             77.584189              2.675317                               0.068966                       3.852398e-02   \n",
      "I      WBGene00021350 Y37E3.8             5634.650694             44.146124           6183.994917             26.753169                               0.552180                       3.874252e-02   \n",
      "       WBGene00000937 dbr-1                 10.033210              4.013284             34.779119              0.000000                               0.000000                       3.977273e-02   \n",
      "IV     WBGene00002173 itr-1                 42.139482              6.019926             58.856971              0.000000                               0.000000                       4.038630e-02   \n",
      "V      WBGene00000728 col-155              403.335039             14.046494            259.505735              1.337658                               0.148012                       4.128712e-02   \n",
      "\n",
      "                                 newerN2_v_newerS6_fishers_significant  \n",
      "chr_id gene_id        gene_name                                         \n",
      "X      WBGene00022219 Y73B3A.18                                   True  \n",
      "       WBGene00000755 col-182                                     True  \n",
      "IV     WBGene00004419 rpl-7A                                      True  \n",
      "V      WBGene00008944 F19B2.5                                     True  \n",
      "       WBGene00003844 odc-1                                       True  \n",
      "...                                                                ...  \n",
      "II     WBGene00022873 ZK1240.9                                   False  \n",
      "I      WBGene00021350 Y37E3.8                                    False  \n",
      "       WBGene00000937 dbr-1                                      False  \n",
      "IV     WBGene00002173 itr-1                                      False  \n",
      "V      WBGene00000728 col-155                                    False  \n",
      "\n",
      "[100 rows x 7 columns]\n"
     ]
    }
   ],
   "source": [
    "how_many_hits_to_save = 100\n",
    "for stat_test in [\"chi2\", \"fishers\"]:\n",
    "    for first_lib, second_lib in lib_comparisons_to_test:\n",
    "        temp_df = filter_df[[f\"gene_rpm_{first_lib}_t5-\",\n",
    "                            f\"gene_rpm_{first_lib}_t5+\",\n",
    "                            f\"gene_rpm_{second_lib}_t5-\",\n",
    "                            f\"gene_rpm_{second_lib}_t5+\",\n",
    "                            f\"{first_lib}_v_{second_lib}_{stat_test}_test_result\",\n",
    "                            f\"{first_lib}_v_{second_lib}_{stat_test}_p_value\",\n",
    "                            f\"{first_lib}_v_{second_lib}_{stat_test}_significant\",\n",
    "                            ]].sort_values(f\"{first_lib}_v_{second_lib}_{stat_test}_p_value\",\n",
    "                                           ascending=True).head(how_many_hits_to_save)\n",
    "        print(temp_df)\n",
    "        # temp_df.to_csv(f\"./output_files/{npCommon.get_dt()}_{first_lib}_v_{second_lib}.{stat_test}.top{how_many_hits_to_save}.csv\")"
   ],
   "metadata": {
    "collapsed": false
   }
  },
  {
   "cell_type": "code",
   "execution_count": 11,
   "outputs": [
    {
     "name": "stderr",
     "output_type": "stream",
     "text": [
      "/usr/local/lib/python3.8/dist-packages/plotly/express/_core.py:279: FutureWarning:\n",
      "\n",
      "iteritems is deprecated and will be removed in a future version. Use .items instead.\n",
      "\n"
     ]
    }
   ],
   "source": [
    "# fig = px.scatter_matrix(filter_df.reset_index(),\n",
    "#                         dimensions=[col for col in filter_df if \"fraction_adapted\" in col],\n",
    "#                         labels={f\"fraction_adapted_{lib}\":f\"Fraction Adapted <br> {lib}\" for lib in conversion_dict.values()},\n",
    "#                         hover_name=\"gene_name\")\n",
    "# fig.update_layout(template=\"plotly_white\")\n",
    "# # fig.update_layout(xaxis=dict(type='log'),xaxis2=dict(type='log'),xaxis3=dict(type='log'),xaxis4=dict(type='log'))\n",
    "# fig.show()"
   ],
   "metadata": {
    "collapsed": false
   }
  },
  {
   "cell_type": "markdown",
   "source": [
    "# Plot relationship of fraction adapted between \"replicates\""
   ],
   "metadata": {
    "collapsed": false
   }
  },
  {
   "cell_type": "code",
   "execution_count": 11,
   "outputs": [
    {
     "name": "stdout",
     "output_type": "stream",
     "text": [
      "oldN2 newN2\n",
      "                            OLS Regression Results                            \n",
      "==============================================================================\n",
      "Dep. Variable:                      y   R-squared:                       0.772\n",
      "Model:                            OLS   Adj. R-squared:                  0.770\n",
      "Method:                 Least Squares   F-statistic:                     551.0\n",
      "Date:                Tue, 21 Mar 2023   Prob (F-statistic):           3.70e-54\n",
      "Time:                        11:57:13   Log-Likelihood:                 445.59\n",
      "No. Observations:                 165   AIC:                            -887.2\n",
      "Df Residuals:                     163   BIC:                            -881.0\n",
      "Df Model:                           1                                         \n",
      "Covariance Type:            nonrobust                                         \n",
      "==============================================================================\n",
      "                 coef    std err          t      P>|t|      [0.025      0.975]\n",
      "------------------------------------------------------------------------------\n",
      "const         -0.0011      0.001     -0.746      0.457      -0.004       0.002\n",
      "x1             0.4841      0.021     23.473      0.000       0.443       0.525\n",
      "==============================================================================\n",
      "Omnibus:                       71.030   Durbin-Watson:                   0.813\n",
      "Prob(Omnibus):                  0.000   Jarque-Bera (JB):             2325.962\n",
      "Skew:                           0.789   Prob(JB):                         0.00\n",
      "Kurtosis:                      21.326   Cond. No.                         16.2\n",
      "==============================================================================\n",
      "\n",
      "Notes:\n",
      "[1] Standard Errors assume that the covariance matrix of the errors is correctly specified.\n",
      "oldS6 newS6\n",
      "                            OLS Regression Results                            \n",
      "==============================================================================\n",
      "Dep. Variable:                      y   R-squared:                       0.909\n",
      "Model:                            OLS   Adj. R-squared:                  0.908\n",
      "Method:                 Least Squares   F-statistic:                     1025.\n",
      "Date:                Tue, 21 Mar 2023   Prob (F-statistic):           2.38e-55\n",
      "Time:                        11:57:13   Log-Likelihood:                 318.00\n",
      "No. Observations:                 105   AIC:                            -632.0\n",
      "Df Residuals:                     103   BIC:                            -626.7\n",
      "Df Model:                           1                                         \n",
      "Covariance Type:            nonrobust                                         \n",
      "==============================================================================\n",
      "                 coef    std err          t      P>|t|      [0.025      0.975]\n",
      "------------------------------------------------------------------------------\n",
      "const         -0.0008      0.001     -0.648      0.518      -0.003       0.002\n",
      "x1             0.6765      0.021     32.020      0.000       0.635       0.718\n",
      "==============================================================================\n",
      "Omnibus:                       26.305   Durbin-Watson:                   1.299\n",
      "Prob(Omnibus):                  0.000   Jarque-Bera (JB):              246.083\n",
      "Skew:                          -0.156   Prob(JB):                     3.66e-54\n",
      "Kurtosis:                      10.493   Cond. No.                         18.3\n",
      "==============================================================================\n",
      "\n",
      "Notes:\n",
      "[1] Standard Errors assume that the covariance matrix of the errors is correctly specified.\n",
      "sPM57 sPM58\n",
      "                            OLS Regression Results                            \n",
      "==============================================================================\n",
      "Dep. Variable:                      y   R-squared:                       0.756\n",
      "Model:                            OLS   Adj. R-squared:                  0.756\n",
      "Method:                 Least Squares   F-statistic:                     2115.\n",
      "Date:                Tue, 21 Mar 2023   Prob (F-statistic):          3.69e-211\n",
      "Time:                        11:57:14   Log-Likelihood:                 1940.9\n",
      "No. Observations:                 684   AIC:                            -3878.\n",
      "Df Residuals:                     682   BIC:                            -3869.\n",
      "Df Model:                           1                                         \n",
      "Covariance Type:            nonrobust                                         \n",
      "==============================================================================\n",
      "                 coef    std err          t      P>|t|      [0.025      0.975]\n",
      "------------------------------------------------------------------------------\n",
      "const         -0.0023      0.001     -3.525      0.000      -0.004      -0.001\n",
      "x1             0.4731      0.010     45.984      0.000       0.453       0.493\n",
      "==============================================================================\n",
      "Omnibus:                      204.221   Durbin-Watson:                   1.044\n",
      "Prob(Omnibus):                  0.000   Jarque-Bera (JB):            15364.635\n",
      "Skew:                           0.279   Prob(JB):                         0.00\n",
      "Kurtosis:                      26.212   Cond. No.                         19.0\n",
      "==============================================================================\n",
      "\n",
      "Notes:\n",
      "[1] Standard Errors assume that the covariance matrix of the errors is correctly specified.\n"
     ]
    }
   ],
   "source": [
    "libs_combos_to_plot = [(\"oldN2\", \"newN2\")] + [(\"oldS6\", \"newS6\")] + [(\"sPM57\", \"sPM58\")]  #+ list(zip([\"newN2\"]*3, [\"newS5\", \"newS6\", \"newS7\"])) + [(\"oldN2\", \"oldS6\")]\n",
    "\n",
    "drop_zeros = False\n",
    "log_plot = True\n",
    "\n",
    "# WE\"LL HAVE THESE THINGS CARRY OVER FROM ABOVE CELL!!\n",
    "# min_read_cutoff = 100\n",
    "# filter_with_rpm_or_hits = \"hits\"\n",
    "# filter_col_target = \"unadapted\"  # \"total\" or \"adapted\" or \"unadapted\"\n",
    "\n",
    "for libs_to_plot in libs_combos_to_plot:\n",
    "    first_lib, second_lib = libs_to_plot\n",
    "    plot_df = filter_df[[col for col in filter_df.columns if first_lib in col or second_lib in col]]\n",
    "    # I have the filter step running again down here so that we can do it more stepwise!\n",
    "    for lib in libs_to_plot:\n",
    "        filter_col_converter = {\"total\": f\"total_gene_{filter_with_rpm_or_hits}_{lib}\",\n",
    "                                \"adapted\": f\"gene_{filter_with_rpm_or_hits}_{lib}_t5+\",\n",
    "                                \"unadapted\": f\"gene_{filter_with_rpm_or_hits}_{lib}_t5-\"}\n",
    "        plot_df = plot_df[plot_df[filter_col_converter[filter_col_target]] >= cumulative_min_read_cutoff]\n",
    "        if drop_zeros:\n",
    "            # To have the OLS work with logged data we need all values to be positive:\n",
    "            plot_df = plot_df.query(f\"fraction_adapted_{lib} > 0\")\n",
    "    if drop_zeros:\n",
    "        additional_plot_params = dict(trendline_options=dict(log_x=True, log_y=True))\n",
    "        additional_title_details = \" (All zero values dropped)\"\n",
    "        additional_file_details = \".droppedZeros\"\n",
    "    else:\n",
    "        additional_plot_params = {}\n",
    "        additional_title_details = \"\"\n",
    "        additional_file_details = \"\"\n",
    "    if log_plot:\n",
    "        additional_plot_params = {**additional_plot_params, \"log_x\": True, \"log_y\": True}\n",
    "    fig = px.scatter(plot_df.reset_index(),\n",
    "                     x=f\"fraction_adapted_{first_lib}\",\n",
    "                     y=f\"fraction_adapted_{second_lib}\",\n",
    "                     # log_x=True, log_y=True,\n",
    "                     hover_name=\"gene_name\",\n",
    "                     hover_data=[col for col in filter_df.columns if first_lib in col or second_lib in col],\n",
    "                     trendline=\"ols\",\n",
    "                     labels={f\"fraction_adapted_{lib}\":f\"Fraction Adapted <br> {lib}\" for lib in conversion_dict.values()},\n",
    "                     **additional_plot_params)\n",
    "    \n",
    "    print(first_lib, second_lib)\n",
    "    results = px.get_trendline_results(fig).px_fit_results.iloc[0]\n",
    "    print(results.summary())\n",
    "    \n",
    "    fig.update_layout(template=\"plotly_white\", title=f\"<b>Fraction Adapted for {first_lib} and {second_lib}</b><br>w/ {filter_with_rpm_or_hits} cutoff of {cumulative_min_read_cutoff} across plotted libs {'&nbsp;' * 5} OLS Trendline; R<sup>2</sup>: {results.rsquared:0.4f}; adjR<sup>2</sup>: {results.rsquared_adj:0.4f} {'&nbsp;' * 5} n={plot_df.shape[0]}{additional_title_details}\")\n",
    "    fig.write_html(f\"./output_files/{npCommon.get_dt()}_fractionAdapted_{first_lib}-v-{second_lib}_min{cumulative_min_read_cutoff}{filter_col_target}{filter_with_rpm_or_hits.title()}{additional_file_details}.scatter.html\")\n",
    "    fig.show()"
   ],
   "metadata": {
    "collapsed": false
   }
  },
  {
   "cell_type": "markdown",
   "source": [
    "# Plot to try and decide cutoff for total/adapted/unadapted hits/rpm"
   ],
   "metadata": {
    "collapsed": false
   }
  },
  {
   "cell_type": "code",
   "execution_count": 18,
   "outputs": [
    {
     "name": "stderr",
     "output_type": "stream",
     "text": [
      "/tmp/ipykernel_182687/236335307.py:24: SettingWithCopyWarning:\n",
      "\n",
      "\n",
      "A value is trying to be set on a copy of a slice from a DataFrame.\n",
      "Try using .loc[row_indexer,col_indexer] = value instead\n",
      "\n",
      "See the caveats in the documentation: https://pandas.pydata.org/pandas-docs/stable/user_guide/indexing.html#returning-a-view-versus-a-copy\n",
      "\n",
      "/tmp/ipykernel_182687/236335307.py:26: SettingWithCopyWarning:\n",
      "\n",
      "\n",
      "A value is trying to be set on a copy of a slice from a DataFrame.\n",
      "Try using .loc[row_indexer,col_indexer] = value instead\n",
      "\n",
      "See the caveats in the documentation: https://pandas.pydata.org/pandas-docs/stable/user_guide/indexing.html#returning-a-view-versus-a-copy\n",
      "\n",
      "/usr/local/lib/python3.8/dist-packages/pandas/core/arraylike.py:402: RuntimeWarning:\n",
      "\n",
      "divide by zero encountered in log2\n",
      "\n",
      "/tmp/ipykernel_182687/236335307.py:27: SettingWithCopyWarning:\n",
      "\n",
      "\n",
      "A value is trying to be set on a copy of a slice from a DataFrame.\n",
      "Try using .loc[row_indexer,col_indexer] = value instead\n",
      "\n",
      "See the caveats in the documentation: https://pandas.pydata.org/pandas-docs/stable/user_guide/indexing.html#returning-a-view-versus-a-copy\n",
      "\n",
      "/tmp/ipykernel_182687/236335307.py:29: SettingWithCopyWarning:\n",
      "\n",
      "\n",
      "A value is trying to be set on a copy of a slice from a DataFrame.\n",
      "Try using .loc[row_indexer,col_indexer] = value instead\n",
      "\n",
      "See the caveats in the documentation: https://pandas.pydata.org/pandas-docs/stable/user_guide/indexing.html#returning-a-view-versus-a-copy\n",
      "\n",
      "/usr/local/lib/python3.8/dist-packages/pandas/core/arraylike.py:402: RuntimeWarning:\n",
      "\n",
      "divide by zero encountered in log2\n",
      "\n",
      "/tmp/ipykernel_182687/236335307.py:31: SettingWithCopyWarning:\n",
      "\n",
      "\n",
      "A value is trying to be set on a copy of a slice from a DataFrame.\n",
      "Try using .loc[row_indexer,col_indexer] = value instead\n",
      "\n",
      "See the caveats in the documentation: https://pandas.pydata.org/pandas-docs/stable/user_guide/indexing.html#returning-a-view-versus-a-copy\n",
      "\n",
      "/tmp/ipykernel_182687/236335307.py:33: SettingWithCopyWarning:\n",
      "\n",
      "\n",
      "A value is trying to be set on a copy of a slice from a DataFrame.\n",
      "Try using .loc[row_indexer,col_indexer] = value instead\n",
      "\n",
      "See the caveats in the documentation: https://pandas.pydata.org/pandas-docs/stable/user_guide/indexing.html#returning-a-view-versus-a-copy\n",
      "\n",
      "/tmp/ipykernel_182687/236335307.py:33: SettingWithCopyWarning:\n",
      "\n",
      "\n",
      "A value is trying to be set on a copy of a slice from a DataFrame.\n",
      "Try using .loc[row_indexer,col_indexer] = value instead\n",
      "\n",
      "See the caveats in the documentation: https://pandas.pydata.org/pandas-docs/stable/user_guide/indexing.html#returning-a-view-versus-a-copy\n",
      "\n",
      "/tmp/ipykernel_182687/236335307.py:33: SettingWithCopyWarning:\n",
      "\n",
      "\n",
      "A value is trying to be set on a copy of a slice from a DataFrame.\n",
      "Try using .loc[row_indexer,col_indexer] = value instead\n",
      "\n",
      "See the caveats in the documentation: https://pandas.pydata.org/pandas-docs/stable/user_guide/indexing.html#returning-a-view-versus-a-copy\n",
      "\n"
     ]
    },
    {
     "name": "stdout",
     "output_type": "stream",
     "text": [
      "(15604, 58)\n"
     ]
    },
    {
     "name": "stderr",
     "output_type": "stream",
     "text": [
      "/tmp/ipykernel_182687/236335307.py:24: SettingWithCopyWarning:\n",
      "\n",
      "\n",
      "A value is trying to be set on a copy of a slice from a DataFrame.\n",
      "Try using .loc[row_indexer,col_indexer] = value instead\n",
      "\n",
      "See the caveats in the documentation: https://pandas.pydata.org/pandas-docs/stable/user_guide/indexing.html#returning-a-view-versus-a-copy\n",
      "\n",
      "/tmp/ipykernel_182687/236335307.py:26: SettingWithCopyWarning:\n",
      "\n",
      "\n",
      "A value is trying to be set on a copy of a slice from a DataFrame.\n",
      "Try using .loc[row_indexer,col_indexer] = value instead\n",
      "\n",
      "See the caveats in the documentation: https://pandas.pydata.org/pandas-docs/stable/user_guide/indexing.html#returning-a-view-versus-a-copy\n",
      "\n",
      "/usr/local/lib/python3.8/dist-packages/pandas/core/arraylike.py:402: RuntimeWarning:\n",
      "\n",
      "divide by zero encountered in log2\n",
      "\n",
      "/tmp/ipykernel_182687/236335307.py:27: SettingWithCopyWarning:\n",
      "\n",
      "\n",
      "A value is trying to be set on a copy of a slice from a DataFrame.\n",
      "Try using .loc[row_indexer,col_indexer] = value instead\n",
      "\n",
      "See the caveats in the documentation: https://pandas.pydata.org/pandas-docs/stable/user_guide/indexing.html#returning-a-view-versus-a-copy\n",
      "\n",
      "/tmp/ipykernel_182687/236335307.py:29: SettingWithCopyWarning:\n",
      "\n",
      "\n",
      "A value is trying to be set on a copy of a slice from a DataFrame.\n",
      "Try using .loc[row_indexer,col_indexer] = value instead\n",
      "\n",
      "See the caveats in the documentation: https://pandas.pydata.org/pandas-docs/stable/user_guide/indexing.html#returning-a-view-versus-a-copy\n",
      "\n",
      "/usr/local/lib/python3.8/dist-packages/pandas/core/arraylike.py:402: RuntimeWarning:\n",
      "\n",
      "divide by zero encountered in log2\n",
      "\n",
      "/tmp/ipykernel_182687/236335307.py:31: SettingWithCopyWarning:\n",
      "\n",
      "\n",
      "A value is trying to be set on a copy of a slice from a DataFrame.\n",
      "Try using .loc[row_indexer,col_indexer] = value instead\n",
      "\n",
      "See the caveats in the documentation: https://pandas.pydata.org/pandas-docs/stable/user_guide/indexing.html#returning-a-view-versus-a-copy\n",
      "\n",
      "/tmp/ipykernel_182687/236335307.py:33: SettingWithCopyWarning:\n",
      "\n",
      "\n",
      "A value is trying to be set on a copy of a slice from a DataFrame.\n",
      "Try using .loc[row_indexer,col_indexer] = value instead\n",
      "\n",
      "See the caveats in the documentation: https://pandas.pydata.org/pandas-docs/stable/user_guide/indexing.html#returning-a-view-versus-a-copy\n",
      "\n",
      "/tmp/ipykernel_182687/236335307.py:33: SettingWithCopyWarning:\n",
      "\n",
      "\n",
      "A value is trying to be set on a copy of a slice from a DataFrame.\n",
      "Try using .loc[row_indexer,col_indexer] = value instead\n",
      "\n",
      "See the caveats in the documentation: https://pandas.pydata.org/pandas-docs/stable/user_guide/indexing.html#returning-a-view-versus-a-copy\n",
      "\n",
      "/tmp/ipykernel_182687/236335307.py:33: SettingWithCopyWarning:\n",
      "\n",
      "\n",
      "A value is trying to be set on a copy of a slice from a DataFrame.\n",
      "Try using .loc[row_indexer,col_indexer] = value instead\n",
      "\n",
      "See the caveats in the documentation: https://pandas.pydata.org/pandas-docs/stable/user_guide/indexing.html#returning-a-view-versus-a-copy\n",
      "\n"
     ]
    },
    {
     "name": "stdout",
     "output_type": "stream",
     "text": [
      "(15604, 40)\n"
     ]
    },
    {
     "name": "stderr",
     "output_type": "stream",
     "text": [
      "/tmp/ipykernel_182687/236335307.py:24: SettingWithCopyWarning:\n",
      "\n",
      "\n",
      "A value is trying to be set on a copy of a slice from a DataFrame.\n",
      "Try using .loc[row_indexer,col_indexer] = value instead\n",
      "\n",
      "See the caveats in the documentation: https://pandas.pydata.org/pandas-docs/stable/user_guide/indexing.html#returning-a-view-versus-a-copy\n",
      "\n",
      "/tmp/ipykernel_182687/236335307.py:26: SettingWithCopyWarning:\n",
      "\n",
      "\n",
      "A value is trying to be set on a copy of a slice from a DataFrame.\n",
      "Try using .loc[row_indexer,col_indexer] = value instead\n",
      "\n",
      "See the caveats in the documentation: https://pandas.pydata.org/pandas-docs/stable/user_guide/indexing.html#returning-a-view-versus-a-copy\n",
      "\n",
      "/usr/local/lib/python3.8/dist-packages/pandas/core/arraylike.py:402: RuntimeWarning:\n",
      "\n",
      "divide by zero encountered in log2\n",
      "\n",
      "/tmp/ipykernel_182687/236335307.py:27: SettingWithCopyWarning:\n",
      "\n",
      "\n",
      "A value is trying to be set on a copy of a slice from a DataFrame.\n",
      "Try using .loc[row_indexer,col_indexer] = value instead\n",
      "\n",
      "See the caveats in the documentation: https://pandas.pydata.org/pandas-docs/stable/user_guide/indexing.html#returning-a-view-versus-a-copy\n",
      "\n",
      "/tmp/ipykernel_182687/236335307.py:29: SettingWithCopyWarning:\n",
      "\n",
      "\n",
      "A value is trying to be set on a copy of a slice from a DataFrame.\n",
      "Try using .loc[row_indexer,col_indexer] = value instead\n",
      "\n",
      "See the caveats in the documentation: https://pandas.pydata.org/pandas-docs/stable/user_guide/indexing.html#returning-a-view-versus-a-copy\n",
      "\n",
      "/usr/local/lib/python3.8/dist-packages/pandas/core/arraylike.py:402: RuntimeWarning:\n",
      "\n",
      "divide by zero encountered in log2\n",
      "\n",
      "/tmp/ipykernel_182687/236335307.py:31: SettingWithCopyWarning:\n",
      "\n",
      "\n",
      "A value is trying to be set on a copy of a slice from a DataFrame.\n",
      "Try using .loc[row_indexer,col_indexer] = value instead\n",
      "\n",
      "See the caveats in the documentation: https://pandas.pydata.org/pandas-docs/stable/user_guide/indexing.html#returning-a-view-versus-a-copy\n",
      "\n",
      "/tmp/ipykernel_182687/236335307.py:33: SettingWithCopyWarning:\n",
      "\n",
      "\n",
      "A value is trying to be set on a copy of a slice from a DataFrame.\n",
      "Try using .loc[row_indexer,col_indexer] = value instead\n",
      "\n",
      "See the caveats in the documentation: https://pandas.pydata.org/pandas-docs/stable/user_guide/indexing.html#returning-a-view-versus-a-copy\n",
      "\n",
      "/tmp/ipykernel_182687/236335307.py:33: SettingWithCopyWarning:\n",
      "\n",
      "\n",
      "A value is trying to be set on a copy of a slice from a DataFrame.\n",
      "Try using .loc[row_indexer,col_indexer] = value instead\n",
      "\n",
      "See the caveats in the documentation: https://pandas.pydata.org/pandas-docs/stable/user_guide/indexing.html#returning-a-view-versus-a-copy\n",
      "\n",
      "/tmp/ipykernel_182687/236335307.py:33: SettingWithCopyWarning:\n",
      "\n",
      "\n",
      "A value is trying to be set on a copy of a slice from a DataFrame.\n",
      "Try using .loc[row_indexer,col_indexer] = value instead\n",
      "\n",
      "See the caveats in the documentation: https://pandas.pydata.org/pandas-docs/stable/user_guide/indexing.html#returning-a-view-versus-a-copy\n",
      "\n"
     ]
    },
    {
     "name": "stdout",
     "output_type": "stream",
     "text": [
      "(15604, 49)\n"
     ]
    },
    {
     "name": "stderr",
     "output_type": "stream",
     "text": [
      "/tmp/ipykernel_182687/236335307.py:24: SettingWithCopyWarning:\n",
      "\n",
      "\n",
      "A value is trying to be set on a copy of a slice from a DataFrame.\n",
      "Try using .loc[row_indexer,col_indexer] = value instead\n",
      "\n",
      "See the caveats in the documentation: https://pandas.pydata.org/pandas-docs/stable/user_guide/indexing.html#returning-a-view-versus-a-copy\n",
      "\n",
      "/tmp/ipykernel_182687/236335307.py:26: SettingWithCopyWarning:\n",
      "\n",
      "\n",
      "A value is trying to be set on a copy of a slice from a DataFrame.\n",
      "Try using .loc[row_indexer,col_indexer] = value instead\n",
      "\n",
      "See the caveats in the documentation: https://pandas.pydata.org/pandas-docs/stable/user_guide/indexing.html#returning-a-view-versus-a-copy\n",
      "\n",
      "/usr/local/lib/python3.8/dist-packages/pandas/core/arraylike.py:402: RuntimeWarning:\n",
      "\n",
      "divide by zero encountered in log2\n",
      "\n",
      "/tmp/ipykernel_182687/236335307.py:27: SettingWithCopyWarning:\n",
      "\n",
      "\n",
      "A value is trying to be set on a copy of a slice from a DataFrame.\n",
      "Try using .loc[row_indexer,col_indexer] = value instead\n",
      "\n",
      "See the caveats in the documentation: https://pandas.pydata.org/pandas-docs/stable/user_guide/indexing.html#returning-a-view-versus-a-copy\n",
      "\n",
      "/tmp/ipykernel_182687/236335307.py:29: SettingWithCopyWarning:\n",
      "\n",
      "\n",
      "A value is trying to be set on a copy of a slice from a DataFrame.\n",
      "Try using .loc[row_indexer,col_indexer] = value instead\n",
      "\n",
      "See the caveats in the documentation: https://pandas.pydata.org/pandas-docs/stable/user_guide/indexing.html#returning-a-view-versus-a-copy\n",
      "\n",
      "/usr/local/lib/python3.8/dist-packages/pandas/core/arraylike.py:402: RuntimeWarning:\n",
      "\n",
      "divide by zero encountered in log2\n",
      "\n",
      "/tmp/ipykernel_182687/236335307.py:31: SettingWithCopyWarning:\n",
      "\n",
      "\n",
      "A value is trying to be set on a copy of a slice from a DataFrame.\n",
      "Try using .loc[row_indexer,col_indexer] = value instead\n",
      "\n",
      "See the caveats in the documentation: https://pandas.pydata.org/pandas-docs/stable/user_guide/indexing.html#returning-a-view-versus-a-copy\n",
      "\n",
      "/tmp/ipykernel_182687/236335307.py:33: SettingWithCopyWarning:\n",
      "\n",
      "\n",
      "A value is trying to be set on a copy of a slice from a DataFrame.\n",
      "Try using .loc[row_indexer,col_indexer] = value instead\n",
      "\n",
      "See the caveats in the documentation: https://pandas.pydata.org/pandas-docs/stable/user_guide/indexing.html#returning-a-view-versus-a-copy\n",
      "\n",
      "/tmp/ipykernel_182687/236335307.py:33: SettingWithCopyWarning:\n",
      "\n",
      "\n",
      "A value is trying to be set on a copy of a slice from a DataFrame.\n",
      "Try using .loc[row_indexer,col_indexer] = value instead\n",
      "\n",
      "See the caveats in the documentation: https://pandas.pydata.org/pandas-docs/stable/user_guide/indexing.html#returning-a-view-versus-a-copy\n",
      "\n",
      "/tmp/ipykernel_182687/236335307.py:33: SettingWithCopyWarning:\n",
      "\n",
      "\n",
      "A value is trying to be set on a copy of a slice from a DataFrame.\n",
      "Try using .loc[row_indexer,col_indexer] = value instead\n",
      "\n",
      "See the caveats in the documentation: https://pandas.pydata.org/pandas-docs/stable/user_guide/indexing.html#returning-a-view-versus-a-copy\n",
      "\n"
     ]
    },
    {
     "name": "stdout",
     "output_type": "stream",
     "text": [
      "(15604, 31)\n"
     ]
    }
   ],
   "source": [
    "libs_combos_to_plot = [(\"oldN2\", \"newN2\")] + [(\"oldS6\", \"newS6\")] + [(\"newN2\", \"newS6\")] + [(\"sPM57\", \"sPM58\")] #+ list(zip([\"newN2\"]*3, [\"newS5\", \"newS6\", \"newS7\"])) + [(\"oldN2\", \"oldS6\")]\n",
    "plot_with_rpm_or_hits = \"hits\"\n",
    "plot_col_target = \"unadapted\"  # \"total\" or \"adapted\" or \"unadapted\"\n",
    "\n",
    "def calc_stdDev_and_stdDevOverMean(values):\n",
    "    std_dev = stats.stdev(values)\n",
    "    mean = stats.mean(values)\n",
    "    try:\n",
    "        std_dev_over_mean = std_dev / mean\n",
    "    except ZeroDivisionError:\n",
    "        std_dev_over_mean = np.Inf\n",
    "    return std_dev, mean, std_dev_over_mean\n",
    "\n",
    "for libs_to_plot in libs_combos_to_plot:\n",
    "    first_lib, second_lib = libs_to_plot\n",
    "    plot_df = filter_df[[col for col in filter_df.columns if first_lib in col or second_lib in col]]\n",
    "    plot_cols = []\n",
    "    for lib in libs_to_plot:\n",
    "        plot_col_converter = {\"total\": f\"total_gene_{plot_with_rpm_or_hits}_{lib}\",\n",
    "                              \"adapted\": f\"gene_{plot_with_rpm_or_hits}_{lib}_t5+\",\n",
    "                              \"unadapted\": f\"gene_{plot_with_rpm_or_hits}_{lib}_t5-\"}\n",
    "        plot_cols.append(plot_col_converter[plot_col_target])\n",
    "    metric_col_name = f\"combined_{plot_col_target}_{plot_with_rpm_or_hits}_{first_lib}+{second_lib}\"\n",
    "    plot_df[metric_col_name] = plot_df[plot_cols[0]] + plot_df[plot_cols[1]]\n",
    "    \n",
    "    plot_df[f\"fracAdapted_{first_lib}/{second_lib}\"] = (plot_df[f\"fraction_adapted_{first_lib}\"] / plot_df[f\"fraction_adapted_{second_lib}\"])\n",
    "    plot_df[f\"log2_fracAdapted_{first_lib}/{second_lib}\"] = np.log2(plot_df[f\"fracAdapted_{first_lib}/{second_lib}\"])\n",
    "    \n",
    "    plot_df[f\"deltaFracAdapted_{first_lib}-{second_lib}\"] = (plot_df[f\"fraction_adapted_{first_lib}\"] - plot_df[f\"fraction_adapted_{second_lib}\"])\n",
    "    \n",
    "    plot_df[f\"fracAdapted_FC_{first_lib}/{second_lib}\"] = np.log2((plot_df[f\"fraction_adapted_{first_lib}\"] / plot_df[f\"fraction_adapted_{second_lib}\"]))\n",
    "    \n",
    "    plot_df[[f\"stdDev_fracAdapted_{first_lib}_{second_lib}\", f\"mean_fracAdapted_{first_lib}_{second_lib}\", f\"stdDevOverMean_fracAdapted_{first_lib}_{second_lib}\"]] = plot_df.apply(lambda row: calc_stdDev_and_stdDevOverMean([row[f\"fraction_adapted_{first_lib}\"], row[f\"fraction_adapted_{second_lib}\"]]), axis=1, result_type=\"expand\")\n",
    "    \n",
    "    fig = px.scatter(plot_df.reset_index(),\n",
    "                     x=metric_col_name,\n",
    "                     # =f\"mean_fracAdapted_{first_lib}_{second_lib}\",\n",
    "                     # y=f\"stdDev_fracAdapted_{first_lib}_{second_lib}\",\n",
    "                     y=f\"deltaFracAdapted_{first_lib}-{second_lib}\",\n",
    "                     color=\"chr_id\",\n",
    "                     log_x=True,\n",
    "                     hover_name=\"gene_name\",\n",
    "                     hover_data=[\"gene_id\", \"chr_id\"] + [col for col in filter_df.columns if first_lib in col or second_lib in col])\n",
    "    \n",
    "    fig.update_layout(template=\"plotly_white\")\n",
    "    fig.write_html(f\"./output_files/{npCommon.get_dt()}_deltaFracAdapted-v-combined{plot_col_target.title()}{plot_with_rpm_or_hits.title()}_{first_lib}-{second_lib}.scatter.html\")\n",
    "    fig.write_image(f\"./output_files/{npCommon.get_dt()}_deltaFracAdapted-v-combined{plot_col_target.title()}{plot_with_rpm_or_hits.title()}_{first_lib}-{second_lib}.scatter.png\")\n",
    "    fig.show()\n",
    "    print(plot_df.shape)"
   ],
   "metadata": {
    "collapsed": false
   }
  },
  {
   "cell_type": "markdown",
   "source": [
    "# Plot fraction adapted fold change and Chi2/Fishers p-values"
   ],
   "metadata": {
    "collapsed": false
   }
  },
  {
   "cell_type": "code",
   "execution_count": 63,
   "outputs": [
    {
     "name": "stderr",
     "output_type": "stream",
     "text": [
      "/usr/local/lib/python3.8/dist-packages/pandas/core/arraylike.py:402: RuntimeWarning:\n",
      "\n",
      "divide by zero encountered in log2\n",
      "\n",
      "/usr/local/lib/python3.8/dist-packages/pandas/core/arraylike.py:402: RuntimeWarning:\n",
      "\n",
      "divide by zero encountered in log2\n",
      "\n"
     ]
    },
    {
     "name": "stdout",
     "output_type": "stream",
     "text": [
      "oldN2 oldS6\n",
      "newerN2 newerS6\n"
     ]
    },
    {
     "data": {
      "text/plain": "                                                        447\nchr_id                                                    V\ngene_id                                      WBGene00008944\ngene_name                                           F19B2.5\ngene_hits_newN2_t5+                                    12.0\ngene_rpm_newN2_t5+                               110.120031\n...                                                     ...\nnewerN2_v_newerS6_chi2_significant                     True\nneg_log10_newerN2_v_newerS6_fishers_p_value       18.810005\nnewerN2_v_newerS6_fishers_significant                  True\nfracAdapted_FC_oldN2/oldS6                          4.87721\nfracAdapted_FC_newerN2/newerS6                     2.937646\n\n[74 rows x 1 columns]",
      "text/html": "<div>\n<style scoped>\n    .dataframe tbody tr th:only-of-type {\n        vertical-align: middle;\n    }\n\n    .dataframe tbody tr th {\n        vertical-align: top;\n    }\n\n    .dataframe thead th {\n        text-align: right;\n    }\n</style>\n<table border=\"1\" class=\"dataframe\">\n  <thead>\n    <tr style=\"text-align: right;\">\n      <th></th>\n      <th>447</th>\n    </tr>\n  </thead>\n  <tbody>\n    <tr>\n      <th>chr_id</th>\n      <td>V</td>\n    </tr>\n    <tr>\n      <th>gene_id</th>\n      <td>WBGene00008944</td>\n    </tr>\n    <tr>\n      <th>gene_name</th>\n      <td>F19B2.5</td>\n    </tr>\n    <tr>\n      <th>gene_hits_newN2_t5+</th>\n      <td>12.0</td>\n    </tr>\n    <tr>\n      <th>gene_rpm_newN2_t5+</th>\n      <td>110.120031</td>\n    </tr>\n    <tr>\n      <th>...</th>\n      <td>...</td>\n    </tr>\n    <tr>\n      <th>newerN2_v_newerS6_chi2_significant</th>\n      <td>True</td>\n    </tr>\n    <tr>\n      <th>neg_log10_newerN2_v_newerS6_fishers_p_value</th>\n      <td>18.810005</td>\n    </tr>\n    <tr>\n      <th>newerN2_v_newerS6_fishers_significant</th>\n      <td>True</td>\n    </tr>\n    <tr>\n      <th>fracAdapted_FC_oldN2/oldS6</th>\n      <td>4.87721</td>\n    </tr>\n    <tr>\n      <th>fracAdapted_FC_newerN2/newerS6</th>\n      <td>2.937646</td>\n    </tr>\n  </tbody>\n</table>\n<p>74 rows × 1 columns</p>\n</div>"
     },
     "execution_count": 63,
     "metadata": {},
     "output_type": "execute_result"
    }
   ],
   "source": [
    "from plotly.subplots import make_subplots\n",
    "\n",
    "round_inf_to = 7\n",
    "\n",
    "lib_comparisons_to_plot = [\n",
    "    # (\"newN2\", \"newS5\"),\n",
    "    # (\"newN2\", \"newS6\"),\n",
    "    # (\"newN2\", \"newS7\"),\n",
    "    (\"oldN2\", \"oldS6\"),\n",
    "    # (\"sPM57\", \"sPM58\"),\n",
    "    (\"newerN2\", \"newerS6\"),\n",
    "]\n",
    "\n",
    "stat_test = \"fishers\"  # \"fishers\" or \"chi2\"\n",
    "\n",
    "plot_df = filter_df.copy(deep=True)\n",
    "for first_lib, second_lib in lib_comparisons_to_plot:\n",
    "    plot_df[f\"fracAdapted_FC_{first_lib}/{second_lib}\"] = np.log2(plot_df[f\"fraction_adapted_{first_lib}\"] / plot_df[f\"fraction_adapted_{second_lib}\"])\n",
    "plot_df = plot_df.reset_index()\n",
    "plot_df = plot_df[plot_df.chr_id != 'MtDNA']\n",
    "plot_df = plot_df.replace({-np.inf: -round_inf_to, np.inf: round_inf_to})\n",
    "\n",
    "\n",
    "fig = make_subplots(rows=1, cols=len(lib_comparisons_to_plot),\n",
    "                    shared_yaxes=True,\n",
    "                    shared_xaxes=True,\n",
    "                    vertical_spacing=0.02,\n",
    "                    horizontal_spacing=0.02,\n",
    "                    subplot_titles=[f\"{libs[0]} vs {libs[1]}\" for libs in lib_comparisons_to_plot],\n",
    "                    )\n",
    "\n",
    "for i, (first_lib, second_lib) in enumerate(lib_comparisons_to_plot):\n",
    "    print(first_lib, second_lib)\n",
    "    fig.add_trace(go.Scatter(\n",
    "        x=plot_df[f\"fracAdapted_FC_{first_lib}/{second_lib}\"],\n",
    "        y=plot_df[f\"neg_log10_{first_lib}_v_{second_lib}_{stat_test}_p_value\"],\n",
    "        marker_color=plot_df[f\"{first_lib}_v_{second_lib}_{stat_test}_significant\"].replace({False: \"black\", True: \"red\"}),\n",
    "        hovertext=plot_df[\"gene_name\"],\n",
    "        mode=\"markers\",\n",
    "        name=f\"{second_lib}\"),\n",
    "                  row=1, col=i+1)\n",
    "    \n",
    "    cutoff, num_passed_genes = p_value_cutoff_dict[((first_lib, second_lib), \"fishers\")]\n",
    "    fig.add_hline(y=-np.log10(cutoff),\n",
    "              row=1, col=i+1)\n",
    "    fig.add_annotation(text=f\"Bonferroni<br>p-value = {cutoff:0.3e}\",\n",
    "                       yref=\"y\",\n",
    "                       y=-np.log10(cutoff),\n",
    "                       xref=\"x domain\",\n",
    "                       x=0,\n",
    "                       yanchor=\"bottom\",\n",
    "                       showarrow=False,\n",
    "                       align=\"left\",\n",
    "                       row=1, col=i+1)\n",
    "    fig.add_annotation(text=f\"<b>genes w/ > 100 {filter_col_target} {filter_with_rpm_or_hits} = {num_passed_genes}\",\n",
    "                   yref=\"y domain\",\n",
    "                   y=0,\n",
    "                   xref=\"x domain\",\n",
    "                   x=0.5,\n",
    "                   yanchor=\"bottom\",\n",
    "                   showarrow=False,\n",
    "                   align=\"center\",\n",
    "                   row=1, col=i+1)\n",
    "\n",
    "\n",
    "\n",
    "fig.update_layout(template=\"plotly_white\",\n",
    "                  title=f\"<b>FC Frac. Adapted vs. {stat_test.title()} Test P-Values</b>\"\n",
    "                        f\"<br>Cumulative {filter_col_target} {filter_with_rpm_or_hits} for Cutoff = {cumulative_min_read_cutoff}\")\n",
    "\n",
    "fig.update_xaxes(tickvals=[f\"-{round_inf_to}\", \"-4\", \"-2\", \"0\", \"2\", \"4\", f\"{round_inf_to}\"],\n",
    "                 ticktext=[\"-INF\", \"-4\", \"-2\", \"0\", \"2\", \"4\", \"INF\"])\n",
    "\n",
    "fig.update_yaxes(title_text=f\"-log<sub>10</sub> {stat_test.title()} Test P-Value\",\n",
    "                 row=1, col=1)\n",
    "fig.update_xaxes(title_text=\"Fold Change Fraction Adapted<br>N2 vs. smg\")\n",
    "fig.write_html(f\"./output_files/fishers_tests/{npCommon.get_dt()}_{stat_test}Pvalues-v-FCfractionAdapted.scatters.html\")\n",
    "fig.show()\n",
    "plot_df.query(\"gene_name == 'F19B2.5'\").T"
   ],
   "metadata": {
    "collapsed": false
   }
  },
  {
   "cell_type": "markdown",
   "source": [
    "# Looking at reproducibility\n",
    "## April 3, 2023"
   ],
   "metadata": {
    "collapsed": false
   }
  },
  {
   "cell_type": "code",
   "execution_count": 62,
   "outputs": [
    {
     "data": {
      "text/plain": "       oldN2_v_oldS6_fishers_significant  newerN2_v_newerS6_fishers_significant  gene_name\n25                                 False                                   True      rpl-1\n32                                  True                                   True     rpl-30\n38                                 False                                   True      smd-1\n78                                  True                                   True    C53H9.2\n155                                 True                                  False      xrn-1\n176                                False                                   True    farl-11\n220                                 True                                   True      rpl-3\n231                                False                                   True     rps-22\n234                                 True                                   True      ubl-1\n319                                 True                                   True     rpl-7A\n380                                 True                                  False   K08D12.3\n426                                 True                                   True      odc-1\n447                                 True                                   True    F19B2.5\n467                                False                                   True   T05E12.6\n471                                 True                                   True  Y39B6A.21\n521                                 True                                  False    F23A7.4\n538                                 True                                   True    C45B2.8\n544                                False                                   True   H28G03.2\n557                                 True                                  False    F23A7.8\n560                                 True                                  False     linc-7\n1132                               False                                   True    R06C1.4\n2506                                True                                  False     ift-43\n4236                               False                                   True      rsp-6\n4794                               False                                   True    C35B1.2\n5450                               False                                   True    nhr-114\n6017                                True                                  False  Y39B6A.34\n6352                                True                                   True      tos-1\n6669                                True                                  False      arl-7\n6702                                True                                   True    col-182\n7502                                True                                   True  Y73B3A.18\n7526                                True                                   True    C30E1.9\n14056                               True                                  False   K10C2.14",
      "text/html": "<div>\n<style scoped>\n    .dataframe tbody tr th:only-of-type {\n        vertical-align: middle;\n    }\n\n    .dataframe tbody tr th {\n        vertical-align: top;\n    }\n\n    .dataframe thead th {\n        text-align: right;\n    }\n</style>\n<table border=\"1\" class=\"dataframe\">\n  <thead>\n    <tr style=\"text-align: right;\">\n      <th></th>\n      <th>oldN2_v_oldS6_fishers_significant</th>\n      <th>newerN2_v_newerS6_fishers_significant</th>\n      <th>gene_name</th>\n    </tr>\n  </thead>\n  <tbody>\n    <tr>\n      <th>25</th>\n      <td>False</td>\n      <td>True</td>\n      <td>rpl-1</td>\n    </tr>\n    <tr>\n      <th>32</th>\n      <td>True</td>\n      <td>True</td>\n      <td>rpl-30</td>\n    </tr>\n    <tr>\n      <th>38</th>\n      <td>False</td>\n      <td>True</td>\n      <td>smd-1</td>\n    </tr>\n    <tr>\n      <th>78</th>\n      <td>True</td>\n      <td>True</td>\n      <td>C53H9.2</td>\n    </tr>\n    <tr>\n      <th>155</th>\n      <td>True</td>\n      <td>False</td>\n      <td>xrn-1</td>\n    </tr>\n    <tr>\n      <th>176</th>\n      <td>False</td>\n      <td>True</td>\n      <td>farl-11</td>\n    </tr>\n    <tr>\n      <th>220</th>\n      <td>True</td>\n      <td>True</td>\n      <td>rpl-3</td>\n    </tr>\n    <tr>\n      <th>231</th>\n      <td>False</td>\n      <td>True</td>\n      <td>rps-22</td>\n    </tr>\n    <tr>\n      <th>234</th>\n      <td>True</td>\n      <td>True</td>\n      <td>ubl-1</td>\n    </tr>\n    <tr>\n      <th>319</th>\n      <td>True</td>\n      <td>True</td>\n      <td>rpl-7A</td>\n    </tr>\n    <tr>\n      <th>380</th>\n      <td>True</td>\n      <td>False</td>\n      <td>K08D12.3</td>\n    </tr>\n    <tr>\n      <th>426</th>\n      <td>True</td>\n      <td>True</td>\n      <td>odc-1</td>\n    </tr>\n    <tr>\n      <th>447</th>\n      <td>True</td>\n      <td>True</td>\n      <td>F19B2.5</td>\n    </tr>\n    <tr>\n      <th>467</th>\n      <td>False</td>\n      <td>True</td>\n      <td>T05E12.6</td>\n    </tr>\n    <tr>\n      <th>471</th>\n      <td>True</td>\n      <td>True</td>\n      <td>Y39B6A.21</td>\n    </tr>\n    <tr>\n      <th>521</th>\n      <td>True</td>\n      <td>False</td>\n      <td>F23A7.4</td>\n    </tr>\n    <tr>\n      <th>538</th>\n      <td>True</td>\n      <td>True</td>\n      <td>C45B2.8</td>\n    </tr>\n    <tr>\n      <th>544</th>\n      <td>False</td>\n      <td>True</td>\n      <td>H28G03.2</td>\n    </tr>\n    <tr>\n      <th>557</th>\n      <td>True</td>\n      <td>False</td>\n      <td>F23A7.8</td>\n    </tr>\n    <tr>\n      <th>560</th>\n      <td>True</td>\n      <td>False</td>\n      <td>linc-7</td>\n    </tr>\n    <tr>\n      <th>1132</th>\n      <td>False</td>\n      <td>True</td>\n      <td>R06C1.4</td>\n    </tr>\n    <tr>\n      <th>2506</th>\n      <td>True</td>\n      <td>False</td>\n      <td>ift-43</td>\n    </tr>\n    <tr>\n      <th>4236</th>\n      <td>False</td>\n      <td>True</td>\n      <td>rsp-6</td>\n    </tr>\n    <tr>\n      <th>4794</th>\n      <td>False</td>\n      <td>True</td>\n      <td>C35B1.2</td>\n    </tr>\n    <tr>\n      <th>5450</th>\n      <td>False</td>\n      <td>True</td>\n      <td>nhr-114</td>\n    </tr>\n    <tr>\n      <th>6017</th>\n      <td>True</td>\n      <td>False</td>\n      <td>Y39B6A.34</td>\n    </tr>\n    <tr>\n      <th>6352</th>\n      <td>True</td>\n      <td>True</td>\n      <td>tos-1</td>\n    </tr>\n    <tr>\n      <th>6669</th>\n      <td>True</td>\n      <td>False</td>\n      <td>arl-7</td>\n    </tr>\n    <tr>\n      <th>6702</th>\n      <td>True</td>\n      <td>True</td>\n      <td>col-182</td>\n    </tr>\n    <tr>\n      <th>7502</th>\n      <td>True</td>\n      <td>True</td>\n      <td>Y73B3A.18</td>\n    </tr>\n    <tr>\n      <th>7526</th>\n      <td>True</td>\n      <td>True</td>\n      <td>C30E1.9</td>\n    </tr>\n    <tr>\n      <th>14056</th>\n      <td>True</td>\n      <td>False</td>\n      <td>K10C2.14</td>\n    </tr>\n  </tbody>\n</table>\n</div>"
     },
     "execution_count": 62,
     "metadata": {},
     "output_type": "execute_result"
    },
    {
     "data": {
      "text/plain": "<Figure size 416x256 with 4 Axes>",
      "image/png": "[encoded data removed]"
     },
     "metadata": {},
     "output_type": "display_data"
    }
   ],
   "source": [
    "lib_comparisons_to_compare = [  # Try to just do two for now!\n",
    "    # (\"newN2\", \"newS5\"),\n",
    "    # (\"newN2\", \"newS6\"),\n",
    "    # (\"newN2\", \"newS7\"),\n",
    "    (\"oldN2\", \"oldS6\"),\n",
    "    # (\"sPM57\", \"sPM58\"),\n",
    "    (\"newerN2\", \"newerS6\"),\n",
    "]\n",
    "lib_comparisons_to_filter = [f\"{libs[0]}_v_{libs[1]}\" for libs in lib_comparisons_to_compare]\n",
    "filter_cols = [col for col in plot_df.columns if any([filter_substring in col for filter_substring in lib_comparisons_to_filter]) or col in ['chr_id', 'gene_id', 'gene_name']]\n",
    "filter_cols = [col for col in filter_cols if not \"chi2\" in col]\n",
    "new_df = plot_df[filter_cols]\n",
    "sea.set_style('white')\n",
    "\n",
    "npCommon.boolDF_to_upsetPlot(new_df)\n",
    "new_new_df = new_df.select_dtypes(include='bool')\n",
    "new_new_df[new_new_df[new_new_df.columns[0]] + new_new_df[new_new_df.columns[1]]].merge(new_df['gene_name'], right_index=True, left_index=True)"
   ],
   "metadata": {
    "collapsed": false
   }
  },
  {
   "cell_type": "markdown",
   "source": [
    "# Assessing p-value rank \"shape\""
   ],
   "metadata": {
    "collapsed": false
   }
  },
  {
   "cell_type": "code",
   "execution_count": 24,
   "outputs": [
    {
     "ename": "TypeError",
     "evalue": "can only concatenate list (not \"tuple\") to list",
     "output_type": "error",
     "traceback": [
      "\u001B[0;31m---------------------------------------------------------------------------\u001B[0m",
      "\u001B[0;31mTypeError\u001B[0m                                 Traceback (most recent call last)",
      "\u001B[0;32m/tmp/ipykernel_1823920/542521010.py\u001B[0m in \u001B[0;36m<module>\u001B[0;34m\u001B[0m\n\u001B[1;32m      8\u001B[0m ]\n\u001B[1;32m      9\u001B[0m \u001B[0mplot_titles\u001B[0m \u001B[0;34m=\u001B[0m \u001B[0mlist\u001B[0m\u001B[0;34m(\u001B[0m\u001B[0mzip\u001B[0m\u001B[0;34m(\u001B[0m\u001B[0;34m[\u001B[0m\u001B[0;34mf\"{libs[0]} vs {libs[1]}\"\u001B[0m \u001B[0;32mfor\u001B[0m \u001B[0mlibs\u001B[0m \u001B[0;32min\u001B[0m \u001B[0mlib_comparisons_to_plot\u001B[0m\u001B[0;34m]\u001B[0m\u001B[0;34m,\u001B[0m \u001B[0;34m[\u001B[0m\u001B[0;34m\"(zoom)\"\u001B[0m\u001B[0;34m]\u001B[0m\u001B[0;34m*\u001B[0m\u001B[0mlen\u001B[0m\u001B[0;34m(\u001B[0m\u001B[0mlib_comparisons_to_plot\u001B[0m\u001B[0;34m)\u001B[0m\u001B[0;34m)\u001B[0m\u001B[0;34m)\u001B[0m\u001B[0;34m\u001B[0m\u001B[0;34m\u001B[0m\u001B[0m\n\u001B[0;32m---> 10\u001B[0;31m \u001B[0mprint\u001B[0m\u001B[0;34m(\u001B[0m\u001B[0msum\u001B[0m\u001B[0;34m(\u001B[0m\u001B[0mplot_titles\u001B[0m\u001B[0;34m,\u001B[0m \u001B[0;34m[\u001B[0m\u001B[0;34m]\u001B[0m\u001B[0;34m)\u001B[0m\u001B[0;34m)\u001B[0m\u001B[0;34m\u001B[0m\u001B[0;34m\u001B[0m\u001B[0m\n\u001B[0m\u001B[1;32m     11\u001B[0m fig = make_subplots(rows=len(lib_comparisons_to_plot), cols=2,\n\u001B[1;32m     12\u001B[0m                     \u001B[0mcolumn_widths\u001B[0m\u001B[0;34m=\u001B[0m\u001B[0;34m[\u001B[0m\u001B[0;36m0.8\u001B[0m\u001B[0;34m,\u001B[0m \u001B[0;36m0.2\u001B[0m\u001B[0;34m]\u001B[0m\u001B[0;34m,\u001B[0m\u001B[0;34m\u001B[0m\u001B[0;34m\u001B[0m\u001B[0m\n",
      "\u001B[0;31mTypeError\u001B[0m: can only concatenate list (not \"tuple\") to list"
     ]
    }
   ],
   "source": [
    "lib_comparisons_to_plot = [\n",
    "    # (\"newN2\", \"newS5\"),\n",
    "    # (\"newN2\", \"newS6\"),\n",
    "    # (\"newN2\", \"newS7\"),\n",
    "    (\"oldN2\", \"oldS6\"),\n",
    "    # (\"sPM57\", \"sPM58\"),\n",
    "    (\"newerN2\", \"newerS6\"),\n",
    "]\n",
    "plot_titles = list(zip([f\"{libs[0]} vs {libs[1]}\" for libs in lib_comparisons_to_plot], [\"(zoom)\"]*len(lib_comparisons_to_plot)))\n",
    "print(sum(plot_titles, []))\n",
    "fig = make_subplots(rows=len(lib_comparisons_to_plot), cols=2,\n",
    "                    column_widths=[0.8, 0.2],\n",
    "                    shared_yaxes=False,\n",
    "                    shared_xaxes=True,\n",
    "                    vertical_spacing=0.1,\n",
    "                    horizontal_spacing=0.02,\n",
    "                    subplot_titles=plot_titles)\n",
    "\n",
    "for i, (lib1, lib2) in enumerate([(\"oldN2\", \"oldS6\"),\n",
    "                                  (\"newN2\", \"newS5\"),\n",
    "                                  (\"newN2\", \"newS6\"),\n",
    "                                  (\"newN2\", \"newS7\")]):\n",
    "    plt_df = filter_df.sort_values(f\"{lib1}_v_{lib2}_fishers_p_value\").reset_index()\n",
    "    p_values = plt_df[f'{lib1}_v_{lib2}_fishers_p_value']\n",
    "    p_value_ranks = p_values.rank()\n",
    "    non_1_max_p_value_rank = list(set(plt_df[f'{lib1}_v_{lib2}_fishers_p_value'].rank()))[-2]\n",
    "    # ^ This value is similar to the number of p-values that I am \"really testing\"\n",
    "    \n",
    "    # Overall plots:\n",
    "    fig.add_trace(go.Scatter(x=p_value_ranks,\n",
    "                             y=p_values,\n",
    "                             hovertext=plt_df['gene_name'],\n",
    "                             mode=\"markers\",\n",
    "                             marker=dict(color=\"black\"),\n",
    "                             name=lib2),\n",
    "                  row=i+1, col=1)\n",
    "    \n",
    "    # Add line for a FDR cutoff level using Benjamini-Hochberg method\n",
    "    fig.add_trace(go.Scatter(y=[(0.05 / non_1_max_p_value_rank), 0.05],\n",
    "                             x=[1, non_1_max_p_value_rank],\n",
    "                             mode=\"lines\",\n",
    "                             marker=dict(color=\"red\"),),\n",
    "              row=i+1, col=1)\n",
    "    \n",
    "    # Zoom plots:\n",
    "    fig.add_trace(go.Scatter(x=p_value_ranks,\n",
    "                             y=p_values,\n",
    "                             hovertext=plt_df['gene_name'],\n",
    "                             mode=\"markers\",\n",
    "                             marker=dict(color=\"black\"),\n",
    "                             name=lib2),\n",
    "                  row=i+1, col=2)\n",
    "    fig.add_trace(go.Scatter(y=[(0.05 / non_1_max_p_value_rank), 0.05],\n",
    "                             x=[1, non_1_max_p_value_rank],\n",
    "                             mode=\"lines\",\n",
    "                             marker=dict(color=\"red\"),),\n",
    "              row=i+1, col=2)\n",
    "    \n",
    "    # Name axes:\n",
    "    fig.update_yaxes(title_text=f\"Fishers P-Value\",\n",
    "                     row=i+1, col=1)\n",
    "    \n",
    "    # Set zoom plot axis limits:\n",
    "    fig.update_layout(**{f\"yaxis{(i+1)*2}\": dict(range=[0, 0.01]),\n",
    "                         f\"xaxis{(i+1)*2}\": dict(range=[0, 25])})\n",
    "fig.update_xaxes(title_text=\"Fishers P-Value Rank<br>N2 vs. smg\",\n",
    "                 row=4, col=1)\n",
    "fig.update_xaxes(title_text=\"Fishers P-Value Rank<br>N2 vs. smg\",\n",
    "                 row=4, col=2)\n",
    "fig.update_layout(title=f\"Fishers P-value vs Ranking of Fishers P-value\",\n",
    "                  template=\"plotly_white\",\n",
    "                  showlegend=False)\n",
    "fig.show()"
   ],
   "metadata": {
    "collapsed": false
   }
  },
  {
   "cell_type": "code",
   "execution_count": 15,
   "outputs": [],
   "source": [
    "rank_df = filter_df.copy(deep=True).reset_index()\n",
    "rank_df = rank_df.query(\"chr_id != 'MtDNA'\")\n",
    "\n",
    "# This was over-engineered solution, all I really want to check is smg-6 replicable-ity and new smg-5 v new smg-6\n",
    "lib_combos = [(\"oldN2\", \"oldS6\"), (\"newerN2\", \"newerS6\"), (\"newN2\", \"newS6\")]\n",
    "for i, libs1 in enumerate(lib_combos):\n",
    "    libs2 = lib_combos[(i+1) % len(lib_combos)]\n",
    "    # print(libs1, libs2)\n",
    "    \n",
    "    # but I can still use this loop for this step:\n",
    "    lib1, lib2 = libs1\n",
    "    rank_df[f\"{lib1}_v_{lib2}_fishers_p_value_ranked\"] = rank_df[f\"{lib1}_v_{lib2}_fishers_p_value\"].rank()"
   ],
   "metadata": {
    "collapsed": false
   }
  },
  {
   "cell_type": "code",
   "execution_count": 18,
   "outputs": [],
   "source": [
    "lib1, lib2, lib3, lib4 = 'newerN2', 'newerS6', 'oldN2', 'oldS6'\n",
    "\n",
    "minimum_hits_for_both = 100\n",
    "p_value_cutoff_for_both = 1\n",
    "\n",
    "plot_rank_df = rank_df.query(f\"cumulative_unadapted_hits_{lib1}_{lib2} > {minimum_hits_for_both}\")\\\n",
    "                      .query(f\"cumulative_unadapted_hits_{lib3}_{lib4} > {minimum_hits_for_both}\")\n",
    "plot_rank_df = plot_rank_df.query(f'{lib1}_v_{lib2}_fishers_p_value < {p_value_cutoff_for_both}')\\\n",
    "                           .query(f'{lib3}_v_{lib4}_fishers_p_value < {p_value_cutoff_for_both}')\n",
    "\n",
    "fig = px.scatter(plot_rank_df,\n",
    "                 x=f'{lib1}_v_{lib2}_fishers_p_value_ranked',\n",
    "                 y=f'{lib3}_v_{lib4}_fishers_p_value_ranked',\n",
    "                 hover_name='gene_name',\n",
    "                 # hover_data=[''],\n",
    "                 # log_x=True, log_y=True,\n",
    "                 trendline='ols',\n",
    "                 title=f\"Comparison of ranked p_values for {lib1}_v_{lib2} and {lib3}_v_{lib4}\"\n",
    "                 )\n",
    "fig.show()\n",
    "\n",
    "fig = px.scatter(plot_rank_df,\n",
    "                 x=f'{lib1}_v_{lib2}_fishers_p_value',\n",
    "                 y=f'{lib3}_v_{lib4}_fishers_p_value',\n",
    "                 hover_name='gene_name',\n",
    "                 # hover_data=[''],\n",
    "                 # log_x=True, log_y=True,\n",
    "                 trendline='ols',\n",
    "                 title=f\"Comparison of p_values for {lib1}_v_{lib2} and {lib3}_v_{lib4}\"\n",
    "                 )\n",
    "fig.show()"
   ],
   "metadata": {
    "collapsed": false
   }
  },
  {
   "cell_type": "markdown",
   "source": [
    "Plotting comparison of p-values has helped me appreciate that the majority of genes failed to be replicated between the libraries. Some genes of interest remain highly ranked in both of the library sets:\n",
    "* F19B2.5   This is a fairly interesting little gene that only has 1 isoform. It obviously has some kind of NMD dependent cleavage or degradation event happening (the coverage plots in wildtype are slopes while they're pretty square in nmd knockouts)"
   ],
   "metadata": {
    "collapsed": false
   }
  },
  {
   "cell_type": "code",
   "execution_count": null,
   "outputs": [],
   "source": [],
   "metadata": {
    "collapsed": false
   }
  }
 ],
 "metadata": {
  "kernelspec": {
   "display_name": "Python 3",
   "language": "python",
   "name": "python3"
  },
  "language_info": {
   "codemirror_mode": {
    "name": "ipython",
    "version": 2
   },
   "file_extension": ".py",
   "mimetype": "text/x-python",
   "name": "python",
   "nbconvert_exporter": "python",
   "pygments_lexer": "ipython2",
   "version": "2.7.6"
  }
 },
 "nbformat": 4,
 "nbformat_minor": 0
}
