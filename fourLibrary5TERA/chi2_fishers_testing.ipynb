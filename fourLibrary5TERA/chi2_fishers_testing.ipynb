{
 "cells": [
  {
   "cell_type": "code",
   "execution_count": null,
   "metadata": {
    "collapsed": true
   },
   "outputs": [],
   "source": [
    "import sys\n",
    "import warnings\n",
    "sys.path.insert(0, '/data16/marcus/scripts/nanoporePipelineScripts')\n",
    "import nanoporePipelineCommon as npCommon\n",
    "\n",
    "from tqdm import tqdm\n",
    "\n",
    "import seaborn as sea\n",
    "import matplotlib.pyplot as plt\n",
    "import plotly.express as px\n",
    "import plotly.graph_objects as go\n",
    "import plotly.io as pio\n",
    "pio.renderers.default = \"browser\"\n",
    "\n",
    "import numpy as np\n",
    "import pandas as pd\n",
    "import statistics as stats\n",
    "pd.set_option('display.width', 200)\n",
    "pd.set_option('display.max_columns', None)\n",
    "\n",
    "print(f\"Imports done at {npCommon.get_dt(for_print=True)}\")"
   ]
  },
  {
   "cell_type": "markdown",
   "source": [
    "# Load pre-processed files:"
   ],
   "metadata": {
    "collapsed": false
   }
  },
  {
   "cell_type": "code",
   "execution_count": null,
   "outputs": [],
   "source": [
    "try:\n",
    "    reads_df_genes = pd.read_parquet(npCommon.find_newest_matching_file(f\"./output_files/*_quad5TERA.reads_df.parquet\"))\n",
    "    compressed_df_genes = pd.read_parquet(npCommon.find_newest_matching_file(f\"./output_files/*_quad5TERA.compressed_df.parquet\"))\n",
    "    print(f\"Finished library loading at {npCommon.get_dt(for_print=True)}\")\n",
    "except ValueError:\n",
    "    reads_df_genes, compressed_df_genes = None, None\n",
    "    print(\"Could not find pre-compressed dataframes saved. Try running the first few cells of initialTestingAndScratchPaper.ipynb\")\n",
    "compressed_df_genes_short = compressed_df_genes.copy()[[\"lib\", \"chr_id\", \"gene_id\", \"gene_name\", \"t5\", \"gene_hits\", \"gene_rpm\"]]\n",
    "compressed_df_genes_short.query(\"gene_name == 'rpl-12'\")"
   ],
   "metadata": {
    "collapsed": false
   }
  },
  {
   "cell_type": "markdown",
   "source": [
    "# Format libraries as columns with shortened names"
   ],
   "metadata": {
    "collapsed": false
   }
  },
  {
   "cell_type": "code",
   "execution_count": null,
   "outputs": [],
   "source": [
    "conversion_dict = {\"xrn-1-5tera\": \"oldN2\",\n",
    "                   \"xrn-1-5tera-smg-6\": \"oldS6\",\n",
    "                   \"5tera_xrn-1-KD_wt\": \"newN2\",\n",
    "                   \"5tera_xrn-1-KD_smg-5\": \"newS5\",\n",
    "                   \"5tera_xrn-1-KD_smg-6\": \"newS6\",\n",
    "                   \"5tera_xrn-1-KD_smg-7\": \"newS7\",\n",
    "                   }\n",
    "ans = [y for x, y in compressed_df_genes_short.groupby(['lib', 't5'], as_index=False)]\n",
    "df_dict = {}\n",
    "for i, df in enumerate(ans):\n",
    "    lib = df.lib.unique()[0]\n",
    "    t5 = df.t5.unique()[0]\n",
    "    df = df[[\"chr_id\", \"gene_id\", \"gene_name\", \"gene_hits\", \"gene_rpm\"]]\n",
    "    df = df.rename(columns={col: f'{col}_{conversion_dict[lib]}_t5{t5}' for col in df.columns if col not in [\"chr_id\", \"gene_id\", \"gene_name\"]})\n",
    "    df_dict[(conversion_dict[lib], t5)] = df.set_index([\"chr_id\", \"gene_id\", \"gene_name\"])\n",
    "    # print((conversion_dict[lib], t5))\n",
    "    # print(df_dict[(conversion_dict[lib], t5)].query(\"gene_name == 'rpl-12'\"))\n",
    "\n",
    "super_df = pd.concat(df_dict.values(), axis=1, join='outer').fillna(0)\n",
    "super_df"
   ],
   "metadata": {
    "collapsed": false
   }
  },
  {
   "cell_type": "markdown",
   "source": [
    "# Don't use the filtering in this step for now."
   ],
   "metadata": {
    "collapsed": false
   }
  },
  {
   "cell_type": "code",
   "execution_count": null,
   "outputs": [],
   "source": [
    "# This step will calculate total hits and the fraction adapted for each gene, then apply a filter for a minimum number of gene hits, adapted hits or unadapted hits\n",
    "\n",
    "# This is currently a little problematic because it will filter all libraries based on the worst preforming library!\n",
    "\n",
    "filter_df = pd.DataFrame()\n",
    "for lib in conversion_dict.values():\n",
    "    for rpm_or_hits in [\"rpm\", \"hits\"]:\n",
    "        super_df[f\"total_gene_{rpm_or_hits}_{lib}\"] = super_df[f\"gene_{rpm_or_hits}_{lib}_t5+\"] + super_df[f\"gene_{rpm_or_hits}_{lib}_t5-\"]\n",
    "    super_df[f\"fraction_adapted_{lib}\"] = super_df[f\"gene_hits_{lib}_t5+\"] / super_df[f\"total_gene_hits_{lib}\"]\n",
    "    \n",
    "    cols_to_carry_over = [col for col in super_df.columns if lib in col]\n",
    "    filter_df[cols_to_carry_over] = super_df[cols_to_carry_over]\n",
    "filter_df"
   ],
   "metadata": {
    "collapsed": false
   }
  },
  {
   "cell_type": "code",
   "execution_count": null,
   "outputs": [],
   "source": [
    "from scipy.stats import chi2_contingency, chisquare, fisher_exact, boschloo_exact, barnard_exact\n",
    "def row_chi2(row, target_lib_1, target_lib_2):\n",
    "    array = np.array([[row[f\"gene_hits_{target_lib_1}_t5-\"], row[f\"gene_hits_{target_lib_2}_t5-\"]],\n",
    "                      [row[f\"gene_hits_{target_lib_1}_t5+\"], row[f\"gene_hits_{target_lib_2}_t5+\"]]])\n",
    "    try:\n",
    "        chi2, p, deg_of_free, expected = chi2_contingency(array)\n",
    "        return chi2, p\n",
    "    except ValueError:\n",
    "        return None, None\n",
    "\n",
    "def row_fishers_exact(row, target_lib_1, target_lib_2, hits_or_rpm='hits', alternative='two-sided'):\n",
    "    array = np.array([[row[f\"gene_{hits_or_rpm}_{target_lib_1}_t5-\"], row[f\"gene_{hits_or_rpm}_{target_lib_2}_t5-\"]],\n",
    "                      [row[f\"gene_{hits_or_rpm}_{target_lib_1}_t5+\"], row[f\"gene_{hits_or_rpm}_{target_lib_2}_t5+\"]]])\n",
    "    if alternative not in ['two-sided', 'greater', 'less']:\n",
    "        raise KeyError(f\"Please use 'two-sided', 'greater', or 'less' for the alternative hypothesis input for fisher's exact test!!\")\n",
    "    odds_ratio, p_value = fisher_exact(array, alternative=alternative)\n",
    "    return odds_ratio, p_value\n",
    "\n",
    "def row_boschloo_exact(row, target_lib_1, target_lib_2, hits_or_rpm='hits', alternative='two-sided', sampling_points=32):\n",
    "    array = np.array([[row[f\"gene_{hits_or_rpm}_{target_lib_1}_t5-\"], row[f\"gene_{hits_or_rpm}_{target_lib_2}_t5-\"]],\n",
    "                      [row[f\"gene_{hits_or_rpm}_{target_lib_1}_t5+\"], row[f\"gene_{hits_or_rpm}_{target_lib_2}_t5+\"]]])\n",
    "    if alternative not in ['two-sided', 'greater', 'less']:\n",
    "        raise KeyError(f\"Please use 'two-sided', 'greater', or 'less' for the alternative hypothesis input for Boschloo's exact test!!\")\n",
    "    boschloo_result = boschloo_exact(array, alternative=alternative, n=sampling_points)\n",
    "    return boschloo_result.statistic, boschloo_result.pvalue\n",
    "\n",
    "def row_barnard_exact(row, target_lib_1, target_lib_2, hits_or_rpm='hits', alternative='two-sided', sampling_points=32):\n",
    "    array = np.array([[row[f\"gene_{hits_or_rpm}_{target_lib_1}_t5-\"], row[f\"gene_{hits_or_rpm}_{target_lib_2}_t5-\"]],\n",
    "                      [row[f\"gene_{hits_or_rpm}_{target_lib_1}_t5+\"], row[f\"gene_{hits_or_rpm}_{target_lib_2}_t5+\"]]])\n",
    "    if alternative not in ['two-sided', 'greater', 'less']:\n",
    "        raise KeyError(f\"Please use 'two-sided', 'greater', or 'less' for the alternative hypothesis input for Barnard's exact test!!\")\n",
    "    barnard_result = barnard_exact(array, alternative=alternative, n=sampling_points)\n",
    "    return barnard_result.statistic, barnard_result.pvalue"
   ],
   "metadata": {
    "collapsed": false
   }
  },
  {
   "cell_type": "code",
   "execution_count": null,
   "outputs": [],
   "source": [
    "# p-value setpoint and the applied cutoffs will be used for a Bonferroni correction\n",
    "#   Currently no genes will be dropped based on these filters/cutoffs\n",
    "base_sig_cutoff = 0.05\n",
    "\n",
    "cumulative_min_read_cutoff = 100\n",
    "filter_with_rpm_or_hits = \"hits\"\n",
    "filter_col_target = \"unadapted\"  # \"total\" or \"adapted\" or \"unadapted\"\n",
    "\n",
    "p_value_cutoff_dict = {}\n",
    "\n",
    "first_lib = \"newN2\"\n",
    "for libs in list(zip([\"newN2\"]*3, [\"newS5\",\n",
    "                                   \"newS6\",\n",
    "                                   \"newS7\"])) + [(\"oldN2\", \"oldS6\")]:\n",
    "    first_lib, second_lib = libs\n",
    "    with warnings.catch_warnings():\n",
    "        tqdm.pandas(desc=f\"Calculating Chi Squared for {first_lib} and {second_lib}\")\n",
    "        filter_df[[f\"{first_lib}_v_{second_lib}_chi2_test_result\", f\"{first_lib}_v_{second_lib}_chi2_p_value\"]] = filter_df.progress_apply(lambda row: row_chi2(row, first_lib, second_lib), axis=1, result_type=\"expand\")\n",
    "        \n",
    "        tqdm.pandas(desc=f\"Calculating Fisher's exact for {first_lib} and {second_lib}\")\n",
    "        filter_df[[f\"{first_lib}_v_{second_lib}_fishers_test_result\", f\"{first_lib}_v_{second_lib}_fishers_p_value\"]] = filter_df.progress_apply(lambda row: row_fishers_exact(row, first_lib, second_lib, hits_or_rpm='hits', alternative='less'), axis=1, result_type=\"expand\")\n",
    "        \n",
    "        # Barnard's and Boschloo tests take forever!!\n",
    "        # tqdm.pandas(desc=f\"Calculating Boschloo exact for {first_lib} and {second_lib}\")\n",
    "        # filter_df[[f\"{first_lib}_v_{second_lib}_boschloo_test_result\", f\"{first_lib}_v_{second_lib}_boschloo_p_value\"]] = filter_df.progress_apply(lambda row: row_boschloo_exact(row, first_lib, second_lib, hits_or_rpm='hits', alternative='less', sampling_points=4), axis=1, result_type=\"expand\")\n",
    "    \n",
    "    for stat_test in ['chi2',\n",
    "                      # 'barnard',\n",
    "                      'boschloo',\n",
    "                      'fishers',\n",
    "                      ]:\n",
    "        lib_cols_for_correction = []\n",
    "        for lib in libs:\n",
    "            filter_col_converter = {\"total\": f\"total_gene_{filter_with_rpm_or_hits}_{lib}\",\n",
    "                                    \"adapted\": f\"gene_{filter_with_rpm_or_hits}_{lib}_t5+\",\n",
    "                                    \"unadapted\": f\"gene_{filter_with_rpm_or_hits}_{lib}_t5-\"}\n",
    "            lib_cols_for_correction.append(filter_col_converter[filter_col_target])\n",
    "        cumulative_col_name = f\"cumulative_{filter_col_target}_{filter_with_rpm_or_hits}_{first_lib}_{second_lib}\"\n",
    "        filter_df[cumulative_col_name] = filter_df[lib_cols_for_correction[0]] + filter_df[lib_cols_for_correction[1]]\n",
    "        number_of_genes_passing_cutoff = filter_df[filter_df[cumulative_col_name] >= cumulative_min_read_cutoff].shape[0]\n",
    "        adjusted_sig_cutoff = base_sig_cutoff / number_of_genes_passing_cutoff\n",
    "        p_value_cutoff_dict[(libs, stat_test)] = (adjusted_sig_cutoff, number_of_genes_passing_cutoff)\n",
    "        print(f\"There were {number_of_genes_passing_cutoff} genes that passed the cutoff of having >={cumulative_min_read_cutoff} cumulative {filter_col_target} {filter_with_rpm_or_hits} between {first_lib} and {second_lib}\"\n",
    "              f\"\\n\\tA Bonferroni correction with this in mind will expect a p value of {adjusted_sig_cutoff:.3g} for a significant {stat_test} test result.\")\n",
    "        try:\n",
    "            filter_df.sort_values(f\"{first_lib}_v_{second_lib}_{stat_test}_p_value\")\n",
    "            filter_df[f\"neg_log10_{first_lib}_v_{second_lib}_{stat_test}_p_value\"] = -np.log10(filter_df[f\"{first_lib}_v_{second_lib}_{stat_test}_p_value\"])\n",
    "            filter_df[f\"{first_lib}_v_{second_lib}_{stat_test}_significant\"] = filter_df[f\"{first_lib}_v_{second_lib}_{stat_test}_p_value\"] <= adjusted_sig_cutoff\n",
    "        except KeyError:\n",
    "            print(f\"Couldn't find columns corresponding to '{stat_test}'!! Be sure spelling is correct!\")\n",
    "print('done.')"
   ],
   "metadata": {
    "collapsed": false
   }
  },
  {
   "cell_type": "markdown",
   "source": [
    "# Look at the top \"most significant\" hits"
   ],
   "metadata": {
    "collapsed": false
   }
  },
  {
   "cell_type": "code",
   "execution_count": null,
   "outputs": [],
   "source": [
    "how_many_hits_to_save = 100\n",
    "for stat_test in [\"chi2\", \"fishers\"]:\n",
    "    for first_lib, second_lib in list(zip([\"newN2\"]*3, [\"newS5\", \"newS6\", \"newS7\"])) + [(\"oldN2\", \"oldS6\")]:\n",
    "        temp_df = filter_df[[f\"gene_rpm_{first_lib}_t5-\",\n",
    "                            f\"gene_rpm_{first_lib}_t5+\",\n",
    "                            f\"gene_rpm_{second_lib}_t5-\",\n",
    "                            f\"gene_rpm_{second_lib}_t5+\",\n",
    "                            f\"{first_lib}_v_{second_lib}_{stat_test}_test_result\",\n",
    "                            f\"{first_lib}_v_{second_lib}_{stat_test}_p_value\",\n",
    "                            f\"{first_lib}_v_{second_lib}_{stat_test}_significant\",\n",
    "                            ]].sort_values(f\"{first_lib}_v_{second_lib}_{stat_test}_p_value\",\n",
    "                                           ascending=True).head(how_many_hits_to_save)\n",
    "        print(temp_df)\n",
    "        # temp_df.to_csv(f\"./output_files/{npCommon.get_dt()}_{first_lib}_v_{second_lib}.{stat_test}.top{how_many_hits_to_save}.csv\")"
   ],
   "metadata": {
    "collapsed": false
   }
  },
  {
   "cell_type": "code",
   "execution_count": null,
   "outputs": [],
   "source": [
    "fig = px.scatter_matrix(filter_df.reset_index(),\n",
    "                        dimensions=[col for col in filter_df if \"fraction_adapted\" in col],\n",
    "                        labels={f\"fraction_adapted_{lib}\":f\"Fraction Adapted <br> {lib}\" for lib in conversion_dict.values()},\n",
    "                        hover_name=\"gene_name\")\n",
    "fig.update_layout(template=\"plotly_white\")\n",
    "# fig.update_layout(xaxis=dict(type='log'),xaxis2=dict(type='log'),xaxis3=dict(type='log'),xaxis4=dict(type='log'))\n",
    "fig.show()"
   ],
   "metadata": {
    "collapsed": false
   }
  },
  {
   "cell_type": "markdown",
   "source": [
    "# Plot relationship of fraction adapted between \"replicates\""
   ],
   "metadata": {
    "collapsed": false
   }
  },
  {
   "cell_type": "code",
   "execution_count": 137,
   "outputs": [
    {
     "name": "stdout",
     "output_type": "stream",
     "text": [
      "oldN2 newN2\n",
      "                            OLS Regression Results                            \n",
      "==============================================================================\n",
      "Dep. Variable:                      y   R-squared:                       0.732\n",
      "Model:                            OLS   Adj. R-squared:                  0.730\n",
      "Method:                 Least Squares   F-statistic:                     407.3\n",
      "Date:                Tue, 10 Jan 2023   Prob (F-statistic):           1.81e-44\n",
      "Time:                        16:00:56   Log-Likelihood:                 389.28\n",
      "No. Observations:                 151   AIC:                            -774.6\n",
      "Df Residuals:                     149   BIC:                            -768.5\n",
      "Df Model:                           1                                         \n",
      "Covariance Type:            nonrobust                                         \n",
      "==============================================================================\n",
      "                 coef    std err          t      P>|t|      [0.025      0.975]\n",
      "------------------------------------------------------------------------------\n",
      "const         -0.0014      0.002     -0.804      0.422      -0.005       0.002\n",
      "x1             0.4297      0.021     20.182      0.000       0.388       0.472\n",
      "==============================================================================\n",
      "Omnibus:                      105.684   Durbin-Watson:                   1.430\n",
      "Prob(Omnibus):                  0.000   Jarque-Bera (JB):             2518.311\n",
      "Skew:                           1.993   Prob(JB):                         0.00\n",
      "Kurtosis:                      22.605   Cond. No.                         14.2\n",
      "==============================================================================\n",
      "\n",
      "Notes:\n",
      "[1] Standard Errors assume that the covariance matrix of the errors is correctly specified.\n",
      "oldS6 newS6\n",
      "                            OLS Regression Results                            \n",
      "==============================================================================\n",
      "Dep. Variable:                      y   R-squared:                       0.925\n",
      "Model:                            OLS   Adj. R-squared:                  0.925\n",
      "Method:                 Least Squares   F-statistic:                     1238.\n",
      "Date:                Tue, 10 Jan 2023   Prob (F-statistic):           3.92e-58\n",
      "Time:                        16:00:57   Log-Likelihood:                 320.78\n",
      "No. Observations:                 102   AIC:                            -637.6\n",
      "Df Residuals:                     100   BIC:                            -632.3\n",
      "Df Model:                           1                                         \n",
      "Covariance Type:            nonrobust                                         \n",
      "==============================================================================\n",
      "                 coef    std err          t      P>|t|      [0.025      0.975]\n",
      "------------------------------------------------------------------------------\n",
      "const         -0.0014      0.001     -1.254      0.213      -0.004       0.001\n",
      "x1             0.5853      0.017     35.186      0.000       0.552       0.618\n",
      "==============================================================================\n",
      "Omnibus:                       22.017   Durbin-Watson:                   1.139\n",
      "Prob(Omnibus):                  0.000   Jarque-Bera (JB):               74.448\n",
      "Skew:                          -0.603   Prob(JB):                     6.82e-17\n",
      "Kurtosis:                       7.008   Cond. No.                         16.0\n",
      "==============================================================================\n",
      "\n",
      "Notes:\n",
      "[1] Standard Errors assume that the covariance matrix of the errors is correctly specified.\n"
     ]
    }
   ],
   "source": [
    "libs_combos_to_plot = [(\"oldN2\", \"newN2\")] + [(\"oldS6\", \"newS6\")]  #+ list(zip([\"newN2\"]*3, [\"newS5\", \"newS6\", \"newS7\"])) + [(\"oldN2\", \"oldS6\")]\n",
    "\n",
    "drop_zeros = False\n",
    "log_plot = True\n",
    "\n",
    "# WE\"LL HAVE THESE THINGS CARRY OVER FROM ABOVE CELL!!\n",
    "# min_read_cutoff = 100\n",
    "# filter_with_rpm_or_hits = \"hits\"\n",
    "# filter_col_target = \"unadapted\"  # \"total\" or \"adapted\" or \"unadapted\"\n",
    "\n",
    "for libs_to_plot in libs_combos_to_plot:\n",
    "    first_lib, second_lib = libs_to_plot\n",
    "    plot_df = filter_df[[col for col in filter_df.columns if first_lib in col or second_lib in col]]\n",
    "    # I have the filter step running again down here so that we can do it more stepwise!\n",
    "    for lib in libs_to_plot:\n",
    "        filter_col_converter = {\"total\": f\"total_gene_{filter_with_rpm_or_hits}_{lib}\",\n",
    "                                \"adapted\": f\"gene_{filter_with_rpm_or_hits}_{lib}_t5+\",\n",
    "                                \"unadapted\": f\"gene_{filter_with_rpm_or_hits}_{lib}_t5-\"}\n",
    "        plot_df = plot_df[plot_df[filter_col_converter[filter_col_target]] >= cumulative_min_read_cutoff]\n",
    "        if drop_zeros:\n",
    "            # To have the OLS work with logged data we need all values to be positive:\n",
    "            plot_df = plot_df.query(f\"fraction_adapted_{lib} > 0\")\n",
    "    if drop_zeros:\n",
    "        additional_plot_params = dict(trendline_options=dict(log_x=True, log_y=True))\n",
    "        additional_title_details = \" (All zero values dropped)\"\n",
    "        additional_file_details = \".droppedZeros\"\n",
    "    else:\n",
    "        additional_plot_params = {}\n",
    "        additional_title_details = \"\"\n",
    "        additional_file_details = \"\"\n",
    "    if log_plot:\n",
    "        additional_plot_params = {**additional_plot_params, \"log_x\": True, \"log_y\": True}\n",
    "    fig = px.scatter(plot_df.reset_index(),\n",
    "                     x=f\"fraction_adapted_{first_lib}\",\n",
    "                     y=f\"fraction_adapted_{second_lib}\",\n",
    "                     # log_x=True, log_y=True,\n",
    "                     hover_name=\"gene_name\",\n",
    "                     hover_data=[col for col in filter_df.columns if first_lib in col or second_lib in col],\n",
    "                     trendline=\"ols\",\n",
    "                     labels={f\"fraction_adapted_{lib}\":f\"Fraction Adapted <br> {lib}\" for lib in conversion_dict.values()},\n",
    "                     **additional_plot_params)\n",
    "    \n",
    "    print(first_lib, second_lib)\n",
    "    results = px.get_trendline_results(fig).px_fit_results.iloc[0]\n",
    "    print(results.summary())\n",
    "    \n",
    "    fig.update_layout(template=\"plotly_white\", title=f\"<b>Fraction Adapted for {first_lib} and {second_lib}</b><br>w/ {filter_with_rpm_or_hits} cutoff of {cumulative_min_read_cutoff} across plotted libs {'&nbsp;' * 5} OLS Trendline; R<sup>2</sup>: {results.rsquared:0.4f}; adjR<sup>2</sup>: {results.rsquared_adj:0.4f} {'&nbsp;' * 5} n={plot_df.shape[0]}{additional_title_details}\")\n",
    "    fig.write_html(f\"./output_files/{npCommon.get_dt()}_fractionAdapted_{first_lib}-v-{second_lib}_min{cumulative_min_read_cutoff}{filter_col_target}{filter_with_rpm_or_hits.title()}{additional_file_details}.scatter.html\")\n",
    "    fig.show()"
   ],
   "metadata": {
    "collapsed": false
   }
  },
  {
   "cell_type": "markdown",
   "source": [
    "# Plot to try and decide cutoff for total/adapted/unadapted hits/rpm"
   ],
   "metadata": {
    "collapsed": false
   }
  },
  {
   "cell_type": "code",
   "execution_count": null,
   "outputs": [],
   "source": [
    "libs_combos_to_plot = [(\"oldN2\", \"newN2\")] + [(\"oldS6\", \"newS6\")] + [(\"newN2\", \"newS6\")] #+ list(zip([\"newN2\"]*3, [\"newS5\", \"newS6\", \"newS7\"])) + [(\"oldN2\", \"oldS6\")]\n",
    "plot_with_rpm_or_hits = \"hits\"\n",
    "plot_col_target = \"unadapted\"  # \"total\" or \"adapted\" or \"unadapted\"\n",
    "\n",
    "def calc_stdDev_and_stdDevOverMean(values):\n",
    "    std_dev = stats.stdev(values)\n",
    "    mean = stats.mean(values)\n",
    "    try:\n",
    "        std_dev_over_mean = std_dev / mean\n",
    "    except ZeroDivisionError:\n",
    "        std_dev_over_mean = np.Inf\n",
    "    return std_dev, mean, std_dev_over_mean\n",
    "\n",
    "for libs_to_plot in libs_combos_to_plot:\n",
    "    first_lib, second_lib = libs_to_plot\n",
    "    plot_df = filter_df[[col for col in filter_df.columns if first_lib in col or second_lib in col]]\n",
    "    plot_cols = []\n",
    "    for lib in libs_to_plot:\n",
    "        plot_col_converter = {\"total\": f\"total_gene_{plot_with_rpm_or_hits}_{lib}\",\n",
    "                              \"adapted\": f\"gene_{plot_with_rpm_or_hits}_{lib}_t5+\",\n",
    "                              \"unadapted\": f\"gene_{plot_with_rpm_or_hits}_{lib}_t5-\"}\n",
    "        plot_cols.append(plot_col_converter[plot_col_target])\n",
    "    metric_col_name = f\"combined_{plot_col_target}_{plot_with_rpm_or_hits}_{first_lib}+{second_lib}\"\n",
    "    plot_df[metric_col_name] = plot_df[plot_cols[0]] + plot_df[plot_cols[1]]\n",
    "    \n",
    "    plot_df[f\"fracAdapted_{first_lib}/{second_lib}\"] = (plot_df[f\"fraction_adapted_{first_lib}\"] / plot_df[f\"fraction_adapted_{second_lib}\"])\n",
    "    plot_df[f\"log2_fracAdapted_{first_lib}/{second_lib}\"] = np.log2(plot_df[f\"fracAdapted_{first_lib}/{second_lib}\"])\n",
    "    \n",
    "    plot_df[f\"deltaFracAdapted_{first_lib}-{second_lib}\"] = (plot_df[f\"fraction_adapted_{first_lib}\"] - plot_df[f\"fraction_adapted_{second_lib}\"])\n",
    "    \n",
    "    plot_df[f\"fracAdapted_FC_{first_lib}/{second_lib}\"] = np.log2((plot_df[f\"fraction_adapted_{first_lib}\"] / plot_df[f\"fraction_adapted_{second_lib}\"]))\n",
    "    \n",
    "    plot_df[[f\"stdDev_fracAdapted_{first_lib}_{second_lib}\", f\"mean_fracAdapted_{first_lib}_{second_lib}\", f\"stdDevOverMean_fracAdapted_{first_lib}_{second_lib}\"]] = plot_df.apply(lambda row: calc_stdDev_and_stdDevOverMean([row[f\"fraction_adapted_{first_lib}\"], row[f\"fraction_adapted_{second_lib}\"]]), axis=1, result_type=\"expand\")\n",
    "    \n",
    "    fig = px.scatter(plot_df.reset_index(),\n",
    "                     x=metric_col_name,\n",
    "                     # =f\"mean_fracAdapted_{first_lib}_{second_lib}\",\n",
    "                     # y=f\"stdDev_fracAdapted_{first_lib}_{second_lib}\",\n",
    "                     y=f\"deltaFracAdapted_{first_lib}-{second_lib}\",\n",
    "                     color=\"chr_id\",\n",
    "                     log_x=True,\n",
    "                     hover_name=\"gene_name\",\n",
    "                     hover_data=[\"gene_id\", \"chr_id\"] + [col for col in filter_df.columns if first_lib in col or second_lib in col])\n",
    "    \n",
    "    fig.update_layout(template=\"plotly_white\")\n",
    "    fig.write_html(f\"./output_files/{npCommon.get_dt()}_deltaFracAdapted-v-combined{plot_col_target.title()}{plot_with_rpm_or_hits.title()}_{first_lib}-{second_lib}.scatter.html\")\n",
    "    fig.write_image(f\"./output_files/{npCommon.get_dt()}_deltaFracAdapted-v-combined{plot_col_target.title()}{plot_with_rpm_or_hits.title()}_{first_lib}-{second_lib}.scatter.png\")\n",
    "    fig.show()\n",
    "    print(plot_df.shape)"
   ],
   "metadata": {
    "collapsed": false
   }
  },
  {
   "cell_type": "markdown",
   "source": [
    "# Plot fraction adapted fold change and Chi2/Fishers p-values"
   ],
   "metadata": {
    "collapsed": false
   }
  },
  {
   "cell_type": "code",
   "execution_count": null,
   "outputs": [],
   "source": [
    "from plotly.subplots import make_subplots\n",
    "\n",
    "stat_test = \"chi2\"  # \"fishers\" or \"chi2\"\n",
    "\n",
    "plot_df = filter_df.copy(deep=True)\n",
    "for first_lib, second_lib in [(\"newN2\", \"newS5\"),\n",
    "                              (\"newN2\", \"newS6\"),\n",
    "                              (\"newN2\", \"newS7\"),\n",
    "                              (\"oldN2\", \"oldS6\")]:\n",
    "    plot_df[f\"fracAdapted_FC_{first_lib}/{second_lib}\"] = np.log2(plot_df[f\"fraction_adapted_{first_lib}\"] / plot_df[f\"fraction_adapted_{second_lib}\"])\n",
    "plot_df = plot_df.reset_index()\n",
    "plot_df = plot_df[plot_df.chr_id != 'MtDNA']\n",
    "plot_df = plot_df.replace({-np.inf: -6, np.inf: 6})\n",
    "\n",
    "\n",
    "fig = make_subplots(rows=1, cols=4,\n",
    "                    shared_yaxes=True,\n",
    "                    shared_xaxes=True,\n",
    "                    vertical_spacing=0.02,\n",
    "                    horizontal_spacing=0.02,\n",
    "                    subplot_titles=[\"Old N2 vs. smg-6\",\n",
    "                                    \"New N2 vs. smg-5\",\n",
    "                                    \"New N2 vs. smg-6\",\n",
    "                                    \"New N2 vs. smg-7\"])\n",
    "\n",
    "fig.add_trace(go.Scatter(\n",
    "    x=plot_df[\"fracAdapted_FC_oldN2/oldS6\"],\n",
    "    y=plot_df[f\"neg_log10_oldN2_v_oldS6_{stat_test}_p_value\"],\n",
    "    marker_color=plot_df[f\"oldN2_v_oldS6_{stat_test}_significant\"].replace(\n",
    "        {False: \"black\",\n",
    "         True: \"red\"}\n",
    "    ),\n",
    "    hovertext=plot_df[\"gene_name\"],\n",
    "    mode=\"markers\",\n",
    "    name=\"smg-6\"),\n",
    "              row=1, col=1)\n",
    "\n",
    "cutoff, num_passed_genes = p_value_cutoff_dict[((\"oldN2\", \"oldS6\"), \"fishers\")]\n",
    "fig.add_hline(y=-np.log10(cutoff),\n",
    "              row=1, col=1)\n",
    "fig.add_annotation(text=f\"Bonferroni adjusted<br>p-value = {cutoff:0.3e}\",\n",
    "                   yref=\"y\",\n",
    "                   y=-np.log10(cutoff),\n",
    "                   xref=\"x domain\",\n",
    "                   x=0,\n",
    "                   yanchor=\"bottom\",\n",
    "                   showarrow=False,\n",
    "                   align=\"left\")\n",
    "fig.add_annotation(text=f\"<b>genes w/ > 100 {filter_col_target} {filter_with_rpm_or_hits} = {num_passed_genes}\",\n",
    "                  yref=\"y domain\",\n",
    "                  y=0,\n",
    "                  xref=\"x domain\",\n",
    "                  x=0.5,\n",
    "                  yanchor=\"bottom\",\n",
    "                  showarrow=False,\n",
    "                  align=\"center\",\n",
    "                  row=1, col=1)\n",
    "\n",
    "for i, smg in enumerate([5, 6, 7]):\n",
    "    fig.add_trace(go.Scatter(\n",
    "        x=plot_df[f\"fracAdapted_FC_newN2/newS{smg}\"],\n",
    "        y=plot_df[f\"neg_log10_newN2_v_newS{smg}_{stat_test}_p_value\"],\n",
    "        marker_color=plot_df[f\"newN2_v_newS{smg}_{stat_test}_significant\"].replace({False: \"black\", True: \"red\"}),\n",
    "        hovertext=plot_df[\"gene_name\"],\n",
    "        mode=\"markers\",\n",
    "        name=f\"smg-{smg}\"),\n",
    "                  row=1, col=i+2)\n",
    "    \n",
    "    cutoff, num_passed_genes = p_value_cutoff_dict[((\"newN2\", f\"newS{smg}\"), \"fishers\")]\n",
    "    fig.add_hline(y=-np.log10(cutoff),\n",
    "              row=1, col=i+2)\n",
    "    fig.add_annotation(text=f\"Bonferroni<br>p-value = {cutoff:0.3e}\",\n",
    "                       yref=\"y\",\n",
    "                       y=-np.log10(cutoff),\n",
    "                       xref=\"x domain\",\n",
    "                       x=0,\n",
    "                       yanchor=\"bottom\",\n",
    "                       showarrow=False,\n",
    "                       align=\"left\",\n",
    "                       row=1, col=i+2)\n",
    "    fig.add_annotation(text=f\"<b>genes w/ > 100 {filter_col_target} {filter_with_rpm_or_hits} = {num_passed_genes}\",\n",
    "                   yref=\"y domain\",\n",
    "                   y=0,\n",
    "                   xref=\"x domain\",\n",
    "                   x=0.5,\n",
    "                   yanchor=\"bottom\",\n",
    "                   showarrow=False,\n",
    "                   align=\"center\",\n",
    "                   row=1, col=i+2)\n",
    "\n",
    "\n",
    "\n",
    "fig.update_layout(template=\"plotly_white\",\n",
    "                  title=f\"<b>FC Frac. Adapted vs. {stat_test.title()} Test P-Values</b>\"\n",
    "                        f\"<br>Cumulative {filter_col_target} {filter_with_rpm_or_hits} for Cutoff = {cumulative_min_read_cutoff}\")\n",
    "\n",
    "fig.update_xaxes(tickvals=[\"-6\", \"-4\", \"-2\", \"0\", \"2\", \"4\", \"6\"],\n",
    "                 ticktext=[\"-INF\", \"-4\", \"-2\", \"0\", \"2\", \"4\", \"INF\"])\n",
    "\n",
    "fig.update_yaxes(title_text=f\"-log<sub>10</sub> {stat_test.title()} Test P-Value\",\n",
    "                 row=1, col=1)\n",
    "fig.update_xaxes(title_text=\"Fold Change Fraction Adapted<br>N2 vs. smg\")\n",
    "fig.write_html(f\"./output_files/{npCommon.get_dt()}_{stat_test}Pvalues-v-FCfractionAdapted.scatters.html\")\n",
    "fig.show()\n",
    "plot_df.query(\"gene_name == 'F19B2.5'\").T"
   ],
   "metadata": {
    "collapsed": false
   }
  },
  {
   "cell_type": "markdown",
   "source": [
    "# Assessing p-value rank \"shape\""
   ],
   "metadata": {
    "collapsed": false
   }
  },
  {
   "cell_type": "code",
   "execution_count": 172,
   "outputs": [],
   "source": [
    "fig = make_subplots(rows=4, cols=2,\n",
    "                    column_widths=[0.8, 0.2],\n",
    "                    shared_yaxes=False,\n",
    "                    shared_xaxes=True,\n",
    "                    vertical_spacing=0.1,\n",
    "                    horizontal_spacing=0.02,\n",
    "                    subplot_titles=[\"Old N2 vs. smg-6\", \"(zoom)\",\n",
    "                                    \"New N2 vs. smg-5\", \"(zoom)\",\n",
    "                                    \"New N2 vs. smg-6\", \"(zoom)\",\n",
    "                                    \"New N2 vs. smg-7\", \"(zoom)\",])\n",
    "\n",
    "for i, (lib1, lib2) in enumerate([(\"oldN2\", \"oldS6\"),\n",
    "                                  (\"newN2\", \"newS5\"),\n",
    "                                  (\"newN2\", \"newS6\"),\n",
    "                                  (\"newN2\", \"newS7\")]):\n",
    "    plt_df = filter_df.sort_values(f\"{lib1}_v_{lib2}_fishers_p_value\").reset_index()\n",
    "    p_values = plt_df[f'{lib1}_v_{lib2}_fishers_p_value']\n",
    "    p_value_ranks = p_values.rank()\n",
    "    non_1_max_p_value_rank = list(set(plt_df[f'{lib1}_v_{lib2}_fishers_p_value'].rank()))[-2]\n",
    "    # ^ This value is similar to the number of p-values that I am \"really testing\"\n",
    "    \n",
    "    # Overall plots:\n",
    "    fig.add_trace(go.Scatter(x=p_value_ranks,\n",
    "                             y=p_values,\n",
    "                             hovertext=plt_df['gene_name'],\n",
    "                             mode=\"markers\",\n",
    "                             marker=dict(color=\"black\"),\n",
    "                             name=lib2),\n",
    "                  row=i+1, col=1)\n",
    "    fig.add_trace(go.Scatter(y=[(0.05 / non_1_max_p_value_rank), 0.05],\n",
    "                             x=[1, non_1_max_p_value_rank],\n",
    "                             mode=\"lines\",\n",
    "                             marker=dict(color=\"red\"),),\n",
    "              row=i+1, col=1)\n",
    "    \n",
    "    # Zoom plots:\n",
    "    fig.add_trace(go.Scatter(x=p_value_ranks,\n",
    "                             y=p_values,\n",
    "                             hovertext=plt_df['gene_name'],\n",
    "                             mode=\"markers\",\n",
    "                             marker=dict(color=\"black\"),\n",
    "                             name=lib2),\n",
    "                  row=i+1, col=2)\n",
    "    fig.add_trace(go.Scatter(y=[(0.05 / non_1_max_p_value_rank), 0.05],\n",
    "                             x=[1, non_1_max_p_value_rank],\n",
    "                             mode=\"lines\",\n",
    "                             marker=dict(color=\"red\"),),\n",
    "              row=i+1, col=2)\n",
    "    \n",
    "    # Name axes:\n",
    "    fig.update_yaxes(title_text=f\"Fishers P-Value\",\n",
    "                     row=i+1, col=1)\n",
    "    \n",
    "    # Set zoom plot axis limits:\n",
    "    fig.update_layout(**{f\"yaxis{(i+1)*2}\": dict(range=[0, 0.01]),\n",
    "                         f\"xaxis{(i+1)*2}\": dict(range=[0, 25])})\n",
    "fig.update_xaxes(title_text=\"Fishers P-Value Rank<br>N2 vs. smg\",\n",
    "                 row=4, col=1)\n",
    "fig.update_xaxes(title_text=\"Fishers P-Value Rank<br>N2 vs. smg\",\n",
    "                 row=4, col=2)\n",
    "fig.update_layout(title=f\"Fishers P-value vs Ranking of Fishers P-value\",\n",
    "                  template=\"plotly_white\",\n",
    "                  showlegend=False)\n",
    "fig.show()"
   ],
   "metadata": {
    "collapsed": false
   }
  },
  {
   "cell_type": "code",
   "execution_count": 208,
   "outputs": [
    {
     "name": "stdout",
     "output_type": "stream",
     "text": [
      "('oldN2', 'oldS6') ('newN2', 'newS5')\n",
      "('newN2', 'newS5') ('newN2', 'newS6')\n",
      "('newN2', 'newS6') ('newN2', 'newS7')\n",
      "('newN2', 'newS7') ('oldN2', 'oldS6')\n"
     ]
    }
   ],
   "source": [
    "rank_df = filter_df.copy(deep=True).reset_index()\n",
    "rank_df = rank_df.query(\"chr_id != 'MtDNA'\")\n",
    "\n",
    "# This was over-engineered solution, all I really want to check is smg-6 replicable-ity and new smg-5 v new smg-6\n",
    "lib_combos = [(\"oldN2\", \"oldS6\"), (\"newN2\", \"newS5\"), (\"newN2\", \"newS6\"), (\"newN2\", \"newS7\")]\n",
    "for i, libs1 in enumerate(lib_combos):\n",
    "    libs2 = lib_combos[(i+1) % len(lib_combos)]\n",
    "    print(libs1, libs2)\n",
    "    \n",
    "    # but I can still use this loop for this step:\n",
    "    lib1, lib2 = libs1\n",
    "    rank_df[f\"{lib1}_v_{lib2}_fishers_p_value_ranked\"] = rank_df[f\"{lib1}_v_{lib2}_fishers_p_value\"].rank()\n",
    "\n",
    "lib1, lib2, lib3, lib4 = 'newN2', 'newS6', 'oldN2', 'oldS6'\n",
    "\n",
    "plot_rank_df = rank_df.query(f\"cummulative_unadapted_hits_{lib1}_{lib2} > 100\").query(f\"cummulative_unadapted_hits_{lib3}_{lib4} > 100\")\n",
    "plot_rank_df = plot_rank_df.query(f'{lib1}_v_{lib2}_fishers_p_value < 1').query(f'{lib3}_v_{lib4}_fishers_p_value < 1')\n",
    "\n",
    "fig = px.scatter(plot_rank_df,\n",
    "                 x=f'{lib1}_v_{lib2}_fishers_p_value_ranked',\n",
    "                 y=f'{lib3}_v_{lib4}_fishers_p_value_ranked',\n",
    "                 hover_name='gene_name',\n",
    "                 # hover_data=[''],\n",
    "                 # log_x=True, log_y=True,\n",
    "                 trendline='ols',\n",
    "                 )\n",
    "fig.show()"
   ],
   "metadata": {
    "collapsed": false
   }
  },
  {
   "cell_type": "code",
   "execution_count": null,
   "outputs": [],
   "source": [],
   "metadata": {
    "collapsed": false
   }
  }
 ],
 "metadata": {
  "kernelspec": {
   "display_name": "Python 3",
   "language": "python",
   "name": "python3"
  },
  "language_info": {
   "codemirror_mode": {
    "name": "ipython",
    "version": 2
   },
   "file_extension": ".py",
   "mimetype": "text/x-python",
   "name": "python",
   "nbconvert_exporter": "python",
   "pygments_lexer": "ipython2",
   "version": "2.7.6"
  }
 },
 "nbformat": 4,
 "nbformat_minor": 0
}
