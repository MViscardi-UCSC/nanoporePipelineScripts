{
 "cells": [
  {
   "cell_type": "markdown",
   "source": [
    "# plottingNewAndOldReads.ipynb\n",
    "## Marcus Viscardi,    January 16, 2023\n",
    "\n",
    "This script is going to take the methods from finalizingReadAndCoveragePlotting_matplotlib.py and use those to plot the new reads!"
   ],
   "metadata": {
    "collapsed": false
   }
  },
  {
   "cell_type": "code",
   "execution_count": null,
   "metadata": {
    "collapsed": true
   },
   "outputs": [],
   "source": [
    "import os\n",
    "import sys\n",
    "sys.path.insert(0, '/data16/marcus/scripts/nanoporePipelineScripts')\n",
    "import nanoporePipelineCommon as npCommon\n",
    "from nanoporeReadPlotting.finalizingReadAndCoveragePlotting_matplotlib import plot_reads, coverage_plotting_5tera\n",
    "\n",
    "import pandas as pd\n",
    "import seaborn as sea\n",
    "import matplotlib.pyplot as plt\n",
    "\n",
    "print(f\"Imports done at {npCommon.get_dt(for_print=True)}\")"
   ]
  },
  {
   "cell_type": "code",
   "execution_count": null,
   "outputs": [],
   "source": [
    "try:\n",
    "    reads_df_genes = pd.read_parquet(npCommon.find_newest_matching_file(f\"./output_files/*_quad5TERA.reads_df.parquet\"))\n",
    "    compressed_df_genes = pd.read_parquet(npCommon.find_newest_matching_file(f\"./output_files/*_quad5TERA.compressed_df.parquet\"))\n",
    "    conversion_dict = {\"xrn-1-5tera\": \"oldN2\",\n",
    "                       \"xrn-1-5tera-smg-6\": \"oldS6\",\n",
    "                       \"5tera_xrn-1-KD_wt\": \"newN2\",\n",
    "                       \"5tera_xrn-1-KD_smg-5\": \"newS5\",\n",
    "                       \"5tera_xrn-1-KD_smg-6\": \"newS6\",\n",
    "                       \"5tera_xrn-1-KD_smg-7\": \"newS7\",\n",
    "                       }\n",
    "    reads_df_genes.replace(conversion_dict, inplace=True)\n",
    "    compressed_df_genes.replace(conversion_dict, inplace=True)\n",
    "    print(f\"Finished library loading at {npCommon.get_dt(for_print=True)}\")\n",
    "except ValueError:\n",
    "    reads_df_genes, compressed_df_genes = None, None\n",
    "    print(\"Could not find pre-compressed dataframes saved. Try running the first few cells of initialTestingAndScratchPaper.ipynb\")"
   ],
   "metadata": {
    "collapsed": false
   }
  },
  {
   "cell_type": "code",
   "execution_count": null,
   "outputs": [],
   "source": [
    "target_gene = 'Y73B3A.18'\n",
    "divide_factor_base = 50  # Larger number means less reads plotted! Generally 10-500 works well\n",
    "adapted_adjustment_factor_base = 5  # Larger numbers here mean we'll get proportionally more adapted reads plotted, this is b/c they're so rare normally!\n",
    "\n",
    "try:\n",
    "    os.mkdir(f\"./output_files/read_plotting/plots_from_{target_gene}\")\n",
    "except FileExistsError:\n",
    "    pass\n",
    "\n",
    "bar_plot_dicts = []\n",
    "\n",
    "for lib in ['newN2', 'newS5', 'newS6', 'newS7', 'oldN2', 'oldS6']:\n",
    "    if lib.startswith('old'):\n",
    "        divide_factor = divide_factor_base * 1\n",
    "        adapted_adjustment_factor =  adapted_adjustment_factor_base / 2\n",
    "    else:\n",
    "        divide_factor = divide_factor_base\n",
    "        adapted_adjustment_factor = adapted_adjustment_factor_base\n",
    "    # Here I use a round about way to pull the RPM information to normalize the number of reads plotted!\n",
    "    try:\n",
    "        adapted_rpm = compressed_df_genes.query(f\"lib == '{lib}'\").query(f\"gene_name == '{target_gene}'\").query(f\"t5 == '+'\")[\n",
    "            'gene_rpm'].values[0]\n",
    "    except IndexError:\n",
    "        # An IndexError would indicate that this place in the dataframe doesn't exist, because of the way these frames were made,\n",
    "        # if no reads match the parameters, the cell never gets made!! so this indicates there are 0 reads of the searched parameters!\n",
    "        adapted_rpm = 0\n",
    "    try:\n",
    "        unadapted_rpm = compressed_df_genes.query(f\"lib == '{lib}'\").query(f\"gene_name == '{target_gene}'\").query(f\"t5 == '-'\")[\n",
    "            'gene_rpm'].values[0]\n",
    "    except IndexError:\n",
    "        unadapted_rpm = 0\n",
    "    \n",
    "    num_adapt_to_plot = int(adapted_rpm / (divide_factor / adapted_adjustment_factor))\n",
    "    num_unadpt_to_plot = int(unadapted_rpm / divide_factor)\n",
    "    \n",
    "    print(f\"For {lib} we are plotting {num_adapt_to_plot} adapted, and {num_unadpt_to_plot} unadapted reads.\\nThis is based on the RPM values of t5+:{adapted_rpm} & t5-:{unadapted_rpm}\")\n",
    "    plot_reads(reads_df_genes.query(f\"lib == '{lib}'\"), gene_name_to_plot=target_gene,\n",
    "               pad_x_axis_bounds_by=50,\n",
    "               # subsample_fraction=0.125,\n",
    "               t5_pos_count=num_adapt_to_plot, t5_neg_count=num_unadpt_to_plot,\n",
    "               only_keep_reads_matched_to_gene=True, plot_width_and_height=(4, 3),\n",
    "               save_dir=f\"./output_files/read_plotting/plots_from_{target_gene}\", save_suffix=f\"_{lib}_subSampledByRPM\")\n",
    "    coverage_plotting_5tera(reads_df_genes.query(f\"lib == '{lib}'\"),\n",
    "                            gene_name=target_gene,\n",
    "                            save_dir=f\"./output_files/read_plotting/plots_from_{target_gene}\", save_suffix=f\"_{lib}\",\n",
    "                            rpm_normalize=True,\n",
    "                            )\n",
    "    \n",
    "    bar_plot_dicts.append({\"gene_name\": target_gene,\n",
    "                           \"lib\": lib,\n",
    "                           \"unadapted_rpm\": unadapted_rpm,\n",
    "                           \"adapted_rpm\": adapted_rpm})\n",
    "\n",
    "sea.set_style(\"whitegrid\")\n",
    "pd.DataFrame(bar_plot_dicts).set_index('lib').plot(kind='bar', stacked=True, color=['steelblue', 'red'])\n",
    "bar_plot_save_path = f\"./output_files/read_plotting/plots_from_{target_gene}/{npCommon.get_dt()}_geneRPMS_{target_gene}\"\n",
    "for file_type in ['.png', '.svg']:\n",
    "    plt.savefig(bar_plot_save_path + file_type)"
   ],
   "metadata": {
    "collapsed": false
   }
  },
  {
   "cell_type": "code",
   "execution_count": null,
   "outputs": [],
   "source": [],
   "metadata": {
    "collapsed": false
   }
  }
 ],
 "metadata": {
  "kernelspec": {
   "display_name": "Python 3",
   "language": "python",
   "name": "python3"
  },
  "language_info": {
   "codemirror_mode": {
    "name": "ipython",
    "version": 2
   },
   "file_extension": ".py",
   "mimetype": "text/x-python",
   "name": "python",
   "nbconvert_exporter": "python",
   "pygments_lexer": "ipython2",
   "version": "2.7.6"
  }
 },
 "nbformat": 4,
 "nbformat_minor": 0
}
