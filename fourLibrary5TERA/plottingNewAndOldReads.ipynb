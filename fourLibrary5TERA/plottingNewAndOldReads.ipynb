{
 "cells": [
  {
   "cell_type": "markdown",
   "source": [
    "# plottingNewAndOldReads.ipynb\n",
    "## Marcus Viscardi,    January 16, 2023\n",
    "\n",
    "This script is going to take the methods from finalizingReadAndCoveragePlotting_matplotlib.py and use those to plot the new reads!"
   ],
   "metadata": {
    "collapsed": false
   }
  },
  {
   "cell_type": "code",
   "execution_count": 2,
   "metadata": {
    "collapsed": true
   },
   "outputs": [
    {
     "name": "stdout",
     "output_type": "stream",
     "text": [
      "Imports done at 01/16/23 @ 04:37:15 PM\n"
     ]
    }
   ],
   "source": [
    "import os\n",
    "import sys\n",
    "sys.path.insert(0, '/data16/marcus/scripts/nanoporePipelineScripts')\n",
    "import nanoporePipelineCommon as npCommon\n",
    "from nanoporeReadPlotting.finalizingReadAndCoveragePlotting_matplotlib import plot_reads, coverage_plotting_5tera\n",
    "\n",
    "import pandas as pd\n",
    "import seaborn as sea\n",
    "import matplotlib.pyplot as plt\n",
    "\n",
    "print(f\"Imports done at {npCommon.get_dt(for_print=True)}\")"
   ]
  },
  {
   "cell_type": "code",
   "execution_count": 3,
   "outputs": [
    {
     "name": "stdout",
     "output_type": "stream",
     "text": [
      "Finished library loading at 01/16/23 @ 04:37:22 PM\n"
     ]
    }
   ],
   "source": [
    "try:\n",
    "    reads_df_genes = pd.read_parquet(npCommon.find_newest_matching_file(f\"./output_files/*_quad5TERA.reads_df.parquet\"))\n",
    "    compressed_df_genes = pd.read_parquet(npCommon.find_newest_matching_file(f\"./output_files/*_quad5TERA.compressed_df.parquet\"))\n",
    "    conversion_dict = {\"xrn-1-5tera\": \"oldN2\",\n",
    "                       \"xrn-1-5tera-smg-6\": \"oldS6\",\n",
    "                       \"5tera_xrn-1-KD_wt\": \"newN2\",\n",
    "                       \"5tera_xrn-1-KD_smg-5\": \"newS5\",\n",
    "                       \"5tera_xrn-1-KD_smg-6\": \"newS6\",\n",
    "                       \"5tera_xrn-1-KD_smg-7\": \"newS7\",\n",
    "                       }\n",
    "    reads_df_genes.replace(conversion_dict, inplace=True)\n",
    "    compressed_df_genes.replace(conversion_dict, inplace=True)\n",
    "    print(f\"Finished library loading at {npCommon.get_dt(for_print=True)}\")\n",
    "except ValueError:\n",
    "    reads_df_genes, compressed_df_genes = None, None\n",
    "    print(\"Could not find pre-compressed dataframes saved. Try running the first few cells of initialTestingAndScratchPaper.ipynb\")"
   ],
   "metadata": {
    "collapsed": false
   }
  },
  {
   "cell_type": "code",
   "execution_count": 14,
   "outputs": [
    {
     "name": "stdout",
     "output_type": "stream",
     "text": [
      "For newN2 we are plotting 3 adapted, and 9 unadapted reads.\n",
      "This is based on the RPM values of t5+:38.57987480830625 & t5-:453.31352899759844\n",
      "Found entry for Y73B3A.18 (WBGene00022219) on chromosome     X at (48483, 60774) on the '+' strand\n"
     ]
    },
    {
     "name": "stderr",
     "output_type": "stream",
     "text": [
      "Plotting Reads...: 100%|██████████| 12/12 [00:00<00:00, 370.15it/s]\n"
     ]
    },
    {
     "name": "stdout",
     "output_type": "stream",
     "text": [
      "Saving plot to ./output_files/read_plotting/plots_from_Y73B3A.18/230116_readPlotting_Y73B3A.18_newN2_subSampledByRPM + .png/.svg...\n",
      "Found entry for Y73B3A.18 (WBGene00022219) on chromosome     X at (48483, 60774) on the '+' strand\n"
     ]
    },
    {
     "ename": "KeyError",
     "evalue": "'X'",
     "output_type": "error",
     "traceback": [
      "\u001B[0;31m---------------------------------------------------------------------------\u001B[0m",
      "\u001B[0;31mKeyError\u001B[0m                                  Traceback (most recent call last)",
      "\u001B[0;32m/tmp/ipykernel_1991412/2320700756.py\u001B[0m in \u001B[0;36m<module>\u001B[0;34m\u001B[0m\n\u001B[1;32m     41\u001B[0m                \u001B[0monly_keep_reads_matched_to_gene\u001B[0m\u001B[0;34m=\u001B[0m\u001B[0;32mTrue\u001B[0m\u001B[0;34m,\u001B[0m \u001B[0mplot_width_and_height\u001B[0m\u001B[0;34m=\u001B[0m\u001B[0;34m(\u001B[0m\u001B[0;36m4\u001B[0m\u001B[0;34m,\u001B[0m \u001B[0;36m3\u001B[0m\u001B[0;34m)\u001B[0m\u001B[0;34m,\u001B[0m\u001B[0;34m\u001B[0m\u001B[0;34m\u001B[0m\u001B[0m\n\u001B[1;32m     42\u001B[0m                save_dir=f\"./output_files/read_plotting/plots_from_{target_gene}\", save_suffix=f\"_{lib}_subSampledByRPM\")\n\u001B[0;32m---> 43\u001B[0;31m     coverage_plotting_5tera(reads_df_genes.query(f\"lib == '{lib}'\"),\n\u001B[0m\u001B[1;32m     44\u001B[0m                             \u001B[0mgene_name\u001B[0m\u001B[0;34m=\u001B[0m\u001B[0mtarget_gene\u001B[0m\u001B[0;34m,\u001B[0m\u001B[0;34m\u001B[0m\u001B[0;34m\u001B[0m\u001B[0m\n\u001B[1;32m     45\u001B[0m                             \u001B[0msave_dir\u001B[0m\u001B[0;34m=\u001B[0m\u001B[0;34mf\"./output_files/read_plotting/plots_from_{target_gene}\"\u001B[0m\u001B[0;34m,\u001B[0m \u001B[0msave_suffix\u001B[0m\u001B[0;34m=\u001B[0m\u001B[0;34mf\"_{lib}\"\u001B[0m\u001B[0;34m,\u001B[0m\u001B[0;34m\u001B[0m\u001B[0;34m\u001B[0m\u001B[0m\n",
      "\u001B[0;32m/data16/marcus/scripts/nanoporePipelineScripts/nanoporeReadPlotting/finalizingReadAndCoveragePlotting_matplotlib.py\u001B[0m in \u001B[0;36mcoverage_plotting_5tera\u001B[0;34m(bam_df_for_plot, gene_name, gene_id, save_dir, save_suffix, count_Ds_as_maps, rpm_normalize)\u001B[0m\n\u001B[1;32m    273\u001B[0m     \u001B[0;32melse\u001B[0m\u001B[0;34m:\u001B[0m\u001B[0;34m\u001B[0m\u001B[0;34m\u001B[0m\u001B[0m\n\u001B[1;32m    274\u001B[0m         \u001B[0;32mraise\u001B[0m \u001B[0mLookupError\u001B[0m\u001B[0;34m(\u001B[0m\u001B[0;34mf\"Please provide either the gene_name or gene_id for the target gene to plot!\"\u001B[0m\u001B[0;34m)\u001B[0m\u001B[0;34m\u001B[0m\u001B[0;34m\u001B[0m\u001B[0m\n\u001B[0;32m--> 275\u001B[0;31m     chr_array_ad = run_coverage_calc(bam_df_for_plot.query(\"t5 == '+'\"),\n\u001B[0m\u001B[1;32m    276\u001B[0m                                      chrs=gene_chr, count_Ds_as_maps=count_Ds_as_maps)[gene_chr]\n\u001B[1;32m    277\u001B[0m     chr_array_unad = run_coverage_calc(bam_df_for_plot.query(\"t5 == '-'\"),\n",
      "\u001B[0;31mKeyError\u001B[0m: 'X'"
     ]
    },
    {
     "data": {
      "text/plain": "<Figure size 400x300 with 1 Axes>",
      "image/png": "[encoded data removed]"
     },
     "metadata": {},
     "output_type": "display_data"
    }
   ],
   "source": [
    "target_gene = 'Y73B3A.18'\n",
    "divide_factor_base = 50  # Larger number means less reads plotted! Generally 10-500 works well\n",
    "adapted_adjustment_factor_base = 5  # Larger numbers here mean we'll get proportionally more adapted reads plotted, this is b/c they're so rare normally!\n",
    "\n",
    "try:\n",
    "    os.mkdir(f\"./output_files/read_plotting/plots_from_{target_gene}\")\n",
    "except FileExistsError:\n",
    "    pass\n",
    "\n",
    "bar_plot_dicts = []\n",
    "\n",
    "for lib in ['newN2', 'newS5', 'newS6', 'newS7', 'oldN2', 'oldS6']:\n",
    "    if lib.startswith('old'):\n",
    "        divide_factor = divide_factor_base * 1\n",
    "        adapted_adjustment_factor =  adapted_adjustment_factor_base / 2\n",
    "    else:\n",
    "        divide_factor = divide_factor_base\n",
    "        adapted_adjustment_factor = adapted_adjustment_factor_base\n",
    "    # Here I use a round about way to pull the RPM information to normalize the number of reads plotted!\n",
    "    try:\n",
    "        adapted_rpm = compressed_df_genes.query(f\"lib == '{lib}'\").query(f\"gene_name == '{target_gene}'\").query(f\"t5 == '+'\")[\n",
    "            'gene_rpm'].values[0]\n",
    "    except IndexError:\n",
    "        # An IndexError would indicate that this place in the dataframe doesn't exist, because of the way these frames were made,\n",
    "        # if no reads match the parameters, the cell never gets made!! so this indicates there are 0 reads of the searched parameters!\n",
    "        adapted_rpm = 0\n",
    "    try:\n",
    "        unadapted_rpm = compressed_df_genes.query(f\"lib == '{lib}'\").query(f\"gene_name == '{target_gene}'\").query(f\"t5 == '-'\")[\n",
    "            'gene_rpm'].values[0]\n",
    "    except IndexError:\n",
    "        unadapted_rpm = 0\n",
    "    \n",
    "    num_adapt_to_plot = int(adapted_rpm / (divide_factor / adapted_adjustment_factor))\n",
    "    num_unadpt_to_plot = int(unadapted_rpm / divide_factor)\n",
    "    \n",
    "    print(f\"For {lib} we are plotting {num_adapt_to_plot} adapted, and {num_unadpt_to_plot} unadapted reads.\\nThis is based on the RPM values of t5+:{adapted_rpm} & t5-:{unadapted_rpm}\")\n",
    "    plot_reads(reads_df_genes.query(f\"lib == '{lib}'\"), gene_name_to_plot=target_gene,\n",
    "               pad_x_axis_bounds_by=50,\n",
    "               # subsample_fraction=0.125,\n",
    "               t5_pos_count=num_adapt_to_plot, t5_neg_count=num_unadpt_to_plot,\n",
    "               only_keep_reads_matched_to_gene=True, plot_width_and_height=(4, 3),\n",
    "               save_dir=f\"./output_files/read_plotting/plots_from_{target_gene}\", save_suffix=f\"_{lib}_subSampledByRPM\")\n",
    "    coverage_plotting_5tera(reads_df_genes.query(f\"lib == '{lib}'\"),\n",
    "                            gene_name=target_gene,\n",
    "                            save_dir=f\"./output_files/read_plotting/plots_from_{target_gene}\", save_suffix=f\"_{lib}\",\n",
    "                            rpm_normalize=True,\n",
    "                            )\n",
    "    \n",
    "    bar_plot_dicts.append({\"gene_name\": target_gene,\n",
    "                           \"lib\": lib,\n",
    "                           \"unadapted_rpm\": unadapted_rpm,\n",
    "                           \"adapted_rpm\": adapted_rpm})\n",
    "\n",
    "sea.set_style(\"whitegrid\")\n",
    "pd.DataFrame(bar_plot_dicts).set_index('lib').plot(kind='bar', stacked=True, color=['steelblue', 'red'])\n",
    "bar_plot_save_path = f\"./output_files/read_plotting/plots_from_{target_gene}/{npCommon.get_dt()}_geneRPMS_{target_gene}\"\n",
    "for file_type in ['.png', '.svg']:\n",
    "    plt.savefig(bar_plot_save_path + file_type)"
   ],
   "metadata": {
    "collapsed": false
   }
  },
  {
   "cell_type": "code",
   "execution_count": null,
   "outputs": [],
   "source": [],
   "metadata": {
    "collapsed": false
   }
  }
 ],
 "metadata": {
  "kernelspec": {
   "display_name": "Python 3",
   "language": "python",
   "name": "python3"
  },
  "language_info": {
   "codemirror_mode": {
    "name": "ipython",
    "version": 2
   },
   "file_extension": ".py",
   "mimetype": "text/x-python",
   "name": "python",
   "nbconvert_exporter": "python",
   "pygments_lexer": "ipython2",
   "version": "2.7.6"
  }
 },
 "nbformat": 4,
 "nbformat_minor": 0
}
