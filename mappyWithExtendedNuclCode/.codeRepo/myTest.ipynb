{
 "cells": [
  {
   "cell_type": "markdown",
   "source": [
    "# myTest.ipynb\n",
    "## Marcus Viscardi,    January 26, 2023\n",
    "\n",
    "So I realized that I was just running ahead on this project without Connor. I want to slow down and do these parts step-by-step with him so that he can learn some of the process. BUT I still want to hold onto that code I wrote while I was running ahead, so I'll move it into here."
   ],
   "metadata": {
    "collapsed": false
   }
  },
  {
   "cell_type": "code",
   "execution_count": 60,
   "outputs": [],
   "source": [
    "import mappy\n",
    "from random import choices as rand_choices\n",
    "from random import random, randint\n",
    "from math import log10\n",
    "\n",
    "from Bio import SeqIO\n",
    "\n",
    "import sys\n",
    "sys.path.insert(0, '/data16/marcus/scripts/nanoporePipelineScripts')\n",
    "from standardsAlignment.version2_mappingStandardsMethod import print_mappy_hit_alignment"
   ],
   "metadata": {
    "collapsed": false
   }
  },
  {
   "cell_type": "code",
   "execution_count": 17,
   "metadata": {
    "collapsed": true
   },
   "outputs": [],
   "source": [
    "# Make new reference with all Ts and Cs collapsed into Ts:\n",
    "\n",
    "# First read the reference line by line\n",
    "with open(\"./testRef.TandC_to_T.fasta\", 'w') as new_reference:\n",
    "    for name, seq, qual, comment in mappy.fastx_read(\"../testRef.fasta\", read_comment=True):\n",
    "        original_ref_seq = seq\n",
    "        new_seq = ''.join(['T' if nucl.lower() in ('t', 'c') else nucl for nucl in seq])\n",
    "        new_reference.write(f\">{name}_TandC_to_T\\n{new_seq}\")"
   ]
  },
  {
   "cell_type": "code",
   "execution_count": 35,
   "outputs": [
    {
     "name": "stdout",
     "output_type": "stream",
     "text": [
      "Mismatch Rate of:  0.00% when we have a TAD8A modification rate (A->I) of  0%\n",
      "Mismatch Rate of:  1.41% when we have a TAD8A modification rate (A->I) of  5%\n",
      "Mismatch Rate of:  2.80% when we have a TAD8A modification rate (A->I) of 10%\n",
      "Mismatch Rate of:  4.19% when we have a TAD8A modification rate (A->I) of 15%\n",
      "Mismatch Rate of:  5.57% when we have a TAD8A modification rate (A->I) of 20%\n",
      "Mismatch Rate of:  6.98% when we have a TAD8A modification rate (A->I) of 25%\n",
      "Mismatch Rate of:  8.40% when we have a TAD8A modification rate (A->I) of 30%\n",
      "Mismatch Rate of:  9.74% when we have a TAD8A modification rate (A->I) of 35%\n",
      "Mismatch Rate of: 11.19% when we have a TAD8A modification rate (A->I) of 40%\n",
      "Mismatch Rate of: 12.57% when we have a TAD8A modification rate (A->I) of 45%\n",
      "Mismatch Rate of: 13.93% when we have a TAD8A modification rate (A->I) of 50%\n",
      "Mismatch Rate of: 15.38% when we have a TAD8A modification rate (A->I) of 55%\n",
      "Mismatch Rate of: 16.74% when we have a TAD8A modification rate (A->I) of 60%\n",
      "Mismatch Rate of: 18.19% when we have a TAD8A modification rate (A->I) of 65%\n",
      "Mismatch Rate of: 19.54% when we have a TAD8A modification rate (A->I) of 70%\n",
      "Mismatch Rate of: 21.00% when we have a TAD8A modification rate (A->I) of 75%\n",
      "Mismatch Rate of: 22.34% when we have a TAD8A modification rate (A->I) of 80%\n",
      "Mismatch Rate of: 23.78% when we have a TAD8A modification rate (A->I) of 85%\n",
      "Mismatch Rate of: 25.17% when we have a TAD8A modification rate (A->I) of 90%\n",
      "Mismatch Rate of: 26.57% when we have a TAD8A modification rate (A->I) of 95%\n",
      "Mismatch Rate of: 27.95% when we have a TAD8A modification rate (A->I) of 100%\n"
     ]
    }
   ],
   "source": [
    "first_read_test = \"TAATACGACTCACTATAGGGAGAgccatcagattgtgtttgttagtcgctGTGGATGGGTAAGGGTGTTATGaacgctgtcaacaacgtcaacaacgtcattgctgctgctttcgtcaaggccaacctagatgttaaggaccaaaaggccgtcgatgacttcttgttgtctttggatggtaccgccaacaagtccaagttgggtgctaacgctatcttgggtgtctccatggccgctgctagagccgctgctgctgaaaagaacgtcccattgtaccaacatttggctgacttgtctaagtccaagacctctccatacgttttgccagttccattcttgaacgttttgaacggtggttcccacgctggtggtgctttggctttgcaagaattcatgattgctccaactggtgctaagaccttcgctgaagccatgagaattggttccgaagtttaccacaacttgaagtctttgaccaagaagagatacggtgcttctgccggtaacgtcggtgacgaaggtggtgttgctccaaacattcaaaccgctgaagaagCTTTGGACTTGATTGTTGACGCcatcgtcgtgagtagtgaaccgtaagcaagagaagagNNNNNNNNtcagctcagcGGTGTTGTTgtgctgtgctgtgctgtgct\"  # just pulled this sequence from the original reference!\n",
    "\n",
    "aligner = mappy.Aligner(f\"./testRef.TandC_to_T.fasta\", n_threads=16,  # Path to reference Fasta\n",
    "                        preset=\"map-ont\", k=14,  # These are the usual go-tos for mapping ONT dRNA-Seq\n",
    "                        # extra_flags=extra_mappy_flag,  # From: https://github.com/lh3/minimap2/blob/master/minimap.h\n",
    "                        # #           0x200000 = forces strand reverse strand alignment (b/c we have cDNA)\n",
    "                        )\n",
    "\n",
    "# TAD8A_rate = 0.99\n",
    "reps = 1000\n",
    "steps = 20\n",
    "\n",
    "for TAD8A_rate in [(i * (100/steps))/100 for i in range(steps+1)]:\n",
    "    org_mismatch_rate_list = []\n",
    "    \n",
    "    for _ in range(reps):\n",
    "        modified_read = ''.join([rand_choices(('C', 'T'), weights=(TAD8A_rate, 1-TAD8A_rate), k=1)[0] if nucl.lower() == 't' else nucl for nucl in original_ref_seq])\n",
    "        \n",
    "        seq_to_map = ''.join(['T' if nucl.lower() in ('t', 'c') else nucl for nucl in modified_read])\n",
    "        \n",
    "        hit_objs = {}\n",
    "        # Loop through each of the mapping hits generated:\n",
    "        for hit in aligner.map(seq_to_map, cs='long'):\n",
    "            hit_objs[hit.ctg] = hit\n",
    "        \n",
    "        if hit_objs:\n",
    "            for contig, hit_obj in hit_objs.items():\n",
    "                # print(hit_obj)\n",
    "                # print(f\"\\n\\nW/ T&C->T Collapsed Read and Reference:\")\n",
    "                _, adjusted_middle_line, _ = print_mappy_hit_alignment(hit_obj, seq_to_map, aligner.seq(hit_obj.ctg), line_print_width=100, do_not_print=True)\n",
    "                \n",
    "                # print(f\"\\n\\nW/out T&C->T Collapsed Read and Reference (but using the same 'alignment' information):\")\n",
    "                _, original_middle_line, _ = print_mappy_hit_alignment(hit_obj, modified_read, original_ref_seq, line_print_width=100, do_not_print=True)\n",
    "                \n",
    "                adj_matches = adjusted_middle_line.count(\"|\")\n",
    "                adj_mismatches = adjusted_middle_line.count(\"•\")\n",
    "                \n",
    "                org_matches = original_middle_line.count(\"|\")\n",
    "                org_mismatches = original_middle_line.count(\"•\")\n",
    "                \n",
    "                org_mismatch_rate = org_mismatches / (org_mismatches + org_matches)\n",
    "                org_mismatch_rate_list.append(org_mismatch_rate)\n",
    "        else:\n",
    "            # This means no map!!\n",
    "            print(\"failed map.\")\n",
    "    avg_org_mismatch_rate = sum(org_mismatch_rate_list) / len(org_mismatch_rate_list)\n",
    "    print(f\"Mismatch Rate of: {avg_org_mismatch_rate:>6.2%} when we have a TAD8A modification rate (A->I) of {TAD8A_rate:>3.0%}\")"
   ],
   "metadata": {
    "collapsed": false
   }
  },
  {
   "cell_type": "code",
   "execution_count": 74,
   "outputs": [],
   "source": [
    "# Lets generate some reads:\n",
    "test_reads_path = f\"./testReads.fromMarcus.withTAD8Aedits.fasta\"\n",
    "base_read = \"TAATACGACTCACTATAGGGAGAgccatcagattgtgtttgttagtcgctGTGGATGGGTAAGGGTGTTATGaacgctgtcaacaacgtcaacaacgtcattgctgctgctttcgtcaaggccaacctagatgttaaggaccaaaaggccgtcgatgacttcttgttgtctttggatggtaccgccaacaagtccaagttgggtgctaacgctatcttgggtgtctccatggccgctgctagagccgctgctgctgaaaagaacgtcccattgtaccaacatttggctgacttgtctaagtccaagacctctccatacgttttgccagttccattcttgaacgttttgaacggtggttcccacgctggtggtgctttggctttgcaagaattcatgattgctccaactggtgctaagaccttcgctgaagccatgagaattggttccgaagtttaccacaacttgaagtctttgaccaagaagagatacggtgcttctgccggtaacgtcggtgacgaaggtggtgttgctccaaacattcaaaccgctgaagaagCTTTGGACTTGATTGTTGACGCcatcgtcgtgagtagtgaaccgtaagcaagagaagag\"\n",
    "\n",
    "how_many_to_gen = 25\n",
    "min_length, max_length = 100, len(base_read)\n",
    "\n",
    "with open(test_reads_path, 'w') as output_fasta:\n",
    "    for read_num in range(how_many_to_gen):\n",
    "        TAD8A_rate = random()\n",
    "        read_length = randint(min_length, max_length)\n",
    "        read_start = randint(0, len(base_read) - read_length)\n",
    "        read_end = read_start + read_length\n",
    "        modified_read = ''.join([rand_choices(('C', 'T'), weights=(TAD8A_rate, 1-TAD8A_rate), k=1)[0] if nucl.lower() == 't' else nucl for nucl in base_read])\n",
    "        modified_read = modified_read[read_start:]\n",
    "        \n",
    "        # print(f\"Mod Rate: {TAD8A_rate:>6.2%}\\tRead Start: {read_start:>3}\\tRead End: {read_end:>3}\\tRead Length: {read_length:>3}\")\n",
    "        output_fasta.write(f\">test_read_{read_num+1:0>5} expected_mod_rate={TAD8A_rate:0.5} expected_read_length={read_length} expected_read_start={read_start} expected_read_end={read_end}\\n{modified_read}\\n\")"
   ],
   "metadata": {
    "collapsed": false
   }
  },
  {
   "cell_type": "code",
   "execution_count": 79,
   "outputs": [
    {
     "name": "stdout",
     "output_type": "stream",
     "text": [
      ">test_read_00001 expected_mod_rate=0.7189 expected_read_length=593 expected_read_start=21 expected_read_end=614\n",
      "GAgccaTcagaTCgCgTCCgCTagCcgcCGTGGATGGGCAAGGGCGCCACGaacgcTgTcaacaacgCcaacaacgTcaCCgcCgcCgcCCTcgCcaaggccaaccCagaCgCCaaggaccaaaaggccgTcgaCgacTCcTCgTCgCcCCCggaCggTaccgccaacaagTccaagCTgggCgcCaacgcCaCcCCgggCgCcCccaTggccgcCgcTagagccgcCgcCgcCgaaaagaacgCcccaTTgCaccaacaTTCggcCgacCTgCcTaagCccaagaccCcCccaCacgTCCTgccagCTccaCCcCCgaacgCTTTgaacggCggTTcccacgcTggCggTgcCCTggcCCCgcaagaaCCcaCgaCCgcCccaacCggTgcCaagaccCCcgcCgaagccaCgagaaCCggTCccgaagCCTaccacaacCCgaagCcCCTgaccaagaagagaCacggCgcTCcCgccggCaacgCcggCgacgaaggCggCgTCgcTccaaacaTCcaaaccgcTgaagaagCCCCGGACCCGACCGCCGACGCcaTcgCcgCgagCagTgaaccgCaagcaagagaagag\n",
      "\n",
      "594\n",
      ">test_read_00002 expected_mod_rate=0.67696 expected_read_length=189 expected_read_start=353 expected_read_end=542\n",
      "TggTTcccacgcCggCggCgcCCCggcCTCgcaagaaCCcaCgaTTgcCccaacTggCgcCaagaccCTcgcTgaagccaTgagaaCCggTCccgaagCCCaccacaacCTgaagTcCCCgaccaagaagagaTacggCgcTCcCgccggTaacgCcggCgacgaaggTggCgCCgcCccaaacaTTcaaaccgcCgaagaagCCTCGGACCCGACCGTTGACGCcaTcgTcgCgagCagCgaaccgTaagcaagagaagag\n",
      "\n",
      "262\n",
      ">test_read_00003 expected_mod_rate=0.50863 expected_read_length=174 expected_read_start=336 expected_read_end=510\n",
      "CCgaacgCCCCgaacggTggCCcccacgcCggCggCgcCCCggcCCCgcaagaaCTcaCgaCTgcTccaacCggCgcTaagaccCCcgcTgaagccaTgagaaTTggCTccgaagCTCaccacaacTTgaagTcCCTgaccaagaagagaTacggCgcCTcCgccggTaacgTcggTgacgaaggCggCgTCgcCccaaacaTCcaaaccgcCgaagaagCTTCGGACCCGATTGCCGACGCcaTcgTcgTgagCagTgaaccgTaagcaagagaagag\n",
      "\n",
      "279\n",
      ">test_read_00004 expected_mod_rate=0.21492 expected_read_length=317 expected_read_start=287 expected_read_end=604\n",
      "TgacCTgTcTaagTccaagaccTcTccaTacgTCTTgccagTTccaTTcTTgaacgTCTTgaacggTggTTcccacgcTggTggCgcTTTggcTTCgcaagaaTTcaCgaCCgcTccaacTggTgcTaagaccTTcgcTgaagccaTgagaaTCggCTccgaagTTTaccacaacTTgaagTcTTCgaccaagaagagaTacggTgcTTcTgccggTaacgTcggTgacgaaggCggTgCCgcCccaaacaTTcaaaccgcTgaagaagCTTTGGACTTGATTGCCGACGCcaTcgTcgCgagTagTgaaccgTaagcaagagaagag\n",
      "\n",
      "328\n",
      ">test_read_00005 expected_mod_rate=0.34578 expected_read_length=179 expected_read_start=53 expected_read_end=232\n",
      "GATGGGTAAGGGCGCCACGaacgcTgCcaacaacgCcaacaacgCcaTCgcTgcTgcCTCcgCcaaggccaaccTagaTgTTaaggaccaaaaggccgTcgaTgacTTcTTgTTgCcCCTggaTggTaccgccaacaagTccaagTCgggTgcTaacgcCaTcTTgggTgCcCccaTggccgcTgcTagagccgcTgcTgcTgaaaagaacgTcccaCCgTaccaacaCCCggcTgacCCgTcCaagTccaagaccTcCccaTacgCTTCgccagTTccaTCcTCgaacgCTTTgaacggTggTTcccacgcTggTggTgcCCTggcCTCgcaagaaTTcaTgaCCgcTccaacCggCgcTaagaccCTcgcCgaagccaTgagaaTTggTTccgaagTTTaccacaacTCgaagTcTTCgaccaagaagagaTacggTgcTCcCgccggCaacgCcggTgacgaaggTggCgCTgcTccaaacaTCcaaaccgcCgaagaagCTCCGGACTCGATTGTTGACGCcaTcgTcgTgagCagTgaaccgTaagcaagagaagag\n",
      "\n",
      "562\n",
      ">test_read_00006 expected_mod_rate=0.070363 expected_read_length=144 expected_read_start=426 expected_read_end=570\n",
      "gaagccaTgagaaTTggTTccgaagTCTaccacaacTTgaagTcTTTgaccaagaagagaTacggTgcTTcTgccggTaacgTcggTgacgaaggTggTgTTgcTccaaacaTTcaaaccgcTgaagaagCTTTGGACTTGATTGCTGACGCcaTcgTcgTgagTagTgaaccgTaagcaagagaagag\n",
      "\n",
      "189\n",
      ">test_read_00007 expected_mod_rate=0.42287 expected_read_length=550 expected_read_start=30 expected_read_end=580\n",
      "gaTTgTgTCTgTCagCcgcCGTGGATGGGTAAGGGTGTTACGaacgcCgTcaacaacgTcaacaacgCcaTCgcTgcTgcCCTcgTcaaggccaaccTagaCgCTaaggaccaaaaggccgCcgaTgacCTcTCgTCgTcTTCggaTggTaccgccaacaagCccaagTCgggTgcCaacgcCaCcTCgggTgCcCccaCggccgcCgcCagagccgcTgcTgcTgaaaagaacgTcccaCTgTaccaacaTCCggcCgacTTgTcCaagTccaagaccTcCccaTacgTTTTgccagTTccaTCcTCgaacgCTCCgaacggTggTCcccacgcCggTggTgcCTTggcCTTgcaagaaCTcaTgaTCgcCccaacCggCgcCaagaccTTcgcTgaagccaTgagaaCTggTTccgaagCTTaccacaacCCgaagCcTCTgaccaagaagagaCacggCgcTTcCgccggCaacgTcggCgacgaaggTggTgTTgcTccaaacaCCcaaaccgcTgaagaagCTCCGGACCCGACCGTTGACGCcaCcgTcgCgagCagTgaaccgCaagcaagagaagag\n",
      "\n",
      "585\n",
      ">test_read_00008 expected_mod_rate=0.11348 expected_read_length=376 expected_read_start=205 expected_read_end=581\n",
      "cTaacgcCaTcTTgggTgTcCccaTggccgcCgcTagagccgcTgcTgcTgaaaagaacgTcccaTTgTaccaacaTTTggcTgacTTgTcTaagTccaagaccTcTccaTacgTTTTgccagTTccaCTcTTgaacgCTTTgaacggCggTTcccacgcTggTggTgcCTTggcTTTgcaagaaTCcaTgaTTgcTccaacCggTgcTaagaccTTcgcTgaagccaTgagaaTTggTTccgaagTTTaccacaacTTgaagTcTTTgaccaagaagagaCacggTgcTTcTgccggTaacgCcggTgacgaaggTggTgCTgcTccaaacaTTcaaaccgcTgaagaagCTTTGGACTTGACCGTTGACGCcaTcgTcgTgagTagTgaaccgTaagcaagagaagag\n",
      "\n",
      "410\n",
      ">test_read_00009 expected_mod_rate=0.76901 expected_read_length=325 expected_read_start=196 expected_read_end=521\n",
      "agCTgggCgcCaacgcCaCcCTgggCgTcCccaCggccgcCgcCagagccgcTgcTgcCgaaaagaacgCcccaCCgCaccaacaCCCggcCgacCCgTcCaagCccaagaccTcCccaCacgCTTTgccagCCccaCTcCCgaacgCCCCgaacggCggTCcccacgcCggCggCgcCCCggcTCCgcaagaaTCcaTgaCCgcCccaacCggCgcCaagaccCCcgcCgaagccaTgagaaCTggCCccgaagCCTaccacaacCTgaagCcCTCgaccaagaagagaTacggCgcTCcCgccggCaacgTcggCgacgaaggCggTgCCgcCccaaacaCCcaaaccgcCgaagaagCCCTGGACCCGACCGCCGACGCcaCcgCcgCgagCagCgaaccgCaagcaagagaagag\n",
      "\n",
      "419\n",
      ">test_read_00010 expected_mod_rate=0.94973 expected_read_length=594 expected_read_start=11 expected_read_end=605\n",
      "ACCACAGGGAGAgccaCcagaTCgCgCCCgCCagCcgcCGCGGACGGGCAAGGGCGCCACGaacgcCgCcaacaacgCcaacaacgCcaCCgcCgcCgcCCCcgCcaaggccaaccCagaTgCCaaggaccaaaaggccgCcgaCgacCCcCCgCTgCcTCCggaCggCaccgccaacaagCccaagCCgggCgcCaacgcCaCcCCgggCgTcTccaCggccgcCgcCagagccgcCgcCgcCgaaaagaacgCcccaCCgTaccaacaCCCggcCgacCCgCcCaagCccaagaccCcCccaCacgCCCCgccagCCccaCCcCCgaacgCCCCgaacggTggCCcccacgcCggCggCgcCCCggcCCTgcaagaaCCcaCgaCCgcCccaacCggCgcCaagaccCCcgcCgaagccaCgagaaCCggCTccgaagCCCaccacaacCCgaagCcCCCgaccaagaagagaCacggCgcCCcCgccggCaacgTcggCgacgaaggCggTgCCgcCccaaacaCCcaaaccgcCgaagaagCCCCGGACCCGACCGCCGACGCcaCcgCcgCgagCagCgaaccgCaagcaagagaagag\n",
      "\n",
      "604\n",
      ">test_read_00011 expected_mod_rate=0.04939 expected_read_length=116 expected_read_start=486 expected_read_end=602\n",
      "TacggTgcTTcTgccggTaacgCcggTgacgaaggTggTgTTgcTccaaacaTTcaaaccgcTgaagaagCTTTGGACTCGATTGTTGACGCcaTcgTcgTgagTagTgaaccgTaagcaagagaagag\n",
      "\n",
      "129\n",
      ">test_read_00012 expected_mod_rate=0.36318 expected_read_length=350 expected_read_start=29 expected_read_end=379\n",
      "agaCTgTgTTTgCTagCcgcCGTGGATGGGTAAGGGCGTCACGaacgcTgCcaacaacgTcaacaacgTcaCCgcTgcTgcTTTcgCcaaggccaaccCagaCgCTaaggaccaaaaggccgCcgaTgacTTcTTgTTgCcCTCggaTggCaccgccaacaagCccaagTTgggTgcTaacgcTaTcTTgggTgCcTccaTggccgcTgcTagagccgcTgcTgcTgaaaagaacgTcccaCCgTaccaacaCCTggcTgacCCgCcTaagTccaagaccCcTccaCacgTTTTgccagTTccaTCcTTgaacgCTTCgaacggCggTTcccacgcTggCggTgcCCTggcCCTgcaagaaTCcaCgaTTgcTccaacCggCgcTaagaccTTcgcTgaagccaTgagaaTTggTTccgaagCTCaccacaacCTgaagCcTTTgaccaagaagagaTacggCgcCCcCgccggTaacgCcggTgacgaaggTggCgCTgcTccaaacaTTcaaaccgcCgaagaagCTTCGGACCTGACCGCCGACGCcaTcgTcgTgagTagTgaaccgCaagcaagagaagag\n",
      "\n",
      "586\n",
      ">test_read_00013 expected_mod_rate=0.67929 expected_read_length=410 expected_read_start=58 expected_read_end=468\n",
      "GCAAGGGCGCCACGaacgcCgCcaacaacgTcaacaacgCcaTCgcTgcCgcTCCcgTcaaggccaaccCagaCgCCaaggaccaaaaggccgCcgaCgacTCcCTgCCgCcTCTggaTggCaccgccaacaagTccaagCCgggCgcCaacgcCaCcCCgggCgTcCccaCggccgcCgcCagagccgcCgcCgcCgaaaagaacgCcccaCCgCaccaacaCTCggcCgacCCgTcCaagCccaagaccCcTccaCacgCCCCgccagCCccaCCcCCgaacgTCCTgaacggCggCTcccacgcCggCggCgcTCCggcCCCgcaagaaCCcaTgaTTgcCccaacTggCgcCaagaccTTcgcCgaagccaCgagaaCCggTCccgaagCTCaccacaacCCgaagCcCCTgaccaagaagagaCacggTgcCCcCgccggTaacgCcggCgacgaaggCggTgCCgcCccaaacaTCcaaaccgcCgaagaagCCCCGGACCCGACCGTCGACGCcaTcgCcgCgagCagTgaaccgCaagcaagagaagag\n",
      "\n",
      "557\n",
      ">test_read_00014 expected_mod_rate=0.25276 expected_read_length=531 expected_read_start=4 expected_read_end=535\n",
      "ACGACTCACTATAGGGAGAgccaCcagaCTgTgTTTgTTagTcgcCGCGGATGGGTAAGGGTGTCATGaacgcCgTcaacaacgTcaacaacgTcaTTgcTgcCgcTTTcgTcaaggccaaccCagaTgTTaaggaccaaaaggccgTcgaTgacCTcTTgCTgTcTTTggaTggTaccgccaacaagCccaagTCgggTgcCaacgcTaTcCCgggTgTcTccaTggccgcTgcTagagccgcCgcTgcCgaaaagaacgCcccaTTgCaccaacaTTTggcTgacCTgTcCaagCccaagaccTcCccaTacgTTCTgccagTTccaTCcCTgaacgCTTTgaacggCggCCcccacgcTggTggCgcTTTggcCCCgcaagaaTTcaTgaTTgcCccaacCggTgcTaagaccTTcgcTgaagccaTgagaaTTggTTccgaagTTTaccacaacTTgaagTcTTTgaccaagaagagaTacggTgcTTcTgccggTaacgTcggTgacgaaggCggTgTTgcTccaaacaTCcaaaccgcTgaagaagCCTTGGACTTGACTGTCGACGCcaTcgCcgTgagTagCgaaccgTaagcaagagaagag\n",
      "\n",
      "611\n",
      ">test_read_00015 expected_mod_rate=0.15253 expected_read_length=327 expected_read_start=238 expected_read_end=565\n",
      "cTagagccgcTgcTgcTgaaaagaacgTcccaTTgTaccaacaTCTggcTgacTTgTcTaagTccaagaccTcTccaTacgCTTTgccagCTccaTCcTTgaacgTTCTgaacggCggCTcccacgcTggTggCgcTTTggcTTTgcaagaaCTcaCgaTTgcTccaacTggTgcCaagaccTTcgcTgaagccaCgagaaTTggCTccgaagTTTaccacaacTTgaagTcCCTgaccaagaagagaTacggTgcTTcCgccggTaacgTcggTgacgaaggTggTgTTgcTccaaacaCTcaaaccgcTgaagaagCTTTGGACTTGATTGTTGACGCcaTcgTcgCgagTagTgaaccgTaagcaagagaagag\n",
      "\n",
      "377\n",
      ">test_read_00016 expected_mod_rate=0.011914 expected_read_length=223 expected_read_start=158 expected_read_end=381\n",
      "cTTcTTgTTgTcTTTggaTggTaccgccaacaagTccaagTTgggTgcTaacgcTaTcTTgggTgTcTccaTggccgcTgcTagagccgcTgcTgcTgaaaagaacgTcccaTTgTaccaacaTTTggcTgacTTgTcTaagTccaagaccTcTccaTacgTTTTgccagTTccaTTcTTgaacgTTTTgaacggTggTTcccacgcTggTggTgcTTTggcTTTgcaagaaTTcaTgaTTgcTccaacTggTgcTaagaccTTcgcTgaagccaTgagaaTTggTTccgaagTTTaccacaacTTgaagTcTTTgaccaagaagagaTacggTgcTTcTgccggCaacgTcggTgacgaaggTggTgTTgcTccaaacaTTcaaaccgcTgaagaagCTTCGGACTTGATTGTTGACGCcaTcgTcgTgagTagTgaaccgTaagcaagagaagag\n",
      "\n",
      "457\n",
      ">test_read_00017 expected_mod_rate=0.986 expected_read_length=481 expected_read_start=52 expected_read_end=533\n",
      "GGACGGGCAAGGGCGCCACGaacgcCgCcaacaacgCcaacaacgCcaCCgcCgcCgcCCCcgCcaaggccaaccCagaCgCCaaggaccaaaaggccgCcgaCgacCCcCCgCCgCcCCCggaCggCaccgccaacaagCccaagCCgggCgcCaacgcCaCcCCgggCgCcCccaCggccgcCgcCagagccgcCgcCgcCgaaaagaacgCcccaCCgCaccaacaCCCggcCgacCCgCcCaagCccaagaccCcCccaCacgCCCCgccagCCccaCCcCCgaacgCCCCgaacggCggCCcccacgcCggCggCgcCCCggcCTCgcaagaaCCcaCgaCCgcCccaacCggCgcCaagaccTCcgcCgaagccaCgagaaCCggCCccgaagCCCaccacaacCCgaagCcCCCgaccaagaagagaCacggCgcCCcCgccggCaacgCcggCgacgaaggCggCgCCgcCccaaacaCCcaaaccgcCgaagaagCCCCGGACCCGACCGCCGACGCcaCcgCcgCgagCagTgaaccgCaagcaagagaagag\n",
      "\n",
      "563\n",
      ">test_read_00018 expected_mod_rate=0.83149 expected_read_length=360 expected_read_start=138 expected_read_end=498\n",
      "gaccaaaaggccgCcgaCgacCCcCCgCCgCcCTTggaCggCaccgccaacaagCccaagCCgggCgcCaacgcCaTcCCgggCgTcCccaCggccgcCgcCagagccgcCgcCgcCgaaaagaacgCcccaCCgCaccaacaTCCggcCgacTCgTcCaagCccaagaccCcCccaTacgTCCCgccagCCccaTCcTCgaacgCCCCgaacggCggCCcccacgcCggCggCgcTCCggcCCCgcaagaaCCcaTgaCTgcCccaacCggCgcCaagaccCCcgcTgaagccaCgagaaCCggCCccgaagCCCaccacaacCCgaagCcCCCgaccaagaagagaCacggCgcCCcCgccggCaacgCcggCgacgaaggCggTgCCgcCccaaacaCTcaaaccgcCgaagaagCCTCGGACCTGATCGTCGACGCcaCcgCcgCgagTagCgaaccgCaagcaagagaagag\n",
      "\n",
      "477\n",
      ">test_read_00019 expected_mod_rate=0.17708 expected_read_length=296 expected_read_start=218 expected_read_end=514\n",
      "gggTgTcCccaTggccgcTgcTagagccgcTgcTgcTgaaaagaacgTcccaTCgTaccaacaTTTggcCgacCTgCcTaagTccaagaccCcTccaCacgTCCCgccagTTccaTTcTTgaacgTTTTgaacggTggTTcccacgcTggTggCgcTTCggcTTCgcaagaaTTcaTgaTTgcTccaacTggTgcTaagaccTTcgcTgaagccaTgagaaTTggTTccgaagTTTaccacaacCCgaagTcTTTgaccaagaagagaTacggTgcTCcTgccggTaacgTcggTgacgaaggCggTgTCgcCccaaacaTTcaaaccgcTgaagaagCTTCGGACTTGATTGTCGACGCcaCcgCcgTgagCagTgaaccgTaagcaagagaagag\n",
      "\n",
      "397\n",
      ">test_read_00020 expected_mod_rate=0.088977 expected_read_length=176 expected_read_start=314 expected_read_end=490\n",
      "aTacgCTTTgccagCTccaTTcTTgaacgTTTTgaacggTggTTcccacgcTggCggTgcTTTggcTCTgcaagaaTTcaTgaTTgcTccaacTggTgcTaagaccTTcgcTgaagccaTgagaaTTggTTccgaagTTTaccacaacTTgaagTcTTTgaccaagaagagaTacggTgcTTcTgccggTaacgTcggTgacgaaggCggTgTTgcTccaaacaTTcaaaccgcCgaagaagCTTTGGACTTGATCGTTGACGCcaTcgTcgTgagTagTgaaccgCaagcaagagaagag\n",
      "\n",
      "301\n",
      ">test_read_00021 expected_mod_rate=0.38773 expected_read_length=162 expected_read_start=35 expected_read_end=197\n",
      "CgCTTgTCagCcgcTGTGGATGGGCAAGGGTGTTACGaacgcCgCcaacaacgTcaacaacgTcaCCgcCgcCgcCCCcgCcaaggccaaccCagaTgTCaaggaccaaaaggccgCcgaTgacCTcTCgTCgCcTCTggaCggCaccgccaacaagTccaagTTgggCgcCaacgcTaTcCTgggTgCcTccaTggccgcTgcTagagccgcCgcTgcCgaaaagaacgCcccaCCgCaccaacaCCTggcCgacTTgCcTaagTccaagaccTcCccaTacgCCTTgccagTTccaTTcCCgaacgTTTTgaacggTggTCcccacgcTggTggCgcTCCggcTCTgcaagaaTTcaCgaCTgcTccaacCggCgcCaagaccTCcgcCgaagccaTgagaaTTggCCccgaagCTCaccacaacCTgaagTcCTTgaccaagaagagaTacggTgcCTcTgccggTaacgCcggTgacgaaggCggCgCTgcTccaaacaTTcaaaccgcTgaagaagCTCTGGACCCGACTGCTGACGCcaTcgCcgCgagTagTgaaccgTaagcaagagaagag\n",
      "\n",
      "580\n",
      ">test_read_00022 expected_mod_rate=0.46043 expected_read_length=249 expected_read_start=68 expected_read_end=317\n",
      "CATGaacgcTgTcaacaacgCcaacaacgTcaTCgcCgcCgcTCTcgTcaaggccaaccTagaTgTTaaggaccaaaaggccgCcgaTgacTCcTCgCCgTcCCCggaCggTaccgccaacaagTccaagCTgggCgcCaacgcCaTcTCgggCgCcCccaCggccgcTgcCagagccgcCgcTgcCgaaaagaacgTcccaTTgTaccaacaTTTggcCgacCCgTcTaagCccaagaccCcTccaTacgCTCTgccagTTccaCTcCCgaacgTTTCgaacggTggTCcccacgcTggTggCgcTCTggcTTTgcaagaaTCcaTgaTTgcTccaacTggTgcCaagaccCTcgcTgaagccaTgagaaTTggTTccgaagCTCaccacaacTCgaagTcCCCgaccaagaagagaTacggCgcTTcCgccggCaacgCcggTgacgaaggTggCgTTgcCccaaacaCCcaaaccgcCgaagaagCCCCGGACTTGATCGTTGACGCcaCcgCcgCgagTagCgaaccgCaagcaagagaagag\n",
      "\n",
      "547\n",
      ">test_read_00023 expected_mod_rate=0.53611 expected_read_length=131 expected_read_start=128 expected_read_end=259\n",
      "agaCgCTaaggaccaaaaggccgTcgaCgacCCcCCgCTgCcTCCggaTggCaccgccaacaagTccaagCTgggTgcCaacgcCaCcCCgggCgTcCccaTggccgcTgcCagagccgcTgcTgcTgaaaagaacgCcccaCTgTaccaacaTCCggcCgacCCgCcCaagCccaagaccCcCccaCacgCCCTgccagTTccaTTcTTgaacgCTTCgaacggCggTCcccacgcCggCggCgcCTCggcTTTgcaagaaCTcaCgaCTgcTccaacTggCgcTaagaccCCcgcTgaagccaCgagaaCCggCCccgaagCTTaccacaacTCgaagCcCTTgaccaagaagagaTacggCgcTTcCgccggTaacgTcggCgacgaaggTggTgCCgcTccaaacaTTcaaaccgcTgaagaagCTTCGGACCCGACCGCTGACGCcaCcgCcgTgagTagCgaaccgCaagcaagagaagag\n",
      "\n",
      "487\n",
      ">test_read_00024 expected_mod_rate=0.69324 expected_read_length=101 expected_read_start=264 expected_read_end=365\n",
      "gCcccaCCgCaccaacaCCCggcCgacCTgCcCaagCccaagaccTcCccaCacgTCCCgccagCTccaCTcCCgaacgCCCTgaacggCggTCcccacgcCggCggCgcCCCggcTCCgcaagaaCCcaCgaCTgcCccaacCggTgcTaagaccCCcgcCgaagccaCgagaaCTggCTccgaagCCTaccacaacTCgaagTcTCCgaccaagaagagaCacggTgcTCcTgccggCaacgCcggCgacgaaggTggCgTTgcCccaaacaCCcaaaccgcCgaagaagCTCTGGACCCGATCGCCGACGCcaCcgTcgCgagCagCgaaccgTaagcaagagaagag\n",
      "\n",
      "351\n",
      ">test_read_00025 expected_mod_rate=0.45441 expected_read_length=447 expected_read_start=85 expected_read_end=532\n",
      "acgCcaacaacgCcaTCgcCgcTgcCTCcgTcaaggccaaccTagaTgCCaaggaccaaaaggccgCcgaTgacTCcCTgCCgTcCTCggaTggCaccgccaacaagCccaagTTgggCgcCaacgcCaCcCTgggTgTcCccaCggccgcCgcTagagccgcTgcTgcCgaaaagaacgTcccaTTgTaccaacaCTTggcCgacTTgCcTaagCccaagaccTcTccaTacgTCTCgccagTTccaTCcTTgaacgTTCCgaacggTggTCcccacgcTggTggCgcTTCggcCCCgcaagaaCTcaCgaCCgcTccaacTggCgcCaagaccTTcgcTgaagccaCgagaaCTggTCccgaagTTCaccacaacCCgaagTcCTTgaccaagaagagaTacggCgcCTcTgccggTaacgTcggTgacgaaggCggCgCTgcTccaaacaTCcaaaccgcCgaagaagCCTTGGACTCGATCGCTGACGCcaTcgTcgTgagTagCgaaccgTaagcaagagaagag\n",
      "\n",
      "530\n"
     ]
    }
   ],
   "source": [
    "test_reads = SeqIO.parse(open(test_reads_path), 'fasta')\n",
    "for read in test_reads:\n",
    "    print(read.format('fasta-2line'))\n",
    "    print(len(str(read.seq)))"
   ],
   "metadata": {
    "collapsed": false
   }
  },
  {
   "cell_type": "code",
   "execution_count": null,
   "outputs": [],
   "source": [],
   "metadata": {
    "collapsed": false
   }
  }
 ],
 "metadata": {
  "kernelspec": {
   "display_name": "Python 3",
   "language": "python",
   "name": "python3"
  },
  "language_info": {
   "codemirror_mode": {
    "name": "ipython",
    "version": 2
   },
   "file_extension": ".py",
   "mimetype": "text/x-python",
   "name": "python",
   "nbconvert_exporter": "python",
   "pygments_lexer": "ipython2",
   "version": "2.7.6"
  }
 },
 "nbformat": 4,
 "nbformat_minor": 0
}
