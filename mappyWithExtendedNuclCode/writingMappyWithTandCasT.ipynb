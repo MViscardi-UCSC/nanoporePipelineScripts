{
 "cells": [
  {
   "cell_type": "markdown",
   "source": [
    "# writingMappyWithTandCasT.ipynb\n",
    "## Marcus & Connor,    January 27, 2023"
   ],
   "metadata": {
    "collapsed": false
   }
  },
  {
   "cell_type": "code",
   "execution_count": 10,
   "metadata": {
    "collapsed": true
   },
   "outputs": [],
   "source": [
    "from Bio import SeqIO\n",
    "import mappy as mp"
   ]
  },
  {
   "cell_type": "code",
   "execution_count": 19,
   "outputs": [
    {
     "name": "stdout",
     "output_type": "stream",
     "text": [
      "TAATATGATTTATTATAGGGAGAGTTATTAGATTGTGTTTGTTAGTTGTTGTGGATGGGTAAGGGT\n"
     ]
    }
   ],
   "source": [
    "aligner = mp.Aligner(\"./testRef.new.fasta\")  # load or build index\n",
    "if not aligner: raise Exception(\"ERROR: failed to load/build index\")\n",
    "\n",
    "example_ref_seq = aligner.seq(\"MySecondChromosome\")  # retrieve aligner subsequence from the index\n",
    "\n",
    "print(example_ref_seq)"
   ],
   "metadata": {
    "collapsed": false
   }
  },
  {
   "cell_type": "code",
   "execution_count": 22,
   "outputs": [
    {
     "name": "stdout",
     "output_type": "stream",
     "text": [
      "Mapped Contig: MyFirstChromosome\n",
      "Ref Start: 145\n",
      "aggccgtcgatgacttcttgttgtctttggatggtaccgccaacaagtccaagttgggtgctaacgctatcttgggtgtctccatggccgctgctagagccgctgctgctgaaaagaacgtcccattgtaccaacatttggctgacttgtctaagtccaagacctctccatacgttttgccagttccattcttgaacgttttgaacggtggttcccacgctggtggtgctttggctttgcaagaattcatgattgctccaactggtgctaagaccttcgctgaagccatgagaattggtt\n",
      "aggttgttgatgattttttgttgtttttggatggtattgttaataagtttaagttgggtgttaatgttattttgggtgtttttatggttgttgttagagttgttgttgttgaaaagaatgttttattgtattaatatttggttgatttgtttaagtttaagatttttttatatgttttgttagttttatttttgaatgttttgaatggtggtttttatgttggtggtgttttggttttgtaagaatttatgattgttttaattggtgttaagatttttgttgaagttatgagaattggtt\n"
     ]
    }
   ],
   "source": [
    "\n",
    "read_sequences = SeqIO.parse(open('testRead.fasta'),'fasta')\n",
    "for read in read_sequences:\n",
    "    name = read.id\n",
    "    seq = read.seq\n",
    "    newSeq = ''\n",
    "    for nucleotide in seq:\n",
    "        if nucleotide.lower() == 'c':\n",
    "            newSeq+='t'\n",
    "        else:\n",
    "            newSeq += nucleotide\n",
    "    hits = aligner.map(newSeq)\n",
    "    for hit in hits: # traverse alignments\n",
    "        print(f\"Mapped Contig: {hit.ctg}\")\n",
    "        print(f\"Ref Start: {hit.r_st}\")\n",
    "        # ref end print and cigar print\n",
    "        print(seq)\n",
    "        print(newSeq)\n",
    "        "
   ],
   "metadata": {
    "collapsed": false
   }
  },
  {
   "cell_type": "code",
   "execution_count": 30,
   "outputs": [
    {
     "name": "stdout",
     "output_type": "stream",
     "text": [
      "Ctg Name: MyFirstChromosome\n",
      "Ctg Seq:                                                                                                                                                                                                                                                                                                                                                   TAATATGATTTATTATAGGGAGAGTTATTAGATTGTGTTTGTTAGTTGTTGTGGATGGGTAAGGGTGTTATGAATGTTGTTAATAATGTTAATAATGTTATTGTTGTTGTTTTTGTTAAGGTTAATTTAGATGTTAAGGATTAAAAGGTTGTTGATGATTTTTTGTTGTTTTTGGATGGTATTGTTAATAAGTTTAAGTTGGGTGTTAATGTTATTTTGGGTGTTTTTATGGTTGTTGTTAGAGTTGTTGTTGTTGAAAAGAATGTTTTATTGTATTAATATTTGGTTGATTTGTTTAAGTTTAAGATTTTTTTATATGTTTTGTTAGTTTTATTTTTGAATGTTTTGAATGGTGGTTTTTATGTTGGTGGTGTTTTGGTTTTGTAAGAATTTATGATTGTTTTAATTGGTGTTAAGATTTTTGTTGAAGTTATGAGAATTGGTTTTGAAGTTTATTATAATTTGAAGTTTTTGATTAAGAAGAGATATGGTGTTTTTGTTGGTAATGTTGGTGATGAAGGTGGTGTTGTTTTAAATATTTAAATTGTTGAAGAAGTTTTGGATTTGATTGTTGATGTTATTGTTGTGAGTAGTGAATTGTAAGTAAGAGAAGAGNNNNNNNNTTAGTTTAGTGGTGTTGTTGTGTTGTGTTGTGTTGTGTT\n"
     ]
    }
   ],
   "source": [
    "\n",
    "target_ref_ctg_seq = aligner.seq(\"MyFirstChromosome\")\n",
    "print(f\"Ctg Name: MyFirstChromosome\")\n",
    "print(f\"Ctg Seq: {target_ref_ctg_seq:>1000}\")"
   ],
   "metadata": {
    "collapsed": false
   }
  },
  {
   "cell_type": "code",
   "execution_count": null,
   "outputs": [],
   "source": [],
   "metadata": {
    "collapsed": false
   }
  }
 ],
 "metadata": {
  "kernelspec": {
   "display_name": "Python 3",
   "language": "python",
   "name": "python3"
  },
  "language_info": {
   "codemirror_mode": {
    "name": "ipython",
    "version": 2
   },
   "file_extension": ".py",
   "mimetype": "text/x-python",
   "name": "python",
   "nbconvert_exporter": "python",
   "pygments_lexer": "ipython2",
   "version": "2.7.6"
  }
 },
 "nbformat": 4,
 "nbformat_minor": 0
}
