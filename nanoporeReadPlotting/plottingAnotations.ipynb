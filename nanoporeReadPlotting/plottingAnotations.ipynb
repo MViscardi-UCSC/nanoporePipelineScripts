{
 "cells": [
  {
   "cell_type": "markdown",
   "source": [
    "# plottingAnotations.ipynb\n",
    "## Marcus Viscardi,    September 08, 2023\n",
    "\n",
    "Goal here is to automate the generation of annotation plots that I have been had making with inkscape.\n",
    "\n",
    "The crux of this will be parsing gtf and/or bed annotation files and then plotting them with matplotlib."
   ],
   "metadata": {
    "collapsed": false
   }
  },
  {
   "cell_type": "code",
   "execution_count": null,
   "outputs": [],
   "source": [],
   "metadata": {
    "collapsed": false
   }
  }
 ],
 "metadata": {
  "kernelspec": {
   "display_name": "Python 3",
   "language": "python",
   "name": "python3"
  },
  "language_info": {
   "codemirror_mode": {
    "name": "ipython",
    "version": 2
   },
   "file_extension": ".py",
   "mimetype": "text/x-python",
   "name": "python",
   "nbconvert_exporter": "python",
   "pygments_lexer": "ipython2",
   "version": "2.7.6"
  }
 },
 "nbformat": 4,
 "nbformat_minor": 0
}
