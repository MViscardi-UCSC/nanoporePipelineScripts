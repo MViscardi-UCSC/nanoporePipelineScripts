{
 "cells": [
  {
   "cell_type": "markdown",
   "source": [
    "## finalizingReadPlotting_matplotlib.ipynb\n",
    "### Marcus Viscardi     June 16, 2022\n",
    "\n",
    "So I tried to just run what was in testingReadPlotting_matplotlib.py with tba-1 and tba-2 b/c josh wanted those for grants. But the script didn't work. I am fairly sure it is due to these genes being negative strand... I was also having a hard time deciphering what was happening in the other code because it was really hard-coded to plot the stuff for ubl-1 and my RNA society poster.\n",
    "\n",
    "The new plan is to keep that code function and rewrite stuff here to be a little more reusable. Then one I have troubleshooted the hell out of all of this I'll drop it into a real script that I can package and give to folks. Potentially with the addition of the coverage plotting on top of this? Would be cool!"
   ],
   "metadata": {
    "collapsed": false
   }
  },
  {
   "cell_type": "code",
   "execution_count": 1,
   "outputs": [
    {
     "name": "stdout",
     "output_type": "stream",
     "text": [
      "imports done\n"
     ]
    }
   ],
   "source": [
    "import numpy as np\n",
    "import pandas as pd\n",
    "from tqdm import tqdm\n",
    "pd.set_option('display.width', 100)\n",
    "pd.set_option('display.max_columns', None)\n",
    "\n",
    "import re\n",
    "\n",
    "import seaborn as sea\n",
    "import matplotlib.pyplot as plt\n",
    "import sys\n",
    "\n",
    "import warnings\n",
    "sys.path.insert(0, '/data16/marcus/scripts/nanoporePipelineScripts')\n",
    "from nanoporePipelineCommon import *\n",
    "\n",
    "print(\"imports done\")"
   ],
   "metadata": {
    "collapsed": false,
    "ExecuteTime": {
     "end_time": "2023-07-17T22:45:26.895752224Z",
     "start_time": "2023-07-17T22:45:26.847557038Z"
    }
   }
  },
  {
   "cell_type": "code",
   "execution_count": 2,
   "outputs": [],
   "source": [
    "from matplotlib.collections import PatchCollection\n",
    "from matplotlib.patches import Rectangle\n",
    "\n",
    "def _make_rectangle_patch(genome_start, length, y_center, thickness, color='gray'):\n",
    "    return Rectangle((genome_start, y_center-(thickness/2)), length, thickness,\n",
    "                     facecolor=color,\n",
    "                     edgecolor=color,\n",
    "                     fill=True,\n",
    "                     lw=0)\n",
    "\n",
    "\n",
    "def _add_patches_from_cigars_and_gen_pos(axes, cigar, gen_start, y, strand, color='black', plot_introns=True,tail_length=None):\n",
    "    # Parse the cigar string\n",
    "    parsed_cigar = re.findall(rf'(\\d+)([MDNSIX])', cigar)\n",
    "    mdn_nums = [int(num) for num, char in parsed_cigar if char in \"MDN\"]\n",
    "    gen_end = gen_start + sum(mdn_nums)\n",
    "    genomic_read_length = gen_end - gen_start\n",
    "    \n",
    "    genome_loc = gen_start\n",
    "    \n",
    "    rectangle_patch_list = []\n",
    "    first_n_length = 0\n",
    "    for length, code in parsed_cigar:\n",
    "        length = int(length)\n",
    "        if code == 'S':\n",
    "            pass\n",
    "        elif code == 'M':\n",
    "            rectangle_patch_list.append(_make_rectangle_patch(genome_loc, length, y, thickness=0.8))\n",
    "            genome_loc += length\n",
    "        elif code == 'D':\n",
    "            if length < 50:\n",
    "                rectangle_patch_list.append(_make_rectangle_patch(genome_loc, length, y, thickness=0.8))\n",
    "            else:\n",
    "                if plot_introns:\n",
    "                    rectangle_patch_list.append(_make_rectangle_patch(genome_loc, length, y, thickness=0.001))\n",
    "            genome_loc += length\n",
    "        elif code == 'I':\n",
    "            pass\n",
    "        elif code == 'N':\n",
    "            if plot_introns:\n",
    "                rectangle_patch_list.append(_make_rectangle_patch(genome_loc, length, y, thickness=0.001))\n",
    "            genome_loc += length\n",
    "    axes.add_collection(PatchCollection(rectangle_patch_list, color=color))\n",
    "    if isinstance(tail_length, float):\n",
    "        if strand == \"+\":\n",
    "            axes.add_patch(_make_rectangle_patch(genome_loc, tail_length, y, thickness=0.4, color='green'))\n",
    "            genome_loc += tail_length\n",
    "        else:\n",
    "            axes.add_patch(_make_rectangle_patch(gen_start, -tail_length, y, thickness=0.4, color='green'))\n",
    "    return genomic_read_length\n",
    "\n",
    "\n",
    "def _row_apply_plot_cigar(row, axes, plot_introns=True):\n",
    "    index = row.name\n",
    "    cigar = row.cigar\n",
    "    gen_start = row.original_chr_pos\n",
    "    is_adapted = row.t5\n",
    "    polya_length = row.polya_length\n",
    "    strand = row.strand\n",
    "    \n",
    "    if is_adapted == '-':\n",
    "        color='black'\n",
    "    else:\n",
    "        color='red'\n",
    "    return _add_patches_from_cigars_and_gen_pos(axes, cigar, gen_start, index, strand,\n",
    "                                               color=color,\n",
    "                                               plot_introns=plot_introns,\n",
    "                                               tail_length=polya_length)\n",
    "\n",
    "\n",
    "def _get_gene_coordinates(\n",
    "        gene_id=None, gene_name=None,\n",
    "        parsed_gtf_path=\"/data16/marcus/genomes/elegansRelease100/Caenorhabditis_elegans.WBcel235.100.gtf.parquet\"\n",
    ") -> (str, str, int, int):\n",
    "    # First make sure we got something to look up:\n",
    "    gene_id_bool = isinstance(gene_id, str)\n",
    "    gene_name_bool = isinstance(gene_name, str)\n",
    "    if not gene_id_bool and not gene_name_bool:\n",
    "        raise NotImplementedError(f\"Please pass a gene_id or a gene_name!\")\n",
    "    # Load the parsed gtf_file\n",
    "    try:\n",
    "        gtf_df = pd.read_parquet(parsed_gtf_path)[[\"gene_id\",\n",
    "                                                   \"gene_name\",\n",
    "                                                   \"feature\",\n",
    "                                                   \"chr\",\n",
    "                                                   \"start\",\n",
    "                                                   \"end\",\n",
    "                                                   \"strand\"]].query(\"feature == 'gene'\")\n",
    "    except FileNotFoundError:\n",
    "        raise FileNotFoundError(f\"Please make sure there is a parsed gtf file at: {parsed_gtf_path}\")\n",
    "\n",
    "    # Get the gene of interest!\n",
    "    try:\n",
    "        if gene_id_bool:\n",
    "            entry_of_interest = gtf_df.query(f\"gene_id == '{gene_id}'\").reset_index(drop=True).iloc[0].to_dict()\n",
    "            gene_name = entry_of_interest[\"gene_name\"]\n",
    "        else:  # if gene_name_bool\n",
    "            entry_of_interest = gtf_df.query(f\"gene_name == '{gene_name}'\").reset_index(drop=True).iloc[0].to_dict()\n",
    "            gene_id = entry_of_interest[\"gene_id\"]\n",
    "    except IndexError:\n",
    "        raise IndexError(f\"Gene of interest (gene_id: {gene_id} / gene_name: {gene_name}) not found!\")\n",
    "    chromosome = entry_of_interest[\"chr\"]\n",
    "    start = entry_of_interest[\"start\"]\n",
    "    end = entry_of_interest[\"end\"]\n",
    "    strand = entry_of_interest[\"strand\"]\n",
    "    print(f\"Found entry for {gene_name} ({gene_id}) on chromosome {chromosome:>5} at ({start}, {end}) on the '{strand}' strand\")\n",
    "    return gene_name, chromosome, start, end, strand\n",
    "\n",
    "\n",
    "def plot_reads(reads_df, gene_id_to_plot=None, gene_name_to_plot=None,\n",
    "               save_dir=None, save_suffix=\"\", plot_width_and_height=(25,5),\n",
    "               subsample_fraction=None, subsample_number=None,\n",
    "               t5_pos_count=None, t5_neg_count=None,\n",
    "               pad_x_axis_bounds_by=None, only_keep_reads_matched_to_gene=True):\n",
    "    \n",
    "    gene_name, chromosome, genomic_start, genomic_end, gene_strand = _get_gene_coordinates(gene_name=gene_name_to_plot, gene_id=gene_id_to_plot)\n",
    "    \n",
    "    if isinstance(subsample_fraction, float):\n",
    "        subsampled_reads_df = reads_df.sample(frac=subsample_fraction)\n",
    "    elif isinstance(subsample_number, int):\n",
    "        subsampled_reads_df = reads_df.sample(n=subsample_number)\n",
    "    else:\n",
    "        subsampled_reads_df = reads_df  # Just to have the same variable name!\n",
    "    if only_keep_reads_matched_to_gene:\n",
    "        all_gene_reads = subsampled_reads_df.query(f\"gene_name == '{gene_name}'\")\n",
    "    else:\n",
    "        raise NotImplementedError(f\"This doesn't currently work...\")\n",
    "    gene_df_t5_pos = all_gene_reads.query(\"t5 == '+'\")\n",
    "    if isinstance(t5_pos_count, int):\n",
    "        gene_df_t5_pos = gene_df_t5_pos.sample(t5_pos_count)\n",
    "    gene_df_t5_neg = all_gene_reads.query(\"t5 == '-'\")\n",
    "    if isinstance(t5_neg_count, int):\n",
    "        gene_df_t5_neg = gene_df_t5_neg.sample(t5_neg_count)\n",
    "    gene_df = pd.concat([gene_df_t5_pos, gene_df_t5_neg])\n",
    "    \n",
    "    plt.style.use('default')\n",
    "    # fig, ax = plt.subplots()\n",
    "    # tqdm.pandas(desc=\"First pass to extract the length of the first intron called\")\n",
    "    # gene_df[['genomic_read_length', 'first_n_length']] = gene_df.progress_apply(lambda row: _row_apply_plot_cigar(row, ax), axis=1, result_type='expand')\n",
    "    # fig, ax = None, None\n",
    "    \n",
    "    plt.style.use('default')\n",
    "    fig, ax = plt.subplots(figsize=plot_width_and_height)\n",
    "    \n",
    "    if gene_strand == \"-\":\n",
    "        sort_order = [\"t5\", \"chr_pos\", \"original_chr_pos\", \"read_length\"]\n",
    "        sort_order_ascending = [False, True, False, False]\n",
    "    else:  # gene_strand == \"+\":\n",
    "        sort_order = [\"t5\", \"original_chr_pos\", \"chr_pos\", \"read_length\"]\n",
    "        sort_order_ascending = [False, False, False, False]\n",
    "    tqdm.pandas(desc=\"Plotting Reads...\")\n",
    "    gene_df = gene_df.sort_values(sort_order, ascending=sort_order_ascending).reset_index(drop=True)\n",
    "    gene_df.progress_apply(lambda row: _row_apply_plot_cigar(row, ax), axis=1)\n",
    "\n",
    "    number_of_plotted_reads = gene_df.shape[0]\n",
    "    ax.set_ylim(-1, number_of_plotted_reads+1)\n",
    "    \n",
    "    if isinstance(pad_x_axis_bounds_by, int):\n",
    "        ax.set_xlim(genomic_start - pad_x_axis_bounds_by,\n",
    "                    genomic_end + pad_x_axis_bounds_by)\n",
    "    else:\n",
    "        ax.set_xlim(genomic_start, genomic_end)\n",
    "    \n",
    "    plt.xticks([])\n",
    "    plt.yticks([])\n",
    "    if isinstance(save_dir, str):\n",
    "        save_path = f\"{save_dir}/{get_dt(for_file=True)}_readPlotting_{gene_name}{save_suffix}\"\n",
    "        print(f\"Saving plot to {save_path} + .png/.svg...\")\n",
    "        plt.savefig(save_path + \".svg\")\n",
    "        plt.savefig(save_path + \".png\")\n",
    "    # plt.show()\n",
    "    return gene_df"
   ],
   "metadata": {
    "collapsed": false,
    "ExecuteTime": {
     "end_time": "2023-07-17T22:45:26.896238634Z",
     "start_time": "2023-07-17T22:45:26.891956717Z"
    }
   }
  },
  {
   "cell_type": "code",
   "execution_count": 3,
   "outputs": [
    {
     "name": "stdout",
     "output_type": "stream",
     "text": [
      "Loading readAssignments file from: /data16/marcus/genomes/elegansRelease100/Caenorhabditis_elegans.WBcel235.100.allChrs.parquet... Done.\n",
      "Looking for files for libraries: ['xrn-1-5tera', 'xrn-1-5tera-smg-6']\n",
      "Looking for file for xrn-1-5tera, at /data16/marcus/working/211118_nanoporeRun_totalRNA_5108_xrn-1-KD_5TERA/output_dir/merge_files/*_mergedOnReads.parquet... File Found.\n",
      "Looking for file for xrn-1-5tera-smg-6, at /data16/marcus/working/211210_nanoporeRun_totalRNA_2102_xrn-1-KD_5TERA/output_dir/merge_files/*_mergedOnReads.parquet... File Found.\n",
      "Loading parquet for xrn-1-5tera lib... Done.\n",
      "\n",
      "Making adjustments for 5' ends:\n"
     ]
    },
    {
     "name": "stderr",
     "output_type": "stream",
     "text": [
      "100%|██████████| 701680/701680 [00:12<00:00, 54091.28it/s]\n"
     ]
    },
    {
     "name": "stdout",
     "output_type": "stream",
     "text": [
      "Loading parquet for xrn-1-5tera-smg-6 lib... Done.\n",
      "\n",
      "Making adjustments for 5' ends:\n"
     ]
    },
    {
     "name": "stderr",
     "output_type": "stream",
     "text": [
      "100%|██████████| 236286/236286 [00:03<00:00, 63264.63it/s]\n"
     ]
    },
    {
     "name": "stdout",
     "output_type": "stream",
     "text": [
      "Finished assignment merge!          \n",
      "Not keeping transcript information. . . (not using Josh assignment method will also force this!)\n",
      "Finished dropping dup. columns.\n",
      "Read counts post gene assignment:  937966\n",
      "Read counts post unassigned drop:  639467\n",
      "Creating groupby dataframe merged on: ['lib', 'chr_id', 'gene_id', 'gene_name']\n",
      "\t+ [t5] tag\n"
     ]
    },
    {
     "name": "stderr",
     "output_type": "stream",
     "text": [
      "Counting reads per gene: 100%|██████████| 31326/31326 [00:00<00:00, 52597.12it/s]\n"
     ]
    },
    {
     "name": "stdout",
     "output_type": "stream",
     "text": [
      "Gene counts pre sub-1 gene_hits drop:  31326\n",
      "Gene counts post sub-1 gene_hits drop:  31326\n",
      "library load done.\n"
     ]
    }
   ],
   "source": [
    "reads_df_genes_raw, compressed_df_genes_raw = load_and_merge_lib_parquets([\"xrn-1-5tera\", \"xrn-1-5tera-smg-6\"], drop_sub_n=1, add_tail_groupings=False, drop_failed_polya=False, group_by_t5=True)\n",
    "print(\"library load done.\")"
   ],
   "metadata": {
    "collapsed": false,
    "ExecuteTime": {
     "end_time": "2023-07-17T22:47:05.119901874Z",
     "start_time": "2023-07-17T22:46:12.169485694Z"
    }
   }
  },
  {
   "cell_type": "code",
   "execution_count": 4,
   "outputs": [],
   "source": [
    "reads_df = reads_df_genes_raw.copy()\n",
    "compressed_df = compressed_df_genes_raw.copy()"
   ],
   "metadata": {
    "collapsed": false,
    "ExecuteTime": {
     "end_time": "2023-07-17T22:50:24.125859596Z",
     "start_time": "2023-07-17T22:50:24.066534563Z"
    }
   }
  },
  {
   "cell_type": "code",
   "execution_count": 16,
   "outputs": [
    {
     "name": "stdout",
     "output_type": "stream",
     "text": [
      "Found entry for zip-1 (WBGene00006986) on chromosome   III at (12333745, 12345347) on the '+' strand\n"
     ]
    },
    {
     "name": "stderr",
     "output_type": "stream",
     "text": [
      "Plotting Reads...: 100%|██████████| 6/6 [00:00<00:00, 232.52it/s]"
     ]
    },
    {
     "name": "stdout",
     "output_type": "stream",
     "text": [
      "Saving plot to ./outputDir/230717_readPlotting_zip-1_WT_allReads + .png/.svg...\n"
     ]
    },
    {
     "name": "stderr",
     "output_type": "stream",
     "text": [
      "\n"
     ]
    },
    {
     "data": {
      "text/plain": "           lib                               read_id chr_id   chr_pos  original_chr_pos  \\\n0  xrn-1-5tera  fa3b7629-0c24-4282-b4b6-2fab6623ec4a    III  12345101          12345101   \n1  xrn-1-5tera  7b2f0b68-56cf-47b6-be00-670be931cd20    III  12345023          12345023   \n2  xrn-1-5tera  86aa30dd-7254-4af3-8bd0-756ea2562b23    III  12344989          12344989   \n3  xrn-1-5tera  e3a7cd60-4757-47dc-893d-a87daf8b9e3e    III  12344980          12344980   \n4  xrn-1-5tera  14cf4d19-9ba0-4382-ad1b-2f8c32542482    III  12343447          12343447   \n5  xrn-1-5tera  01cb1274-5bb7-428e-b1d3-047c95293a7e    III  12344976          12344976   \n\n          gene_id gene_name                                              cigar  \\\n0  WBGene00006986     zip-1  26S8M1D25M1D17M1D3M3D55M2D14M1D12M1D14M2I9M1D1...   \n1  WBGene00006986     zip-1  53S14M1D32M1I11M1D11M4D9M3D20M6I9M3I5M1I9M3D13...   \n2  WBGene00006986     zip-1  21S11M2D9M2D25M1I46M1D22M2D43M1D8M1D16M5I27M1I...   \n3  WBGene00006986     zip-1  22S17M1D2M2D14M3D43M2I7M2D10M1D3M1I5M1I3M2D13M...   \n4  WBGene00006986     zip-1  11S24M1D59M1D13M3I5M3I22M1D6M1D69M1I44M1015N13...   \n5  WBGene00006986     zip-1  11M1D6M2D1M1D2M2D9M1D10M2D38M1I19M1D2M1D14M2D1...   \n\n                                            sequence  polya_length strand t5  read_length  \n0  AGCTTCAAAATCCTAACATTTCACCATCAATTTCCTCCGACCAATC...         28.04      +  -          295  \n1  GACCACCGAGATTAGAAGCCACTCTCCTTACACGATGCACCACAAG...           NaN      +  -          376  \n2  ACGCTTTCCGAGGGTTTGAATAAGCTGAAGGATTTTGAGCGAAAAA...           NaN      +  -          362  \n3  TCCCTACACGATGCTTTCCGAGATTTGAGCCAAGCTGAAGATTTTG...         14.39      +  -          435  \n4  TCCGATGTAGCAGCAAGGAAGAGCTCAAGCAGACGTGGAAATGCTC...           NaN      +  -          881  \n5  AGCAATTTGAGCAAGCTAGATTTTGAGCGAAAAAATATTAAAATTA...         99.62      +  +          355  ",
      "text/html": "<div>\n<style scoped>\n    .dataframe tbody tr th:only-of-type {\n        vertical-align: middle;\n    }\n\n    .dataframe tbody tr th {\n        vertical-align: top;\n    }\n\n    .dataframe thead th {\n        text-align: right;\n    }\n</style>\n<table border=\"1\" class=\"dataframe\">\n  <thead>\n    <tr style=\"text-align: right;\">\n      <th></th>\n      <th>lib</th>\n      <th>read_id</th>\n      <th>chr_id</th>\n      <th>chr_pos</th>\n      <th>original_chr_pos</th>\n      <th>gene_id</th>\n      <th>gene_name</th>\n      <th>cigar</th>\n      <th>sequence</th>\n      <th>polya_length</th>\n      <th>strand</th>\n      <th>t5</th>\n      <th>read_length</th>\n    </tr>\n  </thead>\n  <tbody>\n    <tr>\n      <th>0</th>\n      <td>xrn-1-5tera</td>\n      <td>fa3b7629-0c24-4282-b4b6-2fab6623ec4a</td>\n      <td>III</td>\n      <td>12345101</td>\n      <td>12345101</td>\n      <td>WBGene00006986</td>\n      <td>zip-1</td>\n      <td>26S8M1D25M1D17M1D3M3D55M2D14M1D12M1D14M2I9M1D1...</td>\n      <td>AGCTTCAAAATCCTAACATTTCACCATCAATTTCCTCCGACCAATC...</td>\n      <td>28.04</td>\n      <td>+</td>\n      <td>-</td>\n      <td>295</td>\n    </tr>\n    <tr>\n      <th>1</th>\n      <td>xrn-1-5tera</td>\n      <td>7b2f0b68-56cf-47b6-be00-670be931cd20</td>\n      <td>III</td>\n      <td>12345023</td>\n      <td>12345023</td>\n      <td>WBGene00006986</td>\n      <td>zip-1</td>\n      <td>53S14M1D32M1I11M1D11M4D9M3D20M6I9M3I5M1I9M3D13...</td>\n      <td>GACCACCGAGATTAGAAGCCACTCTCCTTACACGATGCACCACAAG...</td>\n      <td>NaN</td>\n      <td>+</td>\n      <td>-</td>\n      <td>376</td>\n    </tr>\n    <tr>\n      <th>2</th>\n      <td>xrn-1-5tera</td>\n      <td>86aa30dd-7254-4af3-8bd0-756ea2562b23</td>\n      <td>III</td>\n      <td>12344989</td>\n      <td>12344989</td>\n      <td>WBGene00006986</td>\n      <td>zip-1</td>\n      <td>21S11M2D9M2D25M1I46M1D22M2D43M1D8M1D16M5I27M1I...</td>\n      <td>ACGCTTTCCGAGGGTTTGAATAAGCTGAAGGATTTTGAGCGAAAAA...</td>\n      <td>NaN</td>\n      <td>+</td>\n      <td>-</td>\n      <td>362</td>\n    </tr>\n    <tr>\n      <th>3</th>\n      <td>xrn-1-5tera</td>\n      <td>e3a7cd60-4757-47dc-893d-a87daf8b9e3e</td>\n      <td>III</td>\n      <td>12344980</td>\n      <td>12344980</td>\n      <td>WBGene00006986</td>\n      <td>zip-1</td>\n      <td>22S17M1D2M2D14M3D43M2I7M2D10M1D3M1I5M1I3M2D13M...</td>\n      <td>TCCCTACACGATGCTTTCCGAGATTTGAGCCAAGCTGAAGATTTTG...</td>\n      <td>14.39</td>\n      <td>+</td>\n      <td>-</td>\n      <td>435</td>\n    </tr>\n    <tr>\n      <th>4</th>\n      <td>xrn-1-5tera</td>\n      <td>14cf4d19-9ba0-4382-ad1b-2f8c32542482</td>\n      <td>III</td>\n      <td>12343447</td>\n      <td>12343447</td>\n      <td>WBGene00006986</td>\n      <td>zip-1</td>\n      <td>11S24M1D59M1D13M3I5M3I22M1D6M1D69M1I44M1015N13...</td>\n      <td>TCCGATGTAGCAGCAAGGAAGAGCTCAAGCAGACGTGGAAATGCTC...</td>\n      <td>NaN</td>\n      <td>+</td>\n      <td>-</td>\n      <td>881</td>\n    </tr>\n    <tr>\n      <th>5</th>\n      <td>xrn-1-5tera</td>\n      <td>01cb1274-5bb7-428e-b1d3-047c95293a7e</td>\n      <td>III</td>\n      <td>12344976</td>\n      <td>12344976</td>\n      <td>WBGene00006986</td>\n      <td>zip-1</td>\n      <td>11M1D6M2D1M1D2M2D9M1D10M2D38M1I19M1D2M1D14M2D1...</td>\n      <td>AGCAATTTGAGCAAGCTAGATTTTGAGCGAAAAAATATTAAAATTA...</td>\n      <td>99.62</td>\n      <td>+</td>\n      <td>+</td>\n      <td>355</td>\n    </tr>\n  </tbody>\n</table>\n</div>"
     },
     "execution_count": 16,
     "metadata": {},
     "output_type": "execute_result"
    },
    {
     "data": {
      "text/plain": "<Figure size 2500x500 with 1 Axes>",
      "image/png": "[encoded data removed]"
     },
     "metadata": {},
     "output_type": "display_data"
    }
   ],
   "source": [
    "gene_to_plot = \"zip-1\"\n",
    "\n",
    "# plot_reads(reads_df.query(\"lib == 'xrn-1-5tera-smg-6'\"), gene_name_to_plot=gene_to_plot,\n",
    "#            # t5_pos_count=1, t5_neg_count=30,\n",
    "#            pad_x_axis_bounds_by=100, save_dir=f\"./outputDir\", save_suffix=\"_smg-6-KO_allReads\")\n",
    "plot_reads(reads_df.query(\"lib == 'xrn-1-5tera'\"), gene_name_to_plot=gene_to_plot,\n",
    "           # t5_pos_count=10, t5_neg_count=80,\n",
    "           pad_x_axis_bounds_by=100, save_dir=f\"./outputDir\", save_suffix=\"_WT_allReads\")"
   ],
   "metadata": {
    "collapsed": false,
    "ExecuteTime": {
     "end_time": "2023-07-17T22:52:21.891381722Z",
     "start_time": "2023-07-17T22:52:21.304478935Z"
    }
   }
  },
  {
   "cell_type": "code",
   "execution_count": null,
   "outputs": [],
   "source": [],
   "metadata": {
    "collapsed": false
   }
  }
 ],
 "metadata": {
  "kernelspec": {
   "display_name": "Python 3",
   "language": "python",
   "name": "python3"
  },
  "language_info": {
   "codemirror_mode": {
    "name": "ipython",
    "version": 2
   },
   "file_extension": ".py",
   "mimetype": "text/x-python",
   "name": "python",
   "nbconvert_exporter": "python",
   "pygments_lexer": "ipython2",
   "version": "2.7.6"
  }
 },
 "nbformat": 4,
 "nbformat_minor": 0
}
