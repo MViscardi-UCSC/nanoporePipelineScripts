{
 "cells": [
  {
   "cell_type": "markdown",
   "source": [
    "## finalizingReadPlotting_matplotlib.ipynb\n",
    "### Marcus Viscardi     June 16, 2022\n",
    "\n",
    "So I tried to just run what was in testingReadPlotting_matplotlib.py with tba-1 and tba-2 b/c josh wanted those for grants. But the script didn't work. I am fairly sure it is due to these genes being negative strand... I was also having a hard time deciphering what was happening in the other code because it was really hard-coded to plot the stuff for ubl-1 and my RNA society poster.\n",
    "\n",
    "The new plan is to keep that code function and rewrite stuff here to be a little more reusable. Then one I have troubleshooted the hell out of all of this I'll drop it into a real script that I can package and give to folks. Potentially with the addition of the coverage plotting on top of this? Would be cool!"
   ],
   "metadata": {
    "collapsed": false,
    "pycharm": {
     "name": "#%% md\n"
    }
   }
  },
  {
   "cell_type": "code",
   "execution_count": 7,
   "outputs": [
    {
     "name": "stdout",
     "output_type": "stream",
     "text": [
      "imports done\n"
     ]
    }
   ],
   "source": [
    "import numpy as np\n",
    "import pandas as pd\n",
    "from tqdm import tqdm\n",
    "pd.set_option('display.width', 100)\n",
    "pd.set_option('display.max_columns', None)\n",
    "\n",
    "import re\n",
    "\n",
    "import seaborn as sea\n",
    "import matplotlib.pyplot as plt\n",
    "\n",
    "from nanoporePipelineCommon import *\n",
    "\n",
    "print(\"imports done\")"
   ],
   "metadata": {
    "collapsed": false,
    "pycharm": {
     "name": "#%%\n"
    }
   }
  },
  {
   "cell_type": "code",
   "execution_count": 8,
   "outputs": [
    {
     "name": "stdout",
     "output_type": "stream",
     "text": [
      "Loading readAssignments file from: /data16/marcus/genomes/elegansRelease100/Caenorhabditis_elegans.WBcel235.100.allChrs.parquet... Done.\n",
      "Looking for files for libraries: ['xrn-1-5tera', 'xrn-1-5tera-smg-6']\n",
      "Looking for file for xrn-1-5tera, at /data16/marcus/working/211118_nanoporeRun_totalRNA_5108_xrn-1-KD_5TERA/output_dir/merge_files/*_mergedOnReads.parquet... File Found.\n",
      "Looking for file for xrn-1-5tera-smg-6, at /data16/marcus/working/211210_nanoporeRun_totalRNA_2102_xrn-1-KD_5TERA/output_dir/merge_files/*_mergedOnReads.parquet... File Found.\n",
      "Loading parquet for xrn-1-5tera lib... Done.\n",
      "'original_chr_pos' column already found in dataframe, skipping adjustment for 5'ends!\n",
      "Loading parquet for xrn-1-5tera-smg-6 lib... Done.\n",
      "'original_chr_pos' column already found in dataframe, skipping adjustment for 5'ends!\n",
      "Finished assignment merge!. . .\n",
      "Read counts post gene assignment:  937835\n",
      "Read counts post unassigned drop:  636409\n",
      "Creating groupby dataframe merged on: ['lib', 'chr_id', 'gene_id', 'gene_name']\n",
      "\t+ [t5] tag\n"
     ]
    },
    {
     "name": "stderr",
     "output_type": "stream",
     "text": [
      "Counting reads per gene: 100%|██████████| 31278/31278 [00:00<00:00, 57206.38it/s]\n"
     ]
    },
    {
     "name": "stdout",
     "output_type": "stream",
     "text": [
      "Gene counts pre sub-1 gene_hits drop:  31278\n",
      "Gene counts post sub-1 gene_hits drop:  31278\n",
      "library load done.\n"
     ]
    }
   ],
   "source": [
    "reads_df_genes_raw, compressed_df_genes_raw = load_and_merge_lib_parquets([\"xrn-1-5tera\", \"xrn-1-5tera-smg-6\"], drop_sub_n=1, add_tail_groupings=False, drop_failed_polya=False, group_by_t5=True)\n",
    "print(\"library load done.\")"
   ],
   "metadata": {
    "collapsed": false,
    "pycharm": {
     "name": "#%%\n"
    }
   }
  },
  {
   "cell_type": "code",
   "execution_count": 9,
   "outputs": [],
   "source": [
    "reads_df = reads_df_genes_raw.copy()\n",
    "compressed_df = compressed_df_genes_raw.copy()"
   ],
   "metadata": {
    "collapsed": false,
    "pycharm": {
     "name": "#%%\n"
    }
   }
  },
  {
   "cell_type": "code",
   "execution_count": 20,
   "outputs": [],
   "source": [
    "from matplotlib.collections import PatchCollection\n",
    "from matplotlib.patches import Rectangle\n",
    "\n",
    "def make_rectangle_patch(genome_start, length, y_center, thickness, color='gray'):\n",
    "    return Rectangle((genome_start, y_center-(thickness/2)), length, thickness,\n",
    "                     facecolor=color,\n",
    "                     edgecolor=color,\n",
    "                     fill=True,\n",
    "                     lw=0)\n",
    "\n",
    "\n",
    "def add_patches_from_cigars_and_gen_pos(axes, cigar, gen_start, y, strand, color='black', plot_introns=True,tail_length=None):\n",
    "    # Parse the cigar string\n",
    "    parsed_cigar = re.findall(rf'(\\d+)([MDNSIX])', cigar)\n",
    "    mdn_nums = [int(num) for num, char in parsed_cigar if char in \"MDN\"]\n",
    "    gen_end = gen_start + sum(mdn_nums)\n",
    "    genomic_read_length = gen_end - gen_start\n",
    "    \n",
    "    genome_loc = gen_start\n",
    "    \n",
    "    rectangle_patch_list = []\n",
    "    first_n_length = 0\n",
    "    for length, code in parsed_cigar:\n",
    "        length = int(length)\n",
    "        if code == 'S':\n",
    "            pass\n",
    "        elif code == 'M':\n",
    "            rectangle_patch_list.append(make_rectangle_patch(genome_loc, length, y, thickness=0.8))\n",
    "            genome_loc += length\n",
    "        elif code == 'D':\n",
    "            if length < 50:\n",
    "                rectangle_patch_list.append(make_rectangle_patch(genome_loc, length, y, thickness=0.8))\n",
    "            else:\n",
    "                if plot_introns:\n",
    "                    rectangle_patch_list.append(make_rectangle_patch(genome_loc, length, y, thickness=0.001))\n",
    "            genome_loc += length\n",
    "        elif code == 'I':\n",
    "            pass\n",
    "        elif code == 'N':\n",
    "            if plot_introns:\n",
    "                rectangle_patch_list.append(make_rectangle_patch(genome_loc, length, y, thickness=0.001))\n",
    "            genome_loc += length\n",
    "    axes.add_collection(PatchCollection(rectangle_patch_list, color=color))\n",
    "    if isinstance(tail_length, float):\n",
    "        if strand == \"+\":\n",
    "            axes.add_patch(make_rectangle_patch(genome_loc, tail_length, y, thickness=0.4, color='green'))\n",
    "            genome_loc += tail_length\n",
    "        else:\n",
    "            axes.add_patch(make_rectangle_patch(gen_start, -tail_length, y, thickness=0.4, color='green'))\n",
    "    return genomic_read_length\n",
    "\n",
    "\n",
    "def row_apply_plot_cigar(row, axes, plot_introns=True):\n",
    "    index = row.name\n",
    "    cigar = row.cigar\n",
    "    gen_start = row.original_chr_pos\n",
    "    is_adapted = row.t5\n",
    "    polya_length = row.polya_length\n",
    "    strand = row.strand\n",
    "    \n",
    "    if is_adapted == '-':\n",
    "        color='black'\n",
    "    else:\n",
    "        color='red'\n",
    "    return add_patches_from_cigars_and_gen_pos(axes, cigar, gen_start, index, strand,\n",
    "                                               color=color,\n",
    "                                               plot_introns=plot_introns,\n",
    "                                               tail_length=polya_length)\n",
    "\n",
    "\n",
    "def get_gene_coordinates(\n",
    "        gene_id=None, gene_name=None,\n",
    "        parsed_gtf_path=\"/data16/marcus/genomes/elegansRelease100/Caenorhabditis_elegans.WBcel235.100.gtf.parquet\"\n",
    ") -> (str, str, int, int):\n",
    "    # First make sure we got something to look up:\n",
    "    gene_id_bool = isinstance(gene_id, str)\n",
    "    gene_name_bool = isinstance(gene_name, str)\n",
    "    if not gene_id_bool and not gene_name_bool:\n",
    "        raise NotImplementedError(f\"Please pass a gene_id or a gene_name!\")\n",
    "    # Load the parsed gtf_file\n",
    "    try:\n",
    "        gtf_df = pd.read_parquet(parsed_gtf_path)[[\"gene_id\",\n",
    "                                                   \"gene_name\",\n",
    "                                                   \"feature\",\n",
    "                                                   \"chr\",\n",
    "                                                   \"start\",\n",
    "                                                   \"end\",\n",
    "                                                   \"strand\"]].query(\"feature == 'gene'\")\n",
    "    except FileNotFoundError:\n",
    "        raise FileNotFoundError(f\"Please make sure there is a parsed gtf file at: {parsed_gtf_path}\")\n",
    "\n",
    "    # Get the gene of interest!\n",
    "    try:\n",
    "        if gene_id_bool:\n",
    "            entry_of_interest = gtf_df.query(f\"gene_id == '{gene_id}'\").reset_index(drop=True).iloc[0].to_dict()\n",
    "            gene_name = entry_of_interest[\"gene_name\"]\n",
    "        else:  # if gene_name_bool\n",
    "            entry_of_interest = gtf_df.query(f\"gene_name == '{gene_name}'\").reset_index(drop=True).iloc[0].to_dict()\n",
    "            gene_id = entry_of_interest[\"gene_id\"]\n",
    "    except IndexError:\n",
    "        raise IndexError(f\"Gene of interest (gene_id: {gene_id} / gene_name: {gene_name}) not found!\")\n",
    "    chromosome = entry_of_interest[\"chr\"]\n",
    "    start = entry_of_interest[\"start\"]\n",
    "    end = entry_of_interest[\"end\"]\n",
    "    strand = entry_of_interest[\"strand\"]\n",
    "    print(f\"Found entry for {gene_name} ({gene_id}) on chromosome {chromosome:>5} at ({start}, {end}) on the '{strand}' strand\")\n",
    "    return gene_name, chromosome, start, end, strand\n",
    "\n",
    "\n",
    "def plot_reads(reads_df, gene_id_to_plot=None, gene_name_to_plot=None,\n",
    "               save_dir=None, save_suffix=\"\", plot_width_and_height=(25,5),\n",
    "               subsample_fraction=None, subsample_number=None,\n",
    "               t5_pos_count=None, t5_neg_count=None,\n",
    "               pad_x_axis_bounds_by=None, only_keep_reads_matched_to_gene=True):\n",
    "    \n",
    "    gene_name, chromosome, genomic_start, genomic_end, gene_strand = get_gene_coordinates(gene_name=gene_name_to_plot, gene_id=gene_id_to_plot)\n",
    "    \n",
    "    if isinstance(subsample_fraction, float):\n",
    "        subsampled_reads_df = reads_df.sample(frac=subsample_fraction)\n",
    "    elif isinstance(subsample_number, int):\n",
    "        subsampled_reads_df = reads_df.sample(n=subsample_number)\n",
    "    else:\n",
    "        subsampled_reads_df = reads_df  # Just to have the same variable name!\n",
    "    if only_keep_reads_matched_to_gene:\n",
    "        all_gene_reads = subsampled_reads_df.query(f\"gene_name == '{gene_name}'\")\n",
    "    else:\n",
    "        raise NotImplementedError(f\"This doesn't currently work...\")\n",
    "    gene_df_t5_pos = all_gene_reads.query(\"t5 == '+'\")\n",
    "    if isinstance(t5_pos_count, int):\n",
    "        gene_df_t5_pos = gene_df_t5_pos.sample(t5_pos_count)\n",
    "    gene_df_t5_neg = all_gene_reads.query(\"t5 == '-'\")\n",
    "    if isinstance(t5_neg_count, int):\n",
    "        gene_df_t5_neg = gene_df_t5_neg.sample(t5_neg_count)\n",
    "    gene_df = pd.concat([gene_df_t5_pos, gene_df_t5_neg])\n",
    "    \n",
    "    plt.style.use('default')\n",
    "    # fig, ax = plt.subplots()\n",
    "    # tqdm.pandas(desc=\"First pass to extract the length of the first intron called\")\n",
    "    # gene_df[['genomic_read_length', 'first_n_length']] = gene_df.progress_apply(lambda row: row_apply_plot_cigar(row, ax), axis=1, result_type='expand')\n",
    "    # fig, ax = None, None\n",
    "    \n",
    "    plt.style.use('default')\n",
    "    fig, ax = plt.subplots(figsize=plot_width_and_height)\n",
    "    \n",
    "    if gene_strand == \"-\":\n",
    "        sort_order = [\"t5\", \"chr_pos\", \"original_chr_pos\", \"read_length\"]\n",
    "        sort_order_ascending = [False, True, False, False]\n",
    "    else:  # gene_strand == \"+\":\n",
    "        sort_order = [\"t5\", \"original_chr_pos\", \"chr_pos\", \"read_length\"]\n",
    "        sort_order_ascending = [False, False, False, False]\n",
    "    tqdm.pandas(desc=\"Plotting Reads...\")\n",
    "    gene_df = gene_df.sort_values(sort_order, ascending=sort_order_ascending).reset_index(drop=True)\n",
    "    gene_df.progress_apply(lambda row: row_apply_plot_cigar(row, ax), axis=1)\n",
    "\n",
    "    number_of_plotted_reads = gene_df.shape[0]\n",
    "    ax.set_ylim(-1, number_of_plotted_reads+1)\n",
    "    \n",
    "    if isinstance(pad_x_axis_bounds_by, int):\n",
    "        ax.set_xlim(genomic_start - pad_x_axis_bounds_by,\n",
    "                    genomic_end + pad_x_axis_bounds_by)\n",
    "    else:\n",
    "        ax.set_xlim(genomic_start, genomic_end)\n",
    "    \n",
    "    plt.xticks([])\n",
    "    plt.yticks([])\n",
    "    if isinstance(save_dir, str):\n",
    "        save_path = f\"{save_dir}/{get_dt(for_file=True)}_readPlotting_{gene_name}{save_suffix}\"\n",
    "        print(f\"Saving plot to {save_path} + .png/.svg...\")\n",
    "        plt.savefig(save_path + \".svg\")\n",
    "        plt.savefig(save_path + \".png\")\n",
    "    # plt.show()\n",
    "    return gene_df"
   ],
   "metadata": {
    "collapsed": false,
    "pycharm": {
     "name": "#%%\n"
    }
   }
  },
  {
   "cell_type": "code",
   "execution_count": 28,
   "outputs": [
    {
     "name": "stdout",
     "output_type": "stream",
     "text": [
      "Found entry for xbp-1 (WBGene00006959) on chromosome   III at (4193809, 4195358) on the '+' strand\n"
     ]
    },
    {
     "name": "stderr",
     "output_type": "stream",
     "text": [
      "Plotting Reads...: 100%|██████████| 25/25 [00:00<00:00, 168.66it/s]"
     ]
    },
    {
     "name": "stdout",
     "output_type": "stream",
     "text": [
      "Saving plot to ./outputDir/220627_readPlotting_xbp-1_smg-6-KO_allReads + .png/.svg...\n"
     ]
    },
    {
     "name": "stderr",
     "output_type": "stream",
     "text": [
      "\n"
     ]
    },
    {
     "name": "stdout",
     "output_type": "stream",
     "text": [
      "Found entry for xbp-1 (WBGene00006959) on chromosome   III at (4193809, 4195358) on the '+' strand\n"
     ]
    },
    {
     "name": "stderr",
     "output_type": "stream",
     "text": [
      "Plotting Reads...: 100%|██████████| 109/109 [00:00<00:00, 169.48it/s]\n"
     ]
    },
    {
     "name": "stdout",
     "output_type": "stream",
     "text": [
      "Saving plot to ./outputDir/220627_readPlotting_xbp-1_WT_allReads + .png/.svg...\n"
     ]
    },
    {
     "data": {
      "text/plain": "             lib                               read_id chr_id  chr_pos  original_chr_pos  \\\n0    xrn-1-5tera  8384c5db-474e-4a8e-b75a-a94b4cf7e393    III  4195150           4195150   \n1    xrn-1-5tera  7a9cb106-a687-40fd-b91f-3ad365d20263    III  4195070           4195070   \n2    xrn-1-5tera  ab2354af-624f-4004-a918-fa39237ea4e5    III  4195005           4195005   \n3    xrn-1-5tera  7943ff4e-78ef-4b72-a5bb-ced7effc748d    III  4194999           4194999   \n4    xrn-1-5tera  fdede3ff-0737-4c13-8786-975cb8b9edd1    III  4194995           4194995   \n..           ...                                   ...    ...      ...               ...   \n104  xrn-1-5tera  b14a80bb-5e56-4f94-98b2-ab5905bb2b07    III  4194577           4194577   \n105  xrn-1-5tera  6e733f72-0c42-45e9-be73-261a4f4f8a91    III  4194576           4194576   \n106  xrn-1-5tera  dc8f2d25-9d01-4e73-93f2-6471821f55da    III  4194576           4194576   \n107  xrn-1-5tera  91870570-ea63-45aa-9a48-fd4c7957e578    III  4194394           4194394   \n108  xrn-1-5tera  4cbb09ab-5361-4dfa-ae3e-ffee0d63cf6a    III  4193946           4193946   \n\n            gene_id gene_name                                              cigar  \\\n0    WBGene00006959     xbp-1  31M1I19M1D4M1I8M1D12M1D12M1D18M1D34M1D20M1I14M...   \n1    WBGene00006959     xbp-1  30S5M2D9M2D7M2I7M1D15M1D44M1I1M2D16M1D5M1D16M1...   \n2    WBGene00006959     xbp-1  5S46M3D21M1D11M1D10M2I4M1D28M1I3M5D60M2D12M1D1...   \n3    WBGene00006959     xbp-1  28S16M1I15M1D14M3D3M1D23M1D12M1I17M1D23M2I33M3...   \n4    WBGene00006959     xbp-1  36S7M2D18M1D7M1D11M1D19M1D4M1D3M1D3M1D11M1D15M...   \n..              ...       ...                                                ...   \n104  WBGene00006959     xbp-1  18M3D23M1D19M1D15M1D10M1I12M1D13M3D9M1I3M2D1M1...   \n105  WBGene00006959     xbp-1  18M1I31M1D37M5D35M2I47M1D2M1D1M1D5M54N24M1D15M...   \n106  WBGene00006959     xbp-1  19M1D20M1D11M1D12M1D4M2D31M1I10M1D25M2I9M2D10M...   \n107  WBGene00006959     xbp-1  77S25M2D6M1I14M1D33M1D1M1D3M1D8M1I33M5D14M1I28...   \n108  WBGene00006959     xbp-1  6M1D6M1D22M1D14M1D16M1I6M1D9M1D42M1D19M1I116M1...   \n\n                                              sequence  polya_length strand t5  read_length  \n0    TAGTGAATTTCCCTCGTTATTATTTTCTCCCAAAAAAATCTCTCCA...           NaN      +  -          216  \n1    ATCCCTACTGTACGCACATGAGTACTTAGAGAAACTCGACGAAATC...           NaN      +  -          309  \n2    TTCGAGATGTAGAACCGAAACTGGAACTGGAACCGACGAGCTATCC...        170.05      +  -          338  \n3    TTTTCCCTACGACGCTACCGAGATTCTTTTTTGGGATGTAGAACAT...           NaN      +  -          453  \n4    TCCTCGAGAACTCTCTCCTACACAATTCTCCGAATAGAGCTTTGGA...         34.26      +  -          423  \n..                                                 ...           ...    ... ..          ...  \n104  AGTGGGAACAGGCCCGATCCTCCATCAACAACAACATCAGCATCAA...         73.72      +  +          763  \n105  CAGTGGGAACAGGCCCGACACCACCTCCATCAACAACAACATCAGC...         46.12      +  +          763  \n106  CAGTGGGAACAGGCCCGATCACCTCCATCAACAACAACACTGCAAC...         80.24      +  +          634  \n107  TACCCCCCTACCCATCATCATCCCACCATATTCATATCCATCATTT...          9.50      +  +         1007  \n108  CTTTAGCCCATATCGCTACACTGAAGAACTATACGTTAGCAACTAT...           NaN      +  +         1256  \n\n[109 rows x 13 columns]",
      "text/html": "<div>\n<style scoped>\n    .dataframe tbody tr th:only-of-type {\n        vertical-align: middle;\n    }\n\n    .dataframe tbody tr th {\n        vertical-align: top;\n    }\n\n    .dataframe thead th {\n        text-align: right;\n    }\n</style>\n<table border=\"1\" class=\"dataframe\">\n  <thead>\n    <tr style=\"text-align: right;\">\n      <th></th>\n      <th>lib</th>\n      <th>read_id</th>\n      <th>chr_id</th>\n      <th>chr_pos</th>\n      <th>original_chr_pos</th>\n      <th>gene_id</th>\n      <th>gene_name</th>\n      <th>cigar</th>\n      <th>sequence</th>\n      <th>polya_length</th>\n      <th>strand</th>\n      <th>t5</th>\n      <th>read_length</th>\n    </tr>\n  </thead>\n  <tbody>\n    <tr>\n      <th>0</th>\n      <td>xrn-1-5tera</td>\n      <td>8384c5db-474e-4a8e-b75a-a94b4cf7e393</td>\n      <td>III</td>\n      <td>4195150</td>\n      <td>4195150</td>\n      <td>WBGene00006959</td>\n      <td>xbp-1</td>\n      <td>31M1I19M1D4M1I8M1D12M1D12M1D18M1D34M1D20M1I14M...</td>\n      <td>TAGTGAATTTCCCTCGTTATTATTTTCTCCCAAAAAAATCTCTCCA...</td>\n      <td>NaN</td>\n      <td>+</td>\n      <td>-</td>\n      <td>216</td>\n    </tr>\n    <tr>\n      <th>1</th>\n      <td>xrn-1-5tera</td>\n      <td>7a9cb106-a687-40fd-b91f-3ad365d20263</td>\n      <td>III</td>\n      <td>4195070</td>\n      <td>4195070</td>\n      <td>WBGene00006959</td>\n      <td>xbp-1</td>\n      <td>30S5M2D9M2D7M2I7M1D15M1D44M1I1M2D16M1D5M1D16M1...</td>\n      <td>ATCCCTACTGTACGCACATGAGTACTTAGAGAAACTCGACGAAATC...</td>\n      <td>NaN</td>\n      <td>+</td>\n      <td>-</td>\n      <td>309</td>\n    </tr>\n    <tr>\n      <th>2</th>\n      <td>xrn-1-5tera</td>\n      <td>ab2354af-624f-4004-a918-fa39237ea4e5</td>\n      <td>III</td>\n      <td>4195005</td>\n      <td>4195005</td>\n      <td>WBGene00006959</td>\n      <td>xbp-1</td>\n      <td>5S46M3D21M1D11M1D10M2I4M1D28M1I3M5D60M2D12M1D1...</td>\n      <td>TTCGAGATGTAGAACCGAAACTGGAACTGGAACCGACGAGCTATCC...</td>\n      <td>170.05</td>\n      <td>+</td>\n      <td>-</td>\n      <td>338</td>\n    </tr>\n    <tr>\n      <th>3</th>\n      <td>xrn-1-5tera</td>\n      <td>7943ff4e-78ef-4b72-a5bb-ced7effc748d</td>\n      <td>III</td>\n      <td>4194999</td>\n      <td>4194999</td>\n      <td>WBGene00006959</td>\n      <td>xbp-1</td>\n      <td>28S16M1I15M1D14M3D3M1D23M1D12M1I17M1D23M2I33M3...</td>\n      <td>TTTTCCCTACGACGCTACCGAGATTCTTTTTTGGGATGTAGAACAT...</td>\n      <td>NaN</td>\n      <td>+</td>\n      <td>-</td>\n      <td>453</td>\n    </tr>\n    <tr>\n      <th>4</th>\n      <td>xrn-1-5tera</td>\n      <td>fdede3ff-0737-4c13-8786-975cb8b9edd1</td>\n      <td>III</td>\n      <td>4194995</td>\n      <td>4194995</td>\n      <td>WBGene00006959</td>\n      <td>xbp-1</td>\n      <td>36S7M2D18M1D7M1D11M1D19M1D4M1D3M1D3M1D11M1D15M...</td>\n      <td>TCCTCGAGAACTCTCTCCTACACAATTCTCCGAATAGAGCTTTGGA...</td>\n      <td>34.26</td>\n      <td>+</td>\n      <td>-</td>\n      <td>423</td>\n    </tr>\n    <tr>\n      <th>...</th>\n      <td>...</td>\n      <td>...</td>\n      <td>...</td>\n      <td>...</td>\n      <td>...</td>\n      <td>...</td>\n      <td>...</td>\n      <td>...</td>\n      <td>...</td>\n      <td>...</td>\n      <td>...</td>\n      <td>...</td>\n      <td>...</td>\n    </tr>\n    <tr>\n      <th>104</th>\n      <td>xrn-1-5tera</td>\n      <td>b14a80bb-5e56-4f94-98b2-ab5905bb2b07</td>\n      <td>III</td>\n      <td>4194577</td>\n      <td>4194577</td>\n      <td>WBGene00006959</td>\n      <td>xbp-1</td>\n      <td>18M3D23M1D19M1D15M1D10M1I12M1D13M3D9M1I3M2D1M1...</td>\n      <td>AGTGGGAACAGGCCCGATCCTCCATCAACAACAACATCAGCATCAA...</td>\n      <td>73.72</td>\n      <td>+</td>\n      <td>+</td>\n      <td>763</td>\n    </tr>\n    <tr>\n      <th>105</th>\n      <td>xrn-1-5tera</td>\n      <td>6e733f72-0c42-45e9-be73-261a4f4f8a91</td>\n      <td>III</td>\n      <td>4194576</td>\n      <td>4194576</td>\n      <td>WBGene00006959</td>\n      <td>xbp-1</td>\n      <td>18M1I31M1D37M5D35M2I47M1D2M1D1M1D5M54N24M1D15M...</td>\n      <td>CAGTGGGAACAGGCCCGACACCACCTCCATCAACAACAACATCAGC...</td>\n      <td>46.12</td>\n      <td>+</td>\n      <td>+</td>\n      <td>763</td>\n    </tr>\n    <tr>\n      <th>106</th>\n      <td>xrn-1-5tera</td>\n      <td>dc8f2d25-9d01-4e73-93f2-6471821f55da</td>\n      <td>III</td>\n      <td>4194576</td>\n      <td>4194576</td>\n      <td>WBGene00006959</td>\n      <td>xbp-1</td>\n      <td>19M1D20M1D11M1D12M1D4M2D31M1I10M1D25M2I9M2D10M...</td>\n      <td>CAGTGGGAACAGGCCCGATCACCTCCATCAACAACAACACTGCAAC...</td>\n      <td>80.24</td>\n      <td>+</td>\n      <td>+</td>\n      <td>634</td>\n    </tr>\n    <tr>\n      <th>107</th>\n      <td>xrn-1-5tera</td>\n      <td>91870570-ea63-45aa-9a48-fd4c7957e578</td>\n      <td>III</td>\n      <td>4194394</td>\n      <td>4194394</td>\n      <td>WBGene00006959</td>\n      <td>xbp-1</td>\n      <td>77S25M2D6M1I14M1D33M1D1M1D3M1D8M1I33M5D14M1I28...</td>\n      <td>TACCCCCCTACCCATCATCATCCCACCATATTCATATCCATCATTT...</td>\n      <td>9.50</td>\n      <td>+</td>\n      <td>+</td>\n      <td>1007</td>\n    </tr>\n    <tr>\n      <th>108</th>\n      <td>xrn-1-5tera</td>\n      <td>4cbb09ab-5361-4dfa-ae3e-ffee0d63cf6a</td>\n      <td>III</td>\n      <td>4193946</td>\n      <td>4193946</td>\n      <td>WBGene00006959</td>\n      <td>xbp-1</td>\n      <td>6M1D6M1D22M1D14M1D16M1I6M1D9M1D42M1D19M1I116M1...</td>\n      <td>CTTTAGCCCATATCGCTACACTGAAGAACTATACGTTAGCAACTAT...</td>\n      <td>NaN</td>\n      <td>+</td>\n      <td>+</td>\n      <td>1256</td>\n    </tr>\n  </tbody>\n</table>\n<p>109 rows × 13 columns</p>\n</div>"
     },
     "execution_count": 28,
     "metadata": {},
     "output_type": "execute_result"
    },
    {
     "data": {
      "text/plain": "<Figure size 2500x500 with 1 Axes>",
      "image/png": "[encoded data removed]"
     },
     "metadata": {},
     "output_type": "display_data"
    },
    {
     "data": {
      "text/plain": "<Figure size 2500x500 with 1 Axes>",
      "image/png": "[encoded data removed]"
     },
     "metadata": {},
     "output_type": "display_data"
    }
   ],
   "source": [
    "gene_to_plot = \"xbp-1\"\n",
    "\n",
    "plot_reads(reads_df.query(\"lib == 'xrn-1-5tera-smg-6'\"), gene_name_to_plot=gene_to_plot,\n",
    "           # t5_pos_count=1, t5_neg_count=30,\n",
    "           pad_x_axis_bounds_by=100, save_dir=f\"./outputDir\", save_suffix=\"_smg-6-KO_allReads\")\n",
    "plot_reads(reads_df.query(\"lib == 'xrn-1-5tera'\"), gene_name_to_plot=gene_to_plot,\n",
    "           # t5_pos_count=20, t5_neg_count=20,\n",
    "           pad_x_axis_bounds_by=100, save_dir=f\"./outputDir\", save_suffix=\"_WT_allReads\")"
   ],
   "metadata": {
    "collapsed": false,
    "pycharm": {
     "name": "#%%\n"
    }
   }
  },
  {
   "cell_type": "code",
   "execution_count": null,
   "outputs": [],
   "source": [],
   "metadata": {
    "collapsed": false,
    "pycharm": {
     "name": "#%%\n"
    }
   }
  }
 ],
 "metadata": {
  "kernelspec": {
   "display_name": "Python 3",
   "language": "python",
   "name": "python3"
  },
  "language_info": {
   "codemirror_mode": {
    "name": "ipython",
    "version": 2
   },
   "file_extension": ".py",
   "mimetype": "text/x-python",
   "name": "python",
   "nbconvert_exporter": "python",
   "pygments_lexer": "ipython2",
   "version": "2.7.6"
  }
 },
 "nbformat": 4,
 "nbformat_minor": 0
}