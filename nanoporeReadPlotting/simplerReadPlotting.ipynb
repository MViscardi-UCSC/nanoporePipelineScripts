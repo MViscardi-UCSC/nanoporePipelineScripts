{
 "cells": [
  {
   "cell_type": "markdown",
   "source": [
    "# simplerReadPlotting.ipynb\n",
    "## Marcus Viscardi,    July 17, 2023\n",
    "\n",
    "I want to quickly take some tricks I learned from fourLibrary5TERA/ambiguousReads.py and apply them here.\n",
    "\n",
    "The goal is to be able to plot reads from a locus based on their overlap of that locus and directionality. This will be a little messier, but important for all those genes that have a had time getting reads assigned to them! (*ets-4*)\n",
    "\n",
    "Plan is to feed this a **target_gene** and a **bam file** then use pysam to rip all the relevant reads from the bam, and plot those!"
   ],
   "metadata": {
    "collapsed": false
   }
  },
  {
   "cell_type": "code",
   "execution_count": 1,
   "outputs": [
    {
     "name": "stdout",
     "output_type": "stream",
     "text": [
      "Imports Complete @ 07/17/23 @ 04:25:45 PM\n"
     ]
    }
   ],
   "source": [
    "import pandas as pd\n",
    "import numpy as np\n",
    "from pathlib import Path\n",
    "import pysam\n",
    "import sys\n",
    "from tqdm import tqdm\n",
    "sys.path.insert(0, '/data16/marcus/scripts/nanoporePipelineScripts')\n",
    "import nanoporePipelineCommon as npC\n",
    "from finalizingReadAndCoveragePlotting_matplotlib import plot_reads, coverage_plotting_5tera\n",
    "\n",
    "MIN_COVERAGE_OF_GENE = 50\n",
    "print(f\"Imports Complete @ {npC.get_dt(for_print=True)}\")"
   ],
   "metadata": {
    "collapsed": false,
    "ExecuteTime": {
     "end_time": "2023-07-17T23:25:45.409067447Z",
     "start_time": "2023-07-17T23:25:45.151300757Z"
    }
   }
  },
  {
   "cell_type": "code",
   "execution_count": 146,
   "outputs": [],
   "source": [
    "def create_cutdown_bam(target_genes: list, target_lib:str, save_dir='/tmp') -> (Path, pd.DataFrame):\n",
    "    bam_file = Path(npC.pick_lib_return_path(npC.REV_CONVERSION_DICT[target_lib], output_dir_folder='cat_files', file_midfix='cat.sorted.mappedAndPrimary', file_suffix='.bam'))\n",
    "    gtf_df = pd.read_parquet('/data16/marcus/genomes/'\n",
    "                         'plus_cerENO2_elegansRelease100/'\n",
    "                         '230327_allChrs_plus-cerENO2.gtf.parquet')\n",
    "    short_gtf_df = gtf_df[(gtf_df['feature'] == 'gene') & (gtf_df['gene_name'].isin(target_genes))].copy()\n",
    "    bam = pysam.AlignmentFile(bam_file, 'rb')\n",
    "    cutdown_bam_path = f\"{save_dir}/{npC.get_dt()}_{'_'.join(target_genes)}_{target_lib}.bam\"\n",
    "    cutdown_bam = pysam.AlignmentFile(cutdown_bam_path, 'wb',\n",
    "                                      template=bam)\n",
    "    for gene_id, gene_name in zip(short_gtf_df['gene_id'], short_gtf_df['gene_name']):\n",
    "        print(f\"Working on {gene_name} @ {npC.get_dt(for_print=True)}\")\n",
    "        chromosome, start, end, strand = \\\n",
    "        short_gtf_df.loc[short_gtf_df['gene_id'] == gene_id, ['chr', 'start', 'end', 'strand', ]].values[0]\n",
    "        gene_is_reverse = (strand == '-')\n",
    "        gene_is_forward = not gene_is_reverse\n",
    "        read_iterator = tqdm(enumerate(bam.fetch(chromosome, start, end)))\n",
    "        for i, read in read_iterator:\n",
    "            if read.get_overlap(start, end) <= MIN_COVERAGE_OF_GENE:\n",
    "                continue  # This will catch reads that are not in the gene! (50 is arbitrary)\n",
    "                #           This is mainly because some reads \"span\" the gene, so they get fetched!\n",
    "            if read.is_reverse != gene_is_reverse:\n",
    "                continue  # This will catch reads that are in the wrong direction!\n",
    "            read.set_tag('gA', gene_id, value_type='Z')\n",
    "            read.set_tag('gN', gene_name, value_type='Z')\n",
    "            read.set_tag('rS', read.reference_start, value_type='i')\n",
    "            read.set_tag('rE', read.reference_end, value_type='i')\n",
    "            read.set_tag('qL', read.query_length, value_type='i')\n",
    "            cutdown_bam.write(read)\n",
    "    for loop_bam in [cutdown_bam]:\n",
    "        loop_bam.close()\n",
    "        pysam.sort(loop_bam.filename, '-o', loop_bam.filename)\n",
    "        pysam.index(loop_bam.filename)  # These samtools methods aren't in the pysam __init__ file, but they work!\n",
    "    bam.close()\n",
    "    print(f\"Done. Saved to: {cutdown_bam_path}\")\n",
    "    return Path(cutdown_bam_path), short_gtf_df"
   ],
   "metadata": {
    "collapsed": false,
    "ExecuteTime": {
     "end_time": "2023-07-19T20:31:28.258028843Z",
     "start_time": "2023-07-19T20:31:28.217869495Z"
    }
   }
  },
  {
   "cell_type": "code",
   "execution_count": 147,
   "outputs": [
    {
     "name": "stdout",
     "output_type": "stream",
     "text": [
      "Looking for file for 5tera_xrn-1-KD_smg-6_rerun, at /data16/marcus/working/230403_nanoporeRun_totalRNA_smg-6_xrn-1-KD_5TERA_rerun/output_dir/cat_files/*cat.sorted.mappedAndPrimary.bam... File Found.\n",
      "Working on ets-4 @ 07/19/23 @ 01:31:29 PM\n"
     ]
    },
    {
     "name": "stderr",
     "output_type": "stream",
     "text": [
      "79it [00:00, 447.96it/s]\n"
     ]
    },
    {
     "name": "stdout",
     "output_type": "stream",
     "text": [
      "Working on xbp-1 @ 07/19/23 @ 01:31:29 PM\n"
     ]
    },
    {
     "name": "stderr",
     "output_type": "stream",
     "text": [
      "240it [00:00, 1862.50it/s]\n"
     ]
    },
    {
     "name": "stdout",
     "output_type": "stream",
     "text": [
      "Working on zip-1 @ 07/19/23 @ 01:31:29 PM\n"
     ]
    },
    {
     "name": "stderr",
     "output_type": "stream",
     "text": [
      "42it [00:00, 383.07it/s]"
     ]
    },
    {
     "name": "stdout",
     "output_type": "stream",
     "text": [
      "Done. Saved to: /tmp/230719_ets-4_zip-1_xbp-1_newerS6.bam\n"
     ]
    },
    {
     "name": "stderr",
     "output_type": "stream",
     "text": [
      "\n"
     ]
    },
    {
     "data": {
      "text/plain": "(PosixPath('/tmp/230719_ets-4_zip-1_xbp-1_newerS6.bam'),\n         chr    source feature     start       end score strand frame gene_name         gene_id  \\\n 180269    X  WormBase    gene   6518883   6522656     .      +     .     ets-4  WBGene00017687   \n 661454  III  WormBase    gene   4193809   4195358     .      +     .     xbp-1  WBGene00006959   \n 723843  III  WormBase    gene  12333745  12345347     .      +     .     zip-1  WBGene00006986   \n \n         gene_version gene_source    gene_biotype transcript_id transcript_source  \\\n 180269             1    WormBase  protein_coding          None              None   \n 661454             1    WormBase  protein_coding          None              None   \n 723843             1    WormBase  protein_coding          None              None   \n \n        transcript_biotype  exon_number exon_id  \n 180269               None          NaN    None  \n 661454               None          NaN    None  \n 723843               None          NaN    None  )"
     },
     "execution_count": 147,
     "metadata": {},
     "output_type": "execute_result"
    }
   ],
   "source": [
    "target_genes = (\n",
    "    'ets-4',\n",
    "    'zip-1',\n",
    "    'xbp-1',\n",
    ")\n",
    "target_lib = 'newerS6'\n",
    "\n",
    "\n",
    "create_cutdown_bam(target_genes, target_lib)"
   ],
   "metadata": {
    "collapsed": false,
    "ExecuteTime": {
     "end_time": "2023-07-19T20:31:30.094197646Z",
     "start_time": "2023-07-19T20:31:29.086891283Z"
    }
   }
  },
  {
   "cell_type": "code",
   "execution_count": 148,
   "outputs": [],
   "source": [
    "def bam_tag_to_df(bam_object_or_path, tags=(), chr = None, start=None, stop = None):\n",
    "    if not isinstance(bam_object_or_path, pysam.AlignmentFile):\n",
    "        bam = pysam.AlignmentFile(bam_object_or_path, 'rb')\n",
    "    else:\n",
    "        bam = bam_object_or_path\n",
    "    read_names = []\n",
    "    chrs = []\n",
    "    chr_starts = []\n",
    "    strands = []\n",
    "    cigars = []\n",
    "    tags_dict = {tag: [] for tag in tags}\n",
    "    for read in bam.fetch(chr, start, stop):\n",
    "        read_names.append(read.query_name)\n",
    "        chrs.append(read.reference_name)\n",
    "        chr_starts.append(read.reference_start)\n",
    "        strands.append(read.is_reverse)\n",
    "        cigars.append(read.cigarstring)\n",
    "        for add_tag in tags:\n",
    "                tags_dict[add_tag].append(read.get_tag(add_tag))\n",
    "    df = pd.DataFrame({'read_id': read_names,\n",
    "                       'chr_id': chrs,\n",
    "                       'chr_pos': chr_starts,\n",
    "                       'strand': strands,\n",
    "                       'cigar': cigars,\n",
    "                       **tags_dict})\n",
    "    df.strand.replace({True: '-', False: '+'}, inplace=True)\n",
    "    return df"
   ],
   "metadata": {
    "collapsed": false,
    "ExecuteTime": {
     "end_time": "2023-07-19T20:31:30.146052887Z",
     "start_time": "2023-07-19T20:31:30.096134307Z"
    }
   }
  },
  {
   "cell_type": "code",
   "execution_count": 149,
   "outputs": [
    {
     "data": {
      "text/plain": "                                  read_id chr_id  chr_pos strand  \\\n0    26281770-91c4-4624-b3d4-9e01fcb73d81    III  4193825      +   \n1    72cf64f9-956a-4318-8aae-e776bf688523    III  4193848      +   \n2    025d27cd-24b1-415f-bd05-896be99b4a68    III  4193894      +   \n3    ba2cacdf-0ac0-4e7e-904a-be23a358583e    III  4193895      +   \n4    707cdeee-7c82-4e64-9ed4-be764ca54fd1    III  4193896      +   \n..                                    ...    ...      ...    ...   \n322  fd8ef15a-b8e4-4913-998c-401426c250ae      X  6522383      +   \n323  f95032eb-4b53-4b73-9409-5ee17efa2be7      X  6522405      +   \n324  a39c596a-e638-480a-868c-de6451b2e8ff      X  6522411      +   \n325  c29499a4-2c61-458e-a5d9-437099fd48cc      X  6522443      +   \n326  11778197-067f-4d89-a02d-2958296e55e1      X  6522457      +   \n\n                                                 cigar         gene_id gene_name t5       rS  \\\n0    9S22M1I29M1I29M1D17M3D32M1I6M1I3M1I47M1D25M1D1...  WBGene00006959     xbp-1  -  4193825   \n1    28M1I5M4D40M4D38M1I29M1D64M2I9M1D24M3D16M1I51M...  WBGene00006959     xbp-1  -  4193848   \n2    11M1D19M4D6M3D2M2D13M2D7M3D56M1D32M1I78M3D16M1...  WBGene00006959     xbp-1  -  4193894   \n3    1S26M6D10M1D9M1I8M2D32M2D5M1D17M1D52M1D1M3D2M1...  WBGene00006959     xbp-1  -  4193895   \n4    3S29M4D3M3D4M2D5M1D49M1D17M1D21M1D5M1D43M1I2M1...  WBGene00006959     xbp-1  -  4193896   \n..                                                 ...             ...       ... ..      ...   \n322  12S21M3D19M1I47M3D12M2I7M2D2M2D6M3D16M2D20M2I9...  WBGene00017687     ets-4  -  6522383   \n323  9M1I73M1I8M2D8M3I15M1D7M3D12M2D17M3D9M1I10M1I3...  WBGene00017687     ets-4  -  6522405   \n324  2S17M1I1M1I6M2D4M1D25M2D5M2D7M1D5M3D5M1I15M2D6...  WBGene00017687     ets-4  -  6522411   \n325  5M1I26M2D11M1D7M2D16M1D12M2I17M1D40M1D41M1I26M10S  WBGene00017687     ets-4  -  6522443   \n326      13S56M3D4M1D26M1I22M2D6M1D6M1I14M1I23M3D25M8S  WBGene00017687     ets-4  -  6522457   \n\n          rE  \n0    4195352  \n1    4195356  \n2    4194378  \n3    4195352  \n4    4195354  \n..       ...  \n322  6522652  \n323  6522664  \n324  6522652  \n325  6522652  \n326  6522649  \n\n[327 rows x 10 columns]",
      "text/html": "<div>\n<style scoped>\n    .dataframe tbody tr th:only-of-type {\n        vertical-align: middle;\n    }\n\n    .dataframe tbody tr th {\n        vertical-align: top;\n    }\n\n    .dataframe thead th {\n        text-align: right;\n    }\n</style>\n<table border=\"1\" class=\"dataframe\">\n  <thead>\n    <tr style=\"text-align: right;\">\n      <th></th>\n      <th>read_id</th>\n      <th>chr_id</th>\n      <th>chr_pos</th>\n      <th>strand</th>\n      <th>cigar</th>\n      <th>gene_id</th>\n      <th>gene_name</th>\n      <th>t5</th>\n      <th>rS</th>\n      <th>rE</th>\n    </tr>\n  </thead>\n  <tbody>\n    <tr>\n      <th>0</th>\n      <td>26281770-91c4-4624-b3d4-9e01fcb73d81</td>\n      <td>III</td>\n      <td>4193825</td>\n      <td>+</td>\n      <td>9S22M1I29M1I29M1D17M3D32M1I6M1I3M1I47M1D25M1D1...</td>\n      <td>WBGene00006959</td>\n      <td>xbp-1</td>\n      <td>-</td>\n      <td>4193825</td>\n      <td>4195352</td>\n    </tr>\n    <tr>\n      <th>1</th>\n      <td>72cf64f9-956a-4318-8aae-e776bf688523</td>\n      <td>III</td>\n      <td>4193848</td>\n      <td>+</td>\n      <td>28M1I5M4D40M4D38M1I29M1D64M2I9M1D24M3D16M1I51M...</td>\n      <td>WBGene00006959</td>\n      <td>xbp-1</td>\n      <td>-</td>\n      <td>4193848</td>\n      <td>4195356</td>\n    </tr>\n    <tr>\n      <th>2</th>\n      <td>025d27cd-24b1-415f-bd05-896be99b4a68</td>\n      <td>III</td>\n      <td>4193894</td>\n      <td>+</td>\n      <td>11M1D19M4D6M3D2M2D13M2D7M3D56M1D32M1I78M3D16M1...</td>\n      <td>WBGene00006959</td>\n      <td>xbp-1</td>\n      <td>-</td>\n      <td>4193894</td>\n      <td>4194378</td>\n    </tr>\n    <tr>\n      <th>3</th>\n      <td>ba2cacdf-0ac0-4e7e-904a-be23a358583e</td>\n      <td>III</td>\n      <td>4193895</td>\n      <td>+</td>\n      <td>1S26M6D10M1D9M1I8M2D32M2D5M1D17M1D52M1D1M3D2M1...</td>\n      <td>WBGene00006959</td>\n      <td>xbp-1</td>\n      <td>-</td>\n      <td>4193895</td>\n      <td>4195352</td>\n    </tr>\n    <tr>\n      <th>4</th>\n      <td>707cdeee-7c82-4e64-9ed4-be764ca54fd1</td>\n      <td>III</td>\n      <td>4193896</td>\n      <td>+</td>\n      <td>3S29M4D3M3D4M2D5M1D49M1D17M1D21M1D5M1D43M1I2M1...</td>\n      <td>WBGene00006959</td>\n      <td>xbp-1</td>\n      <td>-</td>\n      <td>4193896</td>\n      <td>4195354</td>\n    </tr>\n    <tr>\n      <th>...</th>\n      <td>...</td>\n      <td>...</td>\n      <td>...</td>\n      <td>...</td>\n      <td>...</td>\n      <td>...</td>\n      <td>...</td>\n      <td>...</td>\n      <td>...</td>\n      <td>...</td>\n    </tr>\n    <tr>\n      <th>322</th>\n      <td>fd8ef15a-b8e4-4913-998c-401426c250ae</td>\n      <td>X</td>\n      <td>6522383</td>\n      <td>+</td>\n      <td>12S21M3D19M1I47M3D12M2I7M2D2M2D6M3D16M2D20M2I9...</td>\n      <td>WBGene00017687</td>\n      <td>ets-4</td>\n      <td>-</td>\n      <td>6522383</td>\n      <td>6522652</td>\n    </tr>\n    <tr>\n      <th>323</th>\n      <td>f95032eb-4b53-4b73-9409-5ee17efa2be7</td>\n      <td>X</td>\n      <td>6522405</td>\n      <td>+</td>\n      <td>9M1I73M1I8M2D8M3I15M1D7M3D12M2D17M3D9M1I10M1I3...</td>\n      <td>WBGene00017687</td>\n      <td>ets-4</td>\n      <td>-</td>\n      <td>6522405</td>\n      <td>6522664</td>\n    </tr>\n    <tr>\n      <th>324</th>\n      <td>a39c596a-e638-480a-868c-de6451b2e8ff</td>\n      <td>X</td>\n      <td>6522411</td>\n      <td>+</td>\n      <td>2S17M1I1M1I6M2D4M1D25M2D5M2D7M1D5M3D5M1I15M2D6...</td>\n      <td>WBGene00017687</td>\n      <td>ets-4</td>\n      <td>-</td>\n      <td>6522411</td>\n      <td>6522652</td>\n    </tr>\n    <tr>\n      <th>325</th>\n      <td>c29499a4-2c61-458e-a5d9-437099fd48cc</td>\n      <td>X</td>\n      <td>6522443</td>\n      <td>+</td>\n      <td>5M1I26M2D11M1D7M2D16M1D12M2I17M1D40M1D41M1I26M10S</td>\n      <td>WBGene00017687</td>\n      <td>ets-4</td>\n      <td>-</td>\n      <td>6522443</td>\n      <td>6522652</td>\n    </tr>\n    <tr>\n      <th>326</th>\n      <td>11778197-067f-4d89-a02d-2958296e55e1</td>\n      <td>X</td>\n      <td>6522457</td>\n      <td>+</td>\n      <td>13S56M3D4M1D26M1I22M2D6M1D6M1I14M1I23M3D25M8S</td>\n      <td>WBGene00017687</td>\n      <td>ets-4</td>\n      <td>-</td>\n      <td>6522457</td>\n      <td>6522649</td>\n    </tr>\n  </tbody>\n</table>\n<p>327 rows × 10 columns</p>\n</div>"
     },
     "execution_count": 149,
     "metadata": {},
     "output_type": "execute_result"
    }
   ],
   "source": [
    "quick_df = bam_tag_to_df(pysam.AlignmentFile(f\"/tmp/{npC.get_dt()}_{'_'.join(target_genes)}_{target_lib}.bam\", 'rb'), tags=['gA', 'gN', 't5', 'rS', 'rE']).rename(columns={'gA': 'gene_id', 'gN': 'gene_name'})\n",
    "quick_df"
   ],
   "metadata": {
    "collapsed": false,
    "ExecuteTime": {
     "end_time": "2023-07-19T20:31:33.625376319Z",
     "start_time": "2023-07-19T20:31:33.607834569Z"
    }
   }
  },
  {
   "cell_type": "code",
   "execution_count": 150,
   "outputs": [],
   "source": [
    "from matplotlib import pyplot as plt\n",
    "from matplotlib.collections import PatchCollection\n",
    "from matplotlib.patches import Rectangle\n",
    "import re\n",
    "get_dt = npC.get_dt\n",
    "\n",
    "\n",
    "def _make_rectangle_patch(genome_start, length, y_center, thickness, color='gray'):\n",
    "    return Rectangle((genome_start, y_center - (thickness / 2)), length, thickness,\n",
    "                     facecolor=color,\n",
    "                     edgecolor=color,\n",
    "                     fill=True,\n",
    "                     lw=0)\n",
    "\n",
    "\n",
    "def _add_patches_from_cigars_and_gen_pos(axes, cigar, gen_start, y, color='black', plot_introns=True):\n",
    "    # Parse the cigar string\n",
    "    parsed_cigar = re.findall(rf'(\\d+)([MDNSIX])', cigar)\n",
    "    mdn_nums = [int(num) for num, char in parsed_cigar if char in \"MDN\"]\n",
    "    gen_end = gen_start + sum(mdn_nums)\n",
    "    genomic_read_length = gen_end - gen_start\n",
    "\n",
    "    genome_loc = gen_start\n",
    "\n",
    "    rectangle_patch_list = []\n",
    "    first_n_length = 0\n",
    "    for length, code in parsed_cigar:\n",
    "        length = int(length)\n",
    "        if code == 'S':\n",
    "            pass\n",
    "        elif code == 'M':\n",
    "            rectangle_patch_list.append(_make_rectangle_patch(genome_loc, length, y, thickness=0.8))\n",
    "            genome_loc += length\n",
    "        elif code == 'D':\n",
    "            if length < 50:\n",
    "                rectangle_patch_list.append(_make_rectangle_patch(genome_loc, length, y, thickness=0.8))\n",
    "            else:\n",
    "                if plot_introns:\n",
    "                    rectangle_patch_list.append(_make_rectangle_patch(genome_loc, length, y, thickness=0.001))\n",
    "            genome_loc += length\n",
    "        elif code == 'I':\n",
    "            pass\n",
    "        elif code == 'N':\n",
    "            if plot_introns:\n",
    "                rectangle_patch_list.append(_make_rectangle_patch(genome_loc, length, y, thickness=0.001))\n",
    "            genome_loc += length\n",
    "    axes.add_collection(PatchCollection(rectangle_patch_list, color=color))\n",
    "    return genomic_read_length\n",
    "\n",
    "\n",
    "def _add_patches_from_cigars_and_gen_pos_gtp(axes, cigar, gen_start, y, color='black', plot_introns=True):\n",
    "    # Parse the cigar string\n",
    "    parsed_cigar = re.findall(rf'(\\d+)([MDNSIX])', cigar)\n",
    "    mdn_nums = [int(num) for num, char in parsed_cigar if char in \"MDN\"]\n",
    "    gen_end = gen_start + sum(mdn_nums)\n",
    "    genomic_read_length = gen_end - gen_start\n",
    "\n",
    "    genome_loc = gen_start\n",
    "\n",
    "    rectangle_patch_list = []\n",
    "    current_length = 0\n",
    "    for length, code in parsed_cigar:\n",
    "        length = int(length)\n",
    "        if code == 'S':\n",
    "            pass\n",
    "        elif code == 'M':\n",
    "            current_length += length\n",
    "            genome_loc += length\n",
    "        elif code == 'D':\n",
    "            current_length += length\n",
    "            genome_loc += length\n",
    "        elif code == 'I':\n",
    "            pass\n",
    "        elif code == 'N':\n",
    "            if plot_introns:\n",
    "                # Only add the accumulated length as a single rectangle if we encountered matches or deletes\n",
    "                if current_length > 0:\n",
    "                    rectangle_patch_list.append(_make_rectangle_patch(genome_loc - current_length, current_length, y, thickness=0.8))\n",
    "                    current_length = 0\n",
    "                rectangle_patch_list.append(_make_rectangle_patch(genome_loc, length, y, thickness=0.001))\n",
    "            genome_loc += length\n",
    "\n",
    "    # Add the accumulated length as a single rectangle if we reached the end of the cigar\n",
    "    if current_length > 0:\n",
    "        rectangle_patch_list.append(_make_rectangle_patch(genome_loc - current_length, current_length, y, thickness=0.8))\n",
    "\n",
    "    axes.add_collection(PatchCollection(rectangle_patch_list, color=color))\n",
    "\n",
    "    return genomic_read_length\n",
    "\n",
    "\n",
    "def _row_apply_plot_cigar(row, axes, plot_introns=True):\n",
    "    index = row.name\n",
    "    cigar = row.cigar\n",
    "    gen_start = row.ref_start\n",
    "    is_adapted = row.t5\n",
    "\n",
    "    if is_adapted == '-':\n",
    "        color = 'black'\n",
    "    else:\n",
    "        color = 'red'\n",
    "    return _add_patches_from_cigars_and_gen_pos_gtp(axes, cigar, gen_start, index,\n",
    "                                                    color=color,\n",
    "                                                    plot_introns=plot_introns)\n",
    "\n",
    "def new_plot_reads_from_bam(target_lib_nickname,\n",
    "                            target_gene_name,\n",
    "                            save_dir=None,\n",
    "                            ):\n",
    "    # First lets make the tmp BAM file that only has the gene of interest:\n",
    "    tmp_bam_path, short_gtf_df = create_cutdown_bam([target_gene_name], target_lib_nickname)\n",
    "    bam_df = bam_tag_to_df(tmp_bam_path, tags=['gA', 'gN', 't5', 'rS', 'rE', 'qL'])\n",
    "    bam_df.rename(columns={'gA': 'gene_name',\n",
    "                           'gN': 'gene_id',\n",
    "                           't5': 't5',\n",
    "                           'rS': 'ref_start',\n",
    "                           'rE': 'ref_end',\n",
    "                           'qL': 'read_length'},\n",
    "                  inplace=True)\n",
    "    read_count = bam_df.shape[0]\n",
    "    print(f\"{read_count:>6,} reads in {target_lib_nickname} that match {target_gene_name}\")\n",
    "    \n",
    "    # Get some gene info:\n",
    "    gene_id, chromosome, genomic_start, genomic_end, gene_strand = short_gtf_df.loc[short_gtf_df['gene_name'] == target_gene_name, ['gene_id', 'chr', 'start', 'end', 'strand']].values[0]\n",
    "    \n",
    "    # Now lets plot the reads:\n",
    "    fig, ax = plt.subplots(figsize=(5, (read_count * 0.05)))\n",
    "    \n",
    "    if gene_strand == \"-\":\n",
    "        sort_order = [\"t5\", \"ref_end\", \"ref_start\", \"read_length\"]\n",
    "        sort_order_ascending = [False, True, False, False]\n",
    "    else:  # gene_strand == \"+\":\n",
    "        sort_order = [\"t5\", \"ref_start\", \"ref_end\", \"read_length\"]\n",
    "        sort_order_ascending = [False, False, False, False]\n",
    "    tqdm.pandas(desc=\"Plotting Reads...\")\n",
    "    bam_df = bam_df.sort_values(sort_order, ascending=sort_order_ascending).reset_index(drop=True)\n",
    "    \n",
    "    tqdm.pandas(desc=\"Plotting Reads...\")\n",
    "    bam_df.progress_apply(lambda row: _row_apply_plot_cigar(row, ax), axis=1)\n",
    "\n",
    "    ax.set_xlim(genomic_start, genomic_end)\n",
    "    \n",
    "    number_of_plotted_reads = bam_df.shape[0]\n",
    "    ax.set_ylim(-1, number_of_plotted_reads + 1)\n",
    "    ax.set_xticks([])\n",
    "    ax.set_yticks([])\n",
    "    plt.tight_layout()\n",
    "    if save_dir is not None:\n",
    "        save_path = f\"{save_dir}/{get_dt()}_{target_lib_nickname}_{target_gene_name}.readPlotting\"\n",
    "        for suffix in [\"png\", \"svg\"]:\n",
    "            plt.savefig(f\"{save_path}.{suffix}\", dpi=300)\n",
    "        print(f\"Saved images to: {save_path}.png/svg\")\n",
    "    plt.show()\n",
    "    return bam_df"
   ],
   "metadata": {
    "collapsed": false,
    "ExecuteTime": {
     "end_time": "2023-07-19T20:31:34.111850303Z",
     "start_time": "2023-07-19T20:31:34.059357238Z"
    }
   }
  },
  {
   "cell_type": "code",
   "execution_count": 151,
   "outputs": [
    {
     "name": "stdout",
     "output_type": "stream",
     "text": [
      "Looking for file for 5tera_xrn-1-KD_wt_rerun, at /data16/marcus/working/230327_nanoporeRun_totalRNA_wt_xrn-1-KD_5TERA_rerun/output_dir/cat_files/*cat.sorted.mappedAndPrimary.bam... File Found.\n",
      "Working on ets-4 @ 07/19/23 @ 01:31:42 PM\n"
     ]
    },
    {
     "name": "stderr",
     "output_type": "stream",
     "text": [
      "45it [00:00, 30354.40it/s]\n"
     ]
    },
    {
     "name": "stdout",
     "output_type": "stream",
     "text": [
      "Done. Saved to: /tmp/230719_ets-4_newerN2.bam\n",
      "    36 reads in newerN2 that match ets-4\n"
     ]
    },
    {
     "name": "stderr",
     "output_type": "stream",
     "text": [
      "Plotting Reads...: 100%|██████████| 36/36 [00:00<00:00, 1969.23it/s]"
     ]
    },
    {
     "name": "stdout",
     "output_type": "stream",
     "text": [
      "Saved images to: /home/marcus/Insync/mviscard@ucsc.edu/Google Drive/insync_folder/NMD_cleavage_and_deadenylation_paper/raw_figures_from_python/230719_readPlots/ets-4/230719_newerN2_ets-4.readPlotting.png/svg\n"
     ]
    },
    {
     "name": "stderr",
     "output_type": "stream",
     "text": [
      "\n"
     ]
    },
    {
     "data": {
      "text/plain": "<Figure size 360x129.6 with 1 Axes>",
      "image/png": "[encoded data removed]"
     },
     "metadata": {},
     "output_type": "display_data"
    },
    {
     "name": "stdout",
     "output_type": "stream",
     "text": [
      "Looking for file for xrn-1-5tera, at /data16/marcus/working/211118_nanoporeRun_totalRNA_5108_xrn-1-KD_5TERA/output_dir/cat_files/*cat.sorted.mappedAndPrimary.bam... File Found.\n",
      "Working on ets-4 @ 07/19/23 @ 01:31:42 PM\n"
     ]
    },
    {
     "name": "stderr",
     "output_type": "stream",
     "text": [
      "41it [00:00, 494.66it/s]\n"
     ]
    },
    {
     "name": "stdout",
     "output_type": "stream",
     "text": [
      "Done. Saved to: /tmp/230719_ets-4_oldN2.bam\n",
      "    30 reads in oldN2 that match ets-4\n"
     ]
    },
    {
     "name": "stderr",
     "output_type": "stream",
     "text": [
      "Plotting Reads...: 100%|██████████| 30/30 [00:00<00:00, 2206.83it/s]\n"
     ]
    },
    {
     "name": "stdout",
     "output_type": "stream",
     "text": [
      "Saved images to: /home/marcus/Insync/mviscard@ucsc.edu/Google Drive/insync_folder/NMD_cleavage_and_deadenylation_paper/raw_figures_from_python/230719_readPlots/ets-4/230719_oldN2_ets-4.readPlotting.png/svg\n"
     ]
    },
    {
     "data": {
      "text/plain": "<Figure size 360x108 with 1 Axes>",
      "image/png": "[encoded data removed]"
     },
     "metadata": {},
     "output_type": "display_data"
    },
    {
     "name": "stdout",
     "output_type": "stream",
     "text": [
      "Looking for file for 5tera_xrn-1-KD_smg-6_rerun, at /data16/marcus/working/230403_nanoporeRun_totalRNA_smg-6_xrn-1-KD_5TERA_rerun/output_dir/cat_files/*cat.sorted.mappedAndPrimary.bam... File Found.\n",
      "Working on ets-4 @ 07/19/23 @ 01:31:43 PM\n"
     ]
    },
    {
     "name": "stderr",
     "output_type": "stream",
     "text": [
      "79it [00:00, 16821.51it/s]\n"
     ]
    },
    {
     "name": "stdout",
     "output_type": "stream",
     "text": [
      "Done. Saved to: /tmp/230719_ets-4_newerS6.bam\n",
      "    69 reads in newerS6 that match ets-4\n"
     ]
    },
    {
     "name": "stderr",
     "output_type": "stream",
     "text": [
      "Plotting Reads...: 100%|██████████| 69/69 [00:00<00:00, 1750.10it/s]\n"
     ]
    },
    {
     "name": "stdout",
     "output_type": "stream",
     "text": [
      "Saved images to: /home/marcus/Insync/mviscard@ucsc.edu/Google Drive/insync_folder/NMD_cleavage_and_deadenylation_paper/raw_figures_from_python/230719_readPlots/ets-4/230719_newerS6_ets-4.readPlotting.png/svg\n"
     ]
    },
    {
     "data": {
      "text/plain": "<Figure size 360x248.4 with 1 Axes>",
      "image/png": "[encoded data removed]"
     },
     "metadata": {},
     "output_type": "display_data"
    },
    {
     "name": "stdout",
     "output_type": "stream",
     "text": [
      "Looking for file for xrn-1-5tera-smg-6, at /data16/marcus/working/211210_nanoporeRun_totalRNA_2102_xrn-1-KD_5TERA/output_dir/cat_files/*cat.sorted.mappedAndPrimary.bam... File Found.\n",
      "Working on ets-4 @ 07/19/23 @ 01:31:44 PM\n"
     ]
    },
    {
     "name": "stderr",
     "output_type": "stream",
     "text": [
      "17it [00:00, 175.32it/s]\n"
     ]
    },
    {
     "name": "stdout",
     "output_type": "stream",
     "text": [
      "Done. Saved to: /tmp/230719_ets-4_oldS6.bam\n",
      "    11 reads in oldS6 that match ets-4\n"
     ]
    },
    {
     "name": "stderr",
     "output_type": "stream",
     "text": [
      "Plotting Reads...: 100%|██████████| 11/11 [00:00<00:00, 137.98it/s]"
     ]
    },
    {
     "name": "stdout",
     "output_type": "stream",
     "text": [
      "Saved images to: /home/marcus/Insync/mviscard@ucsc.edu/Google Drive/insync_folder/NMD_cleavage_and_deadenylation_paper/raw_figures_from_python/230719_readPlots/ets-4/230719_oldS6_ets-4.readPlotting.png/svg\n"
     ]
    },
    {
     "name": "stderr",
     "output_type": "stream",
     "text": [
      "\n"
     ]
    },
    {
     "data": {
      "text/plain": "<Figure size 360x39.6 with 1 Axes>",
      "image/png": "[encoded data removed]"
     },
     "metadata": {},
     "output_type": "display_data"
    },
    {
     "name": "stdout",
     "output_type": "stream",
     "text": [
      "Looking for file for 5tera_xrn-1-KD_smg-5_rerun, at /data16/marcus/working/230410_nanoporeRun_totalRNA_smg-5_xrn-1-KD_5TERA_rerun/output_dir/cat_files/*cat.sorted.mappedAndPrimary.bam... File Found.\n",
      "Working on ets-4 @ 07/19/23 @ 01:31:45 PM\n"
     ]
    },
    {
     "name": "stderr",
     "output_type": "stream",
     "text": [
      "52it [00:00, 1276.49it/s]\n"
     ]
    },
    {
     "name": "stdout",
     "output_type": "stream",
     "text": [
      "Done. Saved to: /tmp/230719_ets-4_newerS5.bam\n",
      "    43 reads in newerS5 that match ets-4\n"
     ]
    },
    {
     "name": "stderr",
     "output_type": "stream",
     "text": [
      "Plotting Reads...: 100%|██████████| 43/43 [00:00<00:00, 1845.14it/s]"
     ]
    },
    {
     "name": "stdout",
     "output_type": "stream",
     "text": [
      "Saved images to: /home/marcus/Insync/mviscard@ucsc.edu/Google Drive/insync_folder/NMD_cleavage_and_deadenylation_paper/raw_figures_from_python/230719_readPlots/ets-4/230719_newerS5_ets-4.readPlotting.png/svg\n"
     ]
    },
    {
     "name": "stderr",
     "output_type": "stream",
     "text": [
      "\n"
     ]
    },
    {
     "data": {
      "text/plain": "<Figure size 360x154.8 with 1 Axes>",
      "image/png": "[encoded data removed]"
     },
     "metadata": {},
     "output_type": "display_data"
    },
    {
     "name": "stdout",
     "output_type": "stream",
     "text": [
      "Looking for file for 5tera_xrn-1-KD_wt_rerun, at /data16/marcus/working/230327_nanoporeRun_totalRNA_wt_xrn-1-KD_5TERA_rerun/output_dir/cat_files/*cat.sorted.mappedAndPrimary.bam... File Found.\n",
      "Working on xbp-1 @ 07/19/23 @ 01:31:45 PM\n"
     ]
    },
    {
     "name": "stderr",
     "output_type": "stream",
     "text": [
      "106it [00:00, 695.91it/s]"
     ]
    },
    {
     "name": "stdout",
     "output_type": "stream",
     "text": [
      "Done. Saved to: /tmp/230719_xbp-1_newerN2.bam\n",
      "   105 reads in newerN2 that match xbp-1\n"
     ]
    },
    {
     "name": "stderr",
     "output_type": "stream",
     "text": [
      "\n",
      "Plotting Reads...: 100%|██████████| 105/105 [00:00<00:00, 1607.41it/s]\n"
     ]
    },
    {
     "name": "stdout",
     "output_type": "stream",
     "text": [
      "Saved images to: /home/marcus/Insync/mviscard@ucsc.edu/Google Drive/insync_folder/NMD_cleavage_and_deadenylation_paper/raw_figures_from_python/230719_readPlots/xbp-1/230719_newerN2_xbp-1.readPlotting.png/svg\n"
     ]
    },
    {
     "data": {
      "text/plain": "<Figure size 360x378 with 1 Axes>",
      "image/png": "[encoded data removed]"
     },
     "metadata": {},
     "output_type": "display_data"
    },
    {
     "name": "stdout",
     "output_type": "stream",
     "text": [
      "Looking for file for xrn-1-5tera, at /data16/marcus/working/211118_nanoporeRun_totalRNA_5108_xrn-1-KD_5TERA/output_dir/cat_files/*cat.sorted.mappedAndPrimary.bam... File Found.\n",
      "Working on xbp-1 @ 07/19/23 @ 01:31:46 PM\n"
     ]
    },
    {
     "name": "stderr",
     "output_type": "stream",
     "text": [
      "117it [00:00, 1255.23it/s]\n"
     ]
    },
    {
     "name": "stdout",
     "output_type": "stream",
     "text": [
      "Done. Saved to: /tmp/230719_xbp-1_oldN2.bam\n",
      "   117 reads in oldN2 that match xbp-1\n"
     ]
    },
    {
     "name": "stderr",
     "output_type": "stream",
     "text": [
      "Plotting Reads...: 100%|██████████| 117/117 [00:00<00:00, 1553.49it/s]\n"
     ]
    },
    {
     "name": "stdout",
     "output_type": "stream",
     "text": [
      "Saved images to: /home/marcus/Insync/mviscard@ucsc.edu/Google Drive/insync_folder/NMD_cleavage_and_deadenylation_paper/raw_figures_from_python/230719_readPlots/xbp-1/230719_oldN2_xbp-1.readPlotting.png/svg\n"
     ]
    },
    {
     "data": {
      "text/plain": "<Figure size 360x421.2 with 1 Axes>",
      "image/png": "[encoded data removed]"
     },
     "metadata": {},
     "output_type": "display_data"
    },
    {
     "name": "stdout",
     "output_type": "stream",
     "text": [
      "Looking for file for 5tera_xrn-1-KD_smg-6_rerun, at /data16/marcus/working/230403_nanoporeRun_totalRNA_smg-6_xrn-1-KD_5TERA_rerun/output_dir/cat_files/*cat.sorted.mappedAndPrimary.bam... File Found.\n",
      "Working on xbp-1 @ 07/19/23 @ 01:31:46 PM\n"
     ]
    },
    {
     "name": "stderr",
     "output_type": "stream",
     "text": [
      "240it [00:00, 13604.07it/s]\n"
     ]
    },
    {
     "name": "stdout",
     "output_type": "stream",
     "text": [
      "Done. Saved to: /tmp/230719_xbp-1_newerS6.bam\n",
      "   240 reads in newerS6 that match xbp-1\n"
     ]
    },
    {
     "name": "stderr",
     "output_type": "stream",
     "text": [
      "Plotting Reads...: 100%|██████████| 240/240 [00:00<00:00, 1681.59it/s]\n"
     ]
    },
    {
     "name": "stdout",
     "output_type": "stream",
     "text": [
      "Saved images to: /home/marcus/Insync/mviscard@ucsc.edu/Google Drive/insync_folder/NMD_cleavage_and_deadenylation_paper/raw_figures_from_python/230719_readPlots/xbp-1/230719_newerS6_xbp-1.readPlotting.png/svg\n"
     ]
    },
    {
     "data": {
      "text/plain": "<Figure size 360x864 with 1 Axes>",
      "image/png": "[encoded data removed]"
     },
     "metadata": {},
     "output_type": "display_data"
    },
    {
     "name": "stdout",
     "output_type": "stream",
     "text": [
      "Looking for file for xrn-1-5tera-smg-6, at /data16/marcus/working/211210_nanoporeRun_totalRNA_2102_xrn-1-KD_5TERA/output_dir/cat_files/*cat.sorted.mappedAndPrimary.bam... File Found.\n",
      "Working on xbp-1 @ 07/19/23 @ 01:31:47 PM\n"
     ]
    },
    {
     "name": "stderr",
     "output_type": "stream",
     "text": [
      "26it [00:00, 1305.49it/s]\n"
     ]
    },
    {
     "name": "stdout",
     "output_type": "stream",
     "text": [
      "Done. Saved to: /tmp/230719_xbp-1_oldS6.bam\n",
      "    26 reads in oldS6 that match xbp-1\n"
     ]
    },
    {
     "name": "stderr",
     "output_type": "stream",
     "text": [
      "Plotting Reads...: 100%|██████████| 26/26 [00:00<00:00, 1492.19it/s]"
     ]
    },
    {
     "name": "stdout",
     "output_type": "stream",
     "text": [
      "Saved images to: /home/marcus/Insync/mviscard@ucsc.edu/Google Drive/insync_folder/NMD_cleavage_and_deadenylation_paper/raw_figures_from_python/230719_readPlots/xbp-1/230719_oldS6_xbp-1.readPlotting.png/svg\n"
     ]
    },
    {
     "name": "stderr",
     "output_type": "stream",
     "text": [
      "\n"
     ]
    },
    {
     "data": {
      "text/plain": "<Figure size 360x93.6 with 1 Axes>",
      "image/png": "[encoded data removed]"
     },
     "metadata": {},
     "output_type": "display_data"
    },
    {
     "name": "stdout",
     "output_type": "stream",
     "text": [
      "Looking for file for 5tera_xrn-1-KD_smg-5_rerun, at /data16/marcus/working/230410_nanoporeRun_totalRNA_smg-5_xrn-1-KD_5TERA_rerun/output_dir/cat_files/*cat.sorted.mappedAndPrimary.bam... File Found.\n",
      "Working on xbp-1 @ 07/19/23 @ 01:31:48 PM\n"
     ]
    },
    {
     "name": "stderr",
     "output_type": "stream",
     "text": [
      "133it [00:00, 706.20it/s]\n"
     ]
    },
    {
     "name": "stdout",
     "output_type": "stream",
     "text": [
      "Done. Saved to: /tmp/230719_xbp-1_newerS5.bam\n",
      "   132 reads in newerS5 that match xbp-1\n"
     ]
    },
    {
     "name": "stderr",
     "output_type": "stream",
     "text": [
      "Plotting Reads...: 100%|██████████| 132/132 [00:00<00:00, 1705.16it/s]\n"
     ]
    },
    {
     "name": "stdout",
     "output_type": "stream",
     "text": [
      "Saved images to: /home/marcus/Insync/mviscard@ucsc.edu/Google Drive/insync_folder/NMD_cleavage_and_deadenylation_paper/raw_figures_from_python/230719_readPlots/xbp-1/230719_newerS5_xbp-1.readPlotting.png/svg\n"
     ]
    },
    {
     "data": {
      "text/plain": "<Figure size 360x475.2 with 1 Axes>",
      "image/png": "[encoded data removed]"
     },
     "metadata": {},
     "output_type": "display_data"
    },
    {
     "name": "stdout",
     "output_type": "stream",
     "text": [
      "Looking for file for 5tera_xrn-1-KD_wt_rerun, at /data16/marcus/working/230327_nanoporeRun_totalRNA_wt_xrn-1-KD_5TERA_rerun/output_dir/cat_files/*cat.sorted.mappedAndPrimary.bam... File Found.\n",
      "Working on zip-1 @ 07/19/23 @ 01:31:48 PM\n"
     ]
    },
    {
     "name": "stderr",
     "output_type": "stream",
     "text": [
      "36it [00:00, 452.00it/s]\n"
     ]
    },
    {
     "name": "stdout",
     "output_type": "stream",
     "text": [
      "Done. Saved to: /tmp/230719_zip-1_newerN2.bam\n",
      "     7 reads in newerN2 that match zip-1\n"
     ]
    },
    {
     "name": "stderr",
     "output_type": "stream",
     "text": [
      "Plotting Reads...: 100%|██████████| 7/7 [00:00<00:00, 1803.89it/s]"
     ]
    },
    {
     "name": "stdout",
     "output_type": "stream",
     "text": [
      "Saved images to: /home/marcus/Insync/mviscard@ucsc.edu/Google Drive/insync_folder/NMD_cleavage_and_deadenylation_paper/raw_figures_from_python/230719_readPlots/zip-1/230719_newerN2_zip-1.readPlotting.png/svg\n"
     ]
    },
    {
     "name": "stderr",
     "output_type": "stream",
     "text": [
      "\n"
     ]
    },
    {
     "data": {
      "text/plain": "<Figure size 360x25.2 with 1 Axes>",
      "image/png": "[encoded data removed]"
     },
     "metadata": {},
     "output_type": "display_data"
    },
    {
     "name": "stdout",
     "output_type": "stream",
     "text": [
      "Looking for file for xrn-1-5tera, at /data16/marcus/working/211118_nanoporeRun_totalRNA_5108_xrn-1-KD_5TERA/output_dir/cat_files/*cat.sorted.mappedAndPrimary.bam... File Found.\n",
      "Working on zip-1 @ 07/19/23 @ 01:31:49 PM\n"
     ]
    },
    {
     "name": "stderr",
     "output_type": "stream",
     "text": [
      "39it [00:00, 1604.68it/s]\n"
     ]
    },
    {
     "name": "stdout",
     "output_type": "stream",
     "text": [
      "Done. Saved to: /tmp/230719_zip-1_oldN2.bam\n",
      "     7 reads in oldN2 that match zip-1\n"
     ]
    },
    {
     "name": "stderr",
     "output_type": "stream",
     "text": [
      "Plotting Reads...: 100%|██████████| 7/7 [00:00<00:00, 1319.14it/s]"
     ]
    },
    {
     "name": "stdout",
     "output_type": "stream",
     "text": [
      "Saved images to: /home/marcus/Insync/mviscard@ucsc.edu/Google Drive/insync_folder/NMD_cleavage_and_deadenylation_paper/raw_figures_from_python/230719_readPlots/zip-1/230719_oldN2_zip-1.readPlotting.png/svg\n"
     ]
    },
    {
     "name": "stderr",
     "output_type": "stream",
     "text": [
      "\n"
     ]
    },
    {
     "data": {
      "text/plain": "<Figure size 360x25.2 with 1 Axes>",
      "image/png": "[encoded data removed]"
     },
     "metadata": {},
     "output_type": "display_data"
    },
    {
     "name": "stdout",
     "output_type": "stream",
     "text": [
      "Looking for file for 5tera_xrn-1-KD_smg-6_rerun, at /data16/marcus/working/230403_nanoporeRun_totalRNA_smg-6_xrn-1-KD_5TERA_rerun/output_dir/cat_files/*cat.sorted.mappedAndPrimary.bam... File Found.\n",
      "Working on zip-1 @ 07/19/23 @ 01:31:49 PM\n"
     ]
    },
    {
     "name": "stderr",
     "output_type": "stream",
     "text": [
      "42it [00:00, 23224.89it/s]\n"
     ]
    },
    {
     "name": "stdout",
     "output_type": "stream",
     "text": [
      "Done. Saved to: /tmp/230719_zip-1_newerS6.bam\n",
      "    18 reads in newerS6 that match zip-1\n"
     ]
    },
    {
     "name": "stderr",
     "output_type": "stream",
     "text": [
      "Plotting Reads...: 100%|██████████| 18/18 [00:00<00:00, 1147.73it/s]"
     ]
    },
    {
     "name": "stdout",
     "output_type": "stream",
     "text": [
      "Saved images to: /home/marcus/Insync/mviscard@ucsc.edu/Google Drive/insync_folder/NMD_cleavage_and_deadenylation_paper/raw_figures_from_python/230719_readPlots/zip-1/230719_newerS6_zip-1.readPlotting.png/svg\n"
     ]
    },
    {
     "name": "stderr",
     "output_type": "stream",
     "text": [
      "\n"
     ]
    },
    {
     "data": {
      "text/plain": "<Figure size 360x64.8 with 1 Axes>",
      "image/png": "[encoded data removed]"
     },
     "metadata": {},
     "output_type": "display_data"
    },
    {
     "name": "stdout",
     "output_type": "stream",
     "text": [
      "Looking for file for xrn-1-5tera-smg-6, at /data16/marcus/working/211210_nanoporeRun_totalRNA_2102_xrn-1-KD_5TERA/output_dir/cat_files/*cat.sorted.mappedAndPrimary.bam... File Found.\n",
      "Working on zip-1 @ 07/19/23 @ 01:31:50 PM\n"
     ]
    },
    {
     "name": "stderr",
     "output_type": "stream",
     "text": [
      "5it [00:00, 180.82it/s]\n"
     ]
    },
    {
     "name": "stdout",
     "output_type": "stream",
     "text": [
      "Done. Saved to: /tmp/230719_zip-1_oldS6.bam\n",
      "     3 reads in oldS6 that match zip-1\n"
     ]
    },
    {
     "name": "stderr",
     "output_type": "stream",
     "text": [
      "Plotting Reads...: 100%|██████████| 3/3 [00:00<00:00, 1467.22it/s]"
     ]
    },
    {
     "name": "stdout",
     "output_type": "stream",
     "text": [
      "Saved images to: /home/marcus/Insync/mviscard@ucsc.edu/Google Drive/insync_folder/NMD_cleavage_and_deadenylation_paper/raw_figures_from_python/230719_readPlots/zip-1/230719_oldS6_zip-1.readPlotting.png/svg\n"
     ]
    },
    {
     "name": "stderr",
     "output_type": "stream",
     "text": [
      "\n",
      "/tmp/ipykernel_47889/2519762848.py:147: UserWarning: Tight layout not applied. The bottom and top margins cannot be made large enough to accommodate all axes decorations.\n",
      "  plt.tight_layout()\n"
     ]
    },
    {
     "data": {
      "text/plain": "<Figure size 360x10.8 with 1 Axes>",
      "image/png": "[encoded data removed]"
     },
     "metadata": {},
     "output_type": "display_data"
    },
    {
     "name": "stdout",
     "output_type": "stream",
     "text": [
      "Looking for file for 5tera_xrn-1-KD_smg-5_rerun, at /data16/marcus/working/230410_nanoporeRun_totalRNA_smg-5_xrn-1-KD_5TERA_rerun/output_dir/cat_files/*cat.sorted.mappedAndPrimary.bam... File Found.\n",
      "Working on zip-1 @ 07/19/23 @ 01:31:50 PM\n"
     ]
    },
    {
     "name": "stderr",
     "output_type": "stream",
     "text": [
      "19it [00:00, 310.00it/s]\n"
     ]
    },
    {
     "name": "stdout",
     "output_type": "stream",
     "text": [
      "Done. Saved to: /tmp/230719_zip-1_newerS5.bam\n",
      "     9 reads in newerS5 that match zip-1\n"
     ]
    },
    {
     "name": "stderr",
     "output_type": "stream",
     "text": [
      "Plotting Reads...: 100%|██████████| 9/9 [00:00<00:00, 1401.37it/s]"
     ]
    },
    {
     "name": "stdout",
     "output_type": "stream",
     "text": [
      "Saved images to: /home/marcus/Insync/mviscard@ucsc.edu/Google Drive/insync_folder/NMD_cleavage_and_deadenylation_paper/raw_figures_from_python/230719_readPlots/zip-1/230719_newerS5_zip-1.readPlotting.png/svg\n"
     ]
    },
    {
     "name": "stderr",
     "output_type": "stream",
     "text": [
      "\n"
     ]
    },
    {
     "data": {
      "text/plain": "<Figure size 360x32.4 with 1 Axes>",
      "image/png": "[encoded data removed]"
     },
     "metadata": {},
     "output_type": "display_data"
    }
   ],
   "source": [
    "\n",
    "sup_save_dir = f\"/home/marcus/Insync/mviscard@ucsc.edu/Google Drive/insync_folder/NMD_cleavage_and_deadenylation_paper/raw_figures_from_python/{get_dt()}_readPlots\"\n",
    "for gene in [\"ets-4\",\n",
    "             \"xbp-1\",\n",
    "             \"zip-1\",\n",
    "             ]:\n",
    "    save_dir = f\"{sup_save_dir}/{gene}\"\n",
    "    Path(save_dir).mkdir(exist_ok=True, parents=True)\n",
    "    for lib in [\"newerN2\",\n",
    "                \"oldN2\",\n",
    "                \"newerS6\",\n",
    "                \"oldS6\",\n",
    "                \"newerS5\",\n",
    "                ]:\n",
    "        new_plot_reads_from_bam(lib, gene, save_dir=save_dir)"
   ],
   "metadata": {
    "collapsed": false,
    "ExecuteTime": {
     "end_time": "2023-07-19T20:31:50.594552953Z",
     "start_time": "2023-07-19T20:31:42.077028559Z"
    }
   }
  },
  {
   "cell_type": "code",
   "execution_count": null,
   "outputs": [],
   "source": [],
   "metadata": {
    "collapsed": false
   }
  }
 ],
 "metadata": {
  "kernelspec": {
   "display_name": "Python 3",
   "language": "python",
   "name": "python3"
  },
  "language_info": {
   "codemirror_mode": {
    "name": "ipython",
    "version": 2
   },
   "file_extension": ".py",
   "mimetype": "text/x-python",
   "name": "python",
   "nbconvert_exporter": "python",
   "pygments_lexer": "ipython2",
   "version": "2.7.6"
  }
 },
 "nbformat": 4,
 "nbformat_minor": 0
}
