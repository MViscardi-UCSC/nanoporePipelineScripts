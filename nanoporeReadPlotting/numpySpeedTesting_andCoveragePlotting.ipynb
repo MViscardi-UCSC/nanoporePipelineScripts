{
 "cells": [
  {
   "cell_type": "code",
   "execution_count": 2,
   "metadata": {
    "collapsed": true
   },
   "outputs": [],
   "source": [
    "import numpy as np\n",
    "import pandas as pd\n",
    "import re\n",
    "import sys\n",
    "sys.path.insert(0, '/data16/marcus/scripts/nanoporePipelineScripts')\n",
    "from nanoporePipelineCommon import *"
   ]
  },
  {
   "cell_type": "code",
   "execution_count": 2,
   "outputs": [
    {
     "name": "stdout",
     "output_type": "stream",
     "text": [
      "Looking for file for xrn-1-5tera-smg-6, at /data16/marcus/working/211210_nanoporeRun_totalRNA_2102_xrn-1-KD_5TERA/output_dir/cat_files/*cat.sorted.mappedAndPrimary.bam... File Found.\n",
      "06/16/22 @ 01:39:17 PM: Starting to load bam file from: /data16/marcus/working/211210_nanoporeRun_totalRNA_2102_xrn-1-KD_5TERA/output_dir/cat_files/cat.sorted.mappedAndPrimary.bam\n"
     ]
    },
    {
     "name": "stderr",
     "output_type": "stream",
     "text": [
      "Processing 3ff6e418-f2e2-471b-86e0-2e9036ed6041:   1%|          | 2731/243527 [00:01<01:35, 2514.86it/s]IOPub message rate exceeded.\n",
      "The notebook server will temporarily stop sending output\n",
      "to the client in order to avoid crashing it.\n",
      "To change this limit, set the config variable\n",
      "`--NotebookApp.iopub_msg_rate_limit`.\n",
      "\n",
      "Current values:\n",
      "NotebookApp.iopub_msg_rate_limit=1000.0 (msgs/sec)\n",
      "NotebookApp.rate_limit_window=3.0 (secs)\n",
      "\n",
      "Processing 86b48883-48fd-496a-85a0-6624082e914c:   5%|▍         | 11115/243527 [00:04<01:25, 2702.53it/s]IOPub message rate exceeded.\n",
      "The notebook server will temporarily stop sending output\n",
      "to the client in order to avoid crashing it.\n",
      "To change this limit, set the config variable\n",
      "`--NotebookApp.iopub_msg_rate_limit`.\n",
      "\n",
      "Current values:\n",
      "NotebookApp.iopub_msg_rate_limit=1000.0 (msgs/sec)\n",
      "NotebookApp.rate_limit_window=3.0 (secs)\n",
      "\n",
      "Processing face668d-f71e-4791-bfbc-507593e42b0d:   8%|▊         | 19585/243527 [00:07<01:16, 2912.31it/s]IOPub message rate exceeded.\n",
      "The notebook server will temporarily stop sending output\n",
      "to the client in order to avoid crashing it.\n",
      "To change this limit, set the config variable\n",
      "`--NotebookApp.iopub_msg_rate_limit`.\n",
      "\n",
      "Current values:\n",
      "NotebookApp.iopub_msg_rate_limit=1000.0 (msgs/sec)\n",
      "NotebookApp.rate_limit_window=3.0 (secs)\n",
      "\n",
      "Processing 94456d55-74d0-44d4-a910-200ddf4f44fa:  12%|█▏        | 29331/243527 [00:10<01:05, 3287.22it/s]IOPub message rate exceeded.\n",
      "The notebook server will temporarily stop sending output\n",
      "to the client in order to avoid crashing it.\n",
      "To change this limit, set the config variable\n",
      "`--NotebookApp.iopub_msg_rate_limit`.\n",
      "\n",
      "Current values:\n",
      "NotebookApp.iopub_msg_rate_limit=1000.0 (msgs/sec)\n",
      "NotebookApp.rate_limit_window=3.0 (secs)\n",
      "\n",
      "Processing c4485605-c98f-45b8-8497-0b911cc2acf6:  16%|█▋        | 39587/243527 [00:13<01:07, 3010.82it/s]IOPub message rate exceeded.\n",
      "The notebook server will temporarily stop sending output\n",
      "to the client in order to avoid crashing it.\n",
      "To change this limit, set the config variable\n",
      "`--NotebookApp.iopub_msg_rate_limit`.\n",
      "\n",
      "Current values:\n",
      "NotebookApp.iopub_msg_rate_limit=1000.0 (msgs/sec)\n",
      "NotebookApp.rate_limit_window=3.0 (secs)\n",
      "\n",
      "Processing 8058f0e6-f540-46ad-8e54-b3a17e657c00:  20%|██        | 49371/243527 [00:17<01:02, 3128.28it/s]IOPub message rate exceeded.\n",
      "The notebook server will temporarily stop sending output\n",
      "to the client in order to avoid crashing it.\n",
      "To change this limit, set the config variable\n",
      "`--NotebookApp.iopub_msg_rate_limit`.\n",
      "\n",
      "Current values:\n",
      "NotebookApp.iopub_msg_rate_limit=1000.0 (msgs/sec)\n",
      "NotebookApp.rate_limit_window=3.0 (secs)\n",
      "\n",
      "Processing f55e3c9b-73de-4bc8-85d4-ed86e4d57407:  24%|██▍       | 58816/243527 [00:20<01:08, 2679.10it/s]IOPub message rate exceeded.\n",
      "The notebook server will temporarily stop sending output\n",
      "to the client in order to avoid crashing it.\n",
      "To change this limit, set the config variable\n",
      "`--NotebookApp.iopub_msg_rate_limit`.\n",
      "\n",
      "Current values:\n",
      "NotebookApp.iopub_msg_rate_limit=1000.0 (msgs/sec)\n",
      "NotebookApp.rate_limit_window=3.0 (secs)\n",
      "\n",
      "Processing 17ee77c6-93e7-400e-989c-97cae159b05b:  28%|██▊       | 68055/243527 [00:23<00:54, 3213.49it/s]IOPub message rate exceeded.\n",
      "The notebook server will temporarily stop sending output\n",
      "to the client in order to avoid crashing it.\n",
      "To change this limit, set the config variable\n",
      "`--NotebookApp.iopub_msg_rate_limit`.\n",
      "\n",
      "Current values:\n",
      "NotebookApp.iopub_msg_rate_limit=1000.0 (msgs/sec)\n",
      "NotebookApp.rate_limit_window=3.0 (secs)\n",
      "\n",
      "Processing 417740e4-352f-4b1c-8dd7-09dd8a91b14a:  32%|███▏      | 78534/243527 [00:26<00:52, 3148.44it/s]IOPub message rate exceeded.\n",
      "The notebook server will temporarily stop sending output\n",
      "to the client in order to avoid crashing it.\n",
      "To change this limit, set the config variable\n",
      "`--NotebookApp.iopub_msg_rate_limit`.\n",
      "\n",
      "Current values:\n",
      "NotebookApp.iopub_msg_rate_limit=1000.0 (msgs/sec)\n",
      "NotebookApp.rate_limit_window=3.0 (secs)\n",
      "\n",
      "Processing e6c8ad0b-9a2a-440a-843c-e828f3114d1c:  36%|███▋      | 88654/243527 [00:29<00:50, 3095.89it/s]IOPub message rate exceeded.\n",
      "The notebook server will temporarily stop sending output\n",
      "to the client in order to avoid crashing it.\n",
      "To change this limit, set the config variable\n",
      "`--NotebookApp.iopub_msg_rate_limit`.\n",
      "\n",
      "Current values:\n",
      "NotebookApp.iopub_msg_rate_limit=1000.0 (msgs/sec)\n",
      "NotebookApp.rate_limit_window=3.0 (secs)\n",
      "\n",
      "Processing ac02fcc4-797a-42c4-93b6-82cc5318e40d:  41%|████      | 98688/243527 [00:33<00:54, 2640.36it/s]IOPub message rate exceeded.\n",
      "The notebook server will temporarily stop sending output\n",
      "to the client in order to avoid crashing it.\n",
      "To change this limit, set the config variable\n",
      "`--NotebookApp.iopub_msg_rate_limit`.\n",
      "\n",
      "Current values:\n",
      "NotebookApp.iopub_msg_rate_limit=1000.0 (msgs/sec)\n",
      "NotebookApp.rate_limit_window=3.0 (secs)\n",
      "\n",
      "Processing 022d0ebf-793f-4253-879d-43cdf9eb6fc1:  44%|████▍     | 107294/243527 [00:36<00:54, 2507.23it/s]IOPub message rate exceeded.\n",
      "The notebook server will temporarily stop sending output\n",
      "to the client in order to avoid crashing it.\n",
      "To change this limit, set the config variable\n",
      "`--NotebookApp.iopub_msg_rate_limit`.\n",
      "\n",
      "Current values:\n",
      "NotebookApp.iopub_msg_rate_limit=1000.0 (msgs/sec)\n",
      "NotebookApp.rate_limit_window=3.0 (secs)\n",
      "\n",
      "Processing 4ccd0b06-6de6-4dcd-a3fa-3b8d36f18ef5:  47%|████▋     | 115530/243527 [00:39<00:46, 2730.60it/s]IOPub message rate exceeded.\n",
      "The notebook server will temporarily stop sending output\n",
      "to the client in order to avoid crashing it.\n",
      "To change this limit, set the config variable\n",
      "`--NotebookApp.iopub_msg_rate_limit`.\n",
      "\n",
      "Current values:\n",
      "NotebookApp.iopub_msg_rate_limit=1000.0 (msgs/sec)\n",
      "NotebookApp.rate_limit_window=3.0 (secs)\n",
      "\n",
      "Processing c58ce56d-45ae-409d-9d11-e1bbb59d6de7:  51%|█████▏    | 125071/243527 [00:42<00:38, 3053.47it/s]IOPub message rate exceeded.\n",
      "The notebook server will temporarily stop sending output\n",
      "to the client in order to avoid crashing it.\n",
      "To change this limit, set the config variable\n",
      "`--NotebookApp.iopub_msg_rate_limit`.\n",
      "\n",
      "Current values:\n",
      "NotebookApp.iopub_msg_rate_limit=1000.0 (msgs/sec)\n",
      "NotebookApp.rate_limit_window=3.0 (secs)\n",
      "\n",
      "Processing e14e8b87-69f9-404b-bf52-523f1e216b0e:  55%|█████▌    | 134794/243527 [00:45<00:36, 2970.24it/s]IOPub message rate exceeded.\n",
      "The notebook server will temporarily stop sending output\n",
      "to the client in order to avoid crashing it.\n",
      "To change this limit, set the config variable\n",
      "`--NotebookApp.iopub_msg_rate_limit`.\n",
      "\n",
      "Current values:\n",
      "NotebookApp.iopub_msg_rate_limit=1000.0 (msgs/sec)\n",
      "NotebookApp.rate_limit_window=3.0 (secs)\n",
      "\n",
      "Processing cc656f8d-bb71-407d-b1d2-25c33955c6ba:  59%|█████▉    | 144628/243527 [00:49<00:36, 2734.50it/s]IOPub message rate exceeded.\n",
      "The notebook server will temporarily stop sending output\n",
      "to the client in order to avoid crashing it.\n",
      "To change this limit, set the config variable\n",
      "`--NotebookApp.iopub_msg_rate_limit`.\n",
      "\n",
      "Current values:\n",
      "NotebookApp.iopub_msg_rate_limit=1000.0 (msgs/sec)\n",
      "NotebookApp.rate_limit_window=3.0 (secs)\n",
      "\n",
      "Processing 1d18d8f4-2e3a-4106-a325-07afd49b575a:  63%|██████▎   | 153332/243527 [00:52<00:31, 2901.30it/s]IOPub message rate exceeded.\n",
      "The notebook server will temporarily stop sending output\n",
      "to the client in order to avoid crashing it.\n",
      "To change this limit, set the config variable\n",
      "`--NotebookApp.iopub_msg_rate_limit`.\n",
      "\n",
      "Current values:\n",
      "NotebookApp.iopub_msg_rate_limit=1000.0 (msgs/sec)\n",
      "NotebookApp.rate_limit_window=3.0 (secs)\n",
      "\n",
      "Processing 4e15c1c3-a296-4487-bfcf-86682641e27c:  67%|██████▋   | 162568/243527 [00:55<00:26, 3005.90it/s]IOPub message rate exceeded.\n",
      "The notebook server will temporarily stop sending output\n",
      "to the client in order to avoid crashing it.\n",
      "To change this limit, set the config variable\n",
      "`--NotebookApp.iopub_msg_rate_limit`.\n",
      "\n",
      "Current values:\n",
      "NotebookApp.iopub_msg_rate_limit=1000.0 (msgs/sec)\n",
      "NotebookApp.rate_limit_window=3.0 (secs)\n",
      "\n",
      "Processing 80905b2f-be6a-4c85-b811-267b5e1dd0d2:  71%|███████   | 171796/243527 [00:58<00:23, 3090.09it/s]IOPub message rate exceeded.\n",
      "The notebook server will temporarily stop sending output\n",
      "to the client in order to avoid crashing it.\n",
      "To change this limit, set the config variable\n",
      "`--NotebookApp.iopub_msg_rate_limit`.\n",
      "\n",
      "Current values:\n",
      "NotebookApp.iopub_msg_rate_limit=1000.0 (msgs/sec)\n",
      "NotebookApp.rate_limit_window=3.0 (secs)\n",
      "\n",
      "Processing 84fc6048-0ace-48c6-89fe-f81547c78c3e:  75%|███████▍  | 182056/243527 [01:01<00:19, 3129.34it/s]IOPub message rate exceeded.\n",
      "The notebook server will temporarily stop sending output\n",
      "to the client in order to avoid crashing it.\n",
      "To change this limit, set the config variable\n",
      "`--NotebookApp.iopub_msg_rate_limit`.\n",
      "\n",
      "Current values:\n",
      "NotebookApp.iopub_msg_rate_limit=1000.0 (msgs/sec)\n",
      "NotebookApp.rate_limit_window=3.0 (secs)\n",
      "\n",
      "Processing 859bf9e6-81a4-46a1-ba55-7b84f7b46ab9:  79%|███████▊  | 191238/243527 [01:05<00:18, 2758.39it/s]IOPub message rate exceeded.\n",
      "The notebook server will temporarily stop sending output\n",
      "to the client in order to avoid crashing it.\n",
      "To change this limit, set the config variable\n",
      "`--NotebookApp.iopub_msg_rate_limit`.\n",
      "\n",
      "Current values:\n",
      "NotebookApp.iopub_msg_rate_limit=1000.0 (msgs/sec)\n",
      "NotebookApp.rate_limit_window=3.0 (secs)\n",
      "\n",
      "Processing fed275f7-df94-4eab-bd36-ee0d124ffdb1:  82%|████████▏ | 200562/243527 [01:08<00:16, 2638.14it/s]IOPub message rate exceeded.\n",
      "The notebook server will temporarily stop sending output\n",
      "to the client in order to avoid crashing it.\n",
      "To change this limit, set the config variable\n",
      "`--NotebookApp.iopub_msg_rate_limit`.\n",
      "\n",
      "Current values:\n",
      "NotebookApp.iopub_msg_rate_limit=1000.0 (msgs/sec)\n",
      "NotebookApp.rate_limit_window=3.0 (secs)\n",
      "\n",
      "Processing c4502f4d-8921-4931-8df4-8cdc2be8a5de:  86%|████████▌ | 208959/243527 [01:11<00:13, 2565.14it/s]IOPub message rate exceeded.\n",
      "The notebook server will temporarily stop sending output\n",
      "to the client in order to avoid crashing it.\n",
      "To change this limit, set the config variable\n",
      "`--NotebookApp.iopub_msg_rate_limit`.\n",
      "\n",
      "Current values:\n",
      "NotebookApp.iopub_msg_rate_limit=1000.0 (msgs/sec)\n",
      "NotebookApp.rate_limit_window=3.0 (secs)\n",
      "\n",
      "Processing 082e50d9-5edf-4fc4-9741-0a7c89a7ddd7:  89%|████████▉ | 217628/243527 [01:15<00:12, 2111.68it/s]IOPub message rate exceeded.\n",
      "The notebook server will temporarily stop sending output\n",
      "to the client in order to avoid crashing it.\n",
      "To change this limit, set the config variable\n",
      "`--NotebookApp.iopub_msg_rate_limit`.\n",
      "\n",
      "Current values:\n",
      "NotebookApp.iopub_msg_rate_limit=1000.0 (msgs/sec)\n",
      "NotebookApp.rate_limit_window=3.0 (secs)\n",
      "\n",
      "Processing a84084a6-656e-4755-bab8-28a0e0bd15ad:  93%|█████████▎| 226338/243527 [01:18<00:06, 2827.70it/s]IOPub message rate exceeded.\n",
      "The notebook server will temporarily stop sending output\n",
      "to the client in order to avoid crashing it.\n",
      "To change this limit, set the config variable\n",
      "`--NotebookApp.iopub_msg_rate_limit`.\n",
      "\n",
      "Current values:\n",
      "NotebookApp.iopub_msg_rate_limit=1000.0 (msgs/sec)\n",
      "NotebookApp.rate_limit_window=3.0 (secs)\n",
      "\n",
      "Processing c044a984-bac7-403e-b997-d632b37c68ad:  96%|█████████▋| 234903/243527 [01:21<00:03, 2732.85it/s]IOPub message rate exceeded.\n",
      "The notebook server will temporarily stop sending output\n",
      "to the client in order to avoid crashing it.\n",
      "To change this limit, set the config variable\n",
      "`--NotebookApp.iopub_msg_rate_limit`.\n",
      "\n",
      "Current values:\n",
      "NotebookApp.iopub_msg_rate_limit=1000.0 (msgs/sec)\n",
      "NotebookApp.rate_limit_window=3.0 (secs)\n",
      "\n",
      "Processing bc4169bc-e287-4279-8c3c-71fcc95cd202: 100%|██████████| 243527/243527 [01:24<00:00, 2886.02it/s]\n"
     ]
    },
    {
     "name": "stdout",
     "output_type": "stream",
     "text": [
      "06/16/22 @ 01:40:43 PM: Finished loading bam file!\n",
      "library loading done!\n"
     ]
    }
   ],
   "source": [
    "from tqdm.notebook import tqdm\n",
    "bam_path = pick_lib_return_path(\"xrn-1-5tera-smg-6\",\n",
    "                                output_dir_folder=\"cat_files\",\n",
    "                                file_midfix=\"cat.sorted.mappedAndPrimary\",\n",
    "                                file_suffix=\"bam\",\n",
    "                                )\n",
    "bam_df = SamOrBamFile(bam_path,\n",
    "                      ).df\n",
    "print(\"library loading done!\")"
   ],
   "metadata": {
    "collapsed": false
   }
  },
  {
   "cell_type": "code",
   "execution_count": 12,
   "outputs": [],
   "source": [
    "# DO NOT USE THIS TECHNIQUE! The other is worlds faster\n",
    "def array_for_each_read(cigars_and_genomic_starts, chr_length) -> np.array:  # DO NOT USE THIS\n",
    "    coverage_array = np.zeros([chr_length], dtype=np.uint32)\n",
    "    cigar_parsing_iterator = tqdm(cigars_and_genomic_starts, desc=f\"Building coverage by making sub arrays\")\n",
    "    for cigar, genomic_start in cigar_parsing_iterator:\n",
    "        genomic_pos = genomic_start\n",
    "        parsed_cigar = re.findall(rf'(\\d+)([MDNSIX])', cigar)\n",
    "        parsed_cigar = [(int(length), code) for (length, code) in parsed_cigar]\n",
    "    \n",
    "        read_coverage_array = np.zeros([chr_length], dtype=np.uint32)\n",
    "    \n",
    "        for length, code in parsed_cigar:\n",
    "            if code in ['N', 'D']:\n",
    "                genomic_pos += length\n",
    "            elif code in ['M']:\n",
    "                read_coverage_array[genomic_pos:genomic_pos + length] = 1\n",
    "                genomic_pos += length\n",
    "        coverage_array += read_coverage_array\n",
    "    return coverage_array\n",
    "\n",
    "\n",
    "def _add_to_main_array_for_each_read(cigars_and_genomic_starts, chr_length, count_Ds_as_maps=False) -> np.array:\n",
    "    coverage_array = np.zeros([chr_length], dtype=np.uint32)\n",
    "    cigar_parsing_iterator = tqdm(cigars_and_genomic_starts, desc=f\"Building coverage by adding to main array\")\n",
    "    \n",
    "    gaps = ['N']  # introns\n",
    "    maps = ['M']  # mapped segments\n",
    "    if count_Ds_as_maps:\n",
    "        maps.append('D')\n",
    "    else:\n",
    "        gaps.append('D')\n",
    "    for cigar, genomic_start in cigar_parsing_iterator:\n",
    "        genomic_pos = genomic_start\n",
    "        parsed_cigar = re.findall(rf'(\\d+)([MDNSIX])', cigar)\n",
    "        parsed_cigar = [(int(length), code) for (length, code) in parsed_cigar]\n",
    "    \n",
    "        for length, code in parsed_cigar:\n",
    "            if code in gaps:\n",
    "                genomic_pos += length\n",
    "            elif code in maps:  # TODO: the D \"belongs\" above, but not yet...\n",
    "                coverage_array[genomic_pos:genomic_pos + length] += 1\n",
    "                genomic_pos += length\n",
    "    return coverage_array\n",
    "\n",
    "\n",
    "def _run_coverage_calc(bam_df, chrs=(\"I\", \"II\", \"III\", \"IV\", \"V\", \"MtDNA\"), count_Ds_as_maps=False):\n",
    "    if \"original_chr_pos\" in bam_df.columns:\n",
    "        gen_pos_col = \"original_chr_pos\"\n",
    "    else:\n",
    "        gen_pos_col = \"chr_pos\"\n",
    "    \n",
    "    # These are actually annotation ends:\n",
    "    chr_max_length_dict = {'I': 15072426,\n",
    "                           'II': 15279420,\n",
    "                           'III': 13783459,\n",
    "                           'IV': 17493829,\n",
    "                           'V': 20922738,\n",
    "                           'MtDNA': 13327}\n",
    "    # Because of some python weirdness, we need to turn single chromosomes into lists!\n",
    "    if not isinstance(chrs, (list, tuple)):\n",
    "        chrs = [chrs]\n",
    "    \n",
    "    # First filter the chr dict, so we only use the ones that showed up in the method call:\n",
    "    chr_max_length_dict = {chromosome: length for chromosome, length\n",
    "                           in chr_max_length_dict.items()\n",
    "                           if chromosome in chrs}\n",
    "    array_dict = {}\n",
    "    for chromosome, chr_length in chr_max_length_dict.items():\n",
    "        print(f\"Starting to build coverage array for chromosome: {chromosome}\")\n",
    "        chr_df = bam_df.query(f\"chr_id == '{chromosome}'\")\n",
    "        cigars_and_genomic_start_positions = list(zip(chr_df.cigar.to_list(), chr_df[gen_pos_col].to_list()))\n",
    "        coverage_array = _add_to_main_array_for_each_read(cigars_and_genomic_start_positions, chr_length, count_Ds_as_maps=count_Ds_as_maps)\n",
    "        array_dict[chromosome] = coverage_array\n",
    "    return array_dict"
   ],
   "metadata": {
    "collapsed": false
   }
  },
  {
   "cell_type": "code",
   "execution_count": 27,
   "outputs": [
    {
     "name": "stdout",
     "output_type": "stream",
     "text": [
      "Starting to build coverage array for chromosome: I\n"
     ]
    },
    {
     "data": {
      "text/plain": "Building coverage by adding to main array:   0%|          | 0/1956 [00:00<?, ?it/s]",
      "application/vnd.jupyter.widget-view+json": {
       "version_major": 2,
       "version_minor": 0,
       "model_id": "6233a77c5d5c4fd3bf958dc8909cc27d"
      }
     },
     "metadata": {},
     "output_type": "display_data"
    },
    {
     "name": "stdout",
     "output_type": "stream",
     "text": [
      "Starting to build coverage array for chromosome: II\n"
     ]
    },
    {
     "data": {
      "text/plain": "Building coverage by adding to main array:   0%|          | 0/675 [00:00<?, ?it/s]",
      "application/vnd.jupyter.widget-view+json": {
       "version_major": 2,
       "version_minor": 0,
       "model_id": "bb630471900c40048ce96f79792fdcfd"
      }
     },
     "metadata": {},
     "output_type": "display_data"
    },
    {
     "name": "stdout",
     "output_type": "stream",
     "text": [
      "Starting to build coverage array for chromosome: III\n"
     ]
    },
    {
     "data": {
      "text/plain": "Building coverage by adding to main array:   0%|          | 0/501 [00:00<?, ?it/s]",
      "application/vnd.jupyter.widget-view+json": {
       "version_major": 2,
       "version_minor": 0,
       "model_id": "17dc2ac66c574296a210e593b603b2e8"
      }
     },
     "metadata": {},
     "output_type": "display_data"
    },
    {
     "name": "stdout",
     "output_type": "stream",
     "text": [
      "Starting to build coverage array for chromosome: IV\n"
     ]
    },
    {
     "data": {
      "text/plain": "Building coverage by adding to main array:   0%|          | 0/610 [00:00<?, ?it/s]",
      "application/vnd.jupyter.widget-view+json": {
       "version_major": 2,
       "version_minor": 0,
       "model_id": "792b26a123be414b9c7a056d03b5f73c"
      }
     },
     "metadata": {},
     "output_type": "display_data"
    },
    {
     "name": "stdout",
     "output_type": "stream",
     "text": [
      "Starting to build coverage array for chromosome: V\n"
     ]
    },
    {
     "data": {
      "text/plain": "Building coverage by adding to main array:   0%|          | 0/601 [00:00<?, ?it/s]",
      "application/vnd.jupyter.widget-view+json": {
       "version_major": 2,
       "version_minor": 0,
       "model_id": "d65b2e683f874281bb3ecb9bf205b2c9"
      }
     },
     "metadata": {},
     "output_type": "display_data"
    },
    {
     "name": "stdout",
     "output_type": "stream",
     "text": [
      "Starting to build coverage array for chromosome: MtDNA\n"
     ]
    },
    {
     "data": {
      "text/plain": "Building coverage by adding to main array:   0%|          | 0/5092 [00:00<?, ?it/s]",
      "application/vnd.jupyter.widget-view+json": {
       "version_major": 2,
       "version_minor": 0,
       "model_id": "04f185394a0a4884b90010480ac426ab"
      }
     },
     "metadata": {},
     "output_type": "display_data"
    },
    {
     "name": "stdout",
     "output_type": "stream",
     "text": [
      "Starting to build coverage array for chromosome: I\n"
     ]
    },
    {
     "data": {
      "text/plain": "Building coverage by adding to main array:   0%|          | 0/41947 [00:00<?, ?it/s]",
      "application/vnd.jupyter.widget-view+json": {
       "version_major": 2,
       "version_minor": 0,
       "model_id": "2029ec13b8f54d5ba5d39813191eda08"
      }
     },
     "metadata": {},
     "output_type": "display_data"
    },
    {
     "name": "stdout",
     "output_type": "stream",
     "text": [
      "Starting to build coverage array for chromosome: II\n"
     ]
    },
    {
     "data": {
      "text/plain": "Building coverage by adding to main array:   0%|          | 0/42168 [00:00<?, ?it/s]",
      "application/vnd.jupyter.widget-view+json": {
       "version_major": 2,
       "version_minor": 0,
       "model_id": "8a744001571e46a68686fb5637ff5b53"
      }
     },
     "metadata": {},
     "output_type": "display_data"
    },
    {
     "name": "stdout",
     "output_type": "stream",
     "text": [
      "Starting to build coverage array for chromosome: III\n"
     ]
    },
    {
     "data": {
      "text/plain": "Building coverage by adding to main array:   0%|          | 0/30922 [00:00<?, ?it/s]",
      "application/vnd.jupyter.widget-view+json": {
       "version_major": 2,
       "version_minor": 0,
       "model_id": "5f66da80d90a4a81b5065a634936a483"
      }
     },
     "metadata": {},
     "output_type": "display_data"
    },
    {
     "name": "stdout",
     "output_type": "stream",
     "text": [
      "Starting to build coverage array for chromosome: IV\n"
     ]
    },
    {
     "data": {
      "text/plain": "Building coverage by adding to main array:   0%|          | 0/34922 [00:00<?, ?it/s]",
      "application/vnd.jupyter.widget-view+json": {
       "version_major": 2,
       "version_minor": 0,
       "model_id": "c4b57e63fcef47d4ac9f66c7fcc97e0e"
      }
     },
     "metadata": {},
     "output_type": "display_data"
    },
    {
     "name": "stdout",
     "output_type": "stream",
     "text": [
      "Starting to build coverage array for chromosome: V\n"
     ]
    },
    {
     "data": {
      "text/plain": "Building coverage by adding to main array:   0%|          | 0/33320 [00:00<?, ?it/s]",
      "application/vnd.jupyter.widget-view+json": {
       "version_major": 2,
       "version_minor": 0,
       "model_id": "ed9cad624321433f97ef4fa7ee9ef883"
      }
     },
     "metadata": {},
     "output_type": "display_data"
    },
    {
     "name": "stdout",
     "output_type": "stream",
     "text": [
      "Starting to build coverage array for chromosome: MtDNA\n"
     ]
    },
    {
     "data": {
      "text/plain": "Building coverage by adding to main array:   0%|          | 0/18197 [00:00<?, ?it/s]",
      "application/vnd.jupyter.widget-view+json": {
       "version_major": 2,
       "version_minor": 0,
       "model_id": "100009e65bc5416da82a568988dcfec9"
      }
     },
     "metadata": {},
     "output_type": "display_data"
    }
   ],
   "source": [
    "# coverage_dict_adapted = _run_coverage_calc(bam_df, technique_method=_add_to_main_array_for_each_read)\n",
    "coverage_dict_adapted = _run_coverage_calc(bam_df.query(\"t5 == '+'\"), technique_method=_add_to_main_array_for_each_read)\n",
    "coverage_dict_unadapted = _run_coverage_calc(bam_df.query(\"t5 == '-'\"), technique_method=_add_to_main_array_for_each_read)"
   ],
   "metadata": {
    "collapsed": false
   }
  },
  {
   "cell_type": "markdown",
   "source": [
    "HOLY CRAP! Adding to the main array rather than building sub-arrays and combining is SOOOOO much faster it's crazy\n",
    "Can do a quart million reads in ~25 seconds"
   ],
   "metadata": {
    "collapsed": false
   }
  },
  {
   "cell_type": "code",
   "execution_count": 7,
   "outputs": [
    {
     "name": "stdout",
     "output_type": "stream",
     "text": [
      "Generating subfigure for chromosome: I\n",
      "Generating subfigure for chromosome: II\n",
      "Generating subfigure for chromosome: III\n",
      "Generating subfigure for chromosome: IV\n",
      "Generating subfigure for chromosome: V\n",
      "Generating subfigure for chromosome: MtDNA\n"
     ]
    },
    {
     "data": {
      "text/plain": "<Figure size 1440x720 with 6 Axes>",
      "image/png": "[encoded data removed]"
     },
     "metadata": {
      "needs_background": "light"
     },
     "output_type": "display_data"
    }
   ],
   "source": [
    "# import matplotlib.pyplot as plt\n",
    "# \n",
    "# fig, ax = plt.subplots(len(coverage_dict), 1,\n",
    "#                        figsize=(20,10),\n",
    "#                        # sharex=True,\n",
    "#                        )\n",
    "# plt.style.use(\"seaborn-paper\")\n",
    "# \n",
    "# for i, (chromosome, coverage_array) in enumerate(coverage_dict.items()):\n",
    "#     print(f\"Generating subfigure for chromosome: {chromosome}\")\n",
    "#     y1 = coverage_array\n",
    "#     # x = np.arange(len(coverage_array))\n",
    "#     # y0 = np.zeros(len(coverage_array))\n",
    "#     ax[i].plot(y1, drawstyle=\"steps-pre\")\n",
    "#     ax[i].set_ylabel(f\"Chr: {chromosome}\")\n",
    "#     # ax[i].set_yscale(\"log\")\n",
    "# plt.tight_layout()\n",
    "# plt.style.use(\"seaborn-paper\")\n",
    "# # plt.savefig(f\"./outputDir/{get_dt(for_file=True)}_wholeGenomeCoverage.png\")\n",
    "# plt.show()"
   ],
   "metadata": {
    "collapsed": false
   }
  },
  {
   "cell_type": "markdown",
   "source": [
    "# Do this with a single gene locus"
   ],
   "metadata": {
    "collapsed": false
   }
  },
  {
   "cell_type": "code",
   "execution_count": 3,
   "outputs": [],
   "source": [
    "def _get_gene_coordinates(gene_id=None, gene_name=None, parsed_gtf_path=\"/data16/marcus/genomes/elegansRelease100/Caenorhabditis_elegans.WBcel235.100.gtf.parquet\") -> (str, int, int):\n",
    "    # First make sure we got something to look up:\n",
    "    gene_id_bool = isinstance(gene_id, str)\n",
    "    gene_name_bool = isinstance(gene_name, str)\n",
    "    if not gene_id_bool and not gene_name_bool:\n",
    "        raise NotImplementedError(f\"Please pass a gene_id or a gene_name!\")\n",
    "    # Load the parsed gtf_file\n",
    "    try:\n",
    "        gtf_df = pd.read_parquet(parsed_gtf_path)[[\"gene_id\", \"gene_name\", \"feature\", \"chr\", \"start\", \"end\"]].query(\"feature == 'gene'\")\n",
    "    except FileNotFoundError:\n",
    "        raise FileNotFoundError(f\"Please make sure there is a parsed gtf file at: {parsed_gtf_path}\")\n",
    "    \n",
    "    # Get the gene of interest!\n",
    "    try:\n",
    "        if gene_id_bool:\n",
    "            entry_of_interest = gtf_df.query(f\"gene_id == '{gene_id}'\").reset_index(drop=True).iloc[0].to_dict()\n",
    "            gene_name = entry_of_interest[\"gene_name\"]\n",
    "        else:  # if gene_name_bool\n",
    "            entry_of_interest = gtf_df.query(f\"gene_name == '{gene_name}'\").reset_index(drop=True).iloc[0].to_dict()\n",
    "            gene_id = entry_of_interest[\"gene_id\"]\n",
    "    except IndexError:\n",
    "        raise IndexError(f\"Gene of interest (gene_id: {gene_id} / gene_name: {gene_name}) not found!\")\n",
    "    chromosome = entry_of_interest[\"chr\"]\n",
    "    start = entry_of_interest[\"start\"]\n",
    "    end = entry_of_interest[\"end\"]\n",
    "    print(f\"Found entry for {gene_name} ({gene_id}) on chromosome {chromosome:>5} at ({start}, {end})\")\n",
    "    return chromosome, start, end"
   ],
   "metadata": {
    "collapsed": false
   }
  },
  {
   "cell_type": "code",
   "execution_count": 28,
   "outputs": [
    {
     "name": "stdout",
     "output_type": "stream",
     "text": [
      "Looking for file for xrn-1-5tera, at /data16/marcus/working/211118_nanoporeRun_totalRNA_5108_xrn-1-KD_5TERA/output_dir/cat_files/*cat.sorted.mappedAndPrimary.bam... File Found.\n",
      "06/16/22 @ 02:02:44 PM: Starting to load bam file from: /data16/marcus/working/211118_nanoporeRun_totalRNA_5108_xrn-1-KD_5TERA/output_dir/cat_files/cat.sorted.mappedAndPrimary.bam\n"
     ]
    },
    {
     "name": "stderr",
     "output_type": "stream",
     "text": [
      "Processing 8481be0d-527a-4b8f-91cc-014fa59d1557:   0%|          | 2869/721766 [00:01<04:37, 2587.87it/s]IOPub message rate exceeded.\n",
      "The notebook server will temporarily stop sending output\n",
      "to the client in order to avoid crashing it.\n",
      "To change this limit, set the config variable\n",
      "`--NotebookApp.iopub_msg_rate_limit`.\n",
      "\n",
      "Current values:\n",
      "NotebookApp.iopub_msg_rate_limit=1000.0 (msgs/sec)\n",
      "NotebookApp.rate_limit_window=3.0 (secs)\n",
      "\n",
      "Processing b924ce8e-2ebc-4fda-bd7a-ce11b81facc1:   1%|          | 8595/721766 [00:03<04:29, 2645.04it/s]\n"
     ]
    },
    {
     "ename": "KeyboardInterrupt",
     "evalue": "",
     "output_type": "error",
     "traceback": [
      "\u001B[0;31m---------------------------------------------------------------------------\u001B[0m",
      "\u001B[0;31mKeyboardInterrupt\u001B[0m                         Traceback (most recent call last)",
      "\u001B[0;32m/tmp/ipykernel_465206/1990000194.py\u001B[0m in \u001B[0;36m<module>\u001B[0;34m\u001B[0m\n\u001B[1;32m      4\u001B[0m                                 \u001B[0mfile_suffix\u001B[0m\u001B[0;34m=\u001B[0m\u001B[0;34m\"bam\"\u001B[0m\u001B[0;34m,\u001B[0m\u001B[0;34m\u001B[0m\u001B[0;34m\u001B[0m\u001B[0m\n\u001B[1;32m      5\u001B[0m                                 )\n\u001B[0;32m----> 6\u001B[0;31m bam_wt_df = SamOrBamFile(bam_wt_path,\n\u001B[0m\u001B[1;32m      7\u001B[0m                       ).df\n\u001B[1;32m      8\u001B[0m \u001B[0mprint\u001B[0m\u001B[0;34m(\u001B[0m\u001B[0;34m\"library loading done!\"\u001B[0m\u001B[0;34m)\u001B[0m\u001B[0;34m\u001B[0m\u001B[0;34m\u001B[0m\u001B[0m\n",
      "\u001B[0;32m/data16/marcus/scripts/nanoporePipelineScripts/nanoporePipelineCommon.py\u001B[0m in \u001B[0;36m__init__\u001B[0;34m(self, path, header_source, subsample)\u001B[0m\n\u001B[1;32m    127\u001B[0m             \u001B[0mself\u001B[0m\u001B[0;34m.\u001B[0m\u001B[0msubsample\u001B[0m \u001B[0;34m=\u001B[0m \u001B[0;32mNone\u001B[0m\u001B[0;34m\u001B[0m\u001B[0;34m\u001B[0m\u001B[0m\n\u001B[1;32m    128\u001B[0m \u001B[0;34m\u001B[0m\u001B[0m\n\u001B[0;32m--> 129\u001B[0;31m         \u001B[0mself\u001B[0m\u001B[0;34m.\u001B[0m\u001B[0mdf\u001B[0m \u001B[0;34m=\u001B[0m \u001B[0mself\u001B[0m\u001B[0;34m.\u001B[0m\u001B[0m__build_df__\u001B[0m\u001B[0;34m(\u001B[0m\u001B[0;34m)\u001B[0m\u001B[0;34m\u001B[0m\u001B[0;34m\u001B[0m\u001B[0m\n\u001B[0m\u001B[1;32m    130\u001B[0m \u001B[0;34m\u001B[0m\u001B[0m\n\u001B[1;32m    131\u001B[0m     \u001B[0;32mdef\u001B[0m \u001B[0m__build_df__\u001B[0m\u001B[0;34m(\u001B[0m\u001B[0mself\u001B[0m\u001B[0;34m)\u001B[0m\u001B[0;34m:\u001B[0m\u001B[0;34m\u001B[0m\u001B[0;34m\u001B[0m\u001B[0m\n",
      "\u001B[0;32m/data16/marcus/scripts/nanoporePipelineScripts/nanoporePipelineCommon.py\u001B[0m in \u001B[0;36m__build_df__\u001B[0;34m(self)\u001B[0m\n\u001B[1;32m    149\u001B[0m                 \u001B[0msam_iterator\u001B[0m\u001B[0;34m.\u001B[0m\u001B[0mset_description\u001B[0m\u001B[0;34m(\u001B[0m\u001B[0;34mf\"Processing {read.qname}\"\u001B[0m\u001B[0;34m)\u001B[0m\u001B[0;34m\u001B[0m\u001B[0;34m\u001B[0m\u001B[0m\n\u001B[1;32m    150\u001B[0m                 \u001B[0mmain_info_list\u001B[0m \u001B[0;34m=\u001B[0m \u001B[0mread\u001B[0m\u001B[0;34m.\u001B[0m\u001B[0m__str__\u001B[0m\u001B[0;34m(\u001B[0m\u001B[0;34m)\u001B[0m\u001B[0;34m.\u001B[0m\u001B[0msplit\u001B[0m\u001B[0;34m(\u001B[0m\u001B[0;34m'\\t'\u001B[0m\u001B[0;34m)\u001B[0m\u001B[0;34m[\u001B[0m\u001B[0;36m0\u001B[0m\u001B[0;34m:\u001B[0m\u001B[0;36m11\u001B[0m\u001B[0;34m]\u001B[0m\u001B[0;34m\u001B[0m\u001B[0;34m\u001B[0m\u001B[0m\n\u001B[0;32m--> 151\u001B[0;31m                 \u001B[0mmain_info\u001B[0m \u001B[0;34m=\u001B[0m \u001B[0mdict\u001B[0m\u001B[0;34m(\u001B[0m\u001B[0mzip\u001B[0m\u001B[0;34m(\u001B[0m\u001B[0mself\u001B[0m\u001B[0;34m.\u001B[0m\u001B[0msam_main_columns\u001B[0m\u001B[0;34m,\u001B[0m \u001B[0mmain_info_list\u001B[0m\u001B[0;34m)\u001B[0m\u001B[0;34m)\u001B[0m\u001B[0;34m\u001B[0m\u001B[0;34m\u001B[0m\u001B[0m\n\u001B[0m\u001B[1;32m    152\u001B[0m                 \u001B[0mtag_info\u001B[0m \u001B[0;34m=\u001B[0m \u001B[0mread\u001B[0m\u001B[0;34m.\u001B[0m\u001B[0mtags\u001B[0m\u001B[0;34m\u001B[0m\u001B[0;34m\u001B[0m\u001B[0m\n\u001B[1;32m    153\u001B[0m                 \u001B[0mall_info\u001B[0m \u001B[0;34m=\u001B[0m \u001B[0mdict\u001B[0m\u001B[0;34m(\u001B[0m\u001B[0mChainMap\u001B[0m\u001B[0;34m(\u001B[0m\u001B[0mmain_info\u001B[0m\u001B[0;34m,\u001B[0m \u001B[0mtag_info\u001B[0m\u001B[0;34m)\u001B[0m\u001B[0;34m)\u001B[0m\u001B[0;34m\u001B[0m\u001B[0;34m\u001B[0m\u001B[0m\n",
      "\u001B[0;31mKeyboardInterrupt\u001B[0m: "
     ]
    }
   ],
   "source": [
    "bam_wt_path = pick_lib_return_path(\"xrn-1-5tera\",\n",
    "                                output_dir_folder=\"cat_files\",\n",
    "                                file_midfix=\"cat.sorted.mappedAndPrimary\",\n",
    "                                file_suffix=\"bam\",\n",
    "                                )\n",
    "bam_wt_df = SamOrBamFile(bam_wt_path,\n",
    "                      ).df\n",
    "print(\"library loading done!\")"
   ],
   "metadata": {
    "collapsed": false
   }
  },
  {
   "cell_type": "code",
   "execution_count": 59,
   "outputs": [
    {
     "name": "stdout",
     "output_type": "stream",
     "text": [
      "Found entry for ubl-1 (WBGene00006725) on chromosome   III at (3068306, 3069210)\n",
      "Starting to build coverage array for chromosome: III\n"
     ]
    },
    {
     "data": {
      "text/plain": "Building coverage by adding to main array:   0%|          | 0/501 [00:00<?, ?it/s]",
      "application/vnd.jupyter.widget-view+json": {
       "version_major": 2,
       "version_minor": 0,
       "model_id": "2ec5e3e3a3fb472da8be00182c4b496a"
      }
     },
     "metadata": {},
     "output_type": "display_data"
    },
    {
     "name": "stdout",
     "output_type": "stream",
     "text": [
      "Starting to build coverage array for chromosome: III\n"
     ]
    },
    {
     "data": {
      "text/plain": "Building coverage by adding to main array:   0%|          | 0/30922 [00:00<?, ?it/s]",
      "application/vnd.jupyter.widget-view+json": {
       "version_major": 2,
       "version_minor": 0,
       "model_id": "2518947e4fd745f8ab120842419478f5"
      }
     },
     "metadata": {},
     "output_type": "display_data"
    },
    {
     "data": {
      "text/plain": "<Figure size 1440x720 with 2 Axes>",
      "image/png": "[encoded data removed]"
     },
     "metadata": {
      "needs_background": "light"
     },
     "output_type": "display_data"
    }
   ],
   "source": [
    "# import matplotlib.pyplot as plt\n",
    "# target_gene_name = \"ubl-1\"\n",
    "# target_gene_chr, target_start, target_end = _get_gene_coordinates(gene_name=target_gene_name)\n",
    "# target_chr_array_ad = _run_coverage_calc(bam_df.query(\"t5 == '+'\"), chrs=target_gene_chr)[target_gene_chr]\n",
    "# target_chr_array_unad = _run_coverage_calc(bam_df.query(\"t5 == '-'\"), chrs=target_gene_chr)[target_gene_chr]\n",
    "# target_locus_array_ad = target_chr_array_ad[target_start: target_end]\n",
    "# target_locus_array_unad = target_chr_array_unad[target_start: target_end]\n",
    "# \n",
    "# index_array = np.arange(len(target_locus_array_ad))\n",
    "# zeros_array = np.zeros(len(target_locus_array_ad))\n",
    "# \n",
    "# fig, ax = plt.subplots(2, 1,\n",
    "#                        figsize=(20,10),\n",
    "#                        sharex=True,\n",
    "#                        gridspec_kw={\"height_ratios\": [1,4]}\n",
    "#                        )\n",
    "# \n",
    "# ax[1].fill_between(index_array, zeros_array, target_locus_array_unad, color='black')\n",
    "# ax[0].fill_between(index_array, zeros_array, target_locus_array_ad, color='red')\n",
    "# \n",
    "# plt.tight_layout()\n",
    "# plt.style.use(\"seaborn-paper\")\n",
    "# plt.savefig(f\"./outputDir/{get_dt(for_file=True)}_{target_gene_name}_coverage.svg\")\n",
    "# plt.show()"
   ],
   "metadata": {
    "collapsed": false
   }
  },
  {
   "cell_type": "code",
   "execution_count": 21,
   "outputs": [],
   "source": [
    "import matplotlib.pyplot as plt\n",
    "def coverage_plotting_5tera(bam_df_for_plot, gene_name, save_as=None, count_Ds_as_maps=False, rpm_normalize=False):\n",
    "    gene_chr, start, end = _get_gene_coordinates(gene_name=gene_name)\n",
    "    chr_array_ad = _run_coverage_calc(bam_df_for_plot.query(\"t5 == '+'\"), chrs=gene_chr, count_Ds_as_maps=count_Ds_as_maps)[gene_chr]\n",
    "    chr_array_unad = _run_coverage_calc(bam_df_for_plot.query(\"t5 == '-'\"), chrs=gene_chr, count_Ds_as_maps=count_Ds_as_maps)[gene_chr]\n",
    "    locus_array_ad = chr_array_ad[start: end]\n",
    "    locus_array_unad = chr_array_unad[start: end]\n",
    "    if rpm_normalize:\n",
    "        norm_factor = bam_df_for_plot.shape[0]\n",
    "        # Turn the total number of read hits into the 'million of read hits'\n",
    "        rpm_norm_factor = norm_factor / 1000000\n",
    "        locus_array_ad = np.divide(locus_array_ad, rpm_norm_factor)\n",
    "        locus_array_unad = np.divide(locus_array_unad, rpm_norm_factor)\n",
    "    \n",
    "    index_array = np.arange(len(locus_array_ad))\n",
    "    zeros_array = np.zeros(len(locus_array_ad))\n",
    "    \n",
    "    fig, ax = plt.subplots(2, 1,\n",
    "                           figsize=(8,4),\n",
    "                           sharex=True,\n",
    "                           gridspec_kw={\"height_ratios\": [1,4]}\n",
    "                           )\n",
    "    \n",
    "    ax[1].fill_between(index_array, zeros_array, locus_array_unad, color='black')\n",
    "    ax[0].fill_between(index_array, zeros_array, locus_array_ad, color='red')\n",
    "    \n",
    "    plt.tight_layout()\n",
    "    plt.style.use(\"seaborn-paper\")\n",
    "    if isinstance(save_as, str):\n",
    "        plt.savefig(save_as)\n",
    "    plt.show()"
   ],
   "metadata": {
    "collapsed": false
   }
  },
  {
   "cell_type": "code",
   "execution_count": 5,
   "outputs": [
    {
     "name": "stdout",
     "output_type": "stream",
     "text": [
      "Loading readAssignments file from: /data16/marcus/genomes/elegansRelease100/Caenorhabditis_elegans.WBcel235.100.allChrs.parquet... Done.\n",
      "Looking for files for libraries: ['xrn-1-5tera', 'xrn-1-5tera-smg-6']\n",
      "Looking for file for xrn-1-5tera, at /data16/marcus/working/211118_nanoporeRun_totalRNA_5108_xrn-1-KD_5TERA/output_dir/merge_files/*_mergedOnReads.parquet... File Found.\n",
      "Looking for file for xrn-1-5tera-smg-6, at /data16/marcus/working/211210_nanoporeRun_totalRNA_2102_xrn-1-KD_5TERA/output_dir/merge_files/*_mergedOnReads.parquet... File Found.\n",
      "Loading parquet for xrn-1-5tera lib... Done.\n",
      "'original_chr_pos' column already found in dataframe, skipping adjustment for 5'ends!\n",
      "Loading parquet for xrn-1-5tera-smg-6 lib... Done.\n",
      "'original_chr_pos' column already found in dataframe, skipping adjustment for 5'ends!\n",
      "Finished assignment merge!. . .\n",
      "Read counts post gene assignment:  937835\n",
      "Read counts post unassigned drop:  636409\n",
      "Creating groupby dataframe merged on: ['lib', 'chr_id', 'gene_id', 'gene_name']\n",
      "\t+ [t5] tag\n"
     ]
    },
    {
     "name": "stderr",
     "output_type": "stream",
     "text": [
      "Counting reads per gene: 100%|██████████| 31278/31278 [00:00<00:00, 51573.24it/s]\n"
     ]
    },
    {
     "name": "stdout",
     "output_type": "stream",
     "text": [
      "Gene counts pre sub-1 gene_hits drop:  31278\n",
      "Gene counts post sub-1 gene_hits drop:  31278\n",
      "Done!\n"
     ]
    }
   ],
   "source": [
    "reads_df_genes_raw, compressed_df_genes_raw = load_and_merge_lib_parquets([\"xrn-1-5tera\", \"xrn-1-5tera-smg-6\"], drop_sub_n=1, add_tail_groupings=False, drop_failed_polya=False, group_by_t5=True)\n",
    "reads_df, compressed_df = reads_df_genes_raw.copy(), compressed_df_genes_raw.copy()\n",
    "print(\"Done!\")"
   ],
   "metadata": {
    "collapsed": false
   }
  },
  {
   "cell_type": "code",
   "execution_count": 22,
   "outputs": [
    {
     "name": "stdout",
     "output_type": "stream",
     "text": [
      "Found entry for tba-1 (WBGene00006528) on chromosome     I at (9785778, 9787624)\n",
      "Starting to build coverage array for chromosome: I\n"
     ]
    },
    {
     "name": "stderr",
     "output_type": "stream",
     "text": [
      "Building coverage by adding to main array: 100%|██████████| 3549/3549 [00:00<00:00, 5872.29it/s]\n"
     ]
    },
    {
     "name": "stdout",
     "output_type": "stream",
     "text": [
      "Starting to build coverage array for chromosome: I\n"
     ]
    },
    {
     "name": "stderr",
     "output_type": "stream",
     "text": [
      "Building coverage by adding to main array: 100%|██████████| 85801/85801 [00:15<00:00, 5673.60it/s]\n"
     ]
    },
    {
     "data": {
      "text/plain": "<Figure size 576x288 with 2 Axes>",
      "image/png": "[encoded data removed]"
     },
     "metadata": {
      "needs_background": "light"
     },
     "output_type": "display_data"
    },
    {
     "name": "stdout",
     "output_type": "stream",
     "text": [
      "Found entry for tba-1 (WBGene00006528) on chromosome     I at (9785778, 9787624)\n",
      "Starting to build coverage array for chromosome: I\n"
     ]
    },
    {
     "name": "stderr",
     "output_type": "stream",
     "text": [
      "Building coverage by adding to main array: 100%|██████████| 500/500 [00:00<00:00, 8277.10it/s]\n"
     ]
    },
    {
     "name": "stdout",
     "output_type": "stream",
     "text": [
      "Starting to build coverage array for chromosome: I\n"
     ]
    },
    {
     "name": "stderr",
     "output_type": "stream",
     "text": [
      "Building coverage by adding to main array: 100%|██████████| 23150/23150 [00:03<00:00, 7108.92it/s]\n"
     ]
    },
    {
     "data": {
      "text/plain": "<Figure size 576x288 with 2 Axes>",
      "image/png": "[encoded data removed]"
     },
     "metadata": {
      "needs_background": "light"
     },
     "output_type": "display_data"
    }
   ],
   "source": [
    "gene_of_interest = \"tba-1\"\n",
    "\n",
    "coverage_plotting_5tera(reads_df.query(\"lib == 'xrn-1-5tera'\"), gene_name=gene_of_interest,  count_Ds_as_maps=True, rpm_normalize=True)\n",
    "coverage_plotting_5tera(reads_df.query(\"lib == 'xrn-1-5tera-smg-6'\"), gene_name=gene_of_interest,  count_Ds_as_maps=True, rpm_normalize=True)"
   ],
   "metadata": {
    "collapsed": false
   }
  },
  {
   "cell_type": "code",
   "execution_count": 20,
   "outputs": [
    {
     "data": {
      "text/plain": "array([2.5083e+02, 3.0300e+00, 3.0000e-02, 3.0450e+01])"
     },
     "execution_count": 20,
     "metadata": {},
     "output_type": "execute_result"
    }
   ],
   "source": [
    "np.divide(np.array([125415, 1515, 15, 15225], dtype=np.uint32), 500)"
   ],
   "metadata": {
    "collapsed": false
   }
  },
  {
   "cell_type": "code",
   "execution_count": null,
   "outputs": [],
   "source": [],
   "metadata": {
    "collapsed": false
   }
  }
 ],
 "metadata": {
  "kernelspec": {
   "display_name": "Python 3",
   "language": "python",
   "name": "python3"
  },
  "language_info": {
   "codemirror_mode": {
    "name": "ipython",
    "version": 2
   },
   "file_extension": ".py",
   "mimetype": "text/x-python",
   "name": "python",
   "nbconvert_exporter": "python",
   "pygments_lexer": "ipython2",
   "version": "2.7.6"
  }
 },
 "nbformat": 4,
 "nbformat_minor": 0
}
