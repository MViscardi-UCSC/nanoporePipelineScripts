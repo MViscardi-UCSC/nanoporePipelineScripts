{
 "cells": [
  {
   "cell_type": "markdown",
   "source": [
    "# testingGTFparsingForPlotting.ipnb\n",
    "## Marcus Viscardi,  June 7, 2022\n",
    "\n",
    "Main goal here is to see if I can *easily* pull out reference information to:\n",
    "1) Figure out how much of each chromosome to plot\n",
    "2) If looking for a single gene, figure out which coordinates to plot"
   ],
   "metadata": {
    "collapsed": false,
    "pycharm": {
     "name": "#%% md\n"
    }
   }
  },
  {
   "cell_type": "code",
   "execution_count": null,
   "metadata": {
    "collapsed": true,
    "pycharm": {
     "name": "#%%\n",
     "is_executing": true
    }
   },
   "outputs": [],
   "source": [
    "import pandas as pd\n",
    "import numpy as np\n",
    "\n",
    "import matplotlib.pyplot as plt\n",
    "from nanoporePipelineCommon import *\n",
    "from coveragePlotting_numpyAndMatplotlib import build_chr_arrays\n",
    "print(\"imports done.\")"
   ]
  },
  {
   "cell_type": "code",
   "execution_count": null,
   "outputs": [],
   "source": [
    "gtf_df = pd.read_parquet(\"/data16/marcus/scripts/nanoporePipelineScripts/elegansRelease100/Caenorhabditis_elegans.WBcel235.100.gtf.parquet\")"
   ],
   "metadata": {
    "collapsed": false,
    "pycharm": {
     "name": "#%%\n"
    }
   }
  },
  {
   "cell_type": "code",
   "execution_count": null,
   "outputs": [],
   "source": [
    "gene_of_interest = 'ubl-1'\n",
    "gene_row = gtf_df.query(f\"feature == 'gene' & gene_name == '{gene_of_interest}'\").reset_index(drop=True)\n",
    "gene_row.chr[0], gene_row.start[0], gene_row.end[0]"
   ],
   "metadata": {
    "collapsed": false,
    "pycharm": {
     "name": "#%%\n"
    }
   }
  },
  {
   "cell_type": "code",
   "execution_count": null,
   "outputs": [],
   "source": [
    "chr_dict = {}\n",
    "for chr in (\"I\", \"II\", \"III\", \"IV\", \"V\", \"MtDNA\"):\n",
    "    chr_dict[chr] = gtf_df.query(f\"chr == '{chr}'\").end.max()\n",
    "chr_dict"
   ],
   "metadata": {
    "collapsed": false,
    "pycharm": {
     "name": "#%%\n"
    }
   }
  },
  {
   "cell_type": "code",
   "execution_count": null,
   "outputs": [],
   "source": [
    "from tqdm import tqdm\n",
    "bam_path = pick_lib_return_path(\"totalRNA3\",\n",
    "                                output_dir_folder=\"cat_files\",\n",
    "                                file_midfix=\"cat.sorted.mappedAndPrimary\",\n",
    "                                file_suffix=\"bam\",\n",
    "                                )\n",
    "bam_df = SamOrBamFile(bam_path,\n",
    "                      # subsample=10000,\n",
    "                      ).df"
   ],
   "metadata": {
    "collapsed": false,
    "pycharm": {
     "name": "#%%\n",
     "is_executing": true
    }
   }
  },
  {
   "cell_type": "code",
   "execution_count": null,
   "outputs": [],
   "source": [
    "array_dict = build_chr_arrays(bam_df)"
   ],
   "metadata": {
    "collapsed": false,
    "pycharm": {
     "name": "#%%\n",
     "is_executing": true
    }
   }
  },
  {
   "cell_type": "code",
   "execution_count": null,
   "outputs": [],
   "source": [
    "array_dict"
   ],
   "metadata": {
    "collapsed": false,
    "pycharm": {
     "name": "#%%\n",
     "is_executing": true
    }
   }
  },
  {
   "cell_type": "code",
   "execution_count": null,
   "outputs": [],
   "source": [
    "for chr, chr_array in array_dict.items():\n",
    "    print(f\"{chr:<5}\\tMax hits at one position:\", chr_array.max())"
   ],
   "metadata": {
    "collapsed": false,
    "pycharm": {
     "name": "#%%\n",
     "is_executing": true
    }
   }
  },
  {
   "cell_type": "code",
   "execution_count": null,
   "outputs": [],
   "source": [],
   "metadata": {
    "collapsed": false,
    "pycharm": {
     "name": "#%%\n"
    }
   }
  }
 ],
 "metadata": {
  "kernelspec": {
   "display_name": "Python 3",
   "language": "python",
   "name": "python3"
  },
  "language_info": {
   "codemirror_mode": {
    "name": "ipython",
    "version": 2
   },
   "file_extension": ".py",
   "mimetype": "text/x-python",
   "name": "python",
   "nbconvert_exporter": "python",
   "pygments_lexer": "ipython2",
   "version": "2.7.6"
  }
 },
 "nbformat": 4,
 "nbformat_minor": 0
}