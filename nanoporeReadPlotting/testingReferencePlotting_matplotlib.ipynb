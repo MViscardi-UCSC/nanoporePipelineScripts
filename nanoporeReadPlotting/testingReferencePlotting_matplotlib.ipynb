{
 "cells": [
  {
   "cell_type": "code",
   "execution_count": 1,
   "outputs": [
    {
     "name": "stdout",
     "output_type": "stream",
     "text": [
      "imports done\n"
     ]
    }
   ],
   "source": [
    "import numpy as np\n",
    "import pandas as pd\n",
    "from tqdm import tqdm\n",
    "pd.set_option('display.width', 100)\n",
    "pd.set_option('display.max_columns', None)\n",
    "\n",
    "import re\n",
    "\n",
    "import seaborn as sea\n",
    "import matplotlib.pyplot as plt\n",
    "from matplotlib.collections import PatchCollection\n",
    "from matplotlib.patches import Rectangle\n",
    "\n",
    "from nanoporePipelineCommon import *\n",
    "\n",
    "print(\"imports done\")"
   ],
   "metadata": {
    "collapsed": false,
    "pycharm": {
     "name": "#%%\n"
    }
   }
  },
  {
   "cell_type": "code",
   "execution_count": 43,
   "outputs": [],
   "source": [
    "gtf_parquet_path = \"/data16/marcus/genomes/elegansRelease100/Caenorhabditis_elegans.WBcel235.100.gtf.parquet\"\n",
    "\n",
    "gtf_df = pd.read_parquet(gtf_parquet_path)"
   ],
   "metadata": {
    "collapsed": false,
    "pycharm": {
     "name": "#%%\n"
    }
   }
  },
  {
   "cell_type": "code",
   "execution_count": 46,
   "outputs": [
    {
     "data": {
      "text/plain": "        chr    source     feature    start      end score strand frame gene_name         gene_id  gene_version gene_source    gene_biotype transcript_id transcript_source transcript_biotype  exon_number exon_id\n654650  III  WormBase  transcript  3068306  3069209     .      +     .     ubl-1  WBGene00006725             1    WormBase  protein_coding   H06I04.4a.3          WormBase     protein_coding          NaN    None\n654661  III  WormBase  transcript  3068310  3069200     .      +     .     ubl-1  WBGene00006725             1    WormBase  protein_coding   H06I04.4b.1          WormBase     protein_coding          NaN    None\n654672  III  WormBase  transcript  3068317  3069210     .      +     .     ubl-1  WBGene00006725             1    WormBase  protein_coding   H06I04.4a.1          WormBase     protein_coding          NaN    None\n654683  III  WormBase  transcript  3068317  3069209     .      +     .     ubl-1  WBGene00006725             1    WormBase  protein_coding   H06I04.4a.2          WormBase     protein_coding          NaN    None",
      "text/html": "<div>\n<style scoped>\n    .dataframe tbody tr th:only-of-type {\n        vertical-align: middle;\n    }\n\n    .dataframe tbody tr th {\n        vertical-align: top;\n    }\n\n    .dataframe thead th {\n        text-align: right;\n    }\n</style>\n<table border=\"1\" class=\"dataframe\">\n  <thead>\n    <tr style=\"text-align: right;\">\n      <th></th>\n      <th>chr</th>\n      <th>source</th>\n      <th>feature</th>\n      <th>start</th>\n      <th>end</th>\n      <th>score</th>\n      <th>strand</th>\n      <th>frame</th>\n      <th>gene_name</th>\n      <th>gene_id</th>\n      <th>gene_version</th>\n      <th>gene_source</th>\n      <th>gene_biotype</th>\n      <th>transcript_id</th>\n      <th>transcript_source</th>\n      <th>transcript_biotype</th>\n      <th>exon_number</th>\n      <th>exon_id</th>\n    </tr>\n  </thead>\n  <tbody>\n    <tr>\n      <th>654650</th>\n      <td>III</td>\n      <td>WormBase</td>\n      <td>transcript</td>\n      <td>3068306</td>\n      <td>3069209</td>\n      <td>.</td>\n      <td>+</td>\n      <td>.</td>\n      <td>ubl-1</td>\n      <td>WBGene00006725</td>\n      <td>1</td>\n      <td>WormBase</td>\n      <td>protein_coding</td>\n      <td>H06I04.4a.3</td>\n      <td>WormBase</td>\n      <td>protein_coding</td>\n      <td>NaN</td>\n      <td>None</td>\n    </tr>\n    <tr>\n      <th>654661</th>\n      <td>III</td>\n      <td>WormBase</td>\n      <td>transcript</td>\n      <td>3068310</td>\n      <td>3069200</td>\n      <td>.</td>\n      <td>+</td>\n      <td>.</td>\n      <td>ubl-1</td>\n      <td>WBGene00006725</td>\n      <td>1</td>\n      <td>WormBase</td>\n      <td>protein_coding</td>\n      <td>H06I04.4b.1</td>\n      <td>WormBase</td>\n      <td>protein_coding</td>\n      <td>NaN</td>\n      <td>None</td>\n    </tr>\n    <tr>\n      <th>654672</th>\n      <td>III</td>\n      <td>WormBase</td>\n      <td>transcript</td>\n      <td>3068317</td>\n      <td>3069210</td>\n      <td>.</td>\n      <td>+</td>\n      <td>.</td>\n      <td>ubl-1</td>\n      <td>WBGene00006725</td>\n      <td>1</td>\n      <td>WormBase</td>\n      <td>protein_coding</td>\n      <td>H06I04.4a.1</td>\n      <td>WormBase</td>\n      <td>protein_coding</td>\n      <td>NaN</td>\n      <td>None</td>\n    </tr>\n    <tr>\n      <th>654683</th>\n      <td>III</td>\n      <td>WormBase</td>\n      <td>transcript</td>\n      <td>3068317</td>\n      <td>3069209</td>\n      <td>.</td>\n      <td>+</td>\n      <td>.</td>\n      <td>ubl-1</td>\n      <td>WBGene00006725</td>\n      <td>1</td>\n      <td>WormBase</td>\n      <td>protein_coding</td>\n      <td>H06I04.4a.2</td>\n      <td>WormBase</td>\n      <td>protein_coding</td>\n      <td>NaN</td>\n      <td>None</td>\n    </tr>\n  </tbody>\n</table>\n</div>"
     },
     "execution_count": 46,
     "metadata": {},
     "output_type": "execute_result"
    }
   ],
   "source": [
    "gtf_df.query(\"gene_name == 'ubl-1'\").query(\"feature == 'transcript'\")"
   ],
   "metadata": {
    "collapsed": false,
    "pycharm": {
     "name": "#%%\n"
    }
   }
  },
  {
   "cell_type": "code",
   "execution_count": 6,
   "outputs": [],
   "source": [
    "import pyranges\n",
    "\n",
    "bed = pyranges.read_bed(\"/data16/marcus/genomes/elegansRelease100/Caenorhabditis_elegans.WBcel235.100.bed\").df"
   ],
   "metadata": {
    "collapsed": false,
    "pycharm": {
     "name": "#%%\n"
    }
   }
  },
  {
   "cell_type": "code",
   "execution_count": 7,
   "outputs": [
    {
     "data": {
      "text/plain": "      Chromosome     Start       End                                Name  Score Strand  ThickStart  ThickEnd      ItemRGB  BlockCount           BlockSizes            BlockStarts transcipt_name       gene_type   gene_name\n0              I     11494     16837   Y74C9A.2a.1|protein_coding|nlp-40   1000      +       11640     16582    0,128,255           4       67,72,210,365,       0,123,3456,4978,    Y74C9A.2a.1  protein_coding      nlp-40\n1              I     11494     16793   Y74C9A.2a.3|protein_coding|nlp-40   1000      +       11640     16582    0,128,255           5    67,72,210,113,92,  0,123,3456,4978,5207,    Y74C9A.2a.3  protein_coding      nlp-40\n2              I     11498     16837   Y74C9A.2a.4|protein_coding|nlp-40   1000      +       11640     16582    0,128,255           4       59,72,210,365,       0,119,3452,4974,    Y74C9A.2a.4  protein_coding      nlp-40\n3              I     11504     16837   Y74C9A.2a.5|protein_coding|nlp-40   1000      +       11640     16582    0,128,255           4       57,67,210,365,       0,118,3446,4968,    Y74C9A.2a.5  protein_coding      nlp-40\n4              I     11617     16837   Y74C9A.2a.2|protein_coding|nlp-40   1000      +       11640     16582    0,128,255           3          72,210,365,           0,3333,4855,    Y74C9A.2a.2  protein_coding      nlp-40\n...          ...       ...       ...                                 ...    ...    ...         ...       ...          ...         ...                  ...                    ...            ...             ...         ...\n61446          X  17670594  17670737               T23E7.9|ncRNA|T23E7.9   1000      -    17670594  17670737  196,196,196           1                 143,                     0,        T23E7.9           ncRNA     T23E7.9\n61447          X  17673475  17673496            T23E7.7|piRNA|21ur-12330   1000      -    17673475  17673496  196,196,196           1                  21,                     0,        T23E7.7           piRNA  21ur-12330\n61448          X  17680872  17682294    T23E7.6.1|protein_coding|T23E7.6   1000      -    17680913  17682294    0,128,255           2              153,95,                0,1327,      T23E7.6.1  protein_coding     T23E7.6\n61449          X  17697238  17697346        F20B4.8|antisense_RNA|anr-17   1000      -    17697238  17697346  196,196,196           1                 108,                     0,        F20B4.8   antisense_RNA      anr-17\n61450          X  17710285  17711674  H11L12.1.1|protein_coding|H11L12.1   1000      -    17710488  17711674    0,128,255           5  416,154,206,105,78,   0,464,777,1095,1311,     H11L12.1.1  protein_coding    H11L12.1\n\n[61451 rows x 15 columns]",
      "text/html": "<div>\n<style scoped>\n    .dataframe tbody tr th:only-of-type {\n        vertical-align: middle;\n    }\n\n    .dataframe tbody tr th {\n        vertical-align: top;\n    }\n\n    .dataframe thead th {\n        text-align: right;\n    }\n</style>\n<table border=\"1\" class=\"dataframe\">\n  <thead>\n    <tr style=\"text-align: right;\">\n      <th></th>\n      <th>Chromosome</th>\n      <th>Start</th>\n      <th>End</th>\n      <th>Name</th>\n      <th>Score</th>\n      <th>Strand</th>\n      <th>ThickStart</th>\n      <th>ThickEnd</th>\n      <th>ItemRGB</th>\n      <th>BlockCount</th>\n      <th>BlockSizes</th>\n      <th>BlockStarts</th>\n      <th>transcipt_name</th>\n      <th>gene_type</th>\n      <th>gene_name</th>\n    </tr>\n  </thead>\n  <tbody>\n    <tr>\n      <th>0</th>\n      <td>I</td>\n      <td>11494</td>\n      <td>16837</td>\n      <td>Y74C9A.2a.1|protein_coding|nlp-40</td>\n      <td>1000</td>\n      <td>+</td>\n      <td>11640</td>\n      <td>16582</td>\n      <td>0,128,255</td>\n      <td>4</td>\n      <td>67,72,210,365,</td>\n      <td>0,123,3456,4978,</td>\n      <td>Y74C9A.2a.1</td>\n      <td>protein_coding</td>\n      <td>nlp-40</td>\n    </tr>\n    <tr>\n      <th>1</th>\n      <td>I</td>\n      <td>11494</td>\n      <td>16793</td>\n      <td>Y74C9A.2a.3|protein_coding|nlp-40</td>\n      <td>1000</td>\n      <td>+</td>\n      <td>11640</td>\n      <td>16582</td>\n      <td>0,128,255</td>\n      <td>5</td>\n      <td>67,72,210,113,92,</td>\n      <td>0,123,3456,4978,5207,</td>\n      <td>Y74C9A.2a.3</td>\n      <td>protein_coding</td>\n      <td>nlp-40</td>\n    </tr>\n    <tr>\n      <th>2</th>\n      <td>I</td>\n      <td>11498</td>\n      <td>16837</td>\n      <td>Y74C9A.2a.4|protein_coding|nlp-40</td>\n      <td>1000</td>\n      <td>+</td>\n      <td>11640</td>\n      <td>16582</td>\n      <td>0,128,255</td>\n      <td>4</td>\n      <td>59,72,210,365,</td>\n      <td>0,119,3452,4974,</td>\n      <td>Y74C9A.2a.4</td>\n      <td>protein_coding</td>\n      <td>nlp-40</td>\n    </tr>\n    <tr>\n      <th>3</th>\n      <td>I</td>\n      <td>11504</td>\n      <td>16837</td>\n      <td>Y74C9A.2a.5|protein_coding|nlp-40</td>\n      <td>1000</td>\n      <td>+</td>\n      <td>11640</td>\n      <td>16582</td>\n      <td>0,128,255</td>\n      <td>4</td>\n      <td>57,67,210,365,</td>\n      <td>0,118,3446,4968,</td>\n      <td>Y74C9A.2a.5</td>\n      <td>protein_coding</td>\n      <td>nlp-40</td>\n    </tr>\n    <tr>\n      <th>4</th>\n      <td>I</td>\n      <td>11617</td>\n      <td>16837</td>\n      <td>Y74C9A.2a.2|protein_coding|nlp-40</td>\n      <td>1000</td>\n      <td>+</td>\n      <td>11640</td>\n      <td>16582</td>\n      <td>0,128,255</td>\n      <td>3</td>\n      <td>72,210,365,</td>\n      <td>0,3333,4855,</td>\n      <td>Y74C9A.2a.2</td>\n      <td>protein_coding</td>\n      <td>nlp-40</td>\n    </tr>\n    <tr>\n      <th>...</th>\n      <td>...</td>\n      <td>...</td>\n      <td>...</td>\n      <td>...</td>\n      <td>...</td>\n      <td>...</td>\n      <td>...</td>\n      <td>...</td>\n      <td>...</td>\n      <td>...</td>\n      <td>...</td>\n      <td>...</td>\n      <td>...</td>\n      <td>...</td>\n      <td>...</td>\n    </tr>\n    <tr>\n      <th>61446</th>\n      <td>X</td>\n      <td>17670594</td>\n      <td>17670737</td>\n      <td>T23E7.9|ncRNA|T23E7.9</td>\n      <td>1000</td>\n      <td>-</td>\n      <td>17670594</td>\n      <td>17670737</td>\n      <td>196,196,196</td>\n      <td>1</td>\n      <td>143,</td>\n      <td>0,</td>\n      <td>T23E7.9</td>\n      <td>ncRNA</td>\n      <td>T23E7.9</td>\n    </tr>\n    <tr>\n      <th>61447</th>\n      <td>X</td>\n      <td>17673475</td>\n      <td>17673496</td>\n      <td>T23E7.7|piRNA|21ur-12330</td>\n      <td>1000</td>\n      <td>-</td>\n      <td>17673475</td>\n      <td>17673496</td>\n      <td>196,196,196</td>\n      <td>1</td>\n      <td>21,</td>\n      <td>0,</td>\n      <td>T23E7.7</td>\n      <td>piRNA</td>\n      <td>21ur-12330</td>\n    </tr>\n    <tr>\n      <th>61448</th>\n      <td>X</td>\n      <td>17680872</td>\n      <td>17682294</td>\n      <td>T23E7.6.1|protein_coding|T23E7.6</td>\n      <td>1000</td>\n      <td>-</td>\n      <td>17680913</td>\n      <td>17682294</td>\n      <td>0,128,255</td>\n      <td>2</td>\n      <td>153,95,</td>\n      <td>0,1327,</td>\n      <td>T23E7.6.1</td>\n      <td>protein_coding</td>\n      <td>T23E7.6</td>\n    </tr>\n    <tr>\n      <th>61449</th>\n      <td>X</td>\n      <td>17697238</td>\n      <td>17697346</td>\n      <td>F20B4.8|antisense_RNA|anr-17</td>\n      <td>1000</td>\n      <td>-</td>\n      <td>17697238</td>\n      <td>17697346</td>\n      <td>196,196,196</td>\n      <td>1</td>\n      <td>108,</td>\n      <td>0,</td>\n      <td>F20B4.8</td>\n      <td>antisense_RNA</td>\n      <td>anr-17</td>\n    </tr>\n    <tr>\n      <th>61450</th>\n      <td>X</td>\n      <td>17710285</td>\n      <td>17711674</td>\n      <td>H11L12.1.1|protein_coding|H11L12.1</td>\n      <td>1000</td>\n      <td>-</td>\n      <td>17710488</td>\n      <td>17711674</td>\n      <td>0,128,255</td>\n      <td>5</td>\n      <td>416,154,206,105,78,</td>\n      <td>0,464,777,1095,1311,</td>\n      <td>H11L12.1.1</td>\n      <td>protein_coding</td>\n      <td>H11L12.1</td>\n    </tr>\n  </tbody>\n</table>\n<p>61451 rows × 15 columns</p>\n</div>"
     },
     "execution_count": 7,
     "metadata": {},
     "output_type": "execute_result"
    }
   ],
   "source": [
    "bed_df = bed.copy()\n",
    "bed_df[['transcipt_name', 'gene_type', 'gene_name']] = bed_df.Name.str.split(\"|\", expand=True)\n",
    "bed_df"
   ],
   "metadata": {
    "collapsed": false,
    "pycharm": {
     "name": "#%%\n"
    }
   }
  },
  {
   "cell_type": "code",
   "execution_count": 8,
   "outputs": [
    {
     "name": "stderr",
     "output_type": "stream",
     "text": [
      "Parsing the column: BlockSizes: 100%|██████████| 61451/61451 [00:00<00:00, 102750.33it/s]\n",
      "Parsing the column: BlockStarts: 100%|██████████| 61451/61451 [00:00<00:00, 146179.19it/s]\n",
      "Parsing the column: ItemRGB: 100%|██████████| 61451/61451 [00:00<00:00, 113753.21it/s]\n"
     ]
    }
   ],
   "source": [
    "def str_list_to_list_of_ints(row, column):\n",
    "    if col == 'ItemRGB':\n",
    "        last_parse_keeper = 3\n",
    "    else:\n",
    "        last_parse_keeper = -1\n",
    "    return list(map(int, row[column].split(',')[:last_parse_keeper]))\n",
    "\n",
    "for col in ['BlockSizes', 'BlockStarts', 'ItemRGB']:\n",
    "    try:\n",
    "        tqdm.pandas(desc=f\"Parsing the column: {col}\")\n",
    "        bed_df[col] = bed_df.progress_apply(lambda row: str_list_to_list_of_ints(row, col), axis=1)\n",
    "    except AttributeError:\n",
    "        print(f\"The {col} already appears to have been parsed!! Ignoring this column!\")"
   ],
   "metadata": {
    "collapsed": false,
    "pycharm": {
     "name": "#%%\n"
    }
   }
  },
  {
   "cell_type": "code",
   "execution_count": 18,
   "outputs": [
    {
     "data": {
      "text/plain": "  Chromosome    Start      End                              Name  Score Strand  ThickStart  ThickEnd        ItemRGB  BlockCount       BlockSizes    BlockStarts transcipt_name       gene_type gene_name\n0        III  3068305  3069209  H06I04.4a.3|protein_coding|ubl-1   1000      +     3068334   3069158  [0, 128, 255]           3  [162, 170, 237]  [0, 268, 667]    H06I04.4a.3  protein_coding     ubl-1\n1        III  3068309  3069200  H06I04.4b.1|protein_coding|ubl-1   1000      +     3068334   3068589  [0, 128, 255]           3  [158, 162, 228]  [0, 272, 663]    H06I04.4b.1  protein_coding     ubl-1\n2        III  3068316  3069210  H06I04.4a.1|protein_coding|ubl-1   1000      +     3068334   3069158  [0, 128, 255]           3  [151, 170, 238]  [0, 257, 656]    H06I04.4a.1  protein_coding     ubl-1\n3        III  3068316  3069209  H06I04.4a.2|protein_coding|ubl-1   1000      +     3068334   3069158  [0, 128, 255]           3  [151, 170, 237]  [0, 257, 656]    H06I04.4a.2  protein_coding     ubl-1",
      "text/html": "<div>\n<style scoped>\n    .dataframe tbody tr th:only-of-type {\n        vertical-align: middle;\n    }\n\n    .dataframe tbody tr th {\n        vertical-align: top;\n    }\n\n    .dataframe thead th {\n        text-align: right;\n    }\n</style>\n<table border=\"1\" class=\"dataframe\">\n  <thead>\n    <tr style=\"text-align: right;\">\n      <th></th>\n      <th>Chromosome</th>\n      <th>Start</th>\n      <th>End</th>\n      <th>Name</th>\n      <th>Score</th>\n      <th>Strand</th>\n      <th>ThickStart</th>\n      <th>ThickEnd</th>\n      <th>ItemRGB</th>\n      <th>BlockCount</th>\n      <th>BlockSizes</th>\n      <th>BlockStarts</th>\n      <th>transcipt_name</th>\n      <th>gene_type</th>\n      <th>gene_name</th>\n    </tr>\n  </thead>\n  <tbody>\n    <tr>\n      <th>0</th>\n      <td>III</td>\n      <td>3068305</td>\n      <td>3069209</td>\n      <td>H06I04.4a.3|protein_coding|ubl-1</td>\n      <td>1000</td>\n      <td>+</td>\n      <td>3068334</td>\n      <td>3069158</td>\n      <td>[0, 128, 255]</td>\n      <td>3</td>\n      <td>[162, 170, 237]</td>\n      <td>[0, 268, 667]</td>\n      <td>H06I04.4a.3</td>\n      <td>protein_coding</td>\n      <td>ubl-1</td>\n    </tr>\n    <tr>\n      <th>1</th>\n      <td>III</td>\n      <td>3068309</td>\n      <td>3069200</td>\n      <td>H06I04.4b.1|protein_coding|ubl-1</td>\n      <td>1000</td>\n      <td>+</td>\n      <td>3068334</td>\n      <td>3068589</td>\n      <td>[0, 128, 255]</td>\n      <td>3</td>\n      <td>[158, 162, 228]</td>\n      <td>[0, 272, 663]</td>\n      <td>H06I04.4b.1</td>\n      <td>protein_coding</td>\n      <td>ubl-1</td>\n    </tr>\n    <tr>\n      <th>2</th>\n      <td>III</td>\n      <td>3068316</td>\n      <td>3069210</td>\n      <td>H06I04.4a.1|protein_coding|ubl-1</td>\n      <td>1000</td>\n      <td>+</td>\n      <td>3068334</td>\n      <td>3069158</td>\n      <td>[0, 128, 255]</td>\n      <td>3</td>\n      <td>[151, 170, 238]</td>\n      <td>[0, 257, 656]</td>\n      <td>H06I04.4a.1</td>\n      <td>protein_coding</td>\n      <td>ubl-1</td>\n    </tr>\n    <tr>\n      <th>3</th>\n      <td>III</td>\n      <td>3068316</td>\n      <td>3069209</td>\n      <td>H06I04.4a.2|protein_coding|ubl-1</td>\n      <td>1000</td>\n      <td>+</td>\n      <td>3068334</td>\n      <td>3069158</td>\n      <td>[0, 128, 255]</td>\n      <td>3</td>\n      <td>[151, 170, 237]</td>\n      <td>[0, 257, 656]</td>\n      <td>H06I04.4a.2</td>\n      <td>protein_coding</td>\n      <td>ubl-1</td>\n    </tr>\n  </tbody>\n</table>\n</div>"
     },
     "execution_count": 18,
     "metadata": {},
     "output_type": "execute_result"
    }
   ],
   "source": [
    "test_df = bed_df.query(\"gene_name == 'ubl-1'\").reset_index(drop=True)\n",
    "test_df"
   ],
   "metadata": {
    "collapsed": false,
    "pycharm": {
     "name": "#%%\n"
    }
   }
  },
  {
   "cell_type": "code",
   "execution_count": 24,
   "outputs": [
    {
     "name": "stderr",
     "output_type": "stream",
     "text": [
      "Parsing the column: ItemRGB: 100%|██████████| 4/4 [00:00<00:00, 1023.44it/s]"
     ]
    },
    {
     "name": "stdout",
     "output_type": "stream",
     "text": [
      "\n",
      "H06I04.4a.3\n",
      "\n",
      "H06I04.4b.1\n",
      "\n",
      "H06I04.4a.1\n",
      "\n",
      "H06I04.4a.2\n"
     ]
    },
    {
     "name": "stderr",
     "output_type": "stream",
     "text": [
      "\n",
      "/tmp/ipykernel_168299/2039708096.py:20: UserWarning: Matplotlib is currently using module://matplotlib_inline.backend_inline, which is a non-GUI backend, so cannot show the figure.\n",
      "  fig.show()\n"
     ]
    },
    {
     "data": {
      "text/plain": "<Figure size 432x288 with 1 Axes>",
      "image/png": "[encoded data removed]"
     },
     "metadata": {
      "needs_background": "light"
     },
     "output_type": "display_data"
    }
   ],
   "source": [
    "fig, ax = plt.subplots()\n",
    "def row_plot_rectangles(row, axes):\n",
    "    index = row.name\n",
    "    transcript_start = row['Start']\n",
    "    transcript_edit = row['End']\n",
    "    cds_start = row['ThickStart']\n",
    "    cds_end = row['ThickEnd']\n",
    "    exon_starts = row['BlockStarts']\n",
    "    exon_lengths = row['BlockSizes']\n",
    "    print(f\"\\n{row['transcipt_name']}\")\n",
    "    rectangle_patches = []\n",
    "    for (exon_start, exon_length) in zip(exon_starts, exon_lengths):\n",
    "        rectangle_patches.append(Rectangle((exon_start, index), exon_length, height=1))\n",
    "    axes.add_collection(PatchCollection(rectangle_patches))\n",
    "\n",
    "test_df.progress_apply(lambda row: row_plot_rectangles(row, ax), axis=1)\n",
    "\n",
    "ax.set_ylim(0,5)\n",
    "ax.set_xlim(0,1000)\n",
    "fig.show()"
   ],
   "metadata": {
    "collapsed": false,
    "pycharm": {
     "name": "#%%\n"
    }
   }
  },
  {
   "cell_type": "code",
   "execution_count": null,
   "outputs": [],
   "source": [],
   "metadata": {
    "collapsed": false,
    "pycharm": {
     "name": "#%%\n"
    }
   }
  }
 ],
 "metadata": {
  "kernelspec": {
   "display_name": "Python 3",
   "language": "python",
   "name": "python3"
  },
  "language_info": {
   "codemirror_mode": {
    "name": "ipython",
    "version": 2
   },
   "file_extension": ".py",
   "mimetype": "text/x-python",
   "name": "python",
   "nbconvert_exporter": "python",
   "pygments_lexer": "ipython2",
   "version": "2.7.6"
  }
 },
 "nbformat": 4,
 "nbformat_minor": 0
}