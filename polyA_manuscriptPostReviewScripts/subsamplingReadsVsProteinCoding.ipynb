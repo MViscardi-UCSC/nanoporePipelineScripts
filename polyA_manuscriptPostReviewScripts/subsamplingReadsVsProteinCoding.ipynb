{
 "cells": [
  {
   "cell_type": "markdown",
   "source": [
    "# subsamplingReadsVsProteinCoding.ipynb\n",
    "## Marcus Viscardi      June 21, 2022\n",
    "\n",
    "### Abstract:\n",
    "Goal is to produce a plot to assess sequencing saturation of the polyA and totalRNA libraries. The plot will have \"total number of reads\" on the X axis and \"total number of protein coding reads\" on the Y axis.\n",
    "Initially the plot will only have 4 points for the four libraries, but from there I can subsample each library (fractionally?) to produce curves coming off each point and going towards the origin.\n",
    "\n",
    "### Data Structure:\n",
    "1. Table with all reads, with columns for:\n",
    "    - Read_id because it would be good to be sure stuff isn't duplicate!\n",
    "    - If read mapped to a protein coding gene\n",
    "        - This won't have to have come from featureCounts, in this analysis we don't care about non-protein-coding things... eventually we will thou...\n",
    "        - This could initially just be gene_id, which I can convert to protein_coding or not with a GTF file\n",
    "2. From Table 1, subsample (over and over) to get counts of protein_coding reads and overall reads\n",
    "\n",
    "The easy source for Table 1 is going to be the mergedOnReads dataframe (the version that didn't drop unmapped reads), the RIGHT source will probably be featureCounts output... I COULD try it with both, and compare? Honestly, probably the move."
   ],
   "metadata": {
    "collapsed": false,
    "pycharm": {
     "name": "#%% md\n"
    }
   }
  },
  {
   "cell_type": "code",
   "execution_count": 4,
   "outputs": [
    {
     "name": "stdout",
     "output_type": "stream",
     "text": [
      "imports done!\n"
     ]
    }
   ],
   "source": [
    "import numpy as np\n",
    "import pandas as pd\n",
    "pd.set_option('display.width', 200)\n",
    "pd.set_option('display.max_columns', None)\n",
    "\n",
    "import scipy.stats as stats\n",
    "\n",
    "import nanoporePipelineCommon as npCommon\n",
    "\n",
    "from tqdm.notebook import tqdm\n",
    "from pprint import pprint\n",
    "\n",
    "import seaborn as sea\n",
    "import matplotlib.pyplot as plt\n",
    "import plotly.express as px\n",
    "import plotly.graph_objects as go\n",
    "print(\"imports done!\")"
   ],
   "metadata": {
    "collapsed": false,
    "pycharm": {
     "name": "#%%\n"
    }
   }
  },
  {
   "cell_type": "code",
   "execution_count": 22,
   "outputs": [
    {
     "name": "stdout",
     "output_type": "stream",
     "text": [
      "Loading readAssignments file from: /data16/marcus/genomes/elegansRelease100/Caenorhabditis_elegans.WBcel235.100.allChrs.parquet... Done.\n",
      "Looking for files for libraries: ['polyA2', 'polyA3', 'totalRNA2', 'totalRNA3']\n",
      "Looking for file for totalRNA2, at /data16/marcus/working/210720_nanoporeRun_totalRNA_0639_L3_replicate/output_dir/merge_files/*_mergedOnReads.parquet... File Found.\n",
      "Looking for file for polyA2, at /data16/marcus/working/210719_nanoporeRun_polyA_0639_L3_replicate/output_dir/merge_files/*_mergedOnReads.parquet... File Found.\n",
      "Looking for file for polyA3, at /data16/marcus/working/220131_nanoporeRun_polyA_0639_L3_third/output_dir/merge_files/*_mergedOnReads.parquet... File Found.\n",
      "Looking for file for totalRNA3, at /data16/marcus/working/220131_nanoporeRun_totalRNA_0639_L3_third/output_dir/merge_files/*_mergedOnReads.parquet... File Found.\n",
      "Loading parquet for totalRNA2 lib... Done.\n",
      "'original_chr_pos' column already found in dataframe, skipping adjustment for 5'ends!\n",
      "Loading parquet for polyA2 lib... Done.\n",
      "'original_chr_pos' column already found in dataframe, skipping adjustment for 5'ends!\n",
      "Loading parquet for polyA3 lib... Done.\n",
      "'original_chr_pos' column already found in dataframe, skipping adjustment for 5'ends!\n",
      "Loading parquet for totalRNA3 lib... Done.\n",
      "'original_chr_pos' column already found in dataframe, skipping adjustment for 5'ends!\n",
      "Finished assignment merge!. . .\n",
      "Creating groupby dataframe merged on: ['lib', 'chr_id', 'gene_id', 'gene_name']\n"
     ]
    },
    {
     "name": "stderr",
     "output_type": "stream",
     "text": [
      "Counting reads per gene: 100%|██████████| 53363/53363 [00:00<00:00, 67057.32it/s] \n"
     ]
    },
    {
     "name": "stdout",
     "output_type": "stream",
     "text": [
      "Gene counts pre sub-1 gene_hits drop:  53363\n",
      "Gene counts post sub-1 gene_hits drop:  53363\n",
      "library load done.\n"
     ]
    }
   ],
   "source": [
    "libs_to_get = [\"polyA2\", \"polyA3\", \"totalRNA2\", \"totalRNA3\"]\n",
    "reads_df_genes_raw, compressed_df_genes_raw = npCommon.load_and_merge_lib_parquets(libs_to_get, drop_sub_n=1, add_tail_groupings=False, drop_failed_polya=False, group_by_t5=False, drop_unassigned=False)\n",
    "print(\"library load done.\")\n",
    "\n",
    "\n",
    "# lib_path_dict = npCommon.pick_libs_return_paths_dict([\"polyA2\", \"polyA3\", \"totalRNA2\", \"totalRNA3\"])\n",
    "# lib_dict_raw = {lib: pd.read_parquet(path) for lib, path in lib_path_dict.items()}\n",
    "# print(\"loading done!\")"
   ],
   "metadata": {
    "collapsed": false,
    "pycharm": {
     "name": "#%%\n"
    }
   }
  },
  {
   "cell_type": "markdown",
   "source": [
    "### First rough attempt:\n",
    "Taking advantage of the idea that the joshMethod ONLY assigns reads to protein coding genes, so if it's assigned: it's protein coding!"
   ],
   "metadata": {
    "collapsed": false,
    "pycharm": {
     "name": "#%% md\n"
    }
   }
  },
  {
   "cell_type": "code",
   "execution_count": 24,
   "outputs": [],
   "source": [
    "reads_df = reads_df_genes_raw.copy()\n",
    "group_df = reads_df.groupby(reads_df.lib)\n",
    "lib_dict_raw = {}\n",
    "for lib in libs_to_get:\n",
    "    # lib_dict_raw[lib] = reads_df.loc[reads_df.lib == lib]\n",
    "    lib_dict_raw[lib] = group_df.get_group(lib)"
   ],
   "metadata": {
    "collapsed": false,
    "pycharm": {
     "name": "#%%\n"
    }
   }
  },
  {
   "cell_type": "code",
   "execution_count": 25,
   "outputs": [
    {
     "name": "stdout",
     "output_type": "stream",
     "text": [
      "polyA2 Index(['lib', 'read_id', 'chr_id', 'chr_pos', 'original_chr_pos', 'gene_id', 'gene_name', 'cigar', 'sequence', 'polya_length', 'strand', 'read_length', 'assigned_by_joshMethod'], dtype='object')\n",
      "polyA3 Index(['lib', 'read_id', 'chr_id', 'chr_pos', 'original_chr_pos', 'gene_id', 'gene_name', 'cigar', 'sequence', 'polya_length', 'strand', 'read_length', 'assigned_by_joshMethod'], dtype='object')\n",
      "totalRNA2 Index(['lib', 'read_id', 'chr_id', 'chr_pos', 'original_chr_pos', 'gene_id', 'gene_name', 'cigar', 'sequence', 'polya_length', 'strand', 'read_length', 'assigned_by_joshMethod'], dtype='object')\n",
      "totalRNA3 Index(['lib', 'read_id', 'chr_id', 'chr_pos', 'original_chr_pos', 'gene_id', 'gene_name', 'cigar', 'sequence', 'polya_length', 'strand', 'read_length', 'assigned_by_joshMethod'], dtype='object')\n"
     ]
    }
   ],
   "source": [
    "lib_dict = {lib: df.copy() for lib, df in lib_dict_raw.items()}\n",
    "for lib, df in lib_dict.items():\n",
    "    df['assigned_by_joshMethod'] = ~df.gene_name.isna()\n",
    "    try:\n",
    "        df['assigned_by_featureCounts'] = ~df.gene_name_fromFeatureCounts.isna()\n",
    "    except AttributeError:\n",
    "        print(lib, df.columns)\n",
    "    df['protein_coding'] = df['assigned_by_joshMethod']"
   ],
   "metadata": {
    "collapsed": false,
    "pycharm": {
     "name": "#%%\n"
    }
   }
  },
  {
   "cell_type": "code",
   "execution_count": 40,
   "outputs": [
    {
     "data": {
      "text/plain": "Subsampling for polyA2:   0%|          | 0/100 [00:00<?, ?it/s]",
      "application/vnd.jupyter.widget-view+json": {
       "version_major": 2,
       "version_minor": 0,
       "model_id": "a8ae286ac17b4bc9adc43212ee943131"
      }
     },
     "metadata": {},
     "output_type": "display_data"
    },
    {
     "data": {
      "text/plain": "Calculating subsamples for fractional size: 1.0:   0%|          | 0/100 [00:00<?, ?it/s]",
      "application/vnd.jupyter.widget-view+json": {
       "version_major": 2,
       "version_minor": 0,
       "model_id": "718adc0da4914b7bb0d6d0ea9e008bf6"
      }
     },
     "metadata": {},
     "output_type": "display_data"
    },
    {
     "data": {
      "text/plain": "Calculating subsamples for fractional size: 0.99:   0%|          | 0/100 [00:00<?, ?it/s]",
      "application/vnd.jupyter.widget-view+json": {
       "version_major": 2,
       "version_minor": 0,
       "model_id": "b1f72e192c104e0fa1ce4c4f7fa5b60d"
      }
     },
     "metadata": {},
     "output_type": "display_data"
    },
    {
     "data": {
      "text/plain": "Calculating subsamples for fractional size: 0.98:   0%|          | 0/100 [00:00<?, ?it/s]",
      "application/vnd.jupyter.widget-view+json": {
       "version_major": 2,
       "version_minor": 0,
       "model_id": "f8ffe57a6c2d4c1592b2778300bfc7b1"
      }
     },
     "metadata": {},
     "output_type": "display_data"
    },
    {
     "data": {
      "text/plain": "Calculating subsamples for fractional size: 0.97:   0%|          | 0/100 [00:00<?, ?it/s]",
      "application/vnd.jupyter.widget-view+json": {
       "version_major": 2,
       "version_minor": 0,
       "model_id": "78a8d86ae42d44ef98da715187f14d73"
      }
     },
     "metadata": {},
     "output_type": "display_data"
    },
    {
     "data": {
      "text/plain": "Calculating subsamples for fractional size: 0.96:   0%|          | 0/100 [00:00<?, ?it/s]",
      "application/vnd.jupyter.widget-view+json": {
       "version_major": 2,
       "version_minor": 0,
       "model_id": "5beac709aa94446ea05dc322da0e7833"
      }
     },
     "metadata": {},
     "output_type": "display_data"
    },
    {
     "data": {
      "text/plain": "Calculating subsamples for fractional size: 0.95:   0%|          | 0/100 [00:00<?, ?it/s]",
      "application/vnd.jupyter.widget-view+json": {
       "version_major": 2,
       "version_minor": 0,
       "model_id": "08b74b9e44a74996bc7f7ff800900604"
      }
     },
     "metadata": {},
     "output_type": "display_data"
    },
    {
     "data": {
      "text/plain": "Calculating subsamples for fractional size: 0.94:   0%|          | 0/100 [00:00<?, ?it/s]",
      "application/vnd.jupyter.widget-view+json": {
       "version_major": 2,
       "version_minor": 0,
       "model_id": "8f5edf27c5004c6897b9e5b2db1eb997"
      }
     },
     "metadata": {},
     "output_type": "display_data"
    },
    {
     "data": {
      "text/plain": "Calculating subsamples for fractional size: 0.93:   0%|          | 0/100 [00:00<?, ?it/s]",
      "application/vnd.jupyter.widget-view+json": {
       "version_major": 2,
       "version_minor": 0,
       "model_id": "19fe3111072a42c3a547b4ca04f11d1b"
      }
     },
     "metadata": {},
     "output_type": "display_data"
    },
    {
     "data": {
      "text/plain": "Calculating subsamples for fractional size: 0.92:   0%|          | 0/100 [00:00<?, ?it/s]",
      "application/vnd.jupyter.widget-view+json": {
       "version_major": 2,
       "version_minor": 0,
       "model_id": "028abd9521fa40249264fdc4493bd97d"
      }
     },
     "metadata": {},
     "output_type": "display_data"
    },
    {
     "data": {
      "text/plain": "Calculating subsamples for fractional size: 0.91:   0%|          | 0/100 [00:00<?, ?it/s]",
      "application/vnd.jupyter.widget-view+json": {
       "version_major": 2,
       "version_minor": 0,
       "model_id": "ccadd8505a72477abed80613591064ad"
      }
     },
     "metadata": {},
     "output_type": "display_data"
    },
    {
     "data": {
      "text/plain": "Calculating subsamples for fractional size: 0.9:   0%|          | 0/100 [00:00<?, ?it/s]",
      "application/vnd.jupyter.widget-view+json": {
       "version_major": 2,
       "version_minor": 0,
       "model_id": "e108ff858a5441b394af52f493ce1a5e"
      }
     },
     "metadata": {},
     "output_type": "display_data"
    },
    {
     "data": {
      "text/plain": "Calculating subsamples for fractional size: 0.89:   0%|          | 0/100 [00:00<?, ?it/s]",
      "application/vnd.jupyter.widget-view+json": {
       "version_major": 2,
       "version_minor": 0,
       "model_id": "e3ba95da4742434c9f6c7ba2cbe43cdd"
      }
     },
     "metadata": {},
     "output_type": "display_data"
    },
    {
     "data": {
      "text/plain": "Calculating subsamples for fractional size: 0.88:   0%|          | 0/100 [00:00<?, ?it/s]",
      "application/vnd.jupyter.widget-view+json": {
       "version_major": 2,
       "version_minor": 0,
       "model_id": "61a9c840c085407098af3576eaed16b3"
      }
     },
     "metadata": {},
     "output_type": "display_data"
    },
    {
     "data": {
      "text/plain": "Calculating subsamples for fractional size: 0.87:   0%|          | 0/100 [00:00<?, ?it/s]",
      "application/vnd.jupyter.widget-view+json": {
       "version_major": 2,
       "version_minor": 0,
       "model_id": "4a40a78bf961497d811534e7fb418713"
      }
     },
     "metadata": {},
     "output_type": "display_data"
    },
    {
     "data": {
      "text/plain": "Calculating subsamples for fractional size: 0.86:   0%|          | 0/100 [00:00<?, ?it/s]",
      "application/vnd.jupyter.widget-view+json": {
       "version_major": 2,
       "version_minor": 0,
       "model_id": "5c0ba9e0056449af85a7f44b59dc5462"
      }
     },
     "metadata": {},
     "output_type": "display_data"
    },
    {
     "data": {
      "text/plain": "Calculating subsamples for fractional size: 0.85:   0%|          | 0/100 [00:00<?, ?it/s]",
      "application/vnd.jupyter.widget-view+json": {
       "version_major": 2,
       "version_minor": 0,
       "model_id": "62a1eb9d92754a85b316ab51e82bfa7a"
      }
     },
     "metadata": {},
     "output_type": "display_data"
    },
    {
     "data": {
      "text/plain": "Calculating subsamples for fractional size: 0.84:   0%|          | 0/100 [00:00<?, ?it/s]",
      "application/vnd.jupyter.widget-view+json": {
       "version_major": 2,
       "version_minor": 0,
       "model_id": "054276f27aca49ffa1b39ff91cd3d409"
      }
     },
     "metadata": {},
     "output_type": "display_data"
    },
    {
     "data": {
      "text/plain": "Calculating subsamples for fractional size: 0.83:   0%|          | 0/100 [00:00<?, ?it/s]",
      "application/vnd.jupyter.widget-view+json": {
       "version_major": 2,
       "version_minor": 0,
       "model_id": "243a88255be94f0c9b22571803f4a414"
      }
     },
     "metadata": {},
     "output_type": "display_data"
    },
    {
     "data": {
      "text/plain": "Calculating subsamples for fractional size: 0.82:   0%|          | 0/100 [00:00<?, ?it/s]",
      "application/vnd.jupyter.widget-view+json": {
       "version_major": 2,
       "version_minor": 0,
       "model_id": "32c39b270dbd42efb6742bce671023ca"
      }
     },
     "metadata": {},
     "output_type": "display_data"
    },
    {
     "data": {
      "text/plain": "Calculating subsamples for fractional size: 0.81:   0%|          | 0/100 [00:00<?, ?it/s]",
      "application/vnd.jupyter.widget-view+json": {
       "version_major": 2,
       "version_minor": 0,
       "model_id": "64fbd873cdb4427fb798af2201374fb2"
      }
     },
     "metadata": {},
     "output_type": "display_data"
    },
    {
     "data": {
      "text/plain": "Calculating subsamples for fractional size: 0.8:   0%|          | 0/100 [00:00<?, ?it/s]",
      "application/vnd.jupyter.widget-view+json": {
       "version_major": 2,
       "version_minor": 0,
       "model_id": "5227f354cd194c3180bc738d00d3ecd0"
      }
     },
     "metadata": {},
     "output_type": "display_data"
    },
    {
     "data": {
      "text/plain": "Calculating subsamples for fractional size: 0.79:   0%|          | 0/100 [00:00<?, ?it/s]",
      "application/vnd.jupyter.widget-view+json": {
       "version_major": 2,
       "version_minor": 0,
       "model_id": "dadfa880403646f3ae33112394c0a40f"
      }
     },
     "metadata": {},
     "output_type": "display_data"
    },
    {
     "data": {
      "text/plain": "Calculating subsamples for fractional size: 0.78:   0%|          | 0/100 [00:00<?, ?it/s]",
      "application/vnd.jupyter.widget-view+json": {
       "version_major": 2,
       "version_minor": 0,
       "model_id": "8dbfb5a7face47d0bf2766ecad1c8b01"
      }
     },
     "metadata": {},
     "output_type": "display_data"
    },
    {
     "data": {
      "text/plain": "Calculating subsamples for fractional size: 0.77:   0%|          | 0/100 [00:00<?, ?it/s]",
      "application/vnd.jupyter.widget-view+json": {
       "version_major": 2,
       "version_minor": 0,
       "model_id": "4dd46d5bb6a74973b387bc4a7ec51a51"
      }
     },
     "metadata": {},
     "output_type": "display_data"
    },
    {
     "data": {
      "text/plain": "Calculating subsamples for fractional size: 0.76:   0%|          | 0/100 [00:00<?, ?it/s]",
      "application/vnd.jupyter.widget-view+json": {
       "version_major": 2,
       "version_minor": 0,
       "model_id": "da3c31438c7c415e905e3c8b9bb1f85e"
      }
     },
     "metadata": {},
     "output_type": "display_data"
    },
    {
     "data": {
      "text/plain": "Calculating subsamples for fractional size: 0.75:   0%|          | 0/100 [00:00<?, ?it/s]",
      "application/vnd.jupyter.widget-view+json": {
       "version_major": 2,
       "version_minor": 0,
       "model_id": "97c712b2673c45b3baa0821489f2fc54"
      }
     },
     "metadata": {},
     "output_type": "display_data"
    },
    {
     "data": {
      "text/plain": "Calculating subsamples for fractional size: 0.74:   0%|          | 0/100 [00:00<?, ?it/s]",
      "application/vnd.jupyter.widget-view+json": {
       "version_major": 2,
       "version_minor": 0,
       "model_id": "d611c796f45d457b9e24a4680635712e"
      }
     },
     "metadata": {},
     "output_type": "display_data"
    },
    {
     "data": {
      "text/plain": "Calculating subsamples for fractional size: 0.73:   0%|          | 0/100 [00:00<?, ?it/s]",
      "application/vnd.jupyter.widget-view+json": {
       "version_major": 2,
       "version_minor": 0,
       "model_id": "9be694e53a10414ab5699160f5e5f3dd"
      }
     },
     "metadata": {},
     "output_type": "display_data"
    },
    {
     "data": {
      "text/plain": "Calculating subsamples for fractional size: 0.72:   0%|          | 0/100 [00:00<?, ?it/s]",
      "application/vnd.jupyter.widget-view+json": {
       "version_major": 2,
       "version_minor": 0,
       "model_id": "0bcbefc7064341919dafd83eacb559a3"
      }
     },
     "metadata": {},
     "output_type": "display_data"
    },
    {
     "data": {
      "text/plain": "Calculating subsamples for fractional size: 0.71:   0%|          | 0/100 [00:00<?, ?it/s]",
      "application/vnd.jupyter.widget-view+json": {
       "version_major": 2,
       "version_minor": 0,
       "model_id": "1cf729b55c3e4d789de8cfafa652638d"
      }
     },
     "metadata": {},
     "output_type": "display_data"
    },
    {
     "data": {
      "text/plain": "Calculating subsamples for fractional size: 0.7:   0%|          | 0/100 [00:00<?, ?it/s]",
      "application/vnd.jupyter.widget-view+json": {
       "version_major": 2,
       "version_minor": 0,
       "model_id": "51ef6df0cd544b819cd545bdd01fd6cd"
      }
     },
     "metadata": {},
     "output_type": "display_data"
    },
    {
     "data": {
      "text/plain": "Calculating subsamples for fractional size: 0.69:   0%|          | 0/100 [00:00<?, ?it/s]",
      "application/vnd.jupyter.widget-view+json": {
       "version_major": 2,
       "version_minor": 0,
       "model_id": "07c7a2a017064d779734cae1335af557"
      }
     },
     "metadata": {},
     "output_type": "display_data"
    },
    {
     "data": {
      "text/plain": "Calculating subsamples for fractional size: 0.68:   0%|          | 0/100 [00:00<?, ?it/s]",
      "application/vnd.jupyter.widget-view+json": {
       "version_major": 2,
       "version_minor": 0,
       "model_id": "25d19a537cc44317b336e3233b8a6b27"
      }
     },
     "metadata": {},
     "output_type": "display_data"
    },
    {
     "data": {
      "text/plain": "Calculating subsamples for fractional size: 0.67:   0%|          | 0/100 [00:00<?, ?it/s]",
      "application/vnd.jupyter.widget-view+json": {
       "version_major": 2,
       "version_minor": 0,
       "model_id": "fac794c14f69449488015194e53f9b01"
      }
     },
     "metadata": {},
     "output_type": "display_data"
    },
    {
     "data": {
      "text/plain": "Calculating subsamples for fractional size: 0.66:   0%|          | 0/100 [00:00<?, ?it/s]",
      "application/vnd.jupyter.widget-view+json": {
       "version_major": 2,
       "version_minor": 0,
       "model_id": "c2e732be282448f592180f1c6519cc10"
      }
     },
     "metadata": {},
     "output_type": "display_data"
    },
    {
     "data": {
      "text/plain": "Calculating subsamples for fractional size: 0.65:   0%|          | 0/100 [00:00<?, ?it/s]",
      "application/vnd.jupyter.widget-view+json": {
       "version_major": 2,
       "version_minor": 0,
       "model_id": "e37069d29ec54cafbfb6671709c30d47"
      }
     },
     "metadata": {},
     "output_type": "display_data"
    },
    {
     "data": {
      "text/plain": "Calculating subsamples for fractional size: 0.64:   0%|          | 0/100 [00:00<?, ?it/s]",
      "application/vnd.jupyter.widget-view+json": {
       "version_major": 2,
       "version_minor": 0,
       "model_id": "f5ee14591a6f4bfc84256955609d2adb"
      }
     },
     "metadata": {},
     "output_type": "display_data"
    },
    {
     "data": {
      "text/plain": "Calculating subsamples for fractional size: 0.63:   0%|          | 0/100 [00:00<?, ?it/s]",
      "application/vnd.jupyter.widget-view+json": {
       "version_major": 2,
       "version_minor": 0,
       "model_id": "fbb7ecffa18b4b828773a5ac6dfa8f47"
      }
     },
     "metadata": {},
     "output_type": "display_data"
    },
    {
     "data": {
      "text/plain": "Calculating subsamples for fractional size: 0.62:   0%|          | 0/100 [00:00<?, ?it/s]",
      "application/vnd.jupyter.widget-view+json": {
       "version_major": 2,
       "version_minor": 0,
       "model_id": "a2d83f6dd6f64b88870e99b493a532d6"
      }
     },
     "metadata": {},
     "output_type": "display_data"
    },
    {
     "data": {
      "text/plain": "Calculating subsamples for fractional size: 0.61:   0%|          | 0/100 [00:00<?, ?it/s]",
      "application/vnd.jupyter.widget-view+json": {
       "version_major": 2,
       "version_minor": 0,
       "model_id": "0a23580092c5462bbaebaaddea667fa4"
      }
     },
     "metadata": {},
     "output_type": "display_data"
    },
    {
     "data": {
      "text/plain": "Calculating subsamples for fractional size: 0.6:   0%|          | 0/100 [00:00<?, ?it/s]",
      "application/vnd.jupyter.widget-view+json": {
       "version_major": 2,
       "version_minor": 0,
       "model_id": "ebda4c1aa6e140efa0ddb74ee5426736"
      }
     },
     "metadata": {},
     "output_type": "display_data"
    },
    {
     "data": {
      "text/plain": "Calculating subsamples for fractional size: 0.59:   0%|          | 0/100 [00:00<?, ?it/s]",
      "application/vnd.jupyter.widget-view+json": {
       "version_major": 2,
       "version_minor": 0,
       "model_id": "ef8bacd6b0ce4146ad964e386057758b"
      }
     },
     "metadata": {},
     "output_type": "display_data"
    },
    {
     "data": {
      "text/plain": "Calculating subsamples for fractional size: 0.58:   0%|          | 0/100 [00:00<?, ?it/s]",
      "application/vnd.jupyter.widget-view+json": {
       "version_major": 2,
       "version_minor": 0,
       "model_id": "d49f0494f6c34310b0bbb61361577287"
      }
     },
     "metadata": {},
     "output_type": "display_data"
    },
    {
     "data": {
      "text/plain": "Calculating subsamples for fractional size: 0.57:   0%|          | 0/100 [00:00<?, ?it/s]",
      "application/vnd.jupyter.widget-view+json": {
       "version_major": 2,
       "version_minor": 0,
       "model_id": "a415a89f82e842f58cfda23e7b934c60"
      }
     },
     "metadata": {},
     "output_type": "display_data"
    },
    {
     "data": {
      "text/plain": "Calculating subsamples for fractional size: 0.56:   0%|          | 0/100 [00:00<?, ?it/s]",
      "application/vnd.jupyter.widget-view+json": {
       "version_major": 2,
       "version_minor": 0,
       "model_id": "cff5b8d1a403440f83d3f6d8b86eed57"
      }
     },
     "metadata": {},
     "output_type": "display_data"
    },
    {
     "data": {
      "text/plain": "Calculating subsamples for fractional size: 0.55:   0%|          | 0/100 [00:00<?, ?it/s]",
      "application/vnd.jupyter.widget-view+json": {
       "version_major": 2,
       "version_minor": 0,
       "model_id": "5639a2465fbc4ba885d55313028e9cbe"
      }
     },
     "metadata": {},
     "output_type": "display_data"
    },
    {
     "data": {
      "text/plain": "Calculating subsamples for fractional size: 0.54:   0%|          | 0/100 [00:00<?, ?it/s]",
      "application/vnd.jupyter.widget-view+json": {
       "version_major": 2,
       "version_minor": 0,
       "model_id": "4640b9e4468943d097892285ecebec47"
      }
     },
     "metadata": {},
     "output_type": "display_data"
    },
    {
     "data": {
      "text/plain": "Calculating subsamples for fractional size: 0.53:   0%|          | 0/100 [00:00<?, ?it/s]",
      "application/vnd.jupyter.widget-view+json": {
       "version_major": 2,
       "version_minor": 0,
       "model_id": "d7bdad4c1ed341c2aa6420bf624789cd"
      }
     },
     "metadata": {},
     "output_type": "display_data"
    },
    {
     "data": {
      "text/plain": "Calculating subsamples for fractional size: 0.52:   0%|          | 0/100 [00:00<?, ?it/s]",
      "application/vnd.jupyter.widget-view+json": {
       "version_major": 2,
       "version_minor": 0,
       "model_id": "c8e9c62b76f64aaa9ea940e83a9ab321"
      }
     },
     "metadata": {},
     "output_type": "display_data"
    },
    {
     "data": {
      "text/plain": "Calculating subsamples for fractional size: 0.51:   0%|          | 0/100 [00:00<?, ?it/s]",
      "application/vnd.jupyter.widget-view+json": {
       "version_major": 2,
       "version_minor": 0,
       "model_id": "96162baf0ed346fe8e92cdfb4f14cee1"
      }
     },
     "metadata": {},
     "output_type": "display_data"
    },
    {
     "data": {
      "text/plain": "Calculating subsamples for fractional size: 0.5:   0%|          | 0/100 [00:00<?, ?it/s]",
      "application/vnd.jupyter.widget-view+json": {
       "version_major": 2,
       "version_minor": 0,
       "model_id": "abb3dc27cc76486abca262a818bd83f4"
      }
     },
     "metadata": {},
     "output_type": "display_data"
    },
    {
     "data": {
      "text/plain": "Calculating subsamples for fractional size: 0.49:   0%|          | 0/100 [00:00<?, ?it/s]",
      "application/vnd.jupyter.widget-view+json": {
       "version_major": 2,
       "version_minor": 0,
       "model_id": "a80474567c1e4c2285806db40b836cbe"
      }
     },
     "metadata": {},
     "output_type": "display_data"
    },
    {
     "data": {
      "text/plain": "Calculating subsamples for fractional size: 0.48:   0%|          | 0/100 [00:00<?, ?it/s]",
      "application/vnd.jupyter.widget-view+json": {
       "version_major": 2,
       "version_minor": 0,
       "model_id": "9e5aac676ba2484b85a1e50ea71385d0"
      }
     },
     "metadata": {},
     "output_type": "display_data"
    },
    {
     "data": {
      "text/plain": "Calculating subsamples for fractional size: 0.47:   0%|          | 0/100 [00:00<?, ?it/s]",
      "application/vnd.jupyter.widget-view+json": {
       "version_major": 2,
       "version_minor": 0,
       "model_id": "045fa22b15cd46de854f392a73a0bbb9"
      }
     },
     "metadata": {},
     "output_type": "display_data"
    },
    {
     "data": {
      "text/plain": "Calculating subsamples for fractional size: 0.46:   0%|          | 0/100 [00:00<?, ?it/s]",
      "application/vnd.jupyter.widget-view+json": {
       "version_major": 2,
       "version_minor": 0,
       "model_id": "01603792f67f4788b875ad7c5f4599fb"
      }
     },
     "metadata": {},
     "output_type": "display_data"
    },
    {
     "data": {
      "text/plain": "Calculating subsamples for fractional size: 0.45:   0%|          | 0/100 [00:00<?, ?it/s]",
      "application/vnd.jupyter.widget-view+json": {
       "version_major": 2,
       "version_minor": 0,
       "model_id": "7d08caa110d541ad93e9ebdfa5f30ea7"
      }
     },
     "metadata": {},
     "output_type": "display_data"
    },
    {
     "data": {
      "text/plain": "Calculating subsamples for fractional size: 0.44:   0%|          | 0/100 [00:00<?, ?it/s]",
      "application/vnd.jupyter.widget-view+json": {
       "version_major": 2,
       "version_minor": 0,
       "model_id": "39dc9f460ca04393a425b9af6fdf33d6"
      }
     },
     "metadata": {},
     "output_type": "display_data"
    },
    {
     "data": {
      "text/plain": "Calculating subsamples for fractional size: 0.43:   0%|          | 0/100 [00:00<?, ?it/s]",
      "application/vnd.jupyter.widget-view+json": {
       "version_major": 2,
       "version_minor": 0,
       "model_id": "3e79bbaa53d341f59313c2f5374745d2"
      }
     },
     "metadata": {},
     "output_type": "display_data"
    },
    {
     "data": {
      "text/plain": "Calculating subsamples for fractional size: 0.42:   0%|          | 0/100 [00:00<?, ?it/s]",
      "application/vnd.jupyter.widget-view+json": {
       "version_major": 2,
       "version_minor": 0,
       "model_id": "c8bc1973215144eeb97e2fb6a70f5e35"
      }
     },
     "metadata": {},
     "output_type": "display_data"
    },
    {
     "data": {
      "text/plain": "Calculating subsamples for fractional size: 0.41:   0%|          | 0/100 [00:00<?, ?it/s]",
      "application/vnd.jupyter.widget-view+json": {
       "version_major": 2,
       "version_minor": 0,
       "model_id": "d4fc11cd1aed472eaff344f0b5ef7146"
      }
     },
     "metadata": {},
     "output_type": "display_data"
    },
    {
     "data": {
      "text/plain": "Calculating subsamples for fractional size: 0.4:   0%|          | 0/100 [00:00<?, ?it/s]",
      "application/vnd.jupyter.widget-view+json": {
       "version_major": 2,
       "version_minor": 0,
       "model_id": "78addd0d0995468ea9ff7942b5cb5683"
      }
     },
     "metadata": {},
     "output_type": "display_data"
    },
    {
     "data": {
      "text/plain": "Calculating subsamples for fractional size: 0.39:   0%|          | 0/100 [00:00<?, ?it/s]",
      "application/vnd.jupyter.widget-view+json": {
       "version_major": 2,
       "version_minor": 0,
       "model_id": "3ca97fd3ad9b4ebaab41db0834080449"
      }
     },
     "metadata": {},
     "output_type": "display_data"
    },
    {
     "data": {
      "text/plain": "Calculating subsamples for fractional size: 0.38:   0%|          | 0/100 [00:00<?, ?it/s]",
      "application/vnd.jupyter.widget-view+json": {
       "version_major": 2,
       "version_minor": 0,
       "model_id": "b12057d6bf8649fcb9dd7a6f4d4b4fcc"
      }
     },
     "metadata": {},
     "output_type": "display_data"
    },
    {
     "data": {
      "text/plain": "Calculating subsamples for fractional size: 0.37:   0%|          | 0/100 [00:00<?, ?it/s]",
      "application/vnd.jupyter.widget-view+json": {
       "version_major": 2,
       "version_minor": 0,
       "model_id": "63815d7fb11c40abb3239d1ca61143d9"
      }
     },
     "metadata": {},
     "output_type": "display_data"
    },
    {
     "data": {
      "text/plain": "Calculating subsamples for fractional size: 0.36:   0%|          | 0/100 [00:00<?, ?it/s]",
      "application/vnd.jupyter.widget-view+json": {
       "version_major": 2,
       "version_minor": 0,
       "model_id": "73f3147537dc466890f2ae0fb5435be7"
      }
     },
     "metadata": {},
     "output_type": "display_data"
    },
    {
     "data": {
      "text/plain": "Calculating subsamples for fractional size: 0.35:   0%|          | 0/100 [00:00<?, ?it/s]",
      "application/vnd.jupyter.widget-view+json": {
       "version_major": 2,
       "version_minor": 0,
       "model_id": "5baad5b20a9f4313987a8d768b05fee0"
      }
     },
     "metadata": {},
     "output_type": "display_data"
    },
    {
     "data": {
      "text/plain": "Calculating subsamples for fractional size: 0.34:   0%|          | 0/100 [00:00<?, ?it/s]",
      "application/vnd.jupyter.widget-view+json": {
       "version_major": 2,
       "version_minor": 0,
       "model_id": "9bb61c9db0c84e048fe019576a4c5ffa"
      }
     },
     "metadata": {},
     "output_type": "display_data"
    },
    {
     "data": {
      "text/plain": "Calculating subsamples for fractional size: 0.33:   0%|          | 0/100 [00:00<?, ?it/s]",
      "application/vnd.jupyter.widget-view+json": {
       "version_major": 2,
       "version_minor": 0,
       "model_id": "5193283a40ed4d038332781ef8ce2a9c"
      }
     },
     "metadata": {},
     "output_type": "display_data"
    },
    {
     "data": {
      "text/plain": "Calculating subsamples for fractional size: 0.32:   0%|          | 0/100 [00:00<?, ?it/s]",
      "application/vnd.jupyter.widget-view+json": {
       "version_major": 2,
       "version_minor": 0,
       "model_id": "b7e5d1d63d524fd8b8995bc0f523bc68"
      }
     },
     "metadata": {},
     "output_type": "display_data"
    },
    {
     "data": {
      "text/plain": "Calculating subsamples for fractional size: 0.31:   0%|          | 0/100 [00:00<?, ?it/s]",
      "application/vnd.jupyter.widget-view+json": {
       "version_major": 2,
       "version_minor": 0,
       "model_id": "206c96b8ab394dab897fae72fe15515d"
      }
     },
     "metadata": {},
     "output_type": "display_data"
    },
    {
     "data": {
      "text/plain": "Calculating subsamples for fractional size: 0.3:   0%|          | 0/100 [00:00<?, ?it/s]",
      "application/vnd.jupyter.widget-view+json": {
       "version_major": 2,
       "version_minor": 0,
       "model_id": "2d0e64b406714cdcb7c8b9a07a7df538"
      }
     },
     "metadata": {},
     "output_type": "display_data"
    },
    {
     "data": {
      "text/plain": "Calculating subsamples for fractional size: 0.29:   0%|          | 0/100 [00:00<?, ?it/s]",
      "application/vnd.jupyter.widget-view+json": {
       "version_major": 2,
       "version_minor": 0,
       "model_id": "58a1109844794510a647003c7ae05b98"
      }
     },
     "metadata": {},
     "output_type": "display_data"
    },
    {
     "data": {
      "text/plain": "Calculating subsamples for fractional size: 0.28:   0%|          | 0/100 [00:00<?, ?it/s]",
      "application/vnd.jupyter.widget-view+json": {
       "version_major": 2,
       "version_minor": 0,
       "model_id": "87912d97a0614c20b72caa45d745b3db"
      }
     },
     "metadata": {},
     "output_type": "display_data"
    },
    {
     "data": {
      "text/plain": "Calculating subsamples for fractional size: 0.27:   0%|          | 0/100 [00:00<?, ?it/s]",
      "application/vnd.jupyter.widget-view+json": {
       "version_major": 2,
       "version_minor": 0,
       "model_id": "2d2dda7a3f0c4e7f9e0e8cb346daa8c1"
      }
     },
     "metadata": {},
     "output_type": "display_data"
    },
    {
     "data": {
      "text/plain": "Calculating subsamples for fractional size: 0.26:   0%|          | 0/100 [00:00<?, ?it/s]",
      "application/vnd.jupyter.widget-view+json": {
       "version_major": 2,
       "version_minor": 0,
       "model_id": "03dc0d31e9064c8bbaf405ff528e8dab"
      }
     },
     "metadata": {},
     "output_type": "display_data"
    },
    {
     "data": {
      "text/plain": "Calculating subsamples for fractional size: 0.25:   0%|          | 0/100 [00:00<?, ?it/s]",
      "application/vnd.jupyter.widget-view+json": {
       "version_major": 2,
       "version_minor": 0,
       "model_id": "d1bcd1205de04f6999b53a3d3c4a82fc"
      }
     },
     "metadata": {},
     "output_type": "display_data"
    },
    {
     "data": {
      "text/plain": "Calculating subsamples for fractional size: 0.24:   0%|          | 0/100 [00:00<?, ?it/s]",
      "application/vnd.jupyter.widget-view+json": {
       "version_major": 2,
       "version_minor": 0,
       "model_id": "e27ce06244334db7b2fba1306576112d"
      }
     },
     "metadata": {},
     "output_type": "display_data"
    },
    {
     "data": {
      "text/plain": "Calculating subsamples for fractional size: 0.23:   0%|          | 0/100 [00:00<?, ?it/s]",
      "application/vnd.jupyter.widget-view+json": {
       "version_major": 2,
       "version_minor": 0,
       "model_id": "a2cd3c262e4c44549aa353379aaa7b24"
      }
     },
     "metadata": {},
     "output_type": "display_data"
    },
    {
     "data": {
      "text/plain": "Calculating subsamples for fractional size: 0.22:   0%|          | 0/100 [00:00<?, ?it/s]",
      "application/vnd.jupyter.widget-view+json": {
       "version_major": 2,
       "version_minor": 0,
       "model_id": "663b3abefa7b4fea916274781426f542"
      }
     },
     "metadata": {},
     "output_type": "display_data"
    },
    {
     "data": {
      "text/plain": "Calculating subsamples for fractional size: 0.21:   0%|          | 0/100 [00:00<?, ?it/s]",
      "application/vnd.jupyter.widget-view+json": {
       "version_major": 2,
       "version_minor": 0,
       "model_id": "c3a466c626f04c42aea8b4a93334c64a"
      }
     },
     "metadata": {},
     "output_type": "display_data"
    },
    {
     "data": {
      "text/plain": "Calculating subsamples for fractional size: 0.2:   0%|          | 0/100 [00:00<?, ?it/s]",
      "application/vnd.jupyter.widget-view+json": {
       "version_major": 2,
       "version_minor": 0,
       "model_id": "e1ce942b44b9458ba33aa9dcef14430c"
      }
     },
     "metadata": {},
     "output_type": "display_data"
    },
    {
     "data": {
      "text/plain": "Calculating subsamples for fractional size: 0.19:   0%|          | 0/100 [00:00<?, ?it/s]",
      "application/vnd.jupyter.widget-view+json": {
       "version_major": 2,
       "version_minor": 0,
       "model_id": "83a7835417704d9fa14643480236cc7a"
      }
     },
     "metadata": {},
     "output_type": "display_data"
    },
    {
     "data": {
      "text/plain": "Calculating subsamples for fractional size: 0.18:   0%|          | 0/100 [00:00<?, ?it/s]",
      "application/vnd.jupyter.widget-view+json": {
       "version_major": 2,
       "version_minor": 0,
       "model_id": "443bed490ce143f9ad1f1257eae7a4c9"
      }
     },
     "metadata": {},
     "output_type": "display_data"
    },
    {
     "data": {
      "text/plain": "Calculating subsamples for fractional size: 0.17:   0%|          | 0/100 [00:00<?, ?it/s]",
      "application/vnd.jupyter.widget-view+json": {
       "version_major": 2,
       "version_minor": 0,
       "model_id": "a10baa4d96fe457f85dcf23f85cf44f6"
      }
     },
     "metadata": {},
     "output_type": "display_data"
    },
    {
     "data": {
      "text/plain": "Calculating subsamples for fractional size: 0.16:   0%|          | 0/100 [00:00<?, ?it/s]",
      "application/vnd.jupyter.widget-view+json": {
       "version_major": 2,
       "version_minor": 0,
       "model_id": "4bef12ff47914b0c8a003f9136c2e204"
      }
     },
     "metadata": {},
     "output_type": "display_data"
    },
    {
     "data": {
      "text/plain": "Calculating subsamples for fractional size: 0.15:   0%|          | 0/100 [00:00<?, ?it/s]",
      "application/vnd.jupyter.widget-view+json": {
       "version_major": 2,
       "version_minor": 0,
       "model_id": "e03b9fe002ff468f8e0c86f55dbea617"
      }
     },
     "metadata": {},
     "output_type": "display_data"
    },
    {
     "data": {
      "text/plain": "Calculating subsamples for fractional size: 0.14:   0%|          | 0/100 [00:00<?, ?it/s]",
      "application/vnd.jupyter.widget-view+json": {
       "version_major": 2,
       "version_minor": 0,
       "model_id": "3c7270d2495248c685c29d1e3f9423cd"
      }
     },
     "metadata": {},
     "output_type": "display_data"
    },
    {
     "data": {
      "text/plain": "Calculating subsamples for fractional size: 0.13:   0%|          | 0/100 [00:00<?, ?it/s]",
      "application/vnd.jupyter.widget-view+json": {
       "version_major": 2,
       "version_minor": 0,
       "model_id": "450b1e573b2147e2ac6d6e881c6b10b1"
      }
     },
     "metadata": {},
     "output_type": "display_data"
    },
    {
     "data": {
      "text/plain": "Calculating subsamples for fractional size: 0.12:   0%|          | 0/100 [00:00<?, ?it/s]",
      "application/vnd.jupyter.widget-view+json": {
       "version_major": 2,
       "version_minor": 0,
       "model_id": "d41cb20285454531b20bd70bcd78029a"
      }
     },
     "metadata": {},
     "output_type": "display_data"
    },
    {
     "data": {
      "text/plain": "Calculating subsamples for fractional size: 0.11:   0%|          | 0/100 [00:00<?, ?it/s]",
      "application/vnd.jupyter.widget-view+json": {
       "version_major": 2,
       "version_minor": 0,
       "model_id": "ff974566c4a945159ffd9c252d6d65fa"
      }
     },
     "metadata": {},
     "output_type": "display_data"
    },
    {
     "data": {
      "text/plain": "Calculating subsamples for fractional size: 0.1:   0%|          | 0/100 [00:00<?, ?it/s]",
      "application/vnd.jupyter.widget-view+json": {
       "version_major": 2,
       "version_minor": 0,
       "model_id": "86f092ef9fd945b39ada01fdf5263296"
      }
     },
     "metadata": {},
     "output_type": "display_data"
    },
    {
     "data": {
      "text/plain": "Calculating subsamples for fractional size: 0.09:   0%|          | 0/100 [00:00<?, ?it/s]",
      "application/vnd.jupyter.widget-view+json": {
       "version_major": 2,
       "version_minor": 0,
       "model_id": "38d822cf10bf4cddabd4456a7c90492a"
      }
     },
     "metadata": {},
     "output_type": "display_data"
    },
    {
     "data": {
      "text/plain": "Calculating subsamples for fractional size: 0.08:   0%|          | 0/100 [00:00<?, ?it/s]",
      "application/vnd.jupyter.widget-view+json": {
       "version_major": 2,
       "version_minor": 0,
       "model_id": "574554c3edd84249bc604e64bd9bbebc"
      }
     },
     "metadata": {},
     "output_type": "display_data"
    },
    {
     "data": {
      "text/plain": "Calculating subsamples for fractional size: 0.07:   0%|          | 0/100 [00:00<?, ?it/s]",
      "application/vnd.jupyter.widget-view+json": {
       "version_major": 2,
       "version_minor": 0,
       "model_id": "6e626106e32b4079bd8d495a2d581dc4"
      }
     },
     "metadata": {},
     "output_type": "display_data"
    },
    {
     "data": {
      "text/plain": "Calculating subsamples for fractional size: 0.06:   0%|          | 0/100 [00:00<?, ?it/s]",
      "application/vnd.jupyter.widget-view+json": {
       "version_major": 2,
       "version_minor": 0,
       "model_id": "4642df04ec3e4329957382eab7384d0a"
      }
     },
     "metadata": {},
     "output_type": "display_data"
    },
    {
     "data": {
      "text/plain": "Calculating subsamples for fractional size: 0.05:   0%|          | 0/100 [00:00<?, ?it/s]",
      "application/vnd.jupyter.widget-view+json": {
       "version_major": 2,
       "version_minor": 0,
       "model_id": "8f32268566b548738d917eedbc83e541"
      }
     },
     "metadata": {},
     "output_type": "display_data"
    },
    {
     "data": {
      "text/plain": "Calculating subsamples for fractional size: 0.04:   0%|          | 0/100 [00:00<?, ?it/s]",
      "application/vnd.jupyter.widget-view+json": {
       "version_major": 2,
       "version_minor": 0,
       "model_id": "1201e08909304f489114356d3c9a1b09"
      }
     },
     "metadata": {},
     "output_type": "display_data"
    },
    {
     "data": {
      "text/plain": "Calculating subsamples for fractional size: 0.03:   0%|          | 0/100 [00:00<?, ?it/s]",
      "application/vnd.jupyter.widget-view+json": {
       "version_major": 2,
       "version_minor": 0,
       "model_id": "f3393bb5ca8347179c67fc8c164f081f"
      }
     },
     "metadata": {},
     "output_type": "display_data"
    },
    {
     "data": {
      "text/plain": "Calculating subsamples for fractional size: 0.02:   0%|          | 0/100 [00:00<?, ?it/s]",
      "application/vnd.jupyter.widget-view+json": {
       "version_major": 2,
       "version_minor": 0,
       "model_id": "15a8bda2320143ac968cdcd010cd2879"
      }
     },
     "metadata": {},
     "output_type": "display_data"
    },
    {
     "data": {
      "text/plain": "Calculating subsamples for fractional size: 0.01:   0%|          | 0/100 [00:00<?, ?it/s]",
      "application/vnd.jupyter.widget-view+json": {
       "version_major": 2,
       "version_minor": 0,
       "model_id": "def01d34817140f28e83cebf91211ad5"
      }
     },
     "metadata": {},
     "output_type": "display_data"
    },
    {
     "data": {
      "text/plain": "Subsampling for polyA3:   0%|          | 0/100 [00:00<?, ?it/s]",
      "application/vnd.jupyter.widget-view+json": {
       "version_major": 2,
       "version_minor": 0,
       "model_id": "0346560aaa934b7eaaca25215ac4c7ce"
      }
     },
     "metadata": {},
     "output_type": "display_data"
    },
    {
     "data": {
      "text/plain": "Calculating subsamples for fractional size: 1.0:   0%|          | 0/100 [00:00<?, ?it/s]",
      "application/vnd.jupyter.widget-view+json": {
       "version_major": 2,
       "version_minor": 0,
       "model_id": "5074eac3c96f4e459328e0cead941338"
      }
     },
     "metadata": {},
     "output_type": "display_data"
    },
    {
     "data": {
      "text/plain": "Calculating subsamples for fractional size: 0.99:   0%|          | 0/100 [00:00<?, ?it/s]",
      "application/vnd.jupyter.widget-view+json": {
       "version_major": 2,
       "version_minor": 0,
       "model_id": "ac860d0502ad415584b0a294fde7a7bd"
      }
     },
     "metadata": {},
     "output_type": "display_data"
    },
    {
     "data": {
      "text/plain": "Calculating subsamples for fractional size: 0.98:   0%|          | 0/100 [00:00<?, ?it/s]",
      "application/vnd.jupyter.widget-view+json": {
       "version_major": 2,
       "version_minor": 0,
       "model_id": "712a1ca31e544468b95a0ae9ceb15023"
      }
     },
     "metadata": {},
     "output_type": "display_data"
    },
    {
     "data": {
      "text/plain": "Calculating subsamples for fractional size: 0.97:   0%|          | 0/100 [00:00<?, ?it/s]",
      "application/vnd.jupyter.widget-view+json": {
       "version_major": 2,
       "version_minor": 0,
       "model_id": "f350f7f5000347acad362b9d5840a789"
      }
     },
     "metadata": {},
     "output_type": "display_data"
    },
    {
     "data": {
      "text/plain": "Calculating subsamples for fractional size: 0.96:   0%|          | 0/100 [00:00<?, ?it/s]",
      "application/vnd.jupyter.widget-view+json": {
       "version_major": 2,
       "version_minor": 0,
       "model_id": "08f55e4afd6e456f8383b17e3208c267"
      }
     },
     "metadata": {},
     "output_type": "display_data"
    },
    {
     "data": {
      "text/plain": "Calculating subsamples for fractional size: 0.95:   0%|          | 0/100 [00:00<?, ?it/s]",
      "application/vnd.jupyter.widget-view+json": {
       "version_major": 2,
       "version_minor": 0,
       "model_id": "60eaf915baaa4929ab9dab1a1cdd0ae0"
      }
     },
     "metadata": {},
     "output_type": "display_data"
    },
    {
     "data": {
      "text/plain": "Calculating subsamples for fractional size: 0.94:   0%|          | 0/100 [00:00<?, ?it/s]",
      "application/vnd.jupyter.widget-view+json": {
       "version_major": 2,
       "version_minor": 0,
       "model_id": "aa129a1f347d44fa95eb723d9db88a02"
      }
     },
     "metadata": {},
     "output_type": "display_data"
    },
    {
     "data": {
      "text/plain": "Calculating subsamples for fractional size: 0.93:   0%|          | 0/100 [00:00<?, ?it/s]",
      "application/vnd.jupyter.widget-view+json": {
       "version_major": 2,
       "version_minor": 0,
       "model_id": "be78f4342e2e4c7b861f007619c91e1c"
      }
     },
     "metadata": {},
     "output_type": "display_data"
    },
    {
     "data": {
      "text/plain": "Calculating subsamples for fractional size: 0.92:   0%|          | 0/100 [00:00<?, ?it/s]",
      "application/vnd.jupyter.widget-view+json": {
       "version_major": 2,
       "version_minor": 0,
       "model_id": "cc655e0b1d2a4df0b904e8981718668c"
      }
     },
     "metadata": {},
     "output_type": "display_data"
    },
    {
     "data": {
      "text/plain": "Calculating subsamples for fractional size: 0.91:   0%|          | 0/100 [00:00<?, ?it/s]",
      "application/vnd.jupyter.widget-view+json": {
       "version_major": 2,
       "version_minor": 0,
       "model_id": "bc30b2cbbdfe498dad6e878aaae0f5d8"
      }
     },
     "metadata": {},
     "output_type": "display_data"
    },
    {
     "data": {
      "text/plain": "Calculating subsamples for fractional size: 0.9:   0%|          | 0/100 [00:00<?, ?it/s]",
      "application/vnd.jupyter.widget-view+json": {
       "version_major": 2,
       "version_minor": 0,
       "model_id": "9fd1c6a32af74bc786da1f1bc3219245"
      }
     },
     "metadata": {},
     "output_type": "display_data"
    },
    {
     "data": {
      "text/plain": "Calculating subsamples for fractional size: 0.89:   0%|          | 0/100 [00:00<?, ?it/s]",
      "application/vnd.jupyter.widget-view+json": {
       "version_major": 2,
       "version_minor": 0,
       "model_id": "c1f046d0ed064d509a809e5c1bd0289b"
      }
     },
     "metadata": {},
     "output_type": "display_data"
    },
    {
     "data": {
      "text/plain": "Calculating subsamples for fractional size: 0.88:   0%|          | 0/100 [00:00<?, ?it/s]",
      "application/vnd.jupyter.widget-view+json": {
       "version_major": 2,
       "version_minor": 0,
       "model_id": "7e5821c2bcd344148b90a4435046634c"
      }
     },
     "metadata": {},
     "output_type": "display_data"
    },
    {
     "data": {
      "text/plain": "Calculating subsamples for fractional size: 0.87:   0%|          | 0/100 [00:00<?, ?it/s]",
      "application/vnd.jupyter.widget-view+json": {
       "version_major": 2,
       "version_minor": 0,
       "model_id": "6ea70716931a47b1b44b61699f236a30"
      }
     },
     "metadata": {},
     "output_type": "display_data"
    },
    {
     "data": {
      "text/plain": "Calculating subsamples for fractional size: 0.86:   0%|          | 0/100 [00:00<?, ?it/s]",
      "application/vnd.jupyter.widget-view+json": {
       "version_major": 2,
       "version_minor": 0,
       "model_id": "d1a9445c47b24ddbbc1fd66caa3ba5bb"
      }
     },
     "metadata": {},
     "output_type": "display_data"
    },
    {
     "data": {
      "text/plain": "Calculating subsamples for fractional size: 0.85:   0%|          | 0/100 [00:00<?, ?it/s]",
      "application/vnd.jupyter.widget-view+json": {
       "version_major": 2,
       "version_minor": 0,
       "model_id": "943f1003e6a04dad9fe781b3b86ca13a"
      }
     },
     "metadata": {},
     "output_type": "display_data"
    },
    {
     "data": {
      "text/plain": "Calculating subsamples for fractional size: 0.84:   0%|          | 0/100 [00:00<?, ?it/s]",
      "application/vnd.jupyter.widget-view+json": {
       "version_major": 2,
       "version_minor": 0,
       "model_id": "b87a91ed11744043a2074847b19363f8"
      }
     },
     "metadata": {},
     "output_type": "display_data"
    },
    {
     "data": {
      "text/plain": "Calculating subsamples for fractional size: 0.83:   0%|          | 0/100 [00:00<?, ?it/s]",
      "application/vnd.jupyter.widget-view+json": {
       "version_major": 2,
       "version_minor": 0,
       "model_id": "9bbebabef9394703befc4705b9ee1b6a"
      }
     },
     "metadata": {},
     "output_type": "display_data"
    },
    {
     "data": {
      "text/plain": "Calculating subsamples for fractional size: 0.82:   0%|          | 0/100 [00:00<?, ?it/s]",
      "application/vnd.jupyter.widget-view+json": {
       "version_major": 2,
       "version_minor": 0,
       "model_id": "4901c617100d4c829673bf87e9a6db00"
      }
     },
     "metadata": {},
     "output_type": "display_data"
    },
    {
     "data": {
      "text/plain": "Calculating subsamples for fractional size: 0.81:   0%|          | 0/100 [00:00<?, ?it/s]",
      "application/vnd.jupyter.widget-view+json": {
       "version_major": 2,
       "version_minor": 0,
       "model_id": "23c948bb763d4b8bbb8e456d4a15e86e"
      }
     },
     "metadata": {},
     "output_type": "display_data"
    },
    {
     "data": {
      "text/plain": "Calculating subsamples for fractional size: 0.8:   0%|          | 0/100 [00:00<?, ?it/s]",
      "application/vnd.jupyter.widget-view+json": {
       "version_major": 2,
       "version_minor": 0,
       "model_id": "4f4615854e4d4cf69cce7fc885a2759f"
      }
     },
     "metadata": {},
     "output_type": "display_data"
    },
    {
     "data": {
      "text/plain": "Calculating subsamples for fractional size: 0.79:   0%|          | 0/100 [00:00<?, ?it/s]",
      "application/vnd.jupyter.widget-view+json": {
       "version_major": 2,
       "version_minor": 0,
       "model_id": "89e246c9f5144e7992d4c4d7ccff3ae9"
      }
     },
     "metadata": {},
     "output_type": "display_data"
    },
    {
     "data": {
      "text/plain": "Calculating subsamples for fractional size: 0.78:   0%|          | 0/100 [00:00<?, ?it/s]",
      "application/vnd.jupyter.widget-view+json": {
       "version_major": 2,
       "version_minor": 0,
       "model_id": "f6237a2e86654f528430111a9a8fba0c"
      }
     },
     "metadata": {},
     "output_type": "display_data"
    },
    {
     "data": {
      "text/plain": "Calculating subsamples for fractional size: 0.77:   0%|          | 0/100 [00:00<?, ?it/s]",
      "application/vnd.jupyter.widget-view+json": {
       "version_major": 2,
       "version_minor": 0,
       "model_id": "11a3242f1285400791fd1d934a18ab00"
      }
     },
     "metadata": {},
     "output_type": "display_data"
    },
    {
     "data": {
      "text/plain": "Calculating subsamples for fractional size: 0.76:   0%|          | 0/100 [00:00<?, ?it/s]",
      "application/vnd.jupyter.widget-view+json": {
       "version_major": 2,
       "version_minor": 0,
       "model_id": "2aa1876ca1874cd992eb02409244f4b2"
      }
     },
     "metadata": {},
     "output_type": "display_data"
    },
    {
     "data": {
      "text/plain": "Calculating subsamples for fractional size: 0.75:   0%|          | 0/100 [00:00<?, ?it/s]",
      "application/vnd.jupyter.widget-view+json": {
       "version_major": 2,
       "version_minor": 0,
       "model_id": "0589d77cc50445049551ea05113c3b4d"
      }
     },
     "metadata": {},
     "output_type": "display_data"
    },
    {
     "data": {
      "text/plain": "Calculating subsamples for fractional size: 0.74:   0%|          | 0/100 [00:00<?, ?it/s]",
      "application/vnd.jupyter.widget-view+json": {
       "version_major": 2,
       "version_minor": 0,
       "model_id": "a3afbe81d5814503b39cbbc20998af98"
      }
     },
     "metadata": {},
     "output_type": "display_data"
    },
    {
     "data": {
      "text/plain": "Calculating subsamples for fractional size: 0.73:   0%|          | 0/100 [00:00<?, ?it/s]",
      "application/vnd.jupyter.widget-view+json": {
       "version_major": 2,
       "version_minor": 0,
       "model_id": "ebaae4049ee541629f9e43c1797b87e3"
      }
     },
     "metadata": {},
     "output_type": "display_data"
    },
    {
     "data": {
      "text/plain": "Calculating subsamples for fractional size: 0.72:   0%|          | 0/100 [00:00<?, ?it/s]",
      "application/vnd.jupyter.widget-view+json": {
       "version_major": 2,
       "version_minor": 0,
       "model_id": "7d9dbd015e0140bc855314a22ec7256c"
      }
     },
     "metadata": {},
     "output_type": "display_data"
    },
    {
     "data": {
      "text/plain": "Calculating subsamples for fractional size: 0.71:   0%|          | 0/100 [00:00<?, ?it/s]",
      "application/vnd.jupyter.widget-view+json": {
       "version_major": 2,
       "version_minor": 0,
       "model_id": "d228ddc6c71c4d95ae030dce351f3e1e"
      }
     },
     "metadata": {},
     "output_type": "display_data"
    },
    {
     "data": {
      "text/plain": "Calculating subsamples for fractional size: 0.7:   0%|          | 0/100 [00:00<?, ?it/s]",
      "application/vnd.jupyter.widget-view+json": {
       "version_major": 2,
       "version_minor": 0,
       "model_id": "69d4c85d154c412b802aab1f04e8a95f"
      }
     },
     "metadata": {},
     "output_type": "display_data"
    },
    {
     "data": {
      "text/plain": "Calculating subsamples for fractional size: 0.69:   0%|          | 0/100 [00:00<?, ?it/s]",
      "application/vnd.jupyter.widget-view+json": {
       "version_major": 2,
       "version_minor": 0,
       "model_id": "7341955d9e5148658608816821ba2c2b"
      }
     },
     "metadata": {},
     "output_type": "display_data"
    },
    {
     "data": {
      "text/plain": "Calculating subsamples for fractional size: 0.68:   0%|          | 0/100 [00:00<?, ?it/s]",
      "application/vnd.jupyter.widget-view+json": {
       "version_major": 2,
       "version_minor": 0,
       "model_id": "4aa39f8729384d8eac9c7c53cf1440bb"
      }
     },
     "metadata": {},
     "output_type": "display_data"
    },
    {
     "data": {
      "text/plain": "Calculating subsamples for fractional size: 0.67:   0%|          | 0/100 [00:00<?, ?it/s]",
      "application/vnd.jupyter.widget-view+json": {
       "version_major": 2,
       "version_minor": 0,
       "model_id": "8bc654b523534bcaadfe78b26c80df06"
      }
     },
     "metadata": {},
     "output_type": "display_data"
    },
    {
     "data": {
      "text/plain": "Calculating subsamples for fractional size: 0.66:   0%|          | 0/100 [00:00<?, ?it/s]",
      "application/vnd.jupyter.widget-view+json": {
       "version_major": 2,
       "version_minor": 0,
       "model_id": "f002ed6860ec4ba3b484a78fbfeba477"
      }
     },
     "metadata": {},
     "output_type": "display_data"
    },
    {
     "data": {
      "text/plain": "Calculating subsamples for fractional size: 0.65:   0%|          | 0/100 [00:00<?, ?it/s]",
      "application/vnd.jupyter.widget-view+json": {
       "version_major": 2,
       "version_minor": 0,
       "model_id": "156ca3b95c1f4545bccae3728152367c"
      }
     },
     "metadata": {},
     "output_type": "display_data"
    },
    {
     "data": {
      "text/plain": "Calculating subsamples for fractional size: 0.64:   0%|          | 0/100 [00:00<?, ?it/s]",
      "application/vnd.jupyter.widget-view+json": {
       "version_major": 2,
       "version_minor": 0,
       "model_id": "7b1852d7bd8f4c518703d43a5caf9017"
      }
     },
     "metadata": {},
     "output_type": "display_data"
    },
    {
     "data": {
      "text/plain": "Calculating subsamples for fractional size: 0.63:   0%|          | 0/100 [00:00<?, ?it/s]",
      "application/vnd.jupyter.widget-view+json": {
       "version_major": 2,
       "version_minor": 0,
       "model_id": "fd927e99f69445efb9c1f96677a0c2f5"
      }
     },
     "metadata": {},
     "output_type": "display_data"
    },
    {
     "data": {
      "text/plain": "Calculating subsamples for fractional size: 0.62:   0%|          | 0/100 [00:00<?, ?it/s]",
      "application/vnd.jupyter.widget-view+json": {
       "version_major": 2,
       "version_minor": 0,
       "model_id": "8753e413b876424dbd6c370fe6da2548"
      }
     },
     "metadata": {},
     "output_type": "display_data"
    },
    {
     "data": {
      "text/plain": "Calculating subsamples for fractional size: 0.61:   0%|          | 0/100 [00:00<?, ?it/s]",
      "application/vnd.jupyter.widget-view+json": {
       "version_major": 2,
       "version_minor": 0,
       "model_id": "d054c289abe64422997052ac41cd786c"
      }
     },
     "metadata": {},
     "output_type": "display_data"
    },
    {
     "data": {
      "text/plain": "Calculating subsamples for fractional size: 0.6:   0%|          | 0/100 [00:00<?, ?it/s]",
      "application/vnd.jupyter.widget-view+json": {
       "version_major": 2,
       "version_minor": 0,
       "model_id": "d1a59945dc6348a2bf688590e44721e4"
      }
     },
     "metadata": {},
     "output_type": "display_data"
    },
    {
     "data": {
      "text/plain": "Calculating subsamples for fractional size: 0.59:   0%|          | 0/100 [00:00<?, ?it/s]",
      "application/vnd.jupyter.widget-view+json": {
       "version_major": 2,
       "version_minor": 0,
       "model_id": "c7062f1eabcf4b6d8c18818fe81a123e"
      }
     },
     "metadata": {},
     "output_type": "display_data"
    },
    {
     "data": {
      "text/plain": "Calculating subsamples for fractional size: 0.58:   0%|          | 0/100 [00:00<?, ?it/s]",
      "application/vnd.jupyter.widget-view+json": {
       "version_major": 2,
       "version_minor": 0,
       "model_id": "33663aa3a7ff48bfbc3fcbcd1fd3a578"
      }
     },
     "metadata": {},
     "output_type": "display_data"
    },
    {
     "data": {
      "text/plain": "Calculating subsamples for fractional size: 0.57:   0%|          | 0/100 [00:00<?, ?it/s]",
      "application/vnd.jupyter.widget-view+json": {
       "version_major": 2,
       "version_minor": 0,
       "model_id": "fa8f5411ced549a3b8ee7e02b6f42dc7"
      }
     },
     "metadata": {},
     "output_type": "display_data"
    },
    {
     "data": {
      "text/plain": "Calculating subsamples for fractional size: 0.56:   0%|          | 0/100 [00:00<?, ?it/s]",
      "application/vnd.jupyter.widget-view+json": {
       "version_major": 2,
       "version_minor": 0,
       "model_id": "91003e77ce084f3697fc11a151e959b8"
      }
     },
     "metadata": {},
     "output_type": "display_data"
    },
    {
     "data": {
      "text/plain": "Calculating subsamples for fractional size: 0.55:   0%|          | 0/100 [00:00<?, ?it/s]",
      "application/vnd.jupyter.widget-view+json": {
       "version_major": 2,
       "version_minor": 0,
       "model_id": "0b5daa21fea04c30b435ecb7f8274ba1"
      }
     },
     "metadata": {},
     "output_type": "display_data"
    },
    {
     "data": {
      "text/plain": "Calculating subsamples for fractional size: 0.54:   0%|          | 0/100 [00:00<?, ?it/s]",
      "application/vnd.jupyter.widget-view+json": {
       "version_major": 2,
       "version_minor": 0,
       "model_id": "db9b04a184074817a6435efb2da345e4"
      }
     },
     "metadata": {},
     "output_type": "display_data"
    },
    {
     "data": {
      "text/plain": "Calculating subsamples for fractional size: 0.53:   0%|          | 0/100 [00:00<?, ?it/s]",
      "application/vnd.jupyter.widget-view+json": {
       "version_major": 2,
       "version_minor": 0,
       "model_id": "fe388eff5c5243e384a8689116d1c3c8"
      }
     },
     "metadata": {},
     "output_type": "display_data"
    },
    {
     "data": {
      "text/plain": "Calculating subsamples for fractional size: 0.52:   0%|          | 0/100 [00:00<?, ?it/s]",
      "application/vnd.jupyter.widget-view+json": {
       "version_major": 2,
       "version_minor": 0,
       "model_id": "39613761e72d42f3ac347aaf58556b6f"
      }
     },
     "metadata": {},
     "output_type": "display_data"
    },
    {
     "data": {
      "text/plain": "Calculating subsamples for fractional size: 0.51:   0%|          | 0/100 [00:00<?, ?it/s]",
      "application/vnd.jupyter.widget-view+json": {
       "version_major": 2,
       "version_minor": 0,
       "model_id": "db5deee8cf794c3bb9802c428dacb4c4"
      }
     },
     "metadata": {},
     "output_type": "display_data"
    },
    {
     "data": {
      "text/plain": "Calculating subsamples for fractional size: 0.5:   0%|          | 0/100 [00:00<?, ?it/s]",
      "application/vnd.jupyter.widget-view+json": {
       "version_major": 2,
       "version_minor": 0,
       "model_id": "26064255687d4e6e933c6174e4e90256"
      }
     },
     "metadata": {},
     "output_type": "display_data"
    },
    {
     "data": {
      "text/plain": "Calculating subsamples for fractional size: 0.49:   0%|          | 0/100 [00:00<?, ?it/s]",
      "application/vnd.jupyter.widget-view+json": {
       "version_major": 2,
       "version_minor": 0,
       "model_id": "bc6dad23c4f34b59a8e196246f84df83"
      }
     },
     "metadata": {},
     "output_type": "display_data"
    },
    {
     "data": {
      "text/plain": "Calculating subsamples for fractional size: 0.48:   0%|          | 0/100 [00:00<?, ?it/s]",
      "application/vnd.jupyter.widget-view+json": {
       "version_major": 2,
       "version_minor": 0,
       "model_id": "a1105b792fc440a8bcbc7d5033fbc342"
      }
     },
     "metadata": {},
     "output_type": "display_data"
    },
    {
     "data": {
      "text/plain": "Calculating subsamples for fractional size: 0.47:   0%|          | 0/100 [00:00<?, ?it/s]",
      "application/vnd.jupyter.widget-view+json": {
       "version_major": 2,
       "version_minor": 0,
       "model_id": "683285ac8e114fe8bea74452995bf727"
      }
     },
     "metadata": {},
     "output_type": "display_data"
    },
    {
     "data": {
      "text/plain": "Calculating subsamples for fractional size: 0.46:   0%|          | 0/100 [00:00<?, ?it/s]",
      "application/vnd.jupyter.widget-view+json": {
       "version_major": 2,
       "version_minor": 0,
       "model_id": "a0ba8eb3240c4e9297a745530898e8f2"
      }
     },
     "metadata": {},
     "output_type": "display_data"
    },
    {
     "data": {
      "text/plain": "Calculating subsamples for fractional size: 0.45:   0%|          | 0/100 [00:00<?, ?it/s]",
      "application/vnd.jupyter.widget-view+json": {
       "version_major": 2,
       "version_minor": 0,
       "model_id": "20c5fb6e3eaa46e78c5b636cdfcf107e"
      }
     },
     "metadata": {},
     "output_type": "display_data"
    },
    {
     "data": {
      "text/plain": "Calculating subsamples for fractional size: 0.44:   0%|          | 0/100 [00:00<?, ?it/s]",
      "application/vnd.jupyter.widget-view+json": {
       "version_major": 2,
       "version_minor": 0,
       "model_id": "8fb5ca8a89374676b6454c1b223629d9"
      }
     },
     "metadata": {},
     "output_type": "display_data"
    },
    {
     "data": {
      "text/plain": "Calculating subsamples for fractional size: 0.43:   0%|          | 0/100 [00:00<?, ?it/s]",
      "application/vnd.jupyter.widget-view+json": {
       "version_major": 2,
       "version_minor": 0,
       "model_id": "b909e0b584d246a4ba587d8cabf1a0f3"
      }
     },
     "metadata": {},
     "output_type": "display_data"
    },
    {
     "data": {
      "text/plain": "Calculating subsamples for fractional size: 0.42:   0%|          | 0/100 [00:00<?, ?it/s]",
      "application/vnd.jupyter.widget-view+json": {
       "version_major": 2,
       "version_minor": 0,
       "model_id": "7e47802d6b2d46ca90c46f9e4c1ecab6"
      }
     },
     "metadata": {},
     "output_type": "display_data"
    },
    {
     "data": {
      "text/plain": "Calculating subsamples for fractional size: 0.41:   0%|          | 0/100 [00:00<?, ?it/s]",
      "application/vnd.jupyter.widget-view+json": {
       "version_major": 2,
       "version_minor": 0,
       "model_id": "fa0cefd0731947eebdb59f8ca18349d8"
      }
     },
     "metadata": {},
     "output_type": "display_data"
    },
    {
     "data": {
      "text/plain": "Calculating subsamples for fractional size: 0.4:   0%|          | 0/100 [00:00<?, ?it/s]",
      "application/vnd.jupyter.widget-view+json": {
       "version_major": 2,
       "version_minor": 0,
       "model_id": "70aeb2ae781948eabee144edc3ccf086"
      }
     },
     "metadata": {},
     "output_type": "display_data"
    },
    {
     "data": {
      "text/plain": "Calculating subsamples for fractional size: 0.39:   0%|          | 0/100 [00:00<?, ?it/s]",
      "application/vnd.jupyter.widget-view+json": {
       "version_major": 2,
       "version_minor": 0,
       "model_id": "126e66551a874b5f93229d5348862a23"
      }
     },
     "metadata": {},
     "output_type": "display_data"
    },
    {
     "data": {
      "text/plain": "Calculating subsamples for fractional size: 0.38:   0%|          | 0/100 [00:00<?, ?it/s]",
      "application/vnd.jupyter.widget-view+json": {
       "version_major": 2,
       "version_minor": 0,
       "model_id": "40f8188544ba4786ba2649cf551e0e3c"
      }
     },
     "metadata": {},
     "output_type": "display_data"
    },
    {
     "data": {
      "text/plain": "Calculating subsamples for fractional size: 0.37:   0%|          | 0/100 [00:00<?, ?it/s]",
      "application/vnd.jupyter.widget-view+json": {
       "version_major": 2,
       "version_minor": 0,
       "model_id": "1f508ab53b444bd58eb7ef7af5d73426"
      }
     },
     "metadata": {},
     "output_type": "display_data"
    },
    {
     "data": {
      "text/plain": "Calculating subsamples for fractional size: 0.36:   0%|          | 0/100 [00:00<?, ?it/s]",
      "application/vnd.jupyter.widget-view+json": {
       "version_major": 2,
       "version_minor": 0,
       "model_id": "3d3aa7bba96342739ee50f0e8e3cebcb"
      }
     },
     "metadata": {},
     "output_type": "display_data"
    },
    {
     "data": {
      "text/plain": "Calculating subsamples for fractional size: 0.35:   0%|          | 0/100 [00:00<?, ?it/s]",
      "application/vnd.jupyter.widget-view+json": {
       "version_major": 2,
       "version_minor": 0,
       "model_id": "d16872e3131244a2a21c59fe3c947970"
      }
     },
     "metadata": {},
     "output_type": "display_data"
    },
    {
     "data": {
      "text/plain": "Calculating subsamples for fractional size: 0.34:   0%|          | 0/100 [00:00<?, ?it/s]",
      "application/vnd.jupyter.widget-view+json": {
       "version_major": 2,
       "version_minor": 0,
       "model_id": "5a2fe998109941b1bd7148806f8fac4d"
      }
     },
     "metadata": {},
     "output_type": "display_data"
    },
    {
     "data": {
      "text/plain": "Calculating subsamples for fractional size: 0.33:   0%|          | 0/100 [00:00<?, ?it/s]",
      "application/vnd.jupyter.widget-view+json": {
       "version_major": 2,
       "version_minor": 0,
       "model_id": "5bf515e4cf0a4074af5c5586b15f893f"
      }
     },
     "metadata": {},
     "output_type": "display_data"
    },
    {
     "data": {
      "text/plain": "Calculating subsamples for fractional size: 0.32:   0%|          | 0/100 [00:00<?, ?it/s]",
      "application/vnd.jupyter.widget-view+json": {
       "version_major": 2,
       "version_minor": 0,
       "model_id": "72c8461f8d334bb5937368857fa5ee23"
      }
     },
     "metadata": {},
     "output_type": "display_data"
    },
    {
     "data": {
      "text/plain": "Calculating subsamples for fractional size: 0.31:   0%|          | 0/100 [00:00<?, ?it/s]",
      "application/vnd.jupyter.widget-view+json": {
       "version_major": 2,
       "version_minor": 0,
       "model_id": "21324eedf27d428eafb0302ba317d5d7"
      }
     },
     "metadata": {},
     "output_type": "display_data"
    },
    {
     "data": {
      "text/plain": "Calculating subsamples for fractional size: 0.3:   0%|          | 0/100 [00:00<?, ?it/s]",
      "application/vnd.jupyter.widget-view+json": {
       "version_major": 2,
       "version_minor": 0,
       "model_id": "f17343f690874d3c9571ef9ab07e0b23"
      }
     },
     "metadata": {},
     "output_type": "display_data"
    },
    {
     "data": {
      "text/plain": "Calculating subsamples for fractional size: 0.29:   0%|          | 0/100 [00:00<?, ?it/s]",
      "application/vnd.jupyter.widget-view+json": {
       "version_major": 2,
       "version_minor": 0,
       "model_id": "11e27d76ccfc456e833b868c89e724e7"
      }
     },
     "metadata": {},
     "output_type": "display_data"
    },
    {
     "data": {
      "text/plain": "Calculating subsamples for fractional size: 0.28:   0%|          | 0/100 [00:00<?, ?it/s]",
      "application/vnd.jupyter.widget-view+json": {
       "version_major": 2,
       "version_minor": 0,
       "model_id": "a66a3e6b4c074cae971b8021cd9472a3"
      }
     },
     "metadata": {},
     "output_type": "display_data"
    },
    {
     "data": {
      "text/plain": "Calculating subsamples for fractional size: 0.27:   0%|          | 0/100 [00:00<?, ?it/s]",
      "application/vnd.jupyter.widget-view+json": {
       "version_major": 2,
       "version_minor": 0,
       "model_id": "52e0a8817bdd435096a987d98ae83a7f"
      }
     },
     "metadata": {},
     "output_type": "display_data"
    },
    {
     "data": {
      "text/plain": "Calculating subsamples for fractional size: 0.26:   0%|          | 0/100 [00:00<?, ?it/s]",
      "application/vnd.jupyter.widget-view+json": {
       "version_major": 2,
       "version_minor": 0,
       "model_id": "36f0180793304adc8d8e87d08c5d48e6"
      }
     },
     "metadata": {},
     "output_type": "display_data"
    },
    {
     "data": {
      "text/plain": "Calculating subsamples for fractional size: 0.25:   0%|          | 0/100 [00:00<?, ?it/s]",
      "application/vnd.jupyter.widget-view+json": {
       "version_major": 2,
       "version_minor": 0,
       "model_id": "024a5b60e13e473f8ad29138c9055177"
      }
     },
     "metadata": {},
     "output_type": "display_data"
    },
    {
     "data": {
      "text/plain": "Calculating subsamples for fractional size: 0.24:   0%|          | 0/100 [00:00<?, ?it/s]",
      "application/vnd.jupyter.widget-view+json": {
       "version_major": 2,
       "version_minor": 0,
       "model_id": "17fe173eeb234489abdb8ff38fdd2837"
      }
     },
     "metadata": {},
     "output_type": "display_data"
    },
    {
     "data": {
      "text/plain": "Calculating subsamples for fractional size: 0.23:   0%|          | 0/100 [00:00<?, ?it/s]",
      "application/vnd.jupyter.widget-view+json": {
       "version_major": 2,
       "version_minor": 0,
       "model_id": "b6f8bfdfe1b341da82a7d6661702b8fa"
      }
     },
     "metadata": {},
     "output_type": "display_data"
    },
    {
     "data": {
      "text/plain": "Calculating subsamples for fractional size: 0.22:   0%|          | 0/100 [00:00<?, ?it/s]",
      "application/vnd.jupyter.widget-view+json": {
       "version_major": 2,
       "version_minor": 0,
       "model_id": "e049eb76b99942dfa10d57a2cced6492"
      }
     },
     "metadata": {},
     "output_type": "display_data"
    },
    {
     "data": {
      "text/plain": "Calculating subsamples for fractional size: 0.21:   0%|          | 0/100 [00:00<?, ?it/s]",
      "application/vnd.jupyter.widget-view+json": {
       "version_major": 2,
       "version_minor": 0,
       "model_id": "fe76517c6f944df4bc152263996b0988"
      }
     },
     "metadata": {},
     "output_type": "display_data"
    },
    {
     "data": {
      "text/plain": "Calculating subsamples for fractional size: 0.2:   0%|          | 0/100 [00:00<?, ?it/s]",
      "application/vnd.jupyter.widget-view+json": {
       "version_major": 2,
       "version_minor": 0,
       "model_id": "82872d8deb72492c90320e5fa8ca6e36"
      }
     },
     "metadata": {},
     "output_type": "display_data"
    },
    {
     "data": {
      "text/plain": "Calculating subsamples for fractional size: 0.19:   0%|          | 0/100 [00:00<?, ?it/s]",
      "application/vnd.jupyter.widget-view+json": {
       "version_major": 2,
       "version_minor": 0,
       "model_id": "9eb492b01fba432d92557f701c2ea466"
      }
     },
     "metadata": {},
     "output_type": "display_data"
    },
    {
     "data": {
      "text/plain": "Calculating subsamples for fractional size: 0.18:   0%|          | 0/100 [00:00<?, ?it/s]",
      "application/vnd.jupyter.widget-view+json": {
       "version_major": 2,
       "version_minor": 0,
       "model_id": "ff0dc3b7611348168d596bf2383a1011"
      }
     },
     "metadata": {},
     "output_type": "display_data"
    },
    {
     "data": {
      "text/plain": "Calculating subsamples for fractional size: 0.17:   0%|          | 0/100 [00:00<?, ?it/s]",
      "application/vnd.jupyter.widget-view+json": {
       "version_major": 2,
       "version_minor": 0,
       "model_id": "e87e8ca1235d442baf2d43ca126f1bcc"
      }
     },
     "metadata": {},
     "output_type": "display_data"
    },
    {
     "data": {
      "text/plain": "Calculating subsamples for fractional size: 0.16:   0%|          | 0/100 [00:00<?, ?it/s]",
      "application/vnd.jupyter.widget-view+json": {
       "version_major": 2,
       "version_minor": 0,
       "model_id": "eb767e690c3d4021864bf8e25e52249a"
      }
     },
     "metadata": {},
     "output_type": "display_data"
    },
    {
     "data": {
      "text/plain": "Calculating subsamples for fractional size: 0.15:   0%|          | 0/100 [00:00<?, ?it/s]",
      "application/vnd.jupyter.widget-view+json": {
       "version_major": 2,
       "version_minor": 0,
       "model_id": "c36e9190faec4e519da26c0a1cf1fbae"
      }
     },
     "metadata": {},
     "output_type": "display_data"
    },
    {
     "data": {
      "text/plain": "Calculating subsamples for fractional size: 0.14:   0%|          | 0/100 [00:00<?, ?it/s]",
      "application/vnd.jupyter.widget-view+json": {
       "version_major": 2,
       "version_minor": 0,
       "model_id": "905af4d5645d477ab6b58163d9b02831"
      }
     },
     "metadata": {},
     "output_type": "display_data"
    },
    {
     "data": {
      "text/plain": "Calculating subsamples for fractional size: 0.13:   0%|          | 0/100 [00:00<?, ?it/s]",
      "application/vnd.jupyter.widget-view+json": {
       "version_major": 2,
       "version_minor": 0,
       "model_id": "89152638a33949a3873414b22ea0274c"
      }
     },
     "metadata": {},
     "output_type": "display_data"
    },
    {
     "data": {
      "text/plain": "Calculating subsamples for fractional size: 0.12:   0%|          | 0/100 [00:00<?, ?it/s]",
      "application/vnd.jupyter.widget-view+json": {
       "version_major": 2,
       "version_minor": 0,
       "model_id": "34f3e2fe485d40d28fa170a99b023e83"
      }
     },
     "metadata": {},
     "output_type": "display_data"
    },
    {
     "data": {
      "text/plain": "Calculating subsamples for fractional size: 0.11:   0%|          | 0/100 [00:00<?, ?it/s]",
      "application/vnd.jupyter.widget-view+json": {
       "version_major": 2,
       "version_minor": 0,
       "model_id": "cc43d5baeda74f03b21e8129ddb59ad7"
      }
     },
     "metadata": {},
     "output_type": "display_data"
    },
    {
     "data": {
      "text/plain": "Calculating subsamples for fractional size: 0.1:   0%|          | 0/100 [00:00<?, ?it/s]",
      "application/vnd.jupyter.widget-view+json": {
       "version_major": 2,
       "version_minor": 0,
       "model_id": "1a0dcba87b7d435f9bfefff08a852fd9"
      }
     },
     "metadata": {},
     "output_type": "display_data"
    },
    {
     "data": {
      "text/plain": "Calculating subsamples for fractional size: 0.09:   0%|          | 0/100 [00:00<?, ?it/s]",
      "application/vnd.jupyter.widget-view+json": {
       "version_major": 2,
       "version_minor": 0,
       "model_id": "86c75b855fcd44689bc7687cf3d97544"
      }
     },
     "metadata": {},
     "output_type": "display_data"
    },
    {
     "data": {
      "text/plain": "Calculating subsamples for fractional size: 0.08:   0%|          | 0/100 [00:00<?, ?it/s]",
      "application/vnd.jupyter.widget-view+json": {
       "version_major": 2,
       "version_minor": 0,
       "model_id": "383948e06f7f4442beb71b89a7341ec2"
      }
     },
     "metadata": {},
     "output_type": "display_data"
    },
    {
     "data": {
      "text/plain": "Calculating subsamples for fractional size: 0.07:   0%|          | 0/100 [00:00<?, ?it/s]",
      "application/vnd.jupyter.widget-view+json": {
       "version_major": 2,
       "version_minor": 0,
       "model_id": "aa63059717e845429730108ceb2d83fd"
      }
     },
     "metadata": {},
     "output_type": "display_data"
    },
    {
     "data": {
      "text/plain": "Calculating subsamples for fractional size: 0.06:   0%|          | 0/100 [00:00<?, ?it/s]",
      "application/vnd.jupyter.widget-view+json": {
       "version_major": 2,
       "version_minor": 0,
       "model_id": "c71b3da2f70f400b94f704aa6a5bb017"
      }
     },
     "metadata": {},
     "output_type": "display_data"
    },
    {
     "data": {
      "text/plain": "Calculating subsamples for fractional size: 0.05:   0%|          | 0/100 [00:00<?, ?it/s]",
      "application/vnd.jupyter.widget-view+json": {
       "version_major": 2,
       "version_minor": 0,
       "model_id": "c75e89e36d294358b6e6dba097d0ecf8"
      }
     },
     "metadata": {},
     "output_type": "display_data"
    },
    {
     "data": {
      "text/plain": "Calculating subsamples for fractional size: 0.04:   0%|          | 0/100 [00:00<?, ?it/s]",
      "application/vnd.jupyter.widget-view+json": {
       "version_major": 2,
       "version_minor": 0,
       "model_id": "a9dcc3af9e114b16bca098a5e0dd3857"
      }
     },
     "metadata": {},
     "output_type": "display_data"
    },
    {
     "data": {
      "text/plain": "Calculating subsamples for fractional size: 0.03:   0%|          | 0/100 [00:00<?, ?it/s]",
      "application/vnd.jupyter.widget-view+json": {
       "version_major": 2,
       "version_minor": 0,
       "model_id": "1624f22e5c2e437f9eba0d3d0ae99778"
      }
     },
     "metadata": {},
     "output_type": "display_data"
    },
    {
     "data": {
      "text/plain": "Calculating subsamples for fractional size: 0.02:   0%|          | 0/100 [00:00<?, ?it/s]",
      "application/vnd.jupyter.widget-view+json": {
       "version_major": 2,
       "version_minor": 0,
       "model_id": "a89a2b1c7c0a47a3901df96efb480fef"
      }
     },
     "metadata": {},
     "output_type": "display_data"
    },
    {
     "data": {
      "text/plain": "Calculating subsamples for fractional size: 0.01:   0%|          | 0/100 [00:00<?, ?it/s]",
      "application/vnd.jupyter.widget-view+json": {
       "version_major": 2,
       "version_minor": 0,
       "model_id": "a17d27bb6416418698a3b4d2516639ee"
      }
     },
     "metadata": {},
     "output_type": "display_data"
    },
    {
     "data": {
      "text/plain": "Subsampling for totalRNA2:   0%|          | 0/100 [00:00<?, ?it/s]",
      "application/vnd.jupyter.widget-view+json": {
       "version_major": 2,
       "version_minor": 0,
       "model_id": "758b18473e5c4d28a5e8320f60a912f2"
      }
     },
     "metadata": {},
     "output_type": "display_data"
    },
    {
     "data": {
      "text/plain": "Calculating subsamples for fractional size: 1.0:   0%|          | 0/100 [00:00<?, ?it/s]",
      "application/vnd.jupyter.widget-view+json": {
       "version_major": 2,
       "version_minor": 0,
       "model_id": "475d88a5cba74d1384ebdbdb4927c292"
      }
     },
     "metadata": {},
     "output_type": "display_data"
    },
    {
     "data": {
      "text/plain": "Calculating subsamples for fractional size: 0.99:   0%|          | 0/100 [00:00<?, ?it/s]",
      "application/vnd.jupyter.widget-view+json": {
       "version_major": 2,
       "version_minor": 0,
       "model_id": "ae3d971d045642b4ae2d553e35ed6a16"
      }
     },
     "metadata": {},
     "output_type": "display_data"
    },
    {
     "data": {
      "text/plain": "Calculating subsamples for fractional size: 0.98:   0%|          | 0/100 [00:00<?, ?it/s]",
      "application/vnd.jupyter.widget-view+json": {
       "version_major": 2,
       "version_minor": 0,
       "model_id": "f62c5b8a8d6b4628b4f03ed1744acc6e"
      }
     },
     "metadata": {},
     "output_type": "display_data"
    },
    {
     "data": {
      "text/plain": "Calculating subsamples for fractional size: 0.97:   0%|          | 0/100 [00:00<?, ?it/s]",
      "application/vnd.jupyter.widget-view+json": {
       "version_major": 2,
       "version_minor": 0,
       "model_id": "d8e2d1f0ffa04c29af2bc797835e5cfc"
      }
     },
     "metadata": {},
     "output_type": "display_data"
    },
    {
     "data": {
      "text/plain": "Calculating subsamples for fractional size: 0.96:   0%|          | 0/100 [00:00<?, ?it/s]",
      "application/vnd.jupyter.widget-view+json": {
       "version_major": 2,
       "version_minor": 0,
       "model_id": "af87ee3e32a84468a27e740c3fc41df1"
      }
     },
     "metadata": {},
     "output_type": "display_data"
    },
    {
     "data": {
      "text/plain": "Calculating subsamples for fractional size: 0.95:   0%|          | 0/100 [00:00<?, ?it/s]",
      "application/vnd.jupyter.widget-view+json": {
       "version_major": 2,
       "version_minor": 0,
       "model_id": "f61687afe73c4bed9fd6a3483945d057"
      }
     },
     "metadata": {},
     "output_type": "display_data"
    },
    {
     "data": {
      "text/plain": "Calculating subsamples for fractional size: 0.94:   0%|          | 0/100 [00:00<?, ?it/s]",
      "application/vnd.jupyter.widget-view+json": {
       "version_major": 2,
       "version_minor": 0,
       "model_id": "e551c0232bed4be4a7f90c774eb98262"
      }
     },
     "metadata": {},
     "output_type": "display_data"
    },
    {
     "data": {
      "text/plain": "Calculating subsamples for fractional size: 0.93:   0%|          | 0/100 [00:00<?, ?it/s]",
      "application/vnd.jupyter.widget-view+json": {
       "version_major": 2,
       "version_minor": 0,
       "model_id": "5f025cd3c0fb4dd495473670c2c61cd9"
      }
     },
     "metadata": {},
     "output_type": "display_data"
    },
    {
     "data": {
      "text/plain": "Calculating subsamples for fractional size: 0.92:   0%|          | 0/100 [00:00<?, ?it/s]",
      "application/vnd.jupyter.widget-view+json": {
       "version_major": 2,
       "version_minor": 0,
       "model_id": "6fe82a6888374317aa4158cc495609aa"
      }
     },
     "metadata": {},
     "output_type": "display_data"
    },
    {
     "data": {
      "text/plain": "Calculating subsamples for fractional size: 0.91:   0%|          | 0/100 [00:00<?, ?it/s]",
      "application/vnd.jupyter.widget-view+json": {
       "version_major": 2,
       "version_minor": 0,
       "model_id": "8f09ada4c574458593e38440e477c795"
      }
     },
     "metadata": {},
     "output_type": "display_data"
    },
    {
     "data": {
      "text/plain": "Calculating subsamples for fractional size: 0.9:   0%|          | 0/100 [00:00<?, ?it/s]",
      "application/vnd.jupyter.widget-view+json": {
       "version_major": 2,
       "version_minor": 0,
       "model_id": "6f8081e853a3464aac112dc8b6d62483"
      }
     },
     "metadata": {},
     "output_type": "display_data"
    },
    {
     "data": {
      "text/plain": "Calculating subsamples for fractional size: 0.89:   0%|          | 0/100 [00:00<?, ?it/s]",
      "application/vnd.jupyter.widget-view+json": {
       "version_major": 2,
       "version_minor": 0,
       "model_id": "1bb5ea62f6ac4570b86a2914d46c3e00"
      }
     },
     "metadata": {},
     "output_type": "display_data"
    },
    {
     "data": {
      "text/plain": "Calculating subsamples for fractional size: 0.88:   0%|          | 0/100 [00:00<?, ?it/s]",
      "application/vnd.jupyter.widget-view+json": {
       "version_major": 2,
       "version_minor": 0,
       "model_id": "5da79539e02448049435995821654920"
      }
     },
     "metadata": {},
     "output_type": "display_data"
    },
    {
     "data": {
      "text/plain": "Calculating subsamples for fractional size: 0.87:   0%|          | 0/100 [00:00<?, ?it/s]",
      "application/vnd.jupyter.widget-view+json": {
       "version_major": 2,
       "version_minor": 0,
       "model_id": "8f295904df5e4c3db0468948092d8435"
      }
     },
     "metadata": {},
     "output_type": "display_data"
    },
    {
     "data": {
      "text/plain": "Calculating subsamples for fractional size: 0.86:   0%|          | 0/100 [00:00<?, ?it/s]",
      "application/vnd.jupyter.widget-view+json": {
       "version_major": 2,
       "version_minor": 0,
       "model_id": "f74a3b74be584e2b9f8360d5d4918a5c"
      }
     },
     "metadata": {},
     "output_type": "display_data"
    },
    {
     "data": {
      "text/plain": "Calculating subsamples for fractional size: 0.85:   0%|          | 0/100 [00:00<?, ?it/s]",
      "application/vnd.jupyter.widget-view+json": {
       "version_major": 2,
       "version_minor": 0,
       "model_id": "22f31d5a2b0344e78f97ec0ab84c2a0d"
      }
     },
     "metadata": {},
     "output_type": "display_data"
    },
    {
     "data": {
      "text/plain": "Calculating subsamples for fractional size: 0.84:   0%|          | 0/100 [00:00<?, ?it/s]",
      "application/vnd.jupyter.widget-view+json": {
       "version_major": 2,
       "version_minor": 0,
       "model_id": "275ed42481b24d81b8727778c56192d7"
      }
     },
     "metadata": {},
     "output_type": "display_data"
    },
    {
     "data": {
      "text/plain": "Calculating subsamples for fractional size: 0.83:   0%|          | 0/100 [00:00<?, ?it/s]",
      "application/vnd.jupyter.widget-view+json": {
       "version_major": 2,
       "version_minor": 0,
       "model_id": "aefdfa18d8824189bff4f4e2a7047ec3"
      }
     },
     "metadata": {},
     "output_type": "display_data"
    },
    {
     "data": {
      "text/plain": "Calculating subsamples for fractional size: 0.82:   0%|          | 0/100 [00:00<?, ?it/s]",
      "application/vnd.jupyter.widget-view+json": {
       "version_major": 2,
       "version_minor": 0,
       "model_id": "1b1da0e1279240efb920a5abbe1aed17"
      }
     },
     "metadata": {},
     "output_type": "display_data"
    },
    {
     "data": {
      "text/plain": "Calculating subsamples for fractional size: 0.81:   0%|          | 0/100 [00:00<?, ?it/s]",
      "application/vnd.jupyter.widget-view+json": {
       "version_major": 2,
       "version_minor": 0,
       "model_id": "edcc347cb0794464a93f867d9927bc19"
      }
     },
     "metadata": {},
     "output_type": "display_data"
    },
    {
     "data": {
      "text/plain": "Calculating subsamples for fractional size: 0.8:   0%|          | 0/100 [00:00<?, ?it/s]",
      "application/vnd.jupyter.widget-view+json": {
       "version_major": 2,
       "version_minor": 0,
       "model_id": "7ffb725d4c87455db44063d31c8da3c6"
      }
     },
     "metadata": {},
     "output_type": "display_data"
    },
    {
     "data": {
      "text/plain": "Calculating subsamples for fractional size: 0.79:   0%|          | 0/100 [00:00<?, ?it/s]",
      "application/vnd.jupyter.widget-view+json": {
       "version_major": 2,
       "version_minor": 0,
       "model_id": "162cd3ffcaa74079a96f513f10968472"
      }
     },
     "metadata": {},
     "output_type": "display_data"
    },
    {
     "data": {
      "text/plain": "Calculating subsamples for fractional size: 0.78:   0%|          | 0/100 [00:00<?, ?it/s]",
      "application/vnd.jupyter.widget-view+json": {
       "version_major": 2,
       "version_minor": 0,
       "model_id": "d74ab8e7a20c4c15ab0591cd694100f0"
      }
     },
     "metadata": {},
     "output_type": "display_data"
    },
    {
     "data": {
      "text/plain": "Calculating subsamples for fractional size: 0.77:   0%|          | 0/100 [00:00<?, ?it/s]",
      "application/vnd.jupyter.widget-view+json": {
       "version_major": 2,
       "version_minor": 0,
       "model_id": "1afa4ca1b9e74ea9a10c71c8ba6f3178"
      }
     },
     "metadata": {},
     "output_type": "display_data"
    },
    {
     "data": {
      "text/plain": "Calculating subsamples for fractional size: 0.76:   0%|          | 0/100 [00:00<?, ?it/s]",
      "application/vnd.jupyter.widget-view+json": {
       "version_major": 2,
       "version_minor": 0,
       "model_id": "3bd380f941e0467c9ef29ff29f4089de"
      }
     },
     "metadata": {},
     "output_type": "display_data"
    },
    {
     "data": {
      "text/plain": "Calculating subsamples for fractional size: 0.75:   0%|          | 0/100 [00:00<?, ?it/s]",
      "application/vnd.jupyter.widget-view+json": {
       "version_major": 2,
       "version_minor": 0,
       "model_id": "2072a5bcc9664e4d8fd7c54d53be0e10"
      }
     },
     "metadata": {},
     "output_type": "display_data"
    },
    {
     "data": {
      "text/plain": "Calculating subsamples for fractional size: 0.74:   0%|          | 0/100 [00:00<?, ?it/s]",
      "application/vnd.jupyter.widget-view+json": {
       "version_major": 2,
       "version_minor": 0,
       "model_id": "4f00c79ae0cb432ca9b3338e0b0e32c1"
      }
     },
     "metadata": {},
     "output_type": "display_data"
    },
    {
     "data": {
      "text/plain": "Calculating subsamples for fractional size: 0.73:   0%|          | 0/100 [00:00<?, ?it/s]",
      "application/vnd.jupyter.widget-view+json": {
       "version_major": 2,
       "version_minor": 0,
       "model_id": "0d58905dbf2c423bb998d4e3b1492952"
      }
     },
     "metadata": {},
     "output_type": "display_data"
    },
    {
     "data": {
      "text/plain": "Calculating subsamples for fractional size: 0.72:   0%|          | 0/100 [00:00<?, ?it/s]",
      "application/vnd.jupyter.widget-view+json": {
       "version_major": 2,
       "version_minor": 0,
       "model_id": "80c30d3a7cdb42548933c36b61820f14"
      }
     },
     "metadata": {},
     "output_type": "display_data"
    },
    {
     "data": {
      "text/plain": "Calculating subsamples for fractional size: 0.71:   0%|          | 0/100 [00:00<?, ?it/s]",
      "application/vnd.jupyter.widget-view+json": {
       "version_major": 2,
       "version_minor": 0,
       "model_id": "b75a49b84b234f3ab8b23c5c958fecc4"
      }
     },
     "metadata": {},
     "output_type": "display_data"
    },
    {
     "data": {
      "text/plain": "Calculating subsamples for fractional size: 0.7:   0%|          | 0/100 [00:00<?, ?it/s]",
      "application/vnd.jupyter.widget-view+json": {
       "version_major": 2,
       "version_minor": 0,
       "model_id": "7f5d68e31ab24fd887f5fe2b7f80aa11"
      }
     },
     "metadata": {},
     "output_type": "display_data"
    },
    {
     "data": {
      "text/plain": "Calculating subsamples for fractional size: 0.69:   0%|          | 0/100 [00:00<?, ?it/s]",
      "application/vnd.jupyter.widget-view+json": {
       "version_major": 2,
       "version_minor": 0,
       "model_id": "70a7bd8ff4cb40eebc3f36b57e5db147"
      }
     },
     "metadata": {},
     "output_type": "display_data"
    },
    {
     "data": {
      "text/plain": "Calculating subsamples for fractional size: 0.68:   0%|          | 0/100 [00:00<?, ?it/s]",
      "application/vnd.jupyter.widget-view+json": {
       "version_major": 2,
       "version_minor": 0,
       "model_id": "2e877df190b844f9b298757aa1bdb02b"
      }
     },
     "metadata": {},
     "output_type": "display_data"
    },
    {
     "data": {
      "text/plain": "Calculating subsamples for fractional size: 0.67:   0%|          | 0/100 [00:00<?, ?it/s]",
      "application/vnd.jupyter.widget-view+json": {
       "version_major": 2,
       "version_minor": 0,
       "model_id": "7ca14105811e42c886e83a2f768284c1"
      }
     },
     "metadata": {},
     "output_type": "display_data"
    },
    {
     "data": {
      "text/plain": "Calculating subsamples for fractional size: 0.66:   0%|          | 0/100 [00:00<?, ?it/s]",
      "application/vnd.jupyter.widget-view+json": {
       "version_major": 2,
       "version_minor": 0,
       "model_id": "958ede3c4c264009bc61b0f0fc1c4803"
      }
     },
     "metadata": {},
     "output_type": "display_data"
    },
    {
     "data": {
      "text/plain": "Calculating subsamples for fractional size: 0.65:   0%|          | 0/100 [00:00<?, ?it/s]",
      "application/vnd.jupyter.widget-view+json": {
       "version_major": 2,
       "version_minor": 0,
       "model_id": "7129cb2146d24cea8ee615dbe4f367cc"
      }
     },
     "metadata": {},
     "output_type": "display_data"
    },
    {
     "data": {
      "text/plain": "Calculating subsamples for fractional size: 0.64:   0%|          | 0/100 [00:00<?, ?it/s]",
      "application/vnd.jupyter.widget-view+json": {
       "version_major": 2,
       "version_minor": 0,
       "model_id": "848fd480dc1b489eae58de59b64e69dd"
      }
     },
     "metadata": {},
     "output_type": "display_data"
    },
    {
     "data": {
      "text/plain": "Calculating subsamples for fractional size: 0.63:   0%|          | 0/100 [00:00<?, ?it/s]",
      "application/vnd.jupyter.widget-view+json": {
       "version_major": 2,
       "version_minor": 0,
       "model_id": "3b9ef518f4124ac28fa5fd392a9ee36e"
      }
     },
     "metadata": {},
     "output_type": "display_data"
    },
    {
     "data": {
      "text/plain": "Calculating subsamples for fractional size: 0.62:   0%|          | 0/100 [00:00<?, ?it/s]",
      "application/vnd.jupyter.widget-view+json": {
       "version_major": 2,
       "version_minor": 0,
       "model_id": "ff17c4ecc5334e75acfb7802dd226d3b"
      }
     },
     "metadata": {},
     "output_type": "display_data"
    },
    {
     "data": {
      "text/plain": "Calculating subsamples for fractional size: 0.61:   0%|          | 0/100 [00:00<?, ?it/s]",
      "application/vnd.jupyter.widget-view+json": {
       "version_major": 2,
       "version_minor": 0,
       "model_id": "910b7d380b784390b9ad1e659beb99e2"
      }
     },
     "metadata": {},
     "output_type": "display_data"
    },
    {
     "data": {
      "text/plain": "Calculating subsamples for fractional size: 0.6:   0%|          | 0/100 [00:00<?, ?it/s]",
      "application/vnd.jupyter.widget-view+json": {
       "version_major": 2,
       "version_minor": 0,
       "model_id": "d8b951798b1645ed9efcc81d57997d7b"
      }
     },
     "metadata": {},
     "output_type": "display_data"
    },
    {
     "data": {
      "text/plain": "Calculating subsamples for fractional size: 0.59:   0%|          | 0/100 [00:00<?, ?it/s]",
      "application/vnd.jupyter.widget-view+json": {
       "version_major": 2,
       "version_minor": 0,
       "model_id": "8e09aaf6911f4434af5457a72551ff70"
      }
     },
     "metadata": {},
     "output_type": "display_data"
    },
    {
     "data": {
      "text/plain": "Calculating subsamples for fractional size: 0.58:   0%|          | 0/100 [00:00<?, ?it/s]",
      "application/vnd.jupyter.widget-view+json": {
       "version_major": 2,
       "version_minor": 0,
       "model_id": "9dcded1da35245c88c7039802ebc437a"
      }
     },
     "metadata": {},
     "output_type": "display_data"
    },
    {
     "data": {
      "text/plain": "Calculating subsamples for fractional size: 0.57:   0%|          | 0/100 [00:00<?, ?it/s]",
      "application/vnd.jupyter.widget-view+json": {
       "version_major": 2,
       "version_minor": 0,
       "model_id": "f4b2a307f3454464b3967f5a5392fddf"
      }
     },
     "metadata": {},
     "output_type": "display_data"
    },
    {
     "data": {
      "text/plain": "Calculating subsamples for fractional size: 0.56:   0%|          | 0/100 [00:00<?, ?it/s]",
      "application/vnd.jupyter.widget-view+json": {
       "version_major": 2,
       "version_minor": 0,
       "model_id": "8c455800ba884d66b07d8cc0551ef7ee"
      }
     },
     "metadata": {},
     "output_type": "display_data"
    },
    {
     "data": {
      "text/plain": "Calculating subsamples for fractional size: 0.55:   0%|          | 0/100 [00:00<?, ?it/s]",
      "application/vnd.jupyter.widget-view+json": {
       "version_major": 2,
       "version_minor": 0,
       "model_id": "14e25ab6ab9047168396a5a2a62b0595"
      }
     },
     "metadata": {},
     "output_type": "display_data"
    },
    {
     "data": {
      "text/plain": "Calculating subsamples for fractional size: 0.54:   0%|          | 0/100 [00:00<?, ?it/s]",
      "application/vnd.jupyter.widget-view+json": {
       "version_major": 2,
       "version_minor": 0,
       "model_id": "c8d21d10f0df4cda84bd0cf4abd1e0d4"
      }
     },
     "metadata": {},
     "output_type": "display_data"
    },
    {
     "data": {
      "text/plain": "Calculating subsamples for fractional size: 0.53:   0%|          | 0/100 [00:00<?, ?it/s]",
      "application/vnd.jupyter.widget-view+json": {
       "version_major": 2,
       "version_minor": 0,
       "model_id": "6a1368768dd947878bdcebe5c28542d6"
      }
     },
     "metadata": {},
     "output_type": "display_data"
    },
    {
     "data": {
      "text/plain": "Calculating subsamples for fractional size: 0.52:   0%|          | 0/100 [00:00<?, ?it/s]",
      "application/vnd.jupyter.widget-view+json": {
       "version_major": 2,
       "version_minor": 0,
       "model_id": "c2d42390e80d497b814a9db2acfed362"
      }
     },
     "metadata": {},
     "output_type": "display_data"
    },
    {
     "data": {
      "text/plain": "Calculating subsamples for fractional size: 0.51:   0%|          | 0/100 [00:00<?, ?it/s]",
      "application/vnd.jupyter.widget-view+json": {
       "version_major": 2,
       "version_minor": 0,
       "model_id": "6f6409c0017b4e52ada2105d0f6594c8"
      }
     },
     "metadata": {},
     "output_type": "display_data"
    },
    {
     "data": {
      "text/plain": "Calculating subsamples for fractional size: 0.5:   0%|          | 0/100 [00:00<?, ?it/s]",
      "application/vnd.jupyter.widget-view+json": {
       "version_major": 2,
       "version_minor": 0,
       "model_id": "27954c8239ef486db2c5f7240f570ac8"
      }
     },
     "metadata": {},
     "output_type": "display_data"
    },
    {
     "data": {
      "text/plain": "Calculating subsamples for fractional size: 0.49:   0%|          | 0/100 [00:00<?, ?it/s]",
      "application/vnd.jupyter.widget-view+json": {
       "version_major": 2,
       "version_minor": 0,
       "model_id": "e7c8d2c06b0446beacade4a4975742d3"
      }
     },
     "metadata": {},
     "output_type": "display_data"
    },
    {
     "data": {
      "text/plain": "Calculating subsamples for fractional size: 0.48:   0%|          | 0/100 [00:00<?, ?it/s]",
      "application/vnd.jupyter.widget-view+json": {
       "version_major": 2,
       "version_minor": 0,
       "model_id": "76ea109787314f33a1c62f14c8270f42"
      }
     },
     "metadata": {},
     "output_type": "display_data"
    },
    {
     "data": {
      "text/plain": "Calculating subsamples for fractional size: 0.47:   0%|          | 0/100 [00:00<?, ?it/s]",
      "application/vnd.jupyter.widget-view+json": {
       "version_major": 2,
       "version_minor": 0,
       "model_id": "cda957f45cbb4029bd80f42e39fd36ea"
      }
     },
     "metadata": {},
     "output_type": "display_data"
    },
    {
     "data": {
      "text/plain": "Calculating subsamples for fractional size: 0.46:   0%|          | 0/100 [00:00<?, ?it/s]",
      "application/vnd.jupyter.widget-view+json": {
       "version_major": 2,
       "version_minor": 0,
       "model_id": "7bb30f0988254d5aa30f4e2a6888dea4"
      }
     },
     "metadata": {},
     "output_type": "display_data"
    },
    {
     "data": {
      "text/plain": "Calculating subsamples for fractional size: 0.45:   0%|          | 0/100 [00:00<?, ?it/s]",
      "application/vnd.jupyter.widget-view+json": {
       "version_major": 2,
       "version_minor": 0,
       "model_id": "2b92b9c3d4744733ae4c7c867dd93496"
      }
     },
     "metadata": {},
     "output_type": "display_data"
    },
    {
     "data": {
      "text/plain": "Calculating subsamples for fractional size: 0.44:   0%|          | 0/100 [00:00<?, ?it/s]",
      "application/vnd.jupyter.widget-view+json": {
       "version_major": 2,
       "version_minor": 0,
       "model_id": "be4040fec48b4e92af7ec20170a3e0ea"
      }
     },
     "metadata": {},
     "output_type": "display_data"
    },
    {
     "data": {
      "text/plain": "Calculating subsamples for fractional size: 0.43:   0%|          | 0/100 [00:00<?, ?it/s]",
      "application/vnd.jupyter.widget-view+json": {
       "version_major": 2,
       "version_minor": 0,
       "model_id": "7984ef74cb6047c592bcfb1097d1db10"
      }
     },
     "metadata": {},
     "output_type": "display_data"
    },
    {
     "data": {
      "text/plain": "Calculating subsamples for fractional size: 0.42:   0%|          | 0/100 [00:00<?, ?it/s]",
      "application/vnd.jupyter.widget-view+json": {
       "version_major": 2,
       "version_minor": 0,
       "model_id": "8bdf446d0d214a25bd858fdb120878f6"
      }
     },
     "metadata": {},
     "output_type": "display_data"
    },
    {
     "data": {
      "text/plain": "Calculating subsamples for fractional size: 0.41:   0%|          | 0/100 [00:00<?, ?it/s]",
      "application/vnd.jupyter.widget-view+json": {
       "version_major": 2,
       "version_minor": 0,
       "model_id": "9d679b18c0e24954b227d36c580d408d"
      }
     },
     "metadata": {},
     "output_type": "display_data"
    },
    {
     "data": {
      "text/plain": "Calculating subsamples for fractional size: 0.4:   0%|          | 0/100 [00:00<?, ?it/s]",
      "application/vnd.jupyter.widget-view+json": {
       "version_major": 2,
       "version_minor": 0,
       "model_id": "29d0f12f0faf42f0b2d90f8f2ed156cc"
      }
     },
     "metadata": {},
     "output_type": "display_data"
    },
    {
     "data": {
      "text/plain": "Calculating subsamples for fractional size: 0.39:   0%|          | 0/100 [00:00<?, ?it/s]",
      "application/vnd.jupyter.widget-view+json": {
       "version_major": 2,
       "version_minor": 0,
       "model_id": "332682bb7d2049eb9831f976c8d2b5c8"
      }
     },
     "metadata": {},
     "output_type": "display_data"
    },
    {
     "data": {
      "text/plain": "Calculating subsamples for fractional size: 0.38:   0%|          | 0/100 [00:00<?, ?it/s]",
      "application/vnd.jupyter.widget-view+json": {
       "version_major": 2,
       "version_minor": 0,
       "model_id": "bd9b4388dd1c4958abe74e1eec6d27c5"
      }
     },
     "metadata": {},
     "output_type": "display_data"
    },
    {
     "data": {
      "text/plain": "Calculating subsamples for fractional size: 0.37:   0%|          | 0/100 [00:00<?, ?it/s]",
      "application/vnd.jupyter.widget-view+json": {
       "version_major": 2,
       "version_minor": 0,
       "model_id": "3e57017a842e4f87a78830012da44d23"
      }
     },
     "metadata": {},
     "output_type": "display_data"
    },
    {
     "data": {
      "text/plain": "Calculating subsamples for fractional size: 0.36:   0%|          | 0/100 [00:00<?, ?it/s]",
      "application/vnd.jupyter.widget-view+json": {
       "version_major": 2,
       "version_minor": 0,
       "model_id": "a088ec36e474470e89cdae52cb409e8b"
      }
     },
     "metadata": {},
     "output_type": "display_data"
    },
    {
     "data": {
      "text/plain": "Calculating subsamples for fractional size: 0.35:   0%|          | 0/100 [00:00<?, ?it/s]",
      "application/vnd.jupyter.widget-view+json": {
       "version_major": 2,
       "version_minor": 0,
       "model_id": "95f20ad3343947078ab4b6b2e7d2664c"
      }
     },
     "metadata": {},
     "output_type": "display_data"
    },
    {
     "data": {
      "text/plain": "Calculating subsamples for fractional size: 0.34:   0%|          | 0/100 [00:00<?, ?it/s]",
      "application/vnd.jupyter.widget-view+json": {
       "version_major": 2,
       "version_minor": 0,
       "model_id": "d60a42a3c18a4a20b9612a955d1675ef"
      }
     },
     "metadata": {},
     "output_type": "display_data"
    },
    {
     "data": {
      "text/plain": "Calculating subsamples for fractional size: 0.33:   0%|          | 0/100 [00:00<?, ?it/s]",
      "application/vnd.jupyter.widget-view+json": {
       "version_major": 2,
       "version_minor": 0,
       "model_id": "998d16bab6d343698517608371a295d4"
      }
     },
     "metadata": {},
     "output_type": "display_data"
    },
    {
     "data": {
      "text/plain": "Calculating subsamples for fractional size: 0.32:   0%|          | 0/100 [00:00<?, ?it/s]",
      "application/vnd.jupyter.widget-view+json": {
       "version_major": 2,
       "version_minor": 0,
       "model_id": "71f19cf6e9d34c0f86bee50560663cc0"
      }
     },
     "metadata": {},
     "output_type": "display_data"
    },
    {
     "data": {
      "text/plain": "Calculating subsamples for fractional size: 0.31:   0%|          | 0/100 [00:00<?, ?it/s]",
      "application/vnd.jupyter.widget-view+json": {
       "version_major": 2,
       "version_minor": 0,
       "model_id": "55997418f0ba4a9a9e4b7f9c2ff81fb8"
      }
     },
     "metadata": {},
     "output_type": "display_data"
    },
    {
     "data": {
      "text/plain": "Calculating subsamples for fractional size: 0.3:   0%|          | 0/100 [00:00<?, ?it/s]",
      "application/vnd.jupyter.widget-view+json": {
       "version_major": 2,
       "version_minor": 0,
       "model_id": "5e9ee500440d43b88816596b06dec1b4"
      }
     },
     "metadata": {},
     "output_type": "display_data"
    },
    {
     "data": {
      "text/plain": "Calculating subsamples for fractional size: 0.29:   0%|          | 0/100 [00:00<?, ?it/s]",
      "application/vnd.jupyter.widget-view+json": {
       "version_major": 2,
       "version_minor": 0,
       "model_id": "03ff862a894948818d05cdc6a3a0a00d"
      }
     },
     "metadata": {},
     "output_type": "display_data"
    },
    {
     "data": {
      "text/plain": "Calculating subsamples for fractional size: 0.28:   0%|          | 0/100 [00:00<?, ?it/s]",
      "application/vnd.jupyter.widget-view+json": {
       "version_major": 2,
       "version_minor": 0,
       "model_id": "06b522af87994cdb8f8a5ffbc9e5e293"
      }
     },
     "metadata": {},
     "output_type": "display_data"
    },
    {
     "data": {
      "text/plain": "Calculating subsamples for fractional size: 0.27:   0%|          | 0/100 [00:00<?, ?it/s]",
      "application/vnd.jupyter.widget-view+json": {
       "version_major": 2,
       "version_minor": 0,
       "model_id": "86bd1321320942ed9da4f4022a09ad6e"
      }
     },
     "metadata": {},
     "output_type": "display_data"
    },
    {
     "data": {
      "text/plain": "Calculating subsamples for fractional size: 0.26:   0%|          | 0/100 [00:00<?, ?it/s]",
      "application/vnd.jupyter.widget-view+json": {
       "version_major": 2,
       "version_minor": 0,
       "model_id": "db22ec6aa366494f95dac3d7af656f66"
      }
     },
     "metadata": {},
     "output_type": "display_data"
    },
    {
     "data": {
      "text/plain": "Calculating subsamples for fractional size: 0.25:   0%|          | 0/100 [00:00<?, ?it/s]",
      "application/vnd.jupyter.widget-view+json": {
       "version_major": 2,
       "version_minor": 0,
       "model_id": "34e7c2a153ba4368819b89f720494bb6"
      }
     },
     "metadata": {},
     "output_type": "display_data"
    },
    {
     "data": {
      "text/plain": "Calculating subsamples for fractional size: 0.24:   0%|          | 0/100 [00:00<?, ?it/s]",
      "application/vnd.jupyter.widget-view+json": {
       "version_major": 2,
       "version_minor": 0,
       "model_id": "b1f5cdc5d89a4b1988e3363c0ee4ad7b"
      }
     },
     "metadata": {},
     "output_type": "display_data"
    },
    {
     "data": {
      "text/plain": "Calculating subsamples for fractional size: 0.23:   0%|          | 0/100 [00:00<?, ?it/s]",
      "application/vnd.jupyter.widget-view+json": {
       "version_major": 2,
       "version_minor": 0,
       "model_id": "4e9802c665844a1aa82fd0bdb1c6c8d8"
      }
     },
     "metadata": {},
     "output_type": "display_data"
    },
    {
     "data": {
      "text/plain": "Calculating subsamples for fractional size: 0.22:   0%|          | 0/100 [00:00<?, ?it/s]",
      "application/vnd.jupyter.widget-view+json": {
       "version_major": 2,
       "version_minor": 0,
       "model_id": "74a0fc91f1a946719ec23b26fd903d6e"
      }
     },
     "metadata": {},
     "output_type": "display_data"
    },
    {
     "data": {
      "text/plain": "Calculating subsamples for fractional size: 0.21:   0%|          | 0/100 [00:00<?, ?it/s]",
      "application/vnd.jupyter.widget-view+json": {
       "version_major": 2,
       "version_minor": 0,
       "model_id": "cbe316bc7f884ecbab5e341f6151d4bd"
      }
     },
     "metadata": {},
     "output_type": "display_data"
    },
    {
     "data": {
      "text/plain": "Calculating subsamples for fractional size: 0.2:   0%|          | 0/100 [00:00<?, ?it/s]",
      "application/vnd.jupyter.widget-view+json": {
       "version_major": 2,
       "version_minor": 0,
       "model_id": "3193b3863c684a21b2894b6b369cd96c"
      }
     },
     "metadata": {},
     "output_type": "display_data"
    },
    {
     "data": {
      "text/plain": "Calculating subsamples for fractional size: 0.19:   0%|          | 0/100 [00:00<?, ?it/s]",
      "application/vnd.jupyter.widget-view+json": {
       "version_major": 2,
       "version_minor": 0,
       "model_id": "cbb12edb1e6446a7b07d033bad7b22f0"
      }
     },
     "metadata": {},
     "output_type": "display_data"
    },
    {
     "data": {
      "text/plain": "Calculating subsamples for fractional size: 0.18:   0%|          | 0/100 [00:00<?, ?it/s]",
      "application/vnd.jupyter.widget-view+json": {
       "version_major": 2,
       "version_minor": 0,
       "model_id": "0b391340c1b443c89f4fe0498478a79e"
      }
     },
     "metadata": {},
     "output_type": "display_data"
    },
    {
     "data": {
      "text/plain": "Calculating subsamples for fractional size: 0.17:   0%|          | 0/100 [00:00<?, ?it/s]",
      "application/vnd.jupyter.widget-view+json": {
       "version_major": 2,
       "version_minor": 0,
       "model_id": "96c9860de98d425fa900494d0e0cfe4e"
      }
     },
     "metadata": {},
     "output_type": "display_data"
    },
    {
     "data": {
      "text/plain": "Calculating subsamples for fractional size: 0.16:   0%|          | 0/100 [00:00<?, ?it/s]",
      "application/vnd.jupyter.widget-view+json": {
       "version_major": 2,
       "version_minor": 0,
       "model_id": "0a428a99867f4ce5b984578092c2ae62"
      }
     },
     "metadata": {},
     "output_type": "display_data"
    },
    {
     "data": {
      "text/plain": "Calculating subsamples for fractional size: 0.15:   0%|          | 0/100 [00:00<?, ?it/s]",
      "application/vnd.jupyter.widget-view+json": {
       "version_major": 2,
       "version_minor": 0,
       "model_id": "dd8d47bbc043487f913866e9bc77c998"
      }
     },
     "metadata": {},
     "output_type": "display_data"
    },
    {
     "data": {
      "text/plain": "Calculating subsamples for fractional size: 0.14:   0%|          | 0/100 [00:00<?, ?it/s]",
      "application/vnd.jupyter.widget-view+json": {
       "version_major": 2,
       "version_minor": 0,
       "model_id": "e42799c64d1147ce86b142a2fbe5ef9a"
      }
     },
     "metadata": {},
     "output_type": "display_data"
    },
    {
     "data": {
      "text/plain": "Calculating subsamples for fractional size: 0.13:   0%|          | 0/100 [00:00<?, ?it/s]",
      "application/vnd.jupyter.widget-view+json": {
       "version_major": 2,
       "version_minor": 0,
       "model_id": "aa87defb4956480c9b1b1f84cb848a05"
      }
     },
     "metadata": {},
     "output_type": "display_data"
    },
    {
     "data": {
      "text/plain": "Calculating subsamples for fractional size: 0.12:   0%|          | 0/100 [00:00<?, ?it/s]",
      "application/vnd.jupyter.widget-view+json": {
       "version_major": 2,
       "version_minor": 0,
       "model_id": "1687d1491d374ce2ac0b7289709f5bc0"
      }
     },
     "metadata": {},
     "output_type": "display_data"
    },
    {
     "data": {
      "text/plain": "Calculating subsamples for fractional size: 0.11:   0%|          | 0/100 [00:00<?, ?it/s]",
      "application/vnd.jupyter.widget-view+json": {
       "version_major": 2,
       "version_minor": 0,
       "model_id": "ce20816f11964b4291da527ec3d1f586"
      }
     },
     "metadata": {},
     "output_type": "display_data"
    },
    {
     "data": {
      "text/plain": "Calculating subsamples for fractional size: 0.1:   0%|          | 0/100 [00:00<?, ?it/s]",
      "application/vnd.jupyter.widget-view+json": {
       "version_major": 2,
       "version_minor": 0,
       "model_id": "52a3a197fe994847b0aaa700b7312444"
      }
     },
     "metadata": {},
     "output_type": "display_data"
    },
    {
     "data": {
      "text/plain": "Calculating subsamples for fractional size: 0.09:   0%|          | 0/100 [00:00<?, ?it/s]",
      "application/vnd.jupyter.widget-view+json": {
       "version_major": 2,
       "version_minor": 0,
       "model_id": "27052b8b2dc74407832b0f9d7ebaa965"
      }
     },
     "metadata": {},
     "output_type": "display_data"
    },
    {
     "data": {
      "text/plain": "Calculating subsamples for fractional size: 0.08:   0%|          | 0/100 [00:00<?, ?it/s]",
      "application/vnd.jupyter.widget-view+json": {
       "version_major": 2,
       "version_minor": 0,
       "model_id": "1486a9bd128c42dab2dd94588abd867f"
      }
     },
     "metadata": {},
     "output_type": "display_data"
    },
    {
     "data": {
      "text/plain": "Calculating subsamples for fractional size: 0.07:   0%|          | 0/100 [00:00<?, ?it/s]",
      "application/vnd.jupyter.widget-view+json": {
       "version_major": 2,
       "version_minor": 0,
       "model_id": "43240ec4e466415db610c2eb2e9b44df"
      }
     },
     "metadata": {},
     "output_type": "display_data"
    },
    {
     "data": {
      "text/plain": "Calculating subsamples for fractional size: 0.06:   0%|          | 0/100 [00:00<?, ?it/s]",
      "application/vnd.jupyter.widget-view+json": {
       "version_major": 2,
       "version_minor": 0,
       "model_id": "f6cde18d45e6477a8f5da9fefe99da77"
      }
     },
     "metadata": {},
     "output_type": "display_data"
    },
    {
     "data": {
      "text/plain": "Calculating subsamples for fractional size: 0.05:   0%|          | 0/100 [00:00<?, ?it/s]",
      "application/vnd.jupyter.widget-view+json": {
       "version_major": 2,
       "version_minor": 0,
       "model_id": "40fb5d08ea374bcca07c3740ec43a5ed"
      }
     },
     "metadata": {},
     "output_type": "display_data"
    },
    {
     "data": {
      "text/plain": "Calculating subsamples for fractional size: 0.04:   0%|          | 0/100 [00:00<?, ?it/s]",
      "application/vnd.jupyter.widget-view+json": {
       "version_major": 2,
       "version_minor": 0,
       "model_id": "e9e16ef0df094b4ba7e63f9bce16f137"
      }
     },
     "metadata": {},
     "output_type": "display_data"
    },
    {
     "data": {
      "text/plain": "Calculating subsamples for fractional size: 0.03:   0%|          | 0/100 [00:00<?, ?it/s]",
      "application/vnd.jupyter.widget-view+json": {
       "version_major": 2,
       "version_minor": 0,
       "model_id": "cfe9e3d2cf534c19a4765fe52710b2f0"
      }
     },
     "metadata": {},
     "output_type": "display_data"
    },
    {
     "data": {
      "text/plain": "Calculating subsamples for fractional size: 0.02:   0%|          | 0/100 [00:00<?, ?it/s]",
      "application/vnd.jupyter.widget-view+json": {
       "version_major": 2,
       "version_minor": 0,
       "model_id": "fe875f54f6ab47f294ca173f081da90a"
      }
     },
     "metadata": {},
     "output_type": "display_data"
    },
    {
     "data": {
      "text/plain": "Calculating subsamples for fractional size: 0.01:   0%|          | 0/100 [00:00<?, ?it/s]",
      "application/vnd.jupyter.widget-view+json": {
       "version_major": 2,
       "version_minor": 0,
       "model_id": "1ebfe91d871c42719e0dc48cf6a43ef9"
      }
     },
     "metadata": {},
     "output_type": "display_data"
    },
    {
     "data": {
      "text/plain": "Subsampling for totalRNA3:   0%|          | 0/100 [00:00<?, ?it/s]",
      "application/vnd.jupyter.widget-view+json": {
       "version_major": 2,
       "version_minor": 0,
       "model_id": "57aaa75a00cd45c1a1409846d24c2dc3"
      }
     },
     "metadata": {},
     "output_type": "display_data"
    },
    {
     "data": {
      "text/plain": "Calculating subsamples for fractional size: 1.0:   0%|          | 0/100 [00:00<?, ?it/s]",
      "application/vnd.jupyter.widget-view+json": {
       "version_major": 2,
       "version_minor": 0,
       "model_id": "184aad9cc82b439fa62047ed5a35c683"
      }
     },
     "metadata": {},
     "output_type": "display_data"
    },
    {
     "data": {
      "text/plain": "Calculating subsamples for fractional size: 0.99:   0%|          | 0/100 [00:00<?, ?it/s]",
      "application/vnd.jupyter.widget-view+json": {
       "version_major": 2,
       "version_minor": 0,
       "model_id": "5654da6a10354953a913f825833b9b81"
      }
     },
     "metadata": {},
     "output_type": "display_data"
    },
    {
     "data": {
      "text/plain": "Calculating subsamples for fractional size: 0.98:   0%|          | 0/100 [00:00<?, ?it/s]",
      "application/vnd.jupyter.widget-view+json": {
       "version_major": 2,
       "version_minor": 0,
       "model_id": "dd637e5abd3342e9bf337ecb32bed492"
      }
     },
     "metadata": {},
     "output_type": "display_data"
    },
    {
     "data": {
      "text/plain": "Calculating subsamples for fractional size: 0.97:   0%|          | 0/100 [00:00<?, ?it/s]",
      "application/vnd.jupyter.widget-view+json": {
       "version_major": 2,
       "version_minor": 0,
       "model_id": "6e856ee5fb2d47e69f1eb87503323e73"
      }
     },
     "metadata": {},
     "output_type": "display_data"
    },
    {
     "data": {
      "text/plain": "Calculating subsamples for fractional size: 0.96:   0%|          | 0/100 [00:00<?, ?it/s]",
      "application/vnd.jupyter.widget-view+json": {
       "version_major": 2,
       "version_minor": 0,
       "model_id": "b314d021d6574d71aa5f60d694b61158"
      }
     },
     "metadata": {},
     "output_type": "display_data"
    },
    {
     "data": {
      "text/plain": "Calculating subsamples for fractional size: 0.95:   0%|          | 0/100 [00:00<?, ?it/s]",
      "application/vnd.jupyter.widget-view+json": {
       "version_major": 2,
       "version_minor": 0,
       "model_id": "8f51e1ef6a394119b51a7c6ebaadfaf4"
      }
     },
     "metadata": {},
     "output_type": "display_data"
    },
    {
     "data": {
      "text/plain": "Calculating subsamples for fractional size: 0.94:   0%|          | 0/100 [00:00<?, ?it/s]",
      "application/vnd.jupyter.widget-view+json": {
       "version_major": 2,
       "version_minor": 0,
       "model_id": "b3708dcca99f4fe3aed102821440f274"
      }
     },
     "metadata": {},
     "output_type": "display_data"
    },
    {
     "data": {
      "text/plain": "Calculating subsamples for fractional size: 0.93:   0%|          | 0/100 [00:00<?, ?it/s]",
      "application/vnd.jupyter.widget-view+json": {
       "version_major": 2,
       "version_minor": 0,
       "model_id": "b20ac717e42643b3a5c381bdeea32bd9"
      }
     },
     "metadata": {},
     "output_type": "display_data"
    },
    {
     "data": {
      "text/plain": "Calculating subsamples for fractional size: 0.92:   0%|          | 0/100 [00:00<?, ?it/s]",
      "application/vnd.jupyter.widget-view+json": {
       "version_major": 2,
       "version_minor": 0,
       "model_id": "f119efb143724f589a948fb191a315d5"
      }
     },
     "metadata": {},
     "output_type": "display_data"
    },
    {
     "data": {
      "text/plain": "Calculating subsamples for fractional size: 0.91:   0%|          | 0/100 [00:00<?, ?it/s]",
      "application/vnd.jupyter.widget-view+json": {
       "version_major": 2,
       "version_minor": 0,
       "model_id": "e1c25de04db942d0bfe2408f565e076f"
      }
     },
     "metadata": {},
     "output_type": "display_data"
    },
    {
     "data": {
      "text/plain": "Calculating subsamples for fractional size: 0.9:   0%|          | 0/100 [00:00<?, ?it/s]",
      "application/vnd.jupyter.widget-view+json": {
       "version_major": 2,
       "version_minor": 0,
       "model_id": "f5b0f38add27485b80495bec3f22399f"
      }
     },
     "metadata": {},
     "output_type": "display_data"
    },
    {
     "data": {
      "text/plain": "Calculating subsamples for fractional size: 0.89:   0%|          | 0/100 [00:00<?, ?it/s]",
      "application/vnd.jupyter.widget-view+json": {
       "version_major": 2,
       "version_minor": 0,
       "model_id": "059ffd8285e0495b8614c9a3b6fdcecc"
      }
     },
     "metadata": {},
     "output_type": "display_data"
    },
    {
     "data": {
      "text/plain": "Calculating subsamples for fractional size: 0.88:   0%|          | 0/100 [00:00<?, ?it/s]",
      "application/vnd.jupyter.widget-view+json": {
       "version_major": 2,
       "version_minor": 0,
       "model_id": "16fcff7bdf18462a8e0bf8b0a2566efa"
      }
     },
     "metadata": {},
     "output_type": "display_data"
    },
    {
     "data": {
      "text/plain": "Calculating subsamples for fractional size: 0.87:   0%|          | 0/100 [00:00<?, ?it/s]",
      "application/vnd.jupyter.widget-view+json": {
       "version_major": 2,
       "version_minor": 0,
       "model_id": "e2a79ec822c348c28b834f9bf2ac2366"
      }
     },
     "metadata": {},
     "output_type": "display_data"
    },
    {
     "data": {
      "text/plain": "Calculating subsamples for fractional size: 0.86:   0%|          | 0/100 [00:00<?, ?it/s]",
      "application/vnd.jupyter.widget-view+json": {
       "version_major": 2,
       "version_minor": 0,
       "model_id": "a0fcd1534f1042d7b8ce7b1314d1395e"
      }
     },
     "metadata": {},
     "output_type": "display_data"
    },
    {
     "data": {
      "text/plain": "Calculating subsamples for fractional size: 0.85:   0%|          | 0/100 [00:00<?, ?it/s]",
      "application/vnd.jupyter.widget-view+json": {
       "version_major": 2,
       "version_minor": 0,
       "model_id": "41c7192809044f76beb7181fda41fdde"
      }
     },
     "metadata": {},
     "output_type": "display_data"
    },
    {
     "data": {
      "text/plain": "Calculating subsamples for fractional size: 0.84:   0%|          | 0/100 [00:00<?, ?it/s]",
      "application/vnd.jupyter.widget-view+json": {
       "version_major": 2,
       "version_minor": 0,
       "model_id": "5ddc6f09cc7a4eb2988e4f2e827a17af"
      }
     },
     "metadata": {},
     "output_type": "display_data"
    },
    {
     "data": {
      "text/plain": "Calculating subsamples for fractional size: 0.83:   0%|          | 0/100 [00:00<?, ?it/s]",
      "application/vnd.jupyter.widget-view+json": {
       "version_major": 2,
       "version_minor": 0,
       "model_id": "b2f91fb37ea84b9fa6b199bf7f612c05"
      }
     },
     "metadata": {},
     "output_type": "display_data"
    },
    {
     "data": {
      "text/plain": "Calculating subsamples for fractional size: 0.82:   0%|          | 0/100 [00:00<?, ?it/s]",
      "application/vnd.jupyter.widget-view+json": {
       "version_major": 2,
       "version_minor": 0,
       "model_id": "8a96604e4d764a9fbb9ccbd1d9e17334"
      }
     },
     "metadata": {},
     "output_type": "display_data"
    },
    {
     "data": {
      "text/plain": "Calculating subsamples for fractional size: 0.81:   0%|          | 0/100 [00:00<?, ?it/s]",
      "application/vnd.jupyter.widget-view+json": {
       "version_major": 2,
       "version_minor": 0,
       "model_id": "4c7c632015204e1fa0e7d3f44bb754bf"
      }
     },
     "metadata": {},
     "output_type": "display_data"
    },
    {
     "data": {
      "text/plain": "Calculating subsamples for fractional size: 0.8:   0%|          | 0/100 [00:00<?, ?it/s]",
      "application/vnd.jupyter.widget-view+json": {
       "version_major": 2,
       "version_minor": 0,
       "model_id": "2bb2e5f85be4435989fe2a6c15acb785"
      }
     },
     "metadata": {},
     "output_type": "display_data"
    },
    {
     "data": {
      "text/plain": "Calculating subsamples for fractional size: 0.79:   0%|          | 0/100 [00:00<?, ?it/s]",
      "application/vnd.jupyter.widget-view+json": {
       "version_major": 2,
       "version_minor": 0,
       "model_id": "8a672846a395498c98d54c1dfde7c5a3"
      }
     },
     "metadata": {},
     "output_type": "display_data"
    },
    {
     "data": {
      "text/plain": "Calculating subsamples for fractional size: 0.78:   0%|          | 0/100 [00:00<?, ?it/s]",
      "application/vnd.jupyter.widget-view+json": {
       "version_major": 2,
       "version_minor": 0,
       "model_id": "a3e3f63dbff248d7aee2d85db983b294"
      }
     },
     "metadata": {},
     "output_type": "display_data"
    },
    {
     "data": {
      "text/plain": "Calculating subsamples for fractional size: 0.77:   0%|          | 0/100 [00:00<?, ?it/s]",
      "application/vnd.jupyter.widget-view+json": {
       "version_major": 2,
       "version_minor": 0,
       "model_id": "472245f05b234d1dbc7d4d853ceacba4"
      }
     },
     "metadata": {},
     "output_type": "display_data"
    },
    {
     "data": {
      "text/plain": "Calculating subsamples for fractional size: 0.76:   0%|          | 0/100 [00:00<?, ?it/s]",
      "application/vnd.jupyter.widget-view+json": {
       "version_major": 2,
       "version_minor": 0,
       "model_id": "0ba3720b4a654a328d9105f487e41f15"
      }
     },
     "metadata": {},
     "output_type": "display_data"
    },
    {
     "data": {
      "text/plain": "Calculating subsamples for fractional size: 0.75:   0%|          | 0/100 [00:00<?, ?it/s]",
      "application/vnd.jupyter.widget-view+json": {
       "version_major": 2,
       "version_minor": 0,
       "model_id": "e39583f8c61741bb90b9837d75eacde2"
      }
     },
     "metadata": {},
     "output_type": "display_data"
    },
    {
     "data": {
      "text/plain": "Calculating subsamples for fractional size: 0.74:   0%|          | 0/100 [00:00<?, ?it/s]",
      "application/vnd.jupyter.widget-view+json": {
       "version_major": 2,
       "version_minor": 0,
       "model_id": "e02f8a2ced044cc5986be979a7d4d8ed"
      }
     },
     "metadata": {},
     "output_type": "display_data"
    },
    {
     "data": {
      "text/plain": "Calculating subsamples for fractional size: 0.73:   0%|          | 0/100 [00:00<?, ?it/s]",
      "application/vnd.jupyter.widget-view+json": {
       "version_major": 2,
       "version_minor": 0,
       "model_id": "2dd6e6acaddd433295f642cfec8dba7f"
      }
     },
     "metadata": {},
     "output_type": "display_data"
    },
    {
     "data": {
      "text/plain": "Calculating subsamples for fractional size: 0.72:   0%|          | 0/100 [00:00<?, ?it/s]",
      "application/vnd.jupyter.widget-view+json": {
       "version_major": 2,
       "version_minor": 0,
       "model_id": "4de986bf5cdc4384869e8b81ae75c1d5"
      }
     },
     "metadata": {},
     "output_type": "display_data"
    },
    {
     "data": {
      "text/plain": "Calculating subsamples for fractional size: 0.71:   0%|          | 0/100 [00:00<?, ?it/s]",
      "application/vnd.jupyter.widget-view+json": {
       "version_major": 2,
       "version_minor": 0,
       "model_id": "95f82d3aca474acbaf70279ebdafa1aa"
      }
     },
     "metadata": {},
     "output_type": "display_data"
    },
    {
     "data": {
      "text/plain": "Calculating subsamples for fractional size: 0.7:   0%|          | 0/100 [00:00<?, ?it/s]",
      "application/vnd.jupyter.widget-view+json": {
       "version_major": 2,
       "version_minor": 0,
       "model_id": "ab49c0be47f04957ae2e77abd4d7e754"
      }
     },
     "metadata": {},
     "output_type": "display_data"
    },
    {
     "data": {
      "text/plain": "Calculating subsamples for fractional size: 0.69:   0%|          | 0/100 [00:00<?, ?it/s]",
      "application/vnd.jupyter.widget-view+json": {
       "version_major": 2,
       "version_minor": 0,
       "model_id": "bf982b2171384e42b9061c80c48e3929"
      }
     },
     "metadata": {},
     "output_type": "display_data"
    },
    {
     "data": {
      "text/plain": "Calculating subsamples for fractional size: 0.68:   0%|          | 0/100 [00:00<?, ?it/s]",
      "application/vnd.jupyter.widget-view+json": {
       "version_major": 2,
       "version_minor": 0,
       "model_id": "c68430b26a9449a2ba97cef456b1021a"
      }
     },
     "metadata": {},
     "output_type": "display_data"
    },
    {
     "data": {
      "text/plain": "Calculating subsamples for fractional size: 0.67:   0%|          | 0/100 [00:00<?, ?it/s]",
      "application/vnd.jupyter.widget-view+json": {
       "version_major": 2,
       "version_minor": 0,
       "model_id": "3f21b04e83124a8388c0b1aa91d8df3f"
      }
     },
     "metadata": {},
     "output_type": "display_data"
    },
    {
     "data": {
      "text/plain": "Calculating subsamples for fractional size: 0.66:   0%|          | 0/100 [00:00<?, ?it/s]",
      "application/vnd.jupyter.widget-view+json": {
       "version_major": 2,
       "version_minor": 0,
       "model_id": "a4631aef5daa4954944a0bd6688a0bf2"
      }
     },
     "metadata": {},
     "output_type": "display_data"
    },
    {
     "data": {
      "text/plain": "Calculating subsamples for fractional size: 0.65:   0%|          | 0/100 [00:00<?, ?it/s]",
      "application/vnd.jupyter.widget-view+json": {
       "version_major": 2,
       "version_minor": 0,
       "model_id": "8624ae38aef9416bb01d8e2bf202a1c7"
      }
     },
     "metadata": {},
     "output_type": "display_data"
    },
    {
     "data": {
      "text/plain": "Calculating subsamples for fractional size: 0.64:   0%|          | 0/100 [00:00<?, ?it/s]",
      "application/vnd.jupyter.widget-view+json": {
       "version_major": 2,
       "version_minor": 0,
       "model_id": "3abd48ea406a4a2da71b7bb9bb17587b"
      }
     },
     "metadata": {},
     "output_type": "display_data"
    },
    {
     "data": {
      "text/plain": "Calculating subsamples for fractional size: 0.63:   0%|          | 0/100 [00:00<?, ?it/s]",
      "application/vnd.jupyter.widget-view+json": {
       "version_major": 2,
       "version_minor": 0,
       "model_id": "b89a307b97284089a7f574c4462321ef"
      }
     },
     "metadata": {},
     "output_type": "display_data"
    },
    {
     "data": {
      "text/plain": "Calculating subsamples for fractional size: 0.62:   0%|          | 0/100 [00:00<?, ?it/s]",
      "application/vnd.jupyter.widget-view+json": {
       "version_major": 2,
       "version_minor": 0,
       "model_id": "d2203d72437c4d8abc1b9f65b8c128b7"
      }
     },
     "metadata": {},
     "output_type": "display_data"
    },
    {
     "data": {
      "text/plain": "Calculating subsamples for fractional size: 0.61:   0%|          | 0/100 [00:00<?, ?it/s]",
      "application/vnd.jupyter.widget-view+json": {
       "version_major": 2,
       "version_minor": 0,
       "model_id": "b7696b679ca640e793285bbaf7a3a0d1"
      }
     },
     "metadata": {},
     "output_type": "display_data"
    },
    {
     "data": {
      "text/plain": "Calculating subsamples for fractional size: 0.6:   0%|          | 0/100 [00:00<?, ?it/s]",
      "application/vnd.jupyter.widget-view+json": {
       "version_major": 2,
       "version_minor": 0,
       "model_id": "5a759edca83e483f87173a8527067108"
      }
     },
     "metadata": {},
     "output_type": "display_data"
    },
    {
     "data": {
      "text/plain": "Calculating subsamples for fractional size: 0.59:   0%|          | 0/100 [00:00<?, ?it/s]",
      "application/vnd.jupyter.widget-view+json": {
       "version_major": 2,
       "version_minor": 0,
       "model_id": "7c41d6b6b58f4cc7828db894627978a9"
      }
     },
     "metadata": {},
     "output_type": "display_data"
    },
    {
     "data": {
      "text/plain": "Calculating subsamples for fractional size: 0.58:   0%|          | 0/100 [00:00<?, ?it/s]",
      "application/vnd.jupyter.widget-view+json": {
       "version_major": 2,
       "version_minor": 0,
       "model_id": "04ff0821941c4044ae724a533f1e1ac8"
      }
     },
     "metadata": {},
     "output_type": "display_data"
    },
    {
     "data": {
      "text/plain": "Calculating subsamples for fractional size: 0.57:   0%|          | 0/100 [00:00<?, ?it/s]",
      "application/vnd.jupyter.widget-view+json": {
       "version_major": 2,
       "version_minor": 0,
       "model_id": "848bb943c36c44aabfe0d78886c0f467"
      }
     },
     "metadata": {},
     "output_type": "display_data"
    },
    {
     "data": {
      "text/plain": "Calculating subsamples for fractional size: 0.56:   0%|          | 0/100 [00:00<?, ?it/s]",
      "application/vnd.jupyter.widget-view+json": {
       "version_major": 2,
       "version_minor": 0,
       "model_id": "4b8f4dc63457424390af5debf147a783"
      }
     },
     "metadata": {},
     "output_type": "display_data"
    },
    {
     "data": {
      "text/plain": "Calculating subsamples for fractional size: 0.55:   0%|          | 0/100 [00:00<?, ?it/s]",
      "application/vnd.jupyter.widget-view+json": {
       "version_major": 2,
       "version_minor": 0,
       "model_id": "0d42f710ba56448780c44298e353c4dc"
      }
     },
     "metadata": {},
     "output_type": "display_data"
    },
    {
     "data": {
      "text/plain": "Calculating subsamples for fractional size: 0.54:   0%|          | 0/100 [00:00<?, ?it/s]",
      "application/vnd.jupyter.widget-view+json": {
       "version_major": 2,
       "version_minor": 0,
       "model_id": "f1ed15a94ca041e3a0c25898ac434221"
      }
     },
     "metadata": {},
     "output_type": "display_data"
    },
    {
     "data": {
      "text/plain": "Calculating subsamples for fractional size: 0.53:   0%|          | 0/100 [00:00<?, ?it/s]",
      "application/vnd.jupyter.widget-view+json": {
       "version_major": 2,
       "version_minor": 0,
       "model_id": "3e775613efd04f02876c61d80fdf190a"
      }
     },
     "metadata": {},
     "output_type": "display_data"
    },
    {
     "data": {
      "text/plain": "Calculating subsamples for fractional size: 0.52:   0%|          | 0/100 [00:00<?, ?it/s]",
      "application/vnd.jupyter.widget-view+json": {
       "version_major": 2,
       "version_minor": 0,
       "model_id": "7aa68e7e91ec48eaa95b17f57c21c35b"
      }
     },
     "metadata": {},
     "output_type": "display_data"
    },
    {
     "data": {
      "text/plain": "Calculating subsamples for fractional size: 0.51:   0%|          | 0/100 [00:00<?, ?it/s]",
      "application/vnd.jupyter.widget-view+json": {
       "version_major": 2,
       "version_minor": 0,
       "model_id": "9c6057e48c0c412cb78cf0b3c1c94125"
      }
     },
     "metadata": {},
     "output_type": "display_data"
    },
    {
     "data": {
      "text/plain": "Calculating subsamples for fractional size: 0.5:   0%|          | 0/100 [00:00<?, ?it/s]",
      "application/vnd.jupyter.widget-view+json": {
       "version_major": 2,
       "version_minor": 0,
       "model_id": "ebf6e1f1906f410eb4a08a9df97757be"
      }
     },
     "metadata": {},
     "output_type": "display_data"
    },
    {
     "data": {
      "text/plain": "Calculating subsamples for fractional size: 0.49:   0%|          | 0/100 [00:00<?, ?it/s]",
      "application/vnd.jupyter.widget-view+json": {
       "version_major": 2,
       "version_minor": 0,
       "model_id": "c0e0d4862fc440e49eda221d9313926c"
      }
     },
     "metadata": {},
     "output_type": "display_data"
    },
    {
     "data": {
      "text/plain": "Calculating subsamples for fractional size: 0.48:   0%|          | 0/100 [00:00<?, ?it/s]",
      "application/vnd.jupyter.widget-view+json": {
       "version_major": 2,
       "version_minor": 0,
       "model_id": "a409ddaa9c5e4107985ee1baa7e49e4e"
      }
     },
     "metadata": {},
     "output_type": "display_data"
    },
    {
     "data": {
      "text/plain": "Calculating subsamples for fractional size: 0.47:   0%|          | 0/100 [00:00<?, ?it/s]",
      "application/vnd.jupyter.widget-view+json": {
       "version_major": 2,
       "version_minor": 0,
       "model_id": "81b6a58b08a54cd6b71623a3af8d33e0"
      }
     },
     "metadata": {},
     "output_type": "display_data"
    },
    {
     "data": {
      "text/plain": "Calculating subsamples for fractional size: 0.46:   0%|          | 0/100 [00:00<?, ?it/s]",
      "application/vnd.jupyter.widget-view+json": {
       "version_major": 2,
       "version_minor": 0,
       "model_id": "e6d426fa940c4590a501ef108cf91a79"
      }
     },
     "metadata": {},
     "output_type": "display_data"
    },
    {
     "data": {
      "text/plain": "Calculating subsamples for fractional size: 0.45:   0%|          | 0/100 [00:00<?, ?it/s]",
      "application/vnd.jupyter.widget-view+json": {
       "version_major": 2,
       "version_minor": 0,
       "model_id": "fd64090aae4841c48d7d4ac141f48e7d"
      }
     },
     "metadata": {},
     "output_type": "display_data"
    },
    {
     "data": {
      "text/plain": "Calculating subsamples for fractional size: 0.44:   0%|          | 0/100 [00:00<?, ?it/s]",
      "application/vnd.jupyter.widget-view+json": {
       "version_major": 2,
       "version_minor": 0,
       "model_id": "6d9458836fba46518c153d003d4199e5"
      }
     },
     "metadata": {},
     "output_type": "display_data"
    },
    {
     "data": {
      "text/plain": "Calculating subsamples for fractional size: 0.43:   0%|          | 0/100 [00:00<?, ?it/s]",
      "application/vnd.jupyter.widget-view+json": {
       "version_major": 2,
       "version_minor": 0,
       "model_id": "f0eb39cbc82a4463aa9813f1e13cd6e0"
      }
     },
     "metadata": {},
     "output_type": "display_data"
    },
    {
     "data": {
      "text/plain": "Calculating subsamples for fractional size: 0.42:   0%|          | 0/100 [00:00<?, ?it/s]",
      "application/vnd.jupyter.widget-view+json": {
       "version_major": 2,
       "version_minor": 0,
       "model_id": "ce3b2480b4b44c01b21e83ef6e990995"
      }
     },
     "metadata": {},
     "output_type": "display_data"
    },
    {
     "data": {
      "text/plain": "Calculating subsamples for fractional size: 0.41:   0%|          | 0/100 [00:00<?, ?it/s]",
      "application/vnd.jupyter.widget-view+json": {
       "version_major": 2,
       "version_minor": 0,
       "model_id": "6bcf95870d3643178d04f5a63daa166d"
      }
     },
     "metadata": {},
     "output_type": "display_data"
    },
    {
     "data": {
      "text/plain": "Calculating subsamples for fractional size: 0.4:   0%|          | 0/100 [00:00<?, ?it/s]",
      "application/vnd.jupyter.widget-view+json": {
       "version_major": 2,
       "version_minor": 0,
       "model_id": "7ca2dbe36f8f4ca0b65d89c3913ee778"
      }
     },
     "metadata": {},
     "output_type": "display_data"
    },
    {
     "data": {
      "text/plain": "Calculating subsamples for fractional size: 0.39:   0%|          | 0/100 [00:00<?, ?it/s]",
      "application/vnd.jupyter.widget-view+json": {
       "version_major": 2,
       "version_minor": 0,
       "model_id": "f4bd066f9cc3410c930fa11c31e7f019"
      }
     },
     "metadata": {},
     "output_type": "display_data"
    },
    {
     "data": {
      "text/plain": "Calculating subsamples for fractional size: 0.38:   0%|          | 0/100 [00:00<?, ?it/s]",
      "application/vnd.jupyter.widget-view+json": {
       "version_major": 2,
       "version_minor": 0,
       "model_id": "6f82ac47c2ac4ce7ba0e07502b50523b"
      }
     },
     "metadata": {},
     "output_type": "display_data"
    },
    {
     "data": {
      "text/plain": "Calculating subsamples for fractional size: 0.37:   0%|          | 0/100 [00:00<?, ?it/s]",
      "application/vnd.jupyter.widget-view+json": {
       "version_major": 2,
       "version_minor": 0,
       "model_id": "de54f7daefb84048a39a309e3445ab93"
      }
     },
     "metadata": {},
     "output_type": "display_data"
    },
    {
     "data": {
      "text/plain": "Calculating subsamples for fractional size: 0.36:   0%|          | 0/100 [00:00<?, ?it/s]",
      "application/vnd.jupyter.widget-view+json": {
       "version_major": 2,
       "version_minor": 0,
       "model_id": "33ae2af4c15e44cc9ab9b697ab332b61"
      }
     },
     "metadata": {},
     "output_type": "display_data"
    },
    {
     "data": {
      "text/plain": "Calculating subsamples for fractional size: 0.35:   0%|          | 0/100 [00:00<?, ?it/s]",
      "application/vnd.jupyter.widget-view+json": {
       "version_major": 2,
       "version_minor": 0,
       "model_id": "09eb2ec8e6e24120996b82ce5990bac6"
      }
     },
     "metadata": {},
     "output_type": "display_data"
    },
    {
     "data": {
      "text/plain": "Calculating subsamples for fractional size: 0.34:   0%|          | 0/100 [00:00<?, ?it/s]",
      "application/vnd.jupyter.widget-view+json": {
       "version_major": 2,
       "version_minor": 0,
       "model_id": "22ed31e18a754fe4ba216f2a688cf715"
      }
     },
     "metadata": {},
     "output_type": "display_data"
    },
    {
     "data": {
      "text/plain": "Calculating subsamples for fractional size: 0.33:   0%|          | 0/100 [00:00<?, ?it/s]",
      "application/vnd.jupyter.widget-view+json": {
       "version_major": 2,
       "version_minor": 0,
       "model_id": "f55776fd5a634e6a9d221d8d139cb24f"
      }
     },
     "metadata": {},
     "output_type": "display_data"
    },
    {
     "data": {
      "text/plain": "Calculating subsamples for fractional size: 0.32:   0%|          | 0/100 [00:00<?, ?it/s]",
      "application/vnd.jupyter.widget-view+json": {
       "version_major": 2,
       "version_minor": 0,
       "model_id": "126bdab3fc9d4c9ebbcb332fc5841126"
      }
     },
     "metadata": {},
     "output_type": "display_data"
    },
    {
     "data": {
      "text/plain": "Calculating subsamples for fractional size: 0.31:   0%|          | 0/100 [00:00<?, ?it/s]",
      "application/vnd.jupyter.widget-view+json": {
       "version_major": 2,
       "version_minor": 0,
       "model_id": "88ad88175bf94fe0aaf8bd0a0ae534e1"
      }
     },
     "metadata": {},
     "output_type": "display_data"
    },
    {
     "data": {
      "text/plain": "Calculating subsamples for fractional size: 0.3:   0%|          | 0/100 [00:00<?, ?it/s]",
      "application/vnd.jupyter.widget-view+json": {
       "version_major": 2,
       "version_minor": 0,
       "model_id": "0742f51b17dd4b898c9f4c5ff194a7e5"
      }
     },
     "metadata": {},
     "output_type": "display_data"
    },
    {
     "data": {
      "text/plain": "Calculating subsamples for fractional size: 0.29:   0%|          | 0/100 [00:00<?, ?it/s]",
      "application/vnd.jupyter.widget-view+json": {
       "version_major": 2,
       "version_minor": 0,
       "model_id": "e5c96befdff6408d8968b0b3a802fbbc"
      }
     },
     "metadata": {},
     "output_type": "display_data"
    },
    {
     "data": {
      "text/plain": "Calculating subsamples for fractional size: 0.28:   0%|          | 0/100 [00:00<?, ?it/s]",
      "application/vnd.jupyter.widget-view+json": {
       "version_major": 2,
       "version_minor": 0,
       "model_id": "6ab9dade45bd4eb2bf9c95986a05ffd5"
      }
     },
     "metadata": {},
     "output_type": "display_data"
    },
    {
     "data": {
      "text/plain": "Calculating subsamples for fractional size: 0.27:   0%|          | 0/100 [00:00<?, ?it/s]",
      "application/vnd.jupyter.widget-view+json": {
       "version_major": 2,
       "version_minor": 0,
       "model_id": "8d7570d8b0ac4888b4efeb63bec54791"
      }
     },
     "metadata": {},
     "output_type": "display_data"
    },
    {
     "data": {
      "text/plain": "Calculating subsamples for fractional size: 0.26:   0%|          | 0/100 [00:00<?, ?it/s]",
      "application/vnd.jupyter.widget-view+json": {
       "version_major": 2,
       "version_minor": 0,
       "model_id": "8566e1529f1c4a699fdc6d185e9ea597"
      }
     },
     "metadata": {},
     "output_type": "display_data"
    },
    {
     "data": {
      "text/plain": "Calculating subsamples for fractional size: 0.25:   0%|          | 0/100 [00:00<?, ?it/s]",
      "application/vnd.jupyter.widget-view+json": {
       "version_major": 2,
       "version_minor": 0,
       "model_id": "ff88098b55aa4e3096f4f2186dac0319"
      }
     },
     "metadata": {},
     "output_type": "display_data"
    },
    {
     "data": {
      "text/plain": "Calculating subsamples for fractional size: 0.24:   0%|          | 0/100 [00:00<?, ?it/s]",
      "application/vnd.jupyter.widget-view+json": {
       "version_major": 2,
       "version_minor": 0,
       "model_id": "6049b682308141c09b04f09df50a51f3"
      }
     },
     "metadata": {},
     "output_type": "display_data"
    },
    {
     "data": {
      "text/plain": "Calculating subsamples for fractional size: 0.23:   0%|          | 0/100 [00:00<?, ?it/s]",
      "application/vnd.jupyter.widget-view+json": {
       "version_major": 2,
       "version_minor": 0,
       "model_id": "3ca6ae7b99ae4fe1a87b2b4565a909d2"
      }
     },
     "metadata": {},
     "output_type": "display_data"
    },
    {
     "data": {
      "text/plain": "Calculating subsamples for fractional size: 0.22:   0%|          | 0/100 [00:00<?, ?it/s]",
      "application/vnd.jupyter.widget-view+json": {
       "version_major": 2,
       "version_minor": 0,
       "model_id": "cb918b0356af418abf9b107b61e2216c"
      }
     },
     "metadata": {},
     "output_type": "display_data"
    },
    {
     "data": {
      "text/plain": "Calculating subsamples for fractional size: 0.21:   0%|          | 0/100 [00:00<?, ?it/s]",
      "application/vnd.jupyter.widget-view+json": {
       "version_major": 2,
       "version_minor": 0,
       "model_id": "39608afb68c24b279d8f4661d97b20c9"
      }
     },
     "metadata": {},
     "output_type": "display_data"
    },
    {
     "data": {
      "text/plain": "Calculating subsamples for fractional size: 0.2:   0%|          | 0/100 [00:00<?, ?it/s]",
      "application/vnd.jupyter.widget-view+json": {
       "version_major": 2,
       "version_minor": 0,
       "model_id": "6779bba81b6f44e685f3bf36158540ff"
      }
     },
     "metadata": {},
     "output_type": "display_data"
    },
    {
     "data": {
      "text/plain": "Calculating subsamples for fractional size: 0.19:   0%|          | 0/100 [00:00<?, ?it/s]",
      "application/vnd.jupyter.widget-view+json": {
       "version_major": 2,
       "version_minor": 0,
       "model_id": "95a02cd15f95418aae173461b1316510"
      }
     },
     "metadata": {},
     "output_type": "display_data"
    },
    {
     "data": {
      "text/plain": "Calculating subsamples for fractional size: 0.18:   0%|          | 0/100 [00:00<?, ?it/s]",
      "application/vnd.jupyter.widget-view+json": {
       "version_major": 2,
       "version_minor": 0,
       "model_id": "d932f012e2674b57a288bd283b6c725c"
      }
     },
     "metadata": {},
     "output_type": "display_data"
    },
    {
     "data": {
      "text/plain": "Calculating subsamples for fractional size: 0.17:   0%|          | 0/100 [00:00<?, ?it/s]",
      "application/vnd.jupyter.widget-view+json": {
       "version_major": 2,
       "version_minor": 0,
       "model_id": "4b15851a4d1b40cc99ffa2359b8510c1"
      }
     },
     "metadata": {},
     "output_type": "display_data"
    },
    {
     "data": {
      "text/plain": "Calculating subsamples for fractional size: 0.16:   0%|          | 0/100 [00:00<?, ?it/s]",
      "application/vnd.jupyter.widget-view+json": {
       "version_major": 2,
       "version_minor": 0,
       "model_id": "9018cfde6528499687bbaff576a1a426"
      }
     },
     "metadata": {},
     "output_type": "display_data"
    },
    {
     "data": {
      "text/plain": "Calculating subsamples for fractional size: 0.15:   0%|          | 0/100 [00:00<?, ?it/s]",
      "application/vnd.jupyter.widget-view+json": {
       "version_major": 2,
       "version_minor": 0,
       "model_id": "bc1d70e1cabf4defb5b8b2a6fa6515a6"
      }
     },
     "metadata": {},
     "output_type": "display_data"
    },
    {
     "data": {
      "text/plain": "Calculating subsamples for fractional size: 0.14:   0%|          | 0/100 [00:00<?, ?it/s]",
      "application/vnd.jupyter.widget-view+json": {
       "version_major": 2,
       "version_minor": 0,
       "model_id": "b375ddf74c7c43ebbc0a1210bf5f7b50"
      }
     },
     "metadata": {},
     "output_type": "display_data"
    },
    {
     "data": {
      "text/plain": "Calculating subsamples for fractional size: 0.13:   0%|          | 0/100 [00:00<?, ?it/s]",
      "application/vnd.jupyter.widget-view+json": {
       "version_major": 2,
       "version_minor": 0,
       "model_id": "bacc3e3206b2451393a5e956ae0c74aa"
      }
     },
     "metadata": {},
     "output_type": "display_data"
    },
    {
     "data": {
      "text/plain": "Calculating subsamples for fractional size: 0.12:   0%|          | 0/100 [00:00<?, ?it/s]",
      "application/vnd.jupyter.widget-view+json": {
       "version_major": 2,
       "version_minor": 0,
       "model_id": "83738df1e88e42b389a57d2b53e78a60"
      }
     },
     "metadata": {},
     "output_type": "display_data"
    },
    {
     "data": {
      "text/plain": "Calculating subsamples for fractional size: 0.11:   0%|          | 0/100 [00:00<?, ?it/s]",
      "application/vnd.jupyter.widget-view+json": {
       "version_major": 2,
       "version_minor": 0,
       "model_id": "1126b87bae874772a747677d514bf260"
      }
     },
     "metadata": {},
     "output_type": "display_data"
    },
    {
     "data": {
      "text/plain": "Calculating subsamples for fractional size: 0.1:   0%|          | 0/100 [00:00<?, ?it/s]",
      "application/vnd.jupyter.widget-view+json": {
       "version_major": 2,
       "version_minor": 0,
       "model_id": "e327976ab11d4a899e33903bd5bb8491"
      }
     },
     "metadata": {},
     "output_type": "display_data"
    },
    {
     "data": {
      "text/plain": "Calculating subsamples for fractional size: 0.09:   0%|          | 0/100 [00:00<?, ?it/s]",
      "application/vnd.jupyter.widget-view+json": {
       "version_major": 2,
       "version_minor": 0,
       "model_id": "6f270779ae4648fab9ac3e5f6732ea92"
      }
     },
     "metadata": {},
     "output_type": "display_data"
    },
    {
     "data": {
      "text/plain": "Calculating subsamples for fractional size: 0.08:   0%|          | 0/100 [00:00<?, ?it/s]",
      "application/vnd.jupyter.widget-view+json": {
       "version_major": 2,
       "version_minor": 0,
       "model_id": "717e4c625bdd4810bd7cb6cc3bc47b6a"
      }
     },
     "metadata": {},
     "output_type": "display_data"
    },
    {
     "data": {
      "text/plain": "Calculating subsamples for fractional size: 0.07:   0%|          | 0/100 [00:00<?, ?it/s]",
      "application/vnd.jupyter.widget-view+json": {
       "version_major": 2,
       "version_minor": 0,
       "model_id": "5b85b693a1e042daafa179b877d3ef4f"
      }
     },
     "metadata": {},
     "output_type": "display_data"
    },
    {
     "data": {
      "text/plain": "Calculating subsamples for fractional size: 0.06:   0%|          | 0/100 [00:00<?, ?it/s]",
      "application/vnd.jupyter.widget-view+json": {
       "version_major": 2,
       "version_minor": 0,
       "model_id": "27fecf1db4c34b31891346c884b4d837"
      }
     },
     "metadata": {},
     "output_type": "display_data"
    },
    {
     "data": {
      "text/plain": "Calculating subsamples for fractional size: 0.05:   0%|          | 0/100 [00:00<?, ?it/s]",
      "application/vnd.jupyter.widget-view+json": {
       "version_major": 2,
       "version_minor": 0,
       "model_id": "69d7cbe5e8444457870ceefbf6396398"
      }
     },
     "metadata": {},
     "output_type": "display_data"
    },
    {
     "data": {
      "text/plain": "Calculating subsamples for fractional size: 0.04:   0%|          | 0/100 [00:00<?, ?it/s]",
      "application/vnd.jupyter.widget-view+json": {
       "version_major": 2,
       "version_minor": 0,
       "model_id": "87b228fc505c433d9e64c7c2b4b32d5b"
      }
     },
     "metadata": {},
     "output_type": "display_data"
    },
    {
     "data": {
      "text/plain": "Calculating subsamples for fractional size: 0.03:   0%|          | 0/100 [00:00<?, ?it/s]",
      "application/vnd.jupyter.widget-view+json": {
       "version_major": 2,
       "version_minor": 0,
       "model_id": "2f2797219291495385c417fff1f82cd4"
      }
     },
     "metadata": {},
     "output_type": "display_data"
    },
    {
     "data": {
      "text/plain": "Calculating subsamples for fractional size: 0.02:   0%|          | 0/100 [00:00<?, ?it/s]",
      "application/vnd.jupyter.widget-view+json": {
       "version_major": 2,
       "version_minor": 0,
       "model_id": "8c1ae37710b04d5992bab85dde1f3827"
      }
     },
     "metadata": {},
     "output_type": "display_data"
    },
    {
     "data": {
      "text/plain": "Calculating subsamples for fractional size: 0.01:   0%|          | 0/100 [00:00<?, ?it/s]",
      "application/vnd.jupyter.widget-view+json": {
       "version_major": 2,
       "version_minor": 0,
       "model_id": "d7f1baf2eff94777bfe42003728fbfbc"
      }
     },
     "metadata": {},
     "output_type": "display_data"
    },
    {
     "name": "stdout",
     "output_type": "stream",
     "text": [
      "{'polyA2': (array([[  13380,   26760,   40140, ..., 1311244, 1324624, 1338004],\n",
      "       [  13380,   26760,   40140, ..., 1311244, 1324624, 1338004],\n",
      "       [  13380,   26760,   40140, ..., 1311244, 1324624, 1338004],\n",
      "       ...,\n",
      "       [  13380,   26760,   40140, ..., 1311244, 1324624, 1338004],\n",
      "       [  13380,   26760,   40140, ..., 1311244, 1324624, 1338004],\n",
      "       [  13380,   26760,   40140, ..., 1311244, 1324624, 1338004]],\n",
      "      dtype=uint32),\n",
      "            array([[ 2755,  4174,  4979, ..., 13653, 13669, 13678],\n",
      "       [ 2646,  4032,  5048, ..., 13647, 13661, 13678],\n",
      "       [ 2662,  4128,  5063, ..., 13649, 13666, 13678],\n",
      "       ...,\n",
      "       [ 2706,  4068,  5021, ..., 13644, 13666, 13678],\n",
      "       [ 2674,  4112,  5045, ..., 13631, 13664, 13678],\n",
      "       [ 2811,  4104,  5081, ..., 13643, 13665, 13678]], dtype=uint32)),\n",
      " 'polyA3': (array([[  17482,   34964,   52447, ..., 1713260, 1730742, 1748224],\n",
      "       [  17482,   34964,   52447, ..., 1713260, 1730742, 1748224],\n",
      "       [  17482,   34964,   52447, ..., 1713260, 1730742, 1748224],\n",
      "       ...,\n",
      "       [  17482,   34964,   52447, ..., 1713260, 1730742, 1748224],\n",
      "       [  17482,   34964,   52447, ..., 1713260, 1730742, 1748224],\n",
      "       [  17482,   34964,   52447, ..., 1713260, 1730742, 1748224]],\n",
      "      dtype=uint32),\n",
      "            array([[ 3162,  4721,  5725, ..., 13787, 13796, 13812],\n",
      "       [ 3129,  4666,  5781, ..., 13788, 13797, 13812],\n",
      "       [ 3118,  4570,  5735, ..., 13794, 13794, 13812],\n",
      "       ...,\n",
      "       [ 3184,  4692,  5660, ..., 13774, 13801, 13812],\n",
      "       [ 3130,  4594,  5651, ..., 13773, 13793, 13812],\n",
      "       [ 3148,  4694,  5657, ..., 13786, 13793, 13812]], dtype=uint32)),\n",
      " 'totalRNA2': (array([[  6991,  13982,  20973, ..., 685109, 692100, 699091],\n",
      "       [  6991,  13982,  20973, ..., 685109, 692100, 699091],\n",
      "       [  6991,  13982,  20973, ..., 685109, 692100, 699091],\n",
      "       ...,\n",
      "       [  6991,  13982,  20973, ..., 685109, 692100, 699091],\n",
      "       [  6991,  13982,  20973, ..., 685109, 692100, 699091],\n",
      "       [  6991,  13982,  20973, ..., 685109, 692100, 699091]],\n",
      "      dtype=uint32),\n",
      "               array([[ 1783,  2802,  3568, ..., 12532, 12558, 12577],\n",
      "       [ 1811,  2820,  3579, ..., 12541, 12556, 12577],\n",
      "       [ 1769,  2777,  3581, ..., 12542, 12566, 12577],\n",
      "       ...,\n",
      "       [ 1725,  2833,  3602, ..., 12532, 12554, 12577],\n",
      "       [ 1801,  2804,  3548, ..., 12534, 12554, 12577],\n",
      "       [ 1759,  2804,  3573, ..., 12539, 12559, 12577]], dtype=uint32)),\n",
      " 'totalRNA3': (array([[  12307,   24613,   36920, ..., 1206057, 1218363, 1230670],\n",
      "       [  12307,   24613,   36920, ..., 1206057, 1218363, 1230670],\n",
      "       [  12307,   24613,   36920, ..., 1206057, 1218363, 1230670],\n",
      "       ...,\n",
      "       [  12307,   24613,   36920, ..., 1206057, 1218363, 1230670],\n",
      "       [  12307,   24613,   36920, ..., 1206057, 1218363, 1230670],\n",
      "       [  12307,   24613,   36920, ..., 1206057, 1218363, 1230670]],\n",
      "      dtype=uint32),\n",
      "               array([[ 2724,  4074,  4979, ..., 13270, 13284, 13296],\n",
      "       [ 2717,  4004,  4994, ..., 13263, 13280, 13296],\n",
      "       [ 2684,  4010,  4962, ..., 13255, 13279, 13296],\n",
      "       ...,\n",
      "       [ 2660,  3993,  4995, ..., 13265, 13276, 13296],\n",
      "       [ 2625,  4079,  5014, ..., 13257, 13273, 13296],\n",
      "       [ 2702,  3991,  4994, ..., 13267, 13276, 13296]], dtype=uint32))}\n"
     ]
    }
   ],
   "source": [
    "number_of_subsamples_per_step = 100\n",
    "number_of_steps = 100\n",
    "\n",
    "output_array_dict = {}\n",
    "\n",
    "for lib, df in lib_dict.items():\n",
    "    simple_df = df[[\"read_id\", \"protein_coding\", \"gene_id\"]]\n",
    "\n",
    "    total_reads_array = np.zeros([number_of_subsamples_per_step, number_of_steps], np.uint32)\n",
    "    protein_coding_array = np.zeros([number_of_subsamples_per_step, number_of_steps], np.uint32)\n",
    "    \n",
    "    library_iterator = tqdm(range(100, 0, -(100 // number_of_steps)), desc=f\"Subsampling for {lib}\")\n",
    "    for numerator in library_iterator:\n",
    "        y_index = numerator // (100 // number_of_steps) - 1\n",
    "        subsample_iterator = tqdm(range(0, number_of_subsamples_per_step), desc=f\"Calculating subsamples for fractional size: {numerator/100:}\", leave=False)\n",
    "        for x_index in subsample_iterator:\n",
    "            df = simple_df.sample(frac=(numerator/100))\n",
    "            total_reads = df.shape[0]\n",
    "            # protein_coding = df.protein_coding.sum()\n",
    "            protein_coding = df.gene_id.nunique()\n",
    "            total_reads_array[x_index, y_index] = total_reads\n",
    "            protein_coding_array[x_index, y_index] = protein_coding\n",
    "    output_array_dict[lib] = (total_reads_array, protein_coding_array)\n",
    "pprint(output_array_dict)"
   ],
   "metadata": {
    "collapsed": false,
    "pycharm": {
     "name": "#%%\n"
    }
   }
  },
  {
   "cell_type": "code",
   "execution_count": 34,
   "outputs": [],
   "source": [
    "variability_function_dict = {\"SEM\": stats.sem,\n",
    "                             \"STD\": np.std}\n",
    "variability_function_to_use = \"SEM\"\n",
    "\n",
    "plotting_dict = {}\n",
    "for lib, (total_reads, protein_coding_reads) in output_array_dict.items():\n",
    "    protein_coding_variability = variability_function_dict[variability_function_to_use](protein_coding_reads, axis=0)\n",
    "    protein_coding_mean = np.mean(protein_coding_reads, axis=0)\n",
    "    total_reads_counts = np.mean(total_reads, axis=0)  # This just collapses the total reads, since they're consistent\n",
    "    plotting_dict[lib] = (total_reads_counts, protein_coding_mean, protein_coding_variability)"
   ],
   "metadata": {
    "collapsed": false,
    "pycharm": {
     "name": "#%%\n"
    }
   }
  },
  {
   "cell_type": "code",
   "execution_count": 76,
   "outputs": [
    {
     "name": "stdout",
     "output_type": "stream",
     "text": [
      "Selected-2 1338004.0 13678.0\n",
      "Selected-1 1748224.0 13812.0\n",
      "Unselected-2 699091.0 12577.0\n",
      "Unselected-1 1230670.0 13296.0\n"
     ]
    },
    {
     "data": {
      "application/vnd.plotly.v1+json": {
       "config": {
        "plotlyServerURL": "https://plot.ly"
       },
       "data": [
        {
         "line": {
          "color": "#3366CC"
         },
         "marker": {
          "size": 2,
          "symbol": "circle"
         },
         "mode": "lines+markers",
         "name": "Selected-2",
         "type": "scatter",
         "x": [
          66900.0,
          133800.0,
          200701.0,
          267601.0,
          334501.0,
          401401.0,
          468301.0,
          535202.0,
          602102.0,
          669002.0,
          735902.0,
          802802.0,
          869703.0,
          936603.0,
          1003503.0,
          1070403.0,
          1137303.0,
          1204204.0,
          1271104.0,
          1338004.0
         ],
         "y": [
          6403.44,
          8376.32,
          9530.92,
          10301.96,
          10864.72,
          11297.76,
          11657.28,
          11949.48,
          12197.4,
          12427.68,
          12609.76,
          12781.64,
          12924.4,
          13060.12,
          13181.6,
          13292.96,
          13400.76,
          13499.04,
          13593.8,
          13678.0
         ]
        },
        {
         "marker": {
          "color": "#3366CC",
          "size": 7,
          "symbol": "square"
         },
         "mode": "markers",
         "name": "Selected-2",
         "showlegend": false,
         "type": "scatter",
         "x": [
          1338004.0
         ],
         "y": [
          13678.0
         ]
        },
        {
         "line": {
          "color": "#DC3912"
         },
         "marker": {
          "size": 2,
          "symbol": "circle"
         },
         "mode": "lines+markers",
         "name": "Selected-1",
         "type": "scatter",
         "x": [
          87411.0,
          174822.0,
          262234.0,
          349645.0,
          437056.0,
          524467.0,
          611878.0,
          699290.0,
          786701.0,
          874112.0,
          961523.0,
          1048934.0,
          1136346.0,
          1223757.0,
          1311168.0,
          1398579.0,
          1485990.0,
          1573402.0,
          1660813.0,
          1748224.0
         ],
         "y": [
          7106.84,
          9041.08,
          10109.8,
          10813.2,
          11304.8,
          11690.2,
          12015.48,
          12270.24,
          12487.04,
          12687.52,
          12848.56,
          12995.16,
          13133.44,
          13254.36,
          13370.24,
          13472.52,
          13569.04,
          13654.04,
          13734.24,
          13812.0
         ]
        },
        {
         "marker": {
          "color": "#DC3912",
          "size": 7,
          "symbol": "square"
         },
         "mode": "markers",
         "name": "Selected-1",
         "showlegend": false,
         "type": "scatter",
         "x": [
          1748224.0
         ],
         "y": [
          13812.0
         ]
        },
        {
         "line": {
          "color": "#FF9900"
         },
         "marker": {
          "size": 2,
          "symbol": "circle"
         },
         "mode": "lines+markers",
         "name": "Unselected-2",
         "type": "scatter",
         "x": [
          34955.0,
          69909.0,
          104864.0,
          139818.0,
          174773.0,
          209727.0,
          244682.0,
          279636.0,
          314591.0,
          349546.0,
          384500.0,
          419455.0,
          454409.0,
          489364.0,
          524318.0,
          559273.0,
          594227.0,
          629182.0,
          664136.0,
          699091.0
         ],
         "y": [
          4726.44,
          6581.52,
          7744.6,
          8592.92,
          9211.64,
          9727.04,
          10155.84,
          10488.2,
          10784.56,
          11052.12,
          11291.12,
          11484.64,
          11675.28,
          11832.48,
          11988.52,
          12118.4,
          12245.48,
          12363.88,
          12473.64,
          12577.0
         ]
        },
        {
         "marker": {
          "color": "#FF9900",
          "size": 7,
          "symbol": "square"
         },
         "mode": "markers",
         "name": "Unselected-2",
         "showlegend": false,
         "type": "scatter",
         "x": [
          699091.0
         ],
         "y": [
          12577.0
         ]
        },
        {
         "line": {
          "color": "#109618"
         },
         "marker": {
          "size": 2,
          "symbol": "circle"
         },
         "mode": "lines+markers",
         "name": "Unselected-1",
         "type": "scatter",
         "x": [
          61534.0,
          123067.0,
          184600.0,
          246134.0,
          307668.0,
          369201.0,
          430734.0,
          492268.0,
          553802.0,
          615335.0,
          676868.0,
          738402.0,
          799936.0,
          861469.0,
          923002.0,
          984536.0,
          1046070.0,
          1107603.0,
          1169136.0,
          1230670.0
         ],
         "y": [
          6375.96,
          8307.56,
          9372.56,
          10099.16,
          10618.56,
          11028.16,
          11348.04,
          11628.84,
          11870.08,
          12070.84,
          12252.0,
          12407.04,
          12554.44,
          12673.08,
          12810.0,
          12918.12,
          13021.08,
          13118.88,
          13210.44,
          13296.0
         ]
        },
        {
         "marker": {
          "color": "#109618",
          "size": 7,
          "symbol": "square"
         },
         "mode": "markers",
         "name": "Unselected-1",
         "showlegend": false,
         "type": "scatter",
         "x": [
          1230670.0
         ],
         "y": [
          13296.0
         ]
        }
       ],
       "layout": {
        "height": 375,
        "hovermode": "x",
        "legend": {
         "orientation": "v",
         "x": 1,
         "xanchor": "right",
         "y": 0.02,
         "yanchor": "bottom"
        },
        "template": {
         "data": {
          "bar": [
           {
            "error_x": {
             "color": "#2a3f5f"
            },
            "error_y": {
             "color": "#2a3f5f"
            },
            "marker": {
             "line": {
              "color": "white",
              "width": 0.5
             },
             "pattern": {
              "fillmode": "overlay",
              "size": 10,
              "solidity": 0.2
             }
            },
            "type": "bar"
           }
          ],
          "barpolar": [
           {
            "marker": {
             "line": {
              "color": "white",
              "width": 0.5
             },
             "pattern": {
              "fillmode": "overlay",
              "size": 10,
              "solidity": 0.2
             }
            },
            "type": "barpolar"
           }
          ],
          "carpet": [
           {
            "aaxis": {
             "endlinecolor": "#2a3f5f",
             "gridcolor": "#C8D4E3",
             "linecolor": "#C8D4E3",
             "minorgridcolor": "#C8D4E3",
             "startlinecolor": "#2a3f5f"
            },
            "baxis": {
             "endlinecolor": "#2a3f5f",
             "gridcolor": "#C8D4E3",
             "linecolor": "#C8D4E3",
             "minorgridcolor": "#C8D4E3",
             "startlinecolor": "#2a3f5f"
            },
            "type": "carpet"
           }
          ],
          "choropleth": [
           {
            "colorbar": {
             "outlinewidth": 0,
             "ticks": ""
            },
            "type": "choropleth"
           }
          ],
          "contour": [
           {
            "colorbar": {
             "outlinewidth": 0,
             "ticks": ""
            },
            "colorscale": [
             [
              0.0,
              "#0d0887"
             ],
             [
              0.1111111111111111,
              "#46039f"
             ],
             [
              0.2222222222222222,
              "#7201a8"
             ],
             [
              0.3333333333333333,
              "#9c179e"
             ],
             [
              0.4444444444444444,
              "#bd3786"
             ],
             [
              0.5555555555555556,
              "#d8576b"
             ],
             [
              0.6666666666666666,
              "#ed7953"
             ],
             [
              0.7777777777777778,
              "#fb9f3a"
             ],
             [
              0.8888888888888888,
              "#fdca26"
             ],
             [
              1.0,
              "#f0f921"
             ]
            ],
            "type": "contour"
           }
          ],
          "contourcarpet": [
           {
            "colorbar": {
             "outlinewidth": 0,
             "ticks": ""
            },
            "type": "contourcarpet"
           }
          ],
          "heatmap": [
           {
            "colorbar": {
             "outlinewidth": 0,
             "ticks": ""
            },
            "colorscale": [
             [
              0.0,
              "#0d0887"
             ],
             [
              0.1111111111111111,
              "#46039f"
             ],
             [
              0.2222222222222222,
              "#7201a8"
             ],
             [
              0.3333333333333333,
              "#9c179e"
             ],
             [
              0.4444444444444444,
              "#bd3786"
             ],
             [
              0.5555555555555556,
              "#d8576b"
             ],
             [
              0.6666666666666666,
              "#ed7953"
             ],
             [
              0.7777777777777778,
              "#fb9f3a"
             ],
             [
              0.8888888888888888,
              "#fdca26"
             ],
             [
              1.0,
              "#f0f921"
             ]
            ],
            "type": "heatmap"
           }
          ],
          "heatmapgl": [
           {
            "colorbar": {
             "outlinewidth": 0,
             "ticks": ""
            },
            "colorscale": [
             [
              0.0,
              "#0d0887"
             ],
             [
              0.1111111111111111,
              "#46039f"
             ],
             [
              0.2222222222222222,
              "#7201a8"
             ],
             [
              0.3333333333333333,
              "#9c179e"
             ],
             [
              0.4444444444444444,
              "#bd3786"
             ],
             [
              0.5555555555555556,
              "#d8576b"
             ],
             [
              0.6666666666666666,
              "#ed7953"
             ],
             [
              0.7777777777777778,
              "#fb9f3a"
             ],
             [
              0.8888888888888888,
              "#fdca26"
             ],
             [
              1.0,
              "#f0f921"
             ]
            ],
            "type": "heatmapgl"
           }
          ],
          "histogram": [
           {
            "marker": {
             "pattern": {
              "fillmode": "overlay",
              "size": 10,
              "solidity": 0.2
             }
            },
            "type": "histogram"
           }
          ],
          "histogram2d": [
           {
            "colorbar": {
             "outlinewidth": 0,
             "ticks": ""
            },
            "colorscale": [
             [
              0.0,
              "#0d0887"
             ],
             [
              0.1111111111111111,
              "#46039f"
             ],
             [
              0.2222222222222222,
              "#7201a8"
             ],
             [
              0.3333333333333333,
              "#9c179e"
             ],
             [
              0.4444444444444444,
              "#bd3786"
             ],
             [
              0.5555555555555556,
              "#d8576b"
             ],
             [
              0.6666666666666666,
              "#ed7953"
             ],
             [
              0.7777777777777778,
              "#fb9f3a"
             ],
             [
              0.8888888888888888,
              "#fdca26"
             ],
             [
              1.0,
              "#f0f921"
             ]
            ],
            "type": "histogram2d"
           }
          ],
          "histogram2dcontour": [
           {
            "colorbar": {
             "outlinewidth": 0,
             "ticks": ""
            },
            "colorscale": [
             [
              0.0,
              "#0d0887"
             ],
             [
              0.1111111111111111,
              "#46039f"
             ],
             [
              0.2222222222222222,
              "#7201a8"
             ],
             [
              0.3333333333333333,
              "#9c179e"
             ],
             [
              0.4444444444444444,
              "#bd3786"
             ],
             [
              0.5555555555555556,
              "#d8576b"
             ],
             [
              0.6666666666666666,
              "#ed7953"
             ],
             [
              0.7777777777777778,
              "#fb9f3a"
             ],
             [
              0.8888888888888888,
              "#fdca26"
             ],
             [
              1.0,
              "#f0f921"
             ]
            ],
            "type": "histogram2dcontour"
           }
          ],
          "mesh3d": [
           {
            "colorbar": {
             "outlinewidth": 0,
             "ticks": ""
            },
            "type": "mesh3d"
           }
          ],
          "parcoords": [
           {
            "line": {
             "colorbar": {
              "outlinewidth": 0,
              "ticks": ""
             }
            },
            "type": "parcoords"
           }
          ],
          "pie": [
           {
            "automargin": true,
            "type": "pie"
           }
          ],
          "scatter": [
           {
            "marker": {
             "colorbar": {
              "outlinewidth": 0,
              "ticks": ""
             }
            },
            "type": "scatter"
           }
          ],
          "scatter3d": [
           {
            "line": {
             "colorbar": {
              "outlinewidth": 0,
              "ticks": ""
             }
            },
            "marker": {
             "colorbar": {
              "outlinewidth": 0,
              "ticks": ""
             }
            },
            "type": "scatter3d"
           }
          ],
          "scattercarpet": [
           {
            "marker": {
             "colorbar": {
              "outlinewidth": 0,
              "ticks": ""
             }
            },
            "type": "scattercarpet"
           }
          ],
          "scattergeo": [
           {
            "marker": {
             "colorbar": {
              "outlinewidth": 0,
              "ticks": ""
             }
            },
            "type": "scattergeo"
           }
          ],
          "scattergl": [
           {
            "marker": {
             "colorbar": {
              "outlinewidth": 0,
              "ticks": ""
             }
            },
            "type": "scattergl"
           }
          ],
          "scattermapbox": [
           {
            "marker": {
             "colorbar": {
              "outlinewidth": 0,
              "ticks": ""
             }
            },
            "type": "scattermapbox"
           }
          ],
          "scatterpolar": [
           {
            "marker": {
             "colorbar": {
              "outlinewidth": 0,
              "ticks": ""
             }
            },
            "type": "scatterpolar"
           }
          ],
          "scatterpolargl": [
           {
            "marker": {
             "colorbar": {
              "outlinewidth": 0,
              "ticks": ""
             }
            },
            "type": "scatterpolargl"
           }
          ],
          "scatterternary": [
           {
            "marker": {
             "colorbar": {
              "outlinewidth": 0,
              "ticks": ""
             }
            },
            "type": "scatterternary"
           }
          ],
          "surface": [
           {
            "colorbar": {
             "outlinewidth": 0,
             "ticks": ""
            },
            "colorscale": [
             [
              0.0,
              "#0d0887"
             ],
             [
              0.1111111111111111,
              "#46039f"
             ],
             [
              0.2222222222222222,
              "#7201a8"
             ],
             [
              0.3333333333333333,
              "#9c179e"
             ],
             [
              0.4444444444444444,
              "#bd3786"
             ],
             [
              0.5555555555555556,
              "#d8576b"
             ],
             [
              0.6666666666666666,
              "#ed7953"
             ],
             [
              0.7777777777777778,
              "#fb9f3a"
             ],
             [
              0.8888888888888888,
              "#fdca26"
             ],
             [
              1.0,
              "#f0f921"
             ]
            ],
            "type": "surface"
           }
          ],
          "table": [
           {
            "cells": {
             "fill": {
              "color": "#EBF0F8"
             },
             "line": {
              "color": "white"
             }
            },
            "header": {
             "fill": {
              "color": "#C8D4E3"
             },
             "line": {
              "color": "white"
             }
            },
            "type": "table"
           }
          ]
         },
         "layout": {
          "annotationdefaults": {
           "arrowcolor": "#2a3f5f",
           "arrowhead": 0,
           "arrowwidth": 1
          },
          "autotypenumbers": "strict",
          "coloraxis": {
           "colorbar": {
            "outlinewidth": 0,
            "ticks": ""
           }
          },
          "colorscale": {
           "diverging": [
            [
             0,
             "#8e0152"
            ],
            [
             0.1,
             "#c51b7d"
            ],
            [
             0.2,
             "#de77ae"
            ],
            [
             0.3,
             "#f1b6da"
            ],
            [
             0.4,
             "#fde0ef"
            ],
            [
             0.5,
             "#f7f7f7"
            ],
            [
             0.6,
             "#e6f5d0"
            ],
            [
             0.7,
             "#b8e186"
            ],
            [
             0.8,
             "#7fbc41"
            ],
            [
             0.9,
             "#4d9221"
            ],
            [
             1,
             "#276419"
            ]
           ],
           "sequential": [
            [
             0.0,
             "#0d0887"
            ],
            [
             0.1111111111111111,
             "#46039f"
            ],
            [
             0.2222222222222222,
             "#7201a8"
            ],
            [
             0.3333333333333333,
             "#9c179e"
            ],
            [
             0.4444444444444444,
             "#bd3786"
            ],
            [
             0.5555555555555556,
             "#d8576b"
            ],
            [
             0.6666666666666666,
             "#ed7953"
            ],
            [
             0.7777777777777778,
             "#fb9f3a"
            ],
            [
             0.8888888888888888,
             "#fdca26"
            ],
            [
             1.0,
             "#f0f921"
            ]
           ],
           "sequentialminus": [
            [
             0.0,
             "#0d0887"
            ],
            [
             0.1111111111111111,
             "#46039f"
            ],
            [
             0.2222222222222222,
             "#7201a8"
            ],
            [
             0.3333333333333333,
             "#9c179e"
            ],
            [
             0.4444444444444444,
             "#bd3786"
            ],
            [
             0.5555555555555556,
             "#d8576b"
            ],
            [
             0.6666666666666666,
             "#ed7953"
            ],
            [
             0.7777777777777778,
             "#fb9f3a"
            ],
            [
             0.8888888888888888,
             "#fdca26"
            ],
            [
             1.0,
             "#f0f921"
            ]
           ]
          },
          "colorway": [
           "#636efa",
           "#EF553B",
           "#00cc96",
           "#ab63fa",
           "#FFA15A",
           "#19d3f3",
           "#FF6692",
           "#B6E880",
           "#FF97FF",
           "#FECB52"
          ],
          "font": {
           "color": "#2a3f5f"
          },
          "geo": {
           "bgcolor": "white",
           "lakecolor": "white",
           "landcolor": "white",
           "showlakes": true,
           "showland": true,
           "subunitcolor": "#C8D4E3"
          },
          "hoverlabel": {
           "align": "left"
          },
          "hovermode": "closest",
          "mapbox": {
           "style": "light"
          },
          "paper_bgcolor": "white",
          "plot_bgcolor": "white",
          "polar": {
           "angularaxis": {
            "gridcolor": "#EBF0F8",
            "linecolor": "#EBF0F8",
            "ticks": ""
           },
           "bgcolor": "white",
           "radialaxis": {
            "gridcolor": "#EBF0F8",
            "linecolor": "#EBF0F8",
            "ticks": ""
           }
          },
          "scene": {
           "xaxis": {
            "backgroundcolor": "white",
            "gridcolor": "#DFE8F3",
            "gridwidth": 2,
            "linecolor": "#EBF0F8",
            "showbackground": true,
            "ticks": "",
            "zerolinecolor": "#EBF0F8"
           },
           "yaxis": {
            "backgroundcolor": "white",
            "gridcolor": "#DFE8F3",
            "gridwidth": 2,
            "linecolor": "#EBF0F8",
            "showbackground": true,
            "ticks": "",
            "zerolinecolor": "#EBF0F8"
           },
           "zaxis": {
            "backgroundcolor": "white",
            "gridcolor": "#DFE8F3",
            "gridwidth": 2,
            "linecolor": "#EBF0F8",
            "showbackground": true,
            "ticks": "",
            "zerolinecolor": "#EBF0F8"
           }
          },
          "shapedefaults": {
           "line": {
            "color": "#2a3f5f"
           }
          },
          "ternary": {
           "aaxis": {
            "gridcolor": "#DFE8F3",
            "linecolor": "#A2B1C6",
            "ticks": ""
           },
           "baxis": {
            "gridcolor": "#DFE8F3",
            "linecolor": "#A2B1C6",
            "ticks": ""
           },
           "bgcolor": "white",
           "caxis": {
            "gridcolor": "#DFE8F3",
            "linecolor": "#A2B1C6",
            "ticks": ""
           }
          },
          "title": {
           "x": 0.05
          },
          "xaxis": {
           "automargin": true,
           "gridcolor": "#EBF0F8",
           "linecolor": "#EBF0F8",
           "ticks": "",
           "title": {
            "standoff": 15
           },
           "zerolinecolor": "#EBF0F8",
           "zerolinewidth": 2
          },
          "yaxis": {
           "automargin": true,
           "gridcolor": "#EBF0F8",
           "linecolor": "#EBF0F8",
           "ticks": "",
           "title": {
            "standoff": 15
           },
           "zerolinecolor": "#EBF0F8",
           "zerolinewidth": 2
          }
         }
        },
        "title": {
         "text": "<b>Read depth vs. Protein Coding</b><br>Subsamples per point: 100"
        },
        "width": 500,
        "xaxis": {
         "title": {
          "text": "Total Number of Reads"
         }
        },
        "yaxis": {
         "title": {
          "text": "Number of Unique<br>Genes Sequenced"
         }
        }
       }
      },
      "text/html": "<div>                            <div id=\"1d201c8d-3901-4198-9115-a49cbbddb565\" class=\"plotly-graph-div\" style=\"height:375px; width:500px;\"></div>            <script type=\"text/javascript\">                require([\"plotly\"], function(Plotly) {                    window.PLOTLYENV=window.PLOTLYENV || {};                                    if (document.getElementById(\"1d201c8d-3901-4198-9115-a49cbbddb565\")) {                    Plotly.newPlot(                        \"1d201c8d-3901-4198-9115-a49cbbddb565\",                        [{\"line\":{\"color\":\"#3366CC\"},\"marker\":{\"size\":2,\"symbol\":\"circle\"},\"mode\":\"lines+markers\",\"name\":\"Selected-2\",\"type\":\"scatter\",\"x\":[66900.0,133800.0,200701.0,267601.0,334501.0,401401.0,468301.0,535202.0,602102.0,669002.0,735902.0,802802.0,869703.0,936603.0,1003503.0,1070403.0,1137303.0,1204204.0,1271104.0,1338004.0],\"y\":[6403.44,8376.32,9530.92,10301.96,10864.72,11297.76,11657.28,11949.48,12197.4,12427.68,12609.76,12781.64,12924.4,13060.12,13181.6,13292.96,13400.76,13499.04,13593.8,13678.0]},{\"marker\":{\"color\":\"#3366CC\",\"size\":7,\"symbol\":\"square\"},\"mode\":\"markers\",\"name\":\"Selected-2\",\"showlegend\":false,\"type\":\"scatter\",\"x\":[1338004.0],\"y\":[13678.0]},{\"line\":{\"color\":\"#DC3912\"},\"marker\":{\"size\":2,\"symbol\":\"circle\"},\"mode\":\"lines+markers\",\"name\":\"Selected-1\",\"type\":\"scatter\",\"x\":[87411.0,174822.0,262234.0,349645.0,437056.0,524467.0,611878.0,699290.0,786701.0,874112.0,961523.0,1048934.0,1136346.0,1223757.0,1311168.0,1398579.0,1485990.0,1573402.0,1660813.0,1748224.0],\"y\":[7106.84,9041.08,10109.8,10813.2,11304.8,11690.2,12015.48,12270.24,12487.04,12687.52,12848.56,12995.16,13133.44,13254.36,13370.24,13472.52,13569.04,13654.04,13734.24,13812.0]},{\"marker\":{\"color\":\"#DC3912\",\"size\":7,\"symbol\":\"square\"},\"mode\":\"markers\",\"name\":\"Selected-1\",\"showlegend\":false,\"type\":\"scatter\",\"x\":[1748224.0],\"y\":[13812.0]},{\"line\":{\"color\":\"#FF9900\"},\"marker\":{\"size\":2,\"symbol\":\"circle\"},\"mode\":\"lines+markers\",\"name\":\"Unselected-2\",\"type\":\"scatter\",\"x\":[34955.0,69909.0,104864.0,139818.0,174773.0,209727.0,244682.0,279636.0,314591.0,349546.0,384500.0,419455.0,454409.0,489364.0,524318.0,559273.0,594227.0,629182.0,664136.0,699091.0],\"y\":[4726.44,6581.52,7744.6,8592.92,9211.64,9727.04,10155.84,10488.2,10784.56,11052.12,11291.12,11484.64,11675.28,11832.48,11988.52,12118.4,12245.48,12363.88,12473.64,12577.0]},{\"marker\":{\"color\":\"#FF9900\",\"size\":7,\"symbol\":\"square\"},\"mode\":\"markers\",\"name\":\"Unselected-2\",\"showlegend\":false,\"type\":\"scatter\",\"x\":[699091.0],\"y\":[12577.0]},{\"line\":{\"color\":\"#109618\"},\"marker\":{\"size\":2,\"symbol\":\"circle\"},\"mode\":\"lines+markers\",\"name\":\"Unselected-1\",\"type\":\"scatter\",\"x\":[61534.0,123067.0,184600.0,246134.0,307668.0,369201.0,430734.0,492268.0,553802.0,615335.0,676868.0,738402.0,799936.0,861469.0,923002.0,984536.0,1046070.0,1107603.0,1169136.0,1230670.0],\"y\":[6375.96,8307.56,9372.56,10099.16,10618.56,11028.16,11348.04,11628.84,11870.08,12070.84,12252.0,12407.04,12554.44,12673.08,12810.0,12918.12,13021.08,13118.88,13210.44,13296.0]},{\"marker\":{\"color\":\"#109618\",\"size\":7,\"symbol\":\"square\"},\"mode\":\"markers\",\"name\":\"Unselected-1\",\"showlegend\":false,\"type\":\"scatter\",\"x\":[1230670.0],\"y\":[13296.0]}],                        {\"height\":375,\"hovermode\":\"x\",\"legend\":{\"orientation\":\"v\",\"x\":1,\"xanchor\":\"right\",\"y\":0.02,\"yanchor\":\"bottom\"},\"template\":{\"data\":{\"bar\":[{\"error_x\":{\"color\":\"#2a3f5f\"},\"error_y\":{\"color\":\"#2a3f5f\"},\"marker\":{\"line\":{\"color\":\"white\",\"width\":0.5},\"pattern\":{\"fillmode\":\"overlay\",\"size\":10,\"solidity\":0.2}},\"type\":\"bar\"}],\"barpolar\":[{\"marker\":{\"line\":{\"color\":\"white\",\"width\":0.5},\"pattern\":{\"fillmode\":\"overlay\",\"size\":10,\"solidity\":0.2}},\"type\":\"barpolar\"}],\"carpet\":[{\"aaxis\":{\"endlinecolor\":\"#2a3f5f\",\"gridcolor\":\"#C8D4E3\",\"linecolor\":\"#C8D4E3\",\"minorgridcolor\":\"#C8D4E3\",\"startlinecolor\":\"#2a3f5f\"},\"baxis\":{\"endlinecolor\":\"#2a3f5f\",\"gridcolor\":\"#C8D4E3\",\"linecolor\":\"#C8D4E3\",\"minorgridcolor\":\"#C8D4E3\",\"startlinecolor\":\"#2a3f5f\"},\"type\":\"carpet\"}],\"choropleth\":[{\"colorbar\":{\"outlinewidth\":0,\"ticks\":\"\"},\"type\":\"choropleth\"}],\"contour\":[{\"colorbar\":{\"outlinewidth\":0,\"ticks\":\"\"},\"colorscale\":[[0.0,\"#0d0887\"],[0.1111111111111111,\"#46039f\"],[0.2222222222222222,\"#7201a8\"],[0.3333333333333333,\"#9c179e\"],[0.4444444444444444,\"#bd3786\"],[0.5555555555555556,\"#d8576b\"],[0.6666666666666666,\"#ed7953\"],[0.7777777777777778,\"#fb9f3a\"],[0.8888888888888888,\"#fdca26\"],[1.0,\"#f0f921\"]],\"type\":\"contour\"}],\"contourcarpet\":[{\"colorbar\":{\"outlinewidth\":0,\"ticks\":\"\"},\"type\":\"contourcarpet\"}],\"heatmap\":[{\"colorbar\":{\"outlinewidth\":0,\"ticks\":\"\"},\"colorscale\":[[0.0,\"#0d0887\"],[0.1111111111111111,\"#46039f\"],[0.2222222222222222,\"#7201a8\"],[0.3333333333333333,\"#9c179e\"],[0.4444444444444444,\"#bd3786\"],[0.5555555555555556,\"#d8576b\"],[0.6666666666666666,\"#ed7953\"],[0.7777777777777778,\"#fb9f3a\"],[0.8888888888888888,\"#fdca26\"],[1.0,\"#f0f921\"]],\"type\":\"heatmap\"}],\"heatmapgl\":[{\"colorbar\":{\"outlinewidth\":0,\"ticks\":\"\"},\"colorscale\":[[0.0,\"#0d0887\"],[0.1111111111111111,\"#46039f\"],[0.2222222222222222,\"#7201a8\"],[0.3333333333333333,\"#9c179e\"],[0.4444444444444444,\"#bd3786\"],[0.5555555555555556,\"#d8576b\"],[0.6666666666666666,\"#ed7953\"],[0.7777777777777778,\"#fb9f3a\"],[0.8888888888888888,\"#fdca26\"],[1.0,\"#f0f921\"]],\"type\":\"heatmapgl\"}],\"histogram\":[{\"marker\":{\"pattern\":{\"fillmode\":\"overlay\",\"size\":10,\"solidity\":0.2}},\"type\":\"histogram\"}],\"histogram2d\":[{\"colorbar\":{\"outlinewidth\":0,\"ticks\":\"\"},\"colorscale\":[[0.0,\"#0d0887\"],[0.1111111111111111,\"#46039f\"],[0.2222222222222222,\"#7201a8\"],[0.3333333333333333,\"#9c179e\"],[0.4444444444444444,\"#bd3786\"],[0.5555555555555556,\"#d8576b\"],[0.6666666666666666,\"#ed7953\"],[0.7777777777777778,\"#fb9f3a\"],[0.8888888888888888,\"#fdca26\"],[1.0,\"#f0f921\"]],\"type\":\"histogram2d\"}],\"histogram2dcontour\":[{\"colorbar\":{\"outlinewidth\":0,\"ticks\":\"\"},\"colorscale\":[[0.0,\"#0d0887\"],[0.1111111111111111,\"#46039f\"],[0.2222222222222222,\"#7201a8\"],[0.3333333333333333,\"#9c179e\"],[0.4444444444444444,\"#bd3786\"],[0.5555555555555556,\"#d8576b\"],[0.6666666666666666,\"#ed7953\"],[0.7777777777777778,\"#fb9f3a\"],[0.8888888888888888,\"#fdca26\"],[1.0,\"#f0f921\"]],\"type\":\"histogram2dcontour\"}],\"mesh3d\":[{\"colorbar\":{\"outlinewidth\":0,\"ticks\":\"\"},\"type\":\"mesh3d\"}],\"parcoords\":[{\"line\":{\"colorbar\":{\"outlinewidth\":0,\"ticks\":\"\"}},\"type\":\"parcoords\"}],\"pie\":[{\"automargin\":true,\"type\":\"pie\"}],\"scatter\":[{\"marker\":{\"colorbar\":{\"outlinewidth\":0,\"ticks\":\"\"}},\"type\":\"scatter\"}],\"scatter3d\":[{\"line\":{\"colorbar\":{\"outlinewidth\":0,\"ticks\":\"\"}},\"marker\":{\"colorbar\":{\"outlinewidth\":0,\"ticks\":\"\"}},\"type\":\"scatter3d\"}],\"scattercarpet\":[{\"marker\":{\"colorbar\":{\"outlinewidth\":0,\"ticks\":\"\"}},\"type\":\"scattercarpet\"}],\"scattergeo\":[{\"marker\":{\"colorbar\":{\"outlinewidth\":0,\"ticks\":\"\"}},\"type\":\"scattergeo\"}],\"scattergl\":[{\"marker\":{\"colorbar\":{\"outlinewidth\":0,\"ticks\":\"\"}},\"type\":\"scattergl\"}],\"scattermapbox\":[{\"marker\":{\"colorbar\":{\"outlinewidth\":0,\"ticks\":\"\"}},\"type\":\"scattermapbox\"}],\"scatterpolar\":[{\"marker\":{\"colorbar\":{\"outlinewidth\":0,\"ticks\":\"\"}},\"type\":\"scatterpolar\"}],\"scatterpolargl\":[{\"marker\":{\"colorbar\":{\"outlinewidth\":0,\"ticks\":\"\"}},\"type\":\"scatterpolargl\"}],\"scatterternary\":[{\"marker\":{\"colorbar\":{\"outlinewidth\":0,\"ticks\":\"\"}},\"type\":\"scatterternary\"}],\"surface\":[{\"colorbar\":{\"outlinewidth\":0,\"ticks\":\"\"},\"colorscale\":[[0.0,\"#0d0887\"],[0.1111111111111111,\"#46039f\"],[0.2222222222222222,\"#7201a8\"],[0.3333333333333333,\"#9c179e\"],[0.4444444444444444,\"#bd3786\"],[0.5555555555555556,\"#d8576b\"],[0.6666666666666666,\"#ed7953\"],[0.7777777777777778,\"#fb9f3a\"],[0.8888888888888888,\"#fdca26\"],[1.0,\"#f0f921\"]],\"type\":\"surface\"}],\"table\":[{\"cells\":{\"fill\":{\"color\":\"#EBF0F8\"},\"line\":{\"color\":\"white\"}},\"header\":{\"fill\":{\"color\":\"#C8D4E3\"},\"line\":{\"color\":\"white\"}},\"type\":\"table\"}]},\"layout\":{\"annotationdefaults\":{\"arrowcolor\":\"#2a3f5f\",\"arrowhead\":0,\"arrowwidth\":1},\"autotypenumbers\":\"strict\",\"coloraxis\":{\"colorbar\":{\"outlinewidth\":0,\"ticks\":\"\"}},\"colorscale\":{\"diverging\":[[0,\"#8e0152\"],[0.1,\"#c51b7d\"],[0.2,\"#de77ae\"],[0.3,\"#f1b6da\"],[0.4,\"#fde0ef\"],[0.5,\"#f7f7f7\"],[0.6,\"#e6f5d0\"],[0.7,\"#b8e186\"],[0.8,\"#7fbc41\"],[0.9,\"#4d9221\"],[1,\"#276419\"]],\"sequential\":[[0.0,\"#0d0887\"],[0.1111111111111111,\"#46039f\"],[0.2222222222222222,\"#7201a8\"],[0.3333333333333333,\"#9c179e\"],[0.4444444444444444,\"#bd3786\"],[0.5555555555555556,\"#d8576b\"],[0.6666666666666666,\"#ed7953\"],[0.7777777777777778,\"#fb9f3a\"],[0.8888888888888888,\"#fdca26\"],[1.0,\"#f0f921\"]],\"sequentialminus\":[[0.0,\"#0d0887\"],[0.1111111111111111,\"#46039f\"],[0.2222222222222222,\"#7201a8\"],[0.3333333333333333,\"#9c179e\"],[0.4444444444444444,\"#bd3786\"],[0.5555555555555556,\"#d8576b\"],[0.6666666666666666,\"#ed7953\"],[0.7777777777777778,\"#fb9f3a\"],[0.8888888888888888,\"#fdca26\"],[1.0,\"#f0f921\"]]},\"colorway\":[\"#636efa\",\"#EF553B\",\"#00cc96\",\"#ab63fa\",\"#FFA15A\",\"#19d3f3\",\"#FF6692\",\"#B6E880\",\"#FF97FF\",\"#FECB52\"],\"font\":{\"color\":\"#2a3f5f\"},\"geo\":{\"bgcolor\":\"white\",\"lakecolor\":\"white\",\"landcolor\":\"white\",\"showlakes\":true,\"showland\":true,\"subunitcolor\":\"#C8D4E3\"},\"hoverlabel\":{\"align\":\"left\"},\"hovermode\":\"closest\",\"mapbox\":{\"style\":\"light\"},\"paper_bgcolor\":\"white\",\"plot_bgcolor\":\"white\",\"polar\":{\"angularaxis\":{\"gridcolor\":\"#EBF0F8\",\"linecolor\":\"#EBF0F8\",\"ticks\":\"\"},\"bgcolor\":\"white\",\"radialaxis\":{\"gridcolor\":\"#EBF0F8\",\"linecolor\":\"#EBF0F8\",\"ticks\":\"\"}},\"scene\":{\"xaxis\":{\"backgroundcolor\":\"white\",\"gridcolor\":\"#DFE8F3\",\"gridwidth\":2,\"linecolor\":\"#EBF0F8\",\"showbackground\":true,\"ticks\":\"\",\"zerolinecolor\":\"#EBF0F8\"},\"yaxis\":{\"backgroundcolor\":\"white\",\"gridcolor\":\"#DFE8F3\",\"gridwidth\":2,\"linecolor\":\"#EBF0F8\",\"showbackground\":true,\"ticks\":\"\",\"zerolinecolor\":\"#EBF0F8\"},\"zaxis\":{\"backgroundcolor\":\"white\",\"gridcolor\":\"#DFE8F3\",\"gridwidth\":2,\"linecolor\":\"#EBF0F8\",\"showbackground\":true,\"ticks\":\"\",\"zerolinecolor\":\"#EBF0F8\"}},\"shapedefaults\":{\"line\":{\"color\":\"#2a3f5f\"}},\"ternary\":{\"aaxis\":{\"gridcolor\":\"#DFE8F3\",\"linecolor\":\"#A2B1C6\",\"ticks\":\"\"},\"baxis\":{\"gridcolor\":\"#DFE8F3\",\"linecolor\":\"#A2B1C6\",\"ticks\":\"\"},\"bgcolor\":\"white\",\"caxis\":{\"gridcolor\":\"#DFE8F3\",\"linecolor\":\"#A2B1C6\",\"ticks\":\"\"}},\"title\":{\"x\":0.05},\"xaxis\":{\"automargin\":true,\"gridcolor\":\"#EBF0F8\",\"linecolor\":\"#EBF0F8\",\"ticks\":\"\",\"title\":{\"standoff\":15},\"zerolinecolor\":\"#EBF0F8\",\"zerolinewidth\":2},\"yaxis\":{\"automargin\":true,\"gridcolor\":\"#EBF0F8\",\"linecolor\":\"#EBF0F8\",\"ticks\":\"\",\"title\":{\"standoff\":15},\"zerolinecolor\":\"#EBF0F8\",\"zerolinewidth\":2}}},\"title\":{\"text\":\"<b>Read depth vs. Protein Coding</b><br>Subsamples per point: 100\"},\"width\":500,\"xaxis\":{\"title\":{\"text\":\"Total Number of Reads\"}},\"yaxis\":{\"title\":{\"text\":\"Number of Unique<br>Genes Sequenced\"}}},                        {\"responsive\": true}                    ).then(function(){\n                            \nvar gd = document.getElementById('1d201c8d-3901-4198-9115-a49cbbddb565');\nvar x = new MutationObserver(function (mutations, observer) {{\n        var display = window.getComputedStyle(gd).display;\n        if (!display || display === 'none') {{\n            console.log([gd, 'removed!']);\n            Plotly.purge(gd);\n            observer.disconnect();\n        }}\n}});\n\n// Listen for the removal of the full notebook cells\nvar notebookContainer = gd.closest('#notebook-container');\nif (notebookContainer) {{\n    x.observe(notebookContainer, {childList: true});\n}}\n\n// Listen for the clearing of the current output cell\nvar outputEl = gd.closest('.output');\nif (outputEl) {{\n    x.observe(outputEl, {childList: true});\n}}\n\n                        })                };                });            </script>        </div>"
     },
     "metadata": {},
     "output_type": "display_data"
    }
   ],
   "source": [
    "library_name_conversion = {\n",
    "    \"polyA3\": \"Selected-1\",\n",
    "    \"polyA2\": \"Selected-2\",\n",
    "    \"totalRNA3\": \"Unselected-1\",\n",
    "    \"totalRNA2\": \"Unselected-2\"}\n",
    "\n",
    "plot_list = []\n",
    "for index, (lib, (x, y, sem_or_std)) in enumerate(plotting_dict.items()):\n",
    "    lib = library_name_conversion[lib]\n",
    "    plot_list.append(\n",
    "        go.Scatter(\n",
    "            name=f\"{lib}\",\n",
    "            x=x,\n",
    "            y=y,\n",
    "            mode=\"lines+markers\",\n",
    "            marker=dict(size=2, symbol=\"circle\"),\n",
    "            line=dict(color=px.colors.qualitative.G10[index])\n",
    "        )\n",
    "    )\n",
    "    # plot_list.append(\n",
    "    #     go.Scatter(\n",
    "    #         name=f\"{lib} Mean + {variability_function_to_use}\",\n",
    "    #         x=x,\n",
    "    #         y=y + sem_or_std,\n",
    "    #         mode=\"lines\",\n",
    "    #         marker=dict(color=\"#444\"),\n",
    "    #         line=dict(width=0),\n",
    "    #         showlegend=False,\n",
    "    #     )\n",
    "    # )\n",
    "    # plot_list.append(\n",
    "    #     go.Scatter(\n",
    "    #         name=f\"{lib} Mean - {variability_function_to_use}\",\n",
    "    #         x=x,\n",
    "    #         y=y - sem_or_std,\n",
    "    #         mode=\"lines\",\n",
    "    #         marker=dict(color=\"#444\"),\n",
    "    #         line=dict(width=0),\n",
    "    #         fillcolor='rgba(68, 68, 68, 0.3)',\n",
    "    #         fill='tonexty',\n",
    "    #         showlegend=False,\n",
    "    #     )\n",
    "    # )\n",
    "    print(lib, x[-1], y[-1])\n",
    "    plot_list.append(\n",
    "        go.Scatter(\n",
    "            name=f\"{lib}\",\n",
    "            x=x[-1:],\n",
    "            y=y[-1:],\n",
    "            mode=\"markers\",\n",
    "            marker=dict(size=7, symbol=\"square\", color=px.colors.qualitative.G10[index]),\n",
    "            showlegend=False\n",
    "        )\n",
    "    )\n",
    "\n",
    "\n",
    "fig = go.Figure(plot_list)\n",
    "\n",
    "# fig.update_xaxes(range=[5000, 15000])\n",
    "\n",
    "fig.update_layout(\n",
    "    yaxis_title='Number of Unique<br>Genes Sequenced',\n",
    "    xaxis_title='Total Number of Reads',\n",
    "    title=f'<b>Read depth vs. Protein Coding</b><br>Subsamples per point: {number_of_subsamples_per_step}',\n",
    "    hovermode=\"x\",\n",
    "    template=\"plotly_white\",\n",
    "    width=500, height=375,\n",
    "    legend=dict(orientation='v',\n",
    "                yanchor=\"bottom\",\n",
    "                y=0.02,\n",
    "                xanchor=\"right\",\n",
    "                x=1\n",
    "                ),\n",
    ")\n",
    "fig.write_image(f\"/home/marcus/Insync/mviscard@ucsc.edu/Google Drive/insync_folder/polyAvsTotalRNA_ReviewEditsAndPlots/final_SVGs/{npCommon.get_dt(for_file=True)}_subsampling.svg\")\n",
    "fig.show()"
   ],
   "metadata": {
    "collapsed": false,
    "pycharm": {
     "name": "#%%\n"
    }
   }
  },
  {
   "cell_type": "code",
   "execution_count": 56,
   "outputs": [
    {
     "name": "stdout",
     "output_type": "stream",
     "text": [
      "0 polyA2             lib                               read_id chr_id   chr_pos  original_chr_pos         gene_id  gene_name                                              cigar  \\\n",
      "1259949  polyA2  f1877eb9-abed-4b95-af5f-736668b84278      I     10172              4110  WBGene00022277     homt-1  5S6M1D27M1D7M1D12M1D38M1D35M2I25M1D30M1D18M1I1...   \n",
      "1259950  polyA2  990236cc-9f2e-478c-acd6-6efa900d4023      I     10230              4115  WBGene00022277     homt-1  8S50M2D9M1D56M2D2M1I28M2D24M1I17M1I23M1I17M2D9...   \n",
      "1259951  polyA2  89829750-b0f2-4ebf-b669-6d0be010703e      I     10227              4115  WBGene00022277     homt-1  4S13M2D14M1D4M3D14M1I10M1I58M1I10M1D36M3D6M2D4...   \n",
      "1259952  polyA2  289f00a3-cdd4-4586-a7ac-d0e84e44f01a      I     10178              4115  WBGene00022277     homt-1  72S21M1D5M2D10M3D5M2D6M1I16M1I18M1D19M3D13M2I1...   \n",
      "1259953  polyA2  d276a9e2-817f-400e-a908-8e3ddf2c4d18      I     10233              4118             NaN        NaN  67S34M1I6M2D5M3D15M2I12M1I9M1D26M2D21M1I11M1D4...   \n",
      "...         ...                                   ...    ...       ...               ...             ...        ...                                                ...   \n",
      "3571172  polyA2  a05bf3c6-5039-4473-8819-952d09b2295c      X  17717342          17717342  WBGene00007068  cTel55X.1  19M2D40M2D14M2D9M2D12M991N13M4D4M1D8M1D53M3I1M...   \n",
      "3571174  polyA2  10a7acba-2ca2-4de4-b666-2273ac2ce4f3      X  17718435          17718435  WBGene00007068  cTel55X.1  37S14M2D14M1D2M2I13M1I10M2D3M3I1M1D48M1D11M1I2...   \n",
      "3571176  polyA2  fde535d7-d584-4d06-ad21-157c21f50f45      X  17718439          17718439  WBGene00007068  cTel55X.1  51S16M2D6M1I18M2I16M1I18M1I31M2D14M2D3M2D38M1D...   \n",
      "3571178  polyA2  7627b1b8-9b0a-475c-8ca7-a9f1254a713f      X  17718457          17718457  WBGene00007068  cTel55X.1  78S27M2D16M1D5M2I38M2D10M1I6M1D10M1D31M1D28M2D...   \n",
      "3571180  polyA2  ab73394c-79be-4ec1-a628-34a32d89f277      X  17718537          17718537  WBGene00007068  cTel55X.1                  9M1D17M2D11M2D4M3I24M3D44M2D62M3S   \n",
      "\n",
      "                                                  sequence  polya_length strand  read_length  assigned_by_joshMethod  protein_coding  \n",
      "1259949  GCTTTTCATCTAAATATTGCTTAACATTTATTTAACAGAATAACGA...        113.96      -          834                    True            True  \n",
      "1259950  TTTTTTTTTAAAATATTGCTTAACATTTATTTAACAGAAATAACGT...           NaN      -          887                    True            True  \n",
      "1259951  ATTTTAAAATATTGCTTGATTTATTTAACAGAATATGAACACGCAT...           NaN      -          879                    True            True  \n",
      "1259952  TTAGGATGTAGGAGGGGATGGGATATGTGTATGGATATGATGAAAT...         19.14      -          885                    True            True  \n",
      "1259953  TTGGATGGTAGGTGGGATGGATATGTTGGATAAGATGGTATGGTAG...         55.32    NaN          929                   False           False  \n",
      "...                                                    ...           ...    ...          ...                     ...             ...  \n",
      "3571172  AATCACTGCCCACTTGGACTGCCATTTACAATCATACTTCGTTTTC...           NaN      +          421                    True            True  \n",
      "3571174  ACCAAGGAATCGCTGTTTGTGACGCTCACTTGATTGACCTCCATTA...         30.96      +          389                    True            True  \n",
      "3571176  AACCAGCGCCATCCAAGGAATCGCTGTTTGTGACGCTCACTTGATT...         59.94      +          330                    True            True  \n",
      "3571178  ATCATACCAGCGCCATCCAAGGAATCGCTGTTTTGTGACGCTCTAC...        104.67      +          421                    True            True  \n",
      "3571180  TGTCTACCTGGCTACGTGTGGCTATCTCACCGGTGCCCGTGCCACA...           NaN      +          177                    True            True  \n",
      "\n",
      "[1338004 rows x 14 columns]\n",
      "1 polyA3             lib                               read_id chr_id   chr_pos  original_chr_pos         gene_id  gene_name                                              cigar  \\\n",
      "3571182  polyA3  1a4e29b7-a737-4776-817e-4f420e3cc21c      I     10233              4108             NaN        NaN  4S24M1D32M1D43M1I47M2D33M1D4M1D17M1D19M2D13M1D...   \n",
      "3571183  polyA3  b225f2b4-d93a-4498-8d94-db7491131d7c      I     10227              4115  WBGene00022277     homt-1  93S38M1I44M1I2M1I2M1I11M2D24M3D40M3D12M1D52M1D...   \n",
      "3571184  polyA3  9e20ef62-1d83-4345-9994-a0fab9c2fc84      I      5298              4115             NaN        NaN  94S6M1I5M1D16M1D21M3D5M2D21M1D18M1D18M1D30M1I4...   \n",
      "3571185  polyA3  8f2ca108-f46a-4e90-b0d4-aba40ce2386a      I     10229              4115  WBGene00022277     homt-1  5S40M1D4M2I15M2D19M2I8M1I24M1D3M1D9M2I23M2D26M...   \n",
      "3571186  polyA3  18454d37-2797-41d9-9d9c-66ac3254431a      I     10233              4115             NaN        NaN  15S29M1I11M1D17M1D10M1D11M1I36M1D63M1D28M1D4M1...   \n",
      "...         ...                                   ...    ...       ...               ...             ...        ...                                                ...   \n",
      "6637741  polyA3  6ea458b6-2c74-4b46-a1c5-6d942d362dbc      X  17717409          17717409  WBGene00007068  cTel55X.1  3S24M1D10M991N6M1D7M2I7M1D6M1D50M1I33M2I16M1D5...   \n",
      "6637743  polyA3  f749c453-61d1-4bc0-8259-9c34bc7efd7e      X  17717409          17717409  WBGene00007068  cTel55X.1  2S10M2D23M991N2M1D27M1D31M1D69M2I20M2D10M2I8M4...   \n",
      "6637745  polyA3  6cd6123a-f552-4d7e-8bd8-0653b7097abd      X  17718435          17718435  WBGene00007068  cTel55X.1  52S21M1D86M1D9M2D8M1D3M1D3M1I36M2D58M1D25M1D28M9S   \n",
      "6637747  polyA3  805ee9c4-e61a-4a64-9fa7-d76a5214d396      X  17718438          17718438  WBGene00007068  cTel55X.1  36S14M1I4M1D2M1D5M1D6M1D3M1I3M1D4M2D28M2I7M1D4...   \n",
      "6637749  polyA3  8592649d-2eb8-4c6a-bfd5-18e5a8016ccb      X  17718458          17718458  WBGene00007068  cTel55X.1        1S78M1D38M1D31M2D11M1D33M1D12M1D35M1D18M68S   \n",
      "\n",
      "                                                  sequence  polya_length strand  read_length  assigned_by_joshMethod  protein_coding  \n",
      "3571182  GCTTTATCATCTAAAATATTGCTTAACATTATTTAACAGAAATAAC...         84.09    NaN          891                   False           False  \n",
      "3571183  TTATATTTGTGGGAAGGATGGTAGGGATAAGTAAGATAAAAAAATG...         96.90      -          989                    True            True  \n",
      "3571184  TTTAGAGGAAGTTGATGTGGATGGAGTGGGTTGGATGATGAATAAT...        136.05    NaN          438                   False           False  \n",
      "3571185  TTTCTTAAAATATTGCTTAACATTTATTTAACAGAAATAACGTGAC...         60.36      -          899                    True            True  \n",
      "3571186  TTTTTTTTGTTTTTTTAAAATATTGCTTAACATTTATTTAACAGAA...         45.26    NaN          910                   False           False  \n",
      "...                                                    ...           ...    ...          ...                     ...             ...  \n",
      "6637741  CAAGGAATCGCTGTTTTTGTGACGCTCACTTGACTGACCTCCATAC...         98.68      +          331                    True            True  \n",
      "6637743  AAGGAATCGCTGTTTGTGACGCTCTACTTGATTGACCCCATTACGT...         69.85      +          393                    True            True  \n",
      "6637745  ACCAGCGCCATCCAATAAGGAATCGCTGTTTTGTGACGTTTTACTT...         34.04      +          339                    True            True  \n",
      "6637747  AGGGAATGTCTTGTGACGCACTACAACTGATTGACACCATTACGTC...         55.00      +          306                    True            True  \n",
      "6637749  ACTGGCTTCTGGGCGTACCCGATTCTCGGAGAACTTGCCGCACCAT...           NaN      +          325                    True            True  \n",
      "\n",
      "[1748224 rows x 14 columns]\n",
      "2 totalRNA2                lib                               read_id chr_id   chr_pos  original_chr_pos         gene_id  gene_name                                              cigar  \\\n",
      "0        totalRNA2  9b92d0c5-4174-49b7-9382-b939b009a3c5      I      2890              2890             NaN        NaN  12S14M2D15M1D8M2I29M1D2M2D3M1D37M2D18M99N9M1D2...   \n",
      "1        totalRNA2  ee82ec5d-08b2-4cb6-97d0-fc24e50a0428      I     10233              4115             NaN        NaN  6S27M2D4M3D8M4D2M1D18M2I25M1D13M1D7M2D9M3D16M1...   \n",
      "2        totalRNA2  b1128d26-5c93-4be5-b2e9-99ec19922060      I     10152              4115  WBGene00022277     homt-1  87S21M1D6M1D9M2I17M1I5M2D27M1D18M1I10M2I30M3D8...   \n",
      "3        totalRNA2  8dd82c33-7f9a-4790-86d3-548b50492fb6      I     10233              4118             NaN        NaN  6S18M1D15M1D9M2D9M1I11M1D16M1D2M1D7M2D20M1D5M2...   \n",
      "4        totalRNA2  9e4ab09a-05b3-42e6-bb8b-b4b08526aa72      I     10229              4118  WBGene00022277     homt-1  3S18M1D28M2D3M1I14M1D10M1I9M3I8M2D20M1I38M3I24...   \n",
      "...            ...                                   ...    ...       ...               ...             ...        ...                                                ...   \n",
      "1259939  totalRNA2  74073112-8819-4396-897a-8615646ee9bc      X  17717328          17717328  WBGene00007068  cTel55X.1  10S49M2I4M1D3M2D14M3D15M1D24M991N44M2I18M1I49M...   \n",
      "1259941  totalRNA2  cac37f42-27e2-406d-837e-02d3fb1f1543      X  17717360          17717360  WBGene00007068  cTel55X.1  1S25M1D17M2D3M1D24M1D10M991N6M1D4M3D6M2D25M1I1...   \n",
      "1259943  totalRNA2  07f18527-1945-48ab-a4d1-b4df23dfe8d1      X  17717373          17717373  WBGene00007068  cTel55X.1  25S12M1D19M2D1M2D20M1D1M1D3M3I8M991N11M5D5M1D7...   \n",
      "1259945  totalRNA2  1a33bc7d-20c9-4c10-9c2f-5d3649db5c93      X  17718580          17718580  WBGene00007068  cTel55X.1      14S27M2D32M1D12M1I19M1D7M1D11M1D4M1D4M1D9M71S   \n",
      "1259947  totalRNA2  3bd36009-d501-4ebb-a6ca-c2a47e659e6f      X  17718595          17718595  WBGene00007068  cTel55X.1                          12M1D33M1D12M1I32M1I29M6S   \n",
      "\n",
      "                                                  sequence  polya_length strand  read_length  assigned_by_joshMethod  protein_coding  \n",
      "0        AGTTTAACCAAGTTTCTGGATGTCCCTATAAACGATGTCAATCTGC...         73.78    NaN          387                   False           False  \n",
      "1        GCTTTTTAAAATATTGCTTAACATTTATTTAACAAATGCGAACACG...        172.05    NaN          886                   False           False  \n",
      "2        TTGGTAGGATGGTGTAGGTGTTGGGATATGGATATGTAAGTATGGA...           NaN      -          896                    True            True  \n",
      "3        GCTTTTAATATTGCTTAACGATTATTAACAGAAATAACGGAGCACG...           NaN    NaN          872                   False           False  \n",
      "4        GCTAATATTGCTTAACGATTATTAACAGAAATAACGTGAGCACGCA...         50.41      -          894                    True            True  \n",
      "...                                                    ...           ...    ...          ...                     ...             ...  \n",
      "1259939  AATCACGGATCACACCCTCCCCGCAATCACTGCCCACTTGGACCTT...        105.88      +          404                    True            True  \n",
      "1259941  TCCTTGCCATCTACAATCATACTTCGTTTCATCCAGCGTCATCCAA...         68.91      +          433                    True            True  \n",
      "1259943  CCCAGCCCATTTGATCTGCACACATAATCATACTTCGTTTCAACCA...         75.16      +          432                    True            True  \n",
      "1259945  TCTTCCAAGTGCCTGTGCACGGAGTCGAGAAACCAAAGAACAAAAA...         76.81      +          211                    True            True  \n",
      "1259947  AAACCAAAGAACAAAAAAGAAATTAAAATATTTATTTTGCTGTGGT...           NaN      +          126                    True            True  \n",
      "\n",
      "[699091 rows x 14 columns]\n",
      "3 totalRNA3                lib                               read_id chr_id   chr_pos  original_chr_pos         gene_id  gene_name                                              cigar  \\\n",
      "6637751  totalRNA3  f20bfc6e-3304-4988-8c56-17a46bdb8e69      I     10233              4113             NaN        NaN  2S23M1D5M2D10M2I22M2I59M1I7M1D38M3D43M1I22M1D5...   \n",
      "6637752  totalRNA3  0966c697-6fd8-4d52-a033-16f276c5811e      I     10227              4113  WBGene00022277     homt-1  2S9M1D3M2D14M3I28M1I30M2I39M1D47M2I4M1D36M2D9M...   \n",
      "6637753  totalRNA3  0f2c22d6-bc7e-4ee7-bf2a-18b6998a6e3b      I     10233              4115             NaN        NaN  8S13M1I25M2D29M1D27M2D20M1D5M2I25M1D25M1I36M3D...   \n",
      "6637754  totalRNA3  a5a67f44-a961-4f1c-82e6-5e2343c00eda      I     10219              4115  WBGene00022277     homt-1  10S21M1D28M1D5M2D3M1I26M1I13M1D16M1D6M1D25M1I1...   \n",
      "6637755  totalRNA3  e1085a5e-6365-4234-b92e-7ebb1a14e7e4      I     10232              4115             NaN        NaN  10S17M1D11M2D19M2I5M1I14M2D6M1D103M1D38M1D3M1D...   \n",
      "...            ...                                   ...    ...       ...               ...             ...        ...                                                ...   \n",
      "8935457  totalRNA3  c837f826-cbb6-48ff-9495-353568e0a01a      X  17717386          17717386  WBGene00007068  cTel55X.1  1S17M2D3M1D10M2D16M2I7M991N5M1I12M1D6M1I7M2D12...   \n",
      "8935459  totalRNA3  4e388e70-86fb-4599-ae39-572e0e562755      X  17717405          17717405  WBGene00007068  cTel55X.1  2S27M4D8M991N8M1I8M6D6M1D2M3D1M1D9M2D27M1I12M1...   \n",
      "8935461  totalRNA3  afe00eaa-7f6b-42b7-914b-78bcb57727bc      X  17717406          17717406  WBGene00007068  cTel55X.1  13M2D15M1I8M991N14M2I9M1D4M1D45M3I6M2I26M1D4M3...   \n",
      "8935463  totalRNA3  980827e3-c41d-4109-a0fb-90cc0a13de47      X  17718435          17718435  WBGene00007068  cTel55X.1  56S15M1D13M1I17M2I2M1I14M1D29M2D28M1D6M2I2M1I3...   \n",
      "8935465  totalRNA3  c932e9a0-1a58-4bee-b2d3-1e2fafb40caa      X  17718527          17718527  WBGene00007068  cTel55X.1  5M1D31M1D5M1D36M1D7M1D25M1D12M1D12M1D21M1D23M1...   \n",
      "\n",
      "                                                  sequence  polya_length strand  read_length  assigned_by_joshMethod  protein_coding  \n",
      "6637751  GCTCTAAAATATTGCTTAACATTTATTAACAAATAACGTGAAAGCA...        131.12    NaN          878                   False           False  \n",
      "6637752  GCTCTAAAATATACAACATTTATTTAACAGAAGAAATAACGTGAGC...        122.35      -          888                    True            True  \n",
      "6637753  TCTTTTTTTAAAATATTGCTTAAACATTTATTTAACAGAAATAACG...         48.33    NaN          898                   False           False  \n",
      "6637754  ATTTTTTTTTTAAAATATTGCTTAACATTTATTAACAGAAATAACG...         59.46      -          886                    True            True  \n",
      "6637755  TTTTTTTTTTTAAAATATTGCTTAACATTATTTAACAGATAACGTG...         29.75    NaN          886                   False           False  \n",
      "...                                                    ...           ...    ...          ...                     ...             ...  \n",
      "8935457  GTTTCAACCAGCGCCATCCAAGAAATCGCTGTTTGTGACGCTCTAC...         23.39      +          403                    True            True  \n",
      "8935459  TCCAAGGGAATCGCTGTTTTTGTGACGCTTTGATTGACCTCCATTC...         88.37      +          392                    True            True  \n",
      "8935461  AAGGGAATCGCTGTTTGTGACGCACTACAAAGTTTGACCTCCATTA...           NaN      +          404                    True            True  \n",
      "8935463  ATCTCAACCAGCGCCATCCAAGGGAATCATTGTTTTGTGACGTTCT...         21.04      +          417                    True            True  \n",
      "8935465  GCATGTCATTGTCTACCATGGCTACGTGTGGCTATCTTCCTGGTGC...           NaN      +          192                    True            True  \n",
      "\n",
      "[1230670 rows x 14 columns]\n"
     ]
    }
   ],
   "source": [],
   "metadata": {
    "collapsed": false,
    "pycharm": {
     "name": "#%%\n"
    }
   }
  },
  {
   "cell_type": "code",
   "execution_count": null,
   "outputs": [],
   "source": [],
   "metadata": {
    "collapsed": false,
    "pycharm": {
     "name": "#%%\n"
    }
   }
  }
 ],
 "metadata": {
  "kernelspec": {
   "display_name": "Python 3",
   "language": "python",
   "name": "python3"
  },
  "language_info": {
   "codemirror_mode": {
    "name": "ipython",
    "version": 2
   },
   "file_extension": ".py",
   "mimetype": "text/x-python",
   "name": "python",
   "nbconvert_exporter": "python",
   "pygments_lexer": "ipython2",
   "version": "2.7.6"
  }
 },
 "nbformat": 4,
 "nbformat_minor": 0
}