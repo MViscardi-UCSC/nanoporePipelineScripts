{
 "cells": [
  {
   "cell_type": "raw",
   "metadata": {
    "pycharm": {
     "name": ""
    }
   },
   "source": [
    "# 5TERA_analyses.ipynb\n",
    "## Marcus Viscardi,    April 27, 2022\n",
    "\n",
    "General goal is to build up a notebook that will allow me to iterate through some 5TERA-Seq analyses a bit easier/faster. Eventually it would be good to solidify whichever of these plots/function/etc. are useful enough for future things (a paper)."
   ]
  },
  {
   "cell_type": "code",
   "execution_count": 1,
   "metadata": {
    "pycharm": {
     "name": "#%%\n"
    }
   },
   "outputs": [
    {
     "name": "stdout",
     "output_type": "stream",
     "text": [
      "imports done\n"
     ]
    }
   ],
   "source": [
    "import numpy as np\n",
    "import pandas as pd\n",
    "from tqdm import tqdm\n",
    "pd.set_option('display.width', 100)\n",
    "pd.set_option('display.max_columns', None)\n",
    "\n",
    "import seaborn as sea\n",
    "import matplotlib.pyplot as plt\n",
    "import plotly.express as px\n",
    "import plotly.graph_objects as go\n",
    "\n",
    "from nanoporePipelineCommon import *\n",
    "\n",
    "print(\"imports done\")"
   ]
  },
  {
   "cell_type": "markdown",
   "metadata": {
    "pycharm": {
     "name": "#%% md\n"
    }
   },
   "source": [
    "### Loading files\n",
    "First goal will be to load files in to the environment in a method amenable to retaining the most date, filtering can be done after the fact!"
   ]
  },
  {
   "cell_type": "code",
   "execution_count": 2,
   "metadata": {
    "pycharm": {
     "name": "#%%\n"
    }
   },
   "outputs": [
    {
     "name": "stdout",
     "output_type": "stream",
     "text": [
      "Loading readAssignments file from: /data16/marcus/genomes/elegansRelease100/Caenorhabditis_elegans.WBcel235.100.allChrs.parquet... Done.\n",
      "Looking for files for libraries: ['xrn-1-5tera', 'xrn-1-5tera-smg-6']\n",
      "Looking for file for xrn-1-5tera, at /data16/marcus/working/211118_nanoporeRun_totalRNA_5108_xrn-1-KD_5TERA/output_dir/merge_files/*_mergedOnReads.parquet... File Found.\n",
      "Looking for file for xrn-1-5tera-smg-6, at /data16/marcus/working/211210_nanoporeRun_totalRNA_2102_xrn-1-KD_5TERA/output_dir/merge_files/*_mergedOnReads.parquet... File Found.\n",
      "Loading parquet for xrn-1-5tera lib... Done.\n",
      "'original_chr_pos' column already found in dataframe, skipping adjustment for 5'ends!\n",
      "Loading parquet for xrn-1-5tera-smg-6 lib... Done.\n",
      "'original_chr_pos' column already found in dataframe, skipping adjustment for 5'ends!\n",
      "Finished assignment merge!. . .\n",
      "\n",
      "Read counts pre-failed-polyA call drop:   1658891\n",
      "Read counts post-failed-polyA call drop:  1092362\n",
      "Read counts post gene assignment:  1092362\n",
      "Read counts post unassigned drop:  898782\n",
      "Creating groupby dataframe merged on: ['lib', 'chr_id', 'gene_id', 'gene_name']\n",
      "\t+ [transcript_id]\n",
      "\t+ [t5] tag\n"
     ]
    },
    {
     "name": "stderr",
     "output_type": "stream",
     "text": [
      "Counting reads per transcript: 100%|██████████| 43829/43829 [00:00<00:00, 57681.14it/s]\n",
      "Storing stop distances as lists: 100%|██████████| 43829/43829 [00:00<00:00, 50203.55it/s]\n",
      "Storing start distances as lists: 100%|██████████| 43829/43829 [00:00<00:00, 48841.91it/s]\n"
     ]
    },
    {
     "name": "stdout",
     "output_type": "stream",
     "text": [
      "Gene counts pre sub-1 transcript_hits drop:  43829\n",
      "Gene counts post sub-1 transcript_hits drop:  43829\n",
      "loading done\n"
     ]
    }
   ],
   "source": [
    "# reads_df_raw, compressed_df_raw = load_and_merge_lib_parquets([\"xrn-1-5tera\", \"xrn-1-5tera-smg-6\"],\n",
    "#                                                               drop_sub_n=1, add_tail_groupings=False,\n",
    "#                                                               group_by_t5=True)\n",
    "reads_df_transcripts_raw, compressed_df_transcripts_raw = load_and_merge_lib_parquets([\"xrn-1-5tera\", \"xrn-1-5tera-smg-6\"],\n",
    "                                                              drop_sub_n=1, add_tail_groupings=False,\n",
    "                                                              group_by_t5=True, keep_transcript_info=True,\n",
    "                                                              read_pos_in_groupby=True)\n",
    "print(\"loading done\")"
   ]
  },
  {
   "cell_type": "markdown",
   "metadata": {
    "pycharm": {
     "name": "#%% md\n"
    }
   },
   "source": [
    "### Quickly copy dataframes...\n",
    "... so we can revert to disk originals w/out having to reload from disk"
   ]
  },
  {
   "cell_type": "code",
   "execution_count": 3,
   "metadata": {
    "pycharm": {
     "name": "#%%\n"
    }
   },
   "outputs": [],
   "source": [
    "reads_df_transcripts = reads_df_transcripts_raw.copy()\n",
    "compressed_df_transcripts = compressed_df_transcripts_raw.copy()"
   ]
  },
  {
   "cell_type": "markdown",
   "metadata": {
    "pycharm": {
     "name": "#%% md\n"
    }
   },
   "source": [
    "### The one code block below only works for compressed_on_genes, not compressed_on_transcripts!!"
   ]
  },
  {
   "cell_type": "code",
   "execution_count": 142,
   "metadata": {
    "pycharm": {
     "name": "#%%\n"
    }
   },
   "outputs": [
    {
     "name": "stdout",
     "output_type": "stream",
     "text": [
      "Loading readAssignments file from: /data16/marcus/genomes/elegansRelease100/Caenorhabditis_elegans.WBcel235.100.allChrs.parquet... Done.\n",
      "Looking for files for libraries: ['xrn-1-5tera', 'xrn-1-5tera-smg-6']\n",
      "Looking for file for xrn-1-5tera, at /data16/marcus/working/211118_nanoporeRun_totalRNA_5108_xrn-1-KD_5TERA/output_dir/merge_files/*_mergedOnReads.parquet... File Found.\n",
      "Looking for file for xrn-1-5tera-smg-6, at /data16/marcus/working/211210_nanoporeRun_totalRNA_2102_xrn-1-KD_5TERA/output_dir/merge_files/*_mergedOnReads.parquet... File Found.\n",
      "Loading parquet for xrn-1-5tera lib... Done.\n",
      "'original_chr_pos' column already found in dataframe, skipping adjustment for 5'ends!\n",
      "Loading parquet for xrn-1-5tera-smg-6 lib... Done.\n",
      "'original_chr_pos' column already found in dataframe, skipping adjustment for 5'ends!\n",
      "Finished assignment merge!. . .\n",
      "\n",
      "Read counts pre-failed-polyA call drop:   937835\n",
      "Read counts post-failed-polyA call drop:  607422\n",
      "Read counts post gene assignment:  607422\n",
      "Read counts post unassigned drop:  413842\n",
      "Creating groupby dataframe merged on: ['lib', 'chr_id', 'gene_id', 'gene_name']\n",
      "\t+ [t5] tag\n"
     ]
    },
    {
     "name": "stderr",
     "output_type": "stream",
     "text": [
      "Counting reads per gene: 100%|██████████| 22466/22466 [00:00<00:00, 65419.11it/s]\n"
     ]
    },
    {
     "name": "stdout",
     "output_type": "stream",
     "text": [
      "Gene counts pre sub-1 gene_hits drop:  22466\n",
      "Gene counts post sub-1 gene_hits drop:  22466\n"
     ]
    }
   ],
   "source": [
    "# Below code only works when using the compressed_on_genes dataframes, it'll be broken for compressed on transcripts!!\n",
    "reads_df_genes_raw, compressed_df_genes_raw = load_and_merge_lib_parquets([\"xrn-1-5tera\", \"xrn-1-5tera-smg-6\"],\n",
    "                                                              drop_sub_n=1, add_tail_groupings=False,\n",
    "                                                              group_by_t5=True)\n",
    "reads_df_genes, compressed_df_genes = reads_df_genes_raw.copy(), compressed_df_genes_raw.copy()\n",
    "drop_genes_with_less_than = 10\n",
    "droped_sub_X_hits_df = compressed_df_genes.query(f\"gene_hits > {drop_genes_with_less_than}\")\n",
    "\n",
    "adapted_compressed_df = droped_sub_X_hits_df.query(\"t5 == '+'\")\n",
    "unadapted_compressed_df = droped_sub_X_hits_df.query(\"t5 == '-'\")\n",
    "\n",
    "cols_for_merge = [\"lib\", \"gene_id\", \"gene_name\", \"chr_id\", \"gene_hits\",\"gene_rpm\", \"mean_polya_length\"]\n",
    "just_tails_merge = pd.merge(adapted_compressed_df[cols_for_merge],\n",
    "                            unadapted_compressed_df[cols_for_merge],\n",
    "                            on=[\"lib\", \"gene_id\", \"gene_name\", \"chr_id\"], suffixes=(\"_adapted\", \"_unadapted\"))\n",
    "just_tails_merge['isMtDNA'] = just_tails_merge[\"chr_id\"] == \"MtDNA\"\n",
    "import plotly.io as pio\n",
    "pio.renderers.default = \"browser\"\n",
    "col_to_plot = \"mean_polya_length\"\n",
    "fig = px.scatter(just_tails_merge.query(\"lib == 'xrn-1-5tera'\"),\n",
    "                 x=f\"{col_to_plot}_adapted\",\n",
    "                 y=f\"{col_to_plot}_unadapted\",\n",
    "                 trendline='ols',\n",
    "                 hover_name=\"gene_name\",\n",
    "                 hover_data=[\"gene_id\", \"lib\",\n",
    "                             \"gene_rpm_adapted\",\n",
    "                             \"gene_rpm_unadapted\",\n",
    "                             \"mean_polya_length_adapted\",\n",
    "                             \"mean_polya_length_unadapted\"],\n",
    "                 log_x=True, log_y=True,\n",
    "                 color=\"isMtDNA\")\n",
    "# fig = px.density_contour(just_tails_merge.query(\"lib == 'xrn-1-5tera'\"),\n",
    "#                          x=f\"{col_to_plot}_adapted\",\n",
    "#                          y=f\"{col_to_plot}_unadapted\",\n",
    "#                          # log_x=True, log_y=True,\n",
    "#                          marginal_x='histogram', marginal_y='histogram')\n",
    "\n",
    "# fig.update_layout(template='plotly_white')\n",
    "fig"
   ]
  },
  {
   "cell_type": "markdown",
   "metadata": {
    "pycharm": {
     "name": "#%% md\n"
    }
   },
   "source": [
    "### New columns\n",
    "Create new columns to retain info regarding:\n",
    " - If a read made it out to the 5' UTR"
   ]
  },
  {
   "cell_type": "code",
   "execution_count": 5,
   "metadata": {
    "pycharm": {
     "name": "#%%\n"
    }
   },
   "outputs": [
    {
     "data": {
      "text/html": [
       "<div>\n",
       "<style scoped>\n",
       "    .dataframe tbody tr th:only-of-type {\n",
       "        vertical-align: middle;\n",
       "    }\n",
       "\n",
       "    .dataframe tbody tr th {\n",
       "        vertical-align: top;\n",
       "    }\n",
       "\n",
       "    .dataframe thead th {\n",
       "        text-align: right;\n",
       "    }\n",
       "</style>\n",
       "<table border=\"1\" class=\"dataframe\">\n",
       "  <thead>\n",
       "    <tr style=\"text-align: right;\">\n",
       "      <th></th>\n",
       "      <th>lib</th>\n",
       "      <th>read_id</th>\n",
       "      <th>chr_id</th>\n",
       "      <th>chr_pos</th>\n",
       "      <th>gene_id</th>\n",
       "      <th>gene_name</th>\n",
       "      <th>cigar</th>\n",
       "      <th>sequence</th>\n",
       "      <th>polya_length</th>\n",
       "      <th>strand</th>\n",
       "      <th>transcript_id</th>\n",
       "      <th>to_start</th>\n",
       "      <th>to_stop</th>\n",
       "      <th>t5</th>\n",
       "      <th>read_length</th>\n",
       "      <th>spanningCDS</th>\n",
       "    </tr>\n",
       "  </thead>\n",
       "  <tbody>\n",
       "    <tr>\n",
       "      <th>0</th>\n",
       "      <td>xrn-1-5tera</td>\n",
       "      <td>d85a9afc-c20f-44b7-b5b9-78cc98562cff</td>\n",
       "      <td>I</td>\n",
       "      <td>10227</td>\n",
       "      <td>WBGene00022277</td>\n",
       "      <td>homt-1</td>\n",
       "      <td>5S24M1D4M2D19M3D2M1I34M1I10M1D18M2D30M1D22M1D1...</td>\n",
       "      <td>GCTTTTAAAATATTGCTTAACATTTATTTACAGATAACGTGAGCAC...</td>\n",
       "      <td>131.91</td>\n",
       "      <td>-</td>\n",
       "      <td>Y74C9A.3.1</td>\n",
       "      <td>-79</td>\n",
       "      <td>-780</td>\n",
       "      <td>-</td>\n",
       "      <td>873</td>\n",
       "      <td>False</td>\n",
       "    </tr>\n",
       "    <tr>\n",
       "      <th>1</th>\n",
       "      <td>xrn-1-5tera</td>\n",
       "      <td>ccc75695-0f7c-4536-9721-681d57d9bfc6</td>\n",
       "      <td>I</td>\n",
       "      <td>10229</td>\n",
       "      <td>WBGene00022277</td>\n",
       "      <td>homt-1</td>\n",
       "      <td>11S26M1D20M3D5M1D37M1D53M1D25M1I21M1I23M1I4M1I...</td>\n",
       "      <td>ATTTTTTTTTTAATATTGCTTAACATTTATTTAACAGAATAACGTG...</td>\n",
       "      <td>67.45</td>\n",
       "      <td>-</td>\n",
       "      <td>Y74C9A.3.1</td>\n",
       "      <td>-81</td>\n",
       "      <td>-782</td>\n",
       "      <td>-</td>\n",
       "      <td>897</td>\n",
       "      <td>False</td>\n",
       "    </tr>\n",
       "    <tr>\n",
       "      <th>2</th>\n",
       "      <td>xrn-1-5tera</td>\n",
       "      <td>a8d4dad6-30a7-4dec-8fe1-9bfaba2477be</td>\n",
       "      <td>I</td>\n",
       "      <td>10224</td>\n",
       "      <td>WBGene00022277</td>\n",
       "      <td>homt-1</td>\n",
       "      <td>93S11M4D32M3D20M1I13M1D2M1D7M2D82M1D11M1D4M1I3...</td>\n",
       "      <td>GTTTGAGGTGTTGAAATGTGGGAGGGGATAGGTTGTAAATGTATAT...</td>\n",
       "      <td>83.21</td>\n",
       "      <td>-</td>\n",
       "      <td>Y74C9A.3.1</td>\n",
       "      <td>-76</td>\n",
       "      <td>-777</td>\n",
       "      <td>-</td>\n",
       "      <td>969</td>\n",
       "      <td>False</td>\n",
       "    </tr>\n",
       "    <tr>\n",
       "      <th>3</th>\n",
       "      <td>xrn-1-5tera</td>\n",
       "      <td>6fc1d960-5642-416b-9a96-b5450c824f6f</td>\n",
       "      <td>I</td>\n",
       "      <td>6097</td>\n",
       "      <td>WBGene00022277</td>\n",
       "      <td>homt-1</td>\n",
       "      <td>91S11M4D11M1D7M1D9M2D8M1D17M3D41M1D48M2D3M1D22...</td>\n",
       "      <td>GTTTATGTAAAGGGAATATGAGGTATGGGGATAGGGTGATGTAATG...</td>\n",
       "      <td>22.00</td>\n",
       "      <td>-</td>\n",
       "      <td>Y74C9A.3.1</td>\n",
       "      <td>404</td>\n",
       "      <td>-297</td>\n",
       "      <td>-</td>\n",
       "      <td>470</td>\n",
       "      <td>True</td>\n",
       "    </tr>\n",
       "    <tr>\n",
       "      <th>4</th>\n",
       "      <td>xrn-1-5tera</td>\n",
       "      <td>79a3bc2e-17b6-4691-ba65-cd22d69d3ec2</td>\n",
       "      <td>I</td>\n",
       "      <td>9840</td>\n",
       "      <td>WBGene00022277</td>\n",
       "      <td>homt-1</td>\n",
       "      <td>9S27M1I19M4D7M1I64M2I37M1D33M2D21M3D22M836N4M1...</td>\n",
       "      <td>AGTTTTTTTATATTGCTTAACATTTATTTAACAGAAGATAACGTGA...</td>\n",
       "      <td>60.46</td>\n",
       "      <td>-</td>\n",
       "      <td>Y74C9A.3.1</td>\n",
       "      <td>60</td>\n",
       "      <td>-641</td>\n",
       "      <td>-</td>\n",
       "      <td>750</td>\n",
       "      <td>True</td>\n",
       "    </tr>\n",
       "    <tr>\n",
       "      <th>...</th>\n",
       "      <td>...</td>\n",
       "      <td>...</td>\n",
       "      <td>...</td>\n",
       "      <td>...</td>\n",
       "      <td>...</td>\n",
       "      <td>...</td>\n",
       "      <td>...</td>\n",
       "      <td>...</td>\n",
       "      <td>...</td>\n",
       "      <td>...</td>\n",
       "      <td>...</td>\n",
       "      <td>...</td>\n",
       "      <td>...</td>\n",
       "      <td>...</td>\n",
       "      <td>...</td>\n",
       "      <td>...</td>\n",
       "    </tr>\n",
       "    <tr>\n",
       "      <th>783969</th>\n",
       "      <td>xrn-1-5tera</td>\n",
       "      <td>e0b97c3e-1b99-4529-b4e3-40a6521652bf</td>\n",
       "      <td>X</td>\n",
       "      <td>17717406</td>\n",
       "      <td>WBGene00007068</td>\n",
       "      <td>cTel55X.1</td>\n",
       "      <td>7S38M991N6M2D1M1I14M1D6M1D1M1D39M2I3M1I2M4I20M...</td>\n",
       "      <td>ACACCATAAGGGAATCGCTGTTTTTGTGACGCTCTACTTGATTGAC...</td>\n",
       "      <td>19.04</td>\n",
       "      <td>+</td>\n",
       "      <td>cTel55X.1b.1</td>\n",
       "      <td>444</td>\n",
       "      <td>-254</td>\n",
       "      <td>-</td>\n",
       "      <td>332</td>\n",
       "      <td>True</td>\n",
       "    </tr>\n",
       "    <tr>\n",
       "      <th>783970</th>\n",
       "      <td>xrn-1-5tera</td>\n",
       "      <td>6510a264-686e-4e28-bbf5-d6b3333455d8</td>\n",
       "      <td>X</td>\n",
       "      <td>17718435</td>\n",
       "      <td>WBGene00007068</td>\n",
       "      <td>cTel55X.1</td>\n",
       "      <td>62S14M2D32M1I1M2I19M1I4M1I25M1D3M1I6M2D2M1I15M...</td>\n",
       "      <td>ATACGTTTTCAACCGGTGCCATTCCAAGGATCGCTGTCTTTGTGAC...</td>\n",
       "      <td>79.08</td>\n",
       "      <td>+</td>\n",
       "      <td>cTel55X.1a.1</td>\n",
       "      <td>482</td>\n",
       "      <td>-183</td>\n",
       "      <td>-</td>\n",
       "      <td>339</td>\n",
       "      <td>True</td>\n",
       "    </tr>\n",
       "    <tr>\n",
       "      <th>783971</th>\n",
       "      <td>xrn-1-5tera</td>\n",
       "      <td>6510a264-686e-4e28-bbf5-d6b3333455d8</td>\n",
       "      <td>X</td>\n",
       "      <td>17718435</td>\n",
       "      <td>WBGene00007068</td>\n",
       "      <td>cTel55X.1</td>\n",
       "      <td>62S14M2D32M1I1M2I19M1I4M1I25M1D3M1I6M2D2M1I15M...</td>\n",
       "      <td>ATACGTTTTCAACCGGTGCCATTCCAAGGATCGCTGTCTTTGTGAC...</td>\n",
       "      <td>79.08</td>\n",
       "      <td>+</td>\n",
       "      <td>cTel55X.1b.1</td>\n",
       "      <td>489</td>\n",
       "      <td>-209</td>\n",
       "      <td>-</td>\n",
       "      <td>339</td>\n",
       "      <td>True</td>\n",
       "    </tr>\n",
       "    <tr>\n",
       "      <th>783972</th>\n",
       "      <td>xrn-1-5tera</td>\n",
       "      <td>82b9ec06-1374-4467-9195-98066b6a7792</td>\n",
       "      <td>X</td>\n",
       "      <td>17718548</td>\n",
       "      <td>WBGene00007068</td>\n",
       "      <td>cTel55X.1</td>\n",
       "      <td>5S13M7D3M1I36M1D22M1D23M1D8M5D50M62S</td>\n",
       "      <td>TCCTAGCTACGTGTGGCTCTCAAGTGCCCTTGTGCACGGAGTCGAG...</td>\n",
       "      <td>25.36</td>\n",
       "      <td>+</td>\n",
       "      <td>cTel55X.1a.1</td>\n",
       "      <td>595</td>\n",
       "      <td>-70</td>\n",
       "      <td>-</td>\n",
       "      <td>223</td>\n",
       "      <td>True</td>\n",
       "    </tr>\n",
       "    <tr>\n",
       "      <th>783973</th>\n",
       "      <td>xrn-1-5tera</td>\n",
       "      <td>82b9ec06-1374-4467-9195-98066b6a7792</td>\n",
       "      <td>X</td>\n",
       "      <td>17718548</td>\n",
       "      <td>WBGene00007068</td>\n",
       "      <td>cTel55X.1</td>\n",
       "      <td>5S13M7D3M1I36M1D22M1D23M1D8M5D50M62S</td>\n",
       "      <td>TCCTAGCTACGTGTGGCTCTCAAGTGCCCTTGTGCACGGAGTCGAG...</td>\n",
       "      <td>25.36</td>\n",
       "      <td>+</td>\n",
       "      <td>cTel55X.1b.1</td>\n",
       "      <td>602</td>\n",
       "      <td>-96</td>\n",
       "      <td>-</td>\n",
       "      <td>223</td>\n",
       "      <td>True</td>\n",
       "    </tr>\n",
       "  </tbody>\n",
       "</table>\n",
       "<p>783974 rows × 16 columns</p>\n",
       "</div>"
      ],
      "text/plain": [
       "                lib                               read_id chr_id   chr_pos         gene_id  gene_name                                              cigar                                           sequence  polya_length strand transcript_id  to_start  to_stop t5  read_length  spanningCDS\n",
       "0       xrn-1-5tera  d85a9afc-c20f-44b7-b5b9-78cc98562cff      I     10227  WBGene00022277     homt-1  5S24M1D4M2D19M3D2M1I34M1I10M1D18M2D30M1D22M1D1...  GCTTTTAAAATATTGCTTAACATTTATTTACAGATAACGTGAGCAC...        131.91      -    Y74C9A.3.1       -79     -780  -          873        False\n",
       "1       xrn-1-5tera  ccc75695-0f7c-4536-9721-681d57d9bfc6      I     10229  WBGene00022277     homt-1  11S26M1D20M3D5M1D37M1D53M1D25M1I21M1I23M1I4M1I...  ATTTTTTTTTTAATATTGCTTAACATTTATTTAACAGAATAACGTG...         67.45      -    Y74C9A.3.1       -81     -782  -          897        False\n",
       "2       xrn-1-5tera  a8d4dad6-30a7-4dec-8fe1-9bfaba2477be      I     10224  WBGene00022277     homt-1  93S11M4D32M3D20M1I13M1D2M1D7M2D82M1D11M1D4M1I3...  GTTTGAGGTGTTGAAATGTGGGAGGGGATAGGTTGTAAATGTATAT...         83.21      -    Y74C9A.3.1       -76     -777  -          969        False\n",
       "3       xrn-1-5tera  6fc1d960-5642-416b-9a96-b5450c824f6f      I      6097  WBGene00022277     homt-1  91S11M4D11M1D7M1D9M2D8M1D17M3D41M1D48M2D3M1D22...  GTTTATGTAAAGGGAATATGAGGTATGGGGATAGGGTGATGTAATG...         22.00      -    Y74C9A.3.1       404     -297  -          470         True\n",
       "4       xrn-1-5tera  79a3bc2e-17b6-4691-ba65-cd22d69d3ec2      I      9840  WBGene00022277     homt-1  9S27M1I19M4D7M1I64M2I37M1D33M2D21M3D22M836N4M1...  AGTTTTTTTATATTGCTTAACATTTATTTAACAGAAGATAACGTGA...         60.46      -    Y74C9A.3.1        60     -641  -          750         True\n",
       "...             ...                                   ...    ...       ...             ...        ...                                                ...                                                ...           ...    ...           ...       ...      ... ..          ...          ...\n",
       "783969  xrn-1-5tera  e0b97c3e-1b99-4529-b4e3-40a6521652bf      X  17717406  WBGene00007068  cTel55X.1  7S38M991N6M2D1M1I14M1D6M1D1M1D39M2I3M1I2M4I20M...  ACACCATAAGGGAATCGCTGTTTTTGTGACGCTCTACTTGATTGAC...         19.04      +  cTel55X.1b.1       444     -254  -          332         True\n",
       "783970  xrn-1-5tera  6510a264-686e-4e28-bbf5-d6b3333455d8      X  17718435  WBGene00007068  cTel55X.1  62S14M2D32M1I1M2I19M1I4M1I25M1D3M1I6M2D2M1I15M...  ATACGTTTTCAACCGGTGCCATTCCAAGGATCGCTGTCTTTGTGAC...         79.08      +  cTel55X.1a.1       482     -183  -          339         True\n",
       "783971  xrn-1-5tera  6510a264-686e-4e28-bbf5-d6b3333455d8      X  17718435  WBGene00007068  cTel55X.1  62S14M2D32M1I1M2I19M1I4M1I25M1D3M1I6M2D2M1I15M...  ATACGTTTTCAACCGGTGCCATTCCAAGGATCGCTGTCTTTGTGAC...         79.08      +  cTel55X.1b.1       489     -209  -          339         True\n",
       "783972  xrn-1-5tera  82b9ec06-1374-4467-9195-98066b6a7792      X  17718548  WBGene00007068  cTel55X.1               5S13M7D3M1I36M1D22M1D23M1D8M5D50M62S  TCCTAGCTACGTGTGGCTCTCAAGTGCCCTTGTGCACGGAGTCGAG...         25.36      +  cTel55X.1a.1       595      -70  -          223         True\n",
       "783973  xrn-1-5tera  82b9ec06-1374-4467-9195-98066b6a7792      X  17718548  WBGene00007068  cTel55X.1               5S13M7D3M1I36M1D22M1D23M1D8M5D50M62S  TCCTAGCTACGTGTGGCTCTCAAGTGCCCTTGTGCACGGAGTCGAG...         25.36      +  cTel55X.1b.1       602      -96  -          223         True\n",
       "\n",
       "[783974 rows x 16 columns]"
      ]
     },
     "execution_count": 5,
     "metadata": {},
     "output_type": "execute_result"
    }
   ],
   "source": [
    "reads_df_transcripts[\"spanningCDS\"] = reads_df_transcripts[\"to_start\"] > 0\n",
    "wt_reads_df = reads_df_transcripts.query(\"lib == 'xrn-1-5tera'\")\n",
    "wt_reads_df"
   ]
  },
  {
   "cell_type": "markdown",
   "metadata": {
    "pycharm": {
     "name": "#%% md\n"
    }
   },
   "source": [
    "### Custom compress on transcripts\n",
    "~~~While the original ***load_and_merge_lib_parquets*** method already spit out the ***compressed_df*** that has most of the ***read_df*** information organized based on *transcripts*, it didn't retain information about if reads spanned the CDS. So now we'll mostly recreate that, with the additional information regarding CDS spanning reads, like we want to plot by!!~~~\n",
    "\n",
    "lol nvm... It looks like by using ***read_pos_in_groupby=True***, we are able to retain the start/stop information without rewriting the whole compress script. Thank you past me!!\n",
    "\n",
    "We'll still need to convert that list of ***to_start*** distances to a fraction of reads spanning the CDS. This should be easy w/ a quick apply method that will take care of turning the lists into fractions!"
   ]
  },
  {
   "cell_type": "code",
   "execution_count": 6,
   "metadata": {
    "pycharm": {
     "name": "#%%\n"
    }
   },
   "outputs": [
    {
     "name": "stderr",
     "output_type": "stream",
     "text": [
      "Calculating fraction of reads/transcript that span at least 0nt from start codons: 100%|██████████| 43829/43829 [00:00<00:00, 133516.37it/s]\n"
     ]
    },
    {
     "data": {
      "text/html": [
       "<div>\n",
       "<style scoped>\n",
       "    .dataframe tbody tr th:only-of-type {\n",
       "        vertical-align: middle;\n",
       "    }\n",
       "\n",
       "    .dataframe tbody tr th {\n",
       "        vertical-align: top;\n",
       "    }\n",
       "\n",
       "    .dataframe thead th {\n",
       "        text-align: right;\n",
       "    }\n",
       "</style>\n",
       "<table border=\"1\" class=\"dataframe\">\n",
       "  <thead>\n",
       "    <tr style=\"text-align: right;\">\n",
       "      <th></th>\n",
       "      <th>lib</th>\n",
       "      <th>chr_id</th>\n",
       "      <th>gene_id</th>\n",
       "      <th>gene_name</th>\n",
       "      <th>transcript_id</th>\n",
       "      <th>t5</th>\n",
       "      <th>transcript_hits</th>\n",
       "      <th>mean_polya_length</th>\n",
       "      <th>median_polya_length</th>\n",
       "      <th>mean_read_length</th>\n",
       "      <th>median_read_length</th>\n",
       "      <th>stop_distances</th>\n",
       "      <th>start_distances</th>\n",
       "      <th>transcript_rpm</th>\n",
       "      <th>transcript_frac_hits</th>\n",
       "      <th>fraction_spanning</th>\n",
       "    </tr>\n",
       "  </thead>\n",
       "  <tbody>\n",
       "    <tr>\n",
       "      <th>0</th>\n",
       "      <td>xrn-1-5tera</td>\n",
       "      <td>I</td>\n",
       "      <td>WBGene00000001</td>\n",
       "      <td>aap-1</td>\n",
       "      <td>Y110A7A.10.1</td>\n",
       "      <td>-</td>\n",
       "      <td>16</td>\n",
       "      <td>53.61625</td>\n",
       "      <td>47.095</td>\n",
       "      <td>1389.625</td>\n",
       "      <td>1448.5</td>\n",
       "      <td>[-1576, -1570, -1568, -1568, -1568, -1568, -13...</td>\n",
       "      <td>[-11, -5, -3, -3, -3, -3, 223, 244, 438, 459, ...</td>\n",
       "      <td>20.408840</td>\n",
       "      <td>0.000020</td>\n",
       "      <td>0.625</td>\n",
       "    </tr>\n",
       "    <tr>\n",
       "      <th>1</th>\n",
       "      <td>xrn-1-5tera</td>\n",
       "      <td>I</td>\n",
       "      <td>WBGene00000001</td>\n",
       "      <td>aap-1</td>\n",
       "      <td>Y110A7A.10.1</td>\n",
       "      <td>+</td>\n",
       "      <td>2</td>\n",
       "      <td>21.63000</td>\n",
       "      <td>21.630</td>\n",
       "      <td>1793.000</td>\n",
       "      <td>1793.0</td>\n",
       "      <td>[-1518, -648]</td>\n",
       "      <td>[47, 917]</td>\n",
       "      <td>2.551105</td>\n",
       "      <td>0.000003</td>\n",
       "      <td>1.000</td>\n",
       "    </tr>\n",
       "    <tr>\n",
       "      <th>2</th>\n",
       "      <td>xrn-1-5tera</td>\n",
       "      <td>I</td>\n",
       "      <td>WBGene00000001</td>\n",
       "      <td>aap-1</td>\n",
       "      <td>Y110A7A.10.2</td>\n",
       "      <td>-</td>\n",
       "      <td>10</td>\n",
       "      <td>51.35600</td>\n",
       "      <td>47.095</td>\n",
       "      <td>1164.300</td>\n",
       "      <td>1110.0</td>\n",
       "      <td>[-1342, -1321, -1127, -1106, -930, -860, -843,...</td>\n",
       "      <td>[223, 244, 438, 459, 635, 705, 722, 727, 868, ...</td>\n",
       "      <td>12.755525</td>\n",
       "      <td>0.000013</td>\n",
       "      <td>1.000</td>\n",
       "    </tr>\n",
       "    <tr>\n",
       "      <th>3</th>\n",
       "      <td>xrn-1-5tera</td>\n",
       "      <td>I</td>\n",
       "      <td>WBGene00000001</td>\n",
       "      <td>aap-1</td>\n",
       "      <td>Y110A7A.10.2</td>\n",
       "      <td>+</td>\n",
       "      <td>2</td>\n",
       "      <td>21.63000</td>\n",
       "      <td>21.630</td>\n",
       "      <td>1793.000</td>\n",
       "      <td>1793.0</td>\n",
       "      <td>[-1518, -648]</td>\n",
       "      <td>[47, 917]</td>\n",
       "      <td>2.551105</td>\n",
       "      <td>0.000003</td>\n",
       "      <td>1.000</td>\n",
       "    </tr>\n",
       "    <tr>\n",
       "      <th>4</th>\n",
       "      <td>xrn-1-5tera</td>\n",
       "      <td>I</td>\n",
       "      <td>WBGene00000006</td>\n",
       "      <td>aat-5</td>\n",
       "      <td>C55C2.5a.1</td>\n",
       "      <td>-</td>\n",
       "      <td>2</td>\n",
       "      <td>65.87000</td>\n",
       "      <td>65.870</td>\n",
       "      <td>502.000</td>\n",
       "      <td>502.0</td>\n",
       "      <td>[-71, -369]</td>\n",
       "      <td>[1539, 1241]</td>\n",
       "      <td>2.551105</td>\n",
       "      <td>0.000003</td>\n",
       "      <td>1.000</td>\n",
       "    </tr>\n",
       "    <tr>\n",
       "      <th>...</th>\n",
       "      <td>...</td>\n",
       "      <td>...</td>\n",
       "      <td>...</td>\n",
       "      <td>...</td>\n",
       "      <td>...</td>\n",
       "      <td>...</td>\n",
       "      <td>...</td>\n",
       "      <td>...</td>\n",
       "      <td>...</td>\n",
       "      <td>...</td>\n",
       "      <td>...</td>\n",
       "      <td>...</td>\n",
       "      <td>...</td>\n",
       "      <td>...</td>\n",
       "      <td>...</td>\n",
       "      <td>...</td>\n",
       "    </tr>\n",
       "    <tr>\n",
       "      <th>43824</th>\n",
       "      <td>xrn-1-5tera-smg-6</td>\n",
       "      <td>X</td>\n",
       "      <td>WBGene00206484</td>\n",
       "      <td>C31H2.14</td>\n",
       "      <td>C31H2.14.1</td>\n",
       "      <td>-</td>\n",
       "      <td>1</td>\n",
       "      <td>118.62000</td>\n",
       "      <td>118.620</td>\n",
       "      <td>340.000</td>\n",
       "      <td>340.0</td>\n",
       "      <td>[-227]</td>\n",
       "      <td>[-9]</td>\n",
       "      <td>8.710194</td>\n",
       "      <td>0.000009</td>\n",
       "      <td>0.000</td>\n",
       "    </tr>\n",
       "    <tr>\n",
       "      <th>43825</th>\n",
       "      <td>xrn-1-5tera-smg-6</td>\n",
       "      <td>X</td>\n",
       "      <td>WBGene00206484</td>\n",
       "      <td>C31H2.14</td>\n",
       "      <td>C31H2.14.2</td>\n",
       "      <td>-</td>\n",
       "      <td>4</td>\n",
       "      <td>59.22750</td>\n",
       "      <td>55.325</td>\n",
       "      <td>336.000</td>\n",
       "      <td>336.0</td>\n",
       "      <td>[-241, -241, -241, -227]</td>\n",
       "      <td>[-23, -23, -23, -9]</td>\n",
       "      <td>34.840778</td>\n",
       "      <td>0.000035</td>\n",
       "      <td>0.000</td>\n",
       "    </tr>\n",
       "    <tr>\n",
       "      <th>43826</th>\n",
       "      <td>xrn-1-5tera-smg-6</td>\n",
       "      <td>X</td>\n",
       "      <td>WBGene00219376</td>\n",
       "      <td>C28G1.10</td>\n",
       "      <td>C28G1.10.1</td>\n",
       "      <td>-</td>\n",
       "      <td>4</td>\n",
       "      <td>86.59750</td>\n",
       "      <td>71.680</td>\n",
       "      <td>540.250</td>\n",
       "      <td>557.0</td>\n",
       "      <td>[-646, -613, -363, -145]</td>\n",
       "      <td>[-38, -5, 245, 463]</td>\n",
       "      <td>34.840778</td>\n",
       "      <td>0.000035</td>\n",
       "      <td>0.500</td>\n",
       "    </tr>\n",
       "    <tr>\n",
       "      <th>43827</th>\n",
       "      <td>xrn-1-5tera-smg-6</td>\n",
       "      <td>X</td>\n",
       "      <td>WBGene00219376</td>\n",
       "      <td>C28G1.10</td>\n",
       "      <td>C28G1.10.1</td>\n",
       "      <td>+</td>\n",
       "      <td>1</td>\n",
       "      <td>30.04000</td>\n",
       "      <td>30.040</td>\n",
       "      <td>889.000</td>\n",
       "      <td>889.0</td>\n",
       "      <td>[-734]</td>\n",
       "      <td>[-126]</td>\n",
       "      <td>8.710194</td>\n",
       "      <td>0.000009</td>\n",
       "      <td>0.000</td>\n",
       "    </tr>\n",
       "    <tr>\n",
       "      <th>43828</th>\n",
       "      <td>xrn-1-5tera-smg-6</td>\n",
       "      <td>X</td>\n",
       "      <td>WBGene00284849</td>\n",
       "      <td>C03A3.9</td>\n",
       "      <td>C03A3.9.1</td>\n",
       "      <td>-</td>\n",
       "      <td>3</td>\n",
       "      <td>42.49000</td>\n",
       "      <td>47.080</td>\n",
       "      <td>530.000</td>\n",
       "      <td>520.0</td>\n",
       "      <td>[-254, -186, -186]</td>\n",
       "      <td>[30, 98, 98]</td>\n",
       "      <td>26.130583</td>\n",
       "      <td>0.000026</td>\n",
       "      <td>1.000</td>\n",
       "    </tr>\n",
       "  </tbody>\n",
       "</table>\n",
       "<p>43829 rows × 16 columns</p>\n",
       "</div>"
      ],
      "text/plain": [
       "                     lib chr_id         gene_id gene_name transcript_id t5  transcript_hits  mean_polya_length  median_polya_length  mean_read_length  median_read_length                                     stop_distances                                    start_distances  transcript_rpm  transcript_frac_hits  fraction_spanning\n",
       "0            xrn-1-5tera      I  WBGene00000001     aap-1  Y110A7A.10.1  -               16           53.61625               47.095          1389.625              1448.5  [-1576, -1570, -1568, -1568, -1568, -1568, -13...  [-11, -5, -3, -3, -3, -3, 223, 244, 438, 459, ...       20.408840              0.000020              0.625\n",
       "1            xrn-1-5tera      I  WBGene00000001     aap-1  Y110A7A.10.1  +                2           21.63000               21.630          1793.000              1793.0                                      [-1518, -648]                                          [47, 917]        2.551105              0.000003              1.000\n",
       "2            xrn-1-5tera      I  WBGene00000001     aap-1  Y110A7A.10.2  -               10           51.35600               47.095          1164.300              1110.0  [-1342, -1321, -1127, -1106, -930, -860, -843,...  [223, 244, 438, 459, 635, 705, 722, 727, 868, ...       12.755525              0.000013              1.000\n",
       "3            xrn-1-5tera      I  WBGene00000001     aap-1  Y110A7A.10.2  +                2           21.63000               21.630          1793.000              1793.0                                      [-1518, -648]                                          [47, 917]        2.551105              0.000003              1.000\n",
       "4            xrn-1-5tera      I  WBGene00000006     aat-5    C55C2.5a.1  -                2           65.87000               65.870           502.000               502.0                                        [-71, -369]                                       [1539, 1241]        2.551105              0.000003              1.000\n",
       "...                  ...    ...             ...       ...           ... ..              ...                ...                  ...               ...                 ...                                                ...                                                ...             ...                   ...                ...\n",
       "43824  xrn-1-5tera-smg-6      X  WBGene00206484  C31H2.14    C31H2.14.1  -                1          118.62000              118.620           340.000               340.0                                             [-227]                                               [-9]        8.710194              0.000009              0.000\n",
       "43825  xrn-1-5tera-smg-6      X  WBGene00206484  C31H2.14    C31H2.14.2  -                4           59.22750               55.325           336.000               336.0                           [-241, -241, -241, -227]                                [-23, -23, -23, -9]       34.840778              0.000035              0.000\n",
       "43826  xrn-1-5tera-smg-6      X  WBGene00219376  C28G1.10    C28G1.10.1  -                4           86.59750               71.680           540.250               557.0                           [-646, -613, -363, -145]                                [-38, -5, 245, 463]       34.840778              0.000035              0.500\n",
       "43827  xrn-1-5tera-smg-6      X  WBGene00219376  C28G1.10    C28G1.10.1  +                1           30.04000               30.040           889.000               889.0                                             [-734]                                             [-126]        8.710194              0.000009              0.000\n",
       "43828  xrn-1-5tera-smg-6      X  WBGene00284849   C03A3.9     C03A3.9.1  -                3           42.49000               47.080           530.000               520.0                                 [-254, -186, -186]                                       [30, 98, 98]       26.130583              0.000026              1.000\n",
       "\n",
       "[43829 rows x 16 columns]"
      ]
     },
     "execution_count": 6,
     "metadata": {},
     "output_type": "execute_result"
    }
   ],
   "source": [
    "def list_to_fraction_spanning_CDS(to_start_list, cutoff_distance_from_start_to_call_spanning=0) -> float:\n",
    "    spanning_list = [int(read_to_start >= cutoff_distance_from_start_to_call_spanning) for read_to_start in to_start_list]\n",
    "    number_of_spanning = sum(spanning_list)\n",
    "    total_number = len(to_start_list)\n",
    "    fraction_spanning = number_of_spanning / total_number\n",
    "    return fraction_spanning\n",
    "span_distance = 0\n",
    "tqdm.pandas(desc=f\"Calculating fraction of reads/transcript that span at least {span_distance}nt from start codons\")\n",
    "compressed_df_transcripts['fraction_spanning'] = compressed_df_transcripts.progress_apply(lambda row: list_to_fraction_spanning_CDS(row['start_distances']), axis=1)\n",
    "compressed_df_transcripts"
   ]
  },
  {
   "cell_type": "markdown",
   "metadata": {
    "pycharm": {
     "name": "#%% md\n"
    }
   },
   "source": [
    "### Plot *fraction spanning CDS* against *number of adapted reads*\n",
    "This is the one Josh talked about during out meeting last week (4/22/22)\n",
    "\n",
    "Some notes:\n",
    "1. I think this could be better off if we used some kind of \"fraction adapted\" rather than raw adapted counts. This would likely hold different information, but worth trying!\n",
    "2. Because of the low adapted read counts, there is a lot of this plot that is basically just showing simple fractions.\n",
    "3. Could there be a better way to show the ***fraction spanning CDS*** information? Potentially by using the average distance from the start of 5' ends?? Additionally this could be shown as a fraction of the total CDS length so we don't bias ourself into looking at really long transcripts w/ a relativly small portion of the CDS read into."
   ]
  },
  {
   "cell_type": "code",
   "execution_count": 8,
   "metadata": {
    "pycharm": {
     "name": "#%%\n"
    }
   },
   "outputs": [],
   "source": [
    "import plotly.io as pio\n",
    "pio.renderers.default = \"browser\"\n",
    "plot_df = compressed_df_transcripts.query(\"lib == 'xrn-1-5tera'\").query(\"t5 == '+'\")\n",
    "plot_df['is_MtDNA'] = plot_df['chr_id'] == 'MtDNA'\n",
    "fig = px.scatter(plot_df,\n",
    "                 x=\"transcript_hits\",\n",
    "                 y=\"fraction_spanning\",\n",
    "                 log_x=True,\n",
    "                 hover_name=\"gene_name\",\n",
    "                 hover_data=[\"gene_id\",\n",
    "                             \"transcript_id\"],\n",
    "                 symbol=\"is_MtDNA\",\n",
    "                 symbol_sequence=[0, 3],)\n",
    "fig.update_layout(template='plotly_white')\n",
    "fig.update_traces(marker=dict(size=12,\n",
    "                              color='DarkSlateGray',\n",
    "                              opacity=0.5))\n",
    "fig.write_html(f\"/home/marcus/Documents/{get_dt(for_file=True)}_adaptedTranscriptHits-vs-fractionSpanningCDS.html\")\n",
    "fig.show()"
   ]
  },
  {
   "cell_type": "markdown",
   "metadata": {
    "pycharm": {
     "name": "#%% md\n"
    }
   },
   "source": [
    "## Chi Squared Testing\n",
    "\n",
    "Continued from the 4th code block"
   ]
  },
  {
   "cell_type": "code",
   "execution_count": 144,
   "metadata": {
    "pycharm": {
     "name": "#%%\n"
    }
   },
   "outputs": [
    {
     "name": "stdout",
     "output_type": "stream",
     "text": [
      "Loading readAssignments file from: /data16/marcus/genomes/elegansRelease100/Caenorhabditis_elegans.WBcel235.100.allChrs.parquet... Done.\n",
      "Looking for files for libraries: ['xrn-1-5tera', 'xrn-1-5tera-smg-6']\n",
      "Looking for file for xrn-1-5tera, at /data16/marcus/working/211118_nanoporeRun_totalRNA_5108_xrn-1-KD_5TERA/output_dir/merge_files/*_mergedOnReads.parquet... File Found.\n",
      "Looking for file for xrn-1-5tera-smg-6, at /data16/marcus/working/211210_nanoporeRun_totalRNA_2102_xrn-1-KD_5TERA/output_dir/merge_files/*_mergedOnReads.parquet... File Found.\n",
      "Loading parquet for xrn-1-5tera lib... Done.\n",
      "'original_chr_pos' column already found in dataframe, skipping adjustment for 5'ends!\n",
      "Loading parquet for xrn-1-5tera-smg-6 lib... Done.\n",
      "'original_chr_pos' column already found in dataframe, skipping adjustment for 5'ends!\n",
      "Finished assignment merge!. . .\n",
      "\n",
      "Read counts pre-failed-polyA call drop:   937835\n",
      "Read counts post-failed-polyA call drop:  607422\n",
      "Read counts post gene assignment:  607422\n",
      "Read counts post unassigned drop:  413842\n",
      "Creating groupby dataframe merged on: ['lib', 'chr_id', 'gene_id', 'gene_name']\n",
      "\t+ [t5] tag\n"
     ]
    },
    {
     "name": "stderr",
     "output_type": "stream",
     "text": [
      "Counting reads per gene: 100%|██████████| 22466/22466 [00:00<00:00, 66438.95it/s]\n"
     ]
    },
    {
     "name": "stdout",
     "output_type": "stream",
     "text": [
      "Gene counts pre sub-1 gene_hits drop:  22466\n",
      "Gene counts post sub-1 gene_hits drop:  22466\n"
     ]
    },
    {
     "data": {
      "text/html": [
       "<div>\n",
       "<style scoped>\n",
       "    .dataframe tbody tr th:only-of-type {\n",
       "        vertical-align: middle;\n",
       "    }\n",
       "\n",
       "    .dataframe tbody tr th {\n",
       "        vertical-align: top;\n",
       "    }\n",
       "\n",
       "    .dataframe thead th {\n",
       "        text-align: right;\n",
       "    }\n",
       "</style>\n",
       "<table border=\"1\" class=\"dataframe\">\n",
       "  <thead>\n",
       "    <tr style=\"text-align: right;\">\n",
       "      <th></th>\n",
       "      <th>lib</th>\n",
       "      <th>chr_id</th>\n",
       "      <th>gene_id</th>\n",
       "      <th>gene_name</th>\n",
       "      <th>t5</th>\n",
       "      <th>gene_hits</th>\n",
       "      <th>gene_rpm</th>\n",
       "    </tr>\n",
       "  </thead>\n",
       "  <tbody>\n",
       "    <tr>\n",
       "      <th>9165</th>\n",
       "      <td>xrn-1-5tera</td>\n",
       "      <td>IV</td>\n",
       "      <td>WBGene00004424</td>\n",
       "      <td>rpl-12</td>\n",
       "      <td>-</td>\n",
       "      <td>1412</td>\n",
       "      <td>3984.940762</td>\n",
       "    </tr>\n",
       "    <tr>\n",
       "      <th>9166</th>\n",
       "      <td>xrn-1-5tera</td>\n",
       "      <td>IV</td>\n",
       "      <td>WBGene00004424</td>\n",
       "      <td>rpl-12</td>\n",
       "      <td>+</td>\n",
       "      <td>37</td>\n",
       "      <td>104.421252</td>\n",
       "    </tr>\n",
       "  </tbody>\n",
       "</table>\n",
       "</div>"
      ],
      "text/plain": [
       "              lib chr_id         gene_id gene_name t5  gene_hits     gene_rpm\n",
       "9165  xrn-1-5tera     IV  WBGene00004424    rpl-12  -       1412  3984.940762\n",
       "9166  xrn-1-5tera     IV  WBGene00004424    rpl-12  +         37   104.421252"
      ]
     },
     "execution_count": 144,
     "metadata": {},
     "output_type": "execute_result"
    }
   ],
   "source": [
    "reads_df_genes_raw, compressed_df_genes_raw = load_and_merge_lib_parquets([\"xrn-1-5tera\", \"xrn-1-5tera-smg-6\"],\n",
    "                                                              drop_sub_n=1, add_tail_groupings=False,\n",
    "                                                                          drop_failed_polya=False,\n",
    "                                                              group_by_t5=True)\n",
    "compressed_df_genes_short = compressed_df_genes_raw.copy()[[\"lib\", \"chr_id\", \"gene_id\", \"gene_name\", \"t5\", \"gene_hits\", \"gene_rpm\"]]\n",
    "compressed_df_genes_short.query(\"gene_name == 'rpl-12'\")"
   ]
  },
  {
   "cell_type": "code",
   "execution_count": 127,
   "metadata": {
    "pycharm": {
     "name": "#%%\n"
    }
   },
   "outputs": [
    {
     "name": "stdout",
     "output_type": "stream",
     "text": [
      "('n2', '+')\n",
      "                                 gene_hits_n2_t5+  gene_rpm_n2_t5+\n",
      "chr_id gene_id        gene_name                                   \n",
      "IV     WBGene00004424 rpl-12                   37       104.421252\n",
      "('n2', '-')\n",
      "                                 gene_hits_n2_t5-  gene_rpm_n2_t5-\n",
      "chr_id gene_id        gene_name                                   \n",
      "IV     WBGene00004424 rpl-12                 1412      3984.940762\n",
      "('s6', '+')\n",
      "Empty DataFrame\n",
      "Columns: [gene_hits_s6_t5+, gene_rpm_s6_t5+]\n",
      "Index: []\n",
      "('s6', '-')\n",
      "Empty DataFrame\n",
      "Columns: [gene_hits_s6_t5-, gene_rpm_s6_t5-]\n",
      "Index: []\n"
     ]
    }
   ],
   "source": [
    "conversion_dict = {\"xrn-1-5tera\": \"n2\",\n",
    "                   \"xrn-1-5tera-smg-6\": \"s6\"}\n",
    "ans = [y for x, y in compressed_df_genes_short.groupby(['lib', 't5'], as_index=False)]\n",
    "df_dict = {}\n",
    "for i, df in enumerate(ans):\n",
    "    lib = df.lib.unique()[0]\n",
    "    t5 = df.t5.unique()[0]\n",
    "    df = df[[\"chr_id\", \"gene_id\", \"gene_name\", \"gene_hits\", \"gene_rpm\"]]\n",
    "    df = df.rename(columns={col: f'{col}_{conversion_dict[lib]}_t5{t5}' for col in df.columns if col not in [\"chr_id\", \"gene_id\", \"gene_name\"]})\n",
    "    df_dict[(conversion_dict[lib], t5)] = df.set_index([\"chr_id\", \"gene_id\", \"gene_name\"])\n",
    "    print((conversion_dict[lib], t5))\n",
    "    print(df_dict[(conversion_dict[lib], t5)].query(\"gene_name == 'rpl-12'\"))"
   ]
  },
  {
   "cell_type": "code",
   "execution_count": 67,
   "metadata": {
    "pycharm": {
     "name": "#%%\n"
    }
   },
   "outputs": [
    {
     "data": {
      "text/html": [
       "<div>\n",
       "<style scoped>\n",
       "    .dataframe tbody tr th:only-of-type {\n",
       "        vertical-align: middle;\n",
       "    }\n",
       "\n",
       "    .dataframe tbody tr th {\n",
       "        vertical-align: top;\n",
       "    }\n",
       "\n",
       "    .dataframe thead th {\n",
       "        text-align: right;\n",
       "    }\n",
       "</style>\n",
       "<table border=\"1\" class=\"dataframe\">\n",
       "  <thead>\n",
       "    <tr style=\"text-align: right;\">\n",
       "      <th></th>\n",
       "      <th></th>\n",
       "      <th></th>\n",
       "      <th>gene_hits_n2_t5+</th>\n",
       "      <th>gene_rpm_n2_t5+</th>\n",
       "      <th>gene_hits_n2_t5-</th>\n",
       "      <th>gene_rpm_n2_t5-</th>\n",
       "      <th>gene_hits_s6_t5+</th>\n",
       "      <th>gene_rpm_s6_t5+</th>\n",
       "      <th>gene_hits_s6_t5-</th>\n",
       "      <th>gene_rpm_s6_t5-</th>\n",
       "    </tr>\n",
       "    <tr>\n",
       "      <th>chr_id</th>\n",
       "      <th>gene_id</th>\n",
       "      <th>gene_name</th>\n",
       "      <th></th>\n",
       "      <th></th>\n",
       "      <th></th>\n",
       "      <th></th>\n",
       "      <th></th>\n",
       "      <th></th>\n",
       "      <th></th>\n",
       "      <th></th>\n",
       "    </tr>\n",
       "  </thead>\n",
       "  <tbody>\n",
       "    <tr>\n",
       "      <th rowspan=\"5\" valign=\"top\">I</th>\n",
       "      <th>WBGene00000001</th>\n",
       "      <th>aap-1</th>\n",
       "      <td>2.0</td>\n",
       "      <td>5.644392</td>\n",
       "      <td>16.0</td>\n",
       "      <td>45.155136</td>\n",
       "      <td>1.0</td>\n",
       "      <td>16.804463</td>\n",
       "      <td>0.0</td>\n",
       "      <td>0.00000</td>\n",
       "    </tr>\n",
       "    <tr>\n",
       "      <th>WBGene00000006</th>\n",
       "      <th>aat-5</th>\n",
       "      <td>1.0</td>\n",
       "      <td>2.822196</td>\n",
       "      <td>2.0</td>\n",
       "      <td>5.644392</td>\n",
       "      <td>0.0</td>\n",
       "      <td>0.000000</td>\n",
       "      <td>0.0</td>\n",
       "      <td>0.00000</td>\n",
       "    </tr>\n",
       "    <tr>\n",
       "      <th>WBGene00000010</th>\n",
       "      <th>aat-9</th>\n",
       "      <td>0.0</td>\n",
       "      <td>0.000000</td>\n",
       "      <td>5.0</td>\n",
       "      <td>14.110980</td>\n",
       "      <td>0.0</td>\n",
       "      <td>0.000000</td>\n",
       "      <td>0.0</td>\n",
       "      <td>0.00000</td>\n",
       "    </tr>\n",
       "    <tr>\n",
       "      <th>WBGene00000020</th>\n",
       "      <th>abt-2</th>\n",
       "      <td>0.0</td>\n",
       "      <td>0.000000</td>\n",
       "      <td>3.0</td>\n",
       "      <td>8.466588</td>\n",
       "      <td>0.0</td>\n",
       "      <td>0.000000</td>\n",
       "      <td>0.0</td>\n",
       "      <td>0.00000</td>\n",
       "    </tr>\n",
       "    <tr>\n",
       "      <th>WBGene00000023</th>\n",
       "      <th>abt-5</th>\n",
       "      <td>1.0</td>\n",
       "      <td>2.822196</td>\n",
       "      <td>1.0</td>\n",
       "      <td>2.822196</td>\n",
       "      <td>0.0</td>\n",
       "      <td>0.000000</td>\n",
       "      <td>0.0</td>\n",
       "      <td>0.00000</td>\n",
       "    </tr>\n",
       "    <tr>\n",
       "      <th>...</th>\n",
       "      <th>...</th>\n",
       "      <th>...</th>\n",
       "      <td>...</td>\n",
       "      <td>...</td>\n",
       "      <td>...</td>\n",
       "      <td>...</td>\n",
       "      <td>...</td>\n",
       "      <td>...</td>\n",
       "      <td>...</td>\n",
       "      <td>...</td>\n",
       "    </tr>\n",
       "    <tr>\n",
       "      <th rowspan=\"5\" valign=\"top\">X</th>\n",
       "      <th>WBGene00269392</th>\n",
       "      <th>F54F7.14</th>\n",
       "      <td>0.0</td>\n",
       "      <td>0.000000</td>\n",
       "      <td>1.0</td>\n",
       "      <td>2.822196</td>\n",
       "      <td>0.0</td>\n",
       "      <td>0.000000</td>\n",
       "      <td>0.0</td>\n",
       "      <td>0.00000</td>\n",
       "    </tr>\n",
       "    <tr>\n",
       "      <th>WBGene00271606</th>\n",
       "      <th>F22F4.9</th>\n",
       "      <td>0.0</td>\n",
       "      <td>0.000000</td>\n",
       "      <td>1.0</td>\n",
       "      <td>2.822196</td>\n",
       "      <td>0.0</td>\n",
       "      <td>0.000000</td>\n",
       "      <td>0.0</td>\n",
       "      <td>0.00000</td>\n",
       "    </tr>\n",
       "    <tr>\n",
       "      <th>WBGene00271701</th>\n",
       "      <th>F10D7.10</th>\n",
       "      <td>1.0</td>\n",
       "      <td>2.822196</td>\n",
       "      <td>0.0</td>\n",
       "      <td>0.000000</td>\n",
       "      <td>0.0</td>\n",
       "      <td>0.000000</td>\n",
       "      <td>0.0</td>\n",
       "      <td>0.00000</td>\n",
       "    </tr>\n",
       "    <tr>\n",
       "      <th>WBGene00284849</th>\n",
       "      <th>C03A3.9</th>\n",
       "      <td>0.0</td>\n",
       "      <td>0.000000</td>\n",
       "      <td>1.0</td>\n",
       "      <td>2.822196</td>\n",
       "      <td>0.0</td>\n",
       "      <td>0.000000</td>\n",
       "      <td>3.0</td>\n",
       "      <td>50.41339</td>\n",
       "    </tr>\n",
       "    <tr>\n",
       "      <th>WBGene00303024</th>\n",
       "      <th>H40L08.7</th>\n",
       "      <td>6.0</td>\n",
       "      <td>16.933176</td>\n",
       "      <td>6.0</td>\n",
       "      <td>16.933176</td>\n",
       "      <td>0.0</td>\n",
       "      <td>0.000000</td>\n",
       "      <td>0.0</td>\n",
       "      <td>0.00000</td>\n",
       "    </tr>\n",
       "  </tbody>\n",
       "</table>\n",
       "<p>12591 rows × 8 columns</p>\n",
       "</div>"
      ],
      "text/plain": [
       "                                 gene_hits_n2_t5+  gene_rpm_n2_t5+  gene_hits_n2_t5-  gene_rpm_n2_t5-  gene_hits_s6_t5+  gene_rpm_s6_t5+  gene_hits_s6_t5-  gene_rpm_s6_t5-\n",
       "chr_id gene_id        gene_name                                                                                                                                            \n",
       "I      WBGene00000001 aap-1                   2.0         5.644392              16.0        45.155136               1.0        16.804463               0.0          0.00000\n",
       "       WBGene00000006 aat-5                   1.0         2.822196               2.0         5.644392               0.0         0.000000               0.0          0.00000\n",
       "       WBGene00000010 aat-9                   0.0         0.000000               5.0        14.110980               0.0         0.000000               0.0          0.00000\n",
       "       WBGene00000020 abt-2                   0.0         0.000000               3.0         8.466588               0.0         0.000000               0.0          0.00000\n",
       "       WBGene00000023 abt-5                   1.0         2.822196               1.0         2.822196               0.0         0.000000               0.0          0.00000\n",
       "...                                           ...              ...               ...              ...               ...              ...               ...              ...\n",
       "X      WBGene00269392 F54F7.14                0.0         0.000000               1.0         2.822196               0.0         0.000000               0.0          0.00000\n",
       "       WBGene00271606 F22F4.9                 0.0         0.000000               1.0         2.822196               0.0         0.000000               0.0          0.00000\n",
       "       WBGene00271701 F10D7.10                1.0         2.822196               0.0         0.000000               0.0         0.000000               0.0          0.00000\n",
       "       WBGene00284849 C03A3.9                 0.0         0.000000               1.0         2.822196               0.0         0.000000               3.0         50.41339\n",
       "       WBGene00303024 H40L08.7                6.0        16.933176               6.0        16.933176               0.0         0.000000               0.0          0.00000\n",
       "\n",
       "[12591 rows x 8 columns]"
      ]
     },
     "execution_count": 67,
     "metadata": {},
     "output_type": "execute_result"
    }
   ],
   "source": [
    "super_df = pd.concat(df_dict.values(), axis=1, join='outer').fillna(0)\n",
    "super_df"
   ]
  },
  {
   "cell_type": "code",
   "execution_count": 1,
   "metadata": {
    "pycharm": {
     "name": "#%%\n"
    }
   },
   "outputs": [
    {
     "ename": "NameError",
     "evalue": "name 'make_contingency_table' is not defined",
     "output_type": "error",
     "traceback": [
      "\u001b[0;31m---------------------------------------------------------------------------\u001b[0m",
      "\u001b[0;31mNameError\u001b[0m                                 Traceback (most recent call last)",
      "\u001b[0;32m/tmp/ipykernel_381222/1562447685.py\u001b[0m in \u001b[0;36m<module>\u001b[0;34m\u001b[0m\n\u001b[1;32m     15\u001b[0m                                                                           ]\n\u001b[1;32m     16\u001b[0m \u001b[0;32mfor\u001b[0m \u001b[0mexample_gene\u001b[0m \u001b[0;32min\u001b[0m \u001b[0mexample_genes\u001b[0m\u001b[0;34m:\u001b[0m\u001b[0;34m\u001b[0m\u001b[0;34m\u001b[0m\u001b[0m\n\u001b[0;32m---> 17\u001b[0;31m     \u001b[0mtest_gene_chi2\u001b[0m\u001b[0;34m(\u001b[0m\u001b[0mexample_gene\u001b[0m\u001b[0;34m)\u001b[0m\u001b[0;34m\u001b[0m\u001b[0;34m\u001b[0m\u001b[0m\n\u001b[0m\u001b[1;32m     18\u001b[0m \u001b[0;34m\u001b[0m\u001b[0m\n",
      "\u001b[0;32m/tmp/ipykernel_381222/1562447685.py\u001b[0m in \u001b[0;36mtest_gene_chi2\u001b[0;34m(gene)\u001b[0m\n\u001b[1;32m      1\u001b[0m \u001b[0;32mfrom\u001b[0m \u001b[0mscipy\u001b[0m\u001b[0;34m.\u001b[0m\u001b[0mstats\u001b[0m \u001b[0;32mimport\u001b[0m \u001b[0mchi2_contingency\u001b[0m\u001b[0;34m,\u001b[0m \u001b[0mchisquare\u001b[0m\u001b[0;34m\u001b[0m\u001b[0;34m\u001b[0m\u001b[0m\n\u001b[1;32m      2\u001b[0m \u001b[0;32mdef\u001b[0m \u001b[0mtest_gene_chi2\u001b[0m\u001b[0;34m(\u001b[0m\u001b[0mgene\u001b[0m\u001b[0;34m)\u001b[0m\u001b[0;34m:\u001b[0m\u001b[0;34m\u001b[0m\u001b[0;34m\u001b[0m\u001b[0m\n\u001b[0;32m----> 3\u001b[0;31m     \u001b[0mexample_case\u001b[0m \u001b[0;34m=\u001b[0m \u001b[0mmake_contingency_table\u001b[0m\u001b[0;34m(\u001b[0m\u001b[0msuper_df\u001b[0m\u001b[0;34m.\u001b[0m\u001b[0mquery\u001b[0m\u001b[0;34m(\u001b[0m\u001b[0;34mf\"gene_name == '{gene}'\"\u001b[0m\u001b[0;34m)\u001b[0m\u001b[0;34m)\u001b[0m\u001b[0;34m\u001b[0m\u001b[0;34m\u001b[0m\u001b[0m\n\u001b[0m\u001b[1;32m      4\u001b[0m     \u001b[0mprint\u001b[0m\u001b[0;34m(\u001b[0m\u001b[0;34mf\"{gene}:\"\u001b[0m\u001b[0;34m)\u001b[0m\u001b[0;34m\u001b[0m\u001b[0;34m\u001b[0m\u001b[0m\n\u001b[1;32m      5\u001b[0m     \u001b[0mprint\u001b[0m\u001b[0;34m(\u001b[0m\u001b[0mexample_case\u001b[0m\u001b[0;34m)\u001b[0m\u001b[0;34m\u001b[0m\u001b[0;34m\u001b[0m\u001b[0m\n",
      "\u001b[0;31mNameError\u001b[0m: name 'make_contingency_table' is not defined"
     ]
    }
   ],
   "source": [
    "def make_contingency_table(row):\n",
    "    array = np.array([[row[\"gene_hits_n2_t5-\"][0], row[\"gene_hits_s6_t5-\"][0]],\n",
    "                      [row[\"gene_hits_n2_t5+\"][0], row[\"gene_hits_s6_t5+\"][0]]])\n",
    "    little_df = pd.DataFrame(array, columns=['n2', 'smg-6'], index=['t5 -', 't5 +'])\n",
    "    return little_df\n",
    "\n",
    "make_contingency_table(super_df.query(\"gene_name == 'aco-1'\"))"
   ]
  },
  {
   "cell_type": "code",
   "execution_count": 132,
   "metadata": {
    "pycharm": {
     "name": "#%%\n"
    }
   },
   "outputs": [
    {
     "name": "stdout",
     "output_type": "stream",
     "text": [
      "acdh-1:\n",
      "         n2  smg-6\n",
      "t5 +  245.0  106.0\n",
      "t5 -   16.0    9.0\n",
      "                chi2 = 0.147100\n",
      "             p value = 0.701\n",
      "  degrees of freedom = 1.000000\n",
      "\n",
      "xrn-1:\n",
      "          n2   smg-6\n",
      "t5 +  3107.0  1042.0\n",
      "t5 -   142.0     9.0\n",
      "                chi2 = 27.916579\n",
      "             p value = 1.27e-07\n",
      "  degrees of freedom = 1.000000\n",
      "\n",
      "nduo-3:\n",
      "          n2   smg-6\n",
      "t5 +  1129.0  1493.0\n",
      "t5 -   658.0  1355.0\n",
      "                chi2 = 51.266635\n",
      "             p value = 8.06e-13\n",
      "  degrees of freedom = 1.000000\n",
      "\n",
      "rpl-22:\n",
      "         n2  smg-6\n",
      "t5 +  550.0  231.0\n",
      "t5 -    8.0    4.0\n",
      "                chi2 = 0.001278\n",
      "             p value = 0.971\n",
      "  degrees of freedom = 1.000000\n",
      "\n",
      "ets-4:\n",
      "        n2  smg-6\n",
      "t5 +  13.0    6.0\n",
      "t5 -   3.0    1.0\n",
      "                chi2 = 0.114162\n",
      "             p value = 0.735\n",
      "  degrees of freedom = 1.000000\n",
      "\n",
      "ubl-1:\n",
      "          n2  smg-6\n",
      "t5 +  1457.0  426.0\n",
      "t5 -    46.0    1.0\n",
      "                chi2 = 10.022249\n",
      "             p value = 0.00155\n",
      "  degrees of freedom = 1.000000\n",
      "\n"
     ]
    }
   ],
   "source": [
    "from scipy.stats import chi2_contingency, chisquare\n",
    "def test_gene_chi2(gene):\n",
    "    example_case = make_contingency_table(super_df.query(f\"gene_name == '{gene}'\"))\n",
    "    print(f\"{gene}:\")\n",
    "    print(example_case)\n",
    "    chi2, p, deg_of_free, expected = chi2_contingency(np.array(example_case))\n",
    "    print(f\"{'chi2':>20} = {chi2:.6f}\\n\"\n",
    "          f\"{'p value':>20} = {p:.3g}\\n\"\n",
    "          f\"{'degrees of freedom':>20} = {deg_of_free:.6f}\\n\"\n",
    "          #f\"{'expected:':>20}\\n{expected}\"\n",
    "          )\n",
    "\n",
    "# Example case:\n",
    "example_genes = ['acdh-1', 'xrn-1', 'nduo-3', 'rpl-22', 'ets-4', 'ubl-1', 'rpl-12'\n",
    "                                                                          ]\n",
    "for example_gene in example_genes:\n",
    "    test_gene_chi2(example_gene)\n"
   ]
  },
  {
   "cell_type": "code",
   "execution_count": 2,
   "metadata": {
    "pycharm": {
     "name": "#%%\n"
    }
   },
   "outputs": [
    {
     "ename": "NameError",
     "evalue": "name 'pd' is not defined",
     "output_type": "error",
     "traceback": [
      "\u001b[0;31m---------------------------------------------------------------------------\u001b[0m",
      "\u001b[0;31mNameError\u001b[0m                                 Traceback (most recent call last)",
      "\u001b[0;32m/tmp/ipykernel_380583/327596009.py\u001b[0m in \u001b[0;36m<module>\u001b[0;34m\u001b[0m\n\u001b[0;32m----> 1\u001b[0;31m \u001b[0mpd\u001b[0m\u001b[0;34m.\u001b[0m\u001b[0mread_parquet\u001b[0m\u001b[0;34m(\u001b[0m\u001b[0;34m\"/data16/marcus/working/211210_nanoporeRun_totalRNA_2102_xrn-1-KD_5TERA/output_dir/merge_files/211214_mergedOnReads.parquet\"\u001b[0m\u001b[0;34m)\u001b[0m\u001b[0;34m\u001b[0m\u001b[0;34m\u001b[0m\u001b[0m\n\u001b[0m",
      "\u001b[0;31mNameError\u001b[0m: name 'pd' is not defined"
     ]
    }
   ],
   "source": [
    "# Lets try w/ another dimension (being genes)\n",
    "gene_array_3d = np.array([np.array(make_contingency_table(super_df.query(f\"gene_name == '{gene}'\"))) for gene in example_genes])\n",
    "\n",
    "chi2_contingency(gene_array_3d)"
   ]
  },
  {
   "cell_type": "code",
   "execution_count": null,
   "metadata": {
    "pycharm": {
     "name": "#%%\n"
    }
   },
   "outputs": [],
   "source": [
    "pd.read_parquet(\"/data16/marcus/working/211210_nanoporeRun_totalRNA_2102_xrn-1-KD_5TERA/output_dir/merge_files/211214_mergedOnReads.parquet\")"
   ]
  },
  {
   "cell_type": "code",
   "execution_count": null,
   "metadata": {
    "pycharm": {
     "name": "#%%\n"
    }
   },
   "outputs": [],
   "source": []
  }
 ],
 "metadata": {
  "kernelspec": {
   "display_name": "Python 3 (ipykernel)",
   "language": "python",
   "name": "python3"
  },
  "language_info": {
   "codemirror_mode": {
    "name": "ipython",
    "version": 3
   },
   "file_extension": ".py",
   "mimetype": "text/x-python",
   "name": "python",
   "nbconvert_exporter": "python",
   "pygments_lexer": "ipython3",
   "version": "3.8.10"
  }
 },
 "nbformat": 4,
 "nbformat_minor": 1
}
