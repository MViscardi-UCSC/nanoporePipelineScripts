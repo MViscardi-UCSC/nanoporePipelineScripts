{
 "cells": [
  {
   "cell_type": "markdown",
   "metadata": {
    "collapsed": true,
    "pycharm": {
     "name": "#%% md\n"
    }
   },
   "source": [
    "***firstTestNotebook.ipynb\n",
    "Marcus Viscardi,    February 21, 2022***\n",
    "\n",
    "# First test of using jupiter notebooks inside pycharm\n",
    "## Hopefully all goes well?\n",
    "\n",
    "After a day or so of use: It's definitely nice to be able to iterate so quickly with small parts of the code, but juggling some issues that come with overwriting variables in annoying. I imagine this will be useful for initial exploratory steps of writing some code, while in the longer run having solid scripts will make outputs more deterministic.\n"
   ]
  },
  {
   "cell_type": "markdown",
   "source": [
    "### Imports:"
   ],
   "metadata": {
    "collapsed": false
   }
  },
  {
   "cell_type": "code",
   "execution_count": 32,
   "outputs": [
    {
     "name": "stdout",
     "output_type": "stream",
     "text": [
      "Imports complete.\n"
     ]
    }
   ],
   "source": [
    "import pandas as pd\n",
    "pd.set_option('display.width', 200)\n",
    "pd.set_option('display.max_columns', None)\n",
    "import seaborn as sea\n",
    "import matplotlib.pyplot as plt\n",
    "import plotly.express as px\n",
    "import plotly.graph_objects as go\n",
    "import numpy as np\n",
    "\n",
    "from nanoporePipelineCommon import load_and_merge_lib_parquets\n",
    "print(\"Imports complete.\")"
   ],
   "metadata": {
    "collapsed": false,
    "pycharm": {
     "name": "#%%\n"
    }
   }
  },
  {
   "cell_type": "markdown",
   "source": [
    "### Load all three library sets into one long-format dataframe:"
   ],
   "metadata": {
    "collapsed": false
   }
  },
  {
   "cell_type": "code",
   "execution_count": 4,
   "outputs": [
    {
     "name": "stdout",
     "output_type": "stream",
     "text": [
      "Loading readAssignments file from: /data16/marcus/genomes/elegansRelease100/Caenorhabditis_elegans.WBcel235.100.allChrs.parquet... Done.\n",
      "Looking for files for libraries: ['polyA', 'polyA2', 'polyA3', 'totalRNA2', 'totalRNA3']\n",
      "Looking for file for totalRNA2, at /data16/marcus/working/210720_nanoporeRun_totalRNA_0639_L3_replicate/output_dir/merge_files/*_mergedOnReads.parquet... File Found.\n",
      "Looking for file for polyA, at /data16/marcus/working/210528_NanoporeRun_0639_L3s/output_dir/merge_files/*_mergedOnReads.parquet... File Found.\n",
      "Looking for file for polyA2, at /data16/marcus/working/210719_nanoporeRun_polyA_0639_L3_replicate/output_dir/merge_files/*_mergedOnReads.parquet... File Found.\n",
      "Looking for file for polyA3, at /data16/marcus/working/220131_nanoporeRun_polyA_0639_L3_third/output_dir/merge_files/*_mergedOnReads.parquet... File Found.\n",
      "Looking for file for totalRNA3, at /data16/marcus/working/220131_nanoporeRun_totalRNA_0639_L3_third/output_dir/merge_files/*_mergedOnReads.parquet... File Found.\n",
      "Loading parquet for totalRNA2 lib... Done.\n",
      "'original_chr_pos' column already found in dataframe, skipping adjustment for 5'ends!\n",
      "Loading parquet for polyA lib... Done.\n",
      "'original_chr_pos' column already found in dataframe, skipping adjustment for 5'ends!\n",
      "Loading parquet for polyA2 lib... Done.\n",
      "'original_chr_pos' column already found in dataframe, skipping adjustment for 5'ends!\n",
      "Loading parquet for polyA3 lib... Done.\n",
      "'original_chr_pos' column already found in dataframe, skipping adjustment for 5'ends!\n",
      "Loading parquet for totalRNA3 lib... Done.\n",
      "'original_chr_pos' column already found in dataframe, skipping adjustment for 5'ends!\n",
      "Finished assignment merge!. . .\n",
      "\n",
      "Read counts pre-failed-polyA call drop:   6979180\n",
      "Read counts post-failed-polyA call drop:  5211563\n",
      "Read counts post gene assignment:  5211563\n",
      "Read counts post unassigned drop:  3414832\n",
      "Creating groupby dataframe merged on: ['lib', 'chr_id', 'gene_id', 'gene_name']\n"
     ]
    },
    {
     "name": "stderr",
     "output_type": "stream",
     "text": [
      "100%|██████████| 65002/65002 [00:01<00:00, 59543.10it/s]\n",
      "100%|██████████| 65002/65002 [00:01<00:00, 46269.37it/s]\n",
      "100%|██████████| 65002/65002 [00:01<00:00, 39173.41it/s]\n"
     ]
    },
    {
     "name": "stdout",
     "output_type": "stream",
     "text": [
      "Gene counts pre sub-1 gene_hits drop:  65002\n",
      "Gene counts post sub-1 gene_hits drop:  65002\n",
      "Done.\n"
     ]
    }
   ],
   "source": [
    "libs_to_run = ['polyA', 'polyA2', 'polyA3', 'totalRNA2', 'totalRNA3']\n",
    "reads_df_raw, compressed_df_raw = load_and_merge_lib_parquets(libs_to_run,\n",
    "                                                              drop_sub_n=1,\n",
    "                                                              add_tail_groupings=False,\n",
    "                                                              pass_list_columns=True)\n",
    "compressed_df_raw['lib'] = compressed_df_raw['lib'].replace({'polyA':'polyA1'})\n",
    "print('Done.')"
   ],
   "metadata": {
    "collapsed": false,
    "pycharm": {
     "name": "#%%\n"
    }
   }
  },
  {
   "cell_type": "markdown",
   "source": [
    "### Create a seperated copy of the loaded long-format dataframe. Drop any genes that have less than XX reads in any libs:"
   ],
   "metadata": {
    "collapsed": false
   }
  },
  {
   "cell_type": "code",
   "execution_count": 5,
   "outputs": [],
   "source": [
    "min_hits_all_libs = 40\n",
    "\n",
    "compressed_df = compressed_df_raw.copy()\n",
    "compressed_df = compressed_df.query(f\"gene_hits >= {min_hits_all_libs}\")\n",
    "# Crazy merge call just to show a df which confirms that compressed_df_raw isn't changed!!\n",
    "# print(pd.merge(compressed_df[['lib', 'gene_id', 'gene_hits']],\n",
    "#                compressed_df_raw[['lib', 'gene_id', 'gene_hits']],\n",
    "#                suffixes=('_filtered', '_raw'), \n",
    "#                how='outer', on=['lib', 'gene_id'])\n",
    "#       .sort_values('gene_id').head())"
   ],
   "metadata": {
    "collapsed": false,
    "pycharm": {
     "name": "#%%\n"
    }
   }
  },
  {
   "cell_type": "markdown",
   "source": [
    "### Add a method to turn the long format dataframe into a wide format, allowing for operations lib calculating tail length or read count differences:\n",
    "This will probably be useful for other things, I should move this to the common methods script"
   ],
   "metadata": {
    "collapsed": false
   }
  },
  {
   "cell_type": "code",
   "execution_count": 6,
   "outputs": [],
   "source": [
    "def multilib_long_to_wide_df(long_df,\n",
    "                             transpose_col='lib',\n",
    "                             remerge_cols=('gene_id',\n",
    "                                           'gene_name',\n",
    "                                           'chr_id')):\n",
    "    unique_transpose_values = long_df[transpose_col].unique()\n",
    "    df_holder_dict = {}\n",
    "    for unique_val in unique_transpose_values:\n",
    "        df_holder_dict[unique_val] = long_df.query(f\"{transpose_col} == '{unique_val}'\").drop(columns=[transpose_col])\n",
    "    print(f\"First, merging {unique_transpose_values[0]} & {unique_transpose_values[1]}\")\n",
    "    wide_df = pd.merge(df_holder_dict[unique_transpose_values[0]],\n",
    "                       df_holder_dict[unique_transpose_values[1]],\n",
    "                       on=remerge_cols,\n",
    "                       how='inner',\n",
    "                       suffixes=(f'_{unique_transpose_values[0]}', f'_{unique_transpose_values[1]}'))\n",
    "    if len(unique_transpose_values) > 2:\n",
    "        for unique_val in unique_transpose_values[2:]:\n",
    "            print(f\"Merging {unique_val} into new_df\")\n",
    "            wide_df = wide_df.merge(df_holder_dict[unique_val].add_suffix(f'_{unique_val}'),\n",
    "                                    left_on=['gene_id', 'gene_name', 'chr_id'],\n",
    "                                    right_on=[f\"{col}_{unique_val}\" for col in remerge_cols],\n",
    "                                    how='inner')\n",
    "    # print(new_df.columns)\n",
    "    return wide_df"
   ],
   "metadata": {
    "collapsed": false,
    "pycharm": {
     "name": "#%%\n"
    }
   }
  },
  {
   "cell_type": "markdown",
   "source": [
    "### Create the bins for genes as they are built in the quickPlotThingsForPolyAVstotalRNA.py:\n",
    "This is a roundabout way of creating these bins, but it *appears* to be deterministic compared to the way I did it in the other script!"
   ],
   "metadata": {
    "collapsed": false
   }
  },
  {
   "cell_type": "code",
   "execution_count": 7,
   "outputs": [
    {
     "name": "stdout",
     "output_type": "stream",
     "text": [
      "First, merging polyA2 & polyA3\n",
      "Merging totalRNA2 into new_df\n",
      "Merging totalRNA3 into new_df\n",
      "    chr_id         gene_id   gene_name  binned_diff_of_mean_tail_length_2v3\n",
      "0        I  WBGene00000230       atp-3                                    6\n",
      "1        I  WBGene00000371      cox-5B                                    1\n",
      "2        I  WBGene00000625      col-48                                    8\n",
      "3        I  WBGene00000626      col-49                                    5\n",
      "4        I  WBGene00000639      col-63                                    2\n",
      "..     ...             ...         ...                                  ...\n",
      "584      X  WBGene00020366     acdh-10                                    8\n",
      "585      X  WBGene00021322    Y34B4A.6                                    1\n",
      "586      X  WBGene00022415  Y102A11A.5                                    1\n",
      "587      X  WBGene00022515      ttr-48                                    2\n",
      "588      X  WBGene00022665     ZK154.1                                    2\n",
      "\n",
      "[589 rows x 4 columns]\n",
      "            lib chr_id         gene_id gene_name  gene_hits  mean_polya_length  median_polya_length  mean_read_length  median_read_length                                      polya_lengths                                       read_lengths     gene_rpm  gene_frac_hits  binned_diff_of_mean_tail_length_2v3\n",
      "0        polyA1      I  WBGene00000230     atp-3       1209          67.216981               60.360        842.534326               862.0  [37.48, 73.65, 49.4, 79.65, 34.6, 70.48, 52.71...  [993, 950, 628, 962, 942, 945, 951, 815, 938, ...  1282.730040        0.001283                                    6\n",
      "1        polyA2      I  WBGene00000230     atp-3        779          65.413158               57.330        814.189987               862.0  [43.14, 70.54, 24.23, 32.72, 55.32, 101.48, 46...  [856, 956, 575, 928, 969, 1028, 866, 935, 870,...  1111.077831        0.001111                                    6\n",
      "2        polyA3      I  WBGene00000230     atp-3       1063          69.731157               62.060        841.044214               867.0  [45.32, 51.2, 74.71, 80.46, 42.36, 31.25, 63.3...  [955, 549, 1031, 963, 1063, 951, 962, 1035, 70...  1337.919768        0.001338                                    6\n",
      "3     totalRNA2      I  WBGene00000230     atp-3        385          59.421117               52.580        786.719481               853.0  [100.88, 33.67, 16.31, 91.39, 35.33, 53.61, 62...  [1309, 944, 948, 795, 874, 966, 876, 421, 876,...  1069.578142        0.001070                                    6\n",
      "4     totalRNA3      I  WBGene00000230     atp-3        629          63.922528               54.460        808.124006               862.0  [53.95, 95.62, 37.62, 79.39, 106.28, 48.04, 41...  [459, 819, 652, 541, 942, 949, 941, 1062, 965,...  1019.915099        0.001020                                    6\n",
      "...         ...    ...             ...       ...        ...                ...                  ...               ...                 ...                                                ...                                                ...          ...             ...                                  ...\n",
      "2940     polyA1      X  WBGene00022665   ZK154.1        323          74.469412               70.540        728.882353               729.0  [184.83, 33.32, 32.61, 31.25, 32.21, 38.93, 86...  [2408, 752, 734, 783, 733, 737, 729, 802, 722,...   342.697935        0.000343                                    2\n",
      "2941     polyA2      X  WBGene00022665   ZK154.1        235          77.524809               75.790        715.851064               728.0  [53.83, 56.35, 118.78, 40.12, 74.78, 27.2, 30....  [750, 774, 720, 743, 709, 730, 745, 742, 714, ...   335.177523        0.000335                                    2\n",
      "2942     polyA3      X  WBGene00022665   ZK154.1        173          74.588786               73.540        729.208092               732.0  [107.0, 120.26, 37.3, 60.07, 40.41, 39.0, 50.7...  [749, 794, 747, 724, 809, 803, 792, 724, 727, ...   217.742352        0.000218                                    2\n",
      "2943  totalRNA2      X  WBGene00022665   ZK154.1        100          73.786100               69.535        708.160000               728.0  [57.73, 84.08, 15.33, 51.54, 113.48, 54.3, 95....  [795, 731, 709, 776, 722, 722, 718, 727, 729, ...   277.812504        0.000278                                    2\n",
      "2944  totalRNA3      X  WBGene00022665   ZK154.1        124          73.278710               73.710        719.411290               731.0  [70.82, 92.23, 20.77, 103.93, 12.26, 128.0, 90...  [695, 722, 718, 780, 723, 747, 732, 805, 710, ...   201.064344        0.000201                                    2\n",
      "\n",
      "[2945 rows x 14 columns]\n"
     ]
    }
   ],
   "source": [
    "just_2_and_3_df = compressed_df[compressed_df.lib.isin([\"polyA2\", \"polyA3\", \"totalRNA2\", \"totalRNA3\"])].copy()\n",
    "just_2_and_3_df = just_2_and_3_df.query(\"gene_hits >= 80\")\n",
    "bins_2v3_df = multilib_long_to_wide_df(just_2_and_3_df)\n",
    "for lib_set in [2, 3]:\n",
    "    bins_2v3_df[f\"pA_minus_total_mean_diff_polya_lengths_{lib_set}\"] = (bins_2v3_df[f\"mean_polya_length_polyA{lib_set}\"] -\n",
    "                                                                        bins_2v3_df[f\"mean_polya_length_totalRNA{lib_set}\"])\n",
    "bins_2v3_df[f\"avg_diff_of_mean_tail_length_2v3\"] = (bins_2v3_df[f\"pA_minus_total_mean_diff_polya_lengths_2\"] +\n",
    "                                                    bins_2v3_df[f\"pA_minus_total_mean_diff_polya_lengths_3\"]) / 2\n",
    "bins_2v3_df[f'binned_diff_of_mean_tail_length_2v3'], bins = pd.qcut(bins_2v3_df[f'avg_diff_of_mean_tail_length_2v3'], 10,\n",
    "                                                                    labels=False, retbins=True)\n",
    "bins_2v3_df[f'binned_diff_of_mean_tail_length_2v3'] += 1\n",
    "\n",
    "print(bins_2v3_df[['chr_id', 'gene_id', 'gene_name', 'binned_diff_of_mean_tail_length_2v3']])\n",
    "if 'binned_diff_of_mean_tail_length_2v3' not in compressed_df.columns:\n",
    "    compressed_df = compressed_df.merge(bins_2v3_df[['gene_id', 'binned_diff_of_mean_tail_length_2v3']], on='gene_id')\n",
    "    print(compressed_df)"
   ],
   "metadata": {
    "collapsed": false,
    "pycharm": {
     "name": "#%%\n"
    }
   }
  },
  {
   "cell_type": "markdown",
   "source": [
    "### Below printing to check against my CSVs I sent to Josh!\n",
    "#### (Not important for actual run of this, feel free to skip)"
   ],
   "metadata": {
    "collapsed": false
   }
  },
  {
   "cell_type": "code",
   "execution_count": 9,
   "outputs": [
    {
     "name": "stdout",
     "output_type": "stream",
     "text": [
      "           gene_id   gene_name  avg_diff_of_mean_tail_length_2v3  binned_diff_of_mean_tail_length_2v3\n",
      "0   WBGene00012186      mlt-11                         34.849877                                   10\n",
      "1   WBGene00020022      gldc-1                         33.610278                                   10\n",
      "2   WBGene00010988      metr-1                         26.243489                                   10\n",
      "3   WBGene00019017     F57F4.4                         23.252816                                   10\n",
      "4   WBGene00006921      vha-12                         21.934854                                   10\n",
      "5   WBGene00016422      noah-1                         21.901820                                   10\n",
      "6   WBGene00006912       vha-3                         21.460959                                   10\n",
      "7   WBGene00009628      tatn-1                         20.472004                                   10\n",
      "8   WBGene00006727       ubq-1                         19.728632                                   10\n",
      "9   WBGene00004736       sca-1                         19.060688                                   10\n",
      "10  WBGene00009259      hpo-34                         18.986417                                   10\n",
      "11  WBGene00004336       ret-1                         18.863346                                   10\n",
      "12  WBGene00008205      sams-1                         18.773751                                   10\n",
      "13  WBGene00006626       tsn-1                         18.662483                                   10\n",
      "14  WBGene00013379  Y62E10A.13                         17.741934                                   10\n",
      "15  WBGene00007463      vgln-1                         17.707957                                   10\n",
      "16  WBGene00003891      osm-11                         17.610055                                   10\n",
      "17  WBGene00017998     F33D4.6                         17.054016                                   10\n",
      "18  WBGene00018701      pccb-1                         16.930794                                   10\n",
      "19  WBGene00002083       inf-1                         16.837718                                   10\n",
      "20  WBGene00003511       mxl-3                         16.755847                                   10\n",
      "21  WBGene00018572      lin-42                         16.734419                                   10\n",
      "22  WBGene00015512      mthf-1                         16.682584                                   10\n",
      "23  WBGene00012261       lpr-3                         16.506319                                   10\n",
      "24  WBGene00003962       pdi-1                         16.500340                                   10\n",
      "25  WBGene00002053       ifb-1                         16.242708                                   10\n",
      "26  WBGene00002007       hsp-3                         16.069108                                   10\n",
      "27  WBGene00004357       rho-1                         15.868511                                   10\n",
      "28  WBGene00018138      folt-2                         15.355776                                   10\n",
      "29  WBGene00022856       cth-2                         15.122618                                   10\n",
      "30  WBGene00000040       aco-1                         14.939171                                   10\n",
      "31  WBGene00011480      enpl-1                         14.890049                                   10\n",
      "32  WBGene00006366       sym-1                         14.463935                                   10\n",
      "33  WBGene00019322      ahcy-1                         14.371900                                   10\n",
      "34  WBGene00000915      hsp-90                         14.313420                                   10\n",
      "35  WBGene00003893       ost-1                         14.197777                                   10\n",
      "36  WBGene00001749       gst-1                         14.143889                                   10\n",
      "37  WBGene00017166      aldo-2                         14.036914                                   10\n",
      "38  WBGene00020347     ech-1.2                         13.976825                                   10\n",
      "39  WBGene00000251       bli-1                         13.924593                                   10\n",
      "40  WBGene00022781       pmt-1                         13.799516                                   10\n",
      "41  WBGene00011474      aldo-1                         13.726623                                   10\n",
      "42  WBGene00013238      trap-4                         13.676389                                   10\n",
      "43  WBGene00006789      unc-54                         13.050159                                   10\n",
      "44  WBGene00015814      oatr-1                         13.026564                                   10\n",
      "45  WBGene00000066       act-4                         12.990156                                   10\n",
      "46  WBGene00001971     hmg-1.1                         12.887637                                   10\n",
      "47  WBGene00001909      his-35                         12.863968                                   10\n",
      "48  WBGene00002005       hsp-1                         12.762572                                   10\n",
      "49  WBGene00022235       sqd-1                         12.762146                                   10\n",
      "50  WBGene00006510      mtrr-1                         12.693639                                   10\n",
      "51  WBGene00020808      clik-1                         12.579691                                   10\n",
      "52  WBGene00000065       act-3                         12.442887                                   10\n",
      "53  WBGene00009187     F27D4.1                         12.391970                                   10\n",
      "54  WBGene00022114   Y71F9AL.9                         12.301410                                   10\n",
      "55  WBGene00004143      pqn-59                         12.283529                                   10\n",
      "56  WBGene00001564       icl-1                         12.255147                                   10\n",
      "57  WBGene00004266       rab-1                         12.205252                                   10\n",
      "58  WBGene00009161      cox-7C                         12.146409                                   10\n",
      "           gene_id   gene_name  avg_diff_of_mean_tail_length_2v3  binned_diff_of_mean_tail_length_2v3\n",
      "0   WBGene00001502       ftt-2                         12.103228                                    9\n",
      "1   WBGene00013025      vha-13                         12.049096                                    9\n",
      "2   WBGene00302980     F53E2.2                         12.042455                                    9\n",
      "3   WBGene00007350      sucl-1                         11.989831                                    9\n",
      "4   WBGene00000175       aqp-7                         11.949293                                    9\n",
      "5   WBGene00017075       nap-1                         11.941771                                    9\n",
      "6   WBGene00003495       mup-2                         11.933757                                    9\n",
      "7   WBGene00002264       lec-1                         11.923262                                    9\n",
      "8   WBGene00002273      lec-10                         11.805844                                    9\n",
      "9   WBGene00000784       cpr-4                         11.757635                                    9\n",
      "10  WBGene00015823     C16B8.3                         11.716256                                    9\n",
      "11  WBGene00010419       atp-1                         11.573312                                    9\n",
      "12  WBGene00008506       tkt-1                         11.552010                                    9\n",
      "13  WBGene00012256       lpr-5                         11.542556                                    9\n",
      "14  WBGene00013077      ttr-24                         11.479387                                    9\n",
      "15  WBGene00003990       pfn-2                         11.467577                                    9\n",
      "16  WBGene00012664    Y39B6A.1                         11.444488                                    9\n",
      "17  WBGene00011232       pck-2                         11.358410                                    9\n",
      "18  WBGene00000869       cyc-1                         11.351214                                    9\n",
      "19  WBGene00001239       elo-1                         11.344432                                    9\n",
      "20  WBGene00017591     F19C7.1                         11.338729                                    9\n",
      "21  WBGene00000229       atp-2                         11.316858                                    9\n",
      "22  WBGene00001426       fkb-1                         11.299609                                    9\n",
      "23  WBGene00000067       act-5                         11.297649                                    9\n",
      "24  WBGene00006536       tbb-1                         11.281977                                    9\n",
      "25  WBGene00004930       sod-1                         11.191513                                    9\n",
      "26  WBGene00017984     F32D1.5                         11.163186                                    9\n",
      "27  WBGene00001038      dnj-20                         11.092261                                    9\n",
      "28  WBGene00020275       atp-4                         11.057024                                    9\n",
      "29  WBGene00003920       par-5                         11.012890                                    9\n",
      "30  WBGene00021952      vha-19                         10.977259                                    9\n",
      "31  WBGene00006754      unc-15                         10.976657                                    9\n",
      "32  WBGene00021248  Y22D7AL.10                         10.975536                                    9\n",
      "33  WBGene00006528       tba-1                         10.974781                                    9\n",
      "34  WBGene00008446     E01G4.3                         10.821543                                    9\n",
      "35  WBGene00012608      hphd-1                         10.698522                                    9\n",
      "36  WBGene00009723     F45D3.3                         10.673010                                    9\n",
      "37  WBGene00013311      sec-61                         10.663581                                    9\n",
      "38  WBGene00001423       fib-1                         10.643953                                    9\n",
      "39  WBGene00007934     C34E7.4                         10.642186                                    9\n",
      "40  WBGene00001684       gpd-2                         10.621575                                    9\n",
      "41  WBGene00021286      tald-1                         10.461963                                    9\n",
      "42  WBGene00001604       gln-3                         10.441354                                    9\n",
      "43  WBGene00001716       grl-7                         10.434647                                    9\n",
      "44  WBGene00014253    ZK1320.3                         10.235816                                    9\n",
      "45  WBGene00001000       dim-1                         10.211456                                    9\n",
      "46  WBGene00003369       mlc-1                         10.172138                                    9\n",
      "47  WBGene00000114       alh-8                         10.156523                                    9\n",
      "48  WBGene00006537       tbb-2                         10.101189                                    9\n",
      "49  WBGene00019272    H42K12.3                          9.927088                                    9\n",
      "50  WBGene00006819      unc-87                          9.850928                                    9\n",
      "51  WBGene00014244    ZK1307.1                          9.805074                                    9\n",
      "52  WBGene00000883       cyn-7                          9.764389                                    9\n",
      "53  WBGene00014183    ZK1025.3                          9.726342                                    9\n",
      "54  WBGene00012158     ucr-2.1                          9.715102                                    9\n",
      "55  WBGene00021427   Y38F2AR.9                          9.686652                                    9\n",
      "56  WBGene00022748       oaz-1                          9.629796                                    9\n",
      "57  WBGene00000668      col-93                          9.628989                                    9\n",
      "58  WBGene00016918      test-1                          9.581225                                    9\n",
      "           gene_id   gene_name  avg_diff_of_mean_tail_length_2v3  binned_diff_of_mean_tail_length_2v3\n",
      "0   WBGene00018519     F46H5.3                          9.576133                                    8\n",
      "1   WBGene00008707     F11E6.3                          9.567482                                    8\n",
      "2   WBGene00011128     R07H5.8                          9.512041                                    8\n",
      "3   WBGene00018963       ucr-1                          9.418682                                    8\n",
      "4   WBGene00018811       pmt-2                          9.415024                                    8\n",
      "5   WBGene00022072       cpg-9                          9.320176                                    8\n",
      "6   WBGene00000063       act-1                          9.198229                                    8\n",
      "7   WBGene00009051      nduf-6                          9.164977                                    8\n",
      "8   WBGene00012094     T27E9.2                          9.150235                                    8\n",
      "9   WBGene00000552       cmd-1                          9.100063                                    8\n",
      "10  WBGene00012768    eef-1B.2                          9.100013                                    8\n",
      "11  WBGene00016630      acer-1                          9.068265                                    8\n",
      "12  WBGene00044109   K02E11.10                          9.061821                                    8\n",
      "13  WBGene00019061    F58F12.1                          9.054157                                    8\n",
      "14  WBGene00007385       atp-5                          9.038177                                    8\n",
      "15  WBGene00000733     col-160                          9.001121                                    8\n",
      "16  WBGene00003831       nuo-1                          8.992843                                    8\n",
      "17  WBGene00004120      pqn-32                          8.987660                                    8\n",
      "18  WBGene00009983       cut-2                          8.987490                                    8\n",
      "19  WBGene00009926      noah-2                          8.921450                                    8\n",
      "20  WBGene00000779       cpn-3                          8.907081                                    8\n",
      "21  WBGene00003963       pdi-2                          8.884046                                    8\n",
      "22  WBGene00001169    eef-1A.2                          8.877331                                    8\n",
      "23  WBGene00016655      acbp-1                          8.847637                                    8\n",
      "24  WBGene00016892      pgph-3                          8.843102                                    8\n",
      "25  WBGene00010904      ugt-62                          8.824160                                    8\n",
      "26  WBGene00003214      mel-32                          8.811044                                    8\n",
      "27  WBGene00008505     F01G4.6                          8.794699                                    8\n",
      "28  WBGene00003902       pab-1                          8.744895                                    8\n",
      "29  WBGene00022680     ZK180.6                          8.738556                                    8\n",
      "30  WBGene00008572    F08B12.4                          8.718784                                    8\n",
      "31  WBGene00006919      vha-10                          8.673326                                    8\n",
      "32  WBGene00006924       vig-1                          8.565722                                    8\n",
      "33  WBGene00007630       har-1                          8.530424                                    8\n",
      "34  WBGene00000732     col-159                          8.493304                                    8\n",
      "35  WBGene00020366     acdh-10                          8.468662                                    8\n",
      "36  WBGene00011884      enol-1                          8.465994                                    8\n",
      "37  WBGene00022679     ZK180.5                          8.463562                                    8\n",
      "38  WBGene00018237       irg-7                          8.449286                                    8\n",
      "39  WBGene00001331     erd-2.1                          8.347813                                    8\n",
      "40  WBGene00002978      lev-11                          8.341050                                    8\n",
      "41  WBGene00021625   Y47D7A.13                          8.331672                                    8\n",
      "42  WBGene00001794       gta-1                          8.317902                                    8\n",
      "43  WBGene00022089  Y69A2AR.18                          8.317051                                    8\n",
      "44  WBGene00017727    F22H10.3                          8.316515                                    8\n",
      "45  WBGene00010317       idh-1                          8.291911                                    8\n",
      "46  WBGene00009787     F46F2.3                          8.241622                                    8\n",
      "47  WBGene00011273       R53.4                          8.233515                                    8\n",
      "48  WBGene00002065       iff-2                          8.205245                                    8\n",
      "49  WBGene00019760      calu-1                          8.199285                                    8\n",
      "50  WBGene00014095       gdh-1                          8.188320                                    8\n",
      "51  WBGene00000207       asb-2                          8.183450                                    8\n",
      "52  WBGene00009688     F44E5.1                          8.148066                                    8\n",
      "53  WBGene00009454     F36A2.7                          8.111670                                    8\n",
      "54  WBGene00000625      col-48                          8.105797                                    8\n",
      "55  WBGene00020146     got-1.2                          8.074656                                    8\n",
      "56  WBGene00003090       lys-1                          8.070919                                    8\n",
      "57  WBGene00006408      tag-18                          8.062829                                    8\n",
      "58  WBGene00000183       arf-3                          8.060354                                    8\n",
      "           gene_id  gene_name  avg_diff_of_mean_tail_length_2v3  binned_diff_of_mean_tail_length_2v3\n",
      "0   WBGene00018151   F37C12.3                          8.048843                                    7\n",
      "1   WBGene00001243      elo-5                          7.876246                                    7\n",
      "2   WBGene00000041      aco-2                          7.874485                                    7\n",
      "3   WBGene00017759     sucl-2                          7.835857                                    7\n",
      "4   WBGene00007142     ttr-18                          7.828748                                    7\n",
      "5   WBGene00015803    C15H9.9                          7.771833                                    7\n",
      "6   WBGene00019619     asp-14                          7.676700                                    7\n",
      "7   WBGene00021641  Y47G6A.15                          7.668556                                    7\n",
      "8   WBGene00006439    ant-1.1                          7.666756                                    7\n",
      "9   WBGene00001775     gst-27                          7.653354                                    7\n",
      "10  WBGene00001167      eef-2                          7.639010                                    7\n",
      "11  WBGene00009119      ndk-1                          7.635452                                    7\n",
      "12  WBGene00000833      cts-1                          7.565907                                    7\n",
      "13  WBGene00016594    C42D4.1                          7.558464                                    7\n",
      "14  WBGene00004398      rol-8                          7.519289                                    7\n",
      "15  WBGene00003658     nhr-68                          7.508276                                    7\n",
      "16  WBGene00001725     grl-16                          7.478902                                    7\n",
      "17  WBGene00000252      bli-2                          7.433580                                    7\n",
      "18  WBGene00003057      lon-3                          7.347441                                    7\n",
      "19  WBGene00016258     vha-16                          7.345235                                    7\n",
      "20  WBGene00004433     rpl-21                          7.316215                                    7\n",
      "21  WBGene00002183      kat-1                          7.295973                                    7\n",
      "22  WBGene00001993      hpd-1                          7.250500                                    7\n",
      "23  WBGene00021420     trap-3                          7.250104                                    7\n",
      "24  WBGene00012257      lpr-4                          7.249992                                    7\n",
      "25  WBGene00017765     gcst-1                          7.242826                                    7\n",
      "26  WBGene00001137      eat-6                          7.225008                                    7\n",
      "27  WBGene00011510     pdha-1                          7.208592                                    7\n",
      "28  WBGene00006587      tnt-2                          7.195452                                    7\n",
      "29  WBGene00001244      elo-6                          7.186200                                    7\n",
      "30  WBGene00012354      cox-4                          7.133307                                    7\n",
      "31  WBGene00002891    let-767                          7.131253                                    7\n",
      "32  WBGene00015248      mai-2                          7.110200                                    7\n",
      "33  WBGene00001430      fkb-5                          7.106107                                    7\n",
      "34  WBGene00001073     dpy-11                          7.053863                                    7\n",
      "35  WBGene00002162      isp-1                          7.029355                                    7\n",
      "36  WBGene00001398      fat-6                          6.989673                                    7\n",
      "37  WBGene00000785      cpr-5                          6.955821                                    7\n",
      "38  WBGene00000683    col-109                          6.949919                                    7\n",
      "39  WBGene00000601     col-12                          6.919628                                    7\n",
      "40  WBGene00000717    col-144                          6.860884                                    7\n",
      "41  WBGene00002255      lbp-3                          6.849602                                    7\n",
      "42  WBGene00006529      tba-2                          6.842600                                    7\n",
      "43  WBGene00019301   K02D10.1                          6.810893                                    7\n",
      "44  WBGene00017734    F23C8.5                          6.800412                                    7\n",
      "45  WBGene00001685      gpd-3                          6.796035                                    7\n",
      "46  WBGene00019540   K08D12.6                          6.763288                                    7\n",
      "47  WBGene00006433     sdhb-1                          6.748551                                    7\n",
      "48  WBGene00004416      rpl-5                          6.670256                                    7\n",
      "49  WBGene00013463      kdp-1                          6.650298                                    7\n",
      "50  WBGene00006915      vha-6                          6.634018                                    7\n",
      "51  WBGene00000748    col-175                          6.556028                                    7\n",
      "52  WBGene00002045      icd-1                          6.549899                                    7\n",
      "53  WBGene00005018      sqt-3                          6.547372                                    7\n",
      "54  WBGene00000599     col-10                          6.541368                                    7\n",
      "55  WBGene00006956     wrt-10                          6.500941                                    7\n",
      "56  WBGene00003588      nex-1                          6.489129                                    7\n",
      "57  WBGene00003953      pbs-7                          6.456521                                    7\n",
      "58  WBGene00000699    col-125                          6.393234                                    7\n"
     ]
    }
   ],
   "source": [
    "\n",
    "col_list = [\"gene_id\", \"gene_name\", \"avg_diff_of_mean_tail_length_2v3\", \"binned_diff_of_mean_tail_length_2v3\"]\n",
    "for tail_diff_bin in [10, 9, 8, 7]:\n",
    "    temp_df = bins_2v3_df.query(f\"binned_diff_of_mean_tail_length_2v3 == {tail_diff_bin}\")\n",
    "    temp_df = temp_df[col_list]\n",
    "    temp_df = temp_df.sort_values('avg_diff_of_mean_tail_length_2v3', ascending=False).reset_index(drop=True)\n",
    "    print(temp_df)\n",
    "    # temp_df.to_csv(f\"/home/marcus/Documents/220218_bin{bin}genes.tsv\", sep=\"\\t\", index=False)"
   ],
   "metadata": {
    "collapsed": false,
    "pycharm": {
     "name": "#%%\n"
    }
   }
  },
  {
   "cell_type": "markdown",
   "source": [
    "### Do the work of expanding on tail lengths and subsampling each list of polyA tail lengths to get an equal number for each library / gene\n",
    "*This is definitely an inefficient way to do this... but it was the quickest solution to write for me!*"
   ],
   "metadata": {
    "collapsed": false
   }
  },
  {
   "cell_type": "code",
   "execution_count": 46,
   "outputs": [
    {
     "data": {
      "text/plain": "  0%|          | 0/589 [00:00<?, ?it/s]",
      "application/vnd.jupyter.widget-view+json": {
       "version_major": 2,
       "version_minor": 0,
       "model_id": "a140e0434a9a4dbc861e164977c7132f"
      }
     },
     "metadata": {},
     "output_type": "display_data"
    },
    {
     "name": "stdout",
     "output_type": "stream",
     "text": [
      "        lib_type lib_set         gene_id        lib gene_name    gene_rpm  mean_polya_length polya_lengths  binned_diff_of_mean_tail_length_2v3\n",
      "0          polyA       1  WBGene00019680     polyA1   K12H4.5  336.332029          66.369401         42.28                                    4\n",
      "1          polyA       1  WBGene00019680     polyA1   K12H4.5  336.332029          66.369401         51.69                                    4\n",
      "2          polyA       1  WBGene00019680     polyA1   K12H4.5  336.332029          66.369401        225.57                                    4\n",
      "3          polyA       1  WBGene00019680     polyA1   K12H4.5  336.332029          66.369401         64.32                                    4\n",
      "4          polyA       1  WBGene00019680     polyA1   K12H4.5  336.332029          66.369401         68.72                                    4\n",
      "...          ...     ...             ...        ...       ...         ...                ...           ...                                  ...\n",
      "117795  totalRNA       3  WBGene00000669  totalRNA3    col-94  463.745180          57.348497         36.81                                    4\n",
      "117796  totalRNA       3  WBGene00000669  totalRNA3    col-94  463.745180          57.348497          58.0                                    4\n",
      "117797  totalRNA       3  WBGene00000669  totalRNA3    col-94  463.745180          57.348497         93.35                                    4\n",
      "117798  totalRNA       3  WBGene00000669  totalRNA3    col-94  463.745180          57.348497          76.5                                    4\n",
      "117799  totalRNA       3  WBGene00000669  totalRNA3    col-94  463.745180          57.348497          82.3                                    4\n",
      "\n",
      "[117800 rows x 9 columns]\n",
      "         lib_type lib_set         gene_id    gene_rpm polya_lengths  binned_diff_of_mean_tail_length_2v3\n",
      "0           polyA       1  WBGene00000040  229.172613          56.4                                   10\n",
      "1           polyA       1  WBGene00000040  229.172613         70.15                                   10\n",
      "2           polyA       1  WBGene00000040  229.172613         58.75                                   10\n",
      "3           polyA       1  WBGene00000040  229.172613         71.32                                   10\n",
      "4           polyA       1  WBGene00000040  229.172613          44.8                                   10\n",
      "...           ...     ...             ...         ...           ...                                  ...\n",
      "2268553  totalRNA       3  WBGene00303023  233.494077         26.74                                    3\n",
      "2268554  totalRNA       3  WBGene00303023  233.494077         38.88                                    3\n",
      "2268555  totalRNA       3  WBGene00303023  233.494077         87.36                                    3\n",
      "2268556  totalRNA       3  WBGene00303023  233.494077         61.58                                    3\n",
      "2268557  totalRNA       3  WBGene00303023  233.494077        120.54                                    3\n",
      "\n",
      "[2268558 rows x 6 columns]\n"
     ]
    }
   ],
   "source": [
    "def subsample_per_gene(compressed_df_with_tails_list, subsampled_tails_per_gene=20,\n",
    "                       replacement=False) -> (pd.DataFrame, pd.DataFrame):\n",
    "    from tqdm.notebook import tqdm\n",
    "    temp_compressed_df = compressed_df_with_tails_list.copy()\n",
    "    temp_compressed_df[\"lib_set\"] = temp_compressed_df.lib.str[-1]\n",
    "    temp_compressed_df[\"lib_type\"] = temp_compressed_df.lib.str[:-1]\n",
    "    exploded_on_tails_df = temp_compressed_df.explode(['polya_lengths', 'read_lengths']).reset_index(drop=True)\n",
    "    \n",
    "    new_index_list = ['lib_type', 'lib_set', 'gene_id']\n",
    "    if new_index_list[0] in exploded_on_tails_df.columns:\n",
    "        exploded_on_tails_df.set_index(new_index_list, inplace=True)\n",
    "    exploded_on_tails_df.sort_index(inplace=True)\n",
    "    exploded_on_tails_df = exploded_on_tails_df.filter(\n",
    "        ['lib', 'gene_name', 'gene_rpm', 'mean_polya_length', 'polya_lengths', 'binned_diff_of_mean_tail_length_2v3'])\n",
    "    genes_list = set(exploded_on_tails_df.index.get_level_values('gene_id').to_list())\n",
    "    genes_iterator = tqdm(genes_list)\n",
    "    sub_sample_per_gene_lib_set_list = []\n",
    "    for i, gene in enumerate(genes_iterator):\n",
    "        genes_iterator.set_description(f\"Subsampling to {subsampled_tails_per_gene} tails/gene; working on {gene}\")\n",
    "        for lib_type in ['polyA', 'totalRNA']:\n",
    "            for lib_set in ['1', '2', '3']:\n",
    "                if f\"{lib_type}{lib_set}\" == \"totalRNA1\":\n",
    "                    continue\n",
    "                sub_sample_per_gene_lib_set_list.append(\n",
    "                    exploded_on_tails_df.loc[(lib_type, lib_set, gene), :].sample(n=subsampled_tails_per_gene, replace=replacement))\n",
    "    sub_sample_per_gene_df = pd.concat(sub_sample_per_gene_lib_set_list).reset_index()\n",
    "    return exploded_on_tails_df, sub_sample_per_gene_df\n",
    "\n",
    "\n",
    "re_expanded_df, sub_sample_per_gene_lib_set_df =  subsample_per_gene(compressed_df,\n",
    "                                                                     subsampled_tails_per_gene=40,\n",
    "                                                                     replacement=False)\n",
    "re_expanded_df.reset_index(inplace=True)\n",
    "print(sub_sample_per_gene_lib_set_df)\n",
    "print(re_expanded_df[['lib_type', 'lib_set', 'gene_id', 'gene_rpm', 'polya_lengths', 'binned_diff_of_mean_tail_length_2v3']])"
   ],
   "metadata": {
    "collapsed": false,
    "pycharm": {
     "name": "#%%\n"
    }
   }
  },
  {
   "cell_type": "code",
   "execution_count": 47,
   "outputs": [
    {
     "name": "stderr",
     "output_type": "stream",
     "text": [
      "/usr/local/lib/python3.8/dist-packages/pandas/util/_decorators.py:311: SettingWithCopyWarning:\n",
      "\n",
      "\n",
      "A value is trying to be set on a copy of a slice from a DataFrame\n",
      "\n",
      "See the caveats in the documentation: https://pandas.pydata.org/pandas-docs/stable/user_guide/indexing.html#returning-a-view-versus-a-copy\n",
      "\n",
      "/tmp/ipykernel_265132/4182640323.py:10: SettingWithCopyWarning:\n",
      "\n",
      "\n",
      "A value is trying to be set on a copy of a slice from a DataFrame.\n",
      "Try using .loc[row_indexer,col_indexer] = value instead\n",
      "\n",
      "See the caveats in the documentation: https://pandas.pydata.org/pandas-docs/stable/user_guide/indexing.html#returning-a-view-versus-a-copy\n",
      "\n"
     ]
    },
    {
     "name": "stdout",
     "output_type": "stream",
     "text": [
      "done.\n"
     ]
    }
   ],
   "source": [
    "import plotly.io as pio\n",
    "pio.renderers.default = \"browser\"\n",
    "\n",
    "# This step removes all subsampling...:\n",
    "# plot_df = re_expanded_df\n",
    "plot_df = sub_sample_per_gene_lib_set_df.copy()\n",
    "\n",
    "plot_df = plot_df[plot_df.binned_diff_of_mean_tail_length_2v3.isin([1, 5, 10])]\n",
    "plot_df.sort_values(['binned_diff_of_mean_tail_length_2v3', 'lib_set'], inplace=True)\n",
    "plot_df['binned_diff_of_mean_tail_length_2v3'] = plot_df['binned_diff_of_mean_tail_length_2v3'].astype('category')\n",
    "fig = px.violin(plot_df,\n",
    "                x='binned_diff_of_mean_tail_length_2v3',\n",
    "                # facet_row='lib_set',\n",
    "                color='lib',\n",
    "                y='polya_lengths',\n",
    "                log_y=True,\n",
    "                width=1150,\n",
    "                height=850,\n",
    "                range_y=(1, 400),\n",
    "                labels={'binned_diff_of_mean_tail_length_2v3': 'bin'})\n",
    "fig.update_traces(meanline_visible=True,\n",
    "                  # points='all',  # show all points\n",
    "                  # side='positive',\n",
    "                  spanmode='hard',\n",
    "                  # pointpos=-0.1,  # could maybe go back to both sides and zero this...\n",
    "                  # marker=dict(opacity=0.5),\n",
    "                  # # jitter=0.05,  # add some jitter on points for better visibility\n",
    "                  # scalemode='width',  # scale violin plot area with total count\n",
    "                  )\n",
    "fig.update_layout(template='plotly_white')\n",
    "fig.update_xaxes(ticktext=[\"bin1\", \"bin5\", \"bin10\"],\n",
    "                 tickvals=[1,5,10])\n",
    "fig.show()\n",
    "#fig.write_image('../testOutputs/220221_deleteme.png')\n",
    "print('done.')"
   ],
   "metadata": {
    "collapsed": false,
    "pycharm": {
     "name": "#%%\n"
    }
   }
  },
  {
   "cell_type": "markdown",
   "source": [
    "### Extra analysis to look at if two technical replicates of polyA-selection are at all stratified by the delta-tail-bins"
   ],
   "metadata": {
    "collapsed": false
   }
  },
  {
   "cell_type": "code",
   "execution_count": 36,
   "outputs": [
    {
     "name": "stdout",
     "output_type": "stream",
     "text": [
      "First, merging polyA1 & polyA2\n",
      "    chr_id         gene_id   gene_name  log2_pA1_over_pA2_rpm  binned_diff_of_mean_tail_length_2v3\n",
      "0        I  WBGene00000230       atp-3               0.207258                                    6\n",
      "1        I  WBGene00000371      cox-5B               0.050617                                    1\n",
      "2        I  WBGene00000625      col-48               0.189326                                    8\n",
      "3        I  WBGene00000626      col-49               0.177597                                    5\n",
      "4        I  WBGene00000639      col-63               0.303883                                    2\n",
      "..     ...             ...         ...                    ...                                  ...\n",
      "584      X  WBGene00020366     acdh-10               0.449990                                    8\n",
      "585      X  WBGene00021322    Y34B4A.6               0.115666                                    1\n",
      "586      X  WBGene00022415  Y102A11A.5               0.047376                                    1\n",
      "587      X  WBGene00022515      ttr-48              -0.338730                                    2\n",
      "588      X  WBGene00022665     ZK154.1               0.032012                                    2\n",
      "\n",
      "[589 rows x 5 columns]\n"
     ]
    }
   ],
   "source": [
    "just_pA1_and_pA2_df = compressed_df[compressed_df.lib.isin([\"polyA1\", \"polyA2\"])].copy()\n",
    "\n",
    "# print(just_pA1_and_pA2_df)\n",
    "just_pA1_and_pA2_df = just_pA1_and_pA2_df.query(\"gene_hits >= 80\")[[\"lib\", \"chr_id\", \"gene_id\", \"gene_name\", \"gene_hits\", \"mean_polya_length\", \"mean_read_length\", \"gene_rpm\", \"binned_diff_of_mean_tail_length_2v3\"]]\n",
    "wide_pA1_and_pA2_df = multilib_long_to_wide_df(just_pA1_and_pA2_df, remerge_cols=(\"chr_id\", \"gene_id\", \"gene_name\", \"binned_diff_of_mean_tail_length_2v3\"))\n",
    "# print(wide_pA1_and_pA2_df)\n",
    "\n",
    "wide_pA1_and_pA2_df[f\"pA1_over_pA2_rpm\"] = (wide_pA1_and_pA2_df[f\"gene_rpm_polyA1\"] /\n",
    "                                                            wide_pA1_and_pA2_df[f\"gene_rpm_polyA2\"])\n",
    "wide_pA1_and_pA2_df['log2_pA1_over_pA2_rpm'] = np.log2(wide_pA1_and_pA2_df[f\"pA1_over_pA2_rpm\"])\n",
    "print(wide_pA1_and_pA2_df[[\"chr_id\", \"gene_id\", \"gene_name\", \"log2_pA1_over_pA2_rpm\", \"binned_diff_of_mean_tail_length_2v3\"]])\n",
    "fig = px.ecdf(wide_pA1_and_pA2_df.sort_values(f'binned_diff_of_mean_tail_length_2v3'),\n",
    "              x=f\"log2_pA1_over_pA2_rpm\",\n",
    "              color=f'binned_diff_of_mean_tail_length_2v3',\n",
    "              color_discrete_sequence=px.colors.sample_colorscale(px.colors.diverging.Portland,\n",
    "                                                                  [(x/10) for x in range(1, 10+1)]),\n",
    "              hover_name=\"gene_name\")\n",
    "fig.update_layout(template='plotly_white')\n",
    "fig.show()"
   ],
   "metadata": {
    "collapsed": false,
    "pycharm": {
     "name": "#%%\n"
    }
   }
  }
 ],
 "metadata": {
  "kernelspec": {
   "display_name": "Python 3",
   "language": "python",
   "name": "python3"
  },
  "language_info": {
   "codemirror_mode": {
    "name": "ipython",
    "version": 2
   },
   "file_extension": ".py",
   "mimetype": "text/x-python",
   "name": "python",
   "nbconvert_exporter": "python",
   "pygments_lexer": "ipython2",
   "version": "2.7.6"
  }
 },
 "nbformat": 4,
 "nbformat_minor": 0
}