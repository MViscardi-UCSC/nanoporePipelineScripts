{
 "cells": [
  {
   "cell_type": "markdown",
   "source": [
    "# readsMappingToProteinCoding.ipynb\n",
    "### Marcus Viscardi,    April 12, 2022\n"
   ],
   "metadata": {
    "collapsed": false,
    "pycharm": {
     "name": "#%% md\n"
    }
   }
  },
  {
   "cell_type": "code",
   "execution_count": 1,
   "metadata": {
    "collapsed": true,
    "pycharm": {
     "name": "#%%\n"
    }
   },
   "outputs": [
    {
     "name": "stdout",
     "output_type": "stream",
     "text": [
      "Imports complete.\n"
     ]
    }
   ],
   "source": [
    "import pandas as pd\n",
    "pd.set_option('display.width', 200)\n",
    "pd.set_option('display.max_columns', None)\n",
    "import seaborn as sea\n",
    "import matplotlib.pyplot as plt\n",
    "import plotly.express as px\n",
    "import plotly.graph_objects as go\n",
    "import numpy as np\n",
    "\n",
    "from nanoporePipelineCommon import load_and_merge_lib_parquets, get_dt\n",
    "print(\"Imports complete.\")"
   ]
  },
  {
   "cell_type": "code",
   "execution_count": 2,
   "outputs": [
    {
     "name": "stdout",
     "output_type": "stream",
     "text": [
      "Loading readAssignments file from: /data16/marcus/genomes/elegansRelease100/Caenorhabditis_elegans.WBcel235.100.allChrs.parquet... Done.\n",
      "Looking for files for libraries: ['polyA', 'polyA2', 'polyA3', 'totalRNA2', 'totalRNA3']\n",
      "Looking for file for totalRNA2, at /data16/marcus/working/210720_nanoporeRun_totalRNA_0639_L3_replicate/output_dir/merge_files/*_mergedOnReads.parquet... File Found.\n",
      "Looking for file for polyA, at /data16/marcus/working/210528_NanoporeRun_0639_L3s/output_dir/merge_files/*_mergedOnReads.parquet... File Found.\n",
      "Looking for file for polyA2, at /data16/marcus/working/210719_nanoporeRun_polyA_0639_L3_replicate/output_dir/merge_files/*_mergedOnReads.parquet... File Found.\n",
      "Looking for file for polyA3, at /data16/marcus/working/220131_nanoporeRun_polyA_0639_L3_third/output_dir/merge_files/*_mergedOnReads.parquet... File Found.\n",
      "Looking for file for totalRNA3, at /data16/marcus/working/220131_nanoporeRun_totalRNA_0639_L3_third/output_dir/merge_files/*_mergedOnReads.parquet... File Found.\n",
      "Loading parquet for totalRNA2 lib... Done.\n",
      "'original_chr_pos' column already found in dataframe, skipping adjustment for 5'ends!\n",
      "Loading parquet for polyA lib... Done.\n",
      "'original_chr_pos' column already found in dataframe, skipping adjustment for 5'ends!\n",
      "Loading parquet for polyA2 lib... Done.\n",
      "'original_chr_pos' column already found in dataframe, skipping adjustment for 5'ends!\n",
      "Loading parquet for polyA3 lib... Done.\n",
      "'original_chr_pos' column already found in dataframe, skipping adjustment for 5'ends!\n",
      "Loading parquet for totalRNA3 lib... Done.\n",
      "'original_chr_pos' column already found in dataframe, skipping adjustment for 5'ends!\n",
      "Finished assignment merge!. . .\n",
      "Creating groupby dataframe merged on: ['lib', 'chr_id', 'gene_id', 'gene_name']\n"
     ]
    },
    {
     "name": "stderr",
     "output_type": "stream",
     "text": [
      "Counting reads per gene: 100%|██████████| 67665/67665 [00:01<00:00, 60247.57it/s] \n",
      "Storing polyA lengths as lists: 100%|██████████| 67665/67665 [00:01<00:00, 46869.83it/s]\n",
      "Storing read lengths as lists: 100%|██████████| 67665/67665 [00:01<00:00, 42422.39it/s]\n"
     ]
    },
    {
     "name": "stdout",
     "output_type": "stream",
     "text": [
      "Gene counts pre sub-1 gene_hits drop:  67665\n",
      "Gene counts post sub-1 gene_hits drop:  67665\n",
      "Done.\n"
     ]
    }
   ],
   "source": [
    "libs_to_run = ['polyA',\n",
    "               'polyA2',\n",
    "               'polyA3',\n",
    "               'totalRNA2',\n",
    "               'totalRNA3',\n",
    "               ]\n",
    "reads_df_raw, compressed_df_raw = load_and_merge_lib_parquets(libs_to_run,\n",
    "                                                              drop_unassigned=False,\n",
    "                                                              drop_failed_polya=False,\n",
    "                                                              drop_sub_n=1,\n",
    "                                                              add_tail_groupings=False,\n",
    "                                                              pass_list_columns=True)\n",
    "compressed_df_raw['lib'] = compressed_df_raw['lib'].replace({'polyA':'polyA1',\n",
    "                                                             'totalRNA': 'totalRNA1'})\n",
    "print('Done.')"
   ],
   "metadata": {
    "collapsed": false,
    "pycharm": {
     "name": "#%%\n"
    }
   }
  },
  {
   "cell_type": "code",
   "execution_count": 3,
   "outputs": [
    {
     "name": "stdout",
     "output_type": "stream",
     "text": [
      "Done.\n"
     ]
    }
   ],
   "source": [
    "compressed_df = compressed_df_raw.copy()\n",
    "reads_df = reads_df_raw.copy()\n",
    "\n",
    "print(\"Done.\")"
   ],
   "metadata": {
    "collapsed": false,
    "pycharm": {
     "name": "#%%\n"
    }
   }
  },
  {
   "cell_type": "code",
   "execution_count": 4,
   "outputs": [
    {
     "data": {
      "text/plain": "                lib                               read_id chr_id   chr_pos         gene_id  gene_name                                              cigar                                           sequence  polya_length strand  read_length\n0         totalRNA2  9b92d0c5-4174-49b7-9382-b939b009a3c5      I      2890             NaN        NaN  12S14M2D15M1D8M2I29M1D2M2D3M1D37M2D18M99N9M1D2...  AGTTTAACCAAGTTTCTGGATGTCCCTATAAACGATGTCAATCTGC...         73.78    NaN          387\n1         totalRNA2  ee82ec5d-08b2-4cb6-97d0-fc24e50a0428      I     10233             NaN        NaN  6S27M2D4M3D8M4D2M1D18M2I25M1D13M1D7M2D9M3D16M1...  GCTTTTTAAAATATTGCTTAACATTTATTTAACAAATGCGAACACG...        172.05    NaN          886\n2         totalRNA2  b1128d26-5c93-4be5-b2e9-99ec19922060      I     10152  WBGene00022277     homt-1  87S21M1D6M1D9M2I17M1I5M2D27M1D18M1I10M2I30M3D8...  TTGGTAGGATGGTGTAGGTGTTGGGATATGGATATGTAAGTATGGA...           NaN      -          896\n3         totalRNA2  8dd82c33-7f9a-4790-86d3-548b50492fb6      I     10233             NaN        NaN  6S18M1D15M1D9M2D9M1I11M1D16M1D2M1D7M2D20M1D5M2...  GCTTTTAATATTGCTTAACGATTATTAACAGAAATAACGGAGCACG...           NaN    NaN          872\n4         totalRNA2  9e4ab09a-05b3-42e6-bb8b-b4b08526aa72      I     10229  WBGene00022277     homt-1  3S18M1D28M2D3M1I14M1D10M1I9M3I8M2D20M1I38M3I24...  GCTAATATTGCTTAACGATTATTAACAGAAATAACGTGAGCACGCA...         50.41      -          894\n...             ...                                   ...    ...       ...             ...        ...                                                ...                                                ...           ...    ...          ...\n12320956  totalRNA3  c837f826-cbb6-48ff-9495-353568e0a01a      X  17717386  WBGene00007068  cTel55X.1  1S17M2D3M1D10M2D16M2I7M991N5M1I12M1D6M1I7M2D12...  GTTTCAACCAGCGCCATCCAAGAAATCGCTGTTTGTGACGCTCTAC...         23.39      +          403\n12320958  totalRNA3  4e388e70-86fb-4599-ae39-572e0e562755      X  17717405  WBGene00007068  cTel55X.1  2S27M4D8M991N8M1I8M6D6M1D2M3D1M1D9M2D27M1I12M1...  TCCAAGGGAATCGCTGTTTTTGTGACGCTTTGATTGACCTCCATTC...         88.37      +          392\n12320960  totalRNA3  afe00eaa-7f6b-42b7-914b-78bcb57727bc      X  17717406  WBGene00007068  cTel55X.1  13M2D15M1I8M991N14M2I9M1D4M1D45M3I6M2I26M1D4M3...  AAGGGAATCGCTGTTTGTGACGCACTACAAAGTTTGACCTCCATTA...           NaN      +          404\n12320962  totalRNA3  980827e3-c41d-4109-a0fb-90cc0a13de47      X  17718435  WBGene00007068  cTel55X.1  56S15M1D13M1I17M2I2M1I14M1D29M2D28M1D6M2I2M1I3...  ATCTCAACCAGCGCCATCCAAGGGAATCATTGTTTTGTGACGTTCT...         21.04      +          417\n12320964  totalRNA3  c932e9a0-1a58-4bee-b2d3-1e2fafb40caa      X  17718527  WBGene00007068  cTel55X.1  5M1D31M1D5M1D36M1D7M1D25M1D12M1D12M1D21M1D23M1...  GCATGTCATTGTCTACCATGGCTACGTGTGGCTATCTTCCTGGTGC...           NaN      +          192\n\n[6979180 rows x 11 columns]",
      "text/html": "<div>\n<style scoped>\n    .dataframe tbody tr th:only-of-type {\n        vertical-align: middle;\n    }\n\n    .dataframe tbody tr th {\n        vertical-align: top;\n    }\n\n    .dataframe thead th {\n        text-align: right;\n    }\n</style>\n<table border=\"1\" class=\"dataframe\">\n  <thead>\n    <tr style=\"text-align: right;\">\n      <th></th>\n      <th>lib</th>\n      <th>read_id</th>\n      <th>chr_id</th>\n      <th>chr_pos</th>\n      <th>gene_id</th>\n      <th>gene_name</th>\n      <th>cigar</th>\n      <th>sequence</th>\n      <th>polya_length</th>\n      <th>strand</th>\n      <th>read_length</th>\n    </tr>\n  </thead>\n  <tbody>\n    <tr>\n      <th>0</th>\n      <td>totalRNA2</td>\n      <td>9b92d0c5-4174-49b7-9382-b939b009a3c5</td>\n      <td>I</td>\n      <td>2890</td>\n      <td>NaN</td>\n      <td>NaN</td>\n      <td>12S14M2D15M1D8M2I29M1D2M2D3M1D37M2D18M99N9M1D2...</td>\n      <td>AGTTTAACCAAGTTTCTGGATGTCCCTATAAACGATGTCAATCTGC...</td>\n      <td>73.78</td>\n      <td>NaN</td>\n      <td>387</td>\n    </tr>\n    <tr>\n      <th>1</th>\n      <td>totalRNA2</td>\n      <td>ee82ec5d-08b2-4cb6-97d0-fc24e50a0428</td>\n      <td>I</td>\n      <td>10233</td>\n      <td>NaN</td>\n      <td>NaN</td>\n      <td>6S27M2D4M3D8M4D2M1D18M2I25M1D13M1D7M2D9M3D16M1...</td>\n      <td>GCTTTTTAAAATATTGCTTAACATTTATTTAACAAATGCGAACACG...</td>\n      <td>172.05</td>\n      <td>NaN</td>\n      <td>886</td>\n    </tr>\n    <tr>\n      <th>2</th>\n      <td>totalRNA2</td>\n      <td>b1128d26-5c93-4be5-b2e9-99ec19922060</td>\n      <td>I</td>\n      <td>10152</td>\n      <td>WBGene00022277</td>\n      <td>homt-1</td>\n      <td>87S21M1D6M1D9M2I17M1I5M2D27M1D18M1I10M2I30M3D8...</td>\n      <td>TTGGTAGGATGGTGTAGGTGTTGGGATATGGATATGTAAGTATGGA...</td>\n      <td>NaN</td>\n      <td>-</td>\n      <td>896</td>\n    </tr>\n    <tr>\n      <th>3</th>\n      <td>totalRNA2</td>\n      <td>8dd82c33-7f9a-4790-86d3-548b50492fb6</td>\n      <td>I</td>\n      <td>10233</td>\n      <td>NaN</td>\n      <td>NaN</td>\n      <td>6S18M1D15M1D9M2D9M1I11M1D16M1D2M1D7M2D20M1D5M2...</td>\n      <td>GCTTTTAATATTGCTTAACGATTATTAACAGAAATAACGGAGCACG...</td>\n      <td>NaN</td>\n      <td>NaN</td>\n      <td>872</td>\n    </tr>\n    <tr>\n      <th>4</th>\n      <td>totalRNA2</td>\n      <td>9e4ab09a-05b3-42e6-bb8b-b4b08526aa72</td>\n      <td>I</td>\n      <td>10229</td>\n      <td>WBGene00022277</td>\n      <td>homt-1</td>\n      <td>3S18M1D28M2D3M1I14M1D10M1I9M3I8M2D20M1I38M3I24...</td>\n      <td>GCTAATATTGCTTAACGATTATTAACAGAAATAACGTGAGCACGCA...</td>\n      <td>50.41</td>\n      <td>-</td>\n      <td>894</td>\n    </tr>\n    <tr>\n      <th>...</th>\n      <td>...</td>\n      <td>...</td>\n      <td>...</td>\n      <td>...</td>\n      <td>...</td>\n      <td>...</td>\n      <td>...</td>\n      <td>...</td>\n      <td>...</td>\n      <td>...</td>\n      <td>...</td>\n    </tr>\n    <tr>\n      <th>12320956</th>\n      <td>totalRNA3</td>\n      <td>c837f826-cbb6-48ff-9495-353568e0a01a</td>\n      <td>X</td>\n      <td>17717386</td>\n      <td>WBGene00007068</td>\n      <td>cTel55X.1</td>\n      <td>1S17M2D3M1D10M2D16M2I7M991N5M1I12M1D6M1I7M2D12...</td>\n      <td>GTTTCAACCAGCGCCATCCAAGAAATCGCTGTTTGTGACGCTCTAC...</td>\n      <td>23.39</td>\n      <td>+</td>\n      <td>403</td>\n    </tr>\n    <tr>\n      <th>12320958</th>\n      <td>totalRNA3</td>\n      <td>4e388e70-86fb-4599-ae39-572e0e562755</td>\n      <td>X</td>\n      <td>17717405</td>\n      <td>WBGene00007068</td>\n      <td>cTel55X.1</td>\n      <td>2S27M4D8M991N8M1I8M6D6M1D2M3D1M1D9M2D27M1I12M1...</td>\n      <td>TCCAAGGGAATCGCTGTTTTTGTGACGCTTTGATTGACCTCCATTC...</td>\n      <td>88.37</td>\n      <td>+</td>\n      <td>392</td>\n    </tr>\n    <tr>\n      <th>12320960</th>\n      <td>totalRNA3</td>\n      <td>afe00eaa-7f6b-42b7-914b-78bcb57727bc</td>\n      <td>X</td>\n      <td>17717406</td>\n      <td>WBGene00007068</td>\n      <td>cTel55X.1</td>\n      <td>13M2D15M1I8M991N14M2I9M1D4M1D45M3I6M2I26M1D4M3...</td>\n      <td>AAGGGAATCGCTGTTTGTGACGCACTACAAAGTTTGACCTCCATTA...</td>\n      <td>NaN</td>\n      <td>+</td>\n      <td>404</td>\n    </tr>\n    <tr>\n      <th>12320962</th>\n      <td>totalRNA3</td>\n      <td>980827e3-c41d-4109-a0fb-90cc0a13de47</td>\n      <td>X</td>\n      <td>17718435</td>\n      <td>WBGene00007068</td>\n      <td>cTel55X.1</td>\n      <td>56S15M1D13M1I17M2I2M1I14M1D29M2D28M1D6M2I2M1I3...</td>\n      <td>ATCTCAACCAGCGCCATCCAAGGGAATCATTGTTTTGTGACGTTCT...</td>\n      <td>21.04</td>\n      <td>+</td>\n      <td>417</td>\n    </tr>\n    <tr>\n      <th>12320964</th>\n      <td>totalRNA3</td>\n      <td>c932e9a0-1a58-4bee-b2d3-1e2fafb40caa</td>\n      <td>X</td>\n      <td>17718527</td>\n      <td>WBGene00007068</td>\n      <td>cTel55X.1</td>\n      <td>5M1D31M1D5M1D36M1D7M1D25M1D12M1D12M1D21M1D23M1...</td>\n      <td>GCATGTCATTGTCTACCATGGCTACGTGTGGCTATCTTCCTGGTGC...</td>\n      <td>NaN</td>\n      <td>+</td>\n      <td>192</td>\n    </tr>\n  </tbody>\n</table>\n<p>6979180 rows × 11 columns</p>\n</div>"
     },
     "execution_count": 4,
     "metadata": {},
     "output_type": "execute_result"
    }
   ],
   "source": [
    "reads_df"
   ],
   "metadata": {
    "collapsed": false,
    "pycharm": {
     "name": "#%%\n"
    }
   }
  },
  {
   "cell_type": "code",
   "execution_count": 9,
   "outputs": [
    {
     "name": "stdout",
     "output_type": "stream",
     "text": [
      "polyA\n",
      "\tTotal reads: 1,963,191\n",
      "\tAssigned Reads: 1,287,548\n",
      "polyA2\n",
      "\tTotal reads: 1,338,004\n",
      "\tAssigned Reads: 909,701\n",
      "polyA3\n",
      "\tTotal reads: 1,748,224\n",
      "\tAssigned Reads: 1,097,708\n",
      "totalRNA2\n",
      "\tTotal reads: 699,091\n",
      "\tAssigned Reads: 484,498\n",
      "totalRNA3\n",
      "\tTotal reads: 1,230,670\n",
      "\tAssigned Reads: 820,299\n",
      "\n",
      "\n",
      "Done.\n"
     ]
    }
   ],
   "source": [
    "for lib in libs_to_run:\n",
    "    lib_df = reads_df.query(f\"lib == '{lib}'\")\n",
    "    print(lib)\n",
    "    print(f\"\\tTotal reads: {lib_df.shape[0]:,}\")\n",
    "    print(f\"\\tAssigned Reads: {lib_df[~lib_df.gene_id.isna()].shape[0]:,}\")\n",
    "print('\\n\\nDone.')"
   ],
   "metadata": {
    "collapsed": false,
    "pycharm": {
     "name": "#%%\n"
    }
   }
  },
  {
   "cell_type": "code",
   "execution_count": null,
   "outputs": [],
   "source": [],
   "metadata": {
    "collapsed": false,
    "pycharm": {
     "name": "#%%\n"
    }
   }
  }
 ],
 "metadata": {
  "kernelspec": {
   "display_name": "Python 3",
   "language": "python",
   "name": "python3"
  },
  "language_info": {
   "codemirror_mode": {
    "name": "ipython",
    "version": 2
   },
   "file_extension": ".py",
   "mimetype": "text/x-python",
   "name": "python",
   "nbconvert_exporter": "python",
   "pygments_lexer": "ipython2",
   "version": "2.7.6"
  }
 },
 "nbformat": 4,
 "nbformat_minor": 0
}