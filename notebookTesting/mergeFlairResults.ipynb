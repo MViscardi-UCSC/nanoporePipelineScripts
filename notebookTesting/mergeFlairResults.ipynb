{
 "cells": [
  {
   "cell_type": "markdown",
   "source": [
    "\n",
    "# mergeFlairResults.ipynb\n",
    "## Marcus Viscardi,    February 27, 2022\n",
    "Just a quick script to load up the flair results from my 5 total vs polyA RNA libraries I am writing about. Josh wants this file to try to feed it to flair"
   ],
   "metadata": {
    "collapsed": false
   }
  },
  {
   "cell_type": "code",
   "execution_count": 88,
   "metadata": {
    "collapsed": true
   },
   "outputs": [
    {
     "name": "stdout",
     "output_type": "stream",
     "text": [
      "imports done.\n"
     ]
    }
   ],
   "source": [
    "import pandas as pd\n",
    "import numpy as np\n",
    "pd.set_option('display.width', 400)\n",
    "pd.set_option('display.max_columns', None)\n",
    "\n",
    "from pprint import pprint\n",
    "\n",
    "from nanoporePipelineCommon import pick_libs_return_paths_dict\n",
    "\n",
    "print('imports done.')"
   ]
  },
  {
   "cell_type": "code",
   "execution_count": 91,
   "outputs": [
    {
     "name": "stdout",
     "output_type": "stream",
     "text": [
      "Looking for file for totalRNA2, at /data16/marcus/working/210720_nanoporeRun_totalRNA_0639_L3_replicate/output_dir/merge_files/*compressedOnTranscripts_simple.tsv... File Found.\n",
      "Looking for file for polyA, at /data16/marcus/working/210528_NanoporeRun_0639_L3s/output_dir/merge_files/*compressedOnTranscripts_simple.tsv... File Found.\n",
      "Looking for file for polyA2, at /data16/marcus/working/210719_nanoporeRun_polyA_0639_L3_replicate/output_dir/merge_files/*compressedOnTranscripts_simple.tsv... File Found.\n",
      "Looking for file for polyA3, at /data16/marcus/working/220131_nanoporeRun_polyA_0639_L3_third/output_dir/merge_files/*compressedOnTranscripts_simple.tsv... File Found.\n",
      "Looking for file for totalRNA3, at /data16/marcus/working/220131_nanoporeRun_totalRNA_0639_L3_third/output_dir/merge_files/*compressedOnTranscripts_simple.tsv... File Found.\n",
      "\n",
      "{'polyA': '/data16/marcus/working/210528_NanoporeRun_0639_L3s/output_dir/merge_files/220227_compressedOnTranscripts_simple.tsv',\n",
      " 'polyA2': '/data16/marcus/working/210719_nanoporeRun_polyA_0639_L3_replicate/output_dir/merge_files/220227_compressedOnTranscripts_simple.tsv',\n",
      " 'polyA3': '/data16/marcus/working/220131_nanoporeRun_polyA_0639_L3_third/output_dir/merge_files/220224_compressedOnTranscripts_simple.tsv',\n",
      " 'totalRNA2': '/data16/marcus/working/210720_nanoporeRun_totalRNA_0639_L3_replicate/output_dir/merge_files/220227_compressedOnTranscripts_simple.tsv',\n",
      " 'totalRNA3': '/data16/marcus/working/220131_nanoporeRun_totalRNA_0639_L3_third/output_dir/merge_files/220224_compressedOnTranscripts_simple.tsv'}\n"
     ]
    }
   ],
   "source": [
    "libraries = ['polyA', 'polyA2', 'polyA3', 'totalRNA2', 'totalRNA3']\n",
    "\n",
    "lib_paths_dict = pick_libs_return_paths_dict(libraries, file_suffix='.tsv', file_midfix='compressedOnTranscripts_simple')\n",
    "print()\n",
    "pprint(lib_paths_dict)"
   ],
   "metadata": {
    "collapsed": false,
    "pycharm": {
     "name": "#%%\n"
    }
   }
  },
  {
   "cell_type": "code",
   "execution_count": 133,
   "outputs": [
    {
     "name": "stdout",
     "output_type": "stream",
     "text": [
      "totalRNA2: hits sum=549439, rpm norm fact=0.549439\n",
      "             gene_id transcript_id  transcript_hits  transcript_rpm\n",
      "3277  WBGene00268212    W09G10.9.1               19       34.580727\n",
      "polyA: hits sum=1291774, rpm norm fact=1.291774\n",
      "             gene_id transcript_id  transcript_hits  transcript_rpm\n",
      "2495  WBGene00000197    W09G10.9.1               62       47.996012\n",
      "polyA2: hits sum=1069960, rpm norm fact=1.06996\n",
      "             gene_id transcript_id  transcript_hits  transcript_rpm\n",
      "2773  WBGene00271830    W09G10.9.1               45       42.057647\n",
      "polyA3: hits sum=1388781, rpm norm fact=1.388781\n",
      "             gene_id transcript_id  transcript_hits  transcript_rpm\n",
      "4462  WBGene00271830    W09G10.9.1               34       24.481902\n",
      "totalRNA3: hits sum=957438, rpm norm fact=0.957438\n",
      "     gene_id transcript_id  transcript_hits  transcript_rpm\n",
      "3876     NaN    W09G10.9.1               30       31.333622\n"
     ]
    }
   ],
   "source": [
    "libs_df_dict = {lib_name: pd.read_csv(lib_path, sep=\"\\t\")[[\"gene_id\", \"transcript_id\", \"transcript_hits\"]] for lib_name, lib_path in lib_paths_dict.items()}\n",
    "\n",
    "for lib_name, lib_df in libs_df_dict.items():\n",
    "    norm_factor = lib_df[f\"transcript_hits\"].sum()\n",
    "    # Turn the total number of read hits into the 'million of read hits'\n",
    "    rpm_norm_factor = norm_factor / 1000000\n",
    "    # For each library divide gene_hits by the rpm norm factor to get rpm\n",
    "    lib_df[\"transcript_rpm\"] = lib_df[f\"transcript_hits\"] / rpm_norm_factor\n",
    "    print(f\"{lib_name}: hits sum={norm_factor}, rpm norm fact={rpm_norm_factor}\")\n",
    "    print(lib_df.query(\"transcript_id == 'W09G10.9.1'\"))"
   ],
   "metadata": {
    "collapsed": false,
    "pycharm": {
     "name": "#%%\n"
    }
   }
  },
  {
   "cell_type": "code",
   "execution_count": 131,
   "outputs": [
    {
     "data": {
      "text/plain": "                              polyA_transcript_hits  polyA2_transcript_hits  polyA3_transcript_hits  totalRNA2_transcript_hits  totalRNA3_transcript_hits  polyA_transcript_rpm  polyA2_transcript_rpm  polyA3_transcript_rpm  totalRNA2_transcript_rpm  totalRNA3_transcript_rpm\ngene_id        transcript_id                                                                                                                                                                                                                                                     \nWBGene00000197 W09G10.9.1                      62.0                     NaN                     NaN                        NaN                        NaN             47.996012                    NaN                    NaN                       NaN                       NaN\nWBGene00268212 W09G10.9.1                       NaN                     NaN                     NaN                       19.0                       30.0                   NaN                    NaN                    NaN                 34.580727                 31.333622\nWBGene00271830 W09G10.9.1                       NaN                    45.0                    34.0                        NaN                       30.0                   NaN              42.057647              24.481902                       NaN                 31.333622\nNaN            W09G10.9.1                       NaN                     NaN                     NaN                        NaN                       30.0                   NaN                    NaN                    NaN                       NaN                 31.333622",
      "text/html": "<div>\n<style scoped>\n    .dataframe tbody tr th:only-of-type {\n        vertical-align: middle;\n    }\n\n    .dataframe tbody tr th {\n        vertical-align: top;\n    }\n\n    .dataframe thead th {\n        text-align: right;\n    }\n</style>\n<table border=\"1\" class=\"dataframe\">\n  <thead>\n    <tr style=\"text-align: right;\">\n      <th></th>\n      <th></th>\n      <th>polyA_transcript_hits</th>\n      <th>polyA2_transcript_hits</th>\n      <th>polyA3_transcript_hits</th>\n      <th>totalRNA2_transcript_hits</th>\n      <th>totalRNA3_transcript_hits</th>\n      <th>polyA_transcript_rpm</th>\n      <th>polyA2_transcript_rpm</th>\n      <th>polyA3_transcript_rpm</th>\n      <th>totalRNA2_transcript_rpm</th>\n      <th>totalRNA3_transcript_rpm</th>\n    </tr>\n    <tr>\n      <th>gene_id</th>\n      <th>transcript_id</th>\n      <th></th>\n      <th></th>\n      <th></th>\n      <th></th>\n      <th></th>\n      <th></th>\n      <th></th>\n      <th></th>\n      <th></th>\n      <th></th>\n    </tr>\n  </thead>\n  <tbody>\n    <tr>\n      <th>WBGene00000197</th>\n      <th>W09G10.9.1</th>\n      <td>62.0</td>\n      <td>NaN</td>\n      <td>NaN</td>\n      <td>NaN</td>\n      <td>NaN</td>\n      <td>47.996012</td>\n      <td>NaN</td>\n      <td>NaN</td>\n      <td>NaN</td>\n      <td>NaN</td>\n    </tr>\n    <tr>\n      <th>WBGene00268212</th>\n      <th>W09G10.9.1</th>\n      <td>NaN</td>\n      <td>NaN</td>\n      <td>NaN</td>\n      <td>19.0</td>\n      <td>30.0</td>\n      <td>NaN</td>\n      <td>NaN</td>\n      <td>NaN</td>\n      <td>34.580727</td>\n      <td>31.333622</td>\n    </tr>\n    <tr>\n      <th>WBGene00271830</th>\n      <th>W09G10.9.1</th>\n      <td>NaN</td>\n      <td>45.0</td>\n      <td>34.0</td>\n      <td>NaN</td>\n      <td>30.0</td>\n      <td>NaN</td>\n      <td>42.057647</td>\n      <td>24.481902</td>\n      <td>NaN</td>\n      <td>31.333622</td>\n    </tr>\n    <tr>\n      <th>NaN</th>\n      <th>W09G10.9.1</th>\n      <td>NaN</td>\n      <td>NaN</td>\n      <td>NaN</td>\n      <td>NaN</td>\n      <td>30.0</td>\n      <td>NaN</td>\n      <td>NaN</td>\n      <td>NaN</td>\n      <td>NaN</td>\n      <td>31.333622</td>\n    </tr>\n  </tbody>\n</table>\n</div>"
     },
     "execution_count": 131,
     "metadata": {},
     "output_type": "execute_result"
    }
   ],
   "source": [
    "libs_df_dict2 = {lib_name: lib_df.set_index([\"gene_id\", \"transcript_id\"]).copy() for lib_name, lib_df in libs_df_dict.items()}\n",
    "long_df2 = pd.concat(libs_df_dict2.values(), keys=libs_df_dict2.keys(), names=[\"lib\"], axis=1)\n",
    "long_df2.columns.rename(\"val\", level=1, inplace=True)\n",
    "long_df2.sort_values([\"val\", \"lib\"], axis=1, inplace=True)\n",
    "\n",
    "long_df2.columns = ['_'.join(col).strip('_') for col in long_df2.columns.values]\n",
    "long_df2.sort_values(\"polyA_transcript_rpm\", ascending=False, inplace=True)\n",
    "long_df2.query(\"transcript_id == 'W09G10.9.1'\")"
   ],
   "metadata": {
    "collapsed": false,
    "pycharm": {
     "name": "#%%\n"
    }
   }
  },
  {
   "cell_type": "code",
   "execution_count": 130,
   "outputs": [
    {
     "data": {
      "text/plain": "              gene_id transcript_id  polyA_transcript_hits  polyA2_transcript_hits  polyA3_transcript_hits  totalRNA2_transcript_hits  totalRNA3_transcript_hits  polyA_transcript_rpm  polyA2_transcript_rpm  polyA3_transcript_rpm  totalRNA2_transcript_rpm  totalRNA3_transcript_rpm\n0      WBGene00010965     MTCE.31.1                29356.0                 24475.0                 12339.0                    11379.0                    10385.0          22725.337404           22874.686904            8884.770169              20710.215329              10846.655345\n1      WBGene00010962     MTCE.23.1                17505.0                 14612.0                  8199.0                     7352.0                     8256.0          13551.132009           13656.585293            5903.738602              13380.921267               8623.012665\n2      WBGene00010960     MTCE.12.1                16717.0                 16791.0                  7726.0                     9302.0                     9289.0          12941.118183           15693.110023            5563.152146              16929.995869               9701.933702\n3      WBGene00010964     MTCE.26.1                15997.0                 17803.0                  7201.0                    11832.0                    12592.0          12383.745144           16638.939773            5185.122780              21534.692659              13151.765441\n4      WBGene00021350    Y37E3.8a.1                 9971.0                  7296.0                 12163.0                     3378.0                     7509.0           7718.842460            6818.946503            8758.040325               6148.089233               7842.805487\n...               ...           ...                    ...                     ...                     ...                        ...                        ...                   ...                    ...                    ...                       ...                       ...\n27379             NaN     ZK971.1.1                    NaN                     NaN                     NaN                        NaN                        6.0                   NaN                    NaN                    NaN                       NaN                  6.266724\n27380             NaN     ZK973.2.2                    NaN                     7.0                     NaN                        5.0                        NaN                   NaN               6.542301                    NaN                  9.100191                       NaN\n27381             NaN     ZK973.3.1                    NaN                     NaN                     NaN                       14.0                        NaN                   NaN                    NaN                    NaN                 25.480536                       NaN\n27382             NaN     ZK973.9.1                    NaN                     NaN                     NaN                        6.0                        NaN                   NaN                    NaN                    NaN                 10.920230                       NaN\n27383             NaN    ZK993.2a.1                    NaN                     NaN                     NaN                        NaN                        1.0                   NaN                    NaN                    NaN                       NaN                  1.044454\n\n[27384 rows x 12 columns]",
      "text/html": "<div>\n<style scoped>\n    .dataframe tbody tr th:only-of-type {\n        vertical-align: middle;\n    }\n\n    .dataframe tbody tr th {\n        vertical-align: top;\n    }\n\n    .dataframe thead th {\n        text-align: right;\n    }\n</style>\n<table border=\"1\" class=\"dataframe\">\n  <thead>\n    <tr style=\"text-align: right;\">\n      <th></th>\n      <th>gene_id</th>\n      <th>transcript_id</th>\n      <th>polyA_transcript_hits</th>\n      <th>polyA2_transcript_hits</th>\n      <th>polyA3_transcript_hits</th>\n      <th>totalRNA2_transcript_hits</th>\n      <th>totalRNA3_transcript_hits</th>\n      <th>polyA_transcript_rpm</th>\n      <th>polyA2_transcript_rpm</th>\n      <th>polyA3_transcript_rpm</th>\n      <th>totalRNA2_transcript_rpm</th>\n      <th>totalRNA3_transcript_rpm</th>\n    </tr>\n  </thead>\n  <tbody>\n    <tr>\n      <th>0</th>\n      <td>WBGene00010965</td>\n      <td>MTCE.31.1</td>\n      <td>29356.0</td>\n      <td>24475.0</td>\n      <td>12339.0</td>\n      <td>11379.0</td>\n      <td>10385.0</td>\n      <td>22725.337404</td>\n      <td>22874.686904</td>\n      <td>8884.770169</td>\n      <td>20710.215329</td>\n      <td>10846.655345</td>\n    </tr>\n    <tr>\n      <th>1</th>\n      <td>WBGene00010962</td>\n      <td>MTCE.23.1</td>\n      <td>17505.0</td>\n      <td>14612.0</td>\n      <td>8199.0</td>\n      <td>7352.0</td>\n      <td>8256.0</td>\n      <td>13551.132009</td>\n      <td>13656.585293</td>\n      <td>5903.738602</td>\n      <td>13380.921267</td>\n      <td>8623.012665</td>\n    </tr>\n    <tr>\n      <th>2</th>\n      <td>WBGene00010960</td>\n      <td>MTCE.12.1</td>\n      <td>16717.0</td>\n      <td>16791.0</td>\n      <td>7726.0</td>\n      <td>9302.0</td>\n      <td>9289.0</td>\n      <td>12941.118183</td>\n      <td>15693.110023</td>\n      <td>5563.152146</td>\n      <td>16929.995869</td>\n      <td>9701.933702</td>\n    </tr>\n    <tr>\n      <th>3</th>\n      <td>WBGene00010964</td>\n      <td>MTCE.26.1</td>\n      <td>15997.0</td>\n      <td>17803.0</td>\n      <td>7201.0</td>\n      <td>11832.0</td>\n      <td>12592.0</td>\n      <td>12383.745144</td>\n      <td>16638.939773</td>\n      <td>5185.122780</td>\n      <td>21534.692659</td>\n      <td>13151.765441</td>\n    </tr>\n    <tr>\n      <th>4</th>\n      <td>WBGene00021350</td>\n      <td>Y37E3.8a.1</td>\n      <td>9971.0</td>\n      <td>7296.0</td>\n      <td>12163.0</td>\n      <td>3378.0</td>\n      <td>7509.0</td>\n      <td>7718.842460</td>\n      <td>6818.946503</td>\n      <td>8758.040325</td>\n      <td>6148.089233</td>\n      <td>7842.805487</td>\n    </tr>\n    <tr>\n      <th>...</th>\n      <td>...</td>\n      <td>...</td>\n      <td>...</td>\n      <td>...</td>\n      <td>...</td>\n      <td>...</td>\n      <td>...</td>\n      <td>...</td>\n      <td>...</td>\n      <td>...</td>\n      <td>...</td>\n      <td>...</td>\n    </tr>\n    <tr>\n      <th>27379</th>\n      <td>NaN</td>\n      <td>ZK971.1.1</td>\n      <td>NaN</td>\n      <td>NaN</td>\n      <td>NaN</td>\n      <td>NaN</td>\n      <td>6.0</td>\n      <td>NaN</td>\n      <td>NaN</td>\n      <td>NaN</td>\n      <td>NaN</td>\n      <td>6.266724</td>\n    </tr>\n    <tr>\n      <th>27380</th>\n      <td>NaN</td>\n      <td>ZK973.2.2</td>\n      <td>NaN</td>\n      <td>7.0</td>\n      <td>NaN</td>\n      <td>5.0</td>\n      <td>NaN</td>\n      <td>NaN</td>\n      <td>6.542301</td>\n      <td>NaN</td>\n      <td>9.100191</td>\n      <td>NaN</td>\n    </tr>\n    <tr>\n      <th>27381</th>\n      <td>NaN</td>\n      <td>ZK973.3.1</td>\n      <td>NaN</td>\n      <td>NaN</td>\n      <td>NaN</td>\n      <td>14.0</td>\n      <td>NaN</td>\n      <td>NaN</td>\n      <td>NaN</td>\n      <td>NaN</td>\n      <td>25.480536</td>\n      <td>NaN</td>\n    </tr>\n    <tr>\n      <th>27382</th>\n      <td>NaN</td>\n      <td>ZK973.9.1</td>\n      <td>NaN</td>\n      <td>NaN</td>\n      <td>NaN</td>\n      <td>6.0</td>\n      <td>NaN</td>\n      <td>NaN</td>\n      <td>NaN</td>\n      <td>NaN</td>\n      <td>10.920230</td>\n      <td>NaN</td>\n    </tr>\n    <tr>\n      <th>27383</th>\n      <td>NaN</td>\n      <td>ZK993.2a.1</td>\n      <td>NaN</td>\n      <td>NaN</td>\n      <td>NaN</td>\n      <td>NaN</td>\n      <td>1.0</td>\n      <td>NaN</td>\n      <td>NaN</td>\n      <td>NaN</td>\n      <td>NaN</td>\n      <td>1.044454</td>\n    </tr>\n  </tbody>\n</table>\n<p>27384 rows × 12 columns</p>\n</div>"
     },
     "execution_count": 130,
     "metadata": {},
     "output_type": "execute_result"
    }
   ],
   "source": [
    "long_df2.to_csv(\"./220227_mergingFeatureCounts.tsv\", sep=\"\\t\")\n",
    "pd.read_csv(\"./220227_mergingFeatureCounts.tsv\", sep=\"\\t\")"
   ],
   "metadata": {
    "collapsed": false,
    "pycharm": {
     "name": "#%%\n"
    }
   }
  },
  {
   "cell_type": "code",
   "execution_count": 130,
   "outputs": [],
   "source": [],
   "metadata": {
    "collapsed": false,
    "pycharm": {
     "name": "#%%\n"
    }
   }
  },
  {
   "cell_type": "code",
   "execution_count": null,
   "outputs": [],
   "source": [],
   "metadata": {
    "collapsed": false,
    "pycharm": {
     "name": "#%%\n"
    }
   }
  }
 ],
 "metadata": {
  "kernelspec": {
   "display_name": "Python 3",
   "language": "python",
   "name": "python3"
  },
  "language_info": {
   "codemirror_mode": {
    "name": "ipython",
    "version": 2
   },
   "file_extension": ".py",
   "mimetype": "text/x-python",
   "name": "python",
   "nbconvert_exporter": "python",
   "pygments_lexer": "ipython2",
   "version": "2.7.6"
  }
 },
 "nbformat": 4,
 "nbformat_minor": 0
}