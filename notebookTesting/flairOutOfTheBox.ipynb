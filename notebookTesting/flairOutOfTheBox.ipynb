{
 "cells": [
  {
   "cell_type": "markdown",
   "source": [
    "# flairOutOfTheBox.ipynb\n",
    "## Marcus Viscardi,    February 28, 2022\n",
    "Working directory: /data16/marcus/working/220228_flairOutOfTheBox\n",
    "\n",
    "***From 220228_readme.txt:***\n",
    "*Going to try to run flair they way that it was built to be used. So it will*\n",
    "*ID transcripts and then assess differential expression on its own. Hopefully*\n",
    "*this will help to resolve the issues I have been facing with it being unable*\n",
    "*to integrate well w/ the rest of my pipeline!*\n",
    "[...]\n",
    "*The goal of this script will be to write up the manifest file and consistently call the*\n",
    "*FLAIR script(s). Hopefully this will make troubleshooting a bit easier!*"
   ],
   "metadata": {
    "collapsed": false
   }
  },
  {
   "cell_type": "markdown",
   "source": [
    "### reads_manifest.tsv production:\n",
    "This file is meant to be in the below format. It is what FLAIR uses to pull in reads from various libraries and orient how it's comparing technical/biological replicates.\n",
    "\n",
    "***From [FLAIR github](https://github.com/BrooksLabUCSC/flair#flair-quantify)***\n",
    "*sample1\tconditionA\tbatch1\t./sample1_reads.fq*\n",
    "*sample2\tconditionA\tbatch1\t./sample2_reads.fq*\n",
    "*sample3\tconditionA\tbatch2\t./sample3_reads.fq*\n",
    "*sample4\tconditionB\tbatch1\t./sample4_reads.fq*\n",
    "*sample5\tconditionB\tbatch1\t./sample5_reads.fq*\n",
    "*sample6\tconditionB\tbatch2\t./sample6_reads.fq*"
   ],
   "metadata": {
    "collapsed": false
   }
  },
  {
   "cell_type": "code",
   "execution_count": null,
   "metadata": {
    "collapsed": true,
    "pycharm": {
     "is_executing": true
    }
   },
   "outputs": [],
   "source": [
    "from nanoporePipelineCommon import pick_libs_return_paths_dict, get_dt\n",
    "libs = [\"polyA1\", \"polyA2\", \"polyA3\", \"totalRNA1\", \"totalRNA2\", \"totalRNA3\"]\n",
    "fastq_dict = pick_libs_return_paths_dict(libs,\n",
    "                                         output_dir_folder=\"cat_files\",\n",
    "                                         file_midfix=\"cat\",\n",
    "                                         file_suffix=\".fastq\")\n",
    "\n",
    "manifest_path = f\"/data16/marcus/working/220228_flairOutOfTheBox/{get_dt(for_file=True)}__generated_reads_manifest.tsv\"\n",
    "\n",
    "with open(manifest_path, \"w\") as manifest:\n",
    "    for lib, path in fastq_dict.items():\n",
    "        sample_id = f\"set{lib[-1:]}\"\n",
    "        condition_id = f\"{lib[:-1]}\"\n",
    "        manifest_line = f\"{sample_id}\\t{condition_id}\\tbatch1\\t{path}\\n\"\n",
    "        manifest.write(manifest_line)\n",
    "print(f\"\\nDone. Manifest generated at: {manifest_path}\")"
   ]
  },
  {
   "cell_type": "markdown",
   "source": [
    "### Run FLAIR [*quantify*](https://github.com/BrooksLabUCSC/flair#quantify)"
   ],
   "metadata": {
    "collapsed": false
   }
  },
  {
   "cell_type": "code",
   "execution_count": null,
   "outputs": [],
   "source": [
    "import subprocess\n",
    "import os\n",
    "os.chdir(\"/data16/marcus/working/220228_flairOutOfTheBox/\")\n",
    "\n",
    "threads = 30\n",
    "\n",
    "flair_call = f\"python3 /data16/marcus/scripts/brooksLabUCSC_flair/flair.py quantify -t {threads} \" \\\n",
    "             f\"--generate_map -r {manifest_path} \" \\\n",
    "             f\"-i /data16/marcus/genomes/elegansRelease100/Caenorhabditis_elegans.WBcel235.cdna.all.fa\"\n",
    "subprocess.call(flair_call, shell=True)"
   ],
   "metadata": {
    "collapsed": false,
    "pycharm": {
     "name": "#%%\n"
    }
   }
  },
  {
   "cell_type": "markdown",
   "source": [
    "### Run FLAIR [*diffExp*](https://github.com/BrooksLabUCSC/flair#flair-diffexp)"
   ],
   "metadata": {
    "collapsed": false
   }
  },
  {
   "cell_type": "code",
   "execution_count": null,
   "outputs": [],
   "source": [
    "# subprocess.call(\"rm -r ./output_dir\", shell=True)\n",
    "\n",
    "# THIS CRASHES THE NOTEBOOK, run the call in there terminal\n",
    "\n",
    "# print(f\"Removed.\")\n",
    "# flair_call = f\"python3 /data16/marcus/scripts/brooksLabUCSC_flair/flair.py diffExp -q ./counts_matrix.tsv -o /data16/marcus/working/220228_flairOutOfTheBox/output_dir\"\n",
    "# subprocess.call(flair_call, shell=True)"
   ],
   "metadata": {
    "collapsed": false,
    "pycharm": {
     "name": "#%%\n",
     "is_executing": true
    }
   }
  },
  {
   "cell_type": "markdown",
   "source": [
    "### Run FLAIR [*diff_iso_usage.py*](https://github.com/BrooksLabUCSC/flair#diffisoscript)"
   ],
   "metadata": {
    "collapsed": false
   }
  },
  {
   "cell_type": "code",
   "execution_count": null,
   "outputs": [],
   "source": [
    "\n",
    "flair_call = f\"python3 /data16/marcus/scripts/brooksLabUCSC_flair/bin/diff_iso_usage.py \" \\\n",
    "             f\"counts_matrix.tsv sample2_totalRNA_batch1 sample2_polyA_batch1 /data16/marcus/working/220228_flairOutOfTheBox/diff_iso_attempt.txt\"\n",
    "subprocess.call(flair_call, shell=True)\n"
   ],
   "metadata": {
    "collapsed": false,
    "pycharm": {
     "name": "#%%\n"
    }
   }
  },
  {
   "cell_type": "markdown",
   "source": [
    "### Lets look at the counts_matrix.py"
   ],
   "metadata": {
    "collapsed": false
   }
  },
  {
   "cell_type": "code",
   "execution_count": null,
   "outputs": [],
   "source": [
    "import pandas as pd\n",
    "pd.set_option('display.width', 150)\n",
    "pd.set_option('display.max_columns', None)\n",
    "\n",
    "counts_matrix = pd.read_table(\"./counts_matrix.tsv\")\n",
    "counts_matrix.sort_values(\"sample2_totalRNA_batch1\", ascending=False)"
   ],
   "metadata": {
    "collapsed": false,
    "pycharm": {
     "name": "#%%\n",
     "is_executing": true
    }
   }
  },
  {
   "cell_type": "code",
   "execution_count": null,
   "outputs": [],
   "source": [
    "import rpy2\n",
    "rpy2.__version__"
   ],
   "metadata": {
    "collapsed": false,
    "pycharm": {
     "name": "#%%\n"
    }
   }
  }
 ],
 "metadata": {
  "kernelspec": {
   "display_name": "Python 3",
   "language": "python",
   "name": "python3"
  },
  "language_info": {
   "codemirror_mode": {
    "name": "ipython",
    "version": 2
   },
   "file_extension": ".py",
   "mimetype": "text/x-python",
   "name": "python",
   "nbconvert_exporter": "python",
   "pygments_lexer": "ipython2",
   "version": "2.7.6"
  }
 },
 "nbformat": 4,
 "nbformat_minor": 0
}