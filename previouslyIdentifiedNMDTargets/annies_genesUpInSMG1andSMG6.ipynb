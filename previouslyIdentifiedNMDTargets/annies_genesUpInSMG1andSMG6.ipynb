{
 "cells": [
  {
   "cell_type": "markdown",
   "source": [
    "\n",
    "# annies_genesUpInSMG1andSMG6.ipynb\n",
    "## Marcus Viscardi,    May 05, 2022\n",
    "\n",
    "Going back to RNA-seq results to see if any of the things I am identifying with 5TERA-Seq are novel/known.\n",
    "\n",
    "Also just to have this list a bit more organized for future work!"
   ],
   "metadata": {
    "collapsed": false,
    "pycharm": {
     "name": "#%% md\n"
    }
   }
  },
  {
   "cell_type": "code",
   "execution_count": 9,
   "outputs": [
    {
     "name": "stdout",
     "output_type": "stream",
     "text": [
      "imports done\n"
     ]
    }
   ],
   "source": [
    "import numpy as np\n",
    "import pandas as pd\n",
    "from tqdm import tqdm\n",
    "pd.set_option('display.width', 200)\n",
    "pd.set_option('display.max_columns', None)\n",
    "\n",
    "import nanoporePipelineCommon as nanopore\n",
    "import seaborn as sea\n",
    "import matplotlib.pyplot as plt\n",
    "import plotly.express as px\n",
    "import plotly.graph_objects as go\n",
    "\n",
    "import plotly.io as pio\n",
    "pio.renderers.default = \"browser\"\n",
    "\n",
    "print(\"imports done\")"
   ],
   "metadata": {
    "collapsed": false,
    "pycharm": {
     "name": "#%%\n"
    }
   }
  },
  {
   "cell_type": "code",
   "execution_count": 25,
   "outputs": [],
   "source": [
    "deseq_df = pd.read_csv(\"210204_smg-1and6_alteredGenes_fromAnnie/210209_GenesUpInSMG1AndSMG6.csv\")\n",
    "deseq_df.rename(columns={'WB_Gene_name': 'gene_id'}, inplace=True)\n",
    "deseq_df['gene_id'] = deseq_df['gene_id'].str.rstrip(\":S\")"
   ],
   "metadata": {
    "collapsed": false,
    "pycharm": {
     "name": "#%%\n"
    }
   }
  },
  {
   "cell_type": "code",
   "execution_count": 26,
   "outputs": [],
   "source": [
    "deseq_df['avg_wt'] = ( deseq_df.SAC3_wt_1 + deseq_df.SAC4_wt_2 ) / 2\n",
    "deseq_df['avg_smg-1'] = ( deseq_df[\"SAC5_smg-1_1\"] + deseq_df[\"SAC6_smg-1_2\"] ) / 2\n",
    "deseq_df['avg_smg-6'] = ( deseq_df[\"SAC7_smg-6_1\"] + deseq_df[\"SAC8_smg-6_2\"] ) / 2"
   ],
   "metadata": {
    "collapsed": false,
    "pycharm": {
     "name": "#%%\n"
    }
   }
  },
  {
   "cell_type": "code",
   "execution_count": 27,
   "outputs": [
    {
     "data": {
      "text/plain": "             gene_id   SAC3_wt_1   SAC4_wt_2  SAC5_smg-1_1  SAC6_smg-1_2  SAC7_smg-6_1  SAC8_smg-6_2      avg_wt   avg_smg-1   avg_smg-6  gene_name chr\n0     WBGene00004225  136.832802  618.181914    769.079021    198.254028    925.112597    954.122070  377.507358  483.666524  939.617333     ptr-11   I\n1     WBGene00018958  149.802736  382.851299    372.815745    226.903454    526.905374    533.941389  266.327017  299.859599  530.423382   F56C11.6   I\n2     WBGene00020090  121.917378  484.710819    403.297535     74.488508    484.510689    363.300327  303.314098  238.893022  423.905508     R119.5   I\n3     WBGene00022033    3.242483   35.123972     60.963581      5.729885     60.563836     62.384905   19.183228   33.346733   61.474370  Y65B4BL.1   I\n4     WBGene00302974   10.375947  218.939428    434.560910     24.065518    249.825824    330.273024  114.657687  229.313214  290.049424  Y65B4BM.3   I\n...              ...         ...         ...           ...           ...           ...           ...         ...         ...         ...        ...  ..\n1093  WBGene00195184    0.000000   23.415982     18.758025      4.583908     30.281918     20.183351   11.707991   11.670967   25.232635   F19G12.8   X\n1094  WBGene00019866    0.000000   18.732785     14.068519      0.000000     16.655055     25.687902    9.366393    7.034259   21.171478    R04B3.1   X\n1095  WBGene00006534    0.000000   11.707991     14.850103      1.145977     16.655055      9.174251    5.853995    7.998040   12.914653      tba-8   X\n1096  WBGene00010033    0.000000   25.757580     41.423972      3.437931     65.106124     78.898556   12.878790   22.430951   72.002340  F54B11.10   X\n1097  WBGene00009279    0.000000    8.195594     10.160597      0.000000     12.112767      9.174251    4.097797    5.080298   10.643509    F31B9.2   X\n\n[1098 rows x 12 columns]",
      "text/html": "<div>\n<style scoped>\n    .dataframe tbody tr th:only-of-type {\n        vertical-align: middle;\n    }\n\n    .dataframe tbody tr th {\n        vertical-align: top;\n    }\n\n    .dataframe thead th {\n        text-align: right;\n    }\n</style>\n<table border=\"1\" class=\"dataframe\">\n  <thead>\n    <tr style=\"text-align: right;\">\n      <th></th>\n      <th>gene_id</th>\n      <th>SAC3_wt_1</th>\n      <th>SAC4_wt_2</th>\n      <th>SAC5_smg-1_1</th>\n      <th>SAC6_smg-1_2</th>\n      <th>SAC7_smg-6_1</th>\n      <th>SAC8_smg-6_2</th>\n      <th>avg_wt</th>\n      <th>avg_smg-1</th>\n      <th>avg_smg-6</th>\n      <th>gene_name</th>\n      <th>chr</th>\n    </tr>\n  </thead>\n  <tbody>\n    <tr>\n      <th>0</th>\n      <td>WBGene00004225</td>\n      <td>136.832802</td>\n      <td>618.181914</td>\n      <td>769.079021</td>\n      <td>198.254028</td>\n      <td>925.112597</td>\n      <td>954.122070</td>\n      <td>377.507358</td>\n      <td>483.666524</td>\n      <td>939.617333</td>\n      <td>ptr-11</td>\n      <td>I</td>\n    </tr>\n    <tr>\n      <th>1</th>\n      <td>WBGene00018958</td>\n      <td>149.802736</td>\n      <td>382.851299</td>\n      <td>372.815745</td>\n      <td>226.903454</td>\n      <td>526.905374</td>\n      <td>533.941389</td>\n      <td>266.327017</td>\n      <td>299.859599</td>\n      <td>530.423382</td>\n      <td>F56C11.6</td>\n      <td>I</td>\n    </tr>\n    <tr>\n      <th>2</th>\n      <td>WBGene00020090</td>\n      <td>121.917378</td>\n      <td>484.710819</td>\n      <td>403.297535</td>\n      <td>74.488508</td>\n      <td>484.510689</td>\n      <td>363.300327</td>\n      <td>303.314098</td>\n      <td>238.893022</td>\n      <td>423.905508</td>\n      <td>R119.5</td>\n      <td>I</td>\n    </tr>\n    <tr>\n      <th>3</th>\n      <td>WBGene00022033</td>\n      <td>3.242483</td>\n      <td>35.123972</td>\n      <td>60.963581</td>\n      <td>5.729885</td>\n      <td>60.563836</td>\n      <td>62.384905</td>\n      <td>19.183228</td>\n      <td>33.346733</td>\n      <td>61.474370</td>\n      <td>Y65B4BL.1</td>\n      <td>I</td>\n    </tr>\n    <tr>\n      <th>4</th>\n      <td>WBGene00302974</td>\n      <td>10.375947</td>\n      <td>218.939428</td>\n      <td>434.560910</td>\n      <td>24.065518</td>\n      <td>249.825824</td>\n      <td>330.273024</td>\n      <td>114.657687</td>\n      <td>229.313214</td>\n      <td>290.049424</td>\n      <td>Y65B4BM.3</td>\n      <td>I</td>\n    </tr>\n    <tr>\n      <th>...</th>\n      <td>...</td>\n      <td>...</td>\n      <td>...</td>\n      <td>...</td>\n      <td>...</td>\n      <td>...</td>\n      <td>...</td>\n      <td>...</td>\n      <td>...</td>\n      <td>...</td>\n      <td>...</td>\n      <td>...</td>\n    </tr>\n    <tr>\n      <th>1093</th>\n      <td>WBGene00195184</td>\n      <td>0.000000</td>\n      <td>23.415982</td>\n      <td>18.758025</td>\n      <td>4.583908</td>\n      <td>30.281918</td>\n      <td>20.183351</td>\n      <td>11.707991</td>\n      <td>11.670967</td>\n      <td>25.232635</td>\n      <td>F19G12.8</td>\n      <td>X</td>\n    </tr>\n    <tr>\n      <th>1094</th>\n      <td>WBGene00019866</td>\n      <td>0.000000</td>\n      <td>18.732785</td>\n      <td>14.068519</td>\n      <td>0.000000</td>\n      <td>16.655055</td>\n      <td>25.687902</td>\n      <td>9.366393</td>\n      <td>7.034259</td>\n      <td>21.171478</td>\n      <td>R04B3.1</td>\n      <td>X</td>\n    </tr>\n    <tr>\n      <th>1095</th>\n      <td>WBGene00006534</td>\n      <td>0.000000</td>\n      <td>11.707991</td>\n      <td>14.850103</td>\n      <td>1.145977</td>\n      <td>16.655055</td>\n      <td>9.174251</td>\n      <td>5.853995</td>\n      <td>7.998040</td>\n      <td>12.914653</td>\n      <td>tba-8</td>\n      <td>X</td>\n    </tr>\n    <tr>\n      <th>1096</th>\n      <td>WBGene00010033</td>\n      <td>0.000000</td>\n      <td>25.757580</td>\n      <td>41.423972</td>\n      <td>3.437931</td>\n      <td>65.106124</td>\n      <td>78.898556</td>\n      <td>12.878790</td>\n      <td>22.430951</td>\n      <td>72.002340</td>\n      <td>F54B11.10</td>\n      <td>X</td>\n    </tr>\n    <tr>\n      <th>1097</th>\n      <td>WBGene00009279</td>\n      <td>0.000000</td>\n      <td>8.195594</td>\n      <td>10.160597</td>\n      <td>0.000000</td>\n      <td>12.112767</td>\n      <td>9.174251</td>\n      <td>4.097797</td>\n      <td>5.080298</td>\n      <td>10.643509</td>\n      <td>F31B9.2</td>\n      <td>X</td>\n    </tr>\n  </tbody>\n</table>\n<p>1098 rows × 12 columns</p>\n</div>"
     },
     "execution_count": 27,
     "metadata": {},
     "output_type": "execute_result"
    }
   ],
   "source": [
    "names_df = nanopore.gene_names_to_gene_ids()\n",
    "named_deseq_df = deseq_df.merge(names_df, on=\"gene_id\", how='left')\n",
    "named_deseq_df"
   ],
   "metadata": {
    "collapsed": false,
    "pycharm": {
     "name": "#%%\n"
    }
   }
  },
  {
   "cell_type": "code",
   "execution_count": 30,
   "outputs": [],
   "source": [
    "fig = px.scatter_3d(named_deseq_df,\n",
    "                    x='avg_wt',\n",
    "                    y='avg_smg-1',\n",
    "                    z='avg_smg-6',\n",
    "                    hover_name='gene_name',\n",
    "                    hover_data=['gene_id'],\n",
    "                    )\n",
    "fig"
   ],
   "metadata": {
    "collapsed": false,
    "pycharm": {
     "name": "#%%\n"
    }
   }
  }
 ],
 "metadata": {
  "kernelspec": {
   "display_name": "Python 3",
   "language": "python",
   "name": "python3"
  },
  "language_info": {
   "codemirror_mode": {
    "name": "ipython",
    "version": 2
   },
   "file_extension": ".py",
   "mimetype": "text/x-python",
   "name": "python",
   "nbconvert_exporter": "python",
   "pygments_lexer": "ipython2",
   "version": "2.7.6"
  }
 },
 "nbformat": 4,
 "nbformat_minor": 0
}