{
 "cells": [
  {
   "cell_type": "markdown",
   "source": [
    "# quickProduceReadHitsTable.ipynb\n",
    "## Marcus Viscardi,    April 24, 2024\n",
    "\n",
    "I am just taking the first few parts of DESeq2_fromGeneCountsDF.ipynb and putting them here for easier access."
   ],
   "metadata": {
    "collapsed": false
   },
   "id": "b6abad1440192d40"
  },
  {
   "cell_type": "code",
   "outputs": [
    {
     "name": "stderr",
     "output_type": "stream",
     "text": [
      "ic: 2024-04-29 11:08:58 | > 'Imports done.'\n",
      "ic: 2024-04-29 11:08:58 | > working_dir: PosixPath('/data16/marcus/scripts/nanoporePipelineScripts/DESeq2_fromGeneCounts')\n"
     ]
    }
   ],
   "source": [
    "import rpy2.robjects as ro\n",
    "from rpy2.robjects import pandas2ri\n",
    "import pandas as pd\n",
    "from pathlib import Path\n",
    "\n",
    "import seaborn as sea\n",
    "import matplotlib.pyplot as plt\n",
    "import plotly.express as px\n",
    "import plotly.graph_objects as go\n",
    "\n",
    "import nanoporePipelineCommon as npCommon\n",
    "\n",
    "from icecream import ic\n",
    "from datetime import datetime\n",
    "\n",
    "def __time_formatter__():\n",
    "    now = datetime.now().strftime(\"%Y-%m-%d %H:%M:%S\")\n",
    "    return f\"ic: {now} | > \"\n",
    "ic.configureOutput(prefix=__time_formatter__)\n",
    "\n",
    "\n",
    "ic(\"Imports done.\")\n",
    "working_dir = Path.cwd()\n",
    "_ = ic(working_dir)"
   ],
   "metadata": {
    "collapsed": false,
    "ExecuteTime": {
     "end_time": "2024-04-29T18:08:58.281615945Z",
     "start_time": "2024-04-29T18:08:57.616619406Z"
    }
   },
   "id": "fc7508326ee9fc54",
   "execution_count": 1
  },
  {
   "cell_type": "code",
   "execution_count": 2,
   "id": "initial_id",
   "metadata": {
    "collapsed": true,
    "ExecuteTime": {
     "end_time": "2024-04-29T18:08:58.835111496Z",
     "start_time": "2024-04-29T18:08:58.280811129Z"
    }
   },
   "outputs": [
    {
     "data": {
      "text/plain": "  gene_name         gene_id chr\n0  cTel3X.2  WBGene00197333   V\n1  cTel3X.3  WBGene00198386   V\n2   B0348.5  WBGene00015153   V\n3     ife-3  WBGene00002061   V\n4  B0348.10  WBGene00255704   V",
      "text/html": "<div>\n<style scoped>\n    .dataframe tbody tr th:only-of-type {\n        vertical-align: middle;\n    }\n\n    .dataframe tbody tr th {\n        vertical-align: top;\n    }\n\n    .dataframe thead th {\n        text-align: right;\n    }\n</style>\n<table border=\"1\" class=\"dataframe\">\n  <thead>\n    <tr style=\"text-align: right;\">\n      <th></th>\n      <th>gene_name</th>\n      <th>gene_id</th>\n      <th>chr</th>\n    </tr>\n  </thead>\n  <tbody>\n    <tr>\n      <th>0</th>\n      <td>cTel3X.2</td>\n      <td>WBGene00197333</td>\n      <td>V</td>\n    </tr>\n    <tr>\n      <th>1</th>\n      <td>cTel3X.3</td>\n      <td>WBGene00198386</td>\n      <td>V</td>\n    </tr>\n    <tr>\n      <th>2</th>\n      <td>B0348.5</td>\n      <td>WBGene00015153</td>\n      <td>V</td>\n    </tr>\n    <tr>\n      <th>3</th>\n      <td>ife-3</td>\n      <td>WBGene00002061</td>\n      <td>V</td>\n    </tr>\n    <tr>\n      <th>4</th>\n      <td>B0348.10</td>\n      <td>WBGene00255704</td>\n      <td>V</td>\n    </tr>\n  </tbody>\n</table>\n</div>"
     },
     "execution_count": 2,
     "metadata": {},
     "output_type": "execute_result"
    }
   ],
   "source": [
    "gene_id_gene_name_df = npCommon.gene_names_to_gene_ids()\n",
    "gene_id_gene_name_df.head()"
   ]
  },
  {
   "cell_type": "code",
   "outputs": [
    {
     "name": "stdout",
     "output_type": "stream",
     "text": [
      "\n",
      "Loading polyA1...Found 4 settings files, we are going to pick the newest one!\n",
      " Done!\n",
      "\n",
      "Loading polyA2...Found 3 settings files, we are going to pick the newest one!\n",
      " Done!\n",
      "\n",
      "Loading polyA3... Done!\n",
      "\n",
      "Loading totalRNA1..."
     ]
    },
    {
     "name": "stderr",
     "output_type": "stream",
     "text": [
      "[E::idx_find_and_load] Could not retrieve index file for '/data16/marcus/working/210709_NanoporeRun_totalRNA_0639_L3/output_dir/cat_files/cat.sorted.mappedAndPrimary.bam'\n"
     ]
    },
    {
     "name": "stdout",
     "output_type": "stream",
     "text": [
      "Could not calculate read counts: [Errno 2] No such file or directory: '/data16/marcus/working/210709_NanoporeRun_totalRNA_0639_L3/output_dir/flair/counts_matrix.tsv'\n",
      "Found 5 settings files, we are going to pick the newest one!\n",
      " Done!\n",
      "\n",
      "Loading totalRNA2...Found 4 settings files, we are going to pick the newest one!\n",
      " Done!\n",
      "\n",
      "Loading totalRNA3... Done!\n"
     ]
    }
   ],
   "source": [
    "obj_dict = {}\n",
    "libs_to_run = [\n",
    "    # \"oldN2\",\n",
    "    # \"oldS6\",\n",
    "    # \"newerN2\",\n",
    "    # \"newerS6\",\n",
    "    # \"newerS5\",\n",
    "    # \"thirdN2\",\n",
    "    # \"thirdS5\",\n",
    "    # \"thirdS6\",\n",
    "    # \"polyA\",\n",
    "    \"polyA1\",\n",
    "    \"polyA2\",\n",
    "    \"polyA3\",\n",
    "    \"totalRNA1\",\n",
    "    \"totalRNA2\",\n",
    "    \"totalRNA3\",\n",
    "]\n",
    "for lib in libs_to_run:\n",
    "    print(f\"\\nLoading {lib}...\", end=\"\")\n",
    "    obj_dict[lib] = npCommon.NanoporeRun(run_nickname=lib)\n",
    "    print(\" Done!\")"
   ],
   "metadata": {
    "collapsed": false,
    "ExecuteTime": {
     "end_time": "2024-04-29T18:12:51.720838607Z",
     "start_time": "2024-04-29T18:08:58.833803265Z"
    }
   },
   "id": "b9752ee006f8d024",
   "execution_count": 3
  },
  {
   "cell_type": "code",
   "outputs": [],
   "source": [
    "# compressedOnGenes_dict = {}\n",
    "# for lib, obj in obj_dict.items():\n",
    "#     compressedOnGenes_dict[lib] = obj.load_compressedOnGenes()  # Looks like the old N2 library had a read cutoff of 5 while everything else had no cutoff!!\n",
    "#     # ic(obj)\n",
    "# read_hits_series_dict = {}\n",
    "# for lib, df in compressedOnGenes_dict.items():\n",
    "#     print(f\"Pre-cutdown:  {lib} - {df.shape[0]:,} Genes\", end=\" \")\n",
    "#     # # TODO: Eventually, I should rerun the compressing for oldN2 without the cutoff!!!\n",
    "#     # df = df.query(\"read_hits >= 5\")\n",
    "#     print(f\"Post-cutdown: {lib} - {df.shape[0]:,} Genes\")\n",
    "#     # print(df.head())\n",
    "#     hits_series = df[[\n",
    "#         # 'gene_id',\n",
    "#         'read_hits',\n",
    "#                       ]]# .set_index('gene_id')\n",
    "#     print(hits_series)\n",
    "#     hits_series.rename(columns={'read_hits': lib}, inplace=True)\n",
    "#     read_hits_series_dict[lib] = hits_series\n",
    "# read_hits_table = pd.concat(read_hits_series_dict.values(), axis=1).fillna(0)\n",
    "# read_hits_table.to_csv(working_dir / f\"read_hits_table_{'-'.join(libs_to_run)}.csv\")\n",
    "# print(f\"Saved read_hits_table_{'-'.join(libs_to_run)}.csv to {working_dir}!\")\n",
    "# read_hits_table.head()"
   ],
   "metadata": {
    "collapsed": false,
    "ExecuteTime": {
     "end_time": "2024-04-29T18:12:51.721231479Z",
     "start_time": "2024-04-29T18:12:51.720724713Z"
    }
   },
   "id": "f85aa66e902e8d0d",
   "execution_count": 4
  },
  {
   "cell_type": "markdown",
   "source": [
    "# From fresh featureCounts runs\n",
    "\n",
    "Another way to go about this would be to run FeatureCounts for each of the libraries using their BAM files, then use the resulting gene count tables to make a read hits table. This would be a bit more work, but would also be a bit more accurate. I will try this next."
   ],
   "metadata": {
    "collapsed": false
   },
   "id": "8cf97dce6c8ec892"
  },
  {
   "cell_type": "code",
   "outputs": [
    {
     "name": "stderr",
     "output_type": "stream",
     "text": [
      "\n",
      "        ==========     _____ _    _ ____  _____  ______          _____  \n",
      "        =====         / ____| |  | |  _ \\|  __ \\|  ____|   /\\   |  __ \\ \n",
      "          =====      | (___ | |  | | |_) | |__) | |__     /  \\  | |  | |\n",
      "            ====      \\___ \\| |  | |  _ <|  _  /|  __|   / /\\ \\ | |  | |\n",
      "              ====    ____) | |__| | |_) | | \\ \\| |____ / ____ \\| |__| |\n",
      "        ==========   |_____/ \\____/|____/|_|  \\_\\______/_/    \\_\\_____/\n",
      "\t  v2.0.0\n",
      "\n",
      "//========================== featureCounts setting ===========================\\\\\n",
      "||                                                                            ||\n",
      "||             Input files : 1 BAM file                                       ||\n",
      "||                           o cat.sorted.mappedAndPrimary.bam                ||\n",
      "||                                                                            ||\n",
      "||             Output file : 240429_polyA1_featureCounts                      ||\n",
      "||                 Summary : 240429_polyA1_featureCounts.summary              ||\n",
      "||              Annotation : 210928_allChrs_plus-pTRI.gtf (GTF)               ||\n",
      "||      Dir for temp files : /data16/marcus/scripts/nanoporePipelineScrip ... ||\n",
      "||      Assignment details : <input_file>.featureCounts                       ||\n",
      "||                      (Note that files are saved to the output directory)   ||\n",
      "||                                                                            ||\n",
      "||                                                                            ||\n",
      "||                 Threads : 16                                               ||\n",
      "||                   Level : meta-feature level                               ||\n",
      "||              Paired-end : no                                               ||\n",
      "||      Multimapping reads : not counted                                      ||\n",
      "|| Multi-overlapping reads : not counted                                      ||\n",
      "||   Min overlapping bases : 1                                                ||\n",
      "||          Long read mode : yes                                              ||\n",
      "||                                                                            ||\n",
      "\\\\============================================================================//\n",
      "\n",
      "//================================= Running ==================================\\\\\n",
      "||                                                                            ||\n",
      "|| Load annotation file 210928_allChrs_plus-pTRI.gtf ...                      ||\n",
      "||    Features : 273642                                                       ||\n",
      "||    Meta-features : 46905                                                   ||\n",
      "||    Chromosomes/contigs : 8                                                 ||\n",
      "||                                                                            ||\n",
      "|| Process BAM file cat.sorted.mappedAndPrimary.bam...                        ||\n",
      "||    Strand specific : stranded                                              ||\n",
      "\n",
      "\n",
      "Received a terminal signal. The temporary files were removed.\n"
     ]
    },
    {
     "ename": "KeyboardInterrupt",
     "evalue": "",
     "output_type": "error",
     "traceback": [
      "\u001B[0;31m---------------------------------------------------------------------------\u001B[0m",
      "\u001B[0;31mKeyboardInterrupt\u001B[0m                         Traceback (most recent call last)",
      "Cell \u001B[0;32mIn[10], line 24\u001B[0m\n\u001B[1;32m     19\u001B[0m     featCounts_call \u001B[38;5;241m=\u001B[39m (\u001B[38;5;124mf\u001B[39m\u001B[38;5;124m\"\u001B[39m\u001B[38;5;124mfeatureCounts -L -T \u001B[39m\u001B[38;5;132;01m{\u001B[39;00mthreads\u001B[38;5;132;01m}\u001B[39;00m\u001B[38;5;124m -R CORE -a \u001B[39m\u001B[38;5;132;01m{\u001B[39;00mgtf_path\u001B[38;5;132;01m}\u001B[39;00m\u001B[38;5;124m \u001B[39m\u001B[38;5;124m\"\u001B[39m\n\u001B[1;32m     20\u001B[0m                        \u001B[38;5;124mf\u001B[39m\u001B[38;5;124m\"\u001B[39m\u001B[38;5;124m-o \u001B[39m\u001B[38;5;132;01m{\u001B[39;00moutput_dir\u001B[38;5;132;01m}\u001B[39;00m\u001B[38;5;124m/\u001B[39m\u001B[38;5;132;01m{\u001B[39;00mnpCommon\u001B[38;5;241m.\u001B[39mget_dt(for_file\u001B[38;5;241m=\u001B[39m\u001B[38;5;28;01mTrue\u001B[39;00m)\u001B[38;5;132;01m}\u001B[39;00m\u001B[38;5;124m_\u001B[39m\u001B[38;5;132;01m{\u001B[39;00mlib\u001B[38;5;132;01m}\u001B[39;00m\u001B[38;5;124m_featureCounts \u001B[39m\u001B[38;5;124m\"\u001B[39m\n\u001B[1;32m     21\u001B[0m                        \u001B[38;5;124mf\u001B[39m\u001B[38;5;124m\"\u001B[39m\u001B[38;5;124m--largestOverlap -s 1 \u001B[39m\u001B[38;5;124m\"\u001B[39m\n\u001B[1;32m     22\u001B[0m                        \u001B[38;5;124mf\u001B[39m\u001B[38;5;124m\"\u001B[39m\u001B[38;5;132;01m{\u001B[39;00mbam_path\u001B[38;5;132;01m}\u001B[39;00m\u001B[38;5;124m\"\u001B[39m)\n\u001B[1;32m     23\u001B[0m     \u001B[38;5;66;03m# TODO: Turn back on\u001B[39;00m\n\u001B[0;32m---> 24\u001B[0m     \u001B[43msubprocess\u001B[49m\u001B[38;5;241;43m.\u001B[39;49m\u001B[43mrun\u001B[49m\u001B[43m(\u001B[49m\u001B[43mfeatCounts_call\u001B[49m\u001B[43m,\u001B[49m\u001B[43m \u001B[49m\u001B[43mshell\u001B[49m\u001B[38;5;241;43m=\u001B[39;49m\u001B[38;5;28;43;01mTrue\u001B[39;49;00m\u001B[43m)\u001B[49m\n\u001B[1;32m     25\u001B[0m \u001B[38;5;28;01melse\u001B[39;00m:\n\u001B[1;32m     26\u001B[0m     \u001B[38;5;28mprint\u001B[39m(\u001B[38;5;124mf\u001B[39m\u001B[38;5;124m\"\u001B[39m\u001B[38;5;124mAlready ran \u001B[39m\u001B[38;5;132;01m{\u001B[39;00mlib\u001B[38;5;132;01m}\u001B[39;00m\u001B[38;5;124m! w/ input file \u001B[39m\u001B[38;5;132;01m{\u001B[39;00mbam_path\u001B[38;5;132;01m}\u001B[39;00m\u001B[38;5;124m, gtf file \u001B[39m\u001B[38;5;132;01m{\u001B[39;00mgtf_path\u001B[38;5;132;01m}\u001B[39;00m\u001B[38;5;124m and output file \u001B[39m\u001B[38;5;132;01m{\u001B[39;00mgene_count_output_file\u001B[38;5;132;01m}\u001B[39;00m\u001B[38;5;124m!\u001B[39m\u001B[38;5;124m\"\u001B[39m)\n",
      "File \u001B[0;32m/usr/local/lib/python3.11/subprocess.py:548\u001B[0m, in \u001B[0;36mrun\u001B[0;34m(input, capture_output, timeout, check, *popenargs, **kwargs)\u001B[0m\n\u001B[1;32m    546\u001B[0m \u001B[38;5;28;01mwith\u001B[39;00m Popen(\u001B[38;5;241m*\u001B[39mpopenargs, \u001B[38;5;241m*\u001B[39m\u001B[38;5;241m*\u001B[39mkwargs) \u001B[38;5;28;01mas\u001B[39;00m process:\n\u001B[1;32m    547\u001B[0m     \u001B[38;5;28;01mtry\u001B[39;00m:\n\u001B[0;32m--> 548\u001B[0m         stdout, stderr \u001B[38;5;241m=\u001B[39m \u001B[43mprocess\u001B[49m\u001B[38;5;241;43m.\u001B[39;49m\u001B[43mcommunicate\u001B[49m\u001B[43m(\u001B[49m\u001B[38;5;28;43minput\u001B[39;49m\u001B[43m,\u001B[49m\u001B[43m \u001B[49m\u001B[43mtimeout\u001B[49m\u001B[38;5;241;43m=\u001B[39;49m\u001B[43mtimeout\u001B[49m\u001B[43m)\u001B[49m\n\u001B[1;32m    549\u001B[0m     \u001B[38;5;28;01mexcept\u001B[39;00m TimeoutExpired \u001B[38;5;28;01mas\u001B[39;00m exc:\n\u001B[1;32m    550\u001B[0m         process\u001B[38;5;241m.\u001B[39mkill()\n",
      "File \u001B[0;32m/usr/local/lib/python3.11/subprocess.py:1197\u001B[0m, in \u001B[0;36mPopen.communicate\u001B[0;34m(self, input, timeout)\u001B[0m\n\u001B[1;32m   1195\u001B[0m         stderr \u001B[38;5;241m=\u001B[39m \u001B[38;5;28mself\u001B[39m\u001B[38;5;241m.\u001B[39mstderr\u001B[38;5;241m.\u001B[39mread()\n\u001B[1;32m   1196\u001B[0m         \u001B[38;5;28mself\u001B[39m\u001B[38;5;241m.\u001B[39mstderr\u001B[38;5;241m.\u001B[39mclose()\n\u001B[0;32m-> 1197\u001B[0m     \u001B[38;5;28;43mself\u001B[39;49m\u001B[38;5;241;43m.\u001B[39;49m\u001B[43mwait\u001B[49m\u001B[43m(\u001B[49m\u001B[43m)\u001B[49m\n\u001B[1;32m   1198\u001B[0m \u001B[38;5;28;01melse\u001B[39;00m:\n\u001B[1;32m   1199\u001B[0m     \u001B[38;5;28;01mif\u001B[39;00m timeout \u001B[38;5;129;01mis\u001B[39;00m \u001B[38;5;129;01mnot\u001B[39;00m \u001B[38;5;28;01mNone\u001B[39;00m:\n",
      "File \u001B[0;32m/usr/local/lib/python3.11/subprocess.py:1260\u001B[0m, in \u001B[0;36mPopen.wait\u001B[0;34m(self, timeout)\u001B[0m\n\u001B[1;32m   1258\u001B[0m     endtime \u001B[38;5;241m=\u001B[39m _time() \u001B[38;5;241m+\u001B[39m timeout\n\u001B[1;32m   1259\u001B[0m \u001B[38;5;28;01mtry\u001B[39;00m:\n\u001B[0;32m-> 1260\u001B[0m     \u001B[38;5;28;01mreturn\u001B[39;00m \u001B[38;5;28;43mself\u001B[39;49m\u001B[38;5;241;43m.\u001B[39;49m\u001B[43m_wait\u001B[49m\u001B[43m(\u001B[49m\u001B[43mtimeout\u001B[49m\u001B[38;5;241;43m=\u001B[39;49m\u001B[43mtimeout\u001B[49m\u001B[43m)\u001B[49m\n\u001B[1;32m   1261\u001B[0m \u001B[38;5;28;01mexcept\u001B[39;00m \u001B[38;5;167;01mKeyboardInterrupt\u001B[39;00m:\n\u001B[1;32m   1262\u001B[0m     \u001B[38;5;66;03m# https://bugs.python.org/issue25942\u001B[39;00m\n\u001B[1;32m   1263\u001B[0m     \u001B[38;5;66;03m# The first keyboard interrupt waits briefly for the child to\u001B[39;00m\n\u001B[1;32m   1264\u001B[0m     \u001B[38;5;66;03m# exit under the common assumption that it also received the ^C\u001B[39;00m\n\u001B[1;32m   1265\u001B[0m     \u001B[38;5;66;03m# generated SIGINT and will exit rapidly.\u001B[39;00m\n\u001B[1;32m   1266\u001B[0m     \u001B[38;5;28;01mif\u001B[39;00m timeout \u001B[38;5;129;01mis\u001B[39;00m \u001B[38;5;129;01mnot\u001B[39;00m \u001B[38;5;28;01mNone\u001B[39;00m:\n",
      "File \u001B[0;32m/usr/local/lib/python3.11/subprocess.py:1995\u001B[0m, in \u001B[0;36mPopen._wait\u001B[0;34m(self, timeout)\u001B[0m\n\u001B[1;32m   1993\u001B[0m \u001B[38;5;28;01mif\u001B[39;00m \u001B[38;5;28mself\u001B[39m\u001B[38;5;241m.\u001B[39mreturncode \u001B[38;5;129;01mis\u001B[39;00m \u001B[38;5;129;01mnot\u001B[39;00m \u001B[38;5;28;01mNone\u001B[39;00m:\n\u001B[1;32m   1994\u001B[0m     \u001B[38;5;28;01mbreak\u001B[39;00m  \u001B[38;5;66;03m# Another thread waited.\u001B[39;00m\n\u001B[0;32m-> 1995\u001B[0m (pid, sts) \u001B[38;5;241m=\u001B[39m \u001B[38;5;28;43mself\u001B[39;49m\u001B[38;5;241;43m.\u001B[39;49m\u001B[43m_try_wait\u001B[49m\u001B[43m(\u001B[49m\u001B[38;5;241;43m0\u001B[39;49m\u001B[43m)\u001B[49m\n\u001B[1;32m   1996\u001B[0m \u001B[38;5;66;03m# Check the pid and loop as waitpid has been known to\u001B[39;00m\n\u001B[1;32m   1997\u001B[0m \u001B[38;5;66;03m# return 0 even without WNOHANG in odd situations.\u001B[39;00m\n\u001B[1;32m   1998\u001B[0m \u001B[38;5;66;03m# http://bugs.python.org/issue14396.\u001B[39;00m\n\u001B[1;32m   1999\u001B[0m \u001B[38;5;28;01mif\u001B[39;00m pid \u001B[38;5;241m==\u001B[39m \u001B[38;5;28mself\u001B[39m\u001B[38;5;241m.\u001B[39mpid:\n",
      "File \u001B[0;32m/usr/local/lib/python3.11/subprocess.py:1953\u001B[0m, in \u001B[0;36mPopen._try_wait\u001B[0;34m(self, wait_flags)\u001B[0m\n\u001B[1;32m   1951\u001B[0m \u001B[38;5;250m\u001B[39m\u001B[38;5;124;03m\"\"\"All callers to this function MUST hold self._waitpid_lock.\"\"\"\u001B[39;00m\n\u001B[1;32m   1952\u001B[0m \u001B[38;5;28;01mtry\u001B[39;00m:\n\u001B[0;32m-> 1953\u001B[0m     (pid, sts) \u001B[38;5;241m=\u001B[39m os\u001B[38;5;241m.\u001B[39mwaitpid(\u001B[38;5;28mself\u001B[39m\u001B[38;5;241m.\u001B[39mpid, wait_flags)\n\u001B[1;32m   1954\u001B[0m \u001B[38;5;28;01mexcept\u001B[39;00m \u001B[38;5;167;01mChildProcessError\u001B[39;00m:\n\u001B[1;32m   1955\u001B[0m     \u001B[38;5;66;03m# This happens if SIGCLD is set to be ignored or waiting\u001B[39;00m\n\u001B[1;32m   1956\u001B[0m     \u001B[38;5;66;03m# for child processes has otherwise been disabled for our\u001B[39;00m\n\u001B[1;32m   1957\u001B[0m     \u001B[38;5;66;03m# process.  This child is dead, we can't get the status.\u001B[39;00m\n\u001B[1;32m   1958\u001B[0m     pid \u001B[38;5;241m=\u001B[39m \u001B[38;5;28mself\u001B[39m\u001B[38;5;241m.\u001B[39mpid\n",
      "\u001B[0;31mKeyboardInterrupt\u001B[0m: "
     ]
    }
   ],
   "source": [
    "import subprocess\n",
    "\n",
    "regen = True\n",
    "threads = 32\n",
    "input_bam_paths = {lib_name: obj.bam_path for lib_name, obj in obj_dict.items()}\n",
    "overall_output_dir = working_dir / \"featureCounts_testing\"\n",
    "overall_output_dir.mkdir(exist_ok=True)\n",
    "\n",
    "\n",
    "for lib, lib_obj in obj_dict.items():\n",
    "    bam_path = lib_obj.bam_path\n",
    "    gtf_path = lib_obj.gtf_path\n",
    "    output_dir = overall_output_dir / lib\n",
    "    output_dir.mkdir(exist_ok=True)\n",
    "    \n",
    "    assigned_read_output_file = output_dir / (str(Path(bam_path).name) + \".featureCounts\")\n",
    "    gene_count_output_file = output_dir / f\"{npCommon.get_dt(for_file=True)}_{lib}_featureCounts\"\n",
    "    if regen or not gene_count_output_file.exists():\n",
    "        featCounts_call = (f\"featureCounts -L -T {threads} -R CORE -a {gtf_path} \"\n",
    "                           f\"-o {output_dir}/{npCommon.get_dt(for_file=True)}_{lib}_featureCounts \"\n",
    "                           f\"--largestOverlap -s 1 \"\n",
    "                           f\"{bam_path}\")\n",
    "        # TODO: Turn back on\n",
    "        subprocess.run(featCounts_call, shell=True)\n",
    "    else:\n",
    "        print(f\"Already ran {lib}! w/ input file {bam_path}, gtf file {gtf_path} and output file {gene_count_output_file}!\")\n",
    "    \n",
    "    # These would be names for the pure featureCounts output: names=[\"GeneID\", \"Chr\", \"Start\", \"End\", \"Strand\", \"Length\", lib]\n",
    "    featCounts_df = pd.read_csv(gene_count_output_file, sep=\"\\t\", skiprows=2, names=[\"GeneID\", \"Chr\", \"Start\", \"End\", \"Strand\", \"Length\", lib])\n",
    "    print(featCounts_df.head())\n",
    "    break"
   ],
   "metadata": {
    "collapsed": false,
    "ExecuteTime": {
     "end_time": "2024-04-29T18:36:32.054880525Z",
     "start_time": "2024-04-29T18:27:54.640652283Z"
    }
   },
   "id": "2fea8791f0a0a2f7",
   "execution_count": 10
  },
  {
   "cell_type": "code",
   "outputs": [],
   "source": [
    "genes_to_print = [\n",
    "    'WBGene00023068',\n",
    "    'WBGene00023067',\n",
    "]\n",
    "\n",
    "featCounts_df.query(f\"index in @genes_to_print\")"
   ],
   "metadata": {
    "collapsed": false,
    "ExecuteTime": {
     "start_time": "2024-04-29T18:36:32.048805019Z"
    }
   },
   "id": "64407a9bc91b1be",
   "execution_count": null
  },
  {
   "cell_type": "code",
   "outputs": [
    {
     "name": "stderr",
     "output_type": "stream",
     "text": [
      "\n",
      "        ==========     _____ _    _ ____  _____  ______          _____  \n",
      "        =====         / ____| |  | |  _ \\|  __ \\|  ____|   /\\   |  __ \\ \n",
      "          =====      | (___ | |  | | |_) | |__) | |__     /  \\  | |  | |\n",
      "            ====      \\___ \\| |  | |  _ <|  _  /|  __|   / /\\ \\ | |  | |\n",
      "              ====    ____) | |__| | |_) | | \\ \\| |____ / ____ \\| |__| |\n",
      "        ==========   |_____/ \\____/|____/|_|  \\_\\______/_/    \\_\\_____/\n",
      "\t  v2.0.0\n",
      "\n",
      "//========================== featureCounts setting ===========================\\\\\n",
      "||                                                                            ||\n",
      "||             Input files : 6 BAM files                                      ||\n",
      "||                           o cat.sorted.mappedAndPrimary.bam                ||\n",
      "||                           o cat.sorted.mappedAndPrimary.bam                ||\n",
      "||                           o cat.sorted.mappedAndPrimary.bam                ||\n",
      "||                           o cat.sorted.mappedAndPrimary.bam                ||\n",
      "||                           o cat.sorted.mappedAndPrimary.bam                ||\n",
      "||                           o cat.sorted.mappedAndPrimary.bam                ||\n",
      "||                                                                            ||\n",
      "||             Output file : 240429_polyA1-polyA2-polyA3-totalRNA1-totalR ... ||\n",
      "||                 Summary : 240429_polyA1-polyA2-polyA3-totalRNA1-totalR ... ||\n",
      "||              Annotation : 210928_allChrs_plus-pTRI.gtf (GTF)               ||\n",
      "||      Dir for temp files : /data16/marcus/scripts/nanoporePipelineScrip ... ||\n",
      "||      Assignment details : <input_file>.featureCounts                       ||\n",
      "||                      (Note that files are saved to the output directory)   ||\n",
      "||                                                                            ||\n",
      "||                                                                            ||\n",
      "||                 Threads : 16                                               ||\n",
      "||                   Level : meta-feature level                               ||\n",
      "||              Paired-end : no                                               ||\n",
      "||      Multimapping reads : not counted                                      ||\n",
      "|| Multi-overlapping reads : not counted                                      ||\n",
      "||   Min overlapping bases : 1                                                ||\n",
      "||          Long read mode : yes                                              ||\n",
      "||                                                                            ||\n",
      "\\\\============================================================================//\n",
      "\n",
      "//================================= Running ==================================\\\\\n",
      "||                                                                            ||\n",
      "|| Load annotation file 210928_allChrs_plus-pTRI.gtf ...                      ||\n",
      "||    Features : 273642                                                       ||\n",
      "||    Meta-features : 46905                                                   ||\n",
      "||    Chromosomes/contigs : 8                                                 ||\n",
      "||                                                                            ||\n",
      "|| Process BAM file cat.sorted.mappedAndPrimary.bam...                        ||\n",
      "||    Strand specific : stranded                                              ||\n",
      "||    Single-end reads are included.                                          ||\n",
      "||    Total alignments : 1972572                                              ||\n",
      "||    Successfully assigned alignments : 1963087 (99.5%)                      ||\n",
      "||    Running time : 8.64 minutes                                             ||\n",
      "||                                                                            ||\n",
      "|| Process BAM file cat.sorted.mappedAndPrimary.bam...                        ||\n",
      "||    Strand specific : stranded                                              ||\n",
      "||    Single-end reads are included.                                          ||\n",
      "||    Total alignments : 1344543                                              ||\n",
      "||    Successfully assigned alignments : 1336530 (99.4%)                      ||\n",
      "||    Running time : 5.48 minutes                                             ||\n",
      "||                                                                            ||\n",
      "|| Process BAM file cat.sorted.mappedAndPrimary.bam...                        ||\n",
      "||    Strand specific : stranded                                              ||\n",
      "||    Single-end reads are included.                                          ||\n",
      "||    Total alignments : 1754610                                              ||\n",
      "||    Successfully assigned alignments : 1747422 (99.6%)                      ||\n",
      "||    Running time : 8.44 minutes                                             ||\n",
      "||                                                                            ||\n",
      "|| Process BAM file cat.sorted.mappedAndPrimary.bam...                        ||\n",
      "||    Strand specific : stranded                                              ||\n",
      "||    Single-end reads are included.                                          ||\n",
      "||    Total alignments : 89636                                                ||\n",
      "||    Successfully assigned alignments : 89002 (99.3%)                        ||\n",
      "||    Running time : 0.46 minutes                                             ||\n",
      "||                                                                            ||\n",
      "|| Process BAM file cat.sorted.mappedAndPrimary.bam...                        ||\n",
      "||    Strand specific : stranded                                              ||\n",
      "||    Single-end reads are included.                                          ||\n",
      "||    Total alignments : 702215                                               ||\n",
      "||    Successfully assigned alignments : 697736 (99.4%)                       ||\n",
      "||    Running time : 3.18 minutes                                             ||\n",
      "||                                                                            ||\n",
      "|| Process BAM file cat.sorted.mappedAndPrimary.bam...                        ||\n",
      "||    Strand specific : stranded                                              ||\n",
      "||    Single-end reads are included.                                          ||\n",
      "||    Total alignments : 1234635                                              ||\n",
      "||    Successfully assigned alignments : 1228387 (99.5%)                      ||\n",
      "||    Running time : 5.30 minutes                                             ||\n",
      "||                                                                            ||\n",
      "||                                                                            ||\n",
      "|| Summary of counting results can be found in file \"/data16/marcus/scripts/  ||\n",
      "|| nanoporePipelineScripts/DESeq2_fromGeneCounts/featureCounts_testing/allLi  ||\n",
      "|| bs_fractional/240429_polyA1-polyA2-polyA3-totalRNA1-totalRNA2-totalRNA3_f  ||\n",
      "|| eatureCounts.summary\"                                                      ||\n",
      "||                                                                            ||\n",
      "\\\\============================================================================//\n",
      "\n"
     ]
    }
   ],
   "source": [
    "regen = False\n",
    "gtf_path = obj_dict['polyA1'].gtf_path\n",
    "bam_paths_dict = {lib: obj.bam_path for lib, obj in obj_dict.items()}\n",
    "bam_paths = [str(lib_bam_path) for lib, lib_bam_path in bam_paths_dict.items()]\n",
    "libs = list(obj_dict.keys())\n",
    "output_dir = overall_output_dir / \"allLibs_fractional\"\n",
    "output_dir.mkdir(exist_ok=True)\n",
    "\n",
    "gene_count_alllibs_output_file = output_dir / f\"{npCommon.get_dt(for_file=True)}_{'-'.join(libs)}_featureCounts\"\n",
    "if regen or not gene_count_alllibs_output_file.exists():\n",
    "    featCounts_call = (f\"featureCounts -L -T {threads} -R CORE -a {gtf_path} \"\n",
    "                       f\"-o {gene_count_alllibs_output_file} \"\n",
    "                       # f\"-O \"  # this will count all features that a read overlaps, instead of tossing it!\n",
    "                       # f\"--fraction \"\n",
    "                       f\"--largestOverlap -s 1 \"\n",
    "                       f\"{' '.join(bam_paths)}\")\n",
    "    subprocess.run(featCounts_call, shell=True)\n",
    "else:\n",
    "    print(f\"Already ran {'-'.join(libs)}! w/ input files {bam_paths}, gtf file {gtf_path} and output file {gene_count_alllibs_output_file}!\")"
   ],
   "metadata": {
    "collapsed": false,
    "ExecuteTime": {
     "end_time": "2024-04-29T19:08:29.465740276Z",
     "start_time": "2024-04-29T18:36:50.092181135Z"
    }
   },
   "id": "ca788d16c6f9d860",
   "execution_count": 12
  },
  {
   "cell_type": "code",
   "outputs": [
    {
     "name": "stdout",
     "output_type": "stream",
     "text": [
      "{'/data16/marcus/working/210528_NanoporeRun_0639_L3s/output_dir/cat_files/cat.sorted.mappedAndPrimary.bam': 'polyA1', '/data16/marcus/working/210719_nanoporeRun_polyA_0639_L3_replicate/output_dir/cat_files/cat.sorted.mappedAndPrimary.bam': 'polyA2', '/data16/marcus/working/220131_nanoporeRun_polyA_0639_L3_third/output_dir/cat_files/cat.sorted.mappedAndPrimary.bam': 'polyA3', '/data16/marcus/working/210709_NanoporeRun_totalRNA_0639_L3/output_dir/cat_files/cat.sorted.mappedAndPrimary.bam': 'totalRNA1', '/data16/marcus/working/210720_nanoporeRun_totalRNA_0639_L3_replicate/output_dir/cat_files/cat.sorted.mappedAndPrimary.bam': 'totalRNA2', '/data16/marcus/working/220131_nanoporeRun_totalRNA_0639_L3_third/output_dir/cat_files/cat.sorted.mappedAndPrimary.bam': 'totalRNA3'}\n"
     ]
    },
    {
     "data": {
      "text/plain": "                polyA1  polyA2  polyA3  totalRNA1  totalRNA2  totalRNA3    sum\nGene_ID                                                                       \nWBGene00010965   29388   24489   12365       1581      11435      10403  89661\nWBGene00010964   16100   17959    7232       1687      11901      12684  67563\nWBGene00010960   16647   16723    7746       1294       9330       9256  60996\nWBGene00010962   17495   14532    8226        982       7365       8208  56808\nWBGene00004494   11602    9348   14101        516       4109       8954  48630\nWBGene00001168   12013    7874   11884        521       4543       8832  45667\nWBGene00021350   10041    7417   12343        435       3476       7592  41304\nWBGene00004477    9550    7078   11696        408       3121       6633  38486\nWBGene00004492    9427    7078   11487        391       3003       6326  37712\nWBGene00000829    8739    9066    4791        799       5772       7143  36310\nWBGene00004421    9572    6494    9962        379       2848       5781  35036\nWBGene00001386   11240    7328    8135        462       3207       4117  34489\nWBGene00004484    8618    6194   10306        392       2857       5767  34134\nWBGene00004409    7623    6086    9301        411       3081       5717  32219\nWBGene00004441    7579    5536   10141        253       2454       5538  31501\nWBGene00022336    8720    5732    8668        377       3018       4888  31403\nWBGene00010966    8226   10206    3540        663       4881       3440  30956\nWBGene00004434    7478    5727    9232        287       2603       5626  30953\nWBGene00004454    6659    5417   10068        254       2518       5965  30881\nWBGene00004478    7519    5556    9208        341       2653       5454  30731\nWBGene00004452    6596    5607   10014        292       2434       5524  30467\nWBGene00004408    8656    5445    8147        344       2653       4867  30112\nWBGene00019322    8282    4662    6932        373       2910       5774  28933\nWBGene00004483    6977    5344    7540        341       2607       5297  28106\nWBGene00004446    6269    4988    8366        273       2502       5441  27839",
      "text/html": "<div>\n<style scoped>\n    .dataframe tbody tr th:only-of-type {\n        vertical-align: middle;\n    }\n\n    .dataframe tbody tr th {\n        vertical-align: top;\n    }\n\n    .dataframe thead th {\n        text-align: right;\n    }\n</style>\n<table border=\"1\" class=\"dataframe\">\n  <thead>\n    <tr style=\"text-align: right;\">\n      <th></th>\n      <th>polyA1</th>\n      <th>polyA2</th>\n      <th>polyA3</th>\n      <th>totalRNA1</th>\n      <th>totalRNA2</th>\n      <th>totalRNA3</th>\n      <th>sum</th>\n    </tr>\n    <tr>\n      <th>Gene_ID</th>\n      <th></th>\n      <th></th>\n      <th></th>\n      <th></th>\n      <th></th>\n      <th></th>\n      <th></th>\n    </tr>\n  </thead>\n  <tbody>\n    <tr>\n      <th>WBGene00010965</th>\n      <td>29388</td>\n      <td>24489</td>\n      <td>12365</td>\n      <td>1581</td>\n      <td>11435</td>\n      <td>10403</td>\n      <td>89661</td>\n    </tr>\n    <tr>\n      <th>WBGene00010964</th>\n      <td>16100</td>\n      <td>17959</td>\n      <td>7232</td>\n      <td>1687</td>\n      <td>11901</td>\n      <td>12684</td>\n      <td>67563</td>\n    </tr>\n    <tr>\n      <th>WBGene00010960</th>\n      <td>16647</td>\n      <td>16723</td>\n      <td>7746</td>\n      <td>1294</td>\n      <td>9330</td>\n      <td>9256</td>\n      <td>60996</td>\n    </tr>\n    <tr>\n      <th>WBGene00010962</th>\n      <td>17495</td>\n      <td>14532</td>\n      <td>8226</td>\n      <td>982</td>\n      <td>7365</td>\n      <td>8208</td>\n      <td>56808</td>\n    </tr>\n    <tr>\n      <th>WBGene00004494</th>\n      <td>11602</td>\n      <td>9348</td>\n      <td>14101</td>\n      <td>516</td>\n      <td>4109</td>\n      <td>8954</td>\n      <td>48630</td>\n    </tr>\n    <tr>\n      <th>WBGene00001168</th>\n      <td>12013</td>\n      <td>7874</td>\n      <td>11884</td>\n      <td>521</td>\n      <td>4543</td>\n      <td>8832</td>\n      <td>45667</td>\n    </tr>\n    <tr>\n      <th>WBGene00021350</th>\n      <td>10041</td>\n      <td>7417</td>\n      <td>12343</td>\n      <td>435</td>\n      <td>3476</td>\n      <td>7592</td>\n      <td>41304</td>\n    </tr>\n    <tr>\n      <th>WBGene00004477</th>\n      <td>9550</td>\n      <td>7078</td>\n      <td>11696</td>\n      <td>408</td>\n      <td>3121</td>\n      <td>6633</td>\n      <td>38486</td>\n    </tr>\n    <tr>\n      <th>WBGene00004492</th>\n      <td>9427</td>\n      <td>7078</td>\n      <td>11487</td>\n      <td>391</td>\n      <td>3003</td>\n      <td>6326</td>\n      <td>37712</td>\n    </tr>\n    <tr>\n      <th>WBGene00000829</th>\n      <td>8739</td>\n      <td>9066</td>\n      <td>4791</td>\n      <td>799</td>\n      <td>5772</td>\n      <td>7143</td>\n      <td>36310</td>\n    </tr>\n    <tr>\n      <th>WBGene00004421</th>\n      <td>9572</td>\n      <td>6494</td>\n      <td>9962</td>\n      <td>379</td>\n      <td>2848</td>\n      <td>5781</td>\n      <td>35036</td>\n    </tr>\n    <tr>\n      <th>WBGene00001386</th>\n      <td>11240</td>\n      <td>7328</td>\n      <td>8135</td>\n      <td>462</td>\n      <td>3207</td>\n      <td>4117</td>\n      <td>34489</td>\n    </tr>\n    <tr>\n      <th>WBGene00004484</th>\n      <td>8618</td>\n      <td>6194</td>\n      <td>10306</td>\n      <td>392</td>\n      <td>2857</td>\n      <td>5767</td>\n      <td>34134</td>\n    </tr>\n    <tr>\n      <th>WBGene00004409</th>\n      <td>7623</td>\n      <td>6086</td>\n      <td>9301</td>\n      <td>411</td>\n      <td>3081</td>\n      <td>5717</td>\n      <td>32219</td>\n    </tr>\n    <tr>\n      <th>WBGene00004441</th>\n      <td>7579</td>\n      <td>5536</td>\n      <td>10141</td>\n      <td>253</td>\n      <td>2454</td>\n      <td>5538</td>\n      <td>31501</td>\n    </tr>\n    <tr>\n      <th>WBGene00022336</th>\n      <td>8720</td>\n      <td>5732</td>\n      <td>8668</td>\n      <td>377</td>\n      <td>3018</td>\n      <td>4888</td>\n      <td>31403</td>\n    </tr>\n    <tr>\n      <th>WBGene00010966</th>\n      <td>8226</td>\n      <td>10206</td>\n      <td>3540</td>\n      <td>663</td>\n      <td>4881</td>\n      <td>3440</td>\n      <td>30956</td>\n    </tr>\n    <tr>\n      <th>WBGene00004434</th>\n      <td>7478</td>\n      <td>5727</td>\n      <td>9232</td>\n      <td>287</td>\n      <td>2603</td>\n      <td>5626</td>\n      <td>30953</td>\n    </tr>\n    <tr>\n      <th>WBGene00004454</th>\n      <td>6659</td>\n      <td>5417</td>\n      <td>10068</td>\n      <td>254</td>\n      <td>2518</td>\n      <td>5965</td>\n      <td>30881</td>\n    </tr>\n    <tr>\n      <th>WBGene00004478</th>\n      <td>7519</td>\n      <td>5556</td>\n      <td>9208</td>\n      <td>341</td>\n      <td>2653</td>\n      <td>5454</td>\n      <td>30731</td>\n    </tr>\n    <tr>\n      <th>WBGene00004452</th>\n      <td>6596</td>\n      <td>5607</td>\n      <td>10014</td>\n      <td>292</td>\n      <td>2434</td>\n      <td>5524</td>\n      <td>30467</td>\n    </tr>\n    <tr>\n      <th>WBGene00004408</th>\n      <td>8656</td>\n      <td>5445</td>\n      <td>8147</td>\n      <td>344</td>\n      <td>2653</td>\n      <td>4867</td>\n      <td>30112</td>\n    </tr>\n    <tr>\n      <th>WBGene00019322</th>\n      <td>8282</td>\n      <td>4662</td>\n      <td>6932</td>\n      <td>373</td>\n      <td>2910</td>\n      <td>5774</td>\n      <td>28933</td>\n    </tr>\n    <tr>\n      <th>WBGene00004483</th>\n      <td>6977</td>\n      <td>5344</td>\n      <td>7540</td>\n      <td>341</td>\n      <td>2607</td>\n      <td>5297</td>\n      <td>28106</td>\n    </tr>\n    <tr>\n      <th>WBGene00004446</th>\n      <td>6269</td>\n      <td>4988</td>\n      <td>8366</td>\n      <td>273</td>\n      <td>2502</td>\n      <td>5441</td>\n      <td>27839</td>\n    </tr>\n  </tbody>\n</table>\n</div>"
     },
     "execution_count": 13,
     "metadata": {},
     "output_type": "execute_result"
    }
   ],
   "source": [
    "rev_bam_paths_dict = {str(v): k for k, v in bam_paths_dict.items()}\n",
    "print(rev_bam_paths_dict)\n",
    "\n",
    "featCounts_alllibs_df = pd.read_csv(gene_count_alllibs_output_file,\n",
    "                                    sep=\"\\t\",\n",
    "                                    skiprows=1,\n",
    "                                    # names=[\"GeneID\", \"Chr\", \"Start\", \"End\", \"Strand\", \"Length\"] + libs,\n",
    "                                    )\n",
    "featCounts_alllibs_df.rename(columns={\"Geneid\": \"Gene_ID\"}, inplace=True)\n",
    "featCounts_alllibs_df.rename(columns=rev_bam_paths_dict, inplace=True)\n",
    "featCounts_alllibs_df.set_index(\"Gene_ID\", inplace=True)\n",
    "featCounts_alllibs_simple_df = featCounts_alllibs_df[libs].copy()\n",
    "featCounts_alllibs_simple_df[\"sum\"] = featCounts_alllibs_simple_df.sum(axis=1)\n",
    "featCounts_alllibs_simple_df.sort_values(\"sum\", ascending=False, inplace=True)\n",
    "featCounts_alllibs_simple_df.head(25)"
   ],
   "metadata": {
    "collapsed": false,
    "ExecuteTime": {
     "end_time": "2024-04-29T19:09:57.751842543Z",
     "start_time": "2024-04-29T19:09:57.647501549Z"
    }
   },
   "id": "82e3258262aa295c",
   "execution_count": 13
  },
  {
   "cell_type": "code",
   "outputs": [
    {
     "data": {
      "text/plain": "                polyA1  polyA2  polyA3  totalRNA1  totalRNA2  totalRNA3    sum\nGene_ID                                                                       \nWBGene00023068    6339    5215    8211        444       2290       4176  26675\nWBGene00023067     418     367     411         25        154        178   1553",
      "text/html": "<div>\n<style scoped>\n    .dataframe tbody tr th:only-of-type {\n        vertical-align: middle;\n    }\n\n    .dataframe tbody tr th {\n        vertical-align: top;\n    }\n\n    .dataframe thead th {\n        text-align: right;\n    }\n</style>\n<table border=\"1\" class=\"dataframe\">\n  <thead>\n    <tr style=\"text-align: right;\">\n      <th></th>\n      <th>polyA1</th>\n      <th>polyA2</th>\n      <th>polyA3</th>\n      <th>totalRNA1</th>\n      <th>totalRNA2</th>\n      <th>totalRNA3</th>\n      <th>sum</th>\n    </tr>\n    <tr>\n      <th>Gene_ID</th>\n      <th></th>\n      <th></th>\n      <th></th>\n      <th></th>\n      <th></th>\n      <th></th>\n      <th></th>\n    </tr>\n  </thead>\n  <tbody>\n    <tr>\n      <th>WBGene00023068</th>\n      <td>6339</td>\n      <td>5215</td>\n      <td>8211</td>\n      <td>444</td>\n      <td>2290</td>\n      <td>4176</td>\n      <td>26675</td>\n    </tr>\n    <tr>\n      <th>WBGene00023067</th>\n      <td>418</td>\n      <td>367</td>\n      <td>411</td>\n      <td>25</td>\n      <td>154</td>\n      <td>178</td>\n      <td>1553</td>\n    </tr>\n  </tbody>\n</table>\n</div>"
     },
     "execution_count": 14,
     "metadata": {},
     "output_type": "execute_result"
    }
   ],
   "source": [
    "genes_to_print = [\n",
    "    'WBGene00023068',\n",
    "    'WBGene00023067',\n",
    "]\n",
    "\n",
    "featCounts_alllibs_simple_df.query(f\"index in @genes_to_print\")\n"
   ],
   "metadata": {
    "collapsed": false,
    "ExecuteTime": {
     "end_time": "2024-04-29T19:10:05.591675351Z",
     "start_time": "2024-04-29T19:10:05.579770271Z"
    }
   },
   "id": "1357c2bd645a635d",
   "execution_count": 14
  },
  {
   "cell_type": "code",
   "outputs": [
    {
     "name": "stdout",
     "output_type": "stream",
     "text": [
      "polyA1 total assigned reads: 1,963,087\n",
      "polyA2 total assigned reads: 1,336,530\n",
      "polyA3 total assigned reads: 1,747,422\n",
      "totalRNA2 total assigned reads: 697,736\n",
      "totalRNA3 total assigned reads: 1,228,387\n"
     ]
    },
    {
     "data": {
      "text/plain": "                polyA1  polyA2  polyA3  totalRNA2  totalRNA3\nGene_ID                                                     \nWBGene00010965   29388   24489   12365      11435      10403\nWBGene00010964   16100   17959    7232      11901      12684\nWBGene00010960   16647   16723    7746       9330       9256\nWBGene00010962   17495   14532    8226       7365       8208\nWBGene00004494   11602    9348   14101       4109       8954\nWBGene00001168   12013    7874   11884       4543       8832\nWBGene00021350   10041    7417   12343       3476       7592\nWBGene00004477    9550    7078   11696       3121       6633\nWBGene00004492    9427    7078   11487       3003       6326\nWBGene00000829    8739    9066    4791       5772       7143\nWBGene00004421    9572    6494    9962       2848       5781\nWBGene00001386   11240    7328    8135       3207       4117\nWBGene00004484    8618    6194   10306       2857       5767\nWBGene00004409    7623    6086    9301       3081       5717\nWBGene00004441    7579    5536   10141       2454       5538\nWBGene00022336    8720    5732    8668       3018       4888\nWBGene00010966    8226   10206    3540       4881       3440\nWBGene00004434    7478    5727    9232       2603       5626\nWBGene00004454    6659    5417   10068       2518       5965\nWBGene00004478    7519    5556    9208       2653       5454\nWBGene00004452    6596    5607   10014       2434       5524\nWBGene00004408    8656    5445    8147       2653       4867\nWBGene00019322    8282    4662    6932       2910       5774\nWBGene00004483    6977    5344    7540       2607       5297\nWBGene00004446    6269    4988    8366       2502       5441\nWBGene00004414    7445    4753    7648       2431       4790\nWBGene00006439    7276    4584    7463       2710       4885\nWBGene00016943    9163    5363    6030       2437       3598\nWBGene00023068    6339    5215    8211       2290       4176\nWBGene00004493    5643    4183    8715       2168       5480\nWBGene00004480    6106    4753    7334       2621       5014\nWBGene00004443    5277    4432    8163       2206       4941\nWBGene00004427    6406    4710    7031       2289       4490\nWBGene00004418    5974    3891    8007       2033       4958\nWBGene00006728    5855    4627    7254       2379       4708\nWBGene00004486    6095    4253    7764       1853       4827\nWBGene00004495    6034    4673    7108       2290       4280\nWBGene00004472    6390    4378    6895       2249       4435\nWBGene00018297    7449    4910    6378       2279       3230\nWBGene00004485    5961    4490    6914       2246       4473\nWBGene00004489    6343    4642    6752       2113       4157\nWBGene00004435    6079    4549    6928       2112       4347\nWBGene00004426    5358    4155    7634       2026       4678\nWBGene00004413    6061    3985    6880       2389       4486\nWBGene00004481    5369    4100    7071       2181       4645\nWBGene00004450    5060    4177    7198       2147       4763\nWBGene00004487    5675    4288    6890       2107       4174\nWBGene00000214    7747    4768    4478       2769       3198\nWBGene00004470    6027    4095    6723       2091       4032\nWBGene00004429    5472    3930    6507       2124       4452",
      "text/html": "<div>\n<style scoped>\n    .dataframe tbody tr th:only-of-type {\n        vertical-align: middle;\n    }\n\n    .dataframe tbody tr th {\n        vertical-align: top;\n    }\n\n    .dataframe thead th {\n        text-align: right;\n    }\n</style>\n<table border=\"1\" class=\"dataframe\">\n  <thead>\n    <tr style=\"text-align: right;\">\n      <th></th>\n      <th>polyA1</th>\n      <th>polyA2</th>\n      <th>polyA3</th>\n      <th>totalRNA2</th>\n      <th>totalRNA3</th>\n    </tr>\n    <tr>\n      <th>Gene_ID</th>\n      <th></th>\n      <th></th>\n      <th></th>\n      <th></th>\n      <th></th>\n    </tr>\n  </thead>\n  <tbody>\n    <tr>\n      <th>WBGene00010965</th>\n      <td>29388</td>\n      <td>24489</td>\n      <td>12365</td>\n      <td>11435</td>\n      <td>10403</td>\n    </tr>\n    <tr>\n      <th>WBGene00010964</th>\n      <td>16100</td>\n      <td>17959</td>\n      <td>7232</td>\n      <td>11901</td>\n      <td>12684</td>\n    </tr>\n    <tr>\n      <th>WBGene00010960</th>\n      <td>16647</td>\n      <td>16723</td>\n      <td>7746</td>\n      <td>9330</td>\n      <td>9256</td>\n    </tr>\n    <tr>\n      <th>WBGene00010962</th>\n      <td>17495</td>\n      <td>14532</td>\n      <td>8226</td>\n      <td>7365</td>\n      <td>8208</td>\n    </tr>\n    <tr>\n      <th>WBGene00004494</th>\n      <td>11602</td>\n      <td>9348</td>\n      <td>14101</td>\n      <td>4109</td>\n      <td>8954</td>\n    </tr>\n    <tr>\n      <th>WBGene00001168</th>\n      <td>12013</td>\n      <td>7874</td>\n      <td>11884</td>\n      <td>4543</td>\n      <td>8832</td>\n    </tr>\n    <tr>\n      <th>WBGene00021350</th>\n      <td>10041</td>\n      <td>7417</td>\n      <td>12343</td>\n      <td>3476</td>\n      <td>7592</td>\n    </tr>\n    <tr>\n      <th>WBGene00004477</th>\n      <td>9550</td>\n      <td>7078</td>\n      <td>11696</td>\n      <td>3121</td>\n      <td>6633</td>\n    </tr>\n    <tr>\n      <th>WBGene00004492</th>\n      <td>9427</td>\n      <td>7078</td>\n      <td>11487</td>\n      <td>3003</td>\n      <td>6326</td>\n    </tr>\n    <tr>\n      <th>WBGene00000829</th>\n      <td>8739</td>\n      <td>9066</td>\n      <td>4791</td>\n      <td>5772</td>\n      <td>7143</td>\n    </tr>\n    <tr>\n      <th>WBGene00004421</th>\n      <td>9572</td>\n      <td>6494</td>\n      <td>9962</td>\n      <td>2848</td>\n      <td>5781</td>\n    </tr>\n    <tr>\n      <th>WBGene00001386</th>\n      <td>11240</td>\n      <td>7328</td>\n      <td>8135</td>\n      <td>3207</td>\n      <td>4117</td>\n    </tr>\n    <tr>\n      <th>WBGene00004484</th>\n      <td>8618</td>\n      <td>6194</td>\n      <td>10306</td>\n      <td>2857</td>\n      <td>5767</td>\n    </tr>\n    <tr>\n      <th>WBGene00004409</th>\n      <td>7623</td>\n      <td>6086</td>\n      <td>9301</td>\n      <td>3081</td>\n      <td>5717</td>\n    </tr>\n    <tr>\n      <th>WBGene00004441</th>\n      <td>7579</td>\n      <td>5536</td>\n      <td>10141</td>\n      <td>2454</td>\n      <td>5538</td>\n    </tr>\n    <tr>\n      <th>WBGene00022336</th>\n      <td>8720</td>\n      <td>5732</td>\n      <td>8668</td>\n      <td>3018</td>\n      <td>4888</td>\n    </tr>\n    <tr>\n      <th>WBGene00010966</th>\n      <td>8226</td>\n      <td>10206</td>\n      <td>3540</td>\n      <td>4881</td>\n      <td>3440</td>\n    </tr>\n    <tr>\n      <th>WBGene00004434</th>\n      <td>7478</td>\n      <td>5727</td>\n      <td>9232</td>\n      <td>2603</td>\n      <td>5626</td>\n    </tr>\n    <tr>\n      <th>WBGene00004454</th>\n      <td>6659</td>\n      <td>5417</td>\n      <td>10068</td>\n      <td>2518</td>\n      <td>5965</td>\n    </tr>\n    <tr>\n      <th>WBGene00004478</th>\n      <td>7519</td>\n      <td>5556</td>\n      <td>9208</td>\n      <td>2653</td>\n      <td>5454</td>\n    </tr>\n    <tr>\n      <th>WBGene00004452</th>\n      <td>6596</td>\n      <td>5607</td>\n      <td>10014</td>\n      <td>2434</td>\n      <td>5524</td>\n    </tr>\n    <tr>\n      <th>WBGene00004408</th>\n      <td>8656</td>\n      <td>5445</td>\n      <td>8147</td>\n      <td>2653</td>\n      <td>4867</td>\n    </tr>\n    <tr>\n      <th>WBGene00019322</th>\n      <td>8282</td>\n      <td>4662</td>\n      <td>6932</td>\n      <td>2910</td>\n      <td>5774</td>\n    </tr>\n    <tr>\n      <th>WBGene00004483</th>\n      <td>6977</td>\n      <td>5344</td>\n      <td>7540</td>\n      <td>2607</td>\n      <td>5297</td>\n    </tr>\n    <tr>\n      <th>WBGene00004446</th>\n      <td>6269</td>\n      <td>4988</td>\n      <td>8366</td>\n      <td>2502</td>\n      <td>5441</td>\n    </tr>\n    <tr>\n      <th>WBGene00004414</th>\n      <td>7445</td>\n      <td>4753</td>\n      <td>7648</td>\n      <td>2431</td>\n      <td>4790</td>\n    </tr>\n    <tr>\n      <th>WBGene00006439</th>\n      <td>7276</td>\n      <td>4584</td>\n      <td>7463</td>\n      <td>2710</td>\n      <td>4885</td>\n    </tr>\n    <tr>\n      <th>WBGene00016943</th>\n      <td>9163</td>\n      <td>5363</td>\n      <td>6030</td>\n      <td>2437</td>\n      <td>3598</td>\n    </tr>\n    <tr>\n      <th>WBGene00023068</th>\n      <td>6339</td>\n      <td>5215</td>\n      <td>8211</td>\n      <td>2290</td>\n      <td>4176</td>\n    </tr>\n    <tr>\n      <th>WBGene00004493</th>\n      <td>5643</td>\n      <td>4183</td>\n      <td>8715</td>\n      <td>2168</td>\n      <td>5480</td>\n    </tr>\n    <tr>\n      <th>WBGene00004480</th>\n      <td>6106</td>\n      <td>4753</td>\n      <td>7334</td>\n      <td>2621</td>\n      <td>5014</td>\n    </tr>\n    <tr>\n      <th>WBGene00004443</th>\n      <td>5277</td>\n      <td>4432</td>\n      <td>8163</td>\n      <td>2206</td>\n      <td>4941</td>\n    </tr>\n    <tr>\n      <th>WBGene00004427</th>\n      <td>6406</td>\n      <td>4710</td>\n      <td>7031</td>\n      <td>2289</td>\n      <td>4490</td>\n    </tr>\n    <tr>\n      <th>WBGene00004418</th>\n      <td>5974</td>\n      <td>3891</td>\n      <td>8007</td>\n      <td>2033</td>\n      <td>4958</td>\n    </tr>\n    <tr>\n      <th>WBGene00006728</th>\n      <td>5855</td>\n      <td>4627</td>\n      <td>7254</td>\n      <td>2379</td>\n      <td>4708</td>\n    </tr>\n    <tr>\n      <th>WBGene00004486</th>\n      <td>6095</td>\n      <td>4253</td>\n      <td>7764</td>\n      <td>1853</td>\n      <td>4827</td>\n    </tr>\n    <tr>\n      <th>WBGene00004495</th>\n      <td>6034</td>\n      <td>4673</td>\n      <td>7108</td>\n      <td>2290</td>\n      <td>4280</td>\n    </tr>\n    <tr>\n      <th>WBGene00004472</th>\n      <td>6390</td>\n      <td>4378</td>\n      <td>6895</td>\n      <td>2249</td>\n      <td>4435</td>\n    </tr>\n    <tr>\n      <th>WBGene00018297</th>\n      <td>7449</td>\n      <td>4910</td>\n      <td>6378</td>\n      <td>2279</td>\n      <td>3230</td>\n    </tr>\n    <tr>\n      <th>WBGene00004485</th>\n      <td>5961</td>\n      <td>4490</td>\n      <td>6914</td>\n      <td>2246</td>\n      <td>4473</td>\n    </tr>\n    <tr>\n      <th>WBGene00004489</th>\n      <td>6343</td>\n      <td>4642</td>\n      <td>6752</td>\n      <td>2113</td>\n      <td>4157</td>\n    </tr>\n    <tr>\n      <th>WBGene00004435</th>\n      <td>6079</td>\n      <td>4549</td>\n      <td>6928</td>\n      <td>2112</td>\n      <td>4347</td>\n    </tr>\n    <tr>\n      <th>WBGene00004426</th>\n      <td>5358</td>\n      <td>4155</td>\n      <td>7634</td>\n      <td>2026</td>\n      <td>4678</td>\n    </tr>\n    <tr>\n      <th>WBGene00004413</th>\n      <td>6061</td>\n      <td>3985</td>\n      <td>6880</td>\n      <td>2389</td>\n      <td>4486</td>\n    </tr>\n    <tr>\n      <th>WBGene00004481</th>\n      <td>5369</td>\n      <td>4100</td>\n      <td>7071</td>\n      <td>2181</td>\n      <td>4645</td>\n    </tr>\n    <tr>\n      <th>WBGene00004450</th>\n      <td>5060</td>\n      <td>4177</td>\n      <td>7198</td>\n      <td>2147</td>\n      <td>4763</td>\n    </tr>\n    <tr>\n      <th>WBGene00004487</th>\n      <td>5675</td>\n      <td>4288</td>\n      <td>6890</td>\n      <td>2107</td>\n      <td>4174</td>\n    </tr>\n    <tr>\n      <th>WBGene00000214</th>\n      <td>7747</td>\n      <td>4768</td>\n      <td>4478</td>\n      <td>2769</td>\n      <td>3198</td>\n    </tr>\n    <tr>\n      <th>WBGene00004470</th>\n      <td>6027</td>\n      <td>4095</td>\n      <td>6723</td>\n      <td>2091</td>\n      <td>4032</td>\n    </tr>\n    <tr>\n      <th>WBGene00004429</th>\n      <td>5472</td>\n      <td>3930</td>\n      <td>6507</td>\n      <td>2124</td>\n      <td>4452</td>\n    </tr>\n  </tbody>\n</table>\n</div>"
     },
     "execution_count": 25,
     "metadata": {},
     "output_type": "execute_result"
    }
   ],
   "source": [
    "featCounts_alllibs_simple_df = featCounts_alllibs_simple_df[['polyA1', 'polyA2', 'polyA3', 'totalRNA2', 'totalRNA3']].copy()\n",
    "for col in featCounts_alllibs_simple_df.columns:\n",
    "    print(f\"{col} total assigned reads: {featCounts_alllibs_simple_df[col].sum():,}\")\n",
    "featCounts_alllibs_simple_df.head(50)"
   ],
   "metadata": {
    "collapsed": false,
    "ExecuteTime": {
     "end_time": "2024-04-29T19:17:25.135104119Z",
     "start_time": "2024-04-29T19:17:24.945584308Z"
    }
   },
   "id": "9b4132d95fd94423",
   "execution_count": 25
  },
  {
   "cell_type": "code",
   "outputs": [],
   "source": [
    "featCounts_alllibs_simple_df.to_csv(working_dir / f\"featureCounts_readCounts_{'-'.join(featCounts_alllibs_simple_df.columns)}.csv\")"
   ],
   "metadata": {
    "collapsed": false,
    "ExecuteTime": {
     "end_time": "2024-04-29T19:17:39.951647910Z",
     "start_time": "2024-04-29T19:17:39.723735758Z"
    }
   },
   "id": "f62e21139eca50d3",
   "execution_count": 26
  },
  {
   "cell_type": "code",
   "outputs": [
    {
     "data": {
      "text/plain": "                polyA1  polyA2  polyA3  totalRNA2  totalRNA3\nGene_ID                                                     \nWBGene00004446    6269    4988    8366       2502       5441\nWBGene00023068    6339    5215    8211       2290       4176\nWBGene00004419    4127    2675    4985       1825       3563\nWBGene00004432    1693    1155    1861       1654       3249\nWBGene00004451     511     404     690        184        429\nWBGene00023067     418     367     411        154        178",
      "text/html": "<div>\n<style scoped>\n    .dataframe tbody tr th:only-of-type {\n        vertical-align: middle;\n    }\n\n    .dataframe tbody tr th {\n        vertical-align: top;\n    }\n\n    .dataframe thead th {\n        text-align: right;\n    }\n</style>\n<table border=\"1\" class=\"dataframe\">\n  <thead>\n    <tr style=\"text-align: right;\">\n      <th></th>\n      <th>polyA1</th>\n      <th>polyA2</th>\n      <th>polyA3</th>\n      <th>totalRNA2</th>\n      <th>totalRNA3</th>\n    </tr>\n    <tr>\n      <th>Gene_ID</th>\n      <th></th>\n      <th></th>\n      <th></th>\n      <th></th>\n      <th></th>\n    </tr>\n  </thead>\n  <tbody>\n    <tr>\n      <th>WBGene00004446</th>\n      <td>6269</td>\n      <td>4988</td>\n      <td>8366</td>\n      <td>2502</td>\n      <td>5441</td>\n    </tr>\n    <tr>\n      <th>WBGene00023068</th>\n      <td>6339</td>\n      <td>5215</td>\n      <td>8211</td>\n      <td>2290</td>\n      <td>4176</td>\n    </tr>\n    <tr>\n      <th>WBGene00004419</th>\n      <td>4127</td>\n      <td>2675</td>\n      <td>4985</td>\n      <td>1825</td>\n      <td>3563</td>\n    </tr>\n    <tr>\n      <th>WBGene00004432</th>\n      <td>1693</td>\n      <td>1155</td>\n      <td>1861</td>\n      <td>1654</td>\n      <td>3249</td>\n    </tr>\n    <tr>\n      <th>WBGene00004451</th>\n      <td>511</td>\n      <td>404</td>\n      <td>690</td>\n      <td>184</td>\n      <td>429</td>\n    </tr>\n    <tr>\n      <th>WBGene00023067</th>\n      <td>418</td>\n      <td>367</td>\n      <td>411</td>\n      <td>154</td>\n      <td>178</td>\n    </tr>\n  </tbody>\n</table>\n</div>"
     },
     "execution_count": 30,
     "metadata": {},
     "output_type": "execute_result"
    }
   ],
   "source": [
    "genes_to_print = [\n",
    "    'WBGene00023068',\n",
    "    'WBGene00023067',\n",
    "    'WBGene00004446',\n",
    "    'WBGene00004419',\n",
    "    'WBGene00004451',\n",
    "    'WBGene00004432',\n",
    "]\n",
    "\n",
    "featCounts_alllibs_simple_df.query(f\"index in @genes_to_print\")"
   ],
   "metadata": {
    "collapsed": false,
    "ExecuteTime": {
     "end_time": "2024-04-29T20:44:40.777141446Z",
     "start_time": "2024-04-29T20:44:40.557531884Z"
    }
   },
   "id": "60362543abe37a9d",
   "execution_count": 30
  },
  {
   "cell_type": "code",
   "outputs": [],
   "source": [],
   "metadata": {
    "collapsed": false
   },
   "id": "cea3f38902277608"
  }
 ],
 "metadata": {
  "kernelspec": {
   "display_name": "Python 3",
   "language": "python",
   "name": "python3"
  },
  "language_info": {
   "codemirror_mode": {
    "name": "ipython",
    "version": 2
   },
   "file_extension": ".py",
   "mimetype": "text/x-python",
   "name": "python",
   "nbconvert_exporter": "python",
   "pygments_lexer": "ipython2",
   "version": "2.7.6"
  }
 },
 "nbformat": 4,
 "nbformat_minor": 5
}
