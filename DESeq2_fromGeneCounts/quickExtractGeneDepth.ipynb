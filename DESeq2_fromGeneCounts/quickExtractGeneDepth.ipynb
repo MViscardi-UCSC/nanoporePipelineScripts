{
 "cells": [
  {
   "cell_type": "code",
   "execution_count": 1,
   "id": "initial_id",
   "metadata": {
    "collapsed": true,
    "ExecuteTime": {
     "end_time": "2024-03-18T18:43:18.254090759Z",
     "start_time": "2024-03-18T18:43:17.982076248Z"
    }
   },
   "outputs": [
    {
     "name": "stderr",
     "output_type": "stream",
     "text": [
      "ic: 2024-03-18 11:43:18 | > 'Imports done.'\n",
      "ic: 2024-03-18 11:43:18 | > working_dir: PosixPath('/data16/marcus/scripts/nanoporePipelineScripts/DESeq2_fromGeneCounts')\n"
     ]
    }
   ],
   "source": [
    "import pandas as pd\n",
    "from pathlib import Path\n",
    "import nanoporePipelineCommon as npCommon\n",
    "\n",
    "from icecream import ic\n",
    "from datetime import datetime\n",
    "\n",
    "def __time_formatter__():\n",
    "    now = datetime.now().strftime(\"%Y-%m-%d %H:%M:%S\")\n",
    "    return f\"ic: {now} | > \"\n",
    "ic.configureOutput(prefix=__time_formatter__)\n",
    "\n",
    "\n",
    "ic(\"Imports done.\")\n",
    "working_dir = Path.cwd()\n",
    "_ = ic(working_dir)"
   ]
  },
  {
   "cell_type": "code",
   "outputs": [
    {
     "name": "stderr",
     "output_type": "stream",
     "text": [
      "ic: 2024-03-18 11:43:37 | > read_hits.head():           gene_id  newerN2  newerS6  newerS5  thirdN2  thirdS5  thirdS6\n",
      "                                              0  WBGene00001168   5037.0   7803.0   3847.0   5592.0   6896.0   2033.0\n",
      "                                              1  WBGene00004409   3369.0   5371.0   2643.0   3627.0   4149.0   1811.0\n",
      "                                              2  WBGene00004494   3091.0   4966.0   2664.0   3511.0   4206.0   1567.0\n",
      "                                              3  WBGene00004408   3043.0   5093.0   2370.0   3154.0   3821.0   1664.0\n",
      "                                              4  WBGene00004492   3013.0   4644.0   2281.0   3194.0   3759.0   1555.0\n"
     ]
    }
   ],
   "source": [
    "read_hits_path = working_dir / \"read_hits.tsv\"\n",
    "read_hits = pd.read_csv(read_hits_path, sep=\"\\t\")\n",
    "_ = ic(read_hits.head())"
   ],
   "metadata": {
    "collapsed": false,
    "ExecuteTime": {
     "end_time": "2024-03-18T18:43:37.556177434Z",
     "start_time": "2024-03-18T18:43:37.267167092Z"
    }
   },
   "id": "794ac07ca37cabac",
   "execution_count": 2
  },
  {
   "cell_type": "code",
   "outputs": [
    {
     "name": "stdout",
     "output_type": "stream",
     "text": [
      "            gene_id  newerN2  newerS6  newerS5  thirdN2  thirdS5  thirdS6\n",
      "201  WBGene00012179    395.0    633.0    321.0    436.0    505.0    180.0\n",
      "536  WBGene00004451    138.0    229.0    101.0    158.0    196.0     60.0\n"
     ]
    }
   ],
   "source": [
    "print(read_hits[read_hits['gene_id'].isin(['WBGene00012179', 'WBGene00004451'])])"
   ],
   "metadata": {
    "collapsed": false,
    "ExecuteTime": {
     "end_time": "2024-03-18T18:45:47.896245593Z",
     "start_time": "2024-03-18T18:45:47.766625546Z"
    }
   },
   "id": "ef3260a755165dc2",
   "execution_count": 4
  },
  {
   "cell_type": "code",
   "outputs": [],
   "source": [],
   "metadata": {
    "collapsed": false
   },
   "id": "45c9eac1e386366"
  }
 ],
 "metadata": {
  "kernelspec": {
   "display_name": "Python 3",
   "language": "python",
   "name": "python3"
  },
  "language_info": {
   "codemirror_mode": {
    "name": "ipython",
    "version": 2
   },
   "file_extension": ".py",
   "mimetype": "text/x-python",
   "name": "python",
   "nbconvert_exporter": "python",
   "pygments_lexer": "ipython2",
   "version": "2.7.6"
  }
 },
 "nbformat": 4,
 "nbformat_minor": 5
}
