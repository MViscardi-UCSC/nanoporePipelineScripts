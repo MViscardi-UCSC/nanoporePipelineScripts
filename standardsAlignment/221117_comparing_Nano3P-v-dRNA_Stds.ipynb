{
 "cells": [
  {
   "cell_type": "markdown",
   "source": [
    "# 221117_comparing_Nano3P-v-dRNA_Stds.ipynb\n",
    "## Marcus Viscardi,    November 17, 2022"
   ],
   "metadata": {
    "collapsed": false
   }
  },
  {
   "cell_type": "code",
   "execution_count": 2,
   "outputs": [
    {
     "name": "stdout",
     "output_type": "stream",
     "text": [
      "imports done.\n"
     ]
    }
   ],
   "source": [
    "import mappy as mp\n",
    "import sys\n",
    "sys.path.insert(0, '/data16/marcus/scripts/nanoporePipelineScripts')\n",
    "from nanoporePipelineCommon import *\n",
    "\n",
    "import seaborn as sea\n",
    "import matplotlib.pyplot as plt\n",
    "import plotly.express as px\n",
    "import plotly.graph_objects as go\n",
    "\n",
    "import numpy as np\n",
    "import pandas as pd\n",
    "pd.set_option('display.width', 200)\n",
    "pd.set_option('display.max_columns', None)\n",
    "\n",
    "print(\"imports done.\")"
   ],
   "metadata": {
    "collapsed": false
   }
  },
  {
   "cell_type": "code",
   "execution_count": 65,
   "metadata": {
    "collapsed": true
   },
   "outputs": [],
   "source": [
    "# Doing this as a class makes a lot more sense... I should do this in the future!\n",
    "class StdLibrary:\n",
    "    def __init__(self,\n",
    "                 assignment_csv: str,\n",
    "                 is_dRNA_not_Nano3P: bool,\n",
    "                 ):\n",
    "        self.raw_df = pd.read_csv(assignment_csv)\n",
    "        self.df = self.raw_df.copy(deep=True)\n",
    "        self.df['read_id'] = self.df[\"Unnamed: 0\"]\n",
    "        \n",
    "        self.is_dRNA = is_dRNA_not_Nano3P\n",
    "        self.is_Nano3P = not is_dRNA_not_Nano3P\n",
    "        \n",
    "        if self.is_dRNA:\n",
    "            self.df.sequence = self.df.sequence.str.replace(\"U\", \"T\")\n",
    "        \n",
    "        def mappy_cols_to_cols(mappy_obj_column):\n",
    "            \"\"\"\n",
    "            The main reason to have this as its own script is to handle the errors that come from failed splits (which result from failed maps!)\n",
    "            \n",
    "            :param mappy_obj_column: \n",
    "            :return: \n",
    "            \"\"\"\n",
    "            if isinstance(mappy_obj_column, str):\n",
    "                return_values = mappy_obj_column.split(\"\\t\")\n",
    "            else:\n",
    "                return_values = [None for _ in range(13)]\n",
    "            if len(return_values) == 13:\n",
    "                return return_values\n",
    "            else:\n",
    "                print(return_values)\n",
    "        \n",
    "        tqdm.pandas(desc=\"Extracting information from Mappy column\")\n",
    "        self.df[['q_st', 'q_en', 'strand', 'ctg', 'ctg_len', 'r_st', 'r_en', 'mlen', 'blen', 'mapq', 'tp', 'ts', 'cigar']] = self.df.progress_apply(lambda row: mappy_cols_to_cols(row['mappy_hit_obj']), axis=1, result_type='expand')\n",
    "        self.hit_df = self.df[self.df.assignment.isin(['00', '05', '10', '15', '30', '60'])]\n",
    "        self.hit_df['cigar'] = self.hit_df.cigar.str.rsplit(\":\", 1).str[1]\n",
    "        self.hit_df = self.hit_df.astype({\"r_st\": int, \"r_en\": int, \"q_st\": int, \"q_en\": int})\n",
    "        \n",
    "        barcode_dict = { '00': 'GGTGTTGTT', '05': 'CGGCAATAA', '10': 'TAATCGTCC', '15': 'CCTTCTAGG', '30': 'ACACACACC', '60': 'AAGAGGAGG'}\n",
    "        if self.is_Nano3P:\n",
    "            # We'll flip (rev. comp.) the barcode dict if we are working with nano3P data (cDNA sequences)\n",
    "            barcode_dict = {key: mp.revcomp(value) for key, value in barcode_dict.items()}\n",
    "        def check_for_perfect_matches(rc_barcode_dict, **row):\n",
    "            assignment = row['assignment']\n",
    "            sequence = row['sequence']\n",
    "            barcode = rc_barcode_dict[assignment]\n",
    "            perfect_barcode = barcode in sequence\n",
    "            return perfect_barcode\n",
    "        self.hit_df['perfect_barcode'] = self.hit_df.apply(lambda row: check_for_perfect_matches(barcode_dict, **row), axis=1)\n",
    "        path_to_std_ref_fasta = \"220902_version2.0_releventSequences_wOutTails.fasta\"\n",
    "        self.stds_ref_dict = {}\n",
    "        for ref_id, sequence, _, comments in mp.fastx_read(path_to_std_ref_fasta, read_comment=True):\n",
    "            cutdown_ref_id = ref_id[-6:-4]\n",
    "            self.stds_ref_dict[cutdown_ref_id] = sequence\n",
    "    \n",
    "    def plot_perfect_barcodes(self, renderer=None, save_to=None):\n",
    "        hit_df_groupby = self.hit_df.groupby(\"assignment\")\n",
    "\n",
    "        grouped_df = hit_df_groupby['assignment'].count().to_frame(name=\"total_count\")\n",
    "        grouped_df['perfect_match_count'] = hit_df_groupby['perfect_barcode'].sum().to_frame(name=\"perfect_match_count\")\n",
    "        grouped_df['mean_r_en'] = hit_df_groupby['r_en'].mean().to_frame(name=\"mean_r_en\")\n",
    "        \n",
    "        grouped_df['imperfect_match_count'] = grouped_df.total_count - grouped_df.perfect_match_count\n",
    "        grouped_df = grouped_df.reset_index()\n",
    "        fig = px.bar(grouped_df,\n",
    "                     x='assignment',\n",
    "                     y=['perfect_match_count', 'imperfect_match_count'],\n",
    "                     template=\"plotly_white\")\n",
    "        fig.update_layout(height=500, width=700)\n",
    "        fig.update_layout(legend=dict(\n",
    "            orientation='h',\n",
    "            yanchor=\"top\",\n",
    "            y=0.99,\n",
    "            xanchor=\"left\",\n",
    "            x=0.01\n",
    "        ))\n",
    "        if isinstance(renderer, str):\n",
    "            fig.show(renderer=renderer)\n",
    "        else:\n",
    "            fig.show()\n",
    "        if isinstance(save_to, str):\n",
    "            if save_to.endswith(\"html\"):\n",
    "                fig.write_html(save_to)\n",
    "            else:\n",
    "                fig.write_image(save_to)\n",
    "    \n",
    "    def print_alignments(self,\n",
    "                         number_to_print: int,\n",
    "                         select_assignment=None,\n",
    "                         constrict_to_width=None,\n",
    "                         select_with_head=False,\n",
    "                         additional_filtering_query=None):\n",
    "        def print_mappy_hit_alignment_for_stds(read_id, cigar, r_st, r_en, q_st, q_en, strand, sequence, assignment,\n",
    "                                               ref_dict=None, line_print_width=None,\n",
    "                                               **other_row_items) -> None:\n",
    "            import re\n",
    "            ref_seq = ref_dict[assignment].upper()\n",
    "            print(f\"\\nread_id={read_id}; assignment={assignment}\")\n",
    "            parsed_cigar = re.findall(rf'(\\d+)([MDNSIX])', cigar)\n",
    "            parsed_cigar = [(int(num), char) for num, char in parsed_cigar]\n",
    "            ref_seq = ref_seq[r_st: r_en]\n",
    "            ref_pos = 0\n",
    "            sequence = sequence[q_st: q_en]\n",
    "            read_pos = 0\n",
    "            if strand == \"-\":\n",
    "                sequence = mp.revcomp(sequence)\n",
    "            top_line = \"\"\n",
    "            middle_line = \"\"\n",
    "            bottom_line = \"\"\n",
    "            for length, code in parsed_cigar:\n",
    "                if code == \"M\":  # Map (Read & Ref Match)\n",
    "                    read_map_piece = sequence[read_pos:read_pos + length]\n",
    "                    ref_map_piece = ref_seq[ref_pos:ref_pos + length]\n",
    "                    perfect_matches = \"\"\n",
    "                    for index, char in enumerate(read_map_piece):\n",
    "                        try:\n",
    "                            if char == ref_map_piece[index]:\n",
    "                                perfect_matches += \"|\"\n",
    "                            else:\n",
    "                                perfect_matches += \"•\"\n",
    "                        except IndexError:\n",
    "                            perfect_matches += \" \"\n",
    "                    top_line += read_map_piece\n",
    "                    middle_line += perfect_matches\n",
    "                    bottom_line += ref_map_piece\n",
    "                    ref_pos += length\n",
    "                    read_pos += length\n",
    "                elif code == \"I\":  # Insert (Gap in Ref)\n",
    "                    top_line += sequence[read_pos:read_pos + length]\n",
    "                    middle_line += \" \" * length\n",
    "                    bottom_line += \" \" * length\n",
    "                    read_pos += length\n",
    "                elif code == \"D\" or code == \"N\":  # Delete (Gap in Read)\n",
    "                    top_line += \" \" * length\n",
    "                    middle_line += \" \" * length\n",
    "                    bottom_line += ref_seq[ref_pos:ref_pos + length]\n",
    "                    ref_pos += length\n",
    "            if isinstance(line_print_width, int):\n",
    "                num_blocks = int(np.ceil(len(top_line) / line_print_width))\n",
    "                print_blocks = []\n",
    "                for block_index in range(num_blocks):\n",
    "                    print_blocks.append([\n",
    "                        top_line[block_index * line_print_width:(block_index + 1) * line_print_width],\n",
    "                        middle_line[block_index * line_print_width:(block_index + 1) * line_print_width],\n",
    "                        bottom_line[block_index * line_print_width:(block_index + 1) * line_print_width],\n",
    "                    ])\n",
    "                for top, mid, bot in print_blocks:\n",
    "                    print()\n",
    "                    print(f\"Read: {top}\")\n",
    "                    print(f\"      {mid}\")\n",
    "                    print(f\"Ref:  {bot}\")\n",
    "            else:\n",
    "                print(f\"Read: {top_line}\", f\"      {middle_line}\", f\"Ref:  {bottom_line}\", sep='\\n')\n",
    "        \n",
    "        if isinstance(select_assignment, str):\n",
    "            print_df = self.hit_df[self.hit_df.assignment == select_assignment]\n",
    "        else:\n",
    "            print_df = self.hit_df\n",
    "        \n",
    "        if isinstance(additional_filtering_query, str):\n",
    "            print_df = print_df.query(additional_filtering_query)\n",
    "        \n",
    "        if select_with_head:\n",
    "            print_df = print_df.head(number_to_print)\n",
    "        else:\n",
    "            print_df = print_df.sample(number_to_print)\n",
    "        \n",
    "        if isinstance(constrict_to_width, int):\n",
    "            print_df.apply(lambda row: print_mappy_hit_alignment_for_stds(ref_dict=self.stds_ref_dict, line_print_width=constrict_to_width, **row), axis=1)\n",
    "        else:\n",
    "            print_df.apply(lambda row: print_mappy_hit_alignment_for_stds(ref_dict=self.stds_ref_dict, line_print_width=175, **row), axis=1)"
   ]
  },
  {
   "cell_type": "code",
   "execution_count": 66,
   "outputs": [
    {
     "name": "stderr",
     "output_type": "stream",
     "text": [
      "Extracting information from Mappy column: 100%|██████████| 247906/247906 [00:08<00:00, 29029.97it/s] \n",
      "/tmp/ipykernel_546959/3085666271.py:35: SettingWithCopyWarning:\n",
      "\n",
      "\n",
      "A value is trying to be set on a copy of a slice from a DataFrame.\n",
      "Try using .loc[row_indexer,col_indexer] = value instead\n",
      "\n",
      "See the caveats in the documentation: https://pandas.pydata.org/pandas-docs/stable/user_guide/indexing.html#returning-a-view-versus-a-copy\n",
      "\n",
      "Extracting information from Mappy column: 100%|██████████| 51618/51618 [00:01<00:00, 32147.99it/s] \n",
      "/tmp/ipykernel_546959/3085666271.py:35: SettingWithCopyWarning:\n",
      "\n",
      "\n",
      "A value is trying to be set on a copy of a slice from a DataFrame.\n",
      "Try using .loc[row_indexer,col_indexer] = value instead\n",
      "\n",
      "See the caveats in the documentation: https://pandas.pydata.org/pandas-docs/stable/user_guide/indexing.html#returning-a-view-versus-a-copy\n",
      "\n"
     ]
    }
   ],
   "source": [
    "nano3P = StdLibrary(\"221031_RNAStds_Nano3P_Assignments.csv\", False)\n",
    "dRNA = StdLibrary(\"221114_RNAStds_dRNA_Assignments.csv\", True)\n"
   ],
   "metadata": {
    "collapsed": false
   }
  },
  {
   "cell_type": "code",
   "execution_count": 68,
   "outputs": [
    {
     "data": {
      "application/vnd.plotly.v1+json": {
       "config": {
        "plotlyServerURL": "https://plot.ly"
       },
       "data": [
        {
         "alignmentgroup": "True",
         "hovertemplate": "variable=perfect_match_count<br>assignment=%{x}<br>value=%{y}<extra></extra>",
         "legendgroup": "perfect_match_count",
         "marker": {
          "color": "#636efa",
          "pattern": {
           "shape": ""
          }
         },
         "name": "perfect_match_count",
         "offsetgroup": "perfect_match_count",
         "orientation": "v",
         "showlegend": true,
         "textposition": "auto",
         "type": "bar",
         "x": [
          "00",
          "05",
          "10",
          "15",
          "30",
          "60"
         ],
         "xaxis": "x",
         "y": [
          3371,
          13661,
          38287,
          34362,
          0,
          52522
         ],
         "yaxis": "y"
        },
        {
         "alignmentgroup": "True",
         "hovertemplate": "variable=imperfect_match_count<br>assignment=%{x}<br>value=%{y}<extra></extra>",
         "legendgroup": "imperfect_match_count",
         "marker": {
          "color": "#EF553B",
          "pattern": {
           "shape": ""
          }
         },
         "name": "imperfect_match_count",
         "offsetgroup": "imperfect_match_count",
         "orientation": "v",
         "showlegend": true,
         "textposition": "auto",
         "type": "bar",
         "x": [
          "00",
          "05",
          "10",
          "15",
          "30",
          "60"
         ],
         "xaxis": "x",
         "y": [
          1805,
          15875,
          10581,
          20717,
          451,
          17244
         ],
         "yaxis": "y"
        }
       ],
       "layout": {
        "barmode": "relative",
        "height": 500,
        "legend": {
         "orientation": "h",
         "title": {
          "text": "variable"
         },
         "tracegroupgap": 0,
         "x": 0.01,
         "xanchor": "left",
         "y": 0.99,
         "yanchor": "top"
        },
        "margin": {
         "t": 60
        },
        "template": {
         "data": {
          "bar": [
           {
            "error_x": {
             "color": "#2a3f5f"
            },
            "error_y": {
             "color": "#2a3f5f"
            },
            "marker": {
             "line": {
              "color": "white",
              "width": 0.5
             },
             "pattern": {
              "fillmode": "overlay",
              "size": 10,
              "solidity": 0.2
             }
            },
            "type": "bar"
           }
          ],
          "barpolar": [
           {
            "marker": {
             "line": {
              "color": "white",
              "width": 0.5
             },
             "pattern": {
              "fillmode": "overlay",
              "size": 10,
              "solidity": 0.2
             }
            },
            "type": "barpolar"
           }
          ],
          "carpet": [
           {
            "aaxis": {
             "endlinecolor": "#2a3f5f",
             "gridcolor": "#C8D4E3",
             "linecolor": "#C8D4E3",
             "minorgridcolor": "#C8D4E3",
             "startlinecolor": "#2a3f5f"
            },
            "baxis": {
             "endlinecolor": "#2a3f5f",
             "gridcolor": "#C8D4E3",
             "linecolor": "#C8D4E3",
             "minorgridcolor": "#C8D4E3",
             "startlinecolor": "#2a3f5f"
            },
            "type": "carpet"
           }
          ],
          "choropleth": [
           {
            "colorbar": {
             "outlinewidth": 0,
             "ticks": ""
            },
            "type": "choropleth"
           }
          ],
          "contour": [
           {
            "colorbar": {
             "outlinewidth": 0,
             "ticks": ""
            },
            "colorscale": [
             [
              0.0,
              "#0d0887"
             ],
             [
              0.1111111111111111,
              "#46039f"
             ],
             [
              0.2222222222222222,
              "#7201a8"
             ],
             [
              0.3333333333333333,
              "#9c179e"
             ],
             [
              0.4444444444444444,
              "#bd3786"
             ],
             [
              0.5555555555555556,
              "#d8576b"
             ],
             [
              0.6666666666666666,
              "#ed7953"
             ],
             [
              0.7777777777777778,
              "#fb9f3a"
             ],
             [
              0.8888888888888888,
              "#fdca26"
             ],
             [
              1.0,
              "#f0f921"
             ]
            ],
            "type": "contour"
           }
          ],
          "contourcarpet": [
           {
            "colorbar": {
             "outlinewidth": 0,
             "ticks": ""
            },
            "type": "contourcarpet"
           }
          ],
          "heatmap": [
           {
            "colorbar": {
             "outlinewidth": 0,
             "ticks": ""
            },
            "colorscale": [
             [
              0.0,
              "#0d0887"
             ],
             [
              0.1111111111111111,
              "#46039f"
             ],
             [
              0.2222222222222222,
              "#7201a8"
             ],
             [
              0.3333333333333333,
              "#9c179e"
             ],
             [
              0.4444444444444444,
              "#bd3786"
             ],
             [
              0.5555555555555556,
              "#d8576b"
             ],
             [
              0.6666666666666666,
              "#ed7953"
             ],
             [
              0.7777777777777778,
              "#fb9f3a"
             ],
             [
              0.8888888888888888,
              "#fdca26"
             ],
             [
              1.0,
              "#f0f921"
             ]
            ],
            "type": "heatmap"
           }
          ],
          "heatmapgl": [
           {
            "colorbar": {
             "outlinewidth": 0,
             "ticks": ""
            },
            "colorscale": [
             [
              0.0,
              "#0d0887"
             ],
             [
              0.1111111111111111,
              "#46039f"
             ],
             [
              0.2222222222222222,
              "#7201a8"
             ],
             [
              0.3333333333333333,
              "#9c179e"
             ],
             [
              0.4444444444444444,
              "#bd3786"
             ],
             [
              0.5555555555555556,
              "#d8576b"
             ],
             [
              0.6666666666666666,
              "#ed7953"
             ],
             [
              0.7777777777777778,
              "#fb9f3a"
             ],
             [
              0.8888888888888888,
              "#fdca26"
             ],
             [
              1.0,
              "#f0f921"
             ]
            ],
            "type": "heatmapgl"
           }
          ],
          "histogram": [
           {
            "marker": {
             "pattern": {
              "fillmode": "overlay",
              "size": 10,
              "solidity": 0.2
             }
            },
            "type": "histogram"
           }
          ],
          "histogram2d": [
           {
            "colorbar": {
             "outlinewidth": 0,
             "ticks": ""
            },
            "colorscale": [
             [
              0.0,
              "#0d0887"
             ],
             [
              0.1111111111111111,
              "#46039f"
             ],
             [
              0.2222222222222222,
              "#7201a8"
             ],
             [
              0.3333333333333333,
              "#9c179e"
             ],
             [
              0.4444444444444444,
              "#bd3786"
             ],
             [
              0.5555555555555556,
              "#d8576b"
             ],
             [
              0.6666666666666666,
              "#ed7953"
             ],
             [
              0.7777777777777778,
              "#fb9f3a"
             ],
             [
              0.8888888888888888,
              "#fdca26"
             ],
             [
              1.0,
              "#f0f921"
             ]
            ],
            "type": "histogram2d"
           }
          ],
          "histogram2dcontour": [
           {
            "colorbar": {
             "outlinewidth": 0,
             "ticks": ""
            },
            "colorscale": [
             [
              0.0,
              "#0d0887"
             ],
             [
              0.1111111111111111,
              "#46039f"
             ],
             [
              0.2222222222222222,
              "#7201a8"
             ],
             [
              0.3333333333333333,
              "#9c179e"
             ],
             [
              0.4444444444444444,
              "#bd3786"
             ],
             [
              0.5555555555555556,
              "#d8576b"
             ],
             [
              0.6666666666666666,
              "#ed7953"
             ],
             [
              0.7777777777777778,
              "#fb9f3a"
             ],
             [
              0.8888888888888888,
              "#fdca26"
             ],
             [
              1.0,
              "#f0f921"
             ]
            ],
            "type": "histogram2dcontour"
           }
          ],
          "mesh3d": [
           {
            "colorbar": {
             "outlinewidth": 0,
             "ticks": ""
            },
            "type": "mesh3d"
           }
          ],
          "parcoords": [
           {
            "line": {
             "colorbar": {
              "outlinewidth": 0,
              "ticks": ""
             }
            },
            "type": "parcoords"
           }
          ],
          "pie": [
           {
            "automargin": true,
            "type": "pie"
           }
          ],
          "scatter": [
           {
            "marker": {
             "colorbar": {
              "outlinewidth": 0,
              "ticks": ""
             }
            },
            "type": "scatter"
           }
          ],
          "scatter3d": [
           {
            "line": {
             "colorbar": {
              "outlinewidth": 0,
              "ticks": ""
             }
            },
            "marker": {
             "colorbar": {
              "outlinewidth": 0,
              "ticks": ""
             }
            },
            "type": "scatter3d"
           }
          ],
          "scattercarpet": [
           {
            "marker": {
             "colorbar": {
              "outlinewidth": 0,
              "ticks": ""
             }
            },
            "type": "scattercarpet"
           }
          ],
          "scattergeo": [
           {
            "marker": {
             "colorbar": {
              "outlinewidth": 0,
              "ticks": ""
             }
            },
            "type": "scattergeo"
           }
          ],
          "scattergl": [
           {
            "marker": {
             "colorbar": {
              "outlinewidth": 0,
              "ticks": ""
             }
            },
            "type": "scattergl"
           }
          ],
          "scattermapbox": [
           {
            "marker": {
             "colorbar": {
              "outlinewidth": 0,
              "ticks": ""
             }
            },
            "type": "scattermapbox"
           }
          ],
          "scatterpolar": [
           {
            "marker": {
             "colorbar": {
              "outlinewidth": 0,
              "ticks": ""
             }
            },
            "type": "scatterpolar"
           }
          ],
          "scatterpolargl": [
           {
            "marker": {
             "colorbar": {
              "outlinewidth": 0,
              "ticks": ""
             }
            },
            "type": "scatterpolargl"
           }
          ],
          "scatterternary": [
           {
            "marker": {
             "colorbar": {
              "outlinewidth": 0,
              "ticks": ""
             }
            },
            "type": "scatterternary"
           }
          ],
          "surface": [
           {
            "colorbar": {
             "outlinewidth": 0,
             "ticks": ""
            },
            "colorscale": [
             [
              0.0,
              "#0d0887"
             ],
             [
              0.1111111111111111,
              "#46039f"
             ],
             [
              0.2222222222222222,
              "#7201a8"
             ],
             [
              0.3333333333333333,
              "#9c179e"
             ],
             [
              0.4444444444444444,
              "#bd3786"
             ],
             [
              0.5555555555555556,
              "#d8576b"
             ],
             [
              0.6666666666666666,
              "#ed7953"
             ],
             [
              0.7777777777777778,
              "#fb9f3a"
             ],
             [
              0.8888888888888888,
              "#fdca26"
             ],
             [
              1.0,
              "#f0f921"
             ]
            ],
            "type": "surface"
           }
          ],
          "table": [
           {
            "cells": {
             "fill": {
              "color": "#EBF0F8"
             },
             "line": {
              "color": "white"
             }
            },
            "header": {
             "fill": {
              "color": "#C8D4E3"
             },
             "line": {
              "color": "white"
             }
            },
            "type": "table"
           }
          ]
         },
         "layout": {
          "annotationdefaults": {
           "arrowcolor": "#2a3f5f",
           "arrowhead": 0,
           "arrowwidth": 1
          },
          "autotypenumbers": "strict",
          "coloraxis": {
           "colorbar": {
            "outlinewidth": 0,
            "ticks": ""
           }
          },
          "colorscale": {
           "diverging": [
            [
             0,
             "#8e0152"
            ],
            [
             0.1,
             "#c51b7d"
            ],
            [
             0.2,
             "#de77ae"
            ],
            [
             0.3,
             "#f1b6da"
            ],
            [
             0.4,
             "#fde0ef"
            ],
            [
             0.5,
             "#f7f7f7"
            ],
            [
             0.6,
             "#e6f5d0"
            ],
            [
             0.7,
             "#b8e186"
            ],
            [
             0.8,
             "#7fbc41"
            ],
            [
             0.9,
             "#4d9221"
            ],
            [
             1,
             "#276419"
            ]
           ],
           "sequential": [
            [
             0.0,
             "#0d0887"
            ],
            [
             0.1111111111111111,
             "#46039f"
            ],
            [
             0.2222222222222222,
             "#7201a8"
            ],
            [
             0.3333333333333333,
             "#9c179e"
            ],
            [
             0.4444444444444444,
             "#bd3786"
            ],
            [
             0.5555555555555556,
             "#d8576b"
            ],
            [
             0.6666666666666666,
             "#ed7953"
            ],
            [
             0.7777777777777778,
             "#fb9f3a"
            ],
            [
             0.8888888888888888,
             "#fdca26"
            ],
            [
             1.0,
             "#f0f921"
            ]
           ],
           "sequentialminus": [
            [
             0.0,
             "#0d0887"
            ],
            [
             0.1111111111111111,
             "#46039f"
            ],
            [
             0.2222222222222222,
             "#7201a8"
            ],
            [
             0.3333333333333333,
             "#9c179e"
            ],
            [
             0.4444444444444444,
             "#bd3786"
            ],
            [
             0.5555555555555556,
             "#d8576b"
            ],
            [
             0.6666666666666666,
             "#ed7953"
            ],
            [
             0.7777777777777778,
             "#fb9f3a"
            ],
            [
             0.8888888888888888,
             "#fdca26"
            ],
            [
             1.0,
             "#f0f921"
            ]
           ]
          },
          "colorway": [
           "#636efa",
           "#EF553B",
           "#00cc96",
           "#ab63fa",
           "#FFA15A",
           "#19d3f3",
           "#FF6692",
           "#B6E880",
           "#FF97FF",
           "#FECB52"
          ],
          "font": {
           "color": "#2a3f5f"
          },
          "geo": {
           "bgcolor": "white",
           "lakecolor": "white",
           "landcolor": "white",
           "showlakes": true,
           "showland": true,
           "subunitcolor": "#C8D4E3"
          },
          "hoverlabel": {
           "align": "left"
          },
          "hovermode": "closest",
          "mapbox": {
           "style": "light"
          },
          "paper_bgcolor": "white",
          "plot_bgcolor": "white",
          "polar": {
           "angularaxis": {
            "gridcolor": "#EBF0F8",
            "linecolor": "#EBF0F8",
            "ticks": ""
           },
           "bgcolor": "white",
           "radialaxis": {
            "gridcolor": "#EBF0F8",
            "linecolor": "#EBF0F8",
            "ticks": ""
           }
          },
          "scene": {
           "xaxis": {
            "backgroundcolor": "white",
            "gridcolor": "#DFE8F3",
            "gridwidth": 2,
            "linecolor": "#EBF0F8",
            "showbackground": true,
            "ticks": "",
            "zerolinecolor": "#EBF0F8"
           },
           "yaxis": {
            "backgroundcolor": "white",
            "gridcolor": "#DFE8F3",
            "gridwidth": 2,
            "linecolor": "#EBF0F8",
            "showbackground": true,
            "ticks": "",
            "zerolinecolor": "#EBF0F8"
           },
           "zaxis": {
            "backgroundcolor": "white",
            "gridcolor": "#DFE8F3",
            "gridwidth": 2,
            "linecolor": "#EBF0F8",
            "showbackground": true,
            "ticks": "",
            "zerolinecolor": "#EBF0F8"
           }
          },
          "shapedefaults": {
           "line": {
            "color": "#2a3f5f"
           }
          },
          "ternary": {
           "aaxis": {
            "gridcolor": "#DFE8F3",
            "linecolor": "#A2B1C6",
            "ticks": ""
           },
           "baxis": {
            "gridcolor": "#DFE8F3",
            "linecolor": "#A2B1C6",
            "ticks": ""
           },
           "bgcolor": "white",
           "caxis": {
            "gridcolor": "#DFE8F3",
            "linecolor": "#A2B1C6",
            "ticks": ""
           }
          },
          "title": {
           "x": 0.05
          },
          "xaxis": {
           "automargin": true,
           "gridcolor": "#EBF0F8",
           "linecolor": "#EBF0F8",
           "ticks": "",
           "title": {
            "standoff": 15
           },
           "zerolinecolor": "#EBF0F8",
           "zerolinewidth": 2
          },
          "yaxis": {
           "automargin": true,
           "gridcolor": "#EBF0F8",
           "linecolor": "#EBF0F8",
           "ticks": "",
           "title": {
            "standoff": 15
           },
           "zerolinecolor": "#EBF0F8",
           "zerolinewidth": 2
          }
         }
        },
        "width": 700,
        "xaxis": {
         "anchor": "y",
         "domain": [
          0.0,
          1.0
         ],
         "title": {
          "text": "assignment"
         }
        },
        "yaxis": {
         "anchor": "x",
         "domain": [
          0.0,
          1.0
         ],
         "title": {
          "text": "value"
         }
        }
       }
      },
      "text/html": "<div>                            <div id=\"fe97aa51-6d20-491c-a673-a3437bd766da\" class=\"plotly-graph-div\" style=\"height:500px; width:700px;\"></div>            <script type=\"text/javascript\">                require([\"plotly\"], function(Plotly) {                    window.PLOTLYENV=window.PLOTLYENV || {};                                    if (document.getElementById(\"fe97aa51-6d20-491c-a673-a3437bd766da\")) {                    Plotly.newPlot(                        \"fe97aa51-6d20-491c-a673-a3437bd766da\",                        [{\"alignmentgroup\":\"True\",\"hovertemplate\":\"variable=perfect_match_count<br>assignment=%{x}<br>value=%{y}<extra></extra>\",\"legendgroup\":\"perfect_match_count\",\"marker\":{\"color\":\"#636efa\",\"pattern\":{\"shape\":\"\"}},\"name\":\"perfect_match_count\",\"offsetgroup\":\"perfect_match_count\",\"orientation\":\"v\",\"showlegend\":true,\"textposition\":\"auto\",\"type\":\"bar\",\"x\":[\"00\",\"05\",\"10\",\"15\",\"30\",\"60\"],\"xaxis\":\"x\",\"y\":[3371,13661,38287,34362,0,52522],\"yaxis\":\"y\"},{\"alignmentgroup\":\"True\",\"hovertemplate\":\"variable=imperfect_match_count<br>assignment=%{x}<br>value=%{y}<extra></extra>\",\"legendgroup\":\"imperfect_match_count\",\"marker\":{\"color\":\"#EF553B\",\"pattern\":{\"shape\":\"\"}},\"name\":\"imperfect_match_count\",\"offsetgroup\":\"imperfect_match_count\",\"orientation\":\"v\",\"showlegend\":true,\"textposition\":\"auto\",\"type\":\"bar\",\"x\":[\"00\",\"05\",\"10\",\"15\",\"30\",\"60\"],\"xaxis\":\"x\",\"y\":[1805,15875,10581,20717,451,17244],\"yaxis\":\"y\"}],                        {\"barmode\":\"relative\",\"height\":500,\"legend\":{\"orientation\":\"h\",\"title\":{\"text\":\"variable\"},\"tracegroupgap\":0,\"x\":0.01,\"xanchor\":\"left\",\"y\":0.99,\"yanchor\":\"top\"},\"margin\":{\"t\":60},\"template\":{\"data\":{\"bar\":[{\"error_x\":{\"color\":\"#2a3f5f\"},\"error_y\":{\"color\":\"#2a3f5f\"},\"marker\":{\"line\":{\"color\":\"white\",\"width\":0.5},\"pattern\":{\"fillmode\":\"overlay\",\"size\":10,\"solidity\":0.2}},\"type\":\"bar\"}],\"barpolar\":[{\"marker\":{\"line\":{\"color\":\"white\",\"width\":0.5},\"pattern\":{\"fillmode\":\"overlay\",\"size\":10,\"solidity\":0.2}},\"type\":\"barpolar\"}],\"carpet\":[{\"aaxis\":{\"endlinecolor\":\"#2a3f5f\",\"gridcolor\":\"#C8D4E3\",\"linecolor\":\"#C8D4E3\",\"minorgridcolor\":\"#C8D4E3\",\"startlinecolor\":\"#2a3f5f\"},\"baxis\":{\"endlinecolor\":\"#2a3f5f\",\"gridcolor\":\"#C8D4E3\",\"linecolor\":\"#C8D4E3\",\"minorgridcolor\":\"#C8D4E3\",\"startlinecolor\":\"#2a3f5f\"},\"type\":\"carpet\"}],\"choropleth\":[{\"colorbar\":{\"outlinewidth\":0,\"ticks\":\"\"},\"type\":\"choropleth\"}],\"contour\":[{\"colorbar\":{\"outlinewidth\":0,\"ticks\":\"\"},\"colorscale\":[[0.0,\"#0d0887\"],[0.1111111111111111,\"#46039f\"],[0.2222222222222222,\"#7201a8\"],[0.3333333333333333,\"#9c179e\"],[0.4444444444444444,\"#bd3786\"],[0.5555555555555556,\"#d8576b\"],[0.6666666666666666,\"#ed7953\"],[0.7777777777777778,\"#fb9f3a\"],[0.8888888888888888,\"#fdca26\"],[1.0,\"#f0f921\"]],\"type\":\"contour\"}],\"contourcarpet\":[{\"colorbar\":{\"outlinewidth\":0,\"ticks\":\"\"},\"type\":\"contourcarpet\"}],\"heatmap\":[{\"colorbar\":{\"outlinewidth\":0,\"ticks\":\"\"},\"colorscale\":[[0.0,\"#0d0887\"],[0.1111111111111111,\"#46039f\"],[0.2222222222222222,\"#7201a8\"],[0.3333333333333333,\"#9c179e\"],[0.4444444444444444,\"#bd3786\"],[0.5555555555555556,\"#d8576b\"],[0.6666666666666666,\"#ed7953\"],[0.7777777777777778,\"#fb9f3a\"],[0.8888888888888888,\"#fdca26\"],[1.0,\"#f0f921\"]],\"type\":\"heatmap\"}],\"heatmapgl\":[{\"colorbar\":{\"outlinewidth\":0,\"ticks\":\"\"},\"colorscale\":[[0.0,\"#0d0887\"],[0.1111111111111111,\"#46039f\"],[0.2222222222222222,\"#7201a8\"],[0.3333333333333333,\"#9c179e\"],[0.4444444444444444,\"#bd3786\"],[0.5555555555555556,\"#d8576b\"],[0.6666666666666666,\"#ed7953\"],[0.7777777777777778,\"#fb9f3a\"],[0.8888888888888888,\"#fdca26\"],[1.0,\"#f0f921\"]],\"type\":\"heatmapgl\"}],\"histogram\":[{\"marker\":{\"pattern\":{\"fillmode\":\"overlay\",\"size\":10,\"solidity\":0.2}},\"type\":\"histogram\"}],\"histogram2d\":[{\"colorbar\":{\"outlinewidth\":0,\"ticks\":\"\"},\"colorscale\":[[0.0,\"#0d0887\"],[0.1111111111111111,\"#46039f\"],[0.2222222222222222,\"#7201a8\"],[0.3333333333333333,\"#9c179e\"],[0.4444444444444444,\"#bd3786\"],[0.5555555555555556,\"#d8576b\"],[0.6666666666666666,\"#ed7953\"],[0.7777777777777778,\"#fb9f3a\"],[0.8888888888888888,\"#fdca26\"],[1.0,\"#f0f921\"]],\"type\":\"histogram2d\"}],\"histogram2dcontour\":[{\"colorbar\":{\"outlinewidth\":0,\"ticks\":\"\"},\"colorscale\":[[0.0,\"#0d0887\"],[0.1111111111111111,\"#46039f\"],[0.2222222222222222,\"#7201a8\"],[0.3333333333333333,\"#9c179e\"],[0.4444444444444444,\"#bd3786\"],[0.5555555555555556,\"#d8576b\"],[0.6666666666666666,\"#ed7953\"],[0.7777777777777778,\"#fb9f3a\"],[0.8888888888888888,\"#fdca26\"],[1.0,\"#f0f921\"]],\"type\":\"histogram2dcontour\"}],\"mesh3d\":[{\"colorbar\":{\"outlinewidth\":0,\"ticks\":\"\"},\"type\":\"mesh3d\"}],\"parcoords\":[{\"line\":{\"colorbar\":{\"outlinewidth\":0,\"ticks\":\"\"}},\"type\":\"parcoords\"}],\"pie\":[{\"automargin\":true,\"type\":\"pie\"}],\"scatter\":[{\"marker\":{\"colorbar\":{\"outlinewidth\":0,\"ticks\":\"\"}},\"type\":\"scatter\"}],\"scatter3d\":[{\"line\":{\"colorbar\":{\"outlinewidth\":0,\"ticks\":\"\"}},\"marker\":{\"colorbar\":{\"outlinewidth\":0,\"ticks\":\"\"}},\"type\":\"scatter3d\"}],\"scattercarpet\":[{\"marker\":{\"colorbar\":{\"outlinewidth\":0,\"ticks\":\"\"}},\"type\":\"scattercarpet\"}],\"scattergeo\":[{\"marker\":{\"colorbar\":{\"outlinewidth\":0,\"ticks\":\"\"}},\"type\":\"scattergeo\"}],\"scattergl\":[{\"marker\":{\"colorbar\":{\"outlinewidth\":0,\"ticks\":\"\"}},\"type\":\"scattergl\"}],\"scattermapbox\":[{\"marker\":{\"colorbar\":{\"outlinewidth\":0,\"ticks\":\"\"}},\"type\":\"scattermapbox\"}],\"scatterpolar\":[{\"marker\":{\"colorbar\":{\"outlinewidth\":0,\"ticks\":\"\"}},\"type\":\"scatterpolar\"}],\"scatterpolargl\":[{\"marker\":{\"colorbar\":{\"outlinewidth\":0,\"ticks\":\"\"}},\"type\":\"scatterpolargl\"}],\"scatterternary\":[{\"marker\":{\"colorbar\":{\"outlinewidth\":0,\"ticks\":\"\"}},\"type\":\"scatterternary\"}],\"surface\":[{\"colorbar\":{\"outlinewidth\":0,\"ticks\":\"\"},\"colorscale\":[[0.0,\"#0d0887\"],[0.1111111111111111,\"#46039f\"],[0.2222222222222222,\"#7201a8\"],[0.3333333333333333,\"#9c179e\"],[0.4444444444444444,\"#bd3786\"],[0.5555555555555556,\"#d8576b\"],[0.6666666666666666,\"#ed7953\"],[0.7777777777777778,\"#fb9f3a\"],[0.8888888888888888,\"#fdca26\"],[1.0,\"#f0f921\"]],\"type\":\"surface\"}],\"table\":[{\"cells\":{\"fill\":{\"color\":\"#EBF0F8\"},\"line\":{\"color\":\"white\"}},\"header\":{\"fill\":{\"color\":\"#C8D4E3\"},\"line\":{\"color\":\"white\"}},\"type\":\"table\"}]},\"layout\":{\"annotationdefaults\":{\"arrowcolor\":\"#2a3f5f\",\"arrowhead\":0,\"arrowwidth\":1},\"autotypenumbers\":\"strict\",\"coloraxis\":{\"colorbar\":{\"outlinewidth\":0,\"ticks\":\"\"}},\"colorscale\":{\"diverging\":[[0,\"#8e0152\"],[0.1,\"#c51b7d\"],[0.2,\"#de77ae\"],[0.3,\"#f1b6da\"],[0.4,\"#fde0ef\"],[0.5,\"#f7f7f7\"],[0.6,\"#e6f5d0\"],[0.7,\"#b8e186\"],[0.8,\"#7fbc41\"],[0.9,\"#4d9221\"],[1,\"#276419\"]],\"sequential\":[[0.0,\"#0d0887\"],[0.1111111111111111,\"#46039f\"],[0.2222222222222222,\"#7201a8\"],[0.3333333333333333,\"#9c179e\"],[0.4444444444444444,\"#bd3786\"],[0.5555555555555556,\"#d8576b\"],[0.6666666666666666,\"#ed7953\"],[0.7777777777777778,\"#fb9f3a\"],[0.8888888888888888,\"#fdca26\"],[1.0,\"#f0f921\"]],\"sequentialminus\":[[0.0,\"#0d0887\"],[0.1111111111111111,\"#46039f\"],[0.2222222222222222,\"#7201a8\"],[0.3333333333333333,\"#9c179e\"],[0.4444444444444444,\"#bd3786\"],[0.5555555555555556,\"#d8576b\"],[0.6666666666666666,\"#ed7953\"],[0.7777777777777778,\"#fb9f3a\"],[0.8888888888888888,\"#fdca26\"],[1.0,\"#f0f921\"]]},\"colorway\":[\"#636efa\",\"#EF553B\",\"#00cc96\",\"#ab63fa\",\"#FFA15A\",\"#19d3f3\",\"#FF6692\",\"#B6E880\",\"#FF97FF\",\"#FECB52\"],\"font\":{\"color\":\"#2a3f5f\"},\"geo\":{\"bgcolor\":\"white\",\"lakecolor\":\"white\",\"landcolor\":\"white\",\"showlakes\":true,\"showland\":true,\"subunitcolor\":\"#C8D4E3\"},\"hoverlabel\":{\"align\":\"left\"},\"hovermode\":\"closest\",\"mapbox\":{\"style\":\"light\"},\"paper_bgcolor\":\"white\",\"plot_bgcolor\":\"white\",\"polar\":{\"angularaxis\":{\"gridcolor\":\"#EBF0F8\",\"linecolor\":\"#EBF0F8\",\"ticks\":\"\"},\"bgcolor\":\"white\",\"radialaxis\":{\"gridcolor\":\"#EBF0F8\",\"linecolor\":\"#EBF0F8\",\"ticks\":\"\"}},\"scene\":{\"xaxis\":{\"backgroundcolor\":\"white\",\"gridcolor\":\"#DFE8F3\",\"gridwidth\":2,\"linecolor\":\"#EBF0F8\",\"showbackground\":true,\"ticks\":\"\",\"zerolinecolor\":\"#EBF0F8\"},\"yaxis\":{\"backgroundcolor\":\"white\",\"gridcolor\":\"#DFE8F3\",\"gridwidth\":2,\"linecolor\":\"#EBF0F8\",\"showbackground\":true,\"ticks\":\"\",\"zerolinecolor\":\"#EBF0F8\"},\"zaxis\":{\"backgroundcolor\":\"white\",\"gridcolor\":\"#DFE8F3\",\"gridwidth\":2,\"linecolor\":\"#EBF0F8\",\"showbackground\":true,\"ticks\":\"\",\"zerolinecolor\":\"#EBF0F8\"}},\"shapedefaults\":{\"line\":{\"color\":\"#2a3f5f\"}},\"ternary\":{\"aaxis\":{\"gridcolor\":\"#DFE8F3\",\"linecolor\":\"#A2B1C6\",\"ticks\":\"\"},\"baxis\":{\"gridcolor\":\"#DFE8F3\",\"linecolor\":\"#A2B1C6\",\"ticks\":\"\"},\"bgcolor\":\"white\",\"caxis\":{\"gridcolor\":\"#DFE8F3\",\"linecolor\":\"#A2B1C6\",\"ticks\":\"\"}},\"title\":{\"x\":0.05},\"xaxis\":{\"automargin\":true,\"gridcolor\":\"#EBF0F8\",\"linecolor\":\"#EBF0F8\",\"ticks\":\"\",\"title\":{\"standoff\":15},\"zerolinecolor\":\"#EBF0F8\",\"zerolinewidth\":2},\"yaxis\":{\"automargin\":true,\"gridcolor\":\"#EBF0F8\",\"linecolor\":\"#EBF0F8\",\"ticks\":\"\",\"title\":{\"standoff\":15},\"zerolinecolor\":\"#EBF0F8\",\"zerolinewidth\":2}}},\"width\":700,\"xaxis\":{\"anchor\":\"y\",\"domain\":[0.0,1.0],\"title\":{\"text\":\"assignment\"}},\"yaxis\":{\"anchor\":\"x\",\"domain\":[0.0,1.0],\"title\":{\"text\":\"value\"}}},                        {\"responsive\": true}                    ).then(function(){\n                            \nvar gd = document.getElementById('fe97aa51-6d20-491c-a673-a3437bd766da');\nvar x = new MutationObserver(function (mutations, observer) {{\n        var display = window.getComputedStyle(gd).display;\n        if (!display || display === 'none') {{\n            console.log([gd, 'removed!']);\n            Plotly.purge(gd);\n            observer.disconnect();\n        }}\n}});\n\n// Listen for the removal of the full notebook cells\nvar notebookContainer = gd.closest('#notebook-container');\nif (notebookContainer) {{\n    x.observe(notebookContainer, {childList: true});\n}}\n\n// Listen for the clearing of the current output cell\nvar outputEl = gd.closest('.output');\nif (outputEl) {{\n    x.observe(outputEl, {childList: true});\n}}\n\n                        })                };                });            </script>        </div>"
     },
     "metadata": {},
     "output_type": "display_data"
    },
    {
     "data": {
      "application/vnd.plotly.v1+json": {
       "config": {
        "plotlyServerURL": "https://plot.ly"
       },
       "data": [
        {
         "alignmentgroup": "True",
         "hovertemplate": "variable=perfect_match_count<br>assignment=%{x}<br>value=%{y}<extra></extra>",
         "legendgroup": "perfect_match_count",
         "marker": {
          "color": "#636efa",
          "pattern": {
           "shape": ""
          }
         },
         "name": "perfect_match_count",
         "offsetgroup": "perfect_match_count",
         "orientation": "v",
         "showlegend": true,
         "textposition": "auto",
         "type": "bar",
         "x": [
          "00",
          "05",
          "10",
          "15",
          "30",
          "60"
         ],
         "xaxis": "x",
         "y": [
          16,
          170,
          7924,
          3286,
          1,
          4925
         ],
         "yaxis": "y"
        },
        {
         "alignmentgroup": "True",
         "hovertemplate": "variable=imperfect_match_count<br>assignment=%{x}<br>value=%{y}<extra></extra>",
         "legendgroup": "imperfect_match_count",
         "marker": {
          "color": "#EF553B",
          "pattern": {
           "shape": ""
          }
         },
         "name": "imperfect_match_count",
         "offsetgroup": "imperfect_match_count",
         "orientation": "v",
         "showlegend": true,
         "textposition": "auto",
         "type": "bar",
         "x": [
          "00",
          "05",
          "10",
          "15",
          "30",
          "60"
         ],
         "xaxis": "x",
         "y": [
          353,
          645,
          3952,
          12438,
          212,
          10287
         ],
         "yaxis": "y"
        }
       ],
       "layout": {
        "barmode": "relative",
        "height": 500,
        "legend": {
         "orientation": "h",
         "title": {
          "text": "variable"
         },
         "tracegroupgap": 0,
         "x": 0.01,
         "xanchor": "left",
         "y": 0.99,
         "yanchor": "top"
        },
        "margin": {
         "t": 60
        },
        "template": {
         "data": {
          "bar": [
           {
            "error_x": {
             "color": "#2a3f5f"
            },
            "error_y": {
             "color": "#2a3f5f"
            },
            "marker": {
             "line": {
              "color": "white",
              "width": 0.5
             },
             "pattern": {
              "fillmode": "overlay",
              "size": 10,
              "solidity": 0.2
             }
            },
            "type": "bar"
           }
          ],
          "barpolar": [
           {
            "marker": {
             "line": {
              "color": "white",
              "width": 0.5
             },
             "pattern": {
              "fillmode": "overlay",
              "size": 10,
              "solidity": 0.2
             }
            },
            "type": "barpolar"
           }
          ],
          "carpet": [
           {
            "aaxis": {
             "endlinecolor": "#2a3f5f",
             "gridcolor": "#C8D4E3",
             "linecolor": "#C8D4E3",
             "minorgridcolor": "#C8D4E3",
             "startlinecolor": "#2a3f5f"
            },
            "baxis": {
             "endlinecolor": "#2a3f5f",
             "gridcolor": "#C8D4E3",
             "linecolor": "#C8D4E3",
             "minorgridcolor": "#C8D4E3",
             "startlinecolor": "#2a3f5f"
            },
            "type": "carpet"
           }
          ],
          "choropleth": [
           {
            "colorbar": {
             "outlinewidth": 0,
             "ticks": ""
            },
            "type": "choropleth"
           }
          ],
          "contour": [
           {
            "colorbar": {
             "outlinewidth": 0,
             "ticks": ""
            },
            "colorscale": [
             [
              0.0,
              "#0d0887"
             ],
             [
              0.1111111111111111,
              "#46039f"
             ],
             [
              0.2222222222222222,
              "#7201a8"
             ],
             [
              0.3333333333333333,
              "#9c179e"
             ],
             [
              0.4444444444444444,
              "#bd3786"
             ],
             [
              0.5555555555555556,
              "#d8576b"
             ],
             [
              0.6666666666666666,
              "#ed7953"
             ],
             [
              0.7777777777777778,
              "#fb9f3a"
             ],
             [
              0.8888888888888888,
              "#fdca26"
             ],
             [
              1.0,
              "#f0f921"
             ]
            ],
            "type": "contour"
           }
          ],
          "contourcarpet": [
           {
            "colorbar": {
             "outlinewidth": 0,
             "ticks": ""
            },
            "type": "contourcarpet"
           }
          ],
          "heatmap": [
           {
            "colorbar": {
             "outlinewidth": 0,
             "ticks": ""
            },
            "colorscale": [
             [
              0.0,
              "#0d0887"
             ],
             [
              0.1111111111111111,
              "#46039f"
             ],
             [
              0.2222222222222222,
              "#7201a8"
             ],
             [
              0.3333333333333333,
              "#9c179e"
             ],
             [
              0.4444444444444444,
              "#bd3786"
             ],
             [
              0.5555555555555556,
              "#d8576b"
             ],
             [
              0.6666666666666666,
              "#ed7953"
             ],
             [
              0.7777777777777778,
              "#fb9f3a"
             ],
             [
              0.8888888888888888,
              "#fdca26"
             ],
             [
              1.0,
              "#f0f921"
             ]
            ],
            "type": "heatmap"
           }
          ],
          "heatmapgl": [
           {
            "colorbar": {
             "outlinewidth": 0,
             "ticks": ""
            },
            "colorscale": [
             [
              0.0,
              "#0d0887"
             ],
             [
              0.1111111111111111,
              "#46039f"
             ],
             [
              0.2222222222222222,
              "#7201a8"
             ],
             [
              0.3333333333333333,
              "#9c179e"
             ],
             [
              0.4444444444444444,
              "#bd3786"
             ],
             [
              0.5555555555555556,
              "#d8576b"
             ],
             [
              0.6666666666666666,
              "#ed7953"
             ],
             [
              0.7777777777777778,
              "#fb9f3a"
             ],
             [
              0.8888888888888888,
              "#fdca26"
             ],
             [
              1.0,
              "#f0f921"
             ]
            ],
            "type": "heatmapgl"
           }
          ],
          "histogram": [
           {
            "marker": {
             "pattern": {
              "fillmode": "overlay",
              "size": 10,
              "solidity": 0.2
             }
            },
            "type": "histogram"
           }
          ],
          "histogram2d": [
           {
            "colorbar": {
             "outlinewidth": 0,
             "ticks": ""
            },
            "colorscale": [
             [
              0.0,
              "#0d0887"
             ],
             [
              0.1111111111111111,
              "#46039f"
             ],
             [
              0.2222222222222222,
              "#7201a8"
             ],
             [
              0.3333333333333333,
              "#9c179e"
             ],
             [
              0.4444444444444444,
              "#bd3786"
             ],
             [
              0.5555555555555556,
              "#d8576b"
             ],
             [
              0.6666666666666666,
              "#ed7953"
             ],
             [
              0.7777777777777778,
              "#fb9f3a"
             ],
             [
              0.8888888888888888,
              "#fdca26"
             ],
             [
              1.0,
              "#f0f921"
             ]
            ],
            "type": "histogram2d"
           }
          ],
          "histogram2dcontour": [
           {
            "colorbar": {
             "outlinewidth": 0,
             "ticks": ""
            },
            "colorscale": [
             [
              0.0,
              "#0d0887"
             ],
             [
              0.1111111111111111,
              "#46039f"
             ],
             [
              0.2222222222222222,
              "#7201a8"
             ],
             [
              0.3333333333333333,
              "#9c179e"
             ],
             [
              0.4444444444444444,
              "#bd3786"
             ],
             [
              0.5555555555555556,
              "#d8576b"
             ],
             [
              0.6666666666666666,
              "#ed7953"
             ],
             [
              0.7777777777777778,
              "#fb9f3a"
             ],
             [
              0.8888888888888888,
              "#fdca26"
             ],
             [
              1.0,
              "#f0f921"
             ]
            ],
            "type": "histogram2dcontour"
           }
          ],
          "mesh3d": [
           {
            "colorbar": {
             "outlinewidth": 0,
             "ticks": ""
            },
            "type": "mesh3d"
           }
          ],
          "parcoords": [
           {
            "line": {
             "colorbar": {
              "outlinewidth": 0,
              "ticks": ""
             }
            },
            "type": "parcoords"
           }
          ],
          "pie": [
           {
            "automargin": true,
            "type": "pie"
           }
          ],
          "scatter": [
           {
            "marker": {
             "colorbar": {
              "outlinewidth": 0,
              "ticks": ""
             }
            },
            "type": "scatter"
           }
          ],
          "scatter3d": [
           {
            "line": {
             "colorbar": {
              "outlinewidth": 0,
              "ticks": ""
             }
            },
            "marker": {
             "colorbar": {
              "outlinewidth": 0,
              "ticks": ""
             }
            },
            "type": "scatter3d"
           }
          ],
          "scattercarpet": [
           {
            "marker": {
             "colorbar": {
              "outlinewidth": 0,
              "ticks": ""
             }
            },
            "type": "scattercarpet"
           }
          ],
          "scattergeo": [
           {
            "marker": {
             "colorbar": {
              "outlinewidth": 0,
              "ticks": ""
             }
            },
            "type": "scattergeo"
           }
          ],
          "scattergl": [
           {
            "marker": {
             "colorbar": {
              "outlinewidth": 0,
              "ticks": ""
             }
            },
            "type": "scattergl"
           }
          ],
          "scattermapbox": [
           {
            "marker": {
             "colorbar": {
              "outlinewidth": 0,
              "ticks": ""
             }
            },
            "type": "scattermapbox"
           }
          ],
          "scatterpolar": [
           {
            "marker": {
             "colorbar": {
              "outlinewidth": 0,
              "ticks": ""
             }
            },
            "type": "scatterpolar"
           }
          ],
          "scatterpolargl": [
           {
            "marker": {
             "colorbar": {
              "outlinewidth": 0,
              "ticks": ""
             }
            },
            "type": "scatterpolargl"
           }
          ],
          "scatterternary": [
           {
            "marker": {
             "colorbar": {
              "outlinewidth": 0,
              "ticks": ""
             }
            },
            "type": "scatterternary"
           }
          ],
          "surface": [
           {
            "colorbar": {
             "outlinewidth": 0,
             "ticks": ""
            },
            "colorscale": [
             [
              0.0,
              "#0d0887"
             ],
             [
              0.1111111111111111,
              "#46039f"
             ],
             [
              0.2222222222222222,
              "#7201a8"
             ],
             [
              0.3333333333333333,
              "#9c179e"
             ],
             [
              0.4444444444444444,
              "#bd3786"
             ],
             [
              0.5555555555555556,
              "#d8576b"
             ],
             [
              0.6666666666666666,
              "#ed7953"
             ],
             [
              0.7777777777777778,
              "#fb9f3a"
             ],
             [
              0.8888888888888888,
              "#fdca26"
             ],
             [
              1.0,
              "#f0f921"
             ]
            ],
            "type": "surface"
           }
          ],
          "table": [
           {
            "cells": {
             "fill": {
              "color": "#EBF0F8"
             },
             "line": {
              "color": "white"
             }
            },
            "header": {
             "fill": {
              "color": "#C8D4E3"
             },
             "line": {
              "color": "white"
             }
            },
            "type": "table"
           }
          ]
         },
         "layout": {
          "annotationdefaults": {
           "arrowcolor": "#2a3f5f",
           "arrowhead": 0,
           "arrowwidth": 1
          },
          "autotypenumbers": "strict",
          "coloraxis": {
           "colorbar": {
            "outlinewidth": 0,
            "ticks": ""
           }
          },
          "colorscale": {
           "diverging": [
            [
             0,
             "#8e0152"
            ],
            [
             0.1,
             "#c51b7d"
            ],
            [
             0.2,
             "#de77ae"
            ],
            [
             0.3,
             "#f1b6da"
            ],
            [
             0.4,
             "#fde0ef"
            ],
            [
             0.5,
             "#f7f7f7"
            ],
            [
             0.6,
             "#e6f5d0"
            ],
            [
             0.7,
             "#b8e186"
            ],
            [
             0.8,
             "#7fbc41"
            ],
            [
             0.9,
             "#4d9221"
            ],
            [
             1,
             "#276419"
            ]
           ],
           "sequential": [
            [
             0.0,
             "#0d0887"
            ],
            [
             0.1111111111111111,
             "#46039f"
            ],
            [
             0.2222222222222222,
             "#7201a8"
            ],
            [
             0.3333333333333333,
             "#9c179e"
            ],
            [
             0.4444444444444444,
             "#bd3786"
            ],
            [
             0.5555555555555556,
             "#d8576b"
            ],
            [
             0.6666666666666666,
             "#ed7953"
            ],
            [
             0.7777777777777778,
             "#fb9f3a"
            ],
            [
             0.8888888888888888,
             "#fdca26"
            ],
            [
             1.0,
             "#f0f921"
            ]
           ],
           "sequentialminus": [
            [
             0.0,
             "#0d0887"
            ],
            [
             0.1111111111111111,
             "#46039f"
            ],
            [
             0.2222222222222222,
             "#7201a8"
            ],
            [
             0.3333333333333333,
             "#9c179e"
            ],
            [
             0.4444444444444444,
             "#bd3786"
            ],
            [
             0.5555555555555556,
             "#d8576b"
            ],
            [
             0.6666666666666666,
             "#ed7953"
            ],
            [
             0.7777777777777778,
             "#fb9f3a"
            ],
            [
             0.8888888888888888,
             "#fdca26"
            ],
            [
             1.0,
             "#f0f921"
            ]
           ]
          },
          "colorway": [
           "#636efa",
           "#EF553B",
           "#00cc96",
           "#ab63fa",
           "#FFA15A",
           "#19d3f3",
           "#FF6692",
           "#B6E880",
           "#FF97FF",
           "#FECB52"
          ],
          "font": {
           "color": "#2a3f5f"
          },
          "geo": {
           "bgcolor": "white",
           "lakecolor": "white",
           "landcolor": "white",
           "showlakes": true,
           "showland": true,
           "subunitcolor": "#C8D4E3"
          },
          "hoverlabel": {
           "align": "left"
          },
          "hovermode": "closest",
          "mapbox": {
           "style": "light"
          },
          "paper_bgcolor": "white",
          "plot_bgcolor": "white",
          "polar": {
           "angularaxis": {
            "gridcolor": "#EBF0F8",
            "linecolor": "#EBF0F8",
            "ticks": ""
           },
           "bgcolor": "white",
           "radialaxis": {
            "gridcolor": "#EBF0F8",
            "linecolor": "#EBF0F8",
            "ticks": ""
           }
          },
          "scene": {
           "xaxis": {
            "backgroundcolor": "white",
            "gridcolor": "#DFE8F3",
            "gridwidth": 2,
            "linecolor": "#EBF0F8",
            "showbackground": true,
            "ticks": "",
            "zerolinecolor": "#EBF0F8"
           },
           "yaxis": {
            "backgroundcolor": "white",
            "gridcolor": "#DFE8F3",
            "gridwidth": 2,
            "linecolor": "#EBF0F8",
            "showbackground": true,
            "ticks": "",
            "zerolinecolor": "#EBF0F8"
           },
           "zaxis": {
            "backgroundcolor": "white",
            "gridcolor": "#DFE8F3",
            "gridwidth": 2,
            "linecolor": "#EBF0F8",
            "showbackground": true,
            "ticks": "",
            "zerolinecolor": "#EBF0F8"
           }
          },
          "shapedefaults": {
           "line": {
            "color": "#2a3f5f"
           }
          },
          "ternary": {
           "aaxis": {
            "gridcolor": "#DFE8F3",
            "linecolor": "#A2B1C6",
            "ticks": ""
           },
           "baxis": {
            "gridcolor": "#DFE8F3",
            "linecolor": "#A2B1C6",
            "ticks": ""
           },
           "bgcolor": "white",
           "caxis": {
            "gridcolor": "#DFE8F3",
            "linecolor": "#A2B1C6",
            "ticks": ""
           }
          },
          "title": {
           "x": 0.05
          },
          "xaxis": {
           "automargin": true,
           "gridcolor": "#EBF0F8",
           "linecolor": "#EBF0F8",
           "ticks": "",
           "title": {
            "standoff": 15
           },
           "zerolinecolor": "#EBF0F8",
           "zerolinewidth": 2
          },
          "yaxis": {
           "automargin": true,
           "gridcolor": "#EBF0F8",
           "linecolor": "#EBF0F8",
           "ticks": "",
           "title": {
            "standoff": 15
           },
           "zerolinecolor": "#EBF0F8",
           "zerolinewidth": 2
          }
         }
        },
        "width": 700,
        "xaxis": {
         "anchor": "y",
         "domain": [
          0.0,
          1.0
         ],
         "title": {
          "text": "assignment"
         }
        },
        "yaxis": {
         "anchor": "x",
         "domain": [
          0.0,
          1.0
         ],
         "title": {
          "text": "value"
         }
        }
       }
      },
      "text/html": "<div>                            <div id=\"0f3c1978-3f51-442a-8161-a28d3b2dcb54\" class=\"plotly-graph-div\" style=\"height:500px; width:700px;\"></div>            <script type=\"text/javascript\">                require([\"plotly\"], function(Plotly) {                    window.PLOTLYENV=window.PLOTLYENV || {};                                    if (document.getElementById(\"0f3c1978-3f51-442a-8161-a28d3b2dcb54\")) {                    Plotly.newPlot(                        \"0f3c1978-3f51-442a-8161-a28d3b2dcb54\",                        [{\"alignmentgroup\":\"True\",\"hovertemplate\":\"variable=perfect_match_count<br>assignment=%{x}<br>value=%{y}<extra></extra>\",\"legendgroup\":\"perfect_match_count\",\"marker\":{\"color\":\"#636efa\",\"pattern\":{\"shape\":\"\"}},\"name\":\"perfect_match_count\",\"offsetgroup\":\"perfect_match_count\",\"orientation\":\"v\",\"showlegend\":true,\"textposition\":\"auto\",\"type\":\"bar\",\"x\":[\"00\",\"05\",\"10\",\"15\",\"30\",\"60\"],\"xaxis\":\"x\",\"y\":[16,170,7924,3286,1,4925],\"yaxis\":\"y\"},{\"alignmentgroup\":\"True\",\"hovertemplate\":\"variable=imperfect_match_count<br>assignment=%{x}<br>value=%{y}<extra></extra>\",\"legendgroup\":\"imperfect_match_count\",\"marker\":{\"color\":\"#EF553B\",\"pattern\":{\"shape\":\"\"}},\"name\":\"imperfect_match_count\",\"offsetgroup\":\"imperfect_match_count\",\"orientation\":\"v\",\"showlegend\":true,\"textposition\":\"auto\",\"type\":\"bar\",\"x\":[\"00\",\"05\",\"10\",\"15\",\"30\",\"60\"],\"xaxis\":\"x\",\"y\":[353,645,3952,12438,212,10287],\"yaxis\":\"y\"}],                        {\"barmode\":\"relative\",\"height\":500,\"legend\":{\"orientation\":\"h\",\"title\":{\"text\":\"variable\"},\"tracegroupgap\":0,\"x\":0.01,\"xanchor\":\"left\",\"y\":0.99,\"yanchor\":\"top\"},\"margin\":{\"t\":60},\"template\":{\"data\":{\"bar\":[{\"error_x\":{\"color\":\"#2a3f5f\"},\"error_y\":{\"color\":\"#2a3f5f\"},\"marker\":{\"line\":{\"color\":\"white\",\"width\":0.5},\"pattern\":{\"fillmode\":\"overlay\",\"size\":10,\"solidity\":0.2}},\"type\":\"bar\"}],\"barpolar\":[{\"marker\":{\"line\":{\"color\":\"white\",\"width\":0.5},\"pattern\":{\"fillmode\":\"overlay\",\"size\":10,\"solidity\":0.2}},\"type\":\"barpolar\"}],\"carpet\":[{\"aaxis\":{\"endlinecolor\":\"#2a3f5f\",\"gridcolor\":\"#C8D4E3\",\"linecolor\":\"#C8D4E3\",\"minorgridcolor\":\"#C8D4E3\",\"startlinecolor\":\"#2a3f5f\"},\"baxis\":{\"endlinecolor\":\"#2a3f5f\",\"gridcolor\":\"#C8D4E3\",\"linecolor\":\"#C8D4E3\",\"minorgridcolor\":\"#C8D4E3\",\"startlinecolor\":\"#2a3f5f\"},\"type\":\"carpet\"}],\"choropleth\":[{\"colorbar\":{\"outlinewidth\":0,\"ticks\":\"\"},\"type\":\"choropleth\"}],\"contour\":[{\"colorbar\":{\"outlinewidth\":0,\"ticks\":\"\"},\"colorscale\":[[0.0,\"#0d0887\"],[0.1111111111111111,\"#46039f\"],[0.2222222222222222,\"#7201a8\"],[0.3333333333333333,\"#9c179e\"],[0.4444444444444444,\"#bd3786\"],[0.5555555555555556,\"#d8576b\"],[0.6666666666666666,\"#ed7953\"],[0.7777777777777778,\"#fb9f3a\"],[0.8888888888888888,\"#fdca26\"],[1.0,\"#f0f921\"]],\"type\":\"contour\"}],\"contourcarpet\":[{\"colorbar\":{\"outlinewidth\":0,\"ticks\":\"\"},\"type\":\"contourcarpet\"}],\"heatmap\":[{\"colorbar\":{\"outlinewidth\":0,\"ticks\":\"\"},\"colorscale\":[[0.0,\"#0d0887\"],[0.1111111111111111,\"#46039f\"],[0.2222222222222222,\"#7201a8\"],[0.3333333333333333,\"#9c179e\"],[0.4444444444444444,\"#bd3786\"],[0.5555555555555556,\"#d8576b\"],[0.6666666666666666,\"#ed7953\"],[0.7777777777777778,\"#fb9f3a\"],[0.8888888888888888,\"#fdca26\"],[1.0,\"#f0f921\"]],\"type\":\"heatmap\"}],\"heatmapgl\":[{\"colorbar\":{\"outlinewidth\":0,\"ticks\":\"\"},\"colorscale\":[[0.0,\"#0d0887\"],[0.1111111111111111,\"#46039f\"],[0.2222222222222222,\"#7201a8\"],[0.3333333333333333,\"#9c179e\"],[0.4444444444444444,\"#bd3786\"],[0.5555555555555556,\"#d8576b\"],[0.6666666666666666,\"#ed7953\"],[0.7777777777777778,\"#fb9f3a\"],[0.8888888888888888,\"#fdca26\"],[1.0,\"#f0f921\"]],\"type\":\"heatmapgl\"}],\"histogram\":[{\"marker\":{\"pattern\":{\"fillmode\":\"overlay\",\"size\":10,\"solidity\":0.2}},\"type\":\"histogram\"}],\"histogram2d\":[{\"colorbar\":{\"outlinewidth\":0,\"ticks\":\"\"},\"colorscale\":[[0.0,\"#0d0887\"],[0.1111111111111111,\"#46039f\"],[0.2222222222222222,\"#7201a8\"],[0.3333333333333333,\"#9c179e\"],[0.4444444444444444,\"#bd3786\"],[0.5555555555555556,\"#d8576b\"],[0.6666666666666666,\"#ed7953\"],[0.7777777777777778,\"#fb9f3a\"],[0.8888888888888888,\"#fdca26\"],[1.0,\"#f0f921\"]],\"type\":\"histogram2d\"}],\"histogram2dcontour\":[{\"colorbar\":{\"outlinewidth\":0,\"ticks\":\"\"},\"colorscale\":[[0.0,\"#0d0887\"],[0.1111111111111111,\"#46039f\"],[0.2222222222222222,\"#7201a8\"],[0.3333333333333333,\"#9c179e\"],[0.4444444444444444,\"#bd3786\"],[0.5555555555555556,\"#d8576b\"],[0.6666666666666666,\"#ed7953\"],[0.7777777777777778,\"#fb9f3a\"],[0.8888888888888888,\"#fdca26\"],[1.0,\"#f0f921\"]],\"type\":\"histogram2dcontour\"}],\"mesh3d\":[{\"colorbar\":{\"outlinewidth\":0,\"ticks\":\"\"},\"type\":\"mesh3d\"}],\"parcoords\":[{\"line\":{\"colorbar\":{\"outlinewidth\":0,\"ticks\":\"\"}},\"type\":\"parcoords\"}],\"pie\":[{\"automargin\":true,\"type\":\"pie\"}],\"scatter\":[{\"marker\":{\"colorbar\":{\"outlinewidth\":0,\"ticks\":\"\"}},\"type\":\"scatter\"}],\"scatter3d\":[{\"line\":{\"colorbar\":{\"outlinewidth\":0,\"ticks\":\"\"}},\"marker\":{\"colorbar\":{\"outlinewidth\":0,\"ticks\":\"\"}},\"type\":\"scatter3d\"}],\"scattercarpet\":[{\"marker\":{\"colorbar\":{\"outlinewidth\":0,\"ticks\":\"\"}},\"type\":\"scattercarpet\"}],\"scattergeo\":[{\"marker\":{\"colorbar\":{\"outlinewidth\":0,\"ticks\":\"\"}},\"type\":\"scattergeo\"}],\"scattergl\":[{\"marker\":{\"colorbar\":{\"outlinewidth\":0,\"ticks\":\"\"}},\"type\":\"scattergl\"}],\"scattermapbox\":[{\"marker\":{\"colorbar\":{\"outlinewidth\":0,\"ticks\":\"\"}},\"type\":\"scattermapbox\"}],\"scatterpolar\":[{\"marker\":{\"colorbar\":{\"outlinewidth\":0,\"ticks\":\"\"}},\"type\":\"scatterpolar\"}],\"scatterpolargl\":[{\"marker\":{\"colorbar\":{\"outlinewidth\":0,\"ticks\":\"\"}},\"type\":\"scatterpolargl\"}],\"scatterternary\":[{\"marker\":{\"colorbar\":{\"outlinewidth\":0,\"ticks\":\"\"}},\"type\":\"scatterternary\"}],\"surface\":[{\"colorbar\":{\"outlinewidth\":0,\"ticks\":\"\"},\"colorscale\":[[0.0,\"#0d0887\"],[0.1111111111111111,\"#46039f\"],[0.2222222222222222,\"#7201a8\"],[0.3333333333333333,\"#9c179e\"],[0.4444444444444444,\"#bd3786\"],[0.5555555555555556,\"#d8576b\"],[0.6666666666666666,\"#ed7953\"],[0.7777777777777778,\"#fb9f3a\"],[0.8888888888888888,\"#fdca26\"],[1.0,\"#f0f921\"]],\"type\":\"surface\"}],\"table\":[{\"cells\":{\"fill\":{\"color\":\"#EBF0F8\"},\"line\":{\"color\":\"white\"}},\"header\":{\"fill\":{\"color\":\"#C8D4E3\"},\"line\":{\"color\":\"white\"}},\"type\":\"table\"}]},\"layout\":{\"annotationdefaults\":{\"arrowcolor\":\"#2a3f5f\",\"arrowhead\":0,\"arrowwidth\":1},\"autotypenumbers\":\"strict\",\"coloraxis\":{\"colorbar\":{\"outlinewidth\":0,\"ticks\":\"\"}},\"colorscale\":{\"diverging\":[[0,\"#8e0152\"],[0.1,\"#c51b7d\"],[0.2,\"#de77ae\"],[0.3,\"#f1b6da\"],[0.4,\"#fde0ef\"],[0.5,\"#f7f7f7\"],[0.6,\"#e6f5d0\"],[0.7,\"#b8e186\"],[0.8,\"#7fbc41\"],[0.9,\"#4d9221\"],[1,\"#276419\"]],\"sequential\":[[0.0,\"#0d0887\"],[0.1111111111111111,\"#46039f\"],[0.2222222222222222,\"#7201a8\"],[0.3333333333333333,\"#9c179e\"],[0.4444444444444444,\"#bd3786\"],[0.5555555555555556,\"#d8576b\"],[0.6666666666666666,\"#ed7953\"],[0.7777777777777778,\"#fb9f3a\"],[0.8888888888888888,\"#fdca26\"],[1.0,\"#f0f921\"]],\"sequentialminus\":[[0.0,\"#0d0887\"],[0.1111111111111111,\"#46039f\"],[0.2222222222222222,\"#7201a8\"],[0.3333333333333333,\"#9c179e\"],[0.4444444444444444,\"#bd3786\"],[0.5555555555555556,\"#d8576b\"],[0.6666666666666666,\"#ed7953\"],[0.7777777777777778,\"#fb9f3a\"],[0.8888888888888888,\"#fdca26\"],[1.0,\"#f0f921\"]]},\"colorway\":[\"#636efa\",\"#EF553B\",\"#00cc96\",\"#ab63fa\",\"#FFA15A\",\"#19d3f3\",\"#FF6692\",\"#B6E880\",\"#FF97FF\",\"#FECB52\"],\"font\":{\"color\":\"#2a3f5f\"},\"geo\":{\"bgcolor\":\"white\",\"lakecolor\":\"white\",\"landcolor\":\"white\",\"showlakes\":true,\"showland\":true,\"subunitcolor\":\"#C8D4E3\"},\"hoverlabel\":{\"align\":\"left\"},\"hovermode\":\"closest\",\"mapbox\":{\"style\":\"light\"},\"paper_bgcolor\":\"white\",\"plot_bgcolor\":\"white\",\"polar\":{\"angularaxis\":{\"gridcolor\":\"#EBF0F8\",\"linecolor\":\"#EBF0F8\",\"ticks\":\"\"},\"bgcolor\":\"white\",\"radialaxis\":{\"gridcolor\":\"#EBF0F8\",\"linecolor\":\"#EBF0F8\",\"ticks\":\"\"}},\"scene\":{\"xaxis\":{\"backgroundcolor\":\"white\",\"gridcolor\":\"#DFE8F3\",\"gridwidth\":2,\"linecolor\":\"#EBF0F8\",\"showbackground\":true,\"ticks\":\"\",\"zerolinecolor\":\"#EBF0F8\"},\"yaxis\":{\"backgroundcolor\":\"white\",\"gridcolor\":\"#DFE8F3\",\"gridwidth\":2,\"linecolor\":\"#EBF0F8\",\"showbackground\":true,\"ticks\":\"\",\"zerolinecolor\":\"#EBF0F8\"},\"zaxis\":{\"backgroundcolor\":\"white\",\"gridcolor\":\"#DFE8F3\",\"gridwidth\":2,\"linecolor\":\"#EBF0F8\",\"showbackground\":true,\"ticks\":\"\",\"zerolinecolor\":\"#EBF0F8\"}},\"shapedefaults\":{\"line\":{\"color\":\"#2a3f5f\"}},\"ternary\":{\"aaxis\":{\"gridcolor\":\"#DFE8F3\",\"linecolor\":\"#A2B1C6\",\"ticks\":\"\"},\"baxis\":{\"gridcolor\":\"#DFE8F3\",\"linecolor\":\"#A2B1C6\",\"ticks\":\"\"},\"bgcolor\":\"white\",\"caxis\":{\"gridcolor\":\"#DFE8F3\",\"linecolor\":\"#A2B1C6\",\"ticks\":\"\"}},\"title\":{\"x\":0.05},\"xaxis\":{\"automargin\":true,\"gridcolor\":\"#EBF0F8\",\"linecolor\":\"#EBF0F8\",\"ticks\":\"\",\"title\":{\"standoff\":15},\"zerolinecolor\":\"#EBF0F8\",\"zerolinewidth\":2},\"yaxis\":{\"automargin\":true,\"gridcolor\":\"#EBF0F8\",\"linecolor\":\"#EBF0F8\",\"ticks\":\"\",\"title\":{\"standoff\":15},\"zerolinecolor\":\"#EBF0F8\",\"zerolinewidth\":2}}},\"width\":700,\"xaxis\":{\"anchor\":\"y\",\"domain\":[0.0,1.0],\"title\":{\"text\":\"assignment\"}},\"yaxis\":{\"anchor\":\"x\",\"domain\":[0.0,1.0],\"title\":{\"text\":\"value\"}}},                        {\"responsive\": true}                    ).then(function(){\n                            \nvar gd = document.getElementById('0f3c1978-3f51-442a-8161-a28d3b2dcb54');\nvar x = new MutationObserver(function (mutations, observer) {{\n        var display = window.getComputedStyle(gd).display;\n        if (!display || display === 'none') {{\n            console.log([gd, 'removed!']);\n            Plotly.purge(gd);\n            observer.disconnect();\n        }}\n}});\n\n// Listen for the removal of the full notebook cells\nvar notebookContainer = gd.closest('#notebook-container');\nif (notebookContainer) {{\n    x.observe(notebookContainer, {childList: true});\n}}\n\n// Listen for the clearing of the current output cell\nvar outputEl = gd.closest('.output');\nif (outputEl) {{\n    x.observe(outputEl, {childList: true});\n}}\n\n                        })                };                });            </script>        </div>"
     },
     "metadata": {},
     "output_type": "display_data"
    }
   ],
   "source": [
    "nano3P.plot_perfect_barcodes(save_to=f\"{get_dt(for_file=True)}_nano3P_barcodeCounts.png\")\n",
    "dRNA.plot_perfect_barcodes(save_to=f\"{get_dt(for_file=True)}_dRNA_barcodeCounts.png\")"
   ],
   "metadata": {
    "collapsed": false
   }
  },
  {
   "cell_type": "code",
   "execution_count": 52,
   "outputs": [
    {
     "name": "stdout",
     "output_type": "stream",
     "text": [
      "\n",
      "read_id=b2e0be4c-4a50-498a-a102-7eadd4fec716; assignment=05\n",
      "\n",
      "Read: AGATTGTGTTTGTTAGTTCGCTGTGGATGGGTAAGGGTGTTATGAACGTTGTCAACAACGTCAACAACGTCATTGTTGCTGCTTTCGTCAAGGCCAACCTAGATGTTAAGGACCTTAAAAGGCCGTCGATGA   CTTGTTGTCTTT GACGGTACCGCCAACTAGTCCAAGTTGGGTGCTAACGCTACATATTTGGGTG\n",
      "      |||||||||||||||| |||||||||||||||||||||||||||||||•||||||||||||||||||||||||||•||||||||||||||||||||||||||||||||||||||  ||||||||||||||||   |||||||||||| ||•||||||||||||•|||||||||||||||||||||||  || •|||||||\n",
      "Ref:  AGATTGTGTTTGTTAG TCGCTGTGGATGGGTAAGGGTGTTATGAACGCTGTCAACAACGTCAACAACGTCATTGCTGCTGCTTTCGTCAAGGCCAACCTAGATGTTAAGGACC  AAAAGGCCGTCGATGACTTCTTGTTGTCTTTGGATGGTACCGCCAACAAGTCCAAGTTGGGTGCTAACGCT  AT CTTGGGTG\n",
      "\n",
      "Read: TCTCCATATGGCCGCTGCTAGAGCCGCTGCTGCTGCTGAAAAGAACGTTCCCATTGTACCAACATATTGGCTGACTTGTCTCACCAAGTCCAAGACCTCTCCATACGTTTTGCCAGTTCCA TCTTGAACG TTTGAACGGTGGTTCCCACGCTGGTGGTGCTTTGGCTTTGCAAGAA TCATGATTGCTCCAACTGGTG\n",
      "      |||||  ||||||||||||||||||   ||||||||||||||||||| ||||||||||||||||| |||||||||||||||    |||||||||||||||||||||||||||||||||||| ||||||||| |||||||||||||||||||||||||||||||||||||||||||||| |||||||||||||||||||||\n",
      "Ref:  TCTCC  ATGGCCGCTGCTAGAGCC   GCTGCTGCTGAAAAGAACG TCCCATTGTACCAACAT TTGGCTGACTTGTCT    AAGTCCAAGACCTCTCCATACGTTTTGCCAGTTCCATTCTTGAACGTTTTGAACGGTGGTTCCCACGCTGGTGGTGCTTTGGCTTTGCAAGAATTCATGATTGCTCCAACTGGTG\n",
      "\n",
      "Read: CTAAGACCTTCGCTGAAGCCATGAGAATTGGTTCCTCGTGGTTTCTTCTACAACTTGAAGTCTTTGACCAAGAAGAGATACGGTGCTCACTGCCGGTAACGTCGGTGACGAAGGTGGTGTTGCTCCAAACATTCAAACCGCTGAAGAAGCTTTGGACTCTGATTGTTGACGCCATCGTCGTGAGTAGTGAACCGTAAGCA\n",
      "      ||||||||||||||||||||||||||||||||||  ||••|||  |•|•|||||||||||||||||||||||||||||||||||||| •||||||||||||||||||||||||||||||||||||||||||||||||||||||||||||||||||||| |||||||||||||||||||||||||||||||||||||||||\n",
      "Ref:  CTAAGACCTTCGCTGAAGCCATGAGAATTGGTTC  CGAAGTT  TACCACAACTTGAAGTCTTTGACCAAGAAGAGATACGGTGCT TCTGCCGGTAACGTCGGTGACGAAGGTGGTGTTGCTCCAAACATTCAAACCGCTGAAGAAGCTTTGGACT TGATTGTTGACGCCATCGTCGTGAGTAGTGAACCGTAAGCA\n",
      "\n",
      "Read: AGAG AGCTTTCTCCCCTCAGCTCAGCCGGCAATAAGTGCTTGTGCTGTG\n",
      "      |||| ||••••••••••||||||||||||||||||||||| |||||||||\n",
      "Ref:  AGAGAAGAGNNNNNNNNTCAGCTCAGCCGGCAATAAGTGC TGTGCTGTG\n",
      "\n",
      "read_id=e1de9881-58a8-4cd9-94bb-19fec6af7f54; assignment=10\n",
      "\n",
      "Read: TTTGGCAG CTTGTTTAAGCTCAAG  CTCTCCACCACCATATG TTTGCCAGTTCCATT TTCCAAAACG TTTGAACGGTGGTTCCCGCATTGGTGGTGCTTTTGGCTTTGCTAGAATTTATGATTGCT CAACTGGTGCTAAGACCTTCGCTG AGCTTTGGAGAATTGGTTC  ATAG TTACCACAACT  AAGT\n",
      "      ||||||•| |||||•||||••||||  ||||      |||||•| ||||||||||||||| ||   •|||| |||||||||||||||||•|••||||||||| |||||||||||•||||||•||||||||| |||||||||||||||||||||||| |||••| ||||||||||||  | || |||||||||||  ||||\n",
      "Ref:  TTTGGCTGACTTGTCTAAGTCCAAGACCTCT      CCATACGTTTTGCCAGTTCCATTCTT   GAACGTTTTGAACGGTGGTTCCCACGCTGGTGGTGC TTTGGCTTTGCAAGAATTCATGATTGCTCCAACTGGTGCTAAGACCTTCGCTGAAGCCAT GAGAATTGGTTCCGA AGTTTACCACAACTTGAAGT\n",
      "\n",
      "Read: CTTGTCACACTCCAAGAAGAGAT  GGTGCTT TGCCGGTAACGTCGGTGACGAAGGTGGGTGTTGCTCCAAACATTCAAACTGCTGAAGAAGCTCTTGACTTGATTGTTGACGCCATCGT GTGAGTAGTGAACCGT AGCAAGAGAAGA    TGGATTTAGCTCAGCTAATCGTCCGTGCTGTGCTGTGCTGTGCT\n",
      "      ||| |•|    ||||||||||||  ||||||| ||||||||||||||||||||||||| |||||||||||||||||||||||•||||||||||||•|•||||||||||||||||||||||| |||||||||||||||| ||||||||||||    •••••|•|||||||||||||||||||||||||||||||||||||\n",
      "Ref:  CTT TGA    CCAAGAAGAGATACGGTGCTTCTGCCGGTAACGTCGGTGACGAAGGT GGTGTTGCTCCAAACATTCAAACCGCTGAAGAAGCTTTGGACTTGATTGTTGACGCCATCGTCGTGAGTAGTGAACCGTAAGCAAGAGAAGAGNNNNNNNNTCAGCTCAGCTAATCGTCCGTGCTGTGCTGTGCTGTGCT\n",
      "\n",
      "read_id=5dcc5925-eed2-4c0f-8567-0c5c0288106d; assignment=60\n",
      "\n",
      "Read: AGATTGTGTCTTGTTAGTCGCTGTGGATGGGTAAGGGTGTTTAGGCACGCTGTTAAGAACGTTCAACGATGTCATTGCCCCAGCTTTCGTTAAGGCTAACATTGATGTTAAGGACCAAAAGGCCGTCGATGA   CTTGAT TCACTGGACGGTACCGCCAACAAGTCCAAGTTGGGTGCTAAAACACGCTATC TGGGT\n",
      "      ||||||||| ||||||||||||||||||||||||||||| |||•|•|||||||•||•|||| |||||•|•||||||||••|•||||||||•|||||•|||•|•|||||||||||||||||||||||||||||   ||||•| ||••||||•|||||||||||||||||||||||||||||||    |||||||| |||||\n",
      "Ref:  AGATTGTGT TTGTTAGTCGCTGTGGATGGGTAAGGGTG TTATGAACGCTGTCAACAACG TCAACAACGTCATTGCTGCTGCTTTCGTCAAGGCCAACCTAGATGTTAAGGACCAAAAGGCCGTCGATGACTTCTTGTTGTCTTTGGATGGTACCGCCAACAAGTCCAAGTTGGGTGCTA    ACGCTATCTTGGGT\n",
      "\n",
      "Read: GTCTCCATCGTGGCCGTTGCTAGAGCCGCTGCTGCTGAAAAGAACGTCCCATCTGTACCAACATTT GTTGACTTGTCTAAGTCCAAGACCTCTCCATACGTTCATATTGCCAGTTCCATT TTGAACGTTTTGAACGGTGGTTCCCACGCTGGTGGTGCTTTGGC  TGCAAGAATTCATGATTGCTCCAACTGGTGCT\n",
      "      |||||||   ||||||•||||||||||||||||||||||||||||||||||| ||||||||||||| |•||||||||||||||||||||||||||||||||||    |||||||||||||| ||||||||||||||||||||||||||||||||||||||||||||  ||||||||||||||||||||||||||||||||\n",
      "Ref:  GTCTCCA   TGGCCGCTGCTAGAGCCGCTGCTGCTGAAAAGAACGTCCCAT TGTACCAACATTTGGCTGACTTGTCTAAGTCCAAGACCTCTCCATACGTT    TTGCCAGTTCCATTCTTGAACGTTTTGAACGGTGGTTCCCACGCTGGTGGTGCTTTGGCTTTGCAAGAATTCATGATTGCTCCAACTGGTGCT\n",
      "\n",
      "Read: AAGACCCACGTTGAAGCCATGAGAATTGGTTCCGAAGTTTACCACAACTCTGAAGTCTTTGACCAAGAAGAGATACGGTGCTTCTGCCGGTAACGTCGAAAGTGACGAAGGTGGTGCTGCTCCAAACATTCAAACCG T  AGAAGCTTTGGACTTGATTGTTGACGCCAT GT  TGAGTAGTGAACCGTAAGCA  AG\n",
      "      ||||||••||•|||||||||||||||||||||||||||||||||||||| ||||||||||||||||||||||||||||||||||||||||||||||||   |||||||||||||||•|||||||||||||||||||| |  |||||||||||||||||||||||||||||| ||  ||||||||||||||||||||  ||\n",
      "Ref:  AAGACCTTCGCTGAAGCCATGAGAATTGGTTCCGAAGTTTACCACAACT TGAAGTCTTTGACCAAGAAGAGATACGGTGCTTCTGCCGGTAACGTCG   GTGACGAAGGTGGTGTTGCTCCAAACATTCAAACCGCTGAAGAAGCTTTGGACTTGATTGTTGACGCCATCGTCGTGAGTAGTGAACCGTAAGCAAGAG\n",
      "\n",
      "Read: AAGAG  ACACCATCAGCT AGCAAGAGGA GGTGCTGTGCTGTGCTGTGCT\n",
      "      |||||  ••••••|||||| |||||||||| |||||||||||||||||||||\n",
      "Ref:  AAGAGNNNNNNNNTCAGCTCAGCAAGAGGAGGGTGCTGTGCTGTGCTGTGCT\n",
      "\n",
      "read_id=2ea954c7-0a77-4f24-8884-a3b2e2c08804; assignment=60\n",
      "\n",
      "Read: TGTTAAGTCGC  TGGAT GGTAAGGGTGTTATGAACGTTGTCAACAACGTCAACAACGTCATTGCTGCTGCTTT GCCAAGGCCAACCAAGATGTTAAGGA CTAAAGGCCGTCGATGACTTC TGTTGTC TTGGATGGTACCGCCATC GGTCCAAGTTGGGTGCTAACGCTATCTTGGGTGTCTCCATGGCCGCTG\n",
      "      |||| ||||||  ||||| |||||||||||||||||||•|||||||||||||||||||||||||||||||||||| |•|||||||||||•|||||||||||| |•||||||||||||||||||| ||||||| ||||||||||||||||•| •|||||||||||||||||||||||||||||||||||||||||||||||\n",
      "Ref:  TGTT AGTCGCTGTGGATGGGTAAGGGTGTTATGAACGCTGTCAACAACGTCAACAACGTCATTGCTGCTGCTTTCGTCAAGGCCAACCTAGATGTTAAGGACCAAAAGGCCGTCGATGACTTCTTGTTGTCTTTGGATGGTACCGCCAACAAGTCCAAGTTGGGTGCTAACGCTATCTTGGGTGTCTCCATGGCCGCTG\n",
      "\n",
      "Read: CGAGAGCCGCTGCTGCTGAAAAGAACGTCCCATTGTACCAACATTTGGCTGACTTGTTCTAAGTCC AGACCTCTCCATACGTTTTGCCAGTTCCA TCTTGATTACGTTTTGAACGGTGGTTCCCACGTTGGTGGTGC TTGGCTTTGCAAGAATTCATGATTGCTCCAACTGGTGC AAGACCTTCGCTGAAGCCATG\n",
      "      |•|||||||||||||||||||||||||||||||||||||||||||||||||||||| ||||||||| ||||||||||||||||||||||||||||| ||||||  ||||||||||||||||||||||||•||||||||| |||||||||||||||||||||||||||||||||||||| |||||||||||||||||||||\n",
      "Ref:  CTAGAGCCGCTGCTGCTGAAAAGAACGTCCCATTGTACCAACATTTGGCTGACTTG TCTAAGTCCAAGACCTCTCCATACGTTTTGCCAGTTCCATTCTTGA  ACGTTTTGAACGGTGGTTCCCACGCTGGTGGTGCTTTGGCTTTGCAAGAATTCATGATTGCTCCAACTGGTGCTAAGACCTTCGCTGAAGCCATG\n",
      "\n",
      "Read: AGAATT GTTCCGAAGTTTACCACAACTTGAAGTCTTTGACCAAGAAGAGATACGGTGCT  TGCCGGTAACGTCGGTGAC AAGGTGGTGTTGCTCCAAACATTCAATTACATTGCTGAAGAAGC TTGGACTTGATTGTTGACGCCATCGT  TGAGTAGTGAACCGTAAGCAAGAGAAGA    ACTCCTCAGCTTT\n",
      "      |||||| |||||||||||||||||||||||||||||||||||||||||||||||||||||  ||||||||||||||||||| ||||||||||||||||||||||||||  ||  •||||||||||| ||||||||||||||||||||||||||  ||||||||||||||||||||||||||||    •••••|||||  |\n",
      "Ref:  AGAATTGGTTCCGAAGTTTACCACAACTTGAAGTCTTTGACCAAGAAGAGATACGGTGCTTCTGCCGGTAACGTCGGTGACGAAGGTGGTGTTGCTCCAAACATTCAA  AC  CGCTGAAGAAGCTTTGGACTTGATTGTTGACGCCATCGTCGTGAGTAGTGAACCGTAAGCAAGAGAAGAGNNNNNNNNTCAGC  T\n",
      "\n",
      "Read: AAGCAAGAGGAGGGTGCTGTGCTGTGCTGTGC\n",
      "      •|||||||||||||||||||||||||||||||\n",
      "Ref:  CAGCAAGAGGAGGGTGCTGTGCTGTGCTGTGC\n",
      "\n",
      "read_id=69489ed3-0996-44a9-b6a3-b8dc838ebfca; assignment=10\n",
      "\n",
      "Read: TCAGATTGT CTTGTT GATGCTGTGGATGGGTAAGGTGTGTTCACCGCACGCTGTTAAGAACGTCAACGACGGCACTGCCCCAGCTTT AT AAGGCTCA  TTTGATGTTAAGGACCAAAAGGCCGCCGATGAC TCTGATTTAC  TAGACGGTACTGCCA  AA TCCAAGTTGAGTGCTAACGCGTTATCTGGGG\n",
      "      ||||||||| •||||| |••||||||||||||||||| ||||| | •|•|||||||•||•|||||||||•|||•||•|||••|•||||| •| ||||| ||  •|•||||||||||||||||||||||•||||||| |||••||••|  |•||•|||||•||||  || |||||||||•||||||||||  |||||•|||\n",
      "Ref:  TCAGATTGTGTTTGTTAGTCGCTGTGGATGGGTAAGG GTGTT A TGAACGCTGTCAACAACGTCAACAACGTCATTGCTGCTGCTTTCGTCAAGGC CAACCTAGATGTTAAGGACCAAAAGGCCGTCGATGACTTCTTGTTGTCTTTGGATGGTACCGCCAACAAGTCCAAGTTGGGTGCTAACGC  TATCTTGGG\n",
      "\n",
      "Read: TGTTTCTTTGGCTGCTTCCAGAGCTGCCGCTGCTGAAAAGAACGT CCATTGTACCAACATTTGGCTGACTTGTCT AGTTCAAGATCTACT CATACTGTTACTGTCAGTACCATTCTTGATATATCTTTG ATGGTGGT  CC CTCTGGT GTGCTTTGGCTCTGCAAGAATTCATGATTGCTCCAACTGGTGCTAA\n",
      "      |||•||••||||•|||•|•|||||•||•||||||||||||||||| |||||||||||||||||||||||||||||| |||•|||||•|| || ||||| ||| •||•||||•|||||||||| |••| |||| |•||||||  || |•||||| |||||||||||•||||||||||||||||||||||||||||||||||\n",
      "Ref:  TGTCTCCATGGCCGCTGCTAGAGCCGCTGCTGCTGAAAAGAACGTCCCATTGTACCAACATTTGGCTGACTTGTCTAAGTCCAAGACCT CTCCATAC GTT TTGCCAGTTCCATTCTTGA ACGT TTTGAACGGTGGTTCCCACGCTGGTGGTGCTTTGGCTTTGCAAGAATTCATGATTGCTCCAACTGGTGCTAA\n",
      "\n",
      "Read: GACCTT  CTGAAGCTTAAAGAATTGGTTCCTCGAAGTCTTACCA    TCGAAGTC TTGACCAAGAAGAGATACGGTGCT  TGCCGGTAACGTCGAAG C AAGGTGGTGTTGCTCCAAA    CAAACTGCTGAAGAAGACTTGGACTCTGATTGTTGACGC   CGCC  AAGAAGTGAACCGTAAGCAAGAGAA\n",
      "      ||||||  |||||||••••|||||||||||  |||||| ||||||    |•|||||| ||||||||||||||||||||||||  ||||||||||||||••| | |||||||||||||||||||    |||||•||||||||||••||||||| |||||||||||||   ||•|  •||•|||||||||||||||||||||\n",
      "Ref:  GACCTTCGCTGAAGCCATGAGAATTGGTTC  CGAAGT TTACCACAACTTGAAGTCTTTGACCAAGAAGAGATACGGTGCTTCTGCCGGTAACGTCGGTGACGAAGGTGGTGTTGCTCCAAACATTCAAACCGCTGAAGAAGCTTTGGACT TGATTGTTGACGCCATCGTCGTGAGTAGTGAACCGTAAGCAAGAGAA\n",
      "\n",
      "Read: GAGCATCGCAATC GGTCAGCTAATCGTCCGTTGCTGTGCTGTGCTGTGCT\n",
      "      |||••••••••|| |•||||||||||||||| |||||||||||||||||||\n",
      "Ref:  GAGNNNNNNNNTCAGCTCAGCTAATCGTCCG TGCTGTGCTGTGCTGTGCT\n",
      "\n",
      "read_id=141ff82f-c484-435a-b934-9af011ae2431; assignment=10\n",
      "\n",
      "Read: GGTCCTT TGCCGGTAACGTCGGTGACGAAGGTGGTGTTGCTCCAAACATTCAAACTGCCACCGAAG TTACTGGAC TGATTGTTGACGC  TCGTCGTGAGTAGTGAAACATCAAGCGAGAG AGA ACACCAAATCAGCTTAGCTAATCGTCC  GCTGTGCTGTGC\n",
      "      |||•||| ||||||||||||||||||||||||||||||||||||||||||||||||•||••••|||| ||  ||||| |||||||||||||  |||||||||||||||||•|•| ||||•|||| ||| ••••••••||||||•||||||||||||  ||||||||||||\n",
      "Ref:  GGTGCTTCTGCCGGTAACGTCGGTGACGAAGGTGGTGTTGCTCCAAACATTCAAACCGCTGAAGAAGCTT  TGGACTTGATTGTTGACGCCATCGTCGTGAGTAGTGAACCGT AAGCAAGAGAAGAGNNNNNNNNTCAGCTCAGCTAATCGTCCGTGCTGTGCTGTGC\n",
      "\n",
      "read_id=3eeb8b33-7079-48eb-b416-41794b510e00; assignment=15\n",
      "\n",
      "Read: AACAACGTCAACAACGTCATTGCTGCTGC TTCGTTCAAGGCCAACCTAGATGTTAAGGACCAAAAGGCCGTCGATGACTCCTCTCTGTTGTC TTGGATGGTACCGCCAACAAGTCCAAGTTGGGTGCTAACGCTATCTTGGGTGTCTCCATGGCCGCTGCTAGAGCCGCTGCTGCTGAAAAGAACGTCCCATTGTACC\n",
      "      ||||||||||||||||||||||||||||| |||| |||||||||||||||||||||||||||||||||||||||||||||  ||| ||||||| ||||||||||||||||||||||||||||||||||||||||||||||||||||||||||||||||||||||||||||||||||||||||||||||||||||||||||\n",
      "Ref:  AACAACGTCAACAACGTCATTGCTGCTGCTTTCG TCAAGGCCAACCTAGATGTTAAGGACCAAAAGGCCGTCGATGACT  TCT TGTTGTCTTTGGATGGTACCGCCAACAAGTCCAAGTTGGGTGCTAACGCTATCTTGGGTGTCTCCATGGCCGCTGCTAGAGCCGCTGCTGCTGAAAAGAACGTCCCATTGTACC\n",
      "\n",
      "Read: AACATTTGGCTGACTTTGTCTAAGTCCAAGACCTCTCCATACG TTTGCCAGTTCCATTC TGAACGTTTTGAACGGTGGTTCCCACGCTGGTGGTGCTTTGGCTTTGCAAGAA TCATGATTGCTCCAACTGGTGCTAAGACCTT  CTG  TTC  GAGAATTGGTTCCGAAGTTTACCAC    TGAAGTTCTTTGA\n",
      "      |||||||||||||| |||||||||||||||||||||||||||| |||||||||||||||| ||||||||||||||||||||||||||||||||||||||||||||||||||||| |||||||||||||||||||||||||||||||  |||  ••|  |||||||||||||||||||||||||    ||||| |||||| \n",
      "Ref:  AACATTTGGCTGAC TTGTCTAAGTCCAAGACCTCTCCATACGTTTTGCCAGTTCCATTCTTGAACGTTTTGAACGGTGGTTCCCACGCTGGTGGTGCTTTGGCTTTGCAAGAATTCATGATTGCTCCAACTGGTGCTAAGACCTTCGCTGAAGCCATGAGAATTGGTTCCGAAGTTTACCACAACTTGAAG TCTTTG \n",
      "\n",
      "Read: AAACAAAGAAGAGAT  GGTGCT  TGCCGGTAACGTCGGTGA TAAGGTGGTGTTGCTCCAAACAT  AAACCGCTGAAGAAGC TTGGACCTTGATTGTTGACGCCATCGTCGTGAGTAGTGAACCGTAAGCAAGAGAAGAGAGGCATCCTACAGCTCAGCCCTTCTAGGGTGCTGTGCTGTGCTGTGCT\n",
      "        ||•||||||||||  ||||||  |||||||||||||||||| •||||||||||||||||||||||  |||||||||||||||| ||||| ||||||||||||||||||||||||||||||||||||||||||||||||||||••••••••| ||||||||||||||||||||||||||||||||||||||\n",
      "Ref:    ACCAAGAAGAGATACGGTGCTTCTGCCGGTAACGTCGGTGACGAAGGTGGTGTTGCTCCAAACATTCAAACCGCTGAAGAAGCTTTGGA CTTGATTGTTGACGCCATCGTCGTGAGTAGTGAACCGTAAGCAAGAGAAGAGNNNNNNNNT CAGCTCAGCCCTTCTAGGGTGCTGTGCTGTGCTGTGCT\n",
      "\n",
      "read_id=eb77bf16-c030-46a2-908e-d617d417a3e0; assignment=10\n",
      "\n",
      "Read: AGATTGTGTTTGTTAGTCGCTGTGGATGGGTAAGGGTGTTATGAACGCTGTCAACAACGTCAACAACGT ACTGCTGCTGCTTT GTCAAGGCCATCCTAGATGTTAAGGACCAAAAGGCCGTCGATGACTTCTTGTTGTC TTGGATGGT     C ATAAGTCCAAGTTGGGTGCTAACGCTATC TGGGTGTCTCCA\n",
      "      ||||||||||||||||||||||||||||||||||||||||||||||||||||||||||||||||||||| |•|||||||||||| ||||||||||•||||||||||||||||||||||||||||||||||||||||||||| |||||||||     | |•||||||||||||||||||||||||||| ||||||||||||\n",
      "Ref:  AGATTGTGTTTGTTAGTCGCTGTGGATGGGTAAGGGTGTTATGAACGCTGTCAACAACGTCAACAACGTCATTGCTGCTGCTTTCGTCAAGGCCAACCTAGATGTTAAGGACCAAAAGGCCGTCGATGACTTCTTGTTGTCTTTGGATGGTACCGCCAACAAGTCCAAGTTGGGTGCTAACGCTATCTTGGGTGTCTCCA\n",
      "\n",
      "Read: TTGGCC AT  TAGAGCCGTTGCTGCTGAAAAGAACGTCCCATTGTACC ATATTTGGCTGACTTGTC  GGTCCAAGACCTCTCCATACGTTTTGCCAGTTCCATTCTTG ACG TTTGAACGGTGGTATTCCCACGCTGGTGGTGCTTTGGCTTTGCAAGAATTTATGATTGCTCCAACTGGTGCTAAG   TTCCGC\n",
      "       ||||| •|  ||||||||•||||||||||||||||||||||||||||| |•||||||||||||||||  •|||||||||||||||||||||||||||||||||||||||| ||| ||||||||||||  ||||||||||||||||||||||||||||||||||||•||||||||||||||||||||||||   || |||\n",
      "Ref:   TGGCCGCTGCTAGAGCCGCTGCTGCTGAAAAGAACGTCCCATTGTACCAACATTTGGCTGACTTGTCTAAGTCCAAGACCTCTCCATACGTTTTGCCAGTTCCATTCTTGAACGTTTTGAACGGTGG  TTCCCACGCTGGTGGTGCTTTGGCTTTGCAAGAATTCATGATTGCTCCAACTGGTGCTAAGACCTT CGC\n",
      "\n",
      "Read: TGAAGCC   AGAATTGGTTCCG GGTCT  C CAAC TGCAGTTTTTGGACC AGAAGAGATACGGTGCTTCTGCCTG CCCGTCTAGGTGACGAAGGTGGTGTTGCTCCAAACATTTCAAACTGCTGAAGAAGCTTTGGACTTGATTG TGACGCTCATCGTC  GAGTAGTGATCTATAAGCAAGAGAAGAG  ACT\n",
      "      |||||||   ||||||||||||| •||•|  | |||| ||•|||•||| |||| |||||||||||||||||||||||•| ••||||  |||||||||||||||||||||||||||| |||||||•||||||||||||||||||||||||| |||||| |||||||  |||||||||•|••|||||||||||||||  •••\n",
      "Ref:  TGAAGCCATGAGAATTGGTTCCGAAGTTTACCACAACTTGAAGTCTTT GACCAAGAAGAGATACGGTGCTTCTGCCGGTAACGTC  GGTGACGAAGGTGGTGTTGCTCCAAACA TTCAAACCGCTGAAGAAGCTTTGGACTTGATTGTTGACGC CATCGTCGTGAGTAGTGAACCGTAAGCAAGAGAAGAGNNNNN\n",
      "\n",
      "Read: CCGTCAGCTCAGCTAATCGTCCGTGCTGTGCTGCTGCT\n",
      "      •••|||||||||||||||||||||||||||||| ||||\n",
      "Ref:  NNNTCAGCTCAGCTAATCGTCCGTGCTGTGCTG TGCT\n",
      "\n",
      "read_id=1b212313-c981-4bcb-b1ef-025cbdbc9ca8; assignment=60\n",
      "\n",
      "Read: TGTTTGTTAGTCGCTGTAGGATGGGTAAGGGTGTTATGAACGCTGTCAACAACGT   CAACGT  TTGTTGTTGTTTTCCGTCAAGGCC ATCAAGATGTTAAGGACCAAAAGGCCAATGATGATCATCTTGTTGTC TTGGATGGTACCGCCATC GGTAC AGTAAGGGTGCT ATGCTATCTT GGTGTCTCCATG\n",
      "      ||||||||||||||||| |||||||||||||||||||||||||||||||||||||   ||||||  |||•||•||•||| |||||||||| |•|•||||||||||||||||||||||•••||||| |•|||||||||| ||||||||||||||||•| •||•| ||| •||||||| |•|||||||| ||||||||||||\n",
      "Ref:  TGTTTGTTAGTCGCTGT GGATGGGTAAGGGTGTTATGAACGCTGTCAACAACGTCAACAACGTCATTGCTGCTGCTTT CGTCAAGGCCAACCTAGATGTTAAGGACCAAAAGGCCGTCGATGA CTTCTTGTTGTCTTTGGATGGTACCGCCAACAAGTCCAAGT TGGGTGCTAACGCTATCTTGGGTGTCTCCATG\n",
      "\n",
      "Read: GCC   GCTAGAGCCGCTGCTGCTGAAAAGAACGTCCCATTGTAC   CATTTGGCTGACTTGTCTAAGTCCAAGAC    CCAT CGTTTCGCCAGTTCCAT  TTGAACG TTTGAACGGTGGTTCCCACGTTGGTGGTGCTCTTGGCTTTGCTAGAATTCGACATTGCTCCAACT GTGCTAAGACCTTCGTTGAAG\n",
      "      |||   |||||||||||||||||||||||||||||||||||||||   |||||||||||||||||||||||||||||    |||| |||||•|||||||||||  ||||||| ||||||||||||||||||||•|||||||||| ||||||||||•|||||||•••|||||||||||| |||||||||||||||•|||||\n",
      "Ref:  GCCGCTGCTAGAGCCGCTGCTGCTGAAAAGAACGTCCCATTGTACCAACATTTGGCTGACTTGTCTAAGTCCAAGACCTCTCCATACGTTTTGCCAGTTCCATTCTTGAACGTTTTGAACGGTGGTTCCCACGCTGGTGGTGCT TTGGCTTTGCAAGAATTCATGATTGCTCCAACTGGTGCTAAGACCTTCGCTGAAG\n",
      "\n",
      "Read: CCATGAAGAATT GTTCCG AG     CACTCCAT ATG CTTTGACTTTCAAGAAGAGATACGGTGCTTACGCCGGTAACGTCGGTGACGAAGGT GTGTTGCTCCAAACAT     CTG TTAAGAAGC TTGGACTTGATTGTTGACGCCAT GT TTGAGTAGTGAACCGTAAGCAAGAGAAGAG   CTAGATCA\n",
      "      ||||| |||||| |||||| ||     |||••|•| |•| |||||||   ||||||||||||||||||||••|||||||||||||||||||||||| ||||||||||||||||     |•| |•||||||| ||||||||||||||||||||||| || •|||||||||||||||||||||||||||||   •••••|||\n",
      "Ref:  CCATG AGAATTGGTTCCGAAGTTTACCACAACTTGAAGTCTTTGAC   CAAGAAGAGATACGGTGCTTCTGCCGGTAACGTCGGTGACGAAGGTGGTGTTGCTCCAAACATTCAAACCGCTGAAGAAGCTTTGGACTTGATTGTTGACGCCATCGTCGTGAGTAGTGAACCGTAAGCAAGAGAAGAGNNNNNNNNTCA\n",
      "\n",
      "Read: GCTCAGCAAGAGGAGGGTGCTGTGCTGTGCTGTGCT\n",
      "      ||||||||||||||||||||||||||||||||||||\n",
      "Ref:  GCTCAGCAAGAGGAGGGTGCTGTGCTGTGCTGTGCT\n",
      "\n",
      "read_id=bb3ec9bf-55eb-439f-ba05-627375a06df0; assignment=10\n",
      "\n",
      "Read: AGATTGTGTTGGTT GTCGCTGTGGATGGGTAAGGGTGTTATGAACGCTGTCA  TA  TCAACAACGTTCATTGCTGTTGCTTTCGTTCAAGG CAACCTAGATGTT  GGACCAAAAGGCCGTCGATGACTTCTTGTTGTCTT  GACGGT  CGCCAACAAGTCCAAGTTGGGTGCTGCCGCTAT TTGGGTGTCTC\n",
      "      ||||||||||•||| ||||||||||||||||||||||||||||||||||||||  •|  ||||||||| |||||||||•|||||||| |||||| |||||||||||||  |||||||||||||||||||||||||||||||||||  ||•|||  |||||||||||||||||||||||||••|||||| |||||||||||\n",
      "Ref:  AGATTGTGTTTGTTAGTCGCTGTGGATGGGTAAGGGTGTTATGAACGCTGTCAACAACGTCAACAACG TCATTGCTGCTGCTTTCG TCAAGGCCAACCTAGATGTTAAGGACCAAAAGGCCGTCGATGACTTCTTGTTGTCTTTGGATGGTACCGCCAACAAGTCCAAGTTGGGTGCTAACGCTATCTTGGGTGTCTC\n",
      "\n",
      "Read: CATGGCCGCTGCAAAGGCCGTTGCTGCTGAAAAGTATGT CCATTGTACCA    TTGGCTGACACTGTCTAAGTCCAAAGA   CACCATATGTTCAAGCCAGTTCCA TCTTGAACG TTTGAACGGTGGTTCCCTC CTGGTGGTGCTTTGGCTCTGCAAGAA TC  GATTGCTCCAACTGGTGCTAAGACCTTCT\n",
      "      ||||||||||||•|••||||•|||||||||||||•|•|| |||||||||||    ||||||||| •||||||||||| ||||   |•|||||•||| ••|||||||||| ||||||||| |||||||||||||||||•| |||||||||||||||||•|||||||| ||  ||||||||||||||||||||||||   ||\n",
      "Ref:  CATGGCCGCTGCTAGAGCCGCTGCTGCTGAAAAGAACGTCCCATTGTACCAACATTTGGCTGAC TTGTCTAAGTCC AAGACCTCTCCATACGTT TTGCCAGTTCCATTCTTGAACGTTTTGAACGGTGGTTCCCACGCTGGTGGTGCTTTGGCTTTGCAAGAATTCATGATTGCTCCAACTGGTGCTAAGAC   CT\n",
      "\n",
      "Read: TCGCTGAAGCC  GCAGAATTGGT  CGAAGTTCTACCACAACTTGAAGTC TTGACCAAGAAGAGAT  GGTGC TCTGCCGGTAATGTCGGTGACGAAGGGTGGTGTTGCTCCAAAACATTCAAACCGTTGAAGAGAAGCTTTGGACTTGATTGTTGACGCCAT GCCGTGAGTAGTGAACCGTAAGCAAGAGAAGAG\n",
      "      |||||||||||  | |||||||||  ||||||| ||||||||||||||||| ||||||||||||||||  ||||| |||||||||||•|||||||||||| |||||||||||||| ||||||||||||||•|||  |||||||||||||||||||||||||||||| |•|||||||||||||||||||||||||||||||\n",
      "Ref:  TCGCTGAAGCCATG AGAATTGGTTCCGAAGTT TACCACAACTTGAAGTCTTTGACCAAGAAGAGATACGGTGCTTCTGCCGGTAACGTCGGTGACGAA GGTGGTGTTGCTCC AAACATTCAAACCGCTGA  AGAAGCTTTGGACTTGATTGTTGACGCCATCGTCGTGAGTAGTGAACCGTAAGCAAGAGAAGAG\n",
      "\n",
      "Read: ATTATTCAGATCAG TCAGCTAATCGTCCGTGTTGTGCTGTGCTGTGCT\n",
      "        ••••••••|||| |||||||||||||||||•||||||||||||||||\n",
      "Ref:    NNNNNNNNTCAGCTCAGCTAATCGTCCGTGCTGTGCTGTGCTGTGCT\n",
      "\n",
      "read_id=185df847-1d6d-498c-a28a-0984d8805949; assignment=10\n",
      "\n",
      "Read: AGATTGTGTTCACTTGTTAGTCGCTGTGGAT GGTAAGGGTGTT TCGATGCTGTTAAGAACGTCAACGACG  ACTGCCCCAGCTTTCGTTAAGGCTAACATTGATGTTAAGGTC  AAAGGCCGTCGATGA   CTTGATTTC TTGGACGGTACTGCCAACAA TCCAAGTTGGGTGCTAACGCTATC TGGGTGT \n",
      "      |||||||||    |||||||||||||||||| |||||||||||| |••|•|||||•||•|||||||||•|||  |•|||••|•||||||||•|||||•|||•|•||||||||||•|  |||||||||||||||   ||||•|•|| |||||•|||||•|||||||| |||||||||||||||||||||||| ||||||| \n",
      "Ref:  AGATTGTGT    TTGTTAGTCGCTGTGGATGGGTAAGGGTGTTATGAACGCTGTCAACAACGTCAACAACGTCATTGCTGCTGCTTTCGTCAAGGCCAACCTAGATGTTAAGGACCAAAAGGCCGTCGATGACTTCTTGTTGTCTTTGGATGGTACCGCCAACAAGTCCAAGTTGGGTGCTAACGCTATCTTGGGTGTC\n",
      "\n",
      "Read: TCTTTGGCTGCT CCAGAGCTGCCGCTGCTGAAAAGAATGTCCCATTATA CAAGTCTTGGCTGACTTGTCTAAGTCCAAGACCTCACCATTTG TTTGCCAGTTCCTACT TTGAACG TTTGAACGGTGGTTCCCACGTTGGTGGTGC ATGGCTTTGCCTGAATTTC  GATTGCTCCAACTGTATCTAAGTCCTTC\n",
      "      ||••||||•||| |•|||||•||•||||||||||||||•||||||||•|| |||•••|||||||||||||||||||||||||||||•||||••| |||||||||||| |•| ||||||| ||||||||||||||||||||•||||||||| •|||||||||••||| |||  ||||||||||||||•••|||||•|||||\n",
      "Ref:  TCCATGGCCGCTGCTAGAGCCGCTGCTGCTGAAAAGAACGTCCCATTGTACCAACATTTGGCTGACTTGTCTAAGTCCAAGACCTCTCCATACGTTTTGCCAGTTCC ATTCTTGAACGTTTTGAACGGTGGTTCCCACGCTGGTGGTGCTTTGGCTTTGCAAGAA TTCATGATTGCTCCAACTGGTGCTAAGACCTTC\n",
      "\n",
      "Read: GCTGAAGCCA AAGAATTGGACACTT  GA    CACCACAACTTGAAGTCTTTGACCAAGAAGAGATACGGTGCTTGCACCGGTAACGTCGGTGACGAAGGTGGTGTTGCTCCAAACA TC AATCGCTGAAGAAGCTTT GAC TGATTGTTGACGCCATCGT TTGAGTAGTGAA CATAAGCAAGAGAAGAGGTTC\n",
      "      |||||||||| •||||||||    ||  ||    •||||||||||||||||||||||||||||||||||||||||||•••||||||||||||||||||||||||||||||||||||||| || ||•||||||||||||||| ||| ||||||||||||||||||| •||||||||||| |•|||||||||||||||••••\n",
      "Ref:  GCTGAAGCCATGAGAATTGG    TTCCGAAGTTTACCACAACTTGAAGTCTTTGACCAAGAAGAGATACGGTGCTTCTGCCGGTAACGTCGGTGACGAAGGTGGTGTTGCTCCAAACATTCAAACCGCTGAAGAAGCTTTGGACTTGATTGTTGACGCCATCGTCGTGAGTAGTGAACCGTAAGCAAGAGAAGAGNNNN\n",
      "\n",
      "Read: AGCGTCAGCTCAGCTAATCGTCCGTGCTGTGCTGTGCTGTGCT\n",
      "      ••••|||||||||||||||||||||||||||||||||||||||\n",
      "Ref:  NNNNTCAGCTCAGCTAATCGTCCGTGCTGTGCTGTGCTGTGCT\n",
      "\n",
      "read_id=65e87a2d-cbf8-4034-8e9d-092115cf7e11; assignment=10\n",
      "\n",
      "Read: AGATTGTGTTTGGTTAGTCGCTGTGGAT GGTAAGGGTGTCTTTTGCACGCTGTTAAGAACGTTCAACGATGTCATTGCCCCAGCTTT GCTAAGGCTAACATTGATGGTTAAGGACCAAAAGGCCGTCGATGA   CTTGATTTCTTTGGACGGT  TGCTCAACAA TCCAAGTTGGGTGCTAACGCTATCTTGGGTG\n",
      "      ||||||||||| |||||||||||||||| ||||||||||  ||•||•|||||||•||•|||| |||||•|•||||||||••|•||||| |••|||||•|||•|•||| ||||||||||||||||||||||||||   ||||•|•||||||||•|||  •|| |||||| |||||||||||||||||||||||||||||||\n",
      "Ref:  AGATTGTGTTT GTTAGTCGCTGTGGATGGGTAAGGGTG  TTATGAACGCTGTCAACAACG TCAACAACGTCATTGCTGCTGCTTTCGTCAAGGCCAACCTAGAT GTTAAGGACCAAAAGGCCGTCGATGACTTCTTGTTGTCTTTGGATGGTACCGC CAACAAGTCCAAGTTGGGTGCTAACGCTATCTTGGGTG\n",
      "\n",
      "Read: TTTTCTTTGGCTGCTTCCAGAGCTGCCGCTGCTGAAAAGAATGTCCCATTATACAAGCACTTGGCTGACTTGTCTAAGTCCAAGAC  CTCCATACG TTTGCCAGTTCCATTCTTGAACG TTTGAACGGTGGTTCCCACGCTGGTGGTGCTTTGGCTTTGCAAGAATTTATGATTGCTCCAACTGGTGCTAAGACCTT\n",
      "       |•||••||||•|||•|•|||||•||•||||||||||||||•||||||||•|||•|•||•||||||||||||||||||||||||||  ||||||||| ||||||||||||||||||||||| ||||||||||||||||||||||||||||||||||||||||||||||||•|||||||||||||||||||||||||||||\n",
      "Ref:   TCTCCATGGCCGCTGCTAGAGCCGCTGCTGCTGAAAAGAACGTCCCATTGTACCAACATTTGGCTGACTTGTCTAAGTCCAAGACCTCTCCATACGTTTTGCCAGTTCCATTCTTGAACGTTTTGAACGGTGGTTCCCACGCTGGTGGTGCTTTGGCTTTGCAAGAATTCATGATTGCTCCAACTGGTGCTAAGACCTT\n",
      "\n",
      "Read: CGCTGAAGCTTTGAGAATTGGTTCCG AGTTTACCACAACTTGAAGTC TTGACCAAGAAGAGATACGGTGCT  TGCCGGTAACGTTCGGTGACGAAGGTGGTGTTGCTCCAAACATT    CTGCTGAAGAAGCTTTGGAC TGATTGTTGACGCCATCGTCGTGAGTAGTGAACCGT AGCAAGAGAAGAGGCGTCT\n",
      "      |||||||||••||||||||||||||| ||||||||||||||||||||| ||||||||||||||||||||||||  ||||||||||| ||||||||||||||||||||||||||||||||    |•|||||||||||||||||| |||||||||||||||||||||||||||||||||||| |||||||||||||••••••\n",
      "Ref:  CGCTGAAGCCATGAGAATTGGTTCCGAAGTTTACCACAACTTGAAGTCTTTGACCAAGAAGAGATACGGTGCTTCTGCCGGTAACG TCGGTGACGAAGGTGGTGTTGCTCCAAACATTCAAACCGCTGAAGAAGCTTTGGACTTGATTGTTGACGCCATCGTCGTGAGTAGTGAACCGTAAGCAAGAGAAGAGNNNNNN\n",
      "\n",
      "Read: GGTCAGCTCAGCTAATCGTCCGTGCTGTGCTGTGCTGTGCT\n",
      "      ••|||||||||||||||||||||||||||||||||||||||\n",
      "Ref:  NNTCAGCTCAGCTAATCGTCCGTGCTGTGCTGTGCTGTGCT\n",
      "\n",
      "read_id=8476b0bf-dd14-4f63-b19d-f14924773e40; assignment=60\n",
      "\n",
      "Read: AGATTGTGTTTGTTAGTCGCTGTGGATGGGTAAGGGTGTTATGAACGCTGTCAACAACGTCAACAACGTCATTGCTGCTGCTTTCGTCAAGGCCAACCAAGATGTTAAGGACCAAAAGG TGTCGATGACTTCTTGTTGTC TTGGATGGTACCGTCCAACAAGTCCAAGTTGGGTGCTAACGTTA   AAGGTGTCACC\n",
      "      ||||||||||||||||||||||||||||||||||||||||||||||||||||||||||||||||||||||||||||||||||||||||||||||||||•|||||||||||||||||||| •|||||||||||||||||||| ||||||||||||| |||||||||||||||||||||||||||•||   ••||||||•||\n",
      "Ref:  AGATTGTGTTTGTTAGTCGCTGTGGATGGGTAAGGGTGTTATGAACGCTGTCAACAACGTCAACAACGTCATTGCTGCTGCTTTCGTCAAGGCCAACCTAGATGTTAAGGACCAAAAGGCCGTCGATGACTTCTTGTTGTCTTTGGATGGTACCG CCAACAAGTCCAAGTTGGGTGCTAACGCTATCTTGGGTGTCTCC\n",
      "\n",
      "Read: ATGGCCG T  TAGAGCCGCTGCTGCTGAAAAGAACGTCCCATTGTAC   CATTTGGCTGACTTG  TAAGTCCAAGAC  CTCCATACG TTCGTCAGTTCCATTCTTGAACGTCTTTGAACGGTGGTTCCCACGTTGGTGGTGCTCTTGGCTCTGCAAGAA TCATGATTGCTTTCCAACTGGTGCTAAGACCTTCG\n",
      "      ||||||| |  |||||||||||||||||||||||||||||||||||||   |||||||||||||||  ||||||||||||  ||||||||| ||•|•||||||||||||||||||| ||||||||||||||||||||•|||||||||| ||||||•|||||||| ||||||||||  |||||||||||||||||||||||\n",
      "Ref:  ATGGCCGCTGCTAGAGCCGCTGCTGCTGAAAAGAACGTCCCATTGTACCAACATTTGGCTGACTTGTCTAAGTCCAAGACCTCTCCATACGTTTTGCCAGTTCCATTCTTGAACGT TTTGAACGGTGGTTCCCACGCTGGTGGTGCT TTGGCTTTGCAAGAATTCATGATTGC  TCCAACTGGTGCTAAGACCTTCG\n",
      "\n",
      "Read: CTGAAGCCATGAGAATTGGTTCCTCGAAGTTTACCACACTA TTGAAGTCTCTTTGACCAAGAAGAGATACGGTGCTTCTGCCGGTAACGTCGGTGACGAA   GGTGTTGCTCCAAAC     AATCGCTGAAGAAGCTTTGGACTTGATTGTTGACGCCATCGT ATAAGTAGTGAACCGTAAGCAAGAGAAGAGGGT\n",
      "      ||||||||||||||||||||||  ||||||||||||||  | ||||||  |||||||||||||||||||||||||||||||||||||||||||||||||||   |||||||||||||||     ||•||||||||||||||||||||||||||||||||||||||| •|•|||||||||||||||||||||||||||•••\n",
      "Ref:  CTGAAGCCATGAGAATTGGTTC  CGAAGTTTACCACA  ACTTGAAG  TCTTTGACCAAGAAGAGATACGGTGCTTCTGCCGGTAACGTCGGTGACGAAGGTGGTGTTGCTCCAAACATTCAAACCGCTGAAGAAGCTTTGGACTTGATTGTTGACGCCATCGTCGTGAGTAGTGAACCGTAAGCAAGAGAAGAGNNN\n",
      "\n",
      "Read: AAAATTCAGCTCAGCAAGAGGAGGGT CTGTGTTGGTGCTGTGCT\n",
      "      •••••||||||||||||||||||||| |||||•| ||||||||||\n",
      "Ref:  NNNNNTCAGCTCAGCAAGAGGAGGGTGCTGTGCT GTGCTGTGCT\n",
      "\n",
      "read_id=5bebd570-32dd-4ca9-8b9e-c909940b3ea4; assignment=60\n",
      "\n",
      "Read: CCCACGCTGGTGGTGCTTTGGCTTTGCAAAGAATTCATGATTGCTCCAACTGGTGCTAAGACAC  CGCTGAAGCCATGAGAATTGGTTCCGAAGTTTACCACAACTTGAAGTC TTGACCAAGAAGAGAT  GGTGCTTCTGCCAGAGGTAACGTCGGTGACGAAGGTGGTGTTGCTTCCAAAC   CAAACCGCTGAA\n",
      "      ||||||||||||||||||||||||||| |||||||||||||||||||||||||||||||||| |  |||||||||||||||||||||||||||||||||||||||||||||||| ||||||||||||||||  ||||||||||||   ||||||||||||||||||||||||||||| |||||||   ||||||||||||\n",
      "Ref:  CCCACGCTGGTGGTGCTTTGGCTTTGC AAGAATTCATGATTGCTCCAACTGGTGCTAAGAC CTTCGCTGAAGCCATGAGAATTGGTTCCGAAGTTTACCACAACTTGAAGTCTTTGACCAAGAAGAGATACGGTGCTTCTGCC   GGTAACGTCGGTGACGAAGGTGGTGTTGC TCCAAACATTCAAACCGCTGAA\n",
      "\n",
      "Read: GAAGCTTTGGACTTGATTGTTGACGCCATCGTCGTGAGTAGTGAACCGTAAGCA  AGAAGAGAACGTAAATCAGCTCAGCAAGAGGAGGGTGCTGTGCTGTGCTGTGCT\n",
      "      ||||||||||||||||||||||||||||||||||||||||||||||||||||||  |||||||••••••••|||||||||||||||||||||||||||||||||||||||\n",
      "Ref:  GAAGCTTTGGACTTGATTGTTGACGCCATCGTCGTGAGTAGTGAACCGTAAGCAAGAGAAGAGNNNNNNNNTCAGCTCAGCAAGAGGAGGGTGCTGTGCTGTGCTGTGCT\n",
      "\n",
      "read_id=cc69156d-38ba-4b4e-b0ac-8d8a2281b28e; assignment=10\n",
      "\n",
      "Read: AGATTGTGTTTG TAGTCGCTGTGGAT GGTAAGGGTGTTATGAACGTTGT  ACAACGTCAACAACGTCATTGCTGCTGCTTTCGTCAAGGCCATCCAAGATGTTAAGG TCAAAAGGCCGTCGATGACTTCTTGTTGTC TTGGATGGTACCGCCAACAAGTCCAAGTTGGGTGCTATACGC ATATTTGGTGTCTCC\n",
      "      |||||||||||| |||||||||||||| |||||||||||||||||||•|||  ||||||||||||||||||||||||||||||||||||||||||•||•||||||||||| •||||||||||||||||||||||||||||| ||||||||||||||||||||||||||||||||||||| |||| ||•||•|||||||||\n",
      "Ref:  AGATTGTGTTTGTTAGTCGCTGTGGATGGGTAAGGGTGTTATGAACGCTGTCAACAACGTCAACAACGTCATTGCTGCTGCTTTCGTCAAGGCCAACCTAGATGTTAAGGACCAAAAGGCCGTCGATGACTTCTTGTTGTCTTTGGATGGTACCGCCAACAAGTCCAAGTTGGGTGCTA ACGCTATCTTGGGTGTCTCC\n",
      "\n",
      "Read: ATGTATTGGCCGCTGCTAGAGCCGCTGCTGCTGAAAAAGAACGTCCC  TGTACCAACATTTGGCTGAC TGTCTAAGTCCAAGACCTTCTCCATACGTTTTGCCAGTTCCATTCTTGAACGTTTTGAACGGTGGTTCCCACGCTGGTGGTGCTTTGGCTTTTGCAAGAATTTATGATTGCTCCAACTGGTGCTAAGACC\n",
      "      |     ||||||||||||||||||||||||||| |||||||||||||  |||||||||||||||||||| ||||||||||||||||| ||||||||||||||||||||||||||||||||||||||||||||||||||||||||||||||||||||||| ||||||||||||•|||||||||||||||||||||||||||\n",
      "Ref:  A     TGGCCGCTGCTAGAGCCGCTGCTGCTG AAAAGAACGTCCCATTGTACCAACATTTGGCTGACTTGTCTAAGTCCAAGACC TCTCCATACGTTTTGCCAGTTCCATTCTTGAACGTTTTGAACGGTGGTTCCCACGCTGGTGGTGCTTTGGC TTTGCAAGAATTCATGATTGCTCCAACTGGTGCTAAGACC\n",
      "\n",
      "Read: TTCTGCTGAAGCTTTGAGAAATTGGTTCCTGAG  TACCACAACTTGAAGTCTTTGACATAAGAAGAGATACGGTGCTTCTGCCGGTAACGTCGGTGACGAAGGTGGTGTTGCTCCTTAAAC  TCAAACCGTTGAAGAAGCTTTGGACTTGATTG TGACGCCATCGTCGTGAGTAGTGAACCGTAAGCAAGAAGAGCG\n",
      "      ||| ||||||||••|||| ||||||||||••||  ||||||||||||||||||||||| •||||||||||||||||||||||||||||||||||||||||||||||||||||||||  ||||  ||||||||•||||||||||||||||||||||| |||||||||||||||||||||||||||||||||||||••||•|\n",
      "Ref:  TTC GCTGAAGCCATGAG AATTGGTTCCGAAGTTTACCACAACTTGAAGTCTTTGAC CAAGAAGAGATACGGTGCTTCTGCCGGTAACGTCGGTGACGAAGGTGGTGTTGCTCC  AAACATTCAAACCGCTGAAGAAGCTTTGGACTTGATTGTTGACGCCATCGTCGTGAGTAGTGAACCGTAAGCAAGAGAAGAG\n",
      "\n",
      "Read: ACTATCTCTCAGCTCAGCTAATCGTCCGTGCTTTGTGTTGTGCTGTGCT\n",
      "      ••••••••|||||||||||||||||||||||  ||||•|||||||||||\n",
      "Ref:  NNNNNNNNTCAGCTCAGCTAATCGTCCGTGC  TGTGCTGTGCTGTGCT\n",
      "\n",
      "read_id=d422e537-10b4-4dbb-8553-a8f0e86c4b56; assignment=10\n",
      "\n",
      "Read: TGTCTGTTAGTCGCTGTGGATGGGTAAGGGTGTTATGAACGCTGTCAACAACGTCAACAACGTCATTGCTGCTGCTTT GCCAAGGCCAACCTAGATGTTAAGGACCAAAAGGCCGTCGATGACTTCTTGTTGTCTTT GATGGT  CGCC ATTAGTCCAAGTT GGTGCTAACGCTATCTT GACATCTCCATGGCCG\n",
      "      |||•|||||||||||||||||||||||||||||||||||||||||||||||||||||||||||||||||||||||||| |•||||||||||||||||||||||||||||||||||||||||||||||||||||||||| ||||||  |||| |••|||||||||| ||||||||||||||||| |•••||||||||||||\n",
      "Ref:  TGTTTGTTAGTCGCTGTGGATGGGTAAGGGTGTTATGAACGCTGTCAACAACGTCAACAACGTCATTGCTGCTGCTTTCGTCAAGGCCAACCTAGATGTTAAGGACCAAAAGGCCGTCGATGACTTCTTGTTGTCTTTGGATGGTACCGCCAACAAGTCCAAGTTGGGTGCTAACGCTATCTTGGGTGTCTCCATGGCCG\n",
      "\n",
      "Read: CTGCTAGAGCCGCTGCTGCTGAAAAGAACGTCCCATTGT TCAACA TTGGCTGACTTGTTCTAAGTCCAAGACCTCACTCCATTCTGTCTTGCCAGTTCCATTCTTGAACGTTTTGAACGGTGGTTCCCACGCTGGTGGTGCTTTGGCTTTTGCAAGAA TCACTGATTGCTCCAACTGGTGCTAAGACCTTCGCTGAA\n",
      "      ||||||||||||||||||||||||||||||||||||||| •||||| |||||||||||| ||||||||||||||||  ||||||•| ||•||||||||||||||||||||||||||||||||||||||||||||||||||||||||||| |||||||||| ||| |||||||||||||||||||||||||||||||||||\n",
      "Ref:  CTGCTAGAGCCGCTGCTGCTGAAAAGAACGTCCCATTGTACCAACATTTGGCTGACTTG TCTAAGTCCAAGACCT  CTCCATAC GTTTTGCCAGTTCCATTCTTGAACGTTTTGAACGGTGGTTCCCACGCTGGTGGTGCTTTGGC TTTGCAAGAATTCA TGATTGCTCCAACTGGTGCTAAGACCTTCGCTGAA\n",
      "\n",
      "Read: GCCATGAGAATTGG TCCGAAGTCT CCACTA TTGAAGCTCTTTGACCAAGAAGAGATACGGTGCTT TATCGGTAACGTCGGTGACGAAGGTGGTGTTGCTCCAAACATTCAAACCGTTGAAGAAGCTTTGGACTTGA TATCGACGCCATCGT GTGAGT  TGAACCGTAAGCAAGAGAAGAGCCTTCAAACAT A\n",
      "      |||||||||||||| ||||||||•| ||||•| |||||| |||||||||||||||||||||||||||| |••|||||||||||||||||||||||||||||||||||||||||||||||•|||||||||||||||||||| |•|•||||||||||| ||||||  ||||||||||||||||||||||  ••••••••| |\n",
      "Ref:  GCCATGAGAATTGGTTCCGAAGTTTACCACAACTTGAAG TCTTTGACCAAGAAGAGATACGGTGCTTCTGCCGGTAACGTCGGTGACGAAGGTGGTGTTGCTCCAAACATTCAAACCGCTGAAGAAGCTTTGGACTTGATTGTTGACGCCATCGTCGTGAGTAGTGAACCGTAAGCAAGAGAAGAG  NNNNNNNNTCA\n",
      "\n",
      "Read: GCTCAGCTAATCGTCC  GCTGTGCTGTGCTGTGCT\n",
      "      ||||||||||||||||  ||||||||||||||||||\n",
      "Ref:  GCTCAGCTAATCGTCCGTGCTGTGCTGTGCTGTGCT\n",
      "\n",
      "read_id=620d5967-386d-4ad6-bf6b-45e07c79b8e5; assignment=60\n",
      "\n",
      "Read: AGATTGTGTTTGTCAGTCGCTGT GATGGGTAAGGGTGTTCTGCACGCTGTTC    ACGT   CAATGTCATTGCCCCAGCTTT GTTAAGGCTAACATTAGATATGTTAAGGACC AAAGGCCGGCGATGACTCTTTGTTGTCAT  GACGGTACTGCTAACAAATACCAAGTTGGGTGCTAACGCTATCTTGGGTGT\n",
      "      |||||||||||||•||||||||| ||||||||||||||||•||•|||||| ||    ||||   |||•||||||||••|•||||| ||•|||||•||| •|||  |||||||||||| ||||||||•||||||||••||||||||•|  ||•|||||•||•|||||•| |||||||||||||||||||||||||||||||\n",
      "Ref:  AGATTGTGTTTGTTAGTCGCTGTGGATGGGTAAGGGTGTTATGAACGCTG TCAACAACGTCAACAACGTCATTGCTGCTGCTTTCGTCAAGGCCAAC CTAG  ATGTTAAGGACCAAAAGGCCGTCGATGACTTCTTGTTGTCTTTGGATGGTACCGCCAACAAGT CCAAGTTGGGTGCTAACGCTATCTTGGGTGT\n",
      "\n",
      "Read: TTCTTTGGCTGCTTCCAGAGCTGCCGCTGCTGAAAAGAATGTCCCATTATACAAGCACA TTGGCTGACTTGTCTAAGTCCAAGACCT ACCAT  GCTTTGCCAGTTCCATTTCTTGAACGTTTTGAACCCCTGGTTCCC CATTGGTGGGTGCATTTGGCTTTGCAAGAA TCATGATTGCT    CTGGTGCT  G \n",
      "      •||••||||•|||•|•|||||•||•||||||||||||||•||||||||•|||•|  ||| |||||||||||||||||||||||||||| •||||  |•||||||||||||| ||||||||||||||||| |••|||||||| |••|||| ||||| |||||||||||||||| |||||||||||    ||||||||  | \n",
      "Ref:  CTCCATGGCCGCTGCTAGAGCCGCTGCTGCTGAAAAGAACGTCCCATTGTACCA  ACATTTGGCTGACTTGTCTAAGTCCAAGACCTCTCCATACGTTTTGCCAGTTCCA TTCTTGAACGTTTTGAA CGGTGGTTCCCACGCTGGT GGTGC TTTGGCTTTGCAAGAATTCATGATTGCTCCAACTGGTGCTAAGA\n",
      "\n",
      "Read:   TCCGCTGAAGCCATGAGAATTGGTTCCTCGAAGTTTCACCACAACTCTGAAGTC TTGACCAAGAAGAGATACAGTGCTTCTGCCGGTA  TTCGGTGACGAAGGTGGTGTTGCTCCAAACA TAAAACCGCTGAAGAAGCTTTGGACTTGATTGTTGACGCCAT GTTGTGAGTAGTGAACCGTAAGCAAGAG AGA\n",
      "        |•||||||||||||||||||||||||  |||||||| ||||||||| ||||||| ||||||||||||||||||•|||||||||||||||  •|||||||||||||||||||||||||||||| |•|||||||||||||||||||||||||||||||||||||||| ||•||||||||||||||||||||||||| |||\n",
      "Ref:  CCTTCGCTGAAGCCATGAGAATTGGTTC  CGAAGTTT ACCACAACT TGAAGTCTTTGACCAAGAAGAGATACGGTGCTTCTGCCGGTAACGTCGGTGACGAAGGTGGTGTTGCTCCAAACATTCAAACCGCTGAAGAAGCTTTGGACTTGATTGTTGACGCCATCGTCGTGAGTAGTGAACCGTAAGCAAGAGAAGA\n",
      "\n",
      "Read: GACTGTATA CAGCTCAGCAAGAGGAGGGTGCTGTGCTGTGCTGTGCT\n",
      "      |•••••••• ||||||||||||||||||||||||||||||||||||||\n",
      "Ref:  GNNNNNNNNTCAGCTCAGCAAGAGGAGGGTGCTGTGCTGTGCTGTGCT\n",
      "\n",
      "read_id=b450b3d7-84e0-4da1-9cff-f65e3085c19e; assignment=10\n",
      "\n",
      "Read: CAGATTGTGACTTGGTCGGT GCTGT GATGGGTAA GGTGTTATGAACGCTGT   CAACGTCAACAACGTCATTGCTGCTGCTGCTTTG CAAGGCCATCATCAAGATATGTTTAAGGACCAAAAGGCCAATGATGACTTCTTGTTGTCTT  GATGG ACCGCCATC TGTCCAAGTAAAGGTGCTAACGCTAT TT\n",
      "      |||||||||  ||•||••|| ||||| ||||||||| |||||||||||||||||   ||||||||||||||||||||||||||||  ||•| ||||||||  |•|•||  ||| |||||||||||||||||•••|||||||||||||||||||  ||||| |||||||•| •|||||||| ••|||||||||||||| ||\n",
      "Ref:  CAGATTGTG  TTTGTTAGTCGCTGTGGATGGGTAAGGGTGTTATGAACGCTGTCAACAACGTCAACAACGTCATTGCTGCTGCT  TTCGTCAAGGCCA  ACCTAG  ATG TTAAGGACCAAAAGGCCGTCGATGACTTCTTGTTGTCTTTGGATGGTACCGCCAACAAGTCCAAGT TGGGTGCTAACGCTATCTT\n",
      "\n",
      "Read: GGGTGTCT CTTGGCCGCTGCTAAGAGCC   GCTGCTGAAAAGAACG      TGT             TGACTTGTCTAAGTCCAAGAC  CAACATGC   TTGCCGGTTCCA TCTTGA   TCTTGAACGGTGGTT CCACGCTGGTGGTGCTCTTTCTTTGGCTTTGTCAAGAA TCATGACTGCTCCAACT G\n",
      "      |||||||| |•||||||||||| ||||||   ||||||||||||||||      |||             |||||||||||||||||||||  |••|||•|   |||||•|||||| ||||||   |•||||||||||||| ||||||||||||||      ||||||||||| |||||| ||||||•|||||||||| |\n",
      "Ref:  GGGTGTCTCCATGGCCGCTGCT AGAGCCGCTGCTGCTGAAAAGAACGTCCCATTGTACCAACATTTGGCTGACTTGTCTAAGTCCAAGACCTCTCCATACGTTTTGCCAGTTCCATTCTTGAACGTTTTGAACGGTGGTTCCCACGCTGGTGGTG      CTTTGGCTTTG CAAGAATTCATGATTGCTCCAACTGG\n",
      "\n",
      "Read: TGCTAAGACCTTCGCTGAAGCCGCCGAGAATTAGTTC   AG GTACCACAACACTGAAG  TTTGACCAAGAAGAGATACGGTGCT  TGCCGGTAACGTCGGTGACG AGGTGGTGTTGCTCCAAACATTCAAAC           CTTTGGACTTGATCGTTGACGCCATCGTCGTGAGTAGTGAACCGT  GCAAG\n",
      "      |||||||||||||||||||||| ••|||||||•||||   || •||||||||| •|||||  |||||||||||||||||||||||||  |||||||||||||||||||| |||||||||||||||||||||||||||           |||||||||||||•|||||||||||||||||||||||||||||||  |||||\n",
      "Ref:  TGCTAAGACCTTCGCTGAAGCC ATGAGAATTGGTTCCGAAGTTTACCACAAC TTGAAGTCTTTGACCAAGAAGAGATACGGTGCTTCTGCCGGTAACGTCGGTGACGAAGGTGGTGTTGCTCCAAACATTCAAACCGCTGAAGAAGCTTTGGACTTGATTGTTGACGCCATCGTCGTGAGTAGTGAACCGTAAGCAAG\n",
      "\n",
      "Read: AGAAGAGTGGGTGCCTCAGCTCTAGCTAATCGTCCGCGTTGTGCTGTGCTGTGCT\n",
      "      |||||||••••••••||||||| |||||||||||||•|•||||||||||||||||\n",
      "Ref:  AGAAGAGNNNNNNNNTCAGCTC AGCTAATCGTCCGTGCTGTGCTGTGCTGTGCT\n",
      "\n",
      "read_id=9ecc9697-cd76-42b4-aebb-54805b4bf50e; assignment=10\n",
      "\n",
      "Read: TTGTTGTCTCTGGACGGTACCGCCAACAAGTCCAAGTTGGGTGCTATCCGCTATTCT  GGTGTTTCTCTGGCTGCTTCCAGAGCTGCCGCTGCTG AAAGAATGTCCCATTATACAAGCACTTGGCTGACTTGTC AAGTCCAAGAC    CCATACGCTTTGCCAG TCCATTCTTGATACG TTTGAACGGTGGTTC\n",
      "      |||||||||•||||•||||||||||||||||||||||||||||||| •||||| |||  |||||•||••||||•|||•|•|||||•||•||||||| ||||||•||||||||•|||•|•||•|||||||||||||| |||||||||||    |||||||•|||||||| ||||||||||| ||| |||||||||||||||\n",
      "Ref:  TTGTTGTCTTTGGATGGTACCGCCAACAAGTCCAAGTTGGGTGCTA ACGCTA TCTTGGGTGTCTCCATGGCCGCTGCTAGAGCCGCTGCTGCTGAAAAGAACGTCCCATTGTACCAACATTTGGCTGACTTGTCTAAGTCCAAGACCTCTCCATACGTTTTGCCAGTTCCATTCTTGA ACGTTTTGAACGGTGGTTC\n",
      "\n",
      "Read: CCTCGCTGGTGAGTGCTTTGGCTTTGCAAAGAATTTATGATTGCTCCAACTGGTGCT  GACTCTCACGTTGAAGCTTTGAGAATTGGTTCCGAAGTCTACCACAACTTGAAGTCTTCTGACCAAAGAAGAGATACGGTGCTT    CGGTAACGCCGGTGACGAAGGTGGTGTTGCTCCAAACATTCAAACCGCTGCAG\n",
      "      ||•|||||||| ||||||||||||||| |||||||•|||||||||||||||||||||  ||| || •||•||||||••|||||||||||||||||||•||||||||||||||||||| ||||| |||||||||||||||||||    ||||||||•|||||||||||||||||||||||||||||||||||||||||•||\n",
      "Ref:  CCACGCTGGTG GTGCTTTGGCTTTGC AAGAATTCATGATTGCTCCAACTGGTGCTAAGAC CT TCGCTGAAGCCATGAGAATTGGTTCCGAAGTTTACCACAACTTGAAGTCTT TGACC AAGAAGAGATACGGTGCTTCTGCCGGTAACGTCGGTGACGAAGGTGGTGTTGCTCCAAACATTCAAACCGCTGAAG\n",
      "\n",
      "Read: AAGCTCTGGGACTATAAGACTGTTGACGCCATCGTCGCG G AGTGAACCGTAAGCAAGAGAAGAGATCGCCTATCAGCTCAGCTAATCGTCCGTGCTGTGCTGTGCTGTGCT\n",
      "      ||||| |•||||| |  ||•|||||||||||||||||•| | ||||||||||||||||||||||||••••••••|||||||||||||||||||||||||||||||||||||||\n",
      "Ref:  AAGCT TTGGACT T  GATTGTTGACGCCATCGTCGTGAGTAGTGAACCGTAAGCAAGAGAAGAGNNNNNNNNTCAGCTCAGCTAATCGTCCGTGCTGTGCTGTGCTGTGCT\n",
      "\n",
      "read_id=9792bb40-79d7-4f89-bb82-42f35ca97dba; assignment=15\n",
      "\n",
      "Read: CAGATTGTGTCTTGGTTAGTCGC GTGGATGGGTAAGGGTGTTATGAACGCTGTCAACAACGTCAACAACGTCATTGCTGCTGCTTTCGTCAAGGCCAACCAAGATGTTAAGGACCAAAAGGCCGTCGATGACTT TTGTTGTCTCTTGATCGAGACCGCCAACAAGTCCAAGTTGGGTGCTAACGCTATCTTGGG    \n",
      "      |||||||||| || ||||||||| |||||||||||||||||||||||||||||||||||||||||||||||||||||||||||||||||||||||||||||•||||||||||||||||||||||||||||||||| |||||||||•|•||| |••|||||||||||||||||||||||||||||||||||||||||    \n",
      "Ref:  CAGATTGTGT TT GTTAGTCGCTGTGGATGGGTAAGGGTGTTATGAACGCTGTCAACAACGTCAACAACGTCATTGCTGCTGCTTTCGTCAAGGCCAACCTAGATGTTAAGGACCAAAAGGCCGTCGATGACTTCTTGTTGTCTTTGGAT GGTACCGCCAACAAGTCCAAGTTGGGTGCTAACGCTATCTTGGGTGTC\n",
      "\n",
      "Read: TCCATGGCCGCTGCTAGAGCCGCTGCTGCTGAAAAGAACGTCCCATCTGTACCAACATTTGGCTGACTTGTCTAAGTCCAAGACCTCTCCATACGTTTTGCCAGTTCCATTTCTTGAACTGAACGTTTGAACGGTGGTTCCCACGTTGGTGGTGCTTTGGCTTTGCAAGAATTCATGATTGCTCCAACTGGTGCTAAGAC\n",
      "      |||||||||||||||||||||||||||||||||||||||||||||| |||||||||||||||||||||||||||||||||||||||||||||||||||||||||||||| ||||||||| |   •||||||||||||||||||||•||||||||||||||||||||||||||||||||||||||||||||||||||||||\n",
      "Ref:  TCCATGGCCGCTGCTAGAGCCGCTGCTGCTGAAAAGAACGTCCCAT TGTACCAACATTTGGCTGACTTGTCTAAGTCCAAGACCTCTCCATACGTTTTGCCAGTTCCA TTCTTGAAC G   TTTTGAACGGTGGTTCCCACGCTGGTGGTGCTTTGGCTTTGCAAGAATTCATGATTGCTCCAACTGGTGCTAAGAC\n",
      "\n",
      "Read: CTTCG TG AGCCATGAGAATTGGTT CGAAGTTT  CACAACTTGAAGTCTCTTTGACCAAGAAGAGATACGGTGCTTCTGCCAGTAATGCTAGTGAC AAGGTGGTGTTGCTCCAAACATTC AATCGTTGAAGGAGCTTTGGACTTGATTGTTGACGCCATCGTCGTGAGT GTGAACC  AAGCAAGAGAAGAG A\n",
      "      ||||| || ||||||||||||||||| ||||||||  ||||||||||||  |||||||||||||||||||||||||||||||||•||||•|•••||||| |||||||||||||||||||||||| ||•||•|||||•||||||||||||||||||||||||||||||||||||| |||||||  |||||||||||||| •\n",
      "Ref:  CTTCGCTGAAGCCATGAGAATTGGTTCCGAAGTTTACCACAACTTGAAG  TCTTTGACCAAGAAGAGATACGGTGCTTCTGCCGGTAACGTCGGTGACGAAGGTGGTGTTGCTCCAAACATTCAAACCGCTGAAGAAGCTTTGGACTTGATTGTTGACGCCATCGTCGTGAGTAGTGAACCGTAAGCAAGAGAAGAGNN\n",
      "\n",
      "Read: ATGCCCTCAGCTCAGCCCCTTCTAGGGTGCTGTGCTGTGCTG\n",
      "      ••••••||||||||| ||||||||||||||||||||||||||\n",
      "Ref:  NNNNNNTCAGCTCAG CCCTTCTAGGGTGCTGTGCTGTGCTG\n",
      "\n",
      "read_id=a075e097-f9f4-4c32-b67f-7c9a047e4ada; assignment=10\n",
      "\n",
      "Read: AGTCCAAGACCTCTCCATACGTTTTGCCAGTTCCATTCTTGAACGTTTTGAACGGTGGTTCCCACGCTGGTGGTGCTTTGGCTTTGCAAGAATCTC  GATTGTTCCAACTGGTGCTAAGACCTTCCGCTGAAGCCATGAAGAATTGGTTCCGAAGTTTACCACAACTTGAAGTCTTTGTTTCCAAGAAGAGATACGGTG\n",
      "      ||||||||||||||||||||||||||||||||||||||||||||||||||||||||||||||||||||||||||||||||||||||||||||| ||  |||||•||||||||||||||||||||| ||||||||||||| |||||||||||||||||||||||||||||||||||||||  •||||||||||||||||||\n",
      "Ref:  AGTCCAAGACCTCTCCATACGTTTTGCCAGTTCCATTCTTGAACGTTTTGAACGGTGGTTCCCACGCTGGTGGTGCTTTGGCTTTGCAAGAAT TCATGATTGCTCCAACTGGTGCTAAGACCTT CGCTGAAGCCATG AGAATTGGTTCCGAAGTTTACCACAACTTGAAGTCTTTG  ACCAAGAAGAGATACGGTG\n",
      "\n",
      "Read: C TCTGCCGGTAACGTCGGTGAC AAGGTGGTGTTGCTCCAAACATTCAAACATTCGTTGAAGAAGCTTTGGACTTGATTGTTGACGCCATCGTCGTAAAGTAGGTGATCCGTAAGCAAGAGAAGAGAGGCGCGCTCTCAGCTCAGCTAATCGTCC  GCTGTGCTGTGCTGTGCT\n",
      "      | ||||||||||||||||||||| ||||||||||||||||||||||||||||   ||•||||||||||||||||||||||||||||||||||||||| •|||| ||||•||||||||||||||  ||||••••••••|||||||||||||||||||  ||||||||||||||||||\n",
      "Ref:  CTTCTGCCGGTAACGTCGGTGACGAAGGTGGTGTTGCTCCAAACATTCAAAC   CGCTGAAGAAGCTTTGGACTTGATTGTTGACGCCATCGTCGT GAGTA GTGAACCGTAAGCAAGAGA  AGAGNNNNNNNNTCAGCTCAGCTAATCGTCCGTGCTGTGCTGTGCTGTGCT\n",
      "\n",
      "read_id=7584d886-0549-4cbc-adab-5180baac85d0; assignment=10\n",
      "\n",
      "Read: ATCAGATTGTGTTTGTTAGTCGCTGTGGATGGGTAAGGGTGTTATGAACGC  TCAACAACGT  ACAACGTCATTGCTGCTGCTTTCGTC AGGCCAACCTAGATGTTAAGGACCTAAAGGCCGTCGATGACTTCTTGTTG C TTGGATGGTACCGCC ATAAGTCC AGTTGGGTGCTAACGCTATCTCTTGGGTGT\n",
      "      |||||||||||||||||||||||||||||||||||||||||||||||||||  ||||||||||  |||||||||||||||||||||||||| ||||||||||||||||||||||||•||||||||||||||||||||||||| | ||||||||||||||| |•|||||| ||||||||||||||||||  ||||||||||\n",
      "Ref:  ATCAGATTGTGTTTGTTAGTCGCTGTGGATGGGTAAGGGTGTTATGAACGCTGTCAACAACGTCAACAACGTCATTGCTGCTGCTTTCGTCAAGGCCAACCTAGATGTTAAGGACCAAAAGGCCGTCGATGACTTCTTGTTGTCTTTGGATGGTACCGCCAACAAGTCCAAGTTGGGTGCTAACGCTA  TCTTGGGTGT\n",
      "\n",
      "Read: CTCCATGGCCGCTGCTAGAGCCATTGCTGCTGAAAAGAACGTCCCATTGTACCAACTACTTGGCTGACTTGTC  GGTCCAAGACCTTTCCATACGTTTTGCCAGTTCCAT  TTGAACG TTTGAA                       CTATTGGCTTTGCAAGAATTTATCGTTGCTCCAACTGGTGCTAAG   TT\n",
      "      ||||||||||||||||||||||••|||||||||||||||||||||||||||||||| |•||||||||||||||  •|||||||||||•|||||||||||||||||||||||  ||||||| ||||||                       || |||||||||||||||||•||••||||||||||||||||||||   ||\n",
      "Ref:  CTCCATGGCCGCTGCTAGAGCCGCTGCTGCTGAAAAGAACGTCCCATTGTACCAAC ATTTGGCTGACTTGTCTAAGTCCAAGACCTCTCCATACGTTTTGCCAGTTCCATTCTTGAACGTTTTGAACGGTGGTTCCCACGCTGGTGGTGCT TTGGCTTTGCAAGAATTCATGATTGCTCCAACTGGTGCTAAGACCTT\n",
      "\n",
      "Read: CCGCTGAAGCTTTGAGAAACTTGG TCC AAGTTTACCACAAC ACAAG  TTTGACCAAGAAGAGATACGGTGC TCTGCCGGTAACGTCGGTGATGA    GGTGTTGCTCCAAACATTCAAACTGCTGAAGAAGCTTTGGAC TGACTG TGACGCCATTCGT GAGAGTAGTGAACCGTAAGCAAGAGAAGA  TG\n",
      "       |||||||||••||||||  |||| ||| |||||||||||||| ••|||  |||||||||||||||||||||||| ||||||||||||||||||||•||    |||||||||||||||||||||||•|||||||||||||||||| |||•|| |||||||| |||| |•|||||||||||||||||||||||||||  ••\n",
      "Ref:   CGCTGAAGCCATGAGAA  TTGGTTCCGAAGTTTACCACAACTTGAAGTCTTTGACCAAGAAGAGATACGGTGCTTCTGCCGGTAACGTCGGTGACGAAGGTGGTGTTGCTCCAAACATTCAAACCGCTGAAGAAGCTTTGGACTTGATTGTTGACGCCA TCGTCGTGAGTAGTGAACCGTAAGCAAGAGAAGAGNNN\n",
      "\n",
      "Read: TTGCATCAGCTCAGCTAATCGTCCGTTGCATTGTGCTGTGCTGTGCT\n",
      "      •••••|||||||||||||||||||| |||  ||||||||||||||||\n",
      "Ref:  NNNNNTCAGCTCAGCTAATCGTCCG TGC  TGTGCTGTGCTGTGCT\n",
      "\n",
      "read_id=34c45c6e-8025-4e36-b285-2f387372308a; assignment=10\n",
      "\n",
      "Read: GCTGTGGATGGGTAAGGGTGTTATGAACGCTGCTCAACAACGTCAACAACGTCATTGCTATTGCTTT GCCAAGGCCAACCAAGATGGTTAAGGACCAAAAGGCCGTCGACGACTTTCTTGTTGTCTTTGGATGGTACCGCCAACAAGTACCAAGTT GGTGCTAACGCTATTCTTAAAGGTGTCTCCATGGCCGCTGCT\n",
      "      |||||||||||||||||||||||||||||||| ||||||||||||||||||||||||||••|||||| |•|||||||||||•|||| |||||||||||||||||||||||•||| |||||||||||||||||||||||||||||||||| ||||||| ||||||||||||| ||||  •|||||||||||||||||||||\n",
      "Ref:  GCTGTGGATGGGTAAGGGTGTTATGAACGCTG TCAACAACGTCAACAACGTCATTGCTGCTGCTTTCGTCAAGGCCAACCTAGAT GTTAAGGACCAAAAGGCCGTCGATGAC TTCTTGTTGTCTTTGGATGGTACCGCCAACAAGT CCAAGTTGGGTGCTAACGCTA TCTT  GGGTGTCTCCATGGCCGCTGCT\n",
      "\n",
      "Read: AGAGCCGCTGCTGCTGAAAAGAACGTCCCATTGTACC ATATCTTGGCTGACTTGTCTAAGTCCAAGACCTCTCCATACGTCTTGCCAGTTCCATTCTTGATA   TCTGAACGGTGGTTCCCTACGCTGGTGGTGCTTTGGCTCTGCAAGAA TCATGATTGCTCCAACTGGTGCTAAGACCTTCGCTGTCGC    AG\n",
      "      ||||||||||||||||||||||||||||||||||||| |•|| ||||||||||||||||||||||||||||||||||||||•||||||||||||||||||| |   |•||||||||||||||| ||||||||||||||||||||•|||||||| ||||||||||||||||||||||||||||||||||||••||    ||\n",
      "Ref:  AGAGCCGCTGCTGCTGAAAAGAACGTCCCATTGTACCAACAT TTGGCTGACTTGTCTAAGTCCAAGACCTCTCCATACGTTTTGCCAGTTCCATTCTTGA ACGTTTTGAACGGTGGTTCCC ACGCTGGTGGTGCTTTGGCTTTGCAAGAATTCATGATTGCTCCAACTGGTGCTAAGACCTTCGCTGAAGCCATGAG\n",
      "\n",
      "Read: AATTGGTTCCG AGTCTTCTACCTACTTGAAGTCTTTGACCAAGAAGAGATACAGTGCACTTGCCGGTAACGGCAGTGACGAAGGTGGTGTTGCTCCAAACAT    ATCGCTGAAGAAAGC TTGGACTTGATTGTTGACGCCATCGTC TG   AGTG ATCGTAAGCAAGAAGAAGAAATTCAACCTCAGCTCAGCT\n",
      "      ||||||||||| |||•|•|•| |•|||||||||||||||||||||||||||||•||||•••|||||||||||•|•||||||||||||||||||||||||||||    |•|||||||| |||| ||||||||||||||||||||||||||| ||   |||| |•|||||||||| ||||||•••••••••|||||||||||\n",
      "Ref:  AATTGGTTCCGAAGTTTACCA CAACTTGAAGTCTTTGACCAAGAAGAGATACGGTGCTTCTGCCGGTAACGTCGGTGACGAAGGTGGTGTTGCTCCAAACATTCAAACCGCTGAAG AAGCTTTGGACTTGATTGTTGACGCCATCGTCGTGAGTAGTGAACCGTAAGCAAG AGAAGAGNNNNNNNNTCAGCTCAGCT\n",
      "\n",
      "Read: AATCGTCCGTGCTGTGCTGTGCTGTGCT\n",
      "      ||||||||||||||||||||||||||||\n",
      "Ref:  AATCGTCCGTGCTGTGCTGTGCTGTGCT\n",
      "\n",
      "read_id=942fe848-51c9-4c0c-a2f7-fa85963536dc; assignment=10\n",
      "\n",
      "Read: AGATTGTGTTTGGT GTCGCAT   GATGGGTAA GGTGTTATGAACGCTGCTCAACAACGTCAACAACGTCATTGCTGCTGC  TCGTCAAGGCCATTCCTAGATGTTAAGGACCAAAAGGCCGTCGATGACTTCTTGTTGTC TTGGATGGTACCGCCATCTGGTCCCCAAGTTGGGTGCTAACGTTATCTTGGGTGC\n",
      "      ||||||||||||•| ||||| |   ||||||||| |||||||||||||||| |||||||||||||||||||||||||||||||  |||||||||||| •||||||||||||||||||||||||||||||||||||||||||||| ||||||||||||||||•|••||  ||||||||||||||||||•||||||||||| \n",
      "Ref:  AGATTGTGTTTGTTAGTCGC TGTGGATGGGTAAGGGTGTTATGAACGCTG TCAACAACGTCAACAACGTCATTGCTGCTGCTTTCGTCAAGGCCA ACCTAGATGTTAAGGACCAAAAGGCCGTCGATGACTTCTTGTTGTCTTTGGATGGTACCGCCAACAAGT  CCAAGTTGGGTGCTAACGCTATCTTGGGTG \n",
      "\n",
      "Read: TTTCTCCATGGCCAATTGCTAGAGCCGCTGCTGCTGAAAAGAACGTCCCATTGT  C  CATTTGGCTGACTTGTCTAAGTCCAAGACCTCTCCATACG TTTGCCAGTTCCATTCTTGAACGTTTGGAACGGTGGTTCCCACGCTGGTGGTGCTTTGGCTCTTGCAAGAATTCATGATTGCTCCAACTGGTGCTAAGAC\n",
      "        ||||||||||| ••||||||||||||||||||||||||||||||||||||||  |  |||||||||||||||||||||||||||||||||||||||| ||||||||||||||||||||||||||•|||||||||||||||||||||||||||||||||| ||||||||||||||||||||||||||||||||||||||\n",
      "Ref:    TCTCCATGGCC GCTGCTAGAGCCGCTGCTGCTGAAAAGAACGTCCCATTGTACCAACATTTGGCTGACTTGTCTAAGTCCAAGACCTCTCCATACGTTTTGCCAGTTCCATTCTTGAACGTTTTGAACGGTGGTTCCCACGCTGGTGGTGCTTTGGCT TTGCAAGAATTCATGATTGCTCCAACTGGTGCTAAGAC\n",
      "\n",
      "Read: CTTC TTGAAGCCATGAGAATTGGTTCCGAAGTTCTACCACATC TGAAGTCTTTGACCAAGAAGAGATACGGTGC TCTGCCGGTAACGTCGGTGACGAAGGTGGTGTTGCTCCAAACCA  CAAACTGCTGAAGAAGCTTTGGACTTTGA   TTGACGCCATCGTCGTGAGTAGTGAACCGTAAGCA  AGAAGAGC\n",
      "      |||| •|||||||||||||||||||||||||||| |||||||•| ||||||||||||||||||||||||||||||| ||||||||||||||||||||||||||||||||||||||||| ||  |||||•|||||||||||||||||| ||||   |||||||||||||||||||||||||||||||||||  |||||||•\n",
      "Ref:  CTTCGCTGAAGCCATGAGAATTGGTTCCGAAGTT TACCACAACTTGAAGTCTTTGACCAAGAAGAGATACGGTGCTTCTGCCGGTAACGTCGGTGACGAAGGTGGTGTTGCTCCAAA CATTCAAACCGCTGAAGAAGCTTTGGAC TTGATTGTTGACGCCATCGTCGTGAGTAGTGAACCGTAAGCAAGAGAAGAGN\n",
      "\n",
      "Read: CAAAAACTTAGCTCAGCTAATCGTCCGTGCTGTGTTGTGCTGTGCT\n",
      "      •••••••|•|||||||||||||||||||||||||•|||||||||||\n",
      "Ref:  NNNNNNNTCAGCTCAGCTAATCGTCCGTGCTGTGCTGTGCTGTGCT\n",
      "\n",
      "read_id=bd503117-cda3-498d-90fc-e30d70a4924f; assignment=60\n",
      "\n",
      "Read: AGATTGTGTTTGTTGCTCGCTGTGGAT GGTAA GGTGTTATGAACGTTGTCAACAACGTCAACAACGTCTTTTGTTGCTGCTTTCGTCAAGGCCAACCAAGAGATGCTAAGGACCAAAAGGCCGT GACGA   CTTGTTGTTTTTGGACGGTACTGCCAACAAATCCAAGTTGAGTGCTAACGCTATCTT GTTGT T\n",
      "      ||||||||||||||••||||||||||| ||||| |||||||||||||•|||||||||||||||||||||| •|||•|||||||||||||||||||||||  •|||||•|||||||||||||||||| ||•||   ||||||||•||||||•|||||•||||||||•|||||||||•|||||||||||||||| |•||| |\n",
      "Ref:  AGATTGTGTTTGTTAGTCGCTGTGGATGGGTAAGGGTGTTATGAACGCTGTCAACAACGTCAACAACGTC ATTGCTGCTGCTTTCGTCAAGGCCAACC  TAGATGTTAAGGACCAAAAGGCCGTCGATGACTTCTTGTTGTCTTTGGATGGTACCGCCAACAAGTCCAAGTTGGGTGCTAACGCTATCTTGGGTGTCT\n",
      "\n",
      "Read: CTTTGAGCTGCTTCCAGAGCTGCCGCTGCTGAAAAGAATGTCCCA    ACACAAGCATT    TGACTTGTCTAAGTCCAAGACCTCTCCATACGTTTTGCCAGTTCCATTCTTGAACG TTTGAACGGTGGTTCCCACGCTGGTGGTGC TTGGCTCTGCAAGAATTCATGATTG  CCAACTGGTGCTAAGACAC  \n",
      "      |••|| ||•|||•|•|||||•||•||||||||||||||•||||||    || ||| ||||    |||||||||||||||||||||||||||||||||||||||||||||||||||||||| |||||||||||||||||||||||||||||| ||||||•||||||||||||||||||  ||||||||||||||||| |  \n",
      "Ref:  CCATG GCCGCTGCTAGAGCCGCTGCTGCTGAAAAGAACGTCCCATTGTAC CAA CATTTGGCTGACTTGTCTAAGTCCAAGACCTCTCCATACGTTTTGCCAGTTCCATTCTTGAACGTTTTGAACGGTGGTTCCCACGCTGGTGGTGCTTTGGCTTTGCAAGAATTCATGATTGCTCCAACTGGTGCTAAGAC CTT\n",
      "\n",
      "Read: CGCTGAAGCCA CAGAATTGGTTCCGAAGTCTACCACAACTTGAAGTC TTGACCAAGAAGAGATACGGTGCTCATACCTGATCA GTTAGTGACGAAGGTGGTGTTGCTCCAATTACA CCAAACCATTGAAGAAGCTTTGGACTTGATTGTTGACGCCAT GT  TGAGTAGTG ATCGTAAGCAAGAGAAGAGCCGG\n",
      "      ||||||||||| •|||||||||||||||||•||||||||||||||||| ||||||||||||||||||||||||••|•|| |•|•| ||••||||||||||||||||||||||||  ||| •||||||••||||||||||||||||||||||||||||||||| ||  ||||||||| |•|||||||||||||||||••••\n",
      "Ref:  CGCTGAAGCCATGAGAATTGGTTCCGAAGTTTACCACAACTTGAAGTCTTTGACCAAGAAGAGATACGGTGCTTCTGCC GGTAACGTCGGTGACGAAGGTGGTGTTGCTCCAA  ACATTCAAACCGCTGAAGAAGCTTTGGACTTGATTGTTGACGCCATCGTCGTGAGTAGTGAACCGTAAGCAAGAGAAGAGNNNN\n",
      "\n",
      "Read: C    CAG TCAGCAAGAGGAGGGTGCTGTGCTGTG\n",
      "      •    ||| |||||||||||||||||||||||||||\n",
      "Ref:  NNNNTCAGCTCAGCAAGAGGAGGGTGCTGTGCTGTG\n",
      "\n",
      "read_id=01cbca0c-61cd-45bc-9f3f-5c54edf72503; assignment=10\n",
      "\n",
      "Read: AGATTGTGTCTTGTTAGTCGCTG GGATGGGTAA GGTGTTATGAACGCTGT   CAACGTCAACAACGTCGCTGCTGCTGCTTTCGTCAAGGCCCAACCAAGATGTT TGGACCAAAAGGCCGTCGATGACTTCTTGTTGTC TTGGATGGTACCGC   CAAGTCCAAGGTGGGGTGCTAACGCTATC TGGGTGTCT\n",
      "      ||||||||| ||||||||||||| |||||||||| |||||||||||||||||   ||||||||||||||||••|||||||||||||||||||| ||||||•||||||| •||||||||||||||||||||||||||||||||| ||||||||||||||   ||||||||| ||•|||||||||||||||| |||||||||\n",
      "Ref:  AGATTGTGT TTGTTAGTCGCTGTGGATGGGTAAGGGTGTTATGAACGCTGTCAACAACGTCAACAACGTCATTGCTGCTGCTTTCGTCAAGG CCAACCTAGATGTTAAGGACCAAAAGGCCGTCGATGACTTCTTGTTGTCTTTGGATGGTACCGCCAACAAGTCCAA GTTGGGTGCTAACGCTATCTTGGGTGTCT\n",
      "\n",
      "Read: CCATGGCCGCTGCTAGAGCC      GCTGAAAAGAACGTCCCATTG ACCAACA CTGGCTGACTTGTCTAAGTCCAAGAC  CTCCATACGTTTTGCCAGTTCCATTCTTGAACGTCTTTGAACGGTGGTT CCAC   AATGGTGCTTTGGCTTTGCAAGAATTTAATGATTGCTCC ATTGGTGCTAAGACCTT  \n",
      "      ||||||||||||||||||||      ||||||||||||||||||||| ||||||| •|||||||||||||||||||||||||  |||||||||||||||||||||||||||||||||| |||||||||||||| ||||   ••|||||||||||||||||||||| ||•||||||||||| |•|||||||||||||||  \n",
      "Ref:  CCATGGCCGCTGCTAGAGCCGCTGCTGCTGAAAAGAACGTCCCATTGTACCAACATTTGGCTGACTTGTCTAAGTCCAAGACCTCTCCATACGTTTTGCCAGTTCCATTCTTGAACGT TTTGAACGGTGGTTCCCACGCTGGTGGTGCTTTGGCTTTGCAAGAA TTCATGATTGCTCCAACTGGTGCTAAGACCTTCG\n",
      "\n",
      "Read: CTGAAGCTCTGAGAATTGGCTCCG  GTCTACCACAACTTGAAGTCTTTGACCAAGAAGAGATACGGTGCT  TGCCGG AACGTCGGTGACGAAGGTGGTGTTGCT CAAAC TTCAAACTGCTGAAGAAGCTTTGGACTTGATTGTTGACGCCAT GTTGTGAGTGGGTGAACATCGTAAGCA  AGAAGAGCCTGAT\n",
      "      |||||||••||||||||||•||||  ||•||||||||||||||||||||||||||||||||||||||||||  |||||| ||||||||||||||||||||||||||| ||||| |||||||•||||||||||||||||||||||||||||||||||| ||•|||||| •||||||  ||||||||  |||||||••••••\n",
      "Ref:  CTGAAGCCATGAGAATTGGTTCCGAAGTTTACCACAACTTGAAGTCTTTGACCAAGAAGAGATACGGTGCTTCTGCCGGTAACGTCGGTGACGAAGGTGGTGTTGCTCCAAACATTCAAACCGCTGAAGAAGCTTTGGACTTGATTGTTGACGCCATCGTCGTGAGT AGTGAAC  CGTAAGCAAGAGAAGAGNNNNNN\n",
      "\n",
      "Read: CT  AGCTCAGCTAATCGTCCGTTGCTGTGTTACTTGTGCTGTGCT\n",
      "      ••  |||||||||||||||||| |||||||   | |||||||||||\n",
      "Ref:  NNTCAGCTCAGCTAATCGTCCG TGCTGTG   C TGTGCTGTGCT\n",
      "\n",
      "read_id=046c0b29-d21b-464f-8c13-969d52ef29f4; assignment=15\n",
      "\n",
      "Read: AGATTGTGTTTGTTAGTCGCTGTGGATGGGTAAGGGTGTTCATGAACGCTGTCAACAACGTC ATAACGTCATTGTTGCTGTTTTCGTCAAAGGCCAACCAAAGATGTTAAGGACCAAAAGGCCGTCGATGA   CTTGTTGTCTTGATATGGTACCGCCAACAAGTCCAAGTTGGGTGCATAACGCTATTCTGGGTGTC\n",
      "      |||||||||||||||||||||||||||||||||||||||| ||||||||||||||||||||| |•||||||||||•|||||•||||||| |||||||||| •||||||||||||||||||||||||||||||   |||||||||||•••||||||||||||||||||||||||||||||| |||||||||••||||||||\n",
      "Ref:  AGATTGTGTTTGTTAGTCGCTGTGGATGGGTAAGGGTGTT ATGAACGCTGTCAACAACGTCAACAACGTCATTGCTGCTGCTTTCGTC AAGGCCAACC TAGATGTTAAGGACCAAAAGGCCGTCGATGACTTCTTGTTGTCTTTGGATGGTACCGCCAACAAGTCCAAGTTGGGTGC TAACGCTATCTTGGGTGTC\n",
      "\n",
      "Read: TCCATGGCCGCTGCTAGAGCCGCTACTGCTGCTGAAAAGTACGTCCCATCATTGTACCAACA TTGGCTGATTTGTCTAAGTCCAAGACCTCTCCATATGTTTTGCCAGTTCCATTCTTGAACGTTTTTGAACGGTGGTTCCCACGCTGGTGGTGCTTTGGCTCTTTGCAAGAA TCATGATTGCTCCATTAACTGGTGC\n",
      "      ||||||||||||||||||||||   ||||||||||||||•||||||   ||||||||||||| ||||||||•||||||||||||||||||||||||||•||||||||||||||||||||||||| ||||||||||||||||||||||||||||||||||||  ||||||||||| |||||||||||||   |||||||||\n",
      "Ref:  TCCATGGCCGCTGCTAGAGCCG   CTGCTGCTGAAAAGAACGTCC   CATTGTACCAACATTTGGCTGACTTGTCTAAGTCCAAGACCTCTCCATACGTTTTGCCAGTTCCATTCTTGAACG TTTTGAACGGTGGTTCCCACGCTGGTGGTGCTTTGG  CTTTGCAAGAATTCATGATTGCTCC   AACTGGTGC\n",
      "\n",
      "Read: TAAGACCTCTCGCTG AGCTTTGAGAATTGGTTCCTG  GTCTTACCACAACTTGAAGTCTCTGACCAAGAAGAGATACAGTGCT  TGCCGGTAACGTTCGGTGATGAAGGTGGTGTTGCTCCAAACATTC AACTGCTGTAGAAGCTTCTTGGAC TGATTGTTGACGCCATCGT  TGAGTAGTGAACCGTAAGC A\n",
      "      |||||||| |||||| |||••|||||||||||||| |  || |||||||||||||||||||•|||||||||||||||||•|||||  ||||||||||| |||||||•||||||||||||||||||||||||| |||•||||•|||||||  |||||| |||||||||||||||||||  ||||||||||||||||||| |\n",
      "Ref:  TAAGACCT TCGCTGAAGCCATGAGAATTGGTTCC GAAGT TTACCACAACTTGAAGTCTTTGACCAAGAAGAGATACGGTGCTTCTGCCGGTAACG TCGGTGACGAAGGTGGTGTTGCTCCAAACATTCAAACCGCTGAAGAAGCT  TTGGACTTGATTGTTGACGCCATCGTCGTGAGTAGTGAACCGTAAGCAA\n",
      "\n",
      "Read: GAGAAGAGCGCTTATATCGGTCT AGCCCTTCTAGGG   TGTGCTGTGCTGTG\n",
      "      ||||||||••••••••||•| || |||||||||||||   ||||||||||||||\n",
      "Ref:  GAGAAGAGNNNNNNNNTCAG CTCAGCCCTTCTAGGGTGCTGTGCTGTGCTGTG\n",
      "\n",
      "read_id=e4d61100-3f32-4b9a-af33-86e42fc754d7; assignment=60\n",
      "\n",
      "Read: AGATTGTGTTTGTT GT GCTGTGGAT GGTAAGGGTGTTATGAACGTTGTCAACAACGTCAACAACGTCATTGCTGCTGCTTTCGTCAAGGCTAACATTGATGTTAAGGACCAAAAGGCCGTCGATGACTTCTTGTTGTC TTGGATGGTACCGCCAACAAGTCCAAGTTGGGTGCTAACGTTATCTCAAGGTGTCTCC\n",
      "      |||||||||||||| || ||||||||| |||||||||||||||||||•|||||||||||||||||||||||||||||||||||||||||||||•|||•|•||||||||||||||||||||||||||||||||||||||||| ||||||||||||||||||||||||||||||||||||||||•||||| ••|||||||||\n",
      "Ref:  AGATTGTGTTTGTTAGTCGCTGTGGATGGGTAAGGGTGTTATGAACGCTGTCAACAACGTCAACAACGTCATTGCTGCTGCTTTCGTCAAGGCCAACCTAGATGTTAAGGACCAAAAGGCCGTCGATGACTTCTTGTTGTCTTTGGATGGTACCGCCAACAAGTCCAAGTTGGGTGCTAACGCTATCT TGGGTGTCTCC\n",
      "\n",
      "Read: ATGGCC   GCTAGAGCCGCTGCTGCTGAAAAGAACGTCCCATTGTACCAACATTTGGCTGACTTGTCTAAGTCCAAGACCT TCCATACG TTTGCCAGTTCCATTCTTGAACGTTTTGAACGGTGGTTCCCACGCTGGTGGTGCTTTGGCTTTGCAAGAAATTTATGATTGCTCCAACTGGTGCTAAGACCT   CTG\n",
      "      ||||||   ||||||||||||||||||||||||||||||||||||||||||||||||||||||||||||||||||||||||| |||||||| |||||||||||||||||||||||||||||||||||||||||||||||||||||||||||||||||||| ||||•||||||||||||||||||||||||||||   |||\n",
      "Ref:  ATGGCCGCTGCTAGAGCCGCTGCTGCTGAAAAGAACGTCCCATTGTACCAACATTTGGCTGACTTGTCTAAGTCCAAGACCTCTCCATACGTTTTGCCAGTTCCATTCTTGAACGTTTTGAACGGTGGTTCCCACGCTGGTGGTGCTTTGGCTTTGCAAG AATTCATGATTGCTCCAACTGGTGCTAAGACCTTCGCTG\n",
      "\n",
      "Read: AAGCTTTGAGAATTGGTTCCGAAGTCTACCACAACTTGAAGTCTTCTGACCAAGAAGAGATACGGTGCTT TGTCAGTAACGTCGGTGACG AGGTGGTGTTGCTCCAAACATTCAAACTGCTGAAGAAGCTTT GACTTGATTGTTGATGCCAT  TCGCTGAACAGTGAACCGTAAGCAAAGAGAAGAGCGATTGGT \n",
      "      ||||••|||||||||||||||||||•||||||||||||||||||| |||||||||||||||||||||||| ||•|•||||||||||||||| |||||||||||||||||||||||||||•|||||||||||||| ||||||||||||||•|||||  ||| |||••|||||||||||||| ||||||||||•••••••• \n",
      "Ref:  AAGCCATGAGAATTGGTTCCGAAGTTTACCACAACTTGAAGTCTT TGACCAAGAAGAGATACGGTGCTTCTGCCGGTAACGTCGGTGACGAAGGTGGTGTTGCTCCAAACATTCAAACCGCTGAAGAAGCTTTGGACTTGATTGTTGACGCCATCGTCG TGAGTAGTGAACCGTAAGC AAGAGAAGAGNNNNNNNNT\n",
      "\n",
      "Read:   G TCAGCAAGAGGA GGTGCTGTGCTGTGCTGTGCT\n",
      "        | |||||||||||| |||||||||||||||||||||\n",
      "Ref:  CAGCTCAGCAAGAGGAGGGTGCTGTGCTGTGCTGTGCT\n",
      "\n",
      "read_id=8f6f95f7-925b-411f-a339-faaeedde21da; assignment=10\n",
      "\n",
      "Read: AGATTGTGTTTGTTAGTCGCTGTGGATGGGTAAGGGTGTT TGCACGCTGT AAGAACGTCAACGATGTCATTGCCCCAGCTTTCGTTAAGGCTAACATTGATGTTAAGGACCAAAAGGCCG CGATGACTTC TGATTTCTTTGGACGGTACTGCCAACAA TCCAAGTTGAGGTGCTAACGCTATTCTTGGGTGTCTT\n",
      "      |||||||||||||||||||||||||||||||||||||||| ||•||||||| ||•|||||||||•|•||||||||••|•||||||||•|||||•|||•|•|||||||||||||||||||||| |||||||||| ||•|•||||||||•|||||•|||||||| ||||||||| ||||||||||||| ||||||||||| |\n",
      "Ref:  AGATTGTGTTTGTTAGTCGCTGTGGATGGGTAAGGGTGTTATGAACGCTGTCAACAACGTCAACAACGTCATTGCTGCTGCTTTCGTCAAGGCCAACCTAGATGTTAAGGACCAAAAGGCCGTCGATGACTTCTTGTTGTCTTTGGATGGTACCGCCAACAAGTCCAAGTTG GGTGCTAACGCTA TCTTGGGTGTC T\n",
      "\n",
      "Read: CTTTGGCTGCTTCCAGAGCTGCCGCTGCTGAAAAGAATGTCCCATTATACAAGCACTTGGCTGACTTGTCTAAGTCCAAGACCCACACCAT   TTGTGCCAG TCCATTTTCTTGAACGTTCTGAACGGTAGTTCCCACGCTGGTGGTGCTTTGGCTCTGCAAGAATTTATCGATTGCTCCAACT GTGCTAAGACCTT\n",
      "      |••||||•|||•|•|||||•||•||||||||||||||•||||||||•|||•|•||•||||||||||||||||||||||||| ||•|•||||   ||•|||||| ||||  ||||||||||||•||||||||•||||||||||||||||||||||||||•||||||||||•|| ||||||||||||| ||||||||||   \n",
      "Ref:  CCATGGCCGCTGCTAGAGCCGCTGCTGCTGAAAAGAACGTCCCATTGTACCAACATTTGGCTGACTTGTCTAAGTCCAAGA CCTCTCCATACGTTTTGCCAGTTCCA  TTCTTGAACGTTTTGAACGGTGGTTCCCACGCTGGTGGTGCTTTGGCTTTGCAAGAATTCAT GATTGCTCCAACTGGTGCTAAGAC   \n",
      "\n",
      "Read: CTTCGCTGAAGCTTTGAGAATTGGTTCCGAAGTTTACCACAACTTGAAGTCTTTGACCAAGAAGAGATA AGTGCT  TGCCGGTAACGTCGGTGACGAAGGTGGTGTTGCTCCAAACATTTCAAACCG TGAAGAAGCTTTGGACTTGATTGTTGACGCCATCGTACCGTGA  AGTGAACCGTAAGCAAGAGAAGAG \n",
      "      ||||||||||||••||||||||||||||||||||||||||||||||||||||||||||||||||||||| •|||||  ||||||||||||||||||||||||||||||||||||||||| ||||||||| ||||||||||||||||||||||||||||||||||||  |||||  |||||||||||||||||||||||| \n",
      "Ref:  CTTCGCTGAAGCCATGAGAATTGGTTCCGAAGTTTACCACAACTTGAAGTCTTTGACCAAGAAGAGATACGGTGCTTCTGCCGGTAACGTCGGTGACGAAGGTGGTGTTGCTCCAAACA TTCAAACCGCTGAAGAAGCTTTGGACTTGATTGTTGACGCCATCGT  CGTGAGTAGTGAACCGTAAGCAAGAGAAGAGN\n",
      "\n",
      "Read:  TTTGGCTCAGCTCAGCTAATCGTCCGTGCTGTGCTGTGCTGTGCT\n",
      "       ••••••|||||||||||||||||||||||||||||||||||||||\n",
      "Ref:  NNNNNNNTCAGCTCAGCTAATCGTCCGTGCTGTGCTGTGCTGTGCT\n",
      "\n",
      "read_id=07086449-1415-4ab3-8f4f-1a456b34636e; assignment=10\n",
      "\n",
      "Read: AGATTGTGTTTGTTAGTACGCTGTGGATGGGTAAGGGTGTTATGAACGCTGT   CAACGTCAACAACGTCATTGCTGCTGCTTT GCCAAGGCCATCCTAGATGTTAAGGA CATTTAAAGGCCGTCGATGACTTCTTGTTGTC  TGGATGGTACCGCCAACAAGTCCAAGTTGGGTGCTATGACTATCTTGGGTGTC\n",
      "      ||||||||||||||||| ||||||||||||||||||||||||||||||||||   |||||||||||||||||||||||||||||| |•||||||||•||||||||||||||| ||   |||||||||||||||||||||||||||  ||||||||||||||||||||||||||||||||||||•••||||||||||||||\n",
      "Ref:  AGATTGTGTTTGTTAGT CGCTGTGGATGGGTAAGGGTGTTATGAACGCTGTCAACAACGTCAACAACGTCATTGCTGCTGCTTTCGTCAAGGCCAACCTAGATGTTAAGGACCA   AAAGGCCGTCGATGACTTCTTGTTGTCTTTGGATGGTACCGCCAACAAGTCCAAGTTGGGTGCTAACGCTATCTTGGGTGTC\n",
      "\n",
      "Read: TCCATATGGCCGCTGCTAGAGCCGCTGCTGCTGAAAAGAACGTCCCATTGTACCAACATTTGGCTGACTTGTCTAAGTCCAAGAC  CTCCA A  TCTTGCCAGTTCCATTTCTTGAACG TTTGAACGGTGGTTCCCACGTTGGTGGTGCTTTGGCTTTGCAAGAATTCATGATTGCTCCAACTGGTGCTAAGACCTT\n",
      "      |||  ||||||||||||||||||||||||||||||||||||||||||||||||||||||||||||||||||||||||||||||||  ||||| |  |•|||||||||||| |||||||||| ||||||||||||||||||||•|||||||||||||||||||||||||||||||||||||||||||||||||||||||||\n",
      "Ref:  TCC  ATGGCCGCTGCTAGAGCCGCTGCTGCTGAAAAGAACGTCCCATTGTACCAACATTTGGCTGACTTGTCTAAGTCCAAGACCTCTCCATACGTTTTGCCAGTTCCA TTCTTGAACGTTTTGAACGGTGGTTCCCACGCTGGTGGTGCTTTGGCTTTGCAAGAATTCATGATTGCTCCAACTGGTGCTAAGACCTT\n",
      "\n",
      "Read: CGCTGAAGCCATGAGAATTGGTTCCGAAGTTTCACCTCTATTTGAAGTCTTTGACCAAAGAAGAGATACGGTGCTTCTGCCGGTAACGTCGGTGAC AA GTGGTGTTGCTCCAAACA TC TGTTGCTGAAGAAGCTTTGGAC TGATTGTGGTGA    A       GAGAAGGTGAACCGTAAGCAAGAGAAGAG C\n",
      "      |||||||||||||||||||||||||||||||| |||•|•|•||||||||||||||| ||||||||||||||||||||||||||||||||||||||| || |||||||||||||||||| || ••••|||||||||||||||||| |||||||  |||    |       |||•| ||||||||||||||||||||||| •\n",
      "Ref:  CGCTGAAGCCATGAGAATTGGTTCCGAAGTTT ACCACAACTTGAAGTCTTTGACC AAGAAGAGATACGGTGCTTCTGCCGGTAACGTCGGTGACGAAGGTGGTGTTGCTCCAAACATTCAAACCGCTGAAGAAGCTTTGGACTTGATTGT  TGACGCCATCGTCGTGAGTA GTGAACCGTAAGCAAGAGAAGAGNN\n",
      "\n",
      "Read: TTTAGATCAGCTCAGCTAATCGTCCGTGCTGTGCTGTGTTGTGCT\n",
      "      ••••••||||||||||||||||||||||||||||||||•||||||\n",
      "Ref:  NNNNNNTCAGCTCAGCTAATCGTCCGTGCTGTGCTGTGCTGTGCT\n",
      "\n",
      "read_id=b9047fd8-3e96-41b9-aa2e-a2ee69a1a264; assignment=10\n",
      "\n",
      "Read: AGATTGTGTTTGTTAGTCGCTGTGGATGGGTAAGGGTGTTTTGCACGCTGTTAAGAACGTCAACGATGTCATTGCCCCAGCTTT    AAGGCTAACATTGATGTTTCAAGGGACCAAAAGGCCGTCGATGACTTCTTGATTTCTTTGGACGGTACTGCCAACAA TCCAAGTTGGGTGC AACGTTATCTTGGGTGTTT\n",
      "      ||||||||||||||||||||||||||||||||||||||||•||•|||||||•||•|||||||||•|•||||||||••|•|||||    |||||•|||•|•||||||  || ||||||||||||||||||||||||||||•|•||||||||•|||||•|||||||| |||||||||||||| ||||•||||||||||||•|\n",
      "Ref:  AGATTGTGTTTGTTAGTCGCTGTGGATGGGTAAGGGTGTTATGAACGCTGTCAACAACGTCAACAACGTCATTGCTGCTGCTTTCGTCAAGGCCAACCTAGATGTT  AA GGACCAAAAGGCCGTCGATGACTTCTTGTTGTCTTTGGATGGTACCGCCAACAAGTCCAAGTTGGGTGCTAACGCTATCTTGGGTGTCT\n",
      "\n",
      "Read: CTTTGGCTGCTTCCAGAGCTGCCGCTGCTGAAAAGAATGTCCCATTGTACCAACCATTGGCTGACACTTGTCTAAGTCCAAGACCTCTC  T CCATTTGCCAGTTCCA TC TGAACG TTTGAACGGTGGTTCCTCCACGCTGGTGGTGCTTTGGTCTTTGCAAGAATTCATGATTGCTCCAACTGGTGCTAAGACC \n",
      "      |••||||•|||•|•|||||•||•||||||||||||||•||||||||||||||||••|||||||  ||||||||||||||||||||||||  | |••||||||||||||| || |||||| |||||||||||||||  |||||||||||||||||||| ||||||||||||||||||||||||||||||||||||||||| \n",
      "Ref:  CCATGGCCGCTGCTAGAGCCGCTGCTGCTGAAAAGAACGTCCCATTGTACCAACATTTGGCTG  ACTTGTCTAAGTCCAAGACCTCTCCATACGTTTTGCCAGTTCCATTCTTGAACGTTTTGAACGGTGGTTC  CCACGCTGGTGGTGCTTTGG CTTTGCAAGAATTCATGATTGCTCCAACTGGTGCTAAGACCT\n",
      "\n",
      "Read: TCGCTGAAGCCATGAGAATTGGTTCCGAAGTTTACC   ACTTGAAGTCTTTTGACCAAGAAGAGATACGGTGCTCTTGCCGGTAACGTCGGTGACGAAGGTGGTGTTGCTCCAA    TCAAACCGCTGAAGAAGCTTTAGACTTGATTGTTGACGCCATCGTCGTGAGTAGGTGAACCGTAAGCAAGAGAAGAGCCCC\n",
      "      ||||||||||||||||||||||||||||||||||||   |||||||||| |||||||||||||||||||||||||••||||||||||||||||||||||||||||||||||||||    |||||||||||||||||||||•||||||||||||||||||||||||||||||| ||||||||||||||||||||||| •••\n",
      "Ref:  TCGCTGAAGCCATGAGAATTGGTTCCGAAGTTTACCACAACTTGAAGTC TTTGACCAAGAAGAGATACGGTGCTTCTGCCGGTAACGTCGGTGACGAAGGTGGTGTTGCTCCAAACATTCAAACCGCTGAAGAAGCTTTGGACTTGATTGTTGACGCCATCGTCGTGAGTA GTGAACCGTAAGCAAGAGAAGAG NNN\n",
      "\n",
      "Read: TCATCTCAGCTCAGCTAATCGTCCGTGCTGTGCTGTGCTGTGCT\n",
      "      •••••|||||||||||||||||||||||||||||||||||||||\n",
      "Ref:  NNNNNTCAGCTCAGCTAATCGTCCGTGCTGTGCTGTGCTGTGCT\n",
      "\n",
      "read_id=99684e6e-ca3c-4f99-82f0-6fefd12db2b8; assignment=10\n",
      "\n",
      "Read: AGATTGT TTGGTCAGTCGCTGTGGATGGGTAAAGGTGTTATGAACGCTGTCAACAACGTCAACAACGTCATTGCTGCTGCTTCTTCGTCAAGGCCAACCAAGATGTTTGAGACC  TAGGCCG CGATGA   CTTGTTGTC TTGGATGGTACCGCCAACAAGTCCAAGTTGGGTGCT ATGCTATTCTGGGTGTCTC\n",
      "      ||||||| ||•||•|||||||||||||||||||•||||||||||||||||||||||||||||||||||||||||||||||||  ||||||||||||||||•|||||||•••||||  •|||||| ||||||   ||||||||| |||||||||||||||||||||||||||||||||||| |•|||||••||||||||||\n",
      "Ref:  AGATTGTGTTTGTTAGTCGCTGTGGATGGGTAAGGGTGTTATGAACGCTGTCAACAACGTCAACAACGTCATTGCTGCTGCT  TTCGTCAAGGCCAACCTAGATGTTAAGGACCAAAAGGCCGTCGATGACTTCTTGTTGTCTTTGGATGGTACCGCCAACAAGTCCAAGTTGGGTGCTAACGCTATCTTGGGTGTCTC\n",
      "\n",
      "Read: CATGGCCGCT  AAGAGCCGTTG TGCTG AAAGAACGTCCCATTGTACCAACATTTGGCTGACTTGTCTAAGTCCAAGACCTCTCCGTTACGTTTTGCCAGTTCCATTCTTGAACG TTTGAACGGTGG TCCCACGCTGGTGGTGCTTTGGC TTGCAAGAATTCATGATTGCTCATCCAACTGGTGCTAAGACCTTC\n",
      "      ||||||||||  •|||||||•|| ||||| ||||||||||||||||||||||||||||||||||||||||||||||||||||||||| •|||||||||||||||||||||||||||| |||||||||||| ||||||||||||||||||||||| ||||||||||||||||||||   ||||||||||||||||||||||\n",
      "Ref:  CATGGCCGCTGCTAGAGCCGCTGCTGCTGAAAAGAACGTCCCATTGTACCAACATTTGGCTGACTTGTCTAAGTCCAAGACCTCTCC ATACGTTTTGCCAGTTCCATTCTTGAACGTTTTGAACGGTGGTTCCCACGCTGGTGGTGCTTTGGCTTTGCAAGAATTCATGATTGC   TCCAACTGGTGCTAAGACCTTC\n",
      "\n",
      "Read: GCTGAAGCCATGAGAATTGGTTCC ATGTTT       CTTGAAGTCTTTTGACCAAGAAGA AT  GGTGCTT TGCCAGTAACGT   TGAAGCAAGTGGTGTTGCATCCAA  TTTCAAACC ATGAAGAAGCTTTGGACTTGATTGTTGACGCCATCGTCGTGA TAGTGAACCGTAAGCAAGAAGAGAG ATCCA\n",
      "      |||||||||||||||||||||||| |•||||       ||||||||| |||||||||||||| ||  ||||||| ||||•|||||||   |||•|•|•|||||||||| |||||  •|||||||| •||||||||||||||||||||||||||||||||||||||||| |||||||||||||||||||••|||| •••••\n",
      "Ref:  GCTGAAGCCATGAGAATTGGTTCCGAAGTTTACCACAACTTGAAGTC TTTGACCAAGAAGAGATACGGTGCTTCTGCCGGTAACGTCGGTGACGAAGGTGGTGTTGC TCCAAACATTCAAACCGCTGAAGAAGCTTTGGACTTGATTGTTGACGCCATCGTCGTGAGTAGTGAACCGTAAGCAAGAGAAGAGNNNNNN\n",
      "\n",
      "Read: GCTCAGCTCAGCTAATCGTCCGTGCTGTGCTGTAGC GTGCT\n",
      "      ••||||||||||||||||||||||||||||||| || |||||\n",
      "Ref:  NNTCAGCTCAGCTAATCGTCCGTGCTGTGCTGT GCTGTGCT\n",
      "\n",
      "read_id=c3b75361-7628-45ab-adc5-e4ec6c6fadbd; assignment=60\n",
      "\n",
      "Read: TGGACTTGATTGTTGACGCCAT GTTGTGAGTAGTGAACCGTAAGCAAGAGAAGAG GAATGACTCAGCTCAGCAAGAGGAGGGTGTTGTGCTGTGCTGTGCT\n",
      "      |||||||||||||||||||||| ||•|||||||||||||||||||||||||||||| •••••••||||||||||||||||||||||•||||||||||||||||\n",
      "Ref:  TGGACTTGATTGTTGACGCCATCGTCGTGAGTAGTGAACCGTAAGCAAGAGAAGAGNNNNNNNNTCAGCTCAGCAAGAGGAGGGTGCTGTGCTGTGCTGTGCT\n",
      "\n",
      "read_id=bf594e5c-cb5d-4849-a051-79dca60731ee; assignment=10\n",
      "\n",
      "Read: AGATTGTGTTTGTTAGT  CTGTAGATGGGTA  GGTGTTATGAACGCTGTCAACAACGCCAACAACGTCAT   TGCTGCTTTCGTCAAGGCCAACCTAGATGTTAAGGACCAAAAGGCCG CGATGA   CTTGTTGTC TTGGATGGT  CGTC    AGTCCAAGTTGGG   TAACGCTATCTTGGGTGTCTTTC\n",
      "      |||||||||||||||||  ||||•||||||||  |||||||||||||||||||||||||•||||||||||||   ||||||||||||||||||||||||||||||||||||||||||||||| ||||||   ||||||||| |||||||||  ||•|    |||||||||||||   |||||||||||||||||||  ||\n",
      "Ref:  AGATTGTGTTTGTTAGTCGCTGTGGATGGGTAAGGGTGTTATGAACGCTGTCAACAACGTCAACAACGTCATTGCTGCTGCTTTCGTCAAGGCCAACCTAGATGTTAAGGACCAAAAGGCCGTCGATGACTTCTTGTTGTCTTTGGATGGTACCGCCAACAAGTCCAAGTTGGGTGCTAACGCTATCTTGGGTGTC  TC\n",
      "\n",
      "Read: CATGGCCGCTGCTAGAGCCGCTGCTGCTGAAAAGAACGTCCCATTGTACCAACATTTGGCTGACTTGTC  AGTCCAAGACCTCTCCATACG TTTGCCAGTTCCA TCTTGAACG TTTGAACGGTGGT  CCACGCTGGTGGTGCTTTGGCTTTGCAAGAA TCATGATTGCTCCAACTGGTGCTAAGACCTTCGCTG\n",
      "      |||||||||||||||||||||||||||||||||||||||||||||||||||||||||||||||||||||  ||||||||||||||||||||| ||||||||||||| ||||||||| |||||||||||||  ||||||||||||||||||||||||||||||| ||||||||||||||||||||||||||||||||||| \n",
      "Ref:  CATGGCCGCTGCTAGAGCCGCTGCTGCTGAAAAGAACGTCCCATTGTACCAACATTTGGCTGACTTGTCTAAGTCCAAGACCTCTCCATACGTTTTGCCAGTTCCATTCTTGAACGTTTTGAACGGTGGTTCCCACGCTGGTGGTGCTTTGGCTTTGCAAGAATTCATGATTGCTCCAACTGGTGCTAAGACCTTCGCT \n",
      "\n",
      "Read: GAAGCCATGAGAATTGGTTCCGAAGTTT  C CTATTTGAAGTCTTTGACCAAGAAGAGATACGGTGCTTCTGCCGGTAACGTCGGTGACGAAGGTGGTGTTGCTCCAAACA TCACATCG TGAAGAAGCTTTGGAC TG TTGTTGACGCCAT GTCGTGAGTGGGTGAACCGTAAGCAAGAGAAGAG    CTTCTC\n",
      "      ||||||||||||||||||||||||||||  | |•|•|||||||||||||||||||||||||||||||||||||||||||||||||||||||||||||||||||||||||||| |||•|•|| |||||||||||||||| || ||||||||||||| ||||||||| •|||||||||||||||||||||||    ••••||\n",
      "Ref:  GAAGCCATGAGAATTGGTTCCGAAGTTTACCACAACTTGAAGTCTTTGACCAAGAAGAGATACGGTGCTTCTGCCGGTAACGTCGGTGACGAAGGTGGTGTTGCTCCAAACATTCAAACCGCTGAAGAAGCTTTGGACTTGATTGTTGACGCCATCGTCGTGAGT AGTGAACCGTAAGCAAGAGAAGAGNNNNNNNNTC\n",
      "\n",
      "Read: GGCTCAGCTAATCGTCCGT  TGTGCTGTGC\n",
      "      •||||||||||||||||||  ||||||||||\n",
      "Ref:  AGCTCAGCTAATCGTCCGTGCTGTGCTGTGC\n",
      "\n",
      "read_id=eca44663-de92-43d8-997f-57594fef8ea5; assignment=10\n",
      "\n",
      "Read: AGATTGTGTTTGTTAGTCGCTGT GATGGGTAAGGGTGTTATGAACGTTGTCAACAACGTCAACAACGT ACTGCTGCTGCTTTCGCTC AGGCCATCCAAGATATGCTAAGGACCAAAAGGCCGTCGATGACTTCTTGTTGTCTTTGGATAGGTACCGCCAACAAGTCCAAGTAAGGTGCTATCGCTAT TTGGGTGTC\n",
      "      ||||||||||||||||||||||| |||||||||||||||||||||||•||||||||||||||||||||| |•|||||||||||||| || ||||||•||•||  |||•||||||||||||||||||||||||||||||||||||||||||| ||||||||||||||||||||||••|||||||•|||||| |||||||||\n",
      "Ref:  AGATTGTGTTTGTTAGTCGCTGTGGATGGGTAAGGGTGTTATGAACGCTGTCAACAACGTCAACAACGTCATTGCTGCTGCTTTCG TCAAGGCCAACCTAG  ATGTTAAGGACCAAAAGGCCGTCGATGACTTCTTGTTGTCTTTGGAT GGTACCGCCAACAAGTCCAAGTTGGGTGCTAACGCTATCTTGGGTGTC\n",
      "\n",
      "Read: TCCATGGCCGCTGCTAGAGCCGCTGCTGCTGAAAAGAACGTCCCATTGTACCA    TTGG TGACTTGTCTAAGTCCAAGACCTCTCCATACGTTTTGCCAGTTCCATTCTTGAACG TTTGAACGGT GTTCCCACGTTGGTGGTGCTTTGGCTTTGCAAGAATTTATGATTAATCCAACTGGTGCTCGAAGACCTTC\n",
      "      |||||||||||||||||||||||||||||||||||||||||||||||||||||    |||| |||||||||||||||||||||||||||||||||||||||||||||||||||||||| |||||||||| |||||||||•|||||||||||||||||||||||||||•||||||••|||||||||||||  |||||||||\n",
      "Ref:  TCCATGGCCGCTGCTAGAGCCGCTGCTGCTGAAAAGAACGTCCCATTGTACCAACATTTGGCTGACTTGTCTAAGTCCAAGACCTCTCCATACGTTTTGCCAGTTCCATTCTTGAACGTTTTGAACGGTGGTTCCCACGCTGGTGGTGCTTTGGCTTTGCAAGAATTCATGATTGCTCCAACTGGTGCT  AAGACCTTC\n",
      "\n",
      "Read: GTTGAAGCC  GCAGAATTGGTTCCGAAGTTCACCACAACTTGAAG  TTTGACC TGGAGAGATACGGTGCT  TGCCAGTAATACGTCGGTGACGAAGGTGGTGTTGCTCCAAACATTCAAACCGCTGAAGAAGC TTGGACTTGATTGTTGACGCCATCGTCGTGAGTAGTGAACCGCAAGCAAGAGAAGAG ACAT\n",
      "      |•|||||||  | ||||||||||||||||||•||||||||||||||  ||||||| •|•||||||||||||||  ||||•|||  |||||||||||||||||||||||||||||||||||||||||||||||||||| ||||||||||||||||||||||||||||||||||||||||||•|||||||||||||| ••••\n",
      "Ref:  GCTGAAGCCATG AGAATTGGTTCCGAAGTTTACCACAACTTGAAGTCTTTGACCAAGAAGAGATACGGTGCTTCTGCCGGTA  ACGTCGGTGACGAAGGTGGTGTTGCTCCAAACATTCAAACCGCTGAAGAAGCTTTGGACTTGATTGTTGACGCCATCGTCGTGAGTAGTGAACCGTAAGCAAGAGAAGAGNNNNN\n",
      "\n",
      "Read: CCCTCAGCTCAGCTAATCGTCCGTGCTGTGCTGTGCTGTGCT\n",
      "      •••|||||||||||||||||||||||||||||||||||||||\n",
      "Ref:  NNNTCAGCTCAGCTAATCGTCCGTGCTGTGCTGTGCTGTGCT\n",
      "\n",
      "read_id=1baae39f-90b2-4e9b-90ae-ea27c4c76bc8; assignment=60\n",
      "\n",
      "Read: AGATTGTG TTGTTAGTCGCTGTGGATGGGTAA GGTGTTATGAACGCTGTCAACAACGTCAACAACGTCATTGCTGCTTTCTACCGTCAAGGCCAACCTAGATGTTAAGGACCAAAAGGCCGTCGATGAC TC  GCTGTCTTTGGATGGTACCGCCATC GGTCCAAGTTGGGTGCTAACGCTATCTTGGGTGTCTCC\n",
      "      |||||||| |||||||||||||||||||||||| |||||||||||||||||||||||||||||||||||||||||||| |•||••|||||||||||||||||||||||||||||||||||||||||||||| ||  |•|||||||||||||||||||||•| •|||||||||||||||||||||||||||||||||||||\n",
      "Ref:  AGATTGTGTTTGTTAGTCGCTGTGGATGGGTAAGGGTGTTATGAACGCTGTCAACAACGTCAACAACGTCATTGCTGC TGCTTTCGTCAAGGCCAACCTAGATGTTAAGGACCAAAAGGCCGTCGATGACTTCTTGTTGTCTTTGGATGGTACCGCCAACAAGTCCAAGTTGGGTGCTAACGCTATCTTGGGTGTCTCC\n",
      "\n",
      "Read: ATGGCCGCTGCTAGAGCCGCTGCTG TGAAAAGAACGTCCCATTGTACCAACATTTGGCTGACTTGTC AAGTCC TGACCTCTCCATACGTTTTACCAGTTCCATTCTTGAACGTTTTGAACGGTGGTTCCCACGCTGGTGGTGCTTTGGCTCTGCAAGAATTCCTGACTG  CC ACTGGTGCTAAGACAC  CGCTG\n",
      "      ||||||||||||||||||||||||| |||||||||||||||||||||||||||||||||||||||||| |||||| •||||||||||||||||||•|||||||||||||||||||||||||||||||||||||||||||||||||||||||||•|||||||||||•|||•||  || |||||||||||||| |  |||||\n",
      "Ref:  ATGGCCGCTGCTAGAGCCGCTGCTGCTGAAAAGAACGTCCCATTGTACCAACATTTGGCTGACTTGTCTAAGTCCAAGACCTCTCCATACGTTTTGCCAGTTCCATTCTTGAACGTTTTGAACGGTGGTTCCCACGCTGGTGGTGCTTTGGCTTTGCAAGAATTCATGATTGCTCCAACTGGTGCTAAGAC CTTCGCTG\n",
      "\n",
      "Read: AAGCCATGAGAATTGGTTCCGAAGTTTACCACAACTTGAAGTCTTTGACCAAGA  AGATACGGTGCTTCTGCCGGTAACGTCGGTGACGAAGGTGGTGTTGCTCCAAACCA  CAAACCGCT   GAAGCTTTGGACTTGA   TTGACGCCATCG CATGAGTAGTGAACCGTAAGCAAGAGAAGAGCCCGATTCTCA\n",
      "      ||||||||||||||||||||||||||||||||||||||||||||||||||||||  ||||||||||||||||||||||||||||||||||||||||||||||||||||| ||  |||||||||   ||||||||||||||||   |||||||||||| |•|||||||||||||||||||||||||||||••••••••|||\n",
      "Ref:  AAGCCATGAGAATTGGTTCCGAAGTTTACCACAACTTGAAGTCTTTGACCAAGAAGAGATACGGTGCTTCTGCCGGTAACGTCGGTGACGAAGGTGGTGTTGCTCCAAA CATTCAAACCGCTGAAGAAGCTTTGGACTTGATTGTTGACGCCATCGTCGTGAGTAGTGAACCGTAAGCAAGAGAAGAGNNNNNNNNTCA\n",
      "\n",
      "Read: GCTCAGCAAGAGGAGGGTGCTGTGCTGTGCTGTGCT\n",
      "      ||||||||||||||||||||||||||||||||||||\n",
      "Ref:  GCTCAGCAAGAGGAGGGTGCTGTGCTGTGCTGTGCT\n",
      "\n",
      "read_id=bcc25671-b65d-4f68-8dad-c67825aa9782; assignment=15\n",
      "\n",
      "Read: CAGATTGTGTTTG TAGTCGCTGTGGAT GGTAAGGGTGTCTATGAACGCTGTCAACAACGTCA  TACG   TTGTTGCTG  TT GTCAAGGCCAACCTAGATGTCAAGGACCAAAAGGCCGTCGATGA TTCTTGATTTCTTTGGACGGTACTGCCAACAA TCCAAGTTGGGTGCTAACGCTATCTTGGGTGTTTT\n",
      "      ||||||||||||| |||||||||||||| ||||||||||| |||||||||||||||||||||||  •|||   |||•|||||  || ||||||||||||||||||||•||||||||||||||||||||||| ||||||•|•||||||||•|||||•|||||||| ||||||||||||||||||||||||||||||||•|•\n",
      "Ref:  CAGATTGTGTTTGTTAGTCGCTGTGGATGGGTAAGGGTGT TATGAACGCTGTCAACAACGTCAACAACGTCATTGCTGCTGCTTTCGTCAAGGCCAACCTAGATGTTAAGGACCAAAAGGCCGTCGATGACTTCTTGTTGTCTTTGGATGGTACCGCCAACAAGTCCAAGTTGGGTGCTAACGCTATCTTGGGTGTCTC\n",
      "\n",
      "Read: TTTGGCTGCT C AGAGCTGCCGCTATTGAAAAGAATGTCCCATTGTACC ATATTTGGCTGACTTGTCTAAGTCCAAGACCTCTCCATACGTTCTGCCAGTTCCATTTCTTGAACGTTTTGAACGGTGGTTC   CGCTGGTGGTGCTTTGGC  TGCAAGAATTCATGATTGCTCC ATTGGTGCTAGTACCTT  TT\n",
      "      ••||||•||| | |||||•||•|||••|||||||||•||||||||||||| |•|||||||||||||||||||||||||||||||||||||||||•||||||||||| ||||||||||||||||||||||||||   ||||||||||||||||||  |||||||||||||||||||||| |•||||||||••|||||  •|\n",
      "Ref:  CATGGCCGCTGCTAGAGCCGCTGCTGCTGAAAAGAACGTCCCATTGTACCAACATTTGGCTGACTTGTCTAAGTCCAAGACCTCTCCATACGTTTTGCCAGTTCCA TTCTTGAACGTTTTGAACGGTGGTTCCCACGCTGGTGGTGCTTTGGCTTTGCAAGAATTCATGATTGCTCCAACTGGTGCTAAGACCTTCGCT\n",
      "\n",
      "Read: GATG CATAAAGAATTGGTTCTG GGTTTACCACTA TTGAAGTCTTTGACCAAGAAGAGATACGGTGCT  TGCCGGT  CGTCGGTGACG AGGTGGTGTGTCGTTCCAAACATTC AATCGC    GGAGC TTGGACTTTGATTGTTGACGCCATCGTCGTGAGTAGTGAACCGCAAGCAAGAGAAGAG  TATCT\n",
      "      ||•| ||| •|||||||||||•| •|||||||||•| |||||||||||||||||||||||||||||||||  |||||||  ||||||||||| ||||||||| | |•||||||||||| ||•|||    |•||| |||||| ||||||||||||||||||||||||||||||||||||•||||||||||||||  •••••\n",
      "Ref:  GAAGCCAT GAGAATTGGTTCCGAAGTTTACCACAACTTGAAGTCTTTGACCAAGAAGAGATACGGTGCTTCTGCCGGTAACGTCGGTGACGAAGGTGGTGT T GCTCCAAACATTCAAACCGCTGAAGAAGCTTTGGAC TTGATTGTTGACGCCATCGTCGTGAGTAGTGAACCGTAAGCAAGAGAAGAGNNNNNNN\n",
      "\n",
      "Read: ATCAGTTCAGCCCTTCTAGGGTGCTGTGCTGTGCTGTGCT\n",
      "      •||||•||||||||||||||||||||||||||||||||||\n",
      "Ref:  NTCAGCTCAGCCCTTCTAGGGTGCTGTGCTGTGCTGTGCT\n",
      "\n",
      "read_id=16be805f-becc-40df-945c-2a38aa8e05b5; assignment=60\n",
      "\n",
      "Read: CCAAGTTGGGTGCTATCGCTATC TGGGTGT   CATGGCC               GCTGCTGAAAAGAATGTCCCATTATACAAGCACTTGGCTGACTTGTC AAGTCCAAGACCTCT CAT  GTTTTGCCAGTTCCA TCTTGAACG TTTGAACGGTGGTTC   CGTTGGTGGTGCTTTGGCTTCAATATAAGAA\n",
      "      |||||||||||||||•||||||| |||||||   |||||||               ||||||||||||||•||||||||•|||•|•||•|||||||||||||| ||||||||||||||| |||  ||||||||||||||| ||||||||| |||||||||||||||   ||•|||||||||||||||||   |••|||||\n",
      "Ref:  CCAAGTTGGGTGCTAACGCTATCTTGGGTGTCTCCATGGCCGCTGCTAGAGCCGCTGCTGCTGAAAAGAACGTCCCATTGTACCAACATTTGGCTGACTTGTCTAAGTCCAAGACCTCTCCATACGTTTTGCCAGTTCCATTCTTGAACGTTTTGAACGGTGGTTCCCACGCTGGTGGTGCTTTGGCTT   TGCAAGAA\n",
      "\n",
      "Read: TTTATGATTG  CCAACTGGTGCTAAGACCTT  TTGAAG CTTGAGAATTGGTTCCTAAGGTCACACACATCAAT  AGTC  TGACC  TCAGAGATACGGTGCTT TGCCGGTAACGCTAGTGATGAAGGTGGTGTT    AAAACATTCAAACTATT  AGAAGC ATGG TTTGATTG TGACGCCATCGTCGTA\n",
      "      ||•|||||||  ||||||||||||||||||||  •||||| |•||||||||||||||•|||•|•|| ||||•| •|  ||||  |||||  ••||||||||||||||| |||||||||||•••||||•||||||||||||    •||||||||||||•••|  |||||| •||| •||||||| |||||||||||||||•\n",
      "Ref:  TTCATGATTGCTCCAACTGGTGCTAAGACCTTCGCTGAAGCCATGAGAATTGGTTCCGAAGTTTAC CACAAC TTGAAGTCTTTGACCAAGAAGAGATACGGTGCTTCTGCCGGTAACGTCGGTGACGAAGGTGGTGTTGCTCCAAACATTCAAACCGCTGAAGAAGCTTTGGACTTGATTGTTGACGCCATCGTCGTG\n",
      "\n",
      "Read: AGTAGTG ATCGTAAGCAAGAGAAGA ATCTATCCTCAGCT AGCAAGAGGAGGGTGCTG   TGTGCTGTGCT\n",
      "      ||||||| |•|||||||||||||||| ••••••••|||||| ||||||||||||||||||   |||||||||||\n",
      "Ref:  AGTAGTGAACCGTAAGCAAGAGAAGAGNNNNNNNNTCAGCTCAGCAAGAGGAGGGTGCTGTGCTGTGCTGTGCT\n",
      "\n",
      "read_id=798ffbf5-97cf-4d9c-8eff-4230f7b134df; assignment=10\n",
      "\n",
      "Read: CAGATTGTGTTTGTTAG CGCTGTGGATGGGTAAGGGTGTTTTTG  CGCTGTTAAGAACGTCAACGATGTCATTGC CCAGCTTTCATACATAAGGCTAACATTGATGTTAAGGTTTCTTAAAGGCCG CGATGACT  TTGATCTCTTTGGACGGTACTGCCAACAAATCCAAGTTGGGTGCTAACGTTAACACTGGG\n",
      "      ||||||||||||||||| ||||||||||||||||||||| ||•||  ||||||•||•|||||||||•|•|||||||| •|•||||||•| |  |||||•|||•|•||||||||||  •|••|||||||| ||||||||  |||•|•||||||||•|||||•||||||||•|||||||||||||||||||•||•| •||||\n",
      "Ref:  CAGATTGTGTTTGTTAGTCGCTGTGGATGGGTAAGGGTG TTATGAACGCTGTCAACAACGTCAACAACGTCATTGCTGCTGCTTTCGT C  AAGGCCAACCTAGATGTTAAGG  ACCAAAAGGCCGTCGATGACTTCTTGTTGTCTTTGGATGGTACCGCCAACAAGTCCAAGTTGGGTGCTAACGCTATC TTGGG\n",
      "\n",
      "Read: TGTCT TTTGGCTGCTTCCAGAGCTGCCGCTGCTGAAAAGAATGTCCCATTATACAAGCACT    TGACTTGTC AAGTCCAAGACCTCTCCATACGTTTTGCCAGTTCCATTCTTGAACGTTTTGAACGGTGGTTCCCACGCTGGTGGTGTCTTTGGCTTTGCAAGAATTTATGATTGCTCCAACTGGTGCTAAGACA\n",
      "      ||||| ••||||•|||•|•|||||•||•||||||||||||||•||||||||•|||•|•||•|    ||||||||| |||||||||||||||||||||||||||||||||||||||||||||||||||||||||||||||||||||||||||| |||||||||||||||||||•|||||||||||||||||||||||||| \n",
      "Ref:  TGTCTCCATGGCCGCTGCTAGAGCCGCTGCTGCTGAAAAGAACGTCCCATTGTACCAACATTTGGCTGACTTGTCTAAGTCCAAGACCTCTCCATACGTTTTGCCAGTTCCATTCTTGAACGTTTTGAACGGTGGTTCCCACGCTGGTGGTG CTTTGGCTTTGCAAGAATTCATGATTGCTCCAACTGGTGCTAAGAC \n",
      "\n",
      "Read: C  CGCTG AGCTTTGAGAATTGGTTCC AAGTCT  C TAACTTGAAGTC TTGACCAAGAAGAGATACGGTGCTTCTGCCGGTAACGTCGGTGACGAAGGTGGTGTTGCTCCAAACATTC AATTGCTGAAGAAGCTTTGGACTTGATTGTTGACGCCATCGTC  AAGTAGTGAACCGTAAGCAAGAGA    GGTC\n",
      "      |  ||||| |||••|||||||||||||| ||||•|  | •||||||||||| |||||||||||||||||||||||||||||||||||||||||||||||||||||||||||||||||||||| ||••|||||||||||||||||||||||||||||||||||||||  •|||||||||||||||||||||||    ••••\n",
      "Ref:  CTTCGCTGAAGCCATGAGAATTGGTTCCGAAGTTTACCACAACTTGAAGTCTTTGACCAAGAAGAGATACGGTGCTTCTGCCGGTAACGTCGGTGACGAAGGTGGTGTTGCTCCAAACATTCAAACCGCTGAAGAAGCTTTGGACTTGATTGTTGACGCCATCGTCGTGAGTAGTGAACCGTAAGCAAGAGAAGAGNNNN\n",
      "\n",
      "Read: CATCTCAGCTCAGCTAATCGTCCGTGCTGTGCTGTGCTG\n",
      "      ••••|||||||||||||||||||||||||||||||||||\n",
      "Ref:  NNNNTCAGCTCAGCTAATCGTCCGTGCTGTGCTGTGCTG\n",
      "\n",
      "read_id=b7fb7dc9-08af-468d-bda6-fee6c62106bd; assignment=10\n",
      "\n",
      "Read: AGATTGTGTTTGTTAGTCGC ATGGATGGGTAAGGGTGTTATGAACGCTGTCAACAACGTCAACAACGTCATTGCTGCTGCTTTCGTCAAGGCCAACCTAGATGTTAAGGACCAAAAGGCCGTCGATGAC TCTTGTTGTCTTTGGATGGT  CGCCAAC GGTCCAAGTTGGGTGCTAACGTTACTATCTTGGGTGTCT\n",
      "      |||||||||||||||||||| •|||||||||||||||||||||||||||||||||||||||||||||||||||||||||||||||||||||||||||||||||||||||||||||||||||||||||||| ||||||||||||||||||||  ||||||| •||||||||||||||||||||   |||||||||||||||\n",
      "Ref:  AGATTGTGTTTGTTAGTCGCTGTGGATGGGTAAGGGTGTTATGAACGCTGTCAACAACGTCAACAACGTCATTGCTGCTGCTTTCGTCAAGGCCAACCTAGATGTTAAGGACCAAAAGGCCGTCGATGACTTCTTGTTGTCTTTGGATGGTACCGCCAACAAGTCCAAGTTGGGTGCTAACG   CTATCTTGGGTGTCT\n",
      "\n",
      "Read: CCATGGCCGCTGCTAGAGCCGCTGCTGCTGAAAAGGAACGTCCCATTGTAC   CATTT GTTGACTTGTCTAAGTCCAAGACCTTACACCATACGTTCTGCCAGTTCCA TCTTGAACGTTTTGAACGGTGGTTCCTTGCA  TTGGTGGTGCTTTGGCTTTGCAAGAATTCATGATTGTTCCAACTGGTGCTAAGACC\n",
      "      |||||||||||||||||||||||||||||||||| ||||||||||||||||   ||||| |•|||||||||||||||||||||||  |•|||||||||•||||||||||| ||||||||||||||||||||||||||   ||  •|||||||||||||||||||||||||||||||||||•|||||||||||||||||||\n",
      "Ref:  CCATGGCCGCTGCTAGAGCCGCTGCTGCTGAAAA GAACGTCCCATTGTACCAACATTTGGCTGACTTGTCTAAGTCCAAGACCT  CTCCATACGTTTTGCCAGTTCCATTCTTGAACGTTTTGAACGGTGGTTCC   CACGCTGGTGGTGCTTTGGCTTTGCAAGAATTCATGATTGCTCCAACTGGTGCTAAGACC\n",
      "\n",
      "Read: TTCGCTGAAGCCA CAGAATTGGTTCCTAAAAG TCACCACAACTTTGAAGTCTTTGACCAAGAAGAGA ACGGTGCTTTTGCCGGTAACGTCGGTGAC AAGGTGGTGTTGTTCCAAAC TTCAAACTGCTGAAGAAGCTTTGGACTTTGATTGTTGACGCCATCGTCGTGAGTAGTGAACCGTAAGCA  AGAAGAGC\n",
      "      ||||||||||||| •||||||||||||  •||| |•|||||||| |||||||||||||||||||||||| |||||||||•||||||||||||||||||| ||||||||||||•||||||| |||||||•|||||||||||||||||| ||||||||||||||||||||||||||||||||||||||||||  |||||||•\n",
      "Ref:  TTCGCTGAAGCCATGAGAATTGGTTCC  GAAGTTTACCACAAC TTGAAGTCTTTGACCAAGAAGAGATACGGTGCTTCTGCCGGTAACGTCGGTGACGAAGGTGGTGTTGCTCCAAACATTCAAACCGCTGAAGAAGCTTTGGAC TTGATTGTTGACGCCATCGTCGTGAGTAGTGAACCGTAAGCAAGAGAAGAGN\n",
      "\n",
      "Read: AGGGCAATCAGCTCAGCTAATCGTCCGTGCTGTGCAATGCTGTGCT\n",
      "      •••••••||||||||||||||||||||||||||||••|||||||||\n",
      "Ref:  NNNNNNNTCAGCTCAGCTAATCGTCCGTGCTGTGCTGTGCTGTGCT\n",
      "\n",
      "read_id=348e8063-517d-4d67-92ce-86658ac2c7a8; assignment=10\n",
      "\n",
      "Read: CGCTGT GATGGGTAAGGGTGTTATGAACGCTGTCAACAACGTCAACAACGTCATTGCTGCTGCTTTTTGTCAAGGCCAACCAAGATGTTAAGGACCAAAAGGCCGCCGATGACTTCTTGTTGTC TTGGATGGT CTGCCAACAAGTCCAAGTT GGTGCTAACGCTA CTAG   CTATCCATATGGCCGCTGCTAGA\n",
      "      |||||| ||||||||||||||||||||||||||||||||||||||||||||||||||||||||| |||•|||||||||||||•|||||||||||||||||||||||•|||||||||||||||||| ||||||||| |•||||||||||||||||| ||||||||||||| ||•|   •|•|||  |||||||||||||||\n",
      "Ref:  CGCTGTGGATGGGTAAGGGTGTTATGAACGCTGTCAACAACGTCAACAACGTCATTGCTGCTGC TTTCGTCAAGGCCAACCTAGATGTTAAGGACCAAAAGGCCGTCGATGACTTCTTGTTGTCTTTGGATGGTACCGCCAACAAGTCCAAGTTGGGTGCTAACGCTATCTTGGGTGTCTCC  ATGGCCGCTGCTAGA\n",
      "\n",
      "Read: GCCGCTGCTGCTGAAAAGAACGTCCC  TGT  C  CATCTGGCTGACTTGTCTAAGTCCAAGACCCACTCCATACGTTTTGCCAGTTCCATTTCTTGAACGTTTGGAAC   GGTT CCACGCTGGTGGTGCTTTTTGGCTTTGCAAGAATTCATCTGATTG T CAACTGGTG TTAGTCCTT   TGAAGCC  GCA\n",
      "      ||||||||||||||||||||||||||  |||  |  |||•|||||||||||||||||||||||| ||•||||||||||||||||||||||| |||||||||||||•||||   |||| |||||||||||||||  ||||||||||||||||||||  |||||| | ||||||||| |•||•||||   |||||||  | |\n",
      "Ref:  GCCGCTGCTGCTGAAAAGAACGTCCCATTGTACCAACATTTGGCTGACTTGTCTAAGTCCAAGA CCTCTCCATACGTTTTGCCAGTTCCA TTCTTGAACGTTTTGAACGGTGGTTCCCACGCTGGTGGTGC  TTTGGCTTTGCAAGAATTCA  TGATTGCTCCAACTGGTGCTAAGACCTTCGCTGAAGCCATG A\n",
      "\n",
      "Read: GAATTGGTTCCGAAGGTTTACCACAACTTG  GT TTTGACC   AAGAGATACGGTGCT  TGCCGGTAACGTC   GACGAAGGTGGTGTTGCTCCAAAC   CAAACCGCTGAAGAAGCTTTGGAACTGATTGTTGACGCCATCGT  TAAGGTAGTGAACATGTAAGCAAGAGAAGAGGTCAACATTCAGCTCAGC\n",
      "      |||||||||||||| |||||||||||||||  || |||||||   |||||||||||||||  |||||||||||||   ||||||||||||||||||||||||   |||||||||||||||||||||||••|||||||||||||||||||  |•| ||||||||| •||||||||||||||||••••••••||||||||||\n",
      "Ref:  GAATTGGTTCCGAA GTTTACCACAACTTGAAGTCTTTGACCAAGAAGAGATACGGTGCTTCTGCCGGTAACGTCGGTGACGAAGGTGGTGTTGCTCCAAACATTCAAACCGCTGAAGAAGCTTTGGACTTGATTGTTGACGCCATCGTCGTGA GTAGTGAAC CGTAAGCAAGAGAAGAGNNNNNNNNTCAGCTCAGC\n",
      "\n",
      "Read: TAATCGTCCGTGCTGTGCTGTGCTGTGCT\n",
      "      |||||||||||||||||||||||||||||\n",
      "Ref:  TAATCGTCCGTGCTGTGCTGTGCTGTGCT\n",
      "\n",
      "read_id=ea927dd0-40e7-4c6b-8ac6-c86005ea35b6; assignment=10\n",
      "\n",
      "Read: AGATTGTGTTCTGTTAGTCGCTGTAGTGGAT GGTAAGGGTGTTTTGCACG TGACTTAGAACGTCAACGATGTCATTGC CCAGCTTTCGTTAAGGCTAACATTGATCGTCAAGGACC AAAGGCCG CGATGAC TCTTGATTTC TTGGACGGTACTGCCAACAAATCCAAGTTGGGTGCTAACGCTATC TGGGTG\n",
      "      |||||||||| |||||||||||   |||||| ||||||||||||•||•||| ||•| •|•|||||||||•|•|||||||| •|•||||||||•|||||•|||•|•||| ||•||||||| |||||||| ||||||| |||||•|•|| |||||•|||||•||||||||•|||||||||||||||||||||||| ||||||\n",
      "Ref:  AGATTGTGTT TGTTAGTCGCT   GTGGATGGGTAAGGGTGTTATGAACGCTGTC AACAACGTCAACAACGTCATTGCTGCTGCTTTCGTCAAGGCCAACCTAGAT GTTAAGGACCAAAAGGCCGTCGATGACTTCTTGTTGTCTTTGGATGGTACCGCCAACAAGTCCAAGTTGGGTGCTAACGCTATCTTGGGTG\n",
      "\n",
      "Read: CTTTCT TTTGGCTGCTTCCAGAGCTGCCGCTGCTGAAAAGAATGTCCCATTATACAAGCACTTGGCTGACTTGTACATCTAAGTCCAAGACCTCTCCATACGTTTTGCCAGTTCCATCTCTTTGAACGTTTTGAACGGTGGTTCCCACGCTGGTGGTGCTTTGGCTTTGCAAGAATTTATGATTGCTCCAACTGGTGCT\n",
      "         ||| ••||||•|||•|•|||||•||•||||||||||||||•||||||||•|||•|•||•||||||||||||    |||||||||||||||||||||||||||||||||||||||| || ||||||||||||||||||||||||||||||||||||||||||||||||||||||||•|||||||||||||||||||||\n",
      "Ref:     TCTCCATGGCCGCTGCTAGAGCCGCTGCTGCTGAAAAGAACGTCCCATTGTACCAACATTTGGCTGACTTG    TCTAAGTCCAAGACCTCTCCATACGTTTTGCCAGTTCCAT TC TTGAACGTTTTGAACGGTGGTTCCCACGCTGGTGGTGCTTTGGCTTTGCAAGAATTCATGATTGCTCCAACTGGTGCT\n",
      "\n",
      "Read: AAGACCTT   TGAAGCTTTGAGAATTGGTTCGG  G  TACCTTTTATCTTGAAGTCATCTTGACCAAGAAGAGATACGGTGCT  TGCCGGTA   TCAGTGACGAAGGTG  GTTGCTCCAAACATT     TGCTGAAGGAAGC TTGGACTTGATTGTTGACGCC TCGTCGTGAGTAGCGAACCGTAAGCAAGA\n",
      "      ||||||||   ||||||••|||||||||||||•|  |  ||||  ••|•||||||||| | ||||||||||||||||||||||||  ||||||||   ||•||||||||||||  |||||||||||||||     •|||||| ||||| ||||||||||||||||||||| |||||||||||||•|||||||||||||||\n",
      "Ref:  AAGACCTTCGCTGAAGCCATGAGAATTGGTTCCGAAGTTTACC  ACAACTTGAAGTC T TTGACCAAGAAGAGATACGGTGCTTCTGCCGGTAACGTCGGTGACGAAGGTGGTGTTGCTCCAAACATTCAAACCGCTGAA GAAGCTTTGGACTTGATTGTTGACGCCATCGTCGTGAGTAGTGAACCGTAAGCAAGA\n",
      "\n",
      "Read: GAAGAGTGACCT    AGCTCAGCTAATCGTCCGTGCTGTGCTGTGCTGT\n",
      "      ||||||••••••    ||||||||||||||||||||||||||||||||||\n",
      "Ref:  GAAGAGNNNNNNNNTCAGCTCAGCTAATCGTCCGTGCTGTGCTGTGCTGT\n",
      "\n",
      "read_id=fbad778a-1b93-416c-80a9-280b6acc5d08; assignment=60\n",
      "\n",
      "Read: GGTAAGGGTGTTATGAACGTTGTTCAACAACGTCATCAACGTCATTGCTGCTGCTTTGCTT  AGGCCAACCTAGATGTTAAGGACCATCAAAGGCCGTCGATGACTTCTTGTTGTC TTGGATGGTACCGCCATATAAGTCCAAGTT  GTGCTATCGCTATCTTGGGTGTCTCCATGGCCGCTATAAGAGCCGCTGCT\n",
      "      |||||||||||||||||||•|| ||||||||||||•||||||||||||||||||||| |•|  |||||||||||||||||||||||||  ||||||||||||||||||||||||||| |||||||||||||||| |•|||||||||||  ||||||•||||||||||||||||||||||||||||•••||||||||||||\n",
      "Ref:  GGTAAGGGTGTTATGAACGCTG TCAACAACGTCAACAACGTCATTGCTGCTGCTTT CGTCAAGGCCAACCTAGATGTTAAGGACCA  AAAGGCCGTCGATGACTTCTTGTTGTCTTTGGATGGTACCGCCA ACAAGTCCAAGTTGGGTGCTAACGCTATCTTGGGTGTCTCCATGGCCGCTGCTAGAGCCGCTGCT\n",
      "\n",
      "Read: GCTGAAAAGAACGTCCC  TGTACCAACATTTGGCTGACTTGTCT AGTCC AGTCCACTTCCATTCGTCTTGCCAGTTCCA ACTTGAACGTTTTGAACGGTGGTTCCTCCGCTGGTGGTGCTCTAAGGGCTCTTGCCAAGAA TCATGATTG  CCAACT GTGCTAAGACCT   CTGAAGCCGCAAGAATTGGTTC\n",
      "      |||||||||||||||||  |||||||||||||||||||||||||| ||||| ||•||•| |||||•|||•|||||||||||| •|||||||||||||||||||||||||••|||||||||||||•|   |||| ||| |||||| |||||||||  |||||| ||||||||||||   ||||||||•••|||||||||||\n",
      "Ref:  GCTGAAAAGAACGTCCCATTGTACCAACATTTGGCTGACTTGTCTAAGTCCAAGACCTC TCCATACGTTTTGCCAGTTCCATTCTTGAACGTTTTGAACGGTGGTTCCCACGCTGGTGGTGCTTT   GGCT TTG CAAGAATTCATGATTGCTCCAACTGGTGCTAAGACCTTCGCTGAAGCCATGAGAATTGGTTC\n",
      "\n",
      "Read: CGAAGTTTTAC  CAACTTGAAGAAGTCTTCTGACTCAAGAAGAGATACAGTGCTTCTGTCAGTATTATGCTTAGGTGACG AGGTGGTGGCTGCTCCAAAACATTCAAACCGTTGAAGAAGCTTTGGACTTGATTGTTGACGCCATCGTC TGAGTAGTGAACCGTAAGCAAGA    AGTTTGGATCT AGCTCAGCA\n",
      "      ||||| |||||  ||||||   |||||||| |||| |||||||||||||•|||||||||•|•|||  |  |•|•||||||| ||||||| |•|||||| ||||||||||||||•||||||||||||||||||||||||||||||||||||| |||||||||||||||||||||||    ||••••••••| |||||||||\n",
      "Ref:  CGAAG TTTACCACAACTT   GAAGTCTT TGAC CAAGAAGAGATACGGTGCTTCTGCCGGTA  A  CGTCGGTGACGAAGGTGGT GTTGCTCC AAACATTCAAACCGCTGAAGAAGCTTTGGACTTGATTGTTGACGCCATCGTCGTGAGTAGTGAACCGTAAGCAAGAGAAGAGNNNNNNNNTCAGCTCAGCA\n",
      "\n",
      "Read: AGAGGA GGTGCTGTGCTGTGCTGTGCT\n",
      "      |||||| |||||||||||||||||||||\n",
      "Ref:  AGAGGAGGGTGCTGTGCTGTGCTGTGCT\n",
      "\n",
      "read_id=9527a547-442b-4a7e-89ff-dbb0cfa7468d; assignment=15\n",
      "\n",
      "Read: AGATTGTGTTTGGTTAGTCGCTGTAGATGGGTAAGGGTGTTATGAACGTTGTCAACAACGTCAACAACGTCATTGCTGCTGCTTTCGTCAAGGCCAACCTAGATGTTAAGGACCAAAAGGCCGTCGATGACTTCTTGTTGTC TTGGATGGTACCGCCAACAAGTCCAAGTTGGGTGCTAACGCTATCTTTGGGTGTCTC\n",
      "      ||||||||||| ||||||||||||•|||||||||||||||||||||||•||||||||||||||||||||||||||||||||||||||||||||||||||||||||||||||||||||||||||||||||||||||||||||| ||||||||||||||||||||||||||||||||||||||||||||| |||||||||||\n",
      "Ref:  AGATTGTGTTT GTTAGTCGCTGTGGATGGGTAAGGGTGTTATGAACGCTGTCAACAACGTCAACAACGTCATTGCTGCTGCTTTCGTCAAGGCCAACCTAGATGTTAAGGACCAAAAGGCCGTCGATGACTTCTTGTTGTCTTTGGATGGTACCGCCAACAAGTCCAAGTTGGGTGCTAACGCTATC TTGGGTGTCTC\n",
      "\n",
      "Read: CATGGCCGCTGCTAGAGCCGCTGCTGCTGAAAAGAACGTCCCATTGT  C  CATTTGGCTGACTTGTCTAAGTCCAAGACCTCACCTCCATACGTTTTGCCAGTTCCA ACATGAACG TTTGAACGGTGGTTCCCACGCTGGTGGTGCTTTGGCTTTGCAAGAATCTCATGATTGCTCCAACT GTGCTAAGACC TC\n",
      "      |||||||||||||||||||||||||||||||||||||||||||||||  |  |||||||||||||||||||||||||||||||   ||||||||||||||||||||||| •|•|||||| ||||||||||||||||||||||||||||||||||||||||||||||| ||||||||||||||||| ||||||||||| ||\n",
      "Ref:  CATGGCCGCTGCTAGAGCCGCTGCTGCTGAAAAGAACGTCCCATTGTACCAACATTTGGCTGACTTGTCTAAGTCCAAGACCT   CTCCATACGTTTTGCCAGTTCCATTCTTGAACGTTTTGAACGGTGGTTCCCACGCTGGTGGTGCTTTGGCTTTGCAAGAAT TCATGATTGCTCCAACTGGTGCTAAGACCTTC\n",
      "\n",
      "Read: GCTGAAGCTTAAAGAATTGGTTCCGAAGTTTACCACAACTTGAAGTCACTGACCAAGA  AGAT  GGTGCTTCTGCCGGTAACGTCGGTGACGAAGGTGGTGTTGCTCCAAACACACTTCAAACTGCTGAAGAAGCTTTGGACTTGATTGTTGACGCCATCGTCGTGGGTAGTGAACCGTAAGCAAGAAGAAGAG  CT\n",
      "      ||||||||••••|||||||||||||||||||||||||||||||||||••|||||||||  ||||  |||||||||||||||||||||||||||||||||||||||||||||||||   |||||||•||||||||||||||||||||||||||||||||||||||||||•||||||||||||||||||| |||||||  ••\n",
      "Ref:  GCTGAAGCCATGAGAATTGGTTCCGAAGTTTACCACAACTTGAAGTCTTTGACCAAGAAGAGATACGGTGCTTCTGCCGGTAACGTCGGTGACGAAGGTGGTGTTGCTCCAAACA   TTCAAACCGCTGAAGAAGCTTTGGACTTGATTGTTGACGCCATCGTCGTGAGTAGTGAACCGTAAGCAAG AGAAGAGNNNN\n",
      "\n",
      "Read: GTGTTCAGCTCAGCCCTTCTAGGGTGCTGTGCTGTGCTGT\n",
      "      ••••||||||||||||||||||||||||||||||||||||\n",
      "Ref:  NNNNTCAGCTCAGCCCTTCTAGGGTGCTGTGCTGTGCTGT\n",
      "\n",
      "read_id=9319ef24-d0f3-4d8e-a105-3718d1e1e5a8; assignment=10\n",
      "\n",
      "Read: CAGATTGTGTTTGTTAGTCGTTGTGGATGGGTAAGGGTGTTTCTG  CGCTGCTAAGAACGTCAACGACGACATTGC CCAGC TTCGTTAAGGCTAACATTGATGTTAAGGACCAAAAGGCCGTCGATGACTTCTTGATTTCTTTGGACGGTACTGCC ATAA TCC AGTTGGGTGCTAACGAATTAT TTGGGGGTG\n",
      "      ||||||||||||||||||||•|||||||||||||||||| ||•||  |||||••||•|||||||||•|||•|||||| •|•|| |||||•|||||•|||•|•||||||||||||||||||||||||||||||||||||•|•||||||||•|||||•||| |•|| ||| |||||||||||||||  •||| ||  |||||\n",
      "Ref:  CAGATTGTGTTTGTTAGTCGCTGTGGATGGGTAAGGGTG TTATGAACGCTGTCAACAACGTCAACAACGTCATTGCTGCTGCTTTCGTCAAGGCCAACCTAGATGTTAAGGACCAAAAGGCCGTCGATGACTTCTTGTTGTCTTTGGATGGTACCGCCAACAAGTCCAAGTTGGGTGCTAACG  CTATCTT  GGGTG\n",
      "\n",
      "Read: TTTCACTGG CAAT CCAGAGCTCTGCCGCTGCTGAAAAGAATGTCCCATTATACAAGCACTTGGCTGACTTGTCTAAGTCCACCAAGACCTTACACCT CATACG TTTGCCAGTTCCATTCTTGAACG TTTGAACGGTGGTTCC  CGCTGGTGGTGCTTTGGCTTTGCAAGAATTCATGATTGCTTCAACTGGTGC\n",
      "      |•||••||| |••| |•||||| | ||•||||||||||||||•||||||||•|||•|•||•|||||||||||||||||||   |||||||||     || |||||| ||||||||||||||||||||||| ||||||||||||||||  ||||||||||||||||||||||||||||||||||||||||•||||||||||\n",
      "Ref:  TCTCCATGGCCGCTGCTAGAGC C GCTGCTGCTGAAAAGAACGTCCCATTGTACCAACATTTGGCTGACTTGTCTAAGT   CCAAGACCT     CTCCATACGTTTTGCCAGTTCCATTCTTGAACGTTTTGAACGGTGGTTCCCACGCTGGTGGTGCTTTGGCTTTGCAAGAATTCATGATTGCTCCAACTGGTGC\n",
      "\n",
      "Read: TAAGACC TCATTGAAGCCATGAGAATTGG TCCGAAG     CTCTATTTGAAG  TTTGACCAAGAAGAGATACGGTG   CTGCCGGTAACGTCGGTGACGAAGGTGGTGTTGCTCCAAACATT    TCGCT   GAAGC TTGGACTTGATTGTTGATGCCATCGT TTGACTGGTGAACCAGT   C   AGAA\n",
      "      ||||||| ||••|||||||||||||||||| |||||||     |•|•|•||||||  |||||||||||||||||||||||   ||||||||||||||||||||||||||||||||||||||||||||    •||||   ||||| |||||||||||||||||•|||||||| •|||•|•||||||| ||   |   ||||\n",
      "Ref:  TAAGACCTTCGCTGAAGCCATGAGAATTGGTTCCGAAGTTTACCACAACTTGAAGTCTTTGACCAAGAAGAGATACGGTGCTTCTGCCGGTAACGTCGGTGACGAAGGTGGTGTTGCTCCAAACATTCAAACCGCTGAAGAAGCTTTGGACTTGATTGTTGACGCCATCGTCGTGAGTAGTGAACC GTAAGCAAGAGAA\n",
      "\n",
      "Read: GAG CCCTCGTTCAGCTCAGCTAATCGTCCGTGCTGTGCTGTGCTGTGCT\n",
      "      ||| •••••••|||||||||||||||||||||||||||||||||||||||\n",
      "Ref:  GAGNNNNNNNNTCAGCTCAGCTAATCGTCCGTGCTGTGCTGTGCTGTGCT\n",
      "\n",
      "read_id=1b185f43-eed5-4798-a84a-60f3f43628ad; assignment=60\n",
      "\n",
      "Read: TGTTTGTTAGTCGCTGTGGATGGGTAAGGGTGTTTTGCACGCTGTTAAGAACGTATGACGACAAC     TGCCCCAGCTTTCGTTAAGGCTAA CT GATGTTAAGGGACTTAAAGGC   CGATGAC TCTTG    ATTTGGACGGTACTACTATCCAAATCCAAGTTGGG   TAAC   AACTT GGTGTTTCC \n",
      "      ||||||||||||||||||||||||||||||||||•||•|||||||•||•|||||    |•|||||     |||••|•||||||||•|||||•|| || |||||||| ||||••||||||   ||||||| |||||    •||||||•|||||••|•| •|||•|||||||||||   ||||   |•||| |||||•||| \n",
      "Ref:  TGTTTGTTAGTCGCTGTGGATGGGTAAGGGTGTTATGAACGCTGTCAACAACGT    CAACAACGTCATTGCTGCTGCTTTCGTCAAGGCCAACCTAGATGTTAA GGACCAAAAGGCCGTCGATGACTTCTTGTTGTCTTTGGATGGTACCGCCA ACAAGTCCAAGTTGGGTGCTAACGCTATCTTGGGTGTCTCCA\n",
      "\n",
      "Read: T GTCGCAATGATTAGA ACGCTGCTGCTGAAAAGAACGTCCCATTGTACC AC TTTGGCTGATCACTGTC AAGTCCAAG     TCCGT CGCTTTGCCAGGTTCCATTTTTGAACGTTTTGAACGGTGGTTCC  CGCT GAAGTG TTT GC TTGCTAGAA TCATGACT ATCCAACTGGTG TTAGACCTTT\n",
      "      | |•|||  || •|||| •|||||||||||||||||||||||||||||||| || ||||||||| | •|||| |||||||||     |||•| ||•||||||| ||||||||•||||||||||||||||||||||||  |||| |••||| ||| || ||||•|||| ||||||•| •||||||||||| |•||||| ||\n",
      "Ref:  TGGCCGC  TG CTAGAGCCGCTGCTGCTGAAAAGAACGTCCCATTGTACCAACATTTGGCTGA C TTGTCTAAGTCCAAGACCTCTCCATACGTTTTGCCA GTTCCATTCTTGAACGTTTTGAACGGTGGTTCCCACGCTGGTGGTGCTTTGGCTTTGCAAGAATTCATGATTGCTCCAACTGGTGCTAAGACC TT\n",
      "\n",
      "Read: CAACTGAAGCCATGAGAATTGGTTCCTAAGTTTACCACAACT  AAGACCACTGACCAAGAAGAGA ACGGTG TTCTGCCAGTAACGTTCGGTGACGAAGGTGGTGTTGCTCCAAAC  TCGTTC  TTGAAGAAGC TAGTA TTGATTGCTGA  CCACCGT TTGAGTAGTGA    T TGCAAGAGAAGAGTGTA\n",
      "      | •|||||||||||||||||||||||•|||||||||||||||  ||| •|••|||||||||||||| |||||| |||||||•|||||| |||||||||||||||||||||||||||||  ||•••|  •||||||||| |•|•| |||||||•|||  |||•||| •||||||||||    | •||||||||||||••••\n",
      "Ref:  C GCTGAAGCCATGAGAATTGGTTCCGAAGTTTACCACAACTTGAAG TCTTTGACCAAGAAGAGATACGGTGCTTCTGCCGGTAACG TCGGTGACGAAGGTGGTGTTGCTCCAAACATTCAAACCGCTGAAGAAGCTTTGGACTTGATTGTTGACGCCATCGTCGTGAGTAGTGAACCGTAAGCAAGAGAAGAGNNNN\n",
      "\n",
      "Read: GTCATCAGCTCAGCAAGAGGAGGGTGC   GCTGTGCTGTGCT\n",
      "      ••••|||||||||||||||||||||||   |||||||||||||\n",
      "Ref:  NNNNTCAGCTCAGCAAGAGGAGGGTGCTGTGCTGTGCTGTGCT\n",
      "\n",
      "read_id=05420844-0db9-4e16-a715-55d244e91280; assignment=10\n",
      "\n",
      "Read: AGATTGTGTCTTGTTATGGT ACAATGGATGAAGGTAAGGGTGTTTTCTGCACTGTTAAGAACGTCAACGATGTCATTGCCCCAGCTTTCGCTAAGGCTAACATTGATGTTCA GACCAAAAAGGCCGTCGATGA   CTTG TGTC  TGGATGGT CCGCCATCGAGTCCAAGTTGGGTGCTAACGCTATCTTGGGTG\n",
      "      ||||||||| ||||||  || •|••||||||  ||||||||||||•|•••|•||||•||•|||||||||•|•||||||||••|•|||||||••|||||•|||•|•||||||•| |||| ||||||||||||||||   |||| ||||  |||||||| ||||||•|•|||||||||||||||||||||||||||||||||\n",
      "Ref:  AGATTGTGT TTGTTA  GTCGCTGTGGATG  GGTAAGGGTGTTATGAACGCTGTCAACAACGTCAACAACGTCATTGCTGCTGCTTTCGTCAAGGCCAACCTAGATGTTAAGGACC AAAAGGCCGTCGATGACTTCTTGTTGTCTTTGGATGGTACCGCCAACAAGTCCAAGTTGGGTGCTAACGCTATCTTGGGTG\n",
      "\n",
      "Read: T TCCATGGCCGCTGCTAGAGCCGTTGTTGCTGAAAAGAACGTCCCATATGGTACCAAC   TGGCTGACTTGTC AAGTCC AGACC CACCCTACGTTTTGCCAGTTCCATT TTGAACGTCTTTTGAACGGTGGTTCCCACGCTGTTGGTGTTTATGGCTTTGCAAGAATTCGTGATTGCTCCAACTGGTGCTAAGA\n",
      "      | ||||||||||||||||||||||•||•|||||||||||||||||||| | ||||||||   ||||||||||||| |||||| ||||| |•||•|||||||||||||||||||| |||||||  ||||||||||||||||||||||||•|||||•|| |||||||||||||||||•||||||||||||||||||||||||\n",
      "Ref:  TCTCCATGGCCGCTGCTAGAGCCGCTGCTGCTGAAAAGAACGTCCCAT T GTACCAACATTTGGCTGACTTGTCTAAGTCCAAGACCTCTCCATACGTTTTGCCAGTTCCATTCTTGAACG  TTTTGAACGGTGGTTCCCACGCTGGTGGTGCTT TGGCTTTGCAAGAATTCATGATTGCTCCAACTGGTGCTAAGA\n",
      "\n",
      "Read: CCCTTCGCTGAAGCCATGAAAGAATTGGTTCGG     TA CACAACTTGAAGTTCTTTGACCAAGAAGAGATACGGTGC TCTGCCAGTAACGTCGGTGAAGACGAAGGTGGTGTTGCACCGAACATTCAAACCGCTGAAGAAGCTTTGGAC TGATATG CGGTGCCATCGTCGTGAGTGATGATTCGTAAGCAAGA \n",
      "       |||||||||||||||||  |||||||||||•|     || |||||||||||| |||||||||||||||||||||||||| ||||||•|||||||||||   |||||||||||||||||•||•|||||||||||||||||||||||||||||| |||| || •|••|||||||||||||||••|||••||||||||||| \n",
      "Ref:   CCTTCGCTGAAGCCATG  AGAATTGGTTCCGAAGTTTACCACAACTTGAAG TCTTTGACCAAGAAGAGATACGGTGCTTCTGCCGGTAACGTCGGT   GACGAAGGTGGTGTTGCTCCAAACATTCAAACCGCTGAAGAAGCTTTGGACTTGAT TGTTGACGCCATCGTCGTGAGTAGTGAACCGTAAGCAAGAG\n",
      "\n",
      "Read:    AGACAAAGATTCAGCTCAGCTAATCGTCCGTCGTGTGCTGTGCTGTGCT\n",
      "         ||••••••••|||||||||||||||||||||••||||||||||||||||\n",
      "Ref:  AAGAGNNNNNNNNTCAGCTCAGCTAATCGTCCGTGCTGTGCTGTGCTGTGCT\n",
      "\n",
      "read_id=280f5bea-812b-405d-8c36-01678feddff4; assignment=10\n",
      "\n",
      "Read: TGTTTGTTAGTCGCTGTGG TGAAGGTAA       AGGAACGATGTC    ACGTACATTATTGTCATTGCTATTATTGCTTT GCCAAGGGCCAACCAAGATGTTTAGGACC TTAGGCCTGTCGACATGATTTTCTTGTTGTC TTAGATAGTACCGCCAACAAGTCCAAGTT GGTGCTA    TATCTTGGGTGC\n",
      "      ||||||||||||||||||| ||  |||||       |•|||||•||||    |||| ||••|••||||||||   |••|||||| |•||| ||||||||•|||||||•|||||| ••||||| ||||  |||| •||||||||||| ||•|||•|||||||||||||||||||||| |||||||    ||||||||||  \n",
      "Ref:  TGTTTGTTAGTCGCTGTGGATG  GGTAAGGGTGTTATGAACGCTGTCAACAACGT CAACAACGTCATTGC   TGCTGCTTTCGTCAA GGCCAACCTAGATGTTAAGGACCAAAAGGCC GTCG  ATGA CTTCTTGTTGTCTTTGGATGGTACCGCCAACAAGTCCAAGTTGGGTGCTAACGCTATCTTGGGT  \n",
      "\n",
      "Read: GGT TCCATGGCCGCTGCTGAGAGCCATTGCTGCTGAAAAGAACGTCCCATTGGTACCAACATTTGGCAG TTTGTCT AGTCCAAGACCTCTCCATATACG  TTGCCAGTTCCTACTCTTTGAACGTTCTTTGAACTATGGGTGGTTTCC CGCTGGTGGGTGCTTGAGGAC    CACGAGAA TCATGATTGCTCC\n",
      "       || ||||||||||||||| ||||||••|||||||||||||||||||||||| |||||||||||||||•| •|||||| ||||||||||||||||  |||||  ||||||||||| |•|| ||||||||  |||||||    |||||||•|| ||||||| ||||||| •|| |    ||  |||| |||||||||||||\n",
      "Ref:   GTCTCCATGGCCGCTGCT AGAGCCGCTGCTGCTGAAAAGAACGTCCCATT GTACCAACATTTGGCTGACTTGTCTAAGTCCAAGACCTCTCC  ATACGTTTTGCCAGTTCC ATTC TTGAACGT  TTTGAAC    GGTGGTTCCCACGCTGGT GGTGCTT TGG CTTTGCA  AGAATTCATGATTGCTCC\n",
      "\n",
      "Read: TCATTAGTGCTAAAGACCTTC CTTTTGAAGCTTTTGAGAATTGGT  C AAGT    CACTCCTCTGAAGTCTTGGTACCGAGA  AGATACAGTGCTT TGCCGTGGTAACGCTAGTGACGAAAGGTGGTGTTGCTCCAAACATT        TGAAGGAAGCTTTAGACTCGATTGTTGACGCCATCGTCGTGAGTA\n",
      "       •|•|•||||| ||||||||| |   |||||| ••|||||||||||  | ||||    |||••|| |||||||||•| |||•|||  ||||||•|||||| ||||  |||||||•••|||||| |||||||||||||||||||||||        |||| ||||||||•||||•||||||||||||||||||||||||||\n",
      "Ref:   AACTGGTGCT AAGACCTTCGC   TGAAGC CATGAGAATTGGTTCCGAAGTTTACCACAACT TGAAGTCTTTG ACCAAGAAGAGATACGGTGCTTCTGCC  GGTAACGTCGGTGACG AAGGTGGTGTTGCTCCAAACATTCAAACCGCTGAA GAAGCTTTGGACTTGATTGTTGACGCCATCGTCGTGAGTA\n",
      "\n",
      "Read: GTGAACCGTTGAGCAAGAG      CTAGACTTCAGCTCAGCTAATCGTCCGCGCTTGTGCTGTGCTGTG\n",
      "      |||||||| |•||||||||      •••••••||||||||||||||||||||•|| ||||||||||||||\n",
      "Ref:  GTGAACCG TAAGCAAGAGAAGAGNNNNNNNNTCAGCTCAGCTAATCGTCCGTGC TGTGCTGTGCTGTG\n",
      "\n",
      "read_id=5f689877-6f78-44cf-b408-a4c1a572783d; assignment=60\n",
      "\n",
      "Read: CAGATTGTGTTTGTTAGTCGCTGT GACGGGTAAGGGTGTTATGAACGTTG CAACAAC AC GCAACGTCATTGCTGCTGCTTT GTCAAGGCCAACCTAGAT TT   GA CTAAAGGCCGTCGATGACTTCTTGTTG CTTTGGATGGTACCGCCAACAAGTCCAAGTTGGGGGTTTAACGTTATTCTTGGGTGT T\n",
      "      |||||||||||||||||||||||| ||•||||||||||||||||||||•|| ||||||| •| •||||||||||||||||||||| |||||||||||||||||| ||   || |•||||||||||||||||||||||||| ||||||||||||||||||||||||||||||||||•| •|||||•|| |||||||||| |\n",
      "Ref:  CAGATTGTGTTTGTTAGTCGCTGTGGATGGGTAAGGGTGTTATGAACGCTGTCAACAACGTCAACAACGTCATTGCTGCTGCTTTCGTCAAGGCCAACCTAGATGTTAAGGACCAAAAGGCCGTCGATGACTTCTTGTTGTCTTTGGATGGTACCGCCAACAAGTCCAAGTTGGGTG CTAACGCTA TCTTGGGTGTCT\n",
      "\n",
      "Read: CCATGGCCGCTGCTAGAGCCGCTGTTGCTGAAAAGAACGTCCCATTGTACCAACATTTGGCTGACTTGTCTAAGTCCAAGACCTCTCCATACGTTCTGCCAGTTCCATTCTTGAACGTTTTGAACGGTGGTTCCCACGCTGGTGGTGCTTTAGCTTTGCAAGAATTCATGATTGCTCCAACT GTGCTAAGACC TCGCT\n",
      "      ||||||||||||||||||||||||•||||||||||||||||||||||||||||||||||||||||||||||||||||||||||||||||||||||•|||||||||||||||||||||||||||||||||||||||||||||||||||||||•|||||||||||||||||||||||||||||| ||||||||||| |||||\n",
      "Ref:  CCATGGCCGCTGCTAGAGCCGCTGCTGCTGAAAAGAACGTCCCATTGTACCAACATTTGGCTGACTTGTCTAAGTCCAAGACCTCTCCATACGTTTTGCCAGTTCCATTCTTGAACGTTTTGAACGGTGGTTCCCACGCTGGTGGTGCTTTGGCTTTGCAAGAATTCATGATTGCTCCAACTGGTGCTAAGACCTTCGCT\n",
      "\n",
      "Read: GAAGCCATGAGAATTGGTTCCG AGTCTTACACCACAACTTGAAGTCTTTGACCAAGAAGAGA ACGGTGCT  TGCCGGTAACGTCGGTGACGAAGGTGGTGTTGCTCCAAA    CAAACCGCTGAAGAAGCTTTGGACTTGATTGTTGACGCCAT GTCGTGAGTAGTGAA CAT GGCAAGAGAAGAGCTATCCCC\n",
      "      |||||||||||||||||||||| ||| ||  |||||||||||||||||||||||||||||||| ||||||||  |||||||||||||||||||||||||||||||||||||||    ||||||||||||||||||||||||||||||||||||||||| ||||||||||||||| |•| •||||||||||||••••••••\n",
      "Ref:  GAAGCCATGAGAATTGGTTCCGAAGT TT  ACCACAACTTGAAGTCTTTGACCAAGAAGAGATACGGTGCTTCTGCCGGTAACGTCGGTGACGAAGGTGGTGTTGCTCCAAACATTCAAACCGCTGAAGAAGCTTTGGACTTGATTGTTGACGCCATCGTCGTGAGTAGTGAACCGTAAGCAAGAGAAGAGNNNNNNNN\n",
      "\n",
      "Read: TCAGCTCAGCAAGAGGAGGGTGCTGTGCTGTGCTGTGCT\n",
      "      |||||||||||||||||||||||||||||||||||||||\n",
      "Ref:  TCAGCTCAGCAAGAGGAGGGTGCTGTGCTGTGCTGTGCT\n",
      "\n",
      "read_id=0df99adb-6fe5-4c47-a7b5-86745b99a933; assignment=15\n",
      "\n",
      "Read: AGATTGTGTCTTGTTAGTCGCTGTGGTAT GGCAA GGTGTTTTGCACG TGTTAAGAACGTCAACGATGTCATTGC CCAGCTTTC TCAAGG CAACATTGATGTTAAGGACCAAAAGGCCGT GATGAC TCTTGATTTCTT  GACGGTACTGCCAACAAATCCAAGACTGGG   TAA  CTAT TT  GT TTT\n",
      "      ||||||||| |||||||||||||||| || ||•|| ||||||•||•||| |||•||•|||||||||•|•|||||||| •|•|||||| |||||| ||||•|•||||||||||||||||||||||| |||||| |||||•|•||||  ||•|||||•||||||||•|||||| •||||   |||  |||| ||  || |•|\n",
      "Ref:  AGATTGTGT TTGTTAGTCGCTGTGG ATGGGTAAGGGTGTTATGAACGCTGTCAACAACGTCAACAACGTCATTGCTGCTGCTTTCGTCAAGGCCAACCTAGATGTTAAGGACCAAAAGGCCGTCGATGACTTCTTGTTGTCTTTGGATGGTACCGCCAACAAGTCCAAG TTGGGTGCTAACGCTATCTTGGGTGTCT\n",
      "\n",
      "Read:    TGGCTGCT CCAGAGCATGCCG TGCTGAAAAGAATGTCCCAT  TATCAAGCACTTGGCTGACTTG CTTAGTCCAAGA   CACCA ACG  TTGCCAGTTCCATT TTGAACGTTCTGAACGGTGG TCCCACAATTGGTGGTGCTTTGGCTTTGCAAGAATCTATGATTGCTCC ATTGGTG TAAGACCTT \n",
      "         ||||•||| |•||||| •||•| ||||||||||||•|||||||  ||•||| ||•|||||||||||| ||•|||||||||   |•||| |||  |||||||||||||| |||||||||•|||||||||| |||||| ••||||||||||||||||||||||||||••||||||||||| |•||||| ||||||||| \n",
      "Ref:  CCATGGCCGCTGCTAGAGC CGCTGCTGCTGAAAAGAACGTCCCATTGTACCAA CATTTGGCTGACTTGTCTAAGTCCAAGACCTCTCCATACGTTTTGCCAGTTCCATTCTTGAACGTTTTGAACGGTGGTTCCCAC GCTGGTGGTGCTTTGGCTTTGCAAGAATTCATGATTGCTCCAACTGGTGCTAAGACCTTC\n",
      "\n",
      "Read:  CTGA   C TGAGAATTGGTT CG AGTTT       CTTGAAGTCTTTGACC TGA  AGATACGGTG  TCTGCCGGTAACGTCGGTGACGTAAGGTGGTGTTGCTCCAAAC TTCAAACCGCTG       TTTGGACTTGATTGTTGACGC   CGCCGTGAGTAGTGAACC       A AGAAGTGGCACAAG\n",
      "       ||||   | |||||||||||| || |||||       |||||||||||||||| •||  ||||||||||  |||||||||||||||||||||| |||||||||||||||||||| ||||||||||||       |||||||||||||||||||||   ||•|||||||||||||||       | |||||•|•••••••\n",
      "Ref:  GCTGAAGCCATGAGAATTGGTTCCGAAGTTTACCACAACTTGAAGTCTTTGACCAAGAAGAGATACGGTGCTTCTGCCGGTAACGTCGGTGACG AAGGTGGTGTTGCTCCAAACATTCAAACCGCTGAAGAAGCTTTGGACTTGATTGTTGACGCCATCGTCGTGAGTAGTGAACCGTAAGCAAGAGAAGAGNNNNNNN\n",
      "\n",
      "Read: TTCAGCTTCAG CCTTCTA GGTGCTGTG TGTGCT\n",
      "      •||||| |||| ||||||| ||||||||| ||||||\n",
      "Ref:  NTCAGC TCAGCCCTTCTAGGGTGCTGTGCTGTGCT\n"
     ]
    }
   ],
   "source": [
    "dRNA.print_alignments(50,\n",
    "                      constrict_to_width=200,\n",
    "                      select_assignment=None,\n",
    "                      select_with_head=False,\n",
    "                      additional_filtering_query=\"perfect_barcode == True\")"
   ],
   "metadata": {
    "collapsed": false
   }
  },
  {
   "cell_type": "code",
   "execution_count": 73,
   "outputs": [],
   "source": [
    "plot_df = dRNA.hit_df.sort_values(\"assignment\")  #[dRNA.hit_df.perfect_barcode]\n",
    "fig = px.box(plot_df,\n",
    "             x='assignment',\n",
    "             y='r_en',\n",
    "             range_y=[642,665],\n",
    "             # points=\"outliers\",\n",
    "             )\n",
    "fig.update_layout(height=500, width=700)\n",
    "fig.add_hline(662)\n",
    "fig.show(renderer=\"firefox\")"
   ],
   "metadata": {
    "collapsed": false
   }
  },
  {
   "cell_type": "code",
   "execution_count": 69,
   "outputs": [
    {
     "data": {
      "text/plain": "(44209, 19)"
     },
     "execution_count": 69,
     "metadata": {},
     "output_type": "execute_result"
    }
   ],
   "source": [
    "dRNA.hit_df.shape"
   ],
   "metadata": {
    "collapsed": false
   }
  },
  {
   "cell_type": "code",
   "execution_count": 70,
   "outputs": [
    {
     "data": {
      "text/plain": "(208876, 19)"
     },
     "execution_count": 70,
     "metadata": {},
     "output_type": "execute_result"
    }
   ],
   "source": [
    "nano3P.hit_df.shape"
   ],
   "metadata": {
    "collapsed": false
   }
  },
  {
   "cell_type": "code",
   "execution_count": 72,
   "outputs": [],
   "source": [
    "nano3P_groupby = nano3P.df.groupby(\"assignment\")\n",
    "dRNA_groupby = dRNA.df.groupby(\"assignment\")\n",
    "# Make a groupby, get counts for perfect barcodes and total counts\n",
    "# Merge those by assignment\n",
    "# Plot those as X and Y axes"
   ],
   "metadata": {
    "collapsed": false
   }
  },
  {
   "cell_type": "code",
   "execution_count": null,
   "outputs": [],
   "source": [],
   "metadata": {
    "collapsed": false
   }
  }
 ],
 "metadata": {
  "kernelspec": {
   "display_name": "Python 3",
   "language": "python",
   "name": "python3"
  },
  "language_info": {
   "codemirror_mode": {
    "name": "ipython",
    "version": 2
   },
   "file_extension": ".py",
   "mimetype": "text/x-python",
   "name": "python",
   "nbconvert_exporter": "python",
   "pygments_lexer": "ipython2",
   "version": "2.7.6"
  }
 },
 "nbformat": 4,
 "nbformat_minor": 0
}
