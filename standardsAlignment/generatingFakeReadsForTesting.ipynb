{
 "cells": [
  {
   "cell_type": "markdown",
   "source": [
    "# generatingFakeReadsForTesting.ipynb\n",
    "## Marcus Viscardi,    September 02, 2022\n",
    "\n",
    "I want to try and do some simple read generation with just text \"parsing\" and the expected read sequences\n",
    "\n",
    "The main goal would be to make a simple function that could take an expected read sequence identity and then spit out a crapload of altered reads that could be used for testing and such!"
   ],
   "metadata": {
    "collapsed": false,
    "pycharm": {
     "name": "#%% md\n"
    }
   }
  },
  {
   "cell_type": "code",
   "execution_count": 1,
   "outputs": [
    {
     "name": "stdout",
     "output_type": "stream",
     "text": [
      "imports done\n"
     ]
    }
   ],
   "source": [
    "import mappy as mp\n",
    "from pprint import pprint\n",
    "import pandas as pd\n",
    "from tqdm import tqdm\n",
    "from typing import Union, List\n",
    "from nanoporePipelineCommon import find_newest_matching_file, pick_libs_return_paths_dict, get_dt\n",
    "\n",
    "pd.set_option(\"display.max_columns\", None)\n",
    "print(\"imports done\")"
   ],
   "metadata": {
    "collapsed": false,
    "pycharm": {
     "name": "#%%\n"
    }
   }
  },
  {
   "cell_type": "code",
   "execution_count": 8,
   "metadata": {
    "collapsed": true,
    "pycharm": {
     "name": "#%%\n"
    }
   },
   "outputs": [],
   "source": [
    "finalStandards_dict = {}\n",
    "for read_id, sequence, quality, comments in mp.fastx_read(\"/data16/marcus/scripts/nanoporePipelineScripts/standardsAlignment/220902_version2.0_releventSequences.fasta\", read_comment=True):\n",
    "    if \"finalStandard\" in read_id:\n",
    "        finalStandards_dict[read_id] = (sequence, comments)"
   ]
  },
  {
   "cell_type": "code",
   "execution_count": 12,
   "outputs": [
    {
     "name": "stdout",
     "output_type": "stream",
     "text": [
      "ENO2_finalStandard_00Tail\n",
      "     662bp 662\n",
      "ENO2_finalStandard_05Tail\n",
      "     667bp 667\n",
      "ENO2_finalStandard_10Tail\n",
      "     672bp 672\n",
      "ENO2_finalStandard_15Tail\n",
      "     677bp 677\n",
      "ENO2_finalStandard_30Tail\n",
      "     692bp 692\n",
      "ENO2_finalStandard_60Tail\n",
      "     722bp 722\n"
     ]
    }
   ],
   "source": [
    "def sequence_subindel_creater(seq,\n",
    "                              insert_prob=0.01,\n",
    "                              delete_prob=0.01,\n",
    "                              sub_prob=0.05) -> str:\n",
    "    # TODO: Add ability to output multiple sequences\n",
    "    # TODO: Add adjustable propensity to truncate reads!\n",
    "    seq = seq.upper()\n",
    "    adjusted_seq = \"\"\n",
    "    choices_per_nt = {\"insert\": insert_prob,\n",
    "                      \"delete\": delete_prob,\n",
    "                      \"substitute\": sub_prob}\n",
    "    for "
   ],
   "metadata": {
    "collapsed": false,
    "pycharm": {
     "name": "#%%\n"
    }
   }
  },
  {
   "cell_type": "code",
   "execution_count": null,
   "outputs": [],
   "source": [],
   "metadata": {
    "collapsed": false,
    "pycharm": {
     "name": "#%%\n"
    }
   }
  }
 ],
 "metadata": {
  "kernelspec": {
   "display_name": "Python 3",
   "language": "python",
   "name": "python3"
  },
  "language_info": {
   "codemirror_mode": {
    "name": "ipython",
    "version": 2
   },
   "file_extension": ".py",
   "mimetype": "text/x-python",
   "name": "python",
   "nbconvert_exporter": "python",
   "pygments_lexer": "ipython2",
   "version": "2.7.6"
  }
 },
 "nbformat": 4,
 "nbformat_minor": 0
}