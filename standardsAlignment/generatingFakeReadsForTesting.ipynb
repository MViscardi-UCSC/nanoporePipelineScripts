{
 "cells": [
  {
   "cell_type": "markdown",
   "source": [
    "# generatingFakeReadsForTesting.ipynb\n",
    "## Marcus Viscardi,    September 02, 2022\n",
    "\n",
    "I want to try and do some simple read generation with just text \"parsing\" and the expected read sequences\n",
    "\n",
    "The main goal would be to make a simple function that could take an expected read sequence identity and then spit out a crapload of altered reads that could be used for testing and such!"
   ],
   "metadata": {
    "collapsed": false
   }
  },
  {
   "cell_type": "code",
   "execution_count": 216,
   "outputs": [
    {
     "name": "stdout",
     "output_type": "stream",
     "text": [
      "imports done\n"
     ]
    }
   ],
   "source": [
    "import mappy\n",
    "import mappy as mp\n",
    "from pprint import pprint\n",
    "import pandas as pd\n",
    "import numpy as np\n",
    "from tqdm import tqdm\n",
    "from typing import Union, List, Tuple, Any\n",
    "import random\n",
    "from nanoporePipelineCommon import find_newest_matching_file, pick_libs_return_paths_dict, get_dt\n",
    "import textwrap\n",
    "\n",
    "import seaborn as sea\n",
    "import matplotlib.pyplot as plt\n",
    "import plotly.express as px\n",
    "import plotly.graph_objects as go\n",
    "\n",
    "pd.set_option(\"display.max_columns\", None)\n",
    "print(\"imports done\")"
   ],
   "metadata": {
    "collapsed": false
   }
  },
  {
   "cell_type": "markdown",
   "source": [
    "### Load the standards fasta file into a dictionary:"
   ],
   "metadata": {
    "collapsed": false
   }
  },
  {
   "cell_type": "code",
   "execution_count": 3,
   "metadata": {
    "collapsed": true
   },
   "outputs": [],
   "source": [
    "reference_fasta = \"/data16/marcus/scripts/nanoporePipelineScripts/standardsAlignment/220902_version2.0_releventSequences.fasta\"\n",
    "\n",
    "finalStandards_dict = {}\n",
    "for read_id, sequence, quality, comments in mp.fastx_read(reference_fasta, read_comment=True):\n",
    "    if \"finalStandard\" in read_id:\n",
    "        finalStandards_dict[read_id] = (sequence, comments)"
   ]
  },
  {
   "cell_type": "markdown",
   "source": [
    "### Create methods for generating fake reads and plotting mappy alignments"
   ],
   "metadata": {
    "collapsed": false
   }
  },
  {
   "cell_type": "code",
   "execution_count": 217,
   "outputs": [],
   "source": [
    "def sequence_subindel_creater(seq,\n",
    "                              insert_prob=0.01,\n",
    "                              delete_prob=0.01,\n",
    "                              sub_prob=0.05,\n",
    "                              indel_size_factor=1.0,\n",
    "                              upseq_truncate_prob=0.001,\n",
    "                              downseq_truncate_prob=0.001) -> Tuple[Any, Tuple[Any, Any, Any]]:\n",
    "    # TODO: Add ability to output multiple sequences\n",
    "    seq = seq.upper()\n",
    "    adjusted_seq = \"\"\n",
    "    choices_per_nt = {\"insert\": insert_prob,\n",
    "                      \"delete\": delete_prob,\n",
    "                      \"substitute\": sub_prob,\n",
    "                      \"upseq_trunc\": upseq_truncate_prob,\n",
    "                      \"downseq_trunc\": downseq_truncate_prob,\n",
    "                      \"nothing\": 1 - (insert_prob + delete_prob + sub_prob)}\n",
    "    indel_sizes = [i+1 for i in range(25)]\n",
    "    indel_weights = [10**((indel_size_factor * -i)+1) for i in range(25)]\n",
    "    nucleotide_choices = ['G', 'C', 'T', 'A']\n",
    "    \n",
    "    has_been_truncated = False\n",
    "    trunc_pos = 0\n",
    "    trunc_dir = \"NA\"\n",
    "    \n",
    "    index = 0\n",
    "    while index < len(seq):\n",
    "        nucl = seq[index]  # by putting this up here, we don't have to recall it below\n",
    "        if nucl == \"N\":\n",
    "            nucl = random.choice(nucleotide_choices)  # This will throw a random nucl instead of the N!\n",
    "        choice = random.choices(list(choices_per_nt.keys()), weights=list(choices_per_nt.values()))[0]\n",
    "        if choice == \"insert\":\n",
    "            index += 1\n",
    "            insert_size = random.choices(indel_sizes, weights=indel_weights)[0]\n",
    "            for _ in range(insert_size):\n",
    "                nucl += random.choice(nucleotide_choices)\n",
    "        elif choice == \"substitute\":\n",
    "            index += 1\n",
    "            nucl = random.choice(nucleotide_choices)\n",
    "        elif choice == 'delete':\n",
    "            delete_size = random.choices(indel_sizes, weights=indel_weights)[0]\n",
    "            index += delete_size\n",
    "            nucl = ''\n",
    "        elif choice == 'upseq_trunc':\n",
    "            if not has_been_truncated:\n",
    "                index += 1\n",
    "                adjusted_seq = ''\n",
    "                has_been_truncated = True\n",
    "                trunc_pos = index\n",
    "                trunc_dir = \"up\"\n",
    "            else:  # This prevents multiple truncations from triggering\n",
    "                index += 1\n",
    "        elif choice == 'downseq_trunc':\n",
    "            if not has_been_truncated:\n",
    "                has_been_truncated = True\n",
    "                trunc_pos = index\n",
    "                trunc_dir = \"down\"\n",
    "                break  # Break out of the loop, not adding any more nucleotides!\n",
    "            else:  # This prevents multiple truncations from triggering\n",
    "                index += 1\n",
    "        else:\n",
    "            index += 1\n",
    "        adjusted_seq += nucl\n",
    "    return adjusted_seq, (has_been_truncated, trunc_pos, trunc_dir)\n",
    "\n",
    "\n",
    "def print_mappy_hit_alignment(mappy_hit_obj: mappy.Alignment,\n",
    "                              read_seq: str, ref_seq: str,\n",
    "                              line_print_width=None) -> None:\n",
    "    import re\n",
    "    parsed_cigar = re.findall(rf'(\\d+)([MDNSIX])', mappy_hit_obj.cigar_str)\n",
    "    parsed_cigar = [(int(num), char) for num, char in parsed_cigar]\n",
    "    ref_seq = ref_seq[mappy_hit_obj.r_st: mappy_hit_obj.r_en]\n",
    "    ref_pos = 0\n",
    "    read_seq = read_seq[mappy_hit_obj.q_st: mappy_hit_obj.q_en]\n",
    "    read_pos = 0\n",
    "    \n",
    "    top_line = \"\"\n",
    "    middle_line = \"\"\n",
    "    bottom_line = \"\"\n",
    "    for length, code in parsed_cigar:\n",
    "        if code == \"M\":  # Map (Read & Ref Match)\n",
    "            read_map_piece = read_seq[read_pos:read_pos+length]\n",
    "            ref_map_piece = ref_seq[ref_pos:ref_pos+length]\n",
    "            perfect_matches = \"\"\n",
    "            for index, char in enumerate(read_map_piece):\n",
    "                try:\n",
    "                    if char == ref_map_piece[index]:\n",
    "                        perfect_matches += \"|\"\n",
    "                    else:\n",
    "                        perfect_matches += \"•\"\n",
    "                except IndexError:\n",
    "                    perfect_matches += \" \"\n",
    "            top_line += read_map_piece\n",
    "            middle_line += perfect_matches\n",
    "            bottom_line += ref_map_piece\n",
    "            ref_pos += length\n",
    "            read_pos += length\n",
    "        elif code == \"I\":  # Insert (Gap in Ref)\n",
    "            top_line += read_seq[read_pos:read_pos+length]\n",
    "            middle_line += \" \" * length\n",
    "            bottom_line += \" \" * length\n",
    "            read_pos += length\n",
    "        elif code == \"D\" or code == \"N\":  # Delete (Gap in Read)\n",
    "            top_line += \" \" * length\n",
    "            middle_line += \" \" * length\n",
    "            bottom_line += ref_seq[ref_pos:ref_pos+length]\n",
    "            ref_pos += length\n",
    "    if isinstance(line_print_width, int):\n",
    "        num_blocks = int(np.ceil(len(top_line) / line_print_width))\n",
    "        print_blocks = []\n",
    "        for block_index in range(num_blocks):\n",
    "            print_blocks.append([\n",
    "                top_line[block_index*line_print_width:(block_index+1)*line_print_width],\n",
    "                middle_line[block_index*line_print_width:(block_index+1)*line_print_width],\n",
    "                bottom_line[block_index*line_print_width:(block_index+1)*line_print_width],\n",
    "            ])\n",
    "        for top, mid, bot in print_blocks:\n",
    "            print()\n",
    "            print(f\"Read: {top}\")\n",
    "            print(f\"      {mid}\")\n",
    "            print(f\"Ref:  {bot}\")\n",
    "    else:\n",
    "        print(top_line, middle_line, bottom_line, sep='\\n')"
   ],
   "metadata": {
    "collapsed": false
   }
  },
  {
   "cell_type": "markdown",
   "source": [
    "### A loop to test out mapping the generated reads from the standards"
   ],
   "metadata": {
    "collapsed": false
   }
  },
  {
   "cell_type": "code",
   "execution_count": 171,
   "outputs": [
    {
     "name": "stderr",
     "output_type": "stream",
     "text": [
      "100%|██████████| 10/10 [00:00<00:00, 610.84it/s]"
     ]
    },
    {
     "name": "stdout",
     "output_type": "stream",
     "text": [
      "{-1: 3, 0: 0, 5: 1, 10: 0, 15: 1, 30: 4, 60: 1}\n"
     ]
    },
    {
     "name": "stderr",
     "output_type": "stream",
     "text": [
      "\n"
     ]
    },
    {
     "data": {
      "text/plain": "<Figure size 432x288 with 1 Axes>",
      "image/png": "[encoded data removed]"
     },
     "metadata": {
      "needs_background": "light"
     },
     "output_type": "display_data"
    }
   ],
   "source": [
    "aligner = mp.Aligner(\"/data16/marcus/scripts/nanoporePipelineScripts/standardsAlignment/220902_version2.0_releventSequences.fasta\", preset=\"map-ont\")\n",
    "\n",
    "# Change these values to effect the run:\n",
    "########################################\n",
    "tail_length_of_fake_standard = 30\n",
    "standard_to_fake = f\"ENO2_finalStandard_{tail_length_of_fake_standard:0>2}Tail\"\n",
    "quiet = True\n",
    "number_of_iterations = 10\n",
    "insert_prob_quick, delete_prob_quick, sub_prob_quick = 0.025, 0.025, 0.05\n",
    "indel_size_factor_quick = 1\n",
    "# ^This is inversely related to the propensity for larger and larger indels!\n",
    "########################################\n",
    "\n",
    "generated_seq_identification = {-1:0,  # For any completely unmapped\n",
    "                                0:0,\n",
    "                                5:0,\n",
    "                                10:0,\n",
    "                                15:0,\n",
    "                                30:0,\n",
    "                                60:0,}\n",
    "iterator = tqdm(range(number_of_iterations))\n",
    "for i in iterator:\n",
    "    if not quiet:\n",
    "        print(f\"Generated Standard #{i+1:0>2}:\")\n",
    "    generated_seq, trunc = sequence_subindel_creater(finalStandards_dict[standard_to_fake][0], \n",
    "                                              insert_prob=insert_prob_quick,\n",
    "                                              delete_prob=delete_prob_quick,\n",
    "                                              sub_prob=sub_prob_quick,\n",
    "                                              indel_size_factor=indel_size_factor_quick)[:]\n",
    "    hits = {hit: (hit.ctg, hit.is_primary) for hit in aligner.map(generated_seq)}\n",
    "    if len(hits) == 0:\n",
    "        if not quiet:\n",
    "            print(\"No hits\")\n",
    "        generated_seq_identification[-1] += 1\n",
    "    for hit_obj, (contig, is_primary) in hits.items():\n",
    "        if hit_obj.ctg != standard_to_fake and hit_obj.is_primary == 1:\n",
    "            contig_hit = int(hit_obj.ctg[19:21])\n",
    "            generated_seq_identification[contig_hit] += 1\n",
    "            if not quiet:\n",
    "                print(f\"Primary: {int(hit_obj.is_primary)}, MAPQ: {hit_obj.mapq:>2}, Mismatches: {hit_obj.NM:>2}, Maps: {hit_obj.mlen:>2}, Contig: {contig_hit}nt Tail\")\n",
    "                print_mappy_hit_alignment(hit_obj, generated_seq, aligner.seq(hit_obj.ctg), line_print_width=50)\n",
    "            for hit_obj, (contig, is_primary) in hits.items():\n",
    "                contig_hit = int(hit_obj.ctg[19:21])\n",
    "                if not quiet:\n",
    "                    print(f\"Primary: {int(hit_obj.is_primary)}, MAPQ: {hit_obj.mapq:>2}, Mismatches: {hit_obj.NM:>2}, Maps: {hit_obj.mlen:>2}, Contig: {contig_hit}nt Tail\")\n",
    "                if contig == standard_to_fake and not quiet:\n",
    "                    pass # print_mappy_hit_alignment(hit_obj, generated_seq, aligner.seq(hit_obj.ctg), line_print_width=50)\n",
    "        elif hit_obj.ctg == standard_to_fake and hit_obj.is_primary == 1:\n",
    "            contig_hit = int(hit_obj.ctg[19:21])\n",
    "            generated_seq_identification[contig_hit] += 1\n",
    "            if not quiet:\n",
    "                print(\"\\tAccurate Match.\")\n",
    "pprint(generated_seq_identification)\n",
    "# x_and_y = [(str(key), value) for key, value in generated_seq_identification.items()]\n",
    "# x, y = zip(*x_and_y)\n",
    "# ended up note using the above code, but I thought it was a cute solution\n",
    "my_df = pd.DataFrame(generated_seq_identification.items())\n",
    "ax = sea.barplot(x=0, y=1, data=my_df)\n",
    "ax.set(xlabel = 'Standard', ylabel='Number of IDs', title=f'Attempt for Std{standard_to_fake[19:21]}',\n",
    "       yscale='log')\n",
    "plt.show()"
   ],
   "metadata": {
    "collapsed": false
   }
  },
  {
   "cell_type": "markdown",
   "source": [
    "### Build a fasta file of reads generated off of the standards, with the original standard sequence as the title (plus some kind of UMI or counter)"
   ],
   "metadata": {
    "collapsed": false
   }
  },
  {
   "cell_type": "code",
   "execution_count": 182,
   "outputs": [
    {
     "name": "stderr",
     "output_type": "stream",
     "text": [
      "100%|██████████| 5000/5000 [00:06<00:00, 762.94it/s]"
     ]
    },
    {
     "name": "stdout",
     "output_type": "stream",
     "text": [
      "632\n"
     ]
    },
    {
     "name": "stderr",
     "output_type": "stream",
     "text": [
      "\n"
     ]
    }
   ],
   "source": [
    "# Change these values to effect the generated fasta:\n",
    "####################################################\n",
    "standards_to_use = [0, 5, 10, 15, 30, 60]\n",
    "number_of_entries_in_fasta = 5000\n",
    "\n",
    "insert_prob_quick = 0.01\n",
    "delete_prob_quick = 0.01\n",
    "sub_prob_quick = 0.05\n",
    "upseq_trunc_prob_quick = 0.0001\n",
    "downseq_trunc_prob_quick = 0.0001\n",
    "\n",
    "\n",
    "indel_size_factor_quick = 1\n",
    "output_file_name = f\"{get_dt(for_file=True)}_generatedRNAStdsReads_withTruncations.fasta\"\n",
    "save_output = True\n",
    "# ^This is inversely related to the propensity for larger and larger indels!\n",
    "####################################################\n",
    "\n",
    "fasta_storage_dict = {}\n",
    "truncated_count = 0\n",
    "iterator = tqdm(range(number_of_entries_in_fasta))\n",
    "with open(output_file_name, 'w') as output_fasta:\n",
    "    for i in iterator:\n",
    "        template_standard_size = random.choice(standards_to_use)\n",
    "        template_standard = f\"ENO2_finalStandard_{template_standard_size:0>2}Tail\"\n",
    "        entry_num = f\"{i+1:0>{1+int(np.ceil(np.log10(number_of_entries_in_fasta)))}}\"\n",
    "        generated_seq, trunc_info = sequence_subindel_creater(finalStandards_dict[template_standard][0], \n",
    "                                                  insert_prob=insert_prob_quick,\n",
    "                                                  delete_prob=delete_prob_quick,\n",
    "                                                  sub_prob=sub_prob_quick,\n",
    "                                                  indel_size_factor=indel_size_factor_quick,\n",
    "                                                  upseq_truncate_prob=upseq_trunc_prob_quick,\n",
    "                                                  downseq_truncate_prob=downseq_trunc_prob_quick)[:]\n",
    "        truncated_count += trunc_info[0]\n",
    "        seq_id = f\"RNAStd{template_standard_size:0>2}.N{entry_num} template={template_standard} entry_number={entry_num} truncated={trunc_info[0]} truncated_pos={trunc_info[1]} truncated_dir={trunc_info[2]}\"\n",
    "        fasta_storage_dict[seq_id] = generated_seq\n",
    "        file_line = f\">{seq_id}\\n{textwrap.fill(generated_seq, width=5000)}\\n\"\n",
    "        if save_output:\n",
    "            output_fasta.write(file_line)\n",
    "        else:\n",
    "            print(file_line)\n",
    "print(truncated_count)"
   ],
   "metadata": {
    "collapsed": false
   }
  },
  {
   "cell_type": "markdown",
   "source": [
    "#### **Next step will be to use the old standard mapping functions to see if we can get them to work with this fake data and the new standards format as designed with Levenshtein distances!**"
   ],
   "metadata": {
    "collapsed": false
   }
  },
  {
   "cell_type": "markdown",
   "source": [
    "# Assignment Method Rewrite:"
   ],
   "metadata": {
    "collapsed": false
   }
  },
  {
   "cell_type": "code",
   "execution_count": 261,
   "outputs": [
    {
     "name": "stdout",
     "output_type": "stream",
     "text": [
      "Mapping to adapters named: ['ENO2_finalStandard_00Tail', 'ENO2_finalStandard_05Tail', 'ENO2_finalStandard_10Tail', 'ENO2_finalStandard_15Tail', 'ENO2_finalStandard_30Tail', 'ENO2_finalStandard_60Tail']\n"
     ]
    },
    {
     "name": "stderr",
     "output_type": "stream",
     "text": [
      "100%|████████| 5000/5000 [00:11<00:00, 426.33it/s]"
     ]
    },
    {
     "name": "stdout",
     "output_type": "stream",
     "text": [
      "{-1: 122, 0: 0, 5: 0, 10: 0, 15: 0, 30: 0, 60: 0}\n"
     ]
    },
    {
     "name": "stderr",
     "output_type": "stream",
     "text": [
      "\n"
     ]
    }
   ],
   "source": [
    "# path_to_genome = reference_fasta\n",
    "path_to_genome = \"220902_version2.0_releventSequences_wOutTails.fasta\"\n",
    "threads = 10\n",
    "fastx_file = f\"220920_generatedRNAStdsReads_withTruncations.fasta\"\n",
    "\n",
    "aligner = mp.Aligner(path_to_genome,\n",
    "                     preset=\"splice\", k=14,  # These are the usual go-tos for mapping ONT dRNA-Seq\n",
    "                     extra_flags=0x100000,  # From: https://github.com/lh3/minimap2/blob/master/minimap.h\n",
    "                     #           0x100000 = forces strand matched alignment (b/c dRNA-seq retains strand info)\n",
    "                     n_threads=threads,\n",
    "                     )\n",
    "if not aligner:\n",
    "    # This was in the tutorial, haven't seen this yet.\n",
    "    raise Exception(\"ERROR: failed to load/build index\")\n",
    "\n",
    "# Print the contigs (chromosomes) which in this case are the adapters in the fastq\n",
    "print(f\"Mapping to adapters named: {aligner.seq_names}\")\n",
    "\n",
    "seq_assignments = []  # This list will hold all the alignments eventually\n",
    "assignment_counter = {-1:0,  # For any completely unmapped\n",
    "                                0:0,\n",
    "                                5:0,\n",
    "                                10:0,\n",
    "                                15:0,\n",
    "                                30:0,\n",
    "                                60:0,}\n",
    "ground_truth_counter = {0:0,\n",
    "                                5:0,\n",
    "                                10:0,\n",
    "                                15:0,\n",
    "                                30:0,\n",
    "                                60:0,}\n",
    "storage_dict = {}  # This will be converted to a dataframe eventually\n",
    "\n",
    "\n",
    "# If a fastx file is passed:\n",
    "if isinstance(fastx_file, str):\n",
    "    # Create a tqdm iterator that is going to loop through the fastx,\n",
    "    #   and provide a progress bar along the way!\n",
    "    \n",
    "    # The total number of entries will depend on if the inputs are fastq or fasta files,\n",
    "    #   so we can use the last letter of the file name to decide this:\n",
    "    if fastx_file.endswith(\"q\"):\n",
    "        lines_per_entry = 4\n",
    "    elif fastx_file.endswith(\"a\"):\n",
    "        lines_per_entry = 2\n",
    "    else:\n",
    "        raise NotImplementedError(f\"The input fastx file must end in fastq/fq or fasta/fa!!\")\n",
    "    read_iterator = tqdm(mp.fastx_read(fastx_file, read_comment=True),\n",
    "                         # The Mappy library (from Minimap2) has a fastx file reader that is very fast\n",
    "                         total=sum(1 for line in open(fastx_file)) // lines_per_entry,\n",
    "                         # The mappy.fastx_read iterator doesn't have a __len__, so we\n",
    "                         #    have to manually tell tqdm how long the fastq will be\n",
    "                         ncols=50)\n",
    "    for read_id, sequence, _, comments in read_iterator:\n",
    "        per_read_dict = dict(map(str.strip, sub.split('=', 1)) for sub in comments.split(' ') if '=' in sub)  # From: https://www.geeksforgeeks.org/python-convert-key-value-string-to-dictionary/\n",
    "        per_read_dict['actual_std_id'] = per_read_dict.pop('template')\n",
    "        original_std_tail = int(read_id[6:8])\n",
    "        per_read_dict[\"actual_tail_length\"] = original_std_tail\n",
    "        original_std = per_read_dict[\"actual_std_id\"]\n",
    "        ground_truth_counter[original_std_tail] += 1\n",
    "        \n",
    "        # For each sequence, create empty dicts to store info about mapping hits\n",
    "        hit_objs = {}\n",
    "    \n",
    "        # Loop through each of the mapping hits generated:\n",
    "        for hit in aligner.map(sequence):\n",
    "            hit_objs[hit.ctg] = hit  # and store each one\n",
    "        \n",
    "        # First check if there are any hits at all:\n",
    "        if hit_objs:\n",
    "            hit_information = {}\n",
    "            for standard, hit_obj in hit_objs.items():\n",
    "                assigned_std = standard[-6:-4]\n",
    "                hit_information[standard] = {dir_item: eval(f\"hit_obj.{dir_item}\") for dir_item in dir(hit_obj) if not dir_item.startswith(\"__\") and dir_item != \"cigar\"}\n",
    "                per_read_dict[f\"{assigned_std}_mlen\"] = hit_information[standard][\"mlen\"]\n",
    "                per_read_dict[f\"{assigned_std}_NM\"] = hit_information[standard][\"NM\"]\n",
    "                per_read_dict[f\"{assigned_std}_misspermap\"] = hit_information[standard][\"NM\"] / hit_information[standard][\"mlen\"]\n",
    "                # per_read_dict[f\"{assigned_std}_hit_obj\"] = hit_obj\n",
    "            per_read_df = pd.DataFrame.from_dict(hit_information, orient=\"index\")\n",
    "            for test_col in [\"is_primary\", \"mlen\", \"blen\", \"ctg_len\", \"mapq\", \"NM\", \"r_en\"]:\n",
    "                per_read_dict[f\"max_{test_col}\"] = int(per_read_df[test_col].idxmax()[-6:-4])\n",
    "            per_read_dict['sequence'] = sequence\n",
    "            # per_read_dict['was_truncated'] = False\n",
    "            storage_dict[read_id] = per_read_dict\n",
    "        else:  # If we are here then nothing mapped!\n",
    "            assignment_counter[-1] += 1\n",
    "print(assignment_counter)  # this is currently only counting failed maps lol"
   ],
   "metadata": {
    "collapsed": false
   }
  },
  {
   "cell_type": "code",
   "execution_count": 265,
   "outputs": [
    {
     "data": {
      "text/plain": "RNAStd00.N00001    00_misspermap\nRNAStd00.N00002    00_misspermap\nRNAStd05.N00003    05_misspermap\nRNAStd60.N00004    60_misspermap\nRNAStd15.N00005    15_misspermap\n                       ...      \nRNAStd15.N04995    15_misspermap\nRNAStd05.N04996    05_misspermap\nRNAStd15.N04998    15_misspermap\nRNAStd05.N04999    00_misspermap\nRNAStd30.N05000    30_misspermap\nLength: 4878, dtype: object"
     },
     "execution_count": 265,
     "metadata": {},
     "output_type": "execute_result"
    }
   ],
   "source": [
    "df = pd.DataFrame.from_dict(storage_dict, orient='index')\n",
    "df['seq_len'] = df.sequence.str.len()\n",
    "\n",
    "test_column = \"max_mlen\"\n",
    "\n",
    "df['actual_tail_length'] = df.actual_tail_length.apply(lambda x: f\"{x:0>2}\")\n",
    "df['int_actual_tail_length'] = df.actual_tail_length.astype(int)\n",
    "df['assigned_tail_length'] = df.max_is_primary\n",
    "df['correct_match'] = df.int_actual_tail_length == df[test_column]\n",
    "\n",
    "df['assignment'] = df.max_mlen\n",
    "\n",
    "compare_column = \"misspermap\"\n",
    "\n",
    "df[[f'00_{compare_column}',\n",
    "        f'05_{compare_column}',\n",
    "        f'10_{compare_column}',\n",
    "        f'15_{compare_column}',\n",
    "        f'30_{compare_column}',\n",
    "        f'60_{compare_column}']].idxmin(axis=1)\n",
    "# df[df.truncated_dir == \"down\"]\n",
    "# df[~df.correct_match & (df.int_actual_tail_length == df.max_mlen)]"
   ],
   "metadata": {
    "collapsed": false
   }
  },
  {
   "cell_type": "code",
   "execution_count": 263,
   "outputs": [
    {
     "name": "stderr",
     "output_type": "stream",
     "text": [
      "/tmp/ipykernel_1026487/989861092.py:8: UserWarning:\n",
      "\n",
      "Boolean Series key will be reindexed to match DataFrame index.\n",
      "\n"
     ]
    },
    {
     "data": {
      "text/plain": "                entry_number truncated truncated_pos truncated_dir              actual_std_id actual_tail_length  00_mlen  00_NM  00_misspermap  60_mlen  60_NM  60_misspermap  10_mlen  10_NM  10_misspermap  15_mlen  15_NM  15_misspermap  05_mlen  05_NM  05_misspermap  30_mlen  30_NM  30_misspermap  max_is_primary  max_mlen  max_blen  max_ctg_len  max_mapq  max_NM  max_r_en  \\\nRNAStd15.N00094        00094     False             0            NA  ENO2_finalStandard_15Tail                 15    608.0   64.0       0.105263    608.0   63.0       0.103618    609.0   61.0       0.100164    611.0   59.0       0.096563    611.0   61.0       0.099836    609.0   61.0       0.100164              15        15         0           15        15       0         5   \nRNAStd00.N00183        00183     False             0            NA  ENO2_finalStandard_00Tail                 00    623.0   49.0       0.078652    620.0   53.0       0.085484    623.0   55.0       0.088283    620.0   54.0       0.087097    621.0   53.0       0.085346    618.0   55.0       0.088997              10        10        10           10        10      10        10   \nRNAStd00.N00233        00233     False             0            NA  ENO2_finalStandard_00Tail                 00    625.0   40.0       0.064000    625.0   42.0       0.067200    625.0   42.0       0.067200    625.0   42.0       0.067200    624.0   42.0       0.067308    601.0   34.0       0.056572               0         0        60            0         0      60        60   \nRNAStd00.N00456        00456     False             0            NA  ENO2_finalStandard_00Tail                 00    628.0   47.0       0.074841    628.0   52.0       0.082803    606.0   41.0       0.067657    606.0   41.0       0.067657    628.0   53.0       0.084395    606.0   41.0       0.067657              15         0         5           15        15       5        60   \nRNAStd00.N00463        00463     False             0            NA  ENO2_finalStandard_00Tail                 00    615.0   57.0       0.092683    615.0   58.0       0.094309    613.0   61.0       0.099511    611.0   61.0       0.099836    612.0   61.0       0.099673    610.0   62.0       0.101639               0         0        10            0         0      30         0   \nRNAStd30.N00547        00547     False             0            NA  ENO2_finalStandard_30Tail                 30    617.0   54.0       0.087520    617.0   54.0       0.087520    622.0   51.0       0.081994    620.0   53.0       0.085484    619.0   54.0       0.087237    622.0   49.0       0.078778              30        30        10           30        30       5        30   \nRNAStd30.N00730        00730     False             0            NA  ENO2_finalStandard_30Tail                 30    607.0   51.0       0.084020    611.0   48.0       0.078560    609.0   49.0       0.080460    608.0   50.0       0.082237    614.0   49.0       0.079805    614.0   44.0       0.071661              30        30         5           30        30       0        30   \nRNAStd10.N00795        00795      True           493            up  ENO2_finalStandard_10Tail                 10      NaN    NaN            NaN      NaN    NaN            NaN    151.0   23.0       0.152318      NaN    NaN            NaN      NaN    NaN            NaN      NaN    NaN            NaN              10        10        10           10        10      10        10   \nRNAStd00.N00902        00902     False             0            NA  ENO2_finalStandard_00Tail                 00    615.0   58.0       0.094309    615.0   62.0       0.100813    614.0   61.0       0.099349    612.0   61.0       0.099673    613.0   61.0       0.099511    581.0   43.0       0.074010              30         0        60           30        30      60        60   \nRNAStd30.N01019        01019     False             0            NA  ENO2_finalStandard_30Tail                 30    604.0   63.0       0.104305    605.0   62.0       0.102479    608.0   60.0       0.098684    604.0   63.0       0.104305    606.0   64.0       0.105611    608.0   59.0       0.097039              30        30         5           30        30       5        30   \nRNAStd00.N01104        01104     False             0            NA  ENO2_finalStandard_00Tail                 00    621.0   50.0       0.080515    622.0   51.0       0.081994    621.0   50.0       0.080515    619.0   52.0       0.084006    622.0   53.0       0.085209    618.0   53.0       0.085761               0        60         5            0         0       5         0   \nRNAStd30.N01242        01242     False             0            NA  ENO2_finalStandard_30Tail                 30    613.0   61.0       0.099511    613.0   65.0       0.106036    617.0   58.0       0.094003    615.0   60.0       0.097561    615.0   61.0       0.099187    617.0   57.0       0.092382              30        30        60           30        30      60        30   \nRNAStd15.N01352        01352     False             0            NA  ENO2_finalStandard_15Tail                 15    613.0   51.0       0.083197    612.0   52.0       0.084967    613.0   51.0       0.083197    616.0   48.0       0.077922    616.0   50.0       0.081169    613.0   51.0       0.083197              15        15         5           15        15      60         5   \nRNAStd10.N01506        01506     False             0            NA  ENO2_finalStandard_10Tail                 10    622.0   45.0       0.072347    620.0   46.0       0.074194    622.0   44.0       0.070740    620.0   46.0       0.074194    622.0   47.0       0.075563    618.0   48.0       0.077670              10        10         5           10        10      30         5   \nRNAStd60.N01548        01548     False             0            NA  ENO2_finalStandard_60Tail                 60    584.0   37.0       0.063356    615.0   53.0       0.086179    615.0   53.0       0.086179    612.0   59.0       0.096405    584.0   37.0       0.063356    584.0   37.0       0.063356              30        60        15           30        30      15        10   \nRNAStd30.N01620        01620      True           558            up  ENO2_finalStandard_30Tail                 30      NaN    NaN            NaN      NaN    NaN            NaN      NaN    NaN            NaN      NaN    NaN            NaN      NaN    NaN            NaN     95.0   10.0       0.105263              30        30        30           30        30      30        30   \nRNAStd00.N01648        01648     False             0            NA  ENO2_finalStandard_00Tail                 00    620.0   51.0       0.082258    620.0   55.0       0.088710    618.0   53.0       0.085761    618.0   53.0       0.085761    619.0   53.0       0.085622    616.0   56.0       0.090909               0         0        60            0         0      30         0   \nRNAStd30.N01721        01721      True           530            up  ENO2_finalStandard_30Tail                 30      NaN    NaN            NaN      NaN    NaN            NaN      NaN    NaN            NaN      NaN    NaN            NaN      NaN    NaN            NaN    116.0   16.0       0.137931              30        30        30           30        30      30        30   \nRNAStd60.N01871        01871     False             0            NA  ENO2_finalStandard_60Tail                 60    609.0   58.0       0.095238    611.0   54.0       0.088380    591.0   49.0       0.082910    611.0   56.0       0.091653    609.0   58.0       0.095238    579.0   40.0       0.069085              30        60        15           30        30       0        60   \nRNAStd15.N02015        02015      True           533            up  ENO2_finalStandard_15Tail                 15      NaN    NaN            NaN      NaN    NaN            NaN      NaN    NaN            NaN    117.0   14.0       0.119658      NaN    NaN            NaN      NaN    NaN            NaN              15        15        15           15        15      15        15   \nRNAStd00.N02055        02055     False             0            NA  ENO2_finalStandard_00Tail                 00    618.0   47.0       0.076052    616.0   54.0       0.087662    617.0   53.0       0.085900    616.0   55.0       0.089286    618.0   54.0       0.087379    615.0   57.0       0.092683               0         0         5            0         0      30        30   \nRNAStd60.N02066        02066      True           552            up  ENO2_finalStandard_60Tail                 60      NaN    NaN            NaN    100.0   12.0       0.120000      NaN    NaN            NaN      NaN    NaN            NaN      NaN    NaN            NaN      NaN    NaN            NaN              60        60        60           60        60      60        60   \nRNAStd30.N02184        02184     False             0            NA  ENO2_finalStandard_30Tail                 30    610.0   61.0       0.100000    613.0   57.0       0.092985    611.0   58.0       0.094926    610.0   59.0       0.096721    615.0   58.0       0.094309    615.0   54.0       0.087805               5         5         5            5         5       0         5   \nRNAStd05.N02293        02293      True           510            up  ENO2_finalStandard_05Tail                 05      NaN    NaN            NaN      NaN    NaN            NaN      NaN    NaN            NaN      NaN    NaN            NaN    135.0   20.0       0.148148      NaN    NaN            NaN               5         5         5            5         5       5         5   \nRNAStd00.N02420        02420     False             0            NA  ENO2_finalStandard_00Tail                 00    610.0   60.0       0.098361    614.0   60.0       0.097720    614.0   58.0       0.094463    612.0   58.0       0.094771    613.0   58.0       0.094617    582.0   41.0       0.070447              30        60        60           30        30       0        60   \nRNAStd05.N02465        02465      True           539            up  ENO2_finalStandard_05Tail                 05      NaN    NaN            NaN      NaN    NaN            NaN      NaN    NaN            NaN      NaN    NaN            NaN    109.0   12.0       0.110092      NaN    NaN            NaN               5         5         5            5         5       5         5   \nRNAStd15.N02489        02489      True           548            up  ENO2_finalStandard_15Tail                 15      NaN    NaN            NaN      NaN    NaN            NaN      NaN    NaN            NaN    104.0   13.0       0.125000      NaN    NaN            NaN      NaN    NaN            NaN              15        15        15           15        15      15        15   \nRNAStd00.N02518        02518     False             0            NA  ENO2_finalStandard_00Tail                 00    617.0   50.0       0.081037    621.0   50.0       0.080515    621.0   48.0       0.077295    619.0   48.0       0.077544    620.0   48.0       0.077419    598.0   40.0       0.066890               0        60        60            0         0       0        60   \nRNAStd00.N02554        02554     False             0            NA  ENO2_finalStandard_00Tail                 00    612.0   49.0       0.080065    612.0   53.0       0.086601    612.0   51.0       0.083333    610.0   51.0       0.083607    611.0   51.0       0.083470    588.0   43.0       0.073129               0         0        60            0         0      60        60   \nRNAStd00.N02980        02980     False             0            NA  ENO2_finalStandard_00Tail                 00    613.0   53.0       0.086460    611.0   55.0       0.090016    613.0   55.0       0.089723    611.0   55.0       0.090016    613.0   57.0       0.092985    610.0   56.0       0.091803               0         0         5            0         0       5         0   \nRNAStd60.N03626        03626     False             0            NA  ENO2_finalStandard_60Tail                 60    620.0   54.0       0.087097    625.0   48.0       0.076800    620.0   53.0       0.085484    622.0   51.0       0.081994    625.0   52.0       0.083200    623.0   51.0       0.081862              60        60         5           60        60       0        60   \nRNAStd00.N03841        03841     False             0            NA  ENO2_finalStandard_00Tail                 00    631.0   36.0       0.057052    631.0   40.0       0.063391    631.0   38.0       0.060222    629.0   38.0       0.060413    630.0   38.0       0.060317    607.0   30.0       0.049423               0         0        60            0         0      60        60   \nRNAStd10.N03862        03862     False             0            NA  ENO2_finalStandard_10Tail                 10    606.0   62.0       0.102310    608.0   60.0       0.098684    611.0   57.0       0.093290    607.0   61.0       0.100494    608.0   61.0       0.100329    611.0   57.0       0.093290              10        10         5           10        10       0        10   \nRNAStd00.N03867        03867     False             0            NA  ENO2_finalStandard_00Tail                 00    624.0   46.0       0.073718    623.0   48.0       0.077047    592.0   31.0       0.052365    592.0   31.0       0.052365    624.0   49.0       0.078526    592.0   31.0       0.052365              15         0         5           15        15       5         5   \nRNAStd15.N03920        03920      True           525            up  ENO2_finalStandard_15Tail                 15      NaN    NaN            NaN      NaN    NaN            NaN      NaN    NaN            NaN    118.0   17.0       0.144068      NaN    NaN            NaN      NaN    NaN            NaN              15        15        15           15        15      15        15   \nRNAStd15.N04005        04005     False             0            NA  ENO2_finalStandard_15Tail                 15    604.0   65.0       0.107616    604.0   64.0       0.105960    605.0   62.0       0.102479    607.0   60.0       0.098847    607.0   62.0       0.102142    605.0   62.0       0.102479              15        15         0           15        15       0         5   \nRNAStd60.N04154        04154      True           559            up  ENO2_finalStandard_60Tail                 60      NaN    NaN            NaN     95.0    9.0       0.094737      NaN    NaN            NaN      NaN    NaN            NaN      NaN    NaN            NaN      NaN    NaN            NaN              60        60        60           60        60      60        60   \nRNAStd10.N04370        04370      True           114            up  ENO2_finalStandard_10Tail                 10    478.0   29.0       0.060669    478.0   29.0       0.060669    512.0   43.0       0.083984    512.0   48.0       0.093750    478.0   29.0       0.060669    478.0   29.0       0.060669               5        10        15            5         5      15        10   \n\n                                                          sequence  seq_len  int_actual_tail_length  assigned_tail_length  correct_match assignment  \nRNAStd15.N00094  TAACACGACTCACTAAAGGGAGAACCATCAGATTTTGATTGTTAGT...      675                      15                    15           True         15  \nRNAStd00.N00183  TAATACGACTCACTCATAGGGAGAGCCATCAGATTGTGCCTGTTAG...      669                       0                    10          False         10  \nRNAStd00.N00233  TAATACGACTCACTATAGGGAGAGCCATCAGATTGTGTTTCTTAGT...      658                       0                     0           True          0  \nRNAStd00.N00456  TAATACGACTCACTATAGGGAGAGCCATCAGATTGTGTTTGTTAGT...      671                       0                    15           True          0  \nRNAStd00.N00463  TAATACGACTCACAATAGGGAGAGCCATCAGATTTGTGTTTGTTAG...      667                       0                     0           True          0  \nRNAStd30.N00547  TAATACGACTCACTATAGGGAGAGCCATCAGATAGTGTTTGTTAGT...      696                      30                    30           True         30  \nRNAStd30.N00730  TCATTCGACTCACTATAGGGAGAGCCATCAGATTGTGTTTGTTAGT...      682                      30                    30           True         30  \nRNAStd10.N00795  GCTTCTGCCGGTAACGTCGAGTGACGAAGGTCGGTGTTGCTCAACA...      179                      10                    10           True         10  \nRNAStd00.N00902  TAATAGACTCACTATAGGGAGAGCCATCAGATTATGTTTGTTAGTC...      666                       0                    30           True          0  \nRNAStd30.N01019  TAAACGACTCACTATAGTGAGAGCCATCAGCTTGTGTTTGTTAATC...      689                      30                    30           True         30  \nRNAStd00.N01104  TAATACGACTCACTATAGGGAGAGCCATCAGAGTGTGTTTGTTAGT...      663                       0                     0          False         60  \nRNAStd30.N01242  TAATACGACTCAGTATAGGGAGAGCCATGGCAGATTGTGTTTGTTA...      703                      30                    30           True         30  \nRNAStd15.N01352  TAATACGACTCACTATAGGGAGAGCCATCAGATTGTGTTTGTTAGT...      673                      15                    15           True         15  \nRNAStd10.N01506  TAATACGACTCATTATAGGGAGAGCCATCAGACTGTGTTTGTTATT...      665                      10                    10           True         10  \nRNAStd60.N01548  TAATACGTCTCACTATTGGGAGGGTCATCAGATTGTGTTCGTTAGT...      720                      60                    30           True         60  \nRNAStd30.N01620  TTTGGACTTGATTGTTGACGCCATCGTCGTGAGTAGCGAACCGTAA...      136                      30                    30           True         30  \nRNAStd00.N01648  TAATACGACTACACTATAGGGAGAGCCACAGATTGTGTTTGTTAGT...      664                       0                     0           True          0  \nRNAStd30.N01721  CTACAAACATTCAAACCGCTGAAGAGCTTTAGGACTTGAATTGTTG...      163                      30                    30           True         30  \nRNAStd60.N01871  TAATACGACTCACTATAGGGAGAGCCTCAGATTGTGTTTGTTAGTC...      715                      60                    30           True         60  \nRNAStd15.N02015  CAAACATTCAAACCGCTGAAGAACCTTTGAACTTGATTGTTGTCGA...      146                      15                    15           True         15  \nRNAStd00.N02055  TAATAAGACTCACTATAGGGAGAGCCCATCAGATGTGTTTGTTAGT...      667                       0                     0           True          0  \nRNAStd60.N02066  AGAAGCTTTGGACTTGATTGTTGACGCCATCATCGTGAGTAGTGAA...      173                      60                    60           True         60  \nRNAStd30.N02184  TAATACTACCCACTATAGGGAGAGCCATCAGATTGTGTTTGTTAGT...      693                      30                     5          False          5  \nRNAStd05.N02293  CGGTGACGAAAGGTGGTGTTGATCCAAACAATTCAAAGCGCTGAGG...      160                       5                     5           True          5  \nRNAStd00.N02420  TAATACGTCTCACTATAGGGAGAGCCATCAGATGTGTGGTTGTTAG...      665                       0                    30          False         60  \nRNAStd05.N02465  TTGAAACCGCTGAAGAAGCTTTGGACTTGATTGTTGACGCAATCGT...      129                       5                     5           True          5  \nRNAStd15.N02489  CTGAAGAAGCTTTGGACTTGGTTGTTGACGGCCATCCTCGTGAGTA...      131                      15                    15           True         15  \nRNAStd00.N02518  TAATACGACTCACTATAGGGAGAGCCATCAGATTGTGTTTGTTAGT...      663                       0                     0          False         60  \nRNAStd00.N02554  TAATCCGCCAAAACTCACTATAGGGAGAGCCAGCAGATTGTGTTTG...      667                       0                     0           True          0  \nRNAStd00.N02980  TAATACGGACACACTATAGGGAGAGCCATCAGATTGTGTTTGTTAG...      660                       0                     0           True          0  \nRNAStd60.N03626  TAATACGACTCACTATATCGAGAGCCATCAGATTGTGTTTGATAGT...      731                      60                    60           True         60  \nRNAStd00.N03841  TAATACGACTCACTATAGGGAGAGCCATCACATTGTGTTTGTTCGT...      664                       0                     0           True          0  \nRNAStd10.N03862  TAATACGACTCACTAAAGGGAGAGCCATCAGATTGTGTTTGTTAGT...      666                      10                    10           True         10  \nRNAStd00.N03867  TAATACGACTCACTATAGGGAGAGCCATCAGATTGTGTTTGTTAGT...      667                       0                    15           True          0  \nRNAStd15.N03920  TGTTTCCAAACATTCAAACCGCTGAAGAAGAGCTCTGGACTTGATT...      155                      15                    15           True         15  \nRNAStd15.N04005  TAATACGACTCACTATAGGGAGAGCCATCAGATTGTTTTTGTTAGG...      673                      15                    15           True         15  \nRNAStd60.N04154  TTGGACTTGATTGTTGACGGCATCGTCGTGAGTAGTGAACCGTAAG...      161                      60                    60           True         60  \nRNAStd10.N04370  CGTCAAGGCCAACCTAGATGTTCAGGACCAAAAGGCCGTCCATGAC...      558                      10                     5           True         10  ",
      "text/html": "<div>\n<style scoped>\n    .dataframe tbody tr th:only-of-type {\n        vertical-align: middle;\n    }\n\n    .dataframe tbody tr th {\n        vertical-align: top;\n    }\n\n    .dataframe thead th {\n        text-align: right;\n    }\n</style>\n<table border=\"1\" class=\"dataframe\">\n  <thead>\n    <tr style=\"text-align: right;\">\n      <th></th>\n      <th>entry_number</th>\n      <th>truncated</th>\n      <th>truncated_pos</th>\n      <th>truncated_dir</th>\n      <th>actual_std_id</th>\n      <th>actual_tail_length</th>\n      <th>00_mlen</th>\n      <th>00_NM</th>\n      <th>00_misspermap</th>\n      <th>60_mlen</th>\n      <th>60_NM</th>\n      <th>60_misspermap</th>\n      <th>10_mlen</th>\n      <th>10_NM</th>\n      <th>10_misspermap</th>\n      <th>15_mlen</th>\n      <th>15_NM</th>\n      <th>15_misspermap</th>\n      <th>05_mlen</th>\n      <th>05_NM</th>\n      <th>05_misspermap</th>\n      <th>30_mlen</th>\n      <th>30_NM</th>\n      <th>30_misspermap</th>\n      <th>max_is_primary</th>\n      <th>max_mlen</th>\n      <th>max_blen</th>\n      <th>max_ctg_len</th>\n      <th>max_mapq</th>\n      <th>max_NM</th>\n      <th>max_r_en</th>\n      <th>sequence</th>\n      <th>seq_len</th>\n      <th>int_actual_tail_length</th>\n      <th>assigned_tail_length</th>\n      <th>correct_match</th>\n      <th>assignment</th>\n    </tr>\n  </thead>\n  <tbody>\n    <tr>\n      <th>RNAStd15.N00094</th>\n      <td>00094</td>\n      <td>False</td>\n      <td>0</td>\n      <td>NA</td>\n      <td>ENO2_finalStandard_15Tail</td>\n      <td>15</td>\n      <td>608.0</td>\n      <td>64.0</td>\n      <td>0.105263</td>\n      <td>608.0</td>\n      <td>63.0</td>\n      <td>0.103618</td>\n      <td>609.0</td>\n      <td>61.0</td>\n      <td>0.100164</td>\n      <td>611.0</td>\n      <td>59.0</td>\n      <td>0.096563</td>\n      <td>611.0</td>\n      <td>61.0</td>\n      <td>0.099836</td>\n      <td>609.0</td>\n      <td>61.0</td>\n      <td>0.100164</td>\n      <td>15</td>\n      <td>15</td>\n      <td>0</td>\n      <td>15</td>\n      <td>15</td>\n      <td>0</td>\n      <td>5</td>\n      <td>TAACACGACTCACTAAAGGGAGAACCATCAGATTTTGATTGTTAGT...</td>\n      <td>675</td>\n      <td>15</td>\n      <td>15</td>\n      <td>True</td>\n      <td>15</td>\n    </tr>\n    <tr>\n      <th>RNAStd00.N00183</th>\n      <td>00183</td>\n      <td>False</td>\n      <td>0</td>\n      <td>NA</td>\n      <td>ENO2_finalStandard_00Tail</td>\n      <td>00</td>\n      <td>623.0</td>\n      <td>49.0</td>\n      <td>0.078652</td>\n      <td>620.0</td>\n      <td>53.0</td>\n      <td>0.085484</td>\n      <td>623.0</td>\n      <td>55.0</td>\n      <td>0.088283</td>\n      <td>620.0</td>\n      <td>54.0</td>\n      <td>0.087097</td>\n      <td>621.0</td>\n      <td>53.0</td>\n      <td>0.085346</td>\n      <td>618.0</td>\n      <td>55.0</td>\n      <td>0.088997</td>\n      <td>10</td>\n      <td>10</td>\n      <td>10</td>\n      <td>10</td>\n      <td>10</td>\n      <td>10</td>\n      <td>10</td>\n      <td>TAATACGACTCACTCATAGGGAGAGCCATCAGATTGTGCCTGTTAG...</td>\n      <td>669</td>\n      <td>0</td>\n      <td>10</td>\n      <td>False</td>\n      <td>10</td>\n    </tr>\n    <tr>\n      <th>RNAStd00.N00233</th>\n      <td>00233</td>\n      <td>False</td>\n      <td>0</td>\n      <td>NA</td>\n      <td>ENO2_finalStandard_00Tail</td>\n      <td>00</td>\n      <td>625.0</td>\n      <td>40.0</td>\n      <td>0.064000</td>\n      <td>625.0</td>\n      <td>42.0</td>\n      <td>0.067200</td>\n      <td>625.0</td>\n      <td>42.0</td>\n      <td>0.067200</td>\n      <td>625.0</td>\n      <td>42.0</td>\n      <td>0.067200</td>\n      <td>624.0</td>\n      <td>42.0</td>\n      <td>0.067308</td>\n      <td>601.0</td>\n      <td>34.0</td>\n      <td>0.056572</td>\n      <td>0</td>\n      <td>0</td>\n      <td>60</td>\n      <td>0</td>\n      <td>0</td>\n      <td>60</td>\n      <td>60</td>\n      <td>TAATACGACTCACTATAGGGAGAGCCATCAGATTGTGTTTCTTAGT...</td>\n      <td>658</td>\n      <td>0</td>\n      <td>0</td>\n      <td>True</td>\n      <td>0</td>\n    </tr>\n    <tr>\n      <th>RNAStd00.N00456</th>\n      <td>00456</td>\n      <td>False</td>\n      <td>0</td>\n      <td>NA</td>\n      <td>ENO2_finalStandard_00Tail</td>\n      <td>00</td>\n      <td>628.0</td>\n      <td>47.0</td>\n      <td>0.074841</td>\n      <td>628.0</td>\n      <td>52.0</td>\n      <td>0.082803</td>\n      <td>606.0</td>\n      <td>41.0</td>\n      <td>0.067657</td>\n      <td>606.0</td>\n      <td>41.0</td>\n      <td>0.067657</td>\n      <td>628.0</td>\n      <td>53.0</td>\n      <td>0.084395</td>\n      <td>606.0</td>\n      <td>41.0</td>\n      <td>0.067657</td>\n      <td>15</td>\n      <td>0</td>\n      <td>5</td>\n      <td>15</td>\n      <td>15</td>\n      <td>5</td>\n      <td>60</td>\n      <td>TAATACGACTCACTATAGGGAGAGCCATCAGATTGTGTTTGTTAGT...</td>\n      <td>671</td>\n      <td>0</td>\n      <td>15</td>\n      <td>True</td>\n      <td>0</td>\n    </tr>\n    <tr>\n      <th>RNAStd00.N00463</th>\n      <td>00463</td>\n      <td>False</td>\n      <td>0</td>\n      <td>NA</td>\n      <td>ENO2_finalStandard_00Tail</td>\n      <td>00</td>\n      <td>615.0</td>\n      <td>57.0</td>\n      <td>0.092683</td>\n      <td>615.0</td>\n      <td>58.0</td>\n      <td>0.094309</td>\n      <td>613.0</td>\n      <td>61.0</td>\n      <td>0.099511</td>\n      <td>611.0</td>\n      <td>61.0</td>\n      <td>0.099836</td>\n      <td>612.0</td>\n      <td>61.0</td>\n      <td>0.099673</td>\n      <td>610.0</td>\n      <td>62.0</td>\n      <td>0.101639</td>\n      <td>0</td>\n      <td>0</td>\n      <td>10</td>\n      <td>0</td>\n      <td>0</td>\n      <td>30</td>\n      <td>0</td>\n      <td>TAATACGACTCACAATAGGGAGAGCCATCAGATTTGTGTTTGTTAG...</td>\n      <td>667</td>\n      <td>0</td>\n      <td>0</td>\n      <td>True</td>\n      <td>0</td>\n    </tr>\n    <tr>\n      <th>RNAStd30.N00547</th>\n      <td>00547</td>\n      <td>False</td>\n      <td>0</td>\n      <td>NA</td>\n      <td>ENO2_finalStandard_30Tail</td>\n      <td>30</td>\n      <td>617.0</td>\n      <td>54.0</td>\n      <td>0.087520</td>\n      <td>617.0</td>\n      <td>54.0</td>\n      <td>0.087520</td>\n      <td>622.0</td>\n      <td>51.0</td>\n      <td>0.081994</td>\n      <td>620.0</td>\n      <td>53.0</td>\n      <td>0.085484</td>\n      <td>619.0</td>\n      <td>54.0</td>\n      <td>0.087237</td>\n      <td>622.0</td>\n      <td>49.0</td>\n      <td>0.078778</td>\n      <td>30</td>\n      <td>30</td>\n      <td>10</td>\n      <td>30</td>\n      <td>30</td>\n      <td>5</td>\n      <td>30</td>\n      <td>TAATACGACTCACTATAGGGAGAGCCATCAGATAGTGTTTGTTAGT...</td>\n      <td>696</td>\n      <td>30</td>\n      <td>30</td>\n      <td>True</td>\n      <td>30</td>\n    </tr>\n    <tr>\n      <th>RNAStd30.N00730</th>\n      <td>00730</td>\n      <td>False</td>\n      <td>0</td>\n      <td>NA</td>\n      <td>ENO2_finalStandard_30Tail</td>\n      <td>30</td>\n      <td>607.0</td>\n      <td>51.0</td>\n      <td>0.084020</td>\n      <td>611.0</td>\n      <td>48.0</td>\n      <td>0.078560</td>\n      <td>609.0</td>\n      <td>49.0</td>\n      <td>0.080460</td>\n      <td>608.0</td>\n      <td>50.0</td>\n      <td>0.082237</td>\n      <td>614.0</td>\n      <td>49.0</td>\n      <td>0.079805</td>\n      <td>614.0</td>\n      <td>44.0</td>\n      <td>0.071661</td>\n      <td>30</td>\n      <td>30</td>\n      <td>5</td>\n      <td>30</td>\n      <td>30</td>\n      <td>0</td>\n      <td>30</td>\n      <td>TCATTCGACTCACTATAGGGAGAGCCATCAGATTGTGTTTGTTAGT...</td>\n      <td>682</td>\n      <td>30</td>\n      <td>30</td>\n      <td>True</td>\n      <td>30</td>\n    </tr>\n    <tr>\n      <th>RNAStd10.N00795</th>\n      <td>00795</td>\n      <td>True</td>\n      <td>493</td>\n      <td>up</td>\n      <td>ENO2_finalStandard_10Tail</td>\n      <td>10</td>\n      <td>NaN</td>\n      <td>NaN</td>\n      <td>NaN</td>\n      <td>NaN</td>\n      <td>NaN</td>\n      <td>NaN</td>\n      <td>151.0</td>\n      <td>23.0</td>\n      <td>0.152318</td>\n      <td>NaN</td>\n      <td>NaN</td>\n      <td>NaN</td>\n      <td>NaN</td>\n      <td>NaN</td>\n      <td>NaN</td>\n      <td>NaN</td>\n      <td>NaN</td>\n      <td>NaN</td>\n      <td>10</td>\n      <td>10</td>\n      <td>10</td>\n      <td>10</td>\n      <td>10</td>\n      <td>10</td>\n      <td>10</td>\n      <td>GCTTCTGCCGGTAACGTCGAGTGACGAAGGTCGGTGTTGCTCAACA...</td>\n      <td>179</td>\n      <td>10</td>\n      <td>10</td>\n      <td>True</td>\n      <td>10</td>\n    </tr>\n    <tr>\n      <th>RNAStd00.N00902</th>\n      <td>00902</td>\n      <td>False</td>\n      <td>0</td>\n      <td>NA</td>\n      <td>ENO2_finalStandard_00Tail</td>\n      <td>00</td>\n      <td>615.0</td>\n      <td>58.0</td>\n      <td>0.094309</td>\n      <td>615.0</td>\n      <td>62.0</td>\n      <td>0.100813</td>\n      <td>614.0</td>\n      <td>61.0</td>\n      <td>0.099349</td>\n      <td>612.0</td>\n      <td>61.0</td>\n      <td>0.099673</td>\n      <td>613.0</td>\n      <td>61.0</td>\n      <td>0.099511</td>\n      <td>581.0</td>\n      <td>43.0</td>\n      <td>0.074010</td>\n      <td>30</td>\n      <td>0</td>\n      <td>60</td>\n      <td>30</td>\n      <td>30</td>\n      <td>60</td>\n      <td>60</td>\n      <td>TAATAGACTCACTATAGGGAGAGCCATCAGATTATGTTTGTTAGTC...</td>\n      <td>666</td>\n      <td>0</td>\n      <td>30</td>\n      <td>True</td>\n      <td>0</td>\n    </tr>\n    <tr>\n      <th>RNAStd30.N01019</th>\n      <td>01019</td>\n      <td>False</td>\n      <td>0</td>\n      <td>NA</td>\n      <td>ENO2_finalStandard_30Tail</td>\n      <td>30</td>\n      <td>604.0</td>\n      <td>63.0</td>\n      <td>0.104305</td>\n      <td>605.0</td>\n      <td>62.0</td>\n      <td>0.102479</td>\n      <td>608.0</td>\n      <td>60.0</td>\n      <td>0.098684</td>\n      <td>604.0</td>\n      <td>63.0</td>\n      <td>0.104305</td>\n      <td>606.0</td>\n      <td>64.0</td>\n      <td>0.105611</td>\n      <td>608.0</td>\n      <td>59.0</td>\n      <td>0.097039</td>\n      <td>30</td>\n      <td>30</td>\n      <td>5</td>\n      <td>30</td>\n      <td>30</td>\n      <td>5</td>\n      <td>30</td>\n      <td>TAAACGACTCACTATAGTGAGAGCCATCAGCTTGTGTTTGTTAATC...</td>\n      <td>689</td>\n      <td>30</td>\n      <td>30</td>\n      <td>True</td>\n      <td>30</td>\n    </tr>\n    <tr>\n      <th>RNAStd00.N01104</th>\n      <td>01104</td>\n      <td>False</td>\n      <td>0</td>\n      <td>NA</td>\n      <td>ENO2_finalStandard_00Tail</td>\n      <td>00</td>\n      <td>621.0</td>\n      <td>50.0</td>\n      <td>0.080515</td>\n      <td>622.0</td>\n      <td>51.0</td>\n      <td>0.081994</td>\n      <td>621.0</td>\n      <td>50.0</td>\n      <td>0.080515</td>\n      <td>619.0</td>\n      <td>52.0</td>\n      <td>0.084006</td>\n      <td>622.0</td>\n      <td>53.0</td>\n      <td>0.085209</td>\n      <td>618.0</td>\n      <td>53.0</td>\n      <td>0.085761</td>\n      <td>0</td>\n      <td>60</td>\n      <td>5</td>\n      <td>0</td>\n      <td>0</td>\n      <td>5</td>\n      <td>0</td>\n      <td>TAATACGACTCACTATAGGGAGAGCCATCAGAGTGTGTTTGTTAGT...</td>\n      <td>663</td>\n      <td>0</td>\n      <td>0</td>\n      <td>False</td>\n      <td>60</td>\n    </tr>\n    <tr>\n      <th>RNAStd30.N01242</th>\n      <td>01242</td>\n      <td>False</td>\n      <td>0</td>\n      <td>NA</td>\n      <td>ENO2_finalStandard_30Tail</td>\n      <td>30</td>\n      <td>613.0</td>\n      <td>61.0</td>\n      <td>0.099511</td>\n      <td>613.0</td>\n      <td>65.0</td>\n      <td>0.106036</td>\n      <td>617.0</td>\n      <td>58.0</td>\n      <td>0.094003</td>\n      <td>615.0</td>\n      <td>60.0</td>\n      <td>0.097561</td>\n      <td>615.0</td>\n      <td>61.0</td>\n      <td>0.099187</td>\n      <td>617.0</td>\n      <td>57.0</td>\n      <td>0.092382</td>\n      <td>30</td>\n      <td>30</td>\n      <td>60</td>\n      <td>30</td>\n      <td>30</td>\n      <td>60</td>\n      <td>30</td>\n      <td>TAATACGACTCAGTATAGGGAGAGCCATGGCAGATTGTGTTTGTTA...</td>\n      <td>703</td>\n      <td>30</td>\n      <td>30</td>\n      <td>True</td>\n      <td>30</td>\n    </tr>\n    <tr>\n      <th>RNAStd15.N01352</th>\n      <td>01352</td>\n      <td>False</td>\n      <td>0</td>\n      <td>NA</td>\n      <td>ENO2_finalStandard_15Tail</td>\n      <td>15</td>\n      <td>613.0</td>\n      <td>51.0</td>\n      <td>0.083197</td>\n      <td>612.0</td>\n      <td>52.0</td>\n      <td>0.084967</td>\n      <td>613.0</td>\n      <td>51.0</td>\n      <td>0.083197</td>\n      <td>616.0</td>\n      <td>48.0</td>\n      <td>0.077922</td>\n      <td>616.0</td>\n      <td>50.0</td>\n      <td>0.081169</td>\n      <td>613.0</td>\n      <td>51.0</td>\n      <td>0.083197</td>\n      <td>15</td>\n      <td>15</td>\n      <td>5</td>\n      <td>15</td>\n      <td>15</td>\n      <td>60</td>\n      <td>5</td>\n      <td>TAATACGACTCACTATAGGGAGAGCCATCAGATTGTGTTTGTTAGT...</td>\n      <td>673</td>\n      <td>15</td>\n      <td>15</td>\n      <td>True</td>\n      <td>15</td>\n    </tr>\n    <tr>\n      <th>RNAStd10.N01506</th>\n      <td>01506</td>\n      <td>False</td>\n      <td>0</td>\n      <td>NA</td>\n      <td>ENO2_finalStandard_10Tail</td>\n      <td>10</td>\n      <td>622.0</td>\n      <td>45.0</td>\n      <td>0.072347</td>\n      <td>620.0</td>\n      <td>46.0</td>\n      <td>0.074194</td>\n      <td>622.0</td>\n      <td>44.0</td>\n      <td>0.070740</td>\n      <td>620.0</td>\n      <td>46.0</td>\n      <td>0.074194</td>\n      <td>622.0</td>\n      <td>47.0</td>\n      <td>0.075563</td>\n      <td>618.0</td>\n      <td>48.0</td>\n      <td>0.077670</td>\n      <td>10</td>\n      <td>10</td>\n      <td>5</td>\n      <td>10</td>\n      <td>10</td>\n      <td>30</td>\n      <td>5</td>\n      <td>TAATACGACTCATTATAGGGAGAGCCATCAGACTGTGTTTGTTATT...</td>\n      <td>665</td>\n      <td>10</td>\n      <td>10</td>\n      <td>True</td>\n      <td>10</td>\n    </tr>\n    <tr>\n      <th>RNAStd60.N01548</th>\n      <td>01548</td>\n      <td>False</td>\n      <td>0</td>\n      <td>NA</td>\n      <td>ENO2_finalStandard_60Tail</td>\n      <td>60</td>\n      <td>584.0</td>\n      <td>37.0</td>\n      <td>0.063356</td>\n      <td>615.0</td>\n      <td>53.0</td>\n      <td>0.086179</td>\n      <td>615.0</td>\n      <td>53.0</td>\n      <td>0.086179</td>\n      <td>612.0</td>\n      <td>59.0</td>\n      <td>0.096405</td>\n      <td>584.0</td>\n      <td>37.0</td>\n      <td>0.063356</td>\n      <td>584.0</td>\n      <td>37.0</td>\n      <td>0.063356</td>\n      <td>30</td>\n      <td>60</td>\n      <td>15</td>\n      <td>30</td>\n      <td>30</td>\n      <td>15</td>\n      <td>10</td>\n      <td>TAATACGTCTCACTATTGGGAGGGTCATCAGATTGTGTTCGTTAGT...</td>\n      <td>720</td>\n      <td>60</td>\n      <td>30</td>\n      <td>True</td>\n      <td>60</td>\n    </tr>\n    <tr>\n      <th>RNAStd30.N01620</th>\n      <td>01620</td>\n      <td>True</td>\n      <td>558</td>\n      <td>up</td>\n      <td>ENO2_finalStandard_30Tail</td>\n      <td>30</td>\n      <td>NaN</td>\n      <td>NaN</td>\n      <td>NaN</td>\n      <td>NaN</td>\n      <td>NaN</td>\n      <td>NaN</td>\n      <td>NaN</td>\n      <td>NaN</td>\n      <td>NaN</td>\n      <td>NaN</td>\n      <td>NaN</td>\n      <td>NaN</td>\n      <td>NaN</td>\n      <td>NaN</td>\n      <td>NaN</td>\n      <td>95.0</td>\n      <td>10.0</td>\n      <td>0.105263</td>\n      <td>30</td>\n      <td>30</td>\n      <td>30</td>\n      <td>30</td>\n      <td>30</td>\n      <td>30</td>\n      <td>30</td>\n      <td>TTTGGACTTGATTGTTGACGCCATCGTCGTGAGTAGCGAACCGTAA...</td>\n      <td>136</td>\n      <td>30</td>\n      <td>30</td>\n      <td>True</td>\n      <td>30</td>\n    </tr>\n    <tr>\n      <th>RNAStd00.N01648</th>\n      <td>01648</td>\n      <td>False</td>\n      <td>0</td>\n      <td>NA</td>\n      <td>ENO2_finalStandard_00Tail</td>\n      <td>00</td>\n      <td>620.0</td>\n      <td>51.0</td>\n      <td>0.082258</td>\n      <td>620.0</td>\n      <td>55.0</td>\n      <td>0.088710</td>\n      <td>618.0</td>\n      <td>53.0</td>\n      <td>0.085761</td>\n      <td>618.0</td>\n      <td>53.0</td>\n      <td>0.085761</td>\n      <td>619.0</td>\n      <td>53.0</td>\n      <td>0.085622</td>\n      <td>616.0</td>\n      <td>56.0</td>\n      <td>0.090909</td>\n      <td>0</td>\n      <td>0</td>\n      <td>60</td>\n      <td>0</td>\n      <td>0</td>\n      <td>30</td>\n      <td>0</td>\n      <td>TAATACGACTACACTATAGGGAGAGCCACAGATTGTGTTTGTTAGT...</td>\n      <td>664</td>\n      <td>0</td>\n      <td>0</td>\n      <td>True</td>\n      <td>0</td>\n    </tr>\n    <tr>\n      <th>RNAStd30.N01721</th>\n      <td>01721</td>\n      <td>True</td>\n      <td>530</td>\n      <td>up</td>\n      <td>ENO2_finalStandard_30Tail</td>\n      <td>30</td>\n      <td>NaN</td>\n      <td>NaN</td>\n      <td>NaN</td>\n      <td>NaN</td>\n      <td>NaN</td>\n      <td>NaN</td>\n      <td>NaN</td>\n      <td>NaN</td>\n      <td>NaN</td>\n      <td>NaN</td>\n      <td>NaN</td>\n      <td>NaN</td>\n      <td>NaN</td>\n      <td>NaN</td>\n      <td>NaN</td>\n      <td>116.0</td>\n      <td>16.0</td>\n      <td>0.137931</td>\n      <td>30</td>\n      <td>30</td>\n      <td>30</td>\n      <td>30</td>\n      <td>30</td>\n      <td>30</td>\n      <td>30</td>\n      <td>CTACAAACATTCAAACCGCTGAAGAGCTTTAGGACTTGAATTGTTG...</td>\n      <td>163</td>\n      <td>30</td>\n      <td>30</td>\n      <td>True</td>\n      <td>30</td>\n    </tr>\n    <tr>\n      <th>RNAStd60.N01871</th>\n      <td>01871</td>\n      <td>False</td>\n      <td>0</td>\n      <td>NA</td>\n      <td>ENO2_finalStandard_60Tail</td>\n      <td>60</td>\n      <td>609.0</td>\n      <td>58.0</td>\n      <td>0.095238</td>\n      <td>611.0</td>\n      <td>54.0</td>\n      <td>0.088380</td>\n      <td>591.0</td>\n      <td>49.0</td>\n      <td>0.082910</td>\n      <td>611.0</td>\n      <td>56.0</td>\n      <td>0.091653</td>\n      <td>609.0</td>\n      <td>58.0</td>\n      <td>0.095238</td>\n      <td>579.0</td>\n      <td>40.0</td>\n      <td>0.069085</td>\n      <td>30</td>\n      <td>60</td>\n      <td>15</td>\n      <td>30</td>\n      <td>30</td>\n      <td>0</td>\n      <td>60</td>\n      <td>TAATACGACTCACTATAGGGAGAGCCTCAGATTGTGTTTGTTAGTC...</td>\n      <td>715</td>\n      <td>60</td>\n      <td>30</td>\n      <td>True</td>\n      <td>60</td>\n    </tr>\n    <tr>\n      <th>RNAStd15.N02015</th>\n      <td>02015</td>\n      <td>True</td>\n      <td>533</td>\n      <td>up</td>\n      <td>ENO2_finalStandard_15Tail</td>\n      <td>15</td>\n      <td>NaN</td>\n      <td>NaN</td>\n      <td>NaN</td>\n      <td>NaN</td>\n      <td>NaN</td>\n      <td>NaN</td>\n      <td>NaN</td>\n      <td>NaN</td>\n      <td>NaN</td>\n      <td>117.0</td>\n      <td>14.0</td>\n      <td>0.119658</td>\n      <td>NaN</td>\n      <td>NaN</td>\n      <td>NaN</td>\n      <td>NaN</td>\n      <td>NaN</td>\n      <td>NaN</td>\n      <td>15</td>\n      <td>15</td>\n      <td>15</td>\n      <td>15</td>\n      <td>15</td>\n      <td>15</td>\n      <td>15</td>\n      <td>CAAACATTCAAACCGCTGAAGAACCTTTGAACTTGATTGTTGTCGA...</td>\n      <td>146</td>\n      <td>15</td>\n      <td>15</td>\n      <td>True</td>\n      <td>15</td>\n    </tr>\n    <tr>\n      <th>RNAStd00.N02055</th>\n      <td>02055</td>\n      <td>False</td>\n      <td>0</td>\n      <td>NA</td>\n      <td>ENO2_finalStandard_00Tail</td>\n      <td>00</td>\n      <td>618.0</td>\n      <td>47.0</td>\n      <td>0.076052</td>\n      <td>616.0</td>\n      <td>54.0</td>\n      <td>0.087662</td>\n      <td>617.0</td>\n      <td>53.0</td>\n      <td>0.085900</td>\n      <td>616.0</td>\n      <td>55.0</td>\n      <td>0.089286</td>\n      <td>618.0</td>\n      <td>54.0</td>\n      <td>0.087379</td>\n      <td>615.0</td>\n      <td>57.0</td>\n      <td>0.092683</td>\n      <td>0</td>\n      <td>0</td>\n      <td>5</td>\n      <td>0</td>\n      <td>0</td>\n      <td>30</td>\n      <td>30</td>\n      <td>TAATAAGACTCACTATAGGGAGAGCCCATCAGATGTGTTTGTTAGT...</td>\n      <td>667</td>\n      <td>0</td>\n      <td>0</td>\n      <td>True</td>\n      <td>0</td>\n    </tr>\n    <tr>\n      <th>RNAStd60.N02066</th>\n      <td>02066</td>\n      <td>True</td>\n      <td>552</td>\n      <td>up</td>\n      <td>ENO2_finalStandard_60Tail</td>\n      <td>60</td>\n      <td>NaN</td>\n      <td>NaN</td>\n      <td>NaN</td>\n      <td>100.0</td>\n      <td>12.0</td>\n      <td>0.120000</td>\n      <td>NaN</td>\n      <td>NaN</td>\n      <td>NaN</td>\n      <td>NaN</td>\n      <td>NaN</td>\n      <td>NaN</td>\n      <td>NaN</td>\n      <td>NaN</td>\n      <td>NaN</td>\n      <td>NaN</td>\n      <td>NaN</td>\n      <td>NaN</td>\n      <td>60</td>\n      <td>60</td>\n      <td>60</td>\n      <td>60</td>\n      <td>60</td>\n      <td>60</td>\n      <td>60</td>\n      <td>AGAAGCTTTGGACTTGATTGTTGACGCCATCATCGTGAGTAGTGAA...</td>\n      <td>173</td>\n      <td>60</td>\n      <td>60</td>\n      <td>True</td>\n      <td>60</td>\n    </tr>\n    <tr>\n      <th>RNAStd30.N02184</th>\n      <td>02184</td>\n      <td>False</td>\n      <td>0</td>\n      <td>NA</td>\n      <td>ENO2_finalStandard_30Tail</td>\n      <td>30</td>\n      <td>610.0</td>\n      <td>61.0</td>\n      <td>0.100000</td>\n      <td>613.0</td>\n      <td>57.0</td>\n      <td>0.092985</td>\n      <td>611.0</td>\n      <td>58.0</td>\n      <td>0.094926</td>\n      <td>610.0</td>\n      <td>59.0</td>\n      <td>0.096721</td>\n      <td>615.0</td>\n      <td>58.0</td>\n      <td>0.094309</td>\n      <td>615.0</td>\n      <td>54.0</td>\n      <td>0.087805</td>\n      <td>5</td>\n      <td>5</td>\n      <td>5</td>\n      <td>5</td>\n      <td>5</td>\n      <td>0</td>\n      <td>5</td>\n      <td>TAATACTACCCACTATAGGGAGAGCCATCAGATTGTGTTTGTTAGT...</td>\n      <td>693</td>\n      <td>30</td>\n      <td>5</td>\n      <td>False</td>\n      <td>5</td>\n    </tr>\n    <tr>\n      <th>RNAStd05.N02293</th>\n      <td>02293</td>\n      <td>True</td>\n      <td>510</td>\n      <td>up</td>\n      <td>ENO2_finalStandard_05Tail</td>\n      <td>05</td>\n      <td>NaN</td>\n      <td>NaN</td>\n      <td>NaN</td>\n      <td>NaN</td>\n      <td>NaN</td>\n      <td>NaN</td>\n      <td>NaN</td>\n      <td>NaN</td>\n      <td>NaN</td>\n      <td>NaN</td>\n      <td>NaN</td>\n      <td>NaN</td>\n      <td>135.0</td>\n      <td>20.0</td>\n      <td>0.148148</td>\n      <td>NaN</td>\n      <td>NaN</td>\n      <td>NaN</td>\n      <td>5</td>\n      <td>5</td>\n      <td>5</td>\n      <td>5</td>\n      <td>5</td>\n      <td>5</td>\n      <td>5</td>\n      <td>CGGTGACGAAAGGTGGTGTTGATCCAAACAATTCAAAGCGCTGAGG...</td>\n      <td>160</td>\n      <td>5</td>\n      <td>5</td>\n      <td>True</td>\n      <td>5</td>\n    </tr>\n    <tr>\n      <th>RNAStd00.N02420</th>\n      <td>02420</td>\n      <td>False</td>\n      <td>0</td>\n      <td>NA</td>\n      <td>ENO2_finalStandard_00Tail</td>\n      <td>00</td>\n      <td>610.0</td>\n      <td>60.0</td>\n      <td>0.098361</td>\n      <td>614.0</td>\n      <td>60.0</td>\n      <td>0.097720</td>\n      <td>614.0</td>\n      <td>58.0</td>\n      <td>0.094463</td>\n      <td>612.0</td>\n      <td>58.0</td>\n      <td>0.094771</td>\n      <td>613.0</td>\n      <td>58.0</td>\n      <td>0.094617</td>\n      <td>582.0</td>\n      <td>41.0</td>\n      <td>0.070447</td>\n      <td>30</td>\n      <td>60</td>\n      <td>60</td>\n      <td>30</td>\n      <td>30</td>\n      <td>0</td>\n      <td>60</td>\n      <td>TAATACGTCTCACTATAGGGAGAGCCATCAGATGTGTGGTTGTTAG...</td>\n      <td>665</td>\n      <td>0</td>\n      <td>30</td>\n      <td>False</td>\n      <td>60</td>\n    </tr>\n    <tr>\n      <th>RNAStd05.N02465</th>\n      <td>02465</td>\n      <td>True</td>\n      <td>539</td>\n      <td>up</td>\n      <td>ENO2_finalStandard_05Tail</td>\n      <td>05</td>\n      <td>NaN</td>\n      <td>NaN</td>\n      <td>NaN</td>\n      <td>NaN</td>\n      <td>NaN</td>\n      <td>NaN</td>\n      <td>NaN</td>\n      <td>NaN</td>\n      <td>NaN</td>\n      <td>NaN</td>\n      <td>NaN</td>\n      <td>NaN</td>\n      <td>109.0</td>\n      <td>12.0</td>\n      <td>0.110092</td>\n      <td>NaN</td>\n      <td>NaN</td>\n      <td>NaN</td>\n      <td>5</td>\n      <td>5</td>\n      <td>5</td>\n      <td>5</td>\n      <td>5</td>\n      <td>5</td>\n      <td>5</td>\n      <td>TTGAAACCGCTGAAGAAGCTTTGGACTTGATTGTTGACGCAATCGT...</td>\n      <td>129</td>\n      <td>5</td>\n      <td>5</td>\n      <td>True</td>\n      <td>5</td>\n    </tr>\n    <tr>\n      <th>RNAStd15.N02489</th>\n      <td>02489</td>\n      <td>True</td>\n      <td>548</td>\n      <td>up</td>\n      <td>ENO2_finalStandard_15Tail</td>\n      <td>15</td>\n      <td>NaN</td>\n      <td>NaN</td>\n      <td>NaN</td>\n      <td>NaN</td>\n      <td>NaN</td>\n      <td>NaN</td>\n      <td>NaN</td>\n      <td>NaN</td>\n      <td>NaN</td>\n      <td>104.0</td>\n      <td>13.0</td>\n      <td>0.125000</td>\n      <td>NaN</td>\n      <td>NaN</td>\n      <td>NaN</td>\n      <td>NaN</td>\n      <td>NaN</td>\n      <td>NaN</td>\n      <td>15</td>\n      <td>15</td>\n      <td>15</td>\n      <td>15</td>\n      <td>15</td>\n      <td>15</td>\n      <td>15</td>\n      <td>CTGAAGAAGCTTTGGACTTGGTTGTTGACGGCCATCCTCGTGAGTA...</td>\n      <td>131</td>\n      <td>15</td>\n      <td>15</td>\n      <td>True</td>\n      <td>15</td>\n    </tr>\n    <tr>\n      <th>RNAStd00.N02518</th>\n      <td>02518</td>\n      <td>False</td>\n      <td>0</td>\n      <td>NA</td>\n      <td>ENO2_finalStandard_00Tail</td>\n      <td>00</td>\n      <td>617.0</td>\n      <td>50.0</td>\n      <td>0.081037</td>\n      <td>621.0</td>\n      <td>50.0</td>\n      <td>0.080515</td>\n      <td>621.0</td>\n      <td>48.0</td>\n      <td>0.077295</td>\n      <td>619.0</td>\n      <td>48.0</td>\n      <td>0.077544</td>\n      <td>620.0</td>\n      <td>48.0</td>\n      <td>0.077419</td>\n      <td>598.0</td>\n      <td>40.0</td>\n      <td>0.066890</td>\n      <td>0</td>\n      <td>60</td>\n      <td>60</td>\n      <td>0</td>\n      <td>0</td>\n      <td>0</td>\n      <td>60</td>\n      <td>TAATACGACTCACTATAGGGAGAGCCATCAGATTGTGTTTGTTAGT...</td>\n      <td>663</td>\n      <td>0</td>\n      <td>0</td>\n      <td>False</td>\n      <td>60</td>\n    </tr>\n    <tr>\n      <th>RNAStd00.N02554</th>\n      <td>02554</td>\n      <td>False</td>\n      <td>0</td>\n      <td>NA</td>\n      <td>ENO2_finalStandard_00Tail</td>\n      <td>00</td>\n      <td>612.0</td>\n      <td>49.0</td>\n      <td>0.080065</td>\n      <td>612.0</td>\n      <td>53.0</td>\n      <td>0.086601</td>\n      <td>612.0</td>\n      <td>51.0</td>\n      <td>0.083333</td>\n      <td>610.0</td>\n      <td>51.0</td>\n      <td>0.083607</td>\n      <td>611.0</td>\n      <td>51.0</td>\n      <td>0.083470</td>\n      <td>588.0</td>\n      <td>43.0</td>\n      <td>0.073129</td>\n      <td>0</td>\n      <td>0</td>\n      <td>60</td>\n      <td>0</td>\n      <td>0</td>\n      <td>60</td>\n      <td>60</td>\n      <td>TAATCCGCCAAAACTCACTATAGGGAGAGCCAGCAGATTGTGTTTG...</td>\n      <td>667</td>\n      <td>0</td>\n      <td>0</td>\n      <td>True</td>\n      <td>0</td>\n    </tr>\n    <tr>\n      <th>RNAStd00.N02980</th>\n      <td>02980</td>\n      <td>False</td>\n      <td>0</td>\n      <td>NA</td>\n      <td>ENO2_finalStandard_00Tail</td>\n      <td>00</td>\n      <td>613.0</td>\n      <td>53.0</td>\n      <td>0.086460</td>\n      <td>611.0</td>\n      <td>55.0</td>\n      <td>0.090016</td>\n      <td>613.0</td>\n      <td>55.0</td>\n      <td>0.089723</td>\n      <td>611.0</td>\n      <td>55.0</td>\n      <td>0.090016</td>\n      <td>613.0</td>\n      <td>57.0</td>\n      <td>0.092985</td>\n      <td>610.0</td>\n      <td>56.0</td>\n      <td>0.091803</td>\n      <td>0</td>\n      <td>0</td>\n      <td>5</td>\n      <td>0</td>\n      <td>0</td>\n      <td>5</td>\n      <td>0</td>\n      <td>TAATACGGACACACTATAGGGAGAGCCATCAGATTGTGTTTGTTAG...</td>\n      <td>660</td>\n      <td>0</td>\n      <td>0</td>\n      <td>True</td>\n      <td>0</td>\n    </tr>\n    <tr>\n      <th>RNAStd60.N03626</th>\n      <td>03626</td>\n      <td>False</td>\n      <td>0</td>\n      <td>NA</td>\n      <td>ENO2_finalStandard_60Tail</td>\n      <td>60</td>\n      <td>620.0</td>\n      <td>54.0</td>\n      <td>0.087097</td>\n      <td>625.0</td>\n      <td>48.0</td>\n      <td>0.076800</td>\n      <td>620.0</td>\n      <td>53.0</td>\n      <td>0.085484</td>\n      <td>622.0</td>\n      <td>51.0</td>\n      <td>0.081994</td>\n      <td>625.0</td>\n      <td>52.0</td>\n      <td>0.083200</td>\n      <td>623.0</td>\n      <td>51.0</td>\n      <td>0.081862</td>\n      <td>60</td>\n      <td>60</td>\n      <td>5</td>\n      <td>60</td>\n      <td>60</td>\n      <td>0</td>\n      <td>60</td>\n      <td>TAATACGACTCACTATATCGAGAGCCATCAGATTGTGTTTGATAGT...</td>\n      <td>731</td>\n      <td>60</td>\n      <td>60</td>\n      <td>True</td>\n      <td>60</td>\n    </tr>\n    <tr>\n      <th>RNAStd00.N03841</th>\n      <td>03841</td>\n      <td>False</td>\n      <td>0</td>\n      <td>NA</td>\n      <td>ENO2_finalStandard_00Tail</td>\n      <td>00</td>\n      <td>631.0</td>\n      <td>36.0</td>\n      <td>0.057052</td>\n      <td>631.0</td>\n      <td>40.0</td>\n      <td>0.063391</td>\n      <td>631.0</td>\n      <td>38.0</td>\n      <td>0.060222</td>\n      <td>629.0</td>\n      <td>38.0</td>\n      <td>0.060413</td>\n      <td>630.0</td>\n      <td>38.0</td>\n      <td>0.060317</td>\n      <td>607.0</td>\n      <td>30.0</td>\n      <td>0.049423</td>\n      <td>0</td>\n      <td>0</td>\n      <td>60</td>\n      <td>0</td>\n      <td>0</td>\n      <td>60</td>\n      <td>60</td>\n      <td>TAATACGACTCACTATAGGGAGAGCCATCACATTGTGTTTGTTCGT...</td>\n      <td>664</td>\n      <td>0</td>\n      <td>0</td>\n      <td>True</td>\n      <td>0</td>\n    </tr>\n    <tr>\n      <th>RNAStd10.N03862</th>\n      <td>03862</td>\n      <td>False</td>\n      <td>0</td>\n      <td>NA</td>\n      <td>ENO2_finalStandard_10Tail</td>\n      <td>10</td>\n      <td>606.0</td>\n      <td>62.0</td>\n      <td>0.102310</td>\n      <td>608.0</td>\n      <td>60.0</td>\n      <td>0.098684</td>\n      <td>611.0</td>\n      <td>57.0</td>\n      <td>0.093290</td>\n      <td>607.0</td>\n      <td>61.0</td>\n      <td>0.100494</td>\n      <td>608.0</td>\n      <td>61.0</td>\n      <td>0.100329</td>\n      <td>611.0</td>\n      <td>57.0</td>\n      <td>0.093290</td>\n      <td>10</td>\n      <td>10</td>\n      <td>5</td>\n      <td>10</td>\n      <td>10</td>\n      <td>0</td>\n      <td>10</td>\n      <td>TAATACGACTCACTAAAGGGAGAGCCATCAGATTGTGTTTGTTAGT...</td>\n      <td>666</td>\n      <td>10</td>\n      <td>10</td>\n      <td>True</td>\n      <td>10</td>\n    </tr>\n    <tr>\n      <th>RNAStd00.N03867</th>\n      <td>03867</td>\n      <td>False</td>\n      <td>0</td>\n      <td>NA</td>\n      <td>ENO2_finalStandard_00Tail</td>\n      <td>00</td>\n      <td>624.0</td>\n      <td>46.0</td>\n      <td>0.073718</td>\n      <td>623.0</td>\n      <td>48.0</td>\n      <td>0.077047</td>\n      <td>592.0</td>\n      <td>31.0</td>\n      <td>0.052365</td>\n      <td>592.0</td>\n      <td>31.0</td>\n      <td>0.052365</td>\n      <td>624.0</td>\n      <td>49.0</td>\n      <td>0.078526</td>\n      <td>592.0</td>\n      <td>31.0</td>\n      <td>0.052365</td>\n      <td>15</td>\n      <td>0</td>\n      <td>5</td>\n      <td>15</td>\n      <td>15</td>\n      <td>5</td>\n      <td>5</td>\n      <td>TAATACGACTCACTATAGGGAGAGCCATCAGATTGTGTTTGTTAGT...</td>\n      <td>667</td>\n      <td>0</td>\n      <td>15</td>\n      <td>True</td>\n      <td>0</td>\n    </tr>\n    <tr>\n      <th>RNAStd15.N03920</th>\n      <td>03920</td>\n      <td>True</td>\n      <td>525</td>\n      <td>up</td>\n      <td>ENO2_finalStandard_15Tail</td>\n      <td>15</td>\n      <td>NaN</td>\n      <td>NaN</td>\n      <td>NaN</td>\n      <td>NaN</td>\n      <td>NaN</td>\n      <td>NaN</td>\n      <td>NaN</td>\n      <td>NaN</td>\n      <td>NaN</td>\n      <td>118.0</td>\n      <td>17.0</td>\n      <td>0.144068</td>\n      <td>NaN</td>\n      <td>NaN</td>\n      <td>NaN</td>\n      <td>NaN</td>\n      <td>NaN</td>\n      <td>NaN</td>\n      <td>15</td>\n      <td>15</td>\n      <td>15</td>\n      <td>15</td>\n      <td>15</td>\n      <td>15</td>\n      <td>15</td>\n      <td>TGTTTCCAAACATTCAAACCGCTGAAGAAGAGCTCTGGACTTGATT...</td>\n      <td>155</td>\n      <td>15</td>\n      <td>15</td>\n      <td>True</td>\n      <td>15</td>\n    </tr>\n    <tr>\n      <th>RNAStd15.N04005</th>\n      <td>04005</td>\n      <td>False</td>\n      <td>0</td>\n      <td>NA</td>\n      <td>ENO2_finalStandard_15Tail</td>\n      <td>15</td>\n      <td>604.0</td>\n      <td>65.0</td>\n      <td>0.107616</td>\n      <td>604.0</td>\n      <td>64.0</td>\n      <td>0.105960</td>\n      <td>605.0</td>\n      <td>62.0</td>\n      <td>0.102479</td>\n      <td>607.0</td>\n      <td>60.0</td>\n      <td>0.098847</td>\n      <td>607.0</td>\n      <td>62.0</td>\n      <td>0.102142</td>\n      <td>605.0</td>\n      <td>62.0</td>\n      <td>0.102479</td>\n      <td>15</td>\n      <td>15</td>\n      <td>0</td>\n      <td>15</td>\n      <td>15</td>\n      <td>0</td>\n      <td>5</td>\n      <td>TAATACGACTCACTATAGGGAGAGCCATCAGATTGTTTTTGTTAGG...</td>\n      <td>673</td>\n      <td>15</td>\n      <td>15</td>\n      <td>True</td>\n      <td>15</td>\n    </tr>\n    <tr>\n      <th>RNAStd60.N04154</th>\n      <td>04154</td>\n      <td>True</td>\n      <td>559</td>\n      <td>up</td>\n      <td>ENO2_finalStandard_60Tail</td>\n      <td>60</td>\n      <td>NaN</td>\n      <td>NaN</td>\n      <td>NaN</td>\n      <td>95.0</td>\n      <td>9.0</td>\n      <td>0.094737</td>\n      <td>NaN</td>\n      <td>NaN</td>\n      <td>NaN</td>\n      <td>NaN</td>\n      <td>NaN</td>\n      <td>NaN</td>\n      <td>NaN</td>\n      <td>NaN</td>\n      <td>NaN</td>\n      <td>NaN</td>\n      <td>NaN</td>\n      <td>NaN</td>\n      <td>60</td>\n      <td>60</td>\n      <td>60</td>\n      <td>60</td>\n      <td>60</td>\n      <td>60</td>\n      <td>60</td>\n      <td>TTGGACTTGATTGTTGACGGCATCGTCGTGAGTAGTGAACCGTAAG...</td>\n      <td>161</td>\n      <td>60</td>\n      <td>60</td>\n      <td>True</td>\n      <td>60</td>\n    </tr>\n    <tr>\n      <th>RNAStd10.N04370</th>\n      <td>04370</td>\n      <td>True</td>\n      <td>114</td>\n      <td>up</td>\n      <td>ENO2_finalStandard_10Tail</td>\n      <td>10</td>\n      <td>478.0</td>\n      <td>29.0</td>\n      <td>0.060669</td>\n      <td>478.0</td>\n      <td>29.0</td>\n      <td>0.060669</td>\n      <td>512.0</td>\n      <td>43.0</td>\n      <td>0.083984</td>\n      <td>512.0</td>\n      <td>48.0</td>\n      <td>0.093750</td>\n      <td>478.0</td>\n      <td>29.0</td>\n      <td>0.060669</td>\n      <td>478.0</td>\n      <td>29.0</td>\n      <td>0.060669</td>\n      <td>5</td>\n      <td>10</td>\n      <td>15</td>\n      <td>5</td>\n      <td>5</td>\n      <td>15</td>\n      <td>10</td>\n      <td>CGTCAAGGCCAACCTAGATGTTCAGGACCAAAAGGCCGTCCATGAC...</td>\n      <td>558</td>\n      <td>10</td>\n      <td>5</td>\n      <td>True</td>\n      <td>10</td>\n    </tr>\n  </tbody>\n</table>\n</div>"
     },
     "execution_count": 263,
     "metadata": {},
     "output_type": "execute_result"
    }
   ],
   "source": [
    "compare_column = \"mlen\"\n",
    "df.loc[(df[[f'00_{compare_column}',\n",
    "        f'05_{compare_column}',\n",
    "        f'10_{compare_column}',\n",
    "        f'15_{compare_column}',\n",
    "        f'30_{compare_column}',\n",
    "        f'60_{compare_column}']].nunique(axis=1, dropna=False) == 1), 'assignment'] = \"ambiguous\"\n",
    "df[(df[[f'00_{compare_column}',\n",
    "        f'05_{compare_column}',\n",
    "        f'10_{compare_column}',\n",
    "        f'15_{compare_column}',\n",
    "        f'30_{compare_column}',\n",
    "        f'60_{compare_column}']].apply(pd.Series.nlargest, axis=1, n=2).nunique(axis=1, dropna=False) == 2)][df.truncated_dir != \"down\"]"
   ],
   "metadata": {
    "collapsed": false
   }
  },
  {
   "cell_type": "code",
   "execution_count": null,
   "outputs": [],
   "source": [],
   "metadata": {
    "collapsed": false
   }
  },
  {
   "cell_type": "markdown",
   "source": [
    "## Currently, there is an issue with reads that ambiguously map between standards\n",
    "\n",
    "These reads are accidentally assigned to a position because Mappy *really wants to give everything assignments,* and will only really not assign something if I can't remotely map it.\n",
    "\n",
    "This is an issue in cases where the barcode is not part of the read or is too scrambled to be retained. In these cases we want to throw out these reads as ambiguous, rather than just letting them get a random assignment.\n",
    "\n",
    "The most obvious way *(to me)* is to compare the mapping lengths (mlen) for all the standards, as if these are consistent then we are just guessing which is the best map.\n",
    "    Something similar might be acheived by comparing the number of mismatches (NM) which are places that the mapper mapped but the nucleotides differ. For reads that span sequences that are identical between the difference standards (the body of the standards rather than the barcodes)"
   ],
   "metadata": {
    "collapsed": false
   }
  },
  {
   "cell_type": "code",
   "execution_count": null,
   "outputs": [],
   "source": [],
   "metadata": {
    "collapsed": false
   }
  },
  {
   "cell_type": "code",
   "execution_count": 256,
   "outputs": [
    {
     "name": "stderr",
     "output_type": "stream",
     "text": [
      "/tmp/ipykernel_1026487/4150203311.py:12: SettingWithCopyWarning:\n",
      "\n",
      "\n",
      "A value is trying to be set on a copy of a slice from a DataFrame.\n",
      "Try using .loc[row_indexer,col_indexer] = value instead\n",
      "\n",
      "See the caveats in the documentation: https://pandas.pydata.org/pandas-docs/stable/user_guide/indexing.html#returning-a-view-versus-a-copy\n",
      "\n",
      "/tmp/ipykernel_1026487/4150203311.py:13: SettingWithCopyWarning:\n",
      "\n",
      "\n",
      "A value is trying to be set on a copy of a slice from a DataFrame.\n",
      "Try using .loc[row_indexer,col_indexer] = value instead\n",
      "\n",
      "See the caveats in the documentation: https://pandas.pydata.org/pandas-docs/stable/user_guide/indexing.html#returning-a-view-versus-a-copy\n",
      "\n"
     ]
    }
   ],
   "source": [
    "import plotly.express as px\n",
    "import plotly.io as pio\n",
    "pio.renderers.default = \"browser\"\n",
    "\n",
    "df['actual_tail_length'] = df.actual_tail_length.apply(lambda x: f\"{x:0>2}\")\n",
    "df['int_actual_tail_length'] = df.actual_tail_length.astype(int)\n",
    "df['assigned_tail_length'] = df.max_is_primary\n",
    "\n",
    "# test_column = \"max_mlen\"\n",
    "\n",
    "df = df[df.assignment != 'ambiguous']\n",
    "df['correct_match'] = df.int_actual_tail_length == df.assignment  # df[test_column]\n",
    "df['mappy_correct'] = df.int_actual_tail_length == df.assigned_tail_length\n",
    "\n",
    "\n",
    "fig = px.parallel_categories(df,  #[df.truncated_dir == 'up'],\n",
    "                             template='plotly_white',\n",
    "                             color='int_actual_tail_length',\n",
    "                             color_continuous_scale=px.colors.sequential.Inferno,\n",
    "                             dimensions=[\"actual_tail_length\",\n",
    "                                         \"assigned_tail_length\",\n",
    "                                         \"correct_match\",\n",
    "                                         \"max_mlen\",\n",
    "                                         \"truncated\",\n",
    "                                         \"truncated_dir\",\n",
    "                                         \"mappy_correct\"],\n",
    "                             labels={\"correct_match\": f\"Accurately Assigned (w/ {test_column})\",\n",
    "                                     \"max_mlen\": \"Barcode Assigned by 'mlen' count\",\n",
    "                                     \"actual_tail_length\": \"Barcode of Original Sequence\",\n",
    "                                     \"assigned_tail_length\": \"Barcode Assigned Overall by Mappy (best mapq)\",\n",
    "                                     \"max_mapq\": \"Barcode Assigned by 'mapq' score\"})\n",
    "fig.show()"
   ],
   "metadata": {
    "collapsed": false
   }
  },
  {
   "cell_type": "markdown",
   "source": [
    "# FROM THE TOP:"
   ],
   "metadata": {
    "collapsed": false
   }
  },
  {
   "cell_type": "code",
   "execution_count": null,
   "outputs": [],
   "source": [],
   "metadata": {
    "collapsed": false
   }
  }
 ],
 "metadata": {
  "kernelspec": {
   "display_name": "Python 3",
   "language": "python",
   "name": "python3"
  },
  "language_info": {
   "codemirror_mode": {
    "name": "ipython",
    "version": 2
   },
   "file_extension": ".py",
   "mimetype": "text/x-python",
   "name": "python",
   "nbconvert_exporter": "python",
   "pygments_lexer": "ipython2",
   "version": "2.7.6"
  }
 },
 "nbformat": 4,
 "nbformat_minor": 0
}
