{
 "cells": [
  {
   "cell_type": "markdown",
   "source": [
    "# lookingIntoReadTerminalEnds.ipynb\n",
    "## Marcus Viscardi,    November 01, 2022\n",
    "\n",
    "General goal here is to take the assigned reads from 221031_RNAStds_Nano3P_Assignments.csv and assess how accurate those assignments are!"
   ],
   "metadata": {
    "collapsed": false
   }
  },
  {
   "cell_type": "code",
   "execution_count": 2,
   "metadata": {
    "collapsed": true
   },
   "outputs": [
    {
     "name": "stdout",
     "output_type": "stream",
     "text": [
      "imports done.\n"
     ]
    }
   ],
   "source": [
    "import mappy as mp\n",
    "\n",
    "import sys\n",
    "sys.path.insert(0, '/data16/marcus/scripts/nanoporePipelineScripts')\n",
    "from nanoporePipelineCommon import *\n",
    "\n",
    "import numpy as np\n",
    "import pandas as pd\n",
    "pd.set_option('display.width', 200)\n",
    "pd.set_option('display.max_columns', None)\n",
    "\n",
    "print(\"imports done.\")"
   ]
  },
  {
   "cell_type": "code",
   "execution_count": 16,
   "outputs": [],
   "source": [
    "import_csv = \"221109_RNAStds_Nano3P_Assignments.trimmed.csv\"\n",
    "raw_df = pd.read_csv(import_csv)"
   ],
   "metadata": {
    "collapsed": false
   }
  },
  {
   "cell_type": "code",
   "execution_count": 4,
   "outputs": [
    {
     "name": "stderr",
     "output_type": "stream",
     "text": [
      "Reading fastx entries and assigning to standards: 6it [00:00, 18752.48it/s]\n"
     ]
    }
   ],
   "source": [
    "path_to_std_ref_fasta = \"220902_version2.0_releventSequences_wOutTails.fasta\"\n",
    "stds_ref_dict = {}\n",
    "from tqdm import tqdm\n",
    "read_iterator = tqdm(mp.fastx_read(path_to_std_ref_fasta, read_comment=True),\n",
    "                         desc=f\"Reading fastx entries and assigning to standards\"\n",
    "                         )\n",
    "for read_id, sequence, _, comments in read_iterator:\n",
    "    cutdown_read_id = read_id[-6:-4]\n",
    "    stds_ref_dict[cutdown_read_id] = sequence\n",
    "\n",
    "def print_mappy_hit_alignment_for_stds(read_id,\n",
    "                                       cigar_str,\n",
    "                                       r_st, r_en,\n",
    "                                       q_st, q_en,\n",
    "                                       strand,\n",
    "                                       read_seq: str,\n",
    "                                       std_assignment: str,\n",
    "                                       stds_ref_dict,\n",
    "                                       line_print_width=None) -> None:\n",
    "    ref_seq = stds_ref_dict[std_assignment].upper()\n",
    "    print()\n",
    "    print(f\"read_id={read_id}; assignment={std_assignment}\")\n",
    "    import re\n",
    "    parsed_cigar = re.findall(rf'(\\d+)([MDNSIX])', cigar_str)\n",
    "    parsed_cigar = [(int(num), char) for num, char in parsed_cigar]\n",
    "    ref_seq = ref_seq[r_st: r_en]\n",
    "    ref_pos = 0\n",
    "    read_seq = read_seq[q_st: q_en]\n",
    "    read_pos = 0\n",
    "    if strand == \"-\":\n",
    "        read_seq = mp.revcomp(read_seq)\n",
    "    top_line = \"\"\n",
    "    middle_line = \"\"\n",
    "    bottom_line = \"\"\n",
    "    for length, code in parsed_cigar:\n",
    "        if code == \"M\":  # Map (Read & Ref Match)\n",
    "            read_map_piece = read_seq[read_pos:read_pos + length]\n",
    "            ref_map_piece = ref_seq[ref_pos:ref_pos + length]\n",
    "            perfect_matches = \"\"\n",
    "            for index, char in enumerate(read_map_piece):\n",
    "                try:\n",
    "                    if char == ref_map_piece[index]:\n",
    "                        perfect_matches += \"|\"\n",
    "                    else:\n",
    "                        perfect_matches += \"•\"\n",
    "                except IndexError:\n",
    "                    perfect_matches += \" \"\n",
    "            top_line += read_map_piece\n",
    "            middle_line += perfect_matches\n",
    "            bottom_line += ref_map_piece\n",
    "            ref_pos += length\n",
    "            read_pos += length\n",
    "        elif code == \"I\":  # Insert (Gap in Ref)\n",
    "            top_line += read_seq[read_pos:read_pos + length]\n",
    "            middle_line += \" \" * length\n",
    "            bottom_line += \" \" * length\n",
    "            read_pos += length\n",
    "        elif code == \"D\" or code == \"N\":  # Delete (Gap in Read)\n",
    "            top_line += \" \" * length\n",
    "            middle_line += \" \" * length\n",
    "            bottom_line += ref_seq[ref_pos:ref_pos + length]\n",
    "            ref_pos += length\n",
    "    if isinstance(line_print_width, int):\n",
    "        num_blocks = int(np.ceil(len(top_line) / line_print_width))\n",
    "        print_blocks = []\n",
    "        for block_index in range(num_blocks):\n",
    "            print_blocks.append([\n",
    "                top_line[block_index * line_print_width:(block_index + 1) * line_print_width],\n",
    "                middle_line[block_index * line_print_width:(block_index + 1) * line_print_width],\n",
    "                bottom_line[block_index * line_print_width:(block_index + 1) * line_print_width],\n",
    "            ])\n",
    "        for top, mid, bot in print_blocks:\n",
    "            print()\n",
    "            print(f\"Read: {top}\")\n",
    "            print(f\"      {mid}\")\n",
    "            print(f\"Ref:  {bot}\")\n",
    "    else:\n",
    "        print(f\"Read: {top_line}\", f\"      {middle_line}\", f\"Ref:  {bottom_line}\", sep='\\n')"
   ],
   "metadata": {
    "collapsed": false
   }
  },
  {
   "cell_type": "code",
   "execution_count": 5,
   "outputs": [],
   "source": [
    "df = raw_df.copy(deep=True)"
   ],
   "metadata": {
    "collapsed": false
   }
  },
  {
   "cell_type": "code",
   "execution_count": 19,
   "outputs": [
    {
     "name": "stderr",
     "output_type": "stream",
     "text": [
      "Extracting mapping information: 100%|██████████| 233693/233693 [00:10<00:00, 22138.41it/s] \n",
      "/tmp/ipykernel_3191634/2916713529.py:46: SettingWithCopyWarning: \n",
      "A value is trying to be set on a copy of a slice from a DataFrame.\n",
      "Try using .loc[row_indexer,col_indexer] = value instead\n",
      "\n",
      "See the caveats in the documentation: https://pandas.pydata.org/pandas-docs/stable/user_guide/indexing.html#returning-a-view-versus-a-copy\n",
      "  hit_df['cleaned_cigar'] = hit_df.cigar.str.rsplit(\":\", 1).str[1]\n",
      "Checking for perfect barcode matches: 100%|██████████| 193100/193100 [00:08<00:00, 22373.64it/s]\n"
     ]
    },
    {
     "name": "stdout",
     "output_type": "stream",
     "text": [
      "                                read_id assignment                                           sequence q_st q_en strand                        ctg ctg_len r_st r_en mlen blen mapq      tp      ts  \\\n",
      "2  ce3360d6-89ac-44fd-8182-00369a35f346         60  TTTTTTTTTTTTTTTTTTTTTTTTTTTTTTTTTTTTTTTTTTTTTT...  219  723      -  ENO2_finalStandard_60Tail     662  117  653  472  532    1  tp:A:P  ts:A:.   \n",
      "3  cd9bc58b-1f35-4b34-9462-0c1e13410cde         60  TTTTTTTTTTTTTTTTTTTTTTTTTTTTTTTTTTTTTTTTTTTTAG...   44  563      -  ENO2_finalStandard_60Tail     662  127  662  485  536   60  tp:A:P  ts:A:.   \n",
      "4  9c62cb37-e358-4e6b-87a6-608324c0d44c         15  TTTTTTTTAGCACAGCAGCACCCTAGAAGGGCTGAGCTGATTTTAC...    8  522      -  ENO2_finalStandard_15Tail     662  127  657  488  530   36  tp:A:P  ts:A:.   \n",
      "5  089403b0-5366-4327-8bea-212fd9670aa3         60  TTTTTTTTTTTTTTTTTTTTTTTTTTTTTTTTTTTTTTTTTTTTTT...   58  559      -  ENO2_finalStandard_60Tail     662  141  662  461  518   27  tp:A:P  ts:A:.   \n",
      "6  cfa66ca1-8e2e-43b1-bb6c-6391c5f47084         60  TTTTTTTTTTTTTTTTTTTTTTTTTTTTTTTTTTTTTTTTTTTTTT...   49  592      -  ENO2_finalStandard_60Tail     662  104  662  512  557    5  tp:A:P  ts:A:.   \n",
      "\n",
      "                                               cigar                                      cleaned_cigar perfect_barcode  \n",
      "2  cg:Z:83M1D33M3D9M3D12M1I49M1D12M2I1M1D18M1D7M1...  83M1D33M3D9M3D12M1I49M1D12M2I1M1D18M1D7M1I15M1...           False  \n",
      "3  cg:Z:8M1D4M1D21M2I64M1I65M1D58M1I1M2I23M2D25M1...  8M1D4M1D21M2I64M1I65M1D58M1I1M2I23M2D25M1D2M1D...            True  \n",
      "4  cg:Z:54M3D11M2D50M4D1M2D125M3D1M1D63M1I4M1D5M1...  54M3D11M2D50M4D1M2D125M3D1M1D63M1I4M1D5M1I7M4D...            True  \n",
      "5  cg:Z:29M1D17M6D83M1D2M2D51M2D50M3I9M1D2M1D49M2...  29M1D17M6D83M1D2M2D51M2D50M3I9M1D2M1D49M2D19M3...            True  \n",
      "6  cg:Z:57M1D2M2I2M2D50M1D5M1D31M1D10M8D33M2D29M3...  57M1D2M2I2M2D50M1D5M1D31M1D10M8D33M2D29M3D23M1...            True  \n",
      "                                     read_id     assignment                                           sequence  q_st  q_en strand   ctg ctg_len  r_st  r_en  mlen  blen  mapq    tp    ts cigar  \\\n",
      "233660  1704c6fe-f7c1-4ac2-aa22-75b0bcf26430  Ambiguous_All  GTTGCTTACGGTTTACTACTCACGACGATGGCGTCAACAATCAAGT...  <NA>  <NA>   <NA>  <NA>    <NA>  <NA>  <NA>  <NA>  <NA>  <NA>  <NA>  <NA>  <NA>   \n",
      "233665  189ecb34-9375-46d2-9dd8-c6d37747173a  Ambiguous_All  GCTTACGGTTCACTACTCACGACGATGGCGTCAACAATCAGATCCA...  <NA>  <NA>   <NA>  <NA>    <NA>  <NA>  <NA>  <NA>  <NA>  <NA>  <NA>  <NA>  <NA>   \n",
      "233667  b250c86b-7eb2-4fce-afe7-0d7b301dd9a3  Ambiguous_All  CTCTTCTCTTACTTACGGTTCACTACTCACGACGATGGCGTCAACA...  <NA>  <NA>   <NA>  <NA>    <NA>  <NA>  <NA>  <NA>  <NA>  <NA>  <NA>  <NA>  <NA>   \n",
      "233672  8d3a1253-95bb-45cb-be19-0a2e4083840b  Failed_To_Map  TTTTTTAGCACAGCAGCACAGCACCTAGAAGAGGCTGGCTGTTATT...  <NA>  <NA>   <NA>  <NA>    <NA>  <NA>  <NA>  <NA>  <NA>  <NA>  <NA>  <NA>  <NA>   \n",
      "233683  eee07b87-9803-4415-8804-b657b940e2de  Ambiguous_All  CTACTCACGACGATGGCGTCAACAATCAAGTCAAAGCTTCTTCAGC...  <NA>  <NA>   <NA>  <NA>    <NA>  <NA>  <NA>  <NA>  <NA>  <NA>  <NA>  <NA>  <NA>   \n",
      "\n",
      "       cleaned_cigar perfect_barcode  \n",
      "233660          <NA>            <NA>  \n",
      "233665          <NA>            <NA>  \n",
      "233667          <NA>            <NA>  \n",
      "233672          <NA>            <NA>  \n",
      "233683          <NA>            <NA>  \n"
     ]
    },
    {
     "data": {
      "text/plain": "                                  Unnamed: 0 assignment                                           sequence                                      mappy_hit_obj  q_st  q_en strand  \\\n2       ce3360d6-89ac-44fd-8182-00369a35f346         60  TTTTTTTTTTTTTTTTTTTTTTTTTTTTTTTTTTTTTTTTTTTTTT...  219\\t723\\t-\\tENO2_finalStandard_60Tail\\t662\\t1...   219   723      -   \n3       cd9bc58b-1f35-4b34-9462-0c1e13410cde         60  TTTTTTTTTTTTTTTTTTTTTTTTTTTTTTTTTTTTTTTTTTTTAG...  44\\t563\\t-\\tENO2_finalStandard_60Tail\\t662\\t12...    44   563      -   \n4       9c62cb37-e358-4e6b-87a6-608324c0d44c         15  TTTTTTTTAGCACAGCAGCACCCTAGAAGGGCTGAGCTGATTTTAC...  8\\t522\\t-\\tENO2_finalStandard_15Tail\\t662\\t127...     8   522      -   \n5       089403b0-5366-4327-8bea-212fd9670aa3         60  TTTTTTTTTTTTTTTTTTTTTTTTTTTTTTTTTTTTTTTTTTTTTT...  58\\t559\\t-\\tENO2_finalStandard_60Tail\\t662\\t14...    58   559      -   \n6       cfa66ca1-8e2e-43b1-bb6c-6391c5f47084         60  TTTTTTTTTTTTTTTTTTTTTTTTTTTTTTTTTTTTTTTTTTTTTT...  49\\t592\\t-\\tENO2_finalStandard_60Tail\\t662\\t10...    49   592      -   \n...                                      ...        ...                                                ...                                                ...   ...   ...    ...   \n233688  cdc54287-5724-470c-8459-fe12e96846f5         15  CAACTTTTTTTTTTTTTTTTTTTAGCACAGCACAGCACAGCACCTA...  23\\t656\\t-\\tENO2_finalStandard_15Tail\\t662\\t30...    23   656      -   \n233689  c09242cf-9e03-4169-9fba-9159a2527346         15  TTTTTTTTTTTTTTTAGCACAGCACAGCACAGCACCTAGAAGGGCT...  15\\t558\\t-\\tENO2_finalStandard_15Tail\\t662\\t11...    15   558      -   \n233690  e1fe0af7-f616-41fc-ad2b-f182d2a833a4         10  GTTTTAACTGGCAGCAGAGCACGGACGATAGCTGAGCTGAGTCGGT...  11\\t470\\t-\\tENO2_finalStandard_10Tail\\t662\\t17...    11   470      -   \n233691  4782e66e-e8ee-40a3-8b51-5dd078fe9324         05  TTTTTAGCACAGCACAGCACAGCACTTATTGCCATTTGCTGAATGG...  5\\t491\\t-\\tENO2_finalStandard_05Tail\\t662\\t174...     5   491      -   \n233692  d688c522-f1f3-49ba-ba9f-332d837255e6         05  TTTTTAGCACAGCACAGCACAGCACTTATTGCCAGCTGGGCGGTAG...  5\\t470\\t-\\tENO2_finalStandard_05Tail\\t662\\t177...     5   470      -   \n\n                              ctg ctg_len  r_st  r_en mlen blen mapq      tp      ts                                              cigar                                      cleaned_cigar  \\\n2       ENO2_finalStandard_60Tail     662   117   653  472  532    1  tp:A:P  ts:A:.  cg:Z:83M1D33M3D9M3D12M1I49M1D12M2I1M1D18M1D7M1...  83M1D33M3D9M3D12M1I49M1D12M2I1M1D18M1D7M1I15M1...   \n3       ENO2_finalStandard_60Tail     662   127   662  485  536   60  tp:A:P  ts:A:.  cg:Z:8M1D4M1D21M2I64M1I65M1D58M1I1M2I23M2D25M1...  8M1D4M1D21M2I64M1I65M1D58M1I1M2I23M2D25M1D2M1D...   \n4       ENO2_finalStandard_15Tail     662   127   657  488  530   36  tp:A:P  ts:A:.  cg:Z:54M3D11M2D50M4D1M2D125M3D1M1D63M1I4M1D5M1...  54M3D11M2D50M4D1M2D125M3D1M1D63M1I4M1D5M1I7M4D...   \n5       ENO2_finalStandard_60Tail     662   141   662  461  518   27  tp:A:P  ts:A:.  cg:Z:29M1D17M6D83M1D2M2D51M2D50M3I9M1D2M1D49M2...  29M1D17M6D83M1D2M2D51M2D50M3I9M1D2M1D49M2D19M3...   \n6       ENO2_finalStandard_60Tail     662   104   662  512  557    5  tp:A:P  ts:A:.  cg:Z:57M1D2M2I2M2D50M1D5M1D31M1D10M8D33M2D29M3...  57M1D2M2I2M2D50M1D5M1D31M1D10M8D33M2D29M3D23M1...   \n...                           ...     ...   ...   ...  ...  ...  ...     ...     ...                                                ...                                                ...   \n233688  ENO2_finalStandard_15Tail     662    30   662  595  631   46  tp:A:P  ts:A:.  cg:Z:80M1D8M1I29M1I5M3D89M1I1M1I45M1D67M1I33M2...  80M1D8M1I29M1I5M3D89M1I1M1I45M1D67M1I33M2I248M...   \n233689  ENO2_finalStandard_15Tail     662   117   662  500  542   44  tp:A:P  ts:A:.  cg:Z:45M2D6M1D243M1I5M1I12M2I1M1D14M1I82M1D34M...  45M2D6M1D243M1I5M1I12M2I1M1D14M1I82M1D34M1D75M...   \n233690  ENO2_finalStandard_10Tail     662   176   653  409  486   10  tp:A:P  ts:A:.  cg:Z:36M1I12M1D21M6D14M1D24M1I19M1D54M1I8M1I6M...  36M1I12M1D21M6D14M1D24M1I19M1D54M1I8M1I6M3D6M1...   \n233691  ENO2_finalStandard_05Tail     662   174   662  447  492   32  tp:A:P  ts:A:.  cg:Z:21M2D54M1I33M1D29M3I2M1I35M3D66M1I36M2D29...  21M2D54M1I33M1D29M3I2M1I35M3D66M1I36M2D29M2I3M...   \n233692  ENO2_finalStandard_05Tail     662   177   662  433  485   41  tp:A:P  ts:A:.  cg:Z:23M2D9M3D8M3D9M2I2M2I7M4D44M1I63M1D3M1D6M...  23M2D9M3D8M3D9M2I2M2I7M4D44M1I63M1D3M1D6M3D6M1...   \n\n        perfect_barcode  \n2                 False  \n3                  True  \n4                  True  \n5                  True  \n6                  True  \n...                 ...  \n233688             True  \n233689             True  \n233690            False  \n233691            False  \n233692            False  \n\n[193100 rows x 19 columns]",
      "text/html": "<div>\n<style scoped>\n    .dataframe tbody tr th:only-of-type {\n        vertical-align: middle;\n    }\n\n    .dataframe tbody tr th {\n        vertical-align: top;\n    }\n\n    .dataframe thead th {\n        text-align: right;\n    }\n</style>\n<table border=\"1\" class=\"dataframe\">\n  <thead>\n    <tr style=\"text-align: right;\">\n      <th></th>\n      <th>Unnamed: 0</th>\n      <th>assignment</th>\n      <th>sequence</th>\n      <th>mappy_hit_obj</th>\n      <th>q_st</th>\n      <th>q_en</th>\n      <th>strand</th>\n      <th>ctg</th>\n      <th>ctg_len</th>\n      <th>r_st</th>\n      <th>r_en</th>\n      <th>mlen</th>\n      <th>blen</th>\n      <th>mapq</th>\n      <th>tp</th>\n      <th>ts</th>\n      <th>cigar</th>\n      <th>cleaned_cigar</th>\n      <th>perfect_barcode</th>\n    </tr>\n  </thead>\n  <tbody>\n    <tr>\n      <th>2</th>\n      <td>ce3360d6-89ac-44fd-8182-00369a35f346</td>\n      <td>60</td>\n      <td>TTTTTTTTTTTTTTTTTTTTTTTTTTTTTTTTTTTTTTTTTTTTTT...</td>\n      <td>219\\t723\\t-\\tENO2_finalStandard_60Tail\\t662\\t1...</td>\n      <td>219</td>\n      <td>723</td>\n      <td>-</td>\n      <td>ENO2_finalStandard_60Tail</td>\n      <td>662</td>\n      <td>117</td>\n      <td>653</td>\n      <td>472</td>\n      <td>532</td>\n      <td>1</td>\n      <td>tp:A:P</td>\n      <td>ts:A:.</td>\n      <td>cg:Z:83M1D33M3D9M3D12M1I49M1D12M2I1M1D18M1D7M1...</td>\n      <td>83M1D33M3D9M3D12M1I49M1D12M2I1M1D18M1D7M1I15M1...</td>\n      <td>False</td>\n    </tr>\n    <tr>\n      <th>3</th>\n      <td>cd9bc58b-1f35-4b34-9462-0c1e13410cde</td>\n      <td>60</td>\n      <td>TTTTTTTTTTTTTTTTTTTTTTTTTTTTTTTTTTTTTTTTTTTTAG...</td>\n      <td>44\\t563\\t-\\tENO2_finalStandard_60Tail\\t662\\t12...</td>\n      <td>44</td>\n      <td>563</td>\n      <td>-</td>\n      <td>ENO2_finalStandard_60Tail</td>\n      <td>662</td>\n      <td>127</td>\n      <td>662</td>\n      <td>485</td>\n      <td>536</td>\n      <td>60</td>\n      <td>tp:A:P</td>\n      <td>ts:A:.</td>\n      <td>cg:Z:8M1D4M1D21M2I64M1I65M1D58M1I1M2I23M2D25M1...</td>\n      <td>8M1D4M1D21M2I64M1I65M1D58M1I1M2I23M2D25M1D2M1D...</td>\n      <td>True</td>\n    </tr>\n    <tr>\n      <th>4</th>\n      <td>9c62cb37-e358-4e6b-87a6-608324c0d44c</td>\n      <td>15</td>\n      <td>TTTTTTTTAGCACAGCAGCACCCTAGAAGGGCTGAGCTGATTTTAC...</td>\n      <td>8\\t522\\t-\\tENO2_finalStandard_15Tail\\t662\\t127...</td>\n      <td>8</td>\n      <td>522</td>\n      <td>-</td>\n      <td>ENO2_finalStandard_15Tail</td>\n      <td>662</td>\n      <td>127</td>\n      <td>657</td>\n      <td>488</td>\n      <td>530</td>\n      <td>36</td>\n      <td>tp:A:P</td>\n      <td>ts:A:.</td>\n      <td>cg:Z:54M3D11M2D50M4D1M2D125M3D1M1D63M1I4M1D5M1...</td>\n      <td>54M3D11M2D50M4D1M2D125M3D1M1D63M1I4M1D5M1I7M4D...</td>\n      <td>True</td>\n    </tr>\n    <tr>\n      <th>5</th>\n      <td>089403b0-5366-4327-8bea-212fd9670aa3</td>\n      <td>60</td>\n      <td>TTTTTTTTTTTTTTTTTTTTTTTTTTTTTTTTTTTTTTTTTTTTTT...</td>\n      <td>58\\t559\\t-\\tENO2_finalStandard_60Tail\\t662\\t14...</td>\n      <td>58</td>\n      <td>559</td>\n      <td>-</td>\n      <td>ENO2_finalStandard_60Tail</td>\n      <td>662</td>\n      <td>141</td>\n      <td>662</td>\n      <td>461</td>\n      <td>518</td>\n      <td>27</td>\n      <td>tp:A:P</td>\n      <td>ts:A:.</td>\n      <td>cg:Z:29M1D17M6D83M1D2M2D51M2D50M3I9M1D2M1D49M2...</td>\n      <td>29M1D17M6D83M1D2M2D51M2D50M3I9M1D2M1D49M2D19M3...</td>\n      <td>True</td>\n    </tr>\n    <tr>\n      <th>6</th>\n      <td>cfa66ca1-8e2e-43b1-bb6c-6391c5f47084</td>\n      <td>60</td>\n      <td>TTTTTTTTTTTTTTTTTTTTTTTTTTTTTTTTTTTTTTTTTTTTTT...</td>\n      <td>49\\t592\\t-\\tENO2_finalStandard_60Tail\\t662\\t10...</td>\n      <td>49</td>\n      <td>592</td>\n      <td>-</td>\n      <td>ENO2_finalStandard_60Tail</td>\n      <td>662</td>\n      <td>104</td>\n      <td>662</td>\n      <td>512</td>\n      <td>557</td>\n      <td>5</td>\n      <td>tp:A:P</td>\n      <td>ts:A:.</td>\n      <td>cg:Z:57M1D2M2I2M2D50M1D5M1D31M1D10M8D33M2D29M3...</td>\n      <td>57M1D2M2I2M2D50M1D5M1D31M1D10M8D33M2D29M3D23M1...</td>\n      <td>True</td>\n    </tr>\n    <tr>\n      <th>...</th>\n      <td>...</td>\n      <td>...</td>\n      <td>...</td>\n      <td>...</td>\n      <td>...</td>\n      <td>...</td>\n      <td>...</td>\n      <td>...</td>\n      <td>...</td>\n      <td>...</td>\n      <td>...</td>\n      <td>...</td>\n      <td>...</td>\n      <td>...</td>\n      <td>...</td>\n      <td>...</td>\n      <td>...</td>\n      <td>...</td>\n      <td>...</td>\n    </tr>\n    <tr>\n      <th>233688</th>\n      <td>cdc54287-5724-470c-8459-fe12e96846f5</td>\n      <td>15</td>\n      <td>CAACTTTTTTTTTTTTTTTTTTTAGCACAGCACAGCACAGCACCTA...</td>\n      <td>23\\t656\\t-\\tENO2_finalStandard_15Tail\\t662\\t30...</td>\n      <td>23</td>\n      <td>656</td>\n      <td>-</td>\n      <td>ENO2_finalStandard_15Tail</td>\n      <td>662</td>\n      <td>30</td>\n      <td>662</td>\n      <td>595</td>\n      <td>631</td>\n      <td>46</td>\n      <td>tp:A:P</td>\n      <td>ts:A:.</td>\n      <td>cg:Z:80M1D8M1I29M1I5M3D89M1I1M1I45M1D67M1I33M2...</td>\n      <td>80M1D8M1I29M1I5M3D89M1I1M1I45M1D67M1I33M2I248M...</td>\n      <td>True</td>\n    </tr>\n    <tr>\n      <th>233689</th>\n      <td>c09242cf-9e03-4169-9fba-9159a2527346</td>\n      <td>15</td>\n      <td>TTTTTTTTTTTTTTTAGCACAGCACAGCACAGCACCTAGAAGGGCT...</td>\n      <td>15\\t558\\t-\\tENO2_finalStandard_15Tail\\t662\\t11...</td>\n      <td>15</td>\n      <td>558</td>\n      <td>-</td>\n      <td>ENO2_finalStandard_15Tail</td>\n      <td>662</td>\n      <td>117</td>\n      <td>662</td>\n      <td>500</td>\n      <td>542</td>\n      <td>44</td>\n      <td>tp:A:P</td>\n      <td>ts:A:.</td>\n      <td>cg:Z:45M2D6M1D243M1I5M1I12M2I1M1D14M1I82M1D34M...</td>\n      <td>45M2D6M1D243M1I5M1I12M2I1M1D14M1I82M1D34M1D75M...</td>\n      <td>True</td>\n    </tr>\n    <tr>\n      <th>233690</th>\n      <td>e1fe0af7-f616-41fc-ad2b-f182d2a833a4</td>\n      <td>10</td>\n      <td>GTTTTAACTGGCAGCAGAGCACGGACGATAGCTGAGCTGAGTCGGT...</td>\n      <td>11\\t470\\t-\\tENO2_finalStandard_10Tail\\t662\\t17...</td>\n      <td>11</td>\n      <td>470</td>\n      <td>-</td>\n      <td>ENO2_finalStandard_10Tail</td>\n      <td>662</td>\n      <td>176</td>\n      <td>653</td>\n      <td>409</td>\n      <td>486</td>\n      <td>10</td>\n      <td>tp:A:P</td>\n      <td>ts:A:.</td>\n      <td>cg:Z:36M1I12M1D21M6D14M1D24M1I19M1D54M1I8M1I6M...</td>\n      <td>36M1I12M1D21M6D14M1D24M1I19M1D54M1I8M1I6M3D6M1...</td>\n      <td>False</td>\n    </tr>\n    <tr>\n      <th>233691</th>\n      <td>4782e66e-e8ee-40a3-8b51-5dd078fe9324</td>\n      <td>05</td>\n      <td>TTTTTAGCACAGCACAGCACAGCACTTATTGCCATTTGCTGAATGG...</td>\n      <td>5\\t491\\t-\\tENO2_finalStandard_05Tail\\t662\\t174...</td>\n      <td>5</td>\n      <td>491</td>\n      <td>-</td>\n      <td>ENO2_finalStandard_05Tail</td>\n      <td>662</td>\n      <td>174</td>\n      <td>662</td>\n      <td>447</td>\n      <td>492</td>\n      <td>32</td>\n      <td>tp:A:P</td>\n      <td>ts:A:.</td>\n      <td>cg:Z:21M2D54M1I33M1D29M3I2M1I35M3D66M1I36M2D29...</td>\n      <td>21M2D54M1I33M1D29M3I2M1I35M3D66M1I36M2D29M2I3M...</td>\n      <td>False</td>\n    </tr>\n    <tr>\n      <th>233692</th>\n      <td>d688c522-f1f3-49ba-ba9f-332d837255e6</td>\n      <td>05</td>\n      <td>TTTTTAGCACAGCACAGCACAGCACTTATTGCCAGCTGGGCGGTAG...</td>\n      <td>5\\t470\\t-\\tENO2_finalStandard_05Tail\\t662\\t177...</td>\n      <td>5</td>\n      <td>470</td>\n      <td>-</td>\n      <td>ENO2_finalStandard_05Tail</td>\n      <td>662</td>\n      <td>177</td>\n      <td>662</td>\n      <td>433</td>\n      <td>485</td>\n      <td>41</td>\n      <td>tp:A:P</td>\n      <td>ts:A:.</td>\n      <td>cg:Z:23M2D9M3D8M3D9M2I2M2I7M4D44M1I63M1D3M1D6M...</td>\n      <td>23M2D9M3D8M3D9M2I2M2I7M4D44M1I63M1D3M1D6M3D6M1...</td>\n      <td>False</td>\n    </tr>\n  </tbody>\n</table>\n<p>193100 rows × 19 columns</p>\n</div>"
     },
     "execution_count": 19,
     "metadata": {},
     "output_type": "execute_result"
    }
   ],
   "source": [
    "def mappy_cols_to_cols(mappy_obj_column):\n",
    "    \"\"\"\n",
    "    The main reason to have this as its own script is to handle the errors that come from failed splits (which result from failed maps!)\n",
    "    \n",
    "    :param mappy_obj_column: \n",
    "    :return: \n",
    "    \"\"\"\n",
    "    if isinstance(mappy_obj_column, str):\n",
    "        return_values = mappy_obj_column.split(\"\\t\")\n",
    "    else:\n",
    "        return_values = [None for _ in range(13)]\n",
    "    if len(return_values) == 13:\n",
    "        return return_values\n",
    "    else:\n",
    "        print(return_values)\n",
    "\n",
    "def check_for_perfect_matches(rc_barcode_dict, **row):\n",
    "    assignment = row['assignment']\n",
    "    sequence = row['sequence']\n",
    "    barcode = rc_barcode_dict[assignment]\n",
    "    perfect_barcode = barcode in sequence\n",
    "    return perfect_barcode\n",
    "\n",
    "# Mapping info\n",
    "tqdm.pandas(desc=f'Extracting mapping information')\n",
    "df[[\n",
    "    'q_st',\n",
    "    'q_en',\n",
    "    'strand',\n",
    "    'ctg',\n",
    "    'ctg_len',\n",
    "    'r_st',\n",
    "    'r_en',\n",
    "    'mlen',\n",
    "    'blen',\n",
    "    'mapq',\n",
    "    'tp', 'ts',\n",
    "    'cigar',\n",
    "]] = df.progress_apply(lambda row: mappy_cols_to_cols(row['mappy_hit_obj']), axis=1, result_type='expand')\n",
    "\n",
    "# Isolate misses\n",
    "miss_df = df[~df.assignment.isin(['00', '05', '10', '15', '30', '60'])]\n",
    "\n",
    "# Isolate hits\n",
    "hit_df = df[df.assignment.isin(['00', '05', '10', '15', '30', '60'])]\n",
    "hit_df['cleaned_cigar'] = hit_df.cigar.str.rsplit(\":\", 1).str[1]\n",
    "hit_df = hit_df.astype({\"r_st\": int,\n",
    "                        \"r_en\": int,\n",
    "                        \"q_st\": int,\n",
    "                        \"q_en\": int,\n",
    "                        })\n",
    "\n",
    "# Perfect barcodes among hits\n",
    "barcode_dict = {\n",
    "'00': 'GGTGTTGTT',\n",
    "'05': 'CGGCAATAA',\n",
    "'10': 'TAATCGTCC',\n",
    "'15': 'CCTTCTAGG',\n",
    "'30': 'ACACACACC',\n",
    "'60': 'AAGAGGAGG',\n",
    "}\n",
    "rc_barcode_dict = {key: mp.revcomp(value) for key, value in barcode_dict.items()}\n",
    "\n",
    "tqdm.pandas(desc='Checking for perfect barcode matches')\n",
    "hit_df['perfect_barcode'] = hit_df.progress_apply(lambda row: check_for_perfect_matches(rc_barcode_dict, **row), axis=1)\n",
    "\n",
    "# Make a merged dataframe that actual has all the contained information spaced out!\n",
    "new_df = pd.concat([hit_df, miss_df])\n",
    "new_df.rename(columns={\"Unnamed: 0\": \"read_id\"}, inplace=True)\n",
    "new_df.drop(columns=[\"mappy_hit_obj\"], inplace=True)\n",
    "new_df.fillna(pd.NA, inplace=True)\n",
    "\n",
    "# Show hit_df b/c that's the one I really care about lol\n",
    "hit_df"
   ],
   "metadata": {
    "collapsed": false
   }
  },
  {
   "cell_type": "code",
   "execution_count": 20,
   "outputs": [
    {
     "name": "stdout",
     "output_type": "stream",
     "text": [
      "Saving re-merged dataframe to: 221205_221109_RNAStds_Nano3P_Assignments.trimmed.parquet\n"
     ]
    }
   ],
   "source": [
    "save_path_partial = import_csv.rstrip(\".csv\")\n",
    "save_path = f\"{get_dt(for_file=True)}_{save_path_partial}.parquet\"\n",
    "print(f\"Saving re-merged dataframe to: {save_path}\")\n",
    "new_df.to_parquet(save_path)"
   ],
   "metadata": {
    "collapsed": false
   }
  },
  {
   "cell_type": "code",
   "execution_count": 11,
   "outputs": [
    {
     "data": {
      "text/plain": "\"\\nfor assignment in ['00', '05', '10', '15', '30', '60']:\\n    # I think something isn't working here? Based on the SampleAlignments file for 00, I should see AT LEAST 14 perfect matches in the 00 list... but this only counts 1!\\n    # It was b/c the SampleAlignments came out of a tool that reverse complimented them!! so I needed to do that for either the sequences or the standards!! \\n    # Damn cDNA!! Fool me once, shame on cDNA. Fool me twice, won't get fooled again.\\n    print()\\n    print(assignment)\\n    print(hit_df[hit_df.assignment == assignment].sequence.str.contains(rc_barcode_dict[assignment], case=False).value_counts(normalize=True))\\n    # Takeaway for this is that all the standards have 20-45% perfect matches. While this isn't awesome, I think it indicates that the large # of 60 isn't a mapping failure!\\nhit_df\\n\""
     },
     "execution_count": 11,
     "metadata": {},
     "output_type": "execute_result"
    }
   ],
   "source": [
    "# This code block was what I used before the previous code block to assess perfect barcode matches. It is no longer useful, but might be helpful for future code writing!\n",
    "\"\"\"\n",
    "for assignment in ['00', '05', '10', '15', '30', '60']:\n",
    "    # I think something isn't working here? Based on the SampleAlignments file for 00, I should see AT LEAST 14 perfect matches in the 00 list... but this only counts 1!\n",
    "    # It was b/c the SampleAlignments came out of a tool that reverse complimented them!! so I needed to do that for either the sequences or the standards!! \n",
    "    # Damn cDNA!! Fool me once, shame on cDNA. Fool me twice, won't get fooled again.\n",
    "    print()\n",
    "    print(assignment)\n",
    "    print(hit_df[hit_df.assignment == assignment].sequence.str.contains(rc_barcode_dict[assignment], case=False).value_counts(normalize=True))\n",
    "    # Takeaway for this is that all the standards have 20-45% perfect matches. While this isn't awesome, I think it indicates that the large # of 60 isn't a mapping failure!\n",
    "hit_df\n",
    "\"\"\""
   ],
   "metadata": {
    "collapsed": false
   }
  },
  {
   "cell_type": "code",
   "execution_count": 15,
   "outputs": [
    {
     "name": "stdout",
     "output_type": "stream",
     "text": [
      "\n",
      "read_id=ce3360d6-89ac-44fd-8182-00369a35f346; assignment=60\n",
      "\n",
      "Read: AAGGCCAACCTAGATGTTGTTGACCAAAAGGCCGTCGATGACTTCTTGTTGTTCTTGGATGGTACCGCCAACAAGTCCAAGTT GGTGCTAACGTCATCTTGGGAGGTTCCATGGCC   GCTAGAGCC   GCTGCTGAAAAGAAACGTCCCATTGTACCAACATTTGGCTGAC\n",
      "      ||||||||||||||||||•••|||||||||||||||||||||||||||||||••||||||||||||||||||||||||||||| ||||||||||••||||||||•|••|||||||||   |||||||||   |||||||||||| ||||||||||||||||||||||||||||||\n",
      "Ref:  AAGGCCAACCTAGATGTTAAGGACCAAAAGGCCGTCGATGACTTCTTGTTGTCTTTGGATGGTACCGCCAACAAGTCCAAGTTGGGTGCTAACGCTATCTTGGGTGTCTCCATGGCCGCTGCTAGAGCCGCTGCTGCTGAAAAG AACGTCCCATTGTACCAACATTTGGCTGAC\n",
      "\n",
      "Read: TTGTCTAAGTCCAAGACCT TCCATACGTTTTAAG AAATTCCATTCTTGAACG TTTGAACGGGTGGTTCCCACGCT GCGGTGCTTAAGTTTTGCAAGAATTTATGATTGCTCCAACTGGTGCTAAGACCTTCGCTGAAGCTTTGAGAATTGGTTCCGAAGTTTACCACAACT\n",
      "      ||||||||||||||||||| ||||||||||||  | •|•||||||||||||||| ||||||| ||||||||||||||| |•|||||||••|•||||||||||||•||||||||||||||||||||||||||||||||||||||••||||||||||||||||||||||||||||||\n",
      "Ref:  TTGTCTAAGTCCAAGACCTCTCCATACGTTTT  GCCAGTTCCATTCTTGAACGTTTTGAAC GGTGGTTCCCACGCTGGTGGTGCTTTGGCTTTGCAAGAATTCATGATTGCTCCAACTGGTGCTAAGACCTTCGCTGAAGCCATGAGAATTGGTTCCGAAGTTTACCACAACT\n",
      "\n",
      "Read: TGAAGTCTTTGACCAAGAAGAGATACGGTGCTTCTGCCGGTAACGTCGGT                 TCCAAACATTCAAACTGCTGAAGAAGC  CGGACTTGATTGTTGACGCCATCGTCGTGAGTAGTGAACCGTAAGCAAGAGAAGAG CACAACATCAGCTCAGC     \n",
      "      ||||||||||||||||||||||||||||||||||||||||||||||||||                 |||||||||||||||•|||||||||||  •||||||||||||||||||||||||||||||||||||||||||||||||||||||| •••••••||||||||||     \n",
      "Ref:  TGAAGTCTTTGACCAAGAAGAGATACGGTGCTTCTGCCGGTAACGTCGGTGACGAAGGTGGTGTTGCTCCAAACATTCAAACCGCTGAAGAAGCTTTGGACTTGATTGTTGACGCCATCGTCGTGAGTAGTGAACCGTAAGCAAGAGAAGAGNNNNNNNNTCAGCTCAGCAAGAG\n",
      "\n",
      "Read: GAGGGTGCTGTGCTG\n",
      "      |||||||||||||||\n",
      "Ref:  GAGGGTGCTGTGCTG\n",
      "\n",
      "read_id=cd9bc58b-1f35-4b34-9462-0c1e13410cde; assignment=60\n",
      "\n",
      "Read: TAGATGTT AGCA CTAAAGGCCGTCGATGACGCCCTTTGTTGTCTTTGGATGGTACCGCCAACAAGTCCAAGTTGGGTGCTAACGCTATCTTGGGTGTCTCCCATGGCCGCTGCTAGAGCCGCTGCTGCTGAAAAGAACGTCCCATTGTACCAACATTTGGCTGAC GGTTCAA\n",
      "      |||||||| ||•| |•||||||||||||||||••|  |||||||||||||||||||||||||||||||||||||||||||||||||||||||||||||||| ||||||||||||||||||||||||||||||||||||||||||||||||||||||||||||||||| •||••||\n",
      "Ref:  TAGATGTTAAGGACCAAAAGGCCGTCGATGACTTC  TTGTTGTCTTTGGATGGTACCGCCAACAAGTCCAAGTTGGGTGCTAACGCTATCTTGGGTGTCT CCATGGCCGCTGCTAGAGCCGCTGCTGCTGAAAAGAACGTCCCATTGTACCAACATTTGGCTGACTTGTCTAA\n",
      "\n",
      "Read: GTCCAAGACCTCTCCATACGTTTTGCCAGTTCCACTTTTGAACGTTTTGAATCTTGGTGGGTTCCACGCTGGTGGTGC  CGGCTTTGCAAGAATTCATGATTAC CC ACTGGTGCTAAGACCTTCGCCG  GC   GAGAATTGGTTCCGAAG  TACTTACAACTTGAAGTC\n",
      "      ||||||||||||||||||||||||||||||||||•|•|||||||||||||| |  |||||•|•|||||||||||||||  •||||||||||||||||||||||•| || ||||||||||||||||||||•|  ||   |||||||||||||||||  ||| •|||||||||||||\n",
      "Ref:  GTCCAAGACCTCTCCATACGTTTTGCCAGTTCCATTCTTGAACGTTTTGAA C  GGTGGTTCCCACGCTGGTGGTGCTTTGGCTTTGCAAGAATTCATGATTGCTCCAACTGGTGCTAAGACCTTCGCTGAAGCCATGAGAATTGGTTCCGAAGTTTAC CACAACTTGAAGTC\n",
      "\n",
      "Read: TTTGAC   GAAGAGATACGGTGCTTCTGCTTTGGTAACGTCGGTGACGAA   GGTGTTGCTCCAAACATTCAAACCGCTGAAGAAGC  CGGA TGGATTGTTGACGCCATCGTCGTGAGTAGTGAACCGTAAGCAAGAGAAGAGGCGGCAC  CAGCTCAGCAAGAGGAGGG\n",
      "      ||||||   |||||||||||||||||||||  •||||||||||||||||||   |||||||||||||||||||||||||||||||||||  •||| |•|||||||||||||||||||||||||||||||||||||||||||||||||•••••••  |||||||||||||||||||\n",
      "Ref:  TTTGACCAAGAAGAGATACGGTGCTTCTGC  CGGTAACGTCGGTGACGAAGGTGGTGTTGCTCCAAACATTCAAACCGCTGAAGAAGCTTTGGACTTGATTGTTGACGCCATCGTCGTGAGTAGTGAACCGTAAGCAAGAGAAGAGNNNNNNNNTCAGCTCAGCAAGAGGAGGG\n",
      "\n",
      "Read: TGCTGTGCTGTGCTGTGCT\n",
      "      |||||||||||||||||||\n",
      "Ref:  TGCTGTGCTGTGCTGTGCT\n",
      "\n",
      "read_id=089403b0-5366-4327-8bea-212fd9670aa3; assignment=60\n",
      "\n",
      "Read: CAAAAGGCCGTCGATGACTTCTTGTTGTC TTGGATGGTACCGCCAA      CAAGTTGGGTGCTAACGCTATCTTGGGTGTCTCCATGGCCGCCGCTAGAGCCGTTGCCGCTGGTGCCAGTGTCCCATTGTACC GC  TTCATTGACTTGTCTAAGTCCAAGACCTCTCCAT\n",
      "      ||||||||||||||||||||||||||||| |||||||||||||||||      ||||||||||||||||||||||||||||||||||||||||||•||||||||||•|||•||||•••••|••||||||||||||| •|  ||•••|||||||||||||||||||||||||||||\n",
      "Ref:  CAAAAGGCCGTCGATGACTTCTTGTTGTCTTTGGATGGTACCGCCAACAAGTCCAAGTTGGGTGCTAACGCTATCTTGGGTGTCTCCATGGCCGCTGCTAGAGCCGCTGCTGCTGAAAAGAACGTCCCATTGTACCAACATTTGGCTGACTTGTCTAAGTCCAAGACCTCTCCAT\n",
      "\n",
      "Read: ACGTTTTGCCAGTTCCA  CTTGAACGTTTTGAACGGTGGTTCCCACGCTGGTGATGCTTTGGCTTTGCAAGAAGAATTTA GA CGTTCCAACCGGTGCTAAGACCTTCGCTGAAGCCATGAGAATTGGTTCC  AGTTTACTACAACTTGAAG   TTCACCAAGAAGAGATA\n",
      "      |||||||||||||||||  |||||||||||||||||||||||||||||||||||•||||||||||||||   |||||||•| || •|•||||||•|||||||||||||||||||||||||||||||||||||||  |||||||•|||||||||||   ||•||||||||||||||\n",
      "Ref:  ACGTTTTGCCAGTTCCATTCTTGAACGTTTTGAACGGTGGTTCCCACGCTGGTGGTGCTTTGGCTTTGC   AAGAATTCATGATTGCTCCAACTGGTGCTAAGACCTTCGCTGAAGCCATGAGAATTGGTTCCGAAGTTTACCACAACTTGAAGTCTTTGACCAAGAAGAGATA\n",
      "\n",
      "Read: CGAAAAGCT  TGCCGGTAACGTCGGTGACGAAGGTGGTGTTGC CCAAACATTCAAACCGCTGAAG  GCTTT GACTTGATTGTTGACGCCATCGTCGTGAGTAGTGAACCGTAAGCAAGAGAAGAGAATTAGTTCCAGCCCGGGAAGAGGAGGGTGCTGTGCTGTGCTGTGC\n",
      "      ||  ••|||  ||||||||||||||||||||||||||||||||| ||||||||||||||||||||||  ||||| ||||||||||||||||||||||||||||||||||||||||||||||||||||||•••••••••||||•|•|•||||||||||||||||||||||||||||\n",
      "Ref:  CG  GTGCTTCTGCCGGTAACGTCGGTGACGAAGGTGGTGTTGCTCCAAACATTCAAACCGCTGAAGAAGCTTTGGACTTGATTGTTGACGCCATCGTCGTGAGTAGTGAACCGTAAGCAAGAGAAGAGNNNNNNNNTCAGCTCAGCAAGAGGAGGGTGCTGTGCTGTGCTGTGC\n",
      "\n",
      "Read: T\n",
      "      |\n",
      "Ref:  T\n",
      "\n",
      "read_id=cfa66ca1-8e2e-43b1-bb6c-6391c5f47084; assignment=60\n",
      "\n",
      "Read: TGCTGCTTTCGTCAAGGCCAACCTAGATGTTAAGGACCAAAAGGCCGTCGATGACTT TTCCGT  TAATTGGATGGTACCGCCAACAAGTCCAAGTTGGGTGCTAACGCCATCTT GGTGT TCCATGGCCGCCGTTAGAGCCGCTGCTGCTG AAAGAACGTC        CC\n",
      "      ||||||||||||||||||||||||||||||||||||||||||||||||||||||||| ||  ||  |••|||||||||||||||||||||||||||||||||||||||||•||||| ||||| |||||||||||•|•||||||||||||||||| ||||||||||        ||\n",
      "Ref:  TGCTGCTTTCGTCAAGGCCAACCTAGATGTTAAGGACCAAAAGGCCGTCGATGACTTCTT  GTTGTCTTTGGATGGTACCGCCAACAAGTCCAAGTTGGGTGCTAACGCTATCTTGGGTGTCTCCATGGCCGCTGCTAGAGCCGCTGCTGCTGAAAAGAACGTCCCATTGTACC\n",
      "\n",
      "Read: AACATTTGCCCGACTTGTCTAAGTCCAAGAC  CTCCATACGTTTTGCCAGTTCCATTCTTG   GTTTTGAACGGTGGTTCCCACGC CGTGGTGCTTTGGCTTTGCAAGAATTCATGATTGCTCCAACTGGTGCTAAGACCTTCGCTGAAGCTTTGAGAATTGGTTCCGAAG \n",
      "      ||||||||•|•||||||||||||||||||||  |||||||||||||||||||||||||||||   ||||||||||||||||||||||| •||||||||||||||||||||||||||||||||||||||||||||||||||||||||||||||||••|||||||||||||||||| \n",
      "Ref:  AACATTTGGCTGACTTGTCTAAGTCCAAGACCTCTCCATACGTTTTGCCAGTTCCATTCTTGAACGTTTTGAACGGTGGTTCCCACGCTGGTGGTGCTTTGGCTTTGCAAGAATTCATGATTGCTCCAACTGGTGCTAAGACCTTCGCTGAAGCCATGAGAATTGGTTCCGAAGT\n",
      "\n",
      "Read: TTACCACAACTTGAAGTCTTTGACCAAATAAAGGAGATACGGTGCTTCTGCCGGTGCAACGTCGGTGACGAAGGTGGTGTTGCTCCAAACATTCAACAAGC GAAGAAGCTTTGGACTTGATTGTTGACGCCATCGTCGTGAGTAGTGAACCGTAAGCAAGAGAAGAGGAGGATT\n",
      "      |||||||||||||||||||||||||||  •|| ||||||||||||||||||||||  |||||||||||||||||||||||||||||||||||||||•••|| ||||||||||||||||||||||||||||||||||||||||||||||||||||||||||||||||||•••••••\n",
      "Ref:  TTACCACAACTTGAAGTCTTTGACCAA  GAA GAGATACGGTGCTTCTGCCGGT  AACGTCGGTGACGAAGGTGGTGTTGCTCCAAACATTCAAACCGCTGAAGAAGCTTTGGACTTGATTGTTGACGCCATCGTCGTGAGTAGTGAACCGTAAGCAAGAGAAGAGNNNNNNN\n",
      "\n",
      "Read: GTCAGCTCAGCAACATGAGGGTGCTGTGCTGTGCTGTGCT\n",
      "      •||||||||||||•|•||||||||||||||||||||||||\n",
      "Ref:  NTCAGCTCAGCAAGAGGAGGGTGCTGTGCTGTGCTGTGCT\n",
      "\n",
      "read_id=c9b188f8-47c6-4530-a0a9-502485aca0f8; assignment=60\n",
      "\n",
      "Read: AACCTAGATGTTAAGGACCAAAAGGCCGTCGATGA   CTTGTTGTCTTTGGATGG         CAAGTCCAAG  CGAAGCCAACGCTATCTT GGTGT TCCATGGCCGCTGCT  AGCCGCTGCTGCTGAA   AACGTCCCATTGTACCAACA      TGACTTGTCTA\n",
      "      |||||||||||||||||||||||||||||||||||   ||||||||||||||||||         ||||||||||  •|••||•||||||||||| ||||| |||||||||||||||  ||||||||||||||||   ||||||||||||||||||||      |||||||||||\n",
      "Ref:  AACCTAGATGTTAAGGACCAAAAGGCCGTCGATGACTTCTTGTTGTCTTTGGATGGTACCGCCAACAAGTCCAAGTTGGGTGCTAACGCTATCTTGGGTGTCTCCATGGCCGCTGCTAGAGCCGCTGCTGCTGAAAAGAACGTCCCATTGTACCAACATTTGGCTGACTTGTCTA\n",
      "\n",
      "Read: AGTCCAAGACCTCTCCATACGTTTTGCCAGTTCCATTCTTTGAACGTTT  AACGGTGGCTT   ACTC GGTGGTGCTTTGGCTTTGCAAGAATTCATGATTGC CCAACTGGTGCCAAGTGACC TCGCT AAG    GAGAATTGGTTCCGAAGTT         TGGAAGT\n",
      "      |||||||||||||||||||||||||||||||||||||| ||||||||||  |||||||| ||   ||•| ||||||||||||||||||||||||||||||||||| |||||||||||•||  |||| ||||| |||    |||||||||||||||||||         |•|||||\n",
      "Ref:  AGTCCAAGACCTCTCCATACGTTTTGCCAGTTCCATTC TTGAACGTTTTGAACGGTGG TTCCCACGCTGGTGGTGCTTTGGCTTTGCAAGAATTCATGATTGCTCCAACTGGTGCTAA  GACCTTCGCTGAAGCCATGAGAATTGGTTCCGAAGTTTACCACAACTTGAAGT\n",
      "\n",
      "Read: CTTTGACCAAGAAACGATACG  GC  CAGTCGGTAACGTCGGTGACGAAGGTGGTGTTGCTCCAAACATTCAAACCGCTG  G TGCTTTTGACTTGATTGTTGACGCCATCGTC  GAGTAGCGAACTGTAAGCAAGAGAAGAGCCCCACACTCAGCTCAGCAAGAGGAGAGT\n",
      "      |||||||||||||••||||||  ||  |•|•||||||||||||||||||||||||||||||||||||||||||||||||||  | •|||||•||||||||||||||||||||||||  ||||||•||||•||||||||||||||||••••••••||||||||||||||||||•||\n",
      "Ref:  CTTTGACCAAGAAGAGATACGGTGCTTCTGCCGGTAACGTCGGTGACGAAGGTGGTGTTGCTCCAAACATTCAAACCGCTGAAGAAGCTTTGGACTTGATTGTTGACGCCATCGTCGTGAGTAGTGAACCGTAAGCAAGAGAAGAGNNNNNNNNTCAGCTCAGCAAGAGGAGGGT\n",
      "\n",
      "Read: GCTGTGCTGTGCTGTGCT\n",
      "      ||||||||||||||||||\n",
      "Ref:  GCTGTGCTGTGCTGTGCT\n",
      "done.\n"
     ]
    }
   ],
   "source": [
    "# Print some example alignments!!\n",
    "\n",
    "hit_df[hit_df.assignment == '60'].head(5).apply(lambda row: print_mappy_hit_alignment_for_stds(\n",
    "    row['Unnamed: 0'],\n",
    "    row['cleaned_cigar'],\n",
    "    row['r_st'],\n",
    "    row['r_en'],\n",
    "    row['q_st'],\n",
    "    row['q_en'],\n",
    "    row['strand'],\n",
    "    row['sequence'],\n",
    "    row['assignment'],\n",
    "    stds_ref_dict,\n",
    "    line_print_width=175,\n",
    "),\n",
    "                                                axis=1)\n",
    "print(\"done.\")"
   ],
   "metadata": {
    "collapsed": false
   }
  },
  {
   "cell_type": "markdown",
   "source": [
    "One interesting thing might be looking for perfect matches of barcodes within reads. This would be a way to avoid any partially mixed up reads!"
   ],
   "metadata": {
    "collapsed": false
   }
  },
  {
   "cell_type": "code",
   "execution_count": 12,
   "outputs": [
    {
     "data": {
      "text/plain": "  assignment  total_count  perfect_match_count   mean_r_en  imperfect_match_count\n0         00         4765                 3130  655.155509                   1635\n1         05        27553                13011  657.355460                  14542\n2         10        45563                35820  657.645831                   9743\n3         15        51368                31908  658.331043                  19460\n4         30          395                    0  653.997468                    395\n5         60        63456                48094  657.595531                  15362",
      "text/html": "<div>\n<style scoped>\n    .dataframe tbody tr th:only-of-type {\n        vertical-align: middle;\n    }\n\n    .dataframe tbody tr th {\n        vertical-align: top;\n    }\n\n    .dataframe thead th {\n        text-align: right;\n    }\n</style>\n<table border=\"1\" class=\"dataframe\">\n  <thead>\n    <tr style=\"text-align: right;\">\n      <th></th>\n      <th>assignment</th>\n      <th>total_count</th>\n      <th>perfect_match_count</th>\n      <th>mean_r_en</th>\n      <th>imperfect_match_count</th>\n    </tr>\n  </thead>\n  <tbody>\n    <tr>\n      <th>0</th>\n      <td>00</td>\n      <td>4765</td>\n      <td>3130</td>\n      <td>655.155509</td>\n      <td>1635</td>\n    </tr>\n    <tr>\n      <th>1</th>\n      <td>05</td>\n      <td>27553</td>\n      <td>13011</td>\n      <td>657.355460</td>\n      <td>14542</td>\n    </tr>\n    <tr>\n      <th>2</th>\n      <td>10</td>\n      <td>45563</td>\n      <td>35820</td>\n      <td>657.645831</td>\n      <td>9743</td>\n    </tr>\n    <tr>\n      <th>3</th>\n      <td>15</td>\n      <td>51368</td>\n      <td>31908</td>\n      <td>658.331043</td>\n      <td>19460</td>\n    </tr>\n    <tr>\n      <th>4</th>\n      <td>30</td>\n      <td>395</td>\n      <td>0</td>\n      <td>653.997468</td>\n      <td>395</td>\n    </tr>\n    <tr>\n      <th>5</th>\n      <td>60</td>\n      <td>63456</td>\n      <td>48094</td>\n      <td>657.595531</td>\n      <td>15362</td>\n    </tr>\n  </tbody>\n</table>\n</div>"
     },
     "execution_count": 12,
     "metadata": {},
     "output_type": "execute_result"
    }
   ],
   "source": [
    "hit_df_groupby = hit_df.groupby(\"assignment\")\n",
    "\n",
    "grouped_df = hit_df_groupby['assignment'].count().to_frame(name=\"total_count\")\n",
    "grouped_df['perfect_match_count'] = hit_df_groupby['perfect_barcode'].sum().to_frame(name=\"perfect_match_count\")\n",
    "grouped_df['mean_r_en'] = hit_df_groupby['r_en'].mean().to_frame(name=\"mean_r_en\")\n",
    "\n",
    "grouped_df['imperfect_match_count'] = grouped_df.total_count - grouped_df.perfect_match_count\n",
    "grouped_df = grouped_df.reset_index()\n",
    "grouped_df"
   ],
   "metadata": {
    "collapsed": false
   }
  },
  {
   "cell_type": "code",
   "execution_count": 14,
   "outputs": [
    {
     "data": {
      "application/vnd.plotly.v1+json": {
       "config": {
        "plotlyServerURL": "https://plot.ly"
       },
       "data": [
        {
         "alignmentgroup": "True",
         "hovertemplate": "variable=perfect_match_count<br>assignment=%{x}<br>value=%{y}<extra></extra>",
         "legendgroup": "perfect_match_count",
         "marker": {
          "color": "#636efa",
          "pattern": {
           "shape": ""
          }
         },
         "name": "perfect_match_count",
         "offsetgroup": "perfect_match_count",
         "orientation": "v",
         "showlegend": true,
         "textposition": "auto",
         "type": "bar",
         "x": [
          "00",
          "05",
          "10",
          "15",
          "30",
          "60"
         ],
         "xaxis": "x",
         "y": [
          3130,
          13011,
          35820,
          31908,
          0,
          48094
         ],
         "yaxis": "y"
        },
        {
         "alignmentgroup": "True",
         "hovertemplate": "variable=imperfect_match_count<br>assignment=%{x}<br>value=%{y}<extra></extra>",
         "legendgroup": "imperfect_match_count",
         "marker": {
          "color": "#EF553B",
          "pattern": {
           "shape": ""
          }
         },
         "name": "imperfect_match_count",
         "offsetgroup": "imperfect_match_count",
         "orientation": "v",
         "showlegend": true,
         "textposition": "auto",
         "type": "bar",
         "x": [
          "00",
          "05",
          "10",
          "15",
          "30",
          "60"
         ],
         "xaxis": "x",
         "y": [
          1635,
          14542,
          9743,
          19460,
          395,
          15362
         ],
         "yaxis": "y"
        }
       ],
       "layout": {
        "barmode": "relative",
        "height": 500,
        "legend": {
         "orientation": "h",
         "title": {
          "text": "variable"
         },
         "tracegroupgap": 0,
         "x": 0.01,
         "xanchor": "left",
         "y": 0.99,
         "yanchor": "top"
        },
        "margin": {
         "t": 60
        },
        "template": {
         "data": {
          "bar": [
           {
            "error_x": {
             "color": "#f2f5fa"
            },
            "error_y": {
             "color": "#f2f5fa"
            },
            "marker": {
             "line": {
              "color": "rgb(17,17,17)",
              "width": 0.5
             },
             "pattern": {
              "fillmode": "overlay",
              "size": 10,
              "solidity": 0.2
             }
            },
            "type": "bar"
           }
          ],
          "barpolar": [
           {
            "marker": {
             "line": {
              "color": "rgb(17,17,17)",
              "width": 0.5
             },
             "pattern": {
              "fillmode": "overlay",
              "size": 10,
              "solidity": 0.2
             }
            },
            "type": "barpolar"
           }
          ],
          "carpet": [
           {
            "aaxis": {
             "endlinecolor": "#A2B1C6",
             "gridcolor": "#506784",
             "linecolor": "#506784",
             "minorgridcolor": "#506784",
             "startlinecolor": "#A2B1C6"
            },
            "baxis": {
             "endlinecolor": "#A2B1C6",
             "gridcolor": "#506784",
             "linecolor": "#506784",
             "minorgridcolor": "#506784",
             "startlinecolor": "#A2B1C6"
            },
            "type": "carpet"
           }
          ],
          "choropleth": [
           {
            "colorbar": {
             "outlinewidth": 0,
             "ticks": ""
            },
            "type": "choropleth"
           }
          ],
          "contour": [
           {
            "colorbar": {
             "outlinewidth": 0,
             "ticks": ""
            },
            "colorscale": [
             [
              0.0,
              "#0d0887"
             ],
             [
              0.1111111111111111,
              "#46039f"
             ],
             [
              0.2222222222222222,
              "#7201a8"
             ],
             [
              0.3333333333333333,
              "#9c179e"
             ],
             [
              0.4444444444444444,
              "#bd3786"
             ],
             [
              0.5555555555555556,
              "#d8576b"
             ],
             [
              0.6666666666666666,
              "#ed7953"
             ],
             [
              0.7777777777777778,
              "#fb9f3a"
             ],
             [
              0.8888888888888888,
              "#fdca26"
             ],
             [
              1.0,
              "#f0f921"
             ]
            ],
            "type": "contour"
           }
          ],
          "contourcarpet": [
           {
            "colorbar": {
             "outlinewidth": 0,
             "ticks": ""
            },
            "type": "contourcarpet"
           }
          ],
          "heatmap": [
           {
            "colorbar": {
             "outlinewidth": 0,
             "ticks": ""
            },
            "colorscale": [
             [
              0.0,
              "#0d0887"
             ],
             [
              0.1111111111111111,
              "#46039f"
             ],
             [
              0.2222222222222222,
              "#7201a8"
             ],
             [
              0.3333333333333333,
              "#9c179e"
             ],
             [
              0.4444444444444444,
              "#bd3786"
             ],
             [
              0.5555555555555556,
              "#d8576b"
             ],
             [
              0.6666666666666666,
              "#ed7953"
             ],
             [
              0.7777777777777778,
              "#fb9f3a"
             ],
             [
              0.8888888888888888,
              "#fdca26"
             ],
             [
              1.0,
              "#f0f921"
             ]
            ],
            "type": "heatmap"
           }
          ],
          "heatmapgl": [
           {
            "colorbar": {
             "outlinewidth": 0,
             "ticks": ""
            },
            "colorscale": [
             [
              0.0,
              "#0d0887"
             ],
             [
              0.1111111111111111,
              "#46039f"
             ],
             [
              0.2222222222222222,
              "#7201a8"
             ],
             [
              0.3333333333333333,
              "#9c179e"
             ],
             [
              0.4444444444444444,
              "#bd3786"
             ],
             [
              0.5555555555555556,
              "#d8576b"
             ],
             [
              0.6666666666666666,
              "#ed7953"
             ],
             [
              0.7777777777777778,
              "#fb9f3a"
             ],
             [
              0.8888888888888888,
              "#fdca26"
             ],
             [
              1.0,
              "#f0f921"
             ]
            ],
            "type": "heatmapgl"
           }
          ],
          "histogram": [
           {
            "marker": {
             "pattern": {
              "fillmode": "overlay",
              "size": 10,
              "solidity": 0.2
             }
            },
            "type": "histogram"
           }
          ],
          "histogram2d": [
           {
            "colorbar": {
             "outlinewidth": 0,
             "ticks": ""
            },
            "colorscale": [
             [
              0.0,
              "#0d0887"
             ],
             [
              0.1111111111111111,
              "#46039f"
             ],
             [
              0.2222222222222222,
              "#7201a8"
             ],
             [
              0.3333333333333333,
              "#9c179e"
             ],
             [
              0.4444444444444444,
              "#bd3786"
             ],
             [
              0.5555555555555556,
              "#d8576b"
             ],
             [
              0.6666666666666666,
              "#ed7953"
             ],
             [
              0.7777777777777778,
              "#fb9f3a"
             ],
             [
              0.8888888888888888,
              "#fdca26"
             ],
             [
              1.0,
              "#f0f921"
             ]
            ],
            "type": "histogram2d"
           }
          ],
          "histogram2dcontour": [
           {
            "colorbar": {
             "outlinewidth": 0,
             "ticks": ""
            },
            "colorscale": [
             [
              0.0,
              "#0d0887"
             ],
             [
              0.1111111111111111,
              "#46039f"
             ],
             [
              0.2222222222222222,
              "#7201a8"
             ],
             [
              0.3333333333333333,
              "#9c179e"
             ],
             [
              0.4444444444444444,
              "#bd3786"
             ],
             [
              0.5555555555555556,
              "#d8576b"
             ],
             [
              0.6666666666666666,
              "#ed7953"
             ],
             [
              0.7777777777777778,
              "#fb9f3a"
             ],
             [
              0.8888888888888888,
              "#fdca26"
             ],
             [
              1.0,
              "#f0f921"
             ]
            ],
            "type": "histogram2dcontour"
           }
          ],
          "mesh3d": [
           {
            "colorbar": {
             "outlinewidth": 0,
             "ticks": ""
            },
            "type": "mesh3d"
           }
          ],
          "parcoords": [
           {
            "line": {
             "colorbar": {
              "outlinewidth": 0,
              "ticks": ""
             }
            },
            "type": "parcoords"
           }
          ],
          "pie": [
           {
            "automargin": true,
            "type": "pie"
           }
          ],
          "scatter": [
           {
            "marker": {
             "line": {
              "color": "#283442"
             }
            },
            "type": "scatter"
           }
          ],
          "scatter3d": [
           {
            "line": {
             "colorbar": {
              "outlinewidth": 0,
              "ticks": ""
             }
            },
            "marker": {
             "colorbar": {
              "outlinewidth": 0,
              "ticks": ""
             }
            },
            "type": "scatter3d"
           }
          ],
          "scattercarpet": [
           {
            "marker": {
             "colorbar": {
              "outlinewidth": 0,
              "ticks": ""
             }
            },
            "type": "scattercarpet"
           }
          ],
          "scattergeo": [
           {
            "marker": {
             "colorbar": {
              "outlinewidth": 0,
              "ticks": ""
             }
            },
            "type": "scattergeo"
           }
          ],
          "scattergl": [
           {
            "marker": {
             "line": {
              "color": "#283442"
             }
            },
            "type": "scattergl"
           }
          ],
          "scattermapbox": [
           {
            "marker": {
             "colorbar": {
              "outlinewidth": 0,
              "ticks": ""
             }
            },
            "type": "scattermapbox"
           }
          ],
          "scatterpolar": [
           {
            "marker": {
             "colorbar": {
              "outlinewidth": 0,
              "ticks": ""
             }
            },
            "type": "scatterpolar"
           }
          ],
          "scatterpolargl": [
           {
            "marker": {
             "colorbar": {
              "outlinewidth": 0,
              "ticks": ""
             }
            },
            "type": "scatterpolargl"
           }
          ],
          "scatterternary": [
           {
            "marker": {
             "colorbar": {
              "outlinewidth": 0,
              "ticks": ""
             }
            },
            "type": "scatterternary"
           }
          ],
          "surface": [
           {
            "colorbar": {
             "outlinewidth": 0,
             "ticks": ""
            },
            "colorscale": [
             [
              0.0,
              "#0d0887"
             ],
             [
              0.1111111111111111,
              "#46039f"
             ],
             [
              0.2222222222222222,
              "#7201a8"
             ],
             [
              0.3333333333333333,
              "#9c179e"
             ],
             [
              0.4444444444444444,
              "#bd3786"
             ],
             [
              0.5555555555555556,
              "#d8576b"
             ],
             [
              0.6666666666666666,
              "#ed7953"
             ],
             [
              0.7777777777777778,
              "#fb9f3a"
             ],
             [
              0.8888888888888888,
              "#fdca26"
             ],
             [
              1.0,
              "#f0f921"
             ]
            ],
            "type": "surface"
           }
          ],
          "table": [
           {
            "cells": {
             "fill": {
              "color": "#506784"
             },
             "line": {
              "color": "rgb(17,17,17)"
             }
            },
            "header": {
             "fill": {
              "color": "#2a3f5f"
             },
             "line": {
              "color": "rgb(17,17,17)"
             }
            },
            "type": "table"
           }
          ]
         },
         "layout": {
          "annotationdefaults": {
           "arrowcolor": "#f2f5fa",
           "arrowhead": 0,
           "arrowwidth": 1
          },
          "autotypenumbers": "strict",
          "coloraxis": {
           "colorbar": {
            "outlinewidth": 0,
            "ticks": ""
           }
          },
          "colorscale": {
           "diverging": [
            [
             0,
             "#8e0152"
            ],
            [
             0.1,
             "#c51b7d"
            ],
            [
             0.2,
             "#de77ae"
            ],
            [
             0.3,
             "#f1b6da"
            ],
            [
             0.4,
             "#fde0ef"
            ],
            [
             0.5,
             "#f7f7f7"
            ],
            [
             0.6,
             "#e6f5d0"
            ],
            [
             0.7,
             "#b8e186"
            ],
            [
             0.8,
             "#7fbc41"
            ],
            [
             0.9,
             "#4d9221"
            ],
            [
             1,
             "#276419"
            ]
           ],
           "sequential": [
            [
             0.0,
             "#0d0887"
            ],
            [
             0.1111111111111111,
             "#46039f"
            ],
            [
             0.2222222222222222,
             "#7201a8"
            ],
            [
             0.3333333333333333,
             "#9c179e"
            ],
            [
             0.4444444444444444,
             "#bd3786"
            ],
            [
             0.5555555555555556,
             "#d8576b"
            ],
            [
             0.6666666666666666,
             "#ed7953"
            ],
            [
             0.7777777777777778,
             "#fb9f3a"
            ],
            [
             0.8888888888888888,
             "#fdca26"
            ],
            [
             1.0,
             "#f0f921"
            ]
           ],
           "sequentialminus": [
            [
             0.0,
             "#0d0887"
            ],
            [
             0.1111111111111111,
             "#46039f"
            ],
            [
             0.2222222222222222,
             "#7201a8"
            ],
            [
             0.3333333333333333,
             "#9c179e"
            ],
            [
             0.4444444444444444,
             "#bd3786"
            ],
            [
             0.5555555555555556,
             "#d8576b"
            ],
            [
             0.6666666666666666,
             "#ed7953"
            ],
            [
             0.7777777777777778,
             "#fb9f3a"
            ],
            [
             0.8888888888888888,
             "#fdca26"
            ],
            [
             1.0,
             "#f0f921"
            ]
           ]
          },
          "colorway": [
           "#636efa",
           "#EF553B",
           "#00cc96",
           "#ab63fa",
           "#FFA15A",
           "#19d3f3",
           "#FF6692",
           "#B6E880",
           "#FF97FF",
           "#FECB52"
          ],
          "font": {
           "color": "#f2f5fa"
          },
          "geo": {
           "bgcolor": "rgb(17,17,17)",
           "lakecolor": "rgb(17,17,17)",
           "landcolor": "rgb(17,17,17)",
           "showlakes": true,
           "showland": true,
           "subunitcolor": "#506784"
          },
          "hoverlabel": {
           "align": "left"
          },
          "hovermode": "closest",
          "mapbox": {
           "style": "dark"
          },
          "paper_bgcolor": "rgb(17,17,17)",
          "plot_bgcolor": "rgb(17,17,17)",
          "polar": {
           "angularaxis": {
            "gridcolor": "#506784",
            "linecolor": "#506784",
            "ticks": ""
           },
           "bgcolor": "rgb(17,17,17)",
           "radialaxis": {
            "gridcolor": "#506784",
            "linecolor": "#506784",
            "ticks": ""
           }
          },
          "scene": {
           "xaxis": {
            "backgroundcolor": "rgb(17,17,17)",
            "gridcolor": "#506784",
            "gridwidth": 2,
            "linecolor": "#506784",
            "showbackground": true,
            "ticks": "",
            "zerolinecolor": "#C8D4E3"
           },
           "yaxis": {
            "backgroundcolor": "rgb(17,17,17)",
            "gridcolor": "#506784",
            "gridwidth": 2,
            "linecolor": "#506784",
            "showbackground": true,
            "ticks": "",
            "zerolinecolor": "#C8D4E3"
           },
           "zaxis": {
            "backgroundcolor": "rgb(17,17,17)",
            "gridcolor": "#506784",
            "gridwidth": 2,
            "linecolor": "#506784",
            "showbackground": true,
            "ticks": "",
            "zerolinecolor": "#C8D4E3"
           }
          },
          "shapedefaults": {
           "line": {
            "color": "#f2f5fa"
           }
          },
          "sliderdefaults": {
           "bgcolor": "#C8D4E3",
           "bordercolor": "rgb(17,17,17)",
           "borderwidth": 1,
           "tickwidth": 0
          },
          "ternary": {
           "aaxis": {
            "gridcolor": "#506784",
            "linecolor": "#506784",
            "ticks": ""
           },
           "baxis": {
            "gridcolor": "#506784",
            "linecolor": "#506784",
            "ticks": ""
           },
           "bgcolor": "rgb(17,17,17)",
           "caxis": {
            "gridcolor": "#506784",
            "linecolor": "#506784",
            "ticks": ""
           }
          },
          "title": {
           "x": 0.05
          },
          "updatemenudefaults": {
           "bgcolor": "#506784",
           "borderwidth": 0
          },
          "xaxis": {
           "automargin": true,
           "gridcolor": "#283442",
           "linecolor": "#506784",
           "ticks": "",
           "title": {
            "standoff": 15
           },
           "zerolinecolor": "#283442",
           "zerolinewidth": 2
          },
          "yaxis": {
           "automargin": true,
           "gridcolor": "#283442",
           "linecolor": "#506784",
           "ticks": "",
           "title": {
            "standoff": 15
           },
           "zerolinecolor": "#283442",
           "zerolinewidth": 2
          }
         }
        },
        "width": 700,
        "xaxis": {
         "anchor": "y",
         "domain": [
          0.0,
          1.0
         ],
         "title": {
          "text": "assignment"
         }
        },
        "yaxis": {
         "anchor": "x",
         "domain": [
          0.0,
          1.0
         ],
         "title": {
          "text": "value"
         }
        }
       }
      },
      "text/html": "<div>                            <div id=\"116e82a5-6128-44a5-9d06-47b1bb2c8952\" class=\"plotly-graph-div\" style=\"height:500px; width:700px;\"></div>            <script type=\"text/javascript\">                require([\"plotly\"], function(Plotly) {                    window.PLOTLYENV=window.PLOTLYENV || {};                                    if (document.getElementById(\"116e82a5-6128-44a5-9d06-47b1bb2c8952\")) {                    Plotly.newPlot(                        \"116e82a5-6128-44a5-9d06-47b1bb2c8952\",                        [{\"alignmentgroup\":\"True\",\"hovertemplate\":\"variable=perfect_match_count<br>assignment=%{x}<br>value=%{y}<extra></extra>\",\"legendgroup\":\"perfect_match_count\",\"marker\":{\"color\":\"#636efa\",\"pattern\":{\"shape\":\"\"}},\"name\":\"perfect_match_count\",\"offsetgroup\":\"perfect_match_count\",\"orientation\":\"v\",\"showlegend\":true,\"textposition\":\"auto\",\"type\":\"bar\",\"x\":[\"00\",\"05\",\"10\",\"15\",\"30\",\"60\"],\"xaxis\":\"x\",\"y\":[3130,13011,35820,31908,0,48094],\"yaxis\":\"y\"},{\"alignmentgroup\":\"True\",\"hovertemplate\":\"variable=imperfect_match_count<br>assignment=%{x}<br>value=%{y}<extra></extra>\",\"legendgroup\":\"imperfect_match_count\",\"marker\":{\"color\":\"#EF553B\",\"pattern\":{\"shape\":\"\"}},\"name\":\"imperfect_match_count\",\"offsetgroup\":\"imperfect_match_count\",\"orientation\":\"v\",\"showlegend\":true,\"textposition\":\"auto\",\"type\":\"bar\",\"x\":[\"00\",\"05\",\"10\",\"15\",\"30\",\"60\"],\"xaxis\":\"x\",\"y\":[1635,14542,9743,19460,395,15362],\"yaxis\":\"y\"}],                        {\"barmode\":\"relative\",\"height\":500,\"legend\":{\"orientation\":\"h\",\"title\":{\"text\":\"variable\"},\"tracegroupgap\":0,\"x\":0.01,\"xanchor\":\"left\",\"y\":0.99,\"yanchor\":\"top\"},\"margin\":{\"t\":60},\"template\":{\"data\":{\"bar\":[{\"error_x\":{\"color\":\"#f2f5fa\"},\"error_y\":{\"color\":\"#f2f5fa\"},\"marker\":{\"line\":{\"color\":\"rgb(17,17,17)\",\"width\":0.5},\"pattern\":{\"fillmode\":\"overlay\",\"size\":10,\"solidity\":0.2}},\"type\":\"bar\"}],\"barpolar\":[{\"marker\":{\"line\":{\"color\":\"rgb(17,17,17)\",\"width\":0.5},\"pattern\":{\"fillmode\":\"overlay\",\"size\":10,\"solidity\":0.2}},\"type\":\"barpolar\"}],\"carpet\":[{\"aaxis\":{\"endlinecolor\":\"#A2B1C6\",\"gridcolor\":\"#506784\",\"linecolor\":\"#506784\",\"minorgridcolor\":\"#506784\",\"startlinecolor\":\"#A2B1C6\"},\"baxis\":{\"endlinecolor\":\"#A2B1C6\",\"gridcolor\":\"#506784\",\"linecolor\":\"#506784\",\"minorgridcolor\":\"#506784\",\"startlinecolor\":\"#A2B1C6\"},\"type\":\"carpet\"}],\"choropleth\":[{\"colorbar\":{\"outlinewidth\":0,\"ticks\":\"\"},\"type\":\"choropleth\"}],\"contour\":[{\"colorbar\":{\"outlinewidth\":0,\"ticks\":\"\"},\"colorscale\":[[0.0,\"#0d0887\"],[0.1111111111111111,\"#46039f\"],[0.2222222222222222,\"#7201a8\"],[0.3333333333333333,\"#9c179e\"],[0.4444444444444444,\"#bd3786\"],[0.5555555555555556,\"#d8576b\"],[0.6666666666666666,\"#ed7953\"],[0.7777777777777778,\"#fb9f3a\"],[0.8888888888888888,\"#fdca26\"],[1.0,\"#f0f921\"]],\"type\":\"contour\"}],\"contourcarpet\":[{\"colorbar\":{\"outlinewidth\":0,\"ticks\":\"\"},\"type\":\"contourcarpet\"}],\"heatmap\":[{\"colorbar\":{\"outlinewidth\":0,\"ticks\":\"\"},\"colorscale\":[[0.0,\"#0d0887\"],[0.1111111111111111,\"#46039f\"],[0.2222222222222222,\"#7201a8\"],[0.3333333333333333,\"#9c179e\"],[0.4444444444444444,\"#bd3786\"],[0.5555555555555556,\"#d8576b\"],[0.6666666666666666,\"#ed7953\"],[0.7777777777777778,\"#fb9f3a\"],[0.8888888888888888,\"#fdca26\"],[1.0,\"#f0f921\"]],\"type\":\"heatmap\"}],\"heatmapgl\":[{\"colorbar\":{\"outlinewidth\":0,\"ticks\":\"\"},\"colorscale\":[[0.0,\"#0d0887\"],[0.1111111111111111,\"#46039f\"],[0.2222222222222222,\"#7201a8\"],[0.3333333333333333,\"#9c179e\"],[0.4444444444444444,\"#bd3786\"],[0.5555555555555556,\"#d8576b\"],[0.6666666666666666,\"#ed7953\"],[0.7777777777777778,\"#fb9f3a\"],[0.8888888888888888,\"#fdca26\"],[1.0,\"#f0f921\"]],\"type\":\"heatmapgl\"}],\"histogram\":[{\"marker\":{\"pattern\":{\"fillmode\":\"overlay\",\"size\":10,\"solidity\":0.2}},\"type\":\"histogram\"}],\"histogram2d\":[{\"colorbar\":{\"outlinewidth\":0,\"ticks\":\"\"},\"colorscale\":[[0.0,\"#0d0887\"],[0.1111111111111111,\"#46039f\"],[0.2222222222222222,\"#7201a8\"],[0.3333333333333333,\"#9c179e\"],[0.4444444444444444,\"#bd3786\"],[0.5555555555555556,\"#d8576b\"],[0.6666666666666666,\"#ed7953\"],[0.7777777777777778,\"#fb9f3a\"],[0.8888888888888888,\"#fdca26\"],[1.0,\"#f0f921\"]],\"type\":\"histogram2d\"}],\"histogram2dcontour\":[{\"colorbar\":{\"outlinewidth\":0,\"ticks\":\"\"},\"colorscale\":[[0.0,\"#0d0887\"],[0.1111111111111111,\"#46039f\"],[0.2222222222222222,\"#7201a8\"],[0.3333333333333333,\"#9c179e\"],[0.4444444444444444,\"#bd3786\"],[0.5555555555555556,\"#d8576b\"],[0.6666666666666666,\"#ed7953\"],[0.7777777777777778,\"#fb9f3a\"],[0.8888888888888888,\"#fdca26\"],[1.0,\"#f0f921\"]],\"type\":\"histogram2dcontour\"}],\"mesh3d\":[{\"colorbar\":{\"outlinewidth\":0,\"ticks\":\"\"},\"type\":\"mesh3d\"}],\"parcoords\":[{\"line\":{\"colorbar\":{\"outlinewidth\":0,\"ticks\":\"\"}},\"type\":\"parcoords\"}],\"pie\":[{\"automargin\":true,\"type\":\"pie\"}],\"scatter\":[{\"marker\":{\"line\":{\"color\":\"#283442\"}},\"type\":\"scatter\"}],\"scatter3d\":[{\"line\":{\"colorbar\":{\"outlinewidth\":0,\"ticks\":\"\"}},\"marker\":{\"colorbar\":{\"outlinewidth\":0,\"ticks\":\"\"}},\"type\":\"scatter3d\"}],\"scattercarpet\":[{\"marker\":{\"colorbar\":{\"outlinewidth\":0,\"ticks\":\"\"}},\"type\":\"scattercarpet\"}],\"scattergeo\":[{\"marker\":{\"colorbar\":{\"outlinewidth\":0,\"ticks\":\"\"}},\"type\":\"scattergeo\"}],\"scattergl\":[{\"marker\":{\"line\":{\"color\":\"#283442\"}},\"type\":\"scattergl\"}],\"scattermapbox\":[{\"marker\":{\"colorbar\":{\"outlinewidth\":0,\"ticks\":\"\"}},\"type\":\"scattermapbox\"}],\"scatterpolar\":[{\"marker\":{\"colorbar\":{\"outlinewidth\":0,\"ticks\":\"\"}},\"type\":\"scatterpolar\"}],\"scatterpolargl\":[{\"marker\":{\"colorbar\":{\"outlinewidth\":0,\"ticks\":\"\"}},\"type\":\"scatterpolargl\"}],\"scatterternary\":[{\"marker\":{\"colorbar\":{\"outlinewidth\":0,\"ticks\":\"\"}},\"type\":\"scatterternary\"}],\"surface\":[{\"colorbar\":{\"outlinewidth\":0,\"ticks\":\"\"},\"colorscale\":[[0.0,\"#0d0887\"],[0.1111111111111111,\"#46039f\"],[0.2222222222222222,\"#7201a8\"],[0.3333333333333333,\"#9c179e\"],[0.4444444444444444,\"#bd3786\"],[0.5555555555555556,\"#d8576b\"],[0.6666666666666666,\"#ed7953\"],[0.7777777777777778,\"#fb9f3a\"],[0.8888888888888888,\"#fdca26\"],[1.0,\"#f0f921\"]],\"type\":\"surface\"}],\"table\":[{\"cells\":{\"fill\":{\"color\":\"#506784\"},\"line\":{\"color\":\"rgb(17,17,17)\"}},\"header\":{\"fill\":{\"color\":\"#2a3f5f\"},\"line\":{\"color\":\"rgb(17,17,17)\"}},\"type\":\"table\"}]},\"layout\":{\"annotationdefaults\":{\"arrowcolor\":\"#f2f5fa\",\"arrowhead\":0,\"arrowwidth\":1},\"autotypenumbers\":\"strict\",\"coloraxis\":{\"colorbar\":{\"outlinewidth\":0,\"ticks\":\"\"}},\"colorscale\":{\"diverging\":[[0,\"#8e0152\"],[0.1,\"#c51b7d\"],[0.2,\"#de77ae\"],[0.3,\"#f1b6da\"],[0.4,\"#fde0ef\"],[0.5,\"#f7f7f7\"],[0.6,\"#e6f5d0\"],[0.7,\"#b8e186\"],[0.8,\"#7fbc41\"],[0.9,\"#4d9221\"],[1,\"#276419\"]],\"sequential\":[[0.0,\"#0d0887\"],[0.1111111111111111,\"#46039f\"],[0.2222222222222222,\"#7201a8\"],[0.3333333333333333,\"#9c179e\"],[0.4444444444444444,\"#bd3786\"],[0.5555555555555556,\"#d8576b\"],[0.6666666666666666,\"#ed7953\"],[0.7777777777777778,\"#fb9f3a\"],[0.8888888888888888,\"#fdca26\"],[1.0,\"#f0f921\"]],\"sequentialminus\":[[0.0,\"#0d0887\"],[0.1111111111111111,\"#46039f\"],[0.2222222222222222,\"#7201a8\"],[0.3333333333333333,\"#9c179e\"],[0.4444444444444444,\"#bd3786\"],[0.5555555555555556,\"#d8576b\"],[0.6666666666666666,\"#ed7953\"],[0.7777777777777778,\"#fb9f3a\"],[0.8888888888888888,\"#fdca26\"],[1.0,\"#f0f921\"]]},\"colorway\":[\"#636efa\",\"#EF553B\",\"#00cc96\",\"#ab63fa\",\"#FFA15A\",\"#19d3f3\",\"#FF6692\",\"#B6E880\",\"#FF97FF\",\"#FECB52\"],\"font\":{\"color\":\"#f2f5fa\"},\"geo\":{\"bgcolor\":\"rgb(17,17,17)\",\"lakecolor\":\"rgb(17,17,17)\",\"landcolor\":\"rgb(17,17,17)\",\"showlakes\":true,\"showland\":true,\"subunitcolor\":\"#506784\"},\"hoverlabel\":{\"align\":\"left\"},\"hovermode\":\"closest\",\"mapbox\":{\"style\":\"dark\"},\"paper_bgcolor\":\"rgb(17,17,17)\",\"plot_bgcolor\":\"rgb(17,17,17)\",\"polar\":{\"angularaxis\":{\"gridcolor\":\"#506784\",\"linecolor\":\"#506784\",\"ticks\":\"\"},\"bgcolor\":\"rgb(17,17,17)\",\"radialaxis\":{\"gridcolor\":\"#506784\",\"linecolor\":\"#506784\",\"ticks\":\"\"}},\"scene\":{\"xaxis\":{\"backgroundcolor\":\"rgb(17,17,17)\",\"gridcolor\":\"#506784\",\"gridwidth\":2,\"linecolor\":\"#506784\",\"showbackground\":true,\"ticks\":\"\",\"zerolinecolor\":\"#C8D4E3\"},\"yaxis\":{\"backgroundcolor\":\"rgb(17,17,17)\",\"gridcolor\":\"#506784\",\"gridwidth\":2,\"linecolor\":\"#506784\",\"showbackground\":true,\"ticks\":\"\",\"zerolinecolor\":\"#C8D4E3\"},\"zaxis\":{\"backgroundcolor\":\"rgb(17,17,17)\",\"gridcolor\":\"#506784\",\"gridwidth\":2,\"linecolor\":\"#506784\",\"showbackground\":true,\"ticks\":\"\",\"zerolinecolor\":\"#C8D4E3\"}},\"shapedefaults\":{\"line\":{\"color\":\"#f2f5fa\"}},\"sliderdefaults\":{\"bgcolor\":\"#C8D4E3\",\"bordercolor\":\"rgb(17,17,17)\",\"borderwidth\":1,\"tickwidth\":0},\"ternary\":{\"aaxis\":{\"gridcolor\":\"#506784\",\"linecolor\":\"#506784\",\"ticks\":\"\"},\"baxis\":{\"gridcolor\":\"#506784\",\"linecolor\":\"#506784\",\"ticks\":\"\"},\"bgcolor\":\"rgb(17,17,17)\",\"caxis\":{\"gridcolor\":\"#506784\",\"linecolor\":\"#506784\",\"ticks\":\"\"}},\"title\":{\"x\":0.05},\"updatemenudefaults\":{\"bgcolor\":\"#506784\",\"borderwidth\":0},\"xaxis\":{\"automargin\":true,\"gridcolor\":\"#283442\",\"linecolor\":\"#506784\",\"ticks\":\"\",\"title\":{\"standoff\":15},\"zerolinecolor\":\"#283442\",\"zerolinewidth\":2},\"yaxis\":{\"automargin\":true,\"gridcolor\":\"#283442\",\"linecolor\":\"#506784\",\"ticks\":\"\",\"title\":{\"standoff\":15},\"zerolinecolor\":\"#283442\",\"zerolinewidth\":2}}},\"width\":700,\"xaxis\":{\"anchor\":\"y\",\"domain\":[0.0,1.0],\"title\":{\"text\":\"assignment\"}},\"yaxis\":{\"anchor\":\"x\",\"domain\":[0.0,1.0],\"title\":{\"text\":\"value\"}}},                        {\"responsive\": true}                    ).then(function(){\n                            \nvar gd = document.getElementById('116e82a5-6128-44a5-9d06-47b1bb2c8952');\nvar x = new MutationObserver(function (mutations, observer) {{\n        var display = window.getComputedStyle(gd).display;\n        if (!display || display === 'none') {{\n            console.log([gd, 'removed!']);\n            Plotly.purge(gd);\n            observer.disconnect();\n        }}\n}});\n\n// Listen for the removal of the full notebook cells\nvar notebookContainer = gd.closest('#notebook-container');\nif (notebookContainer) {{\n    x.observe(notebookContainer, {childList: true});\n}}\n\n// Listen for the clearing of the current output cell\nvar outputEl = gd.closest('.output');\nif (outputEl) {{\n    x.observe(outputEl, {childList: true});\n}}\n\n                        })                };                });            </script>        </div>"
     },
     "metadata": {},
     "output_type": "display_data"
    }
   ],
   "source": [
    "import seaborn as sea\n",
    "import matplotlib.pyplot as plt\n",
    "import plotly.express as px\n",
    "import plotly.graph_objects as go\n",
    "fig = px.bar(grouped_df, x='assignment',\n",
    "             y=['perfect_match_count',\n",
    "                'imperfect_match_count',\n",
    "                ])\n",
    "fig.update_layout(height=500, width=700)\n",
    "fig.update_layout(legend=dict(\n",
    "    orientation='h',\n",
    "    yanchor=\"top\",\n",
    "    y=0.99,\n",
    "    xanchor=\"left\",\n",
    "    x=0.01\n",
    "))\n",
    "fig.show()"
   ],
   "metadata": {
    "collapsed": false
   }
  },
  {
   "cell_type": "code",
   "execution_count": 17,
   "outputs": [
    {
     "name": "stderr",
     "output_type": "stream",
     "text": [
      "/tmp/ipykernel_401547/416082588.py:1: UserWarning:\n",
      "\n",
      "Boolean Series key will be reindexed to match DataFrame index.\n",
      "\n"
     ]
    }
   ],
   "source": [
    "fig = px.box(hit_df.sort_values(\"assignment\")[hit_df.perfect_barcode],\n",
    "             x='assignment',\n",
    "             y='r_en',\n",
    "             range_y=[642,665],\n",
    "             points=\"outliers\",\n",
    "             )\n",
    "fig.update_layout(height=500, width=700)\n",
    "fig.add_hline(662)\n",
    "fig.show(renderer=\"firefox\")\n",
    "fig.write_image(f\"{get_dt(for_file=True)}_refEnd_BoxPlot.png\")"
   ],
   "metadata": {
    "collapsed": false
   }
  },
  {
   "cell_type": "code",
   "execution_count": 204,
   "outputs": [],
   "source": [
    "miss_df = df[~df.assignment.isin(['00', '05', '10', '15', '30', '60'])]"
   ],
   "metadata": {
    "collapsed": false
   }
  },
  {
   "cell_type": "code",
   "execution_count": 223,
   "outputs": [
    {
     "name": "stdout",
     "output_type": "stream",
     "text": [
      "                                read_id assignment                                           sequence q_st q_en strand                        ctg ctg_len r_st r_en mlen blen mapq      tp      ts  \\\n",
      "1  1321805d-cbeb-4725-8122-b8d942775ff0         60  GATACTTCGTTCAGTTACGTATTGCTCTTCCGATCACTTGCCTGTC...  105  324      -  ENO2_finalStandard_60Tail     662  441  662  201  217   60  tp:A:P  ts:A:.   \n",
      "2  ce3360d6-89ac-44fd-8182-00369a35f346         60  ATTGTACTTCGTTCCATTGTGTGCTCTTCCGATCACTTGCCTGGTG...  121  713      -  ENO2_finalStandard_60Tail     662   29  653  572  617    1  tp:A:P  ts:A:.   \n",
      "3  cd9bc58b-1f35-4b34-9462-0c1e13410cde         60  AGTATGCTTCGTTCAGTTACGTATTGCTCTTCCGATCGCACGCGCA...  105  722      -  ENO2_finalStandard_60Tail     662   31  662  573  636   36  tp:A:P  ts:A:.   \n",
      "4  9c62cb37-e358-4e6b-87a6-608324c0d44c         15  AGTACTTCGGTTCAGTTGCCGTACTCTTCCGATCACCTGTCGCTCT...   60  671      -  ENO2_finalStandard_15Tail     662   30  657  578  631    1  tp:A:P  ts:A:.   \n",
      "5  089403b0-5366-4327-8bea-212fd9670aa3         60  ATTGTACTTCGTTCAGTTGTGTGCTCTTCCGATCACTTGCCTGTCG...  113  721      -  ENO2_finalStandard_60Tail     662   38  662  552  629   24  tp:A:P  ts:A:.   \n",
      "\n",
      "                                               cigar                                      cleaned_cigar perfect_barcode  \n",
      "1    cg:Z:14M1D101M1D28M1D3M1D8M2I14M2I27M1D10M1D10M         14M1D101M1D28M1D3M1D8M2I14M2I27M1D10M1D10M            True  \n",
      "2  cg:Z:33M1D137M1D17M1D5M1D9M3D9M3D94M1D169M17D6...  33M1D137M1D17M1D5M1D9M3D9M3D94M1D169M17D65M1I3...           False  \n",
      "3  cg:Z:30M2D45M2I19M2I8M1D4M1D21M2I64M1I65M1D58M...  30M2D45M2I19M2I8M1D4M1D21M2I64M1I65M1D58M1I1M2...            True  \n",
      "4  cg:Z:18M1D13M2I8M2I52M3D56M3D11M2D50M4D1M2D125...  18M1D13M2I8M2I52M3D56M3D11M2D50M4D1M2D125M3D1M...            True  \n",
      "5  cg:Z:19M1I50M1I4M3D12M2I9M1D3M4I31M1D17M6D83M1...  19M1I50M1I4M3D12M2I9M1D3M4I31M1D17M6D83M1D2M2D...            True  \n",
      "                                     read_id     assignment                                           sequence  q_st  q_en strand   ctg ctg_len  r_st  r_en  mlen  blen  mapq    tp    ts cigar  \\\n",
      "247855  9e84d844-211e-4054-a58c-436af5796f85  Ambiguous_All  TTGTACTTCGTTCGGTTACGTATTGCTCTTCCGATCACTGTCGCTC...  <NA>  <NA>   <NA>  <NA>    <NA>  <NA>  <NA>  <NA>  <NA>  <NA>  <NA>  <NA>  <NA>   \n",
      "247858  01e08935-a8cc-4d2f-b50b-4c099d465721  Ambiguous_All  GATGTACTTCGTTAGTTACGTATTGCTCTTCCGATCACTTGCCTGT...  <NA>  <NA>   <NA>  <NA>    <NA>  <NA>  <NA>  <NA>  <NA>  <NA>  <NA>  <NA>  <NA>   \n",
      "247865  1e774c33-0e5c-40c0-a31c-ae25c494c5d3  Ambiguous_All  GGTATTGCTTCGTTCGGTTACGTGTGCTCTTCCGGTGATGGTGACA...  <NA>  <NA>   <NA>  <NA>    <NA>  <NA>  <NA>  <NA>  <NA>  <NA>  <NA>  <NA>  <NA>   \n",
      "247873  6b381805-cb65-4149-bdd2-99632800f0ab  Ambiguous_All  TTGTACTTCGTTCAGTTACGTATTGCTCTTCCGATCACTTGCCTGT...  <NA>  <NA>   <NA>  <NA>    <NA>  <NA>  <NA>  <NA>  <NA>  <NA>  <NA>  <NA>  <NA>   \n",
      "247904  1a03b206-0bb0-439f-92ef-6cc9c22f660f  Ambiguous_All  GGTAGTACTTCGTTCAGTTACGTATTGCTCTTCCGATCACTTGCCT...  <NA>  <NA>   <NA>  <NA>    <NA>  <NA>  <NA>  <NA>  <NA>  <NA>  <NA>  <NA>  <NA>   \n",
      "\n",
      "       cleaned_cigar perfect_barcode  \n",
      "247855          <NA>            <NA>  \n",
      "247858          <NA>            <NA>  \n",
      "247865          <NA>            <NA>  \n",
      "247873          <NA>            <NA>  \n",
      "247904          <NA>            <NA>  \n"
     ]
    }
   ],
   "source": [
    "new_df = pd.concat([hit_df, miss_df])\n",
    "new_df.rename(columns={\"Unnamed: 0\": \"read_id\"}, inplace=True)\n",
    "new_df.drop(columns=[\"mappy_hit_obj\"], inplace=True)\n",
    "new_df.fillna(pd.NA, inplace=True)\n",
    "print(new_df.head())\n",
    "print(new_df.tail())"
   ],
   "metadata": {
    "collapsed": false
   }
  },
  {
   "cell_type": "code",
   "execution_count": 225,
   "outputs": [
    {
     "name": "stdout",
     "output_type": "stream",
     "text": [
      "                                     read_id     assignment                                           sequence   q_st   q_en strand                        ctg ctg_len   r_st   r_en  mlen  blen  \\\n",
      "1       1321805d-cbeb-4725-8122-b8d942775ff0             60  GATACTTCGTTCAGTTACGTATTGCTCTTCCGATCACTTGCCTGTC...  105.0  324.0      -  ENO2_finalStandard_60Tail     662  441.0  662.0   201   217   \n",
      "2       ce3360d6-89ac-44fd-8182-00369a35f346             60  ATTGTACTTCGTTCCATTGTGTGCTCTTCCGATCACTTGCCTGGTG...  121.0  713.0      -  ENO2_finalStandard_60Tail     662   29.0  653.0   572   617   \n",
      "3       cd9bc58b-1f35-4b34-9462-0c1e13410cde             60  AGTATGCTTCGTTCAGTTACGTATTGCTCTTCCGATCGCACGCGCA...  105.0  722.0      -  ENO2_finalStandard_60Tail     662   31.0  662.0   573   636   \n",
      "4       9c62cb37-e358-4e6b-87a6-608324c0d44c             15  AGTACTTCGGTTCAGTTGCCGTACTCTTCCGATCACCTGTCGCTCT...   60.0  671.0      -  ENO2_finalStandard_15Tail     662   30.0  657.0   578   631   \n",
      "5       089403b0-5366-4327-8bea-212fd9670aa3             60  ATTGTACTTCGTTCAGTTGTGTGCTCTTCCGATCACTTGCCTGTCG...  113.0  721.0      -  ENO2_finalStandard_60Tail     662   38.0  662.0   552   629   \n",
      "...                                      ...            ...                                                ...    ...    ...    ...                        ...     ...    ...    ...   ...   ...   \n",
      "247855  9e84d844-211e-4054-a58c-436af5796f85  Ambiguous_All  TTGTACTTCGTTCGGTTACGTATTGCTCTTCCGATCACTGTCGCTC...    NaN    NaN   <NA>                       <NA>    <NA>    NaN    NaN  <NA>  <NA>   \n",
      "247858  01e08935-a8cc-4d2f-b50b-4c099d465721  Ambiguous_All  GATGTACTTCGTTAGTTACGTATTGCTCTTCCGATCACTTGCCTGT...    NaN    NaN   <NA>                       <NA>    <NA>    NaN    NaN  <NA>  <NA>   \n",
      "247865  1e774c33-0e5c-40c0-a31c-ae25c494c5d3  Ambiguous_All  GGTATTGCTTCGTTCGGTTACGTGTGCTCTTCCGGTGATGGTGACA...    NaN    NaN   <NA>                       <NA>    <NA>    NaN    NaN  <NA>  <NA>   \n",
      "247873  6b381805-cb65-4149-bdd2-99632800f0ab  Ambiguous_All  TTGTACTTCGTTCAGTTACGTATTGCTCTTCCGATCACTTGCCTGT...    NaN    NaN   <NA>                       <NA>    <NA>    NaN    NaN  <NA>  <NA>   \n",
      "247904  1a03b206-0bb0-439f-92ef-6cc9c22f660f  Ambiguous_All  GGTAGTACTTCGTTCAGTTACGTATTGCTCTTCCGATCACTTGCCT...    NaN    NaN   <NA>                       <NA>    <NA>    NaN    NaN  <NA>  <NA>   \n",
      "\n",
      "        mapq      tp      ts                                              cigar                                      cleaned_cigar perfect_barcode  \n",
      "1         60  tp:A:P  ts:A:.    cg:Z:14M1D101M1D28M1D3M1D8M2I14M2I27M1D10M1D10M         14M1D101M1D28M1D3M1D8M2I14M2I27M1D10M1D10M            True  \n",
      "2          1  tp:A:P  ts:A:.  cg:Z:33M1D137M1D17M1D5M1D9M3D9M3D94M1D169M17D6...  33M1D137M1D17M1D5M1D9M3D9M3D94M1D169M17D65M1I3...           False  \n",
      "3         36  tp:A:P  ts:A:.  cg:Z:30M2D45M2I19M2I8M1D4M1D21M2I64M1I65M1D58M...  30M2D45M2I19M2I8M1D4M1D21M2I64M1I65M1D58M1I1M2...            True  \n",
      "4          1  tp:A:P  ts:A:.  cg:Z:18M1D13M2I8M2I52M3D56M3D11M2D50M4D1M2D125...  18M1D13M2I8M2I52M3D56M3D11M2D50M4D1M2D125M3D1M...            True  \n",
      "5         24  tp:A:P  ts:A:.  cg:Z:19M1I50M1I4M3D12M2I9M1D3M4I31M1D17M6D83M1...  19M1I50M1I4M3D12M2I9M1D3M4I31M1D17M6D83M1D2M2D...            True  \n",
      "...      ...     ...     ...                                                ...                                                ...             ...  \n",
      "247855  <NA>    <NA>    <NA>                                               <NA>                                               <NA>            None  \n",
      "247858  <NA>    <NA>    <NA>                                               <NA>                                               <NA>            None  \n",
      "247865  <NA>    <NA>    <NA>                                               <NA>                                               <NA>            None  \n",
      "247873  <NA>    <NA>    <NA>                                               <NA>                                               <NA>            None  \n",
      "247904  <NA>    <NA>    <NA>                                               <NA>                                               <NA>            None  \n",
      "\n",
      "[247906 rows x 18 columns]\n"
     ]
    }
   ],
   "source": [
    "\n",
    "print(pd.read_parquet(\"221107_expanded_221031_RNAStds_Nano3P_Assignments.parquet\"))"
   ],
   "metadata": {
    "collapsed": false
   }
  },
  {
   "cell_type": "code",
   "execution_count": null,
   "outputs": [],
   "source": [
    "new_df"
   ],
   "metadata": {
    "collapsed": false
   }
  }
 ],
 "metadata": {
  "kernelspec": {
   "display_name": "Python 3",
   "language": "python",
   "name": "python3"
  },
  "language_info": {
   "codemirror_mode": {
    "name": "ipython",
    "version": 2
   },
   "file_extension": ".py",
   "mimetype": "text/x-python",
   "name": "python",
   "nbconvert_exporter": "python",
   "pygments_lexer": "ipython2",
   "version": "2.7.6"
  }
 },
 "nbformat": 4,
 "nbformat_minor": 0
}
