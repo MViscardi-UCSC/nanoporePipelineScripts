{
 "cells": [
  {
   "cell_type": "markdown",
   "source": [
    "# alignmentOfIlluminaReads.ipynb\n",
    "## Marcus Viscardi,    April 18, 2023\n",
    "\n",
    "Going to use mappy to align my reads from the illumina library!"
   ],
   "metadata": {
    "collapsed": false
   }
  },
  {
   "cell_type": "code",
   "execution_count": 1,
   "metadata": {
    "collapsed": true
   },
   "outputs": [
    {
     "name": "stdout",
     "output_type": "stream",
     "text": [
      "imports done at 05/03/23 @ 03:11:26 PM\n"
     ]
    }
   ],
   "source": [
    "import mappy as mp\n",
    "import pandas as pd\n",
    "import numpy as np\n",
    "import nanoporePipelineCommon as npc\n",
    "from tqdm.notebook import tqdm\n",
    "\n",
    "print(f\"imports done at {npc.get_dt(for_print=True)}\")"
   ]
  },
  {
   "cell_type": "code",
   "execution_count": 2,
   "outputs": [
    {
     "name": "stdout",
     "output_type": "stream",
     "text": [
      "\n",
      "Starting fastq iterative load @ 05/03/23 @ 03:11:27 PM\n"
     ]
    },
    {
     "name": "stderr",
     "output_type": "stream",
     "text": [
      "Processing K00364:280:HTN7HBBXY:6:1102:9059:3477:   1%|          | 2816/314226 [00:01<02:03, 2526.19it/s]  IOPub message rate exceeded.\n",
      "The notebook server will temporarily stop sending output\n",
      "to the client in order to avoid crashing it.\n",
      "To change this limit, set the config variable\n",
      "`--NotebookApp.iopub_msg_rate_limit`.\n",
      "\n",
      "Current values:\n",
      "NotebookApp.iopub_msg_rate_limit=1000.0 (msgs/sec)\n",
      "NotebookApp.rate_limit_window=3.0 (secs)\n",
      "\n",
      "Processing K00364:280:HTN7HBBXY:6:1104:10155:35620:   3%|▎         | 10381/314226 [00:04<01:57, 2576.84it/s]IOPub message rate exceeded.\n",
      "The notebook server will temporarily stop sending output\n",
      "to the client in order to avoid crashing it.\n",
      "To change this limit, set the config variable\n",
      "`--NotebookApp.iopub_msg_rate_limit`.\n",
      "\n",
      "Current values:\n",
      "NotebookApp.iopub_msg_rate_limit=1000.0 (msgs/sec)\n",
      "NotebookApp.rate_limit_window=3.0 (secs)\n",
      "\n",
      "Processing K00364:280:HTN7HBBXY:6:1107:16092:20691:   6%|▌         | 18236/314226 [00:07<02:18, 2136.51it/s]IOPub message rate exceeded.\n",
      "The notebook server will temporarily stop sending output\n",
      "to the client in order to avoid crashing it.\n",
      "To change this limit, set the config variable\n",
      "`--NotebookApp.iopub_msg_rate_limit`.\n",
      "\n",
      "Current values:\n",
      "NotebookApp.iopub_msg_rate_limit=1000.0 (msgs/sec)\n",
      "NotebookApp.rate_limit_window=3.0 (secs)\n",
      "\n",
      "Processing K00364:280:HTN7HBBXY:6:1109:10013:46557:   8%|▊         | 25712/314226 [00:11<02:01, 2381.91it/s]IOPub message rate exceeded.\n",
      "The notebook server will temporarily stop sending output\n",
      "to the client in order to avoid crashing it.\n",
      "To change this limit, set the config variable\n",
      "`--NotebookApp.iopub_msg_rate_limit`.\n",
      "\n",
      "Current values:\n",
      "NotebookApp.iopub_msg_rate_limit=1000.0 (msgs/sec)\n",
      "NotebookApp.rate_limit_window=3.0 (secs)\n",
      "\n",
      "Processing K00364:280:HTN7HBBXY:6:1112:13788:32420:  11%|█         | 33710/314226 [00:14<01:53, 2460.71it/s]IOPub message rate exceeded.\n",
      "The notebook server will temporarily stop sending output\n",
      "to the client in order to avoid crashing it.\n",
      "To change this limit, set the config variable\n",
      "`--NotebookApp.iopub_msg_rate_limit`.\n",
      "\n",
      "Current values:\n",
      "NotebookApp.iopub_msg_rate_limit=1000.0 (msgs/sec)\n",
      "NotebookApp.rate_limit_window=3.0 (secs)\n",
      "\n",
      "Processing K00364:280:HTN7HBBXY:6:1115:18426:21254:  13%|█▎        | 41880/314226 [00:17<01:50, 2463.38it/s]IOPub message rate exceeded.\n",
      "The notebook server will temporarily stop sending output\n",
      "to the client in order to avoid crashing it.\n",
      "To change this limit, set the config variable\n",
      "`--NotebookApp.iopub_msg_rate_limit`.\n",
      "\n",
      "Current values:\n",
      "NotebookApp.iopub_msg_rate_limit=1000.0 (msgs/sec)\n",
      "NotebookApp.rate_limit_window=3.0 (secs)\n",
      "\n",
      "Processing K00364:280:HTN7HBBXY:6:1118:32106:9262:  16%|█▌        | 49951/314226 [00:20<01:55, 2296.69it/s] IOPub message rate exceeded.\n",
      "The notebook server will temporarily stop sending output\n",
      "to the client in order to avoid crashing it.\n",
      "To change this limit, set the config variable\n",
      "`--NotebookApp.iopub_msg_rate_limit`.\n",
      "\n",
      "Current values:\n",
      "NotebookApp.iopub_msg_rate_limit=1000.0 (msgs/sec)\n",
      "NotebookApp.rate_limit_window=3.0 (secs)\n",
      "\n",
      "Processing K00364:280:HTN7HBBXY:6:1120:13727:37519:  18%|█▊        | 57638/314226 [00:24<01:48, 2364.69it/s]IOPub message rate exceeded.\n",
      "The notebook server will temporarily stop sending output\n",
      "to the client in order to avoid crashing it.\n",
      "To change this limit, set the config variable\n",
      "`--NotebookApp.iopub_msg_rate_limit`.\n",
      "\n",
      "Current values:\n",
      "NotebookApp.iopub_msg_rate_limit=1000.0 (msgs/sec)\n",
      "NotebookApp.rate_limit_window=3.0 (secs)\n",
      "\n",
      "Processing K00364:280:HTN7HBBXY:6:1123:19086:22221:  21%|██        | 65773/314226 [00:27<01:48, 2289.92it/s]IOPub message rate exceeded.\n",
      "The notebook server will temporarily stop sending output\n",
      "to the client in order to avoid crashing it.\n",
      "To change this limit, set the config variable\n",
      "`--NotebookApp.iopub_msg_rate_limit`.\n",
      "\n",
      "Current values:\n",
      "NotebookApp.iopub_msg_rate_limit=1000.0 (msgs/sec)\n",
      "NotebookApp.rate_limit_window=3.0 (secs)\n",
      "\n",
      "Processing K00364:280:HTN7HBBXY:6:1126:13220:7838:  23%|██▎       | 73681/314226 [00:30<01:32, 2592.20it/s] IOPub message rate exceeded.\n",
      "The notebook server will temporarily stop sending output\n",
      "to the client in order to avoid crashing it.\n",
      "To change this limit, set the config variable\n",
      "`--NotebookApp.iopub_msg_rate_limit`.\n",
      "\n",
      "Current values:\n",
      "NotebookApp.iopub_msg_rate_limit=1000.0 (msgs/sec)\n",
      "NotebookApp.rate_limit_window=3.0 (secs)\n",
      "\n",
      "Processing K00364:280:HTN7HBBXY:6:1128:7943:41563:  26%|██▌       | 81723/314226 [00:33<01:35, 2422.65it/s] IOPub message rate exceeded.\n",
      "The notebook server will temporarily stop sending output\n",
      "to the client in order to avoid crashing it.\n",
      "To change this limit, set the config variable\n",
      "`--NotebookApp.iopub_msg_rate_limit`.\n",
      "\n",
      "Current values:\n",
      "NotebookApp.iopub_msg_rate_limit=1000.0 (msgs/sec)\n",
      "NotebookApp.rate_limit_window=3.0 (secs)\n",
      "\n",
      "Processing K00364:280:HTN7HBBXY:6:1203:7841:31048:  28%|██▊       | 89518/314226 [00:36<01:30, 2484.28it/s] IOPub message rate exceeded.\n",
      "The notebook server will temporarily stop sending output\n",
      "to the client in order to avoid crashing it.\n",
      "To change this limit, set the config variable\n",
      "`--NotebookApp.iopub_msg_rate_limit`.\n",
      "\n",
      "Current values:\n",
      "NotebookApp.iopub_msg_rate_limit=1000.0 (msgs/sec)\n",
      "NotebookApp.rate_limit_window=3.0 (secs)\n",
      "\n",
      "Processing K00364:280:HTN7HBBXY:6:1206:25378:25175:  31%|███       | 97804/314226 [00:40<01:26, 2515.62it/s]IOPub message rate exceeded.\n",
      "The notebook server will temporarily stop sending output\n",
      "to the client in order to avoid crashing it.\n",
      "To change this limit, set the config variable\n",
      "`--NotebookApp.iopub_msg_rate_limit`.\n",
      "\n",
      "Current values:\n",
      "NotebookApp.iopub_msg_rate_limit=1000.0 (msgs/sec)\n",
      "NotebookApp.rate_limit_window=3.0 (secs)\n",
      "\n",
      "Processing K00364:280:HTN7HBBXY:6:1209:24261:14695:  34%|███▎      | 106045/314226 [00:43<01:25, 2437.41it/s]IOPub message rate exceeded.\n",
      "The notebook server will temporarily stop sending output\n",
      "to the client in order to avoid crashing it.\n",
      "To change this limit, set the config variable\n",
      "`--NotebookApp.iopub_msg_rate_limit`.\n",
      "\n",
      "Current values:\n",
      "NotebookApp.iopub_msg_rate_limit=1000.0 (msgs/sec)\n",
      "NotebookApp.rate_limit_window=3.0 (secs)\n",
      "\n",
      "Processing K00364:280:HTN7HBBXY:6:1211:7090:47647:  36%|███▋      | 114158/314226 [00:46<01:26, 2316.32it/s] IOPub message rate exceeded.\n",
      "The notebook server will temporarily stop sending output\n",
      "to the client in order to avoid crashing it.\n",
      "To change this limit, set the config variable\n",
      "`--NotebookApp.iopub_msg_rate_limit`.\n",
      "\n",
      "Current values:\n",
      "NotebookApp.iopub_msg_rate_limit=1000.0 (msgs/sec)\n",
      "NotebookApp.rate_limit_window=3.0 (secs)\n",
      "\n",
      "Processing K00364:280:HTN7HBBXY:6:1214:4655:31505:  39%|███▉      | 122071/314226 [00:49<01:09, 2753.38it/s] IOPub message rate exceeded.\n",
      "The notebook server will temporarily stop sending output\n",
      "to the client in order to avoid crashing it.\n",
      "To change this limit, set the config variable\n",
      "`--NotebookApp.iopub_msg_rate_limit`.\n",
      "\n",
      "Current values:\n",
      "NotebookApp.iopub_msg_rate_limit=1000.0 (msgs/sec)\n",
      "NotebookApp.rate_limit_window=3.0 (secs)\n",
      "\n",
      "Processing K00364:280:HTN7HBBXY:6:1217:16467:30591:  42%|████▏     | 130915/314226 [00:53<01:15, 2438.76it/s]IOPub message rate exceeded.\n",
      "The notebook server will temporarily stop sending output\n",
      "to the client in order to avoid crashing it.\n",
      "To change this limit, set the config variable\n",
      "`--NotebookApp.iopub_msg_rate_limit`.\n",
      "\n",
      "Current values:\n",
      "NotebookApp.iopub_msg_rate_limit=1000.0 (msgs/sec)\n",
      "NotebookApp.rate_limit_window=3.0 (secs)\n",
      "\n",
      "Processing K00364:280:HTN7HBBXY:6:1220:6390:17667:  44%|████▍     | 138633/314226 [00:56<01:12, 2411.19it/s] IOPub message rate exceeded.\n",
      "The notebook server will temporarily stop sending output\n",
      "to the client in order to avoid crashing it.\n",
      "To change this limit, set the config variable\n",
      "`--NotebookApp.iopub_msg_rate_limit`.\n",
      "\n",
      "Current values:\n",
      "NotebookApp.iopub_msg_rate_limit=1000.0 (msgs/sec)\n",
      "NotebookApp.rate_limit_window=3.0 (secs)\n",
      "\n",
      "Processing K00364:280:HTN7HBBXY:6:1223:11809:5569:  47%|████▋     | 146933/314226 [00:59<01:13, 2287.53it/s] IOPub message rate exceeded.\n",
      "The notebook server will temporarily stop sending output\n",
      "to the client in order to avoid crashing it.\n",
      "To change this limit, set the config variable\n",
      "`--NotebookApp.iopub_msg_rate_limit`.\n",
      "\n",
      "Current values:\n",
      "NotebookApp.iopub_msg_rate_limit=1000.0 (msgs/sec)\n",
      "NotebookApp.rate_limit_window=3.0 (secs)\n",
      "\n",
      "Processing K00364:280:HTN7HBBXY:6:1225:29924:31259:  49%|████▉     | 154086/314226 [01:03<01:10, 2275.81it/s]IOPub message rate exceeded.\n",
      "The notebook server will temporarily stop sending output\n",
      "to the client in order to avoid crashing it.\n",
      "To change this limit, set the config variable\n",
      "`--NotebookApp.iopub_msg_rate_limit`.\n",
      "\n",
      "Current values:\n",
      "NotebookApp.iopub_msg_rate_limit=1000.0 (msgs/sec)\n",
      "NotebookApp.rate_limit_window=3.0 (secs)\n",
      "\n",
      "Processing K00364:280:HTN7HBBXY:6:1228:32238:10546:  52%|█████▏    | 161908/314226 [01:06<01:08, 2239.09it/s]IOPub message rate exceeded.\n",
      "The notebook server will temporarily stop sending output\n",
      "to the client in order to avoid crashing it.\n",
      "To change this limit, set the config variable\n",
      "`--NotebookApp.iopub_msg_rate_limit`.\n",
      "\n",
      "Current values:\n",
      "NotebookApp.iopub_msg_rate_limit=1000.0 (msgs/sec)\n",
      "NotebookApp.rate_limit_window=3.0 (secs)\n",
      "\n",
      "Processing K00364:280:HTN7HBBXY:6:2102:19055:36868:  54%|█████▍    | 169204/314226 [01:09<01:02, 2316.78it/s]IOPub message rate exceeded.\n",
      "The notebook server will temporarily stop sending output\n",
      "to the client in order to avoid crashing it.\n",
      "To change this limit, set the config variable\n",
      "`--NotebookApp.iopub_msg_rate_limit`.\n",
      "\n",
      "Current values:\n",
      "NotebookApp.iopub_msg_rate_limit=1000.0 (msgs/sec)\n",
      "NotebookApp.rate_limit_window=3.0 (secs)\n",
      "\n",
      "Processing K00364:280:HTN7HBBXY:6:2105:20476:28428:  56%|█████▋    | 177339/314226 [01:12<00:54, 2520.86it/s]IOPub message rate exceeded.\n",
      "The notebook server will temporarily stop sending output\n",
      "to the client in order to avoid crashing it.\n",
      "To change this limit, set the config variable\n",
      "`--NotebookApp.iopub_msg_rate_limit`.\n",
      "\n",
      "Current values:\n",
      "NotebookApp.iopub_msg_rate_limit=1000.0 (msgs/sec)\n",
      "NotebookApp.rate_limit_window=3.0 (secs)\n",
      "\n",
      "Processing K00364:280:HTN7HBBXY:6:2108:7507:20129:  59%|█████▉    | 185296/314226 [01:15<00:48, 2631.71it/s] IOPub message rate exceeded.\n",
      "The notebook server will temporarily stop sending output\n",
      "to the client in order to avoid crashing it.\n",
      "To change this limit, set the config variable\n",
      "`--NotebookApp.iopub_msg_rate_limit`.\n",
      "\n",
      "Current values:\n",
      "NotebookApp.iopub_msg_rate_limit=1000.0 (msgs/sec)\n",
      "NotebookApp.rate_limit_window=3.0 (secs)\n",
      "\n",
      "Processing K00364:280:HTN7HBBXY:6:2111:27022:24859:  62%|██████▏   | 193380/314226 [01:19<00:49, 2453.22it/s]IOPub message rate exceeded.\n",
      "The notebook server will temporarily stop sending output\n",
      "to the client in order to avoid crashing it.\n",
      "To change this limit, set the config variable\n",
      "`--NotebookApp.iopub_msg_rate_limit`.\n",
      "\n",
      "Current values:\n",
      "NotebookApp.iopub_msg_rate_limit=1000.0 (msgs/sec)\n",
      "NotebookApp.rate_limit_window=3.0 (secs)\n",
      "\n",
      "Processing K00364:280:HTN7HBBXY:6:2114:3965:25105:  64%|██████▍   | 201736/314226 [01:22<00:42, 2647.44it/s] IOPub message rate exceeded.\n",
      "The notebook server will temporarily stop sending output\n",
      "to the client in order to avoid crashing it.\n",
      "To change this limit, set the config variable\n",
      "`--NotebookApp.iopub_msg_rate_limit`.\n",
      "\n",
      "Current values:\n",
      "NotebookApp.iopub_msg_rate_limit=1000.0 (msgs/sec)\n",
      "NotebookApp.rate_limit_window=3.0 (secs)\n",
      "\n",
      "Processing K00364:280:HTN7HBBXY:6:2117:23409:12585:  67%|██████▋   | 209369/314226 [01:25<00:44, 2367.95it/s]IOPub message rate exceeded.\n",
      "The notebook server will temporarily stop sending output\n",
      "to the client in order to avoid crashing it.\n",
      "To change this limit, set the config variable\n",
      "`--NotebookApp.iopub_msg_rate_limit`.\n",
      "\n",
      "Current values:\n",
      "NotebookApp.iopub_msg_rate_limit=1000.0 (msgs/sec)\n",
      "NotebookApp.rate_limit_window=3.0 (secs)\n",
      "\n",
      "Processing K00364:280:HTN7HBBXY:6:2120:15980:5059:  69%|██████▉   | 217231/314226 [01:29<00:40, 2403.92it/s] IOPub message rate exceeded.\n",
      "The notebook server will temporarily stop sending output\n",
      "to the client in order to avoid crashing it.\n",
      "To change this limit, set the config variable\n",
      "`--NotebookApp.iopub_msg_rate_limit`.\n",
      "\n",
      "Current values:\n",
      "NotebookApp.iopub_msg_rate_limit=1000.0 (msgs/sec)\n",
      "NotebookApp.rate_limit_window=3.0 (secs)\n",
      "\n",
      "Processing K00364:280:HTN7HBBXY:6:2123:30594:5095:  72%|███████▏  | 225400/314226 [01:32<00:46, 1905.38it/s] IOPub message rate exceeded.\n",
      "The notebook server will temporarily stop sending output\n",
      "to the client in order to avoid crashing it.\n",
      "To change this limit, set the config variable\n",
      "`--NotebookApp.iopub_msg_rate_limit`.\n",
      "\n",
      "Current values:\n",
      "NotebookApp.iopub_msg_rate_limit=1000.0 (msgs/sec)\n",
      "NotebookApp.rate_limit_window=3.0 (secs)\n",
      "\n",
      "Processing K00364:280:HTN7HBBXY:6:2126:28270:18194:  74%|███████▍  | 233741/314226 [01:35<00:34, 2330.84it/s]IOPub message rate exceeded.\n",
      "The notebook server will temporarily stop sending output\n",
      "to the client in order to avoid crashing it.\n",
      "To change this limit, set the config variable\n",
      "`--NotebookApp.iopub_msg_rate_limit`.\n",
      "\n",
      "Current values:\n",
      "NotebookApp.iopub_msg_rate_limit=1000.0 (msgs/sec)\n",
      "NotebookApp.rate_limit_window=3.0 (secs)\n",
      "\n",
      "Processing K00364:280:HTN7HBBXY:6:2201:23277:30644:  77%|███████▋  | 241556/314226 [01:38<00:30, 2386.64it/s]IOPub message rate exceeded.\n",
      "The notebook server will temporarily stop sending output\n",
      "to the client in order to avoid crashing it.\n",
      "To change this limit, set the config variable\n",
      "`--NotebookApp.iopub_msg_rate_limit`.\n",
      "\n",
      "Current values:\n",
      "NotebookApp.iopub_msg_rate_limit=1000.0 (msgs/sec)\n",
      "NotebookApp.rate_limit_window=3.0 (secs)\n",
      "\n",
      "Processing K00364:280:HTN7HBBXY:6:2204:10003:17913:  79%|███████▉  | 249243/314226 [01:41<00:27, 2361.44it/s]IOPub message rate exceeded.\n",
      "The notebook server will temporarily stop sending output\n",
      "to the client in order to avoid crashing it.\n",
      "To change this limit, set the config variable\n",
      "`--NotebookApp.iopub_msg_rate_limit`.\n",
      "\n",
      "Current values:\n",
      "NotebookApp.iopub_msg_rate_limit=1000.0 (msgs/sec)\n",
      "NotebookApp.rate_limit_window=3.0 (secs)\n",
      "\n",
      "Processing K00364:280:HTN7HBBXY:6:2207:30787:17350:  82%|████████▏ | 257304/314226 [01:45<00:23, 2421.73it/s]IOPub message rate exceeded.\n",
      "The notebook server will temporarily stop sending output\n",
      "to the client in order to avoid crashing it.\n",
      "To change this limit, set the config variable\n",
      "`--NotebookApp.iopub_msg_rate_limit`.\n",
      "\n",
      "Current values:\n",
      "NotebookApp.iopub_msg_rate_limit=1000.0 (msgs/sec)\n",
      "NotebookApp.rate_limit_window=3.0 (secs)\n",
      "\n",
      "Processing K00364:280:HTN7HBBXY:6:2210:1813:11565:  84%|████████▍ | 265157/314226 [01:48<00:19, 2475.29it/s] IOPub message rate exceeded.\n",
      "The notebook server will temporarily stop sending output\n",
      "to the client in order to avoid crashing it.\n",
      "To change this limit, set the config variable\n",
      "`--NotebookApp.iopub_msg_rate_limit`.\n",
      "\n",
      "Current values:\n",
      "NotebookApp.iopub_msg_rate_limit=1000.0 (msgs/sec)\n",
      "NotebookApp.rate_limit_window=3.0 (secs)\n",
      "\n",
      "Processing K00364:280:HTN7HBBXY:6:2212:14123:47559:  87%|████████▋ | 273312/314226 [01:51<00:16, 2524.50it/s]IOPub message rate exceeded.\n",
      "The notebook server will temporarily stop sending output\n",
      "to the client in order to avoid crashing it.\n",
      "To change this limit, set the config variable\n",
      "`--NotebookApp.iopub_msg_rate_limit`.\n",
      "\n",
      "Current values:\n",
      "NotebookApp.iopub_msg_rate_limit=1000.0 (msgs/sec)\n",
      "NotebookApp.rate_limit_window=3.0 (secs)\n",
      "\n",
      "Processing K00364:280:HTN7HBBXY:6:2216:8613:9104:  89%|████████▉ | 281105/314226 [01:55<00:14, 2363.06it/s]  IOPub message rate exceeded.\n",
      "The notebook server will temporarily stop sending output\n",
      "to the client in order to avoid crashing it.\n",
      "To change this limit, set the config variable\n",
      "`--NotebookApp.iopub_msg_rate_limit`.\n",
      "\n",
      "Current values:\n",
      "NotebookApp.iopub_msg_rate_limit=1000.0 (msgs/sec)\n",
      "NotebookApp.rate_limit_window=3.0 (secs)\n",
      "\n",
      "Processing K00364:280:HTN7HBBXY:6:2219:30624:26916:  92%|█████████▏| 289358/314226 [01:58<00:09, 2637.35it/s]IOPub message rate exceeded.\n",
      "The notebook server will temporarily stop sending output\n",
      "to the client in order to avoid crashing it.\n",
      "To change this limit, set the config variable\n",
      "`--NotebookApp.iopub_msg_rate_limit`.\n",
      "\n",
      "Current values:\n",
      "NotebookApp.iopub_msg_rate_limit=1000.0 (msgs/sec)\n",
      "NotebookApp.rate_limit_window=3.0 (secs)\n",
      "\n",
      "Processing K00364:280:HTN7HBBXY:6:2222:6390:33246:  95%|█████████▍| 297714/314226 [02:01<00:06, 2569.36it/s] IOPub message rate exceeded.\n",
      "The notebook server will temporarily stop sending output\n",
      "to the client in order to avoid crashing it.\n",
      "To change this limit, set the config variable\n",
      "`--NotebookApp.iopub_msg_rate_limit`.\n",
      "\n",
      "Current values:\n",
      "NotebookApp.iopub_msg_rate_limit=1000.0 (msgs/sec)\n",
      "NotebookApp.rate_limit_window=3.0 (secs)\n",
      "\n",
      "Processing K00364:280:HTN7HBBXY:6:2225:19603:46856:  97%|█████████▋| 306168/314226 [02:04<00:04, 1664.12it/s]IOPub message rate exceeded.\n",
      "The notebook server will temporarily stop sending output\n",
      "to the client in order to avoid crashing it.\n",
      "To change this limit, set the config variable\n",
      "`--NotebookApp.iopub_msg_rate_limit`.\n",
      "\n",
      "Current values:\n",
      "NotebookApp.iopub_msg_rate_limit=1000.0 (msgs/sec)\n",
      "NotebookApp.rate_limit_window=3.0 (secs)\n",
      "\n",
      "Processing K00364:280:HTN7HBBXY:6:2228:3823:47366: 100%|█████████▉| 313951/314226 [02:07<00:00, 2583.78it/s] IOPub message rate exceeded.\n",
      "The notebook server will temporarily stop sending output\n",
      "to the client in order to avoid crashing it.\n",
      "To change this limit, set the config variable\n",
      "`--NotebookApp.iopub_msg_rate_limit`.\n",
      "\n",
      "Current values:\n",
      "NotebookApp.iopub_msg_rate_limit=1000.0 (msgs/sec)\n",
      "NotebookApp.rate_limit_window=3.0 (secs)\n",
      "\n"
     ]
    }
   ],
   "source": [
    "fastq = npc.FastqFile(\"/data16/marcus/working/230418_RNAStds_butWithIllumina/rMV01_S1_L006_R1_001.fastq\")"
   ],
   "metadata": {
    "collapsed": false
   }
  },
  {
   "cell_type": "code",
   "execution_count": 3,
   "outputs": [],
   "source": [
    "fastq_df =fastq.df.copy()"
   ],
   "metadata": {
    "collapsed": false
   }
  },
  {
   "cell_type": "code",
   "execution_count": 4,
   "outputs": [],
   "source": [
    "barcode_dict = {\n",
    "    '00': 'GGTGTTGTT',\n",
    "    '05': 'CGGCAATAA',\n",
    "    '10': 'TAATCGTCC',\n",
    "    '15': 'CCTTCTAGG',\n",
    "    '30': 'ACACACACC',\n",
    "    '60': 'AAGAGGAGG',\n",
    "}\n",
    "\n",
    "rc_barcode_dict = {key: mp.revcomp(value) for key, value in barcode_dict.items()}\n",
    "\n",
    "reverse_barcode_dict = {value: key for key, value in barcode_dict.items()}"
   ],
   "metadata": {
    "collapsed": false
   }
  },
  {
   "cell_type": "code",
   "execution_count": 7,
   "outputs": [],
   "source": [
    "def barcode_lookup(barcode):\n",
    "    try:\n",
    "        return reverse_barcode_dict[barcode]\n",
    "    except KeyError:\n",
    "        return \"fail\""
   ],
   "metadata": {
    "collapsed": false
   }
  },
  {
   "cell_type": "code",
   "execution_count": 8,
   "outputs": [],
   "source": [
    "fastq_df[[\"UMI\", \"barcode\"]] = fastq_df.sequence.str.extract(r\"CGTAAGCAAGAGAAGAG(.{8})TCAGCTCAGC(.*)\")\n",
    "fastq_df['matched_barcode'] = fastq_df.barcode.apply(barcode_lookup)"
   ],
   "metadata": {
    "collapsed": false
   }
  },
  {
   "cell_type": "code",
   "execution_count": 9,
   "outputs": [
    {
     "data": {
      "text/plain": "<Figure size 432x288 with 1 Axes>",
      "image/png": "[encoded data removed]"
     },
     "metadata": {
      "needs_background": "light"
     },
     "output_type": "display_data"
    }
   ],
   "source": [
    "import seaborn as sea\n",
    "import matplotlib.pyplot as plt\n",
    "import plotly.express as px\n",
    "import plotly.graph_objects as go\n",
    "sea.set_style(\"whitegrid\")\n",
    "fig = fastq_df.matched_barcode.value_counts().plot.bar()\n",
    "plt.savefig(f\"./{npc.get_dt()}_barcode_counts.png\")"
   ],
   "metadata": {
    "collapsed": false
   }
  },
  {
   "cell_type": "code",
   "execution_count": 10,
   "outputs": [
    {
     "name": "stdout",
     "output_type": "stream",
     "text": [
      "Loading 230327_mergedOnReads.plusStandards.parquet... Done. Loaded 1,053,185 rows.\n"
     ]
    },
    {
     "data": {
      "text/plain": "                                      read_id  bit_flag   chr_id  chr_pos  mapq  \\\n0        967a90ce-5e1b-470e-aeca-6234ff58c418        16        I     3747    60   \n1        477328bb-1760-42da-9f0d-ba27155cae73         0        I  9689191    60   \n2        5705b6c9-d21c-4f5d-b47f-1c7d276f3388         0        I  9689191    60   \n3        89123a60-4788-428c-adbf-21c24da38c7e         0        I  9689191    60   \n4        839d5d8b-1f85-43d4-9eab-f134eb0fdbc4         0        I  9689191    60   \n...                                       ...       ...      ...      ...   ...   \n1053180  abf0ef66-f410-4ee5-9dc2-9b26cfa3fa53         0  cerENO2       30    60   \n1053181  008bb0c9-f9a3-4de6-8e12-7f857ab3f92b         0  cerENO2       30    60   \n1053182  1e75d682-d990-4a15-bb9e-17826925180e         0  cerENO2       30    60   \n1053183  2b3fc11e-8402-4bdb-9a6f-cf264f0358b8         0  cerENO2       30    60   \n1053184  682b4484-a376-4732-ada7-81d3c3532ce7         0  cerENO2      549    56   \n\n                                                     cigar r_next p_next len  \\\n0                                   187S13M1D116M1D5M1I15M      *      0   0   \n1        5S17M1D13M1I85M346N29M3D24M2D6M2I37M1I42M2I7M1...      *      0   0   \n2        2S17M1D13M2I18M2I11M1D20M1I28M1D6M346N12M1I18M...      *      0   0   \n3        5S20M1D6M1I33M1D20M1D34M346N18M3I41M1I19M2D26M...      *      0   0   \n4        4S11M1D3M2D63M2I1M1D34M346N10M1I8M3D9M1D5M2I20...      *      0   0   \n...                                                    ...    ...    ...  ..   \n1053180  1S13M1I4M2D8M1D5M1D16M1D30M1D30M1I1M1I28M1D9M2...      *      0   0   \n1053181  1S18M1I9M9D8M1I7M5D22M2I52M1D10M1D16M2I6M5D42M...      *      0   0   \n1053182  1S8M1I9M1I30M1D2M1D1M1D17M1I11M2D13M1I8M1D8M1D...      *      0   0   \n1053183  20M1D12M1D42M1D1M3I3M1D21M1I8M1D29M1D16M1I37M3...      *      0   0   \n1053184                                            114M84S      *      0   0   \n\n                                                  sequence  \\\n0        ATTTAACATAATTATTAGCACATTATTAAAAATAATGTACTGATGT...   \n1        CCAAGTTTGAGTAAACATGGTCTCAACCGTGTCGTCACAAATTGGG...   \n2        AGTTTGAGTAAACATGGTCACAACCGTGTCGTTCTCAAATTGGGCG...   \n3        CCAAGTTTGAGTAAACATGGTCTTCATTGTGTTCGTTCAAATTGGG...   \n4        TCAGTTTGAGTAAACTGGTTCAACCGTGTCGTTCAAATCTGGCGCG...   \n...                                                    ...   \n1053180  AAGATTGTGTTTGTAAAGTCTGTGGATGGTAAGGTGTTATGAACGC...   \n1053181  TAGATTGTGTTTGTTAGTCAATTGTTGATTGTGATGATAATCTGTA...   \n1053182  AAGATTGTGCTGTGCAAGTACGTTGTGGATGGGTAAGGGTGTTATG...   \n1053183  AGATTGTGTTTGTTAGTCTCGTGGATGGGTAAGGTGTTATGAACGC...   \n1053184  TGAAGAAGCTTTGGACTTGATTGTTGACGCCATCGTCGTGAGTAGT...   \n\n                                                phred_qual   AS   NM  \\\n0        $064865:<15433753*/0/-%)62;=/?8191+++*.5(%$\"'*...  134    5   \n1        *70<1<=/+*3/:5572375;,7>6438:=<=B88,.76<&6>1CD...  331   20   \n2        '(./672:2;ABC8?>5:%/1;=711-.+7771'07?B<<B@?@.-...  306   29   \n3        &0.45994(+8....:9:A;9$82,+-''4-*041/),33(1;:<;...  290   37   \n4        #(,5-$++157<66&(/$*/13100'570/.44000,,&-24-,/....  210   55   \n...                                                    ...  ...  ...   \n1053180  +;@@DD?:$,5210$$'*(%$$+3/;>:84*)+<;2:A<=???5/)...  406   84   \n1053181  #6:=:=70+//@=77..-/$$$.-/000)%%$%$&##%%$$$$$'$...  429   79   \n1053182  &%164?5:8%'$'%&,,/')+2%/$',*656/+,*03440)(%%&....  295  108   \n1053183  )+3:6.00,.61)0053('($*20984;;00/6:1,(46;9<6657...  463   61   \n1053184  $$&4<778%3@A><>(-::?9445C=B//4?>:66<B<@D<;>;?@...   80   17   \n\n                                        SA  cm      de   ms  nn  rl   s1  s2 t3 t5 tp ts  zd  \\\n0        MtDNA,7636,+,150S171M12I4S,60,29;  26  0.0329  134   0   0  126   0  -  -  P  + NaN   \n1                                     None  87  0.0328  395   0   0  354   0  -  -  P  + NaN   \n2                                     None  65  0.0517  370   0   0  305   0  -  -  P  + NaN   \n3                                     None  68  0.0602  354   0   0  316   0  -  -  P  + NaN   \n4                                     None  51  0.0966  274   0   0  225   0  -  -  P  + NaN   \n...                                    ...  ..     ...  ...  ..  ..  ...  .. .. .. .. ..  ..   \n1053180                               None  79  0.0705  406  17   0  374   0  -  -  P  + NaN   \n1053181                               None  88  0.0645  432  17   0  396   0  -  -  P  + NaN   \n1053182                               None  47  0.1265  295   0   0  265   0  -  -  P  + NaN   \n1053183                               None  86  0.0565  463  17   0  389   0  -  -  P  + NaN   \n1053184                               None  17  0.0000   80  17   0   72   0  -  -  P  + NaN   \n\n        strand qc_tag_featc  qc_pass_featc         gene_id gene_name   chr  leader_start  \\\n0            -     Assigned            1.0  WBGene00023193  Y74C9A.6     I         101.0   \n1            +         None            NaN            None   unNamed  None           2.0   \n2            +         None            NaN            None   unNamed  None           2.0   \n3            +         None            NaN            None   unNamed  None           NaN   \n4            +     Assigned            1.0  WBGene00004426    rpl-14     I           2.0   \n...        ...          ...            ...             ...       ...   ...           ...   \n1053180      +         None            NaN            None   unNamed  None         417.0   \n1053181      +         None            NaN            None   unNamed  None           2.0   \n1053182      +         None            NaN            None   unNamed  None           NaN   \n1053183      +         None            NaN            None   unNamed  None           2.0   \n1053184      +         None            NaN            None   unNamed  None           NaN   \n\n         adapter_start  polya_start  transcript_start  read_rate  polya_length qc_tag_polya  \\\n0                340.0       3409.0            4425.0     136.91         41.14         PASS   \n1                  3.0       6300.0           10506.0      94.12        126.41         PASS   \n2                  3.0       7788.0           11159.0     115.85        124.62         PASS   \n3                  NaN          NaN               NaN        NaN           NaN         None   \n4                  3.0       6047.0            7540.0     107.57         48.29         PASS   \n...                ...          ...               ...        ...           ...          ...   \n1053180          717.0       2797.0            3193.0     143.43         13.81         PASS   \n1053181            3.0       6362.0            7436.0     103.86         32.00         PASS   \n1053182            NaN          NaN               NaN        NaN           NaN         None   \n1053183            3.0       2123.0           11230.0     111.56        332.26         PASS   \n1053184            NaN          NaN               NaN        NaN           NaN         None   \n\n         read_length    assignment  \n0                337  NotAStandard  \n1                462  NotAStandard  \n2                464  NotAStandard  \n3                471  NotAStandard  \n4                486  NotAStandard  \n...              ...           ...  \n1053180          669            10  \n1053181          625            60  \n1053182          647            60  \n1053183          698            15  \n1053184          198            15  \n\n[1053185 rows x 41 columns]",
      "text/html": "<div>\n<style scoped>\n    .dataframe tbody tr th:only-of-type {\n        vertical-align: middle;\n    }\n\n    .dataframe tbody tr th {\n        vertical-align: top;\n    }\n\n    .dataframe thead th {\n        text-align: right;\n    }\n</style>\n<table border=\"1\" class=\"dataframe\">\n  <thead>\n    <tr style=\"text-align: right;\">\n      <th></th>\n      <th>read_id</th>\n      <th>bit_flag</th>\n      <th>chr_id</th>\n      <th>chr_pos</th>\n      <th>mapq</th>\n      <th>cigar</th>\n      <th>r_next</th>\n      <th>p_next</th>\n      <th>len</th>\n      <th>sequence</th>\n      <th>phred_qual</th>\n      <th>AS</th>\n      <th>NM</th>\n      <th>SA</th>\n      <th>cm</th>\n      <th>de</th>\n      <th>ms</th>\n      <th>nn</th>\n      <th>rl</th>\n      <th>s1</th>\n      <th>s2</th>\n      <th>t3</th>\n      <th>t5</th>\n      <th>tp</th>\n      <th>ts</th>\n      <th>zd</th>\n      <th>strand</th>\n      <th>qc_tag_featc</th>\n      <th>qc_pass_featc</th>\n      <th>gene_id</th>\n      <th>gene_name</th>\n      <th>chr</th>\n      <th>leader_start</th>\n      <th>adapter_start</th>\n      <th>polya_start</th>\n      <th>transcript_start</th>\n      <th>read_rate</th>\n      <th>polya_length</th>\n      <th>qc_tag_polya</th>\n      <th>read_length</th>\n      <th>assignment</th>\n    </tr>\n  </thead>\n  <tbody>\n    <tr>\n      <th>0</th>\n      <td>967a90ce-5e1b-470e-aeca-6234ff58c418</td>\n      <td>16</td>\n      <td>I</td>\n      <td>3747</td>\n      <td>60</td>\n      <td>187S13M1D116M1D5M1I15M</td>\n      <td>*</td>\n      <td>0</td>\n      <td>0</td>\n      <td>ATTTAACATAATTATTAGCACATTATTAAAAATAATGTACTGATGT...</td>\n      <td>$064865:&lt;15433753*/0/-%)62;=/?8191+++*.5(%$\"'*...</td>\n      <td>134</td>\n      <td>5</td>\n      <td>MtDNA,7636,+,150S171M12I4S,60,29;</td>\n      <td>26</td>\n      <td>0.0329</td>\n      <td>134</td>\n      <td>0</td>\n      <td>0</td>\n      <td>126</td>\n      <td>0</td>\n      <td>-</td>\n      <td>-</td>\n      <td>P</td>\n      <td>+</td>\n      <td>NaN</td>\n      <td>-</td>\n      <td>Assigned</td>\n      <td>1.0</td>\n      <td>WBGene00023193</td>\n      <td>Y74C9A.6</td>\n      <td>I</td>\n      <td>101.0</td>\n      <td>340.0</td>\n      <td>3409.0</td>\n      <td>4425.0</td>\n      <td>136.91</td>\n      <td>41.14</td>\n      <td>PASS</td>\n      <td>337</td>\n      <td>NotAStandard</td>\n    </tr>\n    <tr>\n      <th>1</th>\n      <td>477328bb-1760-42da-9f0d-ba27155cae73</td>\n      <td>0</td>\n      <td>I</td>\n      <td>9689191</td>\n      <td>60</td>\n      <td>5S17M1D13M1I85M346N29M3D24M2D6M2I37M1I42M2I7M1...</td>\n      <td>*</td>\n      <td>0</td>\n      <td>0</td>\n      <td>CCAAGTTTGAGTAAACATGGTCTCAACCGTGTCGTCACAAATTGGG...</td>\n      <td>*70&lt;1&lt;=/+*3/:5572375;,7&gt;6438:=&lt;=B88,.76&lt;&amp;6&gt;1CD...</td>\n      <td>331</td>\n      <td>20</td>\n      <td>None</td>\n      <td>87</td>\n      <td>0.0328</td>\n      <td>395</td>\n      <td>0</td>\n      <td>0</td>\n      <td>354</td>\n      <td>0</td>\n      <td>-</td>\n      <td>-</td>\n      <td>P</td>\n      <td>+</td>\n      <td>NaN</td>\n      <td>+</td>\n      <td>None</td>\n      <td>NaN</td>\n      <td>None</td>\n      <td>unNamed</td>\n      <td>None</td>\n      <td>2.0</td>\n      <td>3.0</td>\n      <td>6300.0</td>\n      <td>10506.0</td>\n      <td>94.12</td>\n      <td>126.41</td>\n      <td>PASS</td>\n      <td>462</td>\n      <td>NotAStandard</td>\n    </tr>\n    <tr>\n      <th>2</th>\n      <td>5705b6c9-d21c-4f5d-b47f-1c7d276f3388</td>\n      <td>0</td>\n      <td>I</td>\n      <td>9689191</td>\n      <td>60</td>\n      <td>2S17M1D13M2I18M2I11M1D20M1I28M1D6M346N12M1I18M...</td>\n      <td>*</td>\n      <td>0</td>\n      <td>0</td>\n      <td>AGTTTGAGTAAACATGGTCACAACCGTGTCGTTCTCAAATTGGGCG...</td>\n      <td>'(./672:2;ABC8?&gt;5:%/1;=711-.+7771'07?B&lt;&lt;B@?@.-...</td>\n      <td>306</td>\n      <td>29</td>\n      <td>None</td>\n      <td>65</td>\n      <td>0.0517</td>\n      <td>370</td>\n      <td>0</td>\n      <td>0</td>\n      <td>305</td>\n      <td>0</td>\n      <td>-</td>\n      <td>-</td>\n      <td>P</td>\n      <td>+</td>\n      <td>NaN</td>\n      <td>+</td>\n      <td>None</td>\n      <td>NaN</td>\n      <td>None</td>\n      <td>unNamed</td>\n      <td>None</td>\n      <td>2.0</td>\n      <td>3.0</td>\n      <td>7788.0</td>\n      <td>11159.0</td>\n      <td>115.85</td>\n      <td>124.62</td>\n      <td>PASS</td>\n      <td>464</td>\n      <td>NotAStandard</td>\n    </tr>\n    <tr>\n      <th>3</th>\n      <td>89123a60-4788-428c-adbf-21c24da38c7e</td>\n      <td>0</td>\n      <td>I</td>\n      <td>9689191</td>\n      <td>60</td>\n      <td>5S20M1D6M1I33M1D20M1D34M346N18M3I41M1I19M2D26M...</td>\n      <td>*</td>\n      <td>0</td>\n      <td>0</td>\n      <td>CCAAGTTTGAGTAAACATGGTCTTCATTGTGTTCGTTCAAATTGGG...</td>\n      <td>&amp;0.45994(+8....:9:A;9$82,+-''4-*041/),33(1;:&lt;;...</td>\n      <td>290</td>\n      <td>37</td>\n      <td>None</td>\n      <td>68</td>\n      <td>0.0602</td>\n      <td>354</td>\n      <td>0</td>\n      <td>0</td>\n      <td>316</td>\n      <td>0</td>\n      <td>-</td>\n      <td>-</td>\n      <td>P</td>\n      <td>+</td>\n      <td>NaN</td>\n      <td>+</td>\n      <td>None</td>\n      <td>NaN</td>\n      <td>None</td>\n      <td>unNamed</td>\n      <td>None</td>\n      <td>NaN</td>\n      <td>NaN</td>\n      <td>NaN</td>\n      <td>NaN</td>\n      <td>NaN</td>\n      <td>NaN</td>\n      <td>None</td>\n      <td>471</td>\n      <td>NotAStandard</td>\n    </tr>\n    <tr>\n      <th>4</th>\n      <td>839d5d8b-1f85-43d4-9eab-f134eb0fdbc4</td>\n      <td>0</td>\n      <td>I</td>\n      <td>9689191</td>\n      <td>60</td>\n      <td>4S11M1D3M2D63M2I1M1D34M346N10M1I8M3D9M1D5M2I20...</td>\n      <td>*</td>\n      <td>0</td>\n      <td>0</td>\n      <td>TCAGTTTGAGTAAACTGGTTCAACCGTGTCGTTCAAATCTGGCGCG...</td>\n      <td>#(,5-$++157&lt;66&amp;(/$*/13100'570/.44000,,&amp;-24-,/....</td>\n      <td>210</td>\n      <td>55</td>\n      <td>None</td>\n      <td>51</td>\n      <td>0.0966</td>\n      <td>274</td>\n      <td>0</td>\n      <td>0</td>\n      <td>225</td>\n      <td>0</td>\n      <td>-</td>\n      <td>-</td>\n      <td>P</td>\n      <td>+</td>\n      <td>NaN</td>\n      <td>+</td>\n      <td>Assigned</td>\n      <td>1.0</td>\n      <td>WBGene00004426</td>\n      <td>rpl-14</td>\n      <td>I</td>\n      <td>2.0</td>\n      <td>3.0</td>\n      <td>6047.0</td>\n      <td>7540.0</td>\n      <td>107.57</td>\n      <td>48.29</td>\n      <td>PASS</td>\n      <td>486</td>\n      <td>NotAStandard</td>\n    </tr>\n    <tr>\n      <th>...</th>\n      <td>...</td>\n      <td>...</td>\n      <td>...</td>\n      <td>...</td>\n      <td>...</td>\n      <td>...</td>\n      <td>...</td>\n      <td>...</td>\n      <td>...</td>\n      <td>...</td>\n      <td>...</td>\n      <td>...</td>\n      <td>...</td>\n      <td>...</td>\n      <td>...</td>\n      <td>...</td>\n      <td>...</td>\n      <td>...</td>\n      <td>...</td>\n      <td>...</td>\n      <td>...</td>\n      <td>...</td>\n      <td>...</td>\n      <td>...</td>\n      <td>...</td>\n      <td>...</td>\n      <td>...</td>\n      <td>...</td>\n      <td>...</td>\n      <td>...</td>\n      <td>...</td>\n      <td>...</td>\n      <td>...</td>\n      <td>...</td>\n      <td>...</td>\n      <td>...</td>\n      <td>...</td>\n      <td>...</td>\n      <td>...</td>\n      <td>...</td>\n      <td>...</td>\n    </tr>\n    <tr>\n      <th>1053180</th>\n      <td>abf0ef66-f410-4ee5-9dc2-9b26cfa3fa53</td>\n      <td>0</td>\n      <td>cerENO2</td>\n      <td>30</td>\n      <td>60</td>\n      <td>1S13M1I4M2D8M1D5M1D16M1D30M1D30M1I1M1I28M1D9M2...</td>\n      <td>*</td>\n      <td>0</td>\n      <td>0</td>\n      <td>AAGATTGTGTTTGTAAAGTCTGTGGATGGTAAGGTGTTATGAACGC...</td>\n      <td>+;@@DD?:$,5210$$'*(%$$+3/;&gt;:84*)+&lt;;2:A&lt;=???5/)...</td>\n      <td>406</td>\n      <td>84</td>\n      <td>None</td>\n      <td>79</td>\n      <td>0.0705</td>\n      <td>406</td>\n      <td>17</td>\n      <td>0</td>\n      <td>374</td>\n      <td>0</td>\n      <td>-</td>\n      <td>-</td>\n      <td>P</td>\n      <td>+</td>\n      <td>NaN</td>\n      <td>+</td>\n      <td>None</td>\n      <td>NaN</td>\n      <td>None</td>\n      <td>unNamed</td>\n      <td>None</td>\n      <td>417.0</td>\n      <td>717.0</td>\n      <td>2797.0</td>\n      <td>3193.0</td>\n      <td>143.43</td>\n      <td>13.81</td>\n      <td>PASS</td>\n      <td>669</td>\n      <td>10</td>\n    </tr>\n    <tr>\n      <th>1053181</th>\n      <td>008bb0c9-f9a3-4de6-8e12-7f857ab3f92b</td>\n      <td>0</td>\n      <td>cerENO2</td>\n      <td>30</td>\n      <td>60</td>\n      <td>1S18M1I9M9D8M1I7M5D22M2I52M1D10M1D16M2I6M5D42M...</td>\n      <td>*</td>\n      <td>0</td>\n      <td>0</td>\n      <td>TAGATTGTGTTTGTTAGTCAATTGTTGATTGTGATGATAATCTGTA...</td>\n      <td>#6:=:=70+//@=77..-/$$$.-/000)%%$%$&amp;##%%$$$$$'$...</td>\n      <td>429</td>\n      <td>79</td>\n      <td>None</td>\n      <td>88</td>\n      <td>0.0645</td>\n      <td>432</td>\n      <td>17</td>\n      <td>0</td>\n      <td>396</td>\n      <td>0</td>\n      <td>-</td>\n      <td>-</td>\n      <td>P</td>\n      <td>+</td>\n      <td>NaN</td>\n      <td>+</td>\n      <td>None</td>\n      <td>NaN</td>\n      <td>None</td>\n      <td>unNamed</td>\n      <td>None</td>\n      <td>2.0</td>\n      <td>3.0</td>\n      <td>6362.0</td>\n      <td>7436.0</td>\n      <td>103.86</td>\n      <td>32.00</td>\n      <td>PASS</td>\n      <td>625</td>\n      <td>60</td>\n    </tr>\n    <tr>\n      <th>1053182</th>\n      <td>1e75d682-d990-4a15-bb9e-17826925180e</td>\n      <td>0</td>\n      <td>cerENO2</td>\n      <td>30</td>\n      <td>60</td>\n      <td>1S8M1I9M1I30M1D2M1D1M1D17M1I11M2D13M1I8M1D8M1D...</td>\n      <td>*</td>\n      <td>0</td>\n      <td>0</td>\n      <td>AAGATTGTGCTGTGCAAGTACGTTGTGGATGGGTAAGGGTGTTATG...</td>\n      <td>&amp;%164?5:8%'$'%&amp;,,/')+2%/$',*656/+,*03440)(%%&amp;....</td>\n      <td>295</td>\n      <td>108</td>\n      <td>None</td>\n      <td>47</td>\n      <td>0.1265</td>\n      <td>295</td>\n      <td>0</td>\n      <td>0</td>\n      <td>265</td>\n      <td>0</td>\n      <td>-</td>\n      <td>-</td>\n      <td>P</td>\n      <td>+</td>\n      <td>NaN</td>\n      <td>+</td>\n      <td>None</td>\n      <td>NaN</td>\n      <td>None</td>\n      <td>unNamed</td>\n      <td>None</td>\n      <td>NaN</td>\n      <td>NaN</td>\n      <td>NaN</td>\n      <td>NaN</td>\n      <td>NaN</td>\n      <td>NaN</td>\n      <td>None</td>\n      <td>647</td>\n      <td>60</td>\n    </tr>\n    <tr>\n      <th>1053183</th>\n      <td>2b3fc11e-8402-4bdb-9a6f-cf264f0358b8</td>\n      <td>0</td>\n      <td>cerENO2</td>\n      <td>30</td>\n      <td>60</td>\n      <td>20M1D12M1D42M1D1M3I3M1D21M1I8M1D29M1D16M1I37M3...</td>\n      <td>*</td>\n      <td>0</td>\n      <td>0</td>\n      <td>AGATTGTGTTTGTTAGTCTCGTGGATGGGTAAGGTGTTATGAACGC...</td>\n      <td>)+3:6.00,.61)0053('($*20984;;00/6:1,(46;9&lt;6657...</td>\n      <td>463</td>\n      <td>61</td>\n      <td>None</td>\n      <td>86</td>\n      <td>0.0565</td>\n      <td>463</td>\n      <td>17</td>\n      <td>0</td>\n      <td>389</td>\n      <td>0</td>\n      <td>-</td>\n      <td>-</td>\n      <td>P</td>\n      <td>+</td>\n      <td>NaN</td>\n      <td>+</td>\n      <td>None</td>\n      <td>NaN</td>\n      <td>None</td>\n      <td>unNamed</td>\n      <td>None</td>\n      <td>2.0</td>\n      <td>3.0</td>\n      <td>2123.0</td>\n      <td>11230.0</td>\n      <td>111.56</td>\n      <td>332.26</td>\n      <td>PASS</td>\n      <td>698</td>\n      <td>15</td>\n    </tr>\n    <tr>\n      <th>1053184</th>\n      <td>682b4484-a376-4732-ada7-81d3c3532ce7</td>\n      <td>0</td>\n      <td>cerENO2</td>\n      <td>549</td>\n      <td>56</td>\n      <td>114M84S</td>\n      <td>*</td>\n      <td>0</td>\n      <td>0</td>\n      <td>TGAAGAAGCTTTGGACTTGATTGTTGACGCCATCGTCGTGAGTAGT...</td>\n      <td>$$&amp;4&lt;778%3@A&gt;&lt;&gt;(-::?9445C=B//4?&gt;:66&lt;B&lt;@D&lt;;&gt;;?@...</td>\n      <td>80</td>\n      <td>17</td>\n      <td>None</td>\n      <td>17</td>\n      <td>0.0000</td>\n      <td>80</td>\n      <td>17</td>\n      <td>0</td>\n      <td>72</td>\n      <td>0</td>\n      <td>-</td>\n      <td>-</td>\n      <td>P</td>\n      <td>+</td>\n      <td>NaN</td>\n      <td>+</td>\n      <td>None</td>\n      <td>NaN</td>\n      <td>None</td>\n      <td>unNamed</td>\n      <td>None</td>\n      <td>NaN</td>\n      <td>NaN</td>\n      <td>NaN</td>\n      <td>NaN</td>\n      <td>NaN</td>\n      <td>NaN</td>\n      <td>None</td>\n      <td>198</td>\n      <td>15</td>\n    </tr>\n  </tbody>\n</table>\n<p>1053185 rows × 41 columns</p>\n</div>"
     },
     "execution_count": 10,
     "metadata": {},
     "output_type": "execute_result"
    }
   ],
   "source": [
    "newerN2 = npc.NanoporeRun(run_nickname=\"newerN2\")\n",
    "newerN2.load_mergedOnReads()"
   ],
   "metadata": {
    "collapsed": false
   }
  },
  {
   "cell_type": "code",
   "execution_count": 11,
   "outputs": [
    {
     "data": {
      "text/plain": "Extracting information from Mappy column:   0%|          | 0/247906 [00:00<?, ?it/s]",
      "application/vnd.jupyter.widget-view+json": {
       "version_major": 2,
       "version_minor": 0,
       "model_id": "ca4639c181c5463f9d2f25f5e62629c0"
      }
     },
     "metadata": {},
     "output_type": "display_data"
    },
    {
     "name": "stderr",
     "output_type": "stream",
     "text": [
      "/tmp/ipykernel_2045401/892255077.py:36: FutureWarning: In a future version of pandas all arguments of StringMethods.rsplit except for the argument 'pat' will be keyword-only.\n",
      "  self.hit_df['cigar'] = self.hit_df.cigar.str.rsplit(\":\", 1).str[1]\n",
      "/tmp/ipykernel_2045401/892255077.py:36: SettingWithCopyWarning: \n",
      "A value is trying to be set on a copy of a slice from a DataFrame.\n",
      "Try using .loc[row_indexer,col_indexer] = value instead\n",
      "\n",
      "See the caveats in the documentation: https://pandas.pydata.org/pandas-docs/stable/user_guide/indexing.html#returning-a-view-versus-a-copy\n",
      "  self.hit_df['cigar'] = self.hit_df.cigar.str.rsplit(\":\", 1).str[1]\n"
     ]
    },
    {
     "data": {
      "text/plain": "Extracting information from Mappy column:   0%|          | 0/51618 [00:00<?, ?it/s]",
      "application/vnd.jupyter.widget-view+json": {
       "version_major": 2,
       "version_minor": 0,
       "model_id": "f27d4eda39c14b79be0716631a163633"
      }
     },
     "metadata": {},
     "output_type": "display_data"
    },
    {
     "name": "stderr",
     "output_type": "stream",
     "text": [
      "/tmp/ipykernel_2045401/892255077.py:36: FutureWarning: In a future version of pandas all arguments of StringMethods.rsplit except for the argument 'pat' will be keyword-only.\n",
      "  self.hit_df['cigar'] = self.hit_df.cigar.str.rsplit(\":\", 1).str[1]\n",
      "/tmp/ipykernel_2045401/892255077.py:36: SettingWithCopyWarning: \n",
      "A value is trying to be set on a copy of a slice from a DataFrame.\n",
      "Try using .loc[row_indexer,col_indexer] = value instead\n",
      "\n",
      "See the caveats in the documentation: https://pandas.pydata.org/pandas-docs/stable/user_guide/indexing.html#returning-a-view-versus-a-copy\n",
      "  self.hit_df['cigar'] = self.hit_df.cigar.str.rsplit(\":\", 1).str[1]\n"
     ]
    }
   ],
   "source": [
    "# From 221117_comparing_Nano3P_and_dRNA.ipynb\n",
    "class StdLibrary:\n",
    "    def __init__(self,\n",
    "                 assignment_csv: str,\n",
    "                 is_dRNA_not_Nano3P: bool,\n",
    "                 ):\n",
    "        self.raw_df = pd.read_csv(assignment_csv)\n",
    "        self.df = self.raw_df.copy(deep=True)\n",
    "        self.df['read_id'] = self.df[\"Unnamed: 0\"]\n",
    "        \n",
    "        self.is_dRNA = is_dRNA_not_Nano3P\n",
    "        self.is_Nano3P = not is_dRNA_not_Nano3P\n",
    "        \n",
    "        if self.is_dRNA:\n",
    "            self.df.sequence = self.df.sequence.str.replace(\"U\", \"T\")\n",
    "        \n",
    "        def mappy_cols_to_cols(mappy_obj_column):\n",
    "            \"\"\"\n",
    "            The main reason to have this as its own script is to handle the errors that come from failed splits (which result from failed maps!)\n",
    "            \n",
    "            :param mappy_obj_column: \n",
    "            :return: \n",
    "            \"\"\"\n",
    "            if isinstance(mappy_obj_column, str):\n",
    "                return_values = mappy_obj_column.split(\"\\t\")\n",
    "            else:\n",
    "                return_values = [None for _ in range(13)]\n",
    "            if len(return_values) == 13:\n",
    "                return return_values\n",
    "            else:\n",
    "                print(return_values)\n",
    "        \n",
    "        tqdm.pandas(desc=\"Extracting information from Mappy column\")\n",
    "        self.df[['q_st', 'q_en', 'strand', 'ctg', 'ctg_len', 'r_st', 'r_en', 'mlen', 'blen', 'mapq', 'tp', 'ts', 'cigar']] = self.df.progress_apply(lambda row: mappy_cols_to_cols(row['mappy_hit_obj']), axis=1, result_type='expand')\n",
    "        self.hit_df = self.df[self.df.assignment.isin(['00', '05', '10', '15', '30', '60'])]\n",
    "        self.hit_df['cigar'] = self.hit_df.cigar.str.rsplit(\":\", 1).str[1]\n",
    "        self.hit_df = self.hit_df.astype({\"r_st\": int, \"r_en\": int, \"q_st\": int, \"q_en\": int})\n",
    "        \n",
    "        barcode_dict = { '00': 'GGTGTTGTT', '05': 'CGGCAATAA', '10': 'TAATCGTCC', '15': 'CCTTCTAGG', '30': 'ACACACACC', '60': 'AAGAGGAGG'}\n",
    "        if self.is_Nano3P:\n",
    "            # We'll flip (rev. comp.) the barcode dict if we are working with nano3P data (cDNA sequences)\n",
    "            barcode_dict = {key: mp.revcomp(value) for key, value in barcode_dict.items()}\n",
    "        def check_for_perfect_matches(rc_barcode_dict, **row):\n",
    "            assignment = row['assignment']\n",
    "            sequence = row['sequence']\n",
    "            barcode = rc_barcode_dict[assignment]\n",
    "            perfect_barcode = barcode in sequence\n",
    "            return perfect_barcode\n",
    "        self.hit_df['perfect_barcode'] = self.hit_df.apply(lambda row: check_for_perfect_matches(barcode_dict, **row), axis=1)\n",
    "        path_to_std_ref_fasta = \"220902_version2.0_releventSequences_wOutTails.fasta\"\n",
    "        self.stds_ref_dict = {}\n",
    "        for ref_id, sequence, _, comments in mp.fastx_read(path_to_std_ref_fasta, read_comment=True):\n",
    "            cutdown_ref_id = ref_id[-6:-4]\n",
    "            self.stds_ref_dict[cutdown_ref_id] = sequence\n",
    "    \n",
    "    def plot_perfect_barcodes(self, renderer=None, save_to=None):\n",
    "        hit_df_groupby = self.hit_df.groupby(\"assignment\")\n",
    "\n",
    "        grouped_df = hit_df_groupby['assignment'].count().to_frame(name=\"total_count\")\n",
    "        grouped_df['perfect_match_count'] = hit_df_groupby['perfect_barcode'].sum().to_frame(name=\"perfect_match_count\")\n",
    "        grouped_df['mean_r_en'] = hit_df_groupby['r_en'].mean().to_frame(name=\"mean_r_en\")\n",
    "        \n",
    "        grouped_df['imperfect_match_count'] = grouped_df.total_count - grouped_df.perfect_match_count\n",
    "        grouped_df = grouped_df.reset_index()\n",
    "        fig = px.bar(grouped_df,\n",
    "                     x='assignment',\n",
    "                     y=['perfect_match_count', 'imperfect_match_count'],\n",
    "                     template=\"plotly_white\")\n",
    "        fig.update_layout(height=500, width=700)\n",
    "        fig.update_layout(legend=dict(\n",
    "            orientation='h',\n",
    "            yanchor=\"top\",\n",
    "            y=0.99,\n",
    "            xanchor=\"left\",\n",
    "            x=0.01\n",
    "        ))\n",
    "        if isinstance(renderer, str):\n",
    "            fig.show(renderer=renderer)\n",
    "        else:\n",
    "            fig.show()\n",
    "        if isinstance(save_to, str):\n",
    "            if save_to.endswith(\"html\"):\n",
    "                fig.write_html(save_to)\n",
    "            else:\n",
    "                fig.write_image(save_to)\n",
    "    \n",
    "    def print_alignments(self,\n",
    "                         number_to_print: int,\n",
    "                         select_assignment=None,\n",
    "                         constrict_to_width=None,\n",
    "                         select_with_head=False,\n",
    "                         additional_filtering_query=None):\n",
    "        def print_mappy_hit_alignment_for_stds(read_id, cigar, r_st, r_en, q_st, q_en, strand, sequence, assignment,\n",
    "                                               ref_dict=None, line_print_width=None,\n",
    "                                               **other_row_items) -> None:\n",
    "            import re\n",
    "            ref_seq = ref_dict[assignment].upper()\n",
    "            print(f\"\\nread_id={read_id}; assignment={assignment}\")\n",
    "            parsed_cigar = re.findall(rf'(\\d+)([MDNSIX])', cigar)\n",
    "            parsed_cigar = [(int(num), char) for num, char in parsed_cigar]\n",
    "            ref_seq = ref_seq[r_st: r_en]\n",
    "            ref_pos = 0\n",
    "            sequence = sequence[q_st: q_en]\n",
    "            read_pos = 0\n",
    "            if strand == \"-\":\n",
    "                sequence = mp.revcomp(sequence)\n",
    "            top_line = \"\"\n",
    "            middle_line = \"\"\n",
    "            bottom_line = \"\"\n",
    "            for length, code in parsed_cigar:\n",
    "                if code == \"M\":  # Map (Read & Ref Match)\n",
    "                    read_map_piece = sequence[read_pos:read_pos + length]\n",
    "                    ref_map_piece = ref_seq[ref_pos:ref_pos + length]\n",
    "                    perfect_matches = \"\"\n",
    "                    for index, char in enumerate(read_map_piece):\n",
    "                        try:\n",
    "                            if char == ref_map_piece[index]:\n",
    "                                perfect_matches += \"|\"\n",
    "                            else:\n",
    "                                perfect_matches += \"•\"\n",
    "                        except IndexError:\n",
    "                            perfect_matches += \" \"\n",
    "                    top_line += read_map_piece\n",
    "                    middle_line += perfect_matches\n",
    "                    bottom_line += ref_map_piece\n",
    "                    ref_pos += length\n",
    "                    read_pos += length\n",
    "                elif code == \"I\":  # Insert (Gap in Ref)\n",
    "                    top_line += sequence[read_pos:read_pos + length]\n",
    "                    middle_line += \" \" * length\n",
    "                    bottom_line += \" \" * length\n",
    "                    read_pos += length\n",
    "                elif code == \"D\" or code == \"N\":  # Delete (Gap in Read)\n",
    "                    top_line += \" \" * length\n",
    "                    middle_line += \" \" * length\n",
    "                    bottom_line += ref_seq[ref_pos:ref_pos + length]\n",
    "                    ref_pos += length\n",
    "            if isinstance(line_print_width, int):\n",
    "                num_blocks = int(np.ceil(len(top_line) / line_print_width))\n",
    "                print_blocks = []\n",
    "                for block_index in range(num_blocks):\n",
    "                    print_blocks.append([\n",
    "                        top_line[block_index * line_print_width:(block_index + 1) * line_print_width],\n",
    "                        middle_line[block_index * line_print_width:(block_index + 1) * line_print_width],\n",
    "                        bottom_line[block_index * line_print_width:(block_index + 1) * line_print_width],\n",
    "                    ])\n",
    "                for top, mid, bot in print_blocks:\n",
    "                    print()\n",
    "                    print(f\"Read: {top}\")\n",
    "                    print(f\"      {mid}\")\n",
    "                    print(f\"Ref:  {bot}\")\n",
    "            else:\n",
    "                print(f\"Read: {top_line}\", f\"      {middle_line}\", f\"Ref:  {bottom_line}\", sep='\\n')\n",
    "        \n",
    "        if isinstance(select_assignment, str):\n",
    "            print_df = self.hit_df[self.hit_df.assignment == select_assignment]\n",
    "        else:\n",
    "            print_df = self.hit_df\n",
    "        \n",
    "        if isinstance(additional_filtering_query, str):\n",
    "            print_df = print_df.query(additional_filtering_query)\n",
    "        \n",
    "        if select_with_head:\n",
    "            print_df = print_df.head(number_to_print)\n",
    "        else:\n",
    "            print_df = print_df.sample(number_to_print)\n",
    "        \n",
    "        if isinstance(constrict_to_width, int):\n",
    "            print_df.apply(lambda row: print_mappy_hit_alignment_for_stds(ref_dict=self.stds_ref_dict, line_print_width=constrict_to_width, **row), axis=1)\n",
    "        else:\n",
    "            print_df.apply(lambda row: print_mappy_hit_alignment_for_stds(ref_dict=self.stds_ref_dict, line_print_width=175, **row), axis=1)\n",
    "\n",
    "nano3P = StdLibrary(\"221031_RNAStds_Nano3P_Assignments.csv\", False)\n",
    "dRNA = StdLibrary(\"221114_RNAStds_dRNA_Assignments.csv\", True)"
   ],
   "metadata": {
    "collapsed": false
   }
  },
  {
   "cell_type": "code",
   "execution_count": 12,
   "outputs": [],
   "source": [
    "\n",
    "nano3P_df = nano3P.hit_df.groupby(\"assignment\")['assignment'].count().to_frame(name=\"nano3P\")\n",
    "dRNA_df = dRNA.hit_df.groupby(\"assignment\")['assignment'].count().to_frame(name=\"dRNA\")"
   ],
   "metadata": {
    "collapsed": false
   }
  },
  {
   "cell_type": "code",
   "execution_count": 19,
   "outputs": [],
   "source": [
    "merge_df = pd.merge(newerN2.mergedOnReads_df.assignment.value_counts().rename(index={\"Failed_To_Map\":\"fail\"}), fastq_df.matched_barcode.value_counts(), left_index=True, right_index=True, how=\"outer\").rename(columns={\"assignment\": \"newerN2\", \"matched_barcode\": \"illumina\"})\n",
    "merge_df = pd.merge(merge_df, nano3P_df, left_index=True, right_index=True, how=\"outer\")\n",
    "merge_df = pd.merge(merge_df, dRNA_df, left_index=True, right_index=True, how=\"outer\")\n",
    "merge_df = merge_df[~merge_df.index.str.contains(\"Ambiguous\")]\n",
    "merge_df = merge_df[~merge_df.index.str.contains(\"NotAStandard\")]\n",
    "merge_df = merge_df.fillna(0)\n",
    "merge_df[\"newerN2_fraction\"] = merge_df.newerN2 / merge_df.newerN2.sum()\n",
    "merge_df[\"illumina_fraction\"] = merge_df.illumina / merge_df.illumina.sum()\n",
    "merge_df[\"nano3P_fraction\"] = merge_df.nano3P / merge_df.nano3P.sum()\n",
    "merge_df[\"dRNA_fraction\"] = merge_df.dRNA / merge_df.dRNA.sum()"
   ],
   "metadata": {
    "collapsed": false
   }
  },
  {
   "cell_type": "code",
   "execution_count": 20,
   "outputs": [
    {
     "data": {
      "text/plain": "<AxesSubplot: >"
     },
     "execution_count": 20,
     "metadata": {},
     "output_type": "execute_result"
    },
    {
     "data": {
      "text/plain": "<Figure size 432x288 with 1 Axes>",
      "image/png": "[encoded data removed]"
     },
     "metadata": {
      "needs_background": "light"
     },
     "output_type": "display_data"
    }
   ],
   "source": [
    "merge_df[sorted([col for col in merge_df.columns if \"fraction\" in col], reverse=False)].plot.bar()"
   ],
   "metadata": {
    "collapsed": false
   }
  },
  {
   "cell_type": "code",
   "execution_count": 21,
   "outputs": [
    {
     "data": {
      "text/plain": "<Figure size 432x288 with 1 Axes>",
      "image/png": "[encoded data removed]"
     },
     "metadata": {
      "needs_background": "light"
     },
     "output_type": "display_data"
    }
   ],
   "source": [
    "fig = merge_df[sorted([col for col in merge_df.columns if \"fraction\" in col], reverse=True)].sort_values(\"illumina_fraction\").plot.bar()\n",
    "fig.set_ylabel(\"Fraction of Reads\")\n",
    "fig.set_xlabel(\"Assigned Standard\")\n",
    "plt.tight_layout()\n",
    "plt.savefig(f\"./{npc.get_dt()}_ComparingStandardReads.png\", dpi=300)"
   ],
   "metadata": {
    "collapsed": false
   }
  },
  {
   "cell_type": "code",
   "execution_count": 22,
   "outputs": [],
   "source": [
    "mini_df = merge_df[sorted([col for col in merge_df.columns if \"fraction\" in col], reverse=True)]"
   ],
   "metadata": {
    "collapsed": false
   }
  },
  {
   "cell_type": "code",
   "execution_count": 23,
   "outputs": [
    {
     "name": "stderr",
     "output_type": "stream",
     "text": [
      "/tmp/ipykernel_2045401/3795728929.py:2: SettingWithCopyWarning: \n",
      "A value is trying to be set on a copy of a slice from a DataFrame.\n",
      "Try using .loc[row_indexer,col_indexer] = value instead\n",
      "\n",
      "See the caveats in the documentation: https://pandas.pydata.org/pandas-docs/stable/user_guide/indexing.html#returning-a-view-versus-a-copy\n",
      "  mini_df[col] = mini_df[col]\n",
      "/tmp/ipykernel_2045401/3795728929.py:3: SettingWithCopyWarning: \n",
      "A value is trying to be set on a copy of a slice from a DataFrame.\n",
      "Try using .loc[row_indexer,col_indexer] = value instead\n",
      "\n",
      "See the caveats in the documentation: https://pandas.pydata.org/pandas-docs/stable/user_guide/indexing.html#returning-a-view-versus-a-copy\n",
      "  mini_df[f'{col}/illumina_fraction'] = mini_df[col] / mini_df['illumina_fraction']\n",
      "/tmp/ipykernel_2045401/3795728929.py:4: SettingWithCopyWarning: \n",
      "A value is trying to be set on a copy of a slice from a DataFrame.\n",
      "Try using .loc[row_indexer,col_indexer] = value instead\n",
      "\n",
      "See the caveats in the documentation: https://pandas.pydata.org/pandas-docs/stable/user_guide/indexing.html#returning-a-view-versus-a-copy\n",
      "  mini_df[f'log2_{col}/illumina_fraction'] = np.log2(mini_df[f'{col}/illumina_fraction'])\n",
      "/tmp/ipykernel_2045401/3795728929.py:2: SettingWithCopyWarning: \n",
      "A value is trying to be set on a copy of a slice from a DataFrame.\n",
      "Try using .loc[row_indexer,col_indexer] = value instead\n",
      "\n",
      "See the caveats in the documentation: https://pandas.pydata.org/pandas-docs/stable/user_guide/indexing.html#returning-a-view-versus-a-copy\n",
      "  mini_df[col] = mini_df[col]\n",
      "/tmp/ipykernel_2045401/3795728929.py:3: SettingWithCopyWarning: \n",
      "A value is trying to be set on a copy of a slice from a DataFrame.\n",
      "Try using .loc[row_indexer,col_indexer] = value instead\n",
      "\n",
      "See the caveats in the documentation: https://pandas.pydata.org/pandas-docs/stable/user_guide/indexing.html#returning-a-view-versus-a-copy\n",
      "  mini_df[f'{col}/illumina_fraction'] = mini_df[col] / mini_df['illumina_fraction']\n",
      "/usr/local/lib/python3.8/dist-packages/pandas/core/arraylike.py:402: RuntimeWarning: divide by zero encountered in log2\n",
      "  result = getattr(ufunc, method)(*inputs, **kwargs)\n",
      "/usr/local/lib/python3.8/dist-packages/pandas/core/arraylike.py:402: RuntimeWarning: divide by zero encountered in log2\n",
      "  result = getattr(ufunc, method)(*inputs, **kwargs)\n"
     ]
    }
   ],
   "source": [
    "for col in mini_df.columns:\n",
    "    mini_df[col] = mini_df[col]\n",
    "    mini_df[f'{col}/illumina_fraction'] = mini_df[col] / mini_df['illumina_fraction']\n",
    "    mini_df[f'log2_{col}/illumina_fraction'] = np.log2(mini_df[f'{col}/illumina_fraction'])"
   ],
   "metadata": {
    "collapsed": false
   }
  },
  {
   "cell_type": "code",
   "execution_count": 24,
   "outputs": [
    {
     "data": {
      "text/plain": "      newerN2_fraction  nano3P_fraction  illumina_fraction  dRNA_fraction  \\\n00            0.003364         0.024780           0.120859       0.008347   \n05            0.057947         0.141404           0.163978       0.018435   \n10            0.274102         0.233957           0.184151       0.268633   \n15            0.314695         0.263692           0.196050       0.355674   \n30            0.002662         0.002159           0.000000       0.004818   \n60            0.326610         0.334007           0.246329       0.344093   \nfail          0.020620         0.000000           0.088634       0.000000   \n\n      newerN2_fraction/illumina_fraction  log2_newerN2_fraction/illumina_fraction  \\\n00                              0.027834                                -5.167023   \n05                              0.353385                                -1.500687   \n10                              1.488466                                 0.573826   \n15                              1.605176                                 0.682731   \n30                                   inf                                      inf   \n60                              1.325909                                 0.406982   \nfail                            0.232643                                -2.103813   \n\n      nano3P_fraction/illumina_fraction  log2_nano3P_fraction/illumina_fraction  \\\n00                             0.205035                               -2.286061   \n05                             0.862341                               -0.213670   \n10                             1.270463                                0.345355   \n15                             1.345026                                0.427634   \n30                                  inf                                     inf   \n60                             1.355937                                0.439290   \nfail                           0.000000                                    -inf   \n\n      illumina_fraction/illumina_fraction  log2_illumina_fraction/illumina_fraction  \\\n00                                    1.0                                       0.0   \n05                                    1.0                                       0.0   \n10                                    1.0                                       0.0   \n15                                    1.0                                       0.0   \n30                                    NaN                                       NaN   \n60                                    1.0                                       0.0   \nfail                                  1.0                                       0.0   \n\n      dRNA_fraction/illumina_fraction  log2_dRNA_fraction/illumina_fraction  \n00                           0.069062                             -3.855971  \n05                           0.112425                             -3.152966  \n10                           1.458766                              0.544749  \n15                           1.814202                              0.859335  \n30                                inf                                   inf  \n60                           1.396883                              0.482211  \nfail                         0.000000                                  -inf  ",
      "text/html": "<div>\n<style scoped>\n    .dataframe tbody tr th:only-of-type {\n        vertical-align: middle;\n    }\n\n    .dataframe tbody tr th {\n        vertical-align: top;\n    }\n\n    .dataframe thead th {\n        text-align: right;\n    }\n</style>\n<table border=\"1\" class=\"dataframe\">\n  <thead>\n    <tr style=\"text-align: right;\">\n      <th></th>\n      <th>newerN2_fraction</th>\n      <th>nano3P_fraction</th>\n      <th>illumina_fraction</th>\n      <th>dRNA_fraction</th>\n      <th>newerN2_fraction/illumina_fraction</th>\n      <th>log2_newerN2_fraction/illumina_fraction</th>\n      <th>nano3P_fraction/illumina_fraction</th>\n      <th>log2_nano3P_fraction/illumina_fraction</th>\n      <th>illumina_fraction/illumina_fraction</th>\n      <th>log2_illumina_fraction/illumina_fraction</th>\n      <th>dRNA_fraction/illumina_fraction</th>\n      <th>log2_dRNA_fraction/illumina_fraction</th>\n    </tr>\n  </thead>\n  <tbody>\n    <tr>\n      <th>00</th>\n      <td>0.003364</td>\n      <td>0.024780</td>\n      <td>0.120859</td>\n      <td>0.008347</td>\n      <td>0.027834</td>\n      <td>-5.167023</td>\n      <td>0.205035</td>\n      <td>-2.286061</td>\n      <td>1.0</td>\n      <td>0.0</td>\n      <td>0.069062</td>\n      <td>-3.855971</td>\n    </tr>\n    <tr>\n      <th>05</th>\n      <td>0.057947</td>\n      <td>0.141404</td>\n      <td>0.163978</td>\n      <td>0.018435</td>\n      <td>0.353385</td>\n      <td>-1.500687</td>\n      <td>0.862341</td>\n      <td>-0.213670</td>\n      <td>1.0</td>\n      <td>0.0</td>\n      <td>0.112425</td>\n      <td>-3.152966</td>\n    </tr>\n    <tr>\n      <th>10</th>\n      <td>0.274102</td>\n      <td>0.233957</td>\n      <td>0.184151</td>\n      <td>0.268633</td>\n      <td>1.488466</td>\n      <td>0.573826</td>\n      <td>1.270463</td>\n      <td>0.345355</td>\n      <td>1.0</td>\n      <td>0.0</td>\n      <td>1.458766</td>\n      <td>0.544749</td>\n    </tr>\n    <tr>\n      <th>15</th>\n      <td>0.314695</td>\n      <td>0.263692</td>\n      <td>0.196050</td>\n      <td>0.355674</td>\n      <td>1.605176</td>\n      <td>0.682731</td>\n      <td>1.345026</td>\n      <td>0.427634</td>\n      <td>1.0</td>\n      <td>0.0</td>\n      <td>1.814202</td>\n      <td>0.859335</td>\n    </tr>\n    <tr>\n      <th>30</th>\n      <td>0.002662</td>\n      <td>0.002159</td>\n      <td>0.000000</td>\n      <td>0.004818</td>\n      <td>inf</td>\n      <td>inf</td>\n      <td>inf</td>\n      <td>inf</td>\n      <td>NaN</td>\n      <td>NaN</td>\n      <td>inf</td>\n      <td>inf</td>\n    </tr>\n    <tr>\n      <th>60</th>\n      <td>0.326610</td>\n      <td>0.334007</td>\n      <td>0.246329</td>\n      <td>0.344093</td>\n      <td>1.325909</td>\n      <td>0.406982</td>\n      <td>1.355937</td>\n      <td>0.439290</td>\n      <td>1.0</td>\n      <td>0.0</td>\n      <td>1.396883</td>\n      <td>0.482211</td>\n    </tr>\n    <tr>\n      <th>fail</th>\n      <td>0.020620</td>\n      <td>0.000000</td>\n      <td>0.088634</td>\n      <td>0.000000</td>\n      <td>0.232643</td>\n      <td>-2.103813</td>\n      <td>0.000000</td>\n      <td>-inf</td>\n      <td>1.0</td>\n      <td>0.0</td>\n      <td>0.000000</td>\n      <td>-inf</td>\n    </tr>\n  </tbody>\n</table>\n</div>"
     },
     "execution_count": 24,
     "metadata": {},
     "output_type": "execute_result"
    }
   ],
   "source": [
    "mini_df"
   ],
   "metadata": {
    "collapsed": false
   }
  },
  {
   "cell_type": "code",
   "execution_count": 27,
   "outputs": [
    {
     "data": {
      "text/plain": "<Figure size 432x288 with 1 Axes>",
      "image/png": "[encoded data removed]"
     },
     "metadata": {
      "needs_background": "light"
     },
     "output_type": "display_data"
    }
   ],
   "source": [
    "mini_df = mini_df[mini_df.index != \"30\"]\n",
    "mini_df = mini_df[mini_df.index != \"fail\"]\n",
    "fig = mini_df[sorted([col for col in mini_df.columns if \"log2\" in col and col != \"log2_illumina_fraction/illumina_fraction\"], reverse=True)].plot.bar()\n",
    "fig.set_ylabel(\"log2(Fraction of Reads)\")\n",
    "fig.set_xlabel(\"Assigned Standard\")\n",
    "plt.tight_layout()\n",
    "plt.savefig(f\"./{npc.get_dt()}_ComparingStandardReads_log2FC.png\", dpi=300)\n",
    "plt.show()"
   ],
   "metadata": {
    "collapsed": false
   }
  },
  {
   "cell_type": "code",
   "execution_count": null,
   "outputs": [],
   "source": [],
   "metadata": {
    "collapsed": false
   }
  }
 ],
 "metadata": {
  "kernelspec": {
   "display_name": "Python 3",
   "language": "python",
   "name": "python3"
  },
  "language_info": {
   "codemirror_mode": {
    "name": "ipython",
    "version": 2
   },
   "file_extension": ".py",
   "mimetype": "text/x-python",
   "name": "python",
   "nbconvert_exporter": "python",
   "pygments_lexer": "ipython2",
   "version": "2.7.6"
  }
 },
 "nbformat": 4,
 "nbformat_minor": 0
}
