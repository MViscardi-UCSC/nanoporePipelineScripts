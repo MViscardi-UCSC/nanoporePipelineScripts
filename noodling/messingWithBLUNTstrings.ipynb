{
 "cells": [
  {
   "cell_type": "markdown",
   "source": [
    "# messingWithBLUNTstrings.ipynb\n",
    "## Marcus Viscardi,    August 03, 2023\n",
    "\n",
    "Joshua built a script to create long strings that indicate whether a nucleotide is overlapping with a UTR, CDS, start/stop, or intron/intergenic region.\n",
    "These strings are currently in a pretty long format (exactly as long as the read) and I want to see if I can condense them down to a more manageable size and push them into a SAM/BAM file for easy usage."
   ],
   "metadata": {
    "collapsed": false
   }
  },
  {
   "cell_type": "code",
   "execution_count": 2,
   "outputs": [
    {
     "name": "stdout",
     "output_type": "stream",
     "text": [
      "Imports done @ 08/09/23 @ 10:25:11 AM\n"
     ]
    }
   ],
   "source": [
    "from pathlib import Path\n",
    "import pandas as pd\n",
    "import nanoporePipelineCommon as npC\n",
    "from pprint import pprint\n",
    "import pysam\n",
    "\n",
    "print(f\"Imports done @ {npC.get_dt(for_print=True)}\")"
   ],
   "metadata": {
    "collapsed": false,
    "ExecuteTime": {
     "end_time": "2023-08-09T17:25:11.769588173Z",
     "start_time": "2023-08-09T17:25:11.621815874Z"
    }
   }
  },
  {
   "cell_type": "code",
   "execution_count": 3,
   "metadata": {
    "collapsed": true,
    "ExecuteTime": {
     "end_time": "2023-08-09T17:25:11.817340638Z",
     "start_time": "2023-08-09T17:25:11.769852441Z"
    }
   },
   "outputs": [
    {
     "name": "stdout",
     "output_type": "stream",
     "text": [
      "{'MockTAD.longjam': PosixPath('/data16/joshua/working/230803_psForLM/230724_nanoporeRun_sES-RNAStds_50-50_LT_MockTAD_Nano3P.AtoG.sorted.shorter.longjam'),\n",
      " 'MockTAD.sam': PosixPath('/data16/joshua/working/230803_psForLM/230724_nanoporeRun_sES-RNAStds_50-50_LT_MockTAD_Nano3P.AtoG.sorted.sam'),\n",
      " 'TAD.longjam': PosixPath('/data16/joshua/working/230803_psForLM/230724_nanoporeRun_sES-RNAStds_50-50_LT_TAD_Nano3P.AtoG.sorted.shorter.longjam'),\n",
      " 'TAD.sam': PosixPath('/data16/joshua/working/230803_psForLM/230724_nanoporeRun_sES-RNAStds_50-50_LT_TAD_Nano3P.AtoG.sorted.sam')}\n"
     ]
    }
   ],
   "source": [
    "path_to_working_dir = Path(\"/data16/joshua/working/230803_psForLM\")\n",
    "path_dict = {}\n",
    "for pathy in path_to_working_dir.iterdir():\n",
    "    if pathy.suffix in ['.sam', '.longjam'] and pathy.stem != 'temp':\n",
    "        treatment = pathy.stem.split(\"_\")[-2]\n",
    "        path_dict[f\"{treatment}{pathy.suffix}\"] = pathy\n",
    "pprint(path_dict)"
   ]
  },
  {
   "cell_type": "code",
   "execution_count": 4,
   "outputs": [
    {
     "name": "stderr",
     "output_type": "stream",
     "text": [
      "/tmp/ipykernel_3936946/2354929855.py:1: DtypeWarning: Columns (23) have mixed types. Specify dtype option on import or set low_memory=False.\n",
      "  df = pd.read_csv(path_dict['MockTAD.longjam'], header=None, sep='\\t', skiprows=14, names=list(range(24)))\n"
     ]
    },
    {
     "data": {
      "text/plain": "                                                       0    1    2           3     4   \\\n0                    151d3163-c360-46f3-a678-ed12855bfb0e  0.0    I     16516.0  56.0   \n1       CCCCCCCCCCCCCCCCCCCCCaCCCCCCCCCCCCCCCCCCCCCCCC...  NaN  NaN         NaN   NaN   \n2                    d7345efd-76da-4a04-a3e1-6422c6e5083d  0.0    I     16609.0  60.0   \n3       UUUUUUUUUUUUUUUUUUUUUUUUUUUUUUUUUUUUUUUUUUUUUU...  NaN  NaN         NaN   NaN   \n4                    149887a4-0e4d-44db-b95b-4dec334299ed  0.0    I     16629.0  41.0   \n...                                                   ...  ...  ...         ...   ...   \n498657  UUUUUUUUUUUUUUUUUUUUUUUUUUUUUUUUUUUUUUUUUUUUUU...  NaN  NaN         NaN   NaN   \n498658               62d7c56d-d4f8-4a97-8367-a3ecb673f505  0.0    X  17680679.0  60.0   \n498659  UUUUUUUUUUUUUUUUUUUUUUUUUUUUUUUUUUUUUUUUUUUUUU...  NaN  NaN         NaN   NaN   \n498660               5833caab-0885-4307-99a1-bb803538d9ac  0.0    X  17718433.0  60.0   \n498661  CCCCCCCCCCCCCCCCCCCCCCCCCCCCCCCCCCCCCCCCCCCCCC...  NaN  NaN         NaN   NaN   \n\n                                                       5    6    7    8   \\\n0       2S21M1I13M4D5M5D3M4D19M2D14M1I17M5D24M1D10M1D5...    *  0.0  0.0   \n1                                                     NaN  NaN  NaN  NaN   \n2       2S69M3D14M3D7M1D12M3D56M1I8M1D57M4D40M1I4M1D3M...    *  0.0  0.0   \n3                                                     NaN  NaN  NaN  NaN   \n4       4S16M1I6M5D7M1D13M4D19M1D16M1I3M5D15M3I44M2D45...    *  0.0  0.0   \n...                                                   ...  ...  ...  ...   \n498657                                                NaN  NaN  NaN  NaN   \n498658                                5S88M1I27M6D25M115S    *  0.0  0.0   \n498659                                                NaN  NaN  NaN  NaN   \n498660                                    107S71M1D49M63S    *  0.0  0.0   \n498661                                                NaN  NaN  NaN  NaN   \n\n                                                       9    10       11        12        13  \\\n0       ATCGGAGAACGCCTCGGAGTCGGCCCCGGAGGGGGTTCGTATTGCA...    *  NM:i:51  ms:i:256  AS:i:256   \n1                                                     NaN  NaN      NaN       NaN       NaN   \n2       TCAAATTGTCCATCTGACAACTGGGATTTCGGTTCTTCTTGGCTTC...    *  NM:i:64  ms:i:354  AS:i:354   \n3                                                     NaN  NaN      NaN       NaN       NaN   \n4       ATTCAAAATTTCGGTTCTTCTTTGGCTTATTTGTGGGTGGTTTATT...    *  NM:i:62  ms:i:334  AS:i:334   \n...                                                   ...  ...      ...       ...       ...   \n498657                                                NaN  NaN      NaN       NaN       NaN   \n498658  GGAATTGCCCCTGTGTTGGTTTTCATCTTGTGGGTTTTGTCGTTTT...    *  NM:i:11  ms:i:234  AS:i:234   \n498659                                                NaN  NaN      NaN       NaN       NaN   \n498660  TACACCCTCCCCGCAATCACTGCCACTCTGACCTTGCCGCCTACAA...    *   NM:i:2  ms:i:228  AS:i:228   \n498661                                                NaN  NaN      NaN       NaN       NaN   \n\n            14      15       16        17      18           19  \\\n0       nn:i:0  tp:A:P  cm:i:10   s1:i:76  s2:i:0  de:f:0.0882   \n1          NaN     NaN      NaN       NaN     NaN          NaN   \n2       nn:i:0  tp:A:P  cm:i:25  s1:i:158  s2:i:0  de:f:0.1347   \n3          NaN     NaN      NaN       NaN     NaN          NaN   \n4       nn:i:0  tp:A:P  cm:i:14  s1:i:101  s2:i:0  de:f:0.1073   \n...        ...     ...      ...       ...     ...          ...   \n498657     NaN     NaN      NaN       NaN     NaN          NaN   \n498658  nn:i:0  tp:A:P  cm:i:14  s1:i:102  s2:i:0  de:f:0.0423   \n498659     NaN     NaN      NaN       NaN     NaN          NaN   \n498660  nn:i:0  tp:A:P  cm:i:15   s1:i:99  s2:i:0  de:f:0.0165   \n498661     NaN     NaN      NaN       NaN     NaN          NaN   \n\n                                                       20              21      22   23  \n0       MD:Z:34^TTGG2G2^CTTCG3^TCGT19^TC31^GCGGC2G21^C...          rl:i:0     NaN  NaN  \n1                                                     NaN             NaN     NaN  NaN  \n2       MD:Z:59G1T7^CCC2G2C0T0C6^GGT0T0T3T1^T0T11^CCT1...        rl:i:128     NaN  NaN  \n3                                                     NaN             NaN     NaN  NaN  \n4       MD:Z:22^TCTTC7^G13^TCCC19^G19^TTTTT59^GT59^TTT...        rl:i:146     NaN  NaN  \n...                                                   ...             ...     ...  ...  \n498657                                                NaN             NaN     NaN  NaN  \n498658                          MD:Z:92C22^TCGTTT5C1T6C10         rl:i:76     NaN  NaN  \n498659                                                NaN             NaN     NaN  NaN  \n498660              SA:Z:X,17717329,+,1S108M7D181S,34,11;  MD:Z:11C59^C49  rl:i:0  NaN  \n498661                                                NaN             NaN     NaN  NaN  \n\n[498662 rows x 24 columns]",
      "text/html": "<div>\n<style scoped>\n    .dataframe tbody tr th:only-of-type {\n        vertical-align: middle;\n    }\n\n    .dataframe tbody tr th {\n        vertical-align: top;\n    }\n\n    .dataframe thead th {\n        text-align: right;\n    }\n</style>\n<table border=\"1\" class=\"dataframe\">\n  <thead>\n    <tr style=\"text-align: right;\">\n      <th></th>\n      <th>0</th>\n      <th>1</th>\n      <th>2</th>\n      <th>3</th>\n      <th>4</th>\n      <th>5</th>\n      <th>6</th>\n      <th>7</th>\n      <th>8</th>\n      <th>9</th>\n      <th>10</th>\n      <th>11</th>\n      <th>12</th>\n      <th>13</th>\n      <th>14</th>\n      <th>15</th>\n      <th>16</th>\n      <th>17</th>\n      <th>18</th>\n      <th>19</th>\n      <th>20</th>\n      <th>21</th>\n      <th>22</th>\n      <th>23</th>\n    </tr>\n  </thead>\n  <tbody>\n    <tr>\n      <th>0</th>\n      <td>151d3163-c360-46f3-a678-ed12855bfb0e</td>\n      <td>0.0</td>\n      <td>I</td>\n      <td>16516.0</td>\n      <td>56.0</td>\n      <td>2S21M1I13M4D5M5D3M4D19M2D14M1I17M5D24M1D10M1D5...</td>\n      <td>*</td>\n      <td>0.0</td>\n      <td>0.0</td>\n      <td>ATCGGAGAACGCCTCGGAGTCGGCCCCGGAGGGGGTTCGTATTGCA...</td>\n      <td>*</td>\n      <td>NM:i:51</td>\n      <td>ms:i:256</td>\n      <td>AS:i:256</td>\n      <td>nn:i:0</td>\n      <td>tp:A:P</td>\n      <td>cm:i:10</td>\n      <td>s1:i:76</td>\n      <td>s2:i:0</td>\n      <td>de:f:0.0882</td>\n      <td>MD:Z:34^TTGG2G2^CTTCG3^TCGT19^TC31^GCGGC2G21^C...</td>\n      <td>rl:i:0</td>\n      <td>NaN</td>\n      <td>NaN</td>\n    </tr>\n    <tr>\n      <th>1</th>\n      <td>CCCCCCCCCCCCCCCCCCCCCaCCCCCCCCCCCCCCCCCCCCCCCC...</td>\n      <td>NaN</td>\n      <td>NaN</td>\n      <td>NaN</td>\n      <td>NaN</td>\n      <td>NaN</td>\n      <td>NaN</td>\n      <td>NaN</td>\n      <td>NaN</td>\n      <td>NaN</td>\n      <td>NaN</td>\n      <td>NaN</td>\n      <td>NaN</td>\n      <td>NaN</td>\n      <td>NaN</td>\n      <td>NaN</td>\n      <td>NaN</td>\n      <td>NaN</td>\n      <td>NaN</td>\n      <td>NaN</td>\n      <td>NaN</td>\n      <td>NaN</td>\n      <td>NaN</td>\n      <td>NaN</td>\n    </tr>\n    <tr>\n      <th>2</th>\n      <td>d7345efd-76da-4a04-a3e1-6422c6e5083d</td>\n      <td>0.0</td>\n      <td>I</td>\n      <td>16609.0</td>\n      <td>60.0</td>\n      <td>2S69M3D14M3D7M1D12M3D56M1I8M1D57M4D40M1I4M1D3M...</td>\n      <td>*</td>\n      <td>0.0</td>\n      <td>0.0</td>\n      <td>TCAAATTGTCCATCTGACAACTGGGATTTCGGTTCTTCTTGGCTTC...</td>\n      <td>*</td>\n      <td>NM:i:64</td>\n      <td>ms:i:354</td>\n      <td>AS:i:354</td>\n      <td>nn:i:0</td>\n      <td>tp:A:P</td>\n      <td>cm:i:25</td>\n      <td>s1:i:158</td>\n      <td>s2:i:0</td>\n      <td>de:f:0.1347</td>\n      <td>MD:Z:59G1T7^CCC2G2C0T0C6^GGT0T0T3T1^T0T11^CCT1...</td>\n      <td>rl:i:128</td>\n      <td>NaN</td>\n      <td>NaN</td>\n    </tr>\n    <tr>\n      <th>3</th>\n      <td>UUUUUUUUUUUUUUUUUUUUUUUUUUUUUUUUUUUUUUUUUUUUUU...</td>\n      <td>NaN</td>\n      <td>NaN</td>\n      <td>NaN</td>\n      <td>NaN</td>\n      <td>NaN</td>\n      <td>NaN</td>\n      <td>NaN</td>\n      <td>NaN</td>\n      <td>NaN</td>\n      <td>NaN</td>\n      <td>NaN</td>\n      <td>NaN</td>\n      <td>NaN</td>\n      <td>NaN</td>\n      <td>NaN</td>\n      <td>NaN</td>\n      <td>NaN</td>\n      <td>NaN</td>\n      <td>NaN</td>\n      <td>NaN</td>\n      <td>NaN</td>\n      <td>NaN</td>\n      <td>NaN</td>\n    </tr>\n    <tr>\n      <th>4</th>\n      <td>149887a4-0e4d-44db-b95b-4dec334299ed</td>\n      <td>0.0</td>\n      <td>I</td>\n      <td>16629.0</td>\n      <td>41.0</td>\n      <td>4S16M1I6M5D7M1D13M4D19M1D16M1I3M5D15M3I44M2D45...</td>\n      <td>*</td>\n      <td>0.0</td>\n      <td>0.0</td>\n      <td>ATTCAAAATTTCGGTTCTTCTTTGGCTTATTTGTGGGTGGTTTATT...</td>\n      <td>*</td>\n      <td>NM:i:62</td>\n      <td>ms:i:334</td>\n      <td>AS:i:334</td>\n      <td>nn:i:0</td>\n      <td>tp:A:P</td>\n      <td>cm:i:14</td>\n      <td>s1:i:101</td>\n      <td>s2:i:0</td>\n      <td>de:f:0.1073</td>\n      <td>MD:Z:22^TCTTC7^G13^TCCC19^G19^TTTTT59^GT59^TTT...</td>\n      <td>rl:i:146</td>\n      <td>NaN</td>\n      <td>NaN</td>\n    </tr>\n    <tr>\n      <th>...</th>\n      <td>...</td>\n      <td>...</td>\n      <td>...</td>\n      <td>...</td>\n      <td>...</td>\n      <td>...</td>\n      <td>...</td>\n      <td>...</td>\n      <td>...</td>\n      <td>...</td>\n      <td>...</td>\n      <td>...</td>\n      <td>...</td>\n      <td>...</td>\n      <td>...</td>\n      <td>...</td>\n      <td>...</td>\n      <td>...</td>\n      <td>...</td>\n      <td>...</td>\n      <td>...</td>\n      <td>...</td>\n      <td>...</td>\n      <td>...</td>\n    </tr>\n    <tr>\n      <th>498657</th>\n      <td>UUUUUUUUUUUUUUUUUUUUUUUUUUUUUUUUUUUUUUUUUUUUUU...</td>\n      <td>NaN</td>\n      <td>NaN</td>\n      <td>NaN</td>\n      <td>NaN</td>\n      <td>NaN</td>\n      <td>NaN</td>\n      <td>NaN</td>\n      <td>NaN</td>\n      <td>NaN</td>\n      <td>NaN</td>\n      <td>NaN</td>\n      <td>NaN</td>\n      <td>NaN</td>\n      <td>NaN</td>\n      <td>NaN</td>\n      <td>NaN</td>\n      <td>NaN</td>\n      <td>NaN</td>\n      <td>NaN</td>\n      <td>NaN</td>\n      <td>NaN</td>\n      <td>NaN</td>\n      <td>NaN</td>\n    </tr>\n    <tr>\n      <th>498658</th>\n      <td>62d7c56d-d4f8-4a97-8367-a3ecb673f505</td>\n      <td>0.0</td>\n      <td>X</td>\n      <td>17680679.0</td>\n      <td>60.0</td>\n      <td>5S88M1I27M6D25M115S</td>\n      <td>*</td>\n      <td>0.0</td>\n      <td>0.0</td>\n      <td>GGAATTGCCCCTGTGTTGGTTTTCATCTTGTGGGTTTTGTCGTTTT...</td>\n      <td>*</td>\n      <td>NM:i:11</td>\n      <td>ms:i:234</td>\n      <td>AS:i:234</td>\n      <td>nn:i:0</td>\n      <td>tp:A:P</td>\n      <td>cm:i:14</td>\n      <td>s1:i:102</td>\n      <td>s2:i:0</td>\n      <td>de:f:0.0423</td>\n      <td>MD:Z:92C22^TCGTTT5C1T6C10</td>\n      <td>rl:i:76</td>\n      <td>NaN</td>\n      <td>NaN</td>\n    </tr>\n    <tr>\n      <th>498659</th>\n      <td>UUUUUUUUUUUUUUUUUUUUUUUUUUUUUUUUUUUUUUUUUUUUUU...</td>\n      <td>NaN</td>\n      <td>NaN</td>\n      <td>NaN</td>\n      <td>NaN</td>\n      <td>NaN</td>\n      <td>NaN</td>\n      <td>NaN</td>\n      <td>NaN</td>\n      <td>NaN</td>\n      <td>NaN</td>\n      <td>NaN</td>\n      <td>NaN</td>\n      <td>NaN</td>\n      <td>NaN</td>\n      <td>NaN</td>\n      <td>NaN</td>\n      <td>NaN</td>\n      <td>NaN</td>\n      <td>NaN</td>\n      <td>NaN</td>\n      <td>NaN</td>\n      <td>NaN</td>\n      <td>NaN</td>\n    </tr>\n    <tr>\n      <th>498660</th>\n      <td>5833caab-0885-4307-99a1-bb803538d9ac</td>\n      <td>0.0</td>\n      <td>X</td>\n      <td>17718433.0</td>\n      <td>60.0</td>\n      <td>107S71M1D49M63S</td>\n      <td>*</td>\n      <td>0.0</td>\n      <td>0.0</td>\n      <td>TACACCCTCCCCGCAATCACTGCCACTCTGACCTTGCCGCCTACAA...</td>\n      <td>*</td>\n      <td>NM:i:2</td>\n      <td>ms:i:228</td>\n      <td>AS:i:228</td>\n      <td>nn:i:0</td>\n      <td>tp:A:P</td>\n      <td>cm:i:15</td>\n      <td>s1:i:99</td>\n      <td>s2:i:0</td>\n      <td>de:f:0.0165</td>\n      <td>SA:Z:X,17717329,+,1S108M7D181S,34,11;</td>\n      <td>MD:Z:11C59^C49</td>\n      <td>rl:i:0</td>\n      <td>NaN</td>\n    </tr>\n    <tr>\n      <th>498661</th>\n      <td>CCCCCCCCCCCCCCCCCCCCCCCCCCCCCCCCCCCCCCCCCCCCCC...</td>\n      <td>NaN</td>\n      <td>NaN</td>\n      <td>NaN</td>\n      <td>NaN</td>\n      <td>NaN</td>\n      <td>NaN</td>\n      <td>NaN</td>\n      <td>NaN</td>\n      <td>NaN</td>\n      <td>NaN</td>\n      <td>NaN</td>\n      <td>NaN</td>\n      <td>NaN</td>\n      <td>NaN</td>\n      <td>NaN</td>\n      <td>NaN</td>\n      <td>NaN</td>\n      <td>NaN</td>\n      <td>NaN</td>\n      <td>NaN</td>\n      <td>NaN</td>\n      <td>NaN</td>\n      <td>NaN</td>\n    </tr>\n  </tbody>\n</table>\n<p>498662 rows × 24 columns</p>\n</div>"
     },
     "execution_count": 4,
     "metadata": {},
     "output_type": "execute_result"
    }
   ],
   "source": [
    "df = pd.read_csv(path_dict['MockTAD.longjam'], header=None, sep='\\t', skiprows=14, names=list(range(24)))\n",
    "df"
   ],
   "metadata": {
    "collapsed": false,
    "ExecuteTime": {
     "end_time": "2023-08-09T17:25:20.975727669Z",
     "start_time": "2023-08-09T17:25:11.817573416Z"
    }
   }
  },
  {
   "cell_type": "code",
   "execution_count": 22,
   "outputs": [
    {
     "name": "stdout",
     "output_type": "stream",
     "text": [
      "0\n"
     ]
    },
    {
     "data": {
      "text/plain": "'21C1a33C1T20U1a146U'"
     },
     "execution_count": 22,
     "metadata": {},
     "output_type": "execute_result"
    }
   ],
   "source": [
    "def compress_blunt(blunt_string: str) -> str:\n",
    "    compressed = \"\"\n",
    "    count = 1\n",
    "\n",
    "    for i in range(1, len(blunt_string)):\n",
    "        if blunt_string[i] == blunt_string[i - 1]:\n",
    "            count += 1\n",
    "        else:\n",
    "            compressed += str(count) + blunt_string[i - 1]\n",
    "            count = 1\n",
    "\n",
    "    # Add the last character and its count\n",
    "    compressed += str(count) + blunt_string[-1]\n",
    "\n",
    "    return compressed\n",
    "\n",
    "blunt_series = df.loc[1::2, 0].apply(lambda x: compress_blunt(x)).rename('blunt_string')\n",
    "read_name_series = df.loc[::2, 0].reset_index(drop=True).rename('read_name')\n",
    "blunt_series.reset_index(drop=True, inplace=True)\n",
    "read_blunt_df = pd.concat([read_name_series, blunt_series], axis=1)\n",
    "read_blunt_df = read_blunt_df.set_index('read_name')\n",
    "read_blunt_df.loc['151d3163-c360-46f3-a678-ed12855bfb0e', 'blunt_string']"
   ],
   "metadata": {
    "collapsed": false,
    "ExecuteTime": {
     "end_time": "2023-08-09T19:07:29.199205244Z",
     "start_time": "2023-08-09T19:07:24.797832801Z"
    }
   }
  },
  {
   "cell_type": "code",
   "execution_count": 23,
   "outputs": [],
   "source": [
    "# Now I want to loop through the original sam file and add the compressed blunt string as a tag to each read and write to a new sam\n",
    "sam = pysam.AlignmentFile(path_dict['MockTAD.sam'], \"rb\")\n",
    "# new_sam_path = path_dict['MockTAD.sam'].parent / f\"{path_dict['MockTAD.sam'].stem}_re-compressed.sam\"\n",
    "new_sam_path = Path(\"/tmp\") / f\"{path_dict['MockTAD.sam'].stem}_re-compressed.sam\"\n",
    "new_sam = pysam.AlignmentFile(new_sam_path, \"w\", template=sam)\n",
    "for read in sam:\n",
    "    try:\n",
    "        read.set_tag(\"bL\", read_blunt_df.loc[read.query_name, 'blunt_string'])\n",
    "    except KeyError:\n",
    "        read.set_tag(\"bL\", \"NA\")\n",
    "    new_sam.write(read)"
   ],
   "metadata": {
    "collapsed": false,
    "ExecuteTime": {
     "end_time": "2023-08-09T19:08:14.017194729Z",
     "start_time": "2023-08-09T19:08:07.642798926Z"
    }
   }
  },
  {
   "cell_type": "code",
   "execution_count": 18,
   "outputs": [],
   "source": [],
   "metadata": {
    "collapsed": false,
    "ExecuteTime": {
     "end_time": "2023-08-09T17:31:25.126493362Z",
     "start_time": "2023-08-09T17:31:24.985564335Z"
    }
   }
  },
  {
   "cell_type": "code",
   "execution_count": null,
   "outputs": [],
   "source": [],
   "metadata": {
    "collapsed": false
   }
  }
 ],
 "metadata": {
  "kernelspec": {
   "display_name": "Python 3",
   "language": "python",
   "name": "python3"
  },
  "language_info": {
   "codemirror_mode": {
    "name": "ipython",
    "version": 2
   },
   "file_extension": ".py",
   "mimetype": "text/x-python",
   "name": "python",
   "nbconvert_exporter": "python",
   "pygments_lexer": "ipython2",
   "version": "2.7.6"
  }
 },
 "nbformat": 4,
 "nbformat_minor": 0
}
