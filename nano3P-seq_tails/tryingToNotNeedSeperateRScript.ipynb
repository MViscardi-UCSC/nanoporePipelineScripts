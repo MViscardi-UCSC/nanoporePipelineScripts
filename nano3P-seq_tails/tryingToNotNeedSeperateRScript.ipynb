{
 "cells": [
  {
   "cell_type": "markdown",
   "source": [
    "# tryingToNotNeedSeperateRScript.ipynb\n",
    "## Marcus Viscardi,    April 24, 2023\n",
    "\n",
    "General goal here is to use rpy2 library to run R code from within a python script.  This is a test to see if I can do that.\n",
    "\n",
    "More importantly this is a test to see if I can get away with just having the R script be a string in the python script.  I want to be able to run the R script from within the python script without having to save the R script to a file and then run it from the command line!"
   ],
   "metadata": {
    "collapsed": false
   }
  },
  {
   "cell_type": "code",
   "execution_count": 2,
   "outputs": [
    {
     "name": "stdout",
     "output_type": "stream",
     "text": [
      "imports done at 05/01/23 @ 11:45:08 AM\n",
      "Working in /data16/marcus/scripts/nanoporePipelineScripts/nano3P-seq_tails\n"
     ]
    }
   ],
   "source": [
    "import rpy2.robjects as ro\n",
    "from rpy2.robjects import pandas2ri\n",
    "import pandas as pd\n",
    "from pathlib import Path\n",
    "\n",
    "from nanoporePipelineCommon import get_dt\n",
    "\n",
    "\n",
    "print(f\"imports done at {get_dt(for_print=True)}\\nWorking in {Path.cwd()}\")\n",
    "working_dir = Path.cwd()"
   ],
   "metadata": {
    "collapsed": false
   }
  },
  {
   "cell_type": "code",
   "execution_count": 5,
   "metadata": {
    "collapsed": true
   },
   "outputs": [
    {
     "name": "stdout",
     "output_type": "stream",
     "text": [
      "────────────────────────────────────────────────────────────────────────────────\n",
      "── Started tailfindr (version 1.3) ─────────────────────────────────────────────\n",
      "────────────────────────────────────────────────────────────────────────────────\n",
      "☰ You have configured tailfindr as following:\n",
      "❯ fast5_dir:         /data16/marcus/working/230417_nanoporeRun_totalRNAandStds_sMV025_Nano3P_again/output_dir/fastqs/workspace\n",
      "❯ save_dir:          /data16/marcus/scripts/nanoporePipelineScripts/nano3P-seq_tails\n",
      "❯ csv_filename:      tails.csv\n",
      "❯ num_cores:         30\n",
      "❯ basecall_group:    Basecall_1D_000\n",
      "❯ save_plots:        FALSE\n",
      "❯ plot_debug_traces: FALSE\n",
      "❯ plotting_library:  rbokeh\n",
      "── Processing started at 2023-05-01 11:45:52 ───────────────────────────────────\n",
      "• Searching for all Fast5 files...\n",
      "  Done! Found 1 Fast5 files.\n",
      "• Analyzing a single Fast5 file to assess if your data \n",
      "  is in an acceptable format...\n",
      "  ✔ The data has been basecalled using Guppy.\n",
      "  ✔ Standard model was used during basecalling.\n",
      "  ✔ The reads are packed in multi-fast5 file(s).\n",
      "  ✔ The experiment type is DNA (Nano3P-seq), so we \n",
      "    search for reads with and without poly(T) tails.\n",
      "  ✔ The reads are 1D reads.\n",
      "• Starting a parallel compute cluster...\n",
      "  Done!\n",
      "• Discovering reads in the 1 multifast5 files...\n",
      "  Done! Found 168 reads\n",
      "• Searching for reads with and without Poly(T) tails...\n",
      "  Processing chunk 1 of 1\n",
      "  |======================================================================| 100%\n",
      "• Formatting the tail data...\n",
      "  Done!\n",
      "• Saving the data in the CSV file...\n",
      "  Done! Below is the path of the CSV file:\n",
      "  /data16/marcus/scripts/nanoporePipelineScripts/nano3P-seq_tails/tails.csv\n",
      "• A logfile containing all this information has been saved in this path: \n",
      "  /data16/marcus/scripts/nanoporePipelineScripts/nano3P-seq_tails/2023-05-01_11-45-52_tailfinder.log\n",
      "── Processing ended at 2023-05-01 11:46:12 ─────────────────────────────────────\n",
      "✔ tailfindr finished successfully!\n"
     ]
    }
   ],
   "source": [
    "threads = 30\n",
    "output_dir_path = '/data16/marcus/working/230417_nanoporeRun_totalRNAandStds_sMV025_Nano3P_again/output_dir'\n",
    "fast5_path = f'{output_dir_path}/fastqs/workspace'\n",
    "\n",
    "# From ChatGPT:\n",
    "# Load R libraries and set parameters\n",
    "ro.r('library(tailfindr)')\n",
    "ro.r('library(arrow)')\n",
    "ro.r('Sys.setenv(HDF5_PLUGIN_PATH = \"/usr/local/hdf5/lib/plugin\")')\n",
    "\n",
    "# Call find_tails function and convert output to Pandas dataframe\n",
    "r_df = ro.r(f'find_tails(fast5_dir = \"{fast5_path}\", num_cores = {threads}, save_dir = \"{working_dir}\")')"
   ]
  },
  {
   "cell_type": "code",
   "execution_count": 4,
   "outputs": [
    {
     "ename": "TypeError",
     "evalue": "Indices must be integers or slices, not <class 'str'>",
     "output_type": "error",
     "traceback": [
      "\u001B[0;31m---------------------------------------------------------------------------\u001B[0m",
      "\u001B[0;31mTypeError\u001B[0m                                 Traceback (most recent call last)",
      "\u001B[0;32m/tmp/ipykernel_2781508/819433388.py\u001B[0m in \u001B[0;36m<module>\u001B[0;34m\u001B[0m\n\u001B[1;32m      1\u001B[0m \u001B[0mcolnames\u001B[0m \u001B[0;34m=\u001B[0m \u001B[0mlist\u001B[0m\u001B[0;34m(\u001B[0m\u001B[0mr_df\u001B[0m\u001B[0;34m.\u001B[0m\u001B[0mnames\u001B[0m\u001B[0;34m)\u001B[0m\u001B[0;34m\u001B[0m\u001B[0;34m\u001B[0m\u001B[0m\n\u001B[0;32m----> 2\u001B[0;31m \u001B[0mdata\u001B[0m \u001B[0;34m=\u001B[0m \u001B[0;34m[\u001B[0m\u001B[0mlist\u001B[0m\u001B[0;34m(\u001B[0m\u001B[0mr_df\u001B[0m\u001B[0;34m[\u001B[0m\u001B[0mcol\u001B[0m\u001B[0;34m]\u001B[0m\u001B[0;34m)\u001B[0m \u001B[0;32mfor\u001B[0m \u001B[0mcol\u001B[0m \u001B[0;32min\u001B[0m \u001B[0mcolnames\u001B[0m\u001B[0;34m]\u001B[0m\u001B[0;34m\u001B[0m\u001B[0;34m\u001B[0m\u001B[0m\n\u001B[0m\u001B[1;32m      3\u001B[0m \u001B[0mpandas_df\u001B[0m \u001B[0;34m=\u001B[0m \u001B[0mpd\u001B[0m\u001B[0;34m.\u001B[0m\u001B[0mDataFrame\u001B[0m\u001B[0;34m(\u001B[0m\u001B[0mdict\u001B[0m\u001B[0;34m(\u001B[0m\u001B[0mzip\u001B[0m\u001B[0;34m(\u001B[0m\u001B[0mcolnames\u001B[0m\u001B[0;34m,\u001B[0m \u001B[0mdata\u001B[0m\u001B[0;34m)\u001B[0m\u001B[0;34m)\u001B[0m\u001B[0;34m)\u001B[0m\u001B[0;34m\u001B[0m\u001B[0;34m\u001B[0m\u001B[0m\n",
      "\u001B[0;32m/tmp/ipykernel_2781508/819433388.py\u001B[0m in \u001B[0;36m<listcomp>\u001B[0;34m(.0)\u001B[0m\n\u001B[1;32m      1\u001B[0m \u001B[0mcolnames\u001B[0m \u001B[0;34m=\u001B[0m \u001B[0mlist\u001B[0m\u001B[0;34m(\u001B[0m\u001B[0mr_df\u001B[0m\u001B[0;34m.\u001B[0m\u001B[0mnames\u001B[0m\u001B[0;34m)\u001B[0m\u001B[0;34m\u001B[0m\u001B[0;34m\u001B[0m\u001B[0m\n\u001B[0;32m----> 2\u001B[0;31m \u001B[0mdata\u001B[0m \u001B[0;34m=\u001B[0m \u001B[0;34m[\u001B[0m\u001B[0mlist\u001B[0m\u001B[0;34m(\u001B[0m\u001B[0mr_df\u001B[0m\u001B[0;34m[\u001B[0m\u001B[0mcol\u001B[0m\u001B[0;34m]\u001B[0m\u001B[0;34m)\u001B[0m \u001B[0;32mfor\u001B[0m \u001B[0mcol\u001B[0m \u001B[0;32min\u001B[0m \u001B[0mcolnames\u001B[0m\u001B[0;34m]\u001B[0m\u001B[0;34m\u001B[0m\u001B[0;34m\u001B[0m\u001B[0m\n\u001B[0m\u001B[1;32m      3\u001B[0m \u001B[0mpandas_df\u001B[0m \u001B[0;34m=\u001B[0m \u001B[0mpd\u001B[0m\u001B[0;34m.\u001B[0m\u001B[0mDataFrame\u001B[0m\u001B[0;34m(\u001B[0m\u001B[0mdict\u001B[0m\u001B[0;34m(\u001B[0m\u001B[0mzip\u001B[0m\u001B[0;34m(\u001B[0m\u001B[0mcolnames\u001B[0m\u001B[0;34m,\u001B[0m \u001B[0mdata\u001B[0m\u001B[0;34m)\u001B[0m\u001B[0;34m)\u001B[0m\u001B[0;34m)\u001B[0m\u001B[0;34m\u001B[0m\u001B[0;34m\u001B[0m\u001B[0m\n",
      "\u001B[0;32m/usr/local/lib/python3.8/dist-packages/rpy2/robjects/vectors.py\u001B[0m in \u001B[0;36m__getitem__\u001B[0;34m(self, i)\u001B[0m\n\u001B[1;32m   1396\u001B[0m         \u001B[0;31m# R's data.frames have no representation at the C-API level\u001B[0m\u001B[0;34m\u001B[0m\u001B[0;34m\u001B[0m\u001B[0;34m\u001B[0m\u001B[0m\n\u001B[1;32m   1397\u001B[0m         \u001B[0;31m# (they are lists)\u001B[0m\u001B[0;34m\u001B[0m\u001B[0;34m\u001B[0m\u001B[0;34m\u001B[0m\u001B[0m\n\u001B[0;32m-> 1398\u001B[0;31m         \u001B[0mtmp\u001B[0m \u001B[0;34m=\u001B[0m \u001B[0mrinterface\u001B[0m\u001B[0;34m.\u001B[0m\u001B[0mListSexpVector\u001B[0m\u001B[0;34m.\u001B[0m\u001B[0m__getitem__\u001B[0m\u001B[0;34m(\u001B[0m\u001B[0mself\u001B[0m\u001B[0;34m,\u001B[0m \u001B[0mi\u001B[0m\u001B[0;34m)\u001B[0m\u001B[0;34m\u001B[0m\u001B[0;34m\u001B[0m\u001B[0m\n\u001B[0m\u001B[1;32m   1399\u001B[0m \u001B[0;34m\u001B[0m\u001B[0m\n\u001B[1;32m   1400\u001B[0m         \u001B[0;32mif\u001B[0m \u001B[0mtmp\u001B[0m\u001B[0;34m.\u001B[0m\u001B[0mtypeof\u001B[0m \u001B[0;34m==\u001B[0m \u001B[0mrinterface\u001B[0m\u001B[0;34m.\u001B[0m\u001B[0mRTYPES\u001B[0m\u001B[0;34m.\u001B[0m\u001B[0mVECSXP\u001B[0m\u001B[0;34m:\u001B[0m\u001B[0;34m\u001B[0m\u001B[0;34m\u001B[0m\u001B[0m\n",
      "\u001B[0;32m/usr/local/lib/python3.8/dist-packages/rpy2/rinterface_lib/sexp.py\u001B[0m in \u001B[0;36m__getitem__\u001B[0;34m(self, i)\u001B[0m\n\u001B[1;32m    646\u001B[0m             )\n\u001B[1;32m    647\u001B[0m         \u001B[0;32melse\u001B[0m\u001B[0;34m:\u001B[0m\u001B[0;34m\u001B[0m\u001B[0;34m\u001B[0m\u001B[0m\n\u001B[0;32m--> 648\u001B[0;31m             raise TypeError(\n\u001B[0m\u001B[1;32m    649\u001B[0m                 'Indices must be integers or slices, not %s' % type(i))\n\u001B[1;32m    650\u001B[0m         \u001B[0;32mreturn\u001B[0m \u001B[0mres\u001B[0m\u001B[0;34m\u001B[0m\u001B[0;34m\u001B[0m\u001B[0m\n",
      "\u001B[0;31mTypeError\u001B[0m: Indices must be integers or slices, not <class 'str'>"
     ]
    }
   ],
   "source": [
    "colnames = list(r_df.names)\n",
    "data = [list(r_df[col]) for col in colnames]\n",
    "pandas_df = pd.DataFrame(dict(zip(colnames, data)))"
   ],
   "metadata": {
    "collapsed": false
   }
  },
  {
   "cell_type": "code",
   "execution_count": null,
   "outputs": [],
   "source": [],
   "metadata": {
    "collapsed": false
   }
  }
 ],
 "metadata": {
  "kernelspec": {
   "display_name": "Python 3",
   "language": "python",
   "name": "python3"
  },
  "language_info": {
   "codemirror_mode": {
    "name": "ipython",
    "version": 2
   },
   "file_extension": ".py",
   "mimetype": "text/x-python",
   "name": "python",
   "nbconvert_exporter": "python",
   "pygments_lexer": "ipython2",
   "version": "2.7.6"
  }
 },
 "nbformat": 4,
 "nbformat_minor": 0
}
